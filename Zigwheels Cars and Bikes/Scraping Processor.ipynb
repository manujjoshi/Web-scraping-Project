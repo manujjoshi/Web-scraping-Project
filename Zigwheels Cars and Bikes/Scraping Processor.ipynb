{
 "cells": [
  {
   "cell_type": "markdown",
   "id": "1daaf0fb",
   "metadata": {},
   "source": [
    "# `ZIGWHEELS` Find your best car here"
   ]
  },
  {
   "cell_type": "code",
   "execution_count": 2,
   "id": "ed4eb73e",
   "metadata": {},
   "outputs": [],
   "source": [
    "import requests\n",
    "from bs4 import BeautifulSoup\n",
    "import pandas as pd\n",
    "import numpy as np\n",
    "import matplotlib.pyplot as plt\n",
    "import seaborn as sns\n",
    "import plotly.express as px\n",
    "import time"
   ]
  },
  {
   "cell_type": "code",
   "execution_count": 26,
   "id": "ed13406f",
   "metadata": {},
   "outputs": [],
   "source": [
    "car_list=['Maruti-Suzuki','Honda','Mahindra','Jeep','TaTa','Ford','Hyundai','Toyota','Kia','MG','Volkswagen','Renault',\n",
    "         'BMW','Mercedes-Benz','Datsun','Volvo','Lamborghini','Rolls-Royce','Audi','Skoda','Mitsubishi','Nissan','Jaguar','MINI',\n",
    "         'Tesla','Porsche','Ferrari','Maserati','ISUZU','DC','Bugatti','Aston-Martin','Land-Rover','Bentley','Force-Motors',\n",
    "         'Lexus','Haval','Citroen']"
   ]
  },
  {
   "cell_type": "markdown",
   "id": "049e4ac1",
   "metadata": {},
   "source": [
    "# ` Extracting Saperately` ( Just for Experiments )"
   ]
  },
  {
   "cell_type": "code",
   "execution_count": 47,
   "id": "40e4fd12",
   "metadata": {},
   "outputs": [
    {
     "name": "stdout",
     "output_type": "stream",
     "text": [
      "Scrapped Status = 200 and Scrapped Time = 0.5040261745452881\n",
      "Scrapped Status = 200 and Scrapped Time = 0.43921852111816406\n",
      "Scrapped Status = 200 and Scrapped Time = 0.3447384834289551\n",
      "Scrapped Status = 200 and Scrapped Time = 0.5622363090515137\n",
      "Scrapped Status = 200 and Scrapped Time = 0.421553373336792\n",
      "Scrapped Status = 200 and Scrapped Time = 0.3278987407684326\n",
      "Scrapped Status = 200 and Scrapped Time = 0.3453209400177002\n",
      "Scrapped Status = 200 and Scrapped Time = 0.5168769359588623\n",
      "Scrapped Status = 200 and Scrapped Time = 0.34635066986083984\n",
      "Scrapped Status = 200 and Scrapped Time = 0.5391011238098145\n",
      "Scrapped Status = 200 and Scrapped Time = 0.36626458168029785\n",
      "Scrapped Status = 200 and Scrapped Time = 0.36065149307250977\n",
      "Scrapped Status = 200 and Scrapped Time = 0.46835780143737793\n",
      "Scrapped Status = 200 and Scrapped Time = 0.3435099124908447\n",
      "Scrapped Status = 200 and Scrapped Time = 0.29791879653930664\n",
      "Scrapped Status = 200 and Scrapped Time = 0.3746345043182373\n",
      "Scrapped Status = 200 and Scrapped Time = 0.4214920997619629\n",
      "Scrapped Status = 200 and Scrapped Time = 0.3732490539550781\n",
      "Scrapped Status = 200 and Scrapped Time = 0.4571075439453125\n",
      "Scrapped Status = 200 and Scrapped Time = 0.504077672958374\n",
      "Scrapped Status = 200 and Scrapped Time = 0.34961533546447754\n",
      "Scrapped Status = 200 and Scrapped Time = 0.3540620803833008\n",
      "Scrapped Status = 200 and Scrapped Time = 0.3037378787994385\n",
      "Scrapped Status = 200 and Scrapped Time = 0.3338003158569336\n",
      "Scrapped Status = 200 and Scrapped Time = 0.2881486415863037\n",
      "Scrapped Status = 200 and Scrapped Time = 0.31395649909973145\n",
      "Scrapped Status = 200 and Scrapped Time = 0.4059004783630371\n",
      "Scrapped Status = 200 and Scrapped Time = 0.2810180187225342\n",
      "Scrapped Status = 200 and Scrapped Time = 0.2809758186340332\n",
      "Scrapped Status = 200 and Scrapped Time = 0.28168487548828125\n",
      "Scrapped Status = 200 and Scrapped Time = 0.33292651176452637\n",
      "Scrapped Status = 200 and Scrapped Time = 0.29680323600769043\n",
      "Scrapped Status = 200 and Scrapped Time = 0.47983336448669434\n",
      "Scrapped Status = 200 and Scrapped Time = 0.3937969207763672\n",
      "Scrapped Status = 200 and Scrapped Time = 0.4520540237426758\n",
      "Scrapped Status = 200 and Scrapped Time = 0.39057016372680664\n",
      "Scrapped Status = 200 and Scrapped Time = 0.38426637649536133\n",
      "Scrapped Status = 200 and Scrapped Time = 0.32789063453674316\n"
     ]
    }
   ],
   "source": [
    "cars=[]\n",
    "price=[]\n",
    "spec=[]\n",
    "rating=[]\n",
    "for i in car_list:\n",
    "    start_time=time.time()\n",
    "    url=f'https://www.zigwheels.com/newcars/{i}'\n",
    "    page=requests.get(url,headers = {'User-Agent':'Mozilla/5.0'})\n",
    "    content=page.text\n",
    "    soup=BeautifulSoup(content)\n",
    "    \n",
    "    for i in soup.find_all('span',attrs={'class':'lnk-hvr fnt-16 b block of-hid h-height'}):\n",
    "        if i is None:\n",
    "            cars.append(np.NaN)\n",
    "        else:\n",
    "            cars.append(i.text)\n",
    "    for i in soup.find_all('span',attrs={'class':'b fnt-15'}):\n",
    "        if i is None:\n",
    "            price.append(np.NaN)\n",
    "        else:\n",
    "            price.append(i.text)\n",
    "    for i in soup.find_all('div',attrs={'class':'clr-pry fnt-12 pb-10 h-height lh-18 of-hid'}):\n",
    "        if i is None:\n",
    "            spec.append(np.NaN)\n",
    "        else:\n",
    "            spec.append(i.text)\n",
    "    for i in soup.find_all('a',attrs={'class':'r-wn w'}):\n",
    "        if i is None:\n",
    "            rating.append(np.NaN)\n",
    "        else:\n",
    "            rating.append(i.text)\n",
    "            \n",
    "    end_time=time.time()      \n",
    "    print('Scrapped Status = {} and Scrapped Time = {}'.format(page.status_code,end_time-start_time))\n",
    "    time.sleep(1)"
   ]
  },
  {
   "cell_type": "code",
   "execution_count": 59,
   "id": "8d7fa164",
   "metadata": {},
   "outputs": [
    {
     "data": {
      "text/plain": [
       "['\\nMaruti Suzuki Swift\\t',\n",
       " '\\nMaruti Suzuki Vitara Brezza\\t',\n",
       " '\\nMaruti Suzuki Baleno\\t',\n",
       " '\\nMaruti Suzuki Dzire\\t',\n",
       " '\\nMaruti Suzuki Ertiga\\t',\n",
       " '\\nMaruti Suzuki Wagon R\\t',\n",
       " '\\nMaruti Suzuki Alto 800\\t',\n",
       " '\\nMaruti Suzuki Celerio\\t',\n",
       " '\\nMaruti Suzuki XL6\\t',\n",
       " '\\nMaruti Suzuki S-Cross\\t',\n",
       " '\\nMaruti Suzuki S-Presso\\t',\n",
       " '\\nMaruti Suzuki Ignis\\t',\n",
       " '\\nMaruti Suzuki Ciaz\\t',\n",
       " '\\nMaruti Suzuki Eeco\\t',\n",
       " '\\nMaruti Suzuki Celerio X\\t',\n",
       " '\\nMaruti Suzuki Swift Dzire Tour\\t',\n",
       " '\\nHonda City\\t',\n",
       " '\\nHonda Amaze\\t',\n",
       " '\\nHonda WR-V\\t',\n",
       " '\\nHonda Jazz\\t',\n",
       " '\\nHonda City 4th Generation\\t',\n",
       " '\\nMahindra Thar\\t',\n",
       " '\\nMahindra Scorpio\\t',\n",
       " '\\nMahindra Bolero\\t',\n",
       " '\\nMahindra XUV300\\t',\n",
       " '\\nMahindra XUV500\\t',\n",
       " '\\nMahindra Marazzo\\t',\n",
       " '\\nMahindra KUV100 NXT\\t',\n",
       " '\\nMahindra Alturas G4\\t',\n",
       " '\\nMahindra E Verito\\t',\n",
       " '\\nMahindra Bolero Pik-Up\\t',\n",
       " '\\nJeep Compass\\t',\n",
       " '\\nJeep Wrangler\\t',\n",
       " '\\nJeep Compass Trailhawk\\t',\n",
       " '\\nTata Nexon\\t',\n",
       " '\\nTata Harrier\\t',\n",
       " '\\nTata Altroz\\t',\n",
       " '\\nTata Tiago\\t',\n",
       " '\\nTata Tigor\\t',\n",
       " '\\nTata Yodha Pickup\\t',\n",
       " '\\nTata Tigor EV\\t',\n",
       " '\\nTata Safari\\t',\n",
       " '\\nTata Nexon EV\\t',\n",
       " '\\nFord EcoSport\\t',\n",
       " '\\nFord Endeavour\\t',\n",
       " '\\nFord Figo\\t',\n",
       " '\\nFord Freestyle\\t',\n",
       " '\\nFord Aspire\\t',\n",
       " '\\nHyundai Creta\\t',\n",
       " '\\nHyundai i20\\t',\n",
       " '\\nHyundai Venue\\t',\n",
       " '\\nHyundai Verna\\t',\n",
       " '\\nHyundai Aura\\t',\n",
       " '\\nHyundai Santro\\t',\n",
       " '\\nHyundai Elantra\\t',\n",
       " '\\nHyundai Tucson\\t',\n",
       " '\\nHyundai Kona Electric\\t',\n",
       " '\\nHyundai Xcent Prime\\t',\n",
       " '\\nHyundai Grand i10 Nios\\t',\n",
       " '\\nToyota Fortuner\\t',\n",
       " '\\nToyota Innova Crysta\\t',\n",
       " '\\nToyota Camry\\t',\n",
       " '\\nToyota Yaris\\t',\n",
       " '\\nToyota Vellfire\\t',\n",
       " '\\nToyota Glanza\\t',\n",
       " '\\nToyota Urban Cruiser\\t',\n",
       " '\\nKia Seltos\\t',\n",
       " '\\nKia Sonet\\t',\n",
       " '\\nKia Carnival\\t',\n",
       " '\\nVolkswagen Polo\\t',\n",
       " '\\nVolkswagen Vento\\t',\n",
       " '\\nVolkswagen T-Roc\\t',\n",
       " '\\nVolkswagen Tiguan Allspace\\t',\n",
       " '\\nRenault KWID\\t',\n",
       " '\\nRenault Kiger\\t',\n",
       " '\\nRenault Triber\\t',\n",
       " '\\nRenault Duster\\t',\n",
       " '\\nBMW X1\\t',\n",
       " '\\nBMW X5\\t',\n",
       " '\\nBMW 3 Series\\t',\n",
       " '\\nBMW X7\\t',\n",
       " '\\nBMW X6\\t',\n",
       " '\\nBMW 2 Series\\t',\n",
       " '\\nBMW 5 Series\\t',\n",
       " '\\nBMW Z4\\t',\n",
       " '\\nBMW X3\\t',\n",
       " '\\nBMW X4\\t',\n",
       " '\\nBMW 7 Series\\t',\n",
       " '\\nBMW 6 Series\\t',\n",
       " '\\nBMW 8 Series\\t',\n",
       " '\\nBMW M2\\t',\n",
       " '\\nBMW X3 M\\t',\n",
       " '\\nBMW X5 M\\t',\n",
       " '\\nBMW 3 Series Gran Limousine\\t',\n",
       " '\\nMercedes-Benz GLA\\t',\n",
       " '\\nMercedes-Benz GLS\\t',\n",
       " '\\nMercedes-Benz E-Class\\t',\n",
       " '\\nMercedes-Benz GLE\\t',\n",
       " '\\nMercedes-Benz V-Class\\t',\n",
       " '\\nMercedes-Benz GLC\\t',\n",
       " '\\nMercedes-Benz EQC\\t',\n",
       " '\\nMercedes-Benz AMG GLE 53\\t',\n",
       " '\\nMercedes-Benz CLS\\t',\n",
       " '\\nMercedes-Benz G-Class\\t',\n",
       " '\\nMercedes-Benz S-Class\\t',\n",
       " '\\nMercedes-Benz AMG GT\\t',\n",
       " '\\nMercedes-Benz E-Class All-Terrain\\t',\n",
       " '\\nMercedes-Benz A-Class Limousine\\t',\n",
       " '\\nMercedes-Benz C-Class\\t',\n",
       " '\\nMercedes-Benz AMG GT 4-Door Coupe\\t',\n",
       " '\\nMercedes-Benz GLC Coupe\\t',\n",
       " '\\nDatsun redi-GO\\t',\n",
       " '\\nDatsun GO\\t',\n",
       " '\\nDatsun GO Plus\\t',\n",
       " '\\nVolvo XC90\\t',\n",
       " '\\nVolvo XC40\\t',\n",
       " '\\nVolvo S60\\t',\n",
       " '\\nVolvo S90\\t',\n",
       " '\\nVolvo XC60\\t',\n",
       " '\\nVolvo V90 Cross Country\\t',\n",
       " '\\nLamborghini Urus\\t',\n",
       " '\\nLamborghini Aventador\\t',\n",
       " '\\nLamborghini Huracan EVO\\t',\n",
       " '\\nRolls Royce Phantom\\t',\n",
       " '\\nRolls Royce Ghost\\t',\n",
       " '\\nRolls Royce Wraith\\t',\n",
       " '\\nRolls Royce Cullinan\\t',\n",
       " '\\nRolls Royce Dawn\\t',\n",
       " '\\nAudi A6\\t',\n",
       " '\\nAudi A4\\t',\n",
       " '\\nAudi Q8\\t',\n",
       " '\\nAudi Q2\\t',\n",
       " '\\nAudi A8\\t',\n",
       " '\\nAudi RS7\\t',\n",
       " '\\nAudi GTI\\t',\n",
       " '\\nAudi RS Q8\\t',\n",
       " '\\nAudi S5 Sportback\\t',\n",
       " '\\nSkoda New Rapid\\t',\n",
       " '\\nSkoda Octavia\\t',\n",
       " '\\nSkoda New Superb\\t',\n",
       " '\\nNissan Magnite\\t',\n",
       " '\\nNissan Kicks\\t',\n",
       " '\\nNissan GT-R\\t',\n",
       " '\\nJaguar F-TYPE\\t',\n",
       " '\\nJaguar XE\\t',\n",
       " '\\nJaguar F-Pace\\t',\n",
       " '\\nJaguar I-Pace\\t',\n",
       " '\\nJaguar XF\\t',\n",
       " '\\nMINI Cooper Countryman\\t',\n",
       " '\\nMINI Cooper Convertible\\t',\n",
       " '\\nMINI Cooper 3 DOOR\\t',\n",
       " '\\nPorsche 911\\t',\n",
       " '\\nPorsche Macan\\t',\n",
       " '\\nPorsche Panamera\\t',\n",
       " '\\nPorsche 718\\t',\n",
       " '\\nPorsche Cayenne\\t',\n",
       " '\\nPorsche Cayenne Coupe\\t',\n",
       " '\\nFerrari Roma\\t',\n",
       " '\\nFerrari Portofino\\t',\n",
       " '\\nFerrari SF90 Stradale\\t',\n",
       " '\\nFerrari 812\\t',\n",
       " '\\nFerrari F8 Tributo\\t',\n",
       " '\\nMaserati Levante\\t',\n",
       " '\\nMaserati Ghibli\\t',\n",
       " '\\nMaserati Quattroporte\\t',\n",
       " '\\nMaserati GranTurismo\\t',\n",
       " '\\nMaserati GranCabrio\\t',\n",
       " '\\nISUZU MU-X\\t',\n",
       " '\\nISUZU D-Max\\t',\n",
       " '\\nAston Martin DBX\\t',\n",
       " '\\nAston Martin DB11\\t',\n",
       " '\\nAston Martin Vantage\\t',\n",
       " '\\nLand Rover Range Rover\\t',\n",
       " '\\nLand Rover Range Rover Evoque\\t',\n",
       " '\\nLand Rover Range Rover Velar\\t',\n",
       " '\\nLand Rover Defender\\t',\n",
       " '\\nLand Rover Discovery\\t',\n",
       " '\\nLand Rover Discovery Sport\\t',\n",
       " '\\nLand Rover Range Rover Sport\\t',\n",
       " '\\nBentley Bentayga\\t',\n",
       " '\\nBentley Continental\\t']"
      ]
     },
     "execution_count": 59,
     "metadata": {},
     "output_type": "execute_result"
    }
   ],
   "source": [
    "cars[:181]"
   ]
  },
  {
   "cell_type": "code",
   "execution_count": 49,
   "id": "b3eabc2e",
   "metadata": {},
   "outputs": [
    {
     "data": {
      "text/plain": [
       "189"
      ]
     },
     "execution_count": 49,
     "metadata": {},
     "output_type": "execute_result"
    }
   ],
   "source": [
    "len(cars)"
   ]
  },
  {
   "cell_type": "code",
   "execution_count": 50,
   "id": "f17fac4a",
   "metadata": {},
   "outputs": [
    {
     "data": {
      "text/plain": [
       "['Rs. 5.73 - 8.41 Lakh',\n",
       " 'Rs. 7.51 - 11.41 Lakh',\n",
       " 'Rs. 5.98 - 9.30 Lakh',\n",
       " 'Rs. 5.98 - 9.02 Lakh',\n",
       " 'Rs. 7.81 - 10.59 Lakh',\n",
       " 'Rs. 4.80 - 6.33 Lakh',\n",
       " 'Rs. 2.99 - 4.60 Lakh',\n",
       " 'Rs. 4.65 - 5.90 Lakh',\n",
       " 'Rs. 9.94 - 11.73 Lakh',\n",
       " 'Rs. 8.39 - 12.39 Lakh',\n",
       " 'Rs. 3.78 - 5.26 Lakh',\n",
       " 'Rs. 4.95 - 7.36 Lakh',\n",
       " 'Rs. 8.52 - 11.50 Lakh',\n",
       " 'Rs. 4.08 - 5.29 Lakh',\n",
       " 'Rs. 5.11 - 5.91 Lakh',\n",
       " 'Rs. 5.76 - 6.40 Lakh',\n",
       " 'Rs. 10.99 - 14.94 Lakh',\n",
       " 'Rs. 6.22 - 9.99 Lakh',\n",
       " 'Rs. 8.62 - 11.05 Lakh',\n",
       " 'Rs. 7.55 - 9.79 Lakh',\n",
       " 'Rs. 9.29 - 9.99 Lakh',\n",
       " 'Rs. 12.11 - 14.16 Lakh',\n",
       " 'Rs. 12.31 - 17.02 Lakh',\n",
       " 'Rs. 8.40 - 9.39 Lakh',\n",
       " 'Rs. 7.95 - 13.09 Lakh',\n",
       " 'Rs. 15.52 - 20.03 Lakh',\n",
       " 'Rs. 12.03 - 14.12 Lakh',\n",
       " 'Rs. 6.05 - 7.71 Lakh',\n",
       " 'Rs. 28.73 - 31.73 Lakh',\n",
       " 'Rs. 10.15 - 10.49 Lakh',\n",
       " 'Rs. 8.09 - 8.35 Lakh',\n",
       " 'Rs. 17.19 - 28.49 Lakh',\n",
       " 'Rs. 53.90 - 57.90 Lakh',\n",
       " 'Rs. 26.80 - 27.60 Lakh',\n",
       " 'Rs. 7.19 - 12.95 Lakh',\n",
       " 'Rs. 14.29 - 20.81 Lakh',\n",
       " 'Rs. 5.79 - 9.55 Lakh',\n",
       " 'Rs. 4.99 - 6.95 Lakh',\n",
       " 'Rs. 5.59 - 7.73 Lakh',\n",
       " 'Rs. 6.94 - 7.49 Lakh',\n",
       " 'Rs. 9.58 - 9.90 Lakh',\n",
       " 'Rs. 14.99 - 21.81 Lakh',\n",
       " 'Rs. 13.99 - 16.56 Lakh',\n",
       " 'Rs. 8.19 - 11.69 Lakh',\n",
       " 'Rs. 29.99 - 36.25 Lakh',\n",
       " 'Rs. 5.82 - 8.37 Lakh',\n",
       " 'Rs. 7.27 - 9.02 Lakh',\n",
       " 'Rs. 7.27 - 8.72 Lakh',\n",
       " 'Rs. 9.99 - 17.70 Lakh',\n",
       " 'Rs. 6.85 - 11.34 Lakh',\n",
       " 'Rs. 6.92 - 11.76 Lakh',\n",
       " 'Rs. 9.19 - 15.25 Lakh',\n",
       " 'Rs. 5.97 - 9.35 Lakh',\n",
       " 'Rs. 4.73 - 6.41 Lakh',\n",
       " 'Rs. 17.85 - 21.12 Lakh',\n",
       " 'Rs. 22.57 - 27.35 Lakh',\n",
       " 'Rs. 23.77 - 23.96 Lakh',\n",
       " 'Rs. 6.39 - 7.19 Lakh',\n",
       " 'Rs. 5.23 - 8.45 Lakh',\n",
       " 'Rs. 30.34 - 38.30 Lakh',\n",
       " 'Rs. 16.52 - 24.59 Lakh',\n",
       " 'Rs. 40.59 Lakh',\n",
       " 'Rs. 9.16 - 14.60 Lakh',\n",
       " 'Rs. 89.90 Lakh',\n",
       " 'Rs. 7.34 - 9.30 Lakh',\n",
       " 'Rs. 8.62 - 11.40 Lakh',\n",
       " 'Rs. 9.95 - 17.65 Lakh',\n",
       " 'Rs. 6.79 - 13.35 Lakh',\n",
       " 'Rs. 24.95 - 33.95 Lakh',\n",
       " 'Rs. 6.16 - 9.99 Lakh',\n",
       " 'Rs. 9.99 - 13.83 Lakh',\n",
       " 'Rs. 21.35 Lakh',\n",
       " 'Rs. 34.20 Lakh',\n",
       " 'Rs. 3.32 - 5.48 Lakh',\n",
       " 'Rs. 5.64 - 10.08 Lakh',\n",
       " 'Rs. 5.50 - 7.95 Lakh',\n",
       " 'Rs. 9.86 - 14.25 Lakh',\n",
       " 'Rs. 38.50 - 42.90 Lakh',\n",
       " 'Rs. 76.50 - 88.00 Lakh',\n",
       " 'Rs. 43.60 - 62.90 Lakh',\n",
       " 'Rs. 95.90 Lakh - 1.65 Crore',\n",
       " 'Rs. 96.90 Lakh',\n",
       " 'Rs. 37.90 - 42.30 Lakh',\n",
       " 'Rs. 56.00 - 69.10 Lakh',\n",
       " 'Rs. 67.00 - 81.90 Lakh',\n",
       " 'Rs. 57.50 - 63.70 Lakh',\n",
       " 'Rs. 62.40 - 69.60 Lakh',\n",
       " 'Rs. 1.37 - 2.46 Crore',\n",
       " 'Rs. 67.90 - 77.90 Lakh',\n",
       " 'Rs. 1.32 - 2.18 Crore',\n",
       " 'Rs. 85.00 Lakh',\n",
       " 'Rs. 99.90 Lakh',\n",
       " 'Rs. 1.94 Crore',\n",
       " 'Rs. 51.50 - 53.90 Lakh',\n",
       " 'Rs. 43.60 - 58.78 Lakh',\n",
       " 'Rs. 1.04 - 2.43 Crore',\n",
       " 'Rs. 63.60 - 80.90 Lakh',\n",
       " 'Rs. 77.24 Lakh - 1.25 Crore',\n",
       " 'Rs. 71.10 Lakh - 1.46 Crore',\n",
       " 'Rs. 57.36 - 63.13 Lakh',\n",
       " 'Rs. 1.04 Crore',\n",
       " 'Rs. 1.27 Crore',\n",
       " 'Rs. 86.39 Lakh',\n",
       " 'Rs. 1.62 - 2.42 Crore',\n",
       " 'Rs. 1.41 - 2.78 Crore',\n",
       " 'Rs. 2.27 - 2.63 Crore',\n",
       " 'Price To Be Announced',\n",
       " 'Rs. 39.90 - 56.24 Lakh',\n",
       " 'Rs. 41.31 Lakh - 1.39 Crore',\n",
       " 'Rs. 2.57 Crore',\n",
       " 'Rs. 66.65 - 81.53 Lakh',\n",
       " 'Rs. 3.83 - 4.95 Lakh',\n",
       " 'Rs. 4.02 - 6.51 Lakh',\n",
       " 'Rs. 4.25 - 6.99 Lakh',\n",
       " 'Rs. 80.90 Lakh - 1.31 Crore',\n",
       " 'Rs. 41.25 Lakh',\n",
       " 'Rs. 45.90 Lakh',\n",
       " 'Rs. 60.90 Lakh',\n",
       " 'Rs. 60.90 Lakh',\n",
       " 'Price To Be Announced',\n",
       " 'Rs. 3.15 - 3.43 Crore',\n",
       " 'Rs. 5.01 - 6.25 Crore',\n",
       " 'Rs. 3.21 - 4.00 Crore',\n",
       " 'Rs. 8.99 - 10.48 Crore',\n",
       " 'Rs. 6.95 - 7.95 Crore',\n",
       " 'Rs. 6.22 - 7.21 Crore',\n",
       " 'Rs. 6.95 Crore',\n",
       " 'Rs. 7.30 - 7.85 Crore',\n",
       " 'Rs. 57.08 - 61.81 Lakh',\n",
       " 'Rs. 43.19 - 47.61 Lakh',\n",
       " 'Rs. 98.98 Lakh - 1.34 Crore',\n",
       " 'Rs. 34.99 - 48.89 Lakh',\n",
       " 'Rs. 1.57 Crore',\n",
       " 'Rs. 1.94 Crore',\n",
       " 'Price To Be Announced',\n",
       " 'Rs. 2.07 Crore',\n",
       " 'Rs. 80.49 Lakh',\n",
       " 'Rs. 7.79 - 13.29 Lakh',\n",
       " 'Rs. 25.99 - 28.99 Lakh',\n",
       " 'Rs. 31.99 - 34.99 Lakh',\n",
       " 'Rs. 5.59 - 10.00 Lakh',\n",
       " 'Rs. 9.49 - 14.64 Lakh',\n",
       " 'Rs. 2.12 Crore',\n",
       " 'Rs. 97.97 Lakh - 2.61 Crore',\n",
       " 'Rs. 46.64 - 48.50 Lakh',\n",
       " 'Rs. 69.99 Lakh',\n",
       " 'Rs. 1.05 - 1.12 Crore',\n",
       " 'Rs. 55.67 Lakh',\n",
       " 'Rs. 39.50 - 43.40 Lakh',\n",
       " 'Rs. 40.10 Lakh',\n",
       " 'Rs. 35.10 Lakh',\n",
       " 'Rs. 1.63 - 3.07 Crore',\n",
       " 'Rs. 69.98 - 83.95 Lakh',\n",
       " 'Rs. 1.44 - 2.42 Crore',\n",
       " 'Rs. 85.46 Lakh - 1.63 Crore',\n",
       " 'Rs. 1.20 - 1.92 Crore',\n",
       " 'Rs. 1.31 - 1.98 Crore',\n",
       " 'Rs. 3.61 Crore',\n",
       " 'Rs. 3.50 Crore',\n",
       " 'Rs. 7.50 Crore',\n",
       " 'Rs. 5.75 Crore',\n",
       " 'Rs. 4.02 Crore',\n",
       " 'Rs. 1.49 - 1.64 Crore',\n",
       " 'Rs. 1.15 - 1.93 Crore',\n",
       " 'Rs. 1.71 - 2.11 Crore',\n",
       " 'Rs. 2.25 - 2.51 Crore',\n",
       " 'Rs. 2.46 - 2.69 Crore',\n",
       " 'Rs. 33.23 - 35.19 Lakh',\n",
       " 'Rs. 16.98 - 24.49 Lakh',\n",
       " 'Rs. 3.82 Crore',\n",
       " 'Rs. 3.80 - 4.20 Crore',\n",
       " 'Rs. 3.00 - 3.50 Crore',\n",
       " 'Rs. 2.10 - 4.38 Crore',\n",
       " 'Rs. 59.04 - 63.05 Lakh',\n",
       " 'Rs. 75.28 Lakh',\n",
       " 'Rs. 76.57 Lakh - 1.11 Crore',\n",
       " 'Rs. 75.59 - 87.99 Lakh',\n",
       " 'Rs. 65.30 - 67.95 Lakh',\n",
       " 'Rs. 91.27 Lakh - 1.84 Crore',\n",
       " 'Rs. 4.10 Crore',\n",
       " 'Rs. 3.29 - 3.91 Crore',\n",
       " 'Rs. 3.21 - 3.41 Crore',\n",
       " 'Rs. 1.91 - 2.22 Crore',\n",
       " 'Rs. 56.55 - 61.75 Lakh',\n",
       " 'Rs. 1.03 Crore',\n",
       " 'Rs. 2.32 Crore',\n",
       " 'Rs. 58.20 - 63.63 Lakh',\n",
       " 'Rs. 2.09 - 2.15 Crore',\n",
       " 'Rs. 29.90 - 31.90 Lakh']"
      ]
     },
     "execution_count": 50,
     "metadata": {},
     "output_type": "execute_result"
    }
   ],
   "source": [
    "price"
   ]
  },
  {
   "cell_type": "code",
   "execution_count": 51,
   "id": "5215952e",
   "metadata": {},
   "outputs": [
    {
     "data": {
      "text/plain": [
       "['1197 cc | 23 kmpl | Petrol',\n",
       " '1462 cc | 19 kmpl | Petrol',\n",
       " '1197 cc | 24 kmpl | Petrol',\n",
       " '1197 cc | 24 kmpl | Petrol',\n",
       " '1462 cc | 19 kmpl | Petrol | CNG',\n",
       " '998 cc | 22 kmpl | Petrol | CNG',\n",
       " '796 cc | 22 kmpl | Petrol | CNG',\n",
       " '998 cc | 22 kmpl | Petrol | CNG',\n",
       " '1462 cc | 19 kmpl | Petrol',\n",
       " '1462 cc | 18 kmpl | Petrol',\n",
       " '998 cc | 22 kmpl | Petrol | CNG',\n",
       " '1197 cc | 21 kmpl | Petrol',\n",
       " '1462 cc | 21 kmpl | Petrol',\n",
       " '1196 cc | 16 kmpl | Petrol | CNG',\n",
       " '998 cc | 22 kmpl | Petrol',\n",
       " '1197 cc | 20 kmpl | Petrol | CNG',\n",
       " '1498 cc | 24 kmpl | Petrol | Diesel',\n",
       " '1199 cc | 25 kmpl | Petrol | Diesel',\n",
       " '1199 cc | 24 kmpl | Petrol | Diesel',\n",
       " '1199 cc | 17 kmpl | Petrol',\n",
       " '1497 cc | 17 kmpl | Petrol',\n",
       " '1997 cc | 15 kmpl | Petrol | Diesel',\n",
       " '2179 cc | Diesel',\n",
       " '1498 cc | 16 kmpl | Diesel',\n",
       " '1197 cc | 20 kmpl | Petrol | Diesel',\n",
       " '2179 cc | 15 kmpl | Diesel',\n",
       " '1497 cc | 17 kmpl | Diesel',\n",
       " '1198 cc | 18 kmpl | Petrol',\n",
       " '2157 cc | 12 kmpl | Diesel',\n",
       " '41.5bhp@4000rpm | Electric',\n",
       " '2523 cc | Diesel',\n",
       " '1368 cc | Petrol | Diesel',\n",
       " '1998 cc | 12 kmpl | Petrol',\n",
       " '1956 cc | 16 kmpl | Diesel',\n",
       " '1199 cc | 22 kmpl | Petrol | Diesel',\n",
       " '1956 cc | 17 kmpl | Diesel',\n",
       " '1199 cc | 25 kmpl | Petrol | Diesel',\n",
       " '1199 cc | 24 kmpl | Petrol',\n",
       " '1199 cc | 20 kmpl | Petrol',\n",
       " '2956 cc | Diesel',\n",
       " 'Electric',\n",
       " '1956 cc | Diesel',\n",
       " '130.7bhp | Electric',\n",
       " '1496 cc | 22 kmpl | Petrol | Diesel',\n",
       " '1996 cc | 14 kmpl | Diesel',\n",
       " '1499 cc | 24 kmpl | Petrol | Diesel',\n",
       " '1194 cc | 24 kmpl | Petrol | Diesel',\n",
       " '1194 cc | 24 kmpl | Petrol | Diesel',\n",
       " '1497 cc | 21 kmpl | Petrol | Diesel',\n",
       " '1197 cc | 25 kmpl | Petrol | Diesel',\n",
       " '998 cc | 24 kmpl | Petrol | Diesel',\n",
       " '1497 cc | 25 kmpl | Petrol | Diesel',\n",
       " '1197 cc | 25 kmpl | Petrol | Diesel | CNG',\n",
       " '1086 cc | 20 kmpl | Petrol | CNG',\n",
       " '1493 cc | 15 kmpl | Petrol | Diesel',\n",
       " '1999 cc | 15 kmpl | Petrol | Diesel',\n",
       " 'Electric',\n",
       " '1197 cc | 15 kmpl | Petrol | CNG',\n",
       " '1186 cc | 26 kmpl | Petrol | Diesel | CNG',\n",
       " '2694 cc | Petrol | Diesel',\n",
       " '2694 cc | Petrol | Diesel',\n",
       " '2487 cc | 19 kmpl | Petrol',\n",
       " '1496 cc | 18 kmpl | Petrol',\n",
       " '2494 cc | 16 kmpl | Petrol',\n",
       " '1197 cc | 24 kmpl | Petrol',\n",
       " '1462 cc | 19 kmpl | Petrol',\n",
       " '1497 cc | 21 kmpl | Petrol | Diesel',\n",
       " '1197 cc | 24 kmpl | Petrol | Diesel',\n",
       " '2199 cc | 14 kmpl | Diesel',\n",
       " '999 cc | 18 kmpl | Petrol',\n",
       " '999 cc | 18 kmpl | Petrol',\n",
       " '1498 cc | 18 kmpl | Petrol',\n",
       " '1984 cc | 17 kmpl | Petrol',\n",
       " '799 cc | 22 kmpl | Petrol',\n",
       " '999 cc | Petrol',\n",
       " '999 cc | 20 kmpl | Petrol',\n",
       " '1498 cc | 16 kmpl | Petrol',\n",
       " '1998 cc | 20 kmpl | Petrol | Diesel',\n",
       " '2993 cc | 13 kmpl | Petrol | Diesel',\n",
       " '1998 cc | 20 kmpl | Petrol | Diesel',\n",
       " '2993 cc | 13 kmpl | Petrol | Diesel',\n",
       " '2998 cc | 10 kmpl | Petrol',\n",
       " '1998 cc | 19 kmpl | Petrol | Diesel',\n",
       " '1998 cc | 20 kmpl | Petrol | Diesel',\n",
       " '2998 cc | 14 kmpl | Petrol',\n",
       " '1998 cc | 17 kmpl | Petrol | Diesel',\n",
       " '1995 cc | 17 kmpl | Petrol | Diesel',\n",
       " '2993 cc | 40 kmpl | Petrol | Diesel',\n",
       " '1998 cc | 19 kmpl | Petrol | Diesel',\n",
       " '2998 cc | 11 kmpl | Petrol',\n",
       " '2979 cc | 11 kmpl | Petrol',\n",
       " '2993 cc | 9 kmpl | Petrol',\n",
       " '4395 cc | 8 kmpl | Petrol',\n",
       " '1998 cc | 20 kmpl | Petrol | Diesel',\n",
       " '1950 cc | Petrol | Diesel',\n",
       " '2925 cc | Petrol | Diesel',\n",
       " '2925 cc | 16 kmpl | Petrol | Diesel',\n",
       " '1950 cc | 10 kmpl | Petrol | Diesel',\n",
       " '2143 cc | 16 kmpl | Diesel',\n",
       " '1991 cc | 13 kmpl | Petrol | Diesel',\n",
       " '20.8-19.7kWh/100km | Electric',\n",
       " '2999 cc | Petrol',\n",
       " '1950 cc | 19 kmpl | Diesel',\n",
       " '2925 cc | 8 kmpl | Petrol | Diesel',\n",
       " '2996 cc | 14 kmpl | Petrol | Diesel',\n",
       " '3982 cc | 13 kmpl | Petrol',\n",
       " '',\n",
       " '1998 cc | Petrol | Diesel',\n",
       " '3982 cc | 13 kmpl | Petrol | Diesel',\n",
       " '3998 cc | Petrol',\n",
       " '1991 cc | 16 kmpl | Petrol | Diesel',\n",
       " '799 cc | 22 kmpl | Petrol',\n",
       " '1198 cc | 20 kmpl | Petrol',\n",
       " '1198 cc | 19 kmpl | Petrol',\n",
       " '1969 cc | 46 kmpl | Petrol | Diesel',\n",
       " '1969 cc | Petrol',\n",
       " '1969 cc | Petrol',\n",
       " '1969 cc | 18 kmpl | Diesel',\n",
       " '1969 cc | 11 kmpl | Diesel',\n",
       " '',\n",
       " '3996 cc | 8 kmpl | Petrol',\n",
       " '6498 cc | 8 kmpl | Petrol',\n",
       " '5204 cc | 7 kmpl | Petrol',\n",
       " '6749 cc | 10 kmpl | Petrol',\n",
       " '6750 cc | Petrol',\n",
       " '6592 cc | 10 kmpl | Petrol',\n",
       " '6750 cc | 10 kmpl | Petrol',\n",
       " '6598 cc | 10 kmpl | Petrol',\n",
       " '1984 cc | 14 kmpl | Petrol',\n",
       " '1998 cc | 17 kmpl | Petrol',\n",
       " '2995 cc | 10 kmpl | Petrol',\n",
       " '1984 cc | Petrol',\n",
       " '2995 cc | 12 kmpl | Petrol',\n",
       " '3996 cc | 9 kmpl | Petrol',\n",
       " '',\n",
       " '3998 cc | Petrol',\n",
       " '2994 cc | Petrol',\n",
       " '999 cc | 19 kmpl | Petrol',\n",
       " '1984 cc | 16 kmpl | Petrol',\n",
       " '1984 cc | 15 kmpl | Petrol',\n",
       " '999 cc | 20 kmpl | Petrol',\n",
       " '1498 cc | 14 kmpl | Petrol',\n",
       " '3798 cc | 9 kmpl | Petrol',\n",
       " '1997 cc | Petrol',\n",
       " '1997 cc | Petrol',\n",
       " '1997 cc | Petrol | Diesel',\n",
       " '90 kWh | Electric',\n",
       " '1997 cc | 11 kmpl | Petrol',\n",
       " '1998 cc | 14 kmpl | Petrol',\n",
       " '1998 cc | 17 kmpl | Petrol',\n",
       " '1998 cc | 17 kmpl | Petrol',\n",
       " '2981 cc | 9 kmpl | Petrol',\n",
       " '1984 cc | Petrol',\n",
       " '3996 cc | 11 kmpl | Petrol',\n",
       " '3995 cc | 9 kmpl | Petrol',\n",
       " '2995 cc | Petrol',\n",
       " '2995 cc | Petrol',\n",
       " '3855 cc | Petrol',\n",
       " '3855 cc | 9 kmpl | Petrol',\n",
       " '3990 cc | Petrol',\n",
       " '6496 cc | Petrol',\n",
       " '3902 cc | Petrol',\n",
       " '2979 cc | 12 kmpl | Petrol | Diesel',\n",
       " '3799 cc | Petrol',\n",
       " '2979 cc | 12 kmpl | Petrol | Diesel',\n",
       " '4691 cc | 10 kmpl | Petrol | Diesel',\n",
       " '4691 cc | 10 kmpl | Petrol | Diesel',\n",
       " '1898 cc | Diesel',\n",
       " '1898 cc | Diesel',\n",
       " '3982 cc | Diesel',\n",
       " '3998 cc | Petrol',\n",
       " '3998 cc | Petrol',\n",
       " '2993 cc | 13 kmpl | Petrol | Diesel',\n",
       " '1997 cc | Petrol | Diesel',\n",
       " '1997 cc | 16 kmpl | Petrol',\n",
       " '1997 cc | 14 kmpl | Petrol | Diesel',\n",
       " '1999 cc | 18 kmpl | Petrol',\n",
       " '1999 cc | Petrol | Diesel',\n",
       " '1997 cc | 13 kmpl | Petrol | Diesel',\n",
       " '3956 cc | Petrol',\n",
       " '13 kmpl | Petrol | ',\n",
       " '5950 cc | 13 kmpl | Petrol',\n",
       " '3456 cc | 15 kmpl | Petrol',\n",
       " '2487 cc | 22 kmpl | Petrol',\n",
       " '3456 cc | 19 kmpl | Petrol',\n",
       " '5663 cc | 7 kmpl | Petrol',\n",
       " '2499 cc | 18 kmpl | Petrol',\n",
       " '3456 cc | Petrol',\n",
       " '1997 cc | 19 kmpl | Diesel']"
      ]
     },
     "execution_count": 51,
     "metadata": {},
     "output_type": "execute_result"
    }
   ],
   "source": [
    "spec"
   ]
  },
  {
   "cell_type": "code",
   "execution_count": 52,
   "id": "89c79ab7",
   "metadata": {},
   "outputs": [
    {
     "data": {
      "text/plain": [
       "189"
      ]
     },
     "execution_count": 52,
     "metadata": {},
     "output_type": "execute_result"
    }
   ],
   "source": [
    "len(spec)"
   ]
  },
  {
   "cell_type": "code",
   "execution_count": 53,
   "id": "e20f3c94",
   "metadata": {},
   "outputs": [
    {
     "data": {
      "text/plain": [
       "['\\n4\\n|\\xa0\\xa0177\\n',\n",
       " '\\n4\\n|\\xa0\\xa0278\\n',\n",
       " '\\n4.1\\n|\\xa0\\xa02100\\n',\n",
       " '\\n4\\n|\\xa0\\xa0771\\n',\n",
       " '\\n4\\n|\\xa0\\xa01709\\n',\n",
       " '\\n3.9\\n|\\xa0\\xa03780\\n',\n",
       " '\\n3.7\\n|\\xa0\\xa03400\\n',\n",
       " '\\n3.9\\n|\\xa0\\xa0975\\n',\n",
       " '\\n4.3\\n|\\xa0\\xa0185\\n',\n",
       " '\\n4.2\\n|\\xa0\\xa092\\n',\n",
       " '\\n4\\n|\\xa0\\xa0307\\n',\n",
       " '\\n4.2\\n|\\xa0\\xa0499\\n',\n",
       " '\\n4.3\\n|\\xa0\\xa0967\\n',\n",
       " '\\n3.7\\n|\\xa0\\xa0743\\n',\n",
       " '\\n3.9\\n|\\xa0\\xa0166\\n',\n",
       " '\\n4\\n|\\xa0\\xa069\\n',\n",
       " '\\n4.3\\n|\\xa0\\xa0570\\n',\n",
       " '\\n4.1\\n|\\xa0\\xa01320\\n',\n",
       " '\\n4.3\\n|\\xa0\\xa0131\\n',\n",
       " '\\n4.2\\n|\\xa0\\xa0112\\n',\n",
       " '\\n4.3\\n|\\xa0\\xa01761\\n',\n",
       " '\\n4.3\\n|\\xa0\\xa0117\\n',\n",
       " '\\n4\\n|\\xa0\\xa01677\\n',\n",
       " '\\n3.9\\n|\\xa0\\xa0262\\n',\n",
       " '\\n4.3\\n|\\xa0\\xa0434\\n',\n",
       " '\\n4.3\\n|\\xa0\\xa01205\\n',\n",
       " '\\n4.3\\n|\\xa0\\xa0179\\n',\n",
       " '\\n3.9\\n|\\xa0\\xa0305\\n',\n",
       " '\\n4.2\\n|\\xa0\\xa073\\n',\n",
       " '\\n3.4\\n|\\xa0\\xa017\\n',\n",
       " '\\n3.7\\n|\\xa0\\xa0138\\n',\n",
       " '\\n4.3\\n|\\xa0\\xa023\\n',\n",
       " '\\n4.3\\n|\\xa0\\xa021\\n',\n",
       " '\\n4.6\\n|\\xa0\\xa019\\n',\n",
       " '\\n4.5\\n|\\xa0\\xa0559\\n',\n",
       " '\\n4.5\\n|\\xa0\\xa0332\\n',\n",
       " '\\n4.5\\n|\\xa0\\xa0361\\n',\n",
       " '\\n4.3\\n|\\xa0\\xa0590\\n',\n",
       " '\\n4.3\\n|\\xa0\\xa0160\\n',\n",
       " '\\n3.9\\n|\\xa0\\xa027\\n',\n",
       " '\\n4.3\\n|\\xa0\\xa012\\n',\n",
       " '\\n4.6\\n|\\xa0\\xa035\\n',\n",
       " '\\n4.2\\n|\\xa0\\xa051\\n',\n",
       " '\\n4.3\\n|\\xa0\\xa0146\\n',\n",
       " '\\n4.4\\n|\\xa0\\xa090\\n',\n",
       " '\\n4.1\\n|\\xa0\\xa0952\\n',\n",
       " '\\n4.4\\n|\\xa0\\xa0313\\n',\n",
       " '\\n4.3\\n|\\xa0\\xa0466\\n',\n",
       " '\\n4.3\\n|\\xa0\\xa0635\\n',\n",
       " '\\n4.2\\n|\\xa0\\xa0486\\n',\n",
       " '\\n4.2\\n|\\xa0\\xa0661\\n',\n",
       " '\\n4.3\\n|\\xa0\\xa0551\\n',\n",
       " '\\n4.3\\n|\\xa0\\xa0133\\n',\n",
       " '\\n3.9\\n|\\xa0\\xa01176\\n',\n",
       " '\\n4.2\\n|\\xa0\\xa089\\n',\n",
       " '\\n4.3\\n|\\xa0\\xa011\\n',\n",
       " '\\n4.3\\n|\\xa0\\xa027\\n',\n",
       " '\\n4.2\\n|\\xa0\\xa06\\n',\n",
       " '\\n4.2\\n|\\xa0\\xa0288\\n',\n",
       " '\\n4.3\\n|\\xa0\\xa087\\n',\n",
       " '\\n4.4\\n|\\xa0\\xa0117\\n',\n",
       " '\\n4.6\\n|\\xa0\\xa047\\n',\n",
       " '\\n4.1\\n|\\xa0\\xa098\\n',\n",
       " '\\n4.7\\n|\\xa0\\xa013\\n',\n",
       " '\\n4.2\\n|\\xa0\\xa0139\\n',\n",
       " '\\n4.2\\n|\\xa0\\xa030\\n',\n",
       " '\\n4.4\\n|\\xa0\\xa0755\\n',\n",
       " '\\n4.3\\n|\\xa0\\xa0241\\n',\n",
       " '\\n4.5\\n|\\xa0\\xa0101\\n',\n",
       " '\\n4.2\\n|\\xa0\\xa0604\\n',\n",
       " '\\n4.3\\n|\\xa0\\xa0313\\n',\n",
       " '\\n4.6\\n|\\xa0\\xa013\\n',\n",
       " '\\n4.4\\n|\\xa0\\xa010\\n',\n",
       " '\\n3.8\\n|\\xa0\\xa0716\\n',\n",
       " '\\n4.2\\n|\\xa0\\xa033\\n',\n",
       " '\\n4.1\\n|\\xa0\\xa0351\\n',\n",
       " '\\n4\\n|\\xa0\\xa0334\\n',\n",
       " '\\n4.2\\n|\\xa0\\xa047\\n',\n",
       " '\\n4.2\\n|\\xa0\\xa032\\n',\n",
       " '\\n4.4\\n|\\xa0\\xa074\\n',\n",
       " '\\n4.4\\n|\\xa0\\xa031\\n',\n",
       " '\\n4.6\\n|\\xa0\\xa09\\n',\n",
       " '\\n4.4\\n|\\xa0\\xa04\\n',\n",
       " '\\n4.3\\n|\\xa0\\xa0123\\n',\n",
       " '\\n4.3\\n|\\xa0\\xa039\\n',\n",
       " '\\n4.1\\n|\\xa0\\xa025\\n',\n",
       " '\\n4.1\\n|\\xa0\\xa011\\n',\n",
       " '\\n4.6\\n|\\xa0\\xa050\\n',\n",
       " '\\n4.6\\n|\\xa0\\xa032\\n',\n",
       " '\\n4.5\\n|\\xa0\\xa020\\n',\n",
       " '\\n4.5\\n|\\xa0\\xa014\\n',\n",
       " '\\n4.7\\n|\\xa0\\xa02\\n',\n",
       " '\\n4.5\\n|\\xa0\\xa02\\n',\n",
       " '\\n4.7\\n|\\xa0\\xa03\\n',\n",
       " '\\n5\\n|\\xa0\\xa01\\n',\n",
       " '\\n4.4\\n|\\xa0\\xa011\\n',\n",
       " '\\n4.4\\n|\\xa0\\xa07\\n',\n",
       " '\\n4.4\\n|\\xa0\\xa011\\n',\n",
       " '\\n4.7\\n|\\xa0\\xa09\\n',\n",
       " '\\n4.6\\n|\\xa0\\xa018\\n',\n",
       " '\\n5\\n|\\xa0\\xa02\\n',\n",
       " '\\n4.2\\n|\\xa0\\xa04\\n',\n",
       " '\\n4.5\\n|\\xa0\\xa02\\n',\n",
       " '\\n4.5\\n|\\xa0\\xa047\\n',\n",
       " '\\n4.4\\n|\\xa0\\xa074\\n',\n",
       " '\\n4.5\\n|\\xa0\\xa025\\n',\n",
       " '\\n4.3\\n|\\xa0\\xa01\\n',\n",
       " '\\n4.4\\n|\\xa0\\xa0109\\n',\n",
       " '\\n4.3\\n|\\xa0\\xa010\\n',\n",
       " '\\n3.9\\n|\\xa0\\xa087\\n',\n",
       " '\\n3.5\\n|\\xa0\\xa0191\\n',\n",
       " '\\n3.8\\n|\\xa0\\xa0232\\n',\n",
       " '\\n4.4\\n|\\xa0\\xa029\\n',\n",
       " '\\n4.5\\n|\\xa0\\xa017\\n',\n",
       " '\\n4.7\\n|\\xa0\\xa04\\n',\n",
       " '\\n4.4\\n|\\xa0\\xa012\\n',\n",
       " '\\n4.3\\n|\\xa0\\xa023\\n',\n",
       " '\\n4.3\\n|\\xa0\\xa048\\n',\n",
       " '\\n4.2\\n|\\xa0\\xa090\\n',\n",
       " '\\n4.3\\n|\\xa0\\xa043\\n',\n",
       " '\\n4.5\\n|\\xa0\\xa0107\\n',\n",
       " '\\n4.5\\n|\\xa0\\xa013\\n',\n",
       " '\\n4.7\\n|\\xa0\\xa022\\n',\n",
       " '\\n4.6\\n|\\xa0\\xa032\\n',\n",
       " '\\n4.7\\n|\\xa0\\xa019\\n',\n",
       " '\\n4.2\\n|\\xa0\\xa041\\n',\n",
       " '\\n4.6\\n|\\xa0\\xa06\\n',\n",
       " '\\n4\\n|\\xa0\\xa04\\n',\n",
       " '\\n3.9\\n|\\xa0\\xa02\\n',\n",
       " '\\n4.6\\n|\\xa0\\xa018\\n',\n",
       " '\\n4.8\\n|\\xa0\\xa08\\n',\n",
       " '\\n5\\n|\\xa0\\xa01\\n',\n",
       " '\\n4.3\\n|\\xa0\\xa0514\\n',\n",
       " '\\n4.9\\n|\\xa0\\xa03\\n',\n",
       " '\\n4.4\\n|\\xa0\\xa011\\n',\n",
       " '\\n4.2\\n|\\xa0\\xa068\\n',\n",
       " '\\n4.4\\n|\\xa0\\xa063\\n',\n",
       " '\\n4.5\\n|\\xa0\\xa018\\n',\n",
       " '\\n4.1\\n|\\xa0\\xa07\\n',\n",
       " '\\n4.3\\n|\\xa0\\xa012\\n',\n",
       " '\\n4\\n|\\xa0\\xa01\\n',\n",
       " '\\n4.7\\n|\\xa0\\xa01\\n',\n",
       " '\\n4.3\\n|\\xa0\\xa031\\n',\n",
       " '\\n1\\n|\\xa0\\xa01\\n',\n",
       " '\\n4.3\\n|\\xa0\\xa016\\n',\n",
       " '\\n4.5\\n|\\xa0\\xa013\\n',\n",
       " '\\n4.1\\n|\\xa0\\xa018\\n',\n",
       " '\\n4.5\\n|\\xa0\\xa04\\n',\n",
       " '\\n5\\n|\\xa0\\xa01\\n',\n",
       " '\\n4.3\\n|\\xa0\\xa06\\n',\n",
       " '\\n4.5\\n|\\xa0\\xa014\\n',\n",
       " '\\n4.6\\n|\\xa0\\xa06\\n',\n",
       " '\\n4.5\\n|\\xa0\\xa02\\n',\n",
       " '\\n4.1\\n|\\xa0\\xa09\\n',\n",
       " '\\n4.7\\n|\\xa0\\xa010\\n',\n",
       " '\\n4.2\\n|\\xa0\\xa02\\n',\n",
       " '\\n5\\n|\\xa0\\xa01\\n',\n",
       " '\\n4.5\\n|\\xa0\\xa012\\n',\n",
       " '\\n4.6\\n|\\xa0\\xa05\\n',\n",
       " '\\n4.5\\n|\\xa0\\xa04\\n',\n",
       " '\\n3.9\\n|\\xa0\\xa05\\n',\n",
       " '\\n4.7\\n|\\xa0\\xa02\\n',\n",
       " '\\n3\\n|\\xa0\\xa01\\n',\n",
       " '\\n3\\n|\\xa0\\xa02\\n',\n",
       " '\\n4.4\\n|\\xa0\\xa037\\n',\n",
       " '\\n4.4\\n|\\xa0\\xa021\\n',\n",
       " '\\n4.6\\n|\\xa0\\xa052\\n',\n",
       " '\\n4.6\\n|\\xa0\\xa016\\n',\n",
       " '\\n4.3\\n|\\xa0\\xa013\\n',\n",
       " '\\n4.2\\n|\\xa0\\xa08\\n',\n",
       " '\\n4.6\\n|\\xa0\\xa033\\n',\n",
       " '\\n5\\n|\\xa0\\xa01\\n',\n",
       " '\\n4.3\\n|\\xa0\\xa012\\n',\n",
       " '\\n4.8\\n|\\xa0\\xa04\\n',\n",
       " '\\n4.3\\n|\\xa0\\xa017\\n',\n",
       " '\\n4.6\\n|\\xa0\\xa026\\n',\n",
       " '\\n4.6\\n|\\xa0\\xa017\\n',\n",
       " '\\n4.1\\n|\\xa0\\xa019\\n',\n",
       " '\\n5\\n|\\xa0\\xa01\\n',\n",
       " '\\n3.6\\n|\\xa0\\xa09\\n',\n",
       " '\\n4\\n|\\xa0\\xa04\\n']"
      ]
     },
     "execution_count": 53,
     "metadata": {},
     "output_type": "execute_result"
    }
   ],
   "source": [
    "rating"
   ]
  },
  {
   "cell_type": "code",
   "execution_count": 54,
   "id": "9c7ab320",
   "metadata": {},
   "outputs": [
    {
     "data": {
      "text/plain": [
       "181"
      ]
     },
     "execution_count": 54,
     "metadata": {},
     "output_type": "execute_result"
    }
   ],
   "source": [
    "len(rating)"
   ]
  },
  {
   "cell_type": "code",
   "execution_count": 60,
   "id": "6dba3033",
   "metadata": {},
   "outputs": [],
   "source": [
    "data={'Car Name':cars[:181],\n",
    "      'Price':price[:181],\n",
    "      'Specification':spec[:181],\n",
    "      'Rating':rating\n",
    "     }"
   ]
  },
  {
   "cell_type": "code",
   "execution_count": 61,
   "id": "6f12a150",
   "metadata": {},
   "outputs": [],
   "source": [
    "data=pd.DataFrame(data)"
   ]
  },
  {
   "cell_type": "code",
   "execution_count": 63,
   "id": "7a4c6c4f",
   "metadata": {},
   "outputs": [
    {
     "data": {
      "text/html": [
       "<div>\n",
       "<style scoped>\n",
       "    .dataframe tbody tr th:only-of-type {\n",
       "        vertical-align: middle;\n",
       "    }\n",
       "\n",
       "    .dataframe tbody tr th {\n",
       "        vertical-align: top;\n",
       "    }\n",
       "\n",
       "    .dataframe thead th {\n",
       "        text-align: right;\n",
       "    }\n",
       "</style>\n",
       "<table border=\"1\" class=\"dataframe\">\n",
       "  <thead>\n",
       "    <tr style=\"text-align: right;\">\n",
       "      <th></th>\n",
       "      <th>Car Name</th>\n",
       "      <th>Price</th>\n",
       "      <th>Specification</th>\n",
       "      <th>Rating</th>\n",
       "    </tr>\n",
       "  </thead>\n",
       "  <tbody>\n",
       "    <tr>\n",
       "      <th>0</th>\n",
       "      <td>\\nMaruti Suzuki Swift\\t</td>\n",
       "      <td>Rs. 5.73 - 8.41 Lakh</td>\n",
       "      <td>1197 cc | 23 kmpl | Petrol</td>\n",
       "      <td>\\n4\\n|  177\\n</td>\n",
       "    </tr>\n",
       "    <tr>\n",
       "      <th>1</th>\n",
       "      <td>\\nMaruti Suzuki Vitara Brezza\\t</td>\n",
       "      <td>Rs. 7.51 - 11.41 Lakh</td>\n",
       "      <td>1462 cc | 19 kmpl | Petrol</td>\n",
       "      <td>\\n4\\n|  278\\n</td>\n",
       "    </tr>\n",
       "    <tr>\n",
       "      <th>2</th>\n",
       "      <td>\\nMaruti Suzuki Baleno\\t</td>\n",
       "      <td>Rs. 5.98 - 9.30 Lakh</td>\n",
       "      <td>1197 cc | 24 kmpl | Petrol</td>\n",
       "      <td>\\n4.1\\n|  2100\\n</td>\n",
       "    </tr>\n",
       "    <tr>\n",
       "      <th>3</th>\n",
       "      <td>\\nMaruti Suzuki Dzire\\t</td>\n",
       "      <td>Rs. 5.98 - 9.02 Lakh</td>\n",
       "      <td>1197 cc | 24 kmpl | Petrol</td>\n",
       "      <td>\\n4\\n|  771\\n</td>\n",
       "    </tr>\n",
       "    <tr>\n",
       "      <th>4</th>\n",
       "      <td>\\nMaruti Suzuki Ertiga\\t</td>\n",
       "      <td>Rs. 7.81 - 10.59 Lakh</td>\n",
       "      <td>1462 cc | 19 kmpl | Petrol | CNG</td>\n",
       "      <td>\\n4\\n|  1709\\n</td>\n",
       "    </tr>\n",
       "  </tbody>\n",
       "</table>\n",
       "</div>"
      ],
      "text/plain": [
       "                          Car Name                  Price  \\\n",
       "0          \\nMaruti Suzuki Swift\\t   Rs. 5.73 - 8.41 Lakh   \n",
       "1  \\nMaruti Suzuki Vitara Brezza\\t  Rs. 7.51 - 11.41 Lakh   \n",
       "2         \\nMaruti Suzuki Baleno\\t   Rs. 5.98 - 9.30 Lakh   \n",
       "3          \\nMaruti Suzuki Dzire\\t   Rs. 5.98 - 9.02 Lakh   \n",
       "4         \\nMaruti Suzuki Ertiga\\t  Rs. 7.81 - 10.59 Lakh   \n",
       "\n",
       "                      Specification            Rating  \n",
       "0        1197 cc | 23 kmpl | Petrol     \\n4\\n|  177\\n  \n",
       "1        1462 cc | 19 kmpl | Petrol     \\n4\\n|  278\\n  \n",
       "2        1197 cc | 24 kmpl | Petrol  \\n4.1\\n|  2100\\n  \n",
       "3        1197 cc | 24 kmpl | Petrol     \\n4\\n|  771\\n  \n",
       "4  1462 cc | 19 kmpl | Petrol | CNG    \\n4\\n|  1709\\n  "
      ]
     },
     "execution_count": 63,
     "metadata": {},
     "output_type": "execute_result"
    }
   ],
   "source": [
    "data.head()"
   ]
  },
  {
   "cell_type": "markdown",
   "id": "e2fe7515",
   "metadata": {},
   "source": [
    "# `#########################################################`"
   ]
  },
  {
   "cell_type": "markdown",
   "id": "c1ef39c3",
   "metadata": {},
   "source": [
    "# `Real Project Begins`"
   ]
  },
  {
   "cell_type": "markdown",
   "id": "834f350b",
   "metadata": {},
   "source": [
    "# `Cars Data : Petrol | Diesel | CNG | Automatic`"
   ]
  },
  {
   "cell_type": "code",
   "execution_count": 521,
   "id": "1dc94286",
   "metadata": {},
   "outputs": [
    {
     "name": "stdout",
     "output_type": "stream",
     "text": [
      "Scrapped Status = 200 and Scrapped Time = 1.1217739582061768\n",
      "Scrapped Status = 200 and Scrapped Time = 0.3617260456085205\n",
      "Scrapped Status = 200 and Scrapped Time = 0.30399012565612793\n",
      "Scrapped Status = 200 and Scrapped Time = 3.1098949909210205\n",
      "Scrapped Status = 200 and Scrapped Time = 0.39031100273132324\n",
      "Scrapped Status = 200 and Scrapped Time = 0.31643104553222656\n",
      "Scrapped Status = 200 and Scrapped Time = 0.31740617752075195\n",
      "Scrapped Status = 200 and Scrapped Time = 0.3124229907989502\n",
      "Scrapped Status = 200 and Scrapped Time = 0.37575602531433105\n",
      "Scrapped Status = 200 and Scrapped Time = 0.43836116790771484\n",
      "Scrapped Status = 200 and Scrapped Time = 0.3080627918243408\n",
      "Scrapped Status = 200 and Scrapped Time = 0.2895030975341797\n",
      "Scrapped Status = 200 and Scrapped Time = 0.3082010746002197\n",
      "Scrapped Status = 200 and Scrapped Time = 0.26039743423461914\n",
      "Scrapped Status = 200 and Scrapped Time = 0.4424409866333008\n",
      "Scrapped Status = 200 and Scrapped Time = 0.2966887950897217\n",
      "Scrapped Status = 200 and Scrapped Time = 0.23527288436889648\n",
      "Scrapped Status = 200 and Scrapped Time = 0.2611260414123535\n",
      "Scrapped Status = 200 and Scrapped Time = 0.3135230541229248\n",
      "Scrapped Status = 200 and Scrapped Time = 0.2979142665863037\n",
      "Scrapped Status = 200 and Scrapped Time = 0.20729565620422363\n",
      "Scrapped Status = 200 and Scrapped Time = 0.38560009002685547\n",
      "Scrapped Status = 200 and Scrapped Time = 0.298370361328125\n",
      "Scrapped Status = 200 and Scrapped Time = 0.2633533477783203\n",
      "Scrapped Status = 200 and Scrapped Time = 0.2516212463378906\n",
      "Scrapped Status = 200 and Scrapped Time = 0.25399184226989746\n",
      "Scrapped Status = 200 and Scrapped Time = 0.26534581184387207\n",
      "Scrapped Status = 200 and Scrapped Time = 0.25237512588500977\n",
      "Scrapped Status = 200 and Scrapped Time = 0.3363206386566162\n",
      "Scrapped Status = 200 and Scrapped Time = 0.24969148635864258\n",
      "Scrapped Status = 200 and Scrapped Time = 0.2534475326538086\n",
      "Scrapped Status = 200 and Scrapped Time = 0.6355257034301758\n",
      "Scrapped Status = 200 and Scrapped Time = 0.2961139678955078\n",
      "Scrapped Status = 200 and Scrapped Time = 0.26355671882629395\n",
      "Scrapped Status = 200 and Scrapped Time = 0.22139334678649902\n",
      "Scrapped Status = 200 and Scrapped Time = 0.26089024543762207\n",
      "Scrapped Status = 200 and Scrapped Time = 0.3169994354248047\n",
      "Scrapped Status = 200 and Scrapped Time = 0.2345724105834961\n"
     ]
    }
   ],
   "source": [
    "pr_name=[]\n",
    "pr_cost=[]\n",
    "pr_spec=[]\n",
    "pr_rate=[]\n",
    "for i in car_list:\n",
    "    start_time=time.time()\n",
    "    url=f'https://www.zigwheels.com/newcars/{i}'\n",
    "    page=requests.get(url,headers = {'User-Agent':'Mozilla/5.0'})\n",
    "    content=page.text\n",
    "    soup=BeautifulSoup(content)\n",
    "    \n",
    "    for x in soup.find_all('li',attrs={'class':'col-lg-4 txt-c rel modelItem'}):\n",
    "        pname=x.find('span',attrs={'class':'lnk-hvr fnt-16 b block of-hid h-height'})\n",
    "        pcost=x.find('span',attrs={'class':'b fnt-15'})\n",
    "        rating=x.find('div',attrs={'class':'i-b fnt-12 clr-try'})\n",
    "        spec=x.find('div',attrs={'class':'clr-pry fnt-12 pb-10 h-height lh-18 of-hid'})\n",
    "        rate=x.find('a',attrs={'class':'r-wn w'})\n",
    "        ##rate=x.find('div',attrs={'class':'r-w fnt-12 rel i-b rt-lg'})\n",
    "        \n",
    "        if pname is None:\n",
    "            pr_name.append(np.NaN)\n",
    "        else:\n",
    "            pr_name.append(pname.text)\n",
    "            \n",
    "        if pcost is None:\n",
    "            pr_cost.append(np.NaN)\n",
    "        else:\n",
    "            pr_cost.append(pcost.text)\n",
    "        if rate is None:\n",
    "            pr_rate.append(np.NaN)\n",
    "        else:\n",
    "            pr_rate.append(rate.text)\n",
    "            \n",
    "        if spec is None:\n",
    "            pr_sped.append(np.NaN)\n",
    "        else:\n",
    "            pr_spec.append(spec.text)\n",
    "        \n",
    "    end_time=time.time()      \n",
    "    print('Scrapped Status = {} and Scrapped Time = {}'.format(page.status_code,end_time-start_time))\n",
    "    time.sleep(1)\n",
    "        "
   ]
  },
  {
   "cell_type": "code",
   "execution_count": 522,
   "id": "19a7f0ef",
   "metadata": {},
   "outputs": [
    {
     "name": "stdout",
     "output_type": "stream",
     "text": [
      "189\n",
      "189\n",
      "189\n",
      "189\n"
     ]
    }
   ],
   "source": [
    "print(len(pr_name))\n",
    "print(len(pr_cost))\n",
    "print(len(pr_spec))\n",
    "print(len(pr_rate))"
   ]
  },
  {
   "cell_type": "code",
   "execution_count": 523,
   "id": "9e4093b0",
   "metadata": {},
   "outputs": [],
   "source": [
    "data={'Car Name':pr_name,'Price':pr_cost,'Specification':pr_spec,'Rating':pr_rate}"
   ]
  },
  {
   "cell_type": "code",
   "execution_count": 524,
   "id": "a2b17655",
   "metadata": {},
   "outputs": [],
   "source": [
    "data=pd.DataFrame(data)"
   ]
  },
  {
   "cell_type": "code",
   "execution_count": 528,
   "id": "aef7b580",
   "metadata": {},
   "outputs": [
    {
     "data": {
      "text/html": [
       "<div>\n",
       "<style scoped>\n",
       "    .dataframe tbody tr th:only-of-type {\n",
       "        vertical-align: middle;\n",
       "    }\n",
       "\n",
       "    .dataframe tbody tr th {\n",
       "        vertical-align: top;\n",
       "    }\n",
       "\n",
       "    .dataframe thead th {\n",
       "        text-align: right;\n",
       "    }\n",
       "</style>\n",
       "<table border=\"1\" class=\"dataframe\">\n",
       "  <thead>\n",
       "    <tr style=\"text-align: right;\">\n",
       "      <th></th>\n",
       "      <th>Car Name</th>\n",
       "      <th>Price</th>\n",
       "      <th>Specification</th>\n",
       "      <th>Rating</th>\n",
       "    </tr>\n",
       "  </thead>\n",
       "  <tbody>\n",
       "    <tr>\n",
       "      <th>6</th>\n",
       "      <td>\\nMaruti Suzuki Alto 800\\t</td>\n",
       "      <td>Rs. 2.99 - 4.60 Lakh</td>\n",
       "      <td>796 cc | 22 kmpl | Petrol | CNG</td>\n",
       "      <td>\\n3.7\\n|  3400\\n</td>\n",
       "    </tr>\n",
       "    <tr>\n",
       "      <th>49</th>\n",
       "      <td>\\nHyundai i20\\t</td>\n",
       "      <td>Rs. 6.85 - 11.34 Lakh</td>\n",
       "      <td>1197 cc | 25 kmpl | Petrol | Diesel</td>\n",
       "      <td>\\n4.2\\n|  486\\n</td>\n",
       "    </tr>\n",
       "    <tr>\n",
       "      <th>0</th>\n",
       "      <td>\\nMaruti Suzuki Swift\\t</td>\n",
       "      <td>Rs. 5.73 - 8.41 Lakh</td>\n",
       "      <td>1197 cc | 23 kmpl | Petrol</td>\n",
       "      <td>\\n4\\n|  177\\n</td>\n",
       "    </tr>\n",
       "    <tr>\n",
       "      <th>16</th>\n",
       "      <td>\\nHonda City\\t</td>\n",
       "      <td>Rs. 10.99 - 14.94 Lakh</td>\n",
       "      <td>1498 cc | 24 kmpl | Petrol | Diesel</td>\n",
       "      <td>\\n4.3\\n|  570\\n</td>\n",
       "    </tr>\n",
       "    <tr>\n",
       "      <th>101</th>\n",
       "      <td>\\nMercedes-Benz AMG GLE 53\\t</td>\n",
       "      <td>Rs. 1.27 Crore</td>\n",
       "      <td>2999 cc | Petrol</td>\n",
       "      <td>\\n4.2\\n|  4\\n</td>\n",
       "    </tr>\n",
       "    <tr>\n",
       "      <th>97</th>\n",
       "      <td>\\nMercedes-Benz GLE\\t</td>\n",
       "      <td>Rs. 77.24 Lakh - 1.25 Crore</td>\n",
       "      <td>1950 cc | 10 kmpl | Petrol | Diesel</td>\n",
       "      <td>\\n4.4\\n|  11\\n</td>\n",
       "    </tr>\n",
       "    <tr>\n",
       "      <th>140</th>\n",
       "      <td>\\nNissan Magnite\\t</td>\n",
       "      <td>Rs. 5.59 - 10.00 Lakh</td>\n",
       "      <td>999 cc | 20 kmpl | Petrol</td>\n",
       "      <td>\\n4.2\\n|  68\\n</td>\n",
       "    </tr>\n",
       "    <tr>\n",
       "      <th>122</th>\n",
       "      <td>\\nLamborghini Huracan EVO\\t</td>\n",
       "      <td>Rs. 3.21 - 4.00 Crore</td>\n",
       "      <td>5204 cc | 7 kmpl | Petrol</td>\n",
       "      <td>\\n4.3\\n|  43\\n</td>\n",
       "    </tr>\n",
       "    <tr>\n",
       "      <th>61</th>\n",
       "      <td>\\nToyota Camry\\t</td>\n",
       "      <td>Rs. 40.59 Lakh</td>\n",
       "      <td>2487 cc | 19 kmpl | Petrol</td>\n",
       "      <td>\\n4.6\\n|  47\\n</td>\n",
       "    </tr>\n",
       "    <tr>\n",
       "      <th>126</th>\n",
       "      <td>\\nRolls Royce Cullinan\\t</td>\n",
       "      <td>Rs. 6.95 Crore</td>\n",
       "      <td>6750 cc | 10 kmpl | Petrol</td>\n",
       "      <td>\\n4.6\\n|  32\\n</td>\n",
       "    </tr>\n",
       "    <tr>\n",
       "      <th>71</th>\n",
       "      <td>\\nVolkswagen T-Roc\\t</td>\n",
       "      <td>Rs. 21.35 Lakh</td>\n",
       "      <td>1498 cc | 18 kmpl | Petrol</td>\n",
       "      <td>\\n4.6\\n|  13\\n</td>\n",
       "    </tr>\n",
       "    <tr>\n",
       "      <th>7</th>\n",
       "      <td>\\nMaruti Suzuki Celerio\\t</td>\n",
       "      <td>Rs. 4.65 - 5.90 Lakh</td>\n",
       "      <td>998 cc | 22 kmpl | Petrol | CNG</td>\n",
       "      <td>\\n3.9\\n|  975\\n</td>\n",
       "    </tr>\n",
       "    <tr>\n",
       "      <th>72</th>\n",
       "      <td>\\nVolkswagen Tiguan Allspace\\t</td>\n",
       "      <td>Rs. 34.20 Lakh</td>\n",
       "      <td>1984 cc | 17 kmpl | Petrol</td>\n",
       "      <td>\\n4.4\\n|  10\\n</td>\n",
       "    </tr>\n",
       "    <tr>\n",
       "      <th>152</th>\n",
       "      <td>\\nPorsche Macan\\t</td>\n",
       "      <td>Rs. 69.98 - 83.95 Lakh</td>\n",
       "      <td>1984 cc | Petrol</td>\n",
       "      <td>\\n4.5\\n|  4\\n</td>\n",
       "    </tr>\n",
       "    <tr>\n",
       "      <th>177</th>\n",
       "      <td>\\nLand Rover Discovery Sport\\t</td>\n",
       "      <td>Rs. 65.30 - 67.95 Lakh</td>\n",
       "      <td>1997 cc | Petrol | Diesel</td>\n",
       "      <td>\\n4.2\\n|  8\\n</td>\n",
       "    </tr>\n",
       "    <tr>\n",
       "      <th>170</th>\n",
       "      <td>\\nAston Martin DB11\\t</td>\n",
       "      <td>Rs. 3.80 - 4.20 Crore</td>\n",
       "      <td>3998 cc | Petrol</td>\n",
       "      <td>\\n3\\n|  1\\n</td>\n",
       "    </tr>\n",
       "    <tr>\n",
       "      <th>65</th>\n",
       "      <td>\\nToyota Urban Cruiser\\t</td>\n",
       "      <td>Rs. 8.62 - 11.40 Lakh</td>\n",
       "      <td>1462 cc | 19 kmpl | Petrol</td>\n",
       "      <td>\\n4.2\\n|  30\\n</td>\n",
       "    </tr>\n",
       "    <tr>\n",
       "      <th>14</th>\n",
       "      <td>\\nMaruti Suzuki Celerio X\\t</td>\n",
       "      <td>Rs. 5.11 - 5.91 Lakh</td>\n",
       "      <td>998 cc | 22 kmpl | Petrol</td>\n",
       "      <td>\\n3.9\\n|  166\\n</td>\n",
       "    </tr>\n",
       "    <tr>\n",
       "      <th>166</th>\n",
       "      <td>\\nMaserati GranCabrio\\t</td>\n",
       "      <td>Rs. 2.46 - 2.69 Crore</td>\n",
       "      <td>4691 cc | 10 kmpl | Petrol | Diesel</td>\n",
       "      <td>\\n3.9\\n|  5\\n</td>\n",
       "    </tr>\n",
       "    <tr>\n",
       "      <th>44</th>\n",
       "      <td>\\nFord Endeavour\\t</td>\n",
       "      <td>Rs. 29.99 - 36.25 Lakh</td>\n",
       "      <td>1996 cc | 14 kmpl | Diesel</td>\n",
       "      <td>\\n4.4\\n|  90\\n</td>\n",
       "    </tr>\n",
       "  </tbody>\n",
       "</table>\n",
       "</div>"
      ],
      "text/plain": [
       "                           Car Name                        Price  \\\n",
       "6        \\nMaruti Suzuki Alto 800\\t         Rs. 2.99 - 4.60 Lakh   \n",
       "49                  \\nHyundai i20\\t        Rs. 6.85 - 11.34 Lakh   \n",
       "0           \\nMaruti Suzuki Swift\\t         Rs. 5.73 - 8.41 Lakh   \n",
       "16                   \\nHonda City\\t       Rs. 10.99 - 14.94 Lakh   \n",
       "101    \\nMercedes-Benz AMG GLE 53\\t               Rs. 1.27 Crore   \n",
       "97            \\nMercedes-Benz GLE\\t  Rs. 77.24 Lakh - 1.25 Crore   \n",
       "140              \\nNissan Magnite\\t        Rs. 5.59 - 10.00 Lakh   \n",
       "122     \\nLamborghini Huracan EVO\\t        Rs. 3.21 - 4.00 Crore   \n",
       "61                 \\nToyota Camry\\t               Rs. 40.59 Lakh   \n",
       "126        \\nRolls Royce Cullinan\\t               Rs. 6.95 Crore   \n",
       "71             \\nVolkswagen T-Roc\\t               Rs. 21.35 Lakh   \n",
       "7         \\nMaruti Suzuki Celerio\\t         Rs. 4.65 - 5.90 Lakh   \n",
       "72   \\nVolkswagen Tiguan Allspace\\t               Rs. 34.20 Lakh   \n",
       "152               \\nPorsche Macan\\t       Rs. 69.98 - 83.95 Lakh   \n",
       "177  \\nLand Rover Discovery Sport\\t       Rs. 65.30 - 67.95 Lakh   \n",
       "170           \\nAston Martin DB11\\t        Rs. 3.80 - 4.20 Crore   \n",
       "65         \\nToyota Urban Cruiser\\t        Rs. 8.62 - 11.40 Lakh   \n",
       "14      \\nMaruti Suzuki Celerio X\\t         Rs. 5.11 - 5.91 Lakh   \n",
       "166         \\nMaserati GranCabrio\\t        Rs. 2.46 - 2.69 Crore   \n",
       "44               \\nFord Endeavour\\t       Rs. 29.99 - 36.25 Lakh   \n",
       "\n",
       "                           Specification            Rating  \n",
       "6        796 cc | 22 kmpl | Petrol | CNG  \\n3.7\\n|  3400\\n  \n",
       "49   1197 cc | 25 kmpl | Petrol | Diesel   \\n4.2\\n|  486\\n  \n",
       "0             1197 cc | 23 kmpl | Petrol     \\n4\\n|  177\\n  \n",
       "16   1498 cc | 24 kmpl | Petrol | Diesel   \\n4.3\\n|  570\\n  \n",
       "101                     2999 cc | Petrol     \\n4.2\\n|  4\\n  \n",
       "97   1950 cc | 10 kmpl | Petrol | Diesel    \\n4.4\\n|  11\\n  \n",
       "140            999 cc | 20 kmpl | Petrol    \\n4.2\\n|  68\\n  \n",
       "122            5204 cc | 7 kmpl | Petrol    \\n4.3\\n|  43\\n  \n",
       "61            2487 cc | 19 kmpl | Petrol    \\n4.6\\n|  47\\n  \n",
       "126           6750 cc | 10 kmpl | Petrol    \\n4.6\\n|  32\\n  \n",
       "71            1498 cc | 18 kmpl | Petrol    \\n4.6\\n|  13\\n  \n",
       "7        998 cc | 22 kmpl | Petrol | CNG   \\n3.9\\n|  975\\n  \n",
       "72            1984 cc | 17 kmpl | Petrol    \\n4.4\\n|  10\\n  \n",
       "152                     1984 cc | Petrol     \\n4.5\\n|  4\\n  \n",
       "177            1997 cc | Petrol | Diesel     \\n4.2\\n|  8\\n  \n",
       "170                     3998 cc | Petrol       \\n3\\n|  1\\n  \n",
       "65            1462 cc | 19 kmpl | Petrol    \\n4.2\\n|  30\\n  \n",
       "14             998 cc | 22 kmpl | Petrol   \\n3.9\\n|  166\\n  \n",
       "166  4691 cc | 10 kmpl | Petrol | Diesel     \\n3.9\\n|  5\\n  \n",
       "44            1996 cc | 14 kmpl | Diesel    \\n4.4\\n|  90\\n  "
      ]
     },
     "execution_count": 528,
     "metadata": {},
     "output_type": "execute_result"
    }
   ],
   "source": [
    "data.sample(20)"
   ]
  },
  {
   "cell_type": "code",
   "execution_count": 137,
   "id": "58af64e8",
   "metadata": {},
   "outputs": [],
   "source": [
    "data.to_csv('Zigwheels_cars.csv',index=False)"
   ]
  },
  {
   "cell_type": "markdown",
   "id": "4d3f2f57",
   "metadata": {},
   "source": [
    "## Data Cleaning"
   ]
  },
  {
   "cell_type": "code",
   "execution_count": 829,
   "id": "5b2f63f9",
   "metadata": {},
   "outputs": [],
   "source": [
    "data=pd.read_csv('C:\\\\Users\\\\manuj\\\\Innomatics Research labs\\\\My_Notebooks\\\\Zigwheels_cars.csv')"
   ]
  },
  {
   "cell_type": "code",
   "execution_count": 830,
   "id": "a7cf7645",
   "metadata": {},
   "outputs": [
    {
     "data": {
      "text/html": [
       "<div>\n",
       "<style scoped>\n",
       "    .dataframe tbody tr th:only-of-type {\n",
       "        vertical-align: middle;\n",
       "    }\n",
       "\n",
       "    .dataframe tbody tr th {\n",
       "        vertical-align: top;\n",
       "    }\n",
       "\n",
       "    .dataframe thead th {\n",
       "        text-align: right;\n",
       "    }\n",
       "</style>\n",
       "<table border=\"1\" class=\"dataframe\">\n",
       "  <thead>\n",
       "    <tr style=\"text-align: right;\">\n",
       "      <th></th>\n",
       "      <th>Car Name</th>\n",
       "      <th>Price</th>\n",
       "      <th>Specification</th>\n",
       "      <th>Rating</th>\n",
       "    </tr>\n",
       "  </thead>\n",
       "  <tbody>\n",
       "    <tr>\n",
       "      <th>0</th>\n",
       "      <td>\\nMaruti Suzuki Swift\\t</td>\n",
       "      <td>Rs. 5.73 - 8.41 Lakh</td>\n",
       "      <td>1197 cc | 23 kmpl | Petrol</td>\n",
       "      <td>\\n4\\n|  177\\n</td>\n",
       "    </tr>\n",
       "    <tr>\n",
       "      <th>1</th>\n",
       "      <td>\\nMaruti Suzuki Vitara Brezza\\t</td>\n",
       "      <td>Rs. 7.51 - 11.41 Lakh</td>\n",
       "      <td>1462 cc | 19 kmpl | Petrol</td>\n",
       "      <td>\\n4\\n|  278\\n</td>\n",
       "    </tr>\n",
       "    <tr>\n",
       "      <th>2</th>\n",
       "      <td>\\nMaruti Suzuki Baleno\\t</td>\n",
       "      <td>Rs. 5.98 - 9.30 Lakh</td>\n",
       "      <td>1197 cc | 24 kmpl | Petrol</td>\n",
       "      <td>\\n4.1\\n|  2100\\n</td>\n",
       "    </tr>\n",
       "    <tr>\n",
       "      <th>3</th>\n",
       "      <td>\\nMaruti Suzuki Dzire\\t</td>\n",
       "      <td>Rs. 5.98 - 9.02 Lakh</td>\n",
       "      <td>1197 cc | 24 kmpl | Petrol</td>\n",
       "      <td>\\n4\\n|  771\\n</td>\n",
       "    </tr>\n",
       "    <tr>\n",
       "      <th>4</th>\n",
       "      <td>\\nMaruti Suzuki Ertiga\\t</td>\n",
       "      <td>Rs. 7.81 - 10.59 Lakh</td>\n",
       "      <td>1462 cc | 19 kmpl | Petrol | CNG</td>\n",
       "      <td>\\n4\\n|  1709\\n</td>\n",
       "    </tr>\n",
       "  </tbody>\n",
       "</table>\n",
       "</div>"
      ],
      "text/plain": [
       "                          Car Name                  Price  \\\n",
       "0          \\nMaruti Suzuki Swift\\t   Rs. 5.73 - 8.41 Lakh   \n",
       "1  \\nMaruti Suzuki Vitara Brezza\\t  Rs. 7.51 - 11.41 Lakh   \n",
       "2         \\nMaruti Suzuki Baleno\\t   Rs. 5.98 - 9.30 Lakh   \n",
       "3          \\nMaruti Suzuki Dzire\\t   Rs. 5.98 - 9.02 Lakh   \n",
       "4         \\nMaruti Suzuki Ertiga\\t  Rs. 7.81 - 10.59 Lakh   \n",
       "\n",
       "                      Specification            Rating  \n",
       "0        1197 cc | 23 kmpl | Petrol     \\n4\\n|  177\\n  \n",
       "1        1462 cc | 19 kmpl | Petrol     \\n4\\n|  278\\n  \n",
       "2        1197 cc | 24 kmpl | Petrol  \\n4.1\\n|  2100\\n  \n",
       "3        1197 cc | 24 kmpl | Petrol     \\n4\\n|  771\\n  \n",
       "4  1462 cc | 19 kmpl | Petrol | CNG    \\n4\\n|  1709\\n  "
      ]
     },
     "execution_count": 830,
     "metadata": {},
     "output_type": "execute_result"
    }
   ],
   "source": [
    "data.head()"
   ]
  },
  {
   "cell_type": "code",
   "execution_count": 831,
   "id": "b09d109f",
   "metadata": {},
   "outputs": [
    {
     "data": {
      "text/plain": [
       "(189, 4)"
      ]
     },
     "execution_count": 831,
     "metadata": {},
     "output_type": "execute_result"
    }
   ],
   "source": [
    "data.shape"
   ]
  },
  {
   "cell_type": "markdown",
   "id": "a267dec3",
   "metadata": {},
   "source": [
    "## - Car Name"
   ]
  },
  {
   "cell_type": "code",
   "execution_count": 832,
   "id": "5aa1cdb0",
   "metadata": {},
   "outputs": [],
   "source": [
    "data['Car Name']=data['Car Name'].apply(lambda x:x.replace('\\n','').replace('\\t',''))"
   ]
  },
  {
   "cell_type": "code",
   "execution_count": 833,
   "id": "b83db7be",
   "metadata": {},
   "outputs": [
    {
     "data": {
      "text/html": [
       "<div>\n",
       "<style scoped>\n",
       "    .dataframe tbody tr th:only-of-type {\n",
       "        vertical-align: middle;\n",
       "    }\n",
       "\n",
       "    .dataframe tbody tr th {\n",
       "        vertical-align: top;\n",
       "    }\n",
       "\n",
       "    .dataframe thead th {\n",
       "        text-align: right;\n",
       "    }\n",
       "</style>\n",
       "<table border=\"1\" class=\"dataframe\">\n",
       "  <thead>\n",
       "    <tr style=\"text-align: right;\">\n",
       "      <th></th>\n",
       "      <th>Car Name</th>\n",
       "      <th>Price</th>\n",
       "      <th>Specification</th>\n",
       "      <th>Rating</th>\n",
       "    </tr>\n",
       "  </thead>\n",
       "  <tbody>\n",
       "    <tr>\n",
       "      <th>0</th>\n",
       "      <td>Maruti Suzuki Swift</td>\n",
       "      <td>Rs. 5.73 - 8.41 Lakh</td>\n",
       "      <td>1197 cc | 23 kmpl | Petrol</td>\n",
       "      <td>\\n4\\n|  177\\n</td>\n",
       "    </tr>\n",
       "    <tr>\n",
       "      <th>1</th>\n",
       "      <td>Maruti Suzuki Vitara Brezza</td>\n",
       "      <td>Rs. 7.51 - 11.41 Lakh</td>\n",
       "      <td>1462 cc | 19 kmpl | Petrol</td>\n",
       "      <td>\\n4\\n|  278\\n</td>\n",
       "    </tr>\n",
       "    <tr>\n",
       "      <th>2</th>\n",
       "      <td>Maruti Suzuki Baleno</td>\n",
       "      <td>Rs. 5.98 - 9.30 Lakh</td>\n",
       "      <td>1197 cc | 24 kmpl | Petrol</td>\n",
       "      <td>\\n4.1\\n|  2100\\n</td>\n",
       "    </tr>\n",
       "    <tr>\n",
       "      <th>3</th>\n",
       "      <td>Maruti Suzuki Dzire</td>\n",
       "      <td>Rs. 5.98 - 9.02 Lakh</td>\n",
       "      <td>1197 cc | 24 kmpl | Petrol</td>\n",
       "      <td>\\n4\\n|  771\\n</td>\n",
       "    </tr>\n",
       "    <tr>\n",
       "      <th>4</th>\n",
       "      <td>Maruti Suzuki Ertiga</td>\n",
       "      <td>Rs. 7.81 - 10.59 Lakh</td>\n",
       "      <td>1462 cc | 19 kmpl | Petrol | CNG</td>\n",
       "      <td>\\n4\\n|  1709\\n</td>\n",
       "    </tr>\n",
       "  </tbody>\n",
       "</table>\n",
       "</div>"
      ],
      "text/plain": [
       "                      Car Name                  Price  \\\n",
       "0          Maruti Suzuki Swift   Rs. 5.73 - 8.41 Lakh   \n",
       "1  Maruti Suzuki Vitara Brezza  Rs. 7.51 - 11.41 Lakh   \n",
       "2         Maruti Suzuki Baleno   Rs. 5.98 - 9.30 Lakh   \n",
       "3          Maruti Suzuki Dzire   Rs. 5.98 - 9.02 Lakh   \n",
       "4         Maruti Suzuki Ertiga  Rs. 7.81 - 10.59 Lakh   \n",
       "\n",
       "                      Specification            Rating  \n",
       "0        1197 cc | 23 kmpl | Petrol     \\n4\\n|  177\\n  \n",
       "1        1462 cc | 19 kmpl | Petrol     \\n4\\n|  278\\n  \n",
       "2        1197 cc | 24 kmpl | Petrol  \\n4.1\\n|  2100\\n  \n",
       "3        1197 cc | 24 kmpl | Petrol     \\n4\\n|  771\\n  \n",
       "4  1462 cc | 19 kmpl | Petrol | CNG    \\n4\\n|  1709\\n  "
      ]
     },
     "execution_count": 833,
     "metadata": {},
     "output_type": "execute_result"
    }
   ],
   "source": [
    "data.head()"
   ]
  },
  {
   "cell_type": "markdown",
   "id": "27bea4df",
   "metadata": {},
   "source": [
    "## cc"
   ]
  },
  {
   "cell_type": "code",
   "execution_count": 834,
   "id": "2ea2a711",
   "metadata": {},
   "outputs": [],
   "source": [
    "data['Specification']=data['Specification'].astype('str')\n",
    "regx=r'[0-9]+\\scc'\n",
    "pregx=re.compile(regx)\n",
    "\n",
    "data['CC']=data['Specification'].apply(lambda x:np.NaN if pregx.search(x) is None else pregx.search(x).group().replace('cc',''))"
   ]
  },
  {
   "cell_type": "code",
   "execution_count": 835,
   "id": "5c714d43",
   "metadata": {},
   "outputs": [
    {
     "data": {
      "text/html": [
       "<div>\n",
       "<style scoped>\n",
       "    .dataframe tbody tr th:only-of-type {\n",
       "        vertical-align: middle;\n",
       "    }\n",
       "\n",
       "    .dataframe tbody tr th {\n",
       "        vertical-align: top;\n",
       "    }\n",
       "\n",
       "    .dataframe thead th {\n",
       "        text-align: right;\n",
       "    }\n",
       "</style>\n",
       "<table border=\"1\" class=\"dataframe\">\n",
       "  <thead>\n",
       "    <tr style=\"text-align: right;\">\n",
       "      <th></th>\n",
       "      <th>Car Name</th>\n",
       "      <th>Price</th>\n",
       "      <th>Specification</th>\n",
       "      <th>Rating</th>\n",
       "      <th>CC</th>\n",
       "    </tr>\n",
       "  </thead>\n",
       "  <tbody>\n",
       "    <tr>\n",
       "      <th>0</th>\n",
       "      <td>Maruti Suzuki Swift</td>\n",
       "      <td>Rs. 5.73 - 8.41 Lakh</td>\n",
       "      <td>1197 cc | 23 kmpl | Petrol</td>\n",
       "      <td>\\n4\\n|  177\\n</td>\n",
       "      <td>1197</td>\n",
       "    </tr>\n",
       "    <tr>\n",
       "      <th>1</th>\n",
       "      <td>Maruti Suzuki Vitara Brezza</td>\n",
       "      <td>Rs. 7.51 - 11.41 Lakh</td>\n",
       "      <td>1462 cc | 19 kmpl | Petrol</td>\n",
       "      <td>\\n4\\n|  278\\n</td>\n",
       "      <td>1462</td>\n",
       "    </tr>\n",
       "    <tr>\n",
       "      <th>2</th>\n",
       "      <td>Maruti Suzuki Baleno</td>\n",
       "      <td>Rs. 5.98 - 9.30 Lakh</td>\n",
       "      <td>1197 cc | 24 kmpl | Petrol</td>\n",
       "      <td>\\n4.1\\n|  2100\\n</td>\n",
       "      <td>1197</td>\n",
       "    </tr>\n",
       "    <tr>\n",
       "      <th>3</th>\n",
       "      <td>Maruti Suzuki Dzire</td>\n",
       "      <td>Rs. 5.98 - 9.02 Lakh</td>\n",
       "      <td>1197 cc | 24 kmpl | Petrol</td>\n",
       "      <td>\\n4\\n|  771\\n</td>\n",
       "      <td>1197</td>\n",
       "    </tr>\n",
       "    <tr>\n",
       "      <th>4</th>\n",
       "      <td>Maruti Suzuki Ertiga</td>\n",
       "      <td>Rs. 7.81 - 10.59 Lakh</td>\n",
       "      <td>1462 cc | 19 kmpl | Petrol | CNG</td>\n",
       "      <td>\\n4\\n|  1709\\n</td>\n",
       "      <td>1462</td>\n",
       "    </tr>\n",
       "  </tbody>\n",
       "</table>\n",
       "</div>"
      ],
      "text/plain": [
       "                      Car Name                  Price  \\\n",
       "0          Maruti Suzuki Swift   Rs. 5.73 - 8.41 Lakh   \n",
       "1  Maruti Suzuki Vitara Brezza  Rs. 7.51 - 11.41 Lakh   \n",
       "2         Maruti Suzuki Baleno   Rs. 5.98 - 9.30 Lakh   \n",
       "3          Maruti Suzuki Dzire   Rs. 5.98 - 9.02 Lakh   \n",
       "4         Maruti Suzuki Ertiga  Rs. 7.81 - 10.59 Lakh   \n",
       "\n",
       "                      Specification            Rating     CC  \n",
       "0        1197 cc | 23 kmpl | Petrol     \\n4\\n|  177\\n  1197   \n",
       "1        1462 cc | 19 kmpl | Petrol     \\n4\\n|  278\\n  1462   \n",
       "2        1197 cc | 24 kmpl | Petrol  \\n4.1\\n|  2100\\n  1197   \n",
       "3        1197 cc | 24 kmpl | Petrol     \\n4\\n|  771\\n  1197   \n",
       "4  1462 cc | 19 kmpl | Petrol | CNG    \\n4\\n|  1709\\n  1462   "
      ]
     },
     "execution_count": 835,
     "metadata": {},
     "output_type": "execute_result"
    }
   ],
   "source": [
    "data.head()"
   ]
  },
  {
   "cell_type": "markdown",
   "id": "7ad48a5c",
   "metadata": {},
   "source": [
    "## - Milage"
   ]
  },
  {
   "cell_type": "code",
   "execution_count": 836,
   "id": "73d19e29",
   "metadata": {},
   "outputs": [],
   "source": [
    "data['Specification']=data['Specification'].astype('str')  # convert to string\n",
    "regx=r'\\S\\s[0-9\\s]+'\n",
    "pregx=re.compile(regx)\n",
    "\n",
    "data['Milage in kmpl']=data['Specification'].apply(lambda x:np.NaN if pregx.search(x) is None else pregx.search(x).group().replace('|',''))"
   ]
  },
  {
   "cell_type": "code",
   "execution_count": 837,
   "id": "25dfc004",
   "metadata": {},
   "outputs": [
    {
     "data": {
      "text/html": [
       "<div>\n",
       "<style scoped>\n",
       "    .dataframe tbody tr th:only-of-type {\n",
       "        vertical-align: middle;\n",
       "    }\n",
       "\n",
       "    .dataframe tbody tr th {\n",
       "        vertical-align: top;\n",
       "    }\n",
       "\n",
       "    .dataframe thead th {\n",
       "        text-align: right;\n",
       "    }\n",
       "</style>\n",
       "<table border=\"1\" class=\"dataframe\">\n",
       "  <thead>\n",
       "    <tr style=\"text-align: right;\">\n",
       "      <th></th>\n",
       "      <th>Car Name</th>\n",
       "      <th>Price</th>\n",
       "      <th>Specification</th>\n",
       "      <th>Rating</th>\n",
       "      <th>CC</th>\n",
       "      <th>Milage in kmpl</th>\n",
       "    </tr>\n",
       "  </thead>\n",
       "  <tbody>\n",
       "    <tr>\n",
       "      <th>0</th>\n",
       "      <td>Maruti Suzuki Swift</td>\n",
       "      <td>Rs. 5.73 - 8.41 Lakh</td>\n",
       "      <td>1197 cc | 23 kmpl | Petrol</td>\n",
       "      <td>\\n4\\n|  177\\n</td>\n",
       "      <td>1197</td>\n",
       "      <td>23</td>\n",
       "    </tr>\n",
       "    <tr>\n",
       "      <th>1</th>\n",
       "      <td>Maruti Suzuki Vitara Brezza</td>\n",
       "      <td>Rs. 7.51 - 11.41 Lakh</td>\n",
       "      <td>1462 cc | 19 kmpl | Petrol</td>\n",
       "      <td>\\n4\\n|  278\\n</td>\n",
       "      <td>1462</td>\n",
       "      <td>19</td>\n",
       "    </tr>\n",
       "    <tr>\n",
       "      <th>2</th>\n",
       "      <td>Maruti Suzuki Baleno</td>\n",
       "      <td>Rs. 5.98 - 9.30 Lakh</td>\n",
       "      <td>1197 cc | 24 kmpl | Petrol</td>\n",
       "      <td>\\n4.1\\n|  2100\\n</td>\n",
       "      <td>1197</td>\n",
       "      <td>24</td>\n",
       "    </tr>\n",
       "    <tr>\n",
       "      <th>3</th>\n",
       "      <td>Maruti Suzuki Dzire</td>\n",
       "      <td>Rs. 5.98 - 9.02 Lakh</td>\n",
       "      <td>1197 cc | 24 kmpl | Petrol</td>\n",
       "      <td>\\n4\\n|  771\\n</td>\n",
       "      <td>1197</td>\n",
       "      <td>24</td>\n",
       "    </tr>\n",
       "    <tr>\n",
       "      <th>4</th>\n",
       "      <td>Maruti Suzuki Ertiga</td>\n",
       "      <td>Rs. 7.81 - 10.59 Lakh</td>\n",
       "      <td>1462 cc | 19 kmpl | Petrol | CNG</td>\n",
       "      <td>\\n4\\n|  1709\\n</td>\n",
       "      <td>1462</td>\n",
       "      <td>19</td>\n",
       "    </tr>\n",
       "  </tbody>\n",
       "</table>\n",
       "</div>"
      ],
      "text/plain": [
       "                      Car Name                  Price  \\\n",
       "0          Maruti Suzuki Swift   Rs. 5.73 - 8.41 Lakh   \n",
       "1  Maruti Suzuki Vitara Brezza  Rs. 7.51 - 11.41 Lakh   \n",
       "2         Maruti Suzuki Baleno   Rs. 5.98 - 9.30 Lakh   \n",
       "3          Maruti Suzuki Dzire   Rs. 5.98 - 9.02 Lakh   \n",
       "4         Maruti Suzuki Ertiga  Rs. 7.81 - 10.59 Lakh   \n",
       "\n",
       "                      Specification            Rating     CC Milage in kmpl  \n",
       "0        1197 cc | 23 kmpl | Petrol     \\n4\\n|  177\\n  1197             23   \n",
       "1        1462 cc | 19 kmpl | Petrol     \\n4\\n|  278\\n  1462             19   \n",
       "2        1197 cc | 24 kmpl | Petrol  \\n4.1\\n|  2100\\n  1197             24   \n",
       "3        1197 cc | 24 kmpl | Petrol     \\n4\\n|  771\\n  1197             24   \n",
       "4  1462 cc | 19 kmpl | Petrol | CNG    \\n4\\n|  1709\\n  1462             19   "
      ]
     },
     "execution_count": 837,
     "metadata": {},
     "output_type": "execute_result"
    }
   ],
   "source": [
    "data.head()"
   ]
  },
  {
   "cell_type": "markdown",
   "id": "ab396855",
   "metadata": {},
   "source": [
    "## - Fuel Type"
   ]
  },
  {
   "cell_type": "code",
   "execution_count": 838,
   "id": "a78895d1",
   "metadata": {},
   "outputs": [],
   "source": [
    "data['Specification']=data['Specification'].astype('str')  # convert to string\n",
    "regx=r'\\S\\s[A-Z]+[a-z\\S\\s]+'\n",
    "pregx=re.compile(regx)\n",
    "\n",
    "data['Fuel Type']=data['Specification'].apply(lambda x:np.NaN if pregx.search(x) is None else pregx.search(x).group().replace('|',''))"
   ]
  },
  {
   "cell_type": "code",
   "execution_count": 839,
   "id": "4d297e0c",
   "metadata": {},
   "outputs": [
    {
     "data": {
      "text/html": [
       "<div>\n",
       "<style scoped>\n",
       "    .dataframe tbody tr th:only-of-type {\n",
       "        vertical-align: middle;\n",
       "    }\n",
       "\n",
       "    .dataframe tbody tr th {\n",
       "        vertical-align: top;\n",
       "    }\n",
       "\n",
       "    .dataframe thead th {\n",
       "        text-align: right;\n",
       "    }\n",
       "</style>\n",
       "<table border=\"1\" class=\"dataframe\">\n",
       "  <thead>\n",
       "    <tr style=\"text-align: right;\">\n",
       "      <th></th>\n",
       "      <th>Car Name</th>\n",
       "      <th>Price</th>\n",
       "      <th>Specification</th>\n",
       "      <th>Rating</th>\n",
       "      <th>CC</th>\n",
       "      <th>Milage in kmpl</th>\n",
       "      <th>Fuel Type</th>\n",
       "    </tr>\n",
       "  </thead>\n",
       "  <tbody>\n",
       "    <tr>\n",
       "      <th>51</th>\n",
       "      <td>Hyundai Verna</td>\n",
       "      <td>Rs. 9.19 - 15.25 Lakh</td>\n",
       "      <td>1497 cc | 25 kmpl | Petrol | Diesel</td>\n",
       "      <td>\\n4.3\\n|  551\\n</td>\n",
       "      <td>1497</td>\n",
       "      <td>25</td>\n",
       "      <td>Petrol  Diesel</td>\n",
       "    </tr>\n",
       "    <tr>\n",
       "      <th>6</th>\n",
       "      <td>Maruti Suzuki Alto 800</td>\n",
       "      <td>Rs. 2.99 - 4.60 Lakh</td>\n",
       "      <td>796 cc | 22 kmpl | Petrol | CNG</td>\n",
       "      <td>\\n3.7\\n|  3400\\n</td>\n",
       "      <td>796</td>\n",
       "      <td>22</td>\n",
       "      <td>Petrol  CNG</td>\n",
       "    </tr>\n",
       "    <tr>\n",
       "      <th>9</th>\n",
       "      <td>Maruti Suzuki S-Cross</td>\n",
       "      <td>Rs. 8.39 - 12.39 Lakh</td>\n",
       "      <td>1462 cc | 18 kmpl | Petrol</td>\n",
       "      <td>\\n4.2\\n|  92\\n</td>\n",
       "      <td>1462</td>\n",
       "      <td>18</td>\n",
       "      <td>Petrol</td>\n",
       "    </tr>\n",
       "    <tr>\n",
       "      <th>36</th>\n",
       "      <td>Tata Altroz</td>\n",
       "      <td>Rs. 5.79 - 9.55 Lakh</td>\n",
       "      <td>1199 cc | 25 kmpl | Petrol | Diesel</td>\n",
       "      <td>\\n4.5\\n|  361\\n</td>\n",
       "      <td>1199</td>\n",
       "      <td>25</td>\n",
       "      <td>Petrol  Diesel</td>\n",
       "    </tr>\n",
       "    <tr>\n",
       "      <th>92</th>\n",
       "      <td>BMW X5 M</td>\n",
       "      <td>Rs. 1.94 Crore</td>\n",
       "      <td>4395 cc | 8 kmpl | Petrol</td>\n",
       "      <td>\\n4.5\\n|  2\\n</td>\n",
       "      <td>4395</td>\n",
       "      <td>8</td>\n",
       "      <td>Petrol</td>\n",
       "    </tr>\n",
       "    <tr>\n",
       "      <th>41</th>\n",
       "      <td>Tata Safari</td>\n",
       "      <td>Rs. 14.99 - 21.81 Lakh</td>\n",
       "      <td>1956 cc | Diesel</td>\n",
       "      <td>\\n4.6\\n|  35\\n</td>\n",
       "      <td>1956</td>\n",
       "      <td>NaN</td>\n",
       "      <td>Diesel</td>\n",
       "    </tr>\n",
       "    <tr>\n",
       "      <th>67</th>\n",
       "      <td>Kia Sonet</td>\n",
       "      <td>Rs. 6.79 - 13.35 Lakh</td>\n",
       "      <td>1197 cc | 24 kmpl | Petrol | Diesel</td>\n",
       "      <td>\\n4.3\\n|  241\\n</td>\n",
       "      <td>1197</td>\n",
       "      <td>24</td>\n",
       "      <td>Petrol  Diesel</td>\n",
       "    </tr>\n",
       "    <tr>\n",
       "      <th>110</th>\n",
       "      <td>Mercedes-Benz GLC Coupe</td>\n",
       "      <td>Rs. 66.65 - 81.53 Lakh</td>\n",
       "      <td>1991 cc | 16 kmpl | Petrol | Diesel</td>\n",
       "      <td>NaN</td>\n",
       "      <td>1991</td>\n",
       "      <td>16</td>\n",
       "      <td>Petrol  Diesel</td>\n",
       "    </tr>\n",
       "    <tr>\n",
       "      <th>88</th>\n",
       "      <td>BMW 6 Series</td>\n",
       "      <td>Rs. 67.90 - 77.90 Lakh</td>\n",
       "      <td>1998 cc | 19 kmpl | Petrol | Diesel</td>\n",
       "      <td>\\n4.6\\n|  32\\n</td>\n",
       "      <td>1998</td>\n",
       "      <td>19</td>\n",
       "      <td>Petrol  Diesel</td>\n",
       "    </tr>\n",
       "    <tr>\n",
       "      <th>121</th>\n",
       "      <td>Lamborghini Aventador</td>\n",
       "      <td>Rs. 5.01 - 6.25 Crore</td>\n",
       "      <td>6498 cc | 8 kmpl | Petrol</td>\n",
       "      <td>\\n4.2\\n|  90\\n</td>\n",
       "      <td>6498</td>\n",
       "      <td>8</td>\n",
       "      <td>Petrol</td>\n",
       "    </tr>\n",
       "    <tr>\n",
       "      <th>3</th>\n",
       "      <td>Maruti Suzuki Dzire</td>\n",
       "      <td>Rs. 5.98 - 9.02 Lakh</td>\n",
       "      <td>1197 cc | 24 kmpl | Petrol</td>\n",
       "      <td>\\n4\\n|  771\\n</td>\n",
       "      <td>1197</td>\n",
       "      <td>24</td>\n",
       "      <td>Petrol</td>\n",
       "    </tr>\n",
       "    <tr>\n",
       "      <th>152</th>\n",
       "      <td>Porsche Macan</td>\n",
       "      <td>Rs. 69.98 - 83.95 Lakh</td>\n",
       "      <td>1984 cc | Petrol</td>\n",
       "      <td>\\n4.5\\n|  4\\n</td>\n",
       "      <td>1984</td>\n",
       "      <td>NaN</td>\n",
       "      <td>Petrol</td>\n",
       "    </tr>\n",
       "    <tr>\n",
       "      <th>183</th>\n",
       "      <td>Lexus ES</td>\n",
       "      <td>Rs. 56.55 - 61.75 Lakh</td>\n",
       "      <td>2487 cc | 22 kmpl | Petrol</td>\n",
       "      <td>\\n4.6\\n|  26\\n</td>\n",
       "      <td>2487</td>\n",
       "      <td>22</td>\n",
       "      <td>Petrol</td>\n",
       "    </tr>\n",
       "    <tr>\n",
       "      <th>39</th>\n",
       "      <td>Tata Yodha Pickup</td>\n",
       "      <td>Rs. 6.94 - 7.49 Lakh</td>\n",
       "      <td>2956 cc | Diesel</td>\n",
       "      <td>\\n3.9\\n|  27\\n</td>\n",
       "      <td>2956</td>\n",
       "      <td>NaN</td>\n",
       "      <td>Diesel</td>\n",
       "    </tr>\n",
       "    <tr>\n",
       "      <th>40</th>\n",
       "      <td>Tata Tigor EV</td>\n",
       "      <td>Rs. 9.58 - 9.90 Lakh</td>\n",
       "      <td>Electric</td>\n",
       "      <td>\\n4.3\\n|  12\\n</td>\n",
       "      <td>NaN</td>\n",
       "      <td>NaN</td>\n",
       "      <td>NaN</td>\n",
       "    </tr>\n",
       "    <tr>\n",
       "      <th>48</th>\n",
       "      <td>Hyundai Creta</td>\n",
       "      <td>Rs. 9.99 - 17.70 Lakh</td>\n",
       "      <td>1497 cc | 21 kmpl | Petrol | Diesel</td>\n",
       "      <td>\\n4.3\\n|  635\\n</td>\n",
       "      <td>1497</td>\n",
       "      <td>21</td>\n",
       "      <td>Petrol  Diesel</td>\n",
       "    </tr>\n",
       "    <tr>\n",
       "      <th>27</th>\n",
       "      <td>Mahindra KUV100 NXT</td>\n",
       "      <td>Rs. 6.05 - 7.71 Lakh</td>\n",
       "      <td>1198 cc | 18 kmpl | Petrol</td>\n",
       "      <td>\\n3.9\\n|  305\\n</td>\n",
       "      <td>1198</td>\n",
       "      <td>18</td>\n",
       "      <td>Petrol</td>\n",
       "    </tr>\n",
       "    <tr>\n",
       "      <th>58</th>\n",
       "      <td>Hyundai Grand i10 Nios</td>\n",
       "      <td>Rs. 5.23 - 8.45 Lakh</td>\n",
       "      <td>1186 cc | 26 kmpl | Petrol | Diesel | CNG</td>\n",
       "      <td>\\n4.2\\n|  288\\n</td>\n",
       "      <td>1186</td>\n",
       "      <td>26</td>\n",
       "      <td>Petrol  Diesel  CNG</td>\n",
       "    </tr>\n",
       "    <tr>\n",
       "      <th>86</th>\n",
       "      <td>BMW X4</td>\n",
       "      <td>Rs. 62.40 - 69.60 Lakh</td>\n",
       "      <td>1995 cc | 17 kmpl | Petrol | Diesel</td>\n",
       "      <td>\\n4.1\\n|  11\\n</td>\n",
       "      <td>1995</td>\n",
       "      <td>17</td>\n",
       "      <td>Petrol  Diesel</td>\n",
       "    </tr>\n",
       "    <tr>\n",
       "      <th>108</th>\n",
       "      <td>Mercedes-Benz C-Class</td>\n",
       "      <td>Rs. 41.31 Lakh - 1.39 Crore</td>\n",
       "      <td>3982 cc | 13 kmpl | Petrol | Diesel</td>\n",
       "      <td>\\n4.4\\n|  109\\n</td>\n",
       "      <td>3982</td>\n",
       "      <td>13</td>\n",
       "      <td>Petrol  Diesel</td>\n",
       "    </tr>\n",
       "  </tbody>\n",
       "</table>\n",
       "</div>"
      ],
      "text/plain": [
       "                    Car Name                        Price  \\\n",
       "51             Hyundai Verna        Rs. 9.19 - 15.25 Lakh   \n",
       "6     Maruti Suzuki Alto 800         Rs. 2.99 - 4.60 Lakh   \n",
       "9      Maruti Suzuki S-Cross        Rs. 8.39 - 12.39 Lakh   \n",
       "36               Tata Altroz         Rs. 5.79 - 9.55 Lakh   \n",
       "92                  BMW X5 M               Rs. 1.94 Crore   \n",
       "41               Tata Safari       Rs. 14.99 - 21.81 Lakh   \n",
       "67                 Kia Sonet        Rs. 6.79 - 13.35 Lakh   \n",
       "110  Mercedes-Benz GLC Coupe       Rs. 66.65 - 81.53 Lakh   \n",
       "88              BMW 6 Series       Rs. 67.90 - 77.90 Lakh   \n",
       "121    Lamborghini Aventador        Rs. 5.01 - 6.25 Crore   \n",
       "3        Maruti Suzuki Dzire         Rs. 5.98 - 9.02 Lakh   \n",
       "152            Porsche Macan       Rs. 69.98 - 83.95 Lakh   \n",
       "183                 Lexus ES       Rs. 56.55 - 61.75 Lakh   \n",
       "39         Tata Yodha Pickup         Rs. 6.94 - 7.49 Lakh   \n",
       "40             Tata Tigor EV         Rs. 9.58 - 9.90 Lakh   \n",
       "48             Hyundai Creta        Rs. 9.99 - 17.70 Lakh   \n",
       "27       Mahindra KUV100 NXT         Rs. 6.05 - 7.71 Lakh   \n",
       "58    Hyundai Grand i10 Nios         Rs. 5.23 - 8.45 Lakh   \n",
       "86                    BMW X4       Rs. 62.40 - 69.60 Lakh   \n",
       "108    Mercedes-Benz C-Class  Rs. 41.31 Lakh - 1.39 Crore   \n",
       "\n",
       "                                 Specification            Rating     CC  \\\n",
       "51         1497 cc | 25 kmpl | Petrol | Diesel   \\n4.3\\n|  551\\n  1497    \n",
       "6              796 cc | 22 kmpl | Petrol | CNG  \\n3.7\\n|  3400\\n   796    \n",
       "9                   1462 cc | 18 kmpl | Petrol    \\n4.2\\n|  92\\n  1462    \n",
       "36         1199 cc | 25 kmpl | Petrol | Diesel   \\n4.5\\n|  361\\n  1199    \n",
       "92                   4395 cc | 8 kmpl | Petrol     \\n4.5\\n|  2\\n  4395    \n",
       "41                            1956 cc | Diesel    \\n4.6\\n|  35\\n  1956    \n",
       "67         1197 cc | 24 kmpl | Petrol | Diesel   \\n4.3\\n|  241\\n  1197    \n",
       "110        1991 cc | 16 kmpl | Petrol | Diesel               NaN  1991    \n",
       "88         1998 cc | 19 kmpl | Petrol | Diesel    \\n4.6\\n|  32\\n  1998    \n",
       "121                  6498 cc | 8 kmpl | Petrol    \\n4.2\\n|  90\\n  6498    \n",
       "3                   1197 cc | 24 kmpl | Petrol     \\n4\\n|  771\\n  1197    \n",
       "152                           1984 cc | Petrol     \\n4.5\\n|  4\\n  1984    \n",
       "183                 2487 cc | 22 kmpl | Petrol    \\n4.6\\n|  26\\n  2487    \n",
       "39                            2956 cc | Diesel    \\n3.9\\n|  27\\n  2956    \n",
       "40                                    Electric    \\n4.3\\n|  12\\n    NaN   \n",
       "48         1497 cc | 21 kmpl | Petrol | Diesel   \\n4.3\\n|  635\\n  1497    \n",
       "27                  1198 cc | 18 kmpl | Petrol   \\n3.9\\n|  305\\n  1198    \n",
       "58   1186 cc | 26 kmpl | Petrol | Diesel | CNG   \\n4.2\\n|  288\\n  1186    \n",
       "86         1995 cc | 17 kmpl | Petrol | Diesel    \\n4.1\\n|  11\\n  1995    \n",
       "108        3982 cc | 13 kmpl | Petrol | Diesel   \\n4.4\\n|  109\\n  3982    \n",
       "\n",
       "    Milage in kmpl             Fuel Type  \n",
       "51             25         Petrol  Diesel  \n",
       "6              22            Petrol  CNG  \n",
       "9              18                 Petrol  \n",
       "36             25         Petrol  Diesel  \n",
       "92              8                 Petrol  \n",
       "41             NaN                Diesel  \n",
       "67             24         Petrol  Diesel  \n",
       "110            16         Petrol  Diesel  \n",
       "88             19         Petrol  Diesel  \n",
       "121             8                 Petrol  \n",
       "3              24                 Petrol  \n",
       "152            NaN                Petrol  \n",
       "183            22                 Petrol  \n",
       "39             NaN                Diesel  \n",
       "40             NaN                   NaN  \n",
       "48             21         Petrol  Diesel  \n",
       "27             18                 Petrol  \n",
       "58             26    Petrol  Diesel  CNG  \n",
       "86             17         Petrol  Diesel  \n",
       "108            13         Petrol  Diesel  "
      ]
     },
     "execution_count": 839,
     "metadata": {},
     "output_type": "execute_result"
    }
   ],
   "source": [
    "data.sample(20)"
   ]
  },
  {
   "cell_type": "markdown",
   "id": "4df4e269",
   "metadata": {},
   "source": [
    "## Ratings"
   ]
  },
  {
   "cell_type": "code",
   "execution_count": 840,
   "id": "90e9d083",
   "metadata": {},
   "outputs": [],
   "source": [
    "data['Rating']=data['Rating'].astype('str')  # convert to string\n",
    "regx=r'\\d.*\\d*'\n",
    "pregx=re.compile(regx)\n",
    "\n",
    "data['Ratings']=data['Rating'].apply(lambda x:np.NaN if pregx.search(x) is None else pregx.search(x).group())"
   ]
  },
  {
   "cell_type": "code",
   "execution_count": 841,
   "id": "c9574250",
   "metadata": {},
   "outputs": [
    {
     "data": {
      "text/html": [
       "<div>\n",
       "<style scoped>\n",
       "    .dataframe tbody tr th:only-of-type {\n",
       "        vertical-align: middle;\n",
       "    }\n",
       "\n",
       "    .dataframe tbody tr th {\n",
       "        vertical-align: top;\n",
       "    }\n",
       "\n",
       "    .dataframe thead th {\n",
       "        text-align: right;\n",
       "    }\n",
       "</style>\n",
       "<table border=\"1\" class=\"dataframe\">\n",
       "  <thead>\n",
       "    <tr style=\"text-align: right;\">\n",
       "      <th></th>\n",
       "      <th>Car Name</th>\n",
       "      <th>Price</th>\n",
       "      <th>Specification</th>\n",
       "      <th>Rating</th>\n",
       "      <th>CC</th>\n",
       "      <th>Milage in kmpl</th>\n",
       "      <th>Fuel Type</th>\n",
       "      <th>Ratings</th>\n",
       "    </tr>\n",
       "  </thead>\n",
       "  <tbody>\n",
       "    <tr>\n",
       "      <th>0</th>\n",
       "      <td>Maruti Suzuki Swift</td>\n",
       "      <td>Rs. 5.73 - 8.41 Lakh</td>\n",
       "      <td>1197 cc | 23 kmpl | Petrol</td>\n",
       "      <td>\\n4\\n|  177\\n</td>\n",
       "      <td>1197</td>\n",
       "      <td>23</td>\n",
       "      <td>Petrol</td>\n",
       "      <td>4</td>\n",
       "    </tr>\n",
       "    <tr>\n",
       "      <th>1</th>\n",
       "      <td>Maruti Suzuki Vitara Brezza</td>\n",
       "      <td>Rs. 7.51 - 11.41 Lakh</td>\n",
       "      <td>1462 cc | 19 kmpl | Petrol</td>\n",
       "      <td>\\n4\\n|  278\\n</td>\n",
       "      <td>1462</td>\n",
       "      <td>19</td>\n",
       "      <td>Petrol</td>\n",
       "      <td>4</td>\n",
       "    </tr>\n",
       "    <tr>\n",
       "      <th>2</th>\n",
       "      <td>Maruti Suzuki Baleno</td>\n",
       "      <td>Rs. 5.98 - 9.30 Lakh</td>\n",
       "      <td>1197 cc | 24 kmpl | Petrol</td>\n",
       "      <td>\\n4.1\\n|  2100\\n</td>\n",
       "      <td>1197</td>\n",
       "      <td>24</td>\n",
       "      <td>Petrol</td>\n",
       "      <td>4.1</td>\n",
       "    </tr>\n",
       "    <tr>\n",
       "      <th>3</th>\n",
       "      <td>Maruti Suzuki Dzire</td>\n",
       "      <td>Rs. 5.98 - 9.02 Lakh</td>\n",
       "      <td>1197 cc | 24 kmpl | Petrol</td>\n",
       "      <td>\\n4\\n|  771\\n</td>\n",
       "      <td>1197</td>\n",
       "      <td>24</td>\n",
       "      <td>Petrol</td>\n",
       "      <td>4</td>\n",
       "    </tr>\n",
       "    <tr>\n",
       "      <th>4</th>\n",
       "      <td>Maruti Suzuki Ertiga</td>\n",
       "      <td>Rs. 7.81 - 10.59 Lakh</td>\n",
       "      <td>1462 cc | 19 kmpl | Petrol | CNG</td>\n",
       "      <td>\\n4\\n|  1709\\n</td>\n",
       "      <td>1462</td>\n",
       "      <td>19</td>\n",
       "      <td>Petrol  CNG</td>\n",
       "      <td>4</td>\n",
       "    </tr>\n",
       "  </tbody>\n",
       "</table>\n",
       "</div>"
      ],
      "text/plain": [
       "                      Car Name                  Price  \\\n",
       "0          Maruti Suzuki Swift   Rs. 5.73 - 8.41 Lakh   \n",
       "1  Maruti Suzuki Vitara Brezza  Rs. 7.51 - 11.41 Lakh   \n",
       "2         Maruti Suzuki Baleno   Rs. 5.98 - 9.30 Lakh   \n",
       "3          Maruti Suzuki Dzire   Rs. 5.98 - 9.02 Lakh   \n",
       "4         Maruti Suzuki Ertiga  Rs. 7.81 - 10.59 Lakh   \n",
       "\n",
       "                      Specification            Rating     CC Milage in kmpl  \\\n",
       "0        1197 cc | 23 kmpl | Petrol     \\n4\\n|  177\\n  1197             23    \n",
       "1        1462 cc | 19 kmpl | Petrol     \\n4\\n|  278\\n  1462             19    \n",
       "2        1197 cc | 24 kmpl | Petrol  \\n4.1\\n|  2100\\n  1197             24    \n",
       "3        1197 cc | 24 kmpl | Petrol     \\n4\\n|  771\\n  1197             24    \n",
       "4  1462 cc | 19 kmpl | Petrol | CNG    \\n4\\n|  1709\\n  1462             19    \n",
       "\n",
       "      Fuel Type Ratings  \n",
       "0        Petrol       4  \n",
       "1        Petrol       4  \n",
       "2        Petrol     4.1  \n",
       "3        Petrol       4  \n",
       "4   Petrol  CNG       4  "
      ]
     },
     "execution_count": 841,
     "metadata": {},
     "output_type": "execute_result"
    }
   ],
   "source": [
    "data.head()\n"
   ]
  },
  {
   "cell_type": "markdown",
   "id": "72fc5b74",
   "metadata": {},
   "source": [
    "## - Rated by"
   ]
  },
  {
   "cell_type": "code",
   "execution_count": 842,
   "id": "11f0c3d5",
   "metadata": {},
   "outputs": [],
   "source": [
    "data['Rating']=data['Rating'].astype('str')  # convert to string\n",
    "regx=r'\\S\\s+[0-9]+'\n",
    "pregx=re.compile(regx)\n",
    "\n",
    "data['Rated By']=data['Rating'].apply(lambda x:np.NaN if pregx.search(x) is None else pregx.search(x).group().replace('|',''))"
   ]
  },
  {
   "cell_type": "code",
   "execution_count": 843,
   "id": "64bb781f",
   "metadata": {},
   "outputs": [
    {
     "data": {
      "text/html": [
       "<div>\n",
       "<style scoped>\n",
       "    .dataframe tbody tr th:only-of-type {\n",
       "        vertical-align: middle;\n",
       "    }\n",
       "\n",
       "    .dataframe tbody tr th {\n",
       "        vertical-align: top;\n",
       "    }\n",
       "\n",
       "    .dataframe thead th {\n",
       "        text-align: right;\n",
       "    }\n",
       "</style>\n",
       "<table border=\"1\" class=\"dataframe\">\n",
       "  <thead>\n",
       "    <tr style=\"text-align: right;\">\n",
       "      <th></th>\n",
       "      <th>Car Name</th>\n",
       "      <th>Price</th>\n",
       "      <th>Specification</th>\n",
       "      <th>Rating</th>\n",
       "      <th>CC</th>\n",
       "      <th>Milage in kmpl</th>\n",
       "      <th>Fuel Type</th>\n",
       "      <th>Ratings</th>\n",
       "      <th>Rated By</th>\n",
       "    </tr>\n",
       "  </thead>\n",
       "  <tbody>\n",
       "    <tr>\n",
       "      <th>0</th>\n",
       "      <td>Maruti Suzuki Swift</td>\n",
       "      <td>Rs. 5.73 - 8.41 Lakh</td>\n",
       "      <td>1197 cc | 23 kmpl | Petrol</td>\n",
       "      <td>\\n4\\n|  177\\n</td>\n",
       "      <td>1197</td>\n",
       "      <td>23</td>\n",
       "      <td>Petrol</td>\n",
       "      <td>4</td>\n",
       "      <td>177</td>\n",
       "    </tr>\n",
       "    <tr>\n",
       "      <th>1</th>\n",
       "      <td>Maruti Suzuki Vitara Brezza</td>\n",
       "      <td>Rs. 7.51 - 11.41 Lakh</td>\n",
       "      <td>1462 cc | 19 kmpl | Petrol</td>\n",
       "      <td>\\n4\\n|  278\\n</td>\n",
       "      <td>1462</td>\n",
       "      <td>19</td>\n",
       "      <td>Petrol</td>\n",
       "      <td>4</td>\n",
       "      <td>278</td>\n",
       "    </tr>\n",
       "    <tr>\n",
       "      <th>2</th>\n",
       "      <td>Maruti Suzuki Baleno</td>\n",
       "      <td>Rs. 5.98 - 9.30 Lakh</td>\n",
       "      <td>1197 cc | 24 kmpl | Petrol</td>\n",
       "      <td>\\n4.1\\n|  2100\\n</td>\n",
       "      <td>1197</td>\n",
       "      <td>24</td>\n",
       "      <td>Petrol</td>\n",
       "      <td>4.1</td>\n",
       "      <td>2100</td>\n",
       "    </tr>\n",
       "    <tr>\n",
       "      <th>3</th>\n",
       "      <td>Maruti Suzuki Dzire</td>\n",
       "      <td>Rs. 5.98 - 9.02 Lakh</td>\n",
       "      <td>1197 cc | 24 kmpl | Petrol</td>\n",
       "      <td>\\n4\\n|  771\\n</td>\n",
       "      <td>1197</td>\n",
       "      <td>24</td>\n",
       "      <td>Petrol</td>\n",
       "      <td>4</td>\n",
       "      <td>771</td>\n",
       "    </tr>\n",
       "    <tr>\n",
       "      <th>4</th>\n",
       "      <td>Maruti Suzuki Ertiga</td>\n",
       "      <td>Rs. 7.81 - 10.59 Lakh</td>\n",
       "      <td>1462 cc | 19 kmpl | Petrol | CNG</td>\n",
       "      <td>\\n4\\n|  1709\\n</td>\n",
       "      <td>1462</td>\n",
       "      <td>19</td>\n",
       "      <td>Petrol  CNG</td>\n",
       "      <td>4</td>\n",
       "      <td>1709</td>\n",
       "    </tr>\n",
       "    <tr>\n",
       "      <th>5</th>\n",
       "      <td>Maruti Suzuki Wagon R</td>\n",
       "      <td>Rs. 4.80 - 6.33 Lakh</td>\n",
       "      <td>998 cc | 22 kmpl | Petrol | CNG</td>\n",
       "      <td>\\n3.9\\n|  3780\\n</td>\n",
       "      <td>998</td>\n",
       "      <td>22</td>\n",
       "      <td>Petrol  CNG</td>\n",
       "      <td>3.9</td>\n",
       "      <td>3780</td>\n",
       "    </tr>\n",
       "    <tr>\n",
       "      <th>6</th>\n",
       "      <td>Maruti Suzuki Alto 800</td>\n",
       "      <td>Rs. 2.99 - 4.60 Lakh</td>\n",
       "      <td>796 cc | 22 kmpl | Petrol | CNG</td>\n",
       "      <td>\\n3.7\\n|  3400\\n</td>\n",
       "      <td>796</td>\n",
       "      <td>22</td>\n",
       "      <td>Petrol  CNG</td>\n",
       "      <td>3.7</td>\n",
       "      <td>3400</td>\n",
       "    </tr>\n",
       "    <tr>\n",
       "      <th>7</th>\n",
       "      <td>Maruti Suzuki Celerio</td>\n",
       "      <td>Rs. 4.65 - 5.90 Lakh</td>\n",
       "      <td>998 cc | 22 kmpl | Petrol | CNG</td>\n",
       "      <td>\\n3.9\\n|  975\\n</td>\n",
       "      <td>998</td>\n",
       "      <td>22</td>\n",
       "      <td>Petrol  CNG</td>\n",
       "      <td>3.9</td>\n",
       "      <td>975</td>\n",
       "    </tr>\n",
       "    <tr>\n",
       "      <th>8</th>\n",
       "      <td>Maruti Suzuki XL6</td>\n",
       "      <td>Rs. 9.94 - 11.73 Lakh</td>\n",
       "      <td>1462 cc | 19 kmpl | Petrol</td>\n",
       "      <td>\\n4.3\\n|  185\\n</td>\n",
       "      <td>1462</td>\n",
       "      <td>19</td>\n",
       "      <td>Petrol</td>\n",
       "      <td>4.3</td>\n",
       "      <td>185</td>\n",
       "    </tr>\n",
       "    <tr>\n",
       "      <th>9</th>\n",
       "      <td>Maruti Suzuki S-Cross</td>\n",
       "      <td>Rs. 8.39 - 12.39 Lakh</td>\n",
       "      <td>1462 cc | 18 kmpl | Petrol</td>\n",
       "      <td>\\n4.2\\n|  92\\n</td>\n",
       "      <td>1462</td>\n",
       "      <td>18</td>\n",
       "      <td>Petrol</td>\n",
       "      <td>4.2</td>\n",
       "      <td>92</td>\n",
       "    </tr>\n",
       "    <tr>\n",
       "      <th>10</th>\n",
       "      <td>Maruti Suzuki S-Presso</td>\n",
       "      <td>Rs. 3.78 - 5.26 Lakh</td>\n",
       "      <td>998 cc | 22 kmpl | Petrol | CNG</td>\n",
       "      <td>\\n4\\n|  307\\n</td>\n",
       "      <td>998</td>\n",
       "      <td>22</td>\n",
       "      <td>Petrol  CNG</td>\n",
       "      <td>4</td>\n",
       "      <td>307</td>\n",
       "    </tr>\n",
       "    <tr>\n",
       "      <th>11</th>\n",
       "      <td>Maruti Suzuki Ignis</td>\n",
       "      <td>Rs. 4.95 - 7.36 Lakh</td>\n",
       "      <td>1197 cc | 21 kmpl | Petrol</td>\n",
       "      <td>\\n4.2\\n|  499\\n</td>\n",
       "      <td>1197</td>\n",
       "      <td>21</td>\n",
       "      <td>Petrol</td>\n",
       "      <td>4.2</td>\n",
       "      <td>499</td>\n",
       "    </tr>\n",
       "    <tr>\n",
       "      <th>12</th>\n",
       "      <td>Maruti Suzuki Ciaz</td>\n",
       "      <td>Rs. 8.52 - 11.50 Lakh</td>\n",
       "      <td>1462 cc | 21 kmpl | Petrol</td>\n",
       "      <td>\\n4.3\\n|  967\\n</td>\n",
       "      <td>1462</td>\n",
       "      <td>21</td>\n",
       "      <td>Petrol</td>\n",
       "      <td>4.3</td>\n",
       "      <td>967</td>\n",
       "    </tr>\n",
       "    <tr>\n",
       "      <th>13</th>\n",
       "      <td>Maruti Suzuki Eeco</td>\n",
       "      <td>Rs. 4.08 - 5.29 Lakh</td>\n",
       "      <td>1196 cc | 16 kmpl | Petrol | CNG</td>\n",
       "      <td>\\n3.7\\n|  743\\n</td>\n",
       "      <td>1196</td>\n",
       "      <td>16</td>\n",
       "      <td>Petrol  CNG</td>\n",
       "      <td>3.7</td>\n",
       "      <td>743</td>\n",
       "    </tr>\n",
       "    <tr>\n",
       "      <th>14</th>\n",
       "      <td>Maruti Suzuki Celerio X</td>\n",
       "      <td>Rs. 5.11 - 5.91 Lakh</td>\n",
       "      <td>998 cc | 22 kmpl | Petrol</td>\n",
       "      <td>\\n3.9\\n|  166\\n</td>\n",
       "      <td>998</td>\n",
       "      <td>22</td>\n",
       "      <td>Petrol</td>\n",
       "      <td>3.9</td>\n",
       "      <td>166</td>\n",
       "    </tr>\n",
       "    <tr>\n",
       "      <th>15</th>\n",
       "      <td>Maruti Suzuki Swift Dzire Tour</td>\n",
       "      <td>Rs. 5.76 - 6.40 Lakh</td>\n",
       "      <td>1197 cc | 20 kmpl | Petrol | CNG</td>\n",
       "      <td>\\n4\\n|  69\\n</td>\n",
       "      <td>1197</td>\n",
       "      <td>20</td>\n",
       "      <td>Petrol  CNG</td>\n",
       "      <td>4</td>\n",
       "      <td>69</td>\n",
       "    </tr>\n",
       "    <tr>\n",
       "      <th>16</th>\n",
       "      <td>Honda City</td>\n",
       "      <td>Rs. 10.99 - 14.94 Lakh</td>\n",
       "      <td>1498 cc | 24 kmpl | Petrol | Diesel</td>\n",
       "      <td>\\n4.3\\n|  570\\n</td>\n",
       "      <td>1498</td>\n",
       "      <td>24</td>\n",
       "      <td>Petrol  Diesel</td>\n",
       "      <td>4.3</td>\n",
       "      <td>570</td>\n",
       "    </tr>\n",
       "    <tr>\n",
       "      <th>17</th>\n",
       "      <td>Honda Amaze</td>\n",
       "      <td>Rs. 6.22 - 9.99 Lakh</td>\n",
       "      <td>1199 cc | 25 kmpl | Petrol | Diesel</td>\n",
       "      <td>\\n4.1\\n|  1320\\n</td>\n",
       "      <td>1199</td>\n",
       "      <td>25</td>\n",
       "      <td>Petrol  Diesel</td>\n",
       "      <td>4.1</td>\n",
       "      <td>1320</td>\n",
       "    </tr>\n",
       "    <tr>\n",
       "      <th>18</th>\n",
       "      <td>Honda WR-V</td>\n",
       "      <td>Rs. 8.62 - 11.05 Lakh</td>\n",
       "      <td>1199 cc | 24 kmpl | Petrol | Diesel</td>\n",
       "      <td>\\n4.3\\n|  131\\n</td>\n",
       "      <td>1199</td>\n",
       "      <td>24</td>\n",
       "      <td>Petrol  Diesel</td>\n",
       "      <td>4.3</td>\n",
       "      <td>131</td>\n",
       "    </tr>\n",
       "    <tr>\n",
       "      <th>19</th>\n",
       "      <td>Honda Jazz</td>\n",
       "      <td>Rs. 7.55 - 9.79 Lakh</td>\n",
       "      <td>1199 cc | 17 kmpl | Petrol</td>\n",
       "      <td>\\n4.2\\n|  112\\n</td>\n",
       "      <td>1199</td>\n",
       "      <td>17</td>\n",
       "      <td>Petrol</td>\n",
       "      <td>4.2</td>\n",
       "      <td>112</td>\n",
       "    </tr>\n",
       "    <tr>\n",
       "      <th>20</th>\n",
       "      <td>Honda City 4th Generation</td>\n",
       "      <td>Rs. 9.29 - 9.99 Lakh</td>\n",
       "      <td>1497 cc | 17 kmpl | Petrol</td>\n",
       "      <td>\\n4.3\\n|  1761\\n</td>\n",
       "      <td>1497</td>\n",
       "      <td>17</td>\n",
       "      <td>Petrol</td>\n",
       "      <td>4.3</td>\n",
       "      <td>1761</td>\n",
       "    </tr>\n",
       "    <tr>\n",
       "      <th>21</th>\n",
       "      <td>Mahindra Thar</td>\n",
       "      <td>Rs. 12.11 - 14.16 Lakh</td>\n",
       "      <td>1997 cc | 15 kmpl | Petrol | Diesel</td>\n",
       "      <td>\\n4.3\\n|  117\\n</td>\n",
       "      <td>1997</td>\n",
       "      <td>15</td>\n",
       "      <td>Petrol  Diesel</td>\n",
       "      <td>4.3</td>\n",
       "      <td>117</td>\n",
       "    </tr>\n",
       "    <tr>\n",
       "      <th>22</th>\n",
       "      <td>Mahindra Scorpio</td>\n",
       "      <td>Rs. 12.31 - 17.02 Lakh</td>\n",
       "      <td>2179 cc | Diesel</td>\n",
       "      <td>\\n4\\n|  1677\\n</td>\n",
       "      <td>2179</td>\n",
       "      <td>NaN</td>\n",
       "      <td>Diesel</td>\n",
       "      <td>4</td>\n",
       "      <td>1677</td>\n",
       "    </tr>\n",
       "    <tr>\n",
       "      <th>23</th>\n",
       "      <td>Mahindra Bolero</td>\n",
       "      <td>Rs. 8.40 - 9.39 Lakh</td>\n",
       "      <td>1498 cc | 16 kmpl | Diesel</td>\n",
       "      <td>\\n3.9\\n|  262\\n</td>\n",
       "      <td>1498</td>\n",
       "      <td>16</td>\n",
       "      <td>Diesel</td>\n",
       "      <td>3.9</td>\n",
       "      <td>262</td>\n",
       "    </tr>\n",
       "    <tr>\n",
       "      <th>24</th>\n",
       "      <td>Mahindra XUV300</td>\n",
       "      <td>Rs. 7.95 - 13.09 Lakh</td>\n",
       "      <td>1197 cc | 20 kmpl | Petrol | Diesel</td>\n",
       "      <td>\\n4.3\\n|  434\\n</td>\n",
       "      <td>1197</td>\n",
       "      <td>20</td>\n",
       "      <td>Petrol  Diesel</td>\n",
       "      <td>4.3</td>\n",
       "      <td>434</td>\n",
       "    </tr>\n",
       "  </tbody>\n",
       "</table>\n",
       "</div>"
      ],
      "text/plain": [
       "                          Car Name                   Price  \\\n",
       "0              Maruti Suzuki Swift    Rs. 5.73 - 8.41 Lakh   \n",
       "1      Maruti Suzuki Vitara Brezza   Rs. 7.51 - 11.41 Lakh   \n",
       "2             Maruti Suzuki Baleno    Rs. 5.98 - 9.30 Lakh   \n",
       "3              Maruti Suzuki Dzire    Rs. 5.98 - 9.02 Lakh   \n",
       "4             Maruti Suzuki Ertiga   Rs. 7.81 - 10.59 Lakh   \n",
       "5            Maruti Suzuki Wagon R    Rs. 4.80 - 6.33 Lakh   \n",
       "6           Maruti Suzuki Alto 800    Rs. 2.99 - 4.60 Lakh   \n",
       "7            Maruti Suzuki Celerio    Rs. 4.65 - 5.90 Lakh   \n",
       "8                Maruti Suzuki XL6   Rs. 9.94 - 11.73 Lakh   \n",
       "9            Maruti Suzuki S-Cross   Rs. 8.39 - 12.39 Lakh   \n",
       "10          Maruti Suzuki S-Presso    Rs. 3.78 - 5.26 Lakh   \n",
       "11             Maruti Suzuki Ignis    Rs. 4.95 - 7.36 Lakh   \n",
       "12              Maruti Suzuki Ciaz   Rs. 8.52 - 11.50 Lakh   \n",
       "13              Maruti Suzuki Eeco    Rs. 4.08 - 5.29 Lakh   \n",
       "14         Maruti Suzuki Celerio X    Rs. 5.11 - 5.91 Lakh   \n",
       "15  Maruti Suzuki Swift Dzire Tour    Rs. 5.76 - 6.40 Lakh   \n",
       "16                      Honda City  Rs. 10.99 - 14.94 Lakh   \n",
       "17                     Honda Amaze    Rs. 6.22 - 9.99 Lakh   \n",
       "18                      Honda WR-V   Rs. 8.62 - 11.05 Lakh   \n",
       "19                      Honda Jazz    Rs. 7.55 - 9.79 Lakh   \n",
       "20       Honda City 4th Generation    Rs. 9.29 - 9.99 Lakh   \n",
       "21                   Mahindra Thar  Rs. 12.11 - 14.16 Lakh   \n",
       "22                Mahindra Scorpio  Rs. 12.31 - 17.02 Lakh   \n",
       "23                 Mahindra Bolero    Rs. 8.40 - 9.39 Lakh   \n",
       "24                 Mahindra XUV300   Rs. 7.95 - 13.09 Lakh   \n",
       "\n",
       "                          Specification            Rating     CC  \\\n",
       "0            1197 cc | 23 kmpl | Petrol     \\n4\\n|  177\\n  1197    \n",
       "1            1462 cc | 19 kmpl | Petrol     \\n4\\n|  278\\n  1462    \n",
       "2            1197 cc | 24 kmpl | Petrol  \\n4.1\\n|  2100\\n  1197    \n",
       "3            1197 cc | 24 kmpl | Petrol     \\n4\\n|  771\\n  1197    \n",
       "4      1462 cc | 19 kmpl | Petrol | CNG    \\n4\\n|  1709\\n  1462    \n",
       "5       998 cc | 22 kmpl | Petrol | CNG  \\n3.9\\n|  3780\\n   998    \n",
       "6       796 cc | 22 kmpl | Petrol | CNG  \\n3.7\\n|  3400\\n   796    \n",
       "7       998 cc | 22 kmpl | Petrol | CNG   \\n3.9\\n|  975\\n   998    \n",
       "8            1462 cc | 19 kmpl | Petrol   \\n4.3\\n|  185\\n  1462    \n",
       "9            1462 cc | 18 kmpl | Petrol    \\n4.2\\n|  92\\n  1462    \n",
       "10      998 cc | 22 kmpl | Petrol | CNG     \\n4\\n|  307\\n   998    \n",
       "11           1197 cc | 21 kmpl | Petrol   \\n4.2\\n|  499\\n  1197    \n",
       "12           1462 cc | 21 kmpl | Petrol   \\n4.3\\n|  967\\n  1462    \n",
       "13     1196 cc | 16 kmpl | Petrol | CNG   \\n3.7\\n|  743\\n  1196    \n",
       "14            998 cc | 22 kmpl | Petrol   \\n3.9\\n|  166\\n   998    \n",
       "15     1197 cc | 20 kmpl | Petrol | CNG      \\n4\\n|  69\\n  1197    \n",
       "16  1498 cc | 24 kmpl | Petrol | Diesel   \\n4.3\\n|  570\\n  1498    \n",
       "17  1199 cc | 25 kmpl | Petrol | Diesel  \\n4.1\\n|  1320\\n  1199    \n",
       "18  1199 cc | 24 kmpl | Petrol | Diesel   \\n4.3\\n|  131\\n  1199    \n",
       "19           1199 cc | 17 kmpl | Petrol   \\n4.2\\n|  112\\n  1199    \n",
       "20           1497 cc | 17 kmpl | Petrol  \\n4.3\\n|  1761\\n  1497    \n",
       "21  1997 cc | 15 kmpl | Petrol | Diesel   \\n4.3\\n|  117\\n  1997    \n",
       "22                     2179 cc | Diesel    \\n4\\n|  1677\\n  2179    \n",
       "23           1498 cc | 16 kmpl | Diesel   \\n3.9\\n|  262\\n  1498    \n",
       "24  1197 cc | 20 kmpl | Petrol | Diesel   \\n4.3\\n|  434\\n  1197    \n",
       "\n",
       "   Milage in kmpl        Fuel Type Ratings Rated By  \n",
       "0             23            Petrol       4      177  \n",
       "1             19            Petrol       4      278  \n",
       "2             24            Petrol     4.1     2100  \n",
       "3             24            Petrol       4      771  \n",
       "4             19       Petrol  CNG       4     1709  \n",
       "5             22       Petrol  CNG     3.9     3780  \n",
       "6             22       Petrol  CNG     3.7     3400  \n",
       "7             22       Petrol  CNG     3.9      975  \n",
       "8             19            Petrol     4.3      185  \n",
       "9             18            Petrol     4.2       92  \n",
       "10            22       Petrol  CNG       4      307  \n",
       "11            21            Petrol     4.2      499  \n",
       "12            21            Petrol     4.3      967  \n",
       "13            16       Petrol  CNG     3.7      743  \n",
       "14            22            Petrol     3.9      166  \n",
       "15            20       Petrol  CNG       4       69  \n",
       "16            24    Petrol  Diesel     4.3      570  \n",
       "17            25    Petrol  Diesel     4.1     1320  \n",
       "18            24    Petrol  Diesel     4.3      131  \n",
       "19            17            Petrol     4.2      112  \n",
       "20            17            Petrol     4.3     1761  \n",
       "21            15    Petrol  Diesel     4.3      117  \n",
       "22            NaN           Diesel       4     1677  \n",
       "23            16            Diesel     3.9      262  \n",
       "24            20    Petrol  Diesel     4.3      434  "
      ]
     },
     "execution_count": 843,
     "metadata": {},
     "output_type": "execute_result"
    }
   ],
   "source": [
    "data.head(25)"
   ]
  },
  {
   "cell_type": "markdown",
   "id": "dfc24457",
   "metadata": {},
   "source": [
    "## - Base Model Price"
   ]
  },
  {
   "cell_type": "code",
   "execution_count": 848,
   "id": "ee0dc91e",
   "metadata": {},
   "outputs": [],
   "source": [
    "data['Price']=data['Price'].astype('str')  # convert to string\n",
    "regx=r'\\d+.\\d+'\n",
    "pregx=re.compile(regx)\n",
    "\n",
    "data['Base Model Price']=data['Price'].apply(lambda x:np.NaN if pregx.search(x) is None else pregx.search(x).group())"
   ]
  },
  {
   "cell_type": "code",
   "execution_count": 849,
   "id": "1893afc1",
   "metadata": {},
   "outputs": [],
   "source": [
    "data['Base Model Price']=data['Base Model Price'].astype('float')"
   ]
  },
  {
   "cell_type": "code",
   "execution_count": 850,
   "id": "11806668",
   "metadata": {},
   "outputs": [],
   "source": [
    "data['Base Model Price']=100000 * data['Base Model Price']"
   ]
  },
  {
   "cell_type": "code",
   "execution_count": 851,
   "id": "9b881015",
   "metadata": {},
   "outputs": [
    {
     "data": {
      "text/html": [
       "<div>\n",
       "<style scoped>\n",
       "    .dataframe tbody tr th:only-of-type {\n",
       "        vertical-align: middle;\n",
       "    }\n",
       "\n",
       "    .dataframe tbody tr th {\n",
       "        vertical-align: top;\n",
       "    }\n",
       "\n",
       "    .dataframe thead th {\n",
       "        text-align: right;\n",
       "    }\n",
       "</style>\n",
       "<table border=\"1\" class=\"dataframe\">\n",
       "  <thead>\n",
       "    <tr style=\"text-align: right;\">\n",
       "      <th></th>\n",
       "      <th>Car Name</th>\n",
       "      <th>Price</th>\n",
       "      <th>Specification</th>\n",
       "      <th>Rating</th>\n",
       "      <th>CC</th>\n",
       "      <th>Milage in kmpl</th>\n",
       "      <th>Fuel Type</th>\n",
       "      <th>Ratings</th>\n",
       "      <th>Rated By</th>\n",
       "      <th>Base Model Price</th>\n",
       "    </tr>\n",
       "  </thead>\n",
       "  <tbody>\n",
       "    <tr>\n",
       "      <th>1</th>\n",
       "      <td>Maruti Suzuki Vitara Brezza</td>\n",
       "      <td>Rs. 7.51 - 11.41 Lakh</td>\n",
       "      <td>1462 cc | 19 kmpl | Petrol</td>\n",
       "      <td>\\n4\\n|  278\\n</td>\n",
       "      <td>1462</td>\n",
       "      <td>19</td>\n",
       "      <td>Petrol</td>\n",
       "      <td>4</td>\n",
       "      <td>278</td>\n",
       "      <td>751000.0</td>\n",
       "    </tr>\n",
       "    <tr>\n",
       "      <th>172</th>\n",
       "      <td>Land Rover Range Rover</td>\n",
       "      <td>Rs. 2.10 - 4.38 Crore</td>\n",
       "      <td>2993 cc | 13 kmpl | Petrol | Diesel</td>\n",
       "      <td>\\n4.4\\n|  37\\n</td>\n",
       "      <td>2993</td>\n",
       "      <td>13</td>\n",
       "      <td>Petrol  Diesel</td>\n",
       "      <td>4.4</td>\n",
       "      <td>37</td>\n",
       "      <td>210000.0</td>\n",
       "    </tr>\n",
       "    <tr>\n",
       "      <th>51</th>\n",
       "      <td>Hyundai Verna</td>\n",
       "      <td>Rs. 9.19 - 15.25 Lakh</td>\n",
       "      <td>1497 cc | 25 kmpl | Petrol | Diesel</td>\n",
       "      <td>\\n4.3\\n|  551\\n</td>\n",
       "      <td>1497</td>\n",
       "      <td>25</td>\n",
       "      <td>Petrol  Diesel</td>\n",
       "      <td>4.3</td>\n",
       "      <td>551</td>\n",
       "      <td>919000.0</td>\n",
       "    </tr>\n",
       "    <tr>\n",
       "      <th>61</th>\n",
       "      <td>Toyota Camry</td>\n",
       "      <td>Rs. 40.59 Lakh</td>\n",
       "      <td>2487 cc | 19 kmpl | Petrol</td>\n",
       "      <td>\\n4.6\\n|  47\\n</td>\n",
       "      <td>2487</td>\n",
       "      <td>19</td>\n",
       "      <td>Petrol</td>\n",
       "      <td>4.6</td>\n",
       "      <td>47</td>\n",
       "      <td>4059000.0</td>\n",
       "    </tr>\n",
       "    <tr>\n",
       "      <th>160</th>\n",
       "      <td>Ferrari 812</td>\n",
       "      <td>Rs. 5.75 Crore</td>\n",
       "      <td>6496 cc | Petrol</td>\n",
       "      <td>\\n4.2\\n|  2\\n</td>\n",
       "      <td>6496</td>\n",
       "      <td>NaN</td>\n",
       "      <td>Petrol</td>\n",
       "      <td>4.2</td>\n",
       "      <td>2</td>\n",
       "      <td>575000.0</td>\n",
       "    </tr>\n",
       "  </tbody>\n",
       "</table>\n",
       "</div>"
      ],
      "text/plain": [
       "                        Car Name                  Price  \\\n",
       "1    Maruti Suzuki Vitara Brezza  Rs. 7.51 - 11.41 Lakh   \n",
       "172       Land Rover Range Rover  Rs. 2.10 - 4.38 Crore   \n",
       "51                 Hyundai Verna  Rs. 9.19 - 15.25 Lakh   \n",
       "61                  Toyota Camry         Rs. 40.59 Lakh   \n",
       "160                  Ferrari 812         Rs. 5.75 Crore   \n",
       "\n",
       "                           Specification           Rating     CC  \\\n",
       "1             1462 cc | 19 kmpl | Petrol    \\n4\\n|  278\\n  1462    \n",
       "172  2993 cc | 13 kmpl | Petrol | Diesel   \\n4.4\\n|  37\\n  2993    \n",
       "51   1497 cc | 25 kmpl | Petrol | Diesel  \\n4.3\\n|  551\\n  1497    \n",
       "61            2487 cc | 19 kmpl | Petrol   \\n4.6\\n|  47\\n  2487    \n",
       "160                     6496 cc | Petrol    \\n4.2\\n|  2\\n  6496    \n",
       "\n",
       "    Milage in kmpl        Fuel Type Ratings Rated By  Base Model Price  \n",
       "1              19            Petrol       4      278          751000.0  \n",
       "172            13    Petrol  Diesel     4.4       37          210000.0  \n",
       "51             25    Petrol  Diesel     4.3      551          919000.0  \n",
       "61             19            Petrol     4.6       47         4059000.0  \n",
       "160            NaN           Petrol     4.2        2          575000.0  "
      ]
     },
     "execution_count": 851,
     "metadata": {},
     "output_type": "execute_result"
    }
   ],
   "source": [
    "data.sample(5)"
   ]
  },
  {
   "cell_type": "markdown",
   "id": "37148c5f",
   "metadata": {},
   "source": [
    "## Top Model Price"
   ]
  },
  {
   "cell_type": "code",
   "execution_count": 852,
   "id": "4ef5ce37",
   "metadata": {},
   "outputs": [],
   "source": [
    "data['Price']=data['Price'].astype('str')  # convert to string\n",
    "regx=r'-\\s\\d+.\\d+'\n",
    "pregx=re.compile(regx)\n",
    "\n",
    "data['Top Model Price']=data['Price'].apply(lambda x:np.NaN if pregx.search(x) is None else pregx.search(x).group().replace('-',''))"
   ]
  },
  {
   "cell_type": "code",
   "execution_count": 853,
   "id": "682462ca",
   "metadata": {},
   "outputs": [],
   "source": [
    "data['Top Model Price']=data['Top Model Price'].astype('float')"
   ]
  },
  {
   "cell_type": "code",
   "execution_count": 854,
   "id": "53aaa73b",
   "metadata": {},
   "outputs": [],
   "source": [
    "data['Top Model Price']=100000 * data['Top Model Price']"
   ]
  },
  {
   "cell_type": "code",
   "execution_count": 855,
   "id": "82496754",
   "metadata": {},
   "outputs": [
    {
     "data": {
      "text/html": [
       "<div>\n",
       "<style scoped>\n",
       "    .dataframe tbody tr th:only-of-type {\n",
       "        vertical-align: middle;\n",
       "    }\n",
       "\n",
       "    .dataframe tbody tr th {\n",
       "        vertical-align: top;\n",
       "    }\n",
       "\n",
       "    .dataframe thead th {\n",
       "        text-align: right;\n",
       "    }\n",
       "</style>\n",
       "<table border=\"1\" class=\"dataframe\">\n",
       "  <thead>\n",
       "    <tr style=\"text-align: right;\">\n",
       "      <th></th>\n",
       "      <th>Car Name</th>\n",
       "      <th>Price</th>\n",
       "      <th>Specification</th>\n",
       "      <th>Rating</th>\n",
       "      <th>CC</th>\n",
       "      <th>Milage in kmpl</th>\n",
       "      <th>Fuel Type</th>\n",
       "      <th>Ratings</th>\n",
       "      <th>Rated By</th>\n",
       "      <th>Base Model Price</th>\n",
       "      <th>Top Model Price</th>\n",
       "    </tr>\n",
       "  </thead>\n",
       "  <tbody>\n",
       "    <tr>\n",
       "      <th>0</th>\n",
       "      <td>Maruti Suzuki Swift</td>\n",
       "      <td>Rs. 5.73 - 8.41 Lakh</td>\n",
       "      <td>1197 cc | 23 kmpl | Petrol</td>\n",
       "      <td>\\n4\\n|  177\\n</td>\n",
       "      <td>1197</td>\n",
       "      <td>23</td>\n",
       "      <td>Petrol</td>\n",
       "      <td>4</td>\n",
       "      <td>177</td>\n",
       "      <td>573000.0</td>\n",
       "      <td>841000.0</td>\n",
       "    </tr>\n",
       "    <tr>\n",
       "      <th>1</th>\n",
       "      <td>Maruti Suzuki Vitara Brezza</td>\n",
       "      <td>Rs. 7.51 - 11.41 Lakh</td>\n",
       "      <td>1462 cc | 19 kmpl | Petrol</td>\n",
       "      <td>\\n4\\n|  278\\n</td>\n",
       "      <td>1462</td>\n",
       "      <td>19</td>\n",
       "      <td>Petrol</td>\n",
       "      <td>4</td>\n",
       "      <td>278</td>\n",
       "      <td>751000.0</td>\n",
       "      <td>1141000.0</td>\n",
       "    </tr>\n",
       "    <tr>\n",
       "      <th>2</th>\n",
       "      <td>Maruti Suzuki Baleno</td>\n",
       "      <td>Rs. 5.98 - 9.30 Lakh</td>\n",
       "      <td>1197 cc | 24 kmpl | Petrol</td>\n",
       "      <td>\\n4.1\\n|  2100\\n</td>\n",
       "      <td>1197</td>\n",
       "      <td>24</td>\n",
       "      <td>Petrol</td>\n",
       "      <td>4.1</td>\n",
       "      <td>2100</td>\n",
       "      <td>598000.0</td>\n",
       "      <td>930000.0</td>\n",
       "    </tr>\n",
       "    <tr>\n",
       "      <th>3</th>\n",
       "      <td>Maruti Suzuki Dzire</td>\n",
       "      <td>Rs. 5.98 - 9.02 Lakh</td>\n",
       "      <td>1197 cc | 24 kmpl | Petrol</td>\n",
       "      <td>\\n4\\n|  771\\n</td>\n",
       "      <td>1197</td>\n",
       "      <td>24</td>\n",
       "      <td>Petrol</td>\n",
       "      <td>4</td>\n",
       "      <td>771</td>\n",
       "      <td>598000.0</td>\n",
       "      <td>902000.0</td>\n",
       "    </tr>\n",
       "    <tr>\n",
       "      <th>4</th>\n",
       "      <td>Maruti Suzuki Ertiga</td>\n",
       "      <td>Rs. 7.81 - 10.59 Lakh</td>\n",
       "      <td>1462 cc | 19 kmpl | Petrol | CNG</td>\n",
       "      <td>\\n4\\n|  1709\\n</td>\n",
       "      <td>1462</td>\n",
       "      <td>19</td>\n",
       "      <td>Petrol  CNG</td>\n",
       "      <td>4</td>\n",
       "      <td>1709</td>\n",
       "      <td>781000.0</td>\n",
       "      <td>1059000.0</td>\n",
       "    </tr>\n",
       "  </tbody>\n",
       "</table>\n",
       "</div>"
      ],
      "text/plain": [
       "                      Car Name                  Price  \\\n",
       "0          Maruti Suzuki Swift   Rs. 5.73 - 8.41 Lakh   \n",
       "1  Maruti Suzuki Vitara Brezza  Rs. 7.51 - 11.41 Lakh   \n",
       "2         Maruti Suzuki Baleno   Rs. 5.98 - 9.30 Lakh   \n",
       "3          Maruti Suzuki Dzire   Rs. 5.98 - 9.02 Lakh   \n",
       "4         Maruti Suzuki Ertiga  Rs. 7.81 - 10.59 Lakh   \n",
       "\n",
       "                      Specification            Rating     CC Milage in kmpl  \\\n",
       "0        1197 cc | 23 kmpl | Petrol     \\n4\\n|  177\\n  1197             23    \n",
       "1        1462 cc | 19 kmpl | Petrol     \\n4\\n|  278\\n  1462             19    \n",
       "2        1197 cc | 24 kmpl | Petrol  \\n4.1\\n|  2100\\n  1197             24    \n",
       "3        1197 cc | 24 kmpl | Petrol     \\n4\\n|  771\\n  1197             24    \n",
       "4  1462 cc | 19 kmpl | Petrol | CNG    \\n4\\n|  1709\\n  1462             19    \n",
       "\n",
       "      Fuel Type Ratings Rated By  Base Model Price  Top Model Price  \n",
       "0        Petrol       4      177          573000.0         841000.0  \n",
       "1        Petrol       4      278          751000.0        1141000.0  \n",
       "2        Petrol     4.1     2100          598000.0         930000.0  \n",
       "3        Petrol       4      771          598000.0         902000.0  \n",
       "4   Petrol  CNG       4     1709          781000.0        1059000.0  "
      ]
     },
     "execution_count": 855,
     "metadata": {},
     "output_type": "execute_result"
    }
   ],
   "source": [
    "data.head()"
   ]
  },
  {
   "cell_type": "code",
   "execution_count": 856,
   "id": "e34d02d4",
   "metadata": {},
   "outputs": [
    {
     "data": {
      "text/plain": [
       "Index(['Car Name', 'Price', 'Specification', 'Rating', 'CC', 'Milage in kmpl',\n",
       "       'Fuel Type', 'Ratings', 'Rated By', 'Base Model Price',\n",
       "       'Top Model Price'],\n",
       "      dtype='object')"
      ]
     },
     "execution_count": 856,
     "metadata": {},
     "output_type": "execute_result"
    }
   ],
   "source": [
    "data.columns"
   ]
  },
  {
   "cell_type": "code",
   "execution_count": 857,
   "id": "19a3b2fb",
   "metadata": {},
   "outputs": [],
   "source": [
    "data=data[['Car Name', 'CC', 'Milage in kmpl','Fuel Type', 'Ratings', 'Rated By', 'Base Model Price','Top Model Price']]"
   ]
  },
  {
   "cell_type": "code",
   "execution_count": 858,
   "id": "cba32cd0",
   "metadata": {},
   "outputs": [
    {
     "data": {
      "text/html": [
       "<div>\n",
       "<style scoped>\n",
       "    .dataframe tbody tr th:only-of-type {\n",
       "        vertical-align: middle;\n",
       "    }\n",
       "\n",
       "    .dataframe tbody tr th {\n",
       "        vertical-align: top;\n",
       "    }\n",
       "\n",
       "    .dataframe thead th {\n",
       "        text-align: right;\n",
       "    }\n",
       "</style>\n",
       "<table border=\"1\" class=\"dataframe\">\n",
       "  <thead>\n",
       "    <tr style=\"text-align: right;\">\n",
       "      <th></th>\n",
       "      <th>Car Name</th>\n",
       "      <th>CC</th>\n",
       "      <th>Milage in kmpl</th>\n",
       "      <th>Fuel Type</th>\n",
       "      <th>Ratings</th>\n",
       "      <th>Rated By</th>\n",
       "      <th>Base Model Price</th>\n",
       "      <th>Top Model Price</th>\n",
       "    </tr>\n",
       "  </thead>\n",
       "  <tbody>\n",
       "    <tr>\n",
       "      <th>0</th>\n",
       "      <td>Maruti Suzuki Swift</td>\n",
       "      <td>1197</td>\n",
       "      <td>23</td>\n",
       "      <td>Petrol</td>\n",
       "      <td>4</td>\n",
       "      <td>177</td>\n",
       "      <td>573000.0</td>\n",
       "      <td>841000.0</td>\n",
       "    </tr>\n",
       "    <tr>\n",
       "      <th>1</th>\n",
       "      <td>Maruti Suzuki Vitara Brezza</td>\n",
       "      <td>1462</td>\n",
       "      <td>19</td>\n",
       "      <td>Petrol</td>\n",
       "      <td>4</td>\n",
       "      <td>278</td>\n",
       "      <td>751000.0</td>\n",
       "      <td>1141000.0</td>\n",
       "    </tr>\n",
       "    <tr>\n",
       "      <th>2</th>\n",
       "      <td>Maruti Suzuki Baleno</td>\n",
       "      <td>1197</td>\n",
       "      <td>24</td>\n",
       "      <td>Petrol</td>\n",
       "      <td>4.1</td>\n",
       "      <td>2100</td>\n",
       "      <td>598000.0</td>\n",
       "      <td>930000.0</td>\n",
       "    </tr>\n",
       "    <tr>\n",
       "      <th>3</th>\n",
       "      <td>Maruti Suzuki Dzire</td>\n",
       "      <td>1197</td>\n",
       "      <td>24</td>\n",
       "      <td>Petrol</td>\n",
       "      <td>4</td>\n",
       "      <td>771</td>\n",
       "      <td>598000.0</td>\n",
       "      <td>902000.0</td>\n",
       "    </tr>\n",
       "    <tr>\n",
       "      <th>4</th>\n",
       "      <td>Maruti Suzuki Ertiga</td>\n",
       "      <td>1462</td>\n",
       "      <td>19</td>\n",
       "      <td>Petrol  CNG</td>\n",
       "      <td>4</td>\n",
       "      <td>1709</td>\n",
       "      <td>781000.0</td>\n",
       "      <td>1059000.0</td>\n",
       "    </tr>\n",
       "    <tr>\n",
       "      <th>5</th>\n",
       "      <td>Maruti Suzuki Wagon R</td>\n",
       "      <td>998</td>\n",
       "      <td>22</td>\n",
       "      <td>Petrol  CNG</td>\n",
       "      <td>3.9</td>\n",
       "      <td>3780</td>\n",
       "      <td>480000.0</td>\n",
       "      <td>633000.0</td>\n",
       "    </tr>\n",
       "    <tr>\n",
       "      <th>6</th>\n",
       "      <td>Maruti Suzuki Alto 800</td>\n",
       "      <td>796</td>\n",
       "      <td>22</td>\n",
       "      <td>Petrol  CNG</td>\n",
       "      <td>3.7</td>\n",
       "      <td>3400</td>\n",
       "      <td>299000.0</td>\n",
       "      <td>460000.0</td>\n",
       "    </tr>\n",
       "    <tr>\n",
       "      <th>7</th>\n",
       "      <td>Maruti Suzuki Celerio</td>\n",
       "      <td>998</td>\n",
       "      <td>22</td>\n",
       "      <td>Petrol  CNG</td>\n",
       "      <td>3.9</td>\n",
       "      <td>975</td>\n",
       "      <td>465000.0</td>\n",
       "      <td>590000.0</td>\n",
       "    </tr>\n",
       "    <tr>\n",
       "      <th>8</th>\n",
       "      <td>Maruti Suzuki XL6</td>\n",
       "      <td>1462</td>\n",
       "      <td>19</td>\n",
       "      <td>Petrol</td>\n",
       "      <td>4.3</td>\n",
       "      <td>185</td>\n",
       "      <td>994000.0</td>\n",
       "      <td>1173000.0</td>\n",
       "    </tr>\n",
       "    <tr>\n",
       "      <th>9</th>\n",
       "      <td>Maruti Suzuki S-Cross</td>\n",
       "      <td>1462</td>\n",
       "      <td>18</td>\n",
       "      <td>Petrol</td>\n",
       "      <td>4.2</td>\n",
       "      <td>92</td>\n",
       "      <td>839000.0</td>\n",
       "      <td>1239000.0</td>\n",
       "    </tr>\n",
       "    <tr>\n",
       "      <th>10</th>\n",
       "      <td>Maruti Suzuki S-Presso</td>\n",
       "      <td>998</td>\n",
       "      <td>22</td>\n",
       "      <td>Petrol  CNG</td>\n",
       "      <td>4</td>\n",
       "      <td>307</td>\n",
       "      <td>378000.0</td>\n",
       "      <td>526000.0</td>\n",
       "    </tr>\n",
       "    <tr>\n",
       "      <th>11</th>\n",
       "      <td>Maruti Suzuki Ignis</td>\n",
       "      <td>1197</td>\n",
       "      <td>21</td>\n",
       "      <td>Petrol</td>\n",
       "      <td>4.2</td>\n",
       "      <td>499</td>\n",
       "      <td>495000.0</td>\n",
       "      <td>736000.0</td>\n",
       "    </tr>\n",
       "    <tr>\n",
       "      <th>12</th>\n",
       "      <td>Maruti Suzuki Ciaz</td>\n",
       "      <td>1462</td>\n",
       "      <td>21</td>\n",
       "      <td>Petrol</td>\n",
       "      <td>4.3</td>\n",
       "      <td>967</td>\n",
       "      <td>852000.0</td>\n",
       "      <td>1150000.0</td>\n",
       "    </tr>\n",
       "    <tr>\n",
       "      <th>13</th>\n",
       "      <td>Maruti Suzuki Eeco</td>\n",
       "      <td>1196</td>\n",
       "      <td>16</td>\n",
       "      <td>Petrol  CNG</td>\n",
       "      <td>3.7</td>\n",
       "      <td>743</td>\n",
       "      <td>408000.0</td>\n",
       "      <td>529000.0</td>\n",
       "    </tr>\n",
       "    <tr>\n",
       "      <th>14</th>\n",
       "      <td>Maruti Suzuki Celerio X</td>\n",
       "      <td>998</td>\n",
       "      <td>22</td>\n",
       "      <td>Petrol</td>\n",
       "      <td>3.9</td>\n",
       "      <td>166</td>\n",
       "      <td>511000.0</td>\n",
       "      <td>591000.0</td>\n",
       "    </tr>\n",
       "    <tr>\n",
       "      <th>15</th>\n",
       "      <td>Maruti Suzuki Swift Dzire Tour</td>\n",
       "      <td>1197</td>\n",
       "      <td>20</td>\n",
       "      <td>Petrol  CNG</td>\n",
       "      <td>4</td>\n",
       "      <td>69</td>\n",
       "      <td>576000.0</td>\n",
       "      <td>640000.0</td>\n",
       "    </tr>\n",
       "    <tr>\n",
       "      <th>16</th>\n",
       "      <td>Honda City</td>\n",
       "      <td>1498</td>\n",
       "      <td>24</td>\n",
       "      <td>Petrol  Diesel</td>\n",
       "      <td>4.3</td>\n",
       "      <td>570</td>\n",
       "      <td>1099000.0</td>\n",
       "      <td>1494000.0</td>\n",
       "    </tr>\n",
       "    <tr>\n",
       "      <th>17</th>\n",
       "      <td>Honda Amaze</td>\n",
       "      <td>1199</td>\n",
       "      <td>25</td>\n",
       "      <td>Petrol  Diesel</td>\n",
       "      <td>4.1</td>\n",
       "      <td>1320</td>\n",
       "      <td>622000.0</td>\n",
       "      <td>999000.0</td>\n",
       "    </tr>\n",
       "    <tr>\n",
       "      <th>18</th>\n",
       "      <td>Honda WR-V</td>\n",
       "      <td>1199</td>\n",
       "      <td>24</td>\n",
       "      <td>Petrol  Diesel</td>\n",
       "      <td>4.3</td>\n",
       "      <td>131</td>\n",
       "      <td>862000.0</td>\n",
       "      <td>1105000.0</td>\n",
       "    </tr>\n",
       "    <tr>\n",
       "      <th>19</th>\n",
       "      <td>Honda Jazz</td>\n",
       "      <td>1199</td>\n",
       "      <td>17</td>\n",
       "      <td>Petrol</td>\n",
       "      <td>4.2</td>\n",
       "      <td>112</td>\n",
       "      <td>755000.0</td>\n",
       "      <td>979000.0</td>\n",
       "    </tr>\n",
       "    <tr>\n",
       "      <th>20</th>\n",
       "      <td>Honda City 4th Generation</td>\n",
       "      <td>1497</td>\n",
       "      <td>17</td>\n",
       "      <td>Petrol</td>\n",
       "      <td>4.3</td>\n",
       "      <td>1761</td>\n",
       "      <td>929000.0</td>\n",
       "      <td>999000.0</td>\n",
       "    </tr>\n",
       "    <tr>\n",
       "      <th>21</th>\n",
       "      <td>Mahindra Thar</td>\n",
       "      <td>1997</td>\n",
       "      <td>15</td>\n",
       "      <td>Petrol  Diesel</td>\n",
       "      <td>4.3</td>\n",
       "      <td>117</td>\n",
       "      <td>1211000.0</td>\n",
       "      <td>1416000.0</td>\n",
       "    </tr>\n",
       "    <tr>\n",
       "      <th>22</th>\n",
       "      <td>Mahindra Scorpio</td>\n",
       "      <td>2179</td>\n",
       "      <td>NaN</td>\n",
       "      <td>Diesel</td>\n",
       "      <td>4</td>\n",
       "      <td>1677</td>\n",
       "      <td>1231000.0</td>\n",
       "      <td>1702000.0</td>\n",
       "    </tr>\n",
       "    <tr>\n",
       "      <th>23</th>\n",
       "      <td>Mahindra Bolero</td>\n",
       "      <td>1498</td>\n",
       "      <td>16</td>\n",
       "      <td>Diesel</td>\n",
       "      <td>3.9</td>\n",
       "      <td>262</td>\n",
       "      <td>840000.0</td>\n",
       "      <td>939000.0</td>\n",
       "    </tr>\n",
       "    <tr>\n",
       "      <th>24</th>\n",
       "      <td>Mahindra XUV300</td>\n",
       "      <td>1197</td>\n",
       "      <td>20</td>\n",
       "      <td>Petrol  Diesel</td>\n",
       "      <td>4.3</td>\n",
       "      <td>434</td>\n",
       "      <td>795000.0</td>\n",
       "      <td>1309000.0</td>\n",
       "    </tr>\n",
       "    <tr>\n",
       "      <th>25</th>\n",
       "      <td>Mahindra XUV500</td>\n",
       "      <td>2179</td>\n",
       "      <td>15</td>\n",
       "      <td>Diesel</td>\n",
       "      <td>4.3</td>\n",
       "      <td>1205</td>\n",
       "      <td>1552000.0</td>\n",
       "      <td>2003000.0</td>\n",
       "    </tr>\n",
       "    <tr>\n",
       "      <th>26</th>\n",
       "      <td>Mahindra Marazzo</td>\n",
       "      <td>1497</td>\n",
       "      <td>17</td>\n",
       "      <td>Diesel</td>\n",
       "      <td>4.3</td>\n",
       "      <td>179</td>\n",
       "      <td>1203000.0</td>\n",
       "      <td>1412000.0</td>\n",
       "    </tr>\n",
       "    <tr>\n",
       "      <th>27</th>\n",
       "      <td>Mahindra KUV100 NXT</td>\n",
       "      <td>1198</td>\n",
       "      <td>18</td>\n",
       "      <td>Petrol</td>\n",
       "      <td>3.9</td>\n",
       "      <td>305</td>\n",
       "      <td>605000.0</td>\n",
       "      <td>771000.0</td>\n",
       "    </tr>\n",
       "    <tr>\n",
       "      <th>28</th>\n",
       "      <td>Mahindra Alturas G4</td>\n",
       "      <td>2157</td>\n",
       "      <td>12</td>\n",
       "      <td>Diesel</td>\n",
       "      <td>4.2</td>\n",
       "      <td>73</td>\n",
       "      <td>2873000.0</td>\n",
       "      <td>3173000.0</td>\n",
       "    </tr>\n",
       "    <tr>\n",
       "      <th>29</th>\n",
       "      <td>Mahindra E Verito</td>\n",
       "      <td>NaN</td>\n",
       "      <td>NaN</td>\n",
       "      <td>Electric</td>\n",
       "      <td>3.4</td>\n",
       "      <td>17</td>\n",
       "      <td>1015000.0</td>\n",
       "      <td>1049000.0</td>\n",
       "    </tr>\n",
       "    <tr>\n",
       "      <th>30</th>\n",
       "      <td>Mahindra Bolero Pik-Up</td>\n",
       "      <td>2523</td>\n",
       "      <td>NaN</td>\n",
       "      <td>Diesel</td>\n",
       "      <td>3.7</td>\n",
       "      <td>138</td>\n",
       "      <td>809000.0</td>\n",
       "      <td>835000.0</td>\n",
       "    </tr>\n",
       "    <tr>\n",
       "      <th>31</th>\n",
       "      <td>Jeep Compass</td>\n",
       "      <td>1368</td>\n",
       "      <td>NaN</td>\n",
       "      <td>Petrol  Diesel</td>\n",
       "      <td>4.3</td>\n",
       "      <td>23</td>\n",
       "      <td>1719000.0</td>\n",
       "      <td>2849000.0</td>\n",
       "    </tr>\n",
       "    <tr>\n",
       "      <th>32</th>\n",
       "      <td>Jeep Wrangler</td>\n",
       "      <td>1998</td>\n",
       "      <td>12</td>\n",
       "      <td>Petrol</td>\n",
       "      <td>4.3</td>\n",
       "      <td>21</td>\n",
       "      <td>5390000.0</td>\n",
       "      <td>5790000.0</td>\n",
       "    </tr>\n",
       "    <tr>\n",
       "      <th>33</th>\n",
       "      <td>Jeep Compass Trailhawk</td>\n",
       "      <td>1956</td>\n",
       "      <td>16</td>\n",
       "      <td>Diesel</td>\n",
       "      <td>4.6</td>\n",
       "      <td>19</td>\n",
       "      <td>2680000.0</td>\n",
       "      <td>2760000.0</td>\n",
       "    </tr>\n",
       "    <tr>\n",
       "      <th>34</th>\n",
       "      <td>Tata Nexon</td>\n",
       "      <td>1199</td>\n",
       "      <td>22</td>\n",
       "      <td>Petrol  Diesel</td>\n",
       "      <td>4.5</td>\n",
       "      <td>559</td>\n",
       "      <td>719000.0</td>\n",
       "      <td>1295000.0</td>\n",
       "    </tr>\n",
       "    <tr>\n",
       "      <th>35</th>\n",
       "      <td>Tata Harrier</td>\n",
       "      <td>1956</td>\n",
       "      <td>17</td>\n",
       "      <td>Diesel</td>\n",
       "      <td>4.5</td>\n",
       "      <td>332</td>\n",
       "      <td>1429000.0</td>\n",
       "      <td>2081000.0</td>\n",
       "    </tr>\n",
       "    <tr>\n",
       "      <th>36</th>\n",
       "      <td>Tata Altroz</td>\n",
       "      <td>1199</td>\n",
       "      <td>25</td>\n",
       "      <td>Petrol  Diesel</td>\n",
       "      <td>4.5</td>\n",
       "      <td>361</td>\n",
       "      <td>579000.0</td>\n",
       "      <td>955000.0</td>\n",
       "    </tr>\n",
       "    <tr>\n",
       "      <th>37</th>\n",
       "      <td>Tata Tiago</td>\n",
       "      <td>1199</td>\n",
       "      <td>24</td>\n",
       "      <td>Petrol</td>\n",
       "      <td>4.3</td>\n",
       "      <td>590</td>\n",
       "      <td>499000.0</td>\n",
       "      <td>695000.0</td>\n",
       "    </tr>\n",
       "    <tr>\n",
       "      <th>38</th>\n",
       "      <td>Tata Tigor</td>\n",
       "      <td>1199</td>\n",
       "      <td>20</td>\n",
       "      <td>Petrol</td>\n",
       "      <td>4.3</td>\n",
       "      <td>160</td>\n",
       "      <td>559000.0</td>\n",
       "      <td>773000.0</td>\n",
       "    </tr>\n",
       "    <tr>\n",
       "      <th>39</th>\n",
       "      <td>Tata Yodha Pickup</td>\n",
       "      <td>2956</td>\n",
       "      <td>NaN</td>\n",
       "      <td>Diesel</td>\n",
       "      <td>3.9</td>\n",
       "      <td>27</td>\n",
       "      <td>694000.0</td>\n",
       "      <td>749000.0</td>\n",
       "    </tr>\n",
       "    <tr>\n",
       "      <th>40</th>\n",
       "      <td>Tata Tigor EV</td>\n",
       "      <td>NaN</td>\n",
       "      <td>NaN</td>\n",
       "      <td>NaN</td>\n",
       "      <td>4.3</td>\n",
       "      <td>12</td>\n",
       "      <td>958000.0</td>\n",
       "      <td>990000.0</td>\n",
       "    </tr>\n",
       "    <tr>\n",
       "      <th>41</th>\n",
       "      <td>Tata Safari</td>\n",
       "      <td>1956</td>\n",
       "      <td>NaN</td>\n",
       "      <td>Diesel</td>\n",
       "      <td>4.6</td>\n",
       "      <td>35</td>\n",
       "      <td>1499000.0</td>\n",
       "      <td>2181000.0</td>\n",
       "    </tr>\n",
       "    <tr>\n",
       "      <th>42</th>\n",
       "      <td>Tata Nexon EV</td>\n",
       "      <td>NaN</td>\n",
       "      <td>NaN</td>\n",
       "      <td>Electric</td>\n",
       "      <td>4.2</td>\n",
       "      <td>51</td>\n",
       "      <td>1399000.0</td>\n",
       "      <td>1656000.0</td>\n",
       "    </tr>\n",
       "    <tr>\n",
       "      <th>43</th>\n",
       "      <td>Ford EcoSport</td>\n",
       "      <td>1496</td>\n",
       "      <td>22</td>\n",
       "      <td>Petrol  Diesel</td>\n",
       "      <td>4.3</td>\n",
       "      <td>146</td>\n",
       "      <td>819000.0</td>\n",
       "      <td>1169000.0</td>\n",
       "    </tr>\n",
       "    <tr>\n",
       "      <th>44</th>\n",
       "      <td>Ford Endeavour</td>\n",
       "      <td>1996</td>\n",
       "      <td>14</td>\n",
       "      <td>Diesel</td>\n",
       "      <td>4.4</td>\n",
       "      <td>90</td>\n",
       "      <td>2999000.0</td>\n",
       "      <td>3625000.0</td>\n",
       "    </tr>\n",
       "    <tr>\n",
       "      <th>45</th>\n",
       "      <td>Ford Figo</td>\n",
       "      <td>1499</td>\n",
       "      <td>24</td>\n",
       "      <td>Petrol  Diesel</td>\n",
       "      <td>4.1</td>\n",
       "      <td>952</td>\n",
       "      <td>582000.0</td>\n",
       "      <td>837000.0</td>\n",
       "    </tr>\n",
       "    <tr>\n",
       "      <th>46</th>\n",
       "      <td>Ford Freestyle</td>\n",
       "      <td>1194</td>\n",
       "      <td>24</td>\n",
       "      <td>Petrol  Diesel</td>\n",
       "      <td>4.4</td>\n",
       "      <td>313</td>\n",
       "      <td>727000.0</td>\n",
       "      <td>902000.0</td>\n",
       "    </tr>\n",
       "    <tr>\n",
       "      <th>47</th>\n",
       "      <td>Ford Aspire</td>\n",
       "      <td>1194</td>\n",
       "      <td>24</td>\n",
       "      <td>Petrol  Diesel</td>\n",
       "      <td>4.3</td>\n",
       "      <td>466</td>\n",
       "      <td>727000.0</td>\n",
       "      <td>872000.0</td>\n",
       "    </tr>\n",
       "    <tr>\n",
       "      <th>48</th>\n",
       "      <td>Hyundai Creta</td>\n",
       "      <td>1497</td>\n",
       "      <td>21</td>\n",
       "      <td>Petrol  Diesel</td>\n",
       "      <td>4.3</td>\n",
       "      <td>635</td>\n",
       "      <td>999000.0</td>\n",
       "      <td>1770000.0</td>\n",
       "    </tr>\n",
       "    <tr>\n",
       "      <th>49</th>\n",
       "      <td>Hyundai i20</td>\n",
       "      <td>1197</td>\n",
       "      <td>25</td>\n",
       "      <td>Petrol  Diesel</td>\n",
       "      <td>4.2</td>\n",
       "      <td>486</td>\n",
       "      <td>685000.0</td>\n",
       "      <td>1134000.0</td>\n",
       "    </tr>\n",
       "  </tbody>\n",
       "</table>\n",
       "</div>"
      ],
      "text/plain": [
       "                          Car Name     CC Milage in kmpl        Fuel Type  \\\n",
       "0              Maruti Suzuki Swift  1197             23            Petrol   \n",
       "1      Maruti Suzuki Vitara Brezza  1462             19            Petrol   \n",
       "2             Maruti Suzuki Baleno  1197             24            Petrol   \n",
       "3              Maruti Suzuki Dzire  1197             24            Petrol   \n",
       "4             Maruti Suzuki Ertiga  1462             19       Petrol  CNG   \n",
       "5            Maruti Suzuki Wagon R   998             22       Petrol  CNG   \n",
       "6           Maruti Suzuki Alto 800   796             22       Petrol  CNG   \n",
       "7            Maruti Suzuki Celerio   998             22       Petrol  CNG   \n",
       "8                Maruti Suzuki XL6  1462             19            Petrol   \n",
       "9            Maruti Suzuki S-Cross  1462             18            Petrol   \n",
       "10          Maruti Suzuki S-Presso   998             22       Petrol  CNG   \n",
       "11             Maruti Suzuki Ignis  1197             21            Petrol   \n",
       "12              Maruti Suzuki Ciaz  1462             21            Petrol   \n",
       "13              Maruti Suzuki Eeco  1196             16       Petrol  CNG   \n",
       "14         Maruti Suzuki Celerio X   998             22            Petrol   \n",
       "15  Maruti Suzuki Swift Dzire Tour  1197             20       Petrol  CNG   \n",
       "16                      Honda City  1498             24    Petrol  Diesel   \n",
       "17                     Honda Amaze  1199             25    Petrol  Diesel   \n",
       "18                      Honda WR-V  1199             24    Petrol  Diesel   \n",
       "19                      Honda Jazz  1199             17            Petrol   \n",
       "20       Honda City 4th Generation  1497             17            Petrol   \n",
       "21                   Mahindra Thar  1997             15    Petrol  Diesel   \n",
       "22                Mahindra Scorpio  2179             NaN           Diesel   \n",
       "23                 Mahindra Bolero  1498             16            Diesel   \n",
       "24                 Mahindra XUV300  1197             20    Petrol  Diesel   \n",
       "25                 Mahindra XUV500  2179             15            Diesel   \n",
       "26                Mahindra Marazzo  1497             17            Diesel   \n",
       "27             Mahindra KUV100 NXT  1198             18            Petrol   \n",
       "28             Mahindra Alturas G4  2157             12            Diesel   \n",
       "29               Mahindra E Verito    NaN            NaN         Electric   \n",
       "30          Mahindra Bolero Pik-Up  2523             NaN           Diesel   \n",
       "31                    Jeep Compass  1368             NaN   Petrol  Diesel   \n",
       "32                   Jeep Wrangler  1998             12            Petrol   \n",
       "33          Jeep Compass Trailhawk  1956             16            Diesel   \n",
       "34                      Tata Nexon  1199             22    Petrol  Diesel   \n",
       "35                    Tata Harrier  1956             17            Diesel   \n",
       "36                     Tata Altroz  1199             25    Petrol  Diesel   \n",
       "37                      Tata Tiago  1199             24            Petrol   \n",
       "38                      Tata Tigor  1199             20            Petrol   \n",
       "39               Tata Yodha Pickup  2956             NaN           Diesel   \n",
       "40                   Tata Tigor EV    NaN            NaN              NaN   \n",
       "41                     Tata Safari  1956             NaN           Diesel   \n",
       "42                   Tata Nexon EV    NaN            NaN         Electric   \n",
       "43                   Ford EcoSport  1496             22    Petrol  Diesel   \n",
       "44                  Ford Endeavour  1996             14            Diesel   \n",
       "45                       Ford Figo  1499             24    Petrol  Diesel   \n",
       "46                  Ford Freestyle  1194             24    Petrol  Diesel   \n",
       "47                     Ford Aspire  1194             24    Petrol  Diesel   \n",
       "48                   Hyundai Creta  1497             21    Petrol  Diesel   \n",
       "49                     Hyundai i20  1197             25    Petrol  Diesel   \n",
       "\n",
       "   Ratings Rated By  Base Model Price  Top Model Price  \n",
       "0        4      177          573000.0         841000.0  \n",
       "1        4      278          751000.0        1141000.0  \n",
       "2      4.1     2100          598000.0         930000.0  \n",
       "3        4      771          598000.0         902000.0  \n",
       "4        4     1709          781000.0        1059000.0  \n",
       "5      3.9     3780          480000.0         633000.0  \n",
       "6      3.7     3400          299000.0         460000.0  \n",
       "7      3.9      975          465000.0         590000.0  \n",
       "8      4.3      185          994000.0        1173000.0  \n",
       "9      4.2       92          839000.0        1239000.0  \n",
       "10       4      307          378000.0         526000.0  \n",
       "11     4.2      499          495000.0         736000.0  \n",
       "12     4.3      967          852000.0        1150000.0  \n",
       "13     3.7      743          408000.0         529000.0  \n",
       "14     3.9      166          511000.0         591000.0  \n",
       "15       4       69          576000.0         640000.0  \n",
       "16     4.3      570         1099000.0        1494000.0  \n",
       "17     4.1     1320          622000.0         999000.0  \n",
       "18     4.3      131          862000.0        1105000.0  \n",
       "19     4.2      112          755000.0         979000.0  \n",
       "20     4.3     1761          929000.0         999000.0  \n",
       "21     4.3      117         1211000.0        1416000.0  \n",
       "22       4     1677         1231000.0        1702000.0  \n",
       "23     3.9      262          840000.0         939000.0  \n",
       "24     4.3      434          795000.0        1309000.0  \n",
       "25     4.3     1205         1552000.0        2003000.0  \n",
       "26     4.3      179         1203000.0        1412000.0  \n",
       "27     3.9      305          605000.0         771000.0  \n",
       "28     4.2       73         2873000.0        3173000.0  \n",
       "29     3.4       17         1015000.0        1049000.0  \n",
       "30     3.7      138          809000.0         835000.0  \n",
       "31     4.3       23         1719000.0        2849000.0  \n",
       "32     4.3       21         5390000.0        5790000.0  \n",
       "33     4.6       19         2680000.0        2760000.0  \n",
       "34     4.5      559          719000.0        1295000.0  \n",
       "35     4.5      332         1429000.0        2081000.0  \n",
       "36     4.5      361          579000.0         955000.0  \n",
       "37     4.3      590          499000.0         695000.0  \n",
       "38     4.3      160          559000.0         773000.0  \n",
       "39     3.9       27          694000.0         749000.0  \n",
       "40     4.3       12          958000.0         990000.0  \n",
       "41     4.6       35         1499000.0        2181000.0  \n",
       "42     4.2       51         1399000.0        1656000.0  \n",
       "43     4.3      146          819000.0        1169000.0  \n",
       "44     4.4       90         2999000.0        3625000.0  \n",
       "45     4.1      952          582000.0         837000.0  \n",
       "46     4.4      313          727000.0         902000.0  \n",
       "47     4.3      466          727000.0         872000.0  \n",
       "48     4.3      635          999000.0        1770000.0  \n",
       "49     4.2      486          685000.0        1134000.0  "
      ]
     },
     "execution_count": 858,
     "metadata": {},
     "output_type": "execute_result"
    }
   ],
   "source": [
    "data.head(50)"
   ]
  },
  {
   "cell_type": "markdown",
   "id": "27fd073e",
   "metadata": {},
   "source": [
    "## - Brand Name"
   ]
  },
  {
   "cell_type": "code",
   "execution_count": 859,
   "id": "be1ed95e",
   "metadata": {},
   "outputs": [
    {
     "name": "stderr",
     "output_type": "stream",
     "text": [
      "<ipython-input-859-bad56fc829f6>:1: SettingWithCopyWarning: \n",
      "A value is trying to be set on a copy of a slice from a DataFrame.\n",
      "Try using .loc[row_indexer,col_indexer] = value instead\n",
      "\n",
      "See the caveats in the documentation: https://pandas.pydata.org/pandas-docs/stable/user_guide/indexing.html#returning-a-view-versus-a-copy\n",
      "  data['Car Name']=data['Car Name'].astype('str')  # convert to string\n",
      "<ipython-input-859-bad56fc829f6>:5: SettingWithCopyWarning: \n",
      "A value is trying to be set on a copy of a slice from a DataFrame.\n",
      "Try using .loc[row_indexer,col_indexer] = value instead\n",
      "\n",
      "See the caveats in the documentation: https://pandas.pydata.org/pandas-docs/stable/user_guide/indexing.html#returning-a-view-versus-a-copy\n",
      "  data['Brand']=data['Car Name'].apply(lambda x:np.NaN if pregx.search(x) is None else pregx.search(x).group())\n"
     ]
    }
   ],
   "source": [
    "data['Car Name']=data['Car Name'].astype('str')  # convert to string\n",
    "regx=r'^[A-Za-z]+'\n",
    "pregx=re.compile(regx)\n",
    "\n",
    "data['Brand']=data['Car Name'].apply(lambda x:np.NaN if pregx.search(x) is None else pregx.search(x).group())"
   ]
  },
  {
   "cell_type": "code",
   "execution_count": 860,
   "id": "e69406a7",
   "metadata": {},
   "outputs": [
    {
     "data": {
      "text/html": [
       "<div>\n",
       "<style scoped>\n",
       "    .dataframe tbody tr th:only-of-type {\n",
       "        vertical-align: middle;\n",
       "    }\n",
       "\n",
       "    .dataframe tbody tr th {\n",
       "        vertical-align: top;\n",
       "    }\n",
       "\n",
       "    .dataframe thead th {\n",
       "        text-align: right;\n",
       "    }\n",
       "</style>\n",
       "<table border=\"1\" class=\"dataframe\">\n",
       "  <thead>\n",
       "    <tr style=\"text-align: right;\">\n",
       "      <th></th>\n",
       "      <th>Car Name</th>\n",
       "      <th>CC</th>\n",
       "      <th>Milage in kmpl</th>\n",
       "      <th>Fuel Type</th>\n",
       "      <th>Ratings</th>\n",
       "      <th>Rated By</th>\n",
       "      <th>Base Model Price</th>\n",
       "      <th>Top Model Price</th>\n",
       "      <th>Brand</th>\n",
       "    </tr>\n",
       "  </thead>\n",
       "  <tbody>\n",
       "    <tr>\n",
       "      <th>73</th>\n",
       "      <td>Renault KWID</td>\n",
       "      <td>799</td>\n",
       "      <td>22</td>\n",
       "      <td>Petrol</td>\n",
       "      <td>3.8</td>\n",
       "      <td>716</td>\n",
       "      <td>332000.0</td>\n",
       "      <td>548000.0</td>\n",
       "      <td>Renault</td>\n",
       "    </tr>\n",
       "    <tr>\n",
       "      <th>127</th>\n",
       "      <td>Rolls Royce Dawn</td>\n",
       "      <td>6598</td>\n",
       "      <td>10</td>\n",
       "      <td>Petrol</td>\n",
       "      <td>4.7</td>\n",
       "      <td>19</td>\n",
       "      <td>730000.0</td>\n",
       "      <td>785000.0</td>\n",
       "      <td>Rolls</td>\n",
       "    </tr>\n",
       "    <tr>\n",
       "      <th>160</th>\n",
       "      <td>Ferrari 812</td>\n",
       "      <td>6496</td>\n",
       "      <td>NaN</td>\n",
       "      <td>Petrol</td>\n",
       "      <td>4.2</td>\n",
       "      <td>2</td>\n",
       "      <td>575000.0</td>\n",
       "      <td>NaN</td>\n",
       "      <td>Ferrari</td>\n",
       "    </tr>\n",
       "    <tr>\n",
       "      <th>59</th>\n",
       "      <td>Toyota Fortuner</td>\n",
       "      <td>2694</td>\n",
       "      <td>NaN</td>\n",
       "      <td>Petrol  Diesel</td>\n",
       "      <td>4.3</td>\n",
       "      <td>87</td>\n",
       "      <td>3034000.0</td>\n",
       "      <td>3830000.0</td>\n",
       "      <td>Toyota</td>\n",
       "    </tr>\n",
       "    <tr>\n",
       "      <th>50</th>\n",
       "      <td>Hyundai Venue</td>\n",
       "      <td>998</td>\n",
       "      <td>24</td>\n",
       "      <td>Petrol  Diesel</td>\n",
       "      <td>4.2</td>\n",
       "      <td>661</td>\n",
       "      <td>692000.0</td>\n",
       "      <td>1176000.0</td>\n",
       "      <td>Hyundai</td>\n",
       "    </tr>\n",
       "    <tr>\n",
       "      <th>181</th>\n",
       "      <td>Bentley Flying Spur</td>\n",
       "      <td>5950</td>\n",
       "      <td>13</td>\n",
       "      <td>Petrol</td>\n",
       "      <td>4.8</td>\n",
       "      <td>4</td>\n",
       "      <td>321000.0</td>\n",
       "      <td>341000.0</td>\n",
       "      <td>Bentley</td>\n",
       "    </tr>\n",
       "    <tr>\n",
       "      <th>158</th>\n",
       "      <td>Ferrari Portofino</td>\n",
       "      <td>3855</td>\n",
       "      <td>9</td>\n",
       "      <td>Petrol</td>\n",
       "      <td>4.1</td>\n",
       "      <td>9</td>\n",
       "      <td>350000.0</td>\n",
       "      <td>NaN</td>\n",
       "      <td>Ferrari</td>\n",
       "    </tr>\n",
       "    <tr>\n",
       "      <th>175</th>\n",
       "      <td>Land Rover Defender</td>\n",
       "      <td>1997</td>\n",
       "      <td>14</td>\n",
       "      <td>Petrol  Diesel</td>\n",
       "      <td>4.6</td>\n",
       "      <td>16</td>\n",
       "      <td>7657000.0</td>\n",
       "      <td>111000.0</td>\n",
       "      <td>Land</td>\n",
       "    </tr>\n",
       "    <tr>\n",
       "      <th>178</th>\n",
       "      <td>Land Rover Range Rover Sport</td>\n",
       "      <td>1997</td>\n",
       "      <td>13</td>\n",
       "      <td>Petrol  Diesel</td>\n",
       "      <td>4.6</td>\n",
       "      <td>33</td>\n",
       "      <td>9127000.0</td>\n",
       "      <td>184000.0</td>\n",
       "      <td>Land</td>\n",
       "    </tr>\n",
       "    <tr>\n",
       "      <th>96</th>\n",
       "      <td>Mercedes-Benz E-Class</td>\n",
       "      <td>2925</td>\n",
       "      <td>16</td>\n",
       "      <td>Petrol  Diesel</td>\n",
       "      <td>4.4</td>\n",
       "      <td>7</td>\n",
       "      <td>6360000.0</td>\n",
       "      <td>8090000.0</td>\n",
       "      <td>Mercedes</td>\n",
       "    </tr>\n",
       "    <tr>\n",
       "      <th>42</th>\n",
       "      <td>Tata Nexon EV</td>\n",
       "      <td>NaN</td>\n",
       "      <td>NaN</td>\n",
       "      <td>Electric</td>\n",
       "      <td>4.2</td>\n",
       "      <td>51</td>\n",
       "      <td>1399000.0</td>\n",
       "      <td>1656000.0</td>\n",
       "      <td>Tata</td>\n",
       "    </tr>\n",
       "    <tr>\n",
       "      <th>116</th>\n",
       "      <td>Volvo S60</td>\n",
       "      <td>1969</td>\n",
       "      <td>NaN</td>\n",
       "      <td>Petrol</td>\n",
       "      <td>4.7</td>\n",
       "      <td>4</td>\n",
       "      <td>4590000.0</td>\n",
       "      <td>NaN</td>\n",
       "      <td>Volvo</td>\n",
       "    </tr>\n",
       "    <tr>\n",
       "      <th>58</th>\n",
       "      <td>Hyundai Grand i10 Nios</td>\n",
       "      <td>1186</td>\n",
       "      <td>26</td>\n",
       "      <td>Petrol  Diesel  CNG</td>\n",
       "      <td>4.2</td>\n",
       "      <td>288</td>\n",
       "      <td>523000.0</td>\n",
       "      <td>845000.0</td>\n",
       "      <td>Hyundai</td>\n",
       "    </tr>\n",
       "    <tr>\n",
       "      <th>147</th>\n",
       "      <td>Jaguar XF</td>\n",
       "      <td>1997</td>\n",
       "      <td>11</td>\n",
       "      <td>Petrol</td>\n",
       "      <td>4.3</td>\n",
       "      <td>31</td>\n",
       "      <td>5567000.0</td>\n",
       "      <td>NaN</td>\n",
       "      <td>Jaguar</td>\n",
       "    </tr>\n",
       "    <tr>\n",
       "      <th>60</th>\n",
       "      <td>Toyota Innova Crysta</td>\n",
       "      <td>2694</td>\n",
       "      <td>NaN</td>\n",
       "      <td>Petrol  Diesel</td>\n",
       "      <td>4.4</td>\n",
       "      <td>117</td>\n",
       "      <td>1652000.0</td>\n",
       "      <td>2459000.0</td>\n",
       "      <td>Toyota</td>\n",
       "    </tr>\n",
       "    <tr>\n",
       "      <th>9</th>\n",
       "      <td>Maruti Suzuki S-Cross</td>\n",
       "      <td>1462</td>\n",
       "      <td>18</td>\n",
       "      <td>Petrol</td>\n",
       "      <td>4.2</td>\n",
       "      <td>92</td>\n",
       "      <td>839000.0</td>\n",
       "      <td>1239000.0</td>\n",
       "      <td>Maruti</td>\n",
       "    </tr>\n",
       "    <tr>\n",
       "      <th>7</th>\n",
       "      <td>Maruti Suzuki Celerio</td>\n",
       "      <td>998</td>\n",
       "      <td>22</td>\n",
       "      <td>Petrol  CNG</td>\n",
       "      <td>3.9</td>\n",
       "      <td>975</td>\n",
       "      <td>465000.0</td>\n",
       "      <td>590000.0</td>\n",
       "      <td>Maruti</td>\n",
       "    </tr>\n",
       "    <tr>\n",
       "      <th>28</th>\n",
       "      <td>Mahindra Alturas G4</td>\n",
       "      <td>2157</td>\n",
       "      <td>12</td>\n",
       "      <td>Diesel</td>\n",
       "      <td>4.2</td>\n",
       "      <td>73</td>\n",
       "      <td>2873000.0</td>\n",
       "      <td>3173000.0</td>\n",
       "      <td>Mahindra</td>\n",
       "    </tr>\n",
       "    <tr>\n",
       "      <th>179</th>\n",
       "      <td>Bentley Bentayga</td>\n",
       "      <td>3956</td>\n",
       "      <td>NaN</td>\n",
       "      <td>Petrol</td>\n",
       "      <td>5</td>\n",
       "      <td>1</td>\n",
       "      <td>410000.0</td>\n",
       "      <td>NaN</td>\n",
       "      <td>Bentley</td>\n",
       "    </tr>\n",
       "    <tr>\n",
       "      <th>21</th>\n",
       "      <td>Mahindra Thar</td>\n",
       "      <td>1997</td>\n",
       "      <td>15</td>\n",
       "      <td>Petrol  Diesel</td>\n",
       "      <td>4.3</td>\n",
       "      <td>117</td>\n",
       "      <td>1211000.0</td>\n",
       "      <td>1416000.0</td>\n",
       "      <td>Mahindra</td>\n",
       "    </tr>\n",
       "  </tbody>\n",
       "</table>\n",
       "</div>"
      ],
      "text/plain": [
       "                         Car Name     CC Milage in kmpl             Fuel Type  \\\n",
       "73                   Renault KWID   799             22                 Petrol   \n",
       "127              Rolls Royce Dawn  6598             10                 Petrol   \n",
       "160                   Ferrari 812  6496             NaN                Petrol   \n",
       "59                Toyota Fortuner  2694             NaN        Petrol  Diesel   \n",
       "50                  Hyundai Venue   998             24         Petrol  Diesel   \n",
       "181           Bentley Flying Spur  5950             13                 Petrol   \n",
       "158             Ferrari Portofino  3855              9                 Petrol   \n",
       "175           Land Rover Defender  1997             14         Petrol  Diesel   \n",
       "178  Land Rover Range Rover Sport  1997             13         Petrol  Diesel   \n",
       "96          Mercedes-Benz E-Class  2925             16         Petrol  Diesel   \n",
       "42                  Tata Nexon EV    NaN            NaN              Electric   \n",
       "116                     Volvo S60  1969             NaN                Petrol   \n",
       "58         Hyundai Grand i10 Nios  1186             26    Petrol  Diesel  CNG   \n",
       "147                     Jaguar XF  1997             11                 Petrol   \n",
       "60           Toyota Innova Crysta  2694             NaN        Petrol  Diesel   \n",
       "9           Maruti Suzuki S-Cross  1462             18                 Petrol   \n",
       "7           Maruti Suzuki Celerio   998             22            Petrol  CNG   \n",
       "28            Mahindra Alturas G4  2157             12                 Diesel   \n",
       "179              Bentley Bentayga  3956             NaN                Petrol   \n",
       "21                  Mahindra Thar  1997             15         Petrol  Diesel   \n",
       "\n",
       "    Ratings Rated By  Base Model Price  Top Model Price     Brand  \n",
       "73      3.8      716          332000.0         548000.0   Renault  \n",
       "127     4.7       19          730000.0         785000.0     Rolls  \n",
       "160     4.2        2          575000.0              NaN   Ferrari  \n",
       "59      4.3       87         3034000.0        3830000.0    Toyota  \n",
       "50      4.2      661          692000.0        1176000.0   Hyundai  \n",
       "181     4.8        4          321000.0         341000.0   Bentley  \n",
       "158     4.1        9          350000.0              NaN   Ferrari  \n",
       "175     4.6       16         7657000.0         111000.0      Land  \n",
       "178     4.6       33         9127000.0         184000.0      Land  \n",
       "96      4.4        7         6360000.0        8090000.0  Mercedes  \n",
       "42      4.2       51         1399000.0        1656000.0      Tata  \n",
       "116     4.7        4         4590000.0              NaN     Volvo  \n",
       "58      4.2      288          523000.0         845000.0   Hyundai  \n",
       "147     4.3       31         5567000.0              NaN    Jaguar  \n",
       "60      4.4      117         1652000.0        2459000.0    Toyota  \n",
       "9       4.2       92          839000.0        1239000.0    Maruti  \n",
       "7       3.9      975          465000.0         590000.0    Maruti  \n",
       "28      4.2       73         2873000.0        3173000.0  Mahindra  \n",
       "179       5        1          410000.0              NaN   Bentley  \n",
       "21      4.3      117         1211000.0        1416000.0  Mahindra  "
      ]
     },
     "execution_count": 860,
     "metadata": {},
     "output_type": "execute_result"
    }
   ],
   "source": [
    "data.sample(20)"
   ]
  },
  {
   "cell_type": "code",
   "execution_count": 861,
   "id": "b41723d3",
   "metadata": {},
   "outputs": [],
   "source": [
    "data=data[['Brand','Car Name', 'CC', 'Milage in kmpl','Fuel Type', 'Ratings', 'Rated By', 'Base Model Price','Top Model Price']]"
   ]
  },
  {
   "cell_type": "code",
   "execution_count": 862,
   "id": "b03b75df",
   "metadata": {},
   "outputs": [
    {
     "data": {
      "text/html": [
       "<div>\n",
       "<style scoped>\n",
       "    .dataframe tbody tr th:only-of-type {\n",
       "        vertical-align: middle;\n",
       "    }\n",
       "\n",
       "    .dataframe tbody tr th {\n",
       "        vertical-align: top;\n",
       "    }\n",
       "\n",
       "    .dataframe thead th {\n",
       "        text-align: right;\n",
       "    }\n",
       "</style>\n",
       "<table border=\"1\" class=\"dataframe\">\n",
       "  <thead>\n",
       "    <tr style=\"text-align: right;\">\n",
       "      <th></th>\n",
       "      <th>Brand</th>\n",
       "      <th>Car Name</th>\n",
       "      <th>CC</th>\n",
       "      <th>Milage in kmpl</th>\n",
       "      <th>Fuel Type</th>\n",
       "      <th>Ratings</th>\n",
       "      <th>Rated By</th>\n",
       "      <th>Base Model Price</th>\n",
       "      <th>Top Model Price</th>\n",
       "    </tr>\n",
       "  </thead>\n",
       "  <tbody>\n",
       "    <tr>\n",
       "      <th>14</th>\n",
       "      <td>Maruti</td>\n",
       "      <td>Maruti Suzuki Celerio X</td>\n",
       "      <td>998</td>\n",
       "      <td>22</td>\n",
       "      <td>Petrol</td>\n",
       "      <td>3.9</td>\n",
       "      <td>166</td>\n",
       "      <td>511000.0</td>\n",
       "      <td>591000.0</td>\n",
       "    </tr>\n",
       "    <tr>\n",
       "      <th>164</th>\n",
       "      <td>Maserati</td>\n",
       "      <td>Maserati Quattroporte</td>\n",
       "      <td>2979</td>\n",
       "      <td>12</td>\n",
       "      <td>Petrol  Diesel</td>\n",
       "      <td>4.6</td>\n",
       "      <td>5</td>\n",
       "      <td>171000.0</td>\n",
       "      <td>211000.0</td>\n",
       "    </tr>\n",
       "    <tr>\n",
       "      <th>53</th>\n",
       "      <td>Hyundai</td>\n",
       "      <td>Hyundai Santro</td>\n",
       "      <td>1086</td>\n",
       "      <td>20</td>\n",
       "      <td>Petrol  CNG</td>\n",
       "      <td>3.9</td>\n",
       "      <td>1176</td>\n",
       "      <td>473000.0</td>\n",
       "      <td>641000.0</td>\n",
       "    </tr>\n",
       "    <tr>\n",
       "      <th>23</th>\n",
       "      <td>Mahindra</td>\n",
       "      <td>Mahindra Bolero</td>\n",
       "      <td>1498</td>\n",
       "      <td>16</td>\n",
       "      <td>Diesel</td>\n",
       "      <td>3.9</td>\n",
       "      <td>262</td>\n",
       "      <td>840000.0</td>\n",
       "      <td>939000.0</td>\n",
       "    </tr>\n",
       "    <tr>\n",
       "      <th>155</th>\n",
       "      <td>Porsche</td>\n",
       "      <td>Porsche Cayenne</td>\n",
       "      <td>2995</td>\n",
       "      <td>NaN</td>\n",
       "      <td>Petrol</td>\n",
       "      <td>4.5</td>\n",
       "      <td>14</td>\n",
       "      <td>120000.0</td>\n",
       "      <td>192000.0</td>\n",
       "    </tr>\n",
       "    <tr>\n",
       "      <th>35</th>\n",
       "      <td>Tata</td>\n",
       "      <td>Tata Harrier</td>\n",
       "      <td>1956</td>\n",
       "      <td>17</td>\n",
       "      <td>Diesel</td>\n",
       "      <td>4.5</td>\n",
       "      <td>332</td>\n",
       "      <td>1429000.0</td>\n",
       "      <td>2081000.0</td>\n",
       "    </tr>\n",
       "    <tr>\n",
       "      <th>96</th>\n",
       "      <td>Mercedes</td>\n",
       "      <td>Mercedes-Benz E-Class</td>\n",
       "      <td>2925</td>\n",
       "      <td>16</td>\n",
       "      <td>Petrol  Diesel</td>\n",
       "      <td>4.4</td>\n",
       "      <td>7</td>\n",
       "      <td>6360000.0</td>\n",
       "      <td>8090000.0</td>\n",
       "    </tr>\n",
       "    <tr>\n",
       "      <th>128</th>\n",
       "      <td>Audi</td>\n",
       "      <td>Audi A6</td>\n",
       "      <td>1984</td>\n",
       "      <td>14</td>\n",
       "      <td>Petrol</td>\n",
       "      <td>4.2</td>\n",
       "      <td>41</td>\n",
       "      <td>5708000.0</td>\n",
       "      <td>6181000.0</td>\n",
       "    </tr>\n",
       "    <tr>\n",
       "      <th>179</th>\n",
       "      <td>Bentley</td>\n",
       "      <td>Bentley Bentayga</td>\n",
       "      <td>3956</td>\n",
       "      <td>NaN</td>\n",
       "      <td>Petrol</td>\n",
       "      <td>5</td>\n",
       "      <td>1</td>\n",
       "      <td>410000.0</td>\n",
       "      <td>NaN</td>\n",
       "    </tr>\n",
       "    <tr>\n",
       "      <th>26</th>\n",
       "      <td>Mahindra</td>\n",
       "      <td>Mahindra Marazzo</td>\n",
       "      <td>1497</td>\n",
       "      <td>17</td>\n",
       "      <td>Diesel</td>\n",
       "      <td>4.3</td>\n",
       "      <td>179</td>\n",
       "      <td>1203000.0</td>\n",
       "      <td>1412000.0</td>\n",
       "    </tr>\n",
       "    <tr>\n",
       "      <th>136</th>\n",
       "      <td>Audi</td>\n",
       "      <td>Audi S5 Sportback</td>\n",
       "      <td>2994</td>\n",
       "      <td>NaN</td>\n",
       "      <td>Petrol</td>\n",
       "      <td>NaN</td>\n",
       "      <td>NaN</td>\n",
       "      <td>8049000.0</td>\n",
       "      <td>NaN</td>\n",
       "    </tr>\n",
       "    <tr>\n",
       "      <th>181</th>\n",
       "      <td>Bentley</td>\n",
       "      <td>Bentley Flying Spur</td>\n",
       "      <td>5950</td>\n",
       "      <td>13</td>\n",
       "      <td>Petrol</td>\n",
       "      <td>4.8</td>\n",
       "      <td>4</td>\n",
       "      <td>321000.0</td>\n",
       "      <td>341000.0</td>\n",
       "    </tr>\n",
       "    <tr>\n",
       "      <th>165</th>\n",
       "      <td>Maserati</td>\n",
       "      <td>Maserati GranTurismo</td>\n",
       "      <td>4691</td>\n",
       "      <td>10</td>\n",
       "      <td>Petrol  Diesel</td>\n",
       "      <td>4.5</td>\n",
       "      <td>4</td>\n",
       "      <td>225000.0</td>\n",
       "      <td>251000.0</td>\n",
       "    </tr>\n",
       "    <tr>\n",
       "      <th>57</th>\n",
       "      <td>Hyundai</td>\n",
       "      <td>Hyundai Xcent Prime</td>\n",
       "      <td>1197</td>\n",
       "      <td>15</td>\n",
       "      <td>Petrol  CNG</td>\n",
       "      <td>4.2</td>\n",
       "      <td>6</td>\n",
       "      <td>639000.0</td>\n",
       "      <td>719000.0</td>\n",
       "    </tr>\n",
       "    <tr>\n",
       "      <th>139</th>\n",
       "      <td>Skoda</td>\n",
       "      <td>Skoda New Superb</td>\n",
       "      <td>1984</td>\n",
       "      <td>15</td>\n",
       "      <td>Petrol</td>\n",
       "      <td>4.4</td>\n",
       "      <td>11</td>\n",
       "      <td>3199000.0</td>\n",
       "      <td>3499000.0</td>\n",
       "    </tr>\n",
       "    <tr>\n",
       "      <th>62</th>\n",
       "      <td>Toyota</td>\n",
       "      <td>Toyota Yaris</td>\n",
       "      <td>1496</td>\n",
       "      <td>18</td>\n",
       "      <td>Petrol</td>\n",
       "      <td>4.1</td>\n",
       "      <td>98</td>\n",
       "      <td>916000.0</td>\n",
       "      <td>1460000.0</td>\n",
       "    </tr>\n",
       "    <tr>\n",
       "      <th>92</th>\n",
       "      <td>BMW</td>\n",
       "      <td>BMW X5 M</td>\n",
       "      <td>4395</td>\n",
       "      <td>8</td>\n",
       "      <td>Petrol</td>\n",
       "      <td>4.5</td>\n",
       "      <td>2</td>\n",
       "      <td>194000.0</td>\n",
       "      <td>NaN</td>\n",
       "    </tr>\n",
       "    <tr>\n",
       "      <th>42</th>\n",
       "      <td>Tata</td>\n",
       "      <td>Tata Nexon EV</td>\n",
       "      <td>NaN</td>\n",
       "      <td>NaN</td>\n",
       "      <td>Electric</td>\n",
       "      <td>4.2</td>\n",
       "      <td>51</td>\n",
       "      <td>1399000.0</td>\n",
       "      <td>1656000.0</td>\n",
       "    </tr>\n",
       "    <tr>\n",
       "      <th>188</th>\n",
       "      <td>Citroen</td>\n",
       "      <td>Citroen C5 Aircross</td>\n",
       "      <td>1997</td>\n",
       "      <td>19</td>\n",
       "      <td>Diesel</td>\n",
       "      <td>4</td>\n",
       "      <td>4</td>\n",
       "      <td>2990000.0</td>\n",
       "      <td>3190000.0</td>\n",
       "    </tr>\n",
       "    <tr>\n",
       "      <th>86</th>\n",
       "      <td>BMW</td>\n",
       "      <td>BMW X4</td>\n",
       "      <td>1995</td>\n",
       "      <td>17</td>\n",
       "      <td>Petrol  Diesel</td>\n",
       "      <td>4.1</td>\n",
       "      <td>11</td>\n",
       "      <td>6240000.0</td>\n",
       "      <td>6960000.0</td>\n",
       "    </tr>\n",
       "  </tbody>\n",
       "</table>\n",
       "</div>"
      ],
      "text/plain": [
       "        Brand                 Car Name     CC Milage in kmpl        Fuel Type  \\\n",
       "14     Maruti  Maruti Suzuki Celerio X   998             22            Petrol   \n",
       "164  Maserati    Maserati Quattroporte  2979             12    Petrol  Diesel   \n",
       "53    Hyundai           Hyundai Santro  1086             20       Petrol  CNG   \n",
       "23   Mahindra          Mahindra Bolero  1498             16            Diesel   \n",
       "155   Porsche          Porsche Cayenne  2995             NaN           Petrol   \n",
       "35       Tata             Tata Harrier  1956             17            Diesel   \n",
       "96   Mercedes    Mercedes-Benz E-Class  2925             16    Petrol  Diesel   \n",
       "128      Audi                  Audi A6  1984             14            Petrol   \n",
       "179   Bentley         Bentley Bentayga  3956             NaN           Petrol   \n",
       "26   Mahindra         Mahindra Marazzo  1497             17            Diesel   \n",
       "136      Audi        Audi S5 Sportback  2994             NaN           Petrol   \n",
       "181   Bentley      Bentley Flying Spur  5950             13            Petrol   \n",
       "165  Maserati     Maserati GranTurismo  4691             10    Petrol  Diesel   \n",
       "57    Hyundai      Hyundai Xcent Prime  1197             15       Petrol  CNG   \n",
       "139     Skoda         Skoda New Superb  1984             15            Petrol   \n",
       "62     Toyota             Toyota Yaris  1496             18            Petrol   \n",
       "92        BMW                 BMW X5 M  4395              8            Petrol   \n",
       "42       Tata            Tata Nexon EV    NaN            NaN         Electric   \n",
       "188   Citroen      Citroen C5 Aircross  1997             19            Diesel   \n",
       "86        BMW                   BMW X4  1995             17    Petrol  Diesel   \n",
       "\n",
       "    Ratings Rated By  Base Model Price  Top Model Price  \n",
       "14      3.9      166          511000.0         591000.0  \n",
       "164     4.6        5          171000.0         211000.0  \n",
       "53      3.9     1176          473000.0         641000.0  \n",
       "23      3.9      262          840000.0         939000.0  \n",
       "155     4.5       14          120000.0         192000.0  \n",
       "35      4.5      332         1429000.0        2081000.0  \n",
       "96      4.4        7         6360000.0        8090000.0  \n",
       "128     4.2       41         5708000.0        6181000.0  \n",
       "179       5        1          410000.0              NaN  \n",
       "26      4.3      179         1203000.0        1412000.0  \n",
       "136     NaN      NaN         8049000.0              NaN  \n",
       "181     4.8        4          321000.0         341000.0  \n",
       "165     4.5        4          225000.0         251000.0  \n",
       "57      4.2        6          639000.0         719000.0  \n",
       "139     4.4       11         3199000.0        3499000.0  \n",
       "62      4.1       98          916000.0        1460000.0  \n",
       "92      4.5        2          194000.0              NaN  \n",
       "42      4.2       51         1399000.0        1656000.0  \n",
       "188       4        4         2990000.0        3190000.0  \n",
       "86      4.1       11         6240000.0        6960000.0  "
      ]
     },
     "execution_count": 862,
     "metadata": {},
     "output_type": "execute_result"
    }
   ],
   "source": [
    "data.sample(20)"
   ]
  },
  {
   "cell_type": "code",
   "execution_count": null,
   "id": "2f86cbb5",
   "metadata": {},
   "outputs": [],
   "source": []
  },
  {
   "cell_type": "markdown",
   "id": "e87d88cf",
   "metadata": {},
   "source": [
    "## - Model"
   ]
  },
  {
   "cell_type": "code",
   "execution_count": 863,
   "id": "a70641ec",
   "metadata": {},
   "outputs": [],
   "source": [
    "data['Car Name']=data['Car Name'].astype('str')  # convert to string\n",
    "regx=r'\\s[0-9\\sa-zA-Z-]+'\n",
    "pregx=re.compile(regx)\n",
    "\n",
    "data['Model']=data['Car Name'].apply(lambda x:np.NaN if pregx.search(x) is None else pregx.search(x).group())"
   ]
  },
  {
   "cell_type": "code",
   "execution_count": 864,
   "id": "1b196c04",
   "metadata": {},
   "outputs": [
    {
     "data": {
      "text/html": [
       "<div>\n",
       "<style scoped>\n",
       "    .dataframe tbody tr th:only-of-type {\n",
       "        vertical-align: middle;\n",
       "    }\n",
       "\n",
       "    .dataframe tbody tr th {\n",
       "        vertical-align: top;\n",
       "    }\n",
       "\n",
       "    .dataframe thead th {\n",
       "        text-align: right;\n",
       "    }\n",
       "</style>\n",
       "<table border=\"1\" class=\"dataframe\">\n",
       "  <thead>\n",
       "    <tr style=\"text-align: right;\">\n",
       "      <th></th>\n",
       "      <th>Brand</th>\n",
       "      <th>Car Name</th>\n",
       "      <th>CC</th>\n",
       "      <th>Milage in kmpl</th>\n",
       "      <th>Fuel Type</th>\n",
       "      <th>Ratings</th>\n",
       "      <th>Rated By</th>\n",
       "      <th>Base Model Price</th>\n",
       "      <th>Top Model Price</th>\n",
       "      <th>Model</th>\n",
       "    </tr>\n",
       "  </thead>\n",
       "  <tbody>\n",
       "    <tr>\n",
       "      <th>48</th>\n",
       "      <td>Hyundai</td>\n",
       "      <td>Hyundai Creta</td>\n",
       "      <td>1497</td>\n",
       "      <td>21</td>\n",
       "      <td>Petrol  Diesel</td>\n",
       "      <td>4.3</td>\n",
       "      <td>635</td>\n",
       "      <td>999000.0</td>\n",
       "      <td>1770000.0</td>\n",
       "      <td>Creta</td>\n",
       "    </tr>\n",
       "    <tr>\n",
       "      <th>49</th>\n",
       "      <td>Hyundai</td>\n",
       "      <td>Hyundai i20</td>\n",
       "      <td>1197</td>\n",
       "      <td>25</td>\n",
       "      <td>Petrol  Diesel</td>\n",
       "      <td>4.2</td>\n",
       "      <td>486</td>\n",
       "      <td>685000.0</td>\n",
       "      <td>1134000.0</td>\n",
       "      <td>i20</td>\n",
       "    </tr>\n",
       "    <tr>\n",
       "      <th>50</th>\n",
       "      <td>Hyundai</td>\n",
       "      <td>Hyundai Venue</td>\n",
       "      <td>998</td>\n",
       "      <td>24</td>\n",
       "      <td>Petrol  Diesel</td>\n",
       "      <td>4.2</td>\n",
       "      <td>661</td>\n",
       "      <td>692000.0</td>\n",
       "      <td>1176000.0</td>\n",
       "      <td>Venue</td>\n",
       "    </tr>\n",
       "    <tr>\n",
       "      <th>51</th>\n",
       "      <td>Hyundai</td>\n",
       "      <td>Hyundai Verna</td>\n",
       "      <td>1497</td>\n",
       "      <td>25</td>\n",
       "      <td>Petrol  Diesel</td>\n",
       "      <td>4.3</td>\n",
       "      <td>551</td>\n",
       "      <td>919000.0</td>\n",
       "      <td>1525000.0</td>\n",
       "      <td>Verna</td>\n",
       "    </tr>\n",
       "    <tr>\n",
       "      <th>52</th>\n",
       "      <td>Hyundai</td>\n",
       "      <td>Hyundai Aura</td>\n",
       "      <td>1197</td>\n",
       "      <td>25</td>\n",
       "      <td>Petrol  Diesel  CNG</td>\n",
       "      <td>4.3</td>\n",
       "      <td>133</td>\n",
       "      <td>597000.0</td>\n",
       "      <td>935000.0</td>\n",
       "      <td>Aura</td>\n",
       "    </tr>\n",
       "    <tr>\n",
       "      <th>53</th>\n",
       "      <td>Hyundai</td>\n",
       "      <td>Hyundai Santro</td>\n",
       "      <td>1086</td>\n",
       "      <td>20</td>\n",
       "      <td>Petrol  CNG</td>\n",
       "      <td>3.9</td>\n",
       "      <td>1176</td>\n",
       "      <td>473000.0</td>\n",
       "      <td>641000.0</td>\n",
       "      <td>Santro</td>\n",
       "    </tr>\n",
       "    <tr>\n",
       "      <th>54</th>\n",
       "      <td>Hyundai</td>\n",
       "      <td>Hyundai Elantra</td>\n",
       "      <td>1493</td>\n",
       "      <td>15</td>\n",
       "      <td>Petrol  Diesel</td>\n",
       "      <td>4.2</td>\n",
       "      <td>89</td>\n",
       "      <td>1785000.0</td>\n",
       "      <td>2112000.0</td>\n",
       "      <td>Elantra</td>\n",
       "    </tr>\n",
       "    <tr>\n",
       "      <th>55</th>\n",
       "      <td>Hyundai</td>\n",
       "      <td>Hyundai Tucson</td>\n",
       "      <td>1999</td>\n",
       "      <td>15</td>\n",
       "      <td>Petrol  Diesel</td>\n",
       "      <td>4.3</td>\n",
       "      <td>11</td>\n",
       "      <td>2257000.0</td>\n",
       "      <td>2735000.0</td>\n",
       "      <td>Tucson</td>\n",
       "    </tr>\n",
       "    <tr>\n",
       "      <th>56</th>\n",
       "      <td>Hyundai</td>\n",
       "      <td>Hyundai Kona Electric</td>\n",
       "      <td>NaN</td>\n",
       "      <td>NaN</td>\n",
       "      <td>NaN</td>\n",
       "      <td>4.3</td>\n",
       "      <td>27</td>\n",
       "      <td>2377000.0</td>\n",
       "      <td>2396000.0</td>\n",
       "      <td>Kona Electric</td>\n",
       "    </tr>\n",
       "    <tr>\n",
       "      <th>57</th>\n",
       "      <td>Hyundai</td>\n",
       "      <td>Hyundai Xcent Prime</td>\n",
       "      <td>1197</td>\n",
       "      <td>15</td>\n",
       "      <td>Petrol  CNG</td>\n",
       "      <td>4.2</td>\n",
       "      <td>6</td>\n",
       "      <td>639000.0</td>\n",
       "      <td>719000.0</td>\n",
       "      <td>Xcent Prime</td>\n",
       "    </tr>\n",
       "    <tr>\n",
       "      <th>58</th>\n",
       "      <td>Hyundai</td>\n",
       "      <td>Hyundai Grand i10 Nios</td>\n",
       "      <td>1186</td>\n",
       "      <td>26</td>\n",
       "      <td>Petrol  Diesel  CNG</td>\n",
       "      <td>4.2</td>\n",
       "      <td>288</td>\n",
       "      <td>523000.0</td>\n",
       "      <td>845000.0</td>\n",
       "      <td>Grand i10 Nios</td>\n",
       "    </tr>\n",
       "  </tbody>\n",
       "</table>\n",
       "</div>"
      ],
      "text/plain": [
       "      Brand                Car Name     CC Milage in kmpl  \\\n",
       "48  Hyundai           Hyundai Creta  1497             21    \n",
       "49  Hyundai             Hyundai i20  1197             25    \n",
       "50  Hyundai           Hyundai Venue   998             24    \n",
       "51  Hyundai           Hyundai Verna  1497             25    \n",
       "52  Hyundai            Hyundai Aura  1197             25    \n",
       "53  Hyundai          Hyundai Santro  1086             20    \n",
       "54  Hyundai         Hyundai Elantra  1493             15    \n",
       "55  Hyundai          Hyundai Tucson  1999             15    \n",
       "56  Hyundai   Hyundai Kona Electric    NaN            NaN   \n",
       "57  Hyundai     Hyundai Xcent Prime  1197             15    \n",
       "58  Hyundai  Hyundai Grand i10 Nios  1186             26    \n",
       "\n",
       "               Fuel Type Ratings Rated By  Base Model Price  Top Model Price  \\\n",
       "48        Petrol  Diesel     4.3      635          999000.0        1770000.0   \n",
       "49        Petrol  Diesel     4.2      486          685000.0        1134000.0   \n",
       "50        Petrol  Diesel     4.2      661          692000.0        1176000.0   \n",
       "51        Petrol  Diesel     4.3      551          919000.0        1525000.0   \n",
       "52   Petrol  Diesel  CNG     4.3      133          597000.0         935000.0   \n",
       "53           Petrol  CNG     3.9     1176          473000.0         641000.0   \n",
       "54        Petrol  Diesel     4.2       89         1785000.0        2112000.0   \n",
       "55        Petrol  Diesel     4.3       11         2257000.0        2735000.0   \n",
       "56                   NaN     4.3       27         2377000.0        2396000.0   \n",
       "57           Petrol  CNG     4.2        6          639000.0         719000.0   \n",
       "58   Petrol  Diesel  CNG     4.2      288          523000.0         845000.0   \n",
       "\n",
       "              Model  \n",
       "48            Creta  \n",
       "49              i20  \n",
       "50            Venue  \n",
       "51            Verna  \n",
       "52             Aura  \n",
       "53           Santro  \n",
       "54          Elantra  \n",
       "55           Tucson  \n",
       "56    Kona Electric  \n",
       "57      Xcent Prime  \n",
       "58   Grand i10 Nios  "
      ]
     },
     "execution_count": 864,
     "metadata": {},
     "output_type": "execute_result"
    }
   ],
   "source": [
    "data[data['Brand']=='Hyundai']"
   ]
  },
  {
   "cell_type": "code",
   "execution_count": 865,
   "id": "8b520beb",
   "metadata": {},
   "outputs": [
    {
     "data": {
      "text/plain": [
       "Mercedes       17\n",
       "BMW            17\n",
       "Maruti         16\n",
       "Hyundai        11\n",
       "Mahindra       10\n",
       "Audi            9\n",
       "Tata            9\n",
       "Land            7\n",
       "Toyota          7\n",
       "Lexus           6\n",
       "Porsche         6\n",
       "Volvo           6\n",
       "Honda           5\n",
       "Maserati        5\n",
       "Ford            5\n",
       "Rolls           5\n",
       "Ferrari         5\n",
       "Jaguar          5\n",
       "Renault         4\n",
       "Volkswagen      4\n",
       "Kia             3\n",
       "Aston           3\n",
       "Datsun          3\n",
       "Jeep            3\n",
       "Lamborghini     3\n",
       "Nissan          3\n",
       "Bentley         3\n",
       "MINI            3\n",
       "Skoda           3\n",
       "ISUZU           2\n",
       "Citroen         1\n",
       "Name: Brand, dtype: int64"
      ]
     },
     "execution_count": 865,
     "metadata": {},
     "output_type": "execute_result"
    }
   ],
   "source": [
    "data['Brand'].value_counts()"
   ]
  },
  {
   "cell_type": "code",
   "execution_count": 868,
   "id": "61fd0634",
   "metadata": {},
   "outputs": [],
   "source": [
    "data.to_csv('Zigwheels_cars_data_cleaned.csv',index=0)"
   ]
  },
  {
   "cell_type": "markdown",
   "id": "82d48c46",
   "metadata": {},
   "source": [
    "## `Cars Completed`"
   ]
  },
  {
   "cell_type": "markdown",
   "id": "99a8c662",
   "metadata": {},
   "source": [
    "# ` Bikes` Petrol | Electric"
   ]
  },
  {
   "cell_type": "code",
   "execution_count": 866,
   "id": "6ce5c4f4",
   "metadata": {},
   "outputs": [
    {
     "name": "stdout",
     "output_type": "stream",
     "text": [
      "Scrapped Status = 200 and Scrapped Time = 0.46688008308410645\n",
      "Scrapped Status = 200 and Scrapped Time = 0.33154749870300293\n",
      "Scrapped Status = 200 and Scrapped Time = 0.29338788986206055\n",
      "Scrapped Status = 200 and Scrapped Time = 0.29833197593688965\n",
      "Scrapped Status = 200 and Scrapped Time = 0.35024213790893555\n",
      "Scrapped Status = 200 and Scrapped Time = 0.27053380012512207\n",
      "Scrapped Status = 200 and Scrapped Time = 0.289287805557251\n",
      "Scrapped Status = 200 and Scrapped Time = 0.660290002822876\n",
      "Scrapped Status = 200 and Scrapped Time = 0.2647209167480469\n",
      "Scrapped Status = 200 and Scrapped Time = 0.3360786437988281\n",
      "Scrapped Status = 200 and Scrapped Time = 0.2935817241668701\n",
      "Scrapped Status = 200 and Scrapped Time = 0.2574918270111084\n",
      "Scrapped Status = 200 and Scrapped Time = 0.2502760887145996\n",
      "Scrapped Status = 200 and Scrapped Time = 0.30506038665771484\n",
      "Scrapped Status = 200 and Scrapped Time = 0.3806636333465576\n",
      "Scrapped Status = 200 and Scrapped Time = 0.27446889877319336\n",
      "Scrapped Status = 200 and Scrapped Time = 0.31269383430480957\n",
      "Scrapped Status = 200 and Scrapped Time = 0.5898802280426025\n",
      "Scrapped Status = 200 and Scrapped Time = 0.26918864250183105\n",
      "Scrapped Status = 200 and Scrapped Time = 0.277437686920166\n",
      "Scrapped Status = 200 and Scrapped Time = 0.2634456157684326\n",
      "Scrapped Status = 200 and Scrapped Time = 0.22426652908325195\n",
      "Scrapped Status = 200 and Scrapped Time = 0.23423290252685547\n",
      "Scrapped Status = 200 and Scrapped Time = 0.2872886657714844\n",
      "Scrapped Status = 200 and Scrapped Time = 0.27756834030151367\n",
      "Scrapped Status = 200 and Scrapped Time = 0.2945265769958496\n",
      "Scrapped Status = 200 and Scrapped Time = 0.24095797538757324\n",
      "Scrapped Status = 200 and Scrapped Time = 0.28075432777404785\n",
      "Scrapped Status = 200 and Scrapped Time = 0.23821187019348145\n",
      "Scrapped Status = 200 and Scrapped Time = 0.2866978645324707\n",
      "Scrapped Status = 200 and Scrapped Time = 0.5247275829315186\n",
      "Scrapped Status = 200 and Scrapped Time = 0.2497110366821289\n",
      "Scrapped Status = 200 and Scrapped Time = 0.23497819900512695\n"
     ]
    }
   ],
   "source": [
    "bike_name=[]\n",
    "bike_cost=[]\n",
    "bike_spec=[]\n",
    "bike_rate=[]\n",
    "bike_list=['22Kymco','Royal-Enfield','Honda','Bajaj','KTM','Revolt-Motors','TVS','Hero-Moto-Corp','Yamaha','Jawa-Motorcycles',\n",
    "           'Suzuki','CFMoto','Hero-Electric','Vespa','Harley-Davidson','Triumph','BMW','Aprilia','Mahindra','Kawasaki','Ducati',\n",
    "            'Moto-Guzzi','Benelli','Husqvarna','Indian','White-Carbon-Motors','Simple-Energy','Norton','Lohia','Lambretta','YObykes',\n",
    "           'Okinawa','Li~ions-Elektrik-Solutions'\n",
    "          ]\n",
    "for i in bike_list:\n",
    "    start_time=time.time()\n",
    "    url=f'https://www.zigwheels.com/newbikes/{i}'\n",
    "    page=requests.get(url,headers = {'User-Agent':'Mozilla/5.0'})\n",
    "    content=page.text\n",
    "    soup=BeautifulSoup(content)\n",
    "    \n",
    "    for x in soup.find_all('li',attrs={'class':'col-lg-4 txt-c rel modelItem'}):\n",
    "        pname=x.find('span',attrs={'class':'lnk-hvr fnt-16 b block of-hid h-height'})\n",
    "        pcost=x.find('span',attrs={'class':'b fnt-15'})\n",
    "        rating=x.find('div',attrs={'class':'i-b fnt-12 clr-try'})\n",
    "        spec=x.find('div',attrs={'class':'clr-pry fnt-12 pb-10 h-height lh-18 of-hid'})\n",
    "        rate=x.find('a',attrs={'class':'r-wn w'})\n",
    "        \n",
    "        \n",
    "        if pname is None:\n",
    "            bike_name.append(np.NaN)\n",
    "        else:\n",
    "            bike_name.append(pname.text)\n",
    "            \n",
    "        if pcost is None:\n",
    "            bike_cost.append(np.NaN)\n",
    "        else:\n",
    "            bike_cost.append(pcost.text)\n",
    "        if rate is None:\n",
    "            bike_rate.append(np.NaN)\n",
    "        else:\n",
    "            bike_rate.append(rate.text)\n",
    "            \n",
    "        if spec is None:\n",
    "            bike_sped.append(np.NaN)\n",
    "        else:\n",
    "            bike_spec.append(spec.text)\n",
    "        \n",
    "    end_time=time.time()      \n",
    "    print('Scrapped Status = {} and Scrapped Time = {}'.format(page.status_code,end_time-start_time))\n",
    "    time.sleep(1)\n",
    "        "
   ]
  },
  {
   "cell_type": "code",
   "execution_count": 4,
   "id": "35c0311e",
   "metadata": {},
   "outputs": [
    {
     "data": {
      "text/plain": [
       "213"
      ]
     },
     "execution_count": 4,
     "metadata": {},
     "output_type": "execute_result"
    }
   ],
   "source": [
    "len(bike_name)"
   ]
  },
  {
   "cell_type": "code",
   "execution_count": 5,
   "id": "12982705",
   "metadata": {},
   "outputs": [
    {
     "data": {
      "text/plain": [
       "213"
      ]
     },
     "execution_count": 5,
     "metadata": {},
     "output_type": "execute_result"
    }
   ],
   "source": [
    "len(bike_cost)"
   ]
  },
  {
   "cell_type": "code",
   "execution_count": 6,
   "id": "2674e97a",
   "metadata": {},
   "outputs": [
    {
     "data": {
      "text/plain": [
       "213"
      ]
     },
     "execution_count": 6,
     "metadata": {},
     "output_type": "execute_result"
    }
   ],
   "source": [
    "len(bike_spec)"
   ]
  },
  {
   "cell_type": "code",
   "execution_count": 7,
   "id": "a392c805",
   "metadata": {},
   "outputs": [
    {
     "data": {
      "text/plain": [
       "213"
      ]
     },
     "execution_count": 7,
     "metadata": {},
     "output_type": "execute_result"
    }
   ],
   "source": [
    "len(bike_rate)"
   ]
  },
  {
   "cell_type": "code",
   "execution_count": 8,
   "id": "2d43e0d8",
   "metadata": {},
   "outputs": [],
   "source": [
    "data={'Bike Name':bike_name,'Price':bike_cost,'Specification':bike_spec,'Rating':bike_rate}"
   ]
  },
  {
   "cell_type": "code",
   "execution_count": 9,
   "id": "69afaba1",
   "metadata": {},
   "outputs": [],
   "source": [
    "data_bike=pd.DataFrame(data)"
   ]
  },
  {
   "cell_type": "code",
   "execution_count": 10,
   "id": "6e6d5e42",
   "metadata": {},
   "outputs": [],
   "source": [
    "data_bike.to_csv('Zigwheels_bike.csv',index=False)"
   ]
  },
  {
   "cell_type": "markdown",
   "id": "0802cad4",
   "metadata": {},
   "source": [
    "## Data Cleaning"
   ]
  },
  {
   "cell_type": "code",
   "execution_count": 789,
   "id": "e0699568",
   "metadata": {},
   "outputs": [],
   "source": [
    "data_bike=pd.read_csv('C:\\\\Users\\\\manuj\\\\Innomatics Research labs\\\\My_Notebooks\\\\Zigwheels_bike.csv')"
   ]
  },
  {
   "cell_type": "code",
   "execution_count": 790,
   "id": "ae436928",
   "metadata": {},
   "outputs": [
    {
     "data": {
      "text/html": [
       "<div>\n",
       "<style scoped>\n",
       "    .dataframe tbody tr th:only-of-type {\n",
       "        vertical-align: middle;\n",
       "    }\n",
       "\n",
       "    .dataframe tbody tr th {\n",
       "        vertical-align: top;\n",
       "    }\n",
       "\n",
       "    .dataframe thead th {\n",
       "        text-align: right;\n",
       "    }\n",
       "</style>\n",
       "<table border=\"1\" class=\"dataframe\">\n",
       "  <thead>\n",
       "    <tr style=\"text-align: right;\">\n",
       "      <th></th>\n",
       "      <th>Bike Name</th>\n",
       "      <th>Price</th>\n",
       "      <th>Specification</th>\n",
       "      <th>Rating</th>\n",
       "    </tr>\n",
       "  </thead>\n",
       "  <tbody>\n",
       "    <tr>\n",
       "      <th>118</th>\n",
       "      <td>\\nVespa SXL 150\\t</td>\n",
       "      <td>Rs. 1.29 - 1.35 Lakh</td>\n",
       "      <td>149.5 cc | 115 Kg | 10.47 bhp</td>\n",
       "      <td>\\n4\\n|  16\\n</td>\n",
       "    </tr>\n",
       "    <tr>\n",
       "      <th>197</th>\n",
       "      <td>\\nHusqvarna Vitpilen 250\\t</td>\n",
       "      <td>Rs. 1.99 Lakh</td>\n",
       "      <td>248.76 cc | 153 Kg | 30 bhp</td>\n",
       "      <td>\\n4.3\\n|  55\\n</td>\n",
       "    </tr>\n",
       "    <tr>\n",
       "      <th>157</th>\n",
       "      <td>\\nBMW R 1250 RT\\t</td>\n",
       "      <td>Rs. 22.50 Lakh</td>\n",
       "      <td>1254 cc | 279 Kg | 135.9 bhp</td>\n",
       "      <td>NaN</td>\n",
       "    </tr>\n",
       "    <tr>\n",
       "      <th>192</th>\n",
       "      <td>\\nDucati Scrambler Desert Sled\\t</td>\n",
       "      <td>Rs. 10.89 Lakh</td>\n",
       "      <td>803 cc | 209 Kg | 72.8 bhp</td>\n",
       "      <td>NaN</td>\n",
       "    </tr>\n",
       "    <tr>\n",
       "      <th>151</th>\n",
       "      <td>\\nBMW M 1000 RR\\t</td>\n",
       "      <td>Rs. 42.00 - 45.00 Lakh</td>\n",
       "      <td>999 cc | 192 Kg | 212.1 bhp</td>\n",
       "      <td>\\n4.3\\n|  4\\n</td>\n",
       "    </tr>\n",
       "    <tr>\n",
       "      <th>174</th>\n",
       "      <td>\\nKawasaki Vulcan S\\t</td>\n",
       "      <td>Rs. 6.04 Lakh</td>\n",
       "      <td>649 cc | 235 Kg | 61 bhp</td>\n",
       "      <td>\\n4.2\\n|  30\\n</td>\n",
       "    </tr>\n",
       "    <tr>\n",
       "      <th>23</th>\n",
       "      <td>\\nHonda CB650R\\t</td>\n",
       "      <td>Rs. 8.67 Lakh</td>\n",
       "      <td>648.72 cc | 20 kmpl | 202.5 Kg | 87.01 bhp</td>\n",
       "      <td>\\n5\\n|  1\\n</td>\n",
       "    </tr>\n",
       "    <tr>\n",
       "      <th>17</th>\n",
       "      <td>\\nHonda XBlade\\t</td>\n",
       "      <td>Rs. 1.09 - 1.13 Lakh</td>\n",
       "      <td>162.71 cc | 144 Kg | 13.8 bhp</td>\n",
       "      <td>\\n4.2\\n|  134\\n</td>\n",
       "    </tr>\n",
       "    <tr>\n",
       "      <th>112</th>\n",
       "      <td>\\nVespa VXL 150\\t</td>\n",
       "      <td>Rs. 1.25 Lakh</td>\n",
       "      <td>149.5 cc | 45 kmpl | 115 Kg | 10.47 bhp</td>\n",
       "      <td>\\n4.1\\n|  56\\n</td>\n",
       "    </tr>\n",
       "    <tr>\n",
       "      <th>8</th>\n",
       "      <td>\\nHonda Activa 6G\\t</td>\n",
       "      <td>Rs. 67,843 - 71,089</td>\n",
       "      <td>109.51 cc | 107 Kg | 7.79 bhp</td>\n",
       "      <td>\\n3.9\\n|  921\\n</td>\n",
       "    </tr>\n",
       "    <tr>\n",
       "      <th>59</th>\n",
       "      <td>\\nTVS Jupiter\\t</td>\n",
       "      <td>Rs. 64,437 - 73,737</td>\n",
       "      <td>109.7 cc | 60 kmpl | 107 Kg | 7.47 bhp</td>\n",
       "      <td>\\n4\\n|  2311\\n</td>\n",
       "    </tr>\n",
       "    <tr>\n",
       "      <th>203</th>\n",
       "      <td>\\nLohia Oma Star Li\\t</td>\n",
       "      <td>Rs. 51,750</td>\n",
       "      <td>250 W | 60 km/charge | Electric | 66 Kg |</td>\n",
       "      <td>\\n1\\n|  1\\n</td>\n",
       "    </tr>\n",
       "    <tr>\n",
       "      <th>125</th>\n",
       "      <td>\\nHarley-Davidson Pan America 1250\\t</td>\n",
       "      <td>Rs. 16.90 - 19.99 Lakh</td>\n",
       "      <td>1252 cc | 245 Kg |</td>\n",
       "      <td>NaN</td>\n",
       "    </tr>\n",
       "    <tr>\n",
       "      <th>198</th>\n",
       "      <td>\\nHusqvarna Svartpilen 250\\t</td>\n",
       "      <td>Rs. 1.98 Lakh</td>\n",
       "      <td>248.76 cc | 32 kmpl | 154 Kg | 30 bhp</td>\n",
       "      <td>\\n4.2\\n|  105\\n</td>\n",
       "    </tr>\n",
       "    <tr>\n",
       "      <th>171</th>\n",
       "      <td>\\nKawasaki Z900\\t</td>\n",
       "      <td>Rs. 8.34 Lakh</td>\n",
       "      <td>948 cc | 212 Kg | 125 bhp</td>\n",
       "      <td>\\n4.6\\n|  51\\n</td>\n",
       "    </tr>\n",
       "    <tr>\n",
       "      <th>168</th>\n",
       "      <td>\\nKawasaki 2021 Ninja H2\\t</td>\n",
       "      <td>Rs. 79.90 Lakh</td>\n",
       "      <td>998 cc | 238 Kg | 310 bhp</td>\n",
       "      <td>\\n4.3\\n|  44\\n</td>\n",
       "    </tr>\n",
       "    <tr>\n",
       "      <th>175</th>\n",
       "      <td>\\nKawasaki Z650\\t</td>\n",
       "      <td>Rs. 6.18 Lakh</td>\n",
       "      <td>649 cc | 19 kmpl | 191 Kg | 68 bhp</td>\n",
       "      <td>\\n4.1\\n|  16\\n</td>\n",
       "    </tr>\n",
       "    <tr>\n",
       "      <th>105</th>\n",
       "      <td>\\nHero Electric Flash\\t</td>\n",
       "      <td>Rs. 39,990 - 52,990</td>\n",
       "      <td>250 W | 65 km/charge | Electric | 69 Kg |</td>\n",
       "      <td>\\n3.4\\n|  44\\n</td>\n",
       "    </tr>\n",
       "    <tr>\n",
       "      <th>77</th>\n",
       "      <td>\\nHero Maestro Edge 125\\t</td>\n",
       "      <td>Rs. 70,850 - 74,350</td>\n",
       "      <td>125 cc | 112 Kg | 9.12 bhp</td>\n",
       "      <td>\\n4.1\\n|  445\\n</td>\n",
       "    </tr>\n",
       "    <tr>\n",
       "      <th>86</th>\n",
       "      <td>\\nYamaha FZ-FI Version 3.0\\t</td>\n",
       "      <td>Rs. 1.04 Lakh</td>\n",
       "      <td>149 cc | 135 Kg | 12.4 bhp</td>\n",
       "      <td>\\n4.2\\n|  416\\n</td>\n",
       "    </tr>\n",
       "  </tbody>\n",
       "</table>\n",
       "</div>"
      ],
      "text/plain": [
       "                                Bike Name                   Price  \\\n",
       "118                     \\nVespa SXL 150\\t    Rs. 1.29 - 1.35 Lakh   \n",
       "197            \\nHusqvarna Vitpilen 250\\t           Rs. 1.99 Lakh   \n",
       "157                     \\nBMW R 1250 RT\\t          Rs. 22.50 Lakh   \n",
       "192      \\nDucati Scrambler Desert Sled\\t          Rs. 10.89 Lakh   \n",
       "151                     \\nBMW M 1000 RR\\t  Rs. 42.00 - 45.00 Lakh   \n",
       "174                 \\nKawasaki Vulcan S\\t           Rs. 6.04 Lakh   \n",
       "23                       \\nHonda CB650R\\t           Rs. 8.67 Lakh   \n",
       "17                       \\nHonda XBlade\\t    Rs. 1.09 - 1.13 Lakh   \n",
       "112                     \\nVespa VXL 150\\t           Rs. 1.25 Lakh   \n",
       "8                     \\nHonda Activa 6G\\t     Rs. 67,843 - 71,089   \n",
       "59                        \\nTVS Jupiter\\t     Rs. 64,437 - 73,737   \n",
       "203                 \\nLohia Oma Star Li\\t              Rs. 51,750   \n",
       "125  \\nHarley-Davidson Pan America 1250\\t  Rs. 16.90 - 19.99 Lakh   \n",
       "198          \\nHusqvarna Svartpilen 250\\t           Rs. 1.98 Lakh   \n",
       "171                     \\nKawasaki Z900\\t           Rs. 8.34 Lakh   \n",
       "168            \\nKawasaki 2021 Ninja H2\\t          Rs. 79.90 Lakh   \n",
       "175                     \\nKawasaki Z650\\t           Rs. 6.18 Lakh   \n",
       "105               \\nHero Electric Flash\\t     Rs. 39,990 - 52,990   \n",
       "77              \\nHero Maestro Edge 125\\t     Rs. 70,850 - 74,350   \n",
       "86           \\nYamaha FZ-FI Version 3.0\\t           Rs. 1.04 Lakh   \n",
       "\n",
       "                                  Specification           Rating  \n",
       "118               149.5 cc | 115 Kg | 10.47 bhp     \\n4\\n|  16\\n  \n",
       "197                 248.76 cc | 153 Kg | 30 bhp   \\n4.3\\n|  55\\n  \n",
       "157                1254 cc | 279 Kg | 135.9 bhp              NaN  \n",
       "192                  803 cc | 209 Kg | 72.8 bhp              NaN  \n",
       "151                 999 cc | 192 Kg | 212.1 bhp    \\n4.3\\n|  4\\n  \n",
       "174                    649 cc | 235 Kg | 61 bhp   \\n4.2\\n|  30\\n  \n",
       "23   648.72 cc | 20 kmpl | 202.5 Kg | 87.01 bhp      \\n5\\n|  1\\n  \n",
       "17                162.71 cc | 144 Kg | 13.8 bhp  \\n4.2\\n|  134\\n  \n",
       "112     149.5 cc | 45 kmpl | 115 Kg | 10.47 bhp   \\n4.1\\n|  56\\n  \n",
       "8                 109.51 cc | 107 Kg | 7.79 bhp  \\n3.9\\n|  921\\n  \n",
       "59       109.7 cc | 60 kmpl | 107 Kg | 7.47 bhp   \\n4\\n|  2311\\n  \n",
       "203  250 W | 60 km/charge | Electric | 66 Kg |       \\n1\\n|  1\\n  \n",
       "125                         1252 cc | 245 Kg |               NaN  \n",
       "198       248.76 cc | 32 kmpl | 154 Kg | 30 bhp  \\n4.2\\n|  105\\n  \n",
       "171                   948 cc | 212 Kg | 125 bhp   \\n4.6\\n|  51\\n  \n",
       "168                   998 cc | 238 Kg | 310 bhp   \\n4.3\\n|  44\\n  \n",
       "175          649 cc | 19 kmpl | 191 Kg | 68 bhp   \\n4.1\\n|  16\\n  \n",
       "105  250 W | 65 km/charge | Electric | 69 Kg |    \\n3.4\\n|  44\\n  \n",
       "77                   125 cc | 112 Kg | 9.12 bhp  \\n4.1\\n|  445\\n  \n",
       "86                   149 cc | 135 Kg | 12.4 bhp  \\n4.2\\n|  416\\n  "
      ]
     },
     "execution_count": 790,
     "metadata": {},
     "output_type": "execute_result"
    }
   ],
   "source": [
    "data_bike.sample(20)"
   ]
  },
  {
   "cell_type": "markdown",
   "id": "240b0077",
   "metadata": {},
   "source": [
    "## - Brand Name"
   ]
  },
  {
   "cell_type": "code",
   "execution_count": 791,
   "id": "b3e7b8a9",
   "metadata": {},
   "outputs": [],
   "source": [
    "import re\n",
    "data_bike['Bike Name']=data_bike['Bike Name'].apply(lambda x:x.replace('\\n','').replace('\\t',''))\n",
    "regx=r'^[A-Za-z0-9-]+'\n",
    "pregx=re.compile(regx)\n",
    "\n",
    "data_bike['Brand']=data_bike['Bike Name'].apply(lambda x:np.NaN if pregx.search(x) is None else pregx.search(x).group())"
   ]
  },
  {
   "cell_type": "code",
   "execution_count": 792,
   "id": "20aa50b1",
   "metadata": {},
   "outputs": [
    {
     "data": {
      "text/html": [
       "<div>\n",
       "<style scoped>\n",
       "    .dataframe tbody tr th:only-of-type {\n",
       "        vertical-align: middle;\n",
       "    }\n",
       "\n",
       "    .dataframe tbody tr th {\n",
       "        vertical-align: top;\n",
       "    }\n",
       "\n",
       "    .dataframe thead th {\n",
       "        text-align: right;\n",
       "    }\n",
       "</style>\n",
       "<table border=\"1\" class=\"dataframe\">\n",
       "  <thead>\n",
       "    <tr style=\"text-align: right;\">\n",
       "      <th></th>\n",
       "      <th>Bike Name</th>\n",
       "      <th>Price</th>\n",
       "      <th>Specification</th>\n",
       "      <th>Rating</th>\n",
       "      <th>Brand</th>\n",
       "    </tr>\n",
       "  </thead>\n",
       "  <tbody>\n",
       "    <tr>\n",
       "      <th>174</th>\n",
       "      <td>Kawasaki Vulcan S</td>\n",
       "      <td>Rs. 6.04 Lakh</td>\n",
       "      <td>649 cc | 235 Kg | 61 bhp</td>\n",
       "      <td>\\n4.2\\n|  30\\n</td>\n",
       "      <td>Kawasaki</td>\n",
       "    </tr>\n",
       "    <tr>\n",
       "      <th>42</th>\n",
       "      <td>Bajaj Dominar 250</td>\n",
       "      <td>Rs. 1.70 Lakh</td>\n",
       "      <td>248.77 cc | 35 kmpl | 180 Kg | 27 bhp</td>\n",
       "      <td>\\n4.3\\n|  166\\n</td>\n",
       "      <td>Bajaj</td>\n",
       "    </tr>\n",
       "    <tr>\n",
       "      <th>57</th>\n",
       "      <td>TVS Apache RTR 200 4V</td>\n",
       "      <td>Rs. 1.29 - 1.34 Lakh</td>\n",
       "      <td>197.75 cc | 51 kmpl | 152 Kg | sport : 20.82 bhp</td>\n",
       "      <td>\\n4.2\\n|  1162\\n</td>\n",
       "      <td>TVS</td>\n",
       "    </tr>\n",
       "    <tr>\n",
       "      <th>80</th>\n",
       "      <td>Hero Destini 125</td>\n",
       "      <td>Rs. 67,990 - 73,390</td>\n",
       "      <td>124.6 cc | 113 Kg | 9.1 bhp</td>\n",
       "      <td>\\n4.3\\n|  588\\n</td>\n",
       "      <td>Hero</td>\n",
       "    </tr>\n",
       "    <tr>\n",
       "      <th>114</th>\n",
       "      <td>Vespa SXL 125</td>\n",
       "      <td>Rs. 1.17 - 1.22 Lakh</td>\n",
       "      <td>124.45 cc | 48 kmpl | 115 Kg | 9.92 bhp</td>\n",
       "      <td>\\n3.9\\n|  72\\n</td>\n",
       "      <td>Vespa</td>\n",
       "    </tr>\n",
       "    <tr>\n",
       "      <th>1</th>\n",
       "      <td>22Kymco iFlow</td>\n",
       "      <td>Rs. 90,000</td>\n",
       "      <td>2100 W | Electric |</td>\n",
       "      <td>\\n3.7\\n|  7\\n</td>\n",
       "      <td>22Kymco</td>\n",
       "    </tr>\n",
       "    <tr>\n",
       "      <th>122</th>\n",
       "      <td>Harley-Davidson Forty Eight</td>\n",
       "      <td>Rs. 11.75 Lakh</td>\n",
       "      <td>1202 cc | 252 Kg |</td>\n",
       "      <td>\\n4.3\\n|  22\\n</td>\n",
       "      <td>Harley-Davidson</td>\n",
       "    </tr>\n",
       "    <tr>\n",
       "      <th>59</th>\n",
       "      <td>TVS Jupiter</td>\n",
       "      <td>Rs. 64,437 - 73,737</td>\n",
       "      <td>109.7 cc | 60 kmpl | 107 Kg | 7.47 bhp</td>\n",
       "      <td>\\n4\\n|  2311\\n</td>\n",
       "      <td>TVS</td>\n",
       "    </tr>\n",
       "    <tr>\n",
       "      <th>67</th>\n",
       "      <td>TVS Star City Plus</td>\n",
       "      <td>Rs. 66,895 - 69,465</td>\n",
       "      <td>109.7 cc | 115 Kg | 8.19 bhp</td>\n",
       "      <td>\\n4.1\\n|  555\\n</td>\n",
       "      <td>TVS</td>\n",
       "    </tr>\n",
       "    <tr>\n",
       "      <th>93</th>\n",
       "      <td>Jawa Jawa</td>\n",
       "      <td>Rs. 1.77 - 1.86 Lakh</td>\n",
       "      <td>293 cc | 172 Kg | 27.33 bhp</td>\n",
       "      <td>\\n4\\n|  313\\n</td>\n",
       "      <td>Jawa</td>\n",
       "    </tr>\n",
       "    <tr>\n",
       "      <th>181</th>\n",
       "      <td>Kawasaki KLX 140</td>\n",
       "      <td>Rs. 4.06 Lakh</td>\n",
       "      <td>144 cc | 99 Kg |</td>\n",
       "      <td>\\n3\\n|  2\\n</td>\n",
       "      <td>Kawasaki</td>\n",
       "    </tr>\n",
       "    <tr>\n",
       "      <th>142</th>\n",
       "      <td>Triumph Street Scrambler 900</td>\n",
       "      <td>Rs. 9.65 Lakh</td>\n",
       "      <td>900 cc | 223 Kg | 65 bhp</td>\n",
       "      <td>\\n4.2\\n|  1\\n</td>\n",
       "      <td>Triumph</td>\n",
       "    </tr>\n",
       "    <tr>\n",
       "      <th>48</th>\n",
       "      <td>KTM RC 125</td>\n",
       "      <td>Rs. 1.62 Lakh</td>\n",
       "      <td>124.7 cc | 45 kmpl | 14.5 bhp</td>\n",
       "      <td>\\n4.2\\n|  557\\n</td>\n",
       "      <td>KTM</td>\n",
       "    </tr>\n",
       "    <tr>\n",
       "      <th>84</th>\n",
       "      <td>Yamaha MT-15</td>\n",
       "      <td>Rs. 1.40 - 1.41 Lakh</td>\n",
       "      <td>155 cc | 52 kmpl | 138 Kg | 18.5 bhp</td>\n",
       "      <td>\\n4.3\\n|  712\\n</td>\n",
       "      <td>Yamaha</td>\n",
       "    </tr>\n",
       "    <tr>\n",
       "      <th>60</th>\n",
       "      <td>TVS NTORQ 125</td>\n",
       "      <td>Rs. 71,095 - 81,075</td>\n",
       "      <td>124.8 cc | 52 kmpl | 118 Kg | 9.38 bhp</td>\n",
       "      <td>\\n4.1\\n|  2120\\n</td>\n",
       "      <td>TVS</td>\n",
       "    </tr>\n",
       "    <tr>\n",
       "      <th>99</th>\n",
       "      <td>Suzuki Intruder</td>\n",
       "      <td>Rs. 1.24 Lakh</td>\n",
       "      <td>155 cc | 152 Kg | 13.6 bhp</td>\n",
       "      <td>\\n4.2\\n|  232\\n</td>\n",
       "      <td>Suzuki</td>\n",
       "    </tr>\n",
       "    <tr>\n",
       "      <th>83</th>\n",
       "      <td>Yamaha YZF R15 V3</td>\n",
       "      <td>Rs. 1.52 - 1.54 Lakh</td>\n",
       "      <td>155 cc | 49 kmpl | 142 Kg | 18.6 bhp</td>\n",
       "      <td>\\n4.2\\n|  3736\\n</td>\n",
       "      <td>Yamaha</td>\n",
       "    </tr>\n",
       "    <tr>\n",
       "      <th>168</th>\n",
       "      <td>Kawasaki 2021 Ninja H2</td>\n",
       "      <td>Rs. 79.90 Lakh</td>\n",
       "      <td>998 cc | 238 Kg | 310 bhp</td>\n",
       "      <td>\\n4.3\\n|  44\\n</td>\n",
       "      <td>Kawasaki</td>\n",
       "    </tr>\n",
       "    <tr>\n",
       "      <th>33</th>\n",
       "      <td>Bajaj Platina 100</td>\n",
       "      <td>Rs. 52,915 - 63,578</td>\n",
       "      <td>102 cc | 117 Kg | 7.9 bhp</td>\n",
       "      <td>\\n4\\n|  822\\n</td>\n",
       "      <td>Bajaj</td>\n",
       "    </tr>\n",
       "    <tr>\n",
       "      <th>65</th>\n",
       "      <td>TVS Radeon</td>\n",
       "      <td>Rs. 61,242 - 68,567</td>\n",
       "      <td>109.7 cc | 74 kmpl | 116 Kg | 8.19 bhp</td>\n",
       "      <td>\\n3.9\\n|  261\\n</td>\n",
       "      <td>TVS</td>\n",
       "    </tr>\n",
       "  </tbody>\n",
       "</table>\n",
       "</div>"
      ],
      "text/plain": [
       "                        Bike Name                 Price  \\\n",
       "174             Kawasaki Vulcan S         Rs. 6.04 Lakh   \n",
       "42              Bajaj Dominar 250         Rs. 1.70 Lakh   \n",
       "57          TVS Apache RTR 200 4V  Rs. 1.29 - 1.34 Lakh   \n",
       "80               Hero Destini 125   Rs. 67,990 - 73,390   \n",
       "114                 Vespa SXL 125  Rs. 1.17 - 1.22 Lakh   \n",
       "1                   22Kymco iFlow            Rs. 90,000   \n",
       "122   Harley-Davidson Forty Eight        Rs. 11.75 Lakh   \n",
       "59                    TVS Jupiter   Rs. 64,437 - 73,737   \n",
       "67             TVS Star City Plus   Rs. 66,895 - 69,465   \n",
       "93                      Jawa Jawa  Rs. 1.77 - 1.86 Lakh   \n",
       "181              Kawasaki KLX 140         Rs. 4.06 Lakh   \n",
       "142  Triumph Street Scrambler 900         Rs. 9.65 Lakh   \n",
       "48                     KTM RC 125         Rs. 1.62 Lakh   \n",
       "84                   Yamaha MT-15  Rs. 1.40 - 1.41 Lakh   \n",
       "60                  TVS NTORQ 125   Rs. 71,095 - 81,075   \n",
       "99                Suzuki Intruder         Rs. 1.24 Lakh   \n",
       "83              Yamaha YZF R15 V3  Rs. 1.52 - 1.54 Lakh   \n",
       "168        Kawasaki 2021 Ninja H2        Rs. 79.90 Lakh   \n",
       "33              Bajaj Platina 100   Rs. 52,915 - 63,578   \n",
       "65                     TVS Radeon   Rs. 61,242 - 68,567   \n",
       "\n",
       "                                        Specification            Rating  \\\n",
       "174                          649 cc | 235 Kg | 61 bhp    \\n4.2\\n|  30\\n   \n",
       "42              248.77 cc | 35 kmpl | 180 Kg | 27 bhp   \\n4.3\\n|  166\\n   \n",
       "57   197.75 cc | 51 kmpl | 152 Kg | sport : 20.82 bhp  \\n4.2\\n|  1162\\n   \n",
       "80                        124.6 cc | 113 Kg | 9.1 bhp   \\n4.3\\n|  588\\n   \n",
       "114           124.45 cc | 48 kmpl | 115 Kg | 9.92 bhp    \\n3.9\\n|  72\\n   \n",
       "1                                2100 W | Electric |      \\n3.7\\n|  7\\n   \n",
       "122                               1202 cc | 252 Kg |     \\n4.3\\n|  22\\n   \n",
       "59             109.7 cc | 60 kmpl | 107 Kg | 7.47 bhp    \\n4\\n|  2311\\n   \n",
       "67                       109.7 cc | 115 Kg | 8.19 bhp   \\n4.1\\n|  555\\n   \n",
       "93                        293 cc | 172 Kg | 27.33 bhp     \\n4\\n|  313\\n   \n",
       "181                                 144 cc | 99 Kg |        \\n3\\n|  2\\n   \n",
       "142                          900 cc | 223 Kg | 65 bhp     \\n4.2\\n|  1\\n   \n",
       "48                      124.7 cc | 45 kmpl | 14.5 bhp   \\n4.2\\n|  557\\n   \n",
       "84               155 cc | 52 kmpl | 138 Kg | 18.5 bhp   \\n4.3\\n|  712\\n   \n",
       "60             124.8 cc | 52 kmpl | 118 Kg | 9.38 bhp  \\n4.1\\n|  2120\\n   \n",
       "99                         155 cc | 152 Kg | 13.6 bhp   \\n4.2\\n|  232\\n   \n",
       "83               155 cc | 49 kmpl | 142 Kg | 18.6 bhp  \\n4.2\\n|  3736\\n   \n",
       "168                         998 cc | 238 Kg | 310 bhp    \\n4.3\\n|  44\\n   \n",
       "33                          102 cc | 117 Kg | 7.9 bhp     \\n4\\n|  822\\n   \n",
       "65             109.7 cc | 74 kmpl | 116 Kg | 8.19 bhp   \\n3.9\\n|  261\\n   \n",
       "\n",
       "               Brand  \n",
       "174         Kawasaki  \n",
       "42             Bajaj  \n",
       "57               TVS  \n",
       "80              Hero  \n",
       "114            Vespa  \n",
       "1            22Kymco  \n",
       "122  Harley-Davidson  \n",
       "59               TVS  \n",
       "67               TVS  \n",
       "93              Jawa  \n",
       "181         Kawasaki  \n",
       "142          Triumph  \n",
       "48               KTM  \n",
       "84            Yamaha  \n",
       "60               TVS  \n",
       "99            Suzuki  \n",
       "83            Yamaha  \n",
       "168         Kawasaki  \n",
       "33             Bajaj  \n",
       "65               TVS  "
      ]
     },
     "execution_count": 792,
     "metadata": {},
     "output_type": "execute_result"
    }
   ],
   "source": [
    "data_bike.sample(20)"
   ]
  },
  {
   "cell_type": "markdown",
   "id": "28b75e21",
   "metadata": {},
   "source": [
    "\n",
    "## - Model"
   ]
  },
  {
   "cell_type": "code",
   "execution_count": 793,
   "id": "985fe186",
   "metadata": {},
   "outputs": [],
   "source": [
    "data_bike['Bike Name']=data_bike['Bike Name'].astype('str')  # convert to string\n",
    "regx=r'\\s[0-9\\sa-zA-Z-]+'\n",
    "pregx=re.compile(regx)\n",
    "\n",
    "data_bike['Model']=data_bike['Bike Name'].apply(lambda x:np.NaN if pregx.search(x) is None else pregx.search(x).group())"
   ]
  },
  {
   "cell_type": "code",
   "execution_count": 794,
   "id": "4a2e0f98",
   "metadata": {},
   "outputs": [
    {
     "data": {
      "text/html": [
       "<div>\n",
       "<style scoped>\n",
       "    .dataframe tbody tr th:only-of-type {\n",
       "        vertical-align: middle;\n",
       "    }\n",
       "\n",
       "    .dataframe tbody tr th {\n",
       "        vertical-align: top;\n",
       "    }\n",
       "\n",
       "    .dataframe thead th {\n",
       "        text-align: right;\n",
       "    }\n",
       "</style>\n",
       "<table border=\"1\" class=\"dataframe\">\n",
       "  <thead>\n",
       "    <tr style=\"text-align: right;\">\n",
       "      <th></th>\n",
       "      <th>Bike Name</th>\n",
       "      <th>Price</th>\n",
       "      <th>Specification</th>\n",
       "      <th>Rating</th>\n",
       "      <th>Brand</th>\n",
       "      <th>Model</th>\n",
       "    </tr>\n",
       "  </thead>\n",
       "  <tbody>\n",
       "    <tr>\n",
       "      <th>68</th>\n",
       "      <td>TVS Scooty Zest</td>\n",
       "      <td>Rs. 61,345 - 64,980</td>\n",
       "      <td>109.7 cc | 103 Kg | 7.81 bhp</td>\n",
       "      <td>\\n3.9\\n|  137\\n</td>\n",
       "      <td>TVS</td>\n",
       "      <td>Scooty Zest</td>\n",
       "    </tr>\n",
       "    <tr>\n",
       "      <th>76</th>\n",
       "      <td>Hero XPulse 200</td>\n",
       "      <td>Rs. 1.18 Lakh</td>\n",
       "      <td>199.6 cc | 49 kmpl | 157 Kg | 18.04 bhp</td>\n",
       "      <td>\\n4.2\\n|  310\\n</td>\n",
       "      <td>Hero</td>\n",
       "      <td>XPulse 200</td>\n",
       "    </tr>\n",
       "    <tr>\n",
       "      <th>173</th>\n",
       "      <td>Kawasaki Ninja 650</td>\n",
       "      <td>Rs. 6.54 Lakh</td>\n",
       "      <td>649 cc | 196 Kg | 68 bhp</td>\n",
       "      <td>\\n4.5\\n|  27\\n</td>\n",
       "      <td>Kawasaki</td>\n",
       "      <td>Ninja 650</td>\n",
       "    </tr>\n",
       "    <tr>\n",
       "      <th>154</th>\n",
       "      <td>BMW R NineT Scrambler</td>\n",
       "      <td>Rs. 16.75 Lakh</td>\n",
       "      <td>1170 cc | 223 Kg | 108.77 bhp</td>\n",
       "      <td>\\n5\\n|  1\\n</td>\n",
       "      <td>BMW</td>\n",
       "      <td>R NineT Scrambler</td>\n",
       "    </tr>\n",
       "    <tr>\n",
       "      <th>140</th>\n",
       "      <td>Triumph Bonneville T120</td>\n",
       "      <td>Rs. 9.29 - 10.65 Lakh</td>\n",
       "      <td>1200 cc | 80 bhp</td>\n",
       "      <td>\\n4\\n|  9\\n</td>\n",
       "      <td>Triumph</td>\n",
       "      <td>Bonneville T120</td>\n",
       "    </tr>\n",
       "    <tr>\n",
       "      <th>64</th>\n",
       "      <td>TVS iQube Electric</td>\n",
       "      <td>Rs. 1.00 Lakh</td>\n",
       "      <td>4.4 kW | 75 km/charge | Electric | 118 Kg |</td>\n",
       "      <td>\\n4\\n|  47\\n</td>\n",
       "      <td>TVS</td>\n",
       "      <td>iQube Electric</td>\n",
       "    </tr>\n",
       "    <tr>\n",
       "      <th>67</th>\n",
       "      <td>TVS Star City Plus</td>\n",
       "      <td>Rs. 66,895 - 69,465</td>\n",
       "      <td>109.7 cc | 115 Kg | 8.19 bhp</td>\n",
       "      <td>\\n4.1\\n|  555\\n</td>\n",
       "      <td>TVS</td>\n",
       "      <td>Star City Plus</td>\n",
       "    </tr>\n",
       "    <tr>\n",
       "      <th>53</th>\n",
       "      <td>Revolt RV400</td>\n",
       "      <td>Rs. 1.03 - 1.18 Lakh</td>\n",
       "      <td>3000 W | 150 km/charge | Electric | 108 Kg |</td>\n",
       "      <td>\\n4.1\\n|  393\\n</td>\n",
       "      <td>Revolt</td>\n",
       "      <td>RV400</td>\n",
       "    </tr>\n",
       "    <tr>\n",
       "      <th>12</th>\n",
       "      <td>Honda Unicorn</td>\n",
       "      <td>Rs. 97,356</td>\n",
       "      <td>162.7 cc | 140 Kg | 12.91 bhp</td>\n",
       "      <td>\\n4.1\\n|  393\\n</td>\n",
       "      <td>Honda</td>\n",
       "      <td>Unicorn</td>\n",
       "    </tr>\n",
       "    <tr>\n",
       "      <th>153</th>\n",
       "      <td>BMW R nineT</td>\n",
       "      <td>Rs. 18.50 Lakh</td>\n",
       "      <td>1170 cc | 221 Kg | 108.77 bhp</td>\n",
       "      <td>\\n5\\n|  1\\n</td>\n",
       "      <td>BMW</td>\n",
       "      <td>R nineT</td>\n",
       "    </tr>\n",
       "    <tr>\n",
       "      <th>84</th>\n",
       "      <td>Yamaha MT-15</td>\n",
       "      <td>Rs. 1.40 - 1.41 Lakh</td>\n",
       "      <td>155 cc | 52 kmpl | 138 Kg | 18.5 bhp</td>\n",
       "      <td>\\n4.3\\n|  712\\n</td>\n",
       "      <td>Yamaha</td>\n",
       "      <td>MT-15</td>\n",
       "    </tr>\n",
       "    <tr>\n",
       "      <th>192</th>\n",
       "      <td>Ducati Scrambler Desert Sled</td>\n",
       "      <td>Rs. 10.89 Lakh</td>\n",
       "      <td>803 cc | 209 Kg | 72.8 bhp</td>\n",
       "      <td>NaN</td>\n",
       "      <td>Ducati</td>\n",
       "      <td>Scrambler Desert Sled</td>\n",
       "    </tr>\n",
       "    <tr>\n",
       "      <th>133</th>\n",
       "      <td>Harley-Davidson Softail</td>\n",
       "      <td>Rs. 15.25 Lakh</td>\n",
       "      <td>1746 cc | 297 Kg |</td>\n",
       "      <td>NaN</td>\n",
       "      <td>Harley-Davidson</td>\n",
       "      <td>Softail</td>\n",
       "    </tr>\n",
       "    <tr>\n",
       "      <th>194</th>\n",
       "      <td>Benelli Imperiale 400</td>\n",
       "      <td>Rs. 1.89 - 1.93 Lakh</td>\n",
       "      <td>374 cc | 33 kmpl | 205 Kg | 21 bhp</td>\n",
       "      <td>\\n4.3\\n|  89\\n</td>\n",
       "      <td>Benelli</td>\n",
       "      <td>Imperiale 400</td>\n",
       "    </tr>\n",
       "    <tr>\n",
       "      <th>24</th>\n",
       "      <td>Honda CB500X</td>\n",
       "      <td>Rs. 6.87 Lakh</td>\n",
       "      <td>471.03 cc | 199 Kg | 47.5 bhp</td>\n",
       "      <td>\\n3.6\\n|  4\\n</td>\n",
       "      <td>Honda</td>\n",
       "      <td>CB500X</td>\n",
       "    </tr>\n",
       "    <tr>\n",
       "      <th>150</th>\n",
       "      <td>BMW R 1250 GS</td>\n",
       "      <td>Rs. 20.45 Lakh</td>\n",
       "      <td>1254 cc | 15 kmpl | 249 Kg | 136 bhp</td>\n",
       "      <td>\\n4.3\\n|  11\\n</td>\n",
       "      <td>BMW</td>\n",
       "      <td>R 1250 GS</td>\n",
       "    </tr>\n",
       "    <tr>\n",
       "      <th>34</th>\n",
       "      <td>Bajaj Pulsar NS 125</td>\n",
       "      <td>Rs. 93,690</td>\n",
       "      <td>124.4 cc | 144 Kg | 11.99 bhp</td>\n",
       "      <td>\\n3.9\\n|  49\\n</td>\n",
       "      <td>Bajaj</td>\n",
       "      <td>Pulsar NS 125</td>\n",
       "    </tr>\n",
       "    <tr>\n",
       "      <th>182</th>\n",
       "      <td>Kawasaki KX 450F</td>\n",
       "      <td>Rs. 7.79 Lakh</td>\n",
       "      <td>449 cc | 110.0 Kg |</td>\n",
       "      <td>\\n5\\n|  3\\n</td>\n",
       "      <td>Kawasaki</td>\n",
       "      <td>KX 450F</td>\n",
       "    </tr>\n",
       "    <tr>\n",
       "      <th>145</th>\n",
       "      <td>Triumph Tiger 850 Sport</td>\n",
       "      <td>Rs. 11.95 Lakh</td>\n",
       "      <td>888 cc | 85 bhp</td>\n",
       "      <td>\\n4\\n|  2\\n</td>\n",
       "      <td>Triumph</td>\n",
       "      <td>Tiger 850 Sport</td>\n",
       "    </tr>\n",
       "    <tr>\n",
       "      <th>157</th>\n",
       "      <td>BMW R 1250 RT</td>\n",
       "      <td>Rs. 22.50 Lakh</td>\n",
       "      <td>1254 cc | 279 Kg | 135.9 bhp</td>\n",
       "      <td>NaN</td>\n",
       "      <td>BMW</td>\n",
       "      <td>R 1250 RT</td>\n",
       "    </tr>\n",
       "  </tbody>\n",
       "</table>\n",
       "</div>"
      ],
      "text/plain": [
       "                        Bike Name                  Price  \\\n",
       "68                TVS Scooty Zest    Rs. 61,345 - 64,980   \n",
       "76                Hero XPulse 200          Rs. 1.18 Lakh   \n",
       "173            Kawasaki Ninja 650          Rs. 6.54 Lakh   \n",
       "154         BMW R NineT Scrambler         Rs. 16.75 Lakh   \n",
       "140       Triumph Bonneville T120  Rs. 9.29 - 10.65 Lakh   \n",
       "64             TVS iQube Electric          Rs. 1.00 Lakh   \n",
       "67             TVS Star City Plus    Rs. 66,895 - 69,465   \n",
       "53                   Revolt RV400   Rs. 1.03 - 1.18 Lakh   \n",
       "12                  Honda Unicorn             Rs. 97,356   \n",
       "153                   BMW R nineT         Rs. 18.50 Lakh   \n",
       "84                   Yamaha MT-15   Rs. 1.40 - 1.41 Lakh   \n",
       "192  Ducati Scrambler Desert Sled         Rs. 10.89 Lakh   \n",
       "133      Harley-Davidson Softail          Rs. 15.25 Lakh   \n",
       "194         Benelli Imperiale 400   Rs. 1.89 - 1.93 Lakh   \n",
       "24                   Honda CB500X          Rs. 6.87 Lakh   \n",
       "150                 BMW R 1250 GS         Rs. 20.45 Lakh   \n",
       "34            Bajaj Pulsar NS 125             Rs. 93,690   \n",
       "182              Kawasaki KX 450F          Rs. 7.79 Lakh   \n",
       "145       Triumph Tiger 850 Sport         Rs. 11.95 Lakh   \n",
       "157                 BMW R 1250 RT         Rs. 22.50 Lakh   \n",
       "\n",
       "                                     Specification           Rating  \\\n",
       "68                    109.7 cc | 103 Kg | 7.81 bhp  \\n3.9\\n|  137\\n   \n",
       "76         199.6 cc | 49 kmpl | 157 Kg | 18.04 bhp  \\n4.2\\n|  310\\n   \n",
       "173                       649 cc | 196 Kg | 68 bhp   \\n4.5\\n|  27\\n   \n",
       "154                  1170 cc | 223 Kg | 108.77 bhp      \\n5\\n|  1\\n   \n",
       "140                               1200 cc | 80 bhp      \\n4\\n|  9\\n   \n",
       "64    4.4 kW | 75 km/charge | Electric | 118 Kg |      \\n4\\n|  47\\n   \n",
       "67                    109.7 cc | 115 Kg | 8.19 bhp  \\n4.1\\n|  555\\n   \n",
       "53   3000 W | 150 km/charge | Electric | 108 Kg |   \\n4.1\\n|  393\\n   \n",
       "12                   162.7 cc | 140 Kg | 12.91 bhp  \\n4.1\\n|  393\\n   \n",
       "153                  1170 cc | 221 Kg | 108.77 bhp      \\n5\\n|  1\\n   \n",
       "84            155 cc | 52 kmpl | 138 Kg | 18.5 bhp  \\n4.3\\n|  712\\n   \n",
       "192                     803 cc | 209 Kg | 72.8 bhp              NaN   \n",
       "133                            1746 cc | 297 Kg |               NaN   \n",
       "194             374 cc | 33 kmpl | 205 Kg | 21 bhp   \\n4.3\\n|  89\\n   \n",
       "24                   471.03 cc | 199 Kg | 47.5 bhp    \\n3.6\\n|  4\\n   \n",
       "150           1254 cc | 15 kmpl | 249 Kg | 136 bhp   \\n4.3\\n|  11\\n   \n",
       "34                   124.4 cc | 144 Kg | 11.99 bhp   \\n3.9\\n|  49\\n   \n",
       "182                           449 cc | 110.0 Kg |       \\n5\\n|  3\\n   \n",
       "145                                888 cc | 85 bhp      \\n4\\n|  2\\n   \n",
       "157                   1254 cc | 279 Kg | 135.9 bhp              NaN   \n",
       "\n",
       "               Brand                   Model  \n",
       "68               TVS             Scooty Zest  \n",
       "76              Hero              XPulse 200  \n",
       "173         Kawasaki               Ninja 650  \n",
       "154              BMW       R NineT Scrambler  \n",
       "140          Triumph         Bonneville T120  \n",
       "64               TVS          iQube Electric  \n",
       "67               TVS          Star City Plus  \n",
       "53            Revolt                   RV400  \n",
       "12             Honda                 Unicorn  \n",
       "153              BMW                 R nineT  \n",
       "84            Yamaha                   MT-15  \n",
       "192           Ducati   Scrambler Desert Sled  \n",
       "133  Harley-Davidson                Softail   \n",
       "194          Benelli           Imperiale 400  \n",
       "24             Honda                  CB500X  \n",
       "150              BMW               R 1250 GS  \n",
       "34             Bajaj           Pulsar NS 125  \n",
       "182         Kawasaki                 KX 450F  \n",
       "145          Triumph         Tiger 850 Sport  \n",
       "157              BMW               R 1250 RT  "
      ]
     },
     "execution_count": 794,
     "metadata": {},
     "output_type": "execute_result"
    }
   ],
   "source": [
    "data_bike.sample(20)"
   ]
  },
  {
   "cell_type": "markdown",
   "id": "9cf1c3ba",
   "metadata": {},
   "source": [
    "## - Rating"
   ]
  },
  {
   "cell_type": "code",
   "execution_count": 795,
   "id": "a783931b",
   "metadata": {},
   "outputs": [],
   "source": [
    "data_bike['Rating']=data_bike['Rating'].astype('str')  # convert to string\n",
    "regx=r'\\d.*\\d*'\n",
    "pregx=re.compile(regx)\n",
    "\n",
    "data_bike['Ratings']=data_bike['Rating'].apply(lambda x:np.NaN if pregx.search(x) is None else pregx.search(x).group())"
   ]
  },
  {
   "cell_type": "code",
   "execution_count": 796,
   "id": "6ac0ba84",
   "metadata": {},
   "outputs": [
    {
     "data": {
      "text/html": [
       "<div>\n",
       "<style scoped>\n",
       "    .dataframe tbody tr th:only-of-type {\n",
       "        vertical-align: middle;\n",
       "    }\n",
       "\n",
       "    .dataframe tbody tr th {\n",
       "        vertical-align: top;\n",
       "    }\n",
       "\n",
       "    .dataframe thead th {\n",
       "        text-align: right;\n",
       "    }\n",
       "</style>\n",
       "<table border=\"1\" class=\"dataframe\">\n",
       "  <thead>\n",
       "    <tr style=\"text-align: right;\">\n",
       "      <th></th>\n",
       "      <th>Bike Name</th>\n",
       "      <th>Price</th>\n",
       "      <th>Specification</th>\n",
       "      <th>Rating</th>\n",
       "      <th>Brand</th>\n",
       "      <th>Model</th>\n",
       "      <th>Ratings</th>\n",
       "    </tr>\n",
       "  </thead>\n",
       "  <tbody>\n",
       "    <tr>\n",
       "      <th>0</th>\n",
       "      <td>22Kymco Flow</td>\n",
       "      <td>Rs. 74,740</td>\n",
       "      <td>2100 W | 160 km/charge | Electric |</td>\n",
       "      <td>\\n4.1\\n|  25\\n</td>\n",
       "      <td>22Kymco</td>\n",
       "      <td>Flow</td>\n",
       "      <td>4.1</td>\n",
       "    </tr>\n",
       "    <tr>\n",
       "      <th>1</th>\n",
       "      <td>22Kymco iFlow</td>\n",
       "      <td>Rs. 90,000</td>\n",
       "      <td>2100 W | Electric |</td>\n",
       "      <td>\\n3.7\\n|  7\\n</td>\n",
       "      <td>22Kymco</td>\n",
       "      <td>iFlow</td>\n",
       "      <td>3.7</td>\n",
       "    </tr>\n",
       "    <tr>\n",
       "      <th>2</th>\n",
       "      <td>Royal Enfield Classic 350</td>\n",
       "      <td>Rs. 1.72 - 1.98 Lakh</td>\n",
       "      <td>346 cc | 42 kmpl | 195 Kg | 19.36 bhp</td>\n",
       "      <td>\\n4\\n|  9643\\n</td>\n",
       "      <td>Royal</td>\n",
       "      <td>Enfield Classic 350</td>\n",
       "      <td>4</td>\n",
       "    </tr>\n",
       "    <tr>\n",
       "      <th>3</th>\n",
       "      <td>Royal Enfield Bullet 350</td>\n",
       "      <td>Rs. 1.34 - 1.55 Lakh</td>\n",
       "      <td>346 cc | 191 Kg | 19.36 bhp</td>\n",
       "      <td>\\n4\\n|  3601\\n</td>\n",
       "      <td>Royal</td>\n",
       "      <td>Enfield Bullet 350</td>\n",
       "      <td>4</td>\n",
       "    </tr>\n",
       "    <tr>\n",
       "      <th>4</th>\n",
       "      <td>Royal Enfield Himalayan</td>\n",
       "      <td>Rs. 2.01 - 2.08 Lakh</td>\n",
       "      <td>411 cc | 32 kmpl | 199 Kg | 24.31 bhp</td>\n",
       "      <td>\\n4.3\\n|  371\\n</td>\n",
       "      <td>Royal</td>\n",
       "      <td>Enfield Himalayan</td>\n",
       "      <td>4.3</td>\n",
       "    </tr>\n",
       "  </tbody>\n",
       "</table>\n",
       "</div>"
      ],
      "text/plain": [
       "                   Bike Name                 Price  \\\n",
       "0               22Kymco Flow            Rs. 74,740   \n",
       "1              22Kymco iFlow            Rs. 90,000   \n",
       "2  Royal Enfield Classic 350  Rs. 1.72 - 1.98 Lakh   \n",
       "3   Royal Enfield Bullet 350  Rs. 1.34 - 1.55 Lakh   \n",
       "4    Royal Enfield Himalayan  Rs. 2.01 - 2.08 Lakh   \n",
       "\n",
       "                           Specification           Rating    Brand  \\\n",
       "0   2100 W | 160 km/charge | Electric |    \\n4.1\\n|  25\\n  22Kymco   \n",
       "1                   2100 W | Electric |     \\n3.7\\n|  7\\n  22Kymco   \n",
       "2  346 cc | 42 kmpl | 195 Kg | 19.36 bhp   \\n4\\n|  9643\\n    Royal   \n",
       "3            346 cc | 191 Kg | 19.36 bhp   \\n4\\n|  3601\\n    Royal   \n",
       "4  411 cc | 32 kmpl | 199 Kg | 24.31 bhp  \\n4.3\\n|  371\\n    Royal   \n",
       "\n",
       "                  Model Ratings  \n",
       "0                  Flow     4.1  \n",
       "1                 iFlow     3.7  \n",
       "2   Enfield Classic 350       4  \n",
       "3    Enfield Bullet 350       4  \n",
       "4     Enfield Himalayan     4.3  "
      ]
     },
     "execution_count": 796,
     "metadata": {},
     "output_type": "execute_result"
    }
   ],
   "source": [
    "data_bike.head()"
   ]
  },
  {
   "cell_type": "markdown",
   "id": "a3717834",
   "metadata": {},
   "source": [
    "## - Rated By"
   ]
  },
  {
   "cell_type": "code",
   "execution_count": 797,
   "id": "31d67a30",
   "metadata": {},
   "outputs": [],
   "source": [
    "data_bike['Rating']=data_bike['Rating'].astype('str')  # convert to string\n",
    "regx=r'\\S\\s+[0-9]+'\n",
    "pregx=re.compile(regx)\n",
    "\n",
    "data_bike['Rated By']=data_bike['Rating'].apply(lambda x:np.NaN if pregx.search(x) is None else pregx.search(x).group().replace('|',''))"
   ]
  },
  {
   "cell_type": "code",
   "execution_count": 798,
   "id": "ccfde058",
   "metadata": {},
   "outputs": [
    {
     "data": {
      "text/html": [
       "<div>\n",
       "<style scoped>\n",
       "    .dataframe tbody tr th:only-of-type {\n",
       "        vertical-align: middle;\n",
       "    }\n",
       "\n",
       "    .dataframe tbody tr th {\n",
       "        vertical-align: top;\n",
       "    }\n",
       "\n",
       "    .dataframe thead th {\n",
       "        text-align: right;\n",
       "    }\n",
       "</style>\n",
       "<table border=\"1\" class=\"dataframe\">\n",
       "  <thead>\n",
       "    <tr style=\"text-align: right;\">\n",
       "      <th></th>\n",
       "      <th>Bike Name</th>\n",
       "      <th>Price</th>\n",
       "      <th>Specification</th>\n",
       "      <th>Rating</th>\n",
       "      <th>Brand</th>\n",
       "      <th>Model</th>\n",
       "      <th>Ratings</th>\n",
       "      <th>Rated By</th>\n",
       "    </tr>\n",
       "  </thead>\n",
       "  <tbody>\n",
       "    <tr>\n",
       "      <th>150</th>\n",
       "      <td>BMW R 1250 GS</td>\n",
       "      <td>Rs. 20.45 Lakh</td>\n",
       "      <td>1254 cc | 15 kmpl | 249 Kg | 136 bhp</td>\n",
       "      <td>\\n4.3\\n|  11\\n</td>\n",
       "      <td>BMW</td>\n",
       "      <td>R 1250 GS</td>\n",
       "      <td>4.3</td>\n",
       "      <td>11</td>\n",
       "    </tr>\n",
       "    <tr>\n",
       "      <th>52</th>\n",
       "      <td>KTM 250 Adventure</td>\n",
       "      <td>Rs. 2.51 Lakh</td>\n",
       "      <td>248.76 cc | 38 kmpl | 177 Kg | 30 bhp</td>\n",
       "      <td>\\n4.5\\n|  15\\n</td>\n",
       "      <td>KTM</td>\n",
       "      <td>250 Adventure</td>\n",
       "      <td>4.5</td>\n",
       "      <td>15</td>\n",
       "    </tr>\n",
       "    <tr>\n",
       "      <th>124</th>\n",
       "      <td>Harley-Davidson Fat Bob 114</td>\n",
       "      <td>Rs. 16.75 Lakh</td>\n",
       "      <td>1868 cc | 306 Kg |</td>\n",
       "      <td>\\n4.3\\n|  32\\n</td>\n",
       "      <td>Harley-Davidson</td>\n",
       "      <td>Fat Bob 114</td>\n",
       "      <td>4.3</td>\n",
       "      <td>32</td>\n",
       "    </tr>\n",
       "    <tr>\n",
       "      <th>51</th>\n",
       "      <td>KTM 390 Adventure</td>\n",
       "      <td>Rs. 3.10 Lakh</td>\n",
       "      <td>373.2 cc | 28 kmpl | 43.5 bhp</td>\n",
       "      <td>\\n4.2\\n|  93\\n</td>\n",
       "      <td>KTM</td>\n",
       "      <td>390 Adventure</td>\n",
       "      <td>4.2</td>\n",
       "      <td>93</td>\n",
       "    </tr>\n",
       "    <tr>\n",
       "      <th>153</th>\n",
       "      <td>BMW R nineT</td>\n",
       "      <td>Rs. 18.50 Lakh</td>\n",
       "      <td>1170 cc | 221 Kg | 108.77 bhp</td>\n",
       "      <td>\\n5\\n|  1\\n</td>\n",
       "      <td>BMW</td>\n",
       "      <td>R nineT</td>\n",
       "      <td>5</td>\n",
       "      <td>1</td>\n",
       "    </tr>\n",
       "    <tr>\n",
       "      <th>57</th>\n",
       "      <td>TVS Apache RTR 200 4V</td>\n",
       "      <td>Rs. 1.29 - 1.34 Lakh</td>\n",
       "      <td>197.75 cc | 51 kmpl | 152 Kg | sport : 20.82 bhp</td>\n",
       "      <td>\\n4.2\\n|  1162\\n</td>\n",
       "      <td>TVS</td>\n",
       "      <td>Apache RTR 200 4V</td>\n",
       "      <td>4.2</td>\n",
       "      <td>1162</td>\n",
       "    </tr>\n",
       "    <tr>\n",
       "      <th>175</th>\n",
       "      <td>Kawasaki Z650</td>\n",
       "      <td>Rs. 6.18 Lakh</td>\n",
       "      <td>649 cc | 19 kmpl | 191 Kg | 68 bhp</td>\n",
       "      <td>\\n4.1\\n|  16\\n</td>\n",
       "      <td>Kawasaki</td>\n",
       "      <td>Z650</td>\n",
       "      <td>4.1</td>\n",
       "      <td>16</td>\n",
       "    </tr>\n",
       "    <tr>\n",
       "      <th>111</th>\n",
       "      <td>Hero Electric Optima E5</td>\n",
       "      <td>Rs. 66,551</td>\n",
       "      <td>550 - 1200 W | 55 km/charge | Electric | 73 Kg |</td>\n",
       "      <td>\\n4\\n|  21\\n</td>\n",
       "      <td>Hero</td>\n",
       "      <td>Electric Optima E5</td>\n",
       "      <td>4</td>\n",
       "      <td>21</td>\n",
       "    </tr>\n",
       "    <tr>\n",
       "      <th>158</th>\n",
       "      <td>BMW R 1250 R</td>\n",
       "      <td>Rs. 16.25 Lakh</td>\n",
       "      <td>1254 cc | 239 Kg | 135.96 bhp</td>\n",
       "      <td>\\n4.6\\n|  4\\n</td>\n",
       "      <td>BMW</td>\n",
       "      <td>R 1250 R</td>\n",
       "      <td>4.6</td>\n",
       "      <td>4</td>\n",
       "    </tr>\n",
       "    <tr>\n",
       "      <th>159</th>\n",
       "      <td>BMW S 1000 XR</td>\n",
       "      <td>Rs. 21.30 Lakh</td>\n",
       "      <td>999 cc | 226 Kg | 164.5 bhp</td>\n",
       "      <td>\\n5\\n|  1\\n</td>\n",
       "      <td>BMW</td>\n",
       "      <td>S 1000 XR</td>\n",
       "      <td>5</td>\n",
       "      <td>1</td>\n",
       "    </tr>\n",
       "    <tr>\n",
       "      <th>2</th>\n",
       "      <td>Royal Enfield Classic 350</td>\n",
       "      <td>Rs. 1.72 - 1.98 Lakh</td>\n",
       "      <td>346 cc | 42 kmpl | 195 Kg | 19.36 bhp</td>\n",
       "      <td>\\n4\\n|  9643\\n</td>\n",
       "      <td>Royal</td>\n",
       "      <td>Enfield Classic 350</td>\n",
       "      <td>4</td>\n",
       "      <td>9643</td>\n",
       "    </tr>\n",
       "    <tr>\n",
       "      <th>85</th>\n",
       "      <td>Yamaha FZS-FI V3</td>\n",
       "      <td>Rs. 1.04 - 1.11 Lakh</td>\n",
       "      <td>149 cc | 49 kmpl | 135 Kg | 12.4 bhp</td>\n",
       "      <td>\\n4.1\\n|  543\\n</td>\n",
       "      <td>Yamaha</td>\n",
       "      <td>FZS-FI V3</td>\n",
       "      <td>4.1</td>\n",
       "      <td>543</td>\n",
       "    </tr>\n",
       "    <tr>\n",
       "      <th>97</th>\n",
       "      <td>Suzuki Gixxer SF</td>\n",
       "      <td>Rs. 1.24 - 1.27 Lakh</td>\n",
       "      <td>155 cc | 148 Kg | 13.6 bhp</td>\n",
       "      <td>\\n4.3\\n|  508\\n</td>\n",
       "      <td>Suzuki</td>\n",
       "      <td>Gixxer SF</td>\n",
       "      <td>4.3</td>\n",
       "      <td>508</td>\n",
       "    </tr>\n",
       "    <tr>\n",
       "      <th>118</th>\n",
       "      <td>Vespa SXL 150</td>\n",
       "      <td>Rs. 1.29 - 1.35 Lakh</td>\n",
       "      <td>149.5 cc | 115 Kg | 10.47 bhp</td>\n",
       "      <td>\\n4\\n|  16\\n</td>\n",
       "      <td>Vespa</td>\n",
       "      <td>SXL 150</td>\n",
       "      <td>4</td>\n",
       "      <td>16</td>\n",
       "    </tr>\n",
       "    <tr>\n",
       "      <th>73</th>\n",
       "      <td>Hero Glamour</td>\n",
       "      <td>Rs. 73,200 - 78,500</td>\n",
       "      <td>124.7 cc | 64 kmpl | 122 Kg | 10.87 bhp</td>\n",
       "      <td>\\n3.9\\n|  2588\\n</td>\n",
       "      <td>Hero</td>\n",
       "      <td>Glamour</td>\n",
       "      <td>3.9</td>\n",
       "      <td>2588</td>\n",
       "    </tr>\n",
       "    <tr>\n",
       "      <th>23</th>\n",
       "      <td>Honda CB650R</td>\n",
       "      <td>Rs. 8.67 Lakh</td>\n",
       "      <td>648.72 cc | 20 kmpl | 202.5 Kg | 87.01 bhp</td>\n",
       "      <td>\\n5\\n|  1\\n</td>\n",
       "      <td>Honda</td>\n",
       "      <td>CB650R</td>\n",
       "      <td>5</td>\n",
       "      <td>1</td>\n",
       "    </tr>\n",
       "    <tr>\n",
       "      <th>168</th>\n",
       "      <td>Kawasaki 2021 Ninja H2</td>\n",
       "      <td>Rs. 79.90 Lakh</td>\n",
       "      <td>998 cc | 238 Kg | 310 bhp</td>\n",
       "      <td>\\n4.3\\n|  44\\n</td>\n",
       "      <td>Kawasaki</td>\n",
       "      <td>2021 Ninja H2</td>\n",
       "      <td>4.3</td>\n",
       "      <td>44</td>\n",
       "    </tr>\n",
       "    <tr>\n",
       "      <th>82</th>\n",
       "      <td>Hero Maestro Edge 110</td>\n",
       "      <td>Rs. 62,750 - 65,750</td>\n",
       "      <td>110.9 cc | 112 Kg | 8.15 bhp</td>\n",
       "      <td>\\n3.7\\n|  89\\n</td>\n",
       "      <td>Hero</td>\n",
       "      <td>Maestro Edge 110</td>\n",
       "      <td>3.7</td>\n",
       "      <td>89</td>\n",
       "    </tr>\n",
       "    <tr>\n",
       "      <th>122</th>\n",
       "      <td>Harley-Davidson Forty Eight</td>\n",
       "      <td>Rs. 11.75 Lakh</td>\n",
       "      <td>1202 cc | 252 Kg |</td>\n",
       "      <td>\\n4.3\\n|  22\\n</td>\n",
       "      <td>Harley-Davidson</td>\n",
       "      <td>Forty Eight</td>\n",
       "      <td>4.3</td>\n",
       "      <td>22</td>\n",
       "    </tr>\n",
       "    <tr>\n",
       "      <th>172</th>\n",
       "      <td>Kawasaki Ninja 1000SX</td>\n",
       "      <td>Rs. 11.29 Lakh</td>\n",
       "      <td>1043 cc | 238 Kg | 142 bhp</td>\n",
       "      <td>\\n4.1\\n|  42\\n</td>\n",
       "      <td>Kawasaki</td>\n",
       "      <td>Ninja 1000SX</td>\n",
       "      <td>4.1</td>\n",
       "      <td>42</td>\n",
       "    </tr>\n",
       "  </tbody>\n",
       "</table>\n",
       "</div>"
      ],
      "text/plain": [
       "                       Bike Name                 Price  \\\n",
       "150                BMW R 1250 GS        Rs. 20.45 Lakh   \n",
       "52             KTM 250 Adventure         Rs. 2.51 Lakh   \n",
       "124  Harley-Davidson Fat Bob 114        Rs. 16.75 Lakh   \n",
       "51             KTM 390 Adventure         Rs. 3.10 Lakh   \n",
       "153                  BMW R nineT        Rs. 18.50 Lakh   \n",
       "57         TVS Apache RTR 200 4V  Rs. 1.29 - 1.34 Lakh   \n",
       "175                Kawasaki Z650         Rs. 6.18 Lakh   \n",
       "111      Hero Electric Optima E5            Rs. 66,551   \n",
       "158                 BMW R 1250 R        Rs. 16.25 Lakh   \n",
       "159                BMW S 1000 XR        Rs. 21.30 Lakh   \n",
       "2      Royal Enfield Classic 350  Rs. 1.72 - 1.98 Lakh   \n",
       "85              Yamaha FZS-FI V3  Rs. 1.04 - 1.11 Lakh   \n",
       "97              Suzuki Gixxer SF  Rs. 1.24 - 1.27 Lakh   \n",
       "118                Vespa SXL 150  Rs. 1.29 - 1.35 Lakh   \n",
       "73                  Hero Glamour   Rs. 73,200 - 78,500   \n",
       "23                  Honda CB650R         Rs. 8.67 Lakh   \n",
       "168       Kawasaki 2021 Ninja H2        Rs. 79.90 Lakh   \n",
       "82         Hero Maestro Edge 110   Rs. 62,750 - 65,750   \n",
       "122  Harley-Davidson Forty Eight        Rs. 11.75 Lakh   \n",
       "172        Kawasaki Ninja 1000SX        Rs. 11.29 Lakh   \n",
       "\n",
       "                                         Specification            Rating  \\\n",
       "150               1254 cc | 15 kmpl | 249 Kg | 136 bhp    \\n4.3\\n|  11\\n   \n",
       "52               248.76 cc | 38 kmpl | 177 Kg | 30 bhp    \\n4.5\\n|  15\\n   \n",
       "124                                1868 cc | 306 Kg |     \\n4.3\\n|  32\\n   \n",
       "51                       373.2 cc | 28 kmpl | 43.5 bhp    \\n4.2\\n|  93\\n   \n",
       "153                      1170 cc | 221 Kg | 108.77 bhp       \\n5\\n|  1\\n   \n",
       "57    197.75 cc | 51 kmpl | 152 Kg | sport : 20.82 bhp  \\n4.2\\n|  1162\\n   \n",
       "175                 649 cc | 19 kmpl | 191 Kg | 68 bhp    \\n4.1\\n|  16\\n   \n",
       "111  550 - 1200 W | 55 km/charge | Electric | 73 Kg |       \\n4\\n|  21\\n   \n",
       "158                      1254 cc | 239 Kg | 135.96 bhp     \\n4.6\\n|  4\\n   \n",
       "159                        999 cc | 226 Kg | 164.5 bhp       \\n5\\n|  1\\n   \n",
       "2                346 cc | 42 kmpl | 195 Kg | 19.36 bhp    \\n4\\n|  9643\\n   \n",
       "85                149 cc | 49 kmpl | 135 Kg | 12.4 bhp   \\n4.1\\n|  543\\n   \n",
       "97                          155 cc | 148 Kg | 13.6 bhp   \\n4.3\\n|  508\\n   \n",
       "118                      149.5 cc | 115 Kg | 10.47 bhp      \\n4\\n|  16\\n   \n",
       "73             124.7 cc | 64 kmpl | 122 Kg | 10.87 bhp  \\n3.9\\n|  2588\\n   \n",
       "23          648.72 cc | 20 kmpl | 202.5 Kg | 87.01 bhp       \\n5\\n|  1\\n   \n",
       "168                          998 cc | 238 Kg | 310 bhp    \\n4.3\\n|  44\\n   \n",
       "82                        110.9 cc | 112 Kg | 8.15 bhp    \\n3.7\\n|  89\\n   \n",
       "122                                1202 cc | 252 Kg |     \\n4.3\\n|  22\\n   \n",
       "172                         1043 cc | 238 Kg | 142 bhp    \\n4.1\\n|  42\\n   \n",
       "\n",
       "               Brand                 Model Ratings Rated By  \n",
       "150              BMW             R 1250 GS     4.3       11  \n",
       "52               KTM         250 Adventure     4.5       15  \n",
       "124  Harley-Davidson           Fat Bob 114     4.3       32  \n",
       "51               KTM         390 Adventure     4.2       93  \n",
       "153              BMW               R nineT       5        1  \n",
       "57               TVS     Apache RTR 200 4V     4.2     1162  \n",
       "175         Kawasaki                  Z650     4.1       16  \n",
       "111             Hero    Electric Optima E5       4       21  \n",
       "158              BMW              R 1250 R     4.6        4  \n",
       "159              BMW             S 1000 XR       5        1  \n",
       "2              Royal   Enfield Classic 350       4     9643  \n",
       "85            Yamaha             FZS-FI V3     4.1      543  \n",
       "97            Suzuki             Gixxer SF     4.3      508  \n",
       "118            Vespa               SXL 150       4       16  \n",
       "73              Hero               Glamour     3.9     2588  \n",
       "23             Honda                CB650R       5        1  \n",
       "168         Kawasaki         2021 Ninja H2     4.3       44  \n",
       "82              Hero      Maestro Edge 110     3.7       89  \n",
       "122  Harley-Davidson           Forty Eight     4.3       22  \n",
       "172         Kawasaki          Ninja 1000SX     4.1       42  "
      ]
     },
     "execution_count": 798,
     "metadata": {},
     "output_type": "execute_result"
    }
   ],
   "source": [
    "data_bike.sample(20)"
   ]
  },
  {
   "cell_type": "markdown",
   "id": "cf9c36ab",
   "metadata": {},
   "source": [
    "## - cc for Petrol bikes"
   ]
  },
  {
   "cell_type": "code",
   "execution_count": 799,
   "id": "89ea2150",
   "metadata": {},
   "outputs": [],
   "source": [
    "data_bike['Specification']=data_bike['Specification'].astype('str')\n",
    "regx=r'[0-9]+.[0-9]+\\s'\n",
    "pregx=re.compile(regx)\n",
    "\n",
    "data_bike['CC or Watt']=data_bike['Specification'].apply(lambda x:np.NaN if pregx.search(x) is None else pregx.search(x).group().replace('cc',''))"
   ]
  },
  {
   "cell_type": "code",
   "execution_count": 800,
   "id": "1e156ca8",
   "metadata": {},
   "outputs": [
    {
     "data": {
      "text/html": [
       "<div>\n",
       "<style scoped>\n",
       "    .dataframe tbody tr th:only-of-type {\n",
       "        vertical-align: middle;\n",
       "    }\n",
       "\n",
       "    .dataframe tbody tr th {\n",
       "        vertical-align: top;\n",
       "    }\n",
       "\n",
       "    .dataframe thead th {\n",
       "        text-align: right;\n",
       "    }\n",
       "</style>\n",
       "<table border=\"1\" class=\"dataframe\">\n",
       "  <thead>\n",
       "    <tr style=\"text-align: right;\">\n",
       "      <th></th>\n",
       "      <th>Bike Name</th>\n",
       "      <th>Price</th>\n",
       "      <th>Specification</th>\n",
       "      <th>Rating</th>\n",
       "      <th>Brand</th>\n",
       "      <th>Model</th>\n",
       "      <th>Ratings</th>\n",
       "      <th>Rated By</th>\n",
       "      <th>CC or Watt</th>\n",
       "    </tr>\n",
       "  </thead>\n",
       "  <tbody>\n",
       "    <tr>\n",
       "      <th>209</th>\n",
       "      <td>Okinawa Ridge</td>\n",
       "      <td>Rs. 73,417</td>\n",
       "      <td>1700 W | 84 km/charge | Electric |</td>\n",
       "      <td>\\n3.8\\n|  37\\n</td>\n",
       "      <td>Okinawa</td>\n",
       "      <td>Ridge</td>\n",
       "      <td>3.8</td>\n",
       "      <td>37</td>\n",
       "      <td>1700</td>\n",
       "    </tr>\n",
       "    <tr>\n",
       "      <th>108</th>\n",
       "      <td>Hero Electric Photon</td>\n",
       "      <td>Rs. 61,866 - 72,990</td>\n",
       "      <td>1000-1400 W | 60 km/charge | Electric | 116 Kg |</td>\n",
       "      <td>\\n3.1\\n|  21\\n</td>\n",
       "      <td>Hero</td>\n",
       "      <td>Electric Photon</td>\n",
       "      <td>3.1</td>\n",
       "      <td>21</td>\n",
       "      <td>1000-1400</td>\n",
       "    </tr>\n",
       "    <tr>\n",
       "      <th>106</th>\n",
       "      <td>Hero Electric Optima HS500 ER</td>\n",
       "      <td>Rs. 71,990</td>\n",
       "      <td>550 - 1200 W | 110 km/charge | Electric | 83 K...</td>\n",
       "      <td>\\n3.7\\n|  30\\n</td>\n",
       "      <td>Hero</td>\n",
       "      <td>Electric Optima HS500 ER</td>\n",
       "      <td>3.7</td>\n",
       "      <td>30</td>\n",
       "      <td>550</td>\n",
       "    </tr>\n",
       "    <tr>\n",
       "      <th>158</th>\n",
       "      <td>BMW R 1250 R</td>\n",
       "      <td>Rs. 16.25 Lakh</td>\n",
       "      <td>1254 cc | 239 Kg | 135.96 bhp</td>\n",
       "      <td>\\n4.6\\n|  4\\n</td>\n",
       "      <td>BMW</td>\n",
       "      <td>R 1250 R</td>\n",
       "      <td>4.6</td>\n",
       "      <td>4</td>\n",
       "      <td>1254</td>\n",
       "    </tr>\n",
       "    <tr>\n",
       "      <th>60</th>\n",
       "      <td>TVS NTORQ 125</td>\n",
       "      <td>Rs. 71,095 - 81,075</td>\n",
       "      <td>124.8 cc | 52 kmpl | 118 Kg | 9.38 bhp</td>\n",
       "      <td>\\n4.1\\n|  2120\\n</td>\n",
       "      <td>TVS</td>\n",
       "      <td>NTORQ 125</td>\n",
       "      <td>4.1</td>\n",
       "      <td>2120</td>\n",
       "      <td>124.8</td>\n",
       "    </tr>\n",
       "    <tr>\n",
       "      <th>12</th>\n",
       "      <td>Honda Unicorn</td>\n",
       "      <td>Rs. 97,356</td>\n",
       "      <td>162.7 cc | 140 Kg | 12.91 bhp</td>\n",
       "      <td>\\n4.1\\n|  393\\n</td>\n",
       "      <td>Honda</td>\n",
       "      <td>Unicorn</td>\n",
       "      <td>4.1</td>\n",
       "      <td>393</td>\n",
       "      <td>162.7</td>\n",
       "    </tr>\n",
       "    <tr>\n",
       "      <th>123</th>\n",
       "      <td>Harley-Davidson Fat Boy 114</td>\n",
       "      <td>Rs. 20.90 Lakh</td>\n",
       "      <td>1745 cc | 322 Kg |</td>\n",
       "      <td>\\n4.2\\n|  31\\n</td>\n",
       "      <td>Harley-Davidson</td>\n",
       "      <td>Fat Boy 114</td>\n",
       "      <td>4.2</td>\n",
       "      <td>31</td>\n",
       "      <td>1745</td>\n",
       "    </tr>\n",
       "    <tr>\n",
       "      <th>59</th>\n",
       "      <td>TVS Jupiter</td>\n",
       "      <td>Rs. 64,437 - 73,737</td>\n",
       "      <td>109.7 cc | 60 kmpl | 107 Kg | 7.47 bhp</td>\n",
       "      <td>\\n4\\n|  2311\\n</td>\n",
       "      <td>TVS</td>\n",
       "      <td>Jupiter</td>\n",
       "      <td>4</td>\n",
       "      <td>2311</td>\n",
       "      <td>109.7</td>\n",
       "    </tr>\n",
       "    <tr>\n",
       "      <th>183</th>\n",
       "      <td>Kawasaki KLX 450R</td>\n",
       "      <td>Rs. 8.49 Lakh</td>\n",
       "      <td>449 cc | 126 Kg |</td>\n",
       "      <td>\\n3.4\\n|  1\\n</td>\n",
       "      <td>Kawasaki</td>\n",
       "      <td>KLX 450R</td>\n",
       "      <td>3.4</td>\n",
       "      <td>1</td>\n",
       "      <td>449</td>\n",
       "    </tr>\n",
       "    <tr>\n",
       "      <th>196</th>\n",
       "      <td>Benelli Leoncino 500</td>\n",
       "      <td>Rs. 4.69 - 4.79 Lakh</td>\n",
       "      <td>500 cc | 207 Kg | 47.5 bhp</td>\n",
       "      <td>\\n4.8\\n|  6\\n</td>\n",
       "      <td>Benelli</td>\n",
       "      <td>Leoncino 500</td>\n",
       "      <td>4.8</td>\n",
       "      <td>6</td>\n",
       "      <td>500</td>\n",
       "    </tr>\n",
       "  </tbody>\n",
       "</table>\n",
       "</div>"
      ],
      "text/plain": [
       "                         Bike Name                 Price  \\\n",
       "209                  Okinawa Ridge            Rs. 73,417   \n",
       "108           Hero Electric Photon   Rs. 61,866 - 72,990   \n",
       "106  Hero Electric Optima HS500 ER            Rs. 71,990   \n",
       "158                   BMW R 1250 R        Rs. 16.25 Lakh   \n",
       "60                   TVS NTORQ 125   Rs. 71,095 - 81,075   \n",
       "12                   Honda Unicorn            Rs. 97,356   \n",
       "123    Harley-Davidson Fat Boy 114        Rs. 20.90 Lakh   \n",
       "59                     TVS Jupiter   Rs. 64,437 - 73,737   \n",
       "183              Kawasaki KLX 450R         Rs. 8.49 Lakh   \n",
       "196           Benelli Leoncino 500  Rs. 4.69 - 4.79 Lakh   \n",
       "\n",
       "                                         Specification            Rating  \\\n",
       "209                1700 W | 84 km/charge | Electric |     \\n3.8\\n|  37\\n   \n",
       "108  1000-1400 W | 60 km/charge | Electric | 116 Kg |     \\n3.1\\n|  21\\n   \n",
       "106  550 - 1200 W | 110 km/charge | Electric | 83 K...    \\n3.7\\n|  30\\n   \n",
       "158                      1254 cc | 239 Kg | 135.96 bhp     \\n4.6\\n|  4\\n   \n",
       "60              124.8 cc | 52 kmpl | 118 Kg | 9.38 bhp  \\n4.1\\n|  2120\\n   \n",
       "12                       162.7 cc | 140 Kg | 12.91 bhp   \\n4.1\\n|  393\\n   \n",
       "123                                1745 cc | 322 Kg |     \\n4.2\\n|  31\\n   \n",
       "59              109.7 cc | 60 kmpl | 107 Kg | 7.47 bhp    \\n4\\n|  2311\\n   \n",
       "183                                 449 cc | 126 Kg |      \\n3.4\\n|  1\\n   \n",
       "196                         500 cc | 207 Kg | 47.5 bhp     \\n4.8\\n|  6\\n   \n",
       "\n",
       "               Brand                      Model Ratings Rated By  CC or Watt  \n",
       "209          Okinawa                      Ridge     3.8       37       1700   \n",
       "108             Hero            Electric Photon     3.1       21  1000-1400   \n",
       "106             Hero   Electric Optima HS500 ER     3.7       30        550   \n",
       "158              BMW                   R 1250 R     4.6        4       1254   \n",
       "60               TVS                  NTORQ 125     4.1     2120      124.8   \n",
       "12             Honda                    Unicorn     4.1      393      162.7   \n",
       "123  Harley-Davidson                Fat Boy 114     4.2       31       1745   \n",
       "59               TVS                    Jupiter       4     2311      109.7   \n",
       "183         Kawasaki                   KLX 450R     3.4        1        449   \n",
       "196          Benelli               Leoncino 500     4.8        6        500   "
      ]
     },
     "execution_count": 800,
     "metadata": {},
     "output_type": "execute_result"
    }
   ],
   "source": [
    "data_bike.sample(10)"
   ]
  },
  {
   "cell_type": "markdown",
   "id": "9cf7671f",
   "metadata": {},
   "source": [
    "##  - Fuel Type ( Petrol / Electric )"
   ]
  },
  {
   "cell_type": "code",
   "execution_count": 801,
   "id": "cae4aa61",
   "metadata": {},
   "outputs": [],
   "source": [
    "data_bike['Specification']=data_bike['Specification'].astype('str')  # convert to string\n",
    "regx=r'[\\SA-Za-z0-9\\s]+Electric'\n",
    "pregx=re.compile(regx)\n",
    "\n",
    "data_bike['Fuel Type']=data_bike['Specification'].apply(lambda x:'Electric' if pregx.search(x) else 'Petrol')"
   ]
  },
  {
   "cell_type": "code",
   "execution_count": 802,
   "id": "537363c8",
   "metadata": {},
   "outputs": [
    {
     "data": {
      "text/html": [
       "<div>\n",
       "<style scoped>\n",
       "    .dataframe tbody tr th:only-of-type {\n",
       "        vertical-align: middle;\n",
       "    }\n",
       "\n",
       "    .dataframe tbody tr th {\n",
       "        vertical-align: top;\n",
       "    }\n",
       "\n",
       "    .dataframe thead th {\n",
       "        text-align: right;\n",
       "    }\n",
       "</style>\n",
       "<table border=\"1\" class=\"dataframe\">\n",
       "  <thead>\n",
       "    <tr style=\"text-align: right;\">\n",
       "      <th></th>\n",
       "      <th>Bike Name</th>\n",
       "      <th>Price</th>\n",
       "      <th>Specification</th>\n",
       "      <th>Rating</th>\n",
       "      <th>Brand</th>\n",
       "      <th>Model</th>\n",
       "      <th>Ratings</th>\n",
       "      <th>Rated By</th>\n",
       "      <th>CC or Watt</th>\n",
       "      <th>Fuel Type</th>\n",
       "    </tr>\n",
       "  </thead>\n",
       "  <tbody>\n",
       "    <tr>\n",
       "      <th>92</th>\n",
       "      <td>Jawa Perak</td>\n",
       "      <td>Rs. 1.97 Lakh</td>\n",
       "      <td>334 cc | 34 kmpl | 175 Kg | 30. 64 bhp</td>\n",
       "      <td>\\n4.3\\n|  197\\n</td>\n",
       "      <td>Jawa</td>\n",
       "      <td>Perak</td>\n",
       "      <td>4.3</td>\n",
       "      <td>197</td>\n",
       "      <td>334</td>\n",
       "      <td>Petrol</td>\n",
       "    </tr>\n",
       "    <tr>\n",
       "      <th>80</th>\n",
       "      <td>Hero Destini 125</td>\n",
       "      <td>Rs. 67,990 - 73,390</td>\n",
       "      <td>124.6 cc | 113 Kg | 9.1 bhp</td>\n",
       "      <td>\\n4.3\\n|  588\\n</td>\n",
       "      <td>Hero</td>\n",
       "      <td>Destini 125</td>\n",
       "      <td>4.3</td>\n",
       "      <td>588</td>\n",
       "      <td>124.6</td>\n",
       "      <td>Petrol</td>\n",
       "    </tr>\n",
       "    <tr>\n",
       "      <th>4</th>\n",
       "      <td>Royal Enfield Himalayan</td>\n",
       "      <td>Rs. 2.01 - 2.08 Lakh</td>\n",
       "      <td>411 cc | 32 kmpl | 199 Kg | 24.31 bhp</td>\n",
       "      <td>\\n4.3\\n|  371\\n</td>\n",
       "      <td>Royal</td>\n",
       "      <td>Enfield Himalayan</td>\n",
       "      <td>4.3</td>\n",
       "      <td>371</td>\n",
       "      <td>411</td>\n",
       "      <td>Petrol</td>\n",
       "    </tr>\n",
       "    <tr>\n",
       "      <th>123</th>\n",
       "      <td>Harley-Davidson Fat Boy 114</td>\n",
       "      <td>Rs. 20.90 Lakh</td>\n",
       "      <td>1745 cc | 322 Kg |</td>\n",
       "      <td>\\n4.2\\n|  31\\n</td>\n",
       "      <td>Harley-Davidson</td>\n",
       "      <td>Fat Boy 114</td>\n",
       "      <td>4.2</td>\n",
       "      <td>31</td>\n",
       "      <td>1745</td>\n",
       "      <td>Petrol</td>\n",
       "    </tr>\n",
       "    <tr>\n",
       "      <th>199</th>\n",
       "      <td>Indian Springfield Dark Horse</td>\n",
       "      <td>Rs. 28.57 Lakh</td>\n",
       "      <td>1890 cc | 355 Kg |</td>\n",
       "      <td>\\n3.3\\n|  5\\n</td>\n",
       "      <td>Indian</td>\n",
       "      <td>Springfield Dark Horse</td>\n",
       "      <td>3.3</td>\n",
       "      <td>5</td>\n",
       "      <td>1890</td>\n",
       "      <td>Petrol</td>\n",
       "    </tr>\n",
       "    <tr>\n",
       "      <th>63</th>\n",
       "      <td>TVS Apache RTR 180</td>\n",
       "      <td>Rs. 1.08 Lakh</td>\n",
       "      <td>177.4 cc | 141 Kg | 16.79 bhp</td>\n",
       "      <td>\\n4.2\\n|  1115\\n</td>\n",
       "      <td>TVS</td>\n",
       "      <td>Apache RTR 180</td>\n",
       "      <td>4.2</td>\n",
       "      <td>1115</td>\n",
       "      <td>177.4</td>\n",
       "      <td>Petrol</td>\n",
       "    </tr>\n",
       "    <tr>\n",
       "      <th>180</th>\n",
       "      <td>Kawasaki KX 250</td>\n",
       "      <td>Rs. 7.43 Lakh</td>\n",
       "      <td>249 cc | 104.7 Kg |</td>\n",
       "      <td>\\n5\\n|  1\\n</td>\n",
       "      <td>Kawasaki</td>\n",
       "      <td>KX 250</td>\n",
       "      <td>5</td>\n",
       "      <td>1</td>\n",
       "      <td>249</td>\n",
       "      <td>Petrol</td>\n",
       "    </tr>\n",
       "    <tr>\n",
       "      <th>86</th>\n",
       "      <td>Yamaha FZ-FI Version 3.0</td>\n",
       "      <td>Rs. 1.04 Lakh</td>\n",
       "      <td>149 cc | 135 Kg | 12.4 bhp</td>\n",
       "      <td>\\n4.2\\n|  416\\n</td>\n",
       "      <td>Yamaha</td>\n",
       "      <td>FZ-FI Version 3</td>\n",
       "      <td>4.2</td>\n",
       "      <td>416</td>\n",
       "      <td>149</td>\n",
       "      <td>Petrol</td>\n",
       "    </tr>\n",
       "    <tr>\n",
       "      <th>139</th>\n",
       "      <td>Triumph Bonneville Bobber</td>\n",
       "      <td>Rs. 11.75 Lakh</td>\n",
       "      <td>1200 cc | 251 Kg | 78 bhp</td>\n",
       "      <td>\\n4.4\\n|  7\\n</td>\n",
       "      <td>Triumph</td>\n",
       "      <td>Bonneville Bobber</td>\n",
       "      <td>4.4</td>\n",
       "      <td>7</td>\n",
       "      <td>1200</td>\n",
       "      <td>Petrol</td>\n",
       "    </tr>\n",
       "    <tr>\n",
       "      <th>44</th>\n",
       "      <td>KTM 200 Duke</td>\n",
       "      <td>Rs. 1.81 Lakh</td>\n",
       "      <td>199.5 cc | 25.83 bhp</td>\n",
       "      <td>\\n4.1\\n|  2024\\n</td>\n",
       "      <td>KTM</td>\n",
       "      <td>200 Duke</td>\n",
       "      <td>4.1</td>\n",
       "      <td>2024</td>\n",
       "      <td>199.5</td>\n",
       "      <td>Petrol</td>\n",
       "    </tr>\n",
       "    <tr>\n",
       "      <th>107</th>\n",
       "      <td>Hero Electric NYX</td>\n",
       "      <td>Rs. 63,990 - 79,990</td>\n",
       "      <td>250 W | 55 km/charge | Electric |</td>\n",
       "      <td>\\n3.6\\n|  11\\n</td>\n",
       "      <td>Hero</td>\n",
       "      <td>Electric NYX</td>\n",
       "      <td>3.6</td>\n",
       "      <td>11</td>\n",
       "      <td>250</td>\n",
       "      <td>Electric</td>\n",
       "    </tr>\n",
       "    <tr>\n",
       "      <th>20</th>\n",
       "      <td>Honda Gold Wing</td>\n",
       "      <td>Rs. 37.20 - 39.16 Lakh</td>\n",
       "      <td>1833 cc | 379 Kg | 126.4 bhp</td>\n",
       "      <td>\\n4.4\\n|  24\\n</td>\n",
       "      <td>Honda</td>\n",
       "      <td>Gold Wing</td>\n",
       "      <td>4.4</td>\n",
       "      <td>24</td>\n",
       "      <td>1833</td>\n",
       "      <td>Petrol</td>\n",
       "    </tr>\n",
       "    <tr>\n",
       "      <th>54</th>\n",
       "      <td>Revolt RV300</td>\n",
       "      <td>Rs. 94,999</td>\n",
       "      <td>1500 W | 180 km/charge | Electric | 101 Kg |</td>\n",
       "      <td>\\n3.9\\n|  94\\n</td>\n",
       "      <td>Revolt</td>\n",
       "      <td>RV300</td>\n",
       "      <td>3.9</td>\n",
       "      <td>94</td>\n",
       "      <td>1500</td>\n",
       "      <td>Electric</td>\n",
       "    </tr>\n",
       "    <tr>\n",
       "      <th>97</th>\n",
       "      <td>Suzuki Gixxer SF</td>\n",
       "      <td>Rs. 1.24 - 1.27 Lakh</td>\n",
       "      <td>155 cc | 148 Kg | 13.6 bhp</td>\n",
       "      <td>\\n4.3\\n|  508\\n</td>\n",
       "      <td>Suzuki</td>\n",
       "      <td>Gixxer SF</td>\n",
       "      <td>4.3</td>\n",
       "      <td>508</td>\n",
       "      <td>155</td>\n",
       "      <td>Petrol</td>\n",
       "    </tr>\n",
       "    <tr>\n",
       "      <th>7</th>\n",
       "      <td>Royal Enfield Continental GT 650</td>\n",
       "      <td>Rs. 2.91 - 3.13 Lakh</td>\n",
       "      <td>648 cc | 202 Kg | 47.65 bhp</td>\n",
       "      <td>\\n4.3\\n|  314\\n</td>\n",
       "      <td>Royal</td>\n",
       "      <td>Enfield Continental GT 650</td>\n",
       "      <td>4.3</td>\n",
       "      <td>314</td>\n",
       "      <td>648</td>\n",
       "      <td>Petrol</td>\n",
       "    </tr>\n",
       "    <tr>\n",
       "      <th>35</th>\n",
       "      <td>Bajaj Pulsar NS160</td>\n",
       "      <td>Rs. 1.11 Lakh</td>\n",
       "      <td>160.3 cc | 41 kmpl | 151 Kg | 17.2 bhp</td>\n",
       "      <td>\\n4.2\\n|  788\\n</td>\n",
       "      <td>Bajaj</td>\n",
       "      <td>Pulsar NS160</td>\n",
       "      <td>4.2</td>\n",
       "      <td>788</td>\n",
       "      <td>160.3</td>\n",
       "      <td>Petrol</td>\n",
       "    </tr>\n",
       "    <tr>\n",
       "      <th>15</th>\n",
       "      <td>Honda Livo</td>\n",
       "      <td>Rs. 69,971 - 74,171</td>\n",
       "      <td>109.51 cc | 115 Kg | 8.79 bhp</td>\n",
       "      <td>\\n4.1\\n|  181\\n</td>\n",
       "      <td>Honda</td>\n",
       "      <td>Livo</td>\n",
       "      <td>4.1</td>\n",
       "      <td>181</td>\n",
       "      <td>109.51</td>\n",
       "      <td>Petrol</td>\n",
       "    </tr>\n",
       "    <tr>\n",
       "      <th>124</th>\n",
       "      <td>Harley-Davidson Fat Bob 114</td>\n",
       "      <td>Rs. 16.75 Lakh</td>\n",
       "      <td>1868 cc | 306 Kg |</td>\n",
       "      <td>\\n4.3\\n|  32\\n</td>\n",
       "      <td>Harley-Davidson</td>\n",
       "      <td>Fat Bob 114</td>\n",
       "      <td>4.3</td>\n",
       "      <td>32</td>\n",
       "      <td>1868</td>\n",
       "      <td>Petrol</td>\n",
       "    </tr>\n",
       "    <tr>\n",
       "      <th>194</th>\n",
       "      <td>Benelli Imperiale 400</td>\n",
       "      <td>Rs. 1.89 - 1.93 Lakh</td>\n",
       "      <td>374 cc | 33 kmpl | 205 Kg | 21 bhp</td>\n",
       "      <td>\\n4.3\\n|  89\\n</td>\n",
       "      <td>Benelli</td>\n",
       "      <td>Imperiale 400</td>\n",
       "      <td>4.3</td>\n",
       "      <td>89</td>\n",
       "      <td>374</td>\n",
       "      <td>Petrol</td>\n",
       "    </tr>\n",
       "    <tr>\n",
       "      <th>66</th>\n",
       "      <td>TVS Scooty Pep Plus</td>\n",
       "      <td>Rs. 56,009 - 58,759</td>\n",
       "      <td>87.8 cc | 93 Kg | 5.4 bhp</td>\n",
       "      <td>\\n3.8\\n|  374\\n</td>\n",
       "      <td>TVS</td>\n",
       "      <td>Scooty Pep Plus</td>\n",
       "      <td>3.8</td>\n",
       "      <td>374</td>\n",
       "      <td>87.8</td>\n",
       "      <td>Petrol</td>\n",
       "    </tr>\n",
       "  </tbody>\n",
       "</table>\n",
       "</div>"
      ],
      "text/plain": [
       "                            Bike Name                   Price  \\\n",
       "92                         Jawa Perak           Rs. 1.97 Lakh   \n",
       "80                   Hero Destini 125     Rs. 67,990 - 73,390   \n",
       "4             Royal Enfield Himalayan    Rs. 2.01 - 2.08 Lakh   \n",
       "123       Harley-Davidson Fat Boy 114          Rs. 20.90 Lakh   \n",
       "199     Indian Springfield Dark Horse          Rs. 28.57 Lakh   \n",
       "63                 TVS Apache RTR 180           Rs. 1.08 Lakh   \n",
       "180                   Kawasaki KX 250           Rs. 7.43 Lakh   \n",
       "86           Yamaha FZ-FI Version 3.0           Rs. 1.04 Lakh   \n",
       "139         Triumph Bonneville Bobber          Rs. 11.75 Lakh   \n",
       "44                       KTM 200 Duke           Rs. 1.81 Lakh   \n",
       "107                 Hero Electric NYX     Rs. 63,990 - 79,990   \n",
       "20                    Honda Gold Wing  Rs. 37.20 - 39.16 Lakh   \n",
       "54                       Revolt RV300              Rs. 94,999   \n",
       "97                   Suzuki Gixxer SF    Rs. 1.24 - 1.27 Lakh   \n",
       "7    Royal Enfield Continental GT 650    Rs. 2.91 - 3.13 Lakh   \n",
       "35                 Bajaj Pulsar NS160           Rs. 1.11 Lakh   \n",
       "15                         Honda Livo     Rs. 69,971 - 74,171   \n",
       "124       Harley-Davidson Fat Bob 114          Rs. 16.75 Lakh   \n",
       "194             Benelli Imperiale 400    Rs. 1.89 - 1.93 Lakh   \n",
       "66                TVS Scooty Pep Plus     Rs. 56,009 - 58,759   \n",
       "\n",
       "                                     Specification            Rating  \\\n",
       "92          334 cc | 34 kmpl | 175 Kg | 30. 64 bhp   \\n4.3\\n|  197\\n   \n",
       "80                     124.6 cc | 113 Kg | 9.1 bhp   \\n4.3\\n|  588\\n   \n",
       "4            411 cc | 32 kmpl | 199 Kg | 24.31 bhp   \\n4.3\\n|  371\\n   \n",
       "123                            1745 cc | 322 Kg |     \\n4.2\\n|  31\\n   \n",
       "199                            1890 cc | 355 Kg |      \\n3.3\\n|  5\\n   \n",
       "63                   177.4 cc | 141 Kg | 16.79 bhp  \\n4.2\\n|  1115\\n   \n",
       "180                           249 cc | 104.7 Kg |        \\n5\\n|  1\\n   \n",
       "86                      149 cc | 135 Kg | 12.4 bhp   \\n4.2\\n|  416\\n   \n",
       "139                      1200 cc | 251 Kg | 78 bhp     \\n4.4\\n|  7\\n   \n",
       "44                            199.5 cc | 25.83 bhp  \\n4.1\\n|  2024\\n   \n",
       "107             250 W | 55 km/charge | Electric |     \\n3.6\\n|  11\\n   \n",
       "20                    1833 cc | 379 Kg | 126.4 bhp    \\n4.4\\n|  24\\n   \n",
       "54   1500 W | 180 km/charge | Electric | 101 Kg |     \\n3.9\\n|  94\\n   \n",
       "97                      155 cc | 148 Kg | 13.6 bhp   \\n4.3\\n|  508\\n   \n",
       "7                      648 cc | 202 Kg | 47.65 bhp   \\n4.3\\n|  314\\n   \n",
       "35          160.3 cc | 41 kmpl | 151 Kg | 17.2 bhp   \\n4.2\\n|  788\\n   \n",
       "15                   109.51 cc | 115 Kg | 8.79 bhp   \\n4.1\\n|  181\\n   \n",
       "124                            1868 cc | 306 Kg |     \\n4.3\\n|  32\\n   \n",
       "194             374 cc | 33 kmpl | 205 Kg | 21 bhp    \\n4.3\\n|  89\\n   \n",
       "66                       87.8 cc | 93 Kg | 5.4 bhp   \\n3.8\\n|  374\\n   \n",
       "\n",
       "               Brand                        Model Ratings Rated By CC or Watt  \\\n",
       "92              Jawa                        Perak     4.3      197       334    \n",
       "80              Hero                  Destini 125     4.3      588     124.6    \n",
       "4              Royal            Enfield Himalayan     4.3      371       411    \n",
       "123  Harley-Davidson                  Fat Boy 114     4.2       31      1745    \n",
       "199           Indian       Springfield Dark Horse     3.3        5      1890    \n",
       "63               TVS               Apache RTR 180     4.2     1115     177.4    \n",
       "180         Kawasaki                       KX 250       5        1       249    \n",
       "86            Yamaha              FZ-FI Version 3     4.2      416       149    \n",
       "139          Triumph            Bonneville Bobber     4.4        7      1200    \n",
       "44               KTM                     200 Duke     4.1     2024     199.5    \n",
       "107             Hero                 Electric NYX     3.6       11       250    \n",
       "20             Honda                    Gold Wing     4.4       24      1833    \n",
       "54            Revolt                        RV300     3.9       94      1500    \n",
       "97            Suzuki                    Gixxer SF     4.3      508       155    \n",
       "7              Royal   Enfield Continental GT 650     4.3      314       648    \n",
       "35             Bajaj                 Pulsar NS160     4.2      788     160.3    \n",
       "15             Honda                         Livo     4.1      181    109.51    \n",
       "124  Harley-Davidson                  Fat Bob 114     4.3       32      1868    \n",
       "194          Benelli                Imperiale 400     4.3       89       374    \n",
       "66               TVS              Scooty Pep Plus     3.8      374      87.8    \n",
       "\n",
       "    Fuel Type  \n",
       "92     Petrol  \n",
       "80     Petrol  \n",
       "4      Petrol  \n",
       "123    Petrol  \n",
       "199    Petrol  \n",
       "63     Petrol  \n",
       "180    Petrol  \n",
       "86     Petrol  \n",
       "139    Petrol  \n",
       "44     Petrol  \n",
       "107  Electric  \n",
       "20     Petrol  \n",
       "54   Electric  \n",
       "97     Petrol  \n",
       "7      Petrol  \n",
       "35     Petrol  \n",
       "15     Petrol  \n",
       "124    Petrol  \n",
       "194    Petrol  \n",
       "66     Petrol  "
      ]
     },
     "execution_count": 802,
     "metadata": {},
     "output_type": "execute_result"
    }
   ],
   "source": [
    "data_bike.sample(20)"
   ]
  },
  {
   "cell_type": "markdown",
   "id": "1907db31",
   "metadata": {},
   "source": [
    "## - Price"
   ]
  },
  {
   "cell_type": "code",
   "execution_count": 803,
   "id": "ac8c365d",
   "metadata": {},
   "outputs": [],
   "source": [
    "data_bike['Price']=data_bike['Price'].astype('str')  # convert to string\n",
    "regx=r'\\d+.*,*\\d+'\n",
    "pregx=re.compile(regx)\n",
    "\n",
    "data_bike['Bike Price']=data_bike['Price'].apply(lambda x:np.NaN if pregx.search(x) is None else pregx.search(x).group())"
   ]
  },
  {
   "cell_type": "code",
   "execution_count": 804,
   "id": "de24da1e",
   "metadata": {},
   "outputs": [
    {
     "data": {
      "text/html": [
       "<div>\n",
       "<style scoped>\n",
       "    .dataframe tbody tr th:only-of-type {\n",
       "        vertical-align: middle;\n",
       "    }\n",
       "\n",
       "    .dataframe tbody tr th {\n",
       "        vertical-align: top;\n",
       "    }\n",
       "\n",
       "    .dataframe thead th {\n",
       "        text-align: right;\n",
       "    }\n",
       "</style>\n",
       "<table border=\"1\" class=\"dataframe\">\n",
       "  <thead>\n",
       "    <tr style=\"text-align: right;\">\n",
       "      <th></th>\n",
       "      <th>Bike Name</th>\n",
       "      <th>Price</th>\n",
       "      <th>Specification</th>\n",
       "      <th>Rating</th>\n",
       "      <th>Brand</th>\n",
       "      <th>Model</th>\n",
       "      <th>Ratings</th>\n",
       "      <th>Rated By</th>\n",
       "      <th>CC or Watt</th>\n",
       "      <th>Fuel Type</th>\n",
       "      <th>Bike Price</th>\n",
       "    </tr>\n",
       "  </thead>\n",
       "  <tbody>\n",
       "    <tr>\n",
       "      <th>118</th>\n",
       "      <td>Vespa SXL 150</td>\n",
       "      <td>Rs. 1.29 - 1.35 Lakh</td>\n",
       "      <td>149.5 cc | 115 Kg | 10.47 bhp</td>\n",
       "      <td>\\n4\\n|  16\\n</td>\n",
       "      <td>Vespa</td>\n",
       "      <td>SXL 150</td>\n",
       "      <td>4</td>\n",
       "      <td>16</td>\n",
       "      <td>149.5</td>\n",
       "      <td>Petrol</td>\n",
       "      <td>1.29 - 1.35</td>\n",
       "    </tr>\n",
       "    <tr>\n",
       "      <th>100</th>\n",
       "      <td>Suzuki Gixxer SF 250</td>\n",
       "      <td>Rs. 1.78 - 1.79 Lakh</td>\n",
       "      <td>249 cc | 161 Kg | 26.5 bhp</td>\n",
       "      <td>\\n4.4\\n|  107\\n</td>\n",
       "      <td>Suzuki</td>\n",
       "      <td>Gixxer SF 250</td>\n",
       "      <td>4.4</td>\n",
       "      <td>107</td>\n",
       "      <td>249</td>\n",
       "      <td>Petrol</td>\n",
       "      <td>1.78 - 1.79</td>\n",
       "    </tr>\n",
       "    <tr>\n",
       "      <th>187</th>\n",
       "      <td>Ducati Scrambler 800</td>\n",
       "      <td>Rs. 7.99 - 9.80 Lakh</td>\n",
       "      <td>803 cc | 20 kmpl | 196 Kg | 73.4 bhp</td>\n",
       "      <td>\\n4.4\\n|  13\\n</td>\n",
       "      <td>Ducati</td>\n",
       "      <td>Scrambler 800</td>\n",
       "      <td>4.4</td>\n",
       "      <td>13</td>\n",
       "      <td>803</td>\n",
       "      <td>Petrol</td>\n",
       "      <td>7.99 - 9.80</td>\n",
       "    </tr>\n",
       "    <tr>\n",
       "      <th>121</th>\n",
       "      <td>Harley-Davidson Iron 883</td>\n",
       "      <td>Rs. 10.11 Lakh</td>\n",
       "      <td>883 cc | 256 Kg |</td>\n",
       "      <td>\\n4.2\\n|  80\\n</td>\n",
       "      <td>Harley-Davidson</td>\n",
       "      <td>Iron 883</td>\n",
       "      <td>4.2</td>\n",
       "      <td>80</td>\n",
       "      <td>883</td>\n",
       "      <td>Petrol</td>\n",
       "      <td>10.11</td>\n",
       "    </tr>\n",
       "    <tr>\n",
       "      <th>36</th>\n",
       "      <td>Bajaj Dominar 400</td>\n",
       "      <td>Rs. 2.07 Lakh</td>\n",
       "      <td>373.3 cc | 27 kmpl | 187 Kg | 40 bhp</td>\n",
       "      <td>\\n4.3\\n|  777\\n</td>\n",
       "      <td>Bajaj</td>\n",
       "      <td>Dominar 400</td>\n",
       "      <td>4.3</td>\n",
       "      <td>777</td>\n",
       "      <td>373.3</td>\n",
       "      <td>Petrol</td>\n",
       "      <td>2.07</td>\n",
       "    </tr>\n",
       "    <tr>\n",
       "      <th>165</th>\n",
       "      <td>Aprilia SR 125</td>\n",
       "      <td>Rs. 94,288 - 96,811</td>\n",
       "      <td>124.45 cc | 118 Kg | 9.92 bhp</td>\n",
       "      <td>\\n4\\n|  77\\n</td>\n",
       "      <td>Aprilia</td>\n",
       "      <td>SR 125</td>\n",
       "      <td>4</td>\n",
       "      <td>77</td>\n",
       "      <td>124.45</td>\n",
       "      <td>Petrol</td>\n",
       "      <td>94,288 - 96,811</td>\n",
       "    </tr>\n",
       "    <tr>\n",
       "      <th>183</th>\n",
       "      <td>Kawasaki KLX 450R</td>\n",
       "      <td>Rs. 8.49 Lakh</td>\n",
       "      <td>449 cc | 126 Kg |</td>\n",
       "      <td>\\n3.4\\n|  1\\n</td>\n",
       "      <td>Kawasaki</td>\n",
       "      <td>KLX 450R</td>\n",
       "      <td>3.4</td>\n",
       "      <td>1</td>\n",
       "      <td>449</td>\n",
       "      <td>Petrol</td>\n",
       "      <td>8.49</td>\n",
       "    </tr>\n",
       "    <tr>\n",
       "      <th>154</th>\n",
       "      <td>BMW R NineT Scrambler</td>\n",
       "      <td>Rs. 16.75 Lakh</td>\n",
       "      <td>1170 cc | 223 Kg | 108.77 bhp</td>\n",
       "      <td>\\n5\\n|  1\\n</td>\n",
       "      <td>BMW</td>\n",
       "      <td>R NineT Scrambler</td>\n",
       "      <td>5</td>\n",
       "      <td>1</td>\n",
       "      <td>1170</td>\n",
       "      <td>Petrol</td>\n",
       "      <td>16.75</td>\n",
       "    </tr>\n",
       "    <tr>\n",
       "      <th>45</th>\n",
       "      <td>KTM RC 200</td>\n",
       "      <td>Rs. 2.04 Lakh</td>\n",
       "      <td>199.5 cc | 25 bhp</td>\n",
       "      <td>\\n4.1\\n|  1114\\n</td>\n",
       "      <td>KTM</td>\n",
       "      <td>RC 200</td>\n",
       "      <td>4.1</td>\n",
       "      <td>1114</td>\n",
       "      <td>199.5</td>\n",
       "      <td>Petrol</td>\n",
       "      <td>2.04</td>\n",
       "    </tr>\n",
       "    <tr>\n",
       "      <th>74</th>\n",
       "      <td>Hero Pleasure Plus</td>\n",
       "      <td>Rs. 58,900 - 64,100</td>\n",
       "      <td>110.9 cc | 104 Kg | 8.1 bhp</td>\n",
       "      <td>\\n4.5\\n|  438\\n</td>\n",
       "      <td>Hero</td>\n",
       "      <td>Pleasure Plus</td>\n",
       "      <td>4.5</td>\n",
       "      <td>438</td>\n",
       "      <td>110.9</td>\n",
       "      <td>Petrol</td>\n",
       "      <td>58,900 - 64,100</td>\n",
       "    </tr>\n",
       "    <tr>\n",
       "      <th>91</th>\n",
       "      <td>Jawa 42</td>\n",
       "      <td>Rs. 1.68 - 1.83 Lakh</td>\n",
       "      <td>293 cc | 172 Kg | 27. 33 bhp</td>\n",
       "      <td>\\n4\\n|  432\\n</td>\n",
       "      <td>Jawa</td>\n",
       "      <td>42</td>\n",
       "      <td>4</td>\n",
       "      <td>432</td>\n",
       "      <td>293</td>\n",
       "      <td>Petrol</td>\n",
       "      <td>1.68 - 1.83</td>\n",
       "    </tr>\n",
       "    <tr>\n",
       "      <th>77</th>\n",
       "      <td>Hero Maestro Edge 125</td>\n",
       "      <td>Rs. 70,850 - 74,350</td>\n",
       "      <td>125 cc | 112 Kg | 9.12 bhp</td>\n",
       "      <td>\\n4.1\\n|  445\\n</td>\n",
       "      <td>Hero</td>\n",
       "      <td>Maestro Edge 125</td>\n",
       "      <td>4.1</td>\n",
       "      <td>445</td>\n",
       "      <td>125</td>\n",
       "      <td>Petrol</td>\n",
       "      <td>70,850 - 74,350</td>\n",
       "    </tr>\n",
       "    <tr>\n",
       "      <th>204</th>\n",
       "      <td>YObykes Drift</td>\n",
       "      <td>Rs. 51,000</td>\n",
       "      <td>250 W | 80 km/charge | Electric | 95 Kg |</td>\n",
       "      <td>\\n4.1\\n|  6\\n</td>\n",
       "      <td>YObykes</td>\n",
       "      <td>Drift</td>\n",
       "      <td>4.1</td>\n",
       "      <td>6</td>\n",
       "      <td>250</td>\n",
       "      <td>Electric</td>\n",
       "      <td>51,000</td>\n",
       "    </tr>\n",
       "    <tr>\n",
       "      <th>78</th>\n",
       "      <td>Hero Splendor iSmart</td>\n",
       "      <td>Rs. 67,250 - 69,450</td>\n",
       "      <td>113.2 cc | 117 Kg | 9.15 bhp</td>\n",
       "      <td>\\n3.8\\n|  235\\n</td>\n",
       "      <td>Hero</td>\n",
       "      <td>Splendor iSmart</td>\n",
       "      <td>3.8</td>\n",
       "      <td>235</td>\n",
       "      <td>113.2</td>\n",
       "      <td>Petrol</td>\n",
       "      <td>67,250 - 69,450</td>\n",
       "    </tr>\n",
       "    <tr>\n",
       "      <th>157</th>\n",
       "      <td>BMW R 1250 RT</td>\n",
       "      <td>Rs. 22.50 Lakh</td>\n",
       "      <td>1254 cc | 279 Kg | 135.9 bhp</td>\n",
       "      <td>nan</td>\n",
       "      <td>BMW</td>\n",
       "      <td>R 1250 RT</td>\n",
       "      <td>NaN</td>\n",
       "      <td>NaN</td>\n",
       "      <td>1254</td>\n",
       "      <td>Petrol</td>\n",
       "      <td>22.50</td>\n",
       "    </tr>\n",
       "    <tr>\n",
       "      <th>90</th>\n",
       "      <td>Yamaha FZS 25</td>\n",
       "      <td>Rs. 1.39 Lakh</td>\n",
       "      <td>249 cc | 154 Kg | 20.8 bhp</td>\n",
       "      <td>\\n4.2\\n|  78\\n</td>\n",
       "      <td>Yamaha</td>\n",
       "      <td>FZS 25</td>\n",
       "      <td>4.2</td>\n",
       "      <td>78</td>\n",
       "      <td>249</td>\n",
       "      <td>Petrol</td>\n",
       "      <td>1.39</td>\n",
       "    </tr>\n",
       "    <tr>\n",
       "      <th>30</th>\n",
       "      <td>Bajaj Pulsar RS200</td>\n",
       "      <td>Rs. 1.57 Lakh</td>\n",
       "      <td>199.5 cc | 166 Kg | 24.5 bhp</td>\n",
       "      <td>\\n4.2\\n|  1364\\n</td>\n",
       "      <td>Bajaj</td>\n",
       "      <td>Pulsar RS200</td>\n",
       "      <td>4.2</td>\n",
       "      <td>1364</td>\n",
       "      <td>199.5</td>\n",
       "      <td>Petrol</td>\n",
       "      <td>1.57</td>\n",
       "    </tr>\n",
       "    <tr>\n",
       "      <th>87</th>\n",
       "      <td>Yamaha Fascino 125</td>\n",
       "      <td>Rs. 72,030 - 75,530</td>\n",
       "      <td>125 cc | 66 kmpl | 99 Kg | 8.2 bhp</td>\n",
       "      <td>\\n4.1\\n|  199\\n</td>\n",
       "      <td>Yamaha</td>\n",
       "      <td>Fascino 125</td>\n",
       "      <td>4.1</td>\n",
       "      <td>199</td>\n",
       "      <td>125</td>\n",
       "      <td>Petrol</td>\n",
       "      <td>72,030 - 75,530</td>\n",
       "    </tr>\n",
       "    <tr>\n",
       "      <th>126</th>\n",
       "      <td>Harley-Davidson Street Glide Special</td>\n",
       "      <td>Rs. 31.99 Lakh</td>\n",
       "      <td>1868 cc | 379 Kg |</td>\n",
       "      <td>\\n4.1\\n|  7\\n</td>\n",
       "      <td>Harley-Davidson</td>\n",
       "      <td>Street Glide Special</td>\n",
       "      <td>4.1</td>\n",
       "      <td>7</td>\n",
       "      <td>1868</td>\n",
       "      <td>Petrol</td>\n",
       "      <td>31.99</td>\n",
       "    </tr>\n",
       "    <tr>\n",
       "      <th>166</th>\n",
       "      <td>Aprilia SXR 125</td>\n",
       "      <td>Rs. 1.16 Lakh</td>\n",
       "      <td>124.45 cc | 9.52 bhp</td>\n",
       "      <td>\\n5\\n|  2\\n</td>\n",
       "      <td>Aprilia</td>\n",
       "      <td>SXR 125</td>\n",
       "      <td>5</td>\n",
       "      <td>2</td>\n",
       "      <td>124.45</td>\n",
       "      <td>Petrol</td>\n",
       "      <td>1.16</td>\n",
       "    </tr>\n",
       "  </tbody>\n",
       "</table>\n",
       "</div>"
      ],
      "text/plain": [
       "                                Bike Name                 Price  \\\n",
       "118                         Vespa SXL 150  Rs. 1.29 - 1.35 Lakh   \n",
       "100                  Suzuki Gixxer SF 250  Rs. 1.78 - 1.79 Lakh   \n",
       "187                  Ducati Scrambler 800  Rs. 7.99 - 9.80 Lakh   \n",
       "121              Harley-Davidson Iron 883        Rs. 10.11 Lakh   \n",
       "36                      Bajaj Dominar 400         Rs. 2.07 Lakh   \n",
       "165                        Aprilia SR 125   Rs. 94,288 - 96,811   \n",
       "183                     Kawasaki KLX 450R         Rs. 8.49 Lakh   \n",
       "154                 BMW R NineT Scrambler        Rs. 16.75 Lakh   \n",
       "45                             KTM RC 200         Rs. 2.04 Lakh   \n",
       "74                     Hero Pleasure Plus   Rs. 58,900 - 64,100   \n",
       "91                                Jawa 42  Rs. 1.68 - 1.83 Lakh   \n",
       "77                  Hero Maestro Edge 125   Rs. 70,850 - 74,350   \n",
       "204                         YObykes Drift            Rs. 51,000   \n",
       "78                   Hero Splendor iSmart   Rs. 67,250 - 69,450   \n",
       "157                         BMW R 1250 RT        Rs. 22.50 Lakh   \n",
       "90                          Yamaha FZS 25         Rs. 1.39 Lakh   \n",
       "30                     Bajaj Pulsar RS200         Rs. 1.57 Lakh   \n",
       "87                    Yamaha Fascino 125    Rs. 72,030 - 75,530   \n",
       "126  Harley-Davidson Street Glide Special        Rs. 31.99 Lakh   \n",
       "166                       Aprilia SXR 125         Rs. 1.16 Lakh   \n",
       "\n",
       "                                  Specification            Rating  \\\n",
       "118               149.5 cc | 115 Kg | 10.47 bhp      \\n4\\n|  16\\n   \n",
       "100                  249 cc | 161 Kg | 26.5 bhp   \\n4.4\\n|  107\\n   \n",
       "187        803 cc | 20 kmpl | 196 Kg | 73.4 bhp    \\n4.4\\n|  13\\n   \n",
       "121                          883 cc | 256 Kg |     \\n4.2\\n|  80\\n   \n",
       "36         373.3 cc | 27 kmpl | 187 Kg | 40 bhp   \\n4.3\\n|  777\\n   \n",
       "165               124.45 cc | 118 Kg | 9.92 bhp      \\n4\\n|  77\\n   \n",
       "183                          449 cc | 126 Kg |      \\n3.4\\n|  1\\n   \n",
       "154               1170 cc | 223 Kg | 108.77 bhp       \\n5\\n|  1\\n   \n",
       "45                            199.5 cc | 25 bhp  \\n4.1\\n|  1114\\n   \n",
       "74                  110.9 cc | 104 Kg | 8.1 bhp   \\n4.5\\n|  438\\n   \n",
       "91                 293 cc | 172 Kg | 27. 33 bhp     \\n4\\n|  432\\n   \n",
       "77                   125 cc | 112 Kg | 9.12 bhp   \\n4.1\\n|  445\\n   \n",
       "204  250 W | 80 km/charge | Electric | 95 Kg |      \\n4.1\\n|  6\\n   \n",
       "78                 113.2 cc | 117 Kg | 9.15 bhp   \\n3.8\\n|  235\\n   \n",
       "157                1254 cc | 279 Kg | 135.9 bhp               nan   \n",
       "90                   249 cc | 154 Kg | 20.8 bhp    \\n4.2\\n|  78\\n   \n",
       "30                 199.5 cc | 166 Kg | 24.5 bhp  \\n4.2\\n|  1364\\n   \n",
       "87           125 cc | 66 kmpl | 99 Kg | 8.2 bhp   \\n4.1\\n|  199\\n   \n",
       "126                         1868 cc | 379 Kg |      \\n4.1\\n|  7\\n   \n",
       "166                        124.45 cc | 9.52 bhp       \\n5\\n|  2\\n   \n",
       "\n",
       "               Brand                  Model Ratings Rated By CC or Watt  \\\n",
       "118            Vespa                SXL 150       4       16     149.5    \n",
       "100           Suzuki          Gixxer SF 250     4.4      107       249    \n",
       "187           Ducati          Scrambler 800     4.4       13       803    \n",
       "121  Harley-Davidson               Iron 883     4.2       80       883    \n",
       "36             Bajaj            Dominar 400     4.3      777     373.3    \n",
       "165          Aprilia                 SR 125       4       77    124.45    \n",
       "183         Kawasaki               KLX 450R     3.4        1       449    \n",
       "154              BMW      R NineT Scrambler       5        1      1170    \n",
       "45               KTM                 RC 200     4.1     1114     199.5    \n",
       "74              Hero          Pleasure Plus     4.5      438     110.9    \n",
       "91              Jawa                     42       4      432       293    \n",
       "77              Hero       Maestro Edge 125     4.1      445       125    \n",
       "204          YObykes                  Drift     4.1        6       250    \n",
       "78              Hero        Splendor iSmart     3.8      235     113.2    \n",
       "157              BMW              R 1250 RT     NaN      NaN      1254    \n",
       "90            Yamaha                 FZS 25     4.2       78       249    \n",
       "30             Bajaj           Pulsar RS200     4.2     1364     199.5    \n",
       "87            Yamaha           Fascino 125      4.1      199       125    \n",
       "126  Harley-Davidson   Street Glide Special     4.1        7      1868    \n",
       "166          Aprilia                SXR 125       5        2    124.45    \n",
       "\n",
       "    Fuel Type       Bike Price  \n",
       "118    Petrol      1.29 - 1.35  \n",
       "100    Petrol      1.78 - 1.79  \n",
       "187    Petrol      7.99 - 9.80  \n",
       "121    Petrol            10.11  \n",
       "36     Petrol             2.07  \n",
       "165    Petrol  94,288 - 96,811  \n",
       "183    Petrol             8.49  \n",
       "154    Petrol            16.75  \n",
       "45     Petrol             2.04  \n",
       "74     Petrol  58,900 - 64,100  \n",
       "91     Petrol      1.68 - 1.83  \n",
       "77     Petrol  70,850 - 74,350  \n",
       "204  Electric           51,000  \n",
       "78     Petrol  67,250 - 69,450  \n",
       "157    Petrol            22.50  \n",
       "90     Petrol             1.39  \n",
       "30     Petrol             1.57  \n",
       "87     Petrol  72,030 - 75,530  \n",
       "126    Petrol            31.99  \n",
       "166    Petrol             1.16  "
      ]
     },
     "execution_count": 804,
     "metadata": {},
     "output_type": "execute_result"
    }
   ],
   "source": [
    "data_bike.sample(20)"
   ]
  },
  {
   "cell_type": "markdown",
   "id": "569dfc88",
   "metadata": {},
   "source": [
    "\n"
   ]
  },
  {
   "cell_type": "code",
   "execution_count": 805,
   "id": "33b4ffb6",
   "metadata": {},
   "outputs": [],
   "source": [
    "data_bike['Price']=data_bike['Price'].astype('str')  # convert to string\n",
    "regx=r'\\d+.\\d+'\n",
    "pregx=re.compile(regx)\n",
    "\n",
    "data_bike['Start Price']=data_bike['Price'].apply(lambda x:np.NaN if pregx.search(x) is None else pregx.search(x).group())"
   ]
  },
  {
   "cell_type": "code",
   "execution_count": 806,
   "id": "4ac27a76",
   "metadata": {},
   "outputs": [
    {
     "data": {
      "text/html": [
       "<div>\n",
       "<style scoped>\n",
       "    .dataframe tbody tr th:only-of-type {\n",
       "        vertical-align: middle;\n",
       "    }\n",
       "\n",
       "    .dataframe tbody tr th {\n",
       "        vertical-align: top;\n",
       "    }\n",
       "\n",
       "    .dataframe thead th {\n",
       "        text-align: right;\n",
       "    }\n",
       "</style>\n",
       "<table border=\"1\" class=\"dataframe\">\n",
       "  <thead>\n",
       "    <tr style=\"text-align: right;\">\n",
       "      <th></th>\n",
       "      <th>Bike Name</th>\n",
       "      <th>Price</th>\n",
       "      <th>Specification</th>\n",
       "      <th>Rating</th>\n",
       "      <th>Brand</th>\n",
       "      <th>Model</th>\n",
       "      <th>Ratings</th>\n",
       "      <th>Rated By</th>\n",
       "      <th>CC or Watt</th>\n",
       "      <th>Fuel Type</th>\n",
       "      <th>Bike Price</th>\n",
       "      <th>Start Price</th>\n",
       "    </tr>\n",
       "  </thead>\n",
       "  <tbody>\n",
       "    <tr>\n",
       "      <th>50</th>\n",
       "      <td>KTM 250 Duke</td>\n",
       "      <td>Rs. 2.17 Lakh</td>\n",
       "      <td>248.8 cc | 41 kmpl | 30 bhp</td>\n",
       "      <td>\\n4.3\\n|  782\\n</td>\n",
       "      <td>KTM</td>\n",
       "      <td>250 Duke</td>\n",
       "      <td>4.3</td>\n",
       "      <td>782</td>\n",
       "      <td>248.8</td>\n",
       "      <td>Petrol</td>\n",
       "      <td>2.17</td>\n",
       "      <td>2.17</td>\n",
       "    </tr>\n",
       "    <tr>\n",
       "      <th>181</th>\n",
       "      <td>Kawasaki KLX 140</td>\n",
       "      <td>Rs. 4.06 Lakh</td>\n",
       "      <td>144 cc | 99 Kg |</td>\n",
       "      <td>\\n3\\n|  2\\n</td>\n",
       "      <td>Kawasaki</td>\n",
       "      <td>KLX 140</td>\n",
       "      <td>3</td>\n",
       "      <td>2</td>\n",
       "      <td>144</td>\n",
       "      <td>Petrol</td>\n",
       "      <td>4.06</td>\n",
       "      <td>4.06</td>\n",
       "    </tr>\n",
       "    <tr>\n",
       "      <th>20</th>\n",
       "      <td>Honda Gold Wing</td>\n",
       "      <td>Rs. 37.20 - 39.16 Lakh</td>\n",
       "      <td>1833 cc | 379 Kg | 126.4 bhp</td>\n",
       "      <td>\\n4.4\\n|  24\\n</td>\n",
       "      <td>Honda</td>\n",
       "      <td>Gold Wing</td>\n",
       "      <td>4.4</td>\n",
       "      <td>24</td>\n",
       "      <td>1833</td>\n",
       "      <td>Petrol</td>\n",
       "      <td>37.20 - 39.16</td>\n",
       "      <td>37.20</td>\n",
       "    </tr>\n",
       "    <tr>\n",
       "      <th>92</th>\n",
       "      <td>Jawa Perak</td>\n",
       "      <td>Rs. 1.97 Lakh</td>\n",
       "      <td>334 cc | 34 kmpl | 175 Kg | 30. 64 bhp</td>\n",
       "      <td>\\n4.3\\n|  197\\n</td>\n",
       "      <td>Jawa</td>\n",
       "      <td>Perak</td>\n",
       "      <td>4.3</td>\n",
       "      <td>197</td>\n",
       "      <td>334</td>\n",
       "      <td>Petrol</td>\n",
       "      <td>1.97</td>\n",
       "      <td>1.97</td>\n",
       "    </tr>\n",
       "    <tr>\n",
       "      <th>155</th>\n",
       "      <td>BMW F 900 XR</td>\n",
       "      <td>Rs. 10.95 - 12.40 Lakh</td>\n",
       "      <td>895 cc | 19 kmpl | 219 Kg | 104.6 bhp</td>\n",
       "      <td>nan</td>\n",
       "      <td>BMW</td>\n",
       "      <td>F 900 XR</td>\n",
       "      <td>NaN</td>\n",
       "      <td>NaN</td>\n",
       "      <td>895</td>\n",
       "      <td>Petrol</td>\n",
       "      <td>10.95 - 12.40</td>\n",
       "      <td>10.95</td>\n",
       "    </tr>\n",
       "    <tr>\n",
       "      <th>199</th>\n",
       "      <td>Indian Springfield Dark Horse</td>\n",
       "      <td>Rs. 28.57 Lakh</td>\n",
       "      <td>1890 cc | 355 Kg |</td>\n",
       "      <td>\\n3.3\\n|  5\\n</td>\n",
       "      <td>Indian</td>\n",
       "      <td>Springfield Dark Horse</td>\n",
       "      <td>3.3</td>\n",
       "      <td>5</td>\n",
       "      <td>1890</td>\n",
       "      <td>Petrol</td>\n",
       "      <td>28.57</td>\n",
       "      <td>28.57</td>\n",
       "    </tr>\n",
       "    <tr>\n",
       "      <th>77</th>\n",
       "      <td>Hero Maestro Edge 125</td>\n",
       "      <td>Rs. 70,850 - 74,350</td>\n",
       "      <td>125 cc | 112 Kg | 9.12 bhp</td>\n",
       "      <td>\\n4.1\\n|  445\\n</td>\n",
       "      <td>Hero</td>\n",
       "      <td>Maestro Edge 125</td>\n",
       "      <td>4.1</td>\n",
       "      <td>445</td>\n",
       "      <td>125</td>\n",
       "      <td>Petrol</td>\n",
       "      <td>70,850 - 74,350</td>\n",
       "      <td>70,850</td>\n",
       "    </tr>\n",
       "    <tr>\n",
       "      <th>118</th>\n",
       "      <td>Vespa SXL 150</td>\n",
       "      <td>Rs. 1.29 - 1.35 Lakh</td>\n",
       "      <td>149.5 cc | 115 Kg | 10.47 bhp</td>\n",
       "      <td>\\n4\\n|  16\\n</td>\n",
       "      <td>Vespa</td>\n",
       "      <td>SXL 150</td>\n",
       "      <td>4</td>\n",
       "      <td>16</td>\n",
       "      <td>149.5</td>\n",
       "      <td>Petrol</td>\n",
       "      <td>1.29 - 1.35</td>\n",
       "      <td>1.29</td>\n",
       "    </tr>\n",
       "    <tr>\n",
       "      <th>147</th>\n",
       "      <td>BMW G 310 R</td>\n",
       "      <td>Rs. 2.50 Lakh</td>\n",
       "      <td>313 cc | 32 kmpl | 164 Kg | 34 bhp</td>\n",
       "      <td>\\n4.3\\n|  123\\n</td>\n",
       "      <td>BMW</td>\n",
       "      <td>G 310 R</td>\n",
       "      <td>4.3</td>\n",
       "      <td>123</td>\n",
       "      <td>313</td>\n",
       "      <td>Petrol</td>\n",
       "      <td>2.50</td>\n",
       "      <td>2.50</td>\n",
       "    </tr>\n",
       "    <tr>\n",
       "      <th>69</th>\n",
       "      <td>Hero Splendor Plus</td>\n",
       "      <td>Rs. 62,535 - 67,845</td>\n",
       "      <td>97.2 cc | 112 Kg | 8.02 bhp</td>\n",
       "      <td>\\n4\\n|  6423\\n</td>\n",
       "      <td>Hero</td>\n",
       "      <td>Splendor Plus</td>\n",
       "      <td>4</td>\n",
       "      <td>6423</td>\n",
       "      <td>97.2</td>\n",
       "      <td>Petrol</td>\n",
       "      <td>62,535 - 67,845</td>\n",
       "      <td>62,535</td>\n",
       "    </tr>\n",
       "  </tbody>\n",
       "</table>\n",
       "</div>"
      ],
      "text/plain": [
       "                         Bike Name                   Price  \\\n",
       "50                    KTM 250 Duke           Rs. 2.17 Lakh   \n",
       "181               Kawasaki KLX 140           Rs. 4.06 Lakh   \n",
       "20                 Honda Gold Wing  Rs. 37.20 - 39.16 Lakh   \n",
       "92                      Jawa Perak           Rs. 1.97 Lakh   \n",
       "155                   BMW F 900 XR  Rs. 10.95 - 12.40 Lakh   \n",
       "199  Indian Springfield Dark Horse          Rs. 28.57 Lakh   \n",
       "77           Hero Maestro Edge 125     Rs. 70,850 - 74,350   \n",
       "118                  Vespa SXL 150    Rs. 1.29 - 1.35 Lakh   \n",
       "147                    BMW G 310 R           Rs. 2.50 Lakh   \n",
       "69              Hero Splendor Plus     Rs. 62,535 - 67,845   \n",
       "\n",
       "                              Specification           Rating     Brand  \\\n",
       "50              248.8 cc | 41 kmpl | 30 bhp  \\n4.3\\n|  782\\n       KTM   \n",
       "181                       144 cc | 99 Kg |       \\n3\\n|  2\\n  Kawasaki   \n",
       "20             1833 cc | 379 Kg | 126.4 bhp   \\n4.4\\n|  24\\n     Honda   \n",
       "92   334 cc | 34 kmpl | 175 Kg | 30. 64 bhp  \\n4.3\\n|  197\\n      Jawa   \n",
       "155   895 cc | 19 kmpl | 219 Kg | 104.6 bhp              nan       BMW   \n",
       "199                     1890 cc | 355 Kg |     \\n3.3\\n|  5\\n    Indian   \n",
       "77               125 cc | 112 Kg | 9.12 bhp  \\n4.1\\n|  445\\n      Hero   \n",
       "118           149.5 cc | 115 Kg | 10.47 bhp     \\n4\\n|  16\\n     Vespa   \n",
       "147      313 cc | 32 kmpl | 164 Kg | 34 bhp  \\n4.3\\n|  123\\n       BMW   \n",
       "69              97.2 cc | 112 Kg | 8.02 bhp   \\n4\\n|  6423\\n      Hero   \n",
       "\n",
       "                       Model Ratings Rated By CC or Watt Fuel Type  \\\n",
       "50                  250 Duke     4.3      782     248.8     Petrol   \n",
       "181                  KLX 140       3        2       144     Petrol   \n",
       "20                 Gold Wing     4.4       24      1833     Petrol   \n",
       "92                     Perak     4.3      197       334     Petrol   \n",
       "155                 F 900 XR     NaN      NaN       895     Petrol   \n",
       "199   Springfield Dark Horse     3.3        5      1890     Petrol   \n",
       "77          Maestro Edge 125     4.1      445       125     Petrol   \n",
       "118                  SXL 150       4       16     149.5     Petrol   \n",
       "147                  G 310 R     4.3      123       313     Petrol   \n",
       "69             Splendor Plus       4     6423      97.2     Petrol   \n",
       "\n",
       "          Bike Price Start Price  \n",
       "50              2.17        2.17  \n",
       "181             4.06        4.06  \n",
       "20     37.20 - 39.16       37.20  \n",
       "92              1.97        1.97  \n",
       "155    10.95 - 12.40       10.95  \n",
       "199            28.57       28.57  \n",
       "77   70,850 - 74,350      70,850  \n",
       "118      1.29 - 1.35        1.29  \n",
       "147             2.50        2.50  \n",
       "69   62,535 - 67,845      62,535  "
      ]
     },
     "execution_count": 806,
     "metadata": {},
     "output_type": "execute_result"
    }
   ],
   "source": [
    "data_bike.sample(10)"
   ]
  },
  {
   "cell_type": "markdown",
   "id": "4a3f0b79",
   "metadata": {},
   "source": [
    "## Top Model Price "
   ]
  },
  {
   "cell_type": "code",
   "execution_count": 807,
   "id": "69f162c4",
   "metadata": {},
   "outputs": [],
   "source": [
    "data_bike['Price']=data_bike['Price'].astype('str')  # convert to string\n",
    "regx=r'-\\s\\d+.\\d+'\n",
    "pregx=re.compile(regx)\n",
    "\n",
    "data_bike['Top Model Price']=data_bike['Price'].apply(lambda x:np.NaN if pregx.search(x) is None else pregx.search(x).group().replace('-','').replace(',',''))"
   ]
  },
  {
   "cell_type": "code",
   "execution_count": 808,
   "id": "b58e4e82",
   "metadata": {},
   "outputs": [
    {
     "data": {
      "text/html": [
       "<div>\n",
       "<style scoped>\n",
       "    .dataframe tbody tr th:only-of-type {\n",
       "        vertical-align: middle;\n",
       "    }\n",
       "\n",
       "    .dataframe tbody tr th {\n",
       "        vertical-align: top;\n",
       "    }\n",
       "\n",
       "    .dataframe thead th {\n",
       "        text-align: right;\n",
       "    }\n",
       "</style>\n",
       "<table border=\"1\" class=\"dataframe\">\n",
       "  <thead>\n",
       "    <tr style=\"text-align: right;\">\n",
       "      <th></th>\n",
       "      <th>Bike Name</th>\n",
       "      <th>Price</th>\n",
       "      <th>Specification</th>\n",
       "      <th>Rating</th>\n",
       "      <th>Brand</th>\n",
       "      <th>Model</th>\n",
       "      <th>Ratings</th>\n",
       "      <th>Rated By</th>\n",
       "      <th>CC or Watt</th>\n",
       "      <th>Fuel Type</th>\n",
       "      <th>Bike Price</th>\n",
       "      <th>Start Price</th>\n",
       "      <th>Top Model Price</th>\n",
       "    </tr>\n",
       "  </thead>\n",
       "  <tbody>\n",
       "    <tr>\n",
       "      <th>16</th>\n",
       "      <td>Honda Hness CB350</td>\n",
       "      <td>Rs. 1.86 - 1.92 Lakh</td>\n",
       "      <td>348.36 cc | 46 kmpl | 181 Kg | 21.07 bhp</td>\n",
       "      <td>\\n4.4\\n|  129\\n</td>\n",
       "      <td>Honda</td>\n",
       "      <td>Hness CB350</td>\n",
       "      <td>4.4</td>\n",
       "      <td>129</td>\n",
       "      <td>348.36</td>\n",
       "      <td>Petrol</td>\n",
       "      <td>1.86 - 1.92</td>\n",
       "      <td>1.86</td>\n",
       "      <td>1.92</td>\n",
       "    </tr>\n",
       "    <tr>\n",
       "      <th>37</th>\n",
       "      <td>Bajaj Chetak</td>\n",
       "      <td>Rs. 1.00 - 1.15 Lakh</td>\n",
       "      <td>4080 W | 95 km/charge | Electric |</td>\n",
       "      <td>\\n4.1\\n|  124\\n</td>\n",
       "      <td>Bajaj</td>\n",
       "      <td>Chetak</td>\n",
       "      <td>4.1</td>\n",
       "      <td>124</td>\n",
       "      <td>4080</td>\n",
       "      <td>Electric</td>\n",
       "      <td>1.00 - 1.15</td>\n",
       "      <td>1.00</td>\n",
       "      <td>1.15</td>\n",
       "    </tr>\n",
       "    <tr>\n",
       "      <th>81</th>\n",
       "      <td>Hero XPulse 200T</td>\n",
       "      <td>Rs. 1.15 Lakh</td>\n",
       "      <td>199.6 cc | 154 Kg | 18.1 bhp</td>\n",
       "      <td>\\n4.1\\n|  59\\n</td>\n",
       "      <td>Hero</td>\n",
       "      <td>XPulse 200T</td>\n",
       "      <td>4.1</td>\n",
       "      <td>59</td>\n",
       "      <td>199.6</td>\n",
       "      <td>Petrol</td>\n",
       "      <td>1.15</td>\n",
       "      <td>1.15</td>\n",
       "      <td>NaN</td>\n",
       "    </tr>\n",
       "    <tr>\n",
       "      <th>134</th>\n",
       "      <td>Triumph Rocket 3</td>\n",
       "      <td>Rs. 19.95 - 20.95 Lakh</td>\n",
       "      <td>2458 cc | 167 bhp</td>\n",
       "      <td>\\n4.3\\n|  8\\n</td>\n",
       "      <td>Triumph</td>\n",
       "      <td>Rocket 3</td>\n",
       "      <td>4.3</td>\n",
       "      <td>8</td>\n",
       "      <td>2458</td>\n",
       "      <td>Petrol</td>\n",
       "      <td>19.95 - 20.95</td>\n",
       "      <td>19.95</td>\n",
       "      <td>20.95</td>\n",
       "    </tr>\n",
       "    <tr>\n",
       "      <th>148</th>\n",
       "      <td>BMW S 1000 RR</td>\n",
       "      <td>Rs. 19.50 - 23.75 Lakh</td>\n",
       "      <td>999 cc | 197 Kg | 206.6 bhp</td>\n",
       "      <td>\\n4.3\\n|  57\\n</td>\n",
       "      <td>BMW</td>\n",
       "      <td>S 1000 RR</td>\n",
       "      <td>4.3</td>\n",
       "      <td>57</td>\n",
       "      <td>999</td>\n",
       "      <td>Petrol</td>\n",
       "      <td>19.50 - 23.75</td>\n",
       "      <td>19.50</td>\n",
       "      <td>23.75</td>\n",
       "    </tr>\n",
       "    <tr>\n",
       "      <th>146</th>\n",
       "      <td>Triumph Speed Triple 1200</td>\n",
       "      <td>Rs. 16.95 Lakh</td>\n",
       "      <td>1160 cc | 180 bhp</td>\n",
       "      <td>\\n4.4\\n|  2\\n</td>\n",
       "      <td>Triumph</td>\n",
       "      <td>Speed Triple 1200</td>\n",
       "      <td>4.4</td>\n",
       "      <td>2</td>\n",
       "      <td>1160</td>\n",
       "      <td>Petrol</td>\n",
       "      <td>16.95</td>\n",
       "      <td>16.95</td>\n",
       "      <td>NaN</td>\n",
       "    </tr>\n",
       "    <tr>\n",
       "      <th>82</th>\n",
       "      <td>Hero Maestro Edge 110</td>\n",
       "      <td>Rs. 62,750 - 65,750</td>\n",
       "      <td>110.9 cc | 112 Kg | 8.15 bhp</td>\n",
       "      <td>\\n3.7\\n|  89\\n</td>\n",
       "      <td>Hero</td>\n",
       "      <td>Maestro Edge 110</td>\n",
       "      <td>3.7</td>\n",
       "      <td>89</td>\n",
       "      <td>110.9</td>\n",
       "      <td>Petrol</td>\n",
       "      <td>62,750 - 65,750</td>\n",
       "      <td>62,750</td>\n",
       "      <td>65750</td>\n",
       "    </tr>\n",
       "    <tr>\n",
       "      <th>164</th>\n",
       "      <td>Aprilia Storm 125</td>\n",
       "      <td>Rs. 87,082 - 92,601</td>\n",
       "      <td>124.45 cc | 50 kmpl | 118 Kg | 9.92 bhp</td>\n",
       "      <td>\\n4\\n|  56\\n</td>\n",
       "      <td>Aprilia</td>\n",
       "      <td>Storm 125</td>\n",
       "      <td>4</td>\n",
       "      <td>56</td>\n",
       "      <td>124.45</td>\n",
       "      <td>Petrol</td>\n",
       "      <td>87,082 - 92,601</td>\n",
       "      <td>87,082</td>\n",
       "      <td>92601</td>\n",
       "    </tr>\n",
       "    <tr>\n",
       "      <th>12</th>\n",
       "      <td>Honda Unicorn</td>\n",
       "      <td>Rs. 97,356</td>\n",
       "      <td>162.7 cc | 140 Kg | 12.91 bhp</td>\n",
       "      <td>\\n4.1\\n|  393\\n</td>\n",
       "      <td>Honda</td>\n",
       "      <td>Unicorn</td>\n",
       "      <td>4.1</td>\n",
       "      <td>393</td>\n",
       "      <td>162.7</td>\n",
       "      <td>Petrol</td>\n",
       "      <td>97,356</td>\n",
       "      <td>97,356</td>\n",
       "      <td>NaN</td>\n",
       "    </tr>\n",
       "    <tr>\n",
       "      <th>210</th>\n",
       "      <td>Okinawa Dual</td>\n",
       "      <td>Rs. 58,992</td>\n",
       "      <td>250 W | 120 -130 Km/Charge | Electric |</td>\n",
       "      <td>\\n3.7\\n|  5\\n</td>\n",
       "      <td>Okinawa</td>\n",
       "      <td>Dual</td>\n",
       "      <td>3.7</td>\n",
       "      <td>5</td>\n",
       "      <td>250</td>\n",
       "      <td>Electric</td>\n",
       "      <td>58,992</td>\n",
       "      <td>58,992</td>\n",
       "      <td>NaN</td>\n",
       "    </tr>\n",
       "  </tbody>\n",
       "</table>\n",
       "</div>"
      ],
      "text/plain": [
       "                     Bike Name                   Price  \\\n",
       "16           Honda Hness CB350    Rs. 1.86 - 1.92 Lakh   \n",
       "37                Bajaj Chetak    Rs. 1.00 - 1.15 Lakh   \n",
       "81            Hero XPulse 200T           Rs. 1.15 Lakh   \n",
       "134           Triumph Rocket 3  Rs. 19.95 - 20.95 Lakh   \n",
       "148              BMW S 1000 RR  Rs. 19.50 - 23.75 Lakh   \n",
       "146  Triumph Speed Triple 1200          Rs. 16.95 Lakh   \n",
       "82       Hero Maestro Edge 110     Rs. 62,750 - 65,750   \n",
       "164          Aprilia Storm 125     Rs. 87,082 - 92,601   \n",
       "12               Honda Unicorn              Rs. 97,356   \n",
       "210               Okinawa Dual              Rs. 58,992   \n",
       "\n",
       "                                Specification           Rating    Brand  \\\n",
       "16   348.36 cc | 46 kmpl | 181 Kg | 21.07 bhp  \\n4.4\\n|  129\\n    Honda   \n",
       "37        4080 W | 95 km/charge | Electric |   \\n4.1\\n|  124\\n    Bajaj   \n",
       "81               199.6 cc | 154 Kg | 18.1 bhp   \\n4.1\\n|  59\\n     Hero   \n",
       "134                         2458 cc | 167 bhp    \\n4.3\\n|  8\\n  Triumph   \n",
       "148               999 cc | 197 Kg | 206.6 bhp   \\n4.3\\n|  57\\n      BMW   \n",
       "146                         1160 cc | 180 bhp    \\n4.4\\n|  2\\n  Triumph   \n",
       "82               110.9 cc | 112 Kg | 8.15 bhp   \\n3.7\\n|  89\\n     Hero   \n",
       "164   124.45 cc | 50 kmpl | 118 Kg | 9.92 bhp     \\n4\\n|  56\\n  Aprilia   \n",
       "12              162.7 cc | 140 Kg | 12.91 bhp  \\n4.1\\n|  393\\n    Honda   \n",
       "210  250 W | 120 -130 Km/Charge | Electric |     \\n3.7\\n|  5\\n  Okinawa   \n",
       "\n",
       "                  Model Ratings Rated By CC or Watt Fuel Type  \\\n",
       "16          Hness CB350     4.4      129    348.36     Petrol   \n",
       "37               Chetak     4.1      124      4080   Electric   \n",
       "81          XPulse 200T     4.1       59     199.6     Petrol   \n",
       "134            Rocket 3     4.3        8      2458     Petrol   \n",
       "148           S 1000 RR     4.3       57       999     Petrol   \n",
       "146   Speed Triple 1200     4.4        2      1160     Petrol   \n",
       "82     Maestro Edge 110     3.7       89     110.9     Petrol   \n",
       "164           Storm 125       4       56    124.45     Petrol   \n",
       "12              Unicorn     4.1      393     162.7     Petrol   \n",
       "210                Dual     3.7        5       250   Electric   \n",
       "\n",
       "          Bike Price Start Price Top Model Price  \n",
       "16       1.86 - 1.92        1.86            1.92  \n",
       "37       1.00 - 1.15        1.00            1.15  \n",
       "81              1.15        1.15             NaN  \n",
       "134    19.95 - 20.95       19.95           20.95  \n",
       "148    19.50 - 23.75       19.50           23.75  \n",
       "146            16.95       16.95             NaN  \n",
       "82   62,750 - 65,750      62,750           65750  \n",
       "164  87,082 - 92,601      87,082           92601  \n",
       "12            97,356      97,356             NaN  \n",
       "210           58,992      58,992             NaN  "
      ]
     },
     "execution_count": 808,
     "metadata": {},
     "output_type": "execute_result"
    }
   ],
   "source": [
    "data_bike.sample(10)"
   ]
  },
  {
   "cell_type": "markdown",
   "id": "c1ec9c8f",
   "metadata": {},
   "source": [
    "## - bhp"
   ]
  },
  {
   "cell_type": "code",
   "execution_count": 809,
   "id": "1b0dabf3",
   "metadata": {},
   "outputs": [],
   "source": [
    "data_bike['Specification']=data_bike['Specification'].astype('str')  # convert to string\n",
    "regx=r'[\\d]+.[\\d]+[\\s]bhp'\n",
    "pregx=re.compile(regx)\n",
    "\n",
    "data_bike['bhp']=data_bike['Specification'].apply(lambda x:np.NaN if pregx.search(x) is None else pregx.search(x).group().replace('bhp',''))"
   ]
  },
  {
   "cell_type": "code",
   "execution_count": 810,
   "id": "5d37837a",
   "metadata": {},
   "outputs": [
    {
     "data": {
      "text/html": [
       "<div>\n",
       "<style scoped>\n",
       "    .dataframe tbody tr th:only-of-type {\n",
       "        vertical-align: middle;\n",
       "    }\n",
       "\n",
       "    .dataframe tbody tr th {\n",
       "        vertical-align: top;\n",
       "    }\n",
       "\n",
       "    .dataframe thead th {\n",
       "        text-align: right;\n",
       "    }\n",
       "</style>\n",
       "<table border=\"1\" class=\"dataframe\">\n",
       "  <thead>\n",
       "    <tr style=\"text-align: right;\">\n",
       "      <th></th>\n",
       "      <th>Bike Name</th>\n",
       "      <th>Price</th>\n",
       "      <th>Specification</th>\n",
       "      <th>Rating</th>\n",
       "      <th>Brand</th>\n",
       "      <th>Model</th>\n",
       "      <th>Ratings</th>\n",
       "      <th>Rated By</th>\n",
       "      <th>CC or Watt</th>\n",
       "      <th>Fuel Type</th>\n",
       "      <th>Bike Price</th>\n",
       "      <th>Start Price</th>\n",
       "      <th>Top Model Price</th>\n",
       "      <th>bhp</th>\n",
       "    </tr>\n",
       "  </thead>\n",
       "  <tbody>\n",
       "    <tr>\n",
       "      <th>0</th>\n",
       "      <td>22Kymco Flow</td>\n",
       "      <td>Rs. 74,740</td>\n",
       "      <td>2100 W | 160 km/charge | Electric |</td>\n",
       "      <td>\\n4.1\\n|  25\\n</td>\n",
       "      <td>22Kymco</td>\n",
       "      <td>Flow</td>\n",
       "      <td>4.1</td>\n",
       "      <td>25</td>\n",
       "      <td>2100</td>\n",
       "      <td>Electric</td>\n",
       "      <td>74,740</td>\n",
       "      <td>74,740</td>\n",
       "      <td>NaN</td>\n",
       "      <td>NaN</td>\n",
       "    </tr>\n",
       "    <tr>\n",
       "      <th>1</th>\n",
       "      <td>22Kymco iFlow</td>\n",
       "      <td>Rs. 90,000</td>\n",
       "      <td>2100 W | Electric |</td>\n",
       "      <td>\\n3.7\\n|  7\\n</td>\n",
       "      <td>22Kymco</td>\n",
       "      <td>iFlow</td>\n",
       "      <td>3.7</td>\n",
       "      <td>7</td>\n",
       "      <td>2100</td>\n",
       "      <td>Electric</td>\n",
       "      <td>90,000</td>\n",
       "      <td>90,000</td>\n",
       "      <td>NaN</td>\n",
       "      <td>NaN</td>\n",
       "    </tr>\n",
       "    <tr>\n",
       "      <th>2</th>\n",
       "      <td>Royal Enfield Classic 350</td>\n",
       "      <td>Rs. 1.72 - 1.98 Lakh</td>\n",
       "      <td>346 cc | 42 kmpl | 195 Kg | 19.36 bhp</td>\n",
       "      <td>\\n4\\n|  9643\\n</td>\n",
       "      <td>Royal</td>\n",
       "      <td>Enfield Classic 350</td>\n",
       "      <td>4</td>\n",
       "      <td>9643</td>\n",
       "      <td>346</td>\n",
       "      <td>Petrol</td>\n",
       "      <td>1.72 - 1.98</td>\n",
       "      <td>1.72</td>\n",
       "      <td>1.98</td>\n",
       "      <td>19.36</td>\n",
       "    </tr>\n",
       "    <tr>\n",
       "      <th>3</th>\n",
       "      <td>Royal Enfield Bullet 350</td>\n",
       "      <td>Rs. 1.34 - 1.55 Lakh</td>\n",
       "      <td>346 cc | 191 Kg | 19.36 bhp</td>\n",
       "      <td>\\n4\\n|  3601\\n</td>\n",
       "      <td>Royal</td>\n",
       "      <td>Enfield Bullet 350</td>\n",
       "      <td>4</td>\n",
       "      <td>3601</td>\n",
       "      <td>346</td>\n",
       "      <td>Petrol</td>\n",
       "      <td>1.34 - 1.55</td>\n",
       "      <td>1.34</td>\n",
       "      <td>1.55</td>\n",
       "      <td>19.36</td>\n",
       "    </tr>\n",
       "    <tr>\n",
       "      <th>4</th>\n",
       "      <td>Royal Enfield Himalayan</td>\n",
       "      <td>Rs. 2.01 - 2.08 Lakh</td>\n",
       "      <td>411 cc | 32 kmpl | 199 Kg | 24.31 bhp</td>\n",
       "      <td>\\n4.3\\n|  371\\n</td>\n",
       "      <td>Royal</td>\n",
       "      <td>Enfield Himalayan</td>\n",
       "      <td>4.3</td>\n",
       "      <td>371</td>\n",
       "      <td>411</td>\n",
       "      <td>Petrol</td>\n",
       "      <td>2.01 - 2.08</td>\n",
       "      <td>2.01</td>\n",
       "      <td>2.08</td>\n",
       "      <td>24.31</td>\n",
       "    </tr>\n",
       "  </tbody>\n",
       "</table>\n",
       "</div>"
      ],
      "text/plain": [
       "                   Bike Name                 Price  \\\n",
       "0               22Kymco Flow            Rs. 74,740   \n",
       "1              22Kymco iFlow            Rs. 90,000   \n",
       "2  Royal Enfield Classic 350  Rs. 1.72 - 1.98 Lakh   \n",
       "3   Royal Enfield Bullet 350  Rs. 1.34 - 1.55 Lakh   \n",
       "4    Royal Enfield Himalayan  Rs. 2.01 - 2.08 Lakh   \n",
       "\n",
       "                           Specification           Rating    Brand  \\\n",
       "0   2100 W | 160 km/charge | Electric |    \\n4.1\\n|  25\\n  22Kymco   \n",
       "1                   2100 W | Electric |     \\n3.7\\n|  7\\n  22Kymco   \n",
       "2  346 cc | 42 kmpl | 195 Kg | 19.36 bhp   \\n4\\n|  9643\\n    Royal   \n",
       "3            346 cc | 191 Kg | 19.36 bhp   \\n4\\n|  3601\\n    Royal   \n",
       "4  411 cc | 32 kmpl | 199 Kg | 24.31 bhp  \\n4.3\\n|  371\\n    Royal   \n",
       "\n",
       "                  Model Ratings Rated By CC or Watt Fuel Type   Bike Price  \\\n",
       "0                  Flow     4.1       25      2100   Electric       74,740   \n",
       "1                 iFlow     3.7        7      2100   Electric       90,000   \n",
       "2   Enfield Classic 350       4     9643       346     Petrol  1.72 - 1.98   \n",
       "3    Enfield Bullet 350       4     3601       346     Petrol  1.34 - 1.55   \n",
       "4     Enfield Himalayan     4.3      371       411     Petrol  2.01 - 2.08   \n",
       "\n",
       "  Start Price Top Model Price     bhp  \n",
       "0      74,740             NaN     NaN  \n",
       "1      90,000             NaN     NaN  \n",
       "2        1.72            1.98  19.36   \n",
       "3        1.34            1.55  19.36   \n",
       "4        2.01            2.08  24.31   "
      ]
     },
     "execution_count": 810,
     "metadata": {},
     "output_type": "execute_result"
    }
   ],
   "source": [
    "data_bike.head()"
   ]
  },
  {
   "cell_type": "markdown",
   "id": "a6bbe53f",
   "metadata": {},
   "source": [
    "## - weight"
   ]
  },
  {
   "cell_type": "code",
   "execution_count": 811,
   "id": "f9e8e13c",
   "metadata": {},
   "outputs": [],
   "source": [
    "data_bike['Specification']=data_bike['Specification'].astype('str')  # convert to string\n",
    "regx=r'[\\d]+.[\\d]+[\\s]Kg'\n",
    "pregx=re.compile(regx)\n",
    "\n",
    "data_bike['Weight']=data_bike['Specification'].apply(lambda x:np.NaN if pregx.search(x) is None else pregx.search(x).group().replace('Kg',''))"
   ]
  },
  {
   "cell_type": "code",
   "execution_count": 812,
   "id": "4b5ae305",
   "metadata": {},
   "outputs": [
    {
     "data": {
      "text/html": [
       "<div>\n",
       "<style scoped>\n",
       "    .dataframe tbody tr th:only-of-type {\n",
       "        vertical-align: middle;\n",
       "    }\n",
       "\n",
       "    .dataframe tbody tr th {\n",
       "        vertical-align: top;\n",
       "    }\n",
       "\n",
       "    .dataframe thead th {\n",
       "        text-align: right;\n",
       "    }\n",
       "</style>\n",
       "<table border=\"1\" class=\"dataframe\">\n",
       "  <thead>\n",
       "    <tr style=\"text-align: right;\">\n",
       "      <th></th>\n",
       "      <th>Bike Name</th>\n",
       "      <th>Price</th>\n",
       "      <th>Specification</th>\n",
       "      <th>Rating</th>\n",
       "      <th>Brand</th>\n",
       "      <th>Model</th>\n",
       "      <th>Ratings</th>\n",
       "      <th>Rated By</th>\n",
       "      <th>CC or Watt</th>\n",
       "      <th>Fuel Type</th>\n",
       "      <th>Bike Price</th>\n",
       "      <th>Start Price</th>\n",
       "      <th>Top Model Price</th>\n",
       "      <th>bhp</th>\n",
       "      <th>Weight</th>\n",
       "    </tr>\n",
       "  </thead>\n",
       "  <tbody>\n",
       "    <tr>\n",
       "      <th>80</th>\n",
       "      <td>Hero Destini 125</td>\n",
       "      <td>Rs. 67,990 - 73,390</td>\n",
       "      <td>124.6 cc | 113 Kg | 9.1 bhp</td>\n",
       "      <td>\\n4.3\\n|  588\\n</td>\n",
       "      <td>Hero</td>\n",
       "      <td>Destini 125</td>\n",
       "      <td>4.3</td>\n",
       "      <td>588</td>\n",
       "      <td>124.6</td>\n",
       "      <td>Petrol</td>\n",
       "      <td>67,990 - 73,390</td>\n",
       "      <td>67,990</td>\n",
       "      <td>73390</td>\n",
       "      <td>9.1</td>\n",
       "      <td>113</td>\n",
       "    </tr>\n",
       "    <tr>\n",
       "      <th>110</th>\n",
       "      <td>Hero Electric Dash</td>\n",
       "      <td>Rs. 50,000 - 62,000</td>\n",
       "      <td>250 W | 60 km/charge | Electric | 77 Kg |</td>\n",
       "      <td>\\n4.5\\n|  14\\n</td>\n",
       "      <td>Hero</td>\n",
       "      <td>Electric Dash</td>\n",
       "      <td>4.5</td>\n",
       "      <td>14</td>\n",
       "      <td>250</td>\n",
       "      <td>Electric</td>\n",
       "      <td>50,000 - 62,000</td>\n",
       "      <td>50,000</td>\n",
       "      <td>62000</td>\n",
       "      <td>NaN</td>\n",
       "      <td>NaN</td>\n",
       "    </tr>\n",
       "    <tr>\n",
       "      <th>33</th>\n",
       "      <td>Bajaj Platina 100</td>\n",
       "      <td>Rs. 52,915 - 63,578</td>\n",
       "      <td>102 cc | 117 Kg | 7.9 bhp</td>\n",
       "      <td>\\n4\\n|  822\\n</td>\n",
       "      <td>Bajaj</td>\n",
       "      <td>Platina 100</td>\n",
       "      <td>4</td>\n",
       "      <td>822</td>\n",
       "      <td>102</td>\n",
       "      <td>Petrol</td>\n",
       "      <td>52,915 - 63,578</td>\n",
       "      <td>52,915</td>\n",
       "      <td>63578</td>\n",
       "      <td>7.9</td>\n",
       "      <td>117</td>\n",
       "    </tr>\n",
       "    <tr>\n",
       "      <th>25</th>\n",
       "      <td>Honda CRF1100L Africa Twin</td>\n",
       "      <td>Rs. 15.96 - 17.50 Lakh</td>\n",
       "      <td>1082.96 cc | 239 Kg | 99.2 bhp</td>\n",
       "      <td>\\n3.6\\n|  8\\n</td>\n",
       "      <td>Honda</td>\n",
       "      <td>CRF1100L Africa Twin</td>\n",
       "      <td>3.6</td>\n",
       "      <td>8</td>\n",
       "      <td>1082.96</td>\n",
       "      <td>Petrol</td>\n",
       "      <td>15.96 - 17.50</td>\n",
       "      <td>15.96</td>\n",
       "      <td>17.50</td>\n",
       "      <td>99.2</td>\n",
       "      <td>239</td>\n",
       "    </tr>\n",
       "    <tr>\n",
       "      <th>133</th>\n",
       "      <td>Harley-Davidson Softail</td>\n",
       "      <td>Rs. 15.25 Lakh</td>\n",
       "      <td>1746 cc | 297 Kg |</td>\n",
       "      <td>nan</td>\n",
       "      <td>Harley-Davidson</td>\n",
       "      <td>Softail</td>\n",
       "      <td>NaN</td>\n",
       "      <td>NaN</td>\n",
       "      <td>1746</td>\n",
       "      <td>Petrol</td>\n",
       "      <td>15.25</td>\n",
       "      <td>15.25</td>\n",
       "      <td>NaN</td>\n",
       "      <td>NaN</td>\n",
       "      <td>297</td>\n",
       "    </tr>\n",
       "    <tr>\n",
       "      <th>81</th>\n",
       "      <td>Hero XPulse 200T</td>\n",
       "      <td>Rs. 1.15 Lakh</td>\n",
       "      <td>199.6 cc | 154 Kg | 18.1 bhp</td>\n",
       "      <td>\\n4.1\\n|  59\\n</td>\n",
       "      <td>Hero</td>\n",
       "      <td>XPulse 200T</td>\n",
       "      <td>4.1</td>\n",
       "      <td>59</td>\n",
       "      <td>199.6</td>\n",
       "      <td>Petrol</td>\n",
       "      <td>1.15</td>\n",
       "      <td>1.15</td>\n",
       "      <td>NaN</td>\n",
       "      <td>18.1</td>\n",
       "      <td>154</td>\n",
       "    </tr>\n",
       "    <tr>\n",
       "      <th>103</th>\n",
       "      <td>CFMoto 300NK</td>\n",
       "      <td>Rs. 2.29 Lakh</td>\n",
       "      <td>292.4 cc | 151 Kg | 33.99 bhp</td>\n",
       "      <td>\\n4.3\\n|  9\\n</td>\n",
       "      <td>CFMoto</td>\n",
       "      <td>300NK</td>\n",
       "      <td>4.3</td>\n",
       "      <td>9</td>\n",
       "      <td>292.4</td>\n",
       "      <td>Petrol</td>\n",
       "      <td>2.29</td>\n",
       "      <td>2.29</td>\n",
       "      <td>NaN</td>\n",
       "      <td>33.99</td>\n",
       "      <td>151</td>\n",
       "    </tr>\n",
       "    <tr>\n",
       "      <th>116</th>\n",
       "      <td>Vespa Notte 125</td>\n",
       "      <td>Rs. 93,144</td>\n",
       "      <td>124.45 cc | 115 Kg | 9.92 bhp</td>\n",
       "      <td>\\n4.1\\n|  34\\n</td>\n",
       "      <td>Vespa</td>\n",
       "      <td>Notte 125</td>\n",
       "      <td>4.1</td>\n",
       "      <td>34</td>\n",
       "      <td>124.45</td>\n",
       "      <td>Petrol</td>\n",
       "      <td>93,144</td>\n",
       "      <td>93,144</td>\n",
       "      <td>NaN</td>\n",
       "      <td>9.92</td>\n",
       "      <td>115</td>\n",
       "    </tr>\n",
       "    <tr>\n",
       "      <th>3</th>\n",
       "      <td>Royal Enfield Bullet 350</td>\n",
       "      <td>Rs. 1.34 - 1.55 Lakh</td>\n",
       "      <td>346 cc | 191 Kg | 19.36 bhp</td>\n",
       "      <td>\\n4\\n|  3601\\n</td>\n",
       "      <td>Royal</td>\n",
       "      <td>Enfield Bullet 350</td>\n",
       "      <td>4</td>\n",
       "      <td>3601</td>\n",
       "      <td>346</td>\n",
       "      <td>Petrol</td>\n",
       "      <td>1.34 - 1.55</td>\n",
       "      <td>1.34</td>\n",
       "      <td>1.55</td>\n",
       "      <td>19.36</td>\n",
       "      <td>191</td>\n",
       "    </tr>\n",
       "    <tr>\n",
       "      <th>17</th>\n",
       "      <td>Honda XBlade</td>\n",
       "      <td>Rs. 1.09 - 1.13 Lakh</td>\n",
       "      <td>162.71 cc | 144 Kg | 13.8 bhp</td>\n",
       "      <td>\\n4.2\\n|  134\\n</td>\n",
       "      <td>Honda</td>\n",
       "      <td>XBlade</td>\n",
       "      <td>4.2</td>\n",
       "      <td>134</td>\n",
       "      <td>162.71</td>\n",
       "      <td>Petrol</td>\n",
       "      <td>1.09 - 1.13</td>\n",
       "      <td>1.09</td>\n",
       "      <td>1.13</td>\n",
       "      <td>13.8</td>\n",
       "      <td>144</td>\n",
       "    </tr>\n",
       "  </tbody>\n",
       "</table>\n",
       "</div>"
      ],
      "text/plain": [
       "                      Bike Name                   Price  \\\n",
       "80             Hero Destini 125     Rs. 67,990 - 73,390   \n",
       "110          Hero Electric Dash     Rs. 50,000 - 62,000   \n",
       "33            Bajaj Platina 100     Rs. 52,915 - 63,578   \n",
       "25   Honda CRF1100L Africa Twin  Rs. 15.96 - 17.50 Lakh   \n",
       "133    Harley-Davidson Softail           Rs. 15.25 Lakh   \n",
       "81             Hero XPulse 200T           Rs. 1.15 Lakh   \n",
       "103                CFMoto 300NK           Rs. 2.29 Lakh   \n",
       "116             Vespa Notte 125              Rs. 93,144   \n",
       "3      Royal Enfield Bullet 350    Rs. 1.34 - 1.55 Lakh   \n",
       "17                 Honda XBlade    Rs. 1.09 - 1.13 Lakh   \n",
       "\n",
       "                                  Specification           Rating  \\\n",
       "80                  124.6 cc | 113 Kg | 9.1 bhp  \\n4.3\\n|  588\\n   \n",
       "110  250 W | 60 km/charge | Electric | 77 Kg |    \\n4.5\\n|  14\\n   \n",
       "33                    102 cc | 117 Kg | 7.9 bhp    \\n4\\n|  822\\n   \n",
       "25               1082.96 cc | 239 Kg | 99.2 bhp    \\n3.6\\n|  8\\n   \n",
       "133                         1746 cc | 297 Kg |               nan   \n",
       "81                 199.6 cc | 154 Kg | 18.1 bhp   \\n4.1\\n|  59\\n   \n",
       "103               292.4 cc | 151 Kg | 33.99 bhp    \\n4.3\\n|  9\\n   \n",
       "116               124.45 cc | 115 Kg | 9.92 bhp   \\n4.1\\n|  34\\n   \n",
       "3                   346 cc | 191 Kg | 19.36 bhp   \\n4\\n|  3601\\n   \n",
       "17                162.71 cc | 144 Kg | 13.8 bhp  \\n4.2\\n|  134\\n   \n",
       "\n",
       "               Brand                  Model Ratings Rated By CC or Watt  \\\n",
       "80              Hero            Destini 125     4.3      588     124.6    \n",
       "110             Hero          Electric Dash     4.5       14       250    \n",
       "33             Bajaj            Platina 100       4      822       102    \n",
       "25             Honda   CRF1100L Africa Twin     3.6        8   1082.96    \n",
       "133  Harley-Davidson               Softail      NaN      NaN      1746    \n",
       "81              Hero            XPulse 200T     4.1       59     199.6    \n",
       "103           CFMoto                  300NK     4.3        9     292.4    \n",
       "116            Vespa              Notte 125     4.1       34    124.45    \n",
       "3              Royal     Enfield Bullet 350       4     3601       346    \n",
       "17             Honda                 XBlade     4.2      134    162.71    \n",
       "\n",
       "    Fuel Type       Bike Price Start Price Top Model Price     bhp Weight  \n",
       "80     Petrol  67,990 - 73,390      67,990           73390    9.1    113   \n",
       "110  Electric  50,000 - 62,000      50,000           62000     NaN    NaN  \n",
       "33     Petrol  52,915 - 63,578      52,915           63578    7.9    117   \n",
       "25     Petrol    15.96 - 17.50       15.96           17.50   99.2    239   \n",
       "133    Petrol            15.25       15.25             NaN     NaN   297   \n",
       "81     Petrol             1.15        1.15             NaN   18.1    154   \n",
       "103    Petrol             2.29        2.29             NaN  33.99    151   \n",
       "116    Petrol           93,144      93,144             NaN   9.92    115   \n",
       "3      Petrol      1.34 - 1.55        1.34            1.55  19.36    191   \n",
       "17     Petrol      1.09 - 1.13        1.09            1.13   13.8    144   "
      ]
     },
     "execution_count": 812,
     "metadata": {},
     "output_type": "execute_result"
    }
   ],
   "source": [
    "data_bike.sample(10)"
   ]
  },
  {
   "cell_type": "markdown",
   "id": "dbd5011f",
   "metadata": {},
   "source": [
    "## Data Cleaned"
   ]
  },
  {
   "cell_type": "code",
   "execution_count": 813,
   "id": "4b8a63b0",
   "metadata": {},
   "outputs": [
    {
     "data": {
      "text/plain": [
       "Index(['Bike Name', 'Price', 'Specification', 'Rating', 'Brand', 'Model',\n",
       "       'Ratings', 'Rated By', 'CC or Watt', 'Fuel Type', 'Bike Price',\n",
       "       'Start Price', 'Top Model Price', 'bhp', 'Weight'],\n",
       "      dtype='object')"
      ]
     },
     "execution_count": 813,
     "metadata": {},
     "output_type": "execute_result"
    }
   ],
   "source": [
    "data_bike.columns"
   ]
  },
  {
   "cell_type": "code",
   "execution_count": 814,
   "id": "b5f319dc",
   "metadata": {},
   "outputs": [],
   "source": [
    "data_bike=data_bike[['Brand', 'Model',\n",
    "       'Ratings', 'Rated By', 'CC or Watt', 'Fuel Type',\n",
    "       'Start Price',  'Top Model Price',\n",
    "                     'bhp', 'Weight']]"
   ]
  },
  {
   "cell_type": "code",
   "execution_count": 815,
   "id": "c286b3b7",
   "metadata": {},
   "outputs": [
    {
     "data": {
      "text/html": [
       "<div>\n",
       "<style scoped>\n",
       "    .dataframe tbody tr th:only-of-type {\n",
       "        vertical-align: middle;\n",
       "    }\n",
       "\n",
       "    .dataframe tbody tr th {\n",
       "        vertical-align: top;\n",
       "    }\n",
       "\n",
       "    .dataframe thead th {\n",
       "        text-align: right;\n",
       "    }\n",
       "</style>\n",
       "<table border=\"1\" class=\"dataframe\">\n",
       "  <thead>\n",
       "    <tr style=\"text-align: right;\">\n",
       "      <th></th>\n",
       "      <th>Brand</th>\n",
       "      <th>Model</th>\n",
       "      <th>Ratings</th>\n",
       "      <th>Rated By</th>\n",
       "      <th>CC or Watt</th>\n",
       "      <th>Fuel Type</th>\n",
       "      <th>Start Price</th>\n",
       "      <th>Top Model Price</th>\n",
       "      <th>bhp</th>\n",
       "      <th>Weight</th>\n",
       "    </tr>\n",
       "  </thead>\n",
       "  <tbody>\n",
       "    <tr>\n",
       "      <th>177</th>\n",
       "      <td>Kawasaki</td>\n",
       "      <td>KLX 110</td>\n",
       "      <td>4.1</td>\n",
       "      <td>3</td>\n",
       "      <td>112</td>\n",
       "      <td>Petrol</td>\n",
       "      <td>2.99</td>\n",
       "      <td>NaN</td>\n",
       "      <td>7.3</td>\n",
       "      <td>NaN</td>\n",
       "    </tr>\n",
       "    <tr>\n",
       "      <th>104</th>\n",
       "      <td>Hero</td>\n",
       "      <td>Electric Optima LA</td>\n",
       "      <td>3.6</td>\n",
       "      <td>38</td>\n",
       "      <td>250</td>\n",
       "      <td>Electric</td>\n",
       "      <td>44,990</td>\n",
       "      <td>NaN</td>\n",
       "      <td>NaN</td>\n",
       "      <td>NaN</td>\n",
       "    </tr>\n",
       "    <tr>\n",
       "      <th>119</th>\n",
       "      <td>Vespa</td>\n",
       "      <td>Elegante 150</td>\n",
       "      <td>4.5</td>\n",
       "      <td>23</td>\n",
       "      <td>149.5</td>\n",
       "      <td>Petrol</td>\n",
       "      <td>1.37</td>\n",
       "      <td>NaN</td>\n",
       "      <td>10.47</td>\n",
       "      <td>115</td>\n",
       "    </tr>\n",
       "    <tr>\n",
       "      <th>56</th>\n",
       "      <td>TVS</td>\n",
       "      <td>Apache RTR 160 4V</td>\n",
       "      <td>4.1</td>\n",
       "      <td>2032</td>\n",
       "      <td>159.7</td>\n",
       "      <td>Petrol</td>\n",
       "      <td>1.07</td>\n",
       "      <td>1.10</td>\n",
       "      <td>17.63</td>\n",
       "      <td>145</td>\n",
       "    </tr>\n",
       "    <tr>\n",
       "      <th>173</th>\n",
       "      <td>Kawasaki</td>\n",
       "      <td>Ninja 650</td>\n",
       "      <td>4.5</td>\n",
       "      <td>27</td>\n",
       "      <td>649</td>\n",
       "      <td>Petrol</td>\n",
       "      <td>6.54</td>\n",
       "      <td>NaN</td>\n",
       "      <td>NaN</td>\n",
       "      <td>196</td>\n",
       "    </tr>\n",
       "    <tr>\n",
       "      <th>62</th>\n",
       "      <td>TVS</td>\n",
       "      <td>Sport</td>\n",
       "      <td>3.8</td>\n",
       "      <td>662</td>\n",
       "      <td>109.7</td>\n",
       "      <td>Petrol</td>\n",
       "      <td>56,130</td>\n",
       "      <td>62980</td>\n",
       "      <td>8.29</td>\n",
       "      <td>110</td>\n",
       "    </tr>\n",
       "    <tr>\n",
       "      <th>79</th>\n",
       "      <td>Hero</td>\n",
       "      <td>Xtreme 200S</td>\n",
       "      <td>3.9</td>\n",
       "      <td>111</td>\n",
       "      <td>199.6</td>\n",
       "      <td>Petrol</td>\n",
       "      <td>1.20</td>\n",
       "      <td>NaN</td>\n",
       "      <td>18.08</td>\n",
       "      <td>154.5</td>\n",
       "    </tr>\n",
       "    <tr>\n",
       "      <th>0</th>\n",
       "      <td>22Kymco</td>\n",
       "      <td>Flow</td>\n",
       "      <td>4.1</td>\n",
       "      <td>25</td>\n",
       "      <td>2100</td>\n",
       "      <td>Electric</td>\n",
       "      <td>74,740</td>\n",
       "      <td>NaN</td>\n",
       "      <td>NaN</td>\n",
       "      <td>NaN</td>\n",
       "    </tr>\n",
       "    <tr>\n",
       "      <th>182</th>\n",
       "      <td>Kawasaki</td>\n",
       "      <td>KX 450F</td>\n",
       "      <td>5</td>\n",
       "      <td>3</td>\n",
       "      <td>449</td>\n",
       "      <td>Petrol</td>\n",
       "      <td>7.79</td>\n",
       "      <td>NaN</td>\n",
       "      <td>NaN</td>\n",
       "      <td>110.0</td>\n",
       "    </tr>\n",
       "    <tr>\n",
       "      <th>197</th>\n",
       "      <td>Husqvarna</td>\n",
       "      <td>Vitpilen 250</td>\n",
       "      <td>4.3</td>\n",
       "      <td>55</td>\n",
       "      <td>248.76</td>\n",
       "      <td>Petrol</td>\n",
       "      <td>1.99</td>\n",
       "      <td>NaN</td>\n",
       "      <td>NaN</td>\n",
       "      <td>153</td>\n",
       "    </tr>\n",
       "    <tr>\n",
       "      <th>22</th>\n",
       "      <td>Honda</td>\n",
       "      <td>CB350RS</td>\n",
       "      <td>4.1</td>\n",
       "      <td>16</td>\n",
       "      <td>348.36</td>\n",
       "      <td>Petrol</td>\n",
       "      <td>1.89</td>\n",
       "      <td>1.95</td>\n",
       "      <td>21.07</td>\n",
       "      <td>179</td>\n",
       "    </tr>\n",
       "    <tr>\n",
       "      <th>162</th>\n",
       "      <td>Aprilia</td>\n",
       "      <td>SXR 160</td>\n",
       "      <td>4.2</td>\n",
       "      <td>20</td>\n",
       "      <td>160</td>\n",
       "      <td>Petrol</td>\n",
       "      <td>1.27</td>\n",
       "      <td>NaN</td>\n",
       "      <td>10.9</td>\n",
       "      <td>129</td>\n",
       "    </tr>\n",
       "    <tr>\n",
       "      <th>120</th>\n",
       "      <td>Vespa</td>\n",
       "      <td>Urban Club 125</td>\n",
       "      <td>3.9</td>\n",
       "      <td>6</td>\n",
       "      <td>124.45</td>\n",
       "      <td>Petrol</td>\n",
       "      <td>94,821</td>\n",
       "      <td>NaN</td>\n",
       "      <td>9.92</td>\n",
       "      <td>115</td>\n",
       "    </tr>\n",
       "    <tr>\n",
       "      <th>167</th>\n",
       "      <td>Mahindra</td>\n",
       "      <td>Mojo 300 BS6</td>\n",
       "      <td>4</td>\n",
       "      <td>13</td>\n",
       "      <td>294.72</td>\n",
       "      <td>Petrol</td>\n",
       "      <td>1.99</td>\n",
       "      <td>2.11</td>\n",
       "      <td>25.72</td>\n",
       "      <td>186.2</td>\n",
       "    </tr>\n",
       "    <tr>\n",
       "      <th>45</th>\n",
       "      <td>KTM</td>\n",
       "      <td>RC 200</td>\n",
       "      <td>4.1</td>\n",
       "      <td>1114</td>\n",
       "      <td>199.5</td>\n",
       "      <td>Petrol</td>\n",
       "      <td>2.04</td>\n",
       "      <td>NaN</td>\n",
       "      <td>NaN</td>\n",
       "      <td>NaN</td>\n",
       "    </tr>\n",
       "    <tr>\n",
       "      <th>63</th>\n",
       "      <td>TVS</td>\n",
       "      <td>Apache RTR 180</td>\n",
       "      <td>4.2</td>\n",
       "      <td>1115</td>\n",
       "      <td>177.4</td>\n",
       "      <td>Petrol</td>\n",
       "      <td>1.08</td>\n",
       "      <td>NaN</td>\n",
       "      <td>16.79</td>\n",
       "      <td>141</td>\n",
       "    </tr>\n",
       "    <tr>\n",
       "      <th>183</th>\n",
       "      <td>Kawasaki</td>\n",
       "      <td>KLX 450R</td>\n",
       "      <td>3.4</td>\n",
       "      <td>1</td>\n",
       "      <td>449</td>\n",
       "      <td>Petrol</td>\n",
       "      <td>8.49</td>\n",
       "      <td>NaN</td>\n",
       "      <td>NaN</td>\n",
       "      <td>126</td>\n",
       "    </tr>\n",
       "    <tr>\n",
       "      <th>186</th>\n",
       "      <td>Ducati</td>\n",
       "      <td>2021 Panigale V4</td>\n",
       "      <td>4.2</td>\n",
       "      <td>20</td>\n",
       "      <td>1103</td>\n",
       "      <td>Petrol</td>\n",
       "      <td>23.50</td>\n",
       "      <td>28.40</td>\n",
       "      <td>216.9</td>\n",
       "      <td>198</td>\n",
       "    </tr>\n",
       "    <tr>\n",
       "      <th>161</th>\n",
       "      <td>BMW</td>\n",
       "      <td>2021 S 1000 R</td>\n",
       "      <td>NaN</td>\n",
       "      <td>NaN</td>\n",
       "      <td>999</td>\n",
       "      <td>Petrol</td>\n",
       "      <td>17.90</td>\n",
       "      <td>22.50</td>\n",
       "      <td>165</td>\n",
       "      <td>199</td>\n",
       "    </tr>\n",
       "    <tr>\n",
       "      <th>164</th>\n",
       "      <td>Aprilia</td>\n",
       "      <td>Storm 125</td>\n",
       "      <td>4</td>\n",
       "      <td>56</td>\n",
       "      <td>124.45</td>\n",
       "      <td>Petrol</td>\n",
       "      <td>87,082</td>\n",
       "      <td>92601</td>\n",
       "      <td>9.92</td>\n",
       "      <td>118</td>\n",
       "    </tr>\n",
       "  </tbody>\n",
       "</table>\n",
       "</div>"
      ],
      "text/plain": [
       "         Brand                Model Ratings Rated By CC or Watt Fuel Type  \\\n",
       "177   Kawasaki              KLX 110     4.1        3       112     Petrol   \n",
       "104       Hero   Electric Optima LA     3.6       38       250   Electric   \n",
       "119      Vespa         Elegante 150     4.5       23     149.5     Petrol   \n",
       "56         TVS    Apache RTR 160 4V     4.1     2032     159.7     Petrol   \n",
       "173   Kawasaki            Ninja 650     4.5       27       649     Petrol   \n",
       "62         TVS                Sport     3.8      662     109.7     Petrol   \n",
       "79        Hero          Xtreme 200S     3.9      111     199.6     Petrol   \n",
       "0      22Kymco                 Flow     4.1       25      2100   Electric   \n",
       "182   Kawasaki              KX 450F       5        3       449     Petrol   \n",
       "197  Husqvarna         Vitpilen 250     4.3       55    248.76     Petrol   \n",
       "22       Honda              CB350RS     4.1       16    348.36     Petrol   \n",
       "162    Aprilia              SXR 160     4.2       20       160     Petrol   \n",
       "120      Vespa       Urban Club 125     3.9        6    124.45     Petrol   \n",
       "167   Mahindra         Mojo 300 BS6       4       13    294.72     Petrol   \n",
       "45         KTM               RC 200     4.1     1114     199.5     Petrol   \n",
       "63         TVS       Apache RTR 180     4.2     1115     177.4     Petrol   \n",
       "183   Kawasaki             KLX 450R     3.4        1       449     Petrol   \n",
       "186     Ducati     2021 Panigale V4     4.2       20      1103     Petrol   \n",
       "161        BMW        2021 S 1000 R     NaN      NaN       999     Petrol   \n",
       "164    Aprilia            Storm 125       4       56    124.45     Petrol   \n",
       "\n",
       "    Start Price Top Model Price     bhp  Weight  \n",
       "177        2.99             NaN    7.3      NaN  \n",
       "104      44,990             NaN     NaN     NaN  \n",
       "119        1.37             NaN  10.47     115   \n",
       "56         1.07            1.10  17.63     145   \n",
       "173        6.54             NaN     NaN    196   \n",
       "62       56,130           62980   8.29     110   \n",
       "79         1.20             NaN  18.08   154.5   \n",
       "0        74,740             NaN     NaN     NaN  \n",
       "182        7.79             NaN     NaN  110.0   \n",
       "197        1.99             NaN     NaN    153   \n",
       "22         1.89            1.95  21.07     179   \n",
       "162        1.27             NaN   10.9     129   \n",
       "120      94,821             NaN   9.92     115   \n",
       "167        1.99            2.11  25.72   186.2   \n",
       "45         2.04             NaN     NaN     NaN  \n",
       "63         1.08             NaN  16.79     141   \n",
       "183        8.49             NaN     NaN    126   \n",
       "186       23.50           28.40  216.9     198   \n",
       "161       17.90           22.50    165     199   \n",
       "164      87,082           92601   9.92     118   "
      ]
     },
     "execution_count": 815,
     "metadata": {},
     "output_type": "execute_result"
    }
   ],
   "source": [
    "data_bike.sample(20)"
   ]
  },
  {
   "cell_type": "code",
   "execution_count": 816,
   "id": "711f8c2b",
   "metadata": {},
   "outputs": [
    {
     "data": {
      "text/plain": [
       "(213, 10)"
      ]
     },
     "execution_count": 816,
     "metadata": {},
     "output_type": "execute_result"
    }
   ],
   "source": [
    "data_bike.shape"
   ]
  },
  {
   "cell_type": "code",
   "execution_count": 817,
   "id": "156f67aa",
   "metadata": {},
   "outputs": [],
   "source": [
    "data_bike.to_csv('zigwheels_bikes_cleaned.csv',index=False)"
   ]
  },
  {
   "cell_type": "markdown",
   "id": "b5cb7dc8",
   "metadata": {},
   "source": [
    "## Digit correction of Price Column"
   ]
  },
  {
   "cell_type": "markdown",
   "id": "58b9217f",
   "metadata": {},
   "source": [
    "## Saperate thousand bikes"
   ]
  },
  {
   "cell_type": "code",
   "execution_count": 785,
   "id": "8710b5f7",
   "metadata": {},
   "outputs": [],
   "source": [
    "data_bike['Start Price']=data_bike['Start Price'].astype('str')  # convert to string\n",
    "regx=r'\\d+,\\d+'\n",
    "pregx=re.compile(regx)\n",
    "\n",
    "data_bike['Start Price']=data_bike['Start Price'].apply(lambda x:np.NaN if pregx.search(x) is None else pregx.search(x).group().replace(',',''))"
   ]
  },
  {
   "cell_type": "code",
   "execution_count": 786,
   "id": "49200fd7",
   "metadata": {},
   "outputs": [
    {
     "data": {
      "text/html": [
       "<div>\n",
       "<style scoped>\n",
       "    .dataframe tbody tr th:only-of-type {\n",
       "        vertical-align: middle;\n",
       "    }\n",
       "\n",
       "    .dataframe tbody tr th {\n",
       "        vertical-align: top;\n",
       "    }\n",
       "\n",
       "    .dataframe thead th {\n",
       "        text-align: right;\n",
       "    }\n",
       "</style>\n",
       "<table border=\"1\" class=\"dataframe\">\n",
       "  <thead>\n",
       "    <tr style=\"text-align: right;\">\n",
       "      <th></th>\n",
       "      <th>Brand</th>\n",
       "      <th>Model</th>\n",
       "      <th>Ratings</th>\n",
       "      <th>Rated By</th>\n",
       "      <th>CC or Watt</th>\n",
       "      <th>Fuel Type</th>\n",
       "      <th>Start Price</th>\n",
       "      <th>Top Model Price</th>\n",
       "      <th>bhp</th>\n",
       "      <th>Weight</th>\n",
       "    </tr>\n",
       "  </thead>\n",
       "  <tbody>\n",
       "    <tr>\n",
       "      <th>0</th>\n",
       "      <td>22Kymco</td>\n",
       "      <td>Flow</td>\n",
       "      <td>4.1</td>\n",
       "      <td>25</td>\n",
       "      <td>2100</td>\n",
       "      <td>Electric</td>\n",
       "      <td>74740</td>\n",
       "      <td>NaN</td>\n",
       "      <td>NaN</td>\n",
       "      <td>NaN</td>\n",
       "    </tr>\n",
       "    <tr>\n",
       "      <th>1</th>\n",
       "      <td>22Kymco</td>\n",
       "      <td>iFlow</td>\n",
       "      <td>3.7</td>\n",
       "      <td>7</td>\n",
       "      <td>2100</td>\n",
       "      <td>Electric</td>\n",
       "      <td>90000</td>\n",
       "      <td>NaN</td>\n",
       "      <td>NaN</td>\n",
       "      <td>NaN</td>\n",
       "    </tr>\n",
       "    <tr>\n",
       "      <th>2</th>\n",
       "      <td>Royal</td>\n",
       "      <td>Enfield Classic 350</td>\n",
       "      <td>4</td>\n",
       "      <td>9643</td>\n",
       "      <td>346</td>\n",
       "      <td>Petrol</td>\n",
       "      <td>NaN</td>\n",
       "      <td>1.98</td>\n",
       "      <td>19.36</td>\n",
       "      <td>195</td>\n",
       "    </tr>\n",
       "    <tr>\n",
       "      <th>3</th>\n",
       "      <td>Royal</td>\n",
       "      <td>Enfield Bullet 350</td>\n",
       "      <td>4</td>\n",
       "      <td>3601</td>\n",
       "      <td>346</td>\n",
       "      <td>Petrol</td>\n",
       "      <td>NaN</td>\n",
       "      <td>1.55</td>\n",
       "      <td>19.36</td>\n",
       "      <td>191</td>\n",
       "    </tr>\n",
       "    <tr>\n",
       "      <th>4</th>\n",
       "      <td>Royal</td>\n",
       "      <td>Enfield Himalayan</td>\n",
       "      <td>4.3</td>\n",
       "      <td>371</td>\n",
       "      <td>411</td>\n",
       "      <td>Petrol</td>\n",
       "      <td>NaN</td>\n",
       "      <td>2.08</td>\n",
       "      <td>24.31</td>\n",
       "      <td>199</td>\n",
       "    </tr>\n",
       "  </tbody>\n",
       "</table>\n",
       "</div>"
      ],
      "text/plain": [
       "     Brand                 Model Ratings Rated By CC or Watt Fuel Type  \\\n",
       "0  22Kymco                  Flow     4.1       25      2100   Electric   \n",
       "1  22Kymco                 iFlow     3.7        7      2100   Electric   \n",
       "2    Royal   Enfield Classic 350       4     9643       346     Petrol   \n",
       "3    Royal    Enfield Bullet 350       4     3601       346     Petrol   \n",
       "4    Royal     Enfield Himalayan     4.3      371       411     Petrol   \n",
       "\n",
       "  Start Price Top Model Price     bhp Weight  \n",
       "0       74740             NaN     NaN    NaN  \n",
       "1       90000             NaN     NaN    NaN  \n",
       "2         NaN            1.98  19.36    195   \n",
       "3         NaN            1.55  19.36    191   \n",
       "4         NaN            2.08  24.31    199   "
      ]
     },
     "execution_count": 786,
     "metadata": {},
     "output_type": "execute_result"
    }
   ],
   "source": [
    "data_bike.head()"
   ]
  },
  {
   "cell_type": "code",
   "execution_count": 787,
   "id": "b004e368",
   "metadata": {},
   "outputs": [],
   "source": [
    "thousand_bikes=data_bike[data_bike['Start Price'].notnull()]"
   ]
  },
  {
   "cell_type": "code",
   "execution_count": 788,
   "id": "623766ff",
   "metadata": {},
   "outputs": [
    {
     "data": {
      "text/html": [
       "<div>\n",
       "<style scoped>\n",
       "    .dataframe tbody tr th:only-of-type {\n",
       "        vertical-align: middle;\n",
       "    }\n",
       "\n",
       "    .dataframe tbody tr th {\n",
       "        vertical-align: top;\n",
       "    }\n",
       "\n",
       "    .dataframe thead th {\n",
       "        text-align: right;\n",
       "    }\n",
       "</style>\n",
       "<table border=\"1\" class=\"dataframe\">\n",
       "  <thead>\n",
       "    <tr style=\"text-align: right;\">\n",
       "      <th></th>\n",
       "      <th>Brand</th>\n",
       "      <th>Model</th>\n",
       "      <th>Ratings</th>\n",
       "      <th>Rated By</th>\n",
       "      <th>CC or Watt</th>\n",
       "      <th>Fuel Type</th>\n",
       "      <th>Start Price</th>\n",
       "      <th>Top Model Price</th>\n",
       "      <th>bhp</th>\n",
       "      <th>Weight</th>\n",
       "    </tr>\n",
       "  </thead>\n",
       "  <tbody>\n",
       "    <tr>\n",
       "      <th>0</th>\n",
       "      <td>22Kymco</td>\n",
       "      <td>Flow</td>\n",
       "      <td>4.1</td>\n",
       "      <td>25</td>\n",
       "      <td>2100</td>\n",
       "      <td>Electric</td>\n",
       "      <td>74740</td>\n",
       "      <td>NaN</td>\n",
       "      <td>NaN</td>\n",
       "      <td>NaN</td>\n",
       "    </tr>\n",
       "    <tr>\n",
       "      <th>1</th>\n",
       "      <td>22Kymco</td>\n",
       "      <td>iFlow</td>\n",
       "      <td>3.7</td>\n",
       "      <td>7</td>\n",
       "      <td>2100</td>\n",
       "      <td>Electric</td>\n",
       "      <td>90000</td>\n",
       "      <td>NaN</td>\n",
       "      <td>NaN</td>\n",
       "      <td>NaN</td>\n",
       "    </tr>\n",
       "    <tr>\n",
       "      <th>8</th>\n",
       "      <td>Honda</td>\n",
       "      <td>Activa 6G</td>\n",
       "      <td>3.9</td>\n",
       "      <td>921</td>\n",
       "      <td>109.51</td>\n",
       "      <td>Petrol</td>\n",
       "      <td>67843</td>\n",
       "      <td>71089</td>\n",
       "      <td>7.79</td>\n",
       "      <td>107</td>\n",
       "    </tr>\n",
       "    <tr>\n",
       "      <th>9</th>\n",
       "      <td>Honda</td>\n",
       "      <td>Shine</td>\n",
       "      <td>4</td>\n",
       "      <td>694</td>\n",
       "      <td>124</td>\n",
       "      <td>Petrol</td>\n",
       "      <td>71550</td>\n",
       "      <td>76346</td>\n",
       "      <td>10.74</td>\n",
       "      <td>114</td>\n",
       "    </tr>\n",
       "    <tr>\n",
       "      <th>10</th>\n",
       "      <td>Honda</td>\n",
       "      <td>Dio</td>\n",
       "      <td>4.1</td>\n",
       "      <td>642</td>\n",
       "      <td>109.51</td>\n",
       "      <td>Petrol</td>\n",
       "      <td>63273</td>\n",
       "      <td>69171</td>\n",
       "      <td>7.76</td>\n",
       "      <td>103</td>\n",
       "    </tr>\n",
       "    <tr>\n",
       "      <th>...</th>\n",
       "      <td>...</td>\n",
       "      <td>...</td>\n",
       "      <td>...</td>\n",
       "      <td>...</td>\n",
       "      <td>...</td>\n",
       "      <td>...</td>\n",
       "      <td>...</td>\n",
       "      <td>...</td>\n",
       "      <td>...</td>\n",
       "      <td>...</td>\n",
       "    </tr>\n",
       "    <tr>\n",
       "      <th>208</th>\n",
       "      <td>Okinawa</td>\n",
       "      <td>R30</td>\n",
       "      <td>3.5</td>\n",
       "      <td>15</td>\n",
       "      <td>250</td>\n",
       "      <td>Electric</td>\n",
       "      <td>58992</td>\n",
       "      <td>NaN</td>\n",
       "      <td>NaN</td>\n",
       "      <td>NaN</td>\n",
       "    </tr>\n",
       "    <tr>\n",
       "      <th>209</th>\n",
       "      <td>Okinawa</td>\n",
       "      <td>Ridge</td>\n",
       "      <td>3.8</td>\n",
       "      <td>37</td>\n",
       "      <td>1700</td>\n",
       "      <td>Electric</td>\n",
       "      <td>73417</td>\n",
       "      <td>NaN</td>\n",
       "      <td>NaN</td>\n",
       "      <td>NaN</td>\n",
       "    </tr>\n",
       "    <tr>\n",
       "      <th>210</th>\n",
       "      <td>Okinawa</td>\n",
       "      <td>Dual</td>\n",
       "      <td>3.7</td>\n",
       "      <td>5</td>\n",
       "      <td>250</td>\n",
       "      <td>Electric</td>\n",
       "      <td>58992</td>\n",
       "      <td>NaN</td>\n",
       "      <td>NaN</td>\n",
       "      <td>NaN</td>\n",
       "    </tr>\n",
       "    <tr>\n",
       "      <th>211</th>\n",
       "      <td>Okinawa</td>\n",
       "      <td>Lite</td>\n",
       "      <td>4.7</td>\n",
       "      <td>24</td>\n",
       "      <td>250</td>\n",
       "      <td>Electric</td>\n",
       "      <td>63990</td>\n",
       "      <td>NaN</td>\n",
       "      <td>NaN</td>\n",
       "      <td>NaN</td>\n",
       "    </tr>\n",
       "    <tr>\n",
       "      <th>212</th>\n",
       "      <td>Li-ions</td>\n",
       "      <td>Elektrik Solutions Spock Electric Scooter</td>\n",
       "      <td>3.8</td>\n",
       "      <td>32</td>\n",
       "      <td>2000</td>\n",
       "      <td>Electric</td>\n",
       "      <td>65000</td>\n",
       "      <td>NaN</td>\n",
       "      <td>NaN</td>\n",
       "      <td>NaN</td>\n",
       "    </tr>\n",
       "  </tbody>\n",
       "</table>\n",
       "<p>66 rows × 10 columns</p>\n",
       "</div>"
      ],
      "text/plain": [
       "       Brand                                       Model Ratings Rated By  \\\n",
       "0    22Kymco                                        Flow     4.1       25   \n",
       "1    22Kymco                                       iFlow     3.7        7   \n",
       "8      Honda                                   Activa 6G     3.9      921   \n",
       "9      Honda                                       Shine       4      694   \n",
       "10     Honda                                         Dio     4.1      642   \n",
       "..       ...                                         ...     ...      ...   \n",
       "208  Okinawa                                         R30     3.5       15   \n",
       "209  Okinawa                                       Ridge     3.8       37   \n",
       "210  Okinawa                                        Dual     3.7        5   \n",
       "211  Okinawa                                        Lite     4.7       24   \n",
       "212  Li-ions   Elektrik Solutions Spock Electric Scooter     3.8       32   \n",
       "\n",
       "    CC or Watt Fuel Type Start Price Top Model Price     bhp Weight  \n",
       "0        2100   Electric       74740             NaN     NaN    NaN  \n",
       "1        2100   Electric       90000             NaN     NaN    NaN  \n",
       "8      109.51     Petrol       67843           71089   7.79    107   \n",
       "9         124     Petrol       71550           76346  10.74    114   \n",
       "10     109.51     Petrol       63273           69171   7.76    103   \n",
       "..         ...       ...         ...             ...     ...    ...  \n",
       "208       250   Electric       58992             NaN     NaN    NaN  \n",
       "209      1700   Electric       73417             NaN     NaN    NaN  \n",
       "210       250   Electric       58992             NaN     NaN    NaN  \n",
       "211       250   Electric       63990             NaN     NaN    NaN  \n",
       "212      2000   Electric       65000             NaN     NaN    NaN  \n",
       "\n",
       "[66 rows x 10 columns]"
      ]
     },
     "execution_count": 788,
     "metadata": {},
     "output_type": "execute_result"
    }
   ],
   "source": [
    "thousand_bikes"
   ]
  },
  {
   "cell_type": "markdown",
   "id": "0eea923a",
   "metadata": {},
   "source": [
    "## Saperate Lakhs bike"
   ]
  },
  {
   "cell_type": "code",
   "execution_count": 818,
   "id": "8f26008a",
   "metadata": {},
   "outputs": [],
   "source": [
    "data_bike['Start Price']=data_bike['Start Price'].astype('str')  # convert to string\n",
    "regx=r'\\d+\\.\\d+'\n",
    "pregx=re.compile(regx)\n",
    "\n",
    "data_bike['Start Price']=data_bike['Start Price'].apply(lambda x:np.NaN if pregx.search(x) is None else pregx.search(x).group())"
   ]
  },
  {
   "cell_type": "code",
   "execution_count": 819,
   "id": "2e204a5e",
   "metadata": {},
   "outputs": [
    {
     "data": {
      "text/html": [
       "<div>\n",
       "<style scoped>\n",
       "    .dataframe tbody tr th:only-of-type {\n",
       "        vertical-align: middle;\n",
       "    }\n",
       "\n",
       "    .dataframe tbody tr th {\n",
       "        vertical-align: top;\n",
       "    }\n",
       "\n",
       "    .dataframe thead th {\n",
       "        text-align: right;\n",
       "    }\n",
       "</style>\n",
       "<table border=\"1\" class=\"dataframe\">\n",
       "  <thead>\n",
       "    <tr style=\"text-align: right;\">\n",
       "      <th></th>\n",
       "      <th>Brand</th>\n",
       "      <th>Model</th>\n",
       "      <th>Ratings</th>\n",
       "      <th>Rated By</th>\n",
       "      <th>CC or Watt</th>\n",
       "      <th>Fuel Type</th>\n",
       "      <th>Start Price</th>\n",
       "      <th>Top Model Price</th>\n",
       "      <th>bhp</th>\n",
       "      <th>Weight</th>\n",
       "    </tr>\n",
       "  </thead>\n",
       "  <tbody>\n",
       "    <tr>\n",
       "      <th>0</th>\n",
       "      <td>22Kymco</td>\n",
       "      <td>Flow</td>\n",
       "      <td>4.1</td>\n",
       "      <td>25</td>\n",
       "      <td>2100</td>\n",
       "      <td>Electric</td>\n",
       "      <td>NaN</td>\n",
       "      <td>NaN</td>\n",
       "      <td>NaN</td>\n",
       "      <td>NaN</td>\n",
       "    </tr>\n",
       "    <tr>\n",
       "      <th>1</th>\n",
       "      <td>22Kymco</td>\n",
       "      <td>iFlow</td>\n",
       "      <td>3.7</td>\n",
       "      <td>7</td>\n",
       "      <td>2100</td>\n",
       "      <td>Electric</td>\n",
       "      <td>NaN</td>\n",
       "      <td>NaN</td>\n",
       "      <td>NaN</td>\n",
       "      <td>NaN</td>\n",
       "    </tr>\n",
       "    <tr>\n",
       "      <th>2</th>\n",
       "      <td>Royal</td>\n",
       "      <td>Enfield Classic 350</td>\n",
       "      <td>4</td>\n",
       "      <td>9643</td>\n",
       "      <td>346</td>\n",
       "      <td>Petrol</td>\n",
       "      <td>1.72</td>\n",
       "      <td>1.98</td>\n",
       "      <td>19.36</td>\n",
       "      <td>195</td>\n",
       "    </tr>\n",
       "    <tr>\n",
       "      <th>3</th>\n",
       "      <td>Royal</td>\n",
       "      <td>Enfield Bullet 350</td>\n",
       "      <td>4</td>\n",
       "      <td>3601</td>\n",
       "      <td>346</td>\n",
       "      <td>Petrol</td>\n",
       "      <td>1.34</td>\n",
       "      <td>1.55</td>\n",
       "      <td>19.36</td>\n",
       "      <td>191</td>\n",
       "    </tr>\n",
       "    <tr>\n",
       "      <th>4</th>\n",
       "      <td>Royal</td>\n",
       "      <td>Enfield Himalayan</td>\n",
       "      <td>4.3</td>\n",
       "      <td>371</td>\n",
       "      <td>411</td>\n",
       "      <td>Petrol</td>\n",
       "      <td>2.01</td>\n",
       "      <td>2.08</td>\n",
       "      <td>24.31</td>\n",
       "      <td>199</td>\n",
       "    </tr>\n",
       "  </tbody>\n",
       "</table>\n",
       "</div>"
      ],
      "text/plain": [
       "     Brand                 Model Ratings Rated By CC or Watt Fuel Type  \\\n",
       "0  22Kymco                  Flow     4.1       25      2100   Electric   \n",
       "1  22Kymco                 iFlow     3.7        7      2100   Electric   \n",
       "2    Royal   Enfield Classic 350       4     9643       346     Petrol   \n",
       "3    Royal    Enfield Bullet 350       4     3601       346     Petrol   \n",
       "4    Royal     Enfield Himalayan     4.3      371       411     Petrol   \n",
       "\n",
       "  Start Price Top Model Price     bhp Weight  \n",
       "0         NaN             NaN     NaN    NaN  \n",
       "1         NaN             NaN     NaN    NaN  \n",
       "2        1.72            1.98  19.36    195   \n",
       "3        1.34            1.55  19.36    191   \n",
       "4        2.01            2.08  24.31    199   "
      ]
     },
     "execution_count": 819,
     "metadata": {},
     "output_type": "execute_result"
    }
   ],
   "source": [
    "data_bike.head()"
   ]
  },
  {
   "cell_type": "code",
   "execution_count": 820,
   "id": "8d9199b8",
   "metadata": {},
   "outputs": [],
   "source": [
    "Lakhs_bikes=data_bike[data_bike['Start Price'].notnull()]"
   ]
  },
  {
   "cell_type": "markdown",
   "id": "c502e8aa",
   "metadata": {},
   "source": [
    "## Processing digit correction"
   ]
  },
  {
   "cell_type": "code",
   "execution_count": 821,
   "id": "73714718",
   "metadata": {},
   "outputs": [
    {
     "data": {
      "text/html": [
       "<div>\n",
       "<style scoped>\n",
       "    .dataframe tbody tr th:only-of-type {\n",
       "        vertical-align: middle;\n",
       "    }\n",
       "\n",
       "    .dataframe tbody tr th {\n",
       "        vertical-align: top;\n",
       "    }\n",
       "\n",
       "    .dataframe thead th {\n",
       "        text-align: right;\n",
       "    }\n",
       "</style>\n",
       "<table border=\"1\" class=\"dataframe\">\n",
       "  <thead>\n",
       "    <tr style=\"text-align: right;\">\n",
       "      <th></th>\n",
       "      <th>Brand</th>\n",
       "      <th>Model</th>\n",
       "      <th>Ratings</th>\n",
       "      <th>Rated By</th>\n",
       "      <th>CC or Watt</th>\n",
       "      <th>Fuel Type</th>\n",
       "      <th>Start Price</th>\n",
       "      <th>Top Model Price</th>\n",
       "      <th>bhp</th>\n",
       "      <th>Weight</th>\n",
       "    </tr>\n",
       "  </thead>\n",
       "  <tbody>\n",
       "    <tr>\n",
       "      <th>2</th>\n",
       "      <td>Royal</td>\n",
       "      <td>Enfield Classic 350</td>\n",
       "      <td>4</td>\n",
       "      <td>9643</td>\n",
       "      <td>346</td>\n",
       "      <td>Petrol</td>\n",
       "      <td>1.72</td>\n",
       "      <td>1.98</td>\n",
       "      <td>19.36</td>\n",
       "      <td>195</td>\n",
       "    </tr>\n",
       "    <tr>\n",
       "      <th>3</th>\n",
       "      <td>Royal</td>\n",
       "      <td>Enfield Bullet 350</td>\n",
       "      <td>4</td>\n",
       "      <td>3601</td>\n",
       "      <td>346</td>\n",
       "      <td>Petrol</td>\n",
       "      <td>1.34</td>\n",
       "      <td>1.55</td>\n",
       "      <td>19.36</td>\n",
       "      <td>191</td>\n",
       "    </tr>\n",
       "    <tr>\n",
       "      <th>4</th>\n",
       "      <td>Royal</td>\n",
       "      <td>Enfield Himalayan</td>\n",
       "      <td>4.3</td>\n",
       "      <td>371</td>\n",
       "      <td>411</td>\n",
       "      <td>Petrol</td>\n",
       "      <td>2.01</td>\n",
       "      <td>2.08</td>\n",
       "      <td>24.31</td>\n",
       "      <td>199</td>\n",
       "    </tr>\n",
       "    <tr>\n",
       "      <th>5</th>\n",
       "      <td>Royal</td>\n",
       "      <td>Enfield Meteor 350</td>\n",
       "      <td>4.2</td>\n",
       "      <td>188</td>\n",
       "      <td>349</td>\n",
       "      <td>Petrol</td>\n",
       "      <td>1.84</td>\n",
       "      <td>1.99</td>\n",
       "      <td>20.4</td>\n",
       "      <td>NaN</td>\n",
       "    </tr>\n",
       "    <tr>\n",
       "      <th>6</th>\n",
       "      <td>Royal</td>\n",
       "      <td>Enfield Interceptor 650</td>\n",
       "      <td>4.2</td>\n",
       "      <td>453</td>\n",
       "      <td>648</td>\n",
       "      <td>Petrol</td>\n",
       "      <td>2.75</td>\n",
       "      <td>2.97</td>\n",
       "      <td>47.65</td>\n",
       "      <td>202</td>\n",
       "    </tr>\n",
       "    <tr>\n",
       "      <th>...</th>\n",
       "      <td>...</td>\n",
       "      <td>...</td>\n",
       "      <td>...</td>\n",
       "      <td>...</td>\n",
       "      <td>...</td>\n",
       "      <td>...</td>\n",
       "      <td>...</td>\n",
       "      <td>...</td>\n",
       "      <td>...</td>\n",
       "      <td>...</td>\n",
       "    </tr>\n",
       "    <tr>\n",
       "      <th>197</th>\n",
       "      <td>Husqvarna</td>\n",
       "      <td>Vitpilen 250</td>\n",
       "      <td>4.3</td>\n",
       "      <td>55</td>\n",
       "      <td>248.76</td>\n",
       "      <td>Petrol</td>\n",
       "      <td>1.99</td>\n",
       "      <td>NaN</td>\n",
       "      <td>NaN</td>\n",
       "      <td>153</td>\n",
       "    </tr>\n",
       "    <tr>\n",
       "      <th>198</th>\n",
       "      <td>Husqvarna</td>\n",
       "      <td>Svartpilen 250</td>\n",
       "      <td>4.2</td>\n",
       "      <td>105</td>\n",
       "      <td>248.76</td>\n",
       "      <td>Petrol</td>\n",
       "      <td>1.98</td>\n",
       "      <td>NaN</td>\n",
       "      <td>NaN</td>\n",
       "      <td>154</td>\n",
       "    </tr>\n",
       "    <tr>\n",
       "      <th>199</th>\n",
       "      <td>Indian</td>\n",
       "      <td>Springfield Dark Horse</td>\n",
       "      <td>3.3</td>\n",
       "      <td>5</td>\n",
       "      <td>1890</td>\n",
       "      <td>Petrol</td>\n",
       "      <td>28.57</td>\n",
       "      <td>NaN</td>\n",
       "      <td>NaN</td>\n",
       "      <td>355</td>\n",
       "    </tr>\n",
       "    <tr>\n",
       "      <th>200</th>\n",
       "      <td>White</td>\n",
       "      <td>Carbon Motors GT5</td>\n",
       "      <td>NaN</td>\n",
       "      <td>NaN</td>\n",
       "      <td>3000</td>\n",
       "      <td>Electric</td>\n",
       "      <td>1.15</td>\n",
       "      <td>NaN</td>\n",
       "      <td>NaN</td>\n",
       "      <td>170</td>\n",
       "    </tr>\n",
       "    <tr>\n",
       "      <th>206</th>\n",
       "      <td>Okinawa</td>\n",
       "      <td>iPraise</td>\n",
       "      <td>3.5</td>\n",
       "      <td>48</td>\n",
       "      <td>2500</td>\n",
       "      <td>Electric</td>\n",
       "      <td>1.08</td>\n",
       "      <td>NaN</td>\n",
       "      <td>NaN</td>\n",
       "      <td>NaN</td>\n",
       "    </tr>\n",
       "  </tbody>\n",
       "</table>\n",
       "<p>147 rows × 10 columns</p>\n",
       "</div>"
      ],
      "text/plain": [
       "         Brand                     Model Ratings Rated By CC or Watt  \\\n",
       "2        Royal       Enfield Classic 350       4     9643       346    \n",
       "3        Royal        Enfield Bullet 350       4     3601       346    \n",
       "4        Royal         Enfield Himalayan     4.3      371       411    \n",
       "5        Royal        Enfield Meteor 350     4.2      188       349    \n",
       "6        Royal   Enfield Interceptor 650     4.2      453       648    \n",
       "..         ...                       ...     ...      ...        ...   \n",
       "197  Husqvarna              Vitpilen 250     4.3       55    248.76    \n",
       "198  Husqvarna            Svartpilen 250     4.2      105    248.76    \n",
       "199     Indian    Springfield Dark Horse     3.3        5      1890    \n",
       "200      White         Carbon Motors GT5     NaN      NaN      3000    \n",
       "206    Okinawa                   iPraise     3.5       48      2500    \n",
       "\n",
       "    Fuel Type Start Price Top Model Price     bhp Weight  \n",
       "2      Petrol        1.72            1.98  19.36    195   \n",
       "3      Petrol        1.34            1.55  19.36    191   \n",
       "4      Petrol        2.01            2.08  24.31    199   \n",
       "5      Petrol        1.84            1.99   20.4     NaN  \n",
       "6      Petrol        2.75            2.97  47.65    202   \n",
       "..        ...         ...             ...     ...    ...  \n",
       "197    Petrol        1.99             NaN     NaN   153   \n",
       "198    Petrol        1.98             NaN     NaN   154   \n",
       "199    Petrol       28.57             NaN     NaN   355   \n",
       "200  Electric        1.15             NaN     NaN   170   \n",
       "206  Electric        1.08             NaN     NaN    NaN  \n",
       "\n",
       "[147 rows x 10 columns]"
      ]
     },
     "execution_count": 821,
     "metadata": {},
     "output_type": "execute_result"
    }
   ],
   "source": [
    "Lakhs_bikes"
   ]
  },
  {
   "cell_type": "code",
   "execution_count": 822,
   "id": "999e5477",
   "metadata": {},
   "outputs": [
    {
     "name": "stderr",
     "output_type": "stream",
     "text": [
      "<ipython-input-822-136a4286fcf8>:1: SettingWithCopyWarning: \n",
      "A value is trying to be set on a copy of a slice from a DataFrame.\n",
      "Try using .loc[row_indexer,col_indexer] = value instead\n",
      "\n",
      "See the caveats in the documentation: https://pandas.pydata.org/pandas-docs/stable/user_guide/indexing.html#returning-a-view-versus-a-copy\n",
      "  Lakhs_bikes['Start Price']=Lakhs_bikes['Start Price'].astype('float')  # convert to float\n",
      "<ipython-input-822-136a4286fcf8>:2: SettingWithCopyWarning: \n",
      "A value is trying to be set on a copy of a slice from a DataFrame.\n",
      "Try using .loc[row_indexer,col_indexer] = value instead\n",
      "\n",
      "See the caveats in the documentation: https://pandas.pydata.org/pandas-docs/stable/user_guide/indexing.html#returning-a-view-versus-a-copy\n",
      "  Lakhs_bikes['Top Model Price']=Lakhs_bikes['Top Model Price'].astype('float')  # convert to float\n",
      "<ipython-input-822-136a4286fcf8>:4: SettingWithCopyWarning: \n",
      "A value is trying to be set on a copy of a slice from a DataFrame.\n",
      "Try using .loc[row_indexer,col_indexer] = value instead\n",
      "\n",
      "See the caveats in the documentation: https://pandas.pydata.org/pandas-docs/stable/user_guide/indexing.html#returning-a-view-versus-a-copy\n",
      "  Lakhs_bikes['Start Price']=10**5*Lakhs_bikes['Start Price']\n",
      "<ipython-input-822-136a4286fcf8>:5: SettingWithCopyWarning: \n",
      "A value is trying to be set on a copy of a slice from a DataFrame.\n",
      "Try using .loc[row_indexer,col_indexer] = value instead\n",
      "\n",
      "See the caveats in the documentation: https://pandas.pydata.org/pandas-docs/stable/user_guide/indexing.html#returning-a-view-versus-a-copy\n",
      "  Lakhs_bikes['Top Model Price']=10**5*Lakhs_bikes['Top Model Price']\n"
     ]
    }
   ],
   "source": [
    "Lakhs_bikes['Start Price']=Lakhs_bikes['Start Price'].astype('float')  # convert to float\n",
    "Lakhs_bikes['Top Model Price']=Lakhs_bikes['Top Model Price'].astype('float')  # convert to float\n",
    "\n",
    "Lakhs_bikes['Start Price']=10**5*Lakhs_bikes['Start Price']\n",
    "Lakhs_bikes['Top Model Price']=10**5*Lakhs_bikes['Top Model Price']"
   ]
  },
  {
   "cell_type": "code",
   "execution_count": 823,
   "id": "1163818b",
   "metadata": {},
   "outputs": [
    {
     "data": {
      "text/html": [
       "<div>\n",
       "<style scoped>\n",
       "    .dataframe tbody tr th:only-of-type {\n",
       "        vertical-align: middle;\n",
       "    }\n",
       "\n",
       "    .dataframe tbody tr th {\n",
       "        vertical-align: top;\n",
       "    }\n",
       "\n",
       "    .dataframe thead th {\n",
       "        text-align: right;\n",
       "    }\n",
       "</style>\n",
       "<table border=\"1\" class=\"dataframe\">\n",
       "  <thead>\n",
       "    <tr style=\"text-align: right;\">\n",
       "      <th></th>\n",
       "      <th>Brand</th>\n",
       "      <th>Model</th>\n",
       "      <th>Ratings</th>\n",
       "      <th>Rated By</th>\n",
       "      <th>CC or Watt</th>\n",
       "      <th>Fuel Type</th>\n",
       "      <th>Start Price</th>\n",
       "      <th>Top Model Price</th>\n",
       "      <th>bhp</th>\n",
       "      <th>Weight</th>\n",
       "    </tr>\n",
       "  </thead>\n",
       "  <tbody>\n",
       "    <tr>\n",
       "      <th>2</th>\n",
       "      <td>Royal</td>\n",
       "      <td>Enfield Classic 350</td>\n",
       "      <td>4</td>\n",
       "      <td>9643</td>\n",
       "      <td>346</td>\n",
       "      <td>Petrol</td>\n",
       "      <td>172000.0</td>\n",
       "      <td>198000.0</td>\n",
       "      <td>19.36</td>\n",
       "      <td>195</td>\n",
       "    </tr>\n",
       "    <tr>\n",
       "      <th>3</th>\n",
       "      <td>Royal</td>\n",
       "      <td>Enfield Bullet 350</td>\n",
       "      <td>4</td>\n",
       "      <td>3601</td>\n",
       "      <td>346</td>\n",
       "      <td>Petrol</td>\n",
       "      <td>134000.0</td>\n",
       "      <td>155000.0</td>\n",
       "      <td>19.36</td>\n",
       "      <td>191</td>\n",
       "    </tr>\n",
       "    <tr>\n",
       "      <th>4</th>\n",
       "      <td>Royal</td>\n",
       "      <td>Enfield Himalayan</td>\n",
       "      <td>4.3</td>\n",
       "      <td>371</td>\n",
       "      <td>411</td>\n",
       "      <td>Petrol</td>\n",
       "      <td>201000.0</td>\n",
       "      <td>208000.0</td>\n",
       "      <td>24.31</td>\n",
       "      <td>199</td>\n",
       "    </tr>\n",
       "    <tr>\n",
       "      <th>5</th>\n",
       "      <td>Royal</td>\n",
       "      <td>Enfield Meteor 350</td>\n",
       "      <td>4.2</td>\n",
       "      <td>188</td>\n",
       "      <td>349</td>\n",
       "      <td>Petrol</td>\n",
       "      <td>184000.0</td>\n",
       "      <td>199000.0</td>\n",
       "      <td>20.4</td>\n",
       "      <td>NaN</td>\n",
       "    </tr>\n",
       "    <tr>\n",
       "      <th>6</th>\n",
       "      <td>Royal</td>\n",
       "      <td>Enfield Interceptor 650</td>\n",
       "      <td>4.2</td>\n",
       "      <td>453</td>\n",
       "      <td>648</td>\n",
       "      <td>Petrol</td>\n",
       "      <td>275000.0</td>\n",
       "      <td>297000.0</td>\n",
       "      <td>47.65</td>\n",
       "      <td>202</td>\n",
       "    </tr>\n",
       "    <tr>\n",
       "      <th>...</th>\n",
       "      <td>...</td>\n",
       "      <td>...</td>\n",
       "      <td>...</td>\n",
       "      <td>...</td>\n",
       "      <td>...</td>\n",
       "      <td>...</td>\n",
       "      <td>...</td>\n",
       "      <td>...</td>\n",
       "      <td>...</td>\n",
       "      <td>...</td>\n",
       "    </tr>\n",
       "    <tr>\n",
       "      <th>197</th>\n",
       "      <td>Husqvarna</td>\n",
       "      <td>Vitpilen 250</td>\n",
       "      <td>4.3</td>\n",
       "      <td>55</td>\n",
       "      <td>248.76</td>\n",
       "      <td>Petrol</td>\n",
       "      <td>199000.0</td>\n",
       "      <td>NaN</td>\n",
       "      <td>NaN</td>\n",
       "      <td>153</td>\n",
       "    </tr>\n",
       "    <tr>\n",
       "      <th>198</th>\n",
       "      <td>Husqvarna</td>\n",
       "      <td>Svartpilen 250</td>\n",
       "      <td>4.2</td>\n",
       "      <td>105</td>\n",
       "      <td>248.76</td>\n",
       "      <td>Petrol</td>\n",
       "      <td>198000.0</td>\n",
       "      <td>NaN</td>\n",
       "      <td>NaN</td>\n",
       "      <td>154</td>\n",
       "    </tr>\n",
       "    <tr>\n",
       "      <th>199</th>\n",
       "      <td>Indian</td>\n",
       "      <td>Springfield Dark Horse</td>\n",
       "      <td>3.3</td>\n",
       "      <td>5</td>\n",
       "      <td>1890</td>\n",
       "      <td>Petrol</td>\n",
       "      <td>2857000.0</td>\n",
       "      <td>NaN</td>\n",
       "      <td>NaN</td>\n",
       "      <td>355</td>\n",
       "    </tr>\n",
       "    <tr>\n",
       "      <th>200</th>\n",
       "      <td>White</td>\n",
       "      <td>Carbon Motors GT5</td>\n",
       "      <td>NaN</td>\n",
       "      <td>NaN</td>\n",
       "      <td>3000</td>\n",
       "      <td>Electric</td>\n",
       "      <td>115000.0</td>\n",
       "      <td>NaN</td>\n",
       "      <td>NaN</td>\n",
       "      <td>170</td>\n",
       "    </tr>\n",
       "    <tr>\n",
       "      <th>206</th>\n",
       "      <td>Okinawa</td>\n",
       "      <td>iPraise</td>\n",
       "      <td>3.5</td>\n",
       "      <td>48</td>\n",
       "      <td>2500</td>\n",
       "      <td>Electric</td>\n",
       "      <td>108000.0</td>\n",
       "      <td>NaN</td>\n",
       "      <td>NaN</td>\n",
       "      <td>NaN</td>\n",
       "    </tr>\n",
       "  </tbody>\n",
       "</table>\n",
       "<p>147 rows × 10 columns</p>\n",
       "</div>"
      ],
      "text/plain": [
       "         Brand                     Model Ratings Rated By CC or Watt  \\\n",
       "2        Royal       Enfield Classic 350       4     9643       346    \n",
       "3        Royal        Enfield Bullet 350       4     3601       346    \n",
       "4        Royal         Enfield Himalayan     4.3      371       411    \n",
       "5        Royal        Enfield Meteor 350     4.2      188       349    \n",
       "6        Royal   Enfield Interceptor 650     4.2      453       648    \n",
       "..         ...                       ...     ...      ...        ...   \n",
       "197  Husqvarna              Vitpilen 250     4.3       55    248.76    \n",
       "198  Husqvarna            Svartpilen 250     4.2      105    248.76    \n",
       "199     Indian    Springfield Dark Horse     3.3        5      1890    \n",
       "200      White         Carbon Motors GT5     NaN      NaN      3000    \n",
       "206    Okinawa                   iPraise     3.5       48      2500    \n",
       "\n",
       "    Fuel Type  Start Price  Top Model Price     bhp Weight  \n",
       "2      Petrol     172000.0         198000.0  19.36    195   \n",
       "3      Petrol     134000.0         155000.0  19.36    191   \n",
       "4      Petrol     201000.0         208000.0  24.31    199   \n",
       "5      Petrol     184000.0         199000.0   20.4     NaN  \n",
       "6      Petrol     275000.0         297000.0  47.65    202   \n",
       "..        ...          ...              ...     ...    ...  \n",
       "197    Petrol     199000.0              NaN     NaN   153   \n",
       "198    Petrol     198000.0              NaN     NaN   154   \n",
       "199    Petrol    2857000.0              NaN     NaN   355   \n",
       "200  Electric     115000.0              NaN     NaN   170   \n",
       "206  Electric     108000.0              NaN     NaN    NaN  \n",
       "\n",
       "[147 rows x 10 columns]"
      ]
     },
     "execution_count": 823,
     "metadata": {},
     "output_type": "execute_result"
    }
   ],
   "source": [
    "Lakhs_bikes"
   ]
  },
  {
   "cell_type": "code",
   "execution_count": 824,
   "id": "b3196e4c",
   "metadata": {},
   "outputs": [],
   "source": [
    "thousand_bikes['Start Price']=thousand_bikes['Start Price'].astype('float')  # convert to float\n",
    "thousand_bikes['Top Model Price']=thousand_bikes['Top Model Price'].astype('float')  # convert to float"
   ]
  },
  {
   "cell_type": "code",
   "execution_count": 825,
   "id": "34f2d509",
   "metadata": {},
   "outputs": [],
   "source": [
    "bikes=pd.concat([thousand_bikes,Lakhs_bikes])\n",
    " # bydefault the axis is zero so it joins the rows together"
   ]
  },
  {
   "cell_type": "code",
   "execution_count": 826,
   "id": "ca1f865a",
   "metadata": {},
   "outputs": [
    {
     "data": {
      "text/html": [
       "<div>\n",
       "<style scoped>\n",
       "    .dataframe tbody tr th:only-of-type {\n",
       "        vertical-align: middle;\n",
       "    }\n",
       "\n",
       "    .dataframe tbody tr th {\n",
       "        vertical-align: top;\n",
       "    }\n",
       "\n",
       "    .dataframe thead th {\n",
       "        text-align: right;\n",
       "    }\n",
       "</style>\n",
       "<table border=\"1\" class=\"dataframe\">\n",
       "  <thead>\n",
       "    <tr style=\"text-align: right;\">\n",
       "      <th></th>\n",
       "      <th>Brand</th>\n",
       "      <th>Model</th>\n",
       "      <th>Ratings</th>\n",
       "      <th>Rated By</th>\n",
       "      <th>CC or Watt</th>\n",
       "      <th>Fuel Type</th>\n",
       "      <th>Start Price</th>\n",
       "      <th>Top Model Price</th>\n",
       "      <th>bhp</th>\n",
       "      <th>Weight</th>\n",
       "    </tr>\n",
       "  </thead>\n",
       "  <tbody>\n",
       "    <tr>\n",
       "      <th>3</th>\n",
       "      <td>Royal</td>\n",
       "      <td>Enfield Bullet 350</td>\n",
       "      <td>4</td>\n",
       "      <td>3601</td>\n",
       "      <td>346</td>\n",
       "      <td>Petrol</td>\n",
       "      <td>134000.0</td>\n",
       "      <td>155000.0</td>\n",
       "      <td>19.36</td>\n",
       "      <td>191</td>\n",
       "    </tr>\n",
       "    <tr>\n",
       "      <th>124</th>\n",
       "      <td>Harley-Davidson</td>\n",
       "      <td>Fat Bob 114</td>\n",
       "      <td>4.3</td>\n",
       "      <td>32</td>\n",
       "      <td>1868</td>\n",
       "      <td>Petrol</td>\n",
       "      <td>1675000.0</td>\n",
       "      <td>NaN</td>\n",
       "      <td>NaN</td>\n",
       "      <td>306</td>\n",
       "    </tr>\n",
       "    <tr>\n",
       "      <th>112</th>\n",
       "      <td>Vespa</td>\n",
       "      <td>VXL 150</td>\n",
       "      <td>4.1</td>\n",
       "      <td>56</td>\n",
       "      <td>149.5</td>\n",
       "      <td>Petrol</td>\n",
       "      <td>125000.0</td>\n",
       "      <td>NaN</td>\n",
       "      <td>10.47</td>\n",
       "      <td>115</td>\n",
       "    </tr>\n",
       "    <tr>\n",
       "      <th>141</th>\n",
       "      <td>Triumph</td>\n",
       "      <td>Bonneville T100</td>\n",
       "      <td>4.3</td>\n",
       "      <td>12</td>\n",
       "      <td>900</td>\n",
       "      <td>Petrol</td>\n",
       "      <td>887000.0</td>\n",
       "      <td>959000.0</td>\n",
       "      <td>NaN</td>\n",
       "      <td>NaN</td>\n",
       "    </tr>\n",
       "    <tr>\n",
       "      <th>199</th>\n",
       "      <td>Indian</td>\n",
       "      <td>Springfield Dark Horse</td>\n",
       "      <td>3.3</td>\n",
       "      <td>5</td>\n",
       "      <td>1890</td>\n",
       "      <td>Petrol</td>\n",
       "      <td>2857000.0</td>\n",
       "      <td>NaN</td>\n",
       "      <td>NaN</td>\n",
       "      <td>355</td>\n",
       "    </tr>\n",
       "    <tr>\n",
       "      <th>8</th>\n",
       "      <td>Honda</td>\n",
       "      <td>Activa 6G</td>\n",
       "      <td>3.9</td>\n",
       "      <td>921</td>\n",
       "      <td>109.51</td>\n",
       "      <td>Petrol</td>\n",
       "      <td>67843.0</td>\n",
       "      <td>71089.0</td>\n",
       "      <td>7.79</td>\n",
       "      <td>107</td>\n",
       "    </tr>\n",
       "    <tr>\n",
       "      <th>206</th>\n",
       "      <td>Okinawa</td>\n",
       "      <td>iPraise</td>\n",
       "      <td>3.5</td>\n",
       "      <td>48</td>\n",
       "      <td>2500</td>\n",
       "      <td>Electric</td>\n",
       "      <td>108000.0</td>\n",
       "      <td>NaN</td>\n",
       "      <td>NaN</td>\n",
       "      <td>NaN</td>\n",
       "    </tr>\n",
       "    <tr>\n",
       "      <th>88</th>\n",
       "      <td>Yamaha</td>\n",
       "      <td>FZ 25</td>\n",
       "      <td>4.2</td>\n",
       "      <td>633</td>\n",
       "      <td>249</td>\n",
       "      <td>Petrol</td>\n",
       "      <td>134000.0</td>\n",
       "      <td>NaN</td>\n",
       "      <td>20.8</td>\n",
       "      <td>153</td>\n",
       "    </tr>\n",
       "    <tr>\n",
       "      <th>86</th>\n",
       "      <td>Yamaha</td>\n",
       "      <td>FZ-FI Version 3</td>\n",
       "      <td>4.2</td>\n",
       "      <td>416</td>\n",
       "      <td>149</td>\n",
       "      <td>Petrol</td>\n",
       "      <td>104000.0</td>\n",
       "      <td>NaN</td>\n",
       "      <td>12.4</td>\n",
       "      <td>135</td>\n",
       "    </tr>\n",
       "    <tr>\n",
       "      <th>180</th>\n",
       "      <td>Kawasaki</td>\n",
       "      <td>KX 250</td>\n",
       "      <td>5</td>\n",
       "      <td>1</td>\n",
       "      <td>249</td>\n",
       "      <td>Petrol</td>\n",
       "      <td>743000.0</td>\n",
       "      <td>NaN</td>\n",
       "      <td>NaN</td>\n",
       "      <td>104.7</td>\n",
       "    </tr>\n",
       "    <tr>\n",
       "      <th>138</th>\n",
       "      <td>Triumph</td>\n",
       "      <td>Tiger 900</td>\n",
       "      <td>4.7</td>\n",
       "      <td>6</td>\n",
       "      <td>888</td>\n",
       "      <td>Petrol</td>\n",
       "      <td>1370000.0</td>\n",
       "      <td>1550000.0</td>\n",
       "      <td>95.2</td>\n",
       "      <td>NaN</td>\n",
       "    </tr>\n",
       "    <tr>\n",
       "      <th>147</th>\n",
       "      <td>BMW</td>\n",
       "      <td>G 310 R</td>\n",
       "      <td>4.3</td>\n",
       "      <td>123</td>\n",
       "      <td>313</td>\n",
       "      <td>Petrol</td>\n",
       "      <td>250000.0</td>\n",
       "      <td>NaN</td>\n",
       "      <td>NaN</td>\n",
       "      <td>164</td>\n",
       "    </tr>\n",
       "    <tr>\n",
       "      <th>23</th>\n",
       "      <td>Honda</td>\n",
       "      <td>CB650R</td>\n",
       "      <td>5</td>\n",
       "      <td>1</td>\n",
       "      <td>648.72</td>\n",
       "      <td>Petrol</td>\n",
       "      <td>867000.0</td>\n",
       "      <td>NaN</td>\n",
       "      <td>87.01</td>\n",
       "      <td>202.5</td>\n",
       "    </tr>\n",
       "    <tr>\n",
       "      <th>208</th>\n",
       "      <td>Okinawa</td>\n",
       "      <td>R30</td>\n",
       "      <td>3.5</td>\n",
       "      <td>15</td>\n",
       "      <td>250</td>\n",
       "      <td>Electric</td>\n",
       "      <td>58992.0</td>\n",
       "      <td>NaN</td>\n",
       "      <td>NaN</td>\n",
       "      <td>NaN</td>\n",
       "    </tr>\n",
       "    <tr>\n",
       "      <th>55</th>\n",
       "      <td>TVS</td>\n",
       "      <td>Apache RTR 160</td>\n",
       "      <td>4</td>\n",
       "      <td>3829</td>\n",
       "      <td>159.7</td>\n",
       "      <td>Petrol</td>\n",
       "      <td>103000.0</td>\n",
       "      <td>106000.0</td>\n",
       "      <td>15.53</td>\n",
       "      <td>140</td>\n",
       "    </tr>\n",
       "    <tr>\n",
       "      <th>72</th>\n",
       "      <td>Hero</td>\n",
       "      <td>Super Splendor</td>\n",
       "      <td>3.9</td>\n",
       "      <td>1204</td>\n",
       "      <td>124.7</td>\n",
       "      <td>Petrol</td>\n",
       "      <td>71100.0</td>\n",
       "      <td>74600.0</td>\n",
       "      <td>10.8</td>\n",
       "      <td>122</td>\n",
       "    </tr>\n",
       "    <tr>\n",
       "      <th>41</th>\n",
       "      <td>Bajaj</td>\n",
       "      <td>Platina 110 H Gear</td>\n",
       "      <td>4.2</td>\n",
       "      <td>270</td>\n",
       "      <td>115.45</td>\n",
       "      <td>Petrol</td>\n",
       "      <td>59859.0</td>\n",
       "      <td>NaN</td>\n",
       "      <td>8.6</td>\n",
       "      <td>122</td>\n",
       "    </tr>\n",
       "    <tr>\n",
       "      <th>168</th>\n",
       "      <td>Kawasaki</td>\n",
       "      <td>2021 Ninja H2</td>\n",
       "      <td>4.3</td>\n",
       "      <td>44</td>\n",
       "      <td>998</td>\n",
       "      <td>Petrol</td>\n",
       "      <td>7990000.0</td>\n",
       "      <td>NaN</td>\n",
       "      <td>310</td>\n",
       "      <td>238</td>\n",
       "    </tr>\n",
       "    <tr>\n",
       "      <th>211</th>\n",
       "      <td>Okinawa</td>\n",
       "      <td>Lite</td>\n",
       "      <td>4.7</td>\n",
       "      <td>24</td>\n",
       "      <td>250</td>\n",
       "      <td>Electric</td>\n",
       "      <td>63990.0</td>\n",
       "      <td>NaN</td>\n",
       "      <td>NaN</td>\n",
       "      <td>NaN</td>\n",
       "    </tr>\n",
       "    <tr>\n",
       "      <th>171</th>\n",
       "      <td>Kawasaki</td>\n",
       "      <td>Z900</td>\n",
       "      <td>4.6</td>\n",
       "      <td>51</td>\n",
       "      <td>948</td>\n",
       "      <td>Petrol</td>\n",
       "      <td>834000.0</td>\n",
       "      <td>NaN</td>\n",
       "      <td>125</td>\n",
       "      <td>212</td>\n",
       "    </tr>\n",
       "  </tbody>\n",
       "</table>\n",
       "</div>"
      ],
      "text/plain": [
       "               Brand                    Model Ratings Rated By CC or Watt  \\\n",
       "3              Royal       Enfield Bullet 350       4     3601       346    \n",
       "124  Harley-Davidson              Fat Bob 114     4.3       32      1868    \n",
       "112            Vespa                  VXL 150     4.1       56     149.5    \n",
       "141          Triumph          Bonneville T100     4.3       12       900    \n",
       "199           Indian   Springfield Dark Horse     3.3        5      1890    \n",
       "8              Honda                Activa 6G     3.9      921    109.51    \n",
       "206          Okinawa                  iPraise     3.5       48      2500    \n",
       "88            Yamaha                    FZ 25     4.2      633       249    \n",
       "86            Yamaha          FZ-FI Version 3     4.2      416       149    \n",
       "180         Kawasaki                   KX 250       5        1       249    \n",
       "138          Triumph                Tiger 900     4.7        6       888    \n",
       "147              BMW                  G 310 R     4.3      123       313    \n",
       "23             Honda                   CB650R       5        1    648.72    \n",
       "208          Okinawa                      R30     3.5       15       250    \n",
       "55               TVS           Apache RTR 160       4     3829     159.7    \n",
       "72              Hero           Super Splendor     3.9     1204     124.7    \n",
       "41             Bajaj       Platina 110 H Gear     4.2      270    115.45    \n",
       "168         Kawasaki            2021 Ninja H2     4.3       44       998    \n",
       "211          Okinawa                     Lite     4.7       24       250    \n",
       "171         Kawasaki                     Z900     4.6       51       948    \n",
       "\n",
       "    Fuel Type  Start Price  Top Model Price     bhp  Weight  \n",
       "3      Petrol     134000.0         155000.0  19.36     191   \n",
       "124    Petrol    1675000.0              NaN     NaN    306   \n",
       "112    Petrol     125000.0              NaN  10.47     115   \n",
       "141    Petrol     887000.0         959000.0     NaN     NaN  \n",
       "199    Petrol    2857000.0              NaN     NaN    355   \n",
       "8      Petrol      67843.0          71089.0   7.79     107   \n",
       "206  Electric     108000.0              NaN     NaN     NaN  \n",
       "88     Petrol     134000.0              NaN   20.8     153   \n",
       "86     Petrol     104000.0              NaN   12.4     135   \n",
       "180    Petrol     743000.0              NaN     NaN  104.7   \n",
       "138    Petrol    1370000.0        1550000.0   95.2      NaN  \n",
       "147    Petrol     250000.0              NaN     NaN    164   \n",
       "23     Petrol     867000.0              NaN  87.01   202.5   \n",
       "208  Electric      58992.0              NaN     NaN     NaN  \n",
       "55     Petrol     103000.0         106000.0  15.53     140   \n",
       "72     Petrol      71100.0          74600.0   10.8     122   \n",
       "41     Petrol      59859.0              NaN    8.6     122   \n",
       "168    Petrol    7990000.0              NaN    310     238   \n",
       "211  Electric      63990.0              NaN     NaN     NaN  \n",
       "171    Petrol     834000.0              NaN    125     212   "
      ]
     },
     "execution_count": 826,
     "metadata": {},
     "output_type": "execute_result"
    }
   ],
   "source": [
    "bikes.sample(20)"
   ]
  },
  {
   "cell_type": "code",
   "execution_count": 828,
   "id": "f9597db8",
   "metadata": {},
   "outputs": [],
   "source": [
    "bikes.to_csv('Zigwheels_bike_data_cleaned.csv',index=False)"
   ]
  },
  {
   "cell_type": "markdown",
   "id": "28cee7bd",
   "metadata": {},
   "source": [
    "## `Missing values and some cleaning remained`"
   ]
  },
  {
   "cell_type": "code",
   "execution_count": 871,
   "id": "5dc054ca",
   "metadata": {},
   "outputs": [],
   "source": [
    "car_data=pd.read_csv('C:\\\\Users\\\\manuj\\\\Innomatics Research labs\\\\My_Notebooks\\\\Zigwheels_cars_data_cleaned.csv')"
   ]
  },
  {
   "cell_type": "code",
   "execution_count": 872,
   "id": "1a9ba451",
   "metadata": {},
   "outputs": [],
   "source": [
    "bike_data=pd.read_csv('C:\\\\Users\\\\manuj\\\\Innomatics Research labs\\\\My_Notebooks\\\\Zigwheels_bike_data_cleaned.csv')"
   ]
  },
  {
   "cell_type": "code",
   "execution_count": 875,
   "id": "9a874134",
   "metadata": {},
   "outputs": [],
   "source": [
    "car_data.drop('Car Name',axis=1,inplace=True)"
   ]
  },
  {
   "cell_type": "code",
   "execution_count": 918,
   "id": "ed9caca1",
   "metadata": {},
   "outputs": [],
   "source": [
    "car_data['Rated By']=car_data['Rated By'].astype('float')"
   ]
  },
  {
   "cell_type": "code",
   "execution_count": 919,
   "id": "66cd9bea",
   "metadata": {},
   "outputs": [
    {
     "data": {
      "text/html": [
       "<div>\n",
       "<style scoped>\n",
       "    .dataframe tbody tr th:only-of-type {\n",
       "        vertical-align: middle;\n",
       "    }\n",
       "\n",
       "    .dataframe tbody tr th {\n",
       "        vertical-align: top;\n",
       "    }\n",
       "\n",
       "    .dataframe thead th {\n",
       "        text-align: right;\n",
       "    }\n",
       "</style>\n",
       "<table border=\"1\" class=\"dataframe\">\n",
       "  <thead>\n",
       "    <tr style=\"text-align: right;\">\n",
       "      <th></th>\n",
       "      <th>Brand</th>\n",
       "      <th>CC</th>\n",
       "      <th>Milage in kmpl</th>\n",
       "      <th>Fuel Type</th>\n",
       "      <th>Ratings</th>\n",
       "      <th>Rated By</th>\n",
       "      <th>Base Model Price</th>\n",
       "      <th>Top Model Price</th>\n",
       "      <th>Model</th>\n",
       "    </tr>\n",
       "  </thead>\n",
       "  <tbody>\n",
       "    <tr>\n",
       "      <th>90</th>\n",
       "      <td>BMW</td>\n",
       "      <td>2979.0</td>\n",
       "      <td>11.0</td>\n",
       "      <td>Petrol</td>\n",
       "      <td>4.5</td>\n",
       "      <td>14.0</td>\n",
       "      <td>8500000.0</td>\n",
       "      <td>NaN</td>\n",
       "      <td>M2</td>\n",
       "    </tr>\n",
       "    <tr>\n",
       "      <th>56</th>\n",
       "      <td>Hyundai</td>\n",
       "      <td>NaN</td>\n",
       "      <td>NaN</td>\n",
       "      <td>NaN</td>\n",
       "      <td>4.3</td>\n",
       "      <td>27.0</td>\n",
       "      <td>2377000.0</td>\n",
       "      <td>2396000.0</td>\n",
       "      <td>Kona Electric</td>\n",
       "    </tr>\n",
       "    <tr>\n",
       "      <th>174</th>\n",
       "      <td>Land</td>\n",
       "      <td>1997.0</td>\n",
       "      <td>16.0</td>\n",
       "      <td>Petrol</td>\n",
       "      <td>4.6</td>\n",
       "      <td>52.0</td>\n",
       "      <td>7528000.0</td>\n",
       "      <td>NaN</td>\n",
       "      <td>Rover Range Rover Velar</td>\n",
       "    </tr>\n",
       "    <tr>\n",
       "      <th>77</th>\n",
       "      <td>BMW</td>\n",
       "      <td>1998.0</td>\n",
       "      <td>20.0</td>\n",
       "      <td>Petrol  Diesel</td>\n",
       "      <td>4.2</td>\n",
       "      <td>47.0</td>\n",
       "      <td>3850000.0</td>\n",
       "      <td>4290000.0</td>\n",
       "      <td>X1</td>\n",
       "    </tr>\n",
       "    <tr>\n",
       "      <th>179</th>\n",
       "      <td>Bentley</td>\n",
       "      <td>3956.0</td>\n",
       "      <td>NaN</td>\n",
       "      <td>Petrol</td>\n",
       "      <td>5.0</td>\n",
       "      <td>1.0</td>\n",
       "      <td>410000.0</td>\n",
       "      <td>NaN</td>\n",
       "      <td>Bentayga</td>\n",
       "    </tr>\n",
       "    <tr>\n",
       "      <th>33</th>\n",
       "      <td>Jeep</td>\n",
       "      <td>1956.0</td>\n",
       "      <td>16.0</td>\n",
       "      <td>Diesel</td>\n",
       "      <td>4.6</td>\n",
       "      <td>19.0</td>\n",
       "      <td>2680000.0</td>\n",
       "      <td>2760000.0</td>\n",
       "      <td>Compass Trailhawk</td>\n",
       "    </tr>\n",
       "    <tr>\n",
       "      <th>23</th>\n",
       "      <td>Mahindra</td>\n",
       "      <td>1498.0</td>\n",
       "      <td>16.0</td>\n",
       "      <td>Diesel</td>\n",
       "      <td>3.9</td>\n",
       "      <td>262.0</td>\n",
       "      <td>840000.0</td>\n",
       "      <td>939000.0</td>\n",
       "      <td>Bolero</td>\n",
       "    </tr>\n",
       "    <tr>\n",
       "      <th>111</th>\n",
       "      <td>Datsun</td>\n",
       "      <td>799.0</td>\n",
       "      <td>22.0</td>\n",
       "      <td>Petrol</td>\n",
       "      <td>3.9</td>\n",
       "      <td>87.0</td>\n",
       "      <td>383000.0</td>\n",
       "      <td>495000.0</td>\n",
       "      <td>redi-GO</td>\n",
       "    </tr>\n",
       "    <tr>\n",
       "      <th>127</th>\n",
       "      <td>Rolls</td>\n",
       "      <td>6598.0</td>\n",
       "      <td>10.0</td>\n",
       "      <td>Petrol</td>\n",
       "      <td>4.7</td>\n",
       "      <td>19.0</td>\n",
       "      <td>730000.0</td>\n",
       "      <td>785000.0</td>\n",
       "      <td>Royce Dawn</td>\n",
       "    </tr>\n",
       "    <tr>\n",
       "      <th>153</th>\n",
       "      <td>Porsche</td>\n",
       "      <td>3996.0</td>\n",
       "      <td>11.0</td>\n",
       "      <td>Petrol</td>\n",
       "      <td>5.0</td>\n",
       "      <td>1.0</td>\n",
       "      <td>144000.0</td>\n",
       "      <td>242000.0</td>\n",
       "      <td>Panamera</td>\n",
       "    </tr>\n",
       "    <tr>\n",
       "      <th>146</th>\n",
       "      <td>Jaguar</td>\n",
       "      <td>NaN</td>\n",
       "      <td>NaN</td>\n",
       "      <td>Electric</td>\n",
       "      <td>4.7</td>\n",
       "      <td>1.0</td>\n",
       "      <td>105000.0</td>\n",
       "      <td>112000.0</td>\n",
       "      <td>I-Pace</td>\n",
       "    </tr>\n",
       "    <tr>\n",
       "      <th>168</th>\n",
       "      <td>ISUZU</td>\n",
       "      <td>1898.0</td>\n",
       "      <td>NaN</td>\n",
       "      <td>Diesel</td>\n",
       "      <td>4.7</td>\n",
       "      <td>2.0</td>\n",
       "      <td>1698000.0</td>\n",
       "      <td>2449000.0</td>\n",
       "      <td>D-Max</td>\n",
       "    </tr>\n",
       "    <tr>\n",
       "      <th>112</th>\n",
       "      <td>Datsun</td>\n",
       "      <td>1198.0</td>\n",
       "      <td>20.0</td>\n",
       "      <td>Petrol</td>\n",
       "      <td>3.5</td>\n",
       "      <td>191.0</td>\n",
       "      <td>402000.0</td>\n",
       "      <td>651000.0</td>\n",
       "      <td>GO</td>\n",
       "    </tr>\n",
       "    <tr>\n",
       "      <th>93</th>\n",
       "      <td>BMW</td>\n",
       "      <td>1998.0</td>\n",
       "      <td>20.0</td>\n",
       "      <td>Petrol  Diesel</td>\n",
       "      <td>4.7</td>\n",
       "      <td>3.0</td>\n",
       "      <td>5150000.0</td>\n",
       "      <td>5390000.0</td>\n",
       "      <td>3 Series Gran Limousine</td>\n",
       "    </tr>\n",
       "    <tr>\n",
       "      <th>149</th>\n",
       "      <td>MINI</td>\n",
       "      <td>1998.0</td>\n",
       "      <td>17.0</td>\n",
       "      <td>Petrol</td>\n",
       "      <td>4.3</td>\n",
       "      <td>16.0</td>\n",
       "      <td>4010000.0</td>\n",
       "      <td>NaN</td>\n",
       "      <td>Cooper Convertible</td>\n",
       "    </tr>\n",
       "    <tr>\n",
       "      <th>107</th>\n",
       "      <td>Mercedes</td>\n",
       "      <td>1998.0</td>\n",
       "      <td>NaN</td>\n",
       "      <td>Petrol  Diesel</td>\n",
       "      <td>4.3</td>\n",
       "      <td>1.0</td>\n",
       "      <td>3990000.0</td>\n",
       "      <td>5624000.0</td>\n",
       "      <td>A-Class Limousine</td>\n",
       "    </tr>\n",
       "    <tr>\n",
       "      <th>50</th>\n",
       "      <td>Hyundai</td>\n",
       "      <td>998.0</td>\n",
       "      <td>24.0</td>\n",
       "      <td>Petrol  Diesel</td>\n",
       "      <td>4.2</td>\n",
       "      <td>661.0</td>\n",
       "      <td>692000.0</td>\n",
       "      <td>1176000.0</td>\n",
       "      <td>Venue</td>\n",
       "    </tr>\n",
       "    <tr>\n",
       "      <th>19</th>\n",
       "      <td>Honda</td>\n",
       "      <td>1199.0</td>\n",
       "      <td>17.0</td>\n",
       "      <td>Petrol</td>\n",
       "      <td>4.2</td>\n",
       "      <td>112.0</td>\n",
       "      <td>755000.0</td>\n",
       "      <td>979000.0</td>\n",
       "      <td>Jazz</td>\n",
       "    </tr>\n",
       "    <tr>\n",
       "      <th>169</th>\n",
       "      <td>Aston</td>\n",
       "      <td>3982.0</td>\n",
       "      <td>NaN</td>\n",
       "      <td>Diesel</td>\n",
       "      <td>NaN</td>\n",
       "      <td>NaN</td>\n",
       "      <td>382000.0</td>\n",
       "      <td>NaN</td>\n",
       "      <td>Martin DBX</td>\n",
       "    </tr>\n",
       "    <tr>\n",
       "      <th>163</th>\n",
       "      <td>Maserati</td>\n",
       "      <td>3799.0</td>\n",
       "      <td>NaN</td>\n",
       "      <td>Petrol</td>\n",
       "      <td>NaN</td>\n",
       "      <td>NaN</td>\n",
       "      <td>115000.0</td>\n",
       "      <td>193000.0</td>\n",
       "      <td>Ghibli</td>\n",
       "    </tr>\n",
       "  </tbody>\n",
       "</table>\n",
       "</div>"
      ],
      "text/plain": [
       "        Brand      CC  Milage in kmpl        Fuel Type  Ratings  Rated By  \\\n",
       "90        BMW  2979.0            11.0           Petrol      4.5      14.0   \n",
       "56    Hyundai     NaN             NaN              NaN      4.3      27.0   \n",
       "174      Land  1997.0            16.0           Petrol      4.6      52.0   \n",
       "77        BMW  1998.0            20.0   Petrol  Diesel      4.2      47.0   \n",
       "179   Bentley  3956.0             NaN           Petrol      5.0       1.0   \n",
       "33       Jeep  1956.0            16.0           Diesel      4.6      19.0   \n",
       "23   Mahindra  1498.0            16.0           Diesel      3.9     262.0   \n",
       "111    Datsun   799.0            22.0           Petrol      3.9      87.0   \n",
       "127     Rolls  6598.0            10.0           Petrol      4.7      19.0   \n",
       "153   Porsche  3996.0            11.0           Petrol      5.0       1.0   \n",
       "146    Jaguar     NaN             NaN         Electric      4.7       1.0   \n",
       "168     ISUZU  1898.0             NaN           Diesel      4.7       2.0   \n",
       "112    Datsun  1198.0            20.0           Petrol      3.5     191.0   \n",
       "93        BMW  1998.0            20.0   Petrol  Diesel      4.7       3.0   \n",
       "149      MINI  1998.0            17.0           Petrol      4.3      16.0   \n",
       "107  Mercedes  1998.0             NaN   Petrol  Diesel      4.3       1.0   \n",
       "50    Hyundai   998.0            24.0   Petrol  Diesel      4.2     661.0   \n",
       "19      Honda  1199.0            17.0           Petrol      4.2     112.0   \n",
       "169     Aston  3982.0             NaN           Diesel      NaN       NaN   \n",
       "163  Maserati  3799.0             NaN           Petrol      NaN       NaN   \n",
       "\n",
       "     Base Model Price  Top Model Price                     Model  \n",
       "90          8500000.0              NaN                        M2  \n",
       "56          2377000.0        2396000.0             Kona Electric  \n",
       "174         7528000.0              NaN   Rover Range Rover Velar  \n",
       "77          3850000.0        4290000.0                        X1  \n",
       "179          410000.0              NaN                  Bentayga  \n",
       "33          2680000.0        2760000.0         Compass Trailhawk  \n",
       "23           840000.0         939000.0                    Bolero  \n",
       "111          383000.0         495000.0                   redi-GO  \n",
       "127          730000.0         785000.0                Royce Dawn  \n",
       "153          144000.0         242000.0                  Panamera  \n",
       "146          105000.0         112000.0                    I-Pace  \n",
       "168         1698000.0        2449000.0                     D-Max  \n",
       "112          402000.0         651000.0                        GO  \n",
       "93          5150000.0        5390000.0   3 Series Gran Limousine  \n",
       "149         4010000.0              NaN        Cooper Convertible  \n",
       "107         3990000.0        5624000.0         A-Class Limousine  \n",
       "50           692000.0        1176000.0                     Venue  \n",
       "19           755000.0         979000.0                      Jazz  \n",
       "169          382000.0              NaN                Martin DBX  \n",
       "163          115000.0         193000.0                    Ghibli  "
      ]
     },
     "execution_count": 919,
     "metadata": {},
     "output_type": "execute_result"
    }
   ],
   "source": [
    "car_data.sample(20)"
   ]
  },
  {
   "cell_type": "markdown",
   "id": "c7d718db",
   "metadata": {},
   "source": [
    "## `Cars Data` Correct data type casted"
   ]
  },
  {
   "cell_type": "code",
   "execution_count": 881,
   "id": "61d0db42",
   "metadata": {},
   "outputs": [],
   "source": [
    "bike_data['Rated By']=bike_data['Rated By'].astype('float')"
   ]
  },
  {
   "cell_type": "code",
   "execution_count": 907,
   "id": "9f3bfaf2",
   "metadata": {},
   "outputs": [],
   "source": [
    "bike_data['CC or Watt']=bike_data['CC or Watt'].astype('float')"
   ]
  },
  {
   "cell_type": "code",
   "execution_count": 905,
   "id": "c2d4de48",
   "metadata": {},
   "outputs": [],
   "source": [
    "bike_data.loc[46,'CC or Watt']=1000   # changed one value by hand"
   ]
  },
  {
   "cell_type": "code",
   "execution_count": null,
   "id": "7e9002e0",
   "metadata": {},
   "outputs": [],
   "source": [
    "bike_data['CC or Watt']=bike_data['CC or Watt'].astype('float')"
   ]
  },
  {
   "cell_type": "code",
   "execution_count": 906,
   "id": "4f390e80",
   "metadata": {},
   "outputs": [
    {
     "data": {
      "text/html": [
       "<div>\n",
       "<style scoped>\n",
       "    .dataframe tbody tr th:only-of-type {\n",
       "        vertical-align: middle;\n",
       "    }\n",
       "\n",
       "    .dataframe tbody tr th {\n",
       "        vertical-align: top;\n",
       "    }\n",
       "\n",
       "    .dataframe thead th {\n",
       "        text-align: right;\n",
       "    }\n",
       "</style>\n",
       "<table border=\"1\" class=\"dataframe\">\n",
       "  <thead>\n",
       "    <tr style=\"text-align: right;\">\n",
       "      <th></th>\n",
       "      <th>Brand</th>\n",
       "      <th>Model</th>\n",
       "      <th>Ratings</th>\n",
       "      <th>Rated By</th>\n",
       "      <th>CC or Watt</th>\n",
       "      <th>Fuel Type</th>\n",
       "      <th>Start Price</th>\n",
       "      <th>Top Model Price</th>\n",
       "      <th>bhp</th>\n",
       "      <th>Weight</th>\n",
       "    </tr>\n",
       "  </thead>\n",
       "  <tbody>\n",
       "  </tbody>\n",
       "</table>\n",
       "</div>"
      ],
      "text/plain": [
       "Empty DataFrame\n",
       "Columns: [Brand, Model, Ratings, Rated By, CC or Watt, Fuel Type, Start Price, Top Model Price, bhp, Weight]\n",
       "Index: []"
      ]
     },
     "execution_count": 906,
     "metadata": {},
     "output_type": "execute_result"
    }
   ],
   "source": [
    "bike_data[bike_data['CC or Watt']== '1000-1400 ']"
   ]
  },
  {
   "cell_type": "code",
   "execution_count": 897,
   "id": "a6198b23",
   "metadata": {},
   "outputs": [
    {
     "data": {
      "text/html": [
       "<div>\n",
       "<style scoped>\n",
       "    .dataframe tbody tr th:only-of-type {\n",
       "        vertical-align: middle;\n",
       "    }\n",
       "\n",
       "    .dataframe tbody tr th {\n",
       "        vertical-align: top;\n",
       "    }\n",
       "\n",
       "    .dataframe thead th {\n",
       "        text-align: right;\n",
       "    }\n",
       "</style>\n",
       "<table border=\"1\" class=\"dataframe\">\n",
       "  <thead>\n",
       "    <tr style=\"text-align: right;\">\n",
       "      <th></th>\n",
       "      <th>Brand</th>\n",
       "      <th>Model</th>\n",
       "      <th>Ratings</th>\n",
       "      <th>Rated By</th>\n",
       "      <th>CC or Watt</th>\n",
       "      <th>Fuel Type</th>\n",
       "      <th>Start Price</th>\n",
       "      <th>Top Model Price</th>\n",
       "      <th>bhp</th>\n",
       "      <th>Weight</th>\n",
       "    </tr>\n",
       "  </thead>\n",
       "  <tbody>\n",
       "    <tr>\n",
       "      <th>34</th>\n",
       "      <td>Hero</td>\n",
       "      <td>Maestro Edge 125</td>\n",
       "      <td>4.1</td>\n",
       "      <td>445.0</td>\n",
       "      <td>125</td>\n",
       "      <td>Petrol</td>\n",
       "      <td>70850.0</td>\n",
       "      <td>74350.0</td>\n",
       "      <td>9.12</td>\n",
       "      <td>112.0</td>\n",
       "    </tr>\n",
       "    <tr>\n",
       "      <th>169</th>\n",
       "      <td>BMW</td>\n",
       "      <td>F 900 R</td>\n",
       "      <td>5.0</td>\n",
       "      <td>1.0</td>\n",
       "      <td>895</td>\n",
       "      <td>Petrol</td>\n",
       "      <td>1080000.0</td>\n",
       "      <td>NaN</td>\n",
       "      <td>104.60</td>\n",
       "      <td>211.0</td>\n",
       "    </tr>\n",
       "    <tr>\n",
       "      <th>154</th>\n",
       "      <td>Triumph</td>\n",
       "      <td>Bonneville T100</td>\n",
       "      <td>4.3</td>\n",
       "      <td>12.0</td>\n",
       "      <td>900</td>\n",
       "      <td>Petrol</td>\n",
       "      <td>887000.0</td>\n",
       "      <td>959000.0</td>\n",
       "      <td>NaN</td>\n",
       "      <td>NaN</td>\n",
       "    </tr>\n",
       "    <tr>\n",
       "      <th>94</th>\n",
       "      <td>KTM</td>\n",
       "      <td>125 Duke</td>\n",
       "      <td>4.0</td>\n",
       "      <td>942.0</td>\n",
       "      <td>124.7</td>\n",
       "      <td>Petrol</td>\n",
       "      <td>162000.0</td>\n",
       "      <td>NaN</td>\n",
       "      <td>14.50</td>\n",
       "      <td>159.0</td>\n",
       "    </tr>\n",
       "    <tr>\n",
       "      <th>104</th>\n",
       "      <td>TVS</td>\n",
       "      <td>Apache RR 310</td>\n",
       "      <td>4.2</td>\n",
       "      <td>635.0</td>\n",
       "      <td>312.2</td>\n",
       "      <td>Petrol</td>\n",
       "      <td>249000.0</td>\n",
       "      <td>NaN</td>\n",
       "      <td>25.80</td>\n",
       "      <td>174.0</td>\n",
       "    </tr>\n",
       "    <tr>\n",
       "      <th>203</th>\n",
       "      <td>Ducati</td>\n",
       "      <td>Scrambler Desert Sled</td>\n",
       "      <td>NaN</td>\n",
       "      <td>NaN</td>\n",
       "      <td>803</td>\n",
       "      <td>Petrol</td>\n",
       "      <td>1089000.0</td>\n",
       "      <td>NaN</td>\n",
       "      <td>72.80</td>\n",
       "      <td>209.0</td>\n",
       "    </tr>\n",
       "    <tr>\n",
       "      <th>121</th>\n",
       "      <td>Suzuki</td>\n",
       "      <td>Gixxer</td>\n",
       "      <td>4.3</td>\n",
       "      <td>392.0</td>\n",
       "      <td>155</td>\n",
       "      <td>Petrol</td>\n",
       "      <td>116000.0</td>\n",
       "      <td>NaN</td>\n",
       "      <td>13.60</td>\n",
       "      <td>141.0</td>\n",
       "    </tr>\n",
       "    <tr>\n",
       "      <th>160</th>\n",
       "      <td>BMW</td>\n",
       "      <td>G 310 R</td>\n",
       "      <td>4.3</td>\n",
       "      <td>123.0</td>\n",
       "      <td>313</td>\n",
       "      <td>Petrol</td>\n",
       "      <td>250000.0</td>\n",
       "      <td>NaN</td>\n",
       "      <td>NaN</td>\n",
       "      <td>164.0</td>\n",
       "    </tr>\n",
       "    <tr>\n",
       "      <th>166</th>\n",
       "      <td>BMW</td>\n",
       "      <td>R nineT</td>\n",
       "      <td>5.0</td>\n",
       "      <td>1.0</td>\n",
       "      <td>1170</td>\n",
       "      <td>Petrol</td>\n",
       "      <td>1850000.0</td>\n",
       "      <td>NaN</td>\n",
       "      <td>108.77</td>\n",
       "      <td>221.0</td>\n",
       "    </tr>\n",
       "    <tr>\n",
       "      <th>138</th>\n",
       "      <td>Harley-Davidson</td>\n",
       "      <td>Pan America 1250</td>\n",
       "      <td>NaN</td>\n",
       "      <td>NaN</td>\n",
       "      <td>1252</td>\n",
       "      <td>Petrol</td>\n",
       "      <td>1690000.0</td>\n",
       "      <td>1999000.0</td>\n",
       "      <td>NaN</td>\n",
       "      <td>245.0</td>\n",
       "    </tr>\n",
       "    <tr>\n",
       "      <th>140</th>\n",
       "      <td>Harley-Davidson</td>\n",
       "      <td>Road King</td>\n",
       "      <td>4.2</td>\n",
       "      <td>9.0</td>\n",
       "      <td>1745</td>\n",
       "      <td>Petrol</td>\n",
       "      <td>2699000.0</td>\n",
       "      <td>NaN</td>\n",
       "      <td>NaN</td>\n",
       "      <td>379.0</td>\n",
       "    </tr>\n",
       "    <tr>\n",
       "      <th>2</th>\n",
       "      <td>Honda</td>\n",
       "      <td>Activa 6G</td>\n",
       "      <td>3.9</td>\n",
       "      <td>921.0</td>\n",
       "      <td>109.51</td>\n",
       "      <td>Petrol</td>\n",
       "      <td>67843.0</td>\n",
       "      <td>71089.0</td>\n",
       "      <td>7.79</td>\n",
       "      <td>107.0</td>\n",
       "    </tr>\n",
       "    <tr>\n",
       "      <th>4</th>\n",
       "      <td>Honda</td>\n",
       "      <td>Dio</td>\n",
       "      <td>4.1</td>\n",
       "      <td>642.0</td>\n",
       "      <td>109.51</td>\n",
       "      <td>Petrol</td>\n",
       "      <td>63273.0</td>\n",
       "      <td>69171.0</td>\n",
       "      <td>7.76</td>\n",
       "      <td>103.0</td>\n",
       "    </tr>\n",
       "    <tr>\n",
       "      <th>137</th>\n",
       "      <td>Harley-Davidson</td>\n",
       "      <td>Fat Bob 114</td>\n",
       "      <td>4.3</td>\n",
       "      <td>32.0</td>\n",
       "      <td>1868</td>\n",
       "      <td>Petrol</td>\n",
       "      <td>1675000.0</td>\n",
       "      <td>NaN</td>\n",
       "      <td>NaN</td>\n",
       "      <td>306.0</td>\n",
       "    </tr>\n",
       "    <tr>\n",
       "      <th>157</th>\n",
       "      <td>Triumph</td>\n",
       "      <td>Scrambler 1200</td>\n",
       "      <td>NaN</td>\n",
       "      <td>NaN</td>\n",
       "      <td>1200</td>\n",
       "      <td>Petrol</td>\n",
       "      <td>1375000.0</td>\n",
       "      <td>NaN</td>\n",
       "      <td>NaN</td>\n",
       "      <td>205.0</td>\n",
       "    </tr>\n",
       "    <tr>\n",
       "      <th>1</th>\n",
       "      <td>22Kymco</td>\n",
       "      <td>iFlow</td>\n",
       "      <td>3.7</td>\n",
       "      <td>7.0</td>\n",
       "      <td>2100</td>\n",
       "      <td>Electric</td>\n",
       "      <td>90000.0</td>\n",
       "      <td>NaN</td>\n",
       "      <td>NaN</td>\n",
       "      <td>NaN</td>\n",
       "    </tr>\n",
       "    <tr>\n",
       "      <th>168</th>\n",
       "      <td>BMW</td>\n",
       "      <td>F 900 XR</td>\n",
       "      <td>NaN</td>\n",
       "      <td>NaN</td>\n",
       "      <td>895</td>\n",
       "      <td>Petrol</td>\n",
       "      <td>1095000.0</td>\n",
       "      <td>1240000.0</td>\n",
       "      <td>104.60</td>\n",
       "      <td>219.0</td>\n",
       "    </tr>\n",
       "    <tr>\n",
       "      <th>51</th>\n",
       "      <td>Vespa</td>\n",
       "      <td>Notte 125</td>\n",
       "      <td>4.1</td>\n",
       "      <td>34.0</td>\n",
       "      <td>124.45</td>\n",
       "      <td>Petrol</td>\n",
       "      <td>93144.0</td>\n",
       "      <td>NaN</td>\n",
       "      <td>9.92</td>\n",
       "      <td>115.0</td>\n",
       "    </tr>\n",
       "    <tr>\n",
       "      <th>27</th>\n",
       "      <td>TVS</td>\n",
       "      <td>Scooty Zest</td>\n",
       "      <td>3.9</td>\n",
       "      <td>137.0</td>\n",
       "      <td>109.7</td>\n",
       "      <td>Petrol</td>\n",
       "      <td>61345.0</td>\n",
       "      <td>64980.0</td>\n",
       "      <td>7.81</td>\n",
       "      <td>103.0</td>\n",
       "    </tr>\n",
       "    <tr>\n",
       "      <th>189</th>\n",
       "      <td>Kawasaki</td>\n",
       "      <td>Versys 650</td>\n",
       "      <td>4.3</td>\n",
       "      <td>19.0</td>\n",
       "      <td>649</td>\n",
       "      <td>Petrol</td>\n",
       "      <td>708000.0</td>\n",
       "      <td>NaN</td>\n",
       "      <td>NaN</td>\n",
       "      <td>218.0</td>\n",
       "    </tr>\n",
       "  </tbody>\n",
       "</table>\n",
       "</div>"
      ],
      "text/plain": [
       "               Brand                   Model  Ratings  Rated By CC or Watt  \\\n",
       "34              Hero        Maestro Edge 125      4.1     445.0       125    \n",
       "169              BMW                 F 900 R      5.0       1.0       895    \n",
       "154          Triumph         Bonneville T100      4.3      12.0       900    \n",
       "94               KTM                125 Duke      4.0     942.0     124.7    \n",
       "104              TVS           Apache RR 310      4.2     635.0     312.2    \n",
       "203           Ducati   Scrambler Desert Sled      NaN       NaN       803    \n",
       "121           Suzuki                  Gixxer      4.3     392.0       155    \n",
       "160              BMW                 G 310 R      4.3     123.0       313    \n",
       "166              BMW                 R nineT      5.0       1.0      1170    \n",
       "138  Harley-Davidson        Pan America 1250      NaN       NaN      1252    \n",
       "140  Harley-Davidson               Road King      4.2       9.0      1745    \n",
       "2              Honda               Activa 6G      3.9     921.0    109.51    \n",
       "4              Honda                     Dio      4.1     642.0    109.51    \n",
       "137  Harley-Davidson             Fat Bob 114      4.3      32.0      1868    \n",
       "157          Triumph          Scrambler 1200      NaN       NaN      1200    \n",
       "1            22Kymco                   iFlow      3.7       7.0      2100    \n",
       "168              BMW                F 900 XR      NaN       NaN       895    \n",
       "51             Vespa               Notte 125      4.1      34.0    124.45    \n",
       "27               TVS             Scooty Zest      3.9     137.0     109.7    \n",
       "189         Kawasaki              Versys 650      4.3      19.0       649    \n",
       "\n",
       "    Fuel Type  Start Price  Top Model Price     bhp  Weight  \n",
       "34     Petrol      70850.0          74350.0    9.12   112.0  \n",
       "169    Petrol    1080000.0              NaN  104.60   211.0  \n",
       "154    Petrol     887000.0         959000.0     NaN     NaN  \n",
       "94     Petrol     162000.0              NaN   14.50   159.0  \n",
       "104    Petrol     249000.0              NaN   25.80   174.0  \n",
       "203    Petrol    1089000.0              NaN   72.80   209.0  \n",
       "121    Petrol     116000.0              NaN   13.60   141.0  \n",
       "160    Petrol     250000.0              NaN     NaN   164.0  \n",
       "166    Petrol    1850000.0              NaN  108.77   221.0  \n",
       "138    Petrol    1690000.0        1999000.0     NaN   245.0  \n",
       "140    Petrol    2699000.0              NaN     NaN   379.0  \n",
       "2      Petrol      67843.0          71089.0    7.79   107.0  \n",
       "4      Petrol      63273.0          69171.0    7.76   103.0  \n",
       "137    Petrol    1675000.0              NaN     NaN   306.0  \n",
       "157    Petrol    1375000.0              NaN     NaN   205.0  \n",
       "1    Electric      90000.0              NaN     NaN     NaN  \n",
       "168    Petrol    1095000.0        1240000.0  104.60   219.0  \n",
       "51     Petrol      93144.0              NaN    9.92   115.0  \n",
       "27     Petrol      61345.0          64980.0    7.81   103.0  \n",
       "189    Petrol     708000.0              NaN     NaN   218.0  "
      ]
     },
     "execution_count": 897,
     "metadata": {},
     "output_type": "execute_result"
    }
   ],
   "source": [
    "bike_data.sample(20)"
   ]
  },
  {
   "cell_type": "code",
   "execution_count": 908,
   "id": "87a1d486",
   "metadata": {},
   "outputs": [
    {
     "data": {
      "text/plain": [
       "Brand               object\n",
       "Model               object\n",
       "Ratings            float64\n",
       "Rated By           float64\n",
       "CC or Watt         float64\n",
       "Fuel Type           object\n",
       "Start Price        float64\n",
       "Top Model Price    float64\n",
       "bhp                float64\n",
       "Weight             float64\n",
       "dtype: object"
      ]
     },
     "execution_count": 908,
     "metadata": {},
     "output_type": "execute_result"
    }
   ],
   "source": [
    "bike_data.dtypes"
   ]
  },
  {
   "cell_type": "code",
   "execution_count": 909,
   "id": "3935d04c",
   "metadata": {},
   "outputs": [
    {
     "data": {
      "text/html": [
       "<div>\n",
       "<style scoped>\n",
       "    .dataframe tbody tr th:only-of-type {\n",
       "        vertical-align: middle;\n",
       "    }\n",
       "\n",
       "    .dataframe tbody tr th {\n",
       "        vertical-align: top;\n",
       "    }\n",
       "\n",
       "    .dataframe thead th {\n",
       "        text-align: right;\n",
       "    }\n",
       "</style>\n",
       "<table border=\"1\" class=\"dataframe\">\n",
       "  <thead>\n",
       "    <tr style=\"text-align: right;\">\n",
       "      <th></th>\n",
       "      <th>Brand</th>\n",
       "      <th>Model</th>\n",
       "      <th>Ratings</th>\n",
       "      <th>Rated By</th>\n",
       "      <th>CC or Watt</th>\n",
       "      <th>Fuel Type</th>\n",
       "      <th>Start Price</th>\n",
       "      <th>Top Model Price</th>\n",
       "      <th>bhp</th>\n",
       "      <th>Weight</th>\n",
       "    </tr>\n",
       "  </thead>\n",
       "  <tbody>\n",
       "    <tr>\n",
       "      <th>187</th>\n",
       "      <td>Kawasaki</td>\n",
       "      <td>Z H2</td>\n",
       "      <td>5.0</td>\n",
       "      <td>1.0</td>\n",
       "      <td>998.00</td>\n",
       "      <td>Petrol</td>\n",
       "      <td>2190000.0</td>\n",
       "      <td>2590000.0</td>\n",
       "      <td>200.00</td>\n",
       "      <td>239.0</td>\n",
       "    </tr>\n",
       "    <tr>\n",
       "      <th>6</th>\n",
       "      <td>Honda</td>\n",
       "      <td>Unicorn</td>\n",
       "      <td>4.1</td>\n",
       "      <td>393.0</td>\n",
       "      <td>162.70</td>\n",
       "      <td>Petrol</td>\n",
       "      <td>97356.0</td>\n",
       "      <td>NaN</td>\n",
       "      <td>12.91</td>\n",
       "      <td>140.0</td>\n",
       "    </tr>\n",
       "    <tr>\n",
       "      <th>159</th>\n",
       "      <td>Triumph</td>\n",
       "      <td>Speed Triple 1200</td>\n",
       "      <td>4.4</td>\n",
       "      <td>2.0</td>\n",
       "      <td>1160.00</td>\n",
       "      <td>Petrol</td>\n",
       "      <td>1695000.0</td>\n",
       "      <td>NaN</td>\n",
       "      <td>180.00</td>\n",
       "      <td>NaN</td>\n",
       "    </tr>\n",
       "    <tr>\n",
       "      <th>30</th>\n",
       "      <td>Hero</td>\n",
       "      <td>Passion Pro</td>\n",
       "      <td>3.9</td>\n",
       "      <td>1192.0</td>\n",
       "      <td>113.00</td>\n",
       "      <td>Petrol</td>\n",
       "      <td>68150.0</td>\n",
       "      <td>72150.0</td>\n",
       "      <td>9.15</td>\n",
       "      <td>117.0</td>\n",
       "    </tr>\n",
       "    <tr>\n",
       "      <th>99</th>\n",
       "      <td>KTM</td>\n",
       "      <td>250 Adventure</td>\n",
       "      <td>4.5</td>\n",
       "      <td>15.0</td>\n",
       "      <td>248.76</td>\n",
       "      <td>Petrol</td>\n",
       "      <td>251000.0</td>\n",
       "      <td>NaN</td>\n",
       "      <td>NaN</td>\n",
       "      <td>177.0</td>\n",
       "    </tr>\n",
       "    <tr>\n",
       "      <th>179</th>\n",
       "      <td>Kawasaki</td>\n",
       "      <td>2021 Ninja H2</td>\n",
       "      <td>4.3</td>\n",
       "      <td>44.0</td>\n",
       "      <td>998.00</td>\n",
       "      <td>Petrol</td>\n",
       "      <td>7990000.0</td>\n",
       "      <td>NaN</td>\n",
       "      <td>310.00</td>\n",
       "      <td>238.0</td>\n",
       "    </tr>\n",
       "    <tr>\n",
       "      <th>203</th>\n",
       "      <td>Ducati</td>\n",
       "      <td>Scrambler Desert Sled</td>\n",
       "      <td>NaN</td>\n",
       "      <td>NaN</td>\n",
       "      <td>803.00</td>\n",
       "      <td>Petrol</td>\n",
       "      <td>1089000.0</td>\n",
       "      <td>NaN</td>\n",
       "      <td>72.80</td>\n",
       "      <td>209.0</td>\n",
       "    </tr>\n",
       "    <tr>\n",
       "      <th>149</th>\n",
       "      <td>Triumph</td>\n",
       "      <td>Trident 660</td>\n",
       "      <td>5.0</td>\n",
       "      <td>3.0</td>\n",
       "      <td>660.00</td>\n",
       "      <td>Petrol</td>\n",
       "      <td>695000.0</td>\n",
       "      <td>NaN</td>\n",
       "      <td>NaN</td>\n",
       "      <td>189.0</td>\n",
       "    </tr>\n",
       "    <tr>\n",
       "      <th>210</th>\n",
       "      <td>Indian</td>\n",
       "      <td>Springfield Dark Horse</td>\n",
       "      <td>3.3</td>\n",
       "      <td>5.0</td>\n",
       "      <td>1890.00</td>\n",
       "      <td>Petrol</td>\n",
       "      <td>2857000.0</td>\n",
       "      <td>NaN</td>\n",
       "      <td>NaN</td>\n",
       "      <td>355.0</td>\n",
       "    </tr>\n",
       "    <tr>\n",
       "      <th>165</th>\n",
       "      <td>BMW</td>\n",
       "      <td>R 1250 GS Adventure</td>\n",
       "      <td>3.8</td>\n",
       "      <td>8.0</td>\n",
       "      <td>1254.00</td>\n",
       "      <td>Petrol</td>\n",
       "      <td>2235000.0</td>\n",
       "      <td>NaN</td>\n",
       "      <td>136.00</td>\n",
       "      <td>268.0</td>\n",
       "    </tr>\n",
       "    <tr>\n",
       "      <th>22</th>\n",
       "      <td>TVS</td>\n",
       "      <td>XL100</td>\n",
       "      <td>3.8</td>\n",
       "      <td>407.0</td>\n",
       "      <td>99.70</td>\n",
       "      <td>Petrol</td>\n",
       "      <td>41015.0</td>\n",
       "      <td>50384.0</td>\n",
       "      <td>4.40</td>\n",
       "      <td>NaN</td>\n",
       "    </tr>\n",
       "    <tr>\n",
       "      <th>202</th>\n",
       "      <td>Ducati</td>\n",
       "      <td>Multistrada 950</td>\n",
       "      <td>4.1</td>\n",
       "      <td>6.0</td>\n",
       "      <td>937.00</td>\n",
       "      <td>Petrol</td>\n",
       "      <td>1549000.0</td>\n",
       "      <td>NaN</td>\n",
       "      <td>114.50</td>\n",
       "      <td>229.0</td>\n",
       "    </tr>\n",
       "    <tr>\n",
       "      <th>56</th>\n",
       "      <td>Lohia</td>\n",
       "      <td>Oma Star</td>\n",
       "      <td>NaN</td>\n",
       "      <td>NaN</td>\n",
       "      <td>250.00</td>\n",
       "      <td>Electric</td>\n",
       "      <td>41444.0</td>\n",
       "      <td>NaN</td>\n",
       "      <td>NaN</td>\n",
       "      <td>NaN</td>\n",
       "    </tr>\n",
       "    <tr>\n",
       "      <th>205</th>\n",
       "      <td>Benelli</td>\n",
       "      <td>Imperiale 400</td>\n",
       "      <td>4.3</td>\n",
       "      <td>89.0</td>\n",
       "      <td>374.00</td>\n",
       "      <td>Petrol</td>\n",
       "      <td>189000.0</td>\n",
       "      <td>193000.0</td>\n",
       "      <td>NaN</td>\n",
       "      <td>205.0</td>\n",
       "    </tr>\n",
       "    <tr>\n",
       "      <th>157</th>\n",
       "      <td>Triumph</td>\n",
       "      <td>Scrambler 1200</td>\n",
       "      <td>NaN</td>\n",
       "      <td>NaN</td>\n",
       "      <td>1200.00</td>\n",
       "      <td>Petrol</td>\n",
       "      <td>1375000.0</td>\n",
       "      <td>NaN</td>\n",
       "      <td>NaN</td>\n",
       "      <td>205.0</td>\n",
       "    </tr>\n",
       "    <tr>\n",
       "      <th>75</th>\n",
       "      <td>Honda</td>\n",
       "      <td>Gold Wing</td>\n",
       "      <td>4.4</td>\n",
       "      <td>24.0</td>\n",
       "      <td>1833.00</td>\n",
       "      <td>Petrol</td>\n",
       "      <td>3720000.0</td>\n",
       "      <td>3916000.0</td>\n",
       "      <td>126.40</td>\n",
       "      <td>379.0</td>\n",
       "    </tr>\n",
       "    <tr>\n",
       "      <th>104</th>\n",
       "      <td>TVS</td>\n",
       "      <td>Apache RR 310</td>\n",
       "      <td>4.2</td>\n",
       "      <td>635.0</td>\n",
       "      <td>312.20</td>\n",
       "      <td>Petrol</td>\n",
       "      <td>249000.0</td>\n",
       "      <td>NaN</td>\n",
       "      <td>25.80</td>\n",
       "      <td>174.0</td>\n",
       "    </tr>\n",
       "    <tr>\n",
       "      <th>43</th>\n",
       "      <td>Hero</td>\n",
       "      <td>Electric Flash</td>\n",
       "      <td>3.4</td>\n",
       "      <td>44.0</td>\n",
       "      <td>250.00</td>\n",
       "      <td>Electric</td>\n",
       "      <td>39990.0</td>\n",
       "      <td>52990.0</td>\n",
       "      <td>NaN</td>\n",
       "      <td>NaN</td>\n",
       "    </tr>\n",
       "    <tr>\n",
       "      <th>200</th>\n",
       "      <td>Ducati</td>\n",
       "      <td>Diavel 1260</td>\n",
       "      <td>4.0</td>\n",
       "      <td>5.0</td>\n",
       "      <td>1262.00</td>\n",
       "      <td>Petrol</td>\n",
       "      <td>1849000.0</td>\n",
       "      <td>2149000.0</td>\n",
       "      <td>164.20</td>\n",
       "      <td>249.0</td>\n",
       "    </tr>\n",
       "    <tr>\n",
       "      <th>61</th>\n",
       "      <td>Okinawa</td>\n",
       "      <td>R30</td>\n",
       "      <td>3.5</td>\n",
       "      <td>15.0</td>\n",
       "      <td>250.00</td>\n",
       "      <td>Electric</td>\n",
       "      <td>58992.0</td>\n",
       "      <td>NaN</td>\n",
       "      <td>NaN</td>\n",
       "      <td>NaN</td>\n",
       "    </tr>\n",
       "  </tbody>\n",
       "</table>\n",
       "</div>"
      ],
      "text/plain": [
       "        Brand                    Model  Ratings  Rated By  CC or Watt  \\\n",
       "187  Kawasaki                     Z H2      5.0       1.0      998.00   \n",
       "6       Honda                  Unicorn      4.1     393.0      162.70   \n",
       "159   Triumph        Speed Triple 1200      4.4       2.0     1160.00   \n",
       "30       Hero              Passion Pro      3.9    1192.0      113.00   \n",
       "99        KTM            250 Adventure      4.5      15.0      248.76   \n",
       "179  Kawasaki            2021 Ninja H2      4.3      44.0      998.00   \n",
       "203    Ducati    Scrambler Desert Sled      NaN       NaN      803.00   \n",
       "149   Triumph              Trident 660      5.0       3.0      660.00   \n",
       "210    Indian   Springfield Dark Horse      3.3       5.0     1890.00   \n",
       "165       BMW      R 1250 GS Adventure      3.8       8.0     1254.00   \n",
       "22        TVS                    XL100      3.8     407.0       99.70   \n",
       "202    Ducati          Multistrada 950      4.1       6.0      937.00   \n",
       "56      Lohia                 Oma Star      NaN       NaN      250.00   \n",
       "205   Benelli            Imperiale 400      4.3      89.0      374.00   \n",
       "157   Triumph           Scrambler 1200      NaN       NaN     1200.00   \n",
       "75      Honda                Gold Wing      4.4      24.0     1833.00   \n",
       "104       TVS            Apache RR 310      4.2     635.0      312.20   \n",
       "43       Hero           Electric Flash      3.4      44.0      250.00   \n",
       "200    Ducati              Diavel 1260      4.0       5.0     1262.00   \n",
       "61    Okinawa                      R30      3.5      15.0      250.00   \n",
       "\n",
       "    Fuel Type  Start Price  Top Model Price     bhp  Weight  \n",
       "187    Petrol    2190000.0        2590000.0  200.00   239.0  \n",
       "6      Petrol      97356.0              NaN   12.91   140.0  \n",
       "159    Petrol    1695000.0              NaN  180.00     NaN  \n",
       "30     Petrol      68150.0          72150.0    9.15   117.0  \n",
       "99     Petrol     251000.0              NaN     NaN   177.0  \n",
       "179    Petrol    7990000.0              NaN  310.00   238.0  \n",
       "203    Petrol    1089000.0              NaN   72.80   209.0  \n",
       "149    Petrol     695000.0              NaN     NaN   189.0  \n",
       "210    Petrol    2857000.0              NaN     NaN   355.0  \n",
       "165    Petrol    2235000.0              NaN  136.00   268.0  \n",
       "22     Petrol      41015.0          50384.0    4.40     NaN  \n",
       "202    Petrol    1549000.0              NaN  114.50   229.0  \n",
       "56   Electric      41444.0              NaN     NaN     NaN  \n",
       "205    Petrol     189000.0         193000.0     NaN   205.0  \n",
       "157    Petrol    1375000.0              NaN     NaN   205.0  \n",
       "75     Petrol    3720000.0        3916000.0  126.40   379.0  \n",
       "104    Petrol     249000.0              NaN   25.80   174.0  \n",
       "43   Electric      39990.0          52990.0     NaN     NaN  \n",
       "200    Petrol    1849000.0        2149000.0  164.20   249.0  \n",
       "61   Electric      58992.0              NaN     NaN     NaN  "
      ]
     },
     "execution_count": 909,
     "metadata": {},
     "output_type": "execute_result"
    }
   ],
   "source": [
    "bike_data.sample(20)"
   ]
  },
  {
   "cell_type": "markdown",
   "id": "d7836273",
   "metadata": {},
   "source": [
    "## Data type correctly casted for both"
   ]
  },
  {
   "cell_type": "code",
   "execution_count": 910,
   "id": "fdc61687",
   "metadata": {},
   "outputs": [],
   "source": [
    "bike_data.to_csv('zigwheels_bike_correctly_datatyped.csv',index=False)"
   ]
  },
  {
   "cell_type": "code",
   "execution_count": 920,
   "id": "242d3b47",
   "metadata": {},
   "outputs": [],
   "source": [
    "car_data.to_csv('zigwheels_car_correctly_datatyped.csv',index=False)"
   ]
  },
  {
   "cell_type": "markdown",
   "id": "da9d1601",
   "metadata": {},
   "source": [
    "## Missing value Process remaining and EDA"
   ]
  },
  {
   "cell_type": "code",
   "execution_count": 921,
   "id": "7763f915",
   "metadata": {},
   "outputs": [],
   "source": [
    "cars=pd.read_csv('C:\\\\Users\\\\manuj\\\\Innomatics Research labs\\\\My_Notebooks\\\\zigwheels_car_correctly_datatyped.csv')\n",
    "bikes=pd.read_csv('C:\\\\Users\\\\manuj\\\\Innomatics Research labs\\\\My_Notebooks\\\\zigwheels_bike_correctly_datatyped.csv')"
   ]
  },
  {
   "cell_type": "code",
   "execution_count": 922,
   "id": "bb660098",
   "metadata": {},
   "outputs": [
    {
     "data": {
      "text/html": [
       "<div>\n",
       "<style scoped>\n",
       "    .dataframe tbody tr th:only-of-type {\n",
       "        vertical-align: middle;\n",
       "    }\n",
       "\n",
       "    .dataframe tbody tr th {\n",
       "        vertical-align: top;\n",
       "    }\n",
       "\n",
       "    .dataframe thead th {\n",
       "        text-align: right;\n",
       "    }\n",
       "</style>\n",
       "<table border=\"1\" class=\"dataframe\">\n",
       "  <thead>\n",
       "    <tr style=\"text-align: right;\">\n",
       "      <th></th>\n",
       "      <th>Brand</th>\n",
       "      <th>CC</th>\n",
       "      <th>Milage in kmpl</th>\n",
       "      <th>Fuel Type</th>\n",
       "      <th>Ratings</th>\n",
       "      <th>Rated By</th>\n",
       "      <th>Base Model Price</th>\n",
       "      <th>Top Model Price</th>\n",
       "      <th>Model</th>\n",
       "    </tr>\n",
       "  </thead>\n",
       "  <tbody>\n",
       "    <tr>\n",
       "      <th>27</th>\n",
       "      <td>Mahindra</td>\n",
       "      <td>1198.0</td>\n",
       "      <td>18.0</td>\n",
       "      <td>Petrol</td>\n",
       "      <td>3.9</td>\n",
       "      <td>305.0</td>\n",
       "      <td>605000.0</td>\n",
       "      <td>771000.0</td>\n",
       "      <td>KUV100 NXT</td>\n",
       "    </tr>\n",
       "    <tr>\n",
       "      <th>2</th>\n",
       "      <td>Maruti</td>\n",
       "      <td>1197.0</td>\n",
       "      <td>24.0</td>\n",
       "      <td>Petrol</td>\n",
       "      <td>4.1</td>\n",
       "      <td>2100.0</td>\n",
       "      <td>598000.0</td>\n",
       "      <td>930000.0</td>\n",
       "      <td>Suzuki Baleno</td>\n",
       "    </tr>\n",
       "    <tr>\n",
       "      <th>160</th>\n",
       "      <td>Ferrari</td>\n",
       "      <td>6496.0</td>\n",
       "      <td>NaN</td>\n",
       "      <td>Petrol</td>\n",
       "      <td>4.2</td>\n",
       "      <td>2.0</td>\n",
       "      <td>575000.0</td>\n",
       "      <td>NaN</td>\n",
       "      <td>812</td>\n",
       "    </tr>\n",
       "    <tr>\n",
       "      <th>11</th>\n",
       "      <td>Maruti</td>\n",
       "      <td>1197.0</td>\n",
       "      <td>21.0</td>\n",
       "      <td>Petrol</td>\n",
       "      <td>4.2</td>\n",
       "      <td>499.0</td>\n",
       "      <td>495000.0</td>\n",
       "      <td>736000.0</td>\n",
       "      <td>Suzuki Ignis</td>\n",
       "    </tr>\n",
       "    <tr>\n",
       "      <th>123</th>\n",
       "      <td>Rolls</td>\n",
       "      <td>6749.0</td>\n",
       "      <td>10.0</td>\n",
       "      <td>Petrol</td>\n",
       "      <td>4.5</td>\n",
       "      <td>107.0</td>\n",
       "      <td>899000.0</td>\n",
       "      <td>1048000.0</td>\n",
       "      <td>Royce Phantom</td>\n",
       "    </tr>\n",
       "    <tr>\n",
       "      <th>118</th>\n",
       "      <td>Volvo</td>\n",
       "      <td>1969.0</td>\n",
       "      <td>11.0</td>\n",
       "      <td>Diesel</td>\n",
       "      <td>4.3</td>\n",
       "      <td>23.0</td>\n",
       "      <td>6090000.0</td>\n",
       "      <td>NaN</td>\n",
       "      <td>XC60</td>\n",
       "    </tr>\n",
       "    <tr>\n",
       "      <th>78</th>\n",
       "      <td>BMW</td>\n",
       "      <td>2993.0</td>\n",
       "      <td>13.0</td>\n",
       "      <td>Petrol  Diesel</td>\n",
       "      <td>4.2</td>\n",
       "      <td>32.0</td>\n",
       "      <td>7650000.0</td>\n",
       "      <td>8800000.0</td>\n",
       "      <td>X5</td>\n",
       "    </tr>\n",
       "    <tr>\n",
       "      <th>156</th>\n",
       "      <td>Porsche</td>\n",
       "      <td>2995.0</td>\n",
       "      <td>NaN</td>\n",
       "      <td>Petrol</td>\n",
       "      <td>4.6</td>\n",
       "      <td>6.0</td>\n",
       "      <td>131000.0</td>\n",
       "      <td>198000.0</td>\n",
       "      <td>Cayenne Coupe</td>\n",
       "    </tr>\n",
       "    <tr>\n",
       "      <th>60</th>\n",
       "      <td>Toyota</td>\n",
       "      <td>2694.0</td>\n",
       "      <td>NaN</td>\n",
       "      <td>Petrol  Diesel</td>\n",
       "      <td>4.4</td>\n",
       "      <td>117.0</td>\n",
       "      <td>1652000.0</td>\n",
       "      <td>2459000.0</td>\n",
       "      <td>Innova Crysta</td>\n",
       "    </tr>\n",
       "    <tr>\n",
       "      <th>145</th>\n",
       "      <td>Jaguar</td>\n",
       "      <td>1997.0</td>\n",
       "      <td>NaN</td>\n",
       "      <td>Petrol  Diesel</td>\n",
       "      <td>4.0</td>\n",
       "      <td>1.0</td>\n",
       "      <td>6999000.0</td>\n",
       "      <td>NaN</td>\n",
       "      <td>F-Pace</td>\n",
       "    </tr>\n",
       "    <tr>\n",
       "      <th>141</th>\n",
       "      <td>Nissan</td>\n",
       "      <td>1498.0</td>\n",
       "      <td>14.0</td>\n",
       "      <td>Petrol</td>\n",
       "      <td>4.4</td>\n",
       "      <td>63.0</td>\n",
       "      <td>949000.0</td>\n",
       "      <td>1464000.0</td>\n",
       "      <td>Kicks</td>\n",
       "    </tr>\n",
       "    <tr>\n",
       "      <th>14</th>\n",
       "      <td>Maruti</td>\n",
       "      <td>998.0</td>\n",
       "      <td>22.0</td>\n",
       "      <td>Petrol</td>\n",
       "      <td>3.9</td>\n",
       "      <td>166.0</td>\n",
       "      <td>511000.0</td>\n",
       "      <td>591000.0</td>\n",
       "      <td>Suzuki Celerio X</td>\n",
       "    </tr>\n",
       "    <tr>\n",
       "      <th>181</th>\n",
       "      <td>Bentley</td>\n",
       "      <td>5950.0</td>\n",
       "      <td>13.0</td>\n",
       "      <td>Petrol</td>\n",
       "      <td>4.8</td>\n",
       "      <td>4.0</td>\n",
       "      <td>321000.0</td>\n",
       "      <td>341000.0</td>\n",
       "      <td>Flying Spur</td>\n",
       "    </tr>\n",
       "    <tr>\n",
       "      <th>176</th>\n",
       "      <td>Land</td>\n",
       "      <td>1999.0</td>\n",
       "      <td>18.0</td>\n",
       "      <td>Petrol</td>\n",
       "      <td>4.3</td>\n",
       "      <td>13.0</td>\n",
       "      <td>7559000.0</td>\n",
       "      <td>8799000.0</td>\n",
       "      <td>Rover Discovery</td>\n",
       "    </tr>\n",
       "    <tr>\n",
       "      <th>20</th>\n",
       "      <td>Honda</td>\n",
       "      <td>1497.0</td>\n",
       "      <td>17.0</td>\n",
       "      <td>Petrol</td>\n",
       "      <td>4.3</td>\n",
       "      <td>1761.0</td>\n",
       "      <td>929000.0</td>\n",
       "      <td>999000.0</td>\n",
       "      <td>City 4th Generation</td>\n",
       "    </tr>\n",
       "    <tr>\n",
       "      <th>139</th>\n",
       "      <td>Skoda</td>\n",
       "      <td>1984.0</td>\n",
       "      <td>15.0</td>\n",
       "      <td>Petrol</td>\n",
       "      <td>4.4</td>\n",
       "      <td>11.0</td>\n",
       "      <td>3199000.0</td>\n",
       "      <td>3499000.0</td>\n",
       "      <td>New Superb</td>\n",
       "    </tr>\n",
       "    <tr>\n",
       "      <th>50</th>\n",
       "      <td>Hyundai</td>\n",
       "      <td>998.0</td>\n",
       "      <td>24.0</td>\n",
       "      <td>Petrol  Diesel</td>\n",
       "      <td>4.2</td>\n",
       "      <td>661.0</td>\n",
       "      <td>692000.0</td>\n",
       "      <td>1176000.0</td>\n",
       "      <td>Venue</td>\n",
       "    </tr>\n",
       "    <tr>\n",
       "      <th>0</th>\n",
       "      <td>Maruti</td>\n",
       "      <td>1197.0</td>\n",
       "      <td>23.0</td>\n",
       "      <td>Petrol</td>\n",
       "      <td>4.0</td>\n",
       "      <td>177.0</td>\n",
       "      <td>573000.0</td>\n",
       "      <td>841000.0</td>\n",
       "      <td>Suzuki Swift</td>\n",
       "    </tr>\n",
       "    <tr>\n",
       "      <th>113</th>\n",
       "      <td>Datsun</td>\n",
       "      <td>1198.0</td>\n",
       "      <td>19.0</td>\n",
       "      <td>Petrol</td>\n",
       "      <td>3.8</td>\n",
       "      <td>232.0</td>\n",
       "      <td>425000.0</td>\n",
       "      <td>699000.0</td>\n",
       "      <td>GO Plus</td>\n",
       "    </tr>\n",
       "    <tr>\n",
       "      <th>12</th>\n",
       "      <td>Maruti</td>\n",
       "      <td>1462.0</td>\n",
       "      <td>21.0</td>\n",
       "      <td>Petrol</td>\n",
       "      <td>4.3</td>\n",
       "      <td>967.0</td>\n",
       "      <td>852000.0</td>\n",
       "      <td>1150000.0</td>\n",
       "      <td>Suzuki Ciaz</td>\n",
       "    </tr>\n",
       "  </tbody>\n",
       "</table>\n",
       "</div>"
      ],
      "text/plain": [
       "        Brand      CC  Milage in kmpl        Fuel Type  Ratings  Rated By  \\\n",
       "27   Mahindra  1198.0            18.0           Petrol      3.9     305.0   \n",
       "2      Maruti  1197.0            24.0           Petrol      4.1    2100.0   \n",
       "160   Ferrari  6496.0             NaN           Petrol      4.2       2.0   \n",
       "11     Maruti  1197.0            21.0           Petrol      4.2     499.0   \n",
       "123     Rolls  6749.0            10.0           Petrol      4.5     107.0   \n",
       "118     Volvo  1969.0            11.0           Diesel      4.3      23.0   \n",
       "78        BMW  2993.0            13.0   Petrol  Diesel      4.2      32.0   \n",
       "156   Porsche  2995.0             NaN           Petrol      4.6       6.0   \n",
       "60     Toyota  2694.0             NaN   Petrol  Diesel      4.4     117.0   \n",
       "145    Jaguar  1997.0             NaN   Petrol  Diesel      4.0       1.0   \n",
       "141    Nissan  1498.0            14.0           Petrol      4.4      63.0   \n",
       "14     Maruti   998.0            22.0           Petrol      3.9     166.0   \n",
       "181   Bentley  5950.0            13.0           Petrol      4.8       4.0   \n",
       "176      Land  1999.0            18.0           Petrol      4.3      13.0   \n",
       "20      Honda  1497.0            17.0           Petrol      4.3    1761.0   \n",
       "139     Skoda  1984.0            15.0           Petrol      4.4      11.0   \n",
       "50    Hyundai   998.0            24.0   Petrol  Diesel      4.2     661.0   \n",
       "0      Maruti  1197.0            23.0           Petrol      4.0     177.0   \n",
       "113    Datsun  1198.0            19.0           Petrol      3.8     232.0   \n",
       "12     Maruti  1462.0            21.0           Petrol      4.3     967.0   \n",
       "\n",
       "     Base Model Price  Top Model Price                 Model  \n",
       "27           605000.0         771000.0            KUV100 NXT  \n",
       "2            598000.0         930000.0         Suzuki Baleno  \n",
       "160          575000.0              NaN                   812  \n",
       "11           495000.0         736000.0          Suzuki Ignis  \n",
       "123          899000.0        1048000.0         Royce Phantom  \n",
       "118         6090000.0              NaN                  XC60  \n",
       "78          7650000.0        8800000.0                    X5  \n",
       "156          131000.0         198000.0         Cayenne Coupe  \n",
       "60          1652000.0        2459000.0         Innova Crysta  \n",
       "145         6999000.0              NaN                F-Pace  \n",
       "141          949000.0        1464000.0                 Kicks  \n",
       "14           511000.0         591000.0      Suzuki Celerio X  \n",
       "181          321000.0         341000.0           Flying Spur  \n",
       "176         7559000.0        8799000.0       Rover Discovery  \n",
       "20           929000.0         999000.0   City 4th Generation  \n",
       "139         3199000.0        3499000.0            New Superb  \n",
       "50           692000.0        1176000.0                 Venue  \n",
       "0            573000.0         841000.0          Suzuki Swift  \n",
       "113          425000.0         699000.0               GO Plus  \n",
       "12           852000.0        1150000.0           Suzuki Ciaz  "
      ]
     },
     "execution_count": 922,
     "metadata": {},
     "output_type": "execute_result"
    }
   ],
   "source": [
    "cars.sample(20)"
   ]
  },
  {
   "cell_type": "code",
   "execution_count": 927,
   "id": "3629f757",
   "metadata": {},
   "outputs": [],
   "source": [
    "import matplotlib.pyplot as plt\n",
    "import seaborn as sns\n",
    "import plotly.express as px"
   ]
  },
  {
   "cell_type": "code",
   "execution_count": 923,
   "id": "e95fa9a7",
   "metadata": {},
   "outputs": [
    {
     "data": {
      "text/plain": [
       "Brand                object\n",
       "CC                  float64\n",
       "Milage in kmpl      float64\n",
       "Fuel Type            object\n",
       "Ratings             float64\n",
       "Rated By            float64\n",
       "Base Model Price    float64\n",
       "Top Model Price     float64\n",
       "Model                object\n",
       "dtype: object"
      ]
     },
     "execution_count": 923,
     "metadata": {},
     "output_type": "execute_result"
    }
   ],
   "source": [
    "cars.dtypes"
   ]
  },
  {
   "cell_type": "code",
   "execution_count": 925,
   "id": "64b1c5da",
   "metadata": {},
   "outputs": [
    {
     "data": {
      "text/plain": [
       "Brand                0\n",
       "CC                  10\n",
       "Milage in kmpl      49\n",
       "Fuel Type            5\n",
       "Ratings              8\n",
       "Rated By             8\n",
       "Base Model Price     3\n",
       "Top Model Price     39\n",
       "Model                0\n",
       "dtype: int64"
      ]
     },
     "execution_count": 925,
     "metadata": {},
     "output_type": "execute_result"
    }
   ],
   "source": [
    "cars.isnull().sum()"
   ]
  },
  {
   "cell_type": "markdown",
   "id": "db4d7224",
   "metadata": {},
   "source": [
    "# - `EDA plus Handling Missing values` "
   ]
  },
  {
   "cell_type": "markdown",
   "id": "cecdc3c8",
   "metadata": {},
   "source": [
    "# Q: `I want to buy a car, What is the best Deal??`"
   ]
  },
  {
   "cell_type": "markdown",
   "id": "f1459dcf",
   "metadata": {},
   "source": [
    "## `Univariate Analysis`"
   ]
  },
  {
   "cell_type": "markdown",
   "id": "7a2adcdd",
   "metadata": {},
   "source": [
    "## Categorical Columns"
   ]
  },
  {
   "cell_type": "markdown",
   "id": "7db3ddf2",
   "metadata": {},
   "source": [
    "## - Brand"
   ]
  },
  {
   "cell_type": "code",
   "execution_count": 926,
   "id": "5477b44a",
   "metadata": {},
   "outputs": [
    {
     "data": {
      "text/plain": [
       "Mercedes       17\n",
       "BMW            17\n",
       "Maruti         16\n",
       "Hyundai        11\n",
       "Mahindra       10\n",
       "Audi            9\n",
       "Tata            9\n",
       "Land            7\n",
       "Toyota          7\n",
       "Lexus           6\n",
       "Porsche         6\n",
       "Volvo           6\n",
       "Honda           5\n",
       "Maserati        5\n",
       "Ford            5\n",
       "Rolls           5\n",
       "Ferrari         5\n",
       "Jaguar          5\n",
       "Renault         4\n",
       "Volkswagen      4\n",
       "Kia             3\n",
       "Aston           3\n",
       "Datsun          3\n",
       "Jeep            3\n",
       "Lamborghini     3\n",
       "Nissan          3\n",
       "Bentley         3\n",
       "MINI            3\n",
       "Skoda           3\n",
       "ISUZU           2\n",
       "Citroen         1\n",
       "Name: Brand, dtype: int64"
      ]
     },
     "execution_count": 926,
     "metadata": {},
     "output_type": "execute_result"
    }
   ],
   "source": [
    "cars['Brand'].value_counts()"
   ]
  },
  {
   "cell_type": "code",
   "execution_count": 955,
   "id": "02af1082",
   "metadata": {},
   "outputs": [
    {
     "data": {
      "text/plain": [
       "<AxesSubplot:>"
      ]
     },
     "execution_count": 955,
     "metadata": {},
     "output_type": "execute_result"
    },
    {
     "data": {
      "image/png": "[encoded data removed]",
      "text/plain": [
       "<Figure size 720x576 with 1 Axes>"
      ]
     },
     "metadata": {
      "needs_background": "light"
     },
     "output_type": "display_data"
    }
   ],
   "source": [
    "plt.figure(figsize=(10,8))\n",
    "cars['Brand'].value_counts().plot.bar()"
   ]
  },
  {
   "cell_type": "markdown",
   "id": "28840992",
   "metadata": {},
   "source": [
    "## - Fuel Type"
   ]
  },
  {
   "cell_type": "code",
   "execution_count": 946,
   "id": "6ecb0439",
   "metadata": {},
   "outputs": [
    {
     "data": {
      "text/plain": [
       " Petrol                 94\n",
       " Petrol  Diesel         54\n",
       " Diesel                 23\n",
       " Petrol  CNG             9\n",
       " Electric                6\n",
       " Petrol  Diesel  CNG     2\n",
       " Petrol                  1\n",
       "Name: Fuel Type, dtype: int64"
      ]
     },
     "execution_count": 946,
     "metadata": {},
     "output_type": "execute_result"
    }
   ],
   "source": [
    "cars['Fuel Type'].value_counts()"
   ]
  },
  {
   "cell_type": "code",
   "execution_count": 939,
   "id": "00f8a8a3",
   "metadata": {},
   "outputs": [
    {
     "data": {
      "text/html": [
       "<div>\n",
       "<style scoped>\n",
       "    .dataframe tbody tr th:only-of-type {\n",
       "        vertical-align: middle;\n",
       "    }\n",
       "\n",
       "    .dataframe tbody tr th {\n",
       "        vertical-align: top;\n",
       "    }\n",
       "\n",
       "    .dataframe thead th {\n",
       "        text-align: right;\n",
       "    }\n",
       "</style>\n",
       "<table border=\"1\" class=\"dataframe\">\n",
       "  <thead>\n",
       "    <tr style=\"text-align: right;\">\n",
       "      <th></th>\n",
       "      <th>Brand</th>\n",
       "      <th>CC</th>\n",
       "      <th>Milage in kmpl</th>\n",
       "      <th>Fuel Type</th>\n",
       "      <th>Ratings</th>\n",
       "      <th>Rated By</th>\n",
       "      <th>Base Model Price</th>\n",
       "      <th>Top Model Price</th>\n",
       "      <th>Model</th>\n",
       "    </tr>\n",
       "  </thead>\n",
       "  <tbody>\n",
       "    <tr>\n",
       "      <th>40</th>\n",
       "      <td>Tata</td>\n",
       "      <td>NaN</td>\n",
       "      <td>NaN</td>\n",
       "      <td>NaN</td>\n",
       "      <td>4.3</td>\n",
       "      <td>12.0</td>\n",
       "      <td>958000.0</td>\n",
       "      <td>990000.0</td>\n",
       "      <td>Tigor EV</td>\n",
       "    </tr>\n",
       "    <tr>\n",
       "      <th>56</th>\n",
       "      <td>Hyundai</td>\n",
       "      <td>NaN</td>\n",
       "      <td>NaN</td>\n",
       "      <td>NaN</td>\n",
       "      <td>4.3</td>\n",
       "      <td>27.0</td>\n",
       "      <td>2377000.0</td>\n",
       "      <td>2396000.0</td>\n",
       "      <td>Kona Electric</td>\n",
       "    </tr>\n",
       "    <tr>\n",
       "      <th>106</th>\n",
       "      <td>Mercedes</td>\n",
       "      <td>NaN</td>\n",
       "      <td>NaN</td>\n",
       "      <td>NaN</td>\n",
       "      <td>NaN</td>\n",
       "      <td>NaN</td>\n",
       "      <td>NaN</td>\n",
       "      <td>NaN</td>\n",
       "      <td>E-Class All-Terrain</td>\n",
       "    </tr>\n",
       "    <tr>\n",
       "      <th>119</th>\n",
       "      <td>Volvo</td>\n",
       "      <td>NaN</td>\n",
       "      <td>NaN</td>\n",
       "      <td>NaN</td>\n",
       "      <td>NaN</td>\n",
       "      <td>NaN</td>\n",
       "      <td>NaN</td>\n",
       "      <td>NaN</td>\n",
       "      <td>V90 Cross Country</td>\n",
       "    </tr>\n",
       "    <tr>\n",
       "      <th>134</th>\n",
       "      <td>Audi</td>\n",
       "      <td>NaN</td>\n",
       "      <td>NaN</td>\n",
       "      <td>NaN</td>\n",
       "      <td>NaN</td>\n",
       "      <td>NaN</td>\n",
       "      <td>NaN</td>\n",
       "      <td>NaN</td>\n",
       "      <td>GTI</td>\n",
       "    </tr>\n",
       "  </tbody>\n",
       "</table>\n",
       "</div>"
      ],
      "text/plain": [
       "        Brand  CC  Milage in kmpl Fuel Type  Ratings  Rated By  \\\n",
       "40       Tata NaN             NaN       NaN      4.3      12.0   \n",
       "56    Hyundai NaN             NaN       NaN      4.3      27.0   \n",
       "106  Mercedes NaN             NaN       NaN      NaN       NaN   \n",
       "119     Volvo NaN             NaN       NaN      NaN       NaN   \n",
       "134      Audi NaN             NaN       NaN      NaN       NaN   \n",
       "\n",
       "     Base Model Price  Top Model Price                 Model  \n",
       "40           958000.0         990000.0              Tigor EV  \n",
       "56          2377000.0        2396000.0         Kona Electric  \n",
       "106               NaN              NaN   E-Class All-Terrain  \n",
       "119               NaN              NaN     V90 Cross Country  \n",
       "134               NaN              NaN                   GTI  "
      ]
     },
     "execution_count": 939,
     "metadata": {},
     "output_type": "execute_result"
    }
   ],
   "source": [
    "cars[cars['Fuel Type'].isnull()]"
   ]
  },
  {
   "cell_type": "markdown",
   "id": "5ef55291",
   "metadata": {},
   "source": [
    "## Checked the internet to replace missing values"
   ]
  },
  {
   "cell_type": "code",
   "execution_count": 944,
   "id": "944b4b70",
   "metadata": {},
   "outputs": [],
   "source": [
    "cars.loc[40,'Fuel Type']=' Electric'\n",
    "cars.loc[56,'Fuel Type']=' Electric'\n",
    "cars.loc[106,'Fuel Type']=' Diesel'\n",
    "cars.loc[119,'Fuel Type']=' Diesel'\n",
    "cars.loc[134,'Fuel Type']=' Diesel'"
   ]
  },
  {
   "cell_type": "code",
   "execution_count": 945,
   "id": "ea2c2e97",
   "metadata": {},
   "outputs": [
    {
     "data": {
      "text/plain": [
       "Brand                0\n",
       "CC                  10\n",
       "Milage in kmpl      49\n",
       "Fuel Type            0\n",
       "Ratings              8\n",
       "Rated By             8\n",
       "Base Model Price     3\n",
       "Top Model Price     39\n",
       "Model                0\n",
       "dtype: int64"
      ]
     },
     "execution_count": 945,
     "metadata": {},
     "output_type": "execute_result"
    }
   ],
   "source": [
    "cars.isnull().sum()"
   ]
  },
  {
   "cell_type": "markdown",
   "id": "decf2ce9",
   "metadata": {},
   "source": [
    "## Numerical Columns"
   ]
  },
  {
   "cell_type": "markdown",
   "id": "49de740b",
   "metadata": {},
   "source": [
    "## - CC"
   ]
  },
  {
   "cell_type": "code",
   "execution_count": 954,
   "id": "25dcf01f",
   "metadata": {},
   "outputs": [
    {
     "data": {
      "text/plain": [
       "<AxesSubplot:xlabel='CC', ylabel='Count'>"
      ]
     },
     "execution_count": 954,
     "metadata": {},
     "output_type": "execute_result"
    },
    {
     "data": {
      "image/png": "[encoded data removed]",
      "text/plain": [
       "<Figure size 720x576 with 1 Axes>"
      ]
     },
     "metadata": {
      "needs_background": "light"
     },
     "output_type": "display_data"
    }
   ],
   "source": [
    "plt.figure(figsize=(10,8))\n",
    "sns.histplot(cars['CC'])"
   ]
  },
  {
   "cell_type": "code",
   "execution_count": 958,
   "id": "8efc3ba3",
   "metadata": {},
   "outputs": [
    {
     "data": {
      "application/vnd.plotly.v1+json": {
       "config": {
        "plotlyServerURL": "https://plot.ly"
       },
       "data": [
        {
         "alignmentgroup": "True",
         "hovertemplate": "variable=%{x}<br>value=%{y}<extra></extra>",
         "legendgroup": "",
         "marker": {
          "color": "#636efa"
         },
         "name": "",
         "notched": false,
         "offsetgroup": "",
         "orientation": "v",
         "showlegend": false,
         "type": "box",
         "x": [
          "CC",
          "CC",
          "CC",
          "CC",
          "CC",
          "CC",
          "CC",
          "CC",
          "CC",
          "CC",
          "CC",
          "CC",
          "CC",
          "CC",
          "CC",
          "CC",
          "CC",
          "CC",
          "CC",
          "CC",
          "CC",
          "CC",
          "CC",
          "CC",
          "CC",
          "CC",
          "CC",
          "CC",
          "CC",
          "CC",
          "CC",
          "CC",
          "CC",
          "CC",
          "CC",
          "CC",
          "CC",
          "CC",
          "CC",
          "CC",
          "CC",
          "CC",
          "CC",
          "CC",
          "CC",
          "CC",
          "CC",
          "CC",
          "CC",
          "CC",
          "CC",
          "CC",
          "CC",
          "CC",
          "CC",
          "CC",
          "CC",
          "CC",
          "CC",
          "CC",
          "CC",
          "CC",
          "CC",
          "CC",
          "CC",
          "CC",
          "CC",
          "CC",
          "CC",
          "CC",
          "CC",
          "CC",
          "CC",
          "CC",
          "CC",
          "CC",
          "CC",
          "CC",
          "CC",
          "CC",
          "CC",
          "CC",
          "CC",
          "CC",
          "CC",
          "CC",
          "CC",
          "CC",
          "CC",
          "CC",
          "CC",
          "CC",
          "CC",
          "CC",
          "CC",
          "CC",
          "CC",
          "CC",
          "CC",
          "CC",
          "CC",
          "CC",
          "CC",
          "CC",
          "CC",
          "CC",
          "CC",
          "CC",
          "CC",
          "CC",
          "CC",
          "CC",
          "CC",
          "CC",
          "CC",
          "CC",
          "CC",
          "CC",
          "CC",
          "CC",
          "CC",
          "CC",
          "CC",
          "CC",
          "CC",
          "CC",
          "CC",
          "CC",
          "CC",
          "CC",
          "CC",
          "CC",
          "CC",
          "CC",
          "CC",
          "CC",
          "CC",
          "CC",
          "CC",
          "CC",
          "CC",
          "CC",
          "CC",
          "CC",
          "CC",
          "CC",
          "CC",
          "CC",
          "CC",
          "CC",
          "CC",
          "CC",
          "CC",
          "CC",
          "CC",
          "CC",
          "CC",
          "CC",
          "CC",
          "CC",
          "CC",
          "CC",
          "CC",
          "CC",
          "CC",
          "CC",
          "CC",
          "CC",
          "CC",
          "CC",
          "CC",
          "CC",
          "CC",
          "CC",
          "CC",
          "CC",
          "CC",
          "CC",
          "CC",
          "CC",
          "CC",
          "CC",
          "CC",
          "CC",
          "CC",
          "CC",
          "CC",
          "CC",
          "CC"
         ],
         "x0": " ",
         "xaxis": "x",
         "y": [
          1197,
          1462,
          1197,
          1197,
          1462,
          998,
          796,
          998,
          1462,
          1462,
          998,
          1197,
          1462,
          1196,
          998,
          1197,
          1498,
          1199,
          1199,
          1199,
          1497,
          1997,
          2179,
          1498,
          1197,
          2179,
          1497,
          1198,
          2157,
          null,
          2523,
          1368,
          1998,
          1956,
          1199,
          1956,
          1199,
          1199,
          1199,
          2956,
          null,
          1956,
          null,
          1496,
          1996,
          1499,
          1194,
          1194,
          1497,
          1197,
          998,
          1497,
          1197,
          1086,
          1493,
          1999,
          null,
          1197,
          1186,
          2694,
          2694,
          2487,
          1496,
          2494,
          1197,
          1462,
          1497,
          1197,
          2199,
          999,
          999,
          1498,
          1984,
          799,
          999,
          999,
          1498,
          1998,
          2993,
          1998,
          2993,
          2998,
          1998,
          1998,
          2998,
          1998,
          1995,
          2993,
          1998,
          2998,
          2979,
          2993,
          4395,
          1998,
          1950,
          2925,
          2925,
          1950,
          2143,
          1991,
          null,
          2999,
          1950,
          2925,
          2996,
          3982,
          null,
          1998,
          3982,
          3998,
          1991,
          799,
          1198,
          1198,
          1969,
          1969,
          1969,
          1969,
          1969,
          null,
          3996,
          6498,
          5204,
          6749,
          6750,
          6592,
          6750,
          6598,
          1984,
          1998,
          2995,
          1984,
          2995,
          3996,
          null,
          3998,
          2994,
          999,
          1984,
          1984,
          999,
          1498,
          3798,
          1997,
          1997,
          1997,
          null,
          1997,
          1998,
          1998,
          1998,
          2981,
          1984,
          3996,
          3995,
          2995,
          2995,
          3855,
          3855,
          3990,
          6496,
          3902,
          2979,
          3799,
          2979,
          4691,
          4691,
          1898,
          1898,
          3982,
          3998,
          3998,
          2993,
          1997,
          1997,
          1997,
          1999,
          1999,
          1997,
          3956,
          null,
          5950,
          3456,
          2487,
          3456,
          5663,
          2499,
          3456,
          1997
         ],
         "y0": " ",
         "yaxis": "y"
        }
       ],
       "layout": {
        "boxmode": "group",
        "legend": {
         "tracegroupgap": 0
        },
        "margin": {
         "t": 60
        },
        "template": {
         "data": {
          "bar": [
           {
            "error_x": {
             "color": "#2a3f5f"
            },
            "error_y": {
             "color": "#2a3f5f"
            },
            "marker": {
             "line": {
              "color": "#E5ECF6",
              "width": 0.5
             }
            },
            "type": "bar"
           }
          ],
          "barpolar": [
           {
            "marker": {
             "line": {
              "color": "#E5ECF6",
              "width": 0.5
             }
            },
            "type": "barpolar"
           }
          ],
          "carpet": [
           {
            "aaxis": {
             "endlinecolor": "#2a3f5f",
             "gridcolor": "white",
             "linecolor": "white",
             "minorgridcolor": "white",
             "startlinecolor": "#2a3f5f"
            },
            "baxis": {
             "endlinecolor": "#2a3f5f",
             "gridcolor": "white",
             "linecolor": "white",
             "minorgridcolor": "white",
             "startlinecolor": "#2a3f5f"
            },
            "type": "carpet"
           }
          ],
          "choropleth": [
           {
            "colorbar": {
             "outlinewidth": 0,
             "ticks": ""
            },
            "type": "choropleth"
           }
          ],
          "contour": [
           {
            "colorbar": {
             "outlinewidth": 0,
             "ticks": ""
            },
            "colorscale": [
             [
              0,
              "#0d0887"
             ],
             [
              0.1111111111111111,
              "#46039f"
             ],
             [
              0.2222222222222222,
              "#7201a8"
             ],
             [
              0.3333333333333333,
              "#9c179e"
             ],
             [
              0.4444444444444444,
              "#bd3786"
             ],
             [
              0.5555555555555556,
              "#d8576b"
             ],
             [
              0.6666666666666666,
              "#ed7953"
             ],
             [
              0.7777777777777778,
              "#fb9f3a"
             ],
             [
              0.8888888888888888,
              "#fdca26"
             ],
             [
              1,
              "#f0f921"
             ]
            ],
            "type": "contour"
           }
          ],
          "contourcarpet": [
           {
            "colorbar": {
             "outlinewidth": 0,
             "ticks": ""
            },
            "type": "contourcarpet"
           }
          ],
          "heatmap": [
           {
            "colorbar": {
             "outlinewidth": 0,
             "ticks": ""
            },
            "colorscale": [
             [
              0,
              "#0d0887"
             ],
             [
              0.1111111111111111,
              "#46039f"
             ],
             [
              0.2222222222222222,
              "#7201a8"
             ],
             [
              0.3333333333333333,
              "#9c179e"
             ],
             [
              0.4444444444444444,
              "#bd3786"
             ],
             [
              0.5555555555555556,
              "#d8576b"
             ],
             [
              0.6666666666666666,
              "#ed7953"
             ],
             [
              0.7777777777777778,
              "#fb9f3a"
             ],
             [
              0.8888888888888888,
              "#fdca26"
             ],
             [
              1,
              "#f0f921"
             ]
            ],
            "type": "heatmap"
           }
          ],
          "heatmapgl": [
           {
            "colorbar": {
             "outlinewidth": 0,
             "ticks": ""
            },
            "colorscale": [
             [
              0,
              "#0d0887"
             ],
             [
              0.1111111111111111,
              "#46039f"
             ],
             [
              0.2222222222222222,
              "#7201a8"
             ],
             [
              0.3333333333333333,
              "#9c179e"
             ],
             [
              0.4444444444444444,
              "#bd3786"
             ],
             [
              0.5555555555555556,
              "#d8576b"
             ],
             [
              0.6666666666666666,
              "#ed7953"
             ],
             [
              0.7777777777777778,
              "#fb9f3a"
             ],
             [
              0.8888888888888888,
              "#fdca26"
             ],
             [
              1,
              "#f0f921"
             ]
            ],
            "type": "heatmapgl"
           }
          ],
          "histogram": [
           {
            "marker": {
             "colorbar": {
              "outlinewidth": 0,
              "ticks": ""
             }
            },
            "type": "histogram"
           }
          ],
          "histogram2d": [
           {
            "colorbar": {
             "outlinewidth": 0,
             "ticks": ""
            },
            "colorscale": [
             [
              0,
              "#0d0887"
             ],
             [
              0.1111111111111111,
              "#46039f"
             ],
             [
              0.2222222222222222,
              "#7201a8"
             ],
             [
              0.3333333333333333,
              "#9c179e"
             ],
             [
              0.4444444444444444,
              "#bd3786"
             ],
             [
              0.5555555555555556,
              "#d8576b"
             ],
             [
              0.6666666666666666,
              "#ed7953"
             ],
             [
              0.7777777777777778,
              "#fb9f3a"
             ],
             [
              0.8888888888888888,
              "#fdca26"
             ],
             [
              1,
              "#f0f921"
             ]
            ],
            "type": "histogram2d"
           }
          ],
          "histogram2dcontour": [
           {
            "colorbar": {
             "outlinewidth": 0,
             "ticks": ""
            },
            "colorscale": [
             [
              0,
              "#0d0887"
             ],
             [
              0.1111111111111111,
              "#46039f"
             ],
             [
              0.2222222222222222,
              "#7201a8"
             ],
             [
              0.3333333333333333,
              "#9c179e"
             ],
             [
              0.4444444444444444,
              "#bd3786"
             ],
             [
              0.5555555555555556,
              "#d8576b"
             ],
             [
              0.6666666666666666,
              "#ed7953"
             ],
             [
              0.7777777777777778,
              "#fb9f3a"
             ],
             [
              0.8888888888888888,
              "#fdca26"
             ],
             [
              1,
              "#f0f921"
             ]
            ],
            "type": "histogram2dcontour"
           }
          ],
          "mesh3d": [
           {
            "colorbar": {
             "outlinewidth": 0,
             "ticks": ""
            },
            "type": "mesh3d"
           }
          ],
          "parcoords": [
           {
            "line": {
             "colorbar": {
              "outlinewidth": 0,
              "ticks": ""
             }
            },
            "type": "parcoords"
           }
          ],
          "pie": [
           {
            "automargin": true,
            "type": "pie"
           }
          ],
          "scatter": [
           {
            "marker": {
             "colorbar": {
              "outlinewidth": 0,
              "ticks": ""
             }
            },
            "type": "scatter"
           }
          ],
          "scatter3d": [
           {
            "line": {
             "colorbar": {
              "outlinewidth": 0,
              "ticks": ""
             }
            },
            "marker": {
             "colorbar": {
              "outlinewidth": 0,
              "ticks": ""
             }
            },
            "type": "scatter3d"
           }
          ],
          "scattercarpet": [
           {
            "marker": {
             "colorbar": {
              "outlinewidth": 0,
              "ticks": ""
             }
            },
            "type": "scattercarpet"
           }
          ],
          "scattergeo": [
           {
            "marker": {
             "colorbar": {
              "outlinewidth": 0,
              "ticks": ""
             }
            },
            "type": "scattergeo"
           }
          ],
          "scattergl": [
           {
            "marker": {
             "colorbar": {
              "outlinewidth": 0,
              "ticks": ""
             }
            },
            "type": "scattergl"
           }
          ],
          "scattermapbox": [
           {
            "marker": {
             "colorbar": {
              "outlinewidth": 0,
              "ticks": ""
             }
            },
            "type": "scattermapbox"
           }
          ],
          "scatterpolar": [
           {
            "marker": {
             "colorbar": {
              "outlinewidth": 0,
              "ticks": ""
             }
            },
            "type": "scatterpolar"
           }
          ],
          "scatterpolargl": [
           {
            "marker": {
             "colorbar": {
              "outlinewidth": 0,
              "ticks": ""
             }
            },
            "type": "scatterpolargl"
           }
          ],
          "scatterternary": [
           {
            "marker": {
             "colorbar": {
              "outlinewidth": 0,
              "ticks": ""
             }
            },
            "type": "scatterternary"
           }
          ],
          "surface": [
           {
            "colorbar": {
             "outlinewidth": 0,
             "ticks": ""
            },
            "colorscale": [
             [
              0,
              "#0d0887"
             ],
             [
              0.1111111111111111,
              "#46039f"
             ],
             [
              0.2222222222222222,
              "#7201a8"
             ],
             [
              0.3333333333333333,
              "#9c179e"
             ],
             [
              0.4444444444444444,
              "#bd3786"
             ],
             [
              0.5555555555555556,
              "#d8576b"
             ],
             [
              0.6666666666666666,
              "#ed7953"
             ],
             [
              0.7777777777777778,
              "#fb9f3a"
             ],
             [
              0.8888888888888888,
              "#fdca26"
             ],
             [
              1,
              "#f0f921"
             ]
            ],
            "type": "surface"
           }
          ],
          "table": [
           {
            "cells": {
             "fill": {
              "color": "#EBF0F8"
             },
             "line": {
              "color": "white"
             }
            },
            "header": {
             "fill": {
              "color": "#C8D4E3"
             },
             "line": {
              "color": "white"
             }
            },
            "type": "table"
           }
          ]
         },
         "layout": {
          "annotationdefaults": {
           "arrowcolor": "#2a3f5f",
           "arrowhead": 0,
           "arrowwidth": 1
          },
          "autotypenumbers": "strict",
          "coloraxis": {
           "colorbar": {
            "outlinewidth": 0,
            "ticks": ""
           }
          },
          "colorscale": {
           "diverging": [
            [
             0,
             "#8e0152"
            ],
            [
             0.1,
             "#c51b7d"
            ],
            [
             0.2,
             "#de77ae"
            ],
            [
             0.3,
             "#f1b6da"
            ],
            [
             0.4,
             "#fde0ef"
            ],
            [
             0.5,
             "#f7f7f7"
            ],
            [
             0.6,
             "#e6f5d0"
            ],
            [
             0.7,
             "#b8e186"
            ],
            [
             0.8,
             "#7fbc41"
            ],
            [
             0.9,
             "#4d9221"
            ],
            [
             1,
             "#276419"
            ]
           ],
           "sequential": [
            [
             0,
             "#0d0887"
            ],
            [
             0.1111111111111111,
             "#46039f"
            ],
            [
             0.2222222222222222,
             "#7201a8"
            ],
            [
             0.3333333333333333,
             "#9c179e"
            ],
            [
             0.4444444444444444,
             "#bd3786"
            ],
            [
             0.5555555555555556,
             "#d8576b"
            ],
            [
             0.6666666666666666,
             "#ed7953"
            ],
            [
             0.7777777777777778,
             "#fb9f3a"
            ],
            [
             0.8888888888888888,
             "#fdca26"
            ],
            [
             1,
             "#f0f921"
            ]
           ],
           "sequentialminus": [
            [
             0,
             "#0d0887"
            ],
            [
             0.1111111111111111,
             "#46039f"
            ],
            [
             0.2222222222222222,
             "#7201a8"
            ],
            [
             0.3333333333333333,
             "#9c179e"
            ],
            [
             0.4444444444444444,
             "#bd3786"
            ],
            [
             0.5555555555555556,
             "#d8576b"
            ],
            [
             0.6666666666666666,
             "#ed7953"
            ],
            [
             0.7777777777777778,
             "#fb9f3a"
            ],
            [
             0.8888888888888888,
             "#fdca26"
            ],
            [
             1,
             "#f0f921"
            ]
           ]
          },
          "colorway": [
           "#636efa",
           "#EF553B",
           "#00cc96",
           "#ab63fa",
           "#FFA15A",
           "#19d3f3",
           "#FF6692",
           "#B6E880",
           "#FF97FF",
           "#FECB52"
          ],
          "font": {
           "color": "#2a3f5f"
          },
          "geo": {
           "bgcolor": "white",
           "lakecolor": "white",
           "landcolor": "#E5ECF6",
           "showlakes": true,
           "showland": true,
           "subunitcolor": "white"
          },
          "hoverlabel": {
           "align": "left"
          },
          "hovermode": "closest",
          "mapbox": {
           "style": "light"
          },
          "paper_bgcolor": "white",
          "plot_bgcolor": "#E5ECF6",
          "polar": {
           "angularaxis": {
            "gridcolor": "white",
            "linecolor": "white",
            "ticks": ""
           },
           "bgcolor": "#E5ECF6",
           "radialaxis": {
            "gridcolor": "white",
            "linecolor": "white",
            "ticks": ""
           }
          },
          "scene": {
           "xaxis": {
            "backgroundcolor": "#E5ECF6",
            "gridcolor": "white",
            "gridwidth": 2,
            "linecolor": "white",
            "showbackground": true,
            "ticks": "",
            "zerolinecolor": "white"
           },
           "yaxis": {
            "backgroundcolor": "#E5ECF6",
            "gridcolor": "white",
            "gridwidth": 2,
            "linecolor": "white",
            "showbackground": true,
            "ticks": "",
            "zerolinecolor": "white"
           },
           "zaxis": {
            "backgroundcolor": "#E5ECF6",
            "gridcolor": "white",
            "gridwidth": 2,
            "linecolor": "white",
            "showbackground": true,
            "ticks": "",
            "zerolinecolor": "white"
           }
          },
          "shapedefaults": {
           "line": {
            "color": "#2a3f5f"
           }
          },
          "ternary": {
           "aaxis": {
            "gridcolor": "white",
            "linecolor": "white",
            "ticks": ""
           },
           "baxis": {
            "gridcolor": "white",
            "linecolor": "white",
            "ticks": ""
           },
           "bgcolor": "#E5ECF6",
           "caxis": {
            "gridcolor": "white",
            "linecolor": "white",
            "ticks": ""
           }
          },
          "title": {
           "x": 0.05
          },
          "xaxis": {
           "automargin": true,
           "gridcolor": "white",
           "linecolor": "white",
           "ticks": "",
           "title": {
            "standoff": 15
           },
           "zerolinecolor": "white",
           "zerolinewidth": 2
          },
          "yaxis": {
           "automargin": true,
           "gridcolor": "white",
           "linecolor": "white",
           "ticks": "",
           "title": {
            "standoff": 15
           },
           "zerolinecolor": "white",
           "zerolinewidth": 2
          }
         }
        },
        "xaxis": {
         "anchor": "y",
         "domain": [
          0,
          1
         ],
         "title": {
          "text": "variable"
         }
        },
        "yaxis": {
         "anchor": "x",
         "domain": [
          0,
          1
         ],
         "title": {
          "text": "value"
         }
        }
       }
      },
      "text/html": [
       "<div>                            <div id=\"9ed78499-5397-48fa-b388-27a7d8dca8a2\" class=\"plotly-graph-div\" style=\"height:525px; width:100%;\"></div>            <script type=\"text/javascript\">                require([\"plotly\"], function(Plotly) {                    window.PLOTLYENV=window.PLOTLYENV || {};                                    if (document.getElementById(\"9ed78499-5397-48fa-b388-27a7d8dca8a2\")) {                    Plotly.newPlot(                        \"9ed78499-5397-48fa-b388-27a7d8dca8a2\",                        [{\"alignmentgroup\": \"True\", \"hovertemplate\": \"variable=%{x}<br>value=%{y}<extra></extra>\", \"legendgroup\": \"\", \"marker\": {\"color\": \"#636efa\"}, \"name\": \"\", \"notched\": false, \"offsetgroup\": \"\", \"orientation\": \"v\", \"showlegend\": false, \"type\": \"box\", \"x\": [\"CC\", \"CC\", \"CC\", \"CC\", \"CC\", \"CC\", \"CC\", \"CC\", \"CC\", \"CC\", \"CC\", \"CC\", \"CC\", \"CC\", \"CC\", \"CC\", \"CC\", \"CC\", \"CC\", \"CC\", \"CC\", \"CC\", \"CC\", \"CC\", \"CC\", \"CC\", \"CC\", \"CC\", \"CC\", \"CC\", \"CC\", \"CC\", \"CC\", \"CC\", \"CC\", \"CC\", \"CC\", \"CC\", \"CC\", \"CC\", \"CC\", \"CC\", \"CC\", \"CC\", \"CC\", \"CC\", \"CC\", \"CC\", \"CC\", \"CC\", \"CC\", \"CC\", \"CC\", \"CC\", \"CC\", \"CC\", \"CC\", \"CC\", \"CC\", \"CC\", \"CC\", \"CC\", \"CC\", \"CC\", \"CC\", \"CC\", \"CC\", \"CC\", \"CC\", \"CC\", \"CC\", \"CC\", \"CC\", \"CC\", \"CC\", \"CC\", \"CC\", \"CC\", \"CC\", \"CC\", \"CC\", \"CC\", \"CC\", \"CC\", \"CC\", \"CC\", \"CC\", \"CC\", \"CC\", \"CC\", \"CC\", \"CC\", \"CC\", \"CC\", \"CC\", \"CC\", \"CC\", \"CC\", \"CC\", \"CC\", \"CC\", \"CC\", \"CC\", \"CC\", \"CC\", \"CC\", \"CC\", \"CC\", \"CC\", \"CC\", \"CC\", \"CC\", \"CC\", \"CC\", \"CC\", \"CC\", \"CC\", \"CC\", \"CC\", \"CC\", \"CC\", \"CC\", \"CC\", \"CC\", \"CC\", \"CC\", \"CC\", \"CC\", \"CC\", \"CC\", \"CC\", \"CC\", \"CC\", \"CC\", \"CC\", \"CC\", \"CC\", \"CC\", \"CC\", \"CC\", \"CC\", \"CC\", \"CC\", \"CC\", \"CC\", \"CC\", \"CC\", \"CC\", \"CC\", \"CC\", \"CC\", \"CC\", \"CC\", \"CC\", \"CC\", \"CC\", \"CC\", \"CC\", \"CC\", \"CC\", \"CC\", \"CC\", \"CC\", \"CC\", \"CC\", \"CC\", \"CC\", \"CC\", \"CC\", \"CC\", \"CC\", \"CC\", \"CC\", \"CC\", \"CC\", \"CC\", \"CC\", \"CC\", \"CC\", \"CC\", \"CC\", \"CC\", \"CC\", \"CC\", \"CC\", \"CC\", \"CC\", \"CC\", \"CC\"], \"x0\": \" \", \"xaxis\": \"x\", \"y\": [1197.0, 1462.0, 1197.0, 1197.0, 1462.0, 998.0, 796.0, 998.0, 1462.0, 1462.0, 998.0, 1197.0, 1462.0, 1196.0, 998.0, 1197.0, 1498.0, 1199.0, 1199.0, 1199.0, 1497.0, 1997.0, 2179.0, 1498.0, 1197.0, 2179.0, 1497.0, 1198.0, 2157.0, null, 2523.0, 1368.0, 1998.0, 1956.0, 1199.0, 1956.0, 1199.0, 1199.0, 1199.0, 2956.0, null, 1956.0, null, 1496.0, 1996.0, 1499.0, 1194.0, 1194.0, 1497.0, 1197.0, 998.0, 1497.0, 1197.0, 1086.0, 1493.0, 1999.0, null, 1197.0, 1186.0, 2694.0, 2694.0, 2487.0, 1496.0, 2494.0, 1197.0, 1462.0, 1497.0, 1197.0, 2199.0, 999.0, 999.0, 1498.0, 1984.0, 799.0, 999.0, 999.0, 1498.0, 1998.0, 2993.0, 1998.0, 2993.0, 2998.0, 1998.0, 1998.0, 2998.0, 1998.0, 1995.0, 2993.0, 1998.0, 2998.0, 2979.0, 2993.0, 4395.0, 1998.0, 1950.0, 2925.0, 2925.0, 1950.0, 2143.0, 1991.0, null, 2999.0, 1950.0, 2925.0, 2996.0, 3982.0, null, 1998.0, 3982.0, 3998.0, 1991.0, 799.0, 1198.0, 1198.0, 1969.0, 1969.0, 1969.0, 1969.0, 1969.0, null, 3996.0, 6498.0, 5204.0, 6749.0, 6750.0, 6592.0, 6750.0, 6598.0, 1984.0, 1998.0, 2995.0, 1984.0, 2995.0, 3996.0, null, 3998.0, 2994.0, 999.0, 1984.0, 1984.0, 999.0, 1498.0, 3798.0, 1997.0, 1997.0, 1997.0, null, 1997.0, 1998.0, 1998.0, 1998.0, 2981.0, 1984.0, 3996.0, 3995.0, 2995.0, 2995.0, 3855.0, 3855.0, 3990.0, 6496.0, 3902.0, 2979.0, 3799.0, 2979.0, 4691.0, 4691.0, 1898.0, 1898.0, 3982.0, 3998.0, 3998.0, 2993.0, 1997.0, 1997.0, 1997.0, 1999.0, 1999.0, 1997.0, 3956.0, null, 5950.0, 3456.0, 2487.0, 3456.0, 5663.0, 2499.0, 3456.0, 1997.0], \"y0\": \" \", \"yaxis\": \"y\"}],                        {\"boxmode\": \"group\", \"legend\": {\"tracegroupgap\": 0}, \"margin\": {\"t\": 60}, \"template\": {\"data\": {\"bar\": [{\"error_x\": {\"color\": \"#2a3f5f\"}, \"error_y\": {\"color\": \"#2a3f5f\"}, \"marker\": {\"line\": {\"color\": \"#E5ECF6\", \"width\": 0.5}}, \"type\": \"bar\"}], \"barpolar\": [{\"marker\": {\"line\": {\"color\": \"#E5ECF6\", \"width\": 0.5}}, \"type\": \"barpolar\"}], \"carpet\": [{\"aaxis\": {\"endlinecolor\": \"#2a3f5f\", \"gridcolor\": \"white\", \"linecolor\": \"white\", \"minorgridcolor\": \"white\", \"startlinecolor\": \"#2a3f5f\"}, \"baxis\": {\"endlinecolor\": \"#2a3f5f\", \"gridcolor\": \"white\", \"linecolor\": \"white\", \"minorgridcolor\": \"white\", \"startlinecolor\": \"#2a3f5f\"}, \"type\": \"carpet\"}], \"choropleth\": [{\"colorbar\": {\"outlinewidth\": 0, \"ticks\": \"\"}, \"type\": \"choropleth\"}], \"contour\": [{\"colorbar\": {\"outlinewidth\": 0, \"ticks\": \"\"}, \"colorscale\": [[0.0, \"#0d0887\"], [0.1111111111111111, \"#46039f\"], [0.2222222222222222, \"#7201a8\"], [0.3333333333333333, \"#9c179e\"], [0.4444444444444444, \"#bd3786\"], [0.5555555555555556, \"#d8576b\"], [0.6666666666666666, \"#ed7953\"], [0.7777777777777778, \"#fb9f3a\"], [0.8888888888888888, \"#fdca26\"], [1.0, \"#f0f921\"]], \"type\": \"contour\"}], \"contourcarpet\": [{\"colorbar\": {\"outlinewidth\": 0, \"ticks\": \"\"}, \"type\": \"contourcarpet\"}], \"heatmap\": [{\"colorbar\": {\"outlinewidth\": 0, \"ticks\": \"\"}, \"colorscale\": [[0.0, \"#0d0887\"], [0.1111111111111111, \"#46039f\"], [0.2222222222222222, \"#7201a8\"], [0.3333333333333333, \"#9c179e\"], [0.4444444444444444, \"#bd3786\"], [0.5555555555555556, \"#d8576b\"], [0.6666666666666666, \"#ed7953\"], [0.7777777777777778, \"#fb9f3a\"], [0.8888888888888888, \"#fdca26\"], [1.0, \"#f0f921\"]], \"type\": \"heatmap\"}], \"heatmapgl\": [{\"colorbar\": {\"outlinewidth\": 0, \"ticks\": \"\"}, \"colorscale\": [[0.0, \"#0d0887\"], [0.1111111111111111, \"#46039f\"], [0.2222222222222222, \"#7201a8\"], [0.3333333333333333, \"#9c179e\"], [0.4444444444444444, \"#bd3786\"], [0.5555555555555556, \"#d8576b\"], [0.6666666666666666, \"#ed7953\"], [0.7777777777777778, \"#fb9f3a\"], [0.8888888888888888, \"#fdca26\"], [1.0, \"#f0f921\"]], \"type\": \"heatmapgl\"}], \"histogram\": [{\"marker\": {\"colorbar\": {\"outlinewidth\": 0, \"ticks\": \"\"}}, \"type\": \"histogram\"}], \"histogram2d\": [{\"colorbar\": {\"outlinewidth\": 0, \"ticks\": \"\"}, \"colorscale\": [[0.0, \"#0d0887\"], [0.1111111111111111, \"#46039f\"], [0.2222222222222222, \"#7201a8\"], [0.3333333333333333, \"#9c179e\"], [0.4444444444444444, \"#bd3786\"], [0.5555555555555556, \"#d8576b\"], [0.6666666666666666, \"#ed7953\"], [0.7777777777777778, \"#fb9f3a\"], [0.8888888888888888, \"#fdca26\"], [1.0, \"#f0f921\"]], \"type\": \"histogram2d\"}], \"histogram2dcontour\": [{\"colorbar\": {\"outlinewidth\": 0, \"ticks\": \"\"}, \"colorscale\": [[0.0, \"#0d0887\"], [0.1111111111111111, \"#46039f\"], [0.2222222222222222, \"#7201a8\"], [0.3333333333333333, \"#9c179e\"], [0.4444444444444444, \"#bd3786\"], [0.5555555555555556, \"#d8576b\"], [0.6666666666666666, \"#ed7953\"], [0.7777777777777778, \"#fb9f3a\"], [0.8888888888888888, \"#fdca26\"], [1.0, \"#f0f921\"]], \"type\": \"histogram2dcontour\"}], \"mesh3d\": [{\"colorbar\": {\"outlinewidth\": 0, \"ticks\": \"\"}, \"type\": \"mesh3d\"}], \"parcoords\": [{\"line\": {\"colorbar\": {\"outlinewidth\": 0, \"ticks\": \"\"}}, \"type\": \"parcoords\"}], \"pie\": [{\"automargin\": true, \"type\": \"pie\"}], \"scatter\": [{\"marker\": {\"colorbar\": {\"outlinewidth\": 0, \"ticks\": \"\"}}, \"type\": \"scatter\"}], \"scatter3d\": [{\"line\": {\"colorbar\": {\"outlinewidth\": 0, \"ticks\": \"\"}}, \"marker\": {\"colorbar\": {\"outlinewidth\": 0, \"ticks\": \"\"}}, \"type\": \"scatter3d\"}], \"scattercarpet\": [{\"marker\": {\"colorbar\": {\"outlinewidth\": 0, \"ticks\": \"\"}}, \"type\": \"scattercarpet\"}], \"scattergeo\": [{\"marker\": {\"colorbar\": {\"outlinewidth\": 0, \"ticks\": \"\"}}, \"type\": \"scattergeo\"}], \"scattergl\": [{\"marker\": {\"colorbar\": {\"outlinewidth\": 0, \"ticks\": \"\"}}, \"type\": \"scattergl\"}], \"scattermapbox\": [{\"marker\": {\"colorbar\": {\"outlinewidth\": 0, \"ticks\": \"\"}}, \"type\": \"scattermapbox\"}], \"scatterpolar\": [{\"marker\": {\"colorbar\": {\"outlinewidth\": 0, \"ticks\": \"\"}}, \"type\": \"scatterpolar\"}], \"scatterpolargl\": [{\"marker\": {\"colorbar\": {\"outlinewidth\": 0, \"ticks\": \"\"}}, \"type\": \"scatterpolargl\"}], \"scatterternary\": [{\"marker\": {\"colorbar\": {\"outlinewidth\": 0, \"ticks\": \"\"}}, \"type\": \"scatterternary\"}], \"surface\": [{\"colorbar\": {\"outlinewidth\": 0, \"ticks\": \"\"}, \"colorscale\": [[0.0, \"#0d0887\"], [0.1111111111111111, \"#46039f\"], [0.2222222222222222, \"#7201a8\"], [0.3333333333333333, \"#9c179e\"], [0.4444444444444444, \"#bd3786\"], [0.5555555555555556, \"#d8576b\"], [0.6666666666666666, \"#ed7953\"], [0.7777777777777778, \"#fb9f3a\"], [0.8888888888888888, \"#fdca26\"], [1.0, \"#f0f921\"]], \"type\": \"surface\"}], \"table\": [{\"cells\": {\"fill\": {\"color\": \"#EBF0F8\"}, \"line\": {\"color\": \"white\"}}, \"header\": {\"fill\": {\"color\": \"#C8D4E3\"}, \"line\": {\"color\": \"white\"}}, \"type\": \"table\"}]}, \"layout\": {\"annotationdefaults\": {\"arrowcolor\": \"#2a3f5f\", \"arrowhead\": 0, \"arrowwidth\": 1}, \"autotypenumbers\": \"strict\", \"coloraxis\": {\"colorbar\": {\"outlinewidth\": 0, \"ticks\": \"\"}}, \"colorscale\": {\"diverging\": [[0, \"#8e0152\"], [0.1, \"#c51b7d\"], [0.2, \"#de77ae\"], [0.3, \"#f1b6da\"], [0.4, \"#fde0ef\"], [0.5, \"#f7f7f7\"], [0.6, \"#e6f5d0\"], [0.7, \"#b8e186\"], [0.8, \"#7fbc41\"], [0.9, \"#4d9221\"], [1, \"#276419\"]], \"sequential\": [[0.0, \"#0d0887\"], [0.1111111111111111, \"#46039f\"], [0.2222222222222222, \"#7201a8\"], [0.3333333333333333, \"#9c179e\"], [0.4444444444444444, \"#bd3786\"], [0.5555555555555556, \"#d8576b\"], [0.6666666666666666, \"#ed7953\"], [0.7777777777777778, \"#fb9f3a\"], [0.8888888888888888, \"#fdca26\"], [1.0, \"#f0f921\"]], \"sequentialminus\": [[0.0, \"#0d0887\"], [0.1111111111111111, \"#46039f\"], [0.2222222222222222, \"#7201a8\"], [0.3333333333333333, \"#9c179e\"], [0.4444444444444444, \"#bd3786\"], [0.5555555555555556, \"#d8576b\"], [0.6666666666666666, \"#ed7953\"], [0.7777777777777778, \"#fb9f3a\"], [0.8888888888888888, \"#fdca26\"], [1.0, \"#f0f921\"]]}, \"colorway\": [\"#636efa\", \"#EF553B\", \"#00cc96\", \"#ab63fa\", \"#FFA15A\", \"#19d3f3\", \"#FF6692\", \"#B6E880\", \"#FF97FF\", \"#FECB52\"], \"font\": {\"color\": \"#2a3f5f\"}, \"geo\": {\"bgcolor\": \"white\", \"lakecolor\": \"white\", \"landcolor\": \"#E5ECF6\", \"showlakes\": true, \"showland\": true, \"subunitcolor\": \"white\"}, \"hoverlabel\": {\"align\": \"left\"}, \"hovermode\": \"closest\", \"mapbox\": {\"style\": \"light\"}, \"paper_bgcolor\": \"white\", \"plot_bgcolor\": \"#E5ECF6\", \"polar\": {\"angularaxis\": {\"gridcolor\": \"white\", \"linecolor\": \"white\", \"ticks\": \"\"}, \"bgcolor\": \"#E5ECF6\", \"radialaxis\": {\"gridcolor\": \"white\", \"linecolor\": \"white\", \"ticks\": \"\"}}, \"scene\": {\"xaxis\": {\"backgroundcolor\": \"#E5ECF6\", \"gridcolor\": \"white\", \"gridwidth\": 2, \"linecolor\": \"white\", \"showbackground\": true, \"ticks\": \"\", \"zerolinecolor\": \"white\"}, \"yaxis\": {\"backgroundcolor\": \"#E5ECF6\", \"gridcolor\": \"white\", \"gridwidth\": 2, \"linecolor\": \"white\", \"showbackground\": true, \"ticks\": \"\", \"zerolinecolor\": \"white\"}, \"zaxis\": {\"backgroundcolor\": \"#E5ECF6\", \"gridcolor\": \"white\", \"gridwidth\": 2, \"linecolor\": \"white\", \"showbackground\": true, \"ticks\": \"\", \"zerolinecolor\": \"white\"}}, \"shapedefaults\": {\"line\": {\"color\": \"#2a3f5f\"}}, \"ternary\": {\"aaxis\": {\"gridcolor\": \"white\", \"linecolor\": \"white\", \"ticks\": \"\"}, \"baxis\": {\"gridcolor\": \"white\", \"linecolor\": \"white\", \"ticks\": \"\"}, \"bgcolor\": \"#E5ECF6\", \"caxis\": {\"gridcolor\": \"white\", \"linecolor\": \"white\", \"ticks\": \"\"}}, \"title\": {\"x\": 0.05}, \"xaxis\": {\"automargin\": true, \"gridcolor\": \"white\", \"linecolor\": \"white\", \"ticks\": \"\", \"title\": {\"standoff\": 15}, \"zerolinecolor\": \"white\", \"zerolinewidth\": 2}, \"yaxis\": {\"automargin\": true, \"gridcolor\": \"white\", \"linecolor\": \"white\", \"ticks\": \"\", \"title\": {\"standoff\": 15}, \"zerolinecolor\": \"white\", \"zerolinewidth\": 2}}}, \"xaxis\": {\"anchor\": \"y\", \"domain\": [0.0, 1.0], \"title\": {\"text\": \"variable\"}}, \"yaxis\": {\"anchor\": \"x\", \"domain\": [0.0, 1.0], \"title\": {\"text\": \"value\"}}},                        {\"responsive\": true}                    ).then(function(){\n",
       "                            \n",
       "var gd = document.getElementById('9ed78499-5397-48fa-b388-27a7d8dca8a2');\n",
       "var x = new MutationObserver(function (mutations, observer) {{\n",
       "        var display = window.getComputedStyle(gd).display;\n",
       "        if (!display || display === 'none') {{\n",
       "            console.log([gd, 'removed!']);\n",
       "            Plotly.purge(gd);\n",
       "            observer.disconnect();\n",
       "        }}\n",
       "}});\n",
       "\n",
       "// Listen for the removal of the full notebook cells\n",
       "var notebookContainer = gd.closest('#notebook-container');\n",
       "if (notebookContainer) {{\n",
       "    x.observe(notebookContainer, {childList: true});\n",
       "}}\n",
       "\n",
       "// Listen for the clearing of the current output cell\n",
       "var outputEl = gd.closest('.output');\n",
       "if (outputEl) {{\n",
       "    x.observe(outputEl, {childList: true});\n",
       "}}\n",
       "\n",
       "                        })                };                });            </script>        </div>"
      ]
     },
     "metadata": {},
     "output_type": "display_data"
    }
   ],
   "source": [
    "px.box(cars['CC'])"
   ]
  },
  {
   "cell_type": "markdown",
   "id": "daca2f76",
   "metadata": {},
   "source": [
    "## 50% of the cars are between 796 to 1997 CC\n",
    "## 75% of the cars are between 796 to 2993 CC"
   ]
  },
  {
   "cell_type": "markdown",
   "id": "ff63cc5a",
   "metadata": {},
   "source": [
    "## - Milage in kmpl"
   ]
  },
  {
   "cell_type": "code",
   "execution_count": 959,
   "id": "72c3db36",
   "metadata": {},
   "outputs": [
    {
     "data": {
      "text/plain": [
       "<AxesSubplot:xlabel='Milage in kmpl', ylabel='Count'>"
      ]
     },
     "execution_count": 959,
     "metadata": {},
     "output_type": "execute_result"
    },
    {
     "data": {
      "image/png": "[encoded data removed]",
      "text/plain": [
       "<Figure size 720x576 with 1 Axes>"
      ]
     },
     "metadata": {
      "needs_background": "light"
     },
     "output_type": "display_data"
    }
   ],
   "source": [
    "plt.figure(figsize=(10,8))\n",
    "sns.histplot(cars['Milage in kmpl'])"
   ]
  },
  {
   "cell_type": "code",
   "execution_count": 960,
   "id": "e4c93480",
   "metadata": {},
   "outputs": [
    {
     "data": {
      "application/vnd.plotly.v1+json": {
       "config": {
        "plotlyServerURL": "https://plot.ly"
       },
       "data": [
        {
         "alignmentgroup": "True",
         "hovertemplate": "variable=%{x}<br>value=%{y}<extra></extra>",
         "legendgroup": "",
         "marker": {
          "color": "#636efa"
         },
         "name": "",
         "notched": false,
         "offsetgroup": "",
         "orientation": "v",
         "showlegend": false,
         "type": "box",
         "x": [
          "Milage in kmpl",
          "Milage in kmpl",
          "Milage in kmpl",
          "Milage in kmpl",
          "Milage in kmpl",
          "Milage in kmpl",
          "Milage in kmpl",
          "Milage in kmpl",
          "Milage in kmpl",
          "Milage in kmpl",
          "Milage in kmpl",
          "Milage in kmpl",
          "Milage in kmpl",
          "Milage in kmpl",
          "Milage in kmpl",
          "Milage in kmpl",
          "Milage in kmpl",
          "Milage in kmpl",
          "Milage in kmpl",
          "Milage in kmpl",
          "Milage in kmpl",
          "Milage in kmpl",
          "Milage in kmpl",
          "Milage in kmpl",
          "Milage in kmpl",
          "Milage in kmpl",
          "Milage in kmpl",
          "Milage in kmpl",
          "Milage in kmpl",
          "Milage in kmpl",
          "Milage in kmpl",
          "Milage in kmpl",
          "Milage in kmpl",
          "Milage in kmpl",
          "Milage in kmpl",
          "Milage in kmpl",
          "Milage in kmpl",
          "Milage in kmpl",
          "Milage in kmpl",
          "Milage in kmpl",
          "Milage in kmpl",
          "Milage in kmpl",
          "Milage in kmpl",
          "Milage in kmpl",
          "Milage in kmpl",
          "Milage in kmpl",
          "Milage in kmpl",
          "Milage in kmpl",
          "Milage in kmpl",
          "Milage in kmpl",
          "Milage in kmpl",
          "Milage in kmpl",
          "Milage in kmpl",
          "Milage in kmpl",
          "Milage in kmpl",
          "Milage in kmpl",
          "Milage in kmpl",
          "Milage in kmpl",
          "Milage in kmpl",
          "Milage in kmpl",
          "Milage in kmpl",
          "Milage in kmpl",
          "Milage in kmpl",
          "Milage in kmpl",
          "Milage in kmpl",
          "Milage in kmpl",
          "Milage in kmpl",
          "Milage in kmpl",
          "Milage in kmpl",
          "Milage in kmpl",
          "Milage in kmpl",
          "Milage in kmpl",
          "Milage in kmpl",
          "Milage in kmpl",
          "Milage in kmpl",
          "Milage in kmpl",
          "Milage in kmpl",
          "Milage in kmpl",
          "Milage in kmpl",
          "Milage in kmpl",
          "Milage in kmpl",
          "Milage in kmpl",
          "Milage in kmpl",
          "Milage in kmpl",
          "Milage in kmpl",
          "Milage in kmpl",
          "Milage in kmpl",
          "Milage in kmpl",
          "Milage in kmpl",
          "Milage in kmpl",
          "Milage in kmpl",
          "Milage in kmpl",
          "Milage in kmpl",
          "Milage in kmpl",
          "Milage in kmpl",
          "Milage in kmpl",
          "Milage in kmpl",
          "Milage in kmpl",
          "Milage in kmpl",
          "Milage in kmpl",
          "Milage in kmpl",
          "Milage in kmpl",
          "Milage in kmpl",
          "Milage in kmpl",
          "Milage in kmpl",
          "Milage in kmpl",
          "Milage in kmpl",
          "Milage in kmpl",
          "Milage in kmpl",
          "Milage in kmpl",
          "Milage in kmpl",
          "Milage in kmpl",
          "Milage in kmpl",
          "Milage in kmpl",
          "Milage in kmpl",
          "Milage in kmpl",
          "Milage in kmpl",
          "Milage in kmpl",
          "Milage in kmpl",
          "Milage in kmpl",
          "Milage in kmpl",
          "Milage in kmpl",
          "Milage in kmpl",
          "Milage in kmpl",
          "Milage in kmpl",
          "Milage in kmpl",
          "Milage in kmpl",
          "Milage in kmpl",
          "Milage in kmpl",
          "Milage in kmpl",
          "Milage in kmpl",
          "Milage in kmpl",
          "Milage in kmpl",
          "Milage in kmpl",
          "Milage in kmpl",
          "Milage in kmpl",
          "Milage in kmpl",
          "Milage in kmpl",
          "Milage in kmpl",
          "Milage in kmpl",
          "Milage in kmpl",
          "Milage in kmpl",
          "Milage in kmpl",
          "Milage in kmpl",
          "Milage in kmpl",
          "Milage in kmpl",
          "Milage in kmpl",
          "Milage in kmpl",
          "Milage in kmpl",
          "Milage in kmpl",
          "Milage in kmpl",
          "Milage in kmpl",
          "Milage in kmpl",
          "Milage in kmpl",
          "Milage in kmpl",
          "Milage in kmpl",
          "Milage in kmpl",
          "Milage in kmpl",
          "Milage in kmpl",
          "Milage in kmpl",
          "Milage in kmpl",
          "Milage in kmpl",
          "Milage in kmpl",
          "Milage in kmpl",
          "Milage in kmpl",
          "Milage in kmpl",
          "Milage in kmpl",
          "Milage in kmpl",
          "Milage in kmpl",
          "Milage in kmpl",
          "Milage in kmpl",
          "Milage in kmpl",
          "Milage in kmpl",
          "Milage in kmpl",
          "Milage in kmpl",
          "Milage in kmpl",
          "Milage in kmpl",
          "Milage in kmpl",
          "Milage in kmpl",
          "Milage in kmpl",
          "Milage in kmpl",
          "Milage in kmpl",
          "Milage in kmpl",
          "Milage in kmpl",
          "Milage in kmpl",
          "Milage in kmpl",
          "Milage in kmpl",
          "Milage in kmpl",
          "Milage in kmpl"
         ],
         "x0": " ",
         "xaxis": "x",
         "y": [
          23,
          19,
          24,
          24,
          19,
          22,
          22,
          22,
          19,
          18,
          22,
          21,
          21,
          16,
          22,
          20,
          24,
          25,
          24,
          17,
          17,
          15,
          null,
          16,
          20,
          15,
          17,
          18,
          12,
          null,
          null,
          null,
          12,
          16,
          22,
          17,
          25,
          24,
          20,
          null,
          null,
          null,
          null,
          22,
          14,
          24,
          24,
          24,
          21,
          25,
          24,
          25,
          25,
          20,
          15,
          15,
          null,
          15,
          26,
          null,
          null,
          19,
          18,
          16,
          24,
          19,
          21,
          24,
          14,
          18,
          18,
          18,
          17,
          22,
          null,
          20,
          16,
          20,
          13,
          20,
          13,
          10,
          19,
          20,
          14,
          17,
          17,
          40,
          19,
          11,
          11,
          9,
          8,
          20,
          null,
          null,
          16,
          10,
          16,
          13,
          null,
          null,
          19,
          8,
          14,
          13,
          null,
          null,
          13,
          null,
          16,
          22,
          20,
          19,
          46,
          null,
          null,
          18,
          11,
          null,
          8,
          8,
          7,
          10,
          null,
          10,
          10,
          10,
          14,
          17,
          10,
          null,
          12,
          9,
          null,
          null,
          null,
          19,
          16,
          15,
          20,
          14,
          9,
          null,
          null,
          null,
          null,
          11,
          14,
          17,
          17,
          9,
          null,
          11,
          9,
          null,
          null,
          null,
          9,
          null,
          null,
          null,
          12,
          null,
          12,
          10,
          10,
          null,
          null,
          null,
          null,
          null,
          13,
          null,
          16,
          14,
          18,
          null,
          13,
          null,
          null,
          13,
          15,
          22,
          19,
          7,
          18,
          null,
          19
         ],
         "y0": " ",
         "yaxis": "y"
        }
       ],
       "layout": {
        "boxmode": "group",
        "legend": {
         "tracegroupgap": 0
        },
        "margin": {
         "t": 60
        },
        "template": {
         "data": {
          "bar": [
           {
            "error_x": {
             "color": "#2a3f5f"
            },
            "error_y": {
             "color": "#2a3f5f"
            },
            "marker": {
             "line": {
              "color": "#E5ECF6",
              "width": 0.5
             }
            },
            "type": "bar"
           }
          ],
          "barpolar": [
           {
            "marker": {
             "line": {
              "color": "#E5ECF6",
              "width": 0.5
             }
            },
            "type": "barpolar"
           }
          ],
          "carpet": [
           {
            "aaxis": {
             "endlinecolor": "#2a3f5f",
             "gridcolor": "white",
             "linecolor": "white",
             "minorgridcolor": "white",
             "startlinecolor": "#2a3f5f"
            },
            "baxis": {
             "endlinecolor": "#2a3f5f",
             "gridcolor": "white",
             "linecolor": "white",
             "minorgridcolor": "white",
             "startlinecolor": "#2a3f5f"
            },
            "type": "carpet"
           }
          ],
          "choropleth": [
           {
            "colorbar": {
             "outlinewidth": 0,
             "ticks": ""
            },
            "type": "choropleth"
           }
          ],
          "contour": [
           {
            "colorbar": {
             "outlinewidth": 0,
             "ticks": ""
            },
            "colorscale": [
             [
              0,
              "#0d0887"
             ],
             [
              0.1111111111111111,
              "#46039f"
             ],
             [
              0.2222222222222222,
              "#7201a8"
             ],
             [
              0.3333333333333333,
              "#9c179e"
             ],
             [
              0.4444444444444444,
              "#bd3786"
             ],
             [
              0.5555555555555556,
              "#d8576b"
             ],
             [
              0.6666666666666666,
              "#ed7953"
             ],
             [
              0.7777777777777778,
              "#fb9f3a"
             ],
             [
              0.8888888888888888,
              "#fdca26"
             ],
             [
              1,
              "#f0f921"
             ]
            ],
            "type": "contour"
           }
          ],
          "contourcarpet": [
           {
            "colorbar": {
             "outlinewidth": 0,
             "ticks": ""
            },
            "type": "contourcarpet"
           }
          ],
          "heatmap": [
           {
            "colorbar": {
             "outlinewidth": 0,
             "ticks": ""
            },
            "colorscale": [
             [
              0,
              "#0d0887"
             ],
             [
              0.1111111111111111,
              "#46039f"
             ],
             [
              0.2222222222222222,
              "#7201a8"
             ],
             [
              0.3333333333333333,
              "#9c179e"
             ],
             [
              0.4444444444444444,
              "#bd3786"
             ],
             [
              0.5555555555555556,
              "#d8576b"
             ],
             [
              0.6666666666666666,
              "#ed7953"
             ],
             [
              0.7777777777777778,
              "#fb9f3a"
             ],
             [
              0.8888888888888888,
              "#fdca26"
             ],
             [
              1,
              "#f0f921"
             ]
            ],
            "type": "heatmap"
           }
          ],
          "heatmapgl": [
           {
            "colorbar": {
             "outlinewidth": 0,
             "ticks": ""
            },
            "colorscale": [
             [
              0,
              "#0d0887"
             ],
             [
              0.1111111111111111,
              "#46039f"
             ],
             [
              0.2222222222222222,
              "#7201a8"
             ],
             [
              0.3333333333333333,
              "#9c179e"
             ],
             [
              0.4444444444444444,
              "#bd3786"
             ],
             [
              0.5555555555555556,
              "#d8576b"
             ],
             [
              0.6666666666666666,
              "#ed7953"
             ],
             [
              0.7777777777777778,
              "#fb9f3a"
             ],
             [
              0.8888888888888888,
              "#fdca26"
             ],
             [
              1,
              "#f0f921"
             ]
            ],
            "type": "heatmapgl"
           }
          ],
          "histogram": [
           {
            "marker": {
             "colorbar": {
              "outlinewidth": 0,
              "ticks": ""
             }
            },
            "type": "histogram"
           }
          ],
          "histogram2d": [
           {
            "colorbar": {
             "outlinewidth": 0,
             "ticks": ""
            },
            "colorscale": [
             [
              0,
              "#0d0887"
             ],
             [
              0.1111111111111111,
              "#46039f"
             ],
             [
              0.2222222222222222,
              "#7201a8"
             ],
             [
              0.3333333333333333,
              "#9c179e"
             ],
             [
              0.4444444444444444,
              "#bd3786"
             ],
             [
              0.5555555555555556,
              "#d8576b"
             ],
             [
              0.6666666666666666,
              "#ed7953"
             ],
             [
              0.7777777777777778,
              "#fb9f3a"
             ],
             [
              0.8888888888888888,
              "#fdca26"
             ],
             [
              1,
              "#f0f921"
             ]
            ],
            "type": "histogram2d"
           }
          ],
          "histogram2dcontour": [
           {
            "colorbar": {
             "outlinewidth": 0,
             "ticks": ""
            },
            "colorscale": [
             [
              0,
              "#0d0887"
             ],
             [
              0.1111111111111111,
              "#46039f"
             ],
             [
              0.2222222222222222,
              "#7201a8"
             ],
             [
              0.3333333333333333,
              "#9c179e"
             ],
             [
              0.4444444444444444,
              "#bd3786"
             ],
             [
              0.5555555555555556,
              "#d8576b"
             ],
             [
              0.6666666666666666,
              "#ed7953"
             ],
             [
              0.7777777777777778,
              "#fb9f3a"
             ],
             [
              0.8888888888888888,
              "#fdca26"
             ],
             [
              1,
              "#f0f921"
             ]
            ],
            "type": "histogram2dcontour"
           }
          ],
          "mesh3d": [
           {
            "colorbar": {
             "outlinewidth": 0,
             "ticks": ""
            },
            "type": "mesh3d"
           }
          ],
          "parcoords": [
           {
            "line": {
             "colorbar": {
              "outlinewidth": 0,
              "ticks": ""
             }
            },
            "type": "parcoords"
           }
          ],
          "pie": [
           {
            "automargin": true,
            "type": "pie"
           }
          ],
          "scatter": [
           {
            "marker": {
             "colorbar": {
              "outlinewidth": 0,
              "ticks": ""
             }
            },
            "type": "scatter"
           }
          ],
          "scatter3d": [
           {
            "line": {
             "colorbar": {
              "outlinewidth": 0,
              "ticks": ""
             }
            },
            "marker": {
             "colorbar": {
              "outlinewidth": 0,
              "ticks": ""
             }
            },
            "type": "scatter3d"
           }
          ],
          "scattercarpet": [
           {
            "marker": {
             "colorbar": {
              "outlinewidth": 0,
              "ticks": ""
             }
            },
            "type": "scattercarpet"
           }
          ],
          "scattergeo": [
           {
            "marker": {
             "colorbar": {
              "outlinewidth": 0,
              "ticks": ""
             }
            },
            "type": "scattergeo"
           }
          ],
          "scattergl": [
           {
            "marker": {
             "colorbar": {
              "outlinewidth": 0,
              "ticks": ""
             }
            },
            "type": "scattergl"
           }
          ],
          "scattermapbox": [
           {
            "marker": {
             "colorbar": {
              "outlinewidth": 0,
              "ticks": ""
             }
            },
            "type": "scattermapbox"
           }
          ],
          "scatterpolar": [
           {
            "marker": {
             "colorbar": {
              "outlinewidth": 0,
              "ticks": ""
             }
            },
            "type": "scatterpolar"
           }
          ],
          "scatterpolargl": [
           {
            "marker": {
             "colorbar": {
              "outlinewidth": 0,
              "ticks": ""
             }
            },
            "type": "scatterpolargl"
           }
          ],
          "scatterternary": [
           {
            "marker": {
             "colorbar": {
              "outlinewidth": 0,
              "ticks": ""
             }
            },
            "type": "scatterternary"
           }
          ],
          "surface": [
           {
            "colorbar": {
             "outlinewidth": 0,
             "ticks": ""
            },
            "colorscale": [
             [
              0,
              "#0d0887"
             ],
             [
              0.1111111111111111,
              "#46039f"
             ],
             [
              0.2222222222222222,
              "#7201a8"
             ],
             [
              0.3333333333333333,
              "#9c179e"
             ],
             [
              0.4444444444444444,
              "#bd3786"
             ],
             [
              0.5555555555555556,
              "#d8576b"
             ],
             [
              0.6666666666666666,
              "#ed7953"
             ],
             [
              0.7777777777777778,
              "#fb9f3a"
             ],
             [
              0.8888888888888888,
              "#fdca26"
             ],
             [
              1,
              "#f0f921"
             ]
            ],
            "type": "surface"
           }
          ],
          "table": [
           {
            "cells": {
             "fill": {
              "color": "#EBF0F8"
             },
             "line": {
              "color": "white"
             }
            },
            "header": {
             "fill": {
              "color": "#C8D4E3"
             },
             "line": {
              "color": "white"
             }
            },
            "type": "table"
           }
          ]
         },
         "layout": {
          "annotationdefaults": {
           "arrowcolor": "#2a3f5f",
           "arrowhead": 0,
           "arrowwidth": 1
          },
          "autotypenumbers": "strict",
          "coloraxis": {
           "colorbar": {
            "outlinewidth": 0,
            "ticks": ""
           }
          },
          "colorscale": {
           "diverging": [
            [
             0,
             "#8e0152"
            ],
            [
             0.1,
             "#c51b7d"
            ],
            [
             0.2,
             "#de77ae"
            ],
            [
             0.3,
             "#f1b6da"
            ],
            [
             0.4,
             "#fde0ef"
            ],
            [
             0.5,
             "#f7f7f7"
            ],
            [
             0.6,
             "#e6f5d0"
            ],
            [
             0.7,
             "#b8e186"
            ],
            [
             0.8,
             "#7fbc41"
            ],
            [
             0.9,
             "#4d9221"
            ],
            [
             1,
             "#276419"
            ]
           ],
           "sequential": [
            [
             0,
             "#0d0887"
            ],
            [
             0.1111111111111111,
             "#46039f"
            ],
            [
             0.2222222222222222,
             "#7201a8"
            ],
            [
             0.3333333333333333,
             "#9c179e"
            ],
            [
             0.4444444444444444,
             "#bd3786"
            ],
            [
             0.5555555555555556,
             "#d8576b"
            ],
            [
             0.6666666666666666,
             "#ed7953"
            ],
            [
             0.7777777777777778,
             "#fb9f3a"
            ],
            [
             0.8888888888888888,
             "#fdca26"
            ],
            [
             1,
             "#f0f921"
            ]
           ],
           "sequentialminus": [
            [
             0,
             "#0d0887"
            ],
            [
             0.1111111111111111,
             "#46039f"
            ],
            [
             0.2222222222222222,
             "#7201a8"
            ],
            [
             0.3333333333333333,
             "#9c179e"
            ],
            [
             0.4444444444444444,
             "#bd3786"
            ],
            [
             0.5555555555555556,
             "#d8576b"
            ],
            [
             0.6666666666666666,
             "#ed7953"
            ],
            [
             0.7777777777777778,
             "#fb9f3a"
            ],
            [
             0.8888888888888888,
             "#fdca26"
            ],
            [
             1,
             "#f0f921"
            ]
           ]
          },
          "colorway": [
           "#636efa",
           "#EF553B",
           "#00cc96",
           "#ab63fa",
           "#FFA15A",
           "#19d3f3",
           "#FF6692",
           "#B6E880",
           "#FF97FF",
           "#FECB52"
          ],
          "font": {
           "color": "#2a3f5f"
          },
          "geo": {
           "bgcolor": "white",
           "lakecolor": "white",
           "landcolor": "#E5ECF6",
           "showlakes": true,
           "showland": true,
           "subunitcolor": "white"
          },
          "hoverlabel": {
           "align": "left"
          },
          "hovermode": "closest",
          "mapbox": {
           "style": "light"
          },
          "paper_bgcolor": "white",
          "plot_bgcolor": "#E5ECF6",
          "polar": {
           "angularaxis": {
            "gridcolor": "white",
            "linecolor": "white",
            "ticks": ""
           },
           "bgcolor": "#E5ECF6",
           "radialaxis": {
            "gridcolor": "white",
            "linecolor": "white",
            "ticks": ""
           }
          },
          "scene": {
           "xaxis": {
            "backgroundcolor": "#E5ECF6",
            "gridcolor": "white",
            "gridwidth": 2,
            "linecolor": "white",
            "showbackground": true,
            "ticks": "",
            "zerolinecolor": "white"
           },
           "yaxis": {
            "backgroundcolor": "#E5ECF6",
            "gridcolor": "white",
            "gridwidth": 2,
            "linecolor": "white",
            "showbackground": true,
            "ticks": "",
            "zerolinecolor": "white"
           },
           "zaxis": {
            "backgroundcolor": "#E5ECF6",
            "gridcolor": "white",
            "gridwidth": 2,
            "linecolor": "white",
            "showbackground": true,
            "ticks": "",
            "zerolinecolor": "white"
           }
          },
          "shapedefaults": {
           "line": {
            "color": "#2a3f5f"
           }
          },
          "ternary": {
           "aaxis": {
            "gridcolor": "white",
            "linecolor": "white",
            "ticks": ""
           },
           "baxis": {
            "gridcolor": "white",
            "linecolor": "white",
            "ticks": ""
           },
           "bgcolor": "#E5ECF6",
           "caxis": {
            "gridcolor": "white",
            "linecolor": "white",
            "ticks": ""
           }
          },
          "title": {
           "x": 0.05
          },
          "xaxis": {
           "automargin": true,
           "gridcolor": "white",
           "linecolor": "white",
           "ticks": "",
           "title": {
            "standoff": 15
           },
           "zerolinecolor": "white",
           "zerolinewidth": 2
          },
          "yaxis": {
           "automargin": true,
           "gridcolor": "white",
           "linecolor": "white",
           "ticks": "",
           "title": {
            "standoff": 15
           },
           "zerolinecolor": "white",
           "zerolinewidth": 2
          }
         }
        },
        "xaxis": {
         "anchor": "y",
         "domain": [
          0,
          1
         ],
         "title": {
          "text": "variable"
         }
        },
        "yaxis": {
         "anchor": "x",
         "domain": [
          0,
          1
         ],
         "title": {
          "text": "value"
         }
        }
       }
      },
      "text/html": [
       "<div>                            <div id=\"e8dad8d2-1ab9-4cc4-b215-55e898d37b8b\" class=\"plotly-graph-div\" style=\"height:525px; width:100%;\"></div>            <script type=\"text/javascript\">                require([\"plotly\"], function(Plotly) {                    window.PLOTLYENV=window.PLOTLYENV || {};                                    if (document.getElementById(\"e8dad8d2-1ab9-4cc4-b215-55e898d37b8b\")) {                    Plotly.newPlot(                        \"e8dad8d2-1ab9-4cc4-b215-55e898d37b8b\",                        [{\"alignmentgroup\": \"True\", \"hovertemplate\": \"variable=%{x}<br>value=%{y}<extra></extra>\", \"legendgroup\": \"\", \"marker\": {\"color\": \"#636efa\"}, \"name\": \"\", \"notched\": false, \"offsetgroup\": \"\", \"orientation\": \"v\", \"showlegend\": false, \"type\": \"box\", \"x\": [\"Milage in kmpl\", \"Milage in kmpl\", \"Milage in kmpl\", \"Milage in kmpl\", \"Milage in kmpl\", \"Milage in kmpl\", \"Milage in kmpl\", \"Milage in kmpl\", \"Milage in kmpl\", \"Milage in kmpl\", \"Milage in kmpl\", \"Milage in kmpl\", \"Milage in kmpl\", \"Milage in kmpl\", \"Milage in kmpl\", \"Milage in kmpl\", \"Milage in kmpl\", \"Milage in kmpl\", \"Milage in kmpl\", \"Milage in kmpl\", \"Milage in kmpl\", \"Milage in kmpl\", \"Milage in kmpl\", \"Milage in kmpl\", \"Milage in kmpl\", \"Milage in kmpl\", \"Milage in kmpl\", \"Milage in kmpl\", \"Milage in kmpl\", \"Milage in kmpl\", \"Milage in kmpl\", \"Milage in kmpl\", \"Milage in kmpl\", \"Milage in kmpl\", \"Milage in kmpl\", \"Milage in kmpl\", \"Milage in kmpl\", \"Milage in kmpl\", \"Milage in kmpl\", \"Milage in kmpl\", \"Milage in kmpl\", \"Milage in kmpl\", \"Milage in kmpl\", \"Milage in kmpl\", \"Milage in kmpl\", \"Milage in kmpl\", \"Milage in kmpl\", \"Milage in kmpl\", \"Milage in kmpl\", \"Milage in kmpl\", \"Milage in kmpl\", \"Milage in kmpl\", \"Milage in kmpl\", \"Milage in kmpl\", \"Milage in kmpl\", \"Milage in kmpl\", \"Milage in kmpl\", \"Milage in kmpl\", \"Milage in kmpl\", \"Milage in kmpl\", \"Milage in kmpl\", \"Milage in kmpl\", \"Milage in kmpl\", \"Milage in kmpl\", \"Milage in kmpl\", \"Milage in kmpl\", \"Milage in kmpl\", \"Milage in kmpl\", \"Milage in kmpl\", \"Milage in kmpl\", \"Milage in kmpl\", \"Milage in kmpl\", \"Milage in kmpl\", \"Milage in kmpl\", \"Milage in kmpl\", \"Milage in kmpl\", \"Milage in kmpl\", \"Milage in kmpl\", \"Milage in kmpl\", \"Milage in kmpl\", \"Milage in kmpl\", \"Milage in kmpl\", \"Milage in kmpl\", \"Milage in kmpl\", \"Milage in kmpl\", \"Milage in kmpl\", \"Milage in kmpl\", \"Milage in kmpl\", \"Milage in kmpl\", \"Milage in kmpl\", \"Milage in kmpl\", \"Milage in kmpl\", \"Milage in kmpl\", \"Milage in kmpl\", \"Milage in kmpl\", \"Milage in kmpl\", \"Milage in kmpl\", \"Milage in kmpl\", \"Milage in kmpl\", \"Milage in kmpl\", \"Milage in kmpl\", \"Milage in kmpl\", \"Milage in kmpl\", \"Milage in kmpl\", \"Milage in kmpl\", \"Milage in kmpl\", \"Milage in kmpl\", \"Milage in kmpl\", \"Milage in kmpl\", \"Milage in kmpl\", \"Milage in kmpl\", \"Milage in kmpl\", \"Milage in kmpl\", \"Milage in kmpl\", \"Milage in kmpl\", \"Milage in kmpl\", \"Milage in kmpl\", \"Milage in kmpl\", \"Milage in kmpl\", \"Milage in kmpl\", \"Milage in kmpl\", \"Milage in kmpl\", \"Milage in kmpl\", \"Milage in kmpl\", \"Milage in kmpl\", \"Milage in kmpl\", \"Milage in kmpl\", \"Milage in kmpl\", \"Milage in kmpl\", \"Milage in kmpl\", \"Milage in kmpl\", \"Milage in kmpl\", \"Milage in kmpl\", \"Milage in kmpl\", \"Milage in kmpl\", \"Milage in kmpl\", \"Milage in kmpl\", \"Milage in kmpl\", \"Milage in kmpl\", \"Milage in kmpl\", \"Milage in kmpl\", \"Milage in kmpl\", \"Milage in kmpl\", \"Milage in kmpl\", \"Milage in kmpl\", \"Milage in kmpl\", \"Milage in kmpl\", \"Milage in kmpl\", \"Milage in kmpl\", \"Milage in kmpl\", \"Milage in kmpl\", \"Milage in kmpl\", \"Milage in kmpl\", \"Milage in kmpl\", \"Milage in kmpl\", \"Milage in kmpl\", \"Milage in kmpl\", \"Milage in kmpl\", \"Milage in kmpl\", \"Milage in kmpl\", \"Milage in kmpl\", \"Milage in kmpl\", \"Milage in kmpl\", \"Milage in kmpl\", \"Milage in kmpl\", \"Milage in kmpl\", \"Milage in kmpl\", \"Milage in kmpl\", \"Milage in kmpl\", \"Milage in kmpl\", \"Milage in kmpl\", \"Milage in kmpl\", \"Milage in kmpl\", \"Milage in kmpl\", \"Milage in kmpl\", \"Milage in kmpl\", \"Milage in kmpl\", \"Milage in kmpl\", \"Milage in kmpl\", \"Milage in kmpl\", \"Milage in kmpl\", \"Milage in kmpl\", \"Milage in kmpl\", \"Milage in kmpl\", \"Milage in kmpl\", \"Milage in kmpl\", \"Milage in kmpl\", \"Milage in kmpl\", \"Milage in kmpl\"], \"x0\": \" \", \"xaxis\": \"x\", \"y\": [23.0, 19.0, 24.0, 24.0, 19.0, 22.0, 22.0, 22.0, 19.0, 18.0, 22.0, 21.0, 21.0, 16.0, 22.0, 20.0, 24.0, 25.0, 24.0, 17.0, 17.0, 15.0, null, 16.0, 20.0, 15.0, 17.0, 18.0, 12.0, null, null, null, 12.0, 16.0, 22.0, 17.0, 25.0, 24.0, 20.0, null, null, null, null, 22.0, 14.0, 24.0, 24.0, 24.0, 21.0, 25.0, 24.0, 25.0, 25.0, 20.0, 15.0, 15.0, null, 15.0, 26.0, null, null, 19.0, 18.0, 16.0, 24.0, 19.0, 21.0, 24.0, 14.0, 18.0, 18.0, 18.0, 17.0, 22.0, null, 20.0, 16.0, 20.0, 13.0, 20.0, 13.0, 10.0, 19.0, 20.0, 14.0, 17.0, 17.0, 40.0, 19.0, 11.0, 11.0, 9.0, 8.0, 20.0, null, null, 16.0, 10.0, 16.0, 13.0, null, null, 19.0, 8.0, 14.0, 13.0, null, null, 13.0, null, 16.0, 22.0, 20.0, 19.0, 46.0, null, null, 18.0, 11.0, null, 8.0, 8.0, 7.0, 10.0, null, 10.0, 10.0, 10.0, 14.0, 17.0, 10.0, null, 12.0, 9.0, null, null, null, 19.0, 16.0, 15.0, 20.0, 14.0, 9.0, null, null, null, null, 11.0, 14.0, 17.0, 17.0, 9.0, null, 11.0, 9.0, null, null, null, 9.0, null, null, null, 12.0, null, 12.0, 10.0, 10.0, null, null, null, null, null, 13.0, null, 16.0, 14.0, 18.0, null, 13.0, null, null, 13.0, 15.0, 22.0, 19.0, 7.0, 18.0, null, 19.0], \"y0\": \" \", \"yaxis\": \"y\"}],                        {\"boxmode\": \"group\", \"legend\": {\"tracegroupgap\": 0}, \"margin\": {\"t\": 60}, \"template\": {\"data\": {\"bar\": [{\"error_x\": {\"color\": \"#2a3f5f\"}, \"error_y\": {\"color\": \"#2a3f5f\"}, \"marker\": {\"line\": {\"color\": \"#E5ECF6\", \"width\": 0.5}}, \"type\": \"bar\"}], \"barpolar\": [{\"marker\": {\"line\": {\"color\": \"#E5ECF6\", \"width\": 0.5}}, \"type\": \"barpolar\"}], \"carpet\": [{\"aaxis\": {\"endlinecolor\": \"#2a3f5f\", \"gridcolor\": \"white\", \"linecolor\": \"white\", \"minorgridcolor\": \"white\", \"startlinecolor\": \"#2a3f5f\"}, \"baxis\": {\"endlinecolor\": \"#2a3f5f\", \"gridcolor\": \"white\", \"linecolor\": \"white\", \"minorgridcolor\": \"white\", \"startlinecolor\": \"#2a3f5f\"}, \"type\": \"carpet\"}], \"choropleth\": [{\"colorbar\": {\"outlinewidth\": 0, \"ticks\": \"\"}, \"type\": \"choropleth\"}], \"contour\": [{\"colorbar\": {\"outlinewidth\": 0, \"ticks\": \"\"}, \"colorscale\": [[0.0, \"#0d0887\"], [0.1111111111111111, \"#46039f\"], [0.2222222222222222, \"#7201a8\"], [0.3333333333333333, \"#9c179e\"], [0.4444444444444444, \"#bd3786\"], [0.5555555555555556, \"#d8576b\"], [0.6666666666666666, \"#ed7953\"], [0.7777777777777778, \"#fb9f3a\"], [0.8888888888888888, \"#fdca26\"], [1.0, \"#f0f921\"]], \"type\": \"contour\"}], \"contourcarpet\": [{\"colorbar\": {\"outlinewidth\": 0, \"ticks\": \"\"}, \"type\": \"contourcarpet\"}], \"heatmap\": [{\"colorbar\": {\"outlinewidth\": 0, \"ticks\": \"\"}, \"colorscale\": [[0.0, \"#0d0887\"], [0.1111111111111111, \"#46039f\"], [0.2222222222222222, \"#7201a8\"], [0.3333333333333333, \"#9c179e\"], [0.4444444444444444, \"#bd3786\"], [0.5555555555555556, \"#d8576b\"], [0.6666666666666666, \"#ed7953\"], [0.7777777777777778, \"#fb9f3a\"], [0.8888888888888888, \"#fdca26\"], [1.0, \"#f0f921\"]], \"type\": \"heatmap\"}], \"heatmapgl\": [{\"colorbar\": {\"outlinewidth\": 0, \"ticks\": \"\"}, \"colorscale\": [[0.0, \"#0d0887\"], [0.1111111111111111, \"#46039f\"], [0.2222222222222222, \"#7201a8\"], [0.3333333333333333, \"#9c179e\"], [0.4444444444444444, \"#bd3786\"], [0.5555555555555556, \"#d8576b\"], [0.6666666666666666, \"#ed7953\"], [0.7777777777777778, \"#fb9f3a\"], [0.8888888888888888, \"#fdca26\"], [1.0, \"#f0f921\"]], \"type\": \"heatmapgl\"}], \"histogram\": [{\"marker\": {\"colorbar\": {\"outlinewidth\": 0, \"ticks\": \"\"}}, \"type\": \"histogram\"}], \"histogram2d\": [{\"colorbar\": {\"outlinewidth\": 0, \"ticks\": \"\"}, \"colorscale\": [[0.0, \"#0d0887\"], [0.1111111111111111, \"#46039f\"], [0.2222222222222222, \"#7201a8\"], [0.3333333333333333, \"#9c179e\"], [0.4444444444444444, \"#bd3786\"], [0.5555555555555556, \"#d8576b\"], [0.6666666666666666, \"#ed7953\"], [0.7777777777777778, \"#fb9f3a\"], [0.8888888888888888, \"#fdca26\"], [1.0, \"#f0f921\"]], \"type\": \"histogram2d\"}], \"histogram2dcontour\": [{\"colorbar\": {\"outlinewidth\": 0, \"ticks\": \"\"}, \"colorscale\": [[0.0, \"#0d0887\"], [0.1111111111111111, \"#46039f\"], [0.2222222222222222, \"#7201a8\"], [0.3333333333333333, \"#9c179e\"], [0.4444444444444444, \"#bd3786\"], [0.5555555555555556, \"#d8576b\"], [0.6666666666666666, \"#ed7953\"], [0.7777777777777778, \"#fb9f3a\"], [0.8888888888888888, \"#fdca26\"], [1.0, \"#f0f921\"]], \"type\": \"histogram2dcontour\"}], \"mesh3d\": [{\"colorbar\": {\"outlinewidth\": 0, \"ticks\": \"\"}, \"type\": \"mesh3d\"}], \"parcoords\": [{\"line\": {\"colorbar\": {\"outlinewidth\": 0, \"ticks\": \"\"}}, \"type\": \"parcoords\"}], \"pie\": [{\"automargin\": true, \"type\": \"pie\"}], \"scatter\": [{\"marker\": {\"colorbar\": {\"outlinewidth\": 0, \"ticks\": \"\"}}, \"type\": \"scatter\"}], \"scatter3d\": [{\"line\": {\"colorbar\": {\"outlinewidth\": 0, \"ticks\": \"\"}}, \"marker\": {\"colorbar\": {\"outlinewidth\": 0, \"ticks\": \"\"}}, \"type\": \"scatter3d\"}], \"scattercarpet\": [{\"marker\": {\"colorbar\": {\"outlinewidth\": 0, \"ticks\": \"\"}}, \"type\": \"scattercarpet\"}], \"scattergeo\": [{\"marker\": {\"colorbar\": {\"outlinewidth\": 0, \"ticks\": \"\"}}, \"type\": \"scattergeo\"}], \"scattergl\": [{\"marker\": {\"colorbar\": {\"outlinewidth\": 0, \"ticks\": \"\"}}, \"type\": \"scattergl\"}], \"scattermapbox\": [{\"marker\": {\"colorbar\": {\"outlinewidth\": 0, \"ticks\": \"\"}}, \"type\": \"scattermapbox\"}], \"scatterpolar\": [{\"marker\": {\"colorbar\": {\"outlinewidth\": 0, \"ticks\": \"\"}}, \"type\": \"scatterpolar\"}], \"scatterpolargl\": [{\"marker\": {\"colorbar\": {\"outlinewidth\": 0, \"ticks\": \"\"}}, \"type\": \"scatterpolargl\"}], \"scatterternary\": [{\"marker\": {\"colorbar\": {\"outlinewidth\": 0, \"ticks\": \"\"}}, \"type\": \"scatterternary\"}], \"surface\": [{\"colorbar\": {\"outlinewidth\": 0, \"ticks\": \"\"}, \"colorscale\": [[0.0, \"#0d0887\"], [0.1111111111111111, \"#46039f\"], [0.2222222222222222, \"#7201a8\"], [0.3333333333333333, \"#9c179e\"], [0.4444444444444444, \"#bd3786\"], [0.5555555555555556, \"#d8576b\"], [0.6666666666666666, \"#ed7953\"], [0.7777777777777778, \"#fb9f3a\"], [0.8888888888888888, \"#fdca26\"], [1.0, \"#f0f921\"]], \"type\": \"surface\"}], \"table\": [{\"cells\": {\"fill\": {\"color\": \"#EBF0F8\"}, \"line\": {\"color\": \"white\"}}, \"header\": {\"fill\": {\"color\": \"#C8D4E3\"}, \"line\": {\"color\": \"white\"}}, \"type\": \"table\"}]}, \"layout\": {\"annotationdefaults\": {\"arrowcolor\": \"#2a3f5f\", \"arrowhead\": 0, \"arrowwidth\": 1}, \"autotypenumbers\": \"strict\", \"coloraxis\": {\"colorbar\": {\"outlinewidth\": 0, \"ticks\": \"\"}}, \"colorscale\": {\"diverging\": [[0, \"#8e0152\"], [0.1, \"#c51b7d\"], [0.2, \"#de77ae\"], [0.3, \"#f1b6da\"], [0.4, \"#fde0ef\"], [0.5, \"#f7f7f7\"], [0.6, \"#e6f5d0\"], [0.7, \"#b8e186\"], [0.8, \"#7fbc41\"], [0.9, \"#4d9221\"], [1, \"#276419\"]], \"sequential\": [[0.0, \"#0d0887\"], [0.1111111111111111, \"#46039f\"], [0.2222222222222222, \"#7201a8\"], [0.3333333333333333, \"#9c179e\"], [0.4444444444444444, \"#bd3786\"], [0.5555555555555556, \"#d8576b\"], [0.6666666666666666, \"#ed7953\"], [0.7777777777777778, \"#fb9f3a\"], [0.8888888888888888, \"#fdca26\"], [1.0, \"#f0f921\"]], \"sequentialminus\": [[0.0, \"#0d0887\"], [0.1111111111111111, \"#46039f\"], [0.2222222222222222, \"#7201a8\"], [0.3333333333333333, \"#9c179e\"], [0.4444444444444444, \"#bd3786\"], [0.5555555555555556, \"#d8576b\"], [0.6666666666666666, \"#ed7953\"], [0.7777777777777778, \"#fb9f3a\"], [0.8888888888888888, \"#fdca26\"], [1.0, \"#f0f921\"]]}, \"colorway\": [\"#636efa\", \"#EF553B\", \"#00cc96\", \"#ab63fa\", \"#FFA15A\", \"#19d3f3\", \"#FF6692\", \"#B6E880\", \"#FF97FF\", \"#FECB52\"], \"font\": {\"color\": \"#2a3f5f\"}, \"geo\": {\"bgcolor\": \"white\", \"lakecolor\": \"white\", \"landcolor\": \"#E5ECF6\", \"showlakes\": true, \"showland\": true, \"subunitcolor\": \"white\"}, \"hoverlabel\": {\"align\": \"left\"}, \"hovermode\": \"closest\", \"mapbox\": {\"style\": \"light\"}, \"paper_bgcolor\": \"white\", \"plot_bgcolor\": \"#E5ECF6\", \"polar\": {\"angularaxis\": {\"gridcolor\": \"white\", \"linecolor\": \"white\", \"ticks\": \"\"}, \"bgcolor\": \"#E5ECF6\", \"radialaxis\": {\"gridcolor\": \"white\", \"linecolor\": \"white\", \"ticks\": \"\"}}, \"scene\": {\"xaxis\": {\"backgroundcolor\": \"#E5ECF6\", \"gridcolor\": \"white\", \"gridwidth\": 2, \"linecolor\": \"white\", \"showbackground\": true, \"ticks\": \"\", \"zerolinecolor\": \"white\"}, \"yaxis\": {\"backgroundcolor\": \"#E5ECF6\", \"gridcolor\": \"white\", \"gridwidth\": 2, \"linecolor\": \"white\", \"showbackground\": true, \"ticks\": \"\", \"zerolinecolor\": \"white\"}, \"zaxis\": {\"backgroundcolor\": \"#E5ECF6\", \"gridcolor\": \"white\", \"gridwidth\": 2, \"linecolor\": \"white\", \"showbackground\": true, \"ticks\": \"\", \"zerolinecolor\": \"white\"}}, \"shapedefaults\": {\"line\": {\"color\": \"#2a3f5f\"}}, \"ternary\": {\"aaxis\": {\"gridcolor\": \"white\", \"linecolor\": \"white\", \"ticks\": \"\"}, \"baxis\": {\"gridcolor\": \"white\", \"linecolor\": \"white\", \"ticks\": \"\"}, \"bgcolor\": \"#E5ECF6\", \"caxis\": {\"gridcolor\": \"white\", \"linecolor\": \"white\", \"ticks\": \"\"}}, \"title\": {\"x\": 0.05}, \"xaxis\": {\"automargin\": true, \"gridcolor\": \"white\", \"linecolor\": \"white\", \"ticks\": \"\", \"title\": {\"standoff\": 15}, \"zerolinecolor\": \"white\", \"zerolinewidth\": 2}, \"yaxis\": {\"automargin\": true, \"gridcolor\": \"white\", \"linecolor\": \"white\", \"ticks\": \"\", \"title\": {\"standoff\": 15}, \"zerolinecolor\": \"white\", \"zerolinewidth\": 2}}}, \"xaxis\": {\"anchor\": \"y\", \"domain\": [0.0, 1.0], \"title\": {\"text\": \"variable\"}}, \"yaxis\": {\"anchor\": \"x\", \"domain\": [0.0, 1.0], \"title\": {\"text\": \"value\"}}},                        {\"responsive\": true}                    ).then(function(){\n",
       "                            \n",
       "var gd = document.getElementById('e8dad8d2-1ab9-4cc4-b215-55e898d37b8b');\n",
       "var x = new MutationObserver(function (mutations, observer) {{\n",
       "        var display = window.getComputedStyle(gd).display;\n",
       "        if (!display || display === 'none') {{\n",
       "            console.log([gd, 'removed!']);\n",
       "            Plotly.purge(gd);\n",
       "            observer.disconnect();\n",
       "        }}\n",
       "}});\n",
       "\n",
       "// Listen for the removal of the full notebook cells\n",
       "var notebookContainer = gd.closest('#notebook-container');\n",
       "if (notebookContainer) {{\n",
       "    x.observe(notebookContainer, {childList: true});\n",
       "}}\n",
       "\n",
       "// Listen for the clearing of the current output cell\n",
       "var outputEl = gd.closest('.output');\n",
       "if (outputEl) {{\n",
       "    x.observe(outputEl, {childList: true});\n",
       "}}\n",
       "\n",
       "                        })                };                });            </script>        </div>"
      ]
     },
     "metadata": {},
     "output_type": "display_data"
    }
   ],
   "source": [
    "px.box(cars['Milage in kmpl'])"
   ]
  },
  {
   "cell_type": "markdown",
   "id": "d33afc41",
   "metadata": {},
   "source": [
    "## 75% of the cars have milage less than 21 kmpl"
   ]
  },
  {
   "cell_type": "markdown",
   "id": "e098383a",
   "metadata": {},
   "source": [
    "## - Ratings"
   ]
  },
  {
   "cell_type": "code",
   "execution_count": 961,
   "id": "d31404e2",
   "metadata": {},
   "outputs": [
    {
     "data": {
      "text/plain": [
       "<AxesSubplot:xlabel='Ratings', ylabel='Count'>"
      ]
     },
     "execution_count": 961,
     "metadata": {},
     "output_type": "execute_result"
    },
    {
     "data": {
      "image/png": "[encoded data removed]",
      "text/plain": [
       "<Figure size 720x576 with 1 Axes>"
      ]
     },
     "metadata": {
      "needs_background": "light"
     },
     "output_type": "display_data"
    }
   ],
   "source": [
    "plt.figure(figsize=(10,8))\n",
    "sns.histplot(cars['Ratings'])"
   ]
  },
  {
   "cell_type": "code",
   "execution_count": 962,
   "id": "a6bc09bb",
   "metadata": {},
   "outputs": [
    {
     "data": {
      "application/vnd.plotly.v1+json": {
       "config": {
        "plotlyServerURL": "https://plot.ly"
       },
       "data": [
        {
         "alignmentgroup": "True",
         "hovertemplate": "variable=%{x}<br>value=%{y}<extra></extra>",
         "legendgroup": "",
         "marker": {
          "color": "#636efa"
         },
         "name": "",
         "notched": false,
         "offsetgroup": "",
         "orientation": "v",
         "showlegend": false,
         "type": "box",
         "x": [
          "Ratings",
          "Ratings",
          "Ratings",
          "Ratings",
          "Ratings",
          "Ratings",
          "Ratings",
          "Ratings",
          "Ratings",
          "Ratings",
          "Ratings",
          "Ratings",
          "Ratings",
          "Ratings",
          "Ratings",
          "Ratings",
          "Ratings",
          "Ratings",
          "Ratings",
          "Ratings",
          "Ratings",
          "Ratings",
          "Ratings",
          "Ratings",
          "Ratings",
          "Ratings",
          "Ratings",
          "Ratings",
          "Ratings",
          "Ratings",
          "Ratings",
          "Ratings",
          "Ratings",
          "Ratings",
          "Ratings",
          "Ratings",
          "Ratings",
          "Ratings",
          "Ratings",
          "Ratings",
          "Ratings",
          "Ratings",
          "Ratings",
          "Ratings",
          "Ratings",
          "Ratings",
          "Ratings",
          "Ratings",
          "Ratings",
          "Ratings",
          "Ratings",
          "Ratings",
          "Ratings",
          "Ratings",
          "Ratings",
          "Ratings",
          "Ratings",
          "Ratings",
          "Ratings",
          "Ratings",
          "Ratings",
          "Ratings",
          "Ratings",
          "Ratings",
          "Ratings",
          "Ratings",
          "Ratings",
          "Ratings",
          "Ratings",
          "Ratings",
          "Ratings",
          "Ratings",
          "Ratings",
          "Ratings",
          "Ratings",
          "Ratings",
          "Ratings",
          "Ratings",
          "Ratings",
          "Ratings",
          "Ratings",
          "Ratings",
          "Ratings",
          "Ratings",
          "Ratings",
          "Ratings",
          "Ratings",
          "Ratings",
          "Ratings",
          "Ratings",
          "Ratings",
          "Ratings",
          "Ratings",
          "Ratings",
          "Ratings",
          "Ratings",
          "Ratings",
          "Ratings",
          "Ratings",
          "Ratings",
          "Ratings",
          "Ratings",
          "Ratings",
          "Ratings",
          "Ratings",
          "Ratings",
          "Ratings",
          "Ratings",
          "Ratings",
          "Ratings",
          "Ratings",
          "Ratings",
          "Ratings",
          "Ratings",
          "Ratings",
          "Ratings",
          "Ratings",
          "Ratings",
          "Ratings",
          "Ratings",
          "Ratings",
          "Ratings",
          "Ratings",
          "Ratings",
          "Ratings",
          "Ratings",
          "Ratings",
          "Ratings",
          "Ratings",
          "Ratings",
          "Ratings",
          "Ratings",
          "Ratings",
          "Ratings",
          "Ratings",
          "Ratings",
          "Ratings",
          "Ratings",
          "Ratings",
          "Ratings",
          "Ratings",
          "Ratings",
          "Ratings",
          "Ratings",
          "Ratings",
          "Ratings",
          "Ratings",
          "Ratings",
          "Ratings",
          "Ratings",
          "Ratings",
          "Ratings",
          "Ratings",
          "Ratings",
          "Ratings",
          "Ratings",
          "Ratings",
          "Ratings",
          "Ratings",
          "Ratings",
          "Ratings",
          "Ratings",
          "Ratings",
          "Ratings",
          "Ratings",
          "Ratings",
          "Ratings",
          "Ratings",
          "Ratings",
          "Ratings",
          "Ratings",
          "Ratings",
          "Ratings",
          "Ratings",
          "Ratings",
          "Ratings",
          "Ratings",
          "Ratings",
          "Ratings",
          "Ratings",
          "Ratings",
          "Ratings",
          "Ratings",
          "Ratings",
          "Ratings",
          "Ratings",
          "Ratings",
          "Ratings",
          "Ratings"
         ],
         "x0": " ",
         "xaxis": "x",
         "y": [
          4,
          4,
          4.1,
          4,
          4,
          3.9,
          3.7,
          3.9,
          4.3,
          4.2,
          4,
          4.2,
          4.3,
          3.7,
          3.9,
          4,
          4.3,
          4.1,
          4.3,
          4.2,
          4.3,
          4.3,
          4,
          3.9,
          4.3,
          4.3,
          4.3,
          3.9,
          4.2,
          3.4,
          3.7,
          4.3,
          4.3,
          4.6,
          4.5,
          4.5,
          4.5,
          4.3,
          4.3,
          3.9,
          4.3,
          4.6,
          4.2,
          4.3,
          4.4,
          4.1,
          4.4,
          4.3,
          4.3,
          4.2,
          4.2,
          4.3,
          4.3,
          3.9,
          4.2,
          4.3,
          4.3,
          4.2,
          4.2,
          4.3,
          4.4,
          4.6,
          4.1,
          4.7,
          4.2,
          4.2,
          4.4,
          4.3,
          4.5,
          4.2,
          4.3,
          4.6,
          4.4,
          3.8,
          4.2,
          4.1,
          4,
          4.2,
          4.2,
          4.4,
          4.4,
          4.6,
          4.4,
          4.3,
          4.3,
          4.1,
          4.1,
          4.6,
          4.6,
          4.5,
          4.5,
          4.7,
          4.5,
          4.7,
          5,
          4.4,
          4.4,
          4.4,
          4.7,
          4.6,
          5,
          4.2,
          4.5,
          4.5,
          4.4,
          4.5,
          null,
          4.3,
          4.4,
          4.3,
          null,
          3.9,
          3.5,
          3.8,
          4.4,
          4.5,
          4.7,
          4.4,
          4.3,
          null,
          4.3,
          4.2,
          4.3,
          4.5,
          4.5,
          4.7,
          4.6,
          4.7,
          4.2,
          4.6,
          4,
          3.9,
          4.6,
          4.8,
          null,
          5,
          null,
          4.3,
          4.9,
          4.4,
          4.2,
          4.4,
          4.5,
          4.1,
          4.3,
          4,
          4.7,
          4.3,
          1,
          4.3,
          4.5,
          4.1,
          4.5,
          5,
          4.3,
          4.5,
          4.6,
          4.5,
          4.1,
          4.7,
          4.2,
          5,
          4.5,
          null,
          4.6,
          4.5,
          3.9,
          null,
          4.7,
          null,
          3,
          3,
          4.4,
          4.4,
          4.6,
          4.6,
          4.3,
          4.2,
          4.6,
          5,
          4.3,
          4.8,
          4.3,
          4.6,
          4.6,
          4.1,
          5,
          3.6,
          4
         ],
         "y0": " ",
         "yaxis": "y"
        }
       ],
       "layout": {
        "boxmode": "group",
        "legend": {
         "tracegroupgap": 0
        },
        "margin": {
         "t": 60
        },
        "template": {
         "data": {
          "bar": [
           {
            "error_x": {
             "color": "#2a3f5f"
            },
            "error_y": {
             "color": "#2a3f5f"
            },
            "marker": {
             "line": {
              "color": "#E5ECF6",
              "width": 0.5
             }
            },
            "type": "bar"
           }
          ],
          "barpolar": [
           {
            "marker": {
             "line": {
              "color": "#E5ECF6",
              "width": 0.5
             }
            },
            "type": "barpolar"
           }
          ],
          "carpet": [
           {
            "aaxis": {
             "endlinecolor": "#2a3f5f",
             "gridcolor": "white",
             "linecolor": "white",
             "minorgridcolor": "white",
             "startlinecolor": "#2a3f5f"
            },
            "baxis": {
             "endlinecolor": "#2a3f5f",
             "gridcolor": "white",
             "linecolor": "white",
             "minorgridcolor": "white",
             "startlinecolor": "#2a3f5f"
            },
            "type": "carpet"
           }
          ],
          "choropleth": [
           {
            "colorbar": {
             "outlinewidth": 0,
             "ticks": ""
            },
            "type": "choropleth"
           }
          ],
          "contour": [
           {
            "colorbar": {
             "outlinewidth": 0,
             "ticks": ""
            },
            "colorscale": [
             [
              0,
              "#0d0887"
             ],
             [
              0.1111111111111111,
              "#46039f"
             ],
             [
              0.2222222222222222,
              "#7201a8"
             ],
             [
              0.3333333333333333,
              "#9c179e"
             ],
             [
              0.4444444444444444,
              "#bd3786"
             ],
             [
              0.5555555555555556,
              "#d8576b"
             ],
             [
              0.6666666666666666,
              "#ed7953"
             ],
             [
              0.7777777777777778,
              "#fb9f3a"
             ],
             [
              0.8888888888888888,
              "#fdca26"
             ],
             [
              1,
              "#f0f921"
             ]
            ],
            "type": "contour"
           }
          ],
          "contourcarpet": [
           {
            "colorbar": {
             "outlinewidth": 0,
             "ticks": ""
            },
            "type": "contourcarpet"
           }
          ],
          "heatmap": [
           {
            "colorbar": {
             "outlinewidth": 0,
             "ticks": ""
            },
            "colorscale": [
             [
              0,
              "#0d0887"
             ],
             [
              0.1111111111111111,
              "#46039f"
             ],
             [
              0.2222222222222222,
              "#7201a8"
             ],
             [
              0.3333333333333333,
              "#9c179e"
             ],
             [
              0.4444444444444444,
              "#bd3786"
             ],
             [
              0.5555555555555556,
              "#d8576b"
             ],
             [
              0.6666666666666666,
              "#ed7953"
             ],
             [
              0.7777777777777778,
              "#fb9f3a"
             ],
             [
              0.8888888888888888,
              "#fdca26"
             ],
             [
              1,
              "#f0f921"
             ]
            ],
            "type": "heatmap"
           }
          ],
          "heatmapgl": [
           {
            "colorbar": {
             "outlinewidth": 0,
             "ticks": ""
            },
            "colorscale": [
             [
              0,
              "#0d0887"
             ],
             [
              0.1111111111111111,
              "#46039f"
             ],
             [
              0.2222222222222222,
              "#7201a8"
             ],
             [
              0.3333333333333333,
              "#9c179e"
             ],
             [
              0.4444444444444444,
              "#bd3786"
             ],
             [
              0.5555555555555556,
              "#d8576b"
             ],
             [
              0.6666666666666666,
              "#ed7953"
             ],
             [
              0.7777777777777778,
              "#fb9f3a"
             ],
             [
              0.8888888888888888,
              "#fdca26"
             ],
             [
              1,
              "#f0f921"
             ]
            ],
            "type": "heatmapgl"
           }
          ],
          "histogram": [
           {
            "marker": {
             "colorbar": {
              "outlinewidth": 0,
              "ticks": ""
             }
            },
            "type": "histogram"
           }
          ],
          "histogram2d": [
           {
            "colorbar": {
             "outlinewidth": 0,
             "ticks": ""
            },
            "colorscale": [
             [
              0,
              "#0d0887"
             ],
             [
              0.1111111111111111,
              "#46039f"
             ],
             [
              0.2222222222222222,
              "#7201a8"
             ],
             [
              0.3333333333333333,
              "#9c179e"
             ],
             [
              0.4444444444444444,
              "#bd3786"
             ],
             [
              0.5555555555555556,
              "#d8576b"
             ],
             [
              0.6666666666666666,
              "#ed7953"
             ],
             [
              0.7777777777777778,
              "#fb9f3a"
             ],
             [
              0.8888888888888888,
              "#fdca26"
             ],
             [
              1,
              "#f0f921"
             ]
            ],
            "type": "histogram2d"
           }
          ],
          "histogram2dcontour": [
           {
            "colorbar": {
             "outlinewidth": 0,
             "ticks": ""
            },
            "colorscale": [
             [
              0,
              "#0d0887"
             ],
             [
              0.1111111111111111,
              "#46039f"
             ],
             [
              0.2222222222222222,
              "#7201a8"
             ],
             [
              0.3333333333333333,
              "#9c179e"
             ],
             [
              0.4444444444444444,
              "#bd3786"
             ],
             [
              0.5555555555555556,
              "#d8576b"
             ],
             [
              0.6666666666666666,
              "#ed7953"
             ],
             [
              0.7777777777777778,
              "#fb9f3a"
             ],
             [
              0.8888888888888888,
              "#fdca26"
             ],
             [
              1,
              "#f0f921"
             ]
            ],
            "type": "histogram2dcontour"
           }
          ],
          "mesh3d": [
           {
            "colorbar": {
             "outlinewidth": 0,
             "ticks": ""
            },
            "type": "mesh3d"
           }
          ],
          "parcoords": [
           {
            "line": {
             "colorbar": {
              "outlinewidth": 0,
              "ticks": ""
             }
            },
            "type": "parcoords"
           }
          ],
          "pie": [
           {
            "automargin": true,
            "type": "pie"
           }
          ],
          "scatter": [
           {
            "marker": {
             "colorbar": {
              "outlinewidth": 0,
              "ticks": ""
             }
            },
            "type": "scatter"
           }
          ],
          "scatter3d": [
           {
            "line": {
             "colorbar": {
              "outlinewidth": 0,
              "ticks": ""
             }
            },
            "marker": {
             "colorbar": {
              "outlinewidth": 0,
              "ticks": ""
             }
            },
            "type": "scatter3d"
           }
          ],
          "scattercarpet": [
           {
            "marker": {
             "colorbar": {
              "outlinewidth": 0,
              "ticks": ""
             }
            },
            "type": "scattercarpet"
           }
          ],
          "scattergeo": [
           {
            "marker": {
             "colorbar": {
              "outlinewidth": 0,
              "ticks": ""
             }
            },
            "type": "scattergeo"
           }
          ],
          "scattergl": [
           {
            "marker": {
             "colorbar": {
              "outlinewidth": 0,
              "ticks": ""
             }
            },
            "type": "scattergl"
           }
          ],
          "scattermapbox": [
           {
            "marker": {
             "colorbar": {
              "outlinewidth": 0,
              "ticks": ""
             }
            },
            "type": "scattermapbox"
           }
          ],
          "scatterpolar": [
           {
            "marker": {
             "colorbar": {
              "outlinewidth": 0,
              "ticks": ""
             }
            },
            "type": "scatterpolar"
           }
          ],
          "scatterpolargl": [
           {
            "marker": {
             "colorbar": {
              "outlinewidth": 0,
              "ticks": ""
             }
            },
            "type": "scatterpolargl"
           }
          ],
          "scatterternary": [
           {
            "marker": {
             "colorbar": {
              "outlinewidth": 0,
              "ticks": ""
             }
            },
            "type": "scatterternary"
           }
          ],
          "surface": [
           {
            "colorbar": {
             "outlinewidth": 0,
             "ticks": ""
            },
            "colorscale": [
             [
              0,
              "#0d0887"
             ],
             [
              0.1111111111111111,
              "#46039f"
             ],
             [
              0.2222222222222222,
              "#7201a8"
             ],
             [
              0.3333333333333333,
              "#9c179e"
             ],
             [
              0.4444444444444444,
              "#bd3786"
             ],
             [
              0.5555555555555556,
              "#d8576b"
             ],
             [
              0.6666666666666666,
              "#ed7953"
             ],
             [
              0.7777777777777778,
              "#fb9f3a"
             ],
             [
              0.8888888888888888,
              "#fdca26"
             ],
             [
              1,
              "#f0f921"
             ]
            ],
            "type": "surface"
           }
          ],
          "table": [
           {
            "cells": {
             "fill": {
              "color": "#EBF0F8"
             },
             "line": {
              "color": "white"
             }
            },
            "header": {
             "fill": {
              "color": "#C8D4E3"
             },
             "line": {
              "color": "white"
             }
            },
            "type": "table"
           }
          ]
         },
         "layout": {
          "annotationdefaults": {
           "arrowcolor": "#2a3f5f",
           "arrowhead": 0,
           "arrowwidth": 1
          },
          "autotypenumbers": "strict",
          "coloraxis": {
           "colorbar": {
            "outlinewidth": 0,
            "ticks": ""
           }
          },
          "colorscale": {
           "diverging": [
            [
             0,
             "#8e0152"
            ],
            [
             0.1,
             "#c51b7d"
            ],
            [
             0.2,
             "#de77ae"
            ],
            [
             0.3,
             "#f1b6da"
            ],
            [
             0.4,
             "#fde0ef"
            ],
            [
             0.5,
             "#f7f7f7"
            ],
            [
             0.6,
             "#e6f5d0"
            ],
            [
             0.7,
             "#b8e186"
            ],
            [
             0.8,
             "#7fbc41"
            ],
            [
             0.9,
             "#4d9221"
            ],
            [
             1,
             "#276419"
            ]
           ],
           "sequential": [
            [
             0,
             "#0d0887"
            ],
            [
             0.1111111111111111,
             "#46039f"
            ],
            [
             0.2222222222222222,
             "#7201a8"
            ],
            [
             0.3333333333333333,
             "#9c179e"
            ],
            [
             0.4444444444444444,
             "#bd3786"
            ],
            [
             0.5555555555555556,
             "#d8576b"
            ],
            [
             0.6666666666666666,
             "#ed7953"
            ],
            [
             0.7777777777777778,
             "#fb9f3a"
            ],
            [
             0.8888888888888888,
             "#fdca26"
            ],
            [
             1,
             "#f0f921"
            ]
           ],
           "sequentialminus": [
            [
             0,
             "#0d0887"
            ],
            [
             0.1111111111111111,
             "#46039f"
            ],
            [
             0.2222222222222222,
             "#7201a8"
            ],
            [
             0.3333333333333333,
             "#9c179e"
            ],
            [
             0.4444444444444444,
             "#bd3786"
            ],
            [
             0.5555555555555556,
             "#d8576b"
            ],
            [
             0.6666666666666666,
             "#ed7953"
            ],
            [
             0.7777777777777778,
             "#fb9f3a"
            ],
            [
             0.8888888888888888,
             "#fdca26"
            ],
            [
             1,
             "#f0f921"
            ]
           ]
          },
          "colorway": [
           "#636efa",
           "#EF553B",
           "#00cc96",
           "#ab63fa",
           "#FFA15A",
           "#19d3f3",
           "#FF6692",
           "#B6E880",
           "#FF97FF",
           "#FECB52"
          ],
          "font": {
           "color": "#2a3f5f"
          },
          "geo": {
           "bgcolor": "white",
           "lakecolor": "white",
           "landcolor": "#E5ECF6",
           "showlakes": true,
           "showland": true,
           "subunitcolor": "white"
          },
          "hoverlabel": {
           "align": "left"
          },
          "hovermode": "closest",
          "mapbox": {
           "style": "light"
          },
          "paper_bgcolor": "white",
          "plot_bgcolor": "#E5ECF6",
          "polar": {
           "angularaxis": {
            "gridcolor": "white",
            "linecolor": "white",
            "ticks": ""
           },
           "bgcolor": "#E5ECF6",
           "radialaxis": {
            "gridcolor": "white",
            "linecolor": "white",
            "ticks": ""
           }
          },
          "scene": {
           "xaxis": {
            "backgroundcolor": "#E5ECF6",
            "gridcolor": "white",
            "gridwidth": 2,
            "linecolor": "white",
            "showbackground": true,
            "ticks": "",
            "zerolinecolor": "white"
           },
           "yaxis": {
            "backgroundcolor": "#E5ECF6",
            "gridcolor": "white",
            "gridwidth": 2,
            "linecolor": "white",
            "showbackground": true,
            "ticks": "",
            "zerolinecolor": "white"
           },
           "zaxis": {
            "backgroundcolor": "#E5ECF6",
            "gridcolor": "white",
            "gridwidth": 2,
            "linecolor": "white",
            "showbackground": true,
            "ticks": "",
            "zerolinecolor": "white"
           }
          },
          "shapedefaults": {
           "line": {
            "color": "#2a3f5f"
           }
          },
          "ternary": {
           "aaxis": {
            "gridcolor": "white",
            "linecolor": "white",
            "ticks": ""
           },
           "baxis": {
            "gridcolor": "white",
            "linecolor": "white",
            "ticks": ""
           },
           "bgcolor": "#E5ECF6",
           "caxis": {
            "gridcolor": "white",
            "linecolor": "white",
            "ticks": ""
           }
          },
          "title": {
           "x": 0.05
          },
          "xaxis": {
           "automargin": true,
           "gridcolor": "white",
           "linecolor": "white",
           "ticks": "",
           "title": {
            "standoff": 15
           },
           "zerolinecolor": "white",
           "zerolinewidth": 2
          },
          "yaxis": {
           "automargin": true,
           "gridcolor": "white",
           "linecolor": "white",
           "ticks": "",
           "title": {
            "standoff": 15
           },
           "zerolinecolor": "white",
           "zerolinewidth": 2
          }
         }
        },
        "xaxis": {
         "anchor": "y",
         "domain": [
          0,
          1
         ],
         "title": {
          "text": "variable"
         }
        },
        "yaxis": {
         "anchor": "x",
         "domain": [
          0,
          1
         ],
         "title": {
          "text": "value"
         }
        }
       }
      },
      "text/html": [
       "<div>                            <div id=\"bf38876b-bdde-43f7-a060-5bd0ecec31dc\" class=\"plotly-graph-div\" style=\"height:525px; width:100%;\"></div>            <script type=\"text/javascript\">                require([\"plotly\"], function(Plotly) {                    window.PLOTLYENV=window.PLOTLYENV || {};                                    if (document.getElementById(\"bf38876b-bdde-43f7-a060-5bd0ecec31dc\")) {                    Plotly.newPlot(                        \"bf38876b-bdde-43f7-a060-5bd0ecec31dc\",                        [{\"alignmentgroup\": \"True\", \"hovertemplate\": \"variable=%{x}<br>value=%{y}<extra></extra>\", \"legendgroup\": \"\", \"marker\": {\"color\": \"#636efa\"}, \"name\": \"\", \"notched\": false, \"offsetgroup\": \"\", \"orientation\": \"v\", \"showlegend\": false, \"type\": \"box\", \"x\": [\"Ratings\", \"Ratings\", \"Ratings\", \"Ratings\", \"Ratings\", \"Ratings\", \"Ratings\", \"Ratings\", \"Ratings\", \"Ratings\", \"Ratings\", \"Ratings\", \"Ratings\", \"Ratings\", \"Ratings\", \"Ratings\", \"Ratings\", \"Ratings\", \"Ratings\", \"Ratings\", \"Ratings\", \"Ratings\", \"Ratings\", \"Ratings\", \"Ratings\", \"Ratings\", \"Ratings\", \"Ratings\", \"Ratings\", \"Ratings\", \"Ratings\", \"Ratings\", \"Ratings\", \"Ratings\", \"Ratings\", \"Ratings\", \"Ratings\", \"Ratings\", \"Ratings\", \"Ratings\", \"Ratings\", \"Ratings\", \"Ratings\", \"Ratings\", \"Ratings\", \"Ratings\", \"Ratings\", \"Ratings\", \"Ratings\", \"Ratings\", \"Ratings\", \"Ratings\", \"Ratings\", \"Ratings\", \"Ratings\", \"Ratings\", \"Ratings\", \"Ratings\", \"Ratings\", \"Ratings\", \"Ratings\", \"Ratings\", \"Ratings\", \"Ratings\", \"Ratings\", \"Ratings\", \"Ratings\", \"Ratings\", \"Ratings\", \"Ratings\", \"Ratings\", \"Ratings\", \"Ratings\", \"Ratings\", \"Ratings\", \"Ratings\", \"Ratings\", \"Ratings\", \"Ratings\", \"Ratings\", \"Ratings\", \"Ratings\", \"Ratings\", \"Ratings\", \"Ratings\", \"Ratings\", \"Ratings\", \"Ratings\", \"Ratings\", \"Ratings\", \"Ratings\", \"Ratings\", \"Ratings\", \"Ratings\", \"Ratings\", \"Ratings\", \"Ratings\", \"Ratings\", \"Ratings\", \"Ratings\", \"Ratings\", \"Ratings\", \"Ratings\", \"Ratings\", \"Ratings\", \"Ratings\", \"Ratings\", \"Ratings\", \"Ratings\", \"Ratings\", \"Ratings\", \"Ratings\", \"Ratings\", \"Ratings\", \"Ratings\", \"Ratings\", \"Ratings\", \"Ratings\", \"Ratings\", \"Ratings\", \"Ratings\", \"Ratings\", \"Ratings\", \"Ratings\", \"Ratings\", \"Ratings\", \"Ratings\", \"Ratings\", \"Ratings\", \"Ratings\", \"Ratings\", \"Ratings\", \"Ratings\", \"Ratings\", \"Ratings\", \"Ratings\", \"Ratings\", \"Ratings\", \"Ratings\", \"Ratings\", \"Ratings\", \"Ratings\", \"Ratings\", \"Ratings\", \"Ratings\", \"Ratings\", \"Ratings\", \"Ratings\", \"Ratings\", \"Ratings\", \"Ratings\", \"Ratings\", \"Ratings\", \"Ratings\", \"Ratings\", \"Ratings\", \"Ratings\", \"Ratings\", \"Ratings\", \"Ratings\", \"Ratings\", \"Ratings\", \"Ratings\", \"Ratings\", \"Ratings\", \"Ratings\", \"Ratings\", \"Ratings\", \"Ratings\", \"Ratings\", \"Ratings\", \"Ratings\", \"Ratings\", \"Ratings\", \"Ratings\", \"Ratings\", \"Ratings\", \"Ratings\", \"Ratings\", \"Ratings\", \"Ratings\", \"Ratings\", \"Ratings\", \"Ratings\", \"Ratings\", \"Ratings\", \"Ratings\", \"Ratings\", \"Ratings\"], \"x0\": \" \", \"xaxis\": \"x\", \"y\": [4.0, 4.0, 4.1, 4.0, 4.0, 3.9, 3.7, 3.9, 4.3, 4.2, 4.0, 4.2, 4.3, 3.7, 3.9, 4.0, 4.3, 4.1, 4.3, 4.2, 4.3, 4.3, 4.0, 3.9, 4.3, 4.3, 4.3, 3.9, 4.2, 3.4, 3.7, 4.3, 4.3, 4.6, 4.5, 4.5, 4.5, 4.3, 4.3, 3.9, 4.3, 4.6, 4.2, 4.3, 4.4, 4.1, 4.4, 4.3, 4.3, 4.2, 4.2, 4.3, 4.3, 3.9, 4.2, 4.3, 4.3, 4.2, 4.2, 4.3, 4.4, 4.6, 4.1, 4.7, 4.2, 4.2, 4.4, 4.3, 4.5, 4.2, 4.3, 4.6, 4.4, 3.8, 4.2, 4.1, 4.0, 4.2, 4.2, 4.4, 4.4, 4.6, 4.4, 4.3, 4.3, 4.1, 4.1, 4.6, 4.6, 4.5, 4.5, 4.7, 4.5, 4.7, 5.0, 4.4, 4.4, 4.4, 4.7, 4.6, 5.0, 4.2, 4.5, 4.5, 4.4, 4.5, null, 4.3, 4.4, 4.3, null, 3.9, 3.5, 3.8, 4.4, 4.5, 4.7, 4.4, 4.3, null, 4.3, 4.2, 4.3, 4.5, 4.5, 4.7, 4.6, 4.7, 4.2, 4.6, 4.0, 3.9, 4.6, 4.8, null, 5.0, null, 4.3, 4.9, 4.4, 4.2, 4.4, 4.5, 4.1, 4.3, 4.0, 4.7, 4.3, 1.0, 4.3, 4.5, 4.1, 4.5, 5.0, 4.3, 4.5, 4.6, 4.5, 4.1, 4.7, 4.2, 5.0, 4.5, null, 4.6, 4.5, 3.9, null, 4.7, null, 3.0, 3.0, 4.4, 4.4, 4.6, 4.6, 4.3, 4.2, 4.6, 5.0, 4.3, 4.8, 4.3, 4.6, 4.6, 4.1, 5.0, 3.6, 4.0], \"y0\": \" \", \"yaxis\": \"y\"}],                        {\"boxmode\": \"group\", \"legend\": {\"tracegroupgap\": 0}, \"margin\": {\"t\": 60}, \"template\": {\"data\": {\"bar\": [{\"error_x\": {\"color\": \"#2a3f5f\"}, \"error_y\": {\"color\": \"#2a3f5f\"}, \"marker\": {\"line\": {\"color\": \"#E5ECF6\", \"width\": 0.5}}, \"type\": \"bar\"}], \"barpolar\": [{\"marker\": {\"line\": {\"color\": \"#E5ECF6\", \"width\": 0.5}}, \"type\": \"barpolar\"}], \"carpet\": [{\"aaxis\": {\"endlinecolor\": \"#2a3f5f\", \"gridcolor\": \"white\", \"linecolor\": \"white\", \"minorgridcolor\": \"white\", \"startlinecolor\": \"#2a3f5f\"}, \"baxis\": {\"endlinecolor\": \"#2a3f5f\", \"gridcolor\": \"white\", \"linecolor\": \"white\", \"minorgridcolor\": \"white\", \"startlinecolor\": \"#2a3f5f\"}, \"type\": \"carpet\"}], \"choropleth\": [{\"colorbar\": {\"outlinewidth\": 0, \"ticks\": \"\"}, \"type\": \"choropleth\"}], \"contour\": [{\"colorbar\": {\"outlinewidth\": 0, \"ticks\": \"\"}, \"colorscale\": [[0.0, \"#0d0887\"], [0.1111111111111111, \"#46039f\"], [0.2222222222222222, \"#7201a8\"], [0.3333333333333333, \"#9c179e\"], [0.4444444444444444, \"#bd3786\"], [0.5555555555555556, \"#d8576b\"], [0.6666666666666666, \"#ed7953\"], [0.7777777777777778, \"#fb9f3a\"], [0.8888888888888888, \"#fdca26\"], [1.0, \"#f0f921\"]], \"type\": \"contour\"}], \"contourcarpet\": [{\"colorbar\": {\"outlinewidth\": 0, \"ticks\": \"\"}, \"type\": \"contourcarpet\"}], \"heatmap\": [{\"colorbar\": {\"outlinewidth\": 0, \"ticks\": \"\"}, \"colorscale\": [[0.0, \"#0d0887\"], [0.1111111111111111, \"#46039f\"], [0.2222222222222222, \"#7201a8\"], [0.3333333333333333, \"#9c179e\"], [0.4444444444444444, \"#bd3786\"], [0.5555555555555556, \"#d8576b\"], [0.6666666666666666, \"#ed7953\"], [0.7777777777777778, \"#fb9f3a\"], [0.8888888888888888, \"#fdca26\"], [1.0, \"#f0f921\"]], \"type\": \"heatmap\"}], \"heatmapgl\": [{\"colorbar\": {\"outlinewidth\": 0, \"ticks\": \"\"}, \"colorscale\": [[0.0, \"#0d0887\"], [0.1111111111111111, \"#46039f\"], [0.2222222222222222, \"#7201a8\"], [0.3333333333333333, \"#9c179e\"], [0.4444444444444444, \"#bd3786\"], [0.5555555555555556, \"#d8576b\"], [0.6666666666666666, \"#ed7953\"], [0.7777777777777778, \"#fb9f3a\"], [0.8888888888888888, \"#fdca26\"], [1.0, \"#f0f921\"]], \"type\": \"heatmapgl\"}], \"histogram\": [{\"marker\": {\"colorbar\": {\"outlinewidth\": 0, \"ticks\": \"\"}}, \"type\": \"histogram\"}], \"histogram2d\": [{\"colorbar\": {\"outlinewidth\": 0, \"ticks\": \"\"}, \"colorscale\": [[0.0, \"#0d0887\"], [0.1111111111111111, \"#46039f\"], [0.2222222222222222, \"#7201a8\"], [0.3333333333333333, \"#9c179e\"], [0.4444444444444444, \"#bd3786\"], [0.5555555555555556, \"#d8576b\"], [0.6666666666666666, \"#ed7953\"], [0.7777777777777778, \"#fb9f3a\"], [0.8888888888888888, \"#fdca26\"], [1.0, \"#f0f921\"]], \"type\": \"histogram2d\"}], \"histogram2dcontour\": [{\"colorbar\": {\"outlinewidth\": 0, \"ticks\": \"\"}, \"colorscale\": [[0.0, \"#0d0887\"], [0.1111111111111111, \"#46039f\"], [0.2222222222222222, \"#7201a8\"], [0.3333333333333333, \"#9c179e\"], [0.4444444444444444, \"#bd3786\"], [0.5555555555555556, \"#d8576b\"], [0.6666666666666666, \"#ed7953\"], [0.7777777777777778, \"#fb9f3a\"], [0.8888888888888888, \"#fdca26\"], [1.0, \"#f0f921\"]], \"type\": \"histogram2dcontour\"}], \"mesh3d\": [{\"colorbar\": {\"outlinewidth\": 0, \"ticks\": \"\"}, \"type\": \"mesh3d\"}], \"parcoords\": [{\"line\": {\"colorbar\": {\"outlinewidth\": 0, \"ticks\": \"\"}}, \"type\": \"parcoords\"}], \"pie\": [{\"automargin\": true, \"type\": \"pie\"}], \"scatter\": [{\"marker\": {\"colorbar\": {\"outlinewidth\": 0, \"ticks\": \"\"}}, \"type\": \"scatter\"}], \"scatter3d\": [{\"line\": {\"colorbar\": {\"outlinewidth\": 0, \"ticks\": \"\"}}, \"marker\": {\"colorbar\": {\"outlinewidth\": 0, \"ticks\": \"\"}}, \"type\": \"scatter3d\"}], \"scattercarpet\": [{\"marker\": {\"colorbar\": {\"outlinewidth\": 0, \"ticks\": \"\"}}, \"type\": \"scattercarpet\"}], \"scattergeo\": [{\"marker\": {\"colorbar\": {\"outlinewidth\": 0, \"ticks\": \"\"}}, \"type\": \"scattergeo\"}], \"scattergl\": [{\"marker\": {\"colorbar\": {\"outlinewidth\": 0, \"ticks\": \"\"}}, \"type\": \"scattergl\"}], \"scattermapbox\": [{\"marker\": {\"colorbar\": {\"outlinewidth\": 0, \"ticks\": \"\"}}, \"type\": \"scattermapbox\"}], \"scatterpolar\": [{\"marker\": {\"colorbar\": {\"outlinewidth\": 0, \"ticks\": \"\"}}, \"type\": \"scatterpolar\"}], \"scatterpolargl\": [{\"marker\": {\"colorbar\": {\"outlinewidth\": 0, \"ticks\": \"\"}}, \"type\": \"scatterpolargl\"}], \"scatterternary\": [{\"marker\": {\"colorbar\": {\"outlinewidth\": 0, \"ticks\": \"\"}}, \"type\": \"scatterternary\"}], \"surface\": [{\"colorbar\": {\"outlinewidth\": 0, \"ticks\": \"\"}, \"colorscale\": [[0.0, \"#0d0887\"], [0.1111111111111111, \"#46039f\"], [0.2222222222222222, \"#7201a8\"], [0.3333333333333333, \"#9c179e\"], [0.4444444444444444, \"#bd3786\"], [0.5555555555555556, \"#d8576b\"], [0.6666666666666666, \"#ed7953\"], [0.7777777777777778, \"#fb9f3a\"], [0.8888888888888888, \"#fdca26\"], [1.0, \"#f0f921\"]], \"type\": \"surface\"}], \"table\": [{\"cells\": {\"fill\": {\"color\": \"#EBF0F8\"}, \"line\": {\"color\": \"white\"}}, \"header\": {\"fill\": {\"color\": \"#C8D4E3\"}, \"line\": {\"color\": \"white\"}}, \"type\": \"table\"}]}, \"layout\": {\"annotationdefaults\": {\"arrowcolor\": \"#2a3f5f\", \"arrowhead\": 0, \"arrowwidth\": 1}, \"autotypenumbers\": \"strict\", \"coloraxis\": {\"colorbar\": {\"outlinewidth\": 0, \"ticks\": \"\"}}, \"colorscale\": {\"diverging\": [[0, \"#8e0152\"], [0.1, \"#c51b7d\"], [0.2, \"#de77ae\"], [0.3, \"#f1b6da\"], [0.4, \"#fde0ef\"], [0.5, \"#f7f7f7\"], [0.6, \"#e6f5d0\"], [0.7, \"#b8e186\"], [0.8, \"#7fbc41\"], [0.9, \"#4d9221\"], [1, \"#276419\"]], \"sequential\": [[0.0, \"#0d0887\"], [0.1111111111111111, \"#46039f\"], [0.2222222222222222, \"#7201a8\"], [0.3333333333333333, \"#9c179e\"], [0.4444444444444444, \"#bd3786\"], [0.5555555555555556, \"#d8576b\"], [0.6666666666666666, \"#ed7953\"], [0.7777777777777778, \"#fb9f3a\"], [0.8888888888888888, \"#fdca26\"], [1.0, \"#f0f921\"]], \"sequentialminus\": [[0.0, \"#0d0887\"], [0.1111111111111111, \"#46039f\"], [0.2222222222222222, \"#7201a8\"], [0.3333333333333333, \"#9c179e\"], [0.4444444444444444, \"#bd3786\"], [0.5555555555555556, \"#d8576b\"], [0.6666666666666666, \"#ed7953\"], [0.7777777777777778, \"#fb9f3a\"], [0.8888888888888888, \"#fdca26\"], [1.0, \"#f0f921\"]]}, \"colorway\": [\"#636efa\", \"#EF553B\", \"#00cc96\", \"#ab63fa\", \"#FFA15A\", \"#19d3f3\", \"#FF6692\", \"#B6E880\", \"#FF97FF\", \"#FECB52\"], \"font\": {\"color\": \"#2a3f5f\"}, \"geo\": {\"bgcolor\": \"white\", \"lakecolor\": \"white\", \"landcolor\": \"#E5ECF6\", \"showlakes\": true, \"showland\": true, \"subunitcolor\": \"white\"}, \"hoverlabel\": {\"align\": \"left\"}, \"hovermode\": \"closest\", \"mapbox\": {\"style\": \"light\"}, \"paper_bgcolor\": \"white\", \"plot_bgcolor\": \"#E5ECF6\", \"polar\": {\"angularaxis\": {\"gridcolor\": \"white\", \"linecolor\": \"white\", \"ticks\": \"\"}, \"bgcolor\": \"#E5ECF6\", \"radialaxis\": {\"gridcolor\": \"white\", \"linecolor\": \"white\", \"ticks\": \"\"}}, \"scene\": {\"xaxis\": {\"backgroundcolor\": \"#E5ECF6\", \"gridcolor\": \"white\", \"gridwidth\": 2, \"linecolor\": \"white\", \"showbackground\": true, \"ticks\": \"\", \"zerolinecolor\": \"white\"}, \"yaxis\": {\"backgroundcolor\": \"#E5ECF6\", \"gridcolor\": \"white\", \"gridwidth\": 2, \"linecolor\": \"white\", \"showbackground\": true, \"ticks\": \"\", \"zerolinecolor\": \"white\"}, \"zaxis\": {\"backgroundcolor\": \"#E5ECF6\", \"gridcolor\": \"white\", \"gridwidth\": 2, \"linecolor\": \"white\", \"showbackground\": true, \"ticks\": \"\", \"zerolinecolor\": \"white\"}}, \"shapedefaults\": {\"line\": {\"color\": \"#2a3f5f\"}}, \"ternary\": {\"aaxis\": {\"gridcolor\": \"white\", \"linecolor\": \"white\", \"ticks\": \"\"}, \"baxis\": {\"gridcolor\": \"white\", \"linecolor\": \"white\", \"ticks\": \"\"}, \"bgcolor\": \"#E5ECF6\", \"caxis\": {\"gridcolor\": \"white\", \"linecolor\": \"white\", \"ticks\": \"\"}}, \"title\": {\"x\": 0.05}, \"xaxis\": {\"automargin\": true, \"gridcolor\": \"white\", \"linecolor\": \"white\", \"ticks\": \"\", \"title\": {\"standoff\": 15}, \"zerolinecolor\": \"white\", \"zerolinewidth\": 2}, \"yaxis\": {\"automargin\": true, \"gridcolor\": \"white\", \"linecolor\": \"white\", \"ticks\": \"\", \"title\": {\"standoff\": 15}, \"zerolinecolor\": \"white\", \"zerolinewidth\": 2}}}, \"xaxis\": {\"anchor\": \"y\", \"domain\": [0.0, 1.0], \"title\": {\"text\": \"variable\"}}, \"yaxis\": {\"anchor\": \"x\", \"domain\": [0.0, 1.0], \"title\": {\"text\": \"value\"}}},                        {\"responsive\": true}                    ).then(function(){\n",
       "                            \n",
       "var gd = document.getElementById('bf38876b-bdde-43f7-a060-5bd0ecec31dc');\n",
       "var x = new MutationObserver(function (mutations, observer) {{\n",
       "        var display = window.getComputedStyle(gd).display;\n",
       "        if (!display || display === 'none') {{\n",
       "            console.log([gd, 'removed!']);\n",
       "            Plotly.purge(gd);\n",
       "            observer.disconnect();\n",
       "        }}\n",
       "}});\n",
       "\n",
       "// Listen for the removal of the full notebook cells\n",
       "var notebookContainer = gd.closest('#notebook-container');\n",
       "if (notebookContainer) {{\n",
       "    x.observe(notebookContainer, {childList: true});\n",
       "}}\n",
       "\n",
       "// Listen for the clearing of the current output cell\n",
       "var outputEl = gd.closest('.output');\n",
       "if (outputEl) {{\n",
       "    x.observe(outputEl, {childList: true});\n",
       "}}\n",
       "\n",
       "                        })                };                });            </script>        </div>"
      ]
     },
     "metadata": {},
     "output_type": "display_data"
    }
   ],
   "source": [
    "px.box(cars['Ratings'])"
   ]
  },
  {
   "cell_type": "markdown",
   "id": "b9c90908",
   "metadata": {},
   "source": [
    "## 75% of people have given rating between 4 and 5"
   ]
  },
  {
   "cell_type": "markdown",
   "id": "de2f999d",
   "metadata": {},
   "source": [
    "## - Rated by"
   ]
  },
  {
   "cell_type": "code",
   "execution_count": 963,
   "id": "07714d60",
   "metadata": {},
   "outputs": [
    {
     "data": {
      "text/plain": [
       "<AxesSubplot:xlabel='Rated By', ylabel='Count'>"
      ]
     },
     "execution_count": 963,
     "metadata": {},
     "output_type": "execute_result"
    },
    {
     "data": {
      "image/png": "[encoded data removed]",
      "text/plain": [
       "<Figure size 720x576 with 1 Axes>"
      ]
     },
     "metadata": {
      "needs_background": "light"
     },
     "output_type": "display_data"
    }
   ],
   "source": [
    "plt.figure(figsize=(10,8))\n",
    "sns.histplot(cars['Rated By'])"
   ]
  },
  {
   "cell_type": "code",
   "execution_count": 964,
   "id": "aa6018fb",
   "metadata": {},
   "outputs": [
    {
     "data": {
      "application/vnd.plotly.v1+json": {
       "config": {
        "plotlyServerURL": "https://plot.ly"
       },
       "data": [
        {
         "alignmentgroup": "True",
         "hovertemplate": "variable=%{x}<br>value=%{y}<extra></extra>",
         "legendgroup": "",
         "marker": {
          "color": "#636efa"
         },
         "name": "",
         "notched": false,
         "offsetgroup": "",
         "orientation": "v",
         "showlegend": false,
         "type": "box",
         "x": [
          "Rated By",
          "Rated By",
          "Rated By",
          "Rated By",
          "Rated By",
          "Rated By",
          "Rated By",
          "Rated By",
          "Rated By",
          "Rated By",
          "Rated By",
          "Rated By",
          "Rated By",
          "Rated By",
          "Rated By",
          "Rated By",
          "Rated By",
          "Rated By",
          "Rated By",
          "Rated By",
          "Rated By",
          "Rated By",
          "Rated By",
          "Rated By",
          "Rated By",
          "Rated By",
          "Rated By",
          "Rated By",
          "Rated By",
          "Rated By",
          "Rated By",
          "Rated By",
          "Rated By",
          "Rated By",
          "Rated By",
          "Rated By",
          "Rated By",
          "Rated By",
          "Rated By",
          "Rated By",
          "Rated By",
          "Rated By",
          "Rated By",
          "Rated By",
          "Rated By",
          "Rated By",
          "Rated By",
          "Rated By",
          "Rated By",
          "Rated By",
          "Rated By",
          "Rated By",
          "Rated By",
          "Rated By",
          "Rated By",
          "Rated By",
          "Rated By",
          "Rated By",
          "Rated By",
          "Rated By",
          "Rated By",
          "Rated By",
          "Rated By",
          "Rated By",
          "Rated By",
          "Rated By",
          "Rated By",
          "Rated By",
          "Rated By",
          "Rated By",
          "Rated By",
          "Rated By",
          "Rated By",
          "Rated By",
          "Rated By",
          "Rated By",
          "Rated By",
          "Rated By",
          "Rated By",
          "Rated By",
          "Rated By",
          "Rated By",
          "Rated By",
          "Rated By",
          "Rated By",
          "Rated By",
          "Rated By",
          "Rated By",
          "Rated By",
          "Rated By",
          "Rated By",
          "Rated By",
          "Rated By",
          "Rated By",
          "Rated By",
          "Rated By",
          "Rated By",
          "Rated By",
          "Rated By",
          "Rated By",
          "Rated By",
          "Rated By",
          "Rated By",
          "Rated By",
          "Rated By",
          "Rated By",
          "Rated By",
          "Rated By",
          "Rated By",
          "Rated By",
          "Rated By",
          "Rated By",
          "Rated By",
          "Rated By",
          "Rated By",
          "Rated By",
          "Rated By",
          "Rated By",
          "Rated By",
          "Rated By",
          "Rated By",
          "Rated By",
          "Rated By",
          "Rated By",
          "Rated By",
          "Rated By",
          "Rated By",
          "Rated By",
          "Rated By",
          "Rated By",
          "Rated By",
          "Rated By",
          "Rated By",
          "Rated By",
          "Rated By",
          "Rated By",
          "Rated By",
          "Rated By",
          "Rated By",
          "Rated By",
          "Rated By",
          "Rated By",
          "Rated By",
          "Rated By",
          "Rated By",
          "Rated By",
          "Rated By",
          "Rated By",
          "Rated By",
          "Rated By",
          "Rated By",
          "Rated By",
          "Rated By",
          "Rated By",
          "Rated By",
          "Rated By",
          "Rated By",
          "Rated By",
          "Rated By",
          "Rated By",
          "Rated By",
          "Rated By",
          "Rated By",
          "Rated By",
          "Rated By",
          "Rated By",
          "Rated By",
          "Rated By",
          "Rated By",
          "Rated By",
          "Rated By",
          "Rated By",
          "Rated By",
          "Rated By",
          "Rated By",
          "Rated By",
          "Rated By",
          "Rated By",
          "Rated By",
          "Rated By",
          "Rated By",
          "Rated By",
          "Rated By",
          "Rated By",
          "Rated By",
          "Rated By",
          "Rated By",
          "Rated By",
          "Rated By"
         ],
         "x0": " ",
         "xaxis": "x",
         "y": [
          177,
          278,
          2100,
          771,
          1709,
          3780,
          3400,
          975,
          185,
          92,
          307,
          499,
          967,
          743,
          166,
          69,
          570,
          1320,
          131,
          112,
          1761,
          117,
          1677,
          262,
          434,
          1205,
          179,
          305,
          73,
          17,
          138,
          23,
          21,
          19,
          559,
          332,
          361,
          590,
          160,
          27,
          12,
          35,
          51,
          146,
          90,
          952,
          313,
          466,
          635,
          486,
          661,
          551,
          133,
          1176,
          89,
          11,
          27,
          6,
          288,
          87,
          117,
          47,
          98,
          13,
          139,
          30,
          755,
          241,
          101,
          604,
          313,
          13,
          10,
          716,
          33,
          351,
          334,
          47,
          32,
          74,
          31,
          9,
          4,
          123,
          39,
          25,
          11,
          50,
          32,
          20,
          14,
          2,
          2,
          3,
          1,
          11,
          7,
          11,
          9,
          18,
          2,
          4,
          2,
          47,
          74,
          25,
          null,
          1,
          109,
          10,
          null,
          87,
          191,
          232,
          29,
          17,
          4,
          12,
          23,
          null,
          48,
          90,
          43,
          107,
          13,
          22,
          32,
          19,
          41,
          6,
          4,
          2,
          18,
          8,
          null,
          1,
          null,
          514,
          3,
          11,
          68,
          63,
          18,
          7,
          12,
          1,
          1,
          31,
          1,
          16,
          13,
          18,
          4,
          1,
          6,
          14,
          6,
          2,
          9,
          10,
          2,
          1,
          12,
          null,
          5,
          4,
          5,
          null,
          2,
          null,
          1,
          2,
          37,
          21,
          52,
          16,
          13,
          8,
          33,
          1,
          12,
          4,
          17,
          26,
          17,
          19,
          1,
          9,
          4
         ],
         "y0": " ",
         "yaxis": "y"
        }
       ],
       "layout": {
        "boxmode": "group",
        "legend": {
         "tracegroupgap": 0
        },
        "margin": {
         "t": 60
        },
        "template": {
         "data": {
          "bar": [
           {
            "error_x": {
             "color": "#2a3f5f"
            },
            "error_y": {
             "color": "#2a3f5f"
            },
            "marker": {
             "line": {
              "color": "#E5ECF6",
              "width": 0.5
             }
            },
            "type": "bar"
           }
          ],
          "barpolar": [
           {
            "marker": {
             "line": {
              "color": "#E5ECF6",
              "width": 0.5
             }
            },
            "type": "barpolar"
           }
          ],
          "carpet": [
           {
            "aaxis": {
             "endlinecolor": "#2a3f5f",
             "gridcolor": "white",
             "linecolor": "white",
             "minorgridcolor": "white",
             "startlinecolor": "#2a3f5f"
            },
            "baxis": {
             "endlinecolor": "#2a3f5f",
             "gridcolor": "white",
             "linecolor": "white",
             "minorgridcolor": "white",
             "startlinecolor": "#2a3f5f"
            },
            "type": "carpet"
           }
          ],
          "choropleth": [
           {
            "colorbar": {
             "outlinewidth": 0,
             "ticks": ""
            },
            "type": "choropleth"
           }
          ],
          "contour": [
           {
            "colorbar": {
             "outlinewidth": 0,
             "ticks": ""
            },
            "colorscale": [
             [
              0,
              "#0d0887"
             ],
             [
              0.1111111111111111,
              "#46039f"
             ],
             [
              0.2222222222222222,
              "#7201a8"
             ],
             [
              0.3333333333333333,
              "#9c179e"
             ],
             [
              0.4444444444444444,
              "#bd3786"
             ],
             [
              0.5555555555555556,
              "#d8576b"
             ],
             [
              0.6666666666666666,
              "#ed7953"
             ],
             [
              0.7777777777777778,
              "#fb9f3a"
             ],
             [
              0.8888888888888888,
              "#fdca26"
             ],
             [
              1,
              "#f0f921"
             ]
            ],
            "type": "contour"
           }
          ],
          "contourcarpet": [
           {
            "colorbar": {
             "outlinewidth": 0,
             "ticks": ""
            },
            "type": "contourcarpet"
           }
          ],
          "heatmap": [
           {
            "colorbar": {
             "outlinewidth": 0,
             "ticks": ""
            },
            "colorscale": [
             [
              0,
              "#0d0887"
             ],
             [
              0.1111111111111111,
              "#46039f"
             ],
             [
              0.2222222222222222,
              "#7201a8"
             ],
             [
              0.3333333333333333,
              "#9c179e"
             ],
             [
              0.4444444444444444,
              "#bd3786"
             ],
             [
              0.5555555555555556,
              "#d8576b"
             ],
             [
              0.6666666666666666,
              "#ed7953"
             ],
             [
              0.7777777777777778,
              "#fb9f3a"
             ],
             [
              0.8888888888888888,
              "#fdca26"
             ],
             [
              1,
              "#f0f921"
             ]
            ],
            "type": "heatmap"
           }
          ],
          "heatmapgl": [
           {
            "colorbar": {
             "outlinewidth": 0,
             "ticks": ""
            },
            "colorscale": [
             [
              0,
              "#0d0887"
             ],
             [
              0.1111111111111111,
              "#46039f"
             ],
             [
              0.2222222222222222,
              "#7201a8"
             ],
             [
              0.3333333333333333,
              "#9c179e"
             ],
             [
              0.4444444444444444,
              "#bd3786"
             ],
             [
              0.5555555555555556,
              "#d8576b"
             ],
             [
              0.6666666666666666,
              "#ed7953"
             ],
             [
              0.7777777777777778,
              "#fb9f3a"
             ],
             [
              0.8888888888888888,
              "#fdca26"
             ],
             [
              1,
              "#f0f921"
             ]
            ],
            "type": "heatmapgl"
           }
          ],
          "histogram": [
           {
            "marker": {
             "colorbar": {
              "outlinewidth": 0,
              "ticks": ""
             }
            },
            "type": "histogram"
           }
          ],
          "histogram2d": [
           {
            "colorbar": {
             "outlinewidth": 0,
             "ticks": ""
            },
            "colorscale": [
             [
              0,
              "#0d0887"
             ],
             [
              0.1111111111111111,
              "#46039f"
             ],
             [
              0.2222222222222222,
              "#7201a8"
             ],
             [
              0.3333333333333333,
              "#9c179e"
             ],
             [
              0.4444444444444444,
              "#bd3786"
             ],
             [
              0.5555555555555556,
              "#d8576b"
             ],
             [
              0.6666666666666666,
              "#ed7953"
             ],
             [
              0.7777777777777778,
              "#fb9f3a"
             ],
             [
              0.8888888888888888,
              "#fdca26"
             ],
             [
              1,
              "#f0f921"
             ]
            ],
            "type": "histogram2d"
           }
          ],
          "histogram2dcontour": [
           {
            "colorbar": {
             "outlinewidth": 0,
             "ticks": ""
            },
            "colorscale": [
             [
              0,
              "#0d0887"
             ],
             [
              0.1111111111111111,
              "#46039f"
             ],
             [
              0.2222222222222222,
              "#7201a8"
             ],
             [
              0.3333333333333333,
              "#9c179e"
             ],
             [
              0.4444444444444444,
              "#bd3786"
             ],
             [
              0.5555555555555556,
              "#d8576b"
             ],
             [
              0.6666666666666666,
              "#ed7953"
             ],
             [
              0.7777777777777778,
              "#fb9f3a"
             ],
             [
              0.8888888888888888,
              "#fdca26"
             ],
             [
              1,
              "#f0f921"
             ]
            ],
            "type": "histogram2dcontour"
           }
          ],
          "mesh3d": [
           {
            "colorbar": {
             "outlinewidth": 0,
             "ticks": ""
            },
            "type": "mesh3d"
           }
          ],
          "parcoords": [
           {
            "line": {
             "colorbar": {
              "outlinewidth": 0,
              "ticks": ""
             }
            },
            "type": "parcoords"
           }
          ],
          "pie": [
           {
            "automargin": true,
            "type": "pie"
           }
          ],
          "scatter": [
           {
            "marker": {
             "colorbar": {
              "outlinewidth": 0,
              "ticks": ""
             }
            },
            "type": "scatter"
           }
          ],
          "scatter3d": [
           {
            "line": {
             "colorbar": {
              "outlinewidth": 0,
              "ticks": ""
             }
            },
            "marker": {
             "colorbar": {
              "outlinewidth": 0,
              "ticks": ""
             }
            },
            "type": "scatter3d"
           }
          ],
          "scattercarpet": [
           {
            "marker": {
             "colorbar": {
              "outlinewidth": 0,
              "ticks": ""
             }
            },
            "type": "scattercarpet"
           }
          ],
          "scattergeo": [
           {
            "marker": {
             "colorbar": {
              "outlinewidth": 0,
              "ticks": ""
             }
            },
            "type": "scattergeo"
           }
          ],
          "scattergl": [
           {
            "marker": {
             "colorbar": {
              "outlinewidth": 0,
              "ticks": ""
             }
            },
            "type": "scattergl"
           }
          ],
          "scattermapbox": [
           {
            "marker": {
             "colorbar": {
              "outlinewidth": 0,
              "ticks": ""
             }
            },
            "type": "scattermapbox"
           }
          ],
          "scatterpolar": [
           {
            "marker": {
             "colorbar": {
              "outlinewidth": 0,
              "ticks": ""
             }
            },
            "type": "scatterpolar"
           }
          ],
          "scatterpolargl": [
           {
            "marker": {
             "colorbar": {
              "outlinewidth": 0,
              "ticks": ""
             }
            },
            "type": "scatterpolargl"
           }
          ],
          "scatterternary": [
           {
            "marker": {
             "colorbar": {
              "outlinewidth": 0,
              "ticks": ""
             }
            },
            "type": "scatterternary"
           }
          ],
          "surface": [
           {
            "colorbar": {
             "outlinewidth": 0,
             "ticks": ""
            },
            "colorscale": [
             [
              0,
              "#0d0887"
             ],
             [
              0.1111111111111111,
              "#46039f"
             ],
             [
              0.2222222222222222,
              "#7201a8"
             ],
             [
              0.3333333333333333,
              "#9c179e"
             ],
             [
              0.4444444444444444,
              "#bd3786"
             ],
             [
              0.5555555555555556,
              "#d8576b"
             ],
             [
              0.6666666666666666,
              "#ed7953"
             ],
             [
              0.7777777777777778,
              "#fb9f3a"
             ],
             [
              0.8888888888888888,
              "#fdca26"
             ],
             [
              1,
              "#f0f921"
             ]
            ],
            "type": "surface"
           }
          ],
          "table": [
           {
            "cells": {
             "fill": {
              "color": "#EBF0F8"
             },
             "line": {
              "color": "white"
             }
            },
            "header": {
             "fill": {
              "color": "#C8D4E3"
             },
             "line": {
              "color": "white"
             }
            },
            "type": "table"
           }
          ]
         },
         "layout": {
          "annotationdefaults": {
           "arrowcolor": "#2a3f5f",
           "arrowhead": 0,
           "arrowwidth": 1
          },
          "autotypenumbers": "strict",
          "coloraxis": {
           "colorbar": {
            "outlinewidth": 0,
            "ticks": ""
           }
          },
          "colorscale": {
           "diverging": [
            [
             0,
             "#8e0152"
            ],
            [
             0.1,
             "#c51b7d"
            ],
            [
             0.2,
             "#de77ae"
            ],
            [
             0.3,
             "#f1b6da"
            ],
            [
             0.4,
             "#fde0ef"
            ],
            [
             0.5,
             "#f7f7f7"
            ],
            [
             0.6,
             "#e6f5d0"
            ],
            [
             0.7,
             "#b8e186"
            ],
            [
             0.8,
             "#7fbc41"
            ],
            [
             0.9,
             "#4d9221"
            ],
            [
             1,
             "#276419"
            ]
           ],
           "sequential": [
            [
             0,
             "#0d0887"
            ],
            [
             0.1111111111111111,
             "#46039f"
            ],
            [
             0.2222222222222222,
             "#7201a8"
            ],
            [
             0.3333333333333333,
             "#9c179e"
            ],
            [
             0.4444444444444444,
             "#bd3786"
            ],
            [
             0.5555555555555556,
             "#d8576b"
            ],
            [
             0.6666666666666666,
             "#ed7953"
            ],
            [
             0.7777777777777778,
             "#fb9f3a"
            ],
            [
             0.8888888888888888,
             "#fdca26"
            ],
            [
             1,
             "#f0f921"
            ]
           ],
           "sequentialminus": [
            [
             0,
             "#0d0887"
            ],
            [
             0.1111111111111111,
             "#46039f"
            ],
            [
             0.2222222222222222,
             "#7201a8"
            ],
            [
             0.3333333333333333,
             "#9c179e"
            ],
            [
             0.4444444444444444,
             "#bd3786"
            ],
            [
             0.5555555555555556,
             "#d8576b"
            ],
            [
             0.6666666666666666,
             "#ed7953"
            ],
            [
             0.7777777777777778,
             "#fb9f3a"
            ],
            [
             0.8888888888888888,
             "#fdca26"
            ],
            [
             1,
             "#f0f921"
            ]
           ]
          },
          "colorway": [
           "#636efa",
           "#EF553B",
           "#00cc96",
           "#ab63fa",
           "#FFA15A",
           "#19d3f3",
           "#FF6692",
           "#B6E880",
           "#FF97FF",
           "#FECB52"
          ],
          "font": {
           "color": "#2a3f5f"
          },
          "geo": {
           "bgcolor": "white",
           "lakecolor": "white",
           "landcolor": "#E5ECF6",
           "showlakes": true,
           "showland": true,
           "subunitcolor": "white"
          },
          "hoverlabel": {
           "align": "left"
          },
          "hovermode": "closest",
          "mapbox": {
           "style": "light"
          },
          "paper_bgcolor": "white",
          "plot_bgcolor": "#E5ECF6",
          "polar": {
           "angularaxis": {
            "gridcolor": "white",
            "linecolor": "white",
            "ticks": ""
           },
           "bgcolor": "#E5ECF6",
           "radialaxis": {
            "gridcolor": "white",
            "linecolor": "white",
            "ticks": ""
           }
          },
          "scene": {
           "xaxis": {
            "backgroundcolor": "#E5ECF6",
            "gridcolor": "white",
            "gridwidth": 2,
            "linecolor": "white",
            "showbackground": true,
            "ticks": "",
            "zerolinecolor": "white"
           },
           "yaxis": {
            "backgroundcolor": "#E5ECF6",
            "gridcolor": "white",
            "gridwidth": 2,
            "linecolor": "white",
            "showbackground": true,
            "ticks": "",
            "zerolinecolor": "white"
           },
           "zaxis": {
            "backgroundcolor": "#E5ECF6",
            "gridcolor": "white",
            "gridwidth": 2,
            "linecolor": "white",
            "showbackground": true,
            "ticks": "",
            "zerolinecolor": "white"
           }
          },
          "shapedefaults": {
           "line": {
            "color": "#2a3f5f"
           }
          },
          "ternary": {
           "aaxis": {
            "gridcolor": "white",
            "linecolor": "white",
            "ticks": ""
           },
           "baxis": {
            "gridcolor": "white",
            "linecolor": "white",
            "ticks": ""
           },
           "bgcolor": "#E5ECF6",
           "caxis": {
            "gridcolor": "white",
            "linecolor": "white",
            "ticks": ""
           }
          },
          "title": {
           "x": 0.05
          },
          "xaxis": {
           "automargin": true,
           "gridcolor": "white",
           "linecolor": "white",
           "ticks": "",
           "title": {
            "standoff": 15
           },
           "zerolinecolor": "white",
           "zerolinewidth": 2
          },
          "yaxis": {
           "automargin": true,
           "gridcolor": "white",
           "linecolor": "white",
           "ticks": "",
           "title": {
            "standoff": 15
           },
           "zerolinecolor": "white",
           "zerolinewidth": 2
          }
         }
        },
        "xaxis": {
         "anchor": "y",
         "domain": [
          0,
          1
         ],
         "title": {
          "text": "variable"
         }
        },
        "yaxis": {
         "anchor": "x",
         "domain": [
          0,
          1
         ],
         "title": {
          "text": "value"
         }
        }
       }
      },
      "text/html": [
       "<div>                            <div id=\"e4c65de6-5286-401e-a25c-166265eed328\" class=\"plotly-graph-div\" style=\"height:525px; width:100%;\"></div>            <script type=\"text/javascript\">                require([\"plotly\"], function(Plotly) {                    window.PLOTLYENV=window.PLOTLYENV || {};                                    if (document.getElementById(\"e4c65de6-5286-401e-a25c-166265eed328\")) {                    Plotly.newPlot(                        \"e4c65de6-5286-401e-a25c-166265eed328\",                        [{\"alignmentgroup\": \"True\", \"hovertemplate\": \"variable=%{x}<br>value=%{y}<extra></extra>\", \"legendgroup\": \"\", \"marker\": {\"color\": \"#636efa\"}, \"name\": \"\", \"notched\": false, \"offsetgroup\": \"\", \"orientation\": \"v\", \"showlegend\": false, \"type\": \"box\", \"x\": [\"Rated By\", \"Rated By\", \"Rated By\", \"Rated By\", \"Rated By\", \"Rated By\", \"Rated By\", \"Rated By\", \"Rated By\", \"Rated By\", \"Rated By\", \"Rated By\", \"Rated By\", \"Rated By\", \"Rated By\", \"Rated By\", \"Rated By\", \"Rated By\", \"Rated By\", \"Rated By\", \"Rated By\", \"Rated By\", \"Rated By\", \"Rated By\", \"Rated By\", \"Rated By\", \"Rated By\", \"Rated By\", \"Rated By\", \"Rated By\", \"Rated By\", \"Rated By\", \"Rated By\", \"Rated By\", \"Rated By\", \"Rated By\", \"Rated By\", \"Rated By\", \"Rated By\", \"Rated By\", \"Rated By\", \"Rated By\", \"Rated By\", \"Rated By\", \"Rated By\", \"Rated By\", \"Rated By\", \"Rated By\", \"Rated By\", \"Rated By\", \"Rated By\", \"Rated By\", \"Rated By\", \"Rated By\", \"Rated By\", \"Rated By\", \"Rated By\", \"Rated By\", \"Rated By\", \"Rated By\", \"Rated By\", \"Rated By\", \"Rated By\", \"Rated By\", \"Rated By\", \"Rated By\", \"Rated By\", \"Rated By\", \"Rated By\", \"Rated By\", \"Rated By\", \"Rated By\", \"Rated By\", \"Rated By\", \"Rated By\", \"Rated By\", \"Rated By\", \"Rated By\", \"Rated By\", \"Rated By\", \"Rated By\", \"Rated By\", \"Rated By\", \"Rated By\", \"Rated By\", \"Rated By\", \"Rated By\", \"Rated By\", \"Rated By\", \"Rated By\", \"Rated By\", \"Rated By\", \"Rated By\", \"Rated By\", \"Rated By\", \"Rated By\", \"Rated By\", \"Rated By\", \"Rated By\", \"Rated By\", \"Rated By\", \"Rated By\", \"Rated By\", \"Rated By\", \"Rated By\", \"Rated By\", \"Rated By\", \"Rated By\", \"Rated By\", \"Rated By\", \"Rated By\", \"Rated By\", \"Rated By\", \"Rated By\", \"Rated By\", \"Rated By\", \"Rated By\", \"Rated By\", \"Rated By\", \"Rated By\", \"Rated By\", \"Rated By\", \"Rated By\", \"Rated By\", \"Rated By\", \"Rated By\", \"Rated By\", \"Rated By\", \"Rated By\", \"Rated By\", \"Rated By\", \"Rated By\", \"Rated By\", \"Rated By\", \"Rated By\", \"Rated By\", \"Rated By\", \"Rated By\", \"Rated By\", \"Rated By\", \"Rated By\", \"Rated By\", \"Rated By\", \"Rated By\", \"Rated By\", \"Rated By\", \"Rated By\", \"Rated By\", \"Rated By\", \"Rated By\", \"Rated By\", \"Rated By\", \"Rated By\", \"Rated By\", \"Rated By\", \"Rated By\", \"Rated By\", \"Rated By\", \"Rated By\", \"Rated By\", \"Rated By\", \"Rated By\", \"Rated By\", \"Rated By\", \"Rated By\", \"Rated By\", \"Rated By\", \"Rated By\", \"Rated By\", \"Rated By\", \"Rated By\", \"Rated By\", \"Rated By\", \"Rated By\", \"Rated By\", \"Rated By\", \"Rated By\", \"Rated By\", \"Rated By\", \"Rated By\", \"Rated By\", \"Rated By\", \"Rated By\", \"Rated By\", \"Rated By\", \"Rated By\", \"Rated By\", \"Rated By\", \"Rated By\"], \"x0\": \" \", \"xaxis\": \"x\", \"y\": [177.0, 278.0, 2100.0, 771.0, 1709.0, 3780.0, 3400.0, 975.0, 185.0, 92.0, 307.0, 499.0, 967.0, 743.0, 166.0, 69.0, 570.0, 1320.0, 131.0, 112.0, 1761.0, 117.0, 1677.0, 262.0, 434.0, 1205.0, 179.0, 305.0, 73.0, 17.0, 138.0, 23.0, 21.0, 19.0, 559.0, 332.0, 361.0, 590.0, 160.0, 27.0, 12.0, 35.0, 51.0, 146.0, 90.0, 952.0, 313.0, 466.0, 635.0, 486.0, 661.0, 551.0, 133.0, 1176.0, 89.0, 11.0, 27.0, 6.0, 288.0, 87.0, 117.0, 47.0, 98.0, 13.0, 139.0, 30.0, 755.0, 241.0, 101.0, 604.0, 313.0, 13.0, 10.0, 716.0, 33.0, 351.0, 334.0, 47.0, 32.0, 74.0, 31.0, 9.0, 4.0, 123.0, 39.0, 25.0, 11.0, 50.0, 32.0, 20.0, 14.0, 2.0, 2.0, 3.0, 1.0, 11.0, 7.0, 11.0, 9.0, 18.0, 2.0, 4.0, 2.0, 47.0, 74.0, 25.0, null, 1.0, 109.0, 10.0, null, 87.0, 191.0, 232.0, 29.0, 17.0, 4.0, 12.0, 23.0, null, 48.0, 90.0, 43.0, 107.0, 13.0, 22.0, 32.0, 19.0, 41.0, 6.0, 4.0, 2.0, 18.0, 8.0, null, 1.0, null, 514.0, 3.0, 11.0, 68.0, 63.0, 18.0, 7.0, 12.0, 1.0, 1.0, 31.0, 1.0, 16.0, 13.0, 18.0, 4.0, 1.0, 6.0, 14.0, 6.0, 2.0, 9.0, 10.0, 2.0, 1.0, 12.0, null, 5.0, 4.0, 5.0, null, 2.0, null, 1.0, 2.0, 37.0, 21.0, 52.0, 16.0, 13.0, 8.0, 33.0, 1.0, 12.0, 4.0, 17.0, 26.0, 17.0, 19.0, 1.0, 9.0, 4.0], \"y0\": \" \", \"yaxis\": \"y\"}],                        {\"boxmode\": \"group\", \"legend\": {\"tracegroupgap\": 0}, \"margin\": {\"t\": 60}, \"template\": {\"data\": {\"bar\": [{\"error_x\": {\"color\": \"#2a3f5f\"}, \"error_y\": {\"color\": \"#2a3f5f\"}, \"marker\": {\"line\": {\"color\": \"#E5ECF6\", \"width\": 0.5}}, \"type\": \"bar\"}], \"barpolar\": [{\"marker\": {\"line\": {\"color\": \"#E5ECF6\", \"width\": 0.5}}, \"type\": \"barpolar\"}], \"carpet\": [{\"aaxis\": {\"endlinecolor\": \"#2a3f5f\", \"gridcolor\": \"white\", \"linecolor\": \"white\", \"minorgridcolor\": \"white\", \"startlinecolor\": \"#2a3f5f\"}, \"baxis\": {\"endlinecolor\": \"#2a3f5f\", \"gridcolor\": \"white\", \"linecolor\": \"white\", \"minorgridcolor\": \"white\", \"startlinecolor\": \"#2a3f5f\"}, \"type\": \"carpet\"}], \"choropleth\": [{\"colorbar\": {\"outlinewidth\": 0, \"ticks\": \"\"}, \"type\": \"choropleth\"}], \"contour\": [{\"colorbar\": {\"outlinewidth\": 0, \"ticks\": \"\"}, \"colorscale\": [[0.0, \"#0d0887\"], [0.1111111111111111, \"#46039f\"], [0.2222222222222222, \"#7201a8\"], [0.3333333333333333, \"#9c179e\"], [0.4444444444444444, \"#bd3786\"], [0.5555555555555556, \"#d8576b\"], [0.6666666666666666, \"#ed7953\"], [0.7777777777777778, \"#fb9f3a\"], [0.8888888888888888, \"#fdca26\"], [1.0, \"#f0f921\"]], \"type\": \"contour\"}], \"contourcarpet\": [{\"colorbar\": {\"outlinewidth\": 0, \"ticks\": \"\"}, \"type\": \"contourcarpet\"}], \"heatmap\": [{\"colorbar\": {\"outlinewidth\": 0, \"ticks\": \"\"}, \"colorscale\": [[0.0, \"#0d0887\"], [0.1111111111111111, \"#46039f\"], [0.2222222222222222, \"#7201a8\"], [0.3333333333333333, \"#9c179e\"], [0.4444444444444444, \"#bd3786\"], [0.5555555555555556, \"#d8576b\"], [0.6666666666666666, \"#ed7953\"], [0.7777777777777778, \"#fb9f3a\"], [0.8888888888888888, \"#fdca26\"], [1.0, \"#f0f921\"]], \"type\": \"heatmap\"}], \"heatmapgl\": [{\"colorbar\": {\"outlinewidth\": 0, \"ticks\": \"\"}, \"colorscale\": [[0.0, \"#0d0887\"], [0.1111111111111111, \"#46039f\"], [0.2222222222222222, \"#7201a8\"], [0.3333333333333333, \"#9c179e\"], [0.4444444444444444, \"#bd3786\"], [0.5555555555555556, \"#d8576b\"], [0.6666666666666666, \"#ed7953\"], [0.7777777777777778, \"#fb9f3a\"], [0.8888888888888888, \"#fdca26\"], [1.0, \"#f0f921\"]], \"type\": \"heatmapgl\"}], \"histogram\": [{\"marker\": {\"colorbar\": {\"outlinewidth\": 0, \"ticks\": \"\"}}, \"type\": \"histogram\"}], \"histogram2d\": [{\"colorbar\": {\"outlinewidth\": 0, \"ticks\": \"\"}, \"colorscale\": [[0.0, \"#0d0887\"], [0.1111111111111111, \"#46039f\"], [0.2222222222222222, \"#7201a8\"], [0.3333333333333333, \"#9c179e\"], [0.4444444444444444, \"#bd3786\"], [0.5555555555555556, \"#d8576b\"], [0.6666666666666666, \"#ed7953\"], [0.7777777777777778, \"#fb9f3a\"], [0.8888888888888888, \"#fdca26\"], [1.0, \"#f0f921\"]], \"type\": \"histogram2d\"}], \"histogram2dcontour\": [{\"colorbar\": {\"outlinewidth\": 0, \"ticks\": \"\"}, \"colorscale\": [[0.0, \"#0d0887\"], [0.1111111111111111, \"#46039f\"], [0.2222222222222222, \"#7201a8\"], [0.3333333333333333, \"#9c179e\"], [0.4444444444444444, \"#bd3786\"], [0.5555555555555556, \"#d8576b\"], [0.6666666666666666, \"#ed7953\"], [0.7777777777777778, \"#fb9f3a\"], [0.8888888888888888, \"#fdca26\"], [1.0, \"#f0f921\"]], \"type\": \"histogram2dcontour\"}], \"mesh3d\": [{\"colorbar\": {\"outlinewidth\": 0, \"ticks\": \"\"}, \"type\": \"mesh3d\"}], \"parcoords\": [{\"line\": {\"colorbar\": {\"outlinewidth\": 0, \"ticks\": \"\"}}, \"type\": \"parcoords\"}], \"pie\": [{\"automargin\": true, \"type\": \"pie\"}], \"scatter\": [{\"marker\": {\"colorbar\": {\"outlinewidth\": 0, \"ticks\": \"\"}}, \"type\": \"scatter\"}], \"scatter3d\": [{\"line\": {\"colorbar\": {\"outlinewidth\": 0, \"ticks\": \"\"}}, \"marker\": {\"colorbar\": {\"outlinewidth\": 0, \"ticks\": \"\"}}, \"type\": \"scatter3d\"}], \"scattercarpet\": [{\"marker\": {\"colorbar\": {\"outlinewidth\": 0, \"ticks\": \"\"}}, \"type\": \"scattercarpet\"}], \"scattergeo\": [{\"marker\": {\"colorbar\": {\"outlinewidth\": 0, \"ticks\": \"\"}}, \"type\": \"scattergeo\"}], \"scattergl\": [{\"marker\": {\"colorbar\": {\"outlinewidth\": 0, \"ticks\": \"\"}}, \"type\": \"scattergl\"}], \"scattermapbox\": [{\"marker\": {\"colorbar\": {\"outlinewidth\": 0, \"ticks\": \"\"}}, \"type\": \"scattermapbox\"}], \"scatterpolar\": [{\"marker\": {\"colorbar\": {\"outlinewidth\": 0, \"ticks\": \"\"}}, \"type\": \"scatterpolar\"}], \"scatterpolargl\": [{\"marker\": {\"colorbar\": {\"outlinewidth\": 0, \"ticks\": \"\"}}, \"type\": \"scatterpolargl\"}], \"scatterternary\": [{\"marker\": {\"colorbar\": {\"outlinewidth\": 0, \"ticks\": \"\"}}, \"type\": \"scatterternary\"}], \"surface\": [{\"colorbar\": {\"outlinewidth\": 0, \"ticks\": \"\"}, \"colorscale\": [[0.0, \"#0d0887\"], [0.1111111111111111, \"#46039f\"], [0.2222222222222222, \"#7201a8\"], [0.3333333333333333, \"#9c179e\"], [0.4444444444444444, \"#bd3786\"], [0.5555555555555556, \"#d8576b\"], [0.6666666666666666, \"#ed7953\"], [0.7777777777777778, \"#fb9f3a\"], [0.8888888888888888, \"#fdca26\"], [1.0, \"#f0f921\"]], \"type\": \"surface\"}], \"table\": [{\"cells\": {\"fill\": {\"color\": \"#EBF0F8\"}, \"line\": {\"color\": \"white\"}}, \"header\": {\"fill\": {\"color\": \"#C8D4E3\"}, \"line\": {\"color\": \"white\"}}, \"type\": \"table\"}]}, \"layout\": {\"annotationdefaults\": {\"arrowcolor\": \"#2a3f5f\", \"arrowhead\": 0, \"arrowwidth\": 1}, \"autotypenumbers\": \"strict\", \"coloraxis\": {\"colorbar\": {\"outlinewidth\": 0, \"ticks\": \"\"}}, \"colorscale\": {\"diverging\": [[0, \"#8e0152\"], [0.1, \"#c51b7d\"], [0.2, \"#de77ae\"], [0.3, \"#f1b6da\"], [0.4, \"#fde0ef\"], [0.5, \"#f7f7f7\"], [0.6, \"#e6f5d0\"], [0.7, \"#b8e186\"], [0.8, \"#7fbc41\"], [0.9, \"#4d9221\"], [1, \"#276419\"]], \"sequential\": [[0.0, \"#0d0887\"], [0.1111111111111111, \"#46039f\"], [0.2222222222222222, \"#7201a8\"], [0.3333333333333333, \"#9c179e\"], [0.4444444444444444, \"#bd3786\"], [0.5555555555555556, \"#d8576b\"], [0.6666666666666666, \"#ed7953\"], [0.7777777777777778, \"#fb9f3a\"], [0.8888888888888888, \"#fdca26\"], [1.0, \"#f0f921\"]], \"sequentialminus\": [[0.0, \"#0d0887\"], [0.1111111111111111, \"#46039f\"], [0.2222222222222222, \"#7201a8\"], [0.3333333333333333, \"#9c179e\"], [0.4444444444444444, \"#bd3786\"], [0.5555555555555556, \"#d8576b\"], [0.6666666666666666, \"#ed7953\"], [0.7777777777777778, \"#fb9f3a\"], [0.8888888888888888, \"#fdca26\"], [1.0, \"#f0f921\"]]}, \"colorway\": [\"#636efa\", \"#EF553B\", \"#00cc96\", \"#ab63fa\", \"#FFA15A\", \"#19d3f3\", \"#FF6692\", \"#B6E880\", \"#FF97FF\", \"#FECB52\"], \"font\": {\"color\": \"#2a3f5f\"}, \"geo\": {\"bgcolor\": \"white\", \"lakecolor\": \"white\", \"landcolor\": \"#E5ECF6\", \"showlakes\": true, \"showland\": true, \"subunitcolor\": \"white\"}, \"hoverlabel\": {\"align\": \"left\"}, \"hovermode\": \"closest\", \"mapbox\": {\"style\": \"light\"}, \"paper_bgcolor\": \"white\", \"plot_bgcolor\": \"#E5ECF6\", \"polar\": {\"angularaxis\": {\"gridcolor\": \"white\", \"linecolor\": \"white\", \"ticks\": \"\"}, \"bgcolor\": \"#E5ECF6\", \"radialaxis\": {\"gridcolor\": \"white\", \"linecolor\": \"white\", \"ticks\": \"\"}}, \"scene\": {\"xaxis\": {\"backgroundcolor\": \"#E5ECF6\", \"gridcolor\": \"white\", \"gridwidth\": 2, \"linecolor\": \"white\", \"showbackground\": true, \"ticks\": \"\", \"zerolinecolor\": \"white\"}, \"yaxis\": {\"backgroundcolor\": \"#E5ECF6\", \"gridcolor\": \"white\", \"gridwidth\": 2, \"linecolor\": \"white\", \"showbackground\": true, \"ticks\": \"\", \"zerolinecolor\": \"white\"}, \"zaxis\": {\"backgroundcolor\": \"#E5ECF6\", \"gridcolor\": \"white\", \"gridwidth\": 2, \"linecolor\": \"white\", \"showbackground\": true, \"ticks\": \"\", \"zerolinecolor\": \"white\"}}, \"shapedefaults\": {\"line\": {\"color\": \"#2a3f5f\"}}, \"ternary\": {\"aaxis\": {\"gridcolor\": \"white\", \"linecolor\": \"white\", \"ticks\": \"\"}, \"baxis\": {\"gridcolor\": \"white\", \"linecolor\": \"white\", \"ticks\": \"\"}, \"bgcolor\": \"#E5ECF6\", \"caxis\": {\"gridcolor\": \"white\", \"linecolor\": \"white\", \"ticks\": \"\"}}, \"title\": {\"x\": 0.05}, \"xaxis\": {\"automargin\": true, \"gridcolor\": \"white\", \"linecolor\": \"white\", \"ticks\": \"\", \"title\": {\"standoff\": 15}, \"zerolinecolor\": \"white\", \"zerolinewidth\": 2}, \"yaxis\": {\"automargin\": true, \"gridcolor\": \"white\", \"linecolor\": \"white\", \"ticks\": \"\", \"title\": {\"standoff\": 15}, \"zerolinecolor\": \"white\", \"zerolinewidth\": 2}}}, \"xaxis\": {\"anchor\": \"y\", \"domain\": [0.0, 1.0], \"title\": {\"text\": \"variable\"}}, \"yaxis\": {\"anchor\": \"x\", \"domain\": [0.0, 1.0], \"title\": {\"text\": \"value\"}}},                        {\"responsive\": true}                    ).then(function(){\n",
       "                            \n",
       "var gd = document.getElementById('e4c65de6-5286-401e-a25c-166265eed328');\n",
       "var x = new MutationObserver(function (mutations, observer) {{\n",
       "        var display = window.getComputedStyle(gd).display;\n",
       "        if (!display || display === 'none') {{\n",
       "            console.log([gd, 'removed!']);\n",
       "            Plotly.purge(gd);\n",
       "            observer.disconnect();\n",
       "        }}\n",
       "}});\n",
       "\n",
       "// Listen for the removal of the full notebook cells\n",
       "var notebookContainer = gd.closest('#notebook-container');\n",
       "if (notebookContainer) {{\n",
       "    x.observe(notebookContainer, {childList: true});\n",
       "}}\n",
       "\n",
       "// Listen for the clearing of the current output cell\n",
       "var outputEl = gd.closest('.output');\n",
       "if (outputEl) {{\n",
       "    x.observe(outputEl, {childList: true});\n",
       "}}\n",
       "\n",
       "                        })                };                });            </script>        </div>"
      ]
     },
     "metadata": {},
     "output_type": "display_data"
    }
   ],
   "source": [
    "px.box(cars['Rated By'])"
   ]
  },
  {
   "cell_type": "markdown",
   "id": "b50c4e5a",
   "metadata": {},
   "source": [
    "## - Some cars are really very famous, I hope it's Maruti Suzuki's Cars\n",
    "## - 75% of their cars are atleast rated by 361 persons"
   ]
  },
  {
   "cell_type": "markdown",
   "id": "ff609fb7",
   "metadata": {},
   "source": [
    "## - Base Model Price"
   ]
  },
  {
   "cell_type": "code",
   "execution_count": 965,
   "id": "ba6f7cb2",
   "metadata": {},
   "outputs": [
    {
     "data": {
      "text/plain": [
       "<AxesSubplot:xlabel='Base Model Price', ylabel='Count'>"
      ]
     },
     "execution_count": 965,
     "metadata": {},
     "output_type": "execute_result"
    },
    {
     "data": {
      "image/png": "[encoded data removed]",
      "text/plain": [
       "<Figure size 720x576 with 1 Axes>"
      ]
     },
     "metadata": {
      "needs_background": "light"
     },
     "output_type": "display_data"
    }
   ],
   "source": [
    "plt.figure(figsize=(10,8))\n",
    "sns.histplot(cars['Base Model Price'])"
   ]
  },
  {
   "cell_type": "code",
   "execution_count": 966,
   "id": "af5725f3",
   "metadata": {},
   "outputs": [
    {
     "data": {
      "application/vnd.plotly.v1+json": {
       "config": {
        "plotlyServerURL": "https://plot.ly"
       },
       "data": [
        {
         "alignmentgroup": "True",
         "hovertemplate": "variable=%{x}<br>value=%{y}<extra></extra>",
         "legendgroup": "",
         "marker": {
          "color": "#636efa"
         },
         "name": "",
         "notched": false,
         "offsetgroup": "",
         "orientation": "v",
         "showlegend": false,
         "type": "box",
         "x": [
          "Base Model Price",
          "Base Model Price",
          "Base Model Price",
          "Base Model Price",
          "Base Model Price",
          "Base Model Price",
          "Base Model Price",
          "Base Model Price",
          "Base Model Price",
          "Base Model Price",
          "Base Model Price",
          "Base Model Price",
          "Base Model Price",
          "Base Model Price",
          "Base Model Price",
          "Base Model Price",
          "Base Model Price",
          "Base Model Price",
          "Base Model Price",
          "Base Model Price",
          "Base Model Price",
          "Base Model Price",
          "Base Model Price",
          "Base Model Price",
          "Base Model Price",
          "Base Model Price",
          "Base Model Price",
          "Base Model Price",
          "Base Model Price",
          "Base Model Price",
          "Base Model Price",
          "Base Model Price",
          "Base Model Price",
          "Base Model Price",
          "Base Model Price",
          "Base Model Price",
          "Base Model Price",
          "Base Model Price",
          "Base Model Price",
          "Base Model Price",
          "Base Model Price",
          "Base Model Price",
          "Base Model Price",
          "Base Model Price",
          "Base Model Price",
          "Base Model Price",
          "Base Model Price",
          "Base Model Price",
          "Base Model Price",
          "Base Model Price",
          "Base Model Price",
          "Base Model Price",
          "Base Model Price",
          "Base Model Price",
          "Base Model Price",
          "Base Model Price",
          "Base Model Price",
          "Base Model Price",
          "Base Model Price",
          "Base Model Price",
          "Base Model Price",
          "Base Model Price",
          "Base Model Price",
          "Base Model Price",
          "Base Model Price",
          "Base Model Price",
          "Base Model Price",
          "Base Model Price",
          "Base Model Price",
          "Base Model Price",
          "Base Model Price",
          "Base Model Price",
          "Base Model Price",
          "Base Model Price",
          "Base Model Price",
          "Base Model Price",
          "Base Model Price",
          "Base Model Price",
          "Base Model Price",
          "Base Model Price",
          "Base Model Price",
          "Base Model Price",
          "Base Model Price",
          "Base Model Price",
          "Base Model Price",
          "Base Model Price",
          "Base Model Price",
          "Base Model Price",
          "Base Model Price",
          "Base Model Price",
          "Base Model Price",
          "Base Model Price",
          "Base Model Price",
          "Base Model Price",
          "Base Model Price",
          "Base Model Price",
          "Base Model Price",
          "Base Model Price",
          "Base Model Price",
          "Base Model Price",
          "Base Model Price",
          "Base Model Price",
          "Base Model Price",
          "Base Model Price",
          "Base Model Price",
          "Base Model Price",
          "Base Model Price",
          "Base Model Price",
          "Base Model Price",
          "Base Model Price",
          "Base Model Price",
          "Base Model Price",
          "Base Model Price",
          "Base Model Price",
          "Base Model Price",
          "Base Model Price",
          "Base Model Price",
          "Base Model Price",
          "Base Model Price",
          "Base Model Price",
          "Base Model Price",
          "Base Model Price",
          "Base Model Price",
          "Base Model Price",
          "Base Model Price",
          "Base Model Price",
          "Base Model Price",
          "Base Model Price",
          "Base Model Price",
          "Base Model Price",
          "Base Model Price",
          "Base Model Price",
          "Base Model Price",
          "Base Model Price",
          "Base Model Price",
          "Base Model Price",
          "Base Model Price",
          "Base Model Price",
          "Base Model Price",
          "Base Model Price",
          "Base Model Price",
          "Base Model Price",
          "Base Model Price",
          "Base Model Price",
          "Base Model Price",
          "Base Model Price",
          "Base Model Price",
          "Base Model Price",
          "Base Model Price",
          "Base Model Price",
          "Base Model Price",
          "Base Model Price",
          "Base Model Price",
          "Base Model Price",
          "Base Model Price",
          "Base Model Price",
          "Base Model Price",
          "Base Model Price",
          "Base Model Price",
          "Base Model Price",
          "Base Model Price",
          "Base Model Price",
          "Base Model Price",
          "Base Model Price",
          "Base Model Price",
          "Base Model Price",
          "Base Model Price",
          "Base Model Price",
          "Base Model Price",
          "Base Model Price",
          "Base Model Price",
          "Base Model Price",
          "Base Model Price",
          "Base Model Price",
          "Base Model Price",
          "Base Model Price",
          "Base Model Price",
          "Base Model Price",
          "Base Model Price",
          "Base Model Price",
          "Base Model Price",
          "Base Model Price",
          "Base Model Price",
          "Base Model Price",
          "Base Model Price",
          "Base Model Price",
          "Base Model Price",
          "Base Model Price",
          "Base Model Price"
         ],
         "x0": " ",
         "xaxis": "x",
         "y": [
          573000,
          751000,
          598000,
          598000,
          781000,
          480000,
          299000,
          465000.00000000006,
          994000,
          839000,
          378000,
          495000,
          852000,
          408000,
          511000.00000000006,
          576000,
          1099000,
          622000,
          861999.9999999999,
          755000,
          929000,
          1211000,
          1231000,
          840000,
          795000,
          1552000,
          1203000,
          605000,
          2873000,
          1015000,
          809000,
          1719000.0000000002,
          5390000,
          2680000,
          719000,
          1429000,
          579000,
          499000,
          559000,
          694000,
          958000,
          1499000,
          1399000,
          819000,
          2999000,
          582000,
          727000,
          727000,
          999000,
          685000,
          692000,
          919000,
          597000,
          473000.00000000006,
          1785000.0000000002,
          2257000,
          2377000,
          639000,
          523000.00000000006,
          3034000,
          1652000,
          4059000.000000001,
          916000,
          8990000,
          734000,
          861999.9999999999,
          995000,
          679000,
          2495000,
          616000,
          999000,
          2135000,
          3420000.0000000005,
          332000,
          564000,
          550000,
          986000,
          3850000,
          7650000,
          4360000,
          9590000,
          9690000,
          3790000,
          5600000,
          6700000,
          5750000,
          6240000,
          137000,
          6790000.000000001,
          132000,
          8500000,
          9990000,
          194000,
          5150000,
          4360000,
          104000,
          6360000,
          7723999.999999999,
          7109999.999999999,
          5736000,
          104000,
          127000,
          8639000,
          162000,
          141000,
          227000,
          null,
          3990000,
          4131000,
          257000,
          6665000.000000001,
          383000,
          402000,
          425000,
          8090000.000000001,
          4125000,
          4590000,
          6090000,
          6090000,
          null,
          315000,
          501000,
          321000,
          899000,
          695000,
          622000,
          695000,
          730000,
          5708000,
          4319000,
          9898000,
          3499000,
          157000,
          194000,
          null,
          207000,
          8048999.999999999,
          779000,
          2599000,
          3199000,
          559000,
          949000,
          212000,
          9797000,
          4664000,
          6998999.999999999,
          105000,
          5567000,
          3950000,
          4010000,
          3510000,
          163000,
          6998000,
          144000,
          8546000,
          120000,
          131000,
          361000,
          350000,
          750000,
          575000,
          402000,
          149000,
          115000,
          171000,
          225000,
          246000,
          3322999.9999999995,
          1698000,
          382000,
          380000,
          300000,
          210000,
          5904000,
          7528000,
          7656999.999999999,
          7559000,
          6530000,
          9127000,
          410000,
          329000,
          321000,
          191000,
          5655000,
          103000,
          232000,
          5820000,
          209000,
          2990000
         ],
         "y0": " ",
         "yaxis": "y"
        }
       ],
       "layout": {
        "boxmode": "group",
        "legend": {
         "tracegroupgap": 0
        },
        "margin": {
         "t": 60
        },
        "template": {
         "data": {
          "bar": [
           {
            "error_x": {
             "color": "#2a3f5f"
            },
            "error_y": {
             "color": "#2a3f5f"
            },
            "marker": {
             "line": {
              "color": "#E5ECF6",
              "width": 0.5
             }
            },
            "type": "bar"
           }
          ],
          "barpolar": [
           {
            "marker": {
             "line": {
              "color": "#E5ECF6",
              "width": 0.5
             }
            },
            "type": "barpolar"
           }
          ],
          "carpet": [
           {
            "aaxis": {
             "endlinecolor": "#2a3f5f",
             "gridcolor": "white",
             "linecolor": "white",
             "minorgridcolor": "white",
             "startlinecolor": "#2a3f5f"
            },
            "baxis": {
             "endlinecolor": "#2a3f5f",
             "gridcolor": "white",
             "linecolor": "white",
             "minorgridcolor": "white",
             "startlinecolor": "#2a3f5f"
            },
            "type": "carpet"
           }
          ],
          "choropleth": [
           {
            "colorbar": {
             "outlinewidth": 0,
             "ticks": ""
            },
            "type": "choropleth"
           }
          ],
          "contour": [
           {
            "colorbar": {
             "outlinewidth": 0,
             "ticks": ""
            },
            "colorscale": [
             [
              0,
              "#0d0887"
             ],
             [
              0.1111111111111111,
              "#46039f"
             ],
             [
              0.2222222222222222,
              "#7201a8"
             ],
             [
              0.3333333333333333,
              "#9c179e"
             ],
             [
              0.4444444444444444,
              "#bd3786"
             ],
             [
              0.5555555555555556,
              "#d8576b"
             ],
             [
              0.6666666666666666,
              "#ed7953"
             ],
             [
              0.7777777777777778,
              "#fb9f3a"
             ],
             [
              0.8888888888888888,
              "#fdca26"
             ],
             [
              1,
              "#f0f921"
             ]
            ],
            "type": "contour"
           }
          ],
          "contourcarpet": [
           {
            "colorbar": {
             "outlinewidth": 0,
             "ticks": ""
            },
            "type": "contourcarpet"
           }
          ],
          "heatmap": [
           {
            "colorbar": {
             "outlinewidth": 0,
             "ticks": ""
            },
            "colorscale": [
             [
              0,
              "#0d0887"
             ],
             [
              0.1111111111111111,
              "#46039f"
             ],
             [
              0.2222222222222222,
              "#7201a8"
             ],
             [
              0.3333333333333333,
              "#9c179e"
             ],
             [
              0.4444444444444444,
              "#bd3786"
             ],
             [
              0.5555555555555556,
              "#d8576b"
             ],
             [
              0.6666666666666666,
              "#ed7953"
             ],
             [
              0.7777777777777778,
              "#fb9f3a"
             ],
             [
              0.8888888888888888,
              "#fdca26"
             ],
             [
              1,
              "#f0f921"
             ]
            ],
            "type": "heatmap"
           }
          ],
          "heatmapgl": [
           {
            "colorbar": {
             "outlinewidth": 0,
             "ticks": ""
            },
            "colorscale": [
             [
              0,
              "#0d0887"
             ],
             [
              0.1111111111111111,
              "#46039f"
             ],
             [
              0.2222222222222222,
              "#7201a8"
             ],
             [
              0.3333333333333333,
              "#9c179e"
             ],
             [
              0.4444444444444444,
              "#bd3786"
             ],
             [
              0.5555555555555556,
              "#d8576b"
             ],
             [
              0.6666666666666666,
              "#ed7953"
             ],
             [
              0.7777777777777778,
              "#fb9f3a"
             ],
             [
              0.8888888888888888,
              "#fdca26"
             ],
             [
              1,
              "#f0f921"
             ]
            ],
            "type": "heatmapgl"
           }
          ],
          "histogram": [
           {
            "marker": {
             "colorbar": {
              "outlinewidth": 0,
              "ticks": ""
             }
            },
            "type": "histogram"
           }
          ],
          "histogram2d": [
           {
            "colorbar": {
             "outlinewidth": 0,
             "ticks": ""
            },
            "colorscale": [
             [
              0,
              "#0d0887"
             ],
             [
              0.1111111111111111,
              "#46039f"
             ],
             [
              0.2222222222222222,
              "#7201a8"
             ],
             [
              0.3333333333333333,
              "#9c179e"
             ],
             [
              0.4444444444444444,
              "#bd3786"
             ],
             [
              0.5555555555555556,
              "#d8576b"
             ],
             [
              0.6666666666666666,
              "#ed7953"
             ],
             [
              0.7777777777777778,
              "#fb9f3a"
             ],
             [
              0.8888888888888888,
              "#fdca26"
             ],
             [
              1,
              "#f0f921"
             ]
            ],
            "type": "histogram2d"
           }
          ],
          "histogram2dcontour": [
           {
            "colorbar": {
             "outlinewidth": 0,
             "ticks": ""
            },
            "colorscale": [
             [
              0,
              "#0d0887"
             ],
             [
              0.1111111111111111,
              "#46039f"
             ],
             [
              0.2222222222222222,
              "#7201a8"
             ],
             [
              0.3333333333333333,
              "#9c179e"
             ],
             [
              0.4444444444444444,
              "#bd3786"
             ],
             [
              0.5555555555555556,
              "#d8576b"
             ],
             [
              0.6666666666666666,
              "#ed7953"
             ],
             [
              0.7777777777777778,
              "#fb9f3a"
             ],
             [
              0.8888888888888888,
              "#fdca26"
             ],
             [
              1,
              "#f0f921"
             ]
            ],
            "type": "histogram2dcontour"
           }
          ],
          "mesh3d": [
           {
            "colorbar": {
             "outlinewidth": 0,
             "ticks": ""
            },
            "type": "mesh3d"
           }
          ],
          "parcoords": [
           {
            "line": {
             "colorbar": {
              "outlinewidth": 0,
              "ticks": ""
             }
            },
            "type": "parcoords"
           }
          ],
          "pie": [
           {
            "automargin": true,
            "type": "pie"
           }
          ],
          "scatter": [
           {
            "marker": {
             "colorbar": {
              "outlinewidth": 0,
              "ticks": ""
             }
            },
            "type": "scatter"
           }
          ],
          "scatter3d": [
           {
            "line": {
             "colorbar": {
              "outlinewidth": 0,
              "ticks": ""
             }
            },
            "marker": {
             "colorbar": {
              "outlinewidth": 0,
              "ticks": ""
             }
            },
            "type": "scatter3d"
           }
          ],
          "scattercarpet": [
           {
            "marker": {
             "colorbar": {
              "outlinewidth": 0,
              "ticks": ""
             }
            },
            "type": "scattercarpet"
           }
          ],
          "scattergeo": [
           {
            "marker": {
             "colorbar": {
              "outlinewidth": 0,
              "ticks": ""
             }
            },
            "type": "scattergeo"
           }
          ],
          "scattergl": [
           {
            "marker": {
             "colorbar": {
              "outlinewidth": 0,
              "ticks": ""
             }
            },
            "type": "scattergl"
           }
          ],
          "scattermapbox": [
           {
            "marker": {
             "colorbar": {
              "outlinewidth": 0,
              "ticks": ""
             }
            },
            "type": "scattermapbox"
           }
          ],
          "scatterpolar": [
           {
            "marker": {
             "colorbar": {
              "outlinewidth": 0,
              "ticks": ""
             }
            },
            "type": "scatterpolar"
           }
          ],
          "scatterpolargl": [
           {
            "marker": {
             "colorbar": {
              "outlinewidth": 0,
              "ticks": ""
             }
            },
            "type": "scatterpolargl"
           }
          ],
          "scatterternary": [
           {
            "marker": {
             "colorbar": {
              "outlinewidth": 0,
              "ticks": ""
             }
            },
            "type": "scatterternary"
           }
          ],
          "surface": [
           {
            "colorbar": {
             "outlinewidth": 0,
             "ticks": ""
            },
            "colorscale": [
             [
              0,
              "#0d0887"
             ],
             [
              0.1111111111111111,
              "#46039f"
             ],
             [
              0.2222222222222222,
              "#7201a8"
             ],
             [
              0.3333333333333333,
              "#9c179e"
             ],
             [
              0.4444444444444444,
              "#bd3786"
             ],
             [
              0.5555555555555556,
              "#d8576b"
             ],
             [
              0.6666666666666666,
              "#ed7953"
             ],
             [
              0.7777777777777778,
              "#fb9f3a"
             ],
             [
              0.8888888888888888,
              "#fdca26"
             ],
             [
              1,
              "#f0f921"
             ]
            ],
            "type": "surface"
           }
          ],
          "table": [
           {
            "cells": {
             "fill": {
              "color": "#EBF0F8"
             },
             "line": {
              "color": "white"
             }
            },
            "header": {
             "fill": {
              "color": "#C8D4E3"
             },
             "line": {
              "color": "white"
             }
            },
            "type": "table"
           }
          ]
         },
         "layout": {
          "annotationdefaults": {
           "arrowcolor": "#2a3f5f",
           "arrowhead": 0,
           "arrowwidth": 1
          },
          "autotypenumbers": "strict",
          "coloraxis": {
           "colorbar": {
            "outlinewidth": 0,
            "ticks": ""
           }
          },
          "colorscale": {
           "diverging": [
            [
             0,
             "#8e0152"
            ],
            [
             0.1,
             "#c51b7d"
            ],
            [
             0.2,
             "#de77ae"
            ],
            [
             0.3,
             "#f1b6da"
            ],
            [
             0.4,
             "#fde0ef"
            ],
            [
             0.5,
             "#f7f7f7"
            ],
            [
             0.6,
             "#e6f5d0"
            ],
            [
             0.7,
             "#b8e186"
            ],
            [
             0.8,
             "#7fbc41"
            ],
            [
             0.9,
             "#4d9221"
            ],
            [
             1,
             "#276419"
            ]
           ],
           "sequential": [
            [
             0,
             "#0d0887"
            ],
            [
             0.1111111111111111,
             "#46039f"
            ],
            [
             0.2222222222222222,
             "#7201a8"
            ],
            [
             0.3333333333333333,
             "#9c179e"
            ],
            [
             0.4444444444444444,
             "#bd3786"
            ],
            [
             0.5555555555555556,
             "#d8576b"
            ],
            [
             0.6666666666666666,
             "#ed7953"
            ],
            [
             0.7777777777777778,
             "#fb9f3a"
            ],
            [
             0.8888888888888888,
             "#fdca26"
            ],
            [
             1,
             "#f0f921"
            ]
           ],
           "sequentialminus": [
            [
             0,
             "#0d0887"
            ],
            [
             0.1111111111111111,
             "#46039f"
            ],
            [
             0.2222222222222222,
             "#7201a8"
            ],
            [
             0.3333333333333333,
             "#9c179e"
            ],
            [
             0.4444444444444444,
             "#bd3786"
            ],
            [
             0.5555555555555556,
             "#d8576b"
            ],
            [
             0.6666666666666666,
             "#ed7953"
            ],
            [
             0.7777777777777778,
             "#fb9f3a"
            ],
            [
             0.8888888888888888,
             "#fdca26"
            ],
            [
             1,
             "#f0f921"
            ]
           ]
          },
          "colorway": [
           "#636efa",
           "#EF553B",
           "#00cc96",
           "#ab63fa",
           "#FFA15A",
           "#19d3f3",
           "#FF6692",
           "#B6E880",
           "#FF97FF",
           "#FECB52"
          ],
          "font": {
           "color": "#2a3f5f"
          },
          "geo": {
           "bgcolor": "white",
           "lakecolor": "white",
           "landcolor": "#E5ECF6",
           "showlakes": true,
           "showland": true,
           "subunitcolor": "white"
          },
          "hoverlabel": {
           "align": "left"
          },
          "hovermode": "closest",
          "mapbox": {
           "style": "light"
          },
          "paper_bgcolor": "white",
          "plot_bgcolor": "#E5ECF6",
          "polar": {
           "angularaxis": {
            "gridcolor": "white",
            "linecolor": "white",
            "ticks": ""
           },
           "bgcolor": "#E5ECF6",
           "radialaxis": {
            "gridcolor": "white",
            "linecolor": "white",
            "ticks": ""
           }
          },
          "scene": {
           "xaxis": {
            "backgroundcolor": "#E5ECF6",
            "gridcolor": "white",
            "gridwidth": 2,
            "linecolor": "white",
            "showbackground": true,
            "ticks": "",
            "zerolinecolor": "white"
           },
           "yaxis": {
            "backgroundcolor": "#E5ECF6",
            "gridcolor": "white",
            "gridwidth": 2,
            "linecolor": "white",
            "showbackground": true,
            "ticks": "",
            "zerolinecolor": "white"
           },
           "zaxis": {
            "backgroundcolor": "#E5ECF6",
            "gridcolor": "white",
            "gridwidth": 2,
            "linecolor": "white",
            "showbackground": true,
            "ticks": "",
            "zerolinecolor": "white"
           }
          },
          "shapedefaults": {
           "line": {
            "color": "#2a3f5f"
           }
          },
          "ternary": {
           "aaxis": {
            "gridcolor": "white",
            "linecolor": "white",
            "ticks": ""
           },
           "baxis": {
            "gridcolor": "white",
            "linecolor": "white",
            "ticks": ""
           },
           "bgcolor": "#E5ECF6",
           "caxis": {
            "gridcolor": "white",
            "linecolor": "white",
            "ticks": ""
           }
          },
          "title": {
           "x": 0.05
          },
          "xaxis": {
           "automargin": true,
           "gridcolor": "white",
           "linecolor": "white",
           "ticks": "",
           "title": {
            "standoff": 15
           },
           "zerolinecolor": "white",
           "zerolinewidth": 2
          },
          "yaxis": {
           "automargin": true,
           "gridcolor": "white",
           "linecolor": "white",
           "ticks": "",
           "title": {
            "standoff": 15
           },
           "zerolinecolor": "white",
           "zerolinewidth": 2
          }
         }
        },
        "xaxis": {
         "anchor": "y",
         "domain": [
          0,
          1
         ],
         "title": {
          "text": "variable"
         }
        },
        "yaxis": {
         "anchor": "x",
         "domain": [
          0,
          1
         ],
         "title": {
          "text": "value"
         }
        }
       }
      },
      "text/html": [
       "<div>                            <div id=\"52f41374-6bd2-472c-93c3-112978354fb9\" class=\"plotly-graph-div\" style=\"height:525px; width:100%;\"></div>            <script type=\"text/javascript\">                require([\"plotly\"], function(Plotly) {                    window.PLOTLYENV=window.PLOTLYENV || {};                                    if (document.getElementById(\"52f41374-6bd2-472c-93c3-112978354fb9\")) {                    Plotly.newPlot(                        \"52f41374-6bd2-472c-93c3-112978354fb9\",                        [{\"alignmentgroup\": \"True\", \"hovertemplate\": \"variable=%{x}<br>value=%{y}<extra></extra>\", \"legendgroup\": \"\", \"marker\": {\"color\": \"#636efa\"}, \"name\": \"\", \"notched\": false, \"offsetgroup\": \"\", \"orientation\": \"v\", \"showlegend\": false, \"type\": \"box\", \"x\": [\"Base Model Price\", \"Base Model Price\", \"Base Model Price\", \"Base Model Price\", \"Base Model Price\", \"Base Model Price\", \"Base Model Price\", \"Base Model Price\", \"Base Model Price\", \"Base Model Price\", \"Base Model Price\", \"Base Model Price\", \"Base Model Price\", \"Base Model Price\", \"Base Model Price\", \"Base Model Price\", \"Base Model Price\", \"Base Model Price\", \"Base Model Price\", \"Base Model Price\", \"Base Model Price\", \"Base Model Price\", \"Base Model Price\", \"Base Model Price\", \"Base Model Price\", \"Base Model Price\", \"Base Model Price\", \"Base Model Price\", \"Base Model Price\", \"Base Model Price\", \"Base Model Price\", \"Base Model Price\", \"Base Model Price\", \"Base Model Price\", \"Base Model Price\", \"Base Model Price\", \"Base Model Price\", \"Base Model Price\", \"Base Model Price\", \"Base Model Price\", \"Base Model Price\", \"Base Model Price\", \"Base Model Price\", \"Base Model Price\", \"Base Model Price\", \"Base Model Price\", \"Base Model Price\", \"Base Model Price\", \"Base Model Price\", \"Base Model Price\", \"Base Model Price\", \"Base Model Price\", \"Base Model Price\", \"Base Model Price\", \"Base Model Price\", \"Base Model Price\", \"Base Model Price\", \"Base Model Price\", \"Base Model Price\", \"Base Model Price\", \"Base Model Price\", \"Base Model Price\", \"Base Model Price\", \"Base Model Price\", \"Base Model Price\", \"Base Model Price\", \"Base Model Price\", \"Base Model Price\", \"Base Model Price\", \"Base Model Price\", \"Base Model Price\", \"Base Model Price\", \"Base Model Price\", \"Base Model Price\", \"Base Model Price\", \"Base Model Price\", \"Base Model Price\", \"Base Model Price\", \"Base Model Price\", \"Base Model Price\", \"Base Model Price\", \"Base Model Price\", \"Base Model Price\", \"Base Model Price\", \"Base Model Price\", \"Base Model Price\", \"Base Model Price\", \"Base Model Price\", \"Base Model Price\", \"Base Model Price\", \"Base Model Price\", \"Base Model Price\", \"Base Model Price\", \"Base Model Price\", \"Base Model Price\", \"Base Model Price\", \"Base Model Price\", \"Base Model Price\", \"Base Model Price\", \"Base Model Price\", \"Base Model Price\", \"Base Model Price\", \"Base Model Price\", \"Base Model Price\", \"Base Model Price\", \"Base Model Price\", \"Base Model Price\", \"Base Model Price\", \"Base Model Price\", \"Base Model Price\", \"Base Model Price\", \"Base Model Price\", \"Base Model Price\", \"Base Model Price\", \"Base Model Price\", \"Base Model Price\", \"Base Model Price\", \"Base Model Price\", \"Base Model Price\", \"Base Model Price\", \"Base Model Price\", \"Base Model Price\", \"Base Model Price\", \"Base Model Price\", \"Base Model Price\", \"Base Model Price\", \"Base Model Price\", \"Base Model Price\", \"Base Model Price\", \"Base Model Price\", \"Base Model Price\", \"Base Model Price\", \"Base Model Price\", \"Base Model Price\", \"Base Model Price\", \"Base Model Price\", \"Base Model Price\", \"Base Model Price\", \"Base Model Price\", \"Base Model Price\", \"Base Model Price\", \"Base Model Price\", \"Base Model Price\", \"Base Model Price\", \"Base Model Price\", \"Base Model Price\", \"Base Model Price\", \"Base Model Price\", \"Base Model Price\", \"Base Model Price\", \"Base Model Price\", \"Base Model Price\", \"Base Model Price\", \"Base Model Price\", \"Base Model Price\", \"Base Model Price\", \"Base Model Price\", \"Base Model Price\", \"Base Model Price\", \"Base Model Price\", \"Base Model Price\", \"Base Model Price\", \"Base Model Price\", \"Base Model Price\", \"Base Model Price\", \"Base Model Price\", \"Base Model Price\", \"Base Model Price\", \"Base Model Price\", \"Base Model Price\", \"Base Model Price\", \"Base Model Price\", \"Base Model Price\", \"Base Model Price\", \"Base Model Price\", \"Base Model Price\", \"Base Model Price\", \"Base Model Price\", \"Base Model Price\", \"Base Model Price\", \"Base Model Price\", \"Base Model Price\", \"Base Model Price\", \"Base Model Price\", \"Base Model Price\", \"Base Model Price\", \"Base Model Price\", \"Base Model Price\", \"Base Model Price\"], \"x0\": \" \", \"xaxis\": \"x\", \"y\": [573000.0, 751000.0, 598000.0, 598000.0, 781000.0, 480000.0, 299000.0, 465000.00000000006, 994000.0, 839000.0, 378000.0, 495000.0, 852000.0, 408000.0, 511000.00000000006, 576000.0, 1099000.0, 622000.0, 861999.9999999999, 755000.0, 929000.0, 1211000.0, 1231000.0, 840000.0, 795000.0, 1552000.0, 1203000.0, 605000.0, 2873000.0, 1015000.0, 809000.0, 1719000.0000000002, 5390000.0, 2680000.0, 719000.0, 1429000.0, 579000.0, 499000.0, 559000.0, 694000.0, 958000.0, 1499000.0, 1399000.0, 819000.0, 2999000.0, 582000.0, 727000.0, 727000.0, 999000.0, 685000.0, 692000.0, 919000.0, 597000.0, 473000.00000000006, 1785000.0000000002, 2257000.0, 2377000.0, 639000.0, 523000.00000000006, 3034000.0, 1652000.0, 4059000.000000001, 916000.0, 8990000.0, 734000.0, 861999.9999999999, 995000.0, 679000.0, 2495000.0, 616000.0, 999000.0, 2135000.0, 3420000.0000000005, 332000.0, 564000.0, 550000.0, 986000.0, 3850000.0, 7650000.0, 4360000.0, 9590000.0, 9690000.0, 3790000.0, 5600000.0, 6700000.0, 5750000.0, 6240000.0, 137000.0, 6790000.000000001, 132000.0, 8500000.0, 9990000.0, 194000.0, 5150000.0, 4360000.0, 104000.0, 6360000.0, 7723999.999999999, 7109999.999999999, 5736000.0, 104000.0, 127000.0, 8639000.0, 162000.0, 141000.0, 227000.0, null, 3990000.0, 4131000.0, 257000.0, 6665000.000000001, 383000.0, 402000.0, 425000.0, 8090000.000000001, 4125000.0, 4590000.0, 6090000.0, 6090000.0, null, 315000.0, 501000.0, 321000.0, 899000.0, 695000.0, 622000.0, 695000.0, 730000.0, 5708000.0, 4319000.0, 9898000.0, 3499000.0, 157000.0, 194000.0, null, 207000.0, 8048999.999999999, 779000.0, 2599000.0, 3199000.0, 559000.0, 949000.0, 212000.0, 9797000.0, 4664000.0, 6998999.999999999, 105000.0, 5567000.0, 3950000.0, 4010000.0, 3510000.0, 163000.0, 6998000.0, 144000.0, 8546000.0, 120000.0, 131000.0, 361000.0, 350000.0, 750000.0, 575000.0, 402000.0, 149000.0, 115000.0, 171000.0, 225000.0, 246000.0, 3322999.9999999995, 1698000.0, 382000.0, 380000.0, 300000.0, 210000.0, 5904000.0, 7528000.0, 7656999.999999999, 7559000.0, 6530000.0, 9127000.0, 410000.0, 329000.0, 321000.0, 191000.0, 5655000.0, 103000.0, 232000.0, 5820000.0, 209000.0, 2990000.0], \"y0\": \" \", \"yaxis\": \"y\"}],                        {\"boxmode\": \"group\", \"legend\": {\"tracegroupgap\": 0}, \"margin\": {\"t\": 60}, \"template\": {\"data\": {\"bar\": [{\"error_x\": {\"color\": \"#2a3f5f\"}, \"error_y\": {\"color\": \"#2a3f5f\"}, \"marker\": {\"line\": {\"color\": \"#E5ECF6\", \"width\": 0.5}}, \"type\": \"bar\"}], \"barpolar\": [{\"marker\": {\"line\": {\"color\": \"#E5ECF6\", \"width\": 0.5}}, \"type\": \"barpolar\"}], \"carpet\": [{\"aaxis\": {\"endlinecolor\": \"#2a3f5f\", \"gridcolor\": \"white\", \"linecolor\": \"white\", \"minorgridcolor\": \"white\", \"startlinecolor\": \"#2a3f5f\"}, \"baxis\": {\"endlinecolor\": \"#2a3f5f\", \"gridcolor\": \"white\", \"linecolor\": \"white\", \"minorgridcolor\": \"white\", \"startlinecolor\": \"#2a3f5f\"}, \"type\": \"carpet\"}], \"choropleth\": [{\"colorbar\": {\"outlinewidth\": 0, \"ticks\": \"\"}, \"type\": \"choropleth\"}], \"contour\": [{\"colorbar\": {\"outlinewidth\": 0, \"ticks\": \"\"}, \"colorscale\": [[0.0, \"#0d0887\"], [0.1111111111111111, \"#46039f\"], [0.2222222222222222, \"#7201a8\"], [0.3333333333333333, \"#9c179e\"], [0.4444444444444444, \"#bd3786\"], [0.5555555555555556, \"#d8576b\"], [0.6666666666666666, \"#ed7953\"], [0.7777777777777778, \"#fb9f3a\"], [0.8888888888888888, \"#fdca26\"], [1.0, \"#f0f921\"]], \"type\": \"contour\"}], \"contourcarpet\": [{\"colorbar\": {\"outlinewidth\": 0, \"ticks\": \"\"}, \"type\": \"contourcarpet\"}], \"heatmap\": [{\"colorbar\": {\"outlinewidth\": 0, \"ticks\": \"\"}, \"colorscale\": [[0.0, \"#0d0887\"], [0.1111111111111111, \"#46039f\"], [0.2222222222222222, \"#7201a8\"], [0.3333333333333333, \"#9c179e\"], [0.4444444444444444, \"#bd3786\"], [0.5555555555555556, \"#d8576b\"], [0.6666666666666666, \"#ed7953\"], [0.7777777777777778, \"#fb9f3a\"], [0.8888888888888888, \"#fdca26\"], [1.0, \"#f0f921\"]], \"type\": \"heatmap\"}], \"heatmapgl\": [{\"colorbar\": {\"outlinewidth\": 0, \"ticks\": \"\"}, \"colorscale\": [[0.0, \"#0d0887\"], [0.1111111111111111, \"#46039f\"], [0.2222222222222222, \"#7201a8\"], [0.3333333333333333, \"#9c179e\"], [0.4444444444444444, \"#bd3786\"], [0.5555555555555556, \"#d8576b\"], [0.6666666666666666, \"#ed7953\"], [0.7777777777777778, \"#fb9f3a\"], [0.8888888888888888, \"#fdca26\"], [1.0, \"#f0f921\"]], \"type\": \"heatmapgl\"}], \"histogram\": [{\"marker\": {\"colorbar\": {\"outlinewidth\": 0, \"ticks\": \"\"}}, \"type\": \"histogram\"}], \"histogram2d\": [{\"colorbar\": {\"outlinewidth\": 0, \"ticks\": \"\"}, \"colorscale\": [[0.0, \"#0d0887\"], [0.1111111111111111, \"#46039f\"], [0.2222222222222222, \"#7201a8\"], [0.3333333333333333, \"#9c179e\"], [0.4444444444444444, \"#bd3786\"], [0.5555555555555556, \"#d8576b\"], [0.6666666666666666, \"#ed7953\"], [0.7777777777777778, \"#fb9f3a\"], [0.8888888888888888, \"#fdca26\"], [1.0, \"#f0f921\"]], \"type\": \"histogram2d\"}], \"histogram2dcontour\": [{\"colorbar\": {\"outlinewidth\": 0, \"ticks\": \"\"}, \"colorscale\": [[0.0, \"#0d0887\"], [0.1111111111111111, \"#46039f\"], [0.2222222222222222, \"#7201a8\"], [0.3333333333333333, \"#9c179e\"], [0.4444444444444444, \"#bd3786\"], [0.5555555555555556, \"#d8576b\"], [0.6666666666666666, \"#ed7953\"], [0.7777777777777778, \"#fb9f3a\"], [0.8888888888888888, \"#fdca26\"], [1.0, \"#f0f921\"]], \"type\": \"histogram2dcontour\"}], \"mesh3d\": [{\"colorbar\": {\"outlinewidth\": 0, \"ticks\": \"\"}, \"type\": \"mesh3d\"}], \"parcoords\": [{\"line\": {\"colorbar\": {\"outlinewidth\": 0, \"ticks\": \"\"}}, \"type\": \"parcoords\"}], \"pie\": [{\"automargin\": true, \"type\": \"pie\"}], \"scatter\": [{\"marker\": {\"colorbar\": {\"outlinewidth\": 0, \"ticks\": \"\"}}, \"type\": \"scatter\"}], \"scatter3d\": [{\"line\": {\"colorbar\": {\"outlinewidth\": 0, \"ticks\": \"\"}}, \"marker\": {\"colorbar\": {\"outlinewidth\": 0, \"ticks\": \"\"}}, \"type\": \"scatter3d\"}], \"scattercarpet\": [{\"marker\": {\"colorbar\": {\"outlinewidth\": 0, \"ticks\": \"\"}}, \"type\": \"scattercarpet\"}], \"scattergeo\": [{\"marker\": {\"colorbar\": {\"outlinewidth\": 0, \"ticks\": \"\"}}, \"type\": \"scattergeo\"}], \"scattergl\": [{\"marker\": {\"colorbar\": {\"outlinewidth\": 0, \"ticks\": \"\"}}, \"type\": \"scattergl\"}], \"scattermapbox\": [{\"marker\": {\"colorbar\": {\"outlinewidth\": 0, \"ticks\": \"\"}}, \"type\": \"scattermapbox\"}], \"scatterpolar\": [{\"marker\": {\"colorbar\": {\"outlinewidth\": 0, \"ticks\": \"\"}}, \"type\": \"scatterpolar\"}], \"scatterpolargl\": [{\"marker\": {\"colorbar\": {\"outlinewidth\": 0, \"ticks\": \"\"}}, \"type\": \"scatterpolargl\"}], \"scatterternary\": [{\"marker\": {\"colorbar\": {\"outlinewidth\": 0, \"ticks\": \"\"}}, \"type\": \"scatterternary\"}], \"surface\": [{\"colorbar\": {\"outlinewidth\": 0, \"ticks\": \"\"}, \"colorscale\": [[0.0, \"#0d0887\"], [0.1111111111111111, \"#46039f\"], [0.2222222222222222, \"#7201a8\"], [0.3333333333333333, \"#9c179e\"], [0.4444444444444444, \"#bd3786\"], [0.5555555555555556, \"#d8576b\"], [0.6666666666666666, \"#ed7953\"], [0.7777777777777778, \"#fb9f3a\"], [0.8888888888888888, \"#fdca26\"], [1.0, \"#f0f921\"]], \"type\": \"surface\"}], \"table\": [{\"cells\": {\"fill\": {\"color\": \"#EBF0F8\"}, \"line\": {\"color\": \"white\"}}, \"header\": {\"fill\": {\"color\": \"#C8D4E3\"}, \"line\": {\"color\": \"white\"}}, \"type\": \"table\"}]}, \"layout\": {\"annotationdefaults\": {\"arrowcolor\": \"#2a3f5f\", \"arrowhead\": 0, \"arrowwidth\": 1}, \"autotypenumbers\": \"strict\", \"coloraxis\": {\"colorbar\": {\"outlinewidth\": 0, \"ticks\": \"\"}}, \"colorscale\": {\"diverging\": [[0, \"#8e0152\"], [0.1, \"#c51b7d\"], [0.2, \"#de77ae\"], [0.3, \"#f1b6da\"], [0.4, \"#fde0ef\"], [0.5, \"#f7f7f7\"], [0.6, \"#e6f5d0\"], [0.7, \"#b8e186\"], [0.8, \"#7fbc41\"], [0.9, \"#4d9221\"], [1, \"#276419\"]], \"sequential\": [[0.0, \"#0d0887\"], [0.1111111111111111, \"#46039f\"], [0.2222222222222222, \"#7201a8\"], [0.3333333333333333, \"#9c179e\"], [0.4444444444444444, \"#bd3786\"], [0.5555555555555556, \"#d8576b\"], [0.6666666666666666, \"#ed7953\"], [0.7777777777777778, \"#fb9f3a\"], [0.8888888888888888, \"#fdca26\"], [1.0, \"#f0f921\"]], \"sequentialminus\": [[0.0, \"#0d0887\"], [0.1111111111111111, \"#46039f\"], [0.2222222222222222, \"#7201a8\"], [0.3333333333333333, \"#9c179e\"], [0.4444444444444444, \"#bd3786\"], [0.5555555555555556, \"#d8576b\"], [0.6666666666666666, \"#ed7953\"], [0.7777777777777778, \"#fb9f3a\"], [0.8888888888888888, \"#fdca26\"], [1.0, \"#f0f921\"]]}, \"colorway\": [\"#636efa\", \"#EF553B\", \"#00cc96\", \"#ab63fa\", \"#FFA15A\", \"#19d3f3\", \"#FF6692\", \"#B6E880\", \"#FF97FF\", \"#FECB52\"], \"font\": {\"color\": \"#2a3f5f\"}, \"geo\": {\"bgcolor\": \"white\", \"lakecolor\": \"white\", \"landcolor\": \"#E5ECF6\", \"showlakes\": true, \"showland\": true, \"subunitcolor\": \"white\"}, \"hoverlabel\": {\"align\": \"left\"}, \"hovermode\": \"closest\", \"mapbox\": {\"style\": \"light\"}, \"paper_bgcolor\": \"white\", \"plot_bgcolor\": \"#E5ECF6\", \"polar\": {\"angularaxis\": {\"gridcolor\": \"white\", \"linecolor\": \"white\", \"ticks\": \"\"}, \"bgcolor\": \"#E5ECF6\", \"radialaxis\": {\"gridcolor\": \"white\", \"linecolor\": \"white\", \"ticks\": \"\"}}, \"scene\": {\"xaxis\": {\"backgroundcolor\": \"#E5ECF6\", \"gridcolor\": \"white\", \"gridwidth\": 2, \"linecolor\": \"white\", \"showbackground\": true, \"ticks\": \"\", \"zerolinecolor\": \"white\"}, \"yaxis\": {\"backgroundcolor\": \"#E5ECF6\", \"gridcolor\": \"white\", \"gridwidth\": 2, \"linecolor\": \"white\", \"showbackground\": true, \"ticks\": \"\", \"zerolinecolor\": \"white\"}, \"zaxis\": {\"backgroundcolor\": \"#E5ECF6\", \"gridcolor\": \"white\", \"gridwidth\": 2, \"linecolor\": \"white\", \"showbackground\": true, \"ticks\": \"\", \"zerolinecolor\": \"white\"}}, \"shapedefaults\": {\"line\": {\"color\": \"#2a3f5f\"}}, \"ternary\": {\"aaxis\": {\"gridcolor\": \"white\", \"linecolor\": \"white\", \"ticks\": \"\"}, \"baxis\": {\"gridcolor\": \"white\", \"linecolor\": \"white\", \"ticks\": \"\"}, \"bgcolor\": \"#E5ECF6\", \"caxis\": {\"gridcolor\": \"white\", \"linecolor\": \"white\", \"ticks\": \"\"}}, \"title\": {\"x\": 0.05}, \"xaxis\": {\"automargin\": true, \"gridcolor\": \"white\", \"linecolor\": \"white\", \"ticks\": \"\", \"title\": {\"standoff\": 15}, \"zerolinecolor\": \"white\", \"zerolinewidth\": 2}, \"yaxis\": {\"automargin\": true, \"gridcolor\": \"white\", \"linecolor\": \"white\", \"ticks\": \"\", \"title\": {\"standoff\": 15}, \"zerolinecolor\": \"white\", \"zerolinewidth\": 2}}}, \"xaxis\": {\"anchor\": \"y\", \"domain\": [0.0, 1.0], \"title\": {\"text\": \"variable\"}}, \"yaxis\": {\"anchor\": \"x\", \"domain\": [0.0, 1.0], \"title\": {\"text\": \"value\"}}},                        {\"responsive\": true}                    ).then(function(){\n",
       "                            \n",
       "var gd = document.getElementById('52f41374-6bd2-472c-93c3-112978354fb9');\n",
       "var x = new MutationObserver(function (mutations, observer) {{\n",
       "        var display = window.getComputedStyle(gd).display;\n",
       "        if (!display || display === 'none') {{\n",
       "            console.log([gd, 'removed!']);\n",
       "            Plotly.purge(gd);\n",
       "            observer.disconnect();\n",
       "        }}\n",
       "}});\n",
       "\n",
       "// Listen for the removal of the full notebook cells\n",
       "var notebookContainer = gd.closest('#notebook-container');\n",
       "if (notebookContainer) {{\n",
       "    x.observe(notebookContainer, {childList: true});\n",
       "}}\n",
       "\n",
       "// Listen for the clearing of the current output cell\n",
       "var outputEl = gd.closest('.output');\n",
       "if (outputEl) {{\n",
       "    x.observe(outputEl, {childList: true});\n",
       "}}\n",
       "\n",
       "                        })                };                });            </script>        </div>"
      ]
     },
     "metadata": {},
     "output_type": "display_data"
    }
   ],
   "source": [
    "px.box(cars['Base Model Price'])"
   ]
  },
  {
   "cell_type": "markdown",
   "id": "232e3f8b",
   "metadata": {},
   "source": [
    "## 50% of their cars are of less then 9 Lakhs."
   ]
  },
  {
   "cell_type": "markdown",
   "id": "f7ac2117",
   "metadata": {},
   "source": [
    "## - Top Model Price"
   ]
  },
  {
   "cell_type": "code",
   "execution_count": 967,
   "id": "85afd859",
   "metadata": {},
   "outputs": [
    {
     "data": {
      "text/plain": [
       "<AxesSubplot:xlabel='Top Model Price', ylabel='Count'>"
      ]
     },
     "execution_count": 967,
     "metadata": {},
     "output_type": "execute_result"
    },
    {
     "data": {
      "image/png": "[encoded data removed]",
      "text/plain": [
       "<Figure size 720x576 with 1 Axes>"
      ]
     },
     "metadata": {
      "needs_background": "light"
     },
     "output_type": "display_data"
    }
   ],
   "source": [
    "plt.figure(figsize=(10,8))\n",
    "sns.histplot(cars['Top Model Price'])"
   ]
  },
  {
   "cell_type": "code",
   "execution_count": 968,
   "id": "93d28c5e",
   "metadata": {},
   "outputs": [
    {
     "data": {
      "application/vnd.plotly.v1+json": {
       "config": {
        "plotlyServerURL": "https://plot.ly"
       },
       "data": [
        {
         "alignmentgroup": "True",
         "hovertemplate": "variable=%{x}<br>value=%{y}<extra></extra>",
         "legendgroup": "",
         "marker": {
          "color": "#636efa"
         },
         "name": "",
         "notched": false,
         "offsetgroup": "",
         "orientation": "v",
         "showlegend": false,
         "type": "box",
         "x": [
          "Top Model Price",
          "Top Model Price",
          "Top Model Price",
          "Top Model Price",
          "Top Model Price",
          "Top Model Price",
          "Top Model Price",
          "Top Model Price",
          "Top Model Price",
          "Top Model Price",
          "Top Model Price",
          "Top Model Price",
          "Top Model Price",
          "Top Model Price",
          "Top Model Price",
          "Top Model Price",
          "Top Model Price",
          "Top Model Price",
          "Top Model Price",
          "Top Model Price",
          "Top Model Price",
          "Top Model Price",
          "Top Model Price",
          "Top Model Price",
          "Top Model Price",
          "Top Model Price",
          "Top Model Price",
          "Top Model Price",
          "Top Model Price",
          "Top Model Price",
          "Top Model Price",
          "Top Model Price",
          "Top Model Price",
          "Top Model Price",
          "Top Model Price",
          "Top Model Price",
          "Top Model Price",
          "Top Model Price",
          "Top Model Price",
          "Top Model Price",
          "Top Model Price",
          "Top Model Price",
          "Top Model Price",
          "Top Model Price",
          "Top Model Price",
          "Top Model Price",
          "Top Model Price",
          "Top Model Price",
          "Top Model Price",
          "Top Model Price",
          "Top Model Price",
          "Top Model Price",
          "Top Model Price",
          "Top Model Price",
          "Top Model Price",
          "Top Model Price",
          "Top Model Price",
          "Top Model Price",
          "Top Model Price",
          "Top Model Price",
          "Top Model Price",
          "Top Model Price",
          "Top Model Price",
          "Top Model Price",
          "Top Model Price",
          "Top Model Price",
          "Top Model Price",
          "Top Model Price",
          "Top Model Price",
          "Top Model Price",
          "Top Model Price",
          "Top Model Price",
          "Top Model Price",
          "Top Model Price",
          "Top Model Price",
          "Top Model Price",
          "Top Model Price",
          "Top Model Price",
          "Top Model Price",
          "Top Model Price",
          "Top Model Price",
          "Top Model Price",
          "Top Model Price",
          "Top Model Price",
          "Top Model Price",
          "Top Model Price",
          "Top Model Price",
          "Top Model Price",
          "Top Model Price",
          "Top Model Price",
          "Top Model Price",
          "Top Model Price",
          "Top Model Price",
          "Top Model Price",
          "Top Model Price",
          "Top Model Price",
          "Top Model Price",
          "Top Model Price",
          "Top Model Price",
          "Top Model Price",
          "Top Model Price",
          "Top Model Price",
          "Top Model Price",
          "Top Model Price",
          "Top Model Price",
          "Top Model Price",
          "Top Model Price",
          "Top Model Price",
          "Top Model Price",
          "Top Model Price",
          "Top Model Price",
          "Top Model Price",
          "Top Model Price",
          "Top Model Price",
          "Top Model Price",
          "Top Model Price",
          "Top Model Price",
          "Top Model Price",
          "Top Model Price",
          "Top Model Price",
          "Top Model Price",
          "Top Model Price",
          "Top Model Price",
          "Top Model Price",
          "Top Model Price",
          "Top Model Price",
          "Top Model Price",
          "Top Model Price",
          "Top Model Price",
          "Top Model Price",
          "Top Model Price",
          "Top Model Price",
          "Top Model Price",
          "Top Model Price",
          "Top Model Price",
          "Top Model Price",
          "Top Model Price",
          "Top Model Price",
          "Top Model Price",
          "Top Model Price",
          "Top Model Price",
          "Top Model Price",
          "Top Model Price",
          "Top Model Price",
          "Top Model Price",
          "Top Model Price",
          "Top Model Price",
          "Top Model Price",
          "Top Model Price",
          "Top Model Price",
          "Top Model Price",
          "Top Model Price",
          "Top Model Price",
          "Top Model Price",
          "Top Model Price",
          "Top Model Price",
          "Top Model Price",
          "Top Model Price",
          "Top Model Price",
          "Top Model Price",
          "Top Model Price",
          "Top Model Price",
          "Top Model Price",
          "Top Model Price",
          "Top Model Price",
          "Top Model Price",
          "Top Model Price",
          "Top Model Price",
          "Top Model Price",
          "Top Model Price",
          "Top Model Price",
          "Top Model Price",
          "Top Model Price",
          "Top Model Price",
          "Top Model Price",
          "Top Model Price",
          "Top Model Price",
          "Top Model Price",
          "Top Model Price",
          "Top Model Price",
          "Top Model Price",
          "Top Model Price",
          "Top Model Price",
          "Top Model Price",
          "Top Model Price",
          "Top Model Price",
          "Top Model Price",
          "Top Model Price",
          "Top Model Price"
         ],
         "x0": " ",
         "xaxis": "x",
         "y": [
          841000,
          1141000,
          930000,
          902000,
          1059000,
          633000,
          460000,
          590000,
          1173000,
          1239000,
          526000,
          736000,
          1150000,
          529000,
          591000,
          640000,
          1494000,
          999000,
          1105000,
          979000,
          999000,
          1416000,
          1702000,
          939000,
          1309000,
          2003000,
          1412000,
          771000,
          3173000,
          1049000,
          835000,
          2849000,
          5790000,
          2760000,
          1295000,
          2081000,
          955000,
          695000,
          773000,
          749000,
          990000,
          2181000,
          1655999.9999999998,
          1169000,
          3625000,
          836999.9999999999,
          902000,
          872000.0000000001,
          1770000,
          1134000,
          1176000,
          1525000,
          935000,
          641000,
          2112000,
          2735000,
          2396000,
          719000,
          844999.9999999999,
          3830000,
          2459000,
          null,
          1460000,
          null,
          930000,
          1140000,
          1764999.9999999998,
          1335000,
          3395000.0000000005,
          999000,
          1383000,
          null,
          null,
          548000,
          1008000,
          795000,
          1425000,
          4290000,
          8800000,
          6290000,
          165000,
          null,
          4230000,
          6909999.999999999,
          8190000.000000001,
          6370000,
          6959999.999999999,
          246000,
          7790000.000000001,
          218000.00000000003,
          null,
          null,
          null,
          5390000,
          5878000,
          243000.00000000003,
          8090000.000000001,
          125000,
          146000,
          6313000,
          null,
          null,
          null,
          242000,
          278000,
          263000,
          null,
          5624000,
          139000,
          null,
          8153000,
          495000,
          651000,
          699000,
          131000,
          null,
          null,
          null,
          null,
          null,
          343000,
          625000,
          400000,
          1048000,
          795000,
          721000,
          null,
          785000,
          6181000,
          4761000,
          134000,
          4889000,
          null,
          null,
          null,
          null,
          null,
          1329000,
          2899000,
          3499000,
          1000000,
          1464000,
          null,
          261000,
          4850000,
          null,
          112000,
          null,
          4340000,
          null,
          null,
          307000,
          8395000,
          242000,
          163000,
          192000,
          198000,
          null,
          null,
          null,
          null,
          null,
          164000,
          193000,
          211000,
          251000,
          269000,
          3519000,
          2449000,
          null,
          420000,
          350000,
          438000,
          6305000,
          null,
          111000,
          8799000,
          6795000,
          184000,
          null,
          391000,
          341000,
          222000.00000000003,
          6175000,
          null,
          null,
          6363000,
          215000,
          3190000
         ],
         "y0": " ",
         "yaxis": "y"
        }
       ],
       "layout": {
        "boxmode": "group",
        "legend": {
         "tracegroupgap": 0
        },
        "margin": {
         "t": 60
        },
        "template": {
         "data": {
          "bar": [
           {
            "error_x": {
             "color": "#2a3f5f"
            },
            "error_y": {
             "color": "#2a3f5f"
            },
            "marker": {
             "line": {
              "color": "#E5ECF6",
              "width": 0.5
             }
            },
            "type": "bar"
           }
          ],
          "barpolar": [
           {
            "marker": {
             "line": {
              "color": "#E5ECF6",
              "width": 0.5
             }
            },
            "type": "barpolar"
           }
          ],
          "carpet": [
           {
            "aaxis": {
             "endlinecolor": "#2a3f5f",
             "gridcolor": "white",
             "linecolor": "white",
             "minorgridcolor": "white",
             "startlinecolor": "#2a3f5f"
            },
            "baxis": {
             "endlinecolor": "#2a3f5f",
             "gridcolor": "white",
             "linecolor": "white",
             "minorgridcolor": "white",
             "startlinecolor": "#2a3f5f"
            },
            "type": "carpet"
           }
          ],
          "choropleth": [
           {
            "colorbar": {
             "outlinewidth": 0,
             "ticks": ""
            },
            "type": "choropleth"
           }
          ],
          "contour": [
           {
            "colorbar": {
             "outlinewidth": 0,
             "ticks": ""
            },
            "colorscale": [
             [
              0,
              "#0d0887"
             ],
             [
              0.1111111111111111,
              "#46039f"
             ],
             [
              0.2222222222222222,
              "#7201a8"
             ],
             [
              0.3333333333333333,
              "#9c179e"
             ],
             [
              0.4444444444444444,
              "#bd3786"
             ],
             [
              0.5555555555555556,
              "#d8576b"
             ],
             [
              0.6666666666666666,
              "#ed7953"
             ],
             [
              0.7777777777777778,
              "#fb9f3a"
             ],
             [
              0.8888888888888888,
              "#fdca26"
             ],
             [
              1,
              "#f0f921"
             ]
            ],
            "type": "contour"
           }
          ],
          "contourcarpet": [
           {
            "colorbar": {
             "outlinewidth": 0,
             "ticks": ""
            },
            "type": "contourcarpet"
           }
          ],
          "heatmap": [
           {
            "colorbar": {
             "outlinewidth": 0,
             "ticks": ""
            },
            "colorscale": [
             [
              0,
              "#0d0887"
             ],
             [
              0.1111111111111111,
              "#46039f"
             ],
             [
              0.2222222222222222,
              "#7201a8"
             ],
             [
              0.3333333333333333,
              "#9c179e"
             ],
             [
              0.4444444444444444,
              "#bd3786"
             ],
             [
              0.5555555555555556,
              "#d8576b"
             ],
             [
              0.6666666666666666,
              "#ed7953"
             ],
             [
              0.7777777777777778,
              "#fb9f3a"
             ],
             [
              0.8888888888888888,
              "#fdca26"
             ],
             [
              1,
              "#f0f921"
             ]
            ],
            "type": "heatmap"
           }
          ],
          "heatmapgl": [
           {
            "colorbar": {
             "outlinewidth": 0,
             "ticks": ""
            },
            "colorscale": [
             [
              0,
              "#0d0887"
             ],
             [
              0.1111111111111111,
              "#46039f"
             ],
             [
              0.2222222222222222,
              "#7201a8"
             ],
             [
              0.3333333333333333,
              "#9c179e"
             ],
             [
              0.4444444444444444,
              "#bd3786"
             ],
             [
              0.5555555555555556,
              "#d8576b"
             ],
             [
              0.6666666666666666,
              "#ed7953"
             ],
             [
              0.7777777777777778,
              "#fb9f3a"
             ],
             [
              0.8888888888888888,
              "#fdca26"
             ],
             [
              1,
              "#f0f921"
             ]
            ],
            "type": "heatmapgl"
           }
          ],
          "histogram": [
           {
            "marker": {
             "colorbar": {
              "outlinewidth": 0,
              "ticks": ""
             }
            },
            "type": "histogram"
           }
          ],
          "histogram2d": [
           {
            "colorbar": {
             "outlinewidth": 0,
             "ticks": ""
            },
            "colorscale": [
             [
              0,
              "#0d0887"
             ],
             [
              0.1111111111111111,
              "#46039f"
             ],
             [
              0.2222222222222222,
              "#7201a8"
             ],
             [
              0.3333333333333333,
              "#9c179e"
             ],
             [
              0.4444444444444444,
              "#bd3786"
             ],
             [
              0.5555555555555556,
              "#d8576b"
             ],
             [
              0.6666666666666666,
              "#ed7953"
             ],
             [
              0.7777777777777778,
              "#fb9f3a"
             ],
             [
              0.8888888888888888,
              "#fdca26"
             ],
             [
              1,
              "#f0f921"
             ]
            ],
            "type": "histogram2d"
           }
          ],
          "histogram2dcontour": [
           {
            "colorbar": {
             "outlinewidth": 0,
             "ticks": ""
            },
            "colorscale": [
             [
              0,
              "#0d0887"
             ],
             [
              0.1111111111111111,
              "#46039f"
             ],
             [
              0.2222222222222222,
              "#7201a8"
             ],
             [
              0.3333333333333333,
              "#9c179e"
             ],
             [
              0.4444444444444444,
              "#bd3786"
             ],
             [
              0.5555555555555556,
              "#d8576b"
             ],
             [
              0.6666666666666666,
              "#ed7953"
             ],
             [
              0.7777777777777778,
              "#fb9f3a"
             ],
             [
              0.8888888888888888,
              "#fdca26"
             ],
             [
              1,
              "#f0f921"
             ]
            ],
            "type": "histogram2dcontour"
           }
          ],
          "mesh3d": [
           {
            "colorbar": {
             "outlinewidth": 0,
             "ticks": ""
            },
            "type": "mesh3d"
           }
          ],
          "parcoords": [
           {
            "line": {
             "colorbar": {
              "outlinewidth": 0,
              "ticks": ""
             }
            },
            "type": "parcoords"
           }
          ],
          "pie": [
           {
            "automargin": true,
            "type": "pie"
           }
          ],
          "scatter": [
           {
            "marker": {
             "colorbar": {
              "outlinewidth": 0,
              "ticks": ""
             }
            },
            "type": "scatter"
           }
          ],
          "scatter3d": [
           {
            "line": {
             "colorbar": {
              "outlinewidth": 0,
              "ticks": ""
             }
            },
            "marker": {
             "colorbar": {
              "outlinewidth": 0,
              "ticks": ""
             }
            },
            "type": "scatter3d"
           }
          ],
          "scattercarpet": [
           {
            "marker": {
             "colorbar": {
              "outlinewidth": 0,
              "ticks": ""
             }
            },
            "type": "scattercarpet"
           }
          ],
          "scattergeo": [
           {
            "marker": {
             "colorbar": {
              "outlinewidth": 0,
              "ticks": ""
             }
            },
            "type": "scattergeo"
           }
          ],
          "scattergl": [
           {
            "marker": {
             "colorbar": {
              "outlinewidth": 0,
              "ticks": ""
             }
            },
            "type": "scattergl"
           }
          ],
          "scattermapbox": [
           {
            "marker": {
             "colorbar": {
              "outlinewidth": 0,
              "ticks": ""
             }
            },
            "type": "scattermapbox"
           }
          ],
          "scatterpolar": [
           {
            "marker": {
             "colorbar": {
              "outlinewidth": 0,
              "ticks": ""
             }
            },
            "type": "scatterpolar"
           }
          ],
          "scatterpolargl": [
           {
            "marker": {
             "colorbar": {
              "outlinewidth": 0,
              "ticks": ""
             }
            },
            "type": "scatterpolargl"
           }
          ],
          "scatterternary": [
           {
            "marker": {
             "colorbar": {
              "outlinewidth": 0,
              "ticks": ""
             }
            },
            "type": "scatterternary"
           }
          ],
          "surface": [
           {
            "colorbar": {
             "outlinewidth": 0,
             "ticks": ""
            },
            "colorscale": [
             [
              0,
              "#0d0887"
             ],
             [
              0.1111111111111111,
              "#46039f"
             ],
             [
              0.2222222222222222,
              "#7201a8"
             ],
             [
              0.3333333333333333,
              "#9c179e"
             ],
             [
              0.4444444444444444,
              "#bd3786"
             ],
             [
              0.5555555555555556,
              "#d8576b"
             ],
             [
              0.6666666666666666,
              "#ed7953"
             ],
             [
              0.7777777777777778,
              "#fb9f3a"
             ],
             [
              0.8888888888888888,
              "#fdca26"
             ],
             [
              1,
              "#f0f921"
             ]
            ],
            "type": "surface"
           }
          ],
          "table": [
           {
            "cells": {
             "fill": {
              "color": "#EBF0F8"
             },
             "line": {
              "color": "white"
             }
            },
            "header": {
             "fill": {
              "color": "#C8D4E3"
             },
             "line": {
              "color": "white"
             }
            },
            "type": "table"
           }
          ]
         },
         "layout": {
          "annotationdefaults": {
           "arrowcolor": "#2a3f5f",
           "arrowhead": 0,
           "arrowwidth": 1
          },
          "autotypenumbers": "strict",
          "coloraxis": {
           "colorbar": {
            "outlinewidth": 0,
            "ticks": ""
           }
          },
          "colorscale": {
           "diverging": [
            [
             0,
             "#8e0152"
            ],
            [
             0.1,
             "#c51b7d"
            ],
            [
             0.2,
             "#de77ae"
            ],
            [
             0.3,
             "#f1b6da"
            ],
            [
             0.4,
             "#fde0ef"
            ],
            [
             0.5,
             "#f7f7f7"
            ],
            [
             0.6,
             "#e6f5d0"
            ],
            [
             0.7,
             "#b8e186"
            ],
            [
             0.8,
             "#7fbc41"
            ],
            [
             0.9,
             "#4d9221"
            ],
            [
             1,
             "#276419"
            ]
           ],
           "sequential": [
            [
             0,
             "#0d0887"
            ],
            [
             0.1111111111111111,
             "#46039f"
            ],
            [
             0.2222222222222222,
             "#7201a8"
            ],
            [
             0.3333333333333333,
             "#9c179e"
            ],
            [
             0.4444444444444444,
             "#bd3786"
            ],
            [
             0.5555555555555556,
             "#d8576b"
            ],
            [
             0.6666666666666666,
             "#ed7953"
            ],
            [
             0.7777777777777778,
             "#fb9f3a"
            ],
            [
             0.8888888888888888,
             "#fdca26"
            ],
            [
             1,
             "#f0f921"
            ]
           ],
           "sequentialminus": [
            [
             0,
             "#0d0887"
            ],
            [
             0.1111111111111111,
             "#46039f"
            ],
            [
             0.2222222222222222,
             "#7201a8"
            ],
            [
             0.3333333333333333,
             "#9c179e"
            ],
            [
             0.4444444444444444,
             "#bd3786"
            ],
            [
             0.5555555555555556,
             "#d8576b"
            ],
            [
             0.6666666666666666,
             "#ed7953"
            ],
            [
             0.7777777777777778,
             "#fb9f3a"
            ],
            [
             0.8888888888888888,
             "#fdca26"
            ],
            [
             1,
             "#f0f921"
            ]
           ]
          },
          "colorway": [
           "#636efa",
           "#EF553B",
           "#00cc96",
           "#ab63fa",
           "#FFA15A",
           "#19d3f3",
           "#FF6692",
           "#B6E880",
           "#FF97FF",
           "#FECB52"
          ],
          "font": {
           "color": "#2a3f5f"
          },
          "geo": {
           "bgcolor": "white",
           "lakecolor": "white",
           "landcolor": "#E5ECF6",
           "showlakes": true,
           "showland": true,
           "subunitcolor": "white"
          },
          "hoverlabel": {
           "align": "left"
          },
          "hovermode": "closest",
          "mapbox": {
           "style": "light"
          },
          "paper_bgcolor": "white",
          "plot_bgcolor": "#E5ECF6",
          "polar": {
           "angularaxis": {
            "gridcolor": "white",
            "linecolor": "white",
            "ticks": ""
           },
           "bgcolor": "#E5ECF6",
           "radialaxis": {
            "gridcolor": "white",
            "linecolor": "white",
            "ticks": ""
           }
          },
          "scene": {
           "xaxis": {
            "backgroundcolor": "#E5ECF6",
            "gridcolor": "white",
            "gridwidth": 2,
            "linecolor": "white",
            "showbackground": true,
            "ticks": "",
            "zerolinecolor": "white"
           },
           "yaxis": {
            "backgroundcolor": "#E5ECF6",
            "gridcolor": "white",
            "gridwidth": 2,
            "linecolor": "white",
            "showbackground": true,
            "ticks": "",
            "zerolinecolor": "white"
           },
           "zaxis": {
            "backgroundcolor": "#E5ECF6",
            "gridcolor": "white",
            "gridwidth": 2,
            "linecolor": "white",
            "showbackground": true,
            "ticks": "",
            "zerolinecolor": "white"
           }
          },
          "shapedefaults": {
           "line": {
            "color": "#2a3f5f"
           }
          },
          "ternary": {
           "aaxis": {
            "gridcolor": "white",
            "linecolor": "white",
            "ticks": ""
           },
           "baxis": {
            "gridcolor": "white",
            "linecolor": "white",
            "ticks": ""
           },
           "bgcolor": "#E5ECF6",
           "caxis": {
            "gridcolor": "white",
            "linecolor": "white",
            "ticks": ""
           }
          },
          "title": {
           "x": 0.05
          },
          "xaxis": {
           "automargin": true,
           "gridcolor": "white",
           "linecolor": "white",
           "ticks": "",
           "title": {
            "standoff": 15
           },
           "zerolinecolor": "white",
           "zerolinewidth": 2
          },
          "yaxis": {
           "automargin": true,
           "gridcolor": "white",
           "linecolor": "white",
           "ticks": "",
           "title": {
            "standoff": 15
           },
           "zerolinecolor": "white",
           "zerolinewidth": 2
          }
         }
        },
        "xaxis": {
         "anchor": "y",
         "domain": [
          0,
          1
         ],
         "title": {
          "text": "variable"
         }
        },
        "yaxis": {
         "anchor": "x",
         "domain": [
          0,
          1
         ],
         "title": {
          "text": "value"
         }
        }
       }
      },
      "text/html": [
       "<div>                            <div id=\"5b3c85b9-4891-4fc4-bec9-31e3cbc19ce6\" class=\"plotly-graph-div\" style=\"height:525px; width:100%;\"></div>            <script type=\"text/javascript\">                require([\"plotly\"], function(Plotly) {                    window.PLOTLYENV=window.PLOTLYENV || {};                                    if (document.getElementById(\"5b3c85b9-4891-4fc4-bec9-31e3cbc19ce6\")) {                    Plotly.newPlot(                        \"5b3c85b9-4891-4fc4-bec9-31e3cbc19ce6\",                        [{\"alignmentgroup\": \"True\", \"hovertemplate\": \"variable=%{x}<br>value=%{y}<extra></extra>\", \"legendgroup\": \"\", \"marker\": {\"color\": \"#636efa\"}, \"name\": \"\", \"notched\": false, \"offsetgroup\": \"\", \"orientation\": \"v\", \"showlegend\": false, \"type\": \"box\", \"x\": [\"Top Model Price\", \"Top Model Price\", \"Top Model Price\", \"Top Model Price\", \"Top Model Price\", \"Top Model Price\", \"Top Model Price\", \"Top Model Price\", \"Top Model Price\", \"Top Model Price\", \"Top Model Price\", \"Top Model Price\", \"Top Model Price\", \"Top Model Price\", \"Top Model Price\", \"Top Model Price\", \"Top Model Price\", \"Top Model Price\", \"Top Model Price\", \"Top Model Price\", \"Top Model Price\", \"Top Model Price\", \"Top Model Price\", \"Top Model Price\", \"Top Model Price\", \"Top Model Price\", \"Top Model Price\", \"Top Model Price\", \"Top Model Price\", \"Top Model Price\", \"Top Model Price\", \"Top Model Price\", \"Top Model Price\", \"Top Model Price\", \"Top Model Price\", \"Top Model Price\", \"Top Model Price\", \"Top Model Price\", \"Top Model Price\", \"Top Model Price\", \"Top Model Price\", \"Top Model Price\", \"Top Model Price\", \"Top Model Price\", \"Top Model Price\", \"Top Model Price\", \"Top Model Price\", \"Top Model Price\", \"Top Model Price\", \"Top Model Price\", \"Top Model Price\", \"Top Model Price\", \"Top Model Price\", \"Top Model Price\", \"Top Model Price\", \"Top Model Price\", \"Top Model Price\", \"Top Model Price\", \"Top Model Price\", \"Top Model Price\", \"Top Model Price\", \"Top Model Price\", \"Top Model Price\", \"Top Model Price\", \"Top Model Price\", \"Top Model Price\", \"Top Model Price\", \"Top Model Price\", \"Top Model Price\", \"Top Model Price\", \"Top Model Price\", \"Top Model Price\", \"Top Model Price\", \"Top Model Price\", \"Top Model Price\", \"Top Model Price\", \"Top Model Price\", \"Top Model Price\", \"Top Model Price\", \"Top Model Price\", \"Top Model Price\", \"Top Model Price\", \"Top Model Price\", \"Top Model Price\", \"Top Model Price\", \"Top Model Price\", \"Top Model Price\", \"Top Model Price\", \"Top Model Price\", \"Top Model Price\", \"Top Model Price\", \"Top Model Price\", \"Top Model Price\", \"Top Model Price\", \"Top Model Price\", \"Top Model Price\", \"Top Model Price\", \"Top Model Price\", \"Top Model Price\", \"Top Model Price\", \"Top Model Price\", \"Top Model Price\", \"Top Model Price\", \"Top Model Price\", \"Top Model Price\", \"Top Model Price\", \"Top Model Price\", \"Top Model Price\", \"Top Model Price\", \"Top Model Price\", \"Top Model Price\", \"Top Model Price\", \"Top Model Price\", \"Top Model Price\", \"Top Model Price\", \"Top Model Price\", \"Top Model Price\", \"Top Model Price\", \"Top Model Price\", \"Top Model Price\", \"Top Model Price\", \"Top Model Price\", \"Top Model Price\", \"Top Model Price\", \"Top Model Price\", \"Top Model Price\", \"Top Model Price\", \"Top Model Price\", \"Top Model Price\", \"Top Model Price\", \"Top Model Price\", \"Top Model Price\", \"Top Model Price\", \"Top Model Price\", \"Top Model Price\", \"Top Model Price\", \"Top Model Price\", \"Top Model Price\", \"Top Model Price\", \"Top Model Price\", \"Top Model Price\", \"Top Model Price\", \"Top Model Price\", \"Top Model Price\", \"Top Model Price\", \"Top Model Price\", \"Top Model Price\", \"Top Model Price\", \"Top Model Price\", \"Top Model Price\", \"Top Model Price\", \"Top Model Price\", \"Top Model Price\", \"Top Model Price\", \"Top Model Price\", \"Top Model Price\", \"Top Model Price\", \"Top Model Price\", \"Top Model Price\", \"Top Model Price\", \"Top Model Price\", \"Top Model Price\", \"Top Model Price\", \"Top Model Price\", \"Top Model Price\", \"Top Model Price\", \"Top Model Price\", \"Top Model Price\", \"Top Model Price\", \"Top Model Price\", \"Top Model Price\", \"Top Model Price\", \"Top Model Price\", \"Top Model Price\", \"Top Model Price\", \"Top Model Price\", \"Top Model Price\", \"Top Model Price\", \"Top Model Price\", \"Top Model Price\", \"Top Model Price\", \"Top Model Price\", \"Top Model Price\", \"Top Model Price\", \"Top Model Price\", \"Top Model Price\", \"Top Model Price\", \"Top Model Price\", \"Top Model Price\"], \"x0\": \" \", \"xaxis\": \"x\", \"y\": [841000.0, 1141000.0, 930000.0, 902000.0, 1059000.0, 633000.0, 460000.0, 590000.0, 1173000.0, 1239000.0, 526000.0, 736000.0, 1150000.0, 529000.0, 591000.0, 640000.0, 1494000.0, 999000.0, 1105000.0, 979000.0, 999000.0, 1416000.0, 1702000.0, 939000.0, 1309000.0, 2003000.0, 1412000.0, 771000.0, 3173000.0, 1049000.0, 835000.0, 2849000.0, 5790000.0, 2760000.0, 1295000.0, 2081000.0, 955000.0, 695000.0, 773000.0, 749000.0, 990000.0, 2181000.0, 1655999.9999999998, 1169000.0, 3625000.0, 836999.9999999999, 902000.0, 872000.0000000001, 1770000.0, 1134000.0, 1176000.0, 1525000.0, 935000.0, 641000.0, 2112000.0, 2735000.0, 2396000.0, 719000.0, 844999.9999999999, 3830000.0, 2459000.0, null, 1460000.0, null, 930000.0, 1140000.0, 1764999.9999999998, 1335000.0, 3395000.0000000005, 999000.0, 1383000.0, null, null, 548000.0, 1008000.0, 795000.0, 1425000.0, 4290000.0, 8800000.0, 6290000.0, 165000.0, null, 4230000.0, 6909999.999999999, 8190000.000000001, 6370000.0, 6959999.999999999, 246000.0, 7790000.000000001, 218000.00000000003, null, null, null, 5390000.0, 5878000.0, 243000.00000000003, 8090000.000000001, 125000.0, 146000.0, 6313000.0, null, null, null, 242000.0, 278000.0, 263000.0, null, 5624000.0, 139000.0, null, 8153000.0, 495000.0, 651000.0, 699000.0, 131000.0, null, null, null, null, null, 343000.0, 625000.0, 400000.0, 1048000.0, 795000.0, 721000.0, null, 785000.0, 6181000.0, 4761000.0, 134000.0, 4889000.0, null, null, null, null, null, 1329000.0, 2899000.0, 3499000.0, 1000000.0, 1464000.0, null, 261000.0, 4850000.0, null, 112000.0, null, 4340000.0, null, null, 307000.0, 8395000.0, 242000.0, 163000.0, 192000.0, 198000.0, null, null, null, null, null, 164000.0, 193000.0, 211000.0, 251000.0, 269000.0, 3519000.0, 2449000.0, null, 420000.0, 350000.0, 438000.0, 6305000.0, null, 111000.0, 8799000.0, 6795000.0, 184000.0, null, 391000.0, 341000.0, 222000.00000000003, 6175000.0, null, null, 6363000.0, 215000.0, 3190000.0], \"y0\": \" \", \"yaxis\": \"y\"}],                        {\"boxmode\": \"group\", \"legend\": {\"tracegroupgap\": 0}, \"margin\": {\"t\": 60}, \"template\": {\"data\": {\"bar\": [{\"error_x\": {\"color\": \"#2a3f5f\"}, \"error_y\": {\"color\": \"#2a3f5f\"}, \"marker\": {\"line\": {\"color\": \"#E5ECF6\", \"width\": 0.5}}, \"type\": \"bar\"}], \"barpolar\": [{\"marker\": {\"line\": {\"color\": \"#E5ECF6\", \"width\": 0.5}}, \"type\": \"barpolar\"}], \"carpet\": [{\"aaxis\": {\"endlinecolor\": \"#2a3f5f\", \"gridcolor\": \"white\", \"linecolor\": \"white\", \"minorgridcolor\": \"white\", \"startlinecolor\": \"#2a3f5f\"}, \"baxis\": {\"endlinecolor\": \"#2a3f5f\", \"gridcolor\": \"white\", \"linecolor\": \"white\", \"minorgridcolor\": \"white\", \"startlinecolor\": \"#2a3f5f\"}, \"type\": \"carpet\"}], \"choropleth\": [{\"colorbar\": {\"outlinewidth\": 0, \"ticks\": \"\"}, \"type\": \"choropleth\"}], \"contour\": [{\"colorbar\": {\"outlinewidth\": 0, \"ticks\": \"\"}, \"colorscale\": [[0.0, \"#0d0887\"], [0.1111111111111111, \"#46039f\"], [0.2222222222222222, \"#7201a8\"], [0.3333333333333333, \"#9c179e\"], [0.4444444444444444, \"#bd3786\"], [0.5555555555555556, \"#d8576b\"], [0.6666666666666666, \"#ed7953\"], [0.7777777777777778, \"#fb9f3a\"], [0.8888888888888888, \"#fdca26\"], [1.0, \"#f0f921\"]], \"type\": \"contour\"}], \"contourcarpet\": [{\"colorbar\": {\"outlinewidth\": 0, \"ticks\": \"\"}, \"type\": \"contourcarpet\"}], \"heatmap\": [{\"colorbar\": {\"outlinewidth\": 0, \"ticks\": \"\"}, \"colorscale\": [[0.0, \"#0d0887\"], [0.1111111111111111, \"#46039f\"], [0.2222222222222222, \"#7201a8\"], [0.3333333333333333, \"#9c179e\"], [0.4444444444444444, \"#bd3786\"], [0.5555555555555556, \"#d8576b\"], [0.6666666666666666, \"#ed7953\"], [0.7777777777777778, \"#fb9f3a\"], [0.8888888888888888, \"#fdca26\"], [1.0, \"#f0f921\"]], \"type\": \"heatmap\"}], \"heatmapgl\": [{\"colorbar\": {\"outlinewidth\": 0, \"ticks\": \"\"}, \"colorscale\": [[0.0, \"#0d0887\"], [0.1111111111111111, \"#46039f\"], [0.2222222222222222, \"#7201a8\"], [0.3333333333333333, \"#9c179e\"], [0.4444444444444444, \"#bd3786\"], [0.5555555555555556, \"#d8576b\"], [0.6666666666666666, \"#ed7953\"], [0.7777777777777778, \"#fb9f3a\"], [0.8888888888888888, \"#fdca26\"], [1.0, \"#f0f921\"]], \"type\": \"heatmapgl\"}], \"histogram\": [{\"marker\": {\"colorbar\": {\"outlinewidth\": 0, \"ticks\": \"\"}}, \"type\": \"histogram\"}], \"histogram2d\": [{\"colorbar\": {\"outlinewidth\": 0, \"ticks\": \"\"}, \"colorscale\": [[0.0, \"#0d0887\"], [0.1111111111111111, \"#46039f\"], [0.2222222222222222, \"#7201a8\"], [0.3333333333333333, \"#9c179e\"], [0.4444444444444444, \"#bd3786\"], [0.5555555555555556, \"#d8576b\"], [0.6666666666666666, \"#ed7953\"], [0.7777777777777778, \"#fb9f3a\"], [0.8888888888888888, \"#fdca26\"], [1.0, \"#f0f921\"]], \"type\": \"histogram2d\"}], \"histogram2dcontour\": [{\"colorbar\": {\"outlinewidth\": 0, \"ticks\": \"\"}, \"colorscale\": [[0.0, \"#0d0887\"], [0.1111111111111111, \"#46039f\"], [0.2222222222222222, \"#7201a8\"], [0.3333333333333333, \"#9c179e\"], [0.4444444444444444, \"#bd3786\"], [0.5555555555555556, \"#d8576b\"], [0.6666666666666666, \"#ed7953\"], [0.7777777777777778, \"#fb9f3a\"], [0.8888888888888888, \"#fdca26\"], [1.0, \"#f0f921\"]], \"type\": \"histogram2dcontour\"}], \"mesh3d\": [{\"colorbar\": {\"outlinewidth\": 0, \"ticks\": \"\"}, \"type\": \"mesh3d\"}], \"parcoords\": [{\"line\": {\"colorbar\": {\"outlinewidth\": 0, \"ticks\": \"\"}}, \"type\": \"parcoords\"}], \"pie\": [{\"automargin\": true, \"type\": \"pie\"}], \"scatter\": [{\"marker\": {\"colorbar\": {\"outlinewidth\": 0, \"ticks\": \"\"}}, \"type\": \"scatter\"}], \"scatter3d\": [{\"line\": {\"colorbar\": {\"outlinewidth\": 0, \"ticks\": \"\"}}, \"marker\": {\"colorbar\": {\"outlinewidth\": 0, \"ticks\": \"\"}}, \"type\": \"scatter3d\"}], \"scattercarpet\": [{\"marker\": {\"colorbar\": {\"outlinewidth\": 0, \"ticks\": \"\"}}, \"type\": \"scattercarpet\"}], \"scattergeo\": [{\"marker\": {\"colorbar\": {\"outlinewidth\": 0, \"ticks\": \"\"}}, \"type\": \"scattergeo\"}], \"scattergl\": [{\"marker\": {\"colorbar\": {\"outlinewidth\": 0, \"ticks\": \"\"}}, \"type\": \"scattergl\"}], \"scattermapbox\": [{\"marker\": {\"colorbar\": {\"outlinewidth\": 0, \"ticks\": \"\"}}, \"type\": \"scattermapbox\"}], \"scatterpolar\": [{\"marker\": {\"colorbar\": {\"outlinewidth\": 0, \"ticks\": \"\"}}, \"type\": \"scatterpolar\"}], \"scatterpolargl\": [{\"marker\": {\"colorbar\": {\"outlinewidth\": 0, \"ticks\": \"\"}}, \"type\": \"scatterpolargl\"}], \"scatterternary\": [{\"marker\": {\"colorbar\": {\"outlinewidth\": 0, \"ticks\": \"\"}}, \"type\": \"scatterternary\"}], \"surface\": [{\"colorbar\": {\"outlinewidth\": 0, \"ticks\": \"\"}, \"colorscale\": [[0.0, \"#0d0887\"], [0.1111111111111111, \"#46039f\"], [0.2222222222222222, \"#7201a8\"], [0.3333333333333333, \"#9c179e\"], [0.4444444444444444, \"#bd3786\"], [0.5555555555555556, \"#d8576b\"], [0.6666666666666666, \"#ed7953\"], [0.7777777777777778, \"#fb9f3a\"], [0.8888888888888888, \"#fdca26\"], [1.0, \"#f0f921\"]], \"type\": \"surface\"}], \"table\": [{\"cells\": {\"fill\": {\"color\": \"#EBF0F8\"}, \"line\": {\"color\": \"white\"}}, \"header\": {\"fill\": {\"color\": \"#C8D4E3\"}, \"line\": {\"color\": \"white\"}}, \"type\": \"table\"}]}, \"layout\": {\"annotationdefaults\": {\"arrowcolor\": \"#2a3f5f\", \"arrowhead\": 0, \"arrowwidth\": 1}, \"autotypenumbers\": \"strict\", \"coloraxis\": {\"colorbar\": {\"outlinewidth\": 0, \"ticks\": \"\"}}, \"colorscale\": {\"diverging\": [[0, \"#8e0152\"], [0.1, \"#c51b7d\"], [0.2, \"#de77ae\"], [0.3, \"#f1b6da\"], [0.4, \"#fde0ef\"], [0.5, \"#f7f7f7\"], [0.6, \"#e6f5d0\"], [0.7, \"#b8e186\"], [0.8, \"#7fbc41\"], [0.9, \"#4d9221\"], [1, \"#276419\"]], \"sequential\": [[0.0, \"#0d0887\"], [0.1111111111111111, \"#46039f\"], [0.2222222222222222, \"#7201a8\"], [0.3333333333333333, \"#9c179e\"], [0.4444444444444444, \"#bd3786\"], [0.5555555555555556, \"#d8576b\"], [0.6666666666666666, \"#ed7953\"], [0.7777777777777778, \"#fb9f3a\"], [0.8888888888888888, \"#fdca26\"], [1.0, \"#f0f921\"]], \"sequentialminus\": [[0.0, \"#0d0887\"], [0.1111111111111111, \"#46039f\"], [0.2222222222222222, \"#7201a8\"], [0.3333333333333333, \"#9c179e\"], [0.4444444444444444, \"#bd3786\"], [0.5555555555555556, \"#d8576b\"], [0.6666666666666666, \"#ed7953\"], [0.7777777777777778, \"#fb9f3a\"], [0.8888888888888888, \"#fdca26\"], [1.0, \"#f0f921\"]]}, \"colorway\": [\"#636efa\", \"#EF553B\", \"#00cc96\", \"#ab63fa\", \"#FFA15A\", \"#19d3f3\", \"#FF6692\", \"#B6E880\", \"#FF97FF\", \"#FECB52\"], \"font\": {\"color\": \"#2a3f5f\"}, \"geo\": {\"bgcolor\": \"white\", \"lakecolor\": \"white\", \"landcolor\": \"#E5ECF6\", \"showlakes\": true, \"showland\": true, \"subunitcolor\": \"white\"}, \"hoverlabel\": {\"align\": \"left\"}, \"hovermode\": \"closest\", \"mapbox\": {\"style\": \"light\"}, \"paper_bgcolor\": \"white\", \"plot_bgcolor\": \"#E5ECF6\", \"polar\": {\"angularaxis\": {\"gridcolor\": \"white\", \"linecolor\": \"white\", \"ticks\": \"\"}, \"bgcolor\": \"#E5ECF6\", \"radialaxis\": {\"gridcolor\": \"white\", \"linecolor\": \"white\", \"ticks\": \"\"}}, \"scene\": {\"xaxis\": {\"backgroundcolor\": \"#E5ECF6\", \"gridcolor\": \"white\", \"gridwidth\": 2, \"linecolor\": \"white\", \"showbackground\": true, \"ticks\": \"\", \"zerolinecolor\": \"white\"}, \"yaxis\": {\"backgroundcolor\": \"#E5ECF6\", \"gridcolor\": \"white\", \"gridwidth\": 2, \"linecolor\": \"white\", \"showbackground\": true, \"ticks\": \"\", \"zerolinecolor\": \"white\"}, \"zaxis\": {\"backgroundcolor\": \"#E5ECF6\", \"gridcolor\": \"white\", \"gridwidth\": 2, \"linecolor\": \"white\", \"showbackground\": true, \"ticks\": \"\", \"zerolinecolor\": \"white\"}}, \"shapedefaults\": {\"line\": {\"color\": \"#2a3f5f\"}}, \"ternary\": {\"aaxis\": {\"gridcolor\": \"white\", \"linecolor\": \"white\", \"ticks\": \"\"}, \"baxis\": {\"gridcolor\": \"white\", \"linecolor\": \"white\", \"ticks\": \"\"}, \"bgcolor\": \"#E5ECF6\", \"caxis\": {\"gridcolor\": \"white\", \"linecolor\": \"white\", \"ticks\": \"\"}}, \"title\": {\"x\": 0.05}, \"xaxis\": {\"automargin\": true, \"gridcolor\": \"white\", \"linecolor\": \"white\", \"ticks\": \"\", \"title\": {\"standoff\": 15}, \"zerolinecolor\": \"white\", \"zerolinewidth\": 2}, \"yaxis\": {\"automargin\": true, \"gridcolor\": \"white\", \"linecolor\": \"white\", \"ticks\": \"\", \"title\": {\"standoff\": 15}, \"zerolinecolor\": \"white\", \"zerolinewidth\": 2}}}, \"xaxis\": {\"anchor\": \"y\", \"domain\": [0.0, 1.0], \"title\": {\"text\": \"variable\"}}, \"yaxis\": {\"anchor\": \"x\", \"domain\": [0.0, 1.0], \"title\": {\"text\": \"value\"}}},                        {\"responsive\": true}                    ).then(function(){\n",
       "                            \n",
       "var gd = document.getElementById('5b3c85b9-4891-4fc4-bec9-31e3cbc19ce6');\n",
       "var x = new MutationObserver(function (mutations, observer) {{\n",
       "        var display = window.getComputedStyle(gd).display;\n",
       "        if (!display || display === 'none') {{\n",
       "            console.log([gd, 'removed!']);\n",
       "            Plotly.purge(gd);\n",
       "            observer.disconnect();\n",
       "        }}\n",
       "}});\n",
       "\n",
       "// Listen for the removal of the full notebook cells\n",
       "var notebookContainer = gd.closest('#notebook-container');\n",
       "if (notebookContainer) {{\n",
       "    x.observe(notebookContainer, {childList: true});\n",
       "}}\n",
       "\n",
       "// Listen for the clearing of the current output cell\n",
       "var outputEl = gd.closest('.output');\n",
       "if (outputEl) {{\n",
       "    x.observe(outputEl, {childList: true});\n",
       "}}\n",
       "\n",
       "                        })                };                });            </script>        </div>"
      ]
     },
     "metadata": {},
     "output_type": "display_data"
    }
   ],
   "source": [
    "px.box(cars['Top Model Price'])"
   ]
  },
  {
   "cell_type": "markdown",
   "id": "e8e5c45b",
   "metadata": {},
   "source": [
    "## 75% of their Top models are below 28 Lakhs"
   ]
  },
  {
   "cell_type": "code",
   "execution_count": null,
   "id": "44262a5d",
   "metadata": {},
   "outputs": [],
   "source": []
  }
 ],
 "metadata": {
  "kernelspec": {
   "display_name": "Python 3",
   "language": "python",
   "name": "python3"
  },
  "language_info": {
   "codemirror_mode": {
    "name": "ipython",
    "version": 3
   },
   "file_extension": ".py",
   "mimetype": "text/x-python",
   "name": "python",
   "nbconvert_exporter": "python",
   "pygments_lexer": "ipython3",
   "version": "3.8.8"
  }
 },
 "nbformat": 4,
 "nbformat_minor": 5
}
