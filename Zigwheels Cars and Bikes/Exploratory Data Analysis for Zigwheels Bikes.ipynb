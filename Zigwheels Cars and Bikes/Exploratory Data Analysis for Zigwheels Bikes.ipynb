{
 "cells": [
  {
   "cell_type": "code",
   "execution_count": 569,
   "id": "ce745f13",
   "metadata": {},
   "outputs": [],
   "source": [
    "import pandas as pd\n",
    "import numpy as np\n",
    "import matplotlib.pyplot as plt\n",
    "import seaborn as sns\n",
    "import plotly.express as px\n",
    "import warnings\n",
    "warnings.filterwarnings('ignore')"
   ]
  },
  {
   "cell_type": "code",
   "execution_count": 570,
   "id": "0c26c88c",
   "metadata": {},
   "outputs": [],
   "source": [
    "bikes=pd.read_csv('C:\\\\Users\\\\manuj\\\\Innomatics Research labs\\\\My_Notebooks\\\\zigwheels_bike_correctly_datatyped.csv')"
   ]
  },
  {
   "cell_type": "markdown",
   "id": "4c308d7a",
   "metadata": {},
   "source": [
    "# <span style='background :red' > It is used to highlight replacement of missing values</span>\n",
    "# <span style='background :yellow' > It is used to highlight the findings</span>"
   ]
  },
  {
   "cell_type": "code",
   "execution_count": 571,
   "id": "23b0d527",
   "metadata": {},
   "outputs": [
    {
     "data": {
      "text/plain": [
       "Brand               object\n",
       "Model               object\n",
       "Ratings            float64\n",
       "Rated By           float64\n",
       "CC or Watt         float64\n",
       "Fuel Type           object\n",
       "Start Price        float64\n",
       "Top Model Price    float64\n",
       "bhp                float64\n",
       "Weight             float64\n",
       "dtype: object"
      ]
     },
     "execution_count": 571,
     "metadata": {},
     "output_type": "execute_result"
    }
   ],
   "source": [
    "bikes.dtypes"
   ]
  },
  {
   "cell_type": "code",
   "execution_count": 572,
   "id": "65e6bd18",
   "metadata": {},
   "outputs": [
    {
     "data": {
      "text/html": [
       "<div>\n",
       "<style scoped>\n",
       "    .dataframe tbody tr th:only-of-type {\n",
       "        vertical-align: middle;\n",
       "    }\n",
       "\n",
       "    .dataframe tbody tr th {\n",
       "        vertical-align: top;\n",
       "    }\n",
       "\n",
       "    .dataframe thead th {\n",
       "        text-align: right;\n",
       "    }\n",
       "</style>\n",
       "<table border=\"1\" class=\"dataframe\">\n",
       "  <thead>\n",
       "    <tr style=\"text-align: right;\">\n",
       "      <th></th>\n",
       "      <th>Brand</th>\n",
       "      <th>Model</th>\n",
       "      <th>Ratings</th>\n",
       "      <th>Rated By</th>\n",
       "      <th>CC or Watt</th>\n",
       "      <th>Fuel Type</th>\n",
       "      <th>Start Price</th>\n",
       "      <th>Top Model Price</th>\n",
       "      <th>bhp</th>\n",
       "      <th>Weight</th>\n",
       "    </tr>\n",
       "  </thead>\n",
       "  <tbody>\n",
       "    <tr>\n",
       "      <th>67</th>\n",
       "      <td>Royal</td>\n",
       "      <td>Enfield Bullet 350</td>\n",
       "      <td>4.0</td>\n",
       "      <td>3601.0</td>\n",
       "      <td>346.00</td>\n",
       "      <td>Petrol</td>\n",
       "      <td>134000.0</td>\n",
       "      <td>155000.0</td>\n",
       "      <td>19.36</td>\n",
       "      <td>191.0</td>\n",
       "    </tr>\n",
       "    <tr>\n",
       "      <th>136</th>\n",
       "      <td>Harley-Davidson</td>\n",
       "      <td>Fat Boy 114</td>\n",
       "      <td>4.2</td>\n",
       "      <td>31.0</td>\n",
       "      <td>1745.00</td>\n",
       "      <td>Petrol</td>\n",
       "      <td>2090000.0</td>\n",
       "      <td>NaN</td>\n",
       "      <td>NaN</td>\n",
       "      <td>322.0</td>\n",
       "    </tr>\n",
       "    <tr>\n",
       "      <th>204</th>\n",
       "      <td>Ducati</td>\n",
       "      <td>Scrambler 1100</td>\n",
       "      <td>4.4</td>\n",
       "      <td>2.0</td>\n",
       "      <td>1079.00</td>\n",
       "      <td>Petrol</td>\n",
       "      <td>1099000.0</td>\n",
       "      <td>1374000.0</td>\n",
       "      <td>85.65</td>\n",
       "      <td>206.0</td>\n",
       "    </tr>\n",
       "    <tr>\n",
       "      <th>36</th>\n",
       "      <td>Hero</td>\n",
       "      <td>Destini 125</td>\n",
       "      <td>4.3</td>\n",
       "      <td>588.0</td>\n",
       "      <td>124.60</td>\n",
       "      <td>Petrol</td>\n",
       "      <td>67990.0</td>\n",
       "      <td>73390.0</td>\n",
       "      <td>9.10</td>\n",
       "      <td>113.0</td>\n",
       "    </tr>\n",
       "    <tr>\n",
       "      <th>189</th>\n",
       "      <td>Kawasaki</td>\n",
       "      <td>Versys 650</td>\n",
       "      <td>4.3</td>\n",
       "      <td>19.0</td>\n",
       "      <td>649.00</td>\n",
       "      <td>Petrol</td>\n",
       "      <td>708000.0</td>\n",
       "      <td>NaN</td>\n",
       "      <td>NaN</td>\n",
       "      <td>218.0</td>\n",
       "    </tr>\n",
       "    <tr>\n",
       "      <th>100</th>\n",
       "      <td>Revolt</td>\n",
       "      <td>RV400</td>\n",
       "      <td>4.1</td>\n",
       "      <td>393.0</td>\n",
       "      <td>3000.00</td>\n",
       "      <td>Electric</td>\n",
       "      <td>103000.0</td>\n",
       "      <td>118000.0</td>\n",
       "      <td>NaN</td>\n",
       "      <td>108.0</td>\n",
       "    </tr>\n",
       "    <tr>\n",
       "      <th>191</th>\n",
       "      <td>Kawasaki</td>\n",
       "      <td>KX 250</td>\n",
       "      <td>5.0</td>\n",
       "      <td>1.0</td>\n",
       "      <td>249.00</td>\n",
       "      <td>Petrol</td>\n",
       "      <td>743000.0</td>\n",
       "      <td>NaN</td>\n",
       "      <td>NaN</td>\n",
       "      <td>104.7</td>\n",
       "    </tr>\n",
       "    <tr>\n",
       "      <th>61</th>\n",
       "      <td>Okinawa</td>\n",
       "      <td>R30</td>\n",
       "      <td>3.5</td>\n",
       "      <td>15.0</td>\n",
       "      <td>250.00</td>\n",
       "      <td>Electric</td>\n",
       "      <td>58992.0</td>\n",
       "      <td>NaN</td>\n",
       "      <td>NaN</td>\n",
       "      <td>NaN</td>\n",
       "    </tr>\n",
       "    <tr>\n",
       "      <th>24</th>\n",
       "      <td>TVS</td>\n",
       "      <td>Radeon</td>\n",
       "      <td>3.9</td>\n",
       "      <td>261.0</td>\n",
       "      <td>109.70</td>\n",
       "      <td>Petrol</td>\n",
       "      <td>61242.0</td>\n",
       "      <td>68567.0</td>\n",
       "      <td>8.19</td>\n",
       "      <td>116.0</td>\n",
       "    </tr>\n",
       "    <tr>\n",
       "      <th>172</th>\n",
       "      <td>BMW</td>\n",
       "      <td>S 1000 XR</td>\n",
       "      <td>5.0</td>\n",
       "      <td>1.0</td>\n",
       "      <td>999.00</td>\n",
       "      <td>Petrol</td>\n",
       "      <td>2130000.0</td>\n",
       "      <td>NaN</td>\n",
       "      <td>164.50</td>\n",
       "      <td>226.0</td>\n",
       "    </tr>\n",
       "    <tr>\n",
       "      <th>167</th>\n",
       "      <td>BMW</td>\n",
       "      <td>R NineT Scrambler</td>\n",
       "      <td>5.0</td>\n",
       "      <td>1.0</td>\n",
       "      <td>1170.00</td>\n",
       "      <td>Petrol</td>\n",
       "      <td>1675000.0</td>\n",
       "      <td>NaN</td>\n",
       "      <td>108.77</td>\n",
       "      <td>223.0</td>\n",
       "    </tr>\n",
       "    <tr>\n",
       "      <th>9</th>\n",
       "      <td>Honda</td>\n",
       "      <td>CD 110 Dream</td>\n",
       "      <td>4.0</td>\n",
       "      <td>109.0</td>\n",
       "      <td>109.51</td>\n",
       "      <td>Petrol</td>\n",
       "      <td>64421.0</td>\n",
       "      <td>65421.0</td>\n",
       "      <td>8.79</td>\n",
       "      <td>112.0</td>\n",
       "    </tr>\n",
       "    <tr>\n",
       "      <th>109</th>\n",
       "      <td>Hero</td>\n",
       "      <td>Xtreme 200S</td>\n",
       "      <td>3.9</td>\n",
       "      <td>111.0</td>\n",
       "      <td>199.60</td>\n",
       "      <td>Petrol</td>\n",
       "      <td>120000.0</td>\n",
       "      <td>NaN</td>\n",
       "      <td>18.08</td>\n",
       "      <td>154.5</td>\n",
       "    </tr>\n",
       "    <tr>\n",
       "      <th>166</th>\n",
       "      <td>BMW</td>\n",
       "      <td>R nineT</td>\n",
       "      <td>5.0</td>\n",
       "      <td>1.0</td>\n",
       "      <td>1170.00</td>\n",
       "      <td>Petrol</td>\n",
       "      <td>1850000.0</td>\n",
       "      <td>NaN</td>\n",
       "      <td>108.77</td>\n",
       "      <td>221.0</td>\n",
       "    </tr>\n",
       "    <tr>\n",
       "      <th>13</th>\n",
       "      <td>Bajaj</td>\n",
       "      <td>CT100</td>\n",
       "      <td>3.9</td>\n",
       "      <td>952.0</td>\n",
       "      <td>102.00</td>\n",
       "      <td>Petrol</td>\n",
       "      <td>44890.0</td>\n",
       "      <td>47654.0</td>\n",
       "      <td>7.90</td>\n",
       "      <td>115.0</td>\n",
       "    </tr>\n",
       "    <tr>\n",
       "      <th>200</th>\n",
       "      <td>Ducati</td>\n",
       "      <td>Diavel 1260</td>\n",
       "      <td>4.0</td>\n",
       "      <td>5.0</td>\n",
       "      <td>1262.00</td>\n",
       "      <td>Petrol</td>\n",
       "      <td>1849000.0</td>\n",
       "      <td>2149000.0</td>\n",
       "      <td>164.20</td>\n",
       "      <td>249.0</td>\n",
       "    </tr>\n",
       "    <tr>\n",
       "      <th>128</th>\n",
       "      <td>Vespa</td>\n",
       "      <td>VXL 150</td>\n",
       "      <td>4.1</td>\n",
       "      <td>56.0</td>\n",
       "      <td>149.50</td>\n",
       "      <td>Petrol</td>\n",
       "      <td>125000.0</td>\n",
       "      <td>NaN</td>\n",
       "      <td>10.47</td>\n",
       "      <td>115.0</td>\n",
       "    </tr>\n",
       "    <tr>\n",
       "      <th>173</th>\n",
       "      <td>BMW</td>\n",
       "      <td>R 18</td>\n",
       "      <td>5.0</td>\n",
       "      <td>1.0</td>\n",
       "      <td>1802.00</td>\n",
       "      <td>Petrol</td>\n",
       "      <td>1990000.0</td>\n",
       "      <td>2400000.0</td>\n",
       "      <td>91.09</td>\n",
       "      <td>345.0</td>\n",
       "    </tr>\n",
       "    <tr>\n",
       "      <th>63</th>\n",
       "      <td>Okinawa</td>\n",
       "      <td>Dual</td>\n",
       "      <td>3.7</td>\n",
       "      <td>5.0</td>\n",
       "      <td>250.00</td>\n",
       "      <td>Electric</td>\n",
       "      <td>58992.0</td>\n",
       "      <td>NaN</td>\n",
       "      <td>NaN</td>\n",
       "      <td>NaN</td>\n",
       "    </tr>\n",
       "    <tr>\n",
       "      <th>117</th>\n",
       "      <td>Jawa</td>\n",
       "      <td>42</td>\n",
       "      <td>4.0</td>\n",
       "      <td>432.0</td>\n",
       "      <td>293.00</td>\n",
       "      <td>Petrol</td>\n",
       "      <td>168000.0</td>\n",
       "      <td>183000.0</td>\n",
       "      <td>NaN</td>\n",
       "      <td>172.0</td>\n",
       "    </tr>\n",
       "  </tbody>\n",
       "</table>\n",
       "</div>"
      ],
      "text/plain": [
       "               Brand                Model  Ratings  Rated By  CC or Watt  \\\n",
       "67             Royal   Enfield Bullet 350      4.0    3601.0      346.00   \n",
       "136  Harley-Davidson          Fat Boy 114      4.2      31.0     1745.00   \n",
       "204           Ducati       Scrambler 1100      4.4       2.0     1079.00   \n",
       "36              Hero          Destini 125      4.3     588.0      124.60   \n",
       "189         Kawasaki           Versys 650      4.3      19.0      649.00   \n",
       "100           Revolt                RV400      4.1     393.0     3000.00   \n",
       "191         Kawasaki               KX 250      5.0       1.0      249.00   \n",
       "61           Okinawa                  R30      3.5      15.0      250.00   \n",
       "24               TVS               Radeon      3.9     261.0      109.70   \n",
       "172              BMW            S 1000 XR      5.0       1.0      999.00   \n",
       "167              BMW    R NineT Scrambler      5.0       1.0     1170.00   \n",
       "9              Honda         CD 110 Dream      4.0     109.0      109.51   \n",
       "109             Hero          Xtreme 200S      3.9     111.0      199.60   \n",
       "166              BMW              R nineT      5.0       1.0     1170.00   \n",
       "13             Bajaj                CT100      3.9     952.0      102.00   \n",
       "200           Ducati          Diavel 1260      4.0       5.0     1262.00   \n",
       "128            Vespa              VXL 150      4.1      56.0      149.50   \n",
       "173              BMW                 R 18      5.0       1.0     1802.00   \n",
       "63           Okinawa                 Dual      3.7       5.0      250.00   \n",
       "117             Jawa                   42      4.0     432.0      293.00   \n",
       "\n",
       "    Fuel Type  Start Price  Top Model Price     bhp  Weight  \n",
       "67     Petrol     134000.0         155000.0   19.36   191.0  \n",
       "136    Petrol    2090000.0              NaN     NaN   322.0  \n",
       "204    Petrol    1099000.0        1374000.0   85.65   206.0  \n",
       "36     Petrol      67990.0          73390.0    9.10   113.0  \n",
       "189    Petrol     708000.0              NaN     NaN   218.0  \n",
       "100  Electric     103000.0         118000.0     NaN   108.0  \n",
       "191    Petrol     743000.0              NaN     NaN   104.7  \n",
       "61   Electric      58992.0              NaN     NaN     NaN  \n",
       "24     Petrol      61242.0          68567.0    8.19   116.0  \n",
       "172    Petrol    2130000.0              NaN  164.50   226.0  \n",
       "167    Petrol    1675000.0              NaN  108.77   223.0  \n",
       "9      Petrol      64421.0          65421.0    8.79   112.0  \n",
       "109    Petrol     120000.0              NaN   18.08   154.5  \n",
       "166    Petrol    1850000.0              NaN  108.77   221.0  \n",
       "13     Petrol      44890.0          47654.0    7.90   115.0  \n",
       "200    Petrol    1849000.0        2149000.0  164.20   249.0  \n",
       "128    Petrol     125000.0              NaN   10.47   115.0  \n",
       "173    Petrol    1990000.0        2400000.0   91.09   345.0  \n",
       "63   Electric      58992.0              NaN     NaN     NaN  \n",
       "117    Petrol     168000.0         183000.0     NaN   172.0  "
      ]
     },
     "execution_count": 572,
     "metadata": {},
     "output_type": "execute_result"
    }
   ],
   "source": [
    "bikes.sample(20)"
   ]
  },
  {
   "cell_type": "code",
   "execution_count": 573,
   "id": "7a5d2c2e",
   "metadata": {},
   "outputs": [
    {
     "data": {
      "text/plain": [
       "Index(['Brand', 'Model', 'Ratings', 'Rated By', 'CC or Watt', 'Fuel Type',\n",
       "       'Start Price', 'Top Model Price', 'bhp', 'Weight'],\n",
       "      dtype='object')"
      ]
     },
     "execution_count": 573,
     "metadata": {},
     "output_type": "execute_result"
    }
   ],
   "source": [
    "bikes.columns"
   ]
  },
  {
   "cell_type": "code",
   "execution_count": 574,
   "id": "2b7c0364",
   "metadata": {},
   "outputs": [
    {
     "data": {
      "text/plain": [
       "Brand                0\n",
       "Model                0\n",
       "Ratings             12\n",
       "Rated By            12\n",
       "CC or Watt           1\n",
       "Fuel Type            0\n",
       "Start Price          0\n",
       "Top Model Price    121\n",
       "bhp                 76\n",
       "Weight              48\n",
       "dtype: int64"
      ]
     },
     "execution_count": 574,
     "metadata": {},
     "output_type": "execute_result"
    }
   ],
   "source": [
    "bikes.isnull().sum()"
   ]
  },
  {
   "cell_type": "markdown",
   "id": "f7a89084",
   "metadata": {},
   "source": [
    "## `Univariate Data Analysis`"
   ]
  },
  {
   "cell_type": "markdown",
   "id": "14c49b26",
   "metadata": {},
   "source": [
    "> **Brand** (Categorical)\n",
    "> **Model** (Categorical)\n",
    "> **Fuel Type** (categorical)\n",
    "\n",
    "---\n",
    "\n",
    "> **CC or Watt** (Numerical)\n",
    "> **Start Price** (Numerical) \n",
    "> **Top Model Price** (Numerical)\n",
    "> **bhp** (Numerical) \n",
    "> **Weight** (Numerical)\n",
    "> **Ratings** (Numerical)\n",
    "> **Rated By** (Numerical)"
   ]
  },
  {
   "cell_type": "markdown",
   "id": "78944091",
   "metadata": {},
   "source": [
    "## Categorical Columns"
   ]
  },
  {
   "cell_type": "markdown",
   "id": "5c6baef5",
   "metadata": {},
   "source": [
    "### - Brand"
   ]
  },
  {
   "cell_type": "code",
   "execution_count": 575,
   "id": "0c6ca2a7",
   "metadata": {},
   "outputs": [
    {
     "data": {
      "text/plain": [
       "<AxesSubplot:title={'center':'Top 10 Bikes Brand that are in high Demand'}, xlabel='Brand'>"
      ]
     },
     "execution_count": 575,
     "metadata": {},
     "output_type": "execute_result"
    },
    {
     "data": {
      "image/png": "[encoded data removed]",
      "text/plain": [
       "<Figure size 720x576 with 1 Axes>"
      ]
     },
     "metadata": {
      "needs_background": "light"
     },
     "output_type": "display_data"
    }
   ],
   "source": [
    "plt.figure(figsize=(10,8))\n",
    "plt.title('Top 10 Bikes Brand that are in high Demand',fontsize=20)\n",
    "plt.xlabel('Brand',fontsize=20)\n",
    "bikes['Brand'].value_counts()[:10].plot.bar()"
   ]
  },
  {
   "cell_type": "markdown",
   "id": "8484f679",
   "metadata": {},
   "source": [
    "### <span style='background :yellow' > These are the top 10 bikes according to denand</span>"
   ]
  },
  {
   "cell_type": "markdown",
   "id": "8700d39f",
   "metadata": {},
   "source": [
    "### - Fuel Type"
   ]
  },
  {
   "cell_type": "code",
   "execution_count": 576,
   "id": "0068b537",
   "metadata": {},
   "outputs": [
    {
     "data": {
      "text/plain": [
       "<AxesSubplot:title={'center':'Proportion of Fuel Type'}, ylabel='Fuel Type'>"
      ]
     },
     "execution_count": 576,
     "metadata": {},
     "output_type": "execute_result"
    },
    {
     "data": {
      "image/png": "[encoded data removed]",
      "text/plain": [
       "<Figure size 720x576 with 1 Axes>"
      ]
     },
     "metadata": {},
     "output_type": "display_data"
    }
   ],
   "source": [
    "plt.figure(figsize=(10,8))\n",
    "plt.title('Proportion of Fuel Type',fontsize=20)\n",
    "bikes['Fuel Type'].value_counts().plot.pie()"
   ]
  },
  {
   "cell_type": "markdown",
   "id": "98377e16",
   "metadata": {},
   "source": [
    "### <span style='background :yellow' > Majority of the bikes are Petrol"
   ]
  },
  {
   "cell_type": "markdown",
   "id": "072fdff1",
   "metadata": {},
   "source": [
    "## Numerical Columns"
   ]
  },
  {
   "cell_type": "markdown",
   "id": "75826606",
   "metadata": {},
   "source": [
    "### - CC or Watt\n",
    "\n",
    "### <span style='background :yellow' > If bike's fuel type is petrol then its CC, and if fuel type is Electric its is Watt</span>"
   ]
  },
  {
   "cell_type": "code",
   "execution_count": 577,
   "id": "bc93c771",
   "metadata": {},
   "outputs": [
    {
     "data": {
      "text/plain": [
       "<AxesSubplot:title={'center':'Data Distributions of CC or Watt'}, xlabel='CC or Watt'>"
      ]
     },
     "execution_count": 577,
     "metadata": {},
     "output_type": "execute_result"
    },
    {
     "data": {
      "image/png": "[encoded data removed]",
      "text/plain": [
       "<Figure size 720x576 with 1 Axes>"
      ]
     },
     "metadata": {
      "needs_background": "light"
     },
     "output_type": "display_data"
    }
   ],
   "source": [
    "plt.figure(figsize=(10,8))\n",
    "plt.title('Data Distributions of CC or Watt',fontsize=20)\n",
    "plt.xlabel('CC or Watt',fontsize=20)\n",
    "sns.violinplot(x='CC or Watt',data=bikes)"
   ]
  },
  {
   "cell_type": "code",
   "execution_count": 578,
   "id": "c69415e8",
   "metadata": {},
   "outputs": [
    {
     "data": {
      "text/plain": [
       "count     212.000000\n",
       "mean      617.533962\n",
       "std       668.267561\n",
       "min         4.400000\n",
       "25%       149.375000\n",
       "50%       271.200000\n",
       "75%       965.750000\n",
       "max      4080.000000\n",
       "Name: CC or Watt, dtype: float64"
      ]
     },
     "execution_count": 578,
     "metadata": {},
     "output_type": "execute_result"
    }
   ],
   "source": [
    "bikes['CC or Watt'].describe()"
   ]
  },
  {
   "cell_type": "markdown",
   "id": "11c8a023",
   "metadata": {},
   "source": [
    "### <span style='background :yellow' > 50 % of the bikes are below 300 CC</span>"
   ]
  },
  {
   "cell_type": "markdown",
   "id": "7d1a43be",
   "metadata": {},
   "source": [
    "## - Bhp\n",
    "\n",
    "**Brake horsepower** (bhp) has been used as the definitive measurement of engine power. It's distinct from horsepower because it takes into account power loss due to friction – it's measured by running an engine up to full revs, then letting it naturally slow down to a dead stop"
   ]
  },
  {
   "cell_type": "markdown",
   "id": "de314a96",
   "metadata": {},
   "source": [
    "## Box and whiskerplot to show indepth distribution of bhp"
   ]
  },
  {
   "cell_type": "code",
   "execution_count": 579,
   "id": "b41c3d61",
   "metadata": {},
   "outputs": [
    {
     "data": {
      "application/vnd.plotly.v1+json": {
       "config": {
        "plotlyServerURL": "https://plot.ly"
       },
       "data": [
        {
         "alignmentgroup": "True",
         "hovertemplate": "variable=%{x}<br>value=%{y}<extra></extra>",
         "legendgroup": "",
         "marker": {
          "color": "#636efa"
         },
         "name": "",
         "notched": false,
         "offsetgroup": "",
         "orientation": "v",
         "showlegend": false,
         "type": "box",
         "x": [
          "bhp",
          "bhp",
          "bhp",
          "bhp",
          "bhp",
          "bhp",
          "bhp",
          "bhp",
          "bhp",
          "bhp",
          "bhp",
          "bhp",
          "bhp",
          "bhp",
          "bhp",
          "bhp",
          "bhp",
          "bhp",
          "bhp",
          "bhp",
          "bhp",
          "bhp",
          "bhp",
          "bhp",
          "bhp",
          "bhp",
          "bhp",
          "bhp",
          "bhp",
          "bhp",
          "bhp",
          "bhp",
          "bhp",
          "bhp",
          "bhp",
          "bhp",
          "bhp",
          "bhp",
          "bhp",
          "bhp",
          "bhp",
          "bhp",
          "bhp",
          "bhp",
          "bhp",
          "bhp",
          "bhp",
          "bhp",
          "bhp",
          "bhp",
          "bhp",
          "bhp",
          "bhp",
          "bhp",
          "bhp",
          "bhp",
          "bhp",
          "bhp",
          "bhp",
          "bhp",
          "bhp",
          "bhp",
          "bhp",
          "bhp",
          "bhp",
          "bhp",
          "bhp",
          "bhp",
          "bhp",
          "bhp",
          "bhp",
          "bhp",
          "bhp",
          "bhp",
          "bhp",
          "bhp",
          "bhp",
          "bhp",
          "bhp",
          "bhp",
          "bhp",
          "bhp",
          "bhp",
          "bhp",
          "bhp",
          "bhp",
          "bhp",
          "bhp",
          "bhp",
          "bhp",
          "bhp",
          "bhp",
          "bhp",
          "bhp",
          "bhp",
          "bhp",
          "bhp",
          "bhp",
          "bhp",
          "bhp",
          "bhp",
          "bhp",
          "bhp",
          "bhp",
          "bhp",
          "bhp",
          "bhp",
          "bhp",
          "bhp",
          "bhp",
          "bhp",
          "bhp",
          "bhp",
          "bhp",
          "bhp",
          "bhp",
          "bhp",
          "bhp",
          "bhp",
          "bhp",
          "bhp",
          "bhp",
          "bhp",
          "bhp",
          "bhp",
          "bhp",
          "bhp",
          "bhp",
          "bhp",
          "bhp",
          "bhp",
          "bhp",
          "bhp",
          "bhp",
          "bhp",
          "bhp",
          "bhp",
          "bhp",
          "bhp",
          "bhp",
          "bhp",
          "bhp",
          "bhp",
          "bhp",
          "bhp",
          "bhp",
          "bhp",
          "bhp",
          "bhp",
          "bhp",
          "bhp",
          "bhp",
          "bhp",
          "bhp",
          "bhp",
          "bhp",
          "bhp",
          "bhp",
          "bhp",
          "bhp",
          "bhp",
          "bhp",
          "bhp",
          "bhp",
          "bhp",
          "bhp",
          "bhp",
          "bhp",
          "bhp",
          "bhp",
          "bhp",
          "bhp",
          "bhp",
          "bhp",
          "bhp",
          "bhp",
          "bhp",
          "bhp",
          "bhp",
          "bhp",
          "bhp",
          "bhp",
          "bhp",
          "bhp",
          "bhp",
          "bhp",
          "bhp",
          "bhp",
          "bhp",
          "bhp",
          "bhp",
          "bhp",
          "bhp",
          "bhp",
          "bhp",
          "bhp",
          "bhp",
          "bhp",
          "bhp",
          "bhp",
          "bhp",
          "bhp",
          "bhp",
          "bhp",
          "bhp",
          "bhp",
          "bhp",
          "bhp",
          "bhp",
          "bhp",
          "bhp",
          "bhp",
          "bhp"
         ],
         "x0": " ",
         "xaxis": "x",
         "y": [
          null,
          null,
          7.79,
          10.74,
          7.76,
          10.8,
          12.91,
          8.29,
          8.79,
          8.79,
          8.25,
          null,
          11.8,
          7.9,
          7.9,
          11.99,
          8.6,
          8.6,
          8.6,
          null,
          7.47,
          9.38,
          4.4,
          8.29,
          8.19,
          5.4,
          8.19,
          7.81,
          8.02,
          8.02,
          9.15,
          10.8,
          10.87,
          8.1,
          9.12,
          9.15,
          9.1,
          8.15,
          8.2,
          8.2,
          8.7,
          8.7,
          null,
          null,
          null,
          null,
          null,
          null,
          null,
          null,
          9.92,
          9.92,
          9.92,
          9.92,
          9.92,
          null,
          null,
          null,
          null,
          null,
          null,
          null,
          null,
          null,
          null,
          null,
          19.36,
          19.36,
          24.31,
          20.4,
          47.65,
          47.65,
          17.26,
          21.07,
          13.8,
          126.4,
          87.01,
          21.07,
          87.01,
          47.5,
          99.2,
          20.4,
          24.5,
          24.5,
          17.02,
          17.2,
          null,
          null,
          19.03,
          null,
          null,
          25.83,
          null,
          43.5,
          14.5,
          14.5,
          43.5,
          null,
          43.5,
          null,
          null,
          15.53,
          17.63,
          20.82,
          25.8,
          16.79,
          null,
          15.22,
          18.04,
          18.08,
          18.1,
          18.6,
          18.5,
          12.4,
          12.4,
          20.8,
          20.8,
          null,
          null,
          27.33,
          190,
          13.6,
          13.6,
          13.6,
          26.5,
          26.5,
          null,
          33.99,
          10.47,
          9.92,
          9.92,
          9.92,
          10.47,
          10.47,
          null,
          null,
          null,
          null,
          null,
          null,
          null,
          null,
          null,
          null,
          null,
          null,
          null,
          167,
          null,
          null,
          123,
          95.2,
          null,
          null,
          null,
          null,
          null,
          null,
          null,
          180,
          null,
          206.6,
          null,
          136,
          212.1,
          136,
          108.77,
          108.77,
          104.6,
          104.6,
          135.9,
          135.96,
          164.5,
          91.09,
          165,
          10.9,
          11.01,
          9.52,
          25.72,
          310,
          null,
          203,
          125,
          142,
          null,
          null,
          null,
          200,
          7.3,
          null,
          null,
          null,
          null,
          null,
          null,
          120,
          null,
          216.9,
          73.4,
          208,
          164.2,
          155,
          114.5,
          72.8,
          85.65,
          null,
          47.5,
          47.5,
          null,
          null,
          null,
          null,
          null
         ],
         "y0": " ",
         "yaxis": "y"
        }
       ],
       "layout": {
        "boxmode": "group",
        "legend": {
         "tracegroupgap": 0
        },
        "margin": {
         "t": 60
        },
        "template": {
         "data": {
          "bar": [
           {
            "error_x": {
             "color": "#2a3f5f"
            },
            "error_y": {
             "color": "#2a3f5f"
            },
            "marker": {
             "line": {
              "color": "#E5ECF6",
              "width": 0.5
             }
            },
            "type": "bar"
           }
          ],
          "barpolar": [
           {
            "marker": {
             "line": {
              "color": "#E5ECF6",
              "width": 0.5
             }
            },
            "type": "barpolar"
           }
          ],
          "carpet": [
           {
            "aaxis": {
             "endlinecolor": "#2a3f5f",
             "gridcolor": "white",
             "linecolor": "white",
             "minorgridcolor": "white",
             "startlinecolor": "#2a3f5f"
            },
            "baxis": {
             "endlinecolor": "#2a3f5f",
             "gridcolor": "white",
             "linecolor": "white",
             "minorgridcolor": "white",
             "startlinecolor": "#2a3f5f"
            },
            "type": "carpet"
           }
          ],
          "choropleth": [
           {
            "colorbar": {
             "outlinewidth": 0,
             "ticks": ""
            },
            "type": "choropleth"
           }
          ],
          "contour": [
           {
            "colorbar": {
             "outlinewidth": 0,
             "ticks": ""
            },
            "colorscale": [
             [
              0,
              "#0d0887"
             ],
             [
              0.1111111111111111,
              "#46039f"
             ],
             [
              0.2222222222222222,
              "#7201a8"
             ],
             [
              0.3333333333333333,
              "#9c179e"
             ],
             [
              0.4444444444444444,
              "#bd3786"
             ],
             [
              0.5555555555555556,
              "#d8576b"
             ],
             [
              0.6666666666666666,
              "#ed7953"
             ],
             [
              0.7777777777777778,
              "#fb9f3a"
             ],
             [
              0.8888888888888888,
              "#fdca26"
             ],
             [
              1,
              "#f0f921"
             ]
            ],
            "type": "contour"
           }
          ],
          "contourcarpet": [
           {
            "colorbar": {
             "outlinewidth": 0,
             "ticks": ""
            },
            "type": "contourcarpet"
           }
          ],
          "heatmap": [
           {
            "colorbar": {
             "outlinewidth": 0,
             "ticks": ""
            },
            "colorscale": [
             [
              0,
              "#0d0887"
             ],
             [
              0.1111111111111111,
              "#46039f"
             ],
             [
              0.2222222222222222,
              "#7201a8"
             ],
             [
              0.3333333333333333,
              "#9c179e"
             ],
             [
              0.4444444444444444,
              "#bd3786"
             ],
             [
              0.5555555555555556,
              "#d8576b"
             ],
             [
              0.6666666666666666,
              "#ed7953"
             ],
             [
              0.7777777777777778,
              "#fb9f3a"
             ],
             [
              0.8888888888888888,
              "#fdca26"
             ],
             [
              1,
              "#f0f921"
             ]
            ],
            "type": "heatmap"
           }
          ],
          "heatmapgl": [
           {
            "colorbar": {
             "outlinewidth": 0,
             "ticks": ""
            },
            "colorscale": [
             [
              0,
              "#0d0887"
             ],
             [
              0.1111111111111111,
              "#46039f"
             ],
             [
              0.2222222222222222,
              "#7201a8"
             ],
             [
              0.3333333333333333,
              "#9c179e"
             ],
             [
              0.4444444444444444,
              "#bd3786"
             ],
             [
              0.5555555555555556,
              "#d8576b"
             ],
             [
              0.6666666666666666,
              "#ed7953"
             ],
             [
              0.7777777777777778,
              "#fb9f3a"
             ],
             [
              0.8888888888888888,
              "#fdca26"
             ],
             [
              1,
              "#f0f921"
             ]
            ],
            "type": "heatmapgl"
           }
          ],
          "histogram": [
           {
            "marker": {
             "colorbar": {
              "outlinewidth": 0,
              "ticks": ""
             }
            },
            "type": "histogram"
           }
          ],
          "histogram2d": [
           {
            "colorbar": {
             "outlinewidth": 0,
             "ticks": ""
            },
            "colorscale": [
             [
              0,
              "#0d0887"
             ],
             [
              0.1111111111111111,
              "#46039f"
             ],
             [
              0.2222222222222222,
              "#7201a8"
             ],
             [
              0.3333333333333333,
              "#9c179e"
             ],
             [
              0.4444444444444444,
              "#bd3786"
             ],
             [
              0.5555555555555556,
              "#d8576b"
             ],
             [
              0.6666666666666666,
              "#ed7953"
             ],
             [
              0.7777777777777778,
              "#fb9f3a"
             ],
             [
              0.8888888888888888,
              "#fdca26"
             ],
             [
              1,
              "#f0f921"
             ]
            ],
            "type": "histogram2d"
           }
          ],
          "histogram2dcontour": [
           {
            "colorbar": {
             "outlinewidth": 0,
             "ticks": ""
            },
            "colorscale": [
             [
              0,
              "#0d0887"
             ],
             [
              0.1111111111111111,
              "#46039f"
             ],
             [
              0.2222222222222222,
              "#7201a8"
             ],
             [
              0.3333333333333333,
              "#9c179e"
             ],
             [
              0.4444444444444444,
              "#bd3786"
             ],
             [
              0.5555555555555556,
              "#d8576b"
             ],
             [
              0.6666666666666666,
              "#ed7953"
             ],
             [
              0.7777777777777778,
              "#fb9f3a"
             ],
             [
              0.8888888888888888,
              "#fdca26"
             ],
             [
              1,
              "#f0f921"
             ]
            ],
            "type": "histogram2dcontour"
           }
          ],
          "mesh3d": [
           {
            "colorbar": {
             "outlinewidth": 0,
             "ticks": ""
            },
            "type": "mesh3d"
           }
          ],
          "parcoords": [
           {
            "line": {
             "colorbar": {
              "outlinewidth": 0,
              "ticks": ""
             }
            },
            "type": "parcoords"
           }
          ],
          "pie": [
           {
            "automargin": true,
            "type": "pie"
           }
          ],
          "scatter": [
           {
            "marker": {
             "colorbar": {
              "outlinewidth": 0,
              "ticks": ""
             }
            },
            "type": "scatter"
           }
          ],
          "scatter3d": [
           {
            "line": {
             "colorbar": {
              "outlinewidth": 0,
              "ticks": ""
             }
            },
            "marker": {
             "colorbar": {
              "outlinewidth": 0,
              "ticks": ""
             }
            },
            "type": "scatter3d"
           }
          ],
          "scattercarpet": [
           {
            "marker": {
             "colorbar": {
              "outlinewidth": 0,
              "ticks": ""
             }
            },
            "type": "scattercarpet"
           }
          ],
          "scattergeo": [
           {
            "marker": {
             "colorbar": {
              "outlinewidth": 0,
              "ticks": ""
             }
            },
            "type": "scattergeo"
           }
          ],
          "scattergl": [
           {
            "marker": {
             "colorbar": {
              "outlinewidth": 0,
              "ticks": ""
             }
            },
            "type": "scattergl"
           }
          ],
          "scattermapbox": [
           {
            "marker": {
             "colorbar": {
              "outlinewidth": 0,
              "ticks": ""
             }
            },
            "type": "scattermapbox"
           }
          ],
          "scatterpolar": [
           {
            "marker": {
             "colorbar": {
              "outlinewidth": 0,
              "ticks": ""
             }
            },
            "type": "scatterpolar"
           }
          ],
          "scatterpolargl": [
           {
            "marker": {
             "colorbar": {
              "outlinewidth": 0,
              "ticks": ""
             }
            },
            "type": "scatterpolargl"
           }
          ],
          "scatterternary": [
           {
            "marker": {
             "colorbar": {
              "outlinewidth": 0,
              "ticks": ""
             }
            },
            "type": "scatterternary"
           }
          ],
          "surface": [
           {
            "colorbar": {
             "outlinewidth": 0,
             "ticks": ""
            },
            "colorscale": [
             [
              0,
              "#0d0887"
             ],
             [
              0.1111111111111111,
              "#46039f"
             ],
             [
              0.2222222222222222,
              "#7201a8"
             ],
             [
              0.3333333333333333,
              "#9c179e"
             ],
             [
              0.4444444444444444,
              "#bd3786"
             ],
             [
              0.5555555555555556,
              "#d8576b"
             ],
             [
              0.6666666666666666,
              "#ed7953"
             ],
             [
              0.7777777777777778,
              "#fb9f3a"
             ],
             [
              0.8888888888888888,
              "#fdca26"
             ],
             [
              1,
              "#f0f921"
             ]
            ],
            "type": "surface"
           }
          ],
          "table": [
           {
            "cells": {
             "fill": {
              "color": "#EBF0F8"
             },
             "line": {
              "color": "white"
             }
            },
            "header": {
             "fill": {
              "color": "#C8D4E3"
             },
             "line": {
              "color": "white"
             }
            },
            "type": "table"
           }
          ]
         },
         "layout": {
          "annotationdefaults": {
           "arrowcolor": "#2a3f5f",
           "arrowhead": 0,
           "arrowwidth": 1
          },
          "autotypenumbers": "strict",
          "coloraxis": {
           "colorbar": {
            "outlinewidth": 0,
            "ticks": ""
           }
          },
          "colorscale": {
           "diverging": [
            [
             0,
             "#8e0152"
            ],
            [
             0.1,
             "#c51b7d"
            ],
            [
             0.2,
             "#de77ae"
            ],
            [
             0.3,
             "#f1b6da"
            ],
            [
             0.4,
             "#fde0ef"
            ],
            [
             0.5,
             "#f7f7f7"
            ],
            [
             0.6,
             "#e6f5d0"
            ],
            [
             0.7,
             "#b8e186"
            ],
            [
             0.8,
             "#7fbc41"
            ],
            [
             0.9,
             "#4d9221"
            ],
            [
             1,
             "#276419"
            ]
           ],
           "sequential": [
            [
             0,
             "#0d0887"
            ],
            [
             0.1111111111111111,
             "#46039f"
            ],
            [
             0.2222222222222222,
             "#7201a8"
            ],
            [
             0.3333333333333333,
             "#9c179e"
            ],
            [
             0.4444444444444444,
             "#bd3786"
            ],
            [
             0.5555555555555556,
             "#d8576b"
            ],
            [
             0.6666666666666666,
             "#ed7953"
            ],
            [
             0.7777777777777778,
             "#fb9f3a"
            ],
            [
             0.8888888888888888,
             "#fdca26"
            ],
            [
             1,
             "#f0f921"
            ]
           ],
           "sequentialminus": [
            [
             0,
             "#0d0887"
            ],
            [
             0.1111111111111111,
             "#46039f"
            ],
            [
             0.2222222222222222,
             "#7201a8"
            ],
            [
             0.3333333333333333,
             "#9c179e"
            ],
            [
             0.4444444444444444,
             "#bd3786"
            ],
            [
             0.5555555555555556,
             "#d8576b"
            ],
            [
             0.6666666666666666,
             "#ed7953"
            ],
            [
             0.7777777777777778,
             "#fb9f3a"
            ],
            [
             0.8888888888888888,
             "#fdca26"
            ],
            [
             1,
             "#f0f921"
            ]
           ]
          },
          "colorway": [
           "#636efa",
           "#EF553B",
           "#00cc96",
           "#ab63fa",
           "#FFA15A",
           "#19d3f3",
           "#FF6692",
           "#B6E880",
           "#FF97FF",
           "#FECB52"
          ],
          "font": {
           "color": "#2a3f5f"
          },
          "geo": {
           "bgcolor": "white",
           "lakecolor": "white",
           "landcolor": "#E5ECF6",
           "showlakes": true,
           "showland": true,
           "subunitcolor": "white"
          },
          "hoverlabel": {
           "align": "left"
          },
          "hovermode": "closest",
          "mapbox": {
           "style": "light"
          },
          "paper_bgcolor": "white",
          "plot_bgcolor": "#E5ECF6",
          "polar": {
           "angularaxis": {
            "gridcolor": "white",
            "linecolor": "white",
            "ticks": ""
           },
           "bgcolor": "#E5ECF6",
           "radialaxis": {
            "gridcolor": "white",
            "linecolor": "white",
            "ticks": ""
           }
          },
          "scene": {
           "xaxis": {
            "backgroundcolor": "#E5ECF6",
            "gridcolor": "white",
            "gridwidth": 2,
            "linecolor": "white",
            "showbackground": true,
            "ticks": "",
            "zerolinecolor": "white"
           },
           "yaxis": {
            "backgroundcolor": "#E5ECF6",
            "gridcolor": "white",
            "gridwidth": 2,
            "linecolor": "white",
            "showbackground": true,
            "ticks": "",
            "zerolinecolor": "white"
           },
           "zaxis": {
            "backgroundcolor": "#E5ECF6",
            "gridcolor": "white",
            "gridwidth": 2,
            "linecolor": "white",
            "showbackground": true,
            "ticks": "",
            "zerolinecolor": "white"
           }
          },
          "shapedefaults": {
           "line": {
            "color": "#2a3f5f"
           }
          },
          "ternary": {
           "aaxis": {
            "gridcolor": "white",
            "linecolor": "white",
            "ticks": ""
           },
           "baxis": {
            "gridcolor": "white",
            "linecolor": "white",
            "ticks": ""
           },
           "bgcolor": "#E5ECF6",
           "caxis": {
            "gridcolor": "white",
            "linecolor": "white",
            "ticks": ""
           }
          },
          "title": {
           "x": 0.05
          },
          "xaxis": {
           "automargin": true,
           "gridcolor": "white",
           "linecolor": "white",
           "ticks": "",
           "title": {
            "standoff": 15
           },
           "zerolinecolor": "white",
           "zerolinewidth": 2
          },
          "yaxis": {
           "automargin": true,
           "gridcolor": "white",
           "linecolor": "white",
           "ticks": "",
           "title": {
            "standoff": 15
           },
           "zerolinecolor": "white",
           "zerolinewidth": 2
          }
         }
        },
        "xaxis": {
         "anchor": "y",
         "domain": [
          0,
          1
         ],
         "title": {
          "text": "variable"
         }
        },
        "yaxis": {
         "anchor": "x",
         "domain": [
          0,
          1
         ],
         "title": {
          "text": "value"
         }
        }
       }
      },
      "text/html": [
       "<div>                            <div id=\"f2415ea7-dd3e-4a1a-8e8c-e7642fd7941a\" class=\"plotly-graph-div\" style=\"height:525px; width:100%;\"></div>            <script type=\"text/javascript\">                require([\"plotly\"], function(Plotly) {                    window.PLOTLYENV=window.PLOTLYENV || {};                                    if (document.getElementById(\"f2415ea7-dd3e-4a1a-8e8c-e7642fd7941a\")) {                    Plotly.newPlot(                        \"f2415ea7-dd3e-4a1a-8e8c-e7642fd7941a\",                        [{\"alignmentgroup\": \"True\", \"hovertemplate\": \"variable=%{x}<br>value=%{y}<extra></extra>\", \"legendgroup\": \"\", \"marker\": {\"color\": \"#636efa\"}, \"name\": \"\", \"notched\": false, \"offsetgroup\": \"\", \"orientation\": \"v\", \"showlegend\": false, \"type\": \"box\", \"x\": [\"bhp\", \"bhp\", \"bhp\", \"bhp\", \"bhp\", \"bhp\", \"bhp\", \"bhp\", \"bhp\", \"bhp\", \"bhp\", \"bhp\", \"bhp\", \"bhp\", \"bhp\", \"bhp\", \"bhp\", \"bhp\", \"bhp\", \"bhp\", \"bhp\", \"bhp\", \"bhp\", \"bhp\", \"bhp\", \"bhp\", \"bhp\", \"bhp\", \"bhp\", \"bhp\", \"bhp\", \"bhp\", \"bhp\", \"bhp\", \"bhp\", \"bhp\", \"bhp\", \"bhp\", \"bhp\", \"bhp\", \"bhp\", \"bhp\", \"bhp\", \"bhp\", \"bhp\", \"bhp\", \"bhp\", \"bhp\", \"bhp\", \"bhp\", \"bhp\", \"bhp\", \"bhp\", \"bhp\", \"bhp\", \"bhp\", \"bhp\", \"bhp\", \"bhp\", \"bhp\", \"bhp\", \"bhp\", \"bhp\", \"bhp\", \"bhp\", \"bhp\", \"bhp\", \"bhp\", \"bhp\", \"bhp\", \"bhp\", \"bhp\", \"bhp\", \"bhp\", \"bhp\", \"bhp\", \"bhp\", \"bhp\", \"bhp\", \"bhp\", \"bhp\", \"bhp\", \"bhp\", \"bhp\", \"bhp\", \"bhp\", \"bhp\", \"bhp\", \"bhp\", \"bhp\", \"bhp\", \"bhp\", \"bhp\", \"bhp\", \"bhp\", \"bhp\", \"bhp\", \"bhp\", \"bhp\", \"bhp\", \"bhp\", \"bhp\", \"bhp\", \"bhp\", \"bhp\", \"bhp\", \"bhp\", \"bhp\", \"bhp\", \"bhp\", \"bhp\", \"bhp\", \"bhp\", \"bhp\", \"bhp\", \"bhp\", \"bhp\", \"bhp\", \"bhp\", \"bhp\", \"bhp\", \"bhp\", \"bhp\", \"bhp\", \"bhp\", \"bhp\", \"bhp\", \"bhp\", \"bhp\", \"bhp\", \"bhp\", \"bhp\", \"bhp\", \"bhp\", \"bhp\", \"bhp\", \"bhp\", \"bhp\", \"bhp\", \"bhp\", \"bhp\", \"bhp\", \"bhp\", \"bhp\", \"bhp\", \"bhp\", \"bhp\", \"bhp\", \"bhp\", \"bhp\", \"bhp\", \"bhp\", \"bhp\", \"bhp\", \"bhp\", \"bhp\", \"bhp\", \"bhp\", \"bhp\", \"bhp\", \"bhp\", \"bhp\", \"bhp\", \"bhp\", \"bhp\", \"bhp\", \"bhp\", \"bhp\", \"bhp\", \"bhp\", \"bhp\", \"bhp\", \"bhp\", \"bhp\", \"bhp\", \"bhp\", \"bhp\", \"bhp\", \"bhp\", \"bhp\", \"bhp\", \"bhp\", \"bhp\", \"bhp\", \"bhp\", \"bhp\", \"bhp\", \"bhp\", \"bhp\", \"bhp\", \"bhp\", \"bhp\", \"bhp\", \"bhp\", \"bhp\", \"bhp\", \"bhp\", \"bhp\", \"bhp\", \"bhp\", \"bhp\", \"bhp\", \"bhp\", \"bhp\", \"bhp\", \"bhp\", \"bhp\", \"bhp\", \"bhp\", \"bhp\", \"bhp\", \"bhp\", \"bhp\"], \"x0\": \" \", \"xaxis\": \"x\", \"y\": [null, null, 7.79, 10.74, 7.76, 10.8, 12.91, 8.29, 8.79, 8.79, 8.25, null, 11.8, 7.9, 7.9, 11.99, 8.6, 8.6, 8.6, null, 7.47, 9.38, 4.4, 8.29, 8.19, 5.4, 8.19, 7.81, 8.02, 8.02, 9.15, 10.8, 10.87, 8.1, 9.12, 9.15, 9.1, 8.15, 8.2, 8.2, 8.7, 8.7, null, null, null, null, null, null, null, null, 9.92, 9.92, 9.92, 9.92, 9.92, null, null, null, null, null, null, null, null, null, null, null, 19.36, 19.36, 24.31, 20.4, 47.65, 47.65, 17.26, 21.07, 13.8, 126.4, 87.01, 21.07, 87.01, 47.5, 99.2, 20.4, 24.5, 24.5, 17.02, 17.2, null, null, 19.03, null, null, 25.83, null, 43.5, 14.5, 14.5, 43.5, null, 43.5, null, null, 15.53, 17.63, 20.82, 25.8, 16.79, null, 15.22, 18.04, 18.08, 18.1, 18.6, 18.5, 12.4, 12.4, 20.8, 20.8, null, null, 27.33, 190.0, 13.6, 13.6, 13.6, 26.5, 26.5, null, 33.99, 10.47, 9.92, 9.92, 9.92, 10.47, 10.47, null, null, null, null, null, null, null, null, null, null, null, null, null, 167.0, null, null, 123.0, 95.2, null, null, null, null, null, null, null, 180.0, null, 206.6, null, 136.0, 212.1, 136.0, 108.77, 108.77, 104.6, 104.6, 135.9, 135.96, 164.5, 91.09, 165.0, 10.9, 11.01, 9.52, 25.72, 310.0, null, 203.0, 125.0, 142.0, null, null, null, 200.0, 7.3, null, null, null, null, null, null, 120.0, null, 216.9, 73.4, 208.0, 164.2, 155.0, 114.5, 72.8, 85.65, null, 47.5, 47.5, null, null, null, null, null], \"y0\": \" \", \"yaxis\": \"y\"}],                        {\"boxmode\": \"group\", \"legend\": {\"tracegroupgap\": 0}, \"margin\": {\"t\": 60}, \"template\": {\"data\": {\"bar\": [{\"error_x\": {\"color\": \"#2a3f5f\"}, \"error_y\": {\"color\": \"#2a3f5f\"}, \"marker\": {\"line\": {\"color\": \"#E5ECF6\", \"width\": 0.5}}, \"type\": \"bar\"}], \"barpolar\": [{\"marker\": {\"line\": {\"color\": \"#E5ECF6\", \"width\": 0.5}}, \"type\": \"barpolar\"}], \"carpet\": [{\"aaxis\": {\"endlinecolor\": \"#2a3f5f\", \"gridcolor\": \"white\", \"linecolor\": \"white\", \"minorgridcolor\": \"white\", \"startlinecolor\": \"#2a3f5f\"}, \"baxis\": {\"endlinecolor\": \"#2a3f5f\", \"gridcolor\": \"white\", \"linecolor\": \"white\", \"minorgridcolor\": \"white\", \"startlinecolor\": \"#2a3f5f\"}, \"type\": \"carpet\"}], \"choropleth\": [{\"colorbar\": {\"outlinewidth\": 0, \"ticks\": \"\"}, \"type\": \"choropleth\"}], \"contour\": [{\"colorbar\": {\"outlinewidth\": 0, \"ticks\": \"\"}, \"colorscale\": [[0.0, \"#0d0887\"], [0.1111111111111111, \"#46039f\"], [0.2222222222222222, \"#7201a8\"], [0.3333333333333333, \"#9c179e\"], [0.4444444444444444, \"#bd3786\"], [0.5555555555555556, \"#d8576b\"], [0.6666666666666666, \"#ed7953\"], [0.7777777777777778, \"#fb9f3a\"], [0.8888888888888888, \"#fdca26\"], [1.0, \"#f0f921\"]], \"type\": \"contour\"}], \"contourcarpet\": [{\"colorbar\": {\"outlinewidth\": 0, \"ticks\": \"\"}, \"type\": \"contourcarpet\"}], \"heatmap\": [{\"colorbar\": {\"outlinewidth\": 0, \"ticks\": \"\"}, \"colorscale\": [[0.0, \"#0d0887\"], [0.1111111111111111, \"#46039f\"], [0.2222222222222222, \"#7201a8\"], [0.3333333333333333, \"#9c179e\"], [0.4444444444444444, \"#bd3786\"], [0.5555555555555556, \"#d8576b\"], [0.6666666666666666, \"#ed7953\"], [0.7777777777777778, \"#fb9f3a\"], [0.8888888888888888, \"#fdca26\"], [1.0, \"#f0f921\"]], \"type\": \"heatmap\"}], \"heatmapgl\": [{\"colorbar\": {\"outlinewidth\": 0, \"ticks\": \"\"}, \"colorscale\": [[0.0, \"#0d0887\"], [0.1111111111111111, \"#46039f\"], [0.2222222222222222, \"#7201a8\"], [0.3333333333333333, \"#9c179e\"], [0.4444444444444444, \"#bd3786\"], [0.5555555555555556, \"#d8576b\"], [0.6666666666666666, \"#ed7953\"], [0.7777777777777778, \"#fb9f3a\"], [0.8888888888888888, \"#fdca26\"], [1.0, \"#f0f921\"]], \"type\": \"heatmapgl\"}], \"histogram\": [{\"marker\": {\"colorbar\": {\"outlinewidth\": 0, \"ticks\": \"\"}}, \"type\": \"histogram\"}], \"histogram2d\": [{\"colorbar\": {\"outlinewidth\": 0, \"ticks\": \"\"}, \"colorscale\": [[0.0, \"#0d0887\"], [0.1111111111111111, \"#46039f\"], [0.2222222222222222, \"#7201a8\"], [0.3333333333333333, \"#9c179e\"], [0.4444444444444444, \"#bd3786\"], [0.5555555555555556, \"#d8576b\"], [0.6666666666666666, \"#ed7953\"], [0.7777777777777778, \"#fb9f3a\"], [0.8888888888888888, \"#fdca26\"], [1.0, \"#f0f921\"]], \"type\": \"histogram2d\"}], \"histogram2dcontour\": [{\"colorbar\": {\"outlinewidth\": 0, \"ticks\": \"\"}, \"colorscale\": [[0.0, \"#0d0887\"], [0.1111111111111111, \"#46039f\"], [0.2222222222222222, \"#7201a8\"], [0.3333333333333333, \"#9c179e\"], [0.4444444444444444, \"#bd3786\"], [0.5555555555555556, \"#d8576b\"], [0.6666666666666666, \"#ed7953\"], [0.7777777777777778, \"#fb9f3a\"], [0.8888888888888888, \"#fdca26\"], [1.0, \"#f0f921\"]], \"type\": \"histogram2dcontour\"}], \"mesh3d\": [{\"colorbar\": {\"outlinewidth\": 0, \"ticks\": \"\"}, \"type\": \"mesh3d\"}], \"parcoords\": [{\"line\": {\"colorbar\": {\"outlinewidth\": 0, \"ticks\": \"\"}}, \"type\": \"parcoords\"}], \"pie\": [{\"automargin\": true, \"type\": \"pie\"}], \"scatter\": [{\"marker\": {\"colorbar\": {\"outlinewidth\": 0, \"ticks\": \"\"}}, \"type\": \"scatter\"}], \"scatter3d\": [{\"line\": {\"colorbar\": {\"outlinewidth\": 0, \"ticks\": \"\"}}, \"marker\": {\"colorbar\": {\"outlinewidth\": 0, \"ticks\": \"\"}}, \"type\": \"scatter3d\"}], \"scattercarpet\": [{\"marker\": {\"colorbar\": {\"outlinewidth\": 0, \"ticks\": \"\"}}, \"type\": \"scattercarpet\"}], \"scattergeo\": [{\"marker\": {\"colorbar\": {\"outlinewidth\": 0, \"ticks\": \"\"}}, \"type\": \"scattergeo\"}], \"scattergl\": [{\"marker\": {\"colorbar\": {\"outlinewidth\": 0, \"ticks\": \"\"}}, \"type\": \"scattergl\"}], \"scattermapbox\": [{\"marker\": {\"colorbar\": {\"outlinewidth\": 0, \"ticks\": \"\"}}, \"type\": \"scattermapbox\"}], \"scatterpolar\": [{\"marker\": {\"colorbar\": {\"outlinewidth\": 0, \"ticks\": \"\"}}, \"type\": \"scatterpolar\"}], \"scatterpolargl\": [{\"marker\": {\"colorbar\": {\"outlinewidth\": 0, \"ticks\": \"\"}}, \"type\": \"scatterpolargl\"}], \"scatterternary\": [{\"marker\": {\"colorbar\": {\"outlinewidth\": 0, \"ticks\": \"\"}}, \"type\": \"scatterternary\"}], \"surface\": [{\"colorbar\": {\"outlinewidth\": 0, \"ticks\": \"\"}, \"colorscale\": [[0.0, \"#0d0887\"], [0.1111111111111111, \"#46039f\"], [0.2222222222222222, \"#7201a8\"], [0.3333333333333333, \"#9c179e\"], [0.4444444444444444, \"#bd3786\"], [0.5555555555555556, \"#d8576b\"], [0.6666666666666666, \"#ed7953\"], [0.7777777777777778, \"#fb9f3a\"], [0.8888888888888888, \"#fdca26\"], [1.0, \"#f0f921\"]], \"type\": \"surface\"}], \"table\": [{\"cells\": {\"fill\": {\"color\": \"#EBF0F8\"}, \"line\": {\"color\": \"white\"}}, \"header\": {\"fill\": {\"color\": \"#C8D4E3\"}, \"line\": {\"color\": \"white\"}}, \"type\": \"table\"}]}, \"layout\": {\"annotationdefaults\": {\"arrowcolor\": \"#2a3f5f\", \"arrowhead\": 0, \"arrowwidth\": 1}, \"autotypenumbers\": \"strict\", \"coloraxis\": {\"colorbar\": {\"outlinewidth\": 0, \"ticks\": \"\"}}, \"colorscale\": {\"diverging\": [[0, \"#8e0152\"], [0.1, \"#c51b7d\"], [0.2, \"#de77ae\"], [0.3, \"#f1b6da\"], [0.4, \"#fde0ef\"], [0.5, \"#f7f7f7\"], [0.6, \"#e6f5d0\"], [0.7, \"#b8e186\"], [0.8, \"#7fbc41\"], [0.9, \"#4d9221\"], [1, \"#276419\"]], \"sequential\": [[0.0, \"#0d0887\"], [0.1111111111111111, \"#46039f\"], [0.2222222222222222, \"#7201a8\"], [0.3333333333333333, \"#9c179e\"], [0.4444444444444444, \"#bd3786\"], [0.5555555555555556, \"#d8576b\"], [0.6666666666666666, \"#ed7953\"], [0.7777777777777778, \"#fb9f3a\"], [0.8888888888888888, \"#fdca26\"], [1.0, \"#f0f921\"]], \"sequentialminus\": [[0.0, \"#0d0887\"], [0.1111111111111111, \"#46039f\"], [0.2222222222222222, \"#7201a8\"], [0.3333333333333333, \"#9c179e\"], [0.4444444444444444, \"#bd3786\"], [0.5555555555555556, \"#d8576b\"], [0.6666666666666666, \"#ed7953\"], [0.7777777777777778, \"#fb9f3a\"], [0.8888888888888888, \"#fdca26\"], [1.0, \"#f0f921\"]]}, \"colorway\": [\"#636efa\", \"#EF553B\", \"#00cc96\", \"#ab63fa\", \"#FFA15A\", \"#19d3f3\", \"#FF6692\", \"#B6E880\", \"#FF97FF\", \"#FECB52\"], \"font\": {\"color\": \"#2a3f5f\"}, \"geo\": {\"bgcolor\": \"white\", \"lakecolor\": \"white\", \"landcolor\": \"#E5ECF6\", \"showlakes\": true, \"showland\": true, \"subunitcolor\": \"white\"}, \"hoverlabel\": {\"align\": \"left\"}, \"hovermode\": \"closest\", \"mapbox\": {\"style\": \"light\"}, \"paper_bgcolor\": \"white\", \"plot_bgcolor\": \"#E5ECF6\", \"polar\": {\"angularaxis\": {\"gridcolor\": \"white\", \"linecolor\": \"white\", \"ticks\": \"\"}, \"bgcolor\": \"#E5ECF6\", \"radialaxis\": {\"gridcolor\": \"white\", \"linecolor\": \"white\", \"ticks\": \"\"}}, \"scene\": {\"xaxis\": {\"backgroundcolor\": \"#E5ECF6\", \"gridcolor\": \"white\", \"gridwidth\": 2, \"linecolor\": \"white\", \"showbackground\": true, \"ticks\": \"\", \"zerolinecolor\": \"white\"}, \"yaxis\": {\"backgroundcolor\": \"#E5ECF6\", \"gridcolor\": \"white\", \"gridwidth\": 2, \"linecolor\": \"white\", \"showbackground\": true, \"ticks\": \"\", \"zerolinecolor\": \"white\"}, \"zaxis\": {\"backgroundcolor\": \"#E5ECF6\", \"gridcolor\": \"white\", \"gridwidth\": 2, \"linecolor\": \"white\", \"showbackground\": true, \"ticks\": \"\", \"zerolinecolor\": \"white\"}}, \"shapedefaults\": {\"line\": {\"color\": \"#2a3f5f\"}}, \"ternary\": {\"aaxis\": {\"gridcolor\": \"white\", \"linecolor\": \"white\", \"ticks\": \"\"}, \"baxis\": {\"gridcolor\": \"white\", \"linecolor\": \"white\", \"ticks\": \"\"}, \"bgcolor\": \"#E5ECF6\", \"caxis\": {\"gridcolor\": \"white\", \"linecolor\": \"white\", \"ticks\": \"\"}}, \"title\": {\"x\": 0.05}, \"xaxis\": {\"automargin\": true, \"gridcolor\": \"white\", \"linecolor\": \"white\", \"ticks\": \"\", \"title\": {\"standoff\": 15}, \"zerolinecolor\": \"white\", \"zerolinewidth\": 2}, \"yaxis\": {\"automargin\": true, \"gridcolor\": \"white\", \"linecolor\": \"white\", \"ticks\": \"\", \"title\": {\"standoff\": 15}, \"zerolinecolor\": \"white\", \"zerolinewidth\": 2}}}, \"xaxis\": {\"anchor\": \"y\", \"domain\": [0.0, 1.0], \"title\": {\"text\": \"variable\"}}, \"yaxis\": {\"anchor\": \"x\", \"domain\": [0.0, 1.0], \"title\": {\"text\": \"value\"}}},                        {\"responsive\": true}                    ).then(function(){\n",
       "                            \n",
       "var gd = document.getElementById('f2415ea7-dd3e-4a1a-8e8c-e7642fd7941a');\n",
       "var x = new MutationObserver(function (mutations, observer) {{\n",
       "        var display = window.getComputedStyle(gd).display;\n",
       "        if (!display || display === 'none') {{\n",
       "            console.log([gd, 'removed!']);\n",
       "            Plotly.purge(gd);\n",
       "            observer.disconnect();\n",
       "        }}\n",
       "}});\n",
       "\n",
       "// Listen for the removal of the full notebook cells\n",
       "var notebookContainer = gd.closest('#notebook-container');\n",
       "if (notebookContainer) {{\n",
       "    x.observe(notebookContainer, {childList: true});\n",
       "}}\n",
       "\n",
       "// Listen for the clearing of the current output cell\n",
       "var outputEl = gd.closest('.output');\n",
       "if (outputEl) {{\n",
       "    x.observe(outputEl, {childList: true});\n",
       "}}\n",
       "\n",
       "                        })                };                });            </script>        </div>"
      ]
     },
     "metadata": {},
     "output_type": "display_data"
    }
   ],
   "source": [
    "px.box(bikes['bhp'])"
   ]
  },
  {
   "cell_type": "code",
   "execution_count": 580,
   "id": "9415976d",
   "metadata": {},
   "outputs": [
    {
     "data": {
      "text/plain": [
       "count    137.000000\n",
       "mean      49.564526\n",
       "std       62.571285\n",
       "min        4.400000\n",
       "25%        9.920000\n",
       "50%       18.040000\n",
       "75%       73.400000\n",
       "max      310.000000\n",
       "Name: bhp, dtype: float64"
      ]
     },
     "execution_count": 580,
     "metadata": {},
     "output_type": "execute_result"
    }
   ],
   "source": [
    "bikes['bhp'].describe()"
   ]
  },
  {
   "cell_type": "markdown",
   "id": "94f7bfd2",
   "metadata": {},
   "source": [
    "### <span style='background :yellow' >25% of the bikes are below 10 bhp</span>"
   ]
  },
  {
   "cell_type": "markdown",
   "id": "0dee8198",
   "metadata": {},
   "source": [
    "## - weight"
   ]
  },
  {
   "cell_type": "code",
   "execution_count": 581,
   "id": "aa0d6d9c",
   "metadata": {},
   "outputs": [
    {
     "data": {
      "text/plain": [
       "<AxesSubplot:title={'center':'Distribution of Weight'}, xlabel='Weight', ylabel='Density'>"
      ]
     },
     "execution_count": 581,
     "metadata": {},
     "output_type": "execute_result"
    },
    {
     "data": {
      "image/png": "[encoded data removed]",
      "text/plain": [
       "<Figure size 720x576 with 1 Axes>"
      ]
     },
     "metadata": {
      "needs_background": "light"
     },
     "output_type": "display_data"
    }
   ],
   "source": [
    "plt.figure(figsize=(10,8))\n",
    "plt.title('Distribution of Weight',fontsize=20)\n",
    "plt.xlabel('Weight',fontsize=20)\n",
    "sns.distplot(bikes['Weight'])"
   ]
  },
  {
   "cell_type": "code",
   "execution_count": 582,
   "id": "857b1dab",
   "metadata": {},
   "outputs": [
    {
     "data": {
      "text/plain": [
       "count    165.000000\n",
       "mean     177.641818\n",
       "std       66.376006\n",
       "min      101.000000\n",
       "25%      118.000000\n",
       "50%      159.000000\n",
       "75%      208.000000\n",
       "max      391.000000\n",
       "Name: Weight, dtype: float64"
      ]
     },
     "execution_count": 582,
     "metadata": {},
     "output_type": "execute_result"
    }
   ],
   "source": [
    "bikes['Weight'].describe()"
   ]
  },
  {
   "cell_type": "markdown",
   "id": "ed3ce014",
   "metadata": {},
   "source": [
    "### <span style='background :yellow' > 50% of the bikes are less then 160 kg of weight</span>"
   ]
  },
  {
   "cell_type": "markdown",
   "id": "7f9ad5a8",
   "metadata": {},
   "source": [
    "## - Start Price"
   ]
  },
  {
   "cell_type": "code",
   "execution_count": 583,
   "id": "f127bd1a",
   "metadata": {},
   "outputs": [
    {
     "data": {
      "text/plain": [
       "<AxesSubplot:title={'center':'Distribution of Start Price'}, xlabel='Start Price'>"
      ]
     },
     "execution_count": 583,
     "metadata": {},
     "output_type": "execute_result"
    },
    {
     "data": {
      "image/png": "[encoded data removed]",
      "text/plain": [
       "<Figure size 720x576 with 1 Axes>"
      ]
     },
     "metadata": {
      "needs_background": "light"
     },
     "output_type": "display_data"
    }
   ],
   "source": [
    "plt.figure(figsize=(10,8))\n",
    "plt.title('Distribution of Start Price',fontsize=20)\n",
    "plt.xlabel('Start Price of Models',fontsize=20)\n",
    "sns.violinplot(x='Start Price',data=bikes)"
   ]
  },
  {
   "cell_type": "code",
   "execution_count": 584,
   "id": "5eb631d8",
   "metadata": {},
   "outputs": [
    {
     "data": {
      "text/plain": [
       "count    2.130000e+02\n",
       "mean     6.189620e+05\n",
       "std      9.455879e+05\n",
       "min      3.999000e+04\n",
       "25%      7.714500e+04\n",
       "50%      1.570000e+05\n",
       "75%      8.870000e+05\n",
       "max      7.990000e+06\n",
       "Name: Start Price, dtype: float64"
      ]
     },
     "execution_count": 584,
     "metadata": {},
     "output_type": "execute_result"
    }
   ],
   "source": [
    "bikes['Start Price'].describe()"
   ]
  },
  {
   "cell_type": "markdown",
   "id": "2eff40bc",
   "metadata": {},
   "source": [
    "### <span style='background :yellow' > 50% of the bikes are below 1.6 Lakhs</span>"
   ]
  },
  {
   "cell_type": "markdown",
   "id": "d41ace84",
   "metadata": {},
   "source": [
    "## - Ratings"
   ]
  },
  {
   "cell_type": "code",
   "execution_count": 585,
   "id": "88b4ee9a",
   "metadata": {},
   "outputs": [
    {
     "data": {
      "text/plain": [
       "<AxesSubplot:title={'center':'Frequency Distributions of Ratings by Customers'}, xlabel='Ratings', ylabel='Count'>"
      ]
     },
     "execution_count": 585,
     "metadata": {},
     "output_type": "execute_result"
    },
    {
     "data": {
      "image/png": "[encoded data removed]",
      "text/plain": [
       "<Figure size 720x576 with 1 Axes>"
      ]
     },
     "metadata": {
      "needs_background": "light"
     },
     "output_type": "display_data"
    }
   ],
   "source": [
    "plt.figure(figsize=(10,8))\n",
    "plt.title('Frequency Distributions of Ratings by Customers',fontsize=20)\n",
    "plt.xlabel('Ratings',fontsize=20)\n",
    "sns.histplot(bikes['Ratings'])"
   ]
  },
  {
   "cell_type": "markdown",
   "id": "e07634a5",
   "metadata": {},
   "source": [
    "### <span style='background :yellow' >The mean Ratings provided by cutomers is 4, which is good as its an indicator of zigwheels goods plus services and the given ratings also increases company's goodwill"
   ]
  },
  {
   "cell_type": "markdown",
   "id": "fa0296b6",
   "metadata": {},
   "source": [
    "## - Rated By\n",
    "\n",
    "This chart is a variation of a Histogram that uses kernel smoothing to plot values, **allowing for smoother distributions by smoothing out the noise**. The peaks of a Density Plot help display where values are concentrated over the interval."
   ]
  },
  {
   "cell_type": "code",
   "execution_count": 586,
   "id": "ae2e6125",
   "metadata": {},
   "outputs": [
    {
     "data": {
      "text/plain": [
       "<AxesSubplot:title={'center':'Smoother distribution of No Of Customers'}, xlabel='No of Customers', ylabel='Density'>"
      ]
     },
     "execution_count": 586,
     "metadata": {},
     "output_type": "execute_result"
    },
    {
     "data": {
      "image/png": "[encoded data removed]",
      "text/plain": [
       "<Figure size 720x576 with 1 Axes>"
      ]
     },
     "metadata": {
      "needs_background": "light"
     },
     "output_type": "display_data"
    }
   ],
   "source": [
    "plt.figure(figsize=(10,8))\n",
    "plt.title('Smoother distribution of No Of Customers',fontsize=20)\n",
    "plt.xlabel('No of Customers',fontsize=20)\n",
    "sns.kdeplot(bikes['Rated By'])"
   ]
  },
  {
   "cell_type": "markdown",
   "id": "94abba44",
   "metadata": {},
   "source": [
    "### <span style='background :yellow' > I wish some bikes are really very famous, like it took 6 months to me to get the delivery of my Royal Enfield Classic, Bikes that are high in demand."
   ]
  },
  {
   "cell_type": "markdown",
   "id": "a36c09c7",
   "metadata": {},
   "source": [
    "## `Bivariate Analysis`"
   ]
  },
  {
   "cell_type": "markdown",
   "id": "df08837d",
   "metadata": {},
   "source": [
    "> **Brand** (Categorical)\n",
    "> **Model** (Categorical)\n",
    "> **Fuel Type** (categorical)\n",
    "\n",
    "---\n",
    "\n",
    "> **CC or Watt** (Numerical)\n",
    "> **Start Price** (Numerical) \n",
    "> **Top Model Price** (Numerical)\n",
    "> **bhp** (Numerical) \n",
    "> **Weight** (Numerical)\n",
    "> **Ratings** (Numerical)\n",
    "> **Rated By** (Numerical)"
   ]
  },
  {
   "cell_type": "markdown",
   "id": "90dedb3e",
   "metadata": {},
   "source": [
    "## - Brand vs CC or Watt"
   ]
  },
  {
   "cell_type": "code",
   "execution_count": 587,
   "id": "4faf12a6",
   "metadata": {},
   "outputs": [
    {
     "data": {
      "text/plain": [
       "<AxesSubplot:xlabel='CC or Watt', ylabel='Brand'>"
      ]
     },
     "execution_count": 587,
     "metadata": {},
     "output_type": "execute_result"
    },
    {
     "data": {
      "image/png": "[encoded data removed]",
      "text/plain": [
       "<Figure size 720x576 with 1 Axes>"
      ]
     },
     "metadata": {
      "needs_background": "light"
     },
     "output_type": "display_data"
    }
   ],
   "source": [
    "plt.figure(figsize=(10,8))\n",
    "sns.histplot(y='Brand',x='CC or Watt',data=bikes)"
   ]
  },
  {
   "cell_type": "markdown",
   "id": "c901b52f",
   "metadata": {},
   "source": [
    "### <span style='background :yellow' > Bajaj and Hero manufacuture majority of Low CC bikes</span>"
   ]
  },
  {
   "cell_type": "markdown",
   "id": "17471f1a",
   "metadata": {},
   "source": [
    "## - Fuel type vs CC"
   ]
  },
  {
   "cell_type": "code",
   "execution_count": 588,
   "id": "c381dfaa",
   "metadata": {},
   "outputs": [
    {
     "data": {
      "text/plain": [
       "<AxesSubplot:title={'center':'CC vs Fuel Type'}, xlabel='Fuel Type', ylabel='CC or Watt'>"
      ]
     },
     "execution_count": 588,
     "metadata": {},
     "output_type": "execute_result"
    },
    {
     "data": {
      "image/png": "[encoded data removed]",
      "text/plain": [
       "<Figure size 720x576 with 1 Axes>"
      ]
     },
     "metadata": {
      "needs_background": "light"
     },
     "output_type": "display_data"
    }
   ],
   "source": [
    "plt.figure(figsize=(10,8))\n",
    "plt.title('CC vs Fuel Type',fontsize=20)\n",
    "plt.xlabel('Fuel Type',fontsize=20)\n",
    "plt.ylabel('CC',fontsize=20)\n",
    "sns.stripplot(x='Fuel Type',y='CC or Watt',data=bikes,jitter=True)\n",
    "# scatter plot based of the category"
   ]
  },
  {
   "cell_type": "markdown",
   "id": "7b0b7eb4",
   "metadata": {},
   "source": [
    "### <span style='background :yellow' >Left one is `Watt` and Right one is `CC`"
   ]
  },
  {
   "cell_type": "markdown",
   "id": "c0b00c65",
   "metadata": {},
   "source": [
    "## - Brand vs Start Price"
   ]
  },
  {
   "cell_type": "code",
   "execution_count": 589,
   "id": "7d2d4f9d",
   "metadata": {},
   "outputs": [
    {
     "data": {
      "text/plain": [
       "<AxesSubplot:title={'center':'Brand vs Start Price'}, xlabel='Start Price', ylabel='Brand'>"
      ]
     },
     "execution_count": 589,
     "metadata": {},
     "output_type": "execute_result"
    },
    {
     "data": {
      "image/png": "[encoded data removed]",
      "text/plain": [
       "<Figure size 1440x1152 with 1 Axes>"
      ]
     },
     "metadata": {
      "needs_background": "light"
     },
     "output_type": "display_data"
    }
   ],
   "source": [
    "plt.figure(figsize=(20,16))\n",
    "plt.title('Brand vs Start Price',fontsize=20)\n",
    "plt.xlabel('Brand',fontsize=20)\n",
    "plt.ylabel('Start Price',fontsize=20)\n",
    "sns.stripplot(y='Brand',x='Start Price',data=bikes,jitter=False)\n",
    "# scatter plot based of the category"
   ]
  },
  {
   "cell_type": "markdown",
   "id": "7ad1b032",
   "metadata": {},
   "source": [
    "###  <span style='background :yellow' >Majority of Hero, TVS, Aprilia, Vespa, Yamaha, 22Kymco, Revolt and Bajaj bikes are coming from low Low price segment\n",
    "### <span style='background :yellow' > Majority of Kawasaki, BMW, Harley-Davidson, Triumph, Ducati bikes are from high price segment"
   ]
  },
  {
   "cell_type": "markdown",
   "id": "dcefed1b",
   "metadata": {},
   "source": [
    "## - Fuel Type vs Start Price"
   ]
  },
  {
   "cell_type": "code",
   "execution_count": 590,
   "id": "37a6743a",
   "metadata": {},
   "outputs": [
    {
     "data": {
      "text/plain": [
       "<AxesSubplot:title={'center':'Fuel Type vs Start Price'}, xlabel='Fuel Type', ylabel='Start Price'>"
      ]
     },
     "execution_count": 590,
     "metadata": {},
     "output_type": "execute_result"
    },
    {
     "data": {
      "image/png": "[encoded data removed]",
      "text/plain": [
       "<Figure size 720x576 with 1 Axes>"
      ]
     },
     "metadata": {
      "needs_background": "light"
     },
     "output_type": "display_data"
    }
   ],
   "source": [
    "plt.figure(figsize=(10,8))\n",
    "plt.title('Fuel Type vs Start Price',fontsize=20)\n",
    "plt.xlabel('Fuel Type',fontsize=20)\n",
    "plt.ylabel('Start Price',fontsize=20)\n",
    "sns.swarmplot(x='Fuel Type',y='Start Price',data=bikes)"
   ]
  },
  {
   "cell_type": "markdown",
   "id": "2f269ceb",
   "metadata": {},
   "source": [
    "### <span style='background :yellow' >Electric bikes are usually chaper then petrol bikes plus petrol bikes are avilable in all price segments "
   ]
  },
  {
   "cell_type": "markdown",
   "id": "a0333027",
   "metadata": {},
   "source": [
    "## - Brand vs bhp"
   ]
  },
  {
   "cell_type": "code",
   "execution_count": 591,
   "id": "48ee7d8c",
   "metadata": {},
   "outputs": [
    {
     "data": {
      "text/plain": [
       "<AxesSubplot:title={'center':'Brand vs BHP'}, xlabel='bhp', ylabel='Brand'>"
      ]
     },
     "execution_count": 591,
     "metadata": {},
     "output_type": "execute_result"
    },
    {
     "data": {
      "image/png": "[encoded data removed]",
      "text/plain": [
       "<Figure size 720x576 with 1 Axes>"
      ]
     },
     "metadata": {
      "needs_background": "light"
     },
     "output_type": "display_data"
    }
   ],
   "source": [
    "plt.figure(figsize=(10,8))\n",
    "plt.title('Brand vs BHP',fontsize=20)\n",
    "plt.xlabel('bhp',fontsize=20)\n",
    "plt.ylabel('Brand',fontsize=20)\n",
    "sns.histplot(y='Brand',x='bhp',data=bikes)"
   ]
  },
  {
   "cell_type": "markdown",
   "id": "c9c14b17",
   "metadata": {},
   "source": [
    "### <span style='background :yellow' > Bajaj, Hero, Jawa used to manufactures bikes with Low Bhp \n",
    "### <span style='background :yellow' > Honda, Suzuki, KTM, Rotal Enfield used to manufacture bikes of all Bhp segments\n",
    "### <span style='background :yellow' > Kawasaki, Ducati, Hardley-Davidson, Triumph and BMW uaually manufacture premium bikes "
   ]
  },
  {
   "cell_type": "markdown",
   "id": "30087112",
   "metadata": {},
   "source": [
    "## - Fuel Type vs bhp"
   ]
  },
  {
   "cell_type": "code",
   "execution_count": 592,
   "id": "ea5bd6d4",
   "metadata": {},
   "outputs": [
    {
     "data": {
      "text/plain": [
       "<AxesSubplot:title={'center':'Fuel Type vs BHP'}, xlabel='Fuel Type', ylabel='bhp'>"
      ]
     },
     "execution_count": 592,
     "metadata": {},
     "output_type": "execute_result"
    },
    {
     "data": {
      "image/png": "[encoded data removed]",
      "text/plain": [
       "<Figure size 720x576 with 1 Axes>"
      ]
     },
     "metadata": {
      "needs_background": "light"
     },
     "output_type": "display_data"
    }
   ],
   "source": [
    "plt.figure(figsize=(10,8))\n",
    "plt.title('Fuel Type vs BHP',fontsize=20)\n",
    "plt.xlabel('Fuel Type',fontsize=20)\n",
    "plt.ylabel('bhp',fontsize=20)\n",
    "sns.boxplot(x='Fuel Type',y='bhp',data=bikes)"
   ]
  },
  {
   "cell_type": "markdown",
   "id": "7198f97d",
   "metadata": {},
   "source": [
    "### <span style='background :yellow' > As a fact Electric bikes do not have bhp</span>"
   ]
  },
  {
   "cell_type": "markdown",
   "id": "24be5a87",
   "metadata": {},
   "source": [
    "## - Brand vs Weight"
   ]
  },
  {
   "cell_type": "code",
   "execution_count": 593,
   "id": "abf9286f",
   "metadata": {},
   "outputs": [
    {
     "data": {
      "text/plain": [
       "<AxesSubplot:title={'center':'Brand vs Weight'}, xlabel='Weight', ylabel='Brand'>"
      ]
     },
     "execution_count": 593,
     "metadata": {},
     "output_type": "execute_result"
    },
    {
     "data": {
      "image/png": "[encoded data removed]",
      "text/plain": [
       "<Figure size 720x576 with 1 Axes>"
      ]
     },
     "metadata": {
      "needs_background": "light"
     },
     "output_type": "display_data"
    }
   ],
   "source": [
    "plt.figure(figsize=(10,8))\n",
    "plt.title('Brand vs Weight',fontsize=20)\n",
    "plt.xlabel('Weight',fontsize=20)\n",
    "plt.ylabel('Brand',fontsize=20)\n",
    "sns.histplot(y='Brand',x='Weight',data=bikes)"
   ]
  },
  {
   "cell_type": "markdown",
   "id": "7c044afa",
   "metadata": {},
   "source": [
    "### <span style='background :yellow' > Harley-Davidson, BMW, Kawasaki, Ducati, Royal Enfield and Suzuki bikes are gernally heavy in weight\n",
    "### <span style='background :yellow' > Honda, TVS and Bajaj has bikes in both segment i.e light and heavy"
   ]
  },
  {
   "cell_type": "markdown",
   "id": "c567a4db",
   "metadata": {},
   "source": [
    "## - Fuel Type vs Weight"
   ]
  },
  {
   "cell_type": "code",
   "execution_count": 594,
   "id": "db8b5a2c",
   "metadata": {},
   "outputs": [
    {
     "data": {
      "text/plain": [
       "<AxesSubplot:title={'center':'Fuel Type vs Weight'}, xlabel='Weight', ylabel='Fuel Type'>"
      ]
     },
     "execution_count": 594,
     "metadata": {},
     "output_type": "execute_result"
    },
    {
     "data": {
      "image/png": "[encoded data removed]",
      "text/plain": [
       "<Figure size 720x576 with 1 Axes>"
      ]
     },
     "metadata": {
      "needs_background": "light"
     },
     "output_type": "display_data"
    }
   ],
   "source": [
    "plt.figure(figsize=(10,8))\n",
    "plt.title('Fuel Type vs Weight',fontsize=20)\n",
    "plt.xlabel('Weight',fontsize=20)\n",
    "plt.ylabel('Fuel Type',fontsize=20)\n",
    "sns.histplot(y='Weight',x='Fuel Type',data=bikes)"
   ]
  },
  {
   "cell_type": "markdown",
   "id": "830110b4",
   "metadata": {},
   "source": [
    "### <span style='background :yellow' > Electric bikes are generally light weight as compared to Petrol bikes"
   ]
  },
  {
   "cell_type": "markdown",
   "id": "f653e5c6",
   "metadata": {},
   "source": [
    "## - Rating vs Brand"
   ]
  },
  {
   "cell_type": "code",
   "execution_count": 595,
   "id": "2d7192a2",
   "metadata": {},
   "outputs": [
    {
     "data": {
      "text/plain": [
       "<AxesSubplot:title={'center':'Rating vs Brand'}, xlabel='Ratings', ylabel='Brand'>"
      ]
     },
     "execution_count": 595,
     "metadata": {},
     "output_type": "execute_result"
    },
    {
     "data": {
      "image/png": "[encoded data removed]",
      "text/plain": [
       "<Figure size 720x576 with 1 Axes>"
      ]
     },
     "metadata": {
      "needs_background": "light"
     },
     "output_type": "display_data"
    }
   ],
   "source": [
    "plt.figure(figsize=(10,8))\n",
    "plt.title('Rating vs Brand',fontsize=20)\n",
    "plt.xlabel('Ratings',fontsize=20)\n",
    "plt.ylabel('Brand',fontsize=20)\n",
    "sns.stripplot(x='Ratings',y='Brand',data=bikes)"
   ]
  },
  {
   "cell_type": "markdown",
   "id": "a0f601cf",
   "metadata": {},
   "source": [
    "### <span style='background :yellow' > Banelli, Ducati, Kawasaki, Triumph, Harley-Davidson, Royal Enfield, Honda generally get the mean large rantiing which says these company do manufacture very good products\n",
    "### <span style='background :yellow' > TVS, Hero, Honda, Bajaj, Yamaha, Suzuki, KTM, Vespa manufacture products where some are higly liked whereas some are average products\n",
    "### <span style='background :yellow' > Lohia products are not liked by customers very much"
   ]
  },
  {
   "cell_type": "markdown",
   "id": "3a19514b",
   "metadata": {},
   "source": [
    "## - Rated by vs Brand"
   ]
  },
  {
   "cell_type": "code",
   "execution_count": 596,
   "id": "7d7b06d7",
   "metadata": {},
   "outputs": [
    {
     "data": {
      "text/plain": [
       "<AxesSubplot:title={'center':'Rated by vs Brand'}, xlabel='Rated By', ylabel='Brand'>"
      ]
     },
     "execution_count": 596,
     "metadata": {},
     "output_type": "execute_result"
    },
    {
     "data": {
      "image/png": "[encoded data removed]",
      "text/plain": [
       "<Figure size 720x576 with 1 Axes>"
      ]
     },
     "metadata": {
      "needs_background": "light"
     },
     "output_type": "display_data"
    }
   ],
   "source": [
    "plt.figure(figsize=(10,8))\n",
    "plt.title('Rated by vs Brand',fontsize=20)\n",
    "plt.xlabel('Rated by',fontsize=20)\n",
    "plt.ylabel('Brand',fontsize=20)\n",
    "sns.stripplot(x='Rated By',y='Brand',data=bikes)"
   ]
  },
  {
   "cell_type": "markdown",
   "id": "1a00c414",
   "metadata": {},
   "source": [
    "### <span style='background :yellow' > Royal Enfield is the most liked Brand by customers second is Bajaj\n",
    "### <span style='background :yellow' > Bajaj, TVS, Hero, Yamaha, Suzuki, KTM are some famous brands that are preferred by customers while buying bikes"
   ]
  },
  {
   "cell_type": "markdown",
   "id": "08c6e141",
   "metadata": {},
   "source": [
    "\n",
    "> **CC or Watt** (Numerical)\n",
    "> **Start Price** (Numerical) \n",
    "> **Top Model Price** (Numerical)\n",
    "> **bhp** (Numerical) \n",
    "> **Weight** (Numerical)\n",
    "> **Ratings** (Numerical)\n",
    "> **Rated By** (Numerical)"
   ]
  },
  {
   "cell_type": "markdown",
   "id": "9a94fe64",
   "metadata": {},
   "source": [
    "## - CC or Watt vs Start Price"
   ]
  },
  {
   "cell_type": "code",
   "execution_count": 597,
   "id": "3f907e82",
   "metadata": {},
   "outputs": [
    {
     "data": {
      "text/plain": [
       "<seaborn.axisgrid.JointGrid at 0x1a93705c190>"
      ]
     },
     "execution_count": 597,
     "metadata": {},
     "output_type": "execute_result"
    },
    {
     "data": {
      "image/png": "[encoded data removed]",
      "text/plain": [
       "<Figure size 432x432 with 3 Axes>"
      ]
     },
     "metadata": {
      "needs_background": "light"
     },
     "output_type": "display_data"
    }
   ],
   "source": [
    "sns.jointplot(x='CC or Watt',y='Start Price',hue='Fuel Type',data=bikes)"
   ]
  },
  {
   "cell_type": "markdown",
   "id": "466c860b",
   "metadata": {},
   "source": [
    "### <span style='background :yellow' > With Petrol bikes price rise with the increase in CC\n",
    "### <span style='background :yellow' > Electric bikes are not gave the same rise with increse of Watt to Start Price, they are really not costly bikes"
   ]
  },
  {
   "cell_type": "code",
   "execution_count": 598,
   "id": "fe9c22be",
   "metadata": {},
   "outputs": [
    {
     "data": {
      "text/plain": [
       "<seaborn.axisgrid.JointGrid at 0x1a937a6bca0>"
      ]
     },
     "execution_count": 598,
     "metadata": {},
     "output_type": "execute_result"
    },
    {
     "data": {
      "image/png": "[encoded data removed]",
      "text/plain": [
       "<Figure size 432x432 with 3 Axes>"
      ]
     },
     "metadata": {
      "needs_background": "light"
     },
     "output_type": "display_data"
    }
   ],
   "source": [
    "sns.jointplot(x='CC or Watt',y='bhp',data=bikes,kind='reg')"
   ]
  },
  {
   "cell_type": "markdown",
   "id": "996a3af8",
   "metadata": {},
   "source": [
    "### <span style='background :yellow' > There is a positive correlation between CC vs bhp"
   ]
  },
  {
   "cell_type": "markdown",
   "id": "a3e98016",
   "metadata": {},
   "source": [
    "## - CC or Watt vs Weight"
   ]
  },
  {
   "cell_type": "code",
   "execution_count": 599,
   "id": "8422b92a",
   "metadata": {},
   "outputs": [
    {
     "data": {
      "text/plain": [
       "<seaborn.axisgrid.FacetGrid at 0x1a937d4c6a0>"
      ]
     },
     "execution_count": 599,
     "metadata": {},
     "output_type": "execute_result"
    },
    {
     "data": {
      "image/png": "[encoded data removed]",
      "text/plain": [
       "<Figure size 433.125x360 with 1 Axes>"
      ]
     },
     "metadata": {
      "needs_background": "light"
     },
     "output_type": "display_data"
    }
   ],
   "source": [
    "sns.lmplot(x='CC or Watt',y='Weight',hue='Fuel Type',data=bikes,markers=['o','v'],scatter_kws={'s':100})"
   ]
  },
  {
   "cell_type": "markdown",
   "id": "20a62712",
   "metadata": {},
   "source": [
    "### <span style='background :yellow' > Petrol bikes gave a high rise in weight with the increase in CC\n",
    "### <span style='background :yellow' > Electric bikes are not really heavy with the increase in Watt"
   ]
  },
  {
   "cell_type": "markdown",
   "id": "ce9c1314",
   "metadata": {},
   "source": [
    "## CC or Watt vs Ratings"
   ]
  },
  {
   "cell_type": "code",
   "execution_count": 600,
   "id": "b7c5fb7e",
   "metadata": {},
   "outputs": [
    {
     "data": {
      "text/plain": [
       "<AxesSubplot:title={'center':'CC or Watt vs Ratings'}, xlabel='Ratings', ylabel='Cc or Watt'>"
      ]
     },
     "execution_count": 600,
     "metadata": {},
     "output_type": "execute_result"
    },
    {
     "data": {
      "image/png": "[encoded data removed]",
      "text/plain": [
       "<Figure size 720x576 with 1 Axes>"
      ]
     },
     "metadata": {
      "needs_background": "light"
     },
     "output_type": "display_data"
    }
   ],
   "source": [
    "plt.figure(figsize=(10,8))\n",
    "plt.title('CC or Watt vs Ratings',fontsize=20)\n",
    "plt.xlabel('Ratings',fontsize=20)\n",
    "plt.ylabel('Cc or Watt',fontsize=20)\n",
    "sns.scatterplot(y='CC or Watt',x='Ratings',hue='Fuel Type',data=bikes)"
   ]
  },
  {
   "cell_type": "markdown",
   "id": "15f4c18a",
   "metadata": {},
   "source": [
    "### <span style='background :yellow' > Petrol bikes are more liked by customers compared to Electric bikes"
   ]
  },
  {
   "cell_type": "markdown",
   "id": "32416c96",
   "metadata": {},
   "source": [
    "## CC or Watt vs Rated by"
   ]
  },
  {
   "cell_type": "code",
   "execution_count": 601,
   "id": "01e79684",
   "metadata": {},
   "outputs": [
    {
     "data": {
      "text/plain": [
       "<AxesSubplot:title={'center':'CC or Watt vs Rated by'}, xlabel='Rated by', ylabel='Cc or Watt'>"
      ]
     },
     "execution_count": 601,
     "metadata": {},
     "output_type": "execute_result"
    },
    {
     "data": {
      "image/png": "[encoded data removed]",
      "text/plain": [
       "<Figure size 720x576 with 1 Axes>"
      ]
     },
     "metadata": {
      "needs_background": "light"
     },
     "output_type": "display_data"
    }
   ],
   "source": [
    "plt.figure(figsize=(10,8))\n",
    "plt.title('CC or Watt vs Rated by',fontsize=20)\n",
    "plt.xlabel('Rated by',fontsize=20)\n",
    "plt.ylabel('Cc or Watt',fontsize=20)\n",
    "sns.scatterplot(y='CC or Watt',x='Rated By',hue='Fuel Type',data=bikes)"
   ]
  },
  {
   "cell_type": "markdown",
   "id": "d971ffda",
   "metadata": {},
   "source": [
    "### <span style='background :yellow' >Bikes that are petrol are generally more liked by customers, It supports my above point"
   ]
  },
  {
   "cell_type": "markdown",
   "id": "46aa9b0e",
   "metadata": {},
   "source": [
    "## `Multivariate Data Analysis`"
   ]
  },
  {
   "cell_type": "code",
   "execution_count": 602,
   "id": "bd8762d2",
   "metadata": {},
   "outputs": [
    {
     "data": {
      "text/plain": [
       "<AxesSubplot:>"
      ]
     },
     "execution_count": 602,
     "metadata": {},
     "output_type": "execute_result"
    },
    {
     "data": {
      "image/png": "[encoded data removed]",
      "text/plain": [
       "<Figure size 432x288 with 2 Axes>"
      ]
     },
     "metadata": {
      "needs_background": "light"
     },
     "output_type": "display_data"
    }
   ],
   "source": [
    "bikes_corr=bikes.corr()\n",
    "sns.heatmap(bikes_corr,annot=True,cmap='magma')"
   ]
  },
  {
   "cell_type": "markdown",
   "id": "033341bf",
   "metadata": {},
   "source": [
    "### <span style='background :yellow' > Bhp and Weight have a positive correlation\n",
    "### <span style='background :yellow' > Bhp and CC have a positive correlation\n",
    "### <span style='background :yellow' > Bhp and Start Price have a positive correlation\n",
    "### <span style='background :yellow' > Weight and Cc have a positive correlation"
   ]
  },
  {
   "cell_type": "markdown",
   "id": "0b3fa809",
   "metadata": {},
   "source": [
    "# <span style='background :red' > After the whole story an with the help of the story we can really move to replacing missing values</span>"
   ]
  },
  {
   "cell_type": "code",
   "execution_count": 603,
   "id": "a9600161",
   "metadata": {},
   "outputs": [
    {
     "data": {
      "text/plain": [
       "Brand                0\n",
       "Model                0\n",
       "Ratings             12\n",
       "Rated By            12\n",
       "CC or Watt           1\n",
       "Fuel Type            0\n",
       "Start Price          0\n",
       "Top Model Price    121\n",
       "bhp                 76\n",
       "Weight              48\n",
       "dtype: int64"
      ]
     },
     "execution_count": 603,
     "metadata": {},
     "output_type": "execute_result"
    }
   ],
   "source": [
    "bikes.isnull().sum()"
   ]
  },
  {
   "cell_type": "markdown",
   "id": "8e3f5cc9",
   "metadata": {},
   "source": [
    "## <span style='background :red' > As Top Model for this bike is not itself avilable so therefore it is showing missing values, Actually this model of do not have top model so it better to leave missing values\n",
    "## <span style='background :red' > As Rating and Rated by are random choices given by customers so i do not have any relationship to calculate that so I am replacing their missing values by median of their values"
   ]
  },
  {
   "cell_type": "code",
   "execution_count": 604,
   "id": "636f7de3",
   "metadata": {},
   "outputs": [
    {
     "data": {
      "text/html": [
       "<div>\n",
       "<style scoped>\n",
       "    .dataframe tbody tr th:only-of-type {\n",
       "        vertical-align: middle;\n",
       "    }\n",
       "\n",
       "    .dataframe tbody tr th {\n",
       "        vertical-align: top;\n",
       "    }\n",
       "\n",
       "    .dataframe thead th {\n",
       "        text-align: right;\n",
       "    }\n",
       "</style>\n",
       "<table border=\"1\" class=\"dataframe\">\n",
       "  <thead>\n",
       "    <tr style=\"text-align: right;\">\n",
       "      <th></th>\n",
       "      <th>Brand</th>\n",
       "      <th>Model</th>\n",
       "      <th>Ratings</th>\n",
       "      <th>Rated By</th>\n",
       "      <th>CC or Watt</th>\n",
       "      <th>Fuel Type</th>\n",
       "      <th>Start Price</th>\n",
       "      <th>Top Model Price</th>\n",
       "      <th>bhp</th>\n",
       "      <th>Weight</th>\n",
       "    </tr>\n",
       "  </thead>\n",
       "  <tbody>\n",
       "    <tr>\n",
       "      <th>190</th>\n",
       "      <td>Kawasaki</td>\n",
       "      <td>KX 100</td>\n",
       "      <td>4.0</td>\n",
       "      <td>4.0</td>\n",
       "      <td>NaN</td>\n",
       "      <td>Petrol</td>\n",
       "      <td>487000.0</td>\n",
       "      <td>NaN</td>\n",
       "      <td>NaN</td>\n",
       "      <td>NaN</td>\n",
       "    </tr>\n",
       "  </tbody>\n",
       "</table>\n",
       "</div>"
      ],
      "text/plain": [
       "        Brand    Model  Ratings  Rated By  CC or Watt Fuel Type  Start Price  \\\n",
       "190  Kawasaki   KX 100      4.0       4.0         NaN    Petrol     487000.0   \n",
       "\n",
       "     Top Model Price  bhp  Weight  \n",
       "190              NaN  NaN     NaN  "
      ]
     },
     "execution_count": 604,
     "metadata": {},
     "output_type": "execute_result"
    }
   ],
   "source": [
    "bikes[bikes['CC or Watt'].isna()]"
   ]
  },
  {
   "cell_type": "code",
   "execution_count": 605,
   "id": "aed36ab3",
   "metadata": {},
   "outputs": [],
   "source": [
    "bikes.loc[190,'CC or Watt']=100.0"
   ]
  },
  {
   "cell_type": "code",
   "execution_count": 606,
   "id": "add6620c",
   "metadata": {},
   "outputs": [
    {
     "data": {
      "text/plain": [
       "4.1"
      ]
     },
     "execution_count": 606,
     "metadata": {},
     "output_type": "execute_result"
    }
   ],
   "source": [
    "bikes['Ratings'].median()"
   ]
  },
  {
   "cell_type": "code",
   "execution_count": 607,
   "id": "dad45d50",
   "metadata": {},
   "outputs": [
    {
     "data": {
      "text/plain": [
       "57.0"
      ]
     },
     "execution_count": 607,
     "metadata": {},
     "output_type": "execute_result"
    }
   ],
   "source": [
    "bikes['Rated By'].median()"
   ]
  },
  {
   "cell_type": "code",
   "execution_count": 608,
   "id": "51bb25a8",
   "metadata": {},
   "outputs": [],
   "source": [
    "bikes['Ratings'].fillna(4.1,inplace=True)\n",
    "bikes['Rated By'].fillna(57.0,inplace=True)"
   ]
  },
  {
   "cell_type": "code",
   "execution_count": 609,
   "id": "e7b9347e",
   "metadata": {},
   "outputs": [
    {
     "data": {
      "text/plain": [
       "Brand                0\n",
       "Model                0\n",
       "Ratings              0\n",
       "Rated By             0\n",
       "CC or Watt           0\n",
       "Fuel Type            0\n",
       "Start Price          0\n",
       "Top Model Price    121\n",
       "bhp                 76\n",
       "Weight              48\n",
       "dtype: int64"
      ]
     },
     "execution_count": 609,
     "metadata": {},
     "output_type": "execute_result"
    }
   ],
   "source": [
    "bikes.isnull().sum()"
   ]
  },
  {
   "cell_type": "markdown",
   "id": "174f9b25",
   "metadata": {},
   "source": [
    "### <span style='background :yellow' >As we have one missing value in CC or Watt column, In am going to replace it by 100 because it is a 100CC bike, As CC will be usefull to fill missing values of weight and bhp"
   ]
  },
  {
   "cell_type": "markdown",
   "id": "4bd797a5",
   "metadata": {},
   "source": [
    "## <span style='background :red' > As bhp and Weight has positive correlation with CC so we will replace their missing values by their mean mean acording to fuel type"
   ]
  },
  {
   "cell_type": "code",
   "execution_count": 610,
   "id": "72f450ae",
   "metadata": {},
   "outputs": [
    {
     "data": {
      "text/plain": [
       "<AxesSubplot:title={'center':'CC vs Fuel Type'}, xlabel='Fuel Type', ylabel='CC or Watt'>"
      ]
     },
     "execution_count": 610,
     "metadata": {},
     "output_type": "execute_result"
    },
    {
     "data": {
      "image/png": "[encoded data removed]",
      "text/plain": [
       "<Figure size 720x576 with 1 Axes>"
      ]
     },
     "metadata": {
      "needs_background": "light"
     },
     "output_type": "display_data"
    }
   ],
   "source": [
    "plt.figure(figsize=(10,8))\n",
    "plt.title('CC vs Fuel Type',fontsize=20)\n",
    "plt.xlabel('Fuel Type',fontsize=20)\n",
    "plt.ylabel('CC',fontsize=20)\n",
    "sns.stripplot(x='Fuel Type',y='CC or Watt',data=bikes,jitter=True)\n",
    "# scatter plot based of the category"
   ]
  },
  {
   "cell_type": "code",
   "execution_count": 611,
   "id": "e472121d",
   "metadata": {},
   "outputs": [
    {
     "data": {
      "text/html": [
       "<div>\n",
       "<style scoped>\n",
       "    .dataframe tbody tr th:only-of-type {\n",
       "        vertical-align: middle;\n",
       "    }\n",
       "\n",
       "    .dataframe tbody tr th {\n",
       "        vertical-align: top;\n",
       "    }\n",
       "\n",
       "    .dataframe thead th {\n",
       "        text-align: right;\n",
       "    }\n",
       "</style>\n",
       "<table border=\"1\" class=\"dataframe\">\n",
       "  <thead>\n",
       "    <tr style=\"text-align: right;\">\n",
       "      <th></th>\n",
       "      <th>CC or Watt</th>\n",
       "      <th>Rated By</th>\n",
       "      <th>Ratings</th>\n",
       "      <th>Start Price</th>\n",
       "      <th>Top Model Price</th>\n",
       "      <th>Weight</th>\n",
       "      <th>bhp</th>\n",
       "    </tr>\n",
       "    <tr>\n",
       "      <th>Fuel Type</th>\n",
       "      <th></th>\n",
       "      <th></th>\n",
       "      <th></th>\n",
       "      <th></th>\n",
       "      <th></th>\n",
       "      <th></th>\n",
       "      <th></th>\n",
       "    </tr>\n",
       "  </thead>\n",
       "  <tbody>\n",
       "    <tr>\n",
       "      <th>Electric</th>\n",
       "      <td>1116.088889</td>\n",
       "      <td>46.481481</td>\n",
       "      <td>3.729630</td>\n",
       "      <td>70217.333333</td>\n",
       "      <td>81384.428571</td>\n",
       "      <td>122.600000</td>\n",
       "      <td>NaN</td>\n",
       "    </tr>\n",
       "    <tr>\n",
       "      <th>Petrol</th>\n",
       "      <td>542.380645</td>\n",
       "      <td>489.440860</td>\n",
       "      <td>4.197849</td>\n",
       "      <td>698618.537634</td>\n",
       "      <td>567459.600471</td>\n",
       "      <td>179.361875</td>\n",
       "      <td>49.564526</td>\n",
       "    </tr>\n",
       "  </tbody>\n",
       "</table>\n",
       "</div>"
      ],
      "text/plain": [
       "            CC or Watt    Rated By   Ratings    Start Price  Top Model Price  \\\n",
       "Fuel Type                                                                      \n",
       "Electric   1116.088889   46.481481  3.729630   70217.333333     81384.428571   \n",
       "Petrol      542.380645  489.440860  4.197849  698618.537634    567459.600471   \n",
       "\n",
       "               Weight        bhp  \n",
       "Fuel Type                         \n",
       "Electric   122.600000        NaN  \n",
       "Petrol     179.361875  49.564526  "
      ]
     },
     "execution_count": 611,
     "metadata": {},
     "output_type": "execute_result"
    }
   ],
   "source": [
    "bikes.pivot_table(index='Fuel Type')"
   ]
  },
  {
   "cell_type": "code",
   "execution_count": 612,
   "id": "0e11b20e",
   "metadata": {},
   "outputs": [
    {
     "data": {
      "text/plain": [
       "Brand                0\n",
       "Model                0\n",
       "Ratings              0\n",
       "Rated By             0\n",
       "CC or Watt           0\n",
       "Fuel Type            0\n",
       "Start Price          0\n",
       "Top Model Price    121\n",
       "bhp                 76\n",
       "Weight              48\n",
       "dtype: int64"
      ]
     },
     "execution_count": 612,
     "metadata": {},
     "output_type": "execute_result"
    }
   ],
   "source": [
    "bikes.isnull().sum()"
   ]
  },
  {
   "cell_type": "code",
   "execution_count": 614,
   "id": "95ac3742",
   "metadata": {},
   "outputs": [],
   "source": [
    "petrol=bikes[bikes['Fuel Type']=='Petrol']"
   ]
  },
  {
   "cell_type": "code",
   "execution_count": 618,
   "id": "7abca412",
   "metadata": {},
   "outputs": [],
   "source": [
    "electric=bikes[bikes['Fuel Type']=='Electric']"
   ]
  },
  {
   "cell_type": "code",
   "execution_count": 620,
   "id": "67f987bf",
   "metadata": {},
   "outputs": [],
   "source": [
    "petrol['Weight']=petrol[petrol['Fuel Type']=='Petrol']['Weight'].fillna(value=179.361875)"
   ]
  },
  {
   "cell_type": "code",
   "execution_count": 622,
   "id": "91fa31a8",
   "metadata": {},
   "outputs": [],
   "source": [
    "electric['Weight']=electric[electric['Fuel Type']=='Electric']['Weight'].fillna(value=122.60000)"
   ]
  },
  {
   "cell_type": "code",
   "execution_count": 625,
   "id": "6b14e500",
   "metadata": {},
   "outputs": [],
   "source": [
    "bikes=pd.concat([petrol,electric])"
   ]
  },
  {
   "cell_type": "code",
   "execution_count": 626,
   "id": "47acd11f",
   "metadata": {},
   "outputs": [
    {
     "data": {
      "text/html": [
       "<div>\n",
       "<style scoped>\n",
       "    .dataframe tbody tr th:only-of-type {\n",
       "        vertical-align: middle;\n",
       "    }\n",
       "\n",
       "    .dataframe tbody tr th {\n",
       "        vertical-align: top;\n",
       "    }\n",
       "\n",
       "    .dataframe thead th {\n",
       "        text-align: right;\n",
       "    }\n",
       "</style>\n",
       "<table border=\"1\" class=\"dataframe\">\n",
       "  <thead>\n",
       "    <tr style=\"text-align: right;\">\n",
       "      <th></th>\n",
       "      <th>Brand</th>\n",
       "      <th>Model</th>\n",
       "      <th>Ratings</th>\n",
       "      <th>Rated By</th>\n",
       "      <th>CC or Watt</th>\n",
       "      <th>Fuel Type</th>\n",
       "      <th>Start Price</th>\n",
       "      <th>Top Model Price</th>\n",
       "      <th>bhp</th>\n",
       "      <th>Weight</th>\n",
       "    </tr>\n",
       "  </thead>\n",
       "  <tbody>\n",
       "    <tr>\n",
       "      <th>35</th>\n",
       "      <td>Hero</td>\n",
       "      <td>Splendor iSmart</td>\n",
       "      <td>3.8</td>\n",
       "      <td>235.0</td>\n",
       "      <td>113.20</td>\n",
       "      <td>Petrol</td>\n",
       "      <td>67250.0</td>\n",
       "      <td>69450.00</td>\n",
       "      <td>9.15</td>\n",
       "      <td>117.000000</td>\n",
       "    </tr>\n",
       "    <tr>\n",
       "      <th>5</th>\n",
       "      <td>Honda</td>\n",
       "      <td>SP 125</td>\n",
       "      <td>4.0</td>\n",
       "      <td>610.0</td>\n",
       "      <td>124.00</td>\n",
       "      <td>Petrol</td>\n",
       "      <td>77145.0</td>\n",
       "      <td>81441.00</td>\n",
       "      <td>10.80</td>\n",
       "      <td>117.000000</td>\n",
       "    </tr>\n",
       "    <tr>\n",
       "      <th>33</th>\n",
       "      <td>Hero</td>\n",
       "      <td>Pleasure Plus</td>\n",
       "      <td>4.5</td>\n",
       "      <td>438.0</td>\n",
       "      <td>110.90</td>\n",
       "      <td>Petrol</td>\n",
       "      <td>58900.0</td>\n",
       "      <td>64100.00</td>\n",
       "      <td>8.10</td>\n",
       "      <td>104.000000</td>\n",
       "    </tr>\n",
       "    <tr>\n",
       "      <th>64</th>\n",
       "      <td>Okinawa</td>\n",
       "      <td>Lite</td>\n",
       "      <td>4.7</td>\n",
       "      <td>24.0</td>\n",
       "      <td>250.00</td>\n",
       "      <td>Electric</td>\n",
       "      <td>63990.0</td>\n",
       "      <td>NaN</td>\n",
       "      <td>NaN</td>\n",
       "      <td>122.600000</td>\n",
       "    </tr>\n",
       "    <tr>\n",
       "      <th>173</th>\n",
       "      <td>BMW</td>\n",
       "      <td>R 18</td>\n",
       "      <td>5.0</td>\n",
       "      <td>1.0</td>\n",
       "      <td>1802.00</td>\n",
       "      <td>Petrol</td>\n",
       "      <td>1990000.0</td>\n",
       "      <td>2400000.00</td>\n",
       "      <td>91.09</td>\n",
       "      <td>345.000000</td>\n",
       "    </tr>\n",
       "    <tr>\n",
       "      <th>172</th>\n",
       "      <td>BMW</td>\n",
       "      <td>S 1000 XR</td>\n",
       "      <td>5.0</td>\n",
       "      <td>1.0</td>\n",
       "      <td>999.00</td>\n",
       "      <td>Petrol</td>\n",
       "      <td>2130000.0</td>\n",
       "      <td>NaN</td>\n",
       "      <td>164.50</td>\n",
       "      <td>226.000000</td>\n",
       "    </tr>\n",
       "    <tr>\n",
       "      <th>70</th>\n",
       "      <td>Royal</td>\n",
       "      <td>Enfield Interceptor 650</td>\n",
       "      <td>4.2</td>\n",
       "      <td>453.0</td>\n",
       "      <td>648.00</td>\n",
       "      <td>Petrol</td>\n",
       "      <td>275000.0</td>\n",
       "      <td>297000.00</td>\n",
       "      <td>47.65</td>\n",
       "      <td>202.000000</td>\n",
       "    </tr>\n",
       "    <tr>\n",
       "      <th>90</th>\n",
       "      <td>Bajaj</td>\n",
       "      <td>Dominar 250</td>\n",
       "      <td>4.3</td>\n",
       "      <td>166.0</td>\n",
       "      <td>248.77</td>\n",
       "      <td>Petrol</td>\n",
       "      <td>170000.0</td>\n",
       "      <td>NaN</td>\n",
       "      <td>NaN</td>\n",
       "      <td>180.000000</td>\n",
       "    </tr>\n",
       "    <tr>\n",
       "      <th>65</th>\n",
       "      <td>Li-ions</td>\n",
       "      <td>Elektrik Solutions Spock Electric Scooter</td>\n",
       "      <td>3.8</td>\n",
       "      <td>32.0</td>\n",
       "      <td>2000.00</td>\n",
       "      <td>Electric</td>\n",
       "      <td>65000.0</td>\n",
       "      <td>NaN</td>\n",
       "      <td>NaN</td>\n",
       "      <td>122.600000</td>\n",
       "    </tr>\n",
       "    <tr>\n",
       "      <th>181</th>\n",
       "      <td>Kawasaki</td>\n",
       "      <td>Ninja ZX-10R</td>\n",
       "      <td>4.4</td>\n",
       "      <td>59.0</td>\n",
       "      <td>998.00</td>\n",
       "      <td>Petrol</td>\n",
       "      <td>1499000.0</td>\n",
       "      <td>NaN</td>\n",
       "      <td>203.00</td>\n",
       "      <td>207.000000</td>\n",
       "    </tr>\n",
       "    <tr>\n",
       "      <th>187</th>\n",
       "      <td>Kawasaki</td>\n",
       "      <td>Z H2</td>\n",
       "      <td>5.0</td>\n",
       "      <td>1.0</td>\n",
       "      <td>998.00</td>\n",
       "      <td>Petrol</td>\n",
       "      <td>2190000.0</td>\n",
       "      <td>2590000.00</td>\n",
       "      <td>200.00</td>\n",
       "      <td>239.000000</td>\n",
       "    </tr>\n",
       "    <tr>\n",
       "      <th>167</th>\n",
       "      <td>BMW</td>\n",
       "      <td>R NineT Scrambler</td>\n",
       "      <td>5.0</td>\n",
       "      <td>1.0</td>\n",
       "      <td>1170.00</td>\n",
       "      <td>Petrol</td>\n",
       "      <td>1675000.0</td>\n",
       "      <td>NaN</td>\n",
       "      <td>108.77</td>\n",
       "      <td>223.000000</td>\n",
       "    </tr>\n",
       "    <tr>\n",
       "      <th>156</th>\n",
       "      <td>Triumph</td>\n",
       "      <td>Bonneville Speedmaster</td>\n",
       "      <td>4.8</td>\n",
       "      <td>2.0</td>\n",
       "      <td>1200.00</td>\n",
       "      <td>Petrol</td>\n",
       "      <td>1175000.0</td>\n",
       "      <td>NaN</td>\n",
       "      <td>NaN</td>\n",
       "      <td>179.361875</td>\n",
       "    </tr>\n",
       "    <tr>\n",
       "      <th>11</th>\n",
       "      <td>Bajaj</td>\n",
       "      <td>Pulsar 150</td>\n",
       "      <td>4.0</td>\n",
       "      <td>7053.0</td>\n",
       "      <td>149.50</td>\n",
       "      <td>Petrol</td>\n",
       "      <td>95872.0</td>\n",
       "      <td>1.04</td>\n",
       "      <td>NaN</td>\n",
       "      <td>150.000000</td>\n",
       "    </tr>\n",
       "    <tr>\n",
       "      <th>212</th>\n",
       "      <td>Okinawa</td>\n",
       "      <td>iPraise</td>\n",
       "      <td>3.5</td>\n",
       "      <td>48.0</td>\n",
       "      <td>2500.00</td>\n",
       "      <td>Electric</td>\n",
       "      <td>108000.0</td>\n",
       "      <td>NaN</td>\n",
       "      <td>NaN</td>\n",
       "      <td>122.600000</td>\n",
       "    </tr>\n",
       "    <tr>\n",
       "      <th>125</th>\n",
       "      <td>Suzuki</td>\n",
       "      <td>Gixxer 250</td>\n",
       "      <td>4.4</td>\n",
       "      <td>54.0</td>\n",
       "      <td>249.00</td>\n",
       "      <td>Petrol</td>\n",
       "      <td>167000.0</td>\n",
       "      <td>NaN</td>\n",
       "      <td>26.50</td>\n",
       "      <td>156.000000</td>\n",
       "    </tr>\n",
       "    <tr>\n",
       "      <th>183</th>\n",
       "      <td>Kawasaki</td>\n",
       "      <td>Ninja 1000SX</td>\n",
       "      <td>4.1</td>\n",
       "      <td>42.0</td>\n",
       "      <td>1043.00</td>\n",
       "      <td>Petrol</td>\n",
       "      <td>1129000.0</td>\n",
       "      <td>NaN</td>\n",
       "      <td>142.00</td>\n",
       "      <td>238.000000</td>\n",
       "    </tr>\n",
       "    <tr>\n",
       "      <th>68</th>\n",
       "      <td>Royal</td>\n",
       "      <td>Enfield Himalayan</td>\n",
       "      <td>4.3</td>\n",
       "      <td>371.0</td>\n",
       "      <td>411.00</td>\n",
       "      <td>Petrol</td>\n",
       "      <td>201000.0</td>\n",
       "      <td>208000.00</td>\n",
       "      <td>24.31</td>\n",
       "      <td>199.000000</td>\n",
       "    </tr>\n",
       "    <tr>\n",
       "      <th>206</th>\n",
       "      <td>Benelli</td>\n",
       "      <td>TRK 502</td>\n",
       "      <td>4.7</td>\n",
       "      <td>14.0</td>\n",
       "      <td>500.00</td>\n",
       "      <td>Petrol</td>\n",
       "      <td>485000.0</td>\n",
       "      <td>535000.00</td>\n",
       "      <td>47.50</td>\n",
       "      <td>179.361875</td>\n",
       "    </tr>\n",
       "    <tr>\n",
       "      <th>179</th>\n",
       "      <td>Kawasaki</td>\n",
       "      <td>2021 Ninja H2</td>\n",
       "      <td>4.3</td>\n",
       "      <td>44.0</td>\n",
       "      <td>998.00</td>\n",
       "      <td>Petrol</td>\n",
       "      <td>7990000.0</td>\n",
       "      <td>NaN</td>\n",
       "      <td>310.00</td>\n",
       "      <td>238.000000</td>\n",
       "    </tr>\n",
       "  </tbody>\n",
       "</table>\n",
       "</div>"
      ],
      "text/plain": [
       "        Brand                                       Model  Ratings  Rated By  \\\n",
       "35       Hero                             Splendor iSmart      3.8     235.0   \n",
       "5       Honda                                      SP 125      4.0     610.0   \n",
       "33       Hero                               Pleasure Plus      4.5     438.0   \n",
       "64    Okinawa                                        Lite      4.7      24.0   \n",
       "173       BMW                                        R 18      5.0       1.0   \n",
       "172       BMW                                   S 1000 XR      5.0       1.0   \n",
       "70      Royal                     Enfield Interceptor 650      4.2     453.0   \n",
       "90      Bajaj                                 Dominar 250      4.3     166.0   \n",
       "65    Li-ions   Elektrik Solutions Spock Electric Scooter      3.8      32.0   \n",
       "181  Kawasaki                                Ninja ZX-10R      4.4      59.0   \n",
       "187  Kawasaki                                        Z H2      5.0       1.0   \n",
       "167       BMW                           R NineT Scrambler      5.0       1.0   \n",
       "156   Triumph                      Bonneville Speedmaster      4.8       2.0   \n",
       "11      Bajaj                                  Pulsar 150      4.0    7053.0   \n",
       "212   Okinawa                                     iPraise      3.5      48.0   \n",
       "125    Suzuki                                  Gixxer 250      4.4      54.0   \n",
       "183  Kawasaki                                Ninja 1000SX      4.1      42.0   \n",
       "68      Royal                           Enfield Himalayan      4.3     371.0   \n",
       "206   Benelli                                     TRK 502      4.7      14.0   \n",
       "179  Kawasaki                               2021 Ninja H2      4.3      44.0   \n",
       "\n",
       "     CC or Watt Fuel Type  Start Price  Top Model Price     bhp      Weight  \n",
       "35       113.20    Petrol      67250.0         69450.00    9.15  117.000000  \n",
       "5        124.00    Petrol      77145.0         81441.00   10.80  117.000000  \n",
       "33       110.90    Petrol      58900.0         64100.00    8.10  104.000000  \n",
       "64       250.00  Electric      63990.0              NaN     NaN  122.600000  \n",
       "173     1802.00    Petrol    1990000.0       2400000.00   91.09  345.000000  \n",
       "172      999.00    Petrol    2130000.0              NaN  164.50  226.000000  \n",
       "70       648.00    Petrol     275000.0        297000.00   47.65  202.000000  \n",
       "90       248.77    Petrol     170000.0              NaN     NaN  180.000000  \n",
       "65      2000.00  Electric      65000.0              NaN     NaN  122.600000  \n",
       "181      998.00    Petrol    1499000.0              NaN  203.00  207.000000  \n",
       "187      998.00    Petrol    2190000.0       2590000.00  200.00  239.000000  \n",
       "167     1170.00    Petrol    1675000.0              NaN  108.77  223.000000  \n",
       "156     1200.00    Petrol    1175000.0              NaN     NaN  179.361875  \n",
       "11       149.50    Petrol      95872.0             1.04     NaN  150.000000  \n",
       "212     2500.00  Electric     108000.0              NaN     NaN  122.600000  \n",
       "125      249.00    Petrol     167000.0              NaN   26.50  156.000000  \n",
       "183     1043.00    Petrol    1129000.0              NaN  142.00  238.000000  \n",
       "68       411.00    Petrol     201000.0        208000.00   24.31  199.000000  \n",
       "206      500.00    Petrol     485000.0        535000.00   47.50  179.361875  \n",
       "179      998.00    Petrol    7990000.0              NaN  310.00  238.000000  "
      ]
     },
     "execution_count": 626,
     "metadata": {},
     "output_type": "execute_result"
    }
   ],
   "source": [
    "bikes.sample(20)"
   ]
  },
  {
   "cell_type": "code",
   "execution_count": 627,
   "id": "8c4a9012",
   "metadata": {},
   "outputs": [
    {
     "data": {
      "text/plain": [
       "Brand                0\n",
       "Model                0\n",
       "Ratings              0\n",
       "Rated By             0\n",
       "CC or Watt           0\n",
       "Fuel Type            0\n",
       "Start Price          0\n",
       "Top Model Price    121\n",
       "bhp                 76\n",
       "Weight               0\n",
       "dtype: int64"
      ]
     },
     "execution_count": 627,
     "metadata": {},
     "output_type": "execute_result"
    }
   ],
   "source": [
    "bikes.isnull().sum()"
   ]
  },
  {
   "cell_type": "code",
   "execution_count": 628,
   "id": "9c8a5443",
   "metadata": {},
   "outputs": [],
   "source": [
    "bikes['bhp']=bikes[bikes['Fuel Type']=='Petrol']['bhp'].fillna(value=49.564526)"
   ]
  },
  {
   "cell_type": "code",
   "execution_count": 629,
   "id": "6d7a7bfa",
   "metadata": {},
   "outputs": [
    {
     "data": {
      "text/plain": [
       "Brand                0\n",
       "Model                0\n",
       "Ratings              0\n",
       "Rated By             0\n",
       "CC or Watt           0\n",
       "Fuel Type            0\n",
       "Start Price          0\n",
       "Top Model Price    121\n",
       "bhp                 27\n",
       "Weight               0\n",
       "dtype: int64"
      ]
     },
     "execution_count": 629,
     "metadata": {},
     "output_type": "execute_result"
    }
   ],
   "source": [
    "bikes.isnull().sum()"
   ]
  },
  {
   "cell_type": "code",
   "execution_count": 631,
   "id": "48085eda",
   "metadata": {},
   "outputs": [
    {
     "data": {
      "text/html": [
       "<div>\n",
       "<style scoped>\n",
       "    .dataframe tbody tr th:only-of-type {\n",
       "        vertical-align: middle;\n",
       "    }\n",
       "\n",
       "    .dataframe tbody tr th {\n",
       "        vertical-align: top;\n",
       "    }\n",
       "\n",
       "    .dataframe thead th {\n",
       "        text-align: right;\n",
       "    }\n",
       "</style>\n",
       "<table border=\"1\" class=\"dataframe\">\n",
       "  <thead>\n",
       "    <tr style=\"text-align: right;\">\n",
       "      <th></th>\n",
       "      <th>Brand</th>\n",
       "      <th>Model</th>\n",
       "      <th>Ratings</th>\n",
       "      <th>Rated By</th>\n",
       "      <th>CC or Watt</th>\n",
       "      <th>Fuel Type</th>\n",
       "      <th>Start Price</th>\n",
       "      <th>Top Model Price</th>\n",
       "      <th>bhp</th>\n",
       "      <th>Weight</th>\n",
       "    </tr>\n",
       "  </thead>\n",
       "  <tbody>\n",
       "    <tr>\n",
       "      <th>0</th>\n",
       "      <td>22Kymco</td>\n",
       "      <td>Flow</td>\n",
       "      <td>4.1</td>\n",
       "      <td>25.0</td>\n",
       "      <td>2100.0</td>\n",
       "      <td>Electric</td>\n",
       "      <td>74740.0</td>\n",
       "      <td>NaN</td>\n",
       "      <td>NaN</td>\n",
       "      <td>122.6</td>\n",
       "    </tr>\n",
       "    <tr>\n",
       "      <th>1</th>\n",
       "      <td>22Kymco</td>\n",
       "      <td>iFlow</td>\n",
       "      <td>3.7</td>\n",
       "      <td>7.0</td>\n",
       "      <td>2100.0</td>\n",
       "      <td>Electric</td>\n",
       "      <td>90000.0</td>\n",
       "      <td>NaN</td>\n",
       "      <td>NaN</td>\n",
       "      <td>122.6</td>\n",
       "    </tr>\n",
       "    <tr>\n",
       "      <th>19</th>\n",
       "      <td>Revolt</td>\n",
       "      <td>RV300</td>\n",
       "      <td>3.9</td>\n",
       "      <td>94.0</td>\n",
       "      <td>1500.0</td>\n",
       "      <td>Electric</td>\n",
       "      <td>94999.0</td>\n",
       "      <td>NaN</td>\n",
       "      <td>NaN</td>\n",
       "      <td>101.0</td>\n",
       "    </tr>\n",
       "    <tr>\n",
       "      <th>42</th>\n",
       "      <td>Hero</td>\n",
       "      <td>Electric Optima LA</td>\n",
       "      <td>3.6</td>\n",
       "      <td>38.0</td>\n",
       "      <td>250.0</td>\n",
       "      <td>Electric</td>\n",
       "      <td>44990.0</td>\n",
       "      <td>NaN</td>\n",
       "      <td>NaN</td>\n",
       "      <td>122.6</td>\n",
       "    </tr>\n",
       "    <tr>\n",
       "      <th>43</th>\n",
       "      <td>Hero</td>\n",
       "      <td>Electric Flash</td>\n",
       "      <td>3.4</td>\n",
       "      <td>44.0</td>\n",
       "      <td>250.0</td>\n",
       "      <td>Electric</td>\n",
       "      <td>39990.0</td>\n",
       "      <td>52990.0</td>\n",
       "      <td>NaN</td>\n",
       "      <td>122.6</td>\n",
       "    </tr>\n",
       "    <tr>\n",
       "      <th>44</th>\n",
       "      <td>Hero</td>\n",
       "      <td>Electric Optima HS500 ER</td>\n",
       "      <td>3.7</td>\n",
       "      <td>30.0</td>\n",
       "      <td>550.0</td>\n",
       "      <td>Electric</td>\n",
       "      <td>71990.0</td>\n",
       "      <td>NaN</td>\n",
       "      <td>NaN</td>\n",
       "      <td>122.6</td>\n",
       "    </tr>\n",
       "    <tr>\n",
       "      <th>45</th>\n",
       "      <td>Hero</td>\n",
       "      <td>Electric NYX</td>\n",
       "      <td>3.6</td>\n",
       "      <td>11.0</td>\n",
       "      <td>250.0</td>\n",
       "      <td>Electric</td>\n",
       "      <td>63990.0</td>\n",
       "      <td>79990.0</td>\n",
       "      <td>NaN</td>\n",
       "      <td>122.6</td>\n",
       "    </tr>\n",
       "    <tr>\n",
       "      <th>46</th>\n",
       "      <td>Hero</td>\n",
       "      <td>Electric Photon</td>\n",
       "      <td>3.1</td>\n",
       "      <td>21.0</td>\n",
       "      <td>1000.0</td>\n",
       "      <td>Electric</td>\n",
       "      <td>61866.0</td>\n",
       "      <td>72990.0</td>\n",
       "      <td>NaN</td>\n",
       "      <td>116.0</td>\n",
       "    </tr>\n",
       "    <tr>\n",
       "      <th>47</th>\n",
       "      <td>Hero</td>\n",
       "      <td>Electric Optima Li</td>\n",
       "      <td>3.2</td>\n",
       "      <td>12.0</td>\n",
       "      <td>550.0</td>\n",
       "      <td>Electric</td>\n",
       "      <td>61990.0</td>\n",
       "      <td>68721.0</td>\n",
       "      <td>NaN</td>\n",
       "      <td>122.6</td>\n",
       "    </tr>\n",
       "    <tr>\n",
       "      <th>48</th>\n",
       "      <td>Hero</td>\n",
       "      <td>Electric Dash</td>\n",
       "      <td>4.5</td>\n",
       "      <td>14.0</td>\n",
       "      <td>250.0</td>\n",
       "      <td>Electric</td>\n",
       "      <td>50000.0</td>\n",
       "      <td>62000.0</td>\n",
       "      <td>NaN</td>\n",
       "      <td>122.6</td>\n",
       "    </tr>\n",
       "    <tr>\n",
       "      <th>49</th>\n",
       "      <td>Hero</td>\n",
       "      <td>Electric Optima E5</td>\n",
       "      <td>4.0</td>\n",
       "      <td>21.0</td>\n",
       "      <td>550.0</td>\n",
       "      <td>Electric</td>\n",
       "      <td>66551.0</td>\n",
       "      <td>NaN</td>\n",
       "      <td>NaN</td>\n",
       "      <td>122.6</td>\n",
       "    </tr>\n",
       "    <tr>\n",
       "      <th>55</th>\n",
       "      <td>White</td>\n",
       "      <td>Carbon Motors O3</td>\n",
       "      <td>4.1</td>\n",
       "      <td>57.0</td>\n",
       "      <td>250.0</td>\n",
       "      <td>Electric</td>\n",
       "      <td>55900.0</td>\n",
       "      <td>NaN</td>\n",
       "      <td>NaN</td>\n",
       "      <td>122.6</td>\n",
       "    </tr>\n",
       "    <tr>\n",
       "      <th>56</th>\n",
       "      <td>Lohia</td>\n",
       "      <td>Oma Star</td>\n",
       "      <td>4.1</td>\n",
       "      <td>57.0</td>\n",
       "      <td>250.0</td>\n",
       "      <td>Electric</td>\n",
       "      <td>41444.0</td>\n",
       "      <td>NaN</td>\n",
       "      <td>NaN</td>\n",
       "      <td>122.6</td>\n",
       "    </tr>\n",
       "    <tr>\n",
       "      <th>57</th>\n",
       "      <td>Lohia</td>\n",
       "      <td>Oma Star Li</td>\n",
       "      <td>1.0</td>\n",
       "      <td>1.0</td>\n",
       "      <td>250.0</td>\n",
       "      <td>Electric</td>\n",
       "      <td>51750.0</td>\n",
       "      <td>NaN</td>\n",
       "      <td>NaN</td>\n",
       "      <td>122.6</td>\n",
       "    </tr>\n",
       "    <tr>\n",
       "      <th>58</th>\n",
       "      <td>YObykes</td>\n",
       "      <td>Drift</td>\n",
       "      <td>4.1</td>\n",
       "      <td>6.0</td>\n",
       "      <td>250.0</td>\n",
       "      <td>Electric</td>\n",
       "      <td>51000.0</td>\n",
       "      <td>NaN</td>\n",
       "      <td>NaN</td>\n",
       "      <td>122.6</td>\n",
       "    </tr>\n",
       "    <tr>\n",
       "      <th>59</th>\n",
       "      <td>YObykes</td>\n",
       "      <td>Edge</td>\n",
       "      <td>3.8</td>\n",
       "      <td>3.0</td>\n",
       "      <td>250.0</td>\n",
       "      <td>Electric</td>\n",
       "      <td>49000.0</td>\n",
       "      <td>NaN</td>\n",
       "      <td>NaN</td>\n",
       "      <td>122.6</td>\n",
       "    </tr>\n",
       "    <tr>\n",
       "      <th>60</th>\n",
       "      <td>Okinawa</td>\n",
       "      <td>PraisePro</td>\n",
       "      <td>3.5</td>\n",
       "      <td>32.0</td>\n",
       "      <td>2500.0</td>\n",
       "      <td>Electric</td>\n",
       "      <td>79277.0</td>\n",
       "      <td>NaN</td>\n",
       "      <td>NaN</td>\n",
       "      <td>122.6</td>\n",
       "    </tr>\n",
       "    <tr>\n",
       "      <th>61</th>\n",
       "      <td>Okinawa</td>\n",
       "      <td>R30</td>\n",
       "      <td>3.5</td>\n",
       "      <td>15.0</td>\n",
       "      <td>250.0</td>\n",
       "      <td>Electric</td>\n",
       "      <td>58992.0</td>\n",
       "      <td>NaN</td>\n",
       "      <td>NaN</td>\n",
       "      <td>122.6</td>\n",
       "    </tr>\n",
       "    <tr>\n",
       "      <th>62</th>\n",
       "      <td>Okinawa</td>\n",
       "      <td>Ridge</td>\n",
       "      <td>3.8</td>\n",
       "      <td>37.0</td>\n",
       "      <td>1700.0</td>\n",
       "      <td>Electric</td>\n",
       "      <td>73417.0</td>\n",
       "      <td>NaN</td>\n",
       "      <td>NaN</td>\n",
       "      <td>122.6</td>\n",
       "    </tr>\n",
       "    <tr>\n",
       "      <th>63</th>\n",
       "      <td>Okinawa</td>\n",
       "      <td>Dual</td>\n",
       "      <td>3.7</td>\n",
       "      <td>5.0</td>\n",
       "      <td>250.0</td>\n",
       "      <td>Electric</td>\n",
       "      <td>58992.0</td>\n",
       "      <td>NaN</td>\n",
       "      <td>NaN</td>\n",
       "      <td>122.6</td>\n",
       "    </tr>\n",
       "    <tr>\n",
       "      <th>64</th>\n",
       "      <td>Okinawa</td>\n",
       "      <td>Lite</td>\n",
       "      <td>4.7</td>\n",
       "      <td>24.0</td>\n",
       "      <td>250.0</td>\n",
       "      <td>Electric</td>\n",
       "      <td>63990.0</td>\n",
       "      <td>NaN</td>\n",
       "      <td>NaN</td>\n",
       "      <td>122.6</td>\n",
       "    </tr>\n",
       "    <tr>\n",
       "      <th>65</th>\n",
       "      <td>Li-ions</td>\n",
       "      <td>Elektrik Solutions Spock Electric Scooter</td>\n",
       "      <td>3.8</td>\n",
       "      <td>32.0</td>\n",
       "      <td>2000.0</td>\n",
       "      <td>Electric</td>\n",
       "      <td>65000.0</td>\n",
       "      <td>NaN</td>\n",
       "      <td>NaN</td>\n",
       "      <td>122.6</td>\n",
       "    </tr>\n",
       "    <tr>\n",
       "      <th>87</th>\n",
       "      <td>Bajaj</td>\n",
       "      <td>Chetak</td>\n",
       "      <td>4.1</td>\n",
       "      <td>124.0</td>\n",
       "      <td>4080.0</td>\n",
       "      <td>Electric</td>\n",
       "      <td>100000.0</td>\n",
       "      <td>115000.0</td>\n",
       "      <td>NaN</td>\n",
       "      <td>122.6</td>\n",
       "    </tr>\n",
       "    <tr>\n",
       "      <th>100</th>\n",
       "      <td>Revolt</td>\n",
       "      <td>RV400</td>\n",
       "      <td>4.1</td>\n",
       "      <td>393.0</td>\n",
       "      <td>3000.0</td>\n",
       "      <td>Electric</td>\n",
       "      <td>103000.0</td>\n",
       "      <td>118000.0</td>\n",
       "      <td>NaN</td>\n",
       "      <td>108.0</td>\n",
       "    </tr>\n",
       "    <tr>\n",
       "      <th>106</th>\n",
       "      <td>TVS</td>\n",
       "      <td>iQube Electric</td>\n",
       "      <td>4.0</td>\n",
       "      <td>47.0</td>\n",
       "      <td>4.4</td>\n",
       "      <td>Electric</td>\n",
       "      <td>100000.0</td>\n",
       "      <td>NaN</td>\n",
       "      <td>NaN</td>\n",
       "      <td>118.0</td>\n",
       "    </tr>\n",
       "    <tr>\n",
       "      <th>211</th>\n",
       "      <td>White</td>\n",
       "      <td>Carbon Motors GT5</td>\n",
       "      <td>4.1</td>\n",
       "      <td>57.0</td>\n",
       "      <td>3000.0</td>\n",
       "      <td>Electric</td>\n",
       "      <td>115000.0</td>\n",
       "      <td>NaN</td>\n",
       "      <td>NaN</td>\n",
       "      <td>170.0</td>\n",
       "    </tr>\n",
       "    <tr>\n",
       "      <th>212</th>\n",
       "      <td>Okinawa</td>\n",
       "      <td>iPraise</td>\n",
       "      <td>3.5</td>\n",
       "      <td>48.0</td>\n",
       "      <td>2500.0</td>\n",
       "      <td>Electric</td>\n",
       "      <td>108000.0</td>\n",
       "      <td>NaN</td>\n",
       "      <td>NaN</td>\n",
       "      <td>122.6</td>\n",
       "    </tr>\n",
       "  </tbody>\n",
       "</table>\n",
       "</div>"
      ],
      "text/plain": [
       "       Brand                                       Model  Ratings  Rated By  \\\n",
       "0    22Kymco                                        Flow      4.1      25.0   \n",
       "1    22Kymco                                       iFlow      3.7       7.0   \n",
       "19    Revolt                                       RV300      3.9      94.0   \n",
       "42      Hero                          Electric Optima LA      3.6      38.0   \n",
       "43      Hero                              Electric Flash      3.4      44.0   \n",
       "44      Hero                    Electric Optima HS500 ER      3.7      30.0   \n",
       "45      Hero                                Electric NYX      3.6      11.0   \n",
       "46      Hero                             Electric Photon      3.1      21.0   \n",
       "47      Hero                          Electric Optima Li      3.2      12.0   \n",
       "48      Hero                               Electric Dash      4.5      14.0   \n",
       "49      Hero                          Electric Optima E5      4.0      21.0   \n",
       "55     White                            Carbon Motors O3      4.1      57.0   \n",
       "56     Lohia                                    Oma Star      4.1      57.0   \n",
       "57     Lohia                                 Oma Star Li      1.0       1.0   \n",
       "58   YObykes                                       Drift      4.1       6.0   \n",
       "59   YObykes                                        Edge      3.8       3.0   \n",
       "60   Okinawa                                   PraisePro      3.5      32.0   \n",
       "61   Okinawa                                         R30      3.5      15.0   \n",
       "62   Okinawa                                       Ridge      3.8      37.0   \n",
       "63   Okinawa                                        Dual      3.7       5.0   \n",
       "64   Okinawa                                        Lite      4.7      24.0   \n",
       "65   Li-ions   Elektrik Solutions Spock Electric Scooter      3.8      32.0   \n",
       "87     Bajaj                                      Chetak      4.1     124.0   \n",
       "100   Revolt                                       RV400      4.1     393.0   \n",
       "106      TVS                              iQube Electric      4.0      47.0   \n",
       "211    White                           Carbon Motors GT5      4.1      57.0   \n",
       "212  Okinawa                                     iPraise      3.5      48.0   \n",
       "\n",
       "     CC or Watt Fuel Type  Start Price  Top Model Price  bhp  Weight  \n",
       "0        2100.0  Electric      74740.0              NaN  NaN   122.6  \n",
       "1        2100.0  Electric      90000.0              NaN  NaN   122.6  \n",
       "19       1500.0  Electric      94999.0              NaN  NaN   101.0  \n",
       "42        250.0  Electric      44990.0              NaN  NaN   122.6  \n",
       "43        250.0  Electric      39990.0          52990.0  NaN   122.6  \n",
       "44        550.0  Electric      71990.0              NaN  NaN   122.6  \n",
       "45        250.0  Electric      63990.0          79990.0  NaN   122.6  \n",
       "46       1000.0  Electric      61866.0          72990.0  NaN   116.0  \n",
       "47        550.0  Electric      61990.0          68721.0  NaN   122.6  \n",
       "48        250.0  Electric      50000.0          62000.0  NaN   122.6  \n",
       "49        550.0  Electric      66551.0              NaN  NaN   122.6  \n",
       "55        250.0  Electric      55900.0              NaN  NaN   122.6  \n",
       "56        250.0  Electric      41444.0              NaN  NaN   122.6  \n",
       "57        250.0  Electric      51750.0              NaN  NaN   122.6  \n",
       "58        250.0  Electric      51000.0              NaN  NaN   122.6  \n",
       "59        250.0  Electric      49000.0              NaN  NaN   122.6  \n",
       "60       2500.0  Electric      79277.0              NaN  NaN   122.6  \n",
       "61        250.0  Electric      58992.0              NaN  NaN   122.6  \n",
       "62       1700.0  Electric      73417.0              NaN  NaN   122.6  \n",
       "63        250.0  Electric      58992.0              NaN  NaN   122.6  \n",
       "64        250.0  Electric      63990.0              NaN  NaN   122.6  \n",
       "65       2000.0  Electric      65000.0              NaN  NaN   122.6  \n",
       "87       4080.0  Electric     100000.0         115000.0  NaN   122.6  \n",
       "100      3000.0  Electric     103000.0         118000.0  NaN   108.0  \n",
       "106         4.4  Electric     100000.0              NaN  NaN   118.0  \n",
       "211      3000.0  Electric     115000.0              NaN  NaN   170.0  \n",
       "212      2500.0  Electric     108000.0              NaN  NaN   122.6  "
      ]
     },
     "execution_count": 631,
     "metadata": {},
     "output_type": "execute_result"
    }
   ],
   "source": [
    "bikes[bikes['bhp'].isna()]"
   ]
  },
  {
   "cell_type": "markdown",
   "id": "7758f2c2",
   "metadata": {},
   "source": [
    "## <span style='background :red' > The missing bikes are electric bikes, They don't have a bhp so it is Okay"
   ]
  },
  {
   "cell_type": "markdown",
   "id": "14dc146f",
   "metadata": {},
   "source": [
    "# Thank you"
   ]
  },
  {
   "cell_type": "code",
   "execution_count": null,
   "id": "8c407ec5",
   "metadata": {},
   "outputs": [],
   "source": []
  }
 ],
 "metadata": {
  "kernelspec": {
   "display_name": "Python 3",
   "language": "python",
   "name": "python3"
  },
  "language_info": {
   "codemirror_mode": {
    "name": "ipython",
    "version": 3
   },
   "file_extension": ".py",
   "mimetype": "text/x-python",
   "name": "python",
   "nbconvert_exporter": "python",
   "pygments_lexer": "ipython3",
   "version": "3.8.8"
  }
 },
 "nbformat": 4,
 "nbformat_minor": 5
}
