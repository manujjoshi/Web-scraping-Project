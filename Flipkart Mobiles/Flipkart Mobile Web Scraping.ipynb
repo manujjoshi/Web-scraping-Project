{
 "cells": [
  {
   "cell_type": "markdown",
   "id": "ed61f168",
   "metadata": {},
   "source": [
    "# `Flipkart Mobile Web Scraping & EDA`"
   ]
  },
  {
   "cell_type": "code",
   "execution_count": 512,
   "id": "b28f61fe",
   "metadata": {},
   "outputs": [],
   "source": [
    "import pandas as pd\n",
    "import numpy as np\n",
    "import time\n",
    "import re\n",
    "import requests\n",
    "from bs4 import BeautifulSoup"
   ]
  },
  {
   "cell_type": "code",
   "execution_count": 513,
   "id": "d8c28cf8",
   "metadata": {},
   "outputs": [],
   "source": [
    "url='https://www.flipkart.com/search?q=mobile&otracker=search&otracker1=search&marketplace=FLIPKART&as-show=on&as=off'"
   ]
  },
  {
   "cell_type": "code",
   "execution_count": 514,
   "id": "87fc2b7f",
   "metadata": {},
   "outputs": [
    {
     "data": {
      "text/plain": [
       "200"
      ]
     },
     "execution_count": 514,
     "metadata": {},
     "output_type": "execute_result"
    }
   ],
   "source": [
    "phone_page=requests.get(url)\n",
    "phone_page.status_code"
   ]
  },
  {
   "cell_type": "code",
   "execution_count": 515,
   "id": "ce253850",
   "metadata": {},
   "outputs": [],
   "source": [
    "page_content=phone_page.text"
   ]
  },
  {
   "cell_type": "code",
   "execution_count": 516,
   "id": "529e41da",
   "metadata": {},
   "outputs": [],
   "source": [
    "soup=BeautifulSoup(page_content)"
   ]
  },
  {
   "cell_type": "code",
   "execution_count": 517,
   "id": "96cd7771",
   "metadata": {},
   "outputs": [
    {
     "data": {
      "text/plain": [
       "[<a class=\"s1Q9rs\" href=\"/realme-c21-cross-blue-64-gb/p/itmf4062d3f37c1a?pid=MOBGF4895YRNAHFZ&amp;lid=LSTMOBGF4895YRNAHFZ3XABXU&amp;marketplace=FLIPKART&amp;q=mobile&amp;store=tyy&amp;srno=s_1_1&amp;otracker=search&amp;otracker1=search&amp;fm=organic&amp;iid=e5c93747-7286-4bc7-b027-f2cb70c38399.MOBGF4895YRNAHFZ.SEARCH&amp;ppt=None&amp;ppn=None&amp;ssid=hab7fjovr40000001623649477896&amp;qH=532c28d5412dd75b\" rel=\"noopener noreferrer\" target=\"_blank\" title=\"realme C21 (Cross Blue, 64 GB)\">realme C21 (Cross Blue, 64 GB)</a>,\n",
       " <a class=\"s1Q9rs\" href=\"/realme-c21-cross-black-64-gb/p/itmf4062d3f37c1a?pid=MOBGF489G9HRWFZ9&amp;lid=LSTMOBGF489G9HRWFZ9BYFZCR&amp;marketplace=FLIPKART&amp;q=mobile&amp;store=tyy&amp;srno=s_1_2&amp;otracker=search&amp;otracker1=search&amp;fm=organic&amp;iid=e5c93747-7286-4bc7-b027-f2cb70c38399.MOBGF489G9HRWFZ9.SEARCH&amp;ppt=None&amp;ppn=None&amp;ssid=hab7fjovr40000001623649477896&amp;qH=532c28d5412dd75b\" rel=\"noopener noreferrer\" target=\"_blank\" title=\"realme C21 (Cross Black, 64 GB)\">realme C21 (Cross Black, 64 GB)</a>,\n",
       " <a class=\"s1Q9rs\" href=\"/realme-c20-cool-blue-32-gb/p/itmea1903897436b?pid=MOBGF4894MEWZJGV&amp;lid=LSTMOBGF4894MEWZJGVW425N5&amp;marketplace=FLIPKART&amp;q=mobile&amp;store=tyy&amp;srno=s_1_3&amp;otracker=search&amp;otracker1=search&amp;fm=organic&amp;iid=e5c93747-7286-4bc7-b027-f2cb70c38399.MOBGF4894MEWZJGV.SEARCH&amp;ppt=None&amp;ppn=None&amp;ssid=hab7fjovr40000001623649477896&amp;qH=532c28d5412dd75b\" rel=\"noopener noreferrer\" target=\"_blank\" title=\"realme C20 (Cool Blue, 32 GB)\">realme C20 (Cool Blue, 32 GB)</a>,\n",
       " <a class=\"s1Q9rs\" href=\"/realme-c20-cool-grey-32-gb/p/itmea1903897436b?pid=MOBGF489SQZCFHYA&amp;lid=LSTMOBGF489SQZCFHYAGB7SDS&amp;marketplace=FLIPKART&amp;q=mobile&amp;store=tyy&amp;srno=s_1_4&amp;otracker=search&amp;otracker1=search&amp;fm=organic&amp;iid=e5c93747-7286-4bc7-b027-f2cb70c38399.MOBGF489SQZCFHYA.SEARCH&amp;ppt=None&amp;ppn=None&amp;ssid=hab7fjovr40000001623649477896&amp;qH=532c28d5412dd75b\" rel=\"noopener noreferrer\" target=\"_blank\" title=\"realme C20 (Cool Grey, 32 GB)\">realme C20 (Cool Grey, 32 GB)</a>,\n",
       " <a class=\"s1Q9rs\" href=\"/redmi-9i-midnight-black-64-gb/p/itm0e1018dac2627?pid=MOBFV8RYKWQ3HACE&amp;lid=LSTMOBFV8RYKWQ3HACEV2QOWQ&amp;marketplace=FLIPKART&amp;q=mobile&amp;store=tyy&amp;srno=s_1_5&amp;otracker=search&amp;otracker1=search&amp;fm=organic&amp;iid=e5c93747-7286-4bc7-b027-f2cb70c38399.MOBFV8RYKWQ3HACE.SEARCH&amp;ppt=None&amp;ppn=None&amp;ssid=hab7fjovr40000001623649477896&amp;qH=532c28d5412dd75b\" rel=\"noopener noreferrer\" target=\"_blank\" title=\"REDMI 9i (Midnight Black, 64 GB)\">REDMI 9i (Midnight Black, 64 GB)</a>,\n",
       " <a class=\"s1Q9rs\" href=\"/poco-m3-power-black-64-gb/p/itmb49cc10841be2?pid=MOBFZTCUTAYPJHHR&amp;lid=LSTMOBFZTCUTAYPJHHR2ZVC1N&amp;marketplace=FLIPKART&amp;q=mobile&amp;store=tyy&amp;srno=s_1_6&amp;otracker=search&amp;otracker1=search&amp;fm=organic&amp;iid=e5c93747-7286-4bc7-b027-f2cb70c38399.MOBFZTCUTAYPJHHR.SEARCH&amp;ppt=None&amp;ppn=None&amp;ssid=hab7fjovr40000001623649477896&amp;qH=532c28d5412dd75b\" rel=\"noopener noreferrer\" target=\"_blank\" title=\"POCO M3 (Power Black, 64 GB)\">POCO M3 (Power Black, 64 GB)</a>,\n",
       " <a class=\"s1Q9rs\" href=\"/realme-narzo-30a-laser-black-32-gb/p/itma78aeb1d764b5?pid=MOBGYFAXAUENZFU3&amp;lid=LSTMOBGYFAXAUENZFU3JULWX9&amp;marketplace=FLIPKART&amp;q=mobile&amp;store=tyy&amp;srno=s_1_7&amp;otracker=search&amp;otracker1=search&amp;fm=organic&amp;iid=e5c93747-7286-4bc7-b027-f2cb70c38399.MOBGYFAXAUENZFU3.SEARCH&amp;ppt=None&amp;ppn=None&amp;ssid=hab7fjovr40000001623649477896&amp;qH=532c28d5412dd75b\" rel=\"noopener noreferrer\" target=\"_blank\" title=\"realme Narzo 30A (Laser Black, 32 GB)\">realme Narzo 30A (Laser Black, 32 GB)</a>,\n",
       " <a class=\"s1Q9rs\" href=\"/realme-narzo-30a-laser-blue-32-gb/p/itma78aeb1d764b5?pid=MOBGYFAXFQYTPYEF&amp;lid=LSTMOBGYFAXFQYTPYEFHEOYGJ&amp;marketplace=FLIPKART&amp;q=mobile&amp;store=tyy&amp;srno=s_1_8&amp;otracker=search&amp;otracker1=search&amp;fm=organic&amp;iid=e5c93747-7286-4bc7-b027-f2cb70c38399.MOBGYFAXFQYTPYEF.SEARCH&amp;ppt=None&amp;ppn=None&amp;ssid=hab7fjovr40000001623649477896&amp;qH=532c28d5412dd75b\" rel=\"noopener noreferrer\" target=\"_blank\" title=\"realme Narzo 30A (Laser Blue, 32 GB)\">realme Narzo 30A (Laser Blue, 32 GB)</a>,\n",
       " <a class=\"s1Q9rs\" href=\"/realme-narzo-30a-laser-black-64-gb/p/itma78aeb1d764b5?pid=MOBGYFAXVHTZUGW6&amp;lid=LSTMOBGYFAXVHTZUGW67OZ3AA&amp;marketplace=FLIPKART&amp;q=mobile&amp;store=tyy&amp;spotlightTagId=BestsellerId_tyy&amp;srno=s_1_9&amp;otracker=search&amp;otracker1=search&amp;fm=organic&amp;iid=e5c93747-7286-4bc7-b027-f2cb70c38399.MOBGYFAXVHTZUGW6.SEARCH&amp;ppt=None&amp;ppn=None&amp;ssid=hab7fjovr40000001623649477896&amp;qH=532c28d5412dd75b\" rel=\"noopener noreferrer\" target=\"_blank\" title=\"realme Narzo 30A (Laser Black, 64 GB)\">realme Narzo 30A (Laser Black, 64 GB)</a>,\n",
       " <a class=\"s1Q9rs\" href=\"/poco-m3-cool-blue-64-gb/p/itmc8ec867cb0472?pid=MOBFZTCUDDCTDN3G&amp;lid=LSTMOBFZTCUDDCTDN3GJBLKQ8&amp;marketplace=FLIPKART&amp;q=mobile&amp;store=tyy&amp;srno=s_1_10&amp;otracker=search&amp;otracker1=search&amp;fm=organic&amp;iid=e5c93747-7286-4bc7-b027-f2cb70c38399.MOBFZTCUDDCTDN3G.SEARCH&amp;ppt=None&amp;ppn=None&amp;ssid=hab7fjovr40000001623649477896&amp;qH=532c28d5412dd75b\" rel=\"noopener noreferrer\" target=\"_blank\" title=\"POCO M3 (Cool Blue, 64 GB)\">POCO M3 (Cool Blue, 64 GB)</a>,\n",
       " <a class=\"s1Q9rs\" href=\"/redmi-9-power-electric-green-64-gb/p/itmca7d78e222ed7?pid=MOBFYZ7AVAXXB2TH&amp;lid=LSTMOBFYZ7AVAXXB2THVSNL0U&amp;marketplace=FLIPKART&amp;q=mobile&amp;store=tyy&amp;srno=s_1_11&amp;otracker=search&amp;otracker1=search&amp;fm=organic&amp;iid=e5c93747-7286-4bc7-b027-f2cb70c38399.MOBFYZ7AVAXXB2TH.SEARCH&amp;ppt=None&amp;ppn=None&amp;ssid=hab7fjovr40000001623649477896&amp;qH=532c28d5412dd75b\" rel=\"noopener noreferrer\" target=\"_blank\" title=\"REDMI 9 Power (Electric Green, 64 GB)\">REDMI 9 Power (Electric Green, 64 GB)</a>,\n",
       " <a class=\"s1Q9rs\" href=\"/infinix-smart-5-morandi-green-32-gb/p/itm8d968c7fe7d88?pid=MOBFZX3H2ARU2GHY&amp;lid=LSTMOBFZX3H2ARU2GHY5J5UTT&amp;marketplace=FLIPKART&amp;q=mobile&amp;store=tyy&amp;srno=s_1_12&amp;otracker=search&amp;otracker1=search&amp;fm=organic&amp;iid=e5c93747-7286-4bc7-b027-f2cb70c38399.MOBFZX3H2ARU2GHY.SEARCH&amp;ppt=None&amp;ppn=None&amp;ssid=hab7fjovr40000001623649477896&amp;qH=532c28d5412dd75b\" rel=\"noopener noreferrer\" target=\"_blank\" title=\"Infinix Smart 5 (Morandi Green, 32 GB)\">Infinix Smart 5 (Morandi Green, 32 GB)</a>,\n",
       " <a class=\"s1Q9rs\" href=\"/infinix-smart-5-7-purple-32-gb/p/itm8d968c7fe7d88?pid=MOBFZX3HAVZ3KQFW&amp;lid=LSTMOBFZX3HAVZ3KQFWG0XKOM&amp;marketplace=FLIPKART&amp;q=mobile&amp;store=tyy&amp;srno=s_1_13&amp;otracker=search&amp;otracker1=search&amp;fm=organic&amp;iid=e5c93747-7286-4bc7-b027-f2cb70c38399.MOBFZX3HAVZ3KQFW.SEARCH&amp;ppt=None&amp;ppn=None&amp;ssid=hab7fjovr40000001623649477896&amp;qH=532c28d5412dd75b\" rel=\"noopener noreferrer\" target=\"_blank\" title=\"Infinix Smart 5 (7° Purple, 32 GB)\">Infinix Smart 5 (7° Purple, 32 GB)</a>,\n",
       " <a class=\"s1Q9rs\" href=\"/infinix-smart-5-obsidian-black-32-gb/p/itm8d968c7fe7d88?pid=MOBFZX3HGUMVY9ET&amp;lid=LSTMOBFZX3HGUMVY9ETQDQ5MK&amp;marketplace=FLIPKART&amp;q=mobile&amp;store=tyy&amp;srno=s_1_14&amp;otracker=search&amp;otracker1=search&amp;fm=organic&amp;iid=e5c93747-7286-4bc7-b027-f2cb70c38399.MOBFZX3HGUMVY9ET.SEARCH&amp;ppt=None&amp;ppn=None&amp;ssid=hab7fjovr40000001623649477896&amp;qH=532c28d5412dd75b\" rel=\"noopener noreferrer\" target=\"_blank\" title=\"Infinix Smart 5 (Obsidian Black, 32 GB)\">Infinix Smart 5 (Obsidian Black, 32 GB)</a>,\n",
       " <a class=\"s1Q9rs\" href=\"/infinix-smart-5-aegean-blue-32-gb/p/itm8d968c7fe7d88?pid=MOBFZX3HUEEMQUPZ&amp;lid=LSTMOBFZX3HUEEMQUPZT01YKM&amp;marketplace=FLIPKART&amp;q=mobile&amp;store=tyy&amp;srno=s_1_15&amp;otracker=search&amp;otracker1=search&amp;fm=organic&amp;iid=e5c93747-7286-4bc7-b027-f2cb70c38399.MOBFZX3HUEEMQUPZ.SEARCH&amp;ppt=None&amp;ppn=None&amp;ssid=hab7fjovr40000001623649477896&amp;qH=532c28d5412dd75b\" rel=\"noopener noreferrer\" target=\"_blank\" title=\"Infinix Smart 5 (Aegean Blue, 32 GB)\">Infinix Smart 5 (Aegean Blue, 32 GB)</a>,\n",
       " <a class=\"s1Q9rs\" href=\"/redmi-note-9-pebble-grey-64-gb/p/itmb9c65ffe0ee74?pid=MOBFU3ZFQ3GAGANG&amp;lid=LSTMOBFU3ZFQ3GAGANG1QDSWB&amp;marketplace=FLIPKART&amp;q=mobile&amp;store=tyy&amp;srno=s_1_16&amp;otracker=search&amp;otracker1=search&amp;fm=organic&amp;iid=e5c93747-7286-4bc7-b027-f2cb70c38399.MOBFU3ZFQ3GAGANG.SEARCH&amp;ppt=None&amp;ppn=None&amp;ssid=hab7fjovr40000001623649477896&amp;qH=532c28d5412dd75b\" rel=\"noopener noreferrer\" target=\"_blank\" title=\"REDMI Note 9 (Pebble Grey, 64 GB)\">REDMI Note 9 (Pebble Grey, 64 GB)</a>,\n",
       " <a class=\"s1Q9rs\" href=\"/redmi-9i-nature-green-64-gb/p/itm2e2fcd7b3eb7b?pid=MOBFV8RYNA4FVEH7&amp;lid=LSTMOBFV8RYNA4FVEH7GEI6Y9&amp;marketplace=FLIPKART&amp;q=mobile&amp;store=tyy&amp;srno=s_1_17&amp;otracker=search&amp;otracker1=search&amp;fm=organic&amp;iid=e5c93747-7286-4bc7-b027-f2cb70c38399.MOBFV8RYNA4FVEH7.SEARCH&amp;ppt=None&amp;ppn=None&amp;ssid=hab7fjovr40000001623649477896&amp;qH=532c28d5412dd75b\" rel=\"noopener noreferrer\" target=\"_blank\" title=\"REDMI 9i (Nature Green, 64 GB)\">REDMI 9i (Nature Green, 64 GB)</a>,\n",
       " <a class=\"s1Q9rs\" href=\"/gionee-max-red-32-gb/p/itm9c57c2a56c825?pid=MOBFUPX9KHUXY9HZ&amp;lid=LSTMOBFUPX9KHUXY9HZD02LUV&amp;marketplace=FLIPKART&amp;q=mobile&amp;store=tyy&amp;srno=s_1_18&amp;otracker=search&amp;otracker1=search&amp;fm=organic&amp;iid=e5c93747-7286-4bc7-b027-f2cb70c38399.MOBFUPX9KHUXY9HZ.SEARCH&amp;ppt=None&amp;ppn=None&amp;ssid=hab7fjovr40000001623649477896&amp;qH=532c28d5412dd75b\" rel=\"noopener noreferrer\" target=\"_blank\" title=\"GIONEE Max (Red, 32 GB)\">GIONEE Max (Red, 32 GB)</a>,\n",
       " <a class=\"s1Q9rs\" href=\"/samsung-galaxy-f12-sky-blue-64-gb/p/itm0319ce24f74aa?pid=MOBGFG79BVGDHGWV&amp;lid=LSTMOBGFG79BVGDHGWVGF2CRI&amp;marketplace=FLIPKART&amp;q=mobile&amp;store=tyy&amp;srno=s_1_19&amp;otracker=search&amp;otracker1=search&amp;fm=organic&amp;iid=e5c93747-7286-4bc7-b027-f2cb70c38399.MOBGFG79BVGDHGWV.SEARCH&amp;ppt=None&amp;ppn=None&amp;ssid=hab7fjovr40000001623649477896&amp;qH=532c28d5412dd75b\" rel=\"noopener noreferrer\" target=\"_blank\" title=\"SAMSUNG Galaxy F12 (Sky Blue, 64 GB)\">SAMSUNG Galaxy F12 (Sky Blue, 64 GB)</a>,\n",
       " <a class=\"s1Q9rs\" href=\"/realme-c12-power-blue-32-gb/p/itm4854d77becc77?pid=MOBFUEPQHDPFKKQT&amp;lid=LSTMOBFUEPQHDPFKKQTOJZTNE&amp;marketplace=FLIPKART&amp;q=mobile&amp;store=tyy&amp;srno=s_1_20&amp;otracker=search&amp;otracker1=search&amp;fm=organic&amp;iid=e5c93747-7286-4bc7-b027-f2cb70c38399.MOBFUEPQHDPFKKQT.SEARCH&amp;ppt=None&amp;ppn=None&amp;ssid=hab7fjovr40000001623649477896&amp;qH=532c28d5412dd75b\" rel=\"noopener noreferrer\" target=\"_blank\" title=\"realme C12 (Power Blue, 32 GB)\">realme C12 (Power Blue, 32 GB)</a>,\n",
       " <a class=\"s1Q9rs\" href=\"/oppo-a12-flowing-silver-64-gb/p/itmfc859cdf39e01?pid=MOBGYX8ETQGZZZ27&amp;lid=LSTMOBGYX8ETQGZZZ27QDVWBW&amp;marketplace=FLIPKART&amp;q=mobile&amp;store=tyy&amp;srno=s_1_21&amp;otracker=search&amp;otracker1=search&amp;fm=organic&amp;iid=e5c93747-7286-4bc7-b027-f2cb70c38399.MOBGYX8ETQGZZZ27.SEARCH&amp;ppt=None&amp;ppn=None&amp;ssid=hab7fjovr40000001623649477896&amp;qH=532c28d5412dd75b\" rel=\"noopener noreferrer\" target=\"_blank\" title=\"OPPO A12 (Flowing Silver, 64 GB)\">OPPO A12 (Flowing Silver, 64 GB)</a>,\n",
       " <a class=\"s1Q9rs\" href=\"/oppo-a12-black-32-gb/p/itmfc859cdf39e01?pid=MOBFSDDJSMYQY6RS&amp;lid=LSTMOBFSDDJSMYQY6RSCQ8BHN&amp;marketplace=FLIPKART&amp;q=mobile&amp;store=tyy&amp;srno=s_1_22&amp;otracker=search&amp;otracker1=search&amp;fm=organic&amp;iid=e5c93747-7286-4bc7-b027-f2cb70c38399.MOBFSDDJSMYQY6RS.SEARCH&amp;ppt=None&amp;ppn=None&amp;ssid=hab7fjovr40000001623649477896&amp;qH=532c28d5412dd75b\" rel=\"noopener noreferrer\" target=\"_blank\" title=\"OPPO A12 (Black, 32 GB)\">OPPO A12 (Black, 32 GB)</a>,\n",
       " <a class=\"s1Q9rs\" href=\"/oppo-a12-blue-32-gb/p/itmfc859cdf39e01?pid=MOBFSDDJUUE7MQGG&amp;lid=LSTMOBFSDDJUUE7MQGGZKZAWH&amp;marketplace=FLIPKART&amp;q=mobile&amp;store=tyy&amp;srno=s_1_23&amp;otracker=search&amp;otracker1=search&amp;fm=organic&amp;iid=e5c93747-7286-4bc7-b027-f2cb70c38399.MOBFSDDJUUE7MQGG.SEARCH&amp;ppt=None&amp;ppn=None&amp;ssid=hab7fjovr40000001623649477896&amp;qH=532c28d5412dd75b\" rel=\"noopener noreferrer\" target=\"_blank\" title=\"OPPO A12 (Blue, 32 GB)\">OPPO A12 (Blue, 32 GB)</a>,\n",
       " <a class=\"s1Q9rs\" href=\"/oppo-a12-flowing-silver-32-gb/p/itmfc859cdf39e01?pid=MOBFZCPF4HDCZKVY&amp;lid=LSTMOBFZCPF4HDCZKVYPWOY4T&amp;marketplace=FLIPKART&amp;q=mobile&amp;store=tyy&amp;srno=s_1_24&amp;otracker=search&amp;otracker1=search&amp;fm=organic&amp;iid=e5c93747-7286-4bc7-b027-f2cb70c38399.MOBFZCPF4HDCZKVY.SEARCH&amp;ppt=None&amp;ppn=None&amp;ssid=hab7fjovr40000001623649477896&amp;qH=532c28d5412dd75b\" rel=\"noopener noreferrer\" target=\"_blank\" title=\"OPPO A12 (Flowing Silver, 32 GB)\">OPPO A12 (Flowing Silver, 32 GB)</a>,\n",
       " <a class=\"s1Q9rs\" href=\"/gionee-max-black-32-gb/p/itm9c57c2a56c825?pid=MOBFUPX9JR5PE7BB&amp;lid=LSTMOBFUPX9JR5PE7BBNYYNAH&amp;marketplace=FLIPKART&amp;q=mobile&amp;store=tyy&amp;srno=s_1_25&amp;otracker=search&amp;otracker1=search&amp;fm=organic&amp;iid=e5c93747-7286-4bc7-b027-f2cb70c38399.MOBFUPX9JR5PE7BB.SEARCH&amp;ppt=None&amp;ppn=None&amp;ssid=hab7fjovr40000001623649477896&amp;qH=532c28d5412dd75b\" rel=\"noopener noreferrer\" target=\"_blank\" title=\"GIONEE Max (Black, 32 GB)\">GIONEE Max (Black, 32 GB)</a>,\n",
       " <a class=\"s1Q9rs\" href=\"/redmi-9-power-mighty-black-64-gb/p/itm481ab234a6553?pid=MOBFYZ94UWPWQRNF&amp;lid=LSTMOBFYZ94UWPWQRNFD8SF5T&amp;marketplace=FLIPKART&amp;q=mobile&amp;store=tyy&amp;srno=s_1_26&amp;otracker=search&amp;otracker1=search&amp;fm=organic&amp;iid=e5c93747-7286-4bc7-b027-f2cb70c38399.MOBFYZ94UWPWQRNF.SEARCH&amp;ppt=None&amp;ppn=None&amp;ssid=hab7fjovr40000001623649477896&amp;qH=532c28d5412dd75b\" rel=\"noopener noreferrer\" target=\"_blank\" title=\"REDMI 9 Power (Mighty Black, 64 GB)\">REDMI 9 Power (Mighty Black, 64 GB)</a>,\n",
       " <a class=\"s1Q9rs\" href=\"/samsung-galaxy-f41-fusion-blue-128-gb/p/itm4769d0667cdf9?pid=MOBFV5PWG5MGD4CF&amp;lid=LSTMOBFV5PWG5MGD4CFZ8YQJZ&amp;marketplace=FLIPKART&amp;q=mobile&amp;store=tyy&amp;srno=s_1_27&amp;otracker=search&amp;otracker1=search&amp;fm=organic&amp;iid=e5c93747-7286-4bc7-b027-f2cb70c38399.MOBFV5PWG5MGD4CF.SEARCH&amp;ppt=None&amp;ppn=None&amp;ssid=hab7fjovr40000001623649477896&amp;qH=532c28d5412dd75b\" rel=\"noopener noreferrer\" target=\"_blank\" title=\"SAMSUNG Galaxy F41 (Fusion Blue, 128 GB)\">SAMSUNG Galaxy F41 (Fusion Blue, 128 GB)</a>,\n",
       " <a class=\"s1Q9rs\" href=\"/poco-m3-cool-blue-128-gb/p/itm037b84b46ce23?pid=MOBFZTCUAFE66VCK&amp;lid=LSTMOBFZTCUAFE66VCKGDC8RC&amp;marketplace=FLIPKART&amp;q=mobile&amp;store=tyy&amp;srno=s_1_28&amp;otracker=search&amp;otracker1=search&amp;fm=organic&amp;iid=e5c93747-7286-4bc7-b027-f2cb70c38399.MOBFZTCUAFE66VCK.SEARCH&amp;ppt=None&amp;ppn=None&amp;ssid=hab7fjovr40000001623649477896&amp;qH=532c28d5412dd75b\" rel=\"noopener noreferrer\" target=\"_blank\" title=\"POCO M3 (Cool Blue, 128 GB)\">POCO M3 (Cool Blue, 128 GB)</a>,\n",
       " <a class=\"s1Q9rs\" href=\"/poco-m2-reloaded-mostly-blue-64-gb/p/itmc50149a5b8e51?pid=MOBG25SQQBWTVPZS&amp;lid=LSTMOBG25SQQBWTVPZSAGDHGT&amp;marketplace=FLIPKART&amp;q=mobile&amp;store=tyy&amp;srno=s_1_29&amp;otracker=search&amp;otracker1=search&amp;fm=organic&amp;iid=e5c93747-7286-4bc7-b027-f2cb70c38399.MOBG25SQQBWTVPZS.SEARCH&amp;ppt=None&amp;ppn=None&amp;ssid=hab7fjovr40000001623649477896&amp;qH=532c28d5412dd75b\" rel=\"noopener noreferrer\" target=\"_blank\" title=\"POCO M2 Reloaded (Mostly Blue, 64 GB)\">POCO M2 Reloaded (Mostly Blue, 64 GB)</a>,\n",
       " <a class=\"s1Q9rs\" href=\"/realme-narzo-20-victory-blue-128-gb/p/itm4ac58d879006d?pid=MOBFVEATJGZZNHHA&amp;lid=LSTMOBFVEATJGZZNHHATT972L&amp;marketplace=FLIPKART&amp;q=mobile&amp;store=tyy&amp;srno=s_1_30&amp;otracker=search&amp;otracker1=search&amp;fm=organic&amp;iid=e5c93747-7286-4bc7-b027-f2cb70c38399.MOBFVEATJGZZNHHA.SEARCH&amp;ppt=None&amp;ppn=None&amp;ssid=hab7fjovr40000001623649477896&amp;qH=532c28d5412dd75b\" rel=\"noopener noreferrer\" target=\"_blank\" title=\"realme Narzo 20 (Victory Blue, 128 GB)\">realme Narzo 20 (Victory Blue, 128 GB)</a>,\n",
       " <a class=\"s1Q9rs\" href=\"/realme-8-5g-supersonic-blue-128-gb/p/itm8a548578d136e?pid=MOBG24GT8GPG3G2Y&amp;lid=LSTMOBG24GT8GPG3G2Y5MFCBN&amp;marketplace=FLIPKART&amp;q=mobile&amp;store=tyy&amp;srno=s_1_31&amp;otracker=search&amp;otracker1=search&amp;fm=organic&amp;iid=e5c93747-7286-4bc7-b027-f2cb70c38399.MOBG24GT8GPG3G2Y.SEARCH&amp;ppt=None&amp;ppn=None&amp;ssid=hab7fjovr40000001623649477896&amp;qH=532c28d5412dd75b\" rel=\"noopener noreferrer\" target=\"_blank\" title=\"realme 8 5G (Supersonic Blue, 128 GB)\">realme 8 5G (Supersonic Blue, 128 GB)</a>,\n",
       " <a class=\"s1Q9rs\" href=\"/realme-8-5g-supersonic-black-64-gb/p/itm8a548578d136e?pid=MOBG2CE4ZTA8VKWP&amp;lid=LSTMOBG2CE4ZTA8VKWP3CPGXC&amp;marketplace=FLIPKART&amp;q=mobile&amp;store=tyy&amp;srno=s_1_32&amp;otracker=search&amp;otracker1=search&amp;fm=organic&amp;iid=e5c93747-7286-4bc7-b027-f2cb70c38399.MOBG2CE4ZTA8VKWP.SEARCH&amp;ppt=None&amp;ppn=None&amp;ssid=hab7fjovr40000001623649477896&amp;qH=532c28d5412dd75b\" rel=\"noopener noreferrer\" target=\"_blank\" title=\"realme 8 5G (Supersonic Black, 64 GB)\">realme 8 5G (Supersonic Black, 64 GB)</a>,\n",
       " <a class=\"s1Q9rs\" href=\"/realme-8-5g-supersonic-blue-64-gb/p/itm8a548578d136e?pid=MOBG2CE4NAKFGHAE&amp;lid=LSTMOBG2CE4NAKFGHAEWPE9ZD&amp;marketplace=FLIPKART&amp;q=mobile&amp;store=tyy&amp;srno=s_1_33&amp;otracker=search&amp;otracker1=search&amp;fm=organic&amp;iid=e5c93747-7286-4bc7-b027-f2cb70c38399.MOBG2CE4NAKFGHAE.SEARCH&amp;ppt=None&amp;ppn=None&amp;ssid=hab7fjovr40000001623649477896&amp;qH=532c28d5412dd75b\" rel=\"noopener noreferrer\" target=\"_blank\" title=\"realme 8 5G (Supersonic Blue, 64 GB)\">realme 8 5G (Supersonic Blue, 64 GB)</a>,\n",
       " <a class=\"s1Q9rs\" href=\"/samsung-m31-ocean-blue-128-gb/p/itm3434b26d12b3e?pid=MOBFPNPSZYJXQZCM&amp;lid=LSTMOBFPNPSZYJXQZCMRZOMZ9&amp;marketplace=FLIPKART&amp;q=mobile&amp;store=tyy&amp;srno=s_1_34&amp;otracker=search&amp;otracker1=search&amp;fm=organic&amp;iid=e5c93747-7286-4bc7-b027-f2cb70c38399.MOBFPNPSZYJXQZCM.SEARCH&amp;ppt=None&amp;ppn=None&amp;ssid=hab7fjovr40000001623649477896&amp;qH=532c28d5412dd75b\" rel=\"noopener noreferrer\" target=\"_blank\" title=\"SAMSUNG M31 (Ocean Blue, 128 GB)\">SAMSUNG M31 (Ocean Blue, 128 GB)</a>,\n",
       " <a class=\"s1Q9rs\" href=\"/realme-c25-watery-blue-128-gb/p/itm62d25188ea98a?pid=MOBGFZ7VE45TEDSJ&amp;lid=LSTMOBGFZ7VE45TEDSJIA5ISK&amp;marketplace=FLIPKART&amp;q=mobile&amp;store=tyy&amp;srno=s_1_35&amp;otracker=search&amp;otracker1=search&amp;fm=organic&amp;iid=e5c93747-7286-4bc7-b027-f2cb70c38399.MOBGFZ7VE45TEDSJ.SEARCH&amp;ppt=None&amp;ppn=None&amp;ssid=hab7fjovr40000001623649477896&amp;qH=532c28d5412dd75b\" rel=\"noopener noreferrer\" target=\"_blank\" title=\"realme C25 (Watery Blue, 128 GB)\">realme C25 (Watery Blue, 128 GB)</a>,\n",
       " <a class=\"s1Q9rs\" href=\"/realme-c25-watery-grey-128-gb/p/itm62d25188ea98a?pid=MOBGFZ7VJXYTRF8W&amp;lid=LSTMOBGFZ7VJXYTRF8WQBNK2U&amp;marketplace=FLIPKART&amp;q=mobile&amp;store=tyy&amp;srno=s_1_36&amp;otracker=search&amp;otracker1=search&amp;fm=organic&amp;iid=e5c93747-7286-4bc7-b027-f2cb70c38399.MOBGFZ7VJXYTRF8W.SEARCH&amp;ppt=None&amp;ppn=None&amp;ssid=hab7fjovr40000001623649477896&amp;qH=532c28d5412dd75b\" rel=\"noopener noreferrer\" target=\"_blank\" title=\"realme C25 (Watery Grey, 128 GB)\">realme C25 (Watery Grey, 128 GB)</a>,\n",
       " <a class=\"s1Q9rs\" href=\"/redmi-9-power-blazing-blue-64-gb/p/itm9533b02ba34ef?pid=MOBFYZ7HHGJUATYD&amp;lid=LSTMOBFYZ7HHGJUATYDFYZRIS&amp;marketplace=FLIPKART&amp;q=mobile&amp;store=tyy&amp;srno=s_1_37&amp;otracker=search&amp;otracker1=search&amp;fm=organic&amp;iid=e5c93747-7286-4bc7-b027-f2cb70c38399.MOBFYZ7HHGJUATYD.SEARCH&amp;ppt=None&amp;ppn=None&amp;ssid=hab7fjovr40000001623649477896&amp;qH=532c28d5412dd75b\" rel=\"noopener noreferrer\" target=\"_blank\" title=\"REDMI 9 Power (Blazing Blue, 64 GB)\">REDMI 9 Power (Blazing Blue, 64 GB)</a>,\n",
       " <a class=\"s1Q9rs\" href=\"/motorola-e7-power-tahiti-blue-64-gb/p/itm93e064e6c1650?pid=MOBFVH62332YBPYH&amp;lid=LSTMOBFVH62332YBPYHSG4GTN&amp;marketplace=FLIPKART&amp;q=mobile&amp;store=tyy&amp;srno=s_1_38&amp;otracker=search&amp;otracker1=search&amp;fm=organic&amp;iid=e5c93747-7286-4bc7-b027-f2cb70c38399.MOBFVH62332YBPYH.SEARCH&amp;ppt=None&amp;ppn=None&amp;ssid=hab7fjovr40000001623649477896&amp;qH=532c28d5412dd75b\" rel=\"noopener noreferrer\" target=\"_blank\" title=\"MOTOROLA E7 Power (Tahiti Blue, 64 GB)\">MOTOROLA E7 Power (Tahiti Blue, 64 GB)</a>,\n",
       " <a class=\"s1Q9rs\" href=\"/infinix-hot-10-obsidian-black-64-gb/p/itm05a303fc89d2e?pid=MOBFVX6Y7DPSHEKZ&amp;lid=LSTMOBFVX6Y7DPSHEKZE7FXEC&amp;marketplace=FLIPKART&amp;q=mobile&amp;store=tyy&amp;srno=s_1_39&amp;otracker=search&amp;otracker1=search&amp;fm=organic&amp;iid=e5c93747-7286-4bc7-b027-f2cb70c38399.MOBFVX6Y7DPSHEKZ.SEARCH&amp;ppt=None&amp;ppn=None&amp;ssid=hab7fjovr40000001623649477896&amp;qH=532c28d5412dd75b\" rel=\"noopener noreferrer\" target=\"_blank\" title=\"Infinix Hot 10 (Obsidian Black, 64 GB)\">Infinix Hot 10 (Obsidian Black, 64 GB)</a>,\n",
       " <a class=\"s1Q9rs\" href=\"/infinix-hot-10-moonlight-jade-64-gb/p/itm05a303fc89d2e?pid=MOBFVX6YKTBGNRH8&amp;lid=LSTMOBFVX6YKTBGNRH8Z92BPO&amp;marketplace=FLIPKART&amp;q=mobile&amp;store=tyy&amp;srno=s_1_40&amp;otracker=search&amp;otracker1=search&amp;fm=organic&amp;iid=e5c93747-7286-4bc7-b027-f2cb70c38399.MOBFVX6YKTBGNRH8.SEARCH&amp;ppt=None&amp;ppn=None&amp;ssid=hab7fjovr40000001623649477896&amp;qH=532c28d5412dd75b\" rel=\"noopener noreferrer\" target=\"_blank\" title=\"Infinix Hot 10 (Moonlight Jade, 64 GB)\">Infinix Hot 10 (Moonlight Jade, 64 GB)</a>]"
      ]
     },
     "execution_count": 517,
     "metadata": {},
     "output_type": "execute_result"
    }
   ],
   "source": [
    "soup.find_all('a',attrs={'class':'s1Q9rs'})"
   ]
  },
  {
   "cell_type": "markdown",
   "id": "de4e7a67",
   "metadata": {},
   "source": [
    "## Data Cleaning"
   ]
  },
  {
   "cell_type": "code",
   "execution_count": 518,
   "id": "940a1604",
   "metadata": {},
   "outputs": [],
   "source": [
    "clean_phone_name=[]\n",
    "for x in soup.find_all('a',attrs={'class':'s1Q9rs'}):\n",
    "    clean_phone_name.append(x.text)"
   ]
  },
  {
   "cell_type": "code",
   "execution_count": 519,
   "id": "8e96a36d",
   "metadata": {},
   "outputs": [
    {
     "data": {
      "text/plain": [
       "['realme C21 (Cross Blue, 64 GB)',\n",
       " 'realme C21 (Cross Black, 64 GB)',\n",
       " 'realme C20 (Cool Blue, 32 GB)',\n",
       " 'realme C20 (Cool Grey, 32 GB)',\n",
       " 'REDMI 9i (Midnight Black, 64 GB)',\n",
       " 'POCO M3 (Power Black, 64 GB)',\n",
       " 'realme Narzo 30A (Laser Black, 32 GB)',\n",
       " 'realme Narzo 30A (Laser Blue, 32 GB)',\n",
       " 'realme Narzo 30A (Laser Black, 64 GB)',\n",
       " 'POCO M3 (Cool Blue, 64 GB)',\n",
       " 'REDMI 9 Power (Electric Green, 64 GB)',\n",
       " 'Infinix Smart 5 (Morandi Green, 32 GB)',\n",
       " 'Infinix Smart 5 (7° Purple, 32 GB)',\n",
       " 'Infinix Smart 5 (Obsidian Black, 32 GB)',\n",
       " 'Infinix Smart 5 (Aegean Blue, 32 GB)',\n",
       " 'REDMI Note 9 (Pebble Grey, 64 GB)',\n",
       " 'REDMI 9i (Nature Green, 64 GB)',\n",
       " 'GIONEE Max (Red, 32 GB)',\n",
       " 'SAMSUNG Galaxy F12 (Sky Blue, 64 GB)',\n",
       " 'realme C12 (Power Blue, 32 GB)',\n",
       " 'OPPO A12 (Flowing Silver, 64 GB)',\n",
       " 'OPPO A12 (Black, 32 GB)',\n",
       " 'OPPO A12 (Blue, 32 GB)',\n",
       " 'OPPO A12 (Flowing Silver, 32 GB)',\n",
       " 'GIONEE Max (Black, 32 GB)',\n",
       " 'REDMI 9 Power (Mighty Black, 64 GB)',\n",
       " 'SAMSUNG Galaxy F41 (Fusion Blue, 128 GB)',\n",
       " 'POCO M3 (Cool Blue, 128 GB)',\n",
       " 'POCO M2 Reloaded (Mostly Blue, 64 GB)',\n",
       " 'realme Narzo 20 (Victory Blue, 128 GB)',\n",
       " 'realme 8 5G (Supersonic Blue, 128 GB)',\n",
       " 'realme 8 5G (Supersonic Black, 64 GB)',\n",
       " 'realme 8 5G (Supersonic Blue, 64 GB)',\n",
       " 'SAMSUNG M31 (Ocean Blue, 128 GB)',\n",
       " 'realme C25 (Watery Blue, 128 GB)',\n",
       " 'realme C25 (Watery Grey, 128 GB)',\n",
       " 'REDMI 9 Power (Blazing Blue, 64 GB)',\n",
       " 'MOTOROLA E7 Power (Tahiti Blue, 64 GB)',\n",
       " 'Infinix Hot 10 (Obsidian Black, 64 GB)',\n",
       " 'Infinix Hot 10 (Moonlight Jade, 64 GB)']"
      ]
     },
     "execution_count": 519,
     "metadata": {},
     "output_type": "execute_result"
    }
   ],
   "source": [
    "clean_phone_name"
   ]
  },
  {
   "cell_type": "markdown",
   "id": "d434b9fb",
   "metadata": {},
   "source": [
    "## Extract multiple pages"
   ]
  },
  {
   "cell_type": "code",
   "execution_count": 520,
   "id": "cb13b37b",
   "metadata": {},
   "outputs": [],
   "source": [
    "product_description=[]\n",
    "ram=[]\n",
    "offers=[]\n",
    "ratings=[]\n",
    "exchange_offer=[]\n",
    "price=[]\n",
    "for i in range(25):\n",
    "    url=f'https://www.flipkart.com/search?q=mobile&otracker=search&otracker1=search&marketplace=FLIPKART&as-show=on&as=off&page={i}'   \n",
    "    response=requests.get(url)\n",
    "    content=response.text\n",
    "    soup=BeautifulSoup(content)\n",
    "    \n",
    "    for x in soup.find_all('div',attrs={'class':'_4ddWXP'}):\n",
    "        \n",
    "        info=x.find('a',attrs={'class':'s1Q9rs'})\n",
    "        r=x.find('div',attrs={'class':'_3Djpdu'})\n",
    "        offer=x.find('div',attrs={'class':'_3Ay6Sb'})\n",
    "        rating=x.find('div',attrs={'class':'_3LWZlK'})\n",
    "        exchange=x.find('div',attrs={'class':'_3xFhiH'})\n",
    "        cost=x.find('div',attrs={'class':'_30jeq3'})\n",
    "        \n",
    "        if info is None:\n",
    "            product_description.append(np.NaN)\n",
    "        else:\n",
    "            product_description.append(info.text)\n",
    "            \n",
    "        if r is None:\n",
    "            ram.append(np.NaN)\n",
    "        else:\n",
    "            ram.append(r.text)\n",
    "        if offer is None:\n",
    "            offers.append(np.NaN)\n",
    "        else:\n",
    "            offers.append(offer.text)\n",
    "        if rating is None:\n",
    "            ratings.append(np.NaN)\n",
    "        else:\n",
    "            ratings.append(rating.text)\n",
    "        if exchange is None:\n",
    "            exchange_offer.append(np.NaN)\n",
    "        else:\n",
    "            exchange_offer.append(exchange.text)\n",
    "        if cost is None:\n",
    "            price.append(np.NaN)\n",
    "        else:\n",
    "            price.append(cost.text)\n",
    "        \n",
    "    \n",
    "        \n",
    "        "
   ]
  },
  {
   "cell_type": "code",
   "execution_count": 521,
   "id": "f370f4c8",
   "metadata": {},
   "outputs": [],
   "source": [
    "data=pd.DataFrame({'Product Description':product_description,\n",
    "                   'RAM':ram,\n",
    "                   \"Ratings\":ratings,\n",
    "                   'Offers':offers,\n",
    "                   'Exchange Offer':exchange_offer,\n",
    "                   'Price':price\n",
    "                  })"
   ]
  },
  {
   "cell_type": "code",
   "execution_count": 522,
   "id": "13a51296",
   "metadata": {},
   "outputs": [
    {
     "data": {
      "text/html": [
       "<div>\n",
       "<style scoped>\n",
       "    .dataframe tbody tr th:only-of-type {\n",
       "        vertical-align: middle;\n",
       "    }\n",
       "\n",
       "    .dataframe tbody tr th {\n",
       "        vertical-align: top;\n",
       "    }\n",
       "\n",
       "    .dataframe thead th {\n",
       "        text-align: right;\n",
       "    }\n",
       "</style>\n",
       "<table border=\"1\" class=\"dataframe\">\n",
       "  <thead>\n",
       "    <tr style=\"text-align: right;\">\n",
       "      <th></th>\n",
       "      <th>Product Description</th>\n",
       "      <th>RAM</th>\n",
       "      <th>Ratings</th>\n",
       "      <th>Offers</th>\n",
       "      <th>Exchange Offer</th>\n",
       "      <th>Price</th>\n",
       "    </tr>\n",
       "  </thead>\n",
       "  <tbody>\n",
       "    <tr>\n",
       "      <th>0</th>\n",
       "      <td>realme C21 (Cross Blue, 64 GB)</td>\n",
       "      <td>4 GB RAM</td>\n",
       "      <td>4.4</td>\n",
       "      <td>18% off</td>\n",
       "      <td>NaN</td>\n",
       "      <td>₹8,999</td>\n",
       "    </tr>\n",
       "    <tr>\n",
       "      <th>1</th>\n",
       "      <td>realme C21 (Cross Black, 64 GB)</td>\n",
       "      <td>4 GB RAM</td>\n",
       "      <td>4.4</td>\n",
       "      <td>18% off</td>\n",
       "      <td>NaN</td>\n",
       "      <td>₹8,999</td>\n",
       "    </tr>\n",
       "    <tr>\n",
       "      <th>2</th>\n",
       "      <td>realme C20 (Cool Blue, 32 GB)</td>\n",
       "      <td>2 GB RAM</td>\n",
       "      <td>4.3</td>\n",
       "      <td>15% off</td>\n",
       "      <td>Upto ₹6,250 Off on Exchange</td>\n",
       "      <td>₹6,799</td>\n",
       "    </tr>\n",
       "    <tr>\n",
       "      <th>3</th>\n",
       "      <td>realme C20 (Cool Grey, 32 GB)</td>\n",
       "      <td>2 GB RAM</td>\n",
       "      <td>4.3</td>\n",
       "      <td>15% off</td>\n",
       "      <td>Upto ₹6,250 Off on Exchange</td>\n",
       "      <td>₹6,799</td>\n",
       "    </tr>\n",
       "    <tr>\n",
       "      <th>4</th>\n",
       "      <td>POCO M3 (Power Black, 64 GB)</td>\n",
       "      <td>6 GB RAM</td>\n",
       "      <td>4.3</td>\n",
       "      <td>19% off</td>\n",
       "      <td>Upto ₹9,900 Off on Exchange</td>\n",
       "      <td>₹10,499</td>\n",
       "    </tr>\n",
       "    <tr>\n",
       "      <th>...</th>\n",
       "      <td>...</td>\n",
       "      <td>...</td>\n",
       "      <td>...</td>\n",
       "      <td>...</td>\n",
       "      <td>...</td>\n",
       "      <td>...</td>\n",
       "    </tr>\n",
       "    <tr>\n",
       "      <th>955</th>\n",
       "      <td>ViVO V20 (Sunset Melody, 256 GB)</td>\n",
       "      <td>8 GB RAM</td>\n",
       "      <td>4.4</td>\n",
       "      <td>9% off</td>\n",
       "      <td>Upto ₹15,300 Off on Exchange</td>\n",
       "      <td>₹27,990</td>\n",
       "    </tr>\n",
       "    <tr>\n",
       "      <th>956</th>\n",
       "      <td>REDMI Note 9 Pro Max (Interstellar Black, 64 GB)</td>\n",
       "      <td>6 GB RAM</td>\n",
       "      <td>4.4</td>\n",
       "      <td>10% off</td>\n",
       "      <td>Upto ₹15,300 Off on Exchange</td>\n",
       "      <td>₹16,999</td>\n",
       "    </tr>\n",
       "    <tr>\n",
       "      <th>957</th>\n",
       "      <td>Redmi K20 (Glacier Blue, 128 GB)</td>\n",
       "      <td>6 GB RAM</td>\n",
       "      <td>4.5</td>\n",
       "      <td>NaN</td>\n",
       "      <td>Upto ₹15,300 Off on Exchange</td>\n",
       "      <td>₹24,999</td>\n",
       "    </tr>\n",
       "    <tr>\n",
       "      <th>958</th>\n",
       "      <td>Itel Muzik110</td>\n",
       "      <td>Deep Blue</td>\n",
       "      <td>4.2</td>\n",
       "      <td>NaN</td>\n",
       "      <td>NaN</td>\n",
       "      <td>₹1,098</td>\n",
       "    </tr>\n",
       "    <tr>\n",
       "      <th>959</th>\n",
       "      <td>KXD M2+</td>\n",
       "      <td>Black</td>\n",
       "      <td>3.8</td>\n",
       "      <td>NaN</td>\n",
       "      <td>NaN</td>\n",
       "      <td>₹799</td>\n",
       "    </tr>\n",
       "  </tbody>\n",
       "</table>\n",
       "<p>960 rows × 6 columns</p>\n",
       "</div>"
      ],
      "text/plain": [
       "                                  Product Description        RAM Ratings  \\\n",
       "0                      realme C21 (Cross Blue, 64 GB)   4 GB RAM     4.4   \n",
       "1                     realme C21 (Cross Black, 64 GB)   4 GB RAM     4.4   \n",
       "2                       realme C20 (Cool Blue, 32 GB)   2 GB RAM     4.3   \n",
       "3                       realme C20 (Cool Grey, 32 GB)   2 GB RAM     4.3   \n",
       "4                        POCO M3 (Power Black, 64 GB)   6 GB RAM     4.3   \n",
       "..                                                ...        ...     ...   \n",
       "955                  ViVO V20 (Sunset Melody, 256 GB)   8 GB RAM     4.4   \n",
       "956  REDMI Note 9 Pro Max (Interstellar Black, 64 GB)   6 GB RAM     4.4   \n",
       "957                  Redmi K20 (Glacier Blue, 128 GB)   6 GB RAM     4.5   \n",
       "958                                     Itel Muzik110  Deep Blue     4.2   \n",
       "959                                           KXD M2+      Black     3.8   \n",
       "\n",
       "      Offers                Exchange Offer    Price  \n",
       "0    18% off                           NaN   ₹8,999  \n",
       "1    18% off                           NaN   ₹8,999  \n",
       "2    15% off   Upto ₹6,250 Off on Exchange   ₹6,799  \n",
       "3    15% off   Upto ₹6,250 Off on Exchange   ₹6,799  \n",
       "4    19% off   Upto ₹9,900 Off on Exchange  ₹10,499  \n",
       "..       ...                           ...      ...  \n",
       "955   9% off  Upto ₹15,300 Off on Exchange  ₹27,990  \n",
       "956  10% off  Upto ₹15,300 Off on Exchange  ₹16,999  \n",
       "957      NaN  Upto ₹15,300 Off on Exchange  ₹24,999  \n",
       "958      NaN                           NaN   ₹1,098  \n",
       "959      NaN                           NaN     ₹799  \n",
       "\n",
       "[960 rows x 6 columns]"
      ]
     },
     "execution_count": 522,
     "metadata": {},
     "output_type": "execute_result"
    }
   ],
   "source": [
    "data"
   ]
  },
  {
   "cell_type": "code",
   "execution_count": 523,
   "id": "a9c41441",
   "metadata": {},
   "outputs": [],
   "source": [
    "data.to_csv('flipkart_phone.csv',index=False)"
   ]
  },
  {
   "cell_type": "code",
   "execution_count": 524,
   "id": "2dd604d1",
   "metadata": {},
   "outputs": [
    {
     "data": {
      "text/html": [
       "<div>\n",
       "<style scoped>\n",
       "    .dataframe tbody tr th:only-of-type {\n",
       "        vertical-align: middle;\n",
       "    }\n",
       "\n",
       "    .dataframe tbody tr th {\n",
       "        vertical-align: top;\n",
       "    }\n",
       "\n",
       "    .dataframe thead th {\n",
       "        text-align: right;\n",
       "    }\n",
       "</style>\n",
       "<table border=\"1\" class=\"dataframe\">\n",
       "  <thead>\n",
       "    <tr style=\"text-align: right;\">\n",
       "      <th></th>\n",
       "      <th>Product Description</th>\n",
       "      <th>RAM</th>\n",
       "      <th>Ratings</th>\n",
       "      <th>Offers</th>\n",
       "      <th>Exchange Offer</th>\n",
       "      <th>Price</th>\n",
       "    </tr>\n",
       "  </thead>\n",
       "  <tbody>\n",
       "    <tr>\n",
       "      <th>0</th>\n",
       "      <td>realme C21 (Cross Blue, 64 GB)</td>\n",
       "      <td>4 GB RAM</td>\n",
       "      <td>4.4</td>\n",
       "      <td>18% off</td>\n",
       "      <td>NaN</td>\n",
       "      <td>₹8,999</td>\n",
       "    </tr>\n",
       "    <tr>\n",
       "      <th>1</th>\n",
       "      <td>realme C21 (Cross Black, 64 GB)</td>\n",
       "      <td>4 GB RAM</td>\n",
       "      <td>4.4</td>\n",
       "      <td>18% off</td>\n",
       "      <td>NaN</td>\n",
       "      <td>₹8,999</td>\n",
       "    </tr>\n",
       "    <tr>\n",
       "      <th>2</th>\n",
       "      <td>realme C20 (Cool Blue, 32 GB)</td>\n",
       "      <td>2 GB RAM</td>\n",
       "      <td>4.3</td>\n",
       "      <td>15% off</td>\n",
       "      <td>Upto ₹6,250 Off on Exchange</td>\n",
       "      <td>₹6,799</td>\n",
       "    </tr>\n",
       "    <tr>\n",
       "      <th>3</th>\n",
       "      <td>realme C20 (Cool Grey, 32 GB)</td>\n",
       "      <td>2 GB RAM</td>\n",
       "      <td>4.3</td>\n",
       "      <td>15% off</td>\n",
       "      <td>Upto ₹6,250 Off on Exchange</td>\n",
       "      <td>₹6,799</td>\n",
       "    </tr>\n",
       "    <tr>\n",
       "      <th>4</th>\n",
       "      <td>POCO M3 (Power Black, 64 GB)</td>\n",
       "      <td>6 GB RAM</td>\n",
       "      <td>4.3</td>\n",
       "      <td>19% off</td>\n",
       "      <td>Upto ₹9,900 Off on Exchange</td>\n",
       "      <td>₹10,499</td>\n",
       "    </tr>\n",
       "  </tbody>\n",
       "</table>\n",
       "</div>"
      ],
      "text/plain": [
       "               Product Description       RAM  Ratings   Offers  \\\n",
       "0   realme C21 (Cross Blue, 64 GB)  4 GB RAM      4.4  18% off   \n",
       "1  realme C21 (Cross Black, 64 GB)  4 GB RAM      4.4  18% off   \n",
       "2    realme C20 (Cool Blue, 32 GB)  2 GB RAM      4.3  15% off   \n",
       "3    realme C20 (Cool Grey, 32 GB)  2 GB RAM      4.3  15% off   \n",
       "4     POCO M3 (Power Black, 64 GB)  6 GB RAM      4.3  19% off   \n",
       "\n",
       "                Exchange Offer    Price  \n",
       "0                          NaN   ₹8,999  \n",
       "1                          NaN   ₹8,999  \n",
       "2  Upto ₹6,250 Off on Exchange   ₹6,799  \n",
       "3  Upto ₹6,250 Off on Exchange   ₹6,799  \n",
       "4  Upto ₹9,900 Off on Exchange  ₹10,499  "
      ]
     },
     "execution_count": 524,
     "metadata": {},
     "output_type": "execute_result"
    }
   ],
   "source": [
    "data=pd.read_csv('flipkart_phone.csv')\n",
    "data.head()"
   ]
  },
  {
   "cell_type": "markdown",
   "id": "851e465b",
   "metadata": {},
   "source": [
    "## Data Ready now clean the data"
   ]
  },
  {
   "cell_type": "code",
   "execution_count": 525,
   "id": "d67c2859",
   "metadata": {},
   "outputs": [],
   "source": [
    "regx=r'^\\w+\\s'\n",
    "pregx=re.compile(regx)\n",
    "\n",
    "data['Company']=data['Product Description'].apply(lambda x:pregx.search(x).group())"
   ]
  },
  {
   "cell_type": "code",
   "execution_count": 526,
   "id": "08f9ea3f",
   "metadata": {},
   "outputs": [
    {
     "data": {
      "text/html": [
       "<div>\n",
       "<style scoped>\n",
       "    .dataframe tbody tr th:only-of-type {\n",
       "        vertical-align: middle;\n",
       "    }\n",
       "\n",
       "    .dataframe tbody tr th {\n",
       "        vertical-align: top;\n",
       "    }\n",
       "\n",
       "    .dataframe thead th {\n",
       "        text-align: right;\n",
       "    }\n",
       "</style>\n",
       "<table border=\"1\" class=\"dataframe\">\n",
       "  <thead>\n",
       "    <tr style=\"text-align: right;\">\n",
       "      <th></th>\n",
       "      <th>Product Description</th>\n",
       "      <th>RAM</th>\n",
       "      <th>Ratings</th>\n",
       "      <th>Offers</th>\n",
       "      <th>Exchange Offer</th>\n",
       "      <th>Price</th>\n",
       "      <th>Company</th>\n",
       "    </tr>\n",
       "  </thead>\n",
       "  <tbody>\n",
       "    <tr>\n",
       "      <th>0</th>\n",
       "      <td>realme C21 (Cross Blue, 64 GB)</td>\n",
       "      <td>4 GB RAM</td>\n",
       "      <td>4.4</td>\n",
       "      <td>18% off</td>\n",
       "      <td>NaN</td>\n",
       "      <td>₹8,999</td>\n",
       "      <td>realme</td>\n",
       "    </tr>\n",
       "    <tr>\n",
       "      <th>1</th>\n",
       "      <td>realme C21 (Cross Black, 64 GB)</td>\n",
       "      <td>4 GB RAM</td>\n",
       "      <td>4.4</td>\n",
       "      <td>18% off</td>\n",
       "      <td>NaN</td>\n",
       "      <td>₹8,999</td>\n",
       "      <td>realme</td>\n",
       "    </tr>\n",
       "    <tr>\n",
       "      <th>2</th>\n",
       "      <td>realme C20 (Cool Blue, 32 GB)</td>\n",
       "      <td>2 GB RAM</td>\n",
       "      <td>4.3</td>\n",
       "      <td>15% off</td>\n",
       "      <td>Upto ₹6,250 Off on Exchange</td>\n",
       "      <td>₹6,799</td>\n",
       "      <td>realme</td>\n",
       "    </tr>\n",
       "    <tr>\n",
       "      <th>3</th>\n",
       "      <td>realme C20 (Cool Grey, 32 GB)</td>\n",
       "      <td>2 GB RAM</td>\n",
       "      <td>4.3</td>\n",
       "      <td>15% off</td>\n",
       "      <td>Upto ₹6,250 Off on Exchange</td>\n",
       "      <td>₹6,799</td>\n",
       "      <td>realme</td>\n",
       "    </tr>\n",
       "    <tr>\n",
       "      <th>4</th>\n",
       "      <td>POCO M3 (Power Black, 64 GB)</td>\n",
       "      <td>6 GB RAM</td>\n",
       "      <td>4.3</td>\n",
       "      <td>19% off</td>\n",
       "      <td>Upto ₹9,900 Off on Exchange</td>\n",
       "      <td>₹10,499</td>\n",
       "      <td>POCO</td>\n",
       "    </tr>\n",
       "  </tbody>\n",
       "</table>\n",
       "</div>"
      ],
      "text/plain": [
       "               Product Description       RAM  Ratings   Offers  \\\n",
       "0   realme C21 (Cross Blue, 64 GB)  4 GB RAM      4.4  18% off   \n",
       "1  realme C21 (Cross Black, 64 GB)  4 GB RAM      4.4  18% off   \n",
       "2    realme C20 (Cool Blue, 32 GB)  2 GB RAM      4.3  15% off   \n",
       "3    realme C20 (Cool Grey, 32 GB)  2 GB RAM      4.3  15% off   \n",
       "4     POCO M3 (Power Black, 64 GB)  6 GB RAM      4.3  19% off   \n",
       "\n",
       "                Exchange Offer    Price  Company  \n",
       "0                          NaN   ₹8,999  realme   \n",
       "1                          NaN   ₹8,999  realme   \n",
       "2  Upto ₹6,250 Off on Exchange   ₹6,799  realme   \n",
       "3  Upto ₹6,250 Off on Exchange   ₹6,799  realme   \n",
       "4  Upto ₹9,900 Off on Exchange  ₹10,499    POCO   "
      ]
     },
     "execution_count": 526,
     "metadata": {},
     "output_type": "execute_result"
    }
   ],
   "source": [
    "data.head()"
   ]
  },
  {
   "cell_type": "code",
   "execution_count": 527,
   "id": "d5ae62f9",
   "metadata": {},
   "outputs": [
    {
     "data": {
      "text/html": [
       "<div>\n",
       "<style scoped>\n",
       "    .dataframe tbody tr th:only-of-type {\n",
       "        vertical-align: middle;\n",
       "    }\n",
       "\n",
       "    .dataframe tbody tr th {\n",
       "        vertical-align: top;\n",
       "    }\n",
       "\n",
       "    .dataframe thead th {\n",
       "        text-align: right;\n",
       "    }\n",
       "</style>\n",
       "<table border=\"1\" class=\"dataframe\">\n",
       "  <thead>\n",
       "    <tr style=\"text-align: right;\">\n",
       "      <th></th>\n",
       "      <th>Product Description</th>\n",
       "      <th>RAM</th>\n",
       "      <th>Ratings</th>\n",
       "      <th>Offers</th>\n",
       "      <th>Exchange Offer</th>\n",
       "      <th>Price</th>\n",
       "      <th>Company</th>\n",
       "    </tr>\n",
       "  </thead>\n",
       "  <tbody>\n",
       "    <tr>\n",
       "      <th>0</th>\n",
       "      <td>realme C21 (Cross Blue, 64 GB)</td>\n",
       "      <td>4 GB RAM</td>\n",
       "      <td>4.4</td>\n",
       "      <td>18% off</td>\n",
       "      <td>NaN</td>\n",
       "      <td>₹8,999</td>\n",
       "      <td>realme</td>\n",
       "    </tr>\n",
       "    <tr>\n",
       "      <th>1</th>\n",
       "      <td>realme C21 (Cross Black, 64 GB)</td>\n",
       "      <td>4 GB RAM</td>\n",
       "      <td>4.4</td>\n",
       "      <td>18% off</td>\n",
       "      <td>NaN</td>\n",
       "      <td>₹8,999</td>\n",
       "      <td>realme</td>\n",
       "    </tr>\n",
       "    <tr>\n",
       "      <th>2</th>\n",
       "      <td>realme C20 (Cool Blue, 32 GB)</td>\n",
       "      <td>2 GB RAM</td>\n",
       "      <td>4.3</td>\n",
       "      <td>15% off</td>\n",
       "      <td>Upto ₹6,250 Off on Exchange</td>\n",
       "      <td>₹6,799</td>\n",
       "      <td>realme</td>\n",
       "    </tr>\n",
       "    <tr>\n",
       "      <th>3</th>\n",
       "      <td>realme C20 (Cool Grey, 32 GB)</td>\n",
       "      <td>2 GB RAM</td>\n",
       "      <td>4.3</td>\n",
       "      <td>15% off</td>\n",
       "      <td>Upto ₹6,250 Off on Exchange</td>\n",
       "      <td>₹6,799</td>\n",
       "      <td>realme</td>\n",
       "    </tr>\n",
       "    <tr>\n",
       "      <th>4</th>\n",
       "      <td>POCO M3 (Power Black, 64 GB)</td>\n",
       "      <td>6 GB RAM</td>\n",
       "      <td>4.3</td>\n",
       "      <td>19% off</td>\n",
       "      <td>Upto ₹9,900 Off on Exchange</td>\n",
       "      <td>₹10,499</td>\n",
       "      <td>POCO</td>\n",
       "    </tr>\n",
       "  </tbody>\n",
       "</table>\n",
       "</div>"
      ],
      "text/plain": [
       "               Product Description       RAM  Ratings   Offers  \\\n",
       "0   realme C21 (Cross Blue, 64 GB)  4 GB RAM      4.4  18% off   \n",
       "1  realme C21 (Cross Black, 64 GB)  4 GB RAM      4.4  18% off   \n",
       "2    realme C20 (Cool Blue, 32 GB)  2 GB RAM      4.3  15% off   \n",
       "3    realme C20 (Cool Grey, 32 GB)  2 GB RAM      4.3  15% off   \n",
       "4     POCO M3 (Power Black, 64 GB)  6 GB RAM      4.3  19% off   \n",
       "\n",
       "                Exchange Offer    Price  Company  \n",
       "0                          NaN   ₹8,999  realme   \n",
       "1                          NaN   ₹8,999  realme   \n",
       "2  Upto ₹6,250 Off on Exchange   ₹6,799  realme   \n",
       "3  Upto ₹6,250 Off on Exchange   ₹6,799  realme   \n",
       "4  Upto ₹9,900 Off on Exchange  ₹10,499    POCO   "
      ]
     },
     "execution_count": 527,
     "metadata": {},
     "output_type": "execute_result"
    }
   ],
   "source": [
    "data.head()"
   ]
  },
  {
   "cell_type": "code",
   "execution_count": 528,
   "id": "68a95210",
   "metadata": {},
   "outputs": [],
   "source": [
    "regx=r'\\s[A-Za-z\\s0-9]+'\n",
    "pregx=re.compile(regx)\n",
    "\n",
    "data['Model']=data['Product Description'].apply(lambda x:np.NaN if pregx.search(x) is None else pregx.search(x).group())"
   ]
  },
  {
   "cell_type": "code",
   "execution_count": 529,
   "id": "10f9ce38",
   "metadata": {},
   "outputs": [
    {
     "data": {
      "text/html": [
       "<div>\n",
       "<style scoped>\n",
       "    .dataframe tbody tr th:only-of-type {\n",
       "        vertical-align: middle;\n",
       "    }\n",
       "\n",
       "    .dataframe tbody tr th {\n",
       "        vertical-align: top;\n",
       "    }\n",
       "\n",
       "    .dataframe thead th {\n",
       "        text-align: right;\n",
       "    }\n",
       "</style>\n",
       "<table border=\"1\" class=\"dataframe\">\n",
       "  <thead>\n",
       "    <tr style=\"text-align: right;\">\n",
       "      <th></th>\n",
       "      <th>Product Description</th>\n",
       "      <th>RAM</th>\n",
       "      <th>Ratings</th>\n",
       "      <th>Offers</th>\n",
       "      <th>Exchange Offer</th>\n",
       "      <th>Price</th>\n",
       "      <th>Company</th>\n",
       "      <th>Model</th>\n",
       "    </tr>\n",
       "  </thead>\n",
       "  <tbody>\n",
       "    <tr>\n",
       "      <th>0</th>\n",
       "      <td>realme C21 (Cross Blue, 64 GB)</td>\n",
       "      <td>4 GB RAM</td>\n",
       "      <td>4.4</td>\n",
       "      <td>18% off</td>\n",
       "      <td>NaN</td>\n",
       "      <td>₹8,999</td>\n",
       "      <td>realme</td>\n",
       "      <td>C21</td>\n",
       "    </tr>\n",
       "    <tr>\n",
       "      <th>1</th>\n",
       "      <td>realme C21 (Cross Black, 64 GB)</td>\n",
       "      <td>4 GB RAM</td>\n",
       "      <td>4.4</td>\n",
       "      <td>18% off</td>\n",
       "      <td>NaN</td>\n",
       "      <td>₹8,999</td>\n",
       "      <td>realme</td>\n",
       "      <td>C21</td>\n",
       "    </tr>\n",
       "    <tr>\n",
       "      <th>2</th>\n",
       "      <td>realme C20 (Cool Blue, 32 GB)</td>\n",
       "      <td>2 GB RAM</td>\n",
       "      <td>4.3</td>\n",
       "      <td>15% off</td>\n",
       "      <td>Upto ₹6,250 Off on Exchange</td>\n",
       "      <td>₹6,799</td>\n",
       "      <td>realme</td>\n",
       "      <td>C20</td>\n",
       "    </tr>\n",
       "    <tr>\n",
       "      <th>3</th>\n",
       "      <td>realme C20 (Cool Grey, 32 GB)</td>\n",
       "      <td>2 GB RAM</td>\n",
       "      <td>4.3</td>\n",
       "      <td>15% off</td>\n",
       "      <td>Upto ₹6,250 Off on Exchange</td>\n",
       "      <td>₹6,799</td>\n",
       "      <td>realme</td>\n",
       "      <td>C20</td>\n",
       "    </tr>\n",
       "    <tr>\n",
       "      <th>4</th>\n",
       "      <td>POCO M3 (Power Black, 64 GB)</td>\n",
       "      <td>6 GB RAM</td>\n",
       "      <td>4.3</td>\n",
       "      <td>19% off</td>\n",
       "      <td>Upto ₹9,900 Off on Exchange</td>\n",
       "      <td>₹10,499</td>\n",
       "      <td>POCO</td>\n",
       "      <td>M3</td>\n",
       "    </tr>\n",
       "  </tbody>\n",
       "</table>\n",
       "</div>"
      ],
      "text/plain": [
       "               Product Description       RAM  Ratings   Offers  \\\n",
       "0   realme C21 (Cross Blue, 64 GB)  4 GB RAM      4.4  18% off   \n",
       "1  realme C21 (Cross Black, 64 GB)  4 GB RAM      4.4  18% off   \n",
       "2    realme C20 (Cool Blue, 32 GB)  2 GB RAM      4.3  15% off   \n",
       "3    realme C20 (Cool Grey, 32 GB)  2 GB RAM      4.3  15% off   \n",
       "4     POCO M3 (Power Black, 64 GB)  6 GB RAM      4.3  19% off   \n",
       "\n",
       "                Exchange Offer    Price  Company  Model  \n",
       "0                          NaN   ₹8,999  realme    C21   \n",
       "1                          NaN   ₹8,999  realme    C21   \n",
       "2  Upto ₹6,250 Off on Exchange   ₹6,799  realme    C20   \n",
       "3  Upto ₹6,250 Off on Exchange   ₹6,799  realme    C20   \n",
       "4  Upto ₹9,900 Off on Exchange  ₹10,499    POCO     M3   "
      ]
     },
     "execution_count": 529,
     "metadata": {},
     "output_type": "execute_result"
    }
   ],
   "source": [
    "data.head()"
   ]
  },
  {
   "cell_type": "code",
   "execution_count": 530,
   "id": "4ea1a780",
   "metadata": {},
   "outputs": [
    {
     "data": {
      "text/html": [
       "<div>\n",
       "<style scoped>\n",
       "    .dataframe tbody tr th:only-of-type {\n",
       "        vertical-align: middle;\n",
       "    }\n",
       "\n",
       "    .dataframe tbody tr th {\n",
       "        vertical-align: top;\n",
       "    }\n",
       "\n",
       "    .dataframe thead th {\n",
       "        text-align: right;\n",
       "    }\n",
       "</style>\n",
       "<table border=\"1\" class=\"dataframe\">\n",
       "  <thead>\n",
       "    <tr style=\"text-align: right;\">\n",
       "      <th></th>\n",
       "      <th>Product Description</th>\n",
       "      <th>RAM</th>\n",
       "      <th>Ratings</th>\n",
       "      <th>Offers</th>\n",
       "      <th>Exchange Offer</th>\n",
       "      <th>Price</th>\n",
       "      <th>Company</th>\n",
       "      <th>Model</th>\n",
       "    </tr>\n",
       "  </thead>\n",
       "  <tbody>\n",
       "    <tr>\n",
       "      <th>0</th>\n",
       "      <td>realme C21 (Cross Blue, 64 GB)</td>\n",
       "      <td>4 GB RAM</td>\n",
       "      <td>4.4</td>\n",
       "      <td>18% off</td>\n",
       "      <td>NaN</td>\n",
       "      <td>₹8,999</td>\n",
       "      <td>realme</td>\n",
       "      <td>C21</td>\n",
       "    </tr>\n",
       "    <tr>\n",
       "      <th>1</th>\n",
       "      <td>realme C21 (Cross Black, 64 GB)</td>\n",
       "      <td>4 GB RAM</td>\n",
       "      <td>4.4</td>\n",
       "      <td>18% off</td>\n",
       "      <td>NaN</td>\n",
       "      <td>₹8,999</td>\n",
       "      <td>realme</td>\n",
       "      <td>C21</td>\n",
       "    </tr>\n",
       "    <tr>\n",
       "      <th>2</th>\n",
       "      <td>realme C20 (Cool Blue, 32 GB)</td>\n",
       "      <td>2 GB RAM</td>\n",
       "      <td>4.3</td>\n",
       "      <td>15% off</td>\n",
       "      <td>Upto ₹6,250 Off on Exchange</td>\n",
       "      <td>₹6,799</td>\n",
       "      <td>realme</td>\n",
       "      <td>C20</td>\n",
       "    </tr>\n",
       "    <tr>\n",
       "      <th>3</th>\n",
       "      <td>realme C20 (Cool Grey, 32 GB)</td>\n",
       "      <td>2 GB RAM</td>\n",
       "      <td>4.3</td>\n",
       "      <td>15% off</td>\n",
       "      <td>Upto ₹6,250 Off on Exchange</td>\n",
       "      <td>₹6,799</td>\n",
       "      <td>realme</td>\n",
       "      <td>C20</td>\n",
       "    </tr>\n",
       "    <tr>\n",
       "      <th>4</th>\n",
       "      <td>POCO M3 (Power Black, 64 GB)</td>\n",
       "      <td>6 GB RAM</td>\n",
       "      <td>4.3</td>\n",
       "      <td>19% off</td>\n",
       "      <td>Upto ₹9,900 Off on Exchange</td>\n",
       "      <td>₹10,499</td>\n",
       "      <td>POCO</td>\n",
       "      <td>M3</td>\n",
       "    </tr>\n",
       "  </tbody>\n",
       "</table>\n",
       "</div>"
      ],
      "text/plain": [
       "               Product Description       RAM  Ratings   Offers  \\\n",
       "0   realme C21 (Cross Blue, 64 GB)  4 GB RAM      4.4  18% off   \n",
       "1  realme C21 (Cross Black, 64 GB)  4 GB RAM      4.4  18% off   \n",
       "2    realme C20 (Cool Blue, 32 GB)  2 GB RAM      4.3  15% off   \n",
       "3    realme C20 (Cool Grey, 32 GB)  2 GB RAM      4.3  15% off   \n",
       "4     POCO M3 (Power Black, 64 GB)  6 GB RAM      4.3  19% off   \n",
       "\n",
       "                Exchange Offer    Price  Company  Model  \n",
       "0                          NaN   ₹8,999  realme    C21   \n",
       "1                          NaN   ₹8,999  realme    C21   \n",
       "2  Upto ₹6,250 Off on Exchange   ₹6,799  realme    C20   \n",
       "3  Upto ₹6,250 Off on Exchange   ₹6,799  realme    C20   \n",
       "4  Upto ₹9,900 Off on Exchange  ₹10,499    POCO     M3   "
      ]
     },
     "execution_count": 530,
     "metadata": {},
     "output_type": "execute_result"
    }
   ],
   "source": [
    "data.head()"
   ]
  },
  {
   "cell_type": "code",
   "execution_count": 531,
   "id": "06faa570",
   "metadata": {},
   "outputs": [],
   "source": [
    "regx=r'[A-Za-z\\s]+,'\n",
    "pregx=re.compile(regx)\n",
    "\n",
    "data['Color']=data['Product Description'].apply(lambda x:np.NaN if pregx.search(x) is None else pregx.search(x).group().replace(',',''))"
   ]
  },
  {
   "cell_type": "code",
   "execution_count": 532,
   "id": "4651d44a",
   "metadata": {},
   "outputs": [
    {
     "data": {
      "text/html": [
       "<div>\n",
       "<style scoped>\n",
       "    .dataframe tbody tr th:only-of-type {\n",
       "        vertical-align: middle;\n",
       "    }\n",
       "\n",
       "    .dataframe tbody tr th {\n",
       "        vertical-align: top;\n",
       "    }\n",
       "\n",
       "    .dataframe thead th {\n",
       "        text-align: right;\n",
       "    }\n",
       "</style>\n",
       "<table border=\"1\" class=\"dataframe\">\n",
       "  <thead>\n",
       "    <tr style=\"text-align: right;\">\n",
       "      <th></th>\n",
       "      <th>Product Description</th>\n",
       "      <th>RAM</th>\n",
       "      <th>Ratings</th>\n",
       "      <th>Offers</th>\n",
       "      <th>Exchange Offer</th>\n",
       "      <th>Price</th>\n",
       "      <th>Company</th>\n",
       "      <th>Model</th>\n",
       "      <th>Color</th>\n",
       "    </tr>\n",
       "  </thead>\n",
       "  <tbody>\n",
       "    <tr>\n",
       "      <th>0</th>\n",
       "      <td>realme C21 (Cross Blue, 64 GB)</td>\n",
       "      <td>4 GB RAM</td>\n",
       "      <td>4.4</td>\n",
       "      <td>18% off</td>\n",
       "      <td>NaN</td>\n",
       "      <td>₹8,999</td>\n",
       "      <td>realme</td>\n",
       "      <td>C21</td>\n",
       "      <td>Cross Blue</td>\n",
       "    </tr>\n",
       "    <tr>\n",
       "      <th>1</th>\n",
       "      <td>realme C21 (Cross Black, 64 GB)</td>\n",
       "      <td>4 GB RAM</td>\n",
       "      <td>4.4</td>\n",
       "      <td>18% off</td>\n",
       "      <td>NaN</td>\n",
       "      <td>₹8,999</td>\n",
       "      <td>realme</td>\n",
       "      <td>C21</td>\n",
       "      <td>Cross Black</td>\n",
       "    </tr>\n",
       "    <tr>\n",
       "      <th>2</th>\n",
       "      <td>realme C20 (Cool Blue, 32 GB)</td>\n",
       "      <td>2 GB RAM</td>\n",
       "      <td>4.3</td>\n",
       "      <td>15% off</td>\n",
       "      <td>Upto ₹6,250 Off on Exchange</td>\n",
       "      <td>₹6,799</td>\n",
       "      <td>realme</td>\n",
       "      <td>C20</td>\n",
       "      <td>Cool Blue</td>\n",
       "    </tr>\n",
       "    <tr>\n",
       "      <th>3</th>\n",
       "      <td>realme C20 (Cool Grey, 32 GB)</td>\n",
       "      <td>2 GB RAM</td>\n",
       "      <td>4.3</td>\n",
       "      <td>15% off</td>\n",
       "      <td>Upto ₹6,250 Off on Exchange</td>\n",
       "      <td>₹6,799</td>\n",
       "      <td>realme</td>\n",
       "      <td>C20</td>\n",
       "      <td>Cool Grey</td>\n",
       "    </tr>\n",
       "    <tr>\n",
       "      <th>4</th>\n",
       "      <td>POCO M3 (Power Black, 64 GB)</td>\n",
       "      <td>6 GB RAM</td>\n",
       "      <td>4.3</td>\n",
       "      <td>19% off</td>\n",
       "      <td>Upto ₹9,900 Off on Exchange</td>\n",
       "      <td>₹10,499</td>\n",
       "      <td>POCO</td>\n",
       "      <td>M3</td>\n",
       "      <td>Power Black</td>\n",
       "    </tr>\n",
       "  </tbody>\n",
       "</table>\n",
       "</div>"
      ],
      "text/plain": [
       "               Product Description       RAM  Ratings   Offers  \\\n",
       "0   realme C21 (Cross Blue, 64 GB)  4 GB RAM      4.4  18% off   \n",
       "1  realme C21 (Cross Black, 64 GB)  4 GB RAM      4.4  18% off   \n",
       "2    realme C20 (Cool Blue, 32 GB)  2 GB RAM      4.3  15% off   \n",
       "3    realme C20 (Cool Grey, 32 GB)  2 GB RAM      4.3  15% off   \n",
       "4     POCO M3 (Power Black, 64 GB)  6 GB RAM      4.3  19% off   \n",
       "\n",
       "                Exchange Offer    Price  Company  Model        Color  \n",
       "0                          NaN   ₹8,999  realme    C21    Cross Blue  \n",
       "1                          NaN   ₹8,999  realme    C21   Cross Black  \n",
       "2  Upto ₹6,250 Off on Exchange   ₹6,799  realme    C20     Cool Blue  \n",
       "3  Upto ₹6,250 Off on Exchange   ₹6,799  realme    C20     Cool Grey  \n",
       "4  Upto ₹9,900 Off on Exchange  ₹10,499    POCO     M3   Power Black  "
      ]
     },
     "execution_count": 532,
     "metadata": {},
     "output_type": "execute_result"
    }
   ],
   "source": [
    "data.head()"
   ]
  },
  {
   "cell_type": "code",
   "execution_count": 533,
   "id": "6c78e86b",
   "metadata": {},
   "outputs": [],
   "source": [
    "regx=r'[0-9]+\\sGB'\n",
    "pregx=re.compile(regx)\n",
    "\n",
    "data['ROM']=data['Product Description'].apply(lambda x:np.NaN if pregx.search(x) is None else pregx.search(x).group())"
   ]
  },
  {
   "cell_type": "code",
   "execution_count": 534,
   "id": "1fba3db9",
   "metadata": {},
   "outputs": [
    {
     "data": {
      "text/html": [
       "<div>\n",
       "<style scoped>\n",
       "    .dataframe tbody tr th:only-of-type {\n",
       "        vertical-align: middle;\n",
       "    }\n",
       "\n",
       "    .dataframe tbody tr th {\n",
       "        vertical-align: top;\n",
       "    }\n",
       "\n",
       "    .dataframe thead th {\n",
       "        text-align: right;\n",
       "    }\n",
       "</style>\n",
       "<table border=\"1\" class=\"dataframe\">\n",
       "  <thead>\n",
       "    <tr style=\"text-align: right;\">\n",
       "      <th></th>\n",
       "      <th>Product Description</th>\n",
       "      <th>RAM</th>\n",
       "      <th>Ratings</th>\n",
       "      <th>Offers</th>\n",
       "      <th>Exchange Offer</th>\n",
       "      <th>Price</th>\n",
       "      <th>Company</th>\n",
       "      <th>Model</th>\n",
       "      <th>Color</th>\n",
       "      <th>ROM</th>\n",
       "    </tr>\n",
       "  </thead>\n",
       "  <tbody>\n",
       "    <tr>\n",
       "      <th>0</th>\n",
       "      <td>realme C21 (Cross Blue, 64 GB)</td>\n",
       "      <td>4 GB RAM</td>\n",
       "      <td>4.4</td>\n",
       "      <td>18% off</td>\n",
       "      <td>NaN</td>\n",
       "      <td>₹8,999</td>\n",
       "      <td>realme</td>\n",
       "      <td>C21</td>\n",
       "      <td>Cross Blue</td>\n",
       "      <td>64 GB</td>\n",
       "    </tr>\n",
       "    <tr>\n",
       "      <th>1</th>\n",
       "      <td>realme C21 (Cross Black, 64 GB)</td>\n",
       "      <td>4 GB RAM</td>\n",
       "      <td>4.4</td>\n",
       "      <td>18% off</td>\n",
       "      <td>NaN</td>\n",
       "      <td>₹8,999</td>\n",
       "      <td>realme</td>\n",
       "      <td>C21</td>\n",
       "      <td>Cross Black</td>\n",
       "      <td>64 GB</td>\n",
       "    </tr>\n",
       "    <tr>\n",
       "      <th>2</th>\n",
       "      <td>realme C20 (Cool Blue, 32 GB)</td>\n",
       "      <td>2 GB RAM</td>\n",
       "      <td>4.3</td>\n",
       "      <td>15% off</td>\n",
       "      <td>Upto ₹6,250 Off on Exchange</td>\n",
       "      <td>₹6,799</td>\n",
       "      <td>realme</td>\n",
       "      <td>C20</td>\n",
       "      <td>Cool Blue</td>\n",
       "      <td>32 GB</td>\n",
       "    </tr>\n",
       "    <tr>\n",
       "      <th>3</th>\n",
       "      <td>realme C20 (Cool Grey, 32 GB)</td>\n",
       "      <td>2 GB RAM</td>\n",
       "      <td>4.3</td>\n",
       "      <td>15% off</td>\n",
       "      <td>Upto ₹6,250 Off on Exchange</td>\n",
       "      <td>₹6,799</td>\n",
       "      <td>realme</td>\n",
       "      <td>C20</td>\n",
       "      <td>Cool Grey</td>\n",
       "      <td>32 GB</td>\n",
       "    </tr>\n",
       "    <tr>\n",
       "      <th>4</th>\n",
       "      <td>POCO M3 (Power Black, 64 GB)</td>\n",
       "      <td>6 GB RAM</td>\n",
       "      <td>4.3</td>\n",
       "      <td>19% off</td>\n",
       "      <td>Upto ₹9,900 Off on Exchange</td>\n",
       "      <td>₹10,499</td>\n",
       "      <td>POCO</td>\n",
       "      <td>M3</td>\n",
       "      <td>Power Black</td>\n",
       "      <td>64 GB</td>\n",
       "    </tr>\n",
       "  </tbody>\n",
       "</table>\n",
       "</div>"
      ],
      "text/plain": [
       "               Product Description       RAM  Ratings   Offers  \\\n",
       "0   realme C21 (Cross Blue, 64 GB)  4 GB RAM      4.4  18% off   \n",
       "1  realme C21 (Cross Black, 64 GB)  4 GB RAM      4.4  18% off   \n",
       "2    realme C20 (Cool Blue, 32 GB)  2 GB RAM      4.3  15% off   \n",
       "3    realme C20 (Cool Grey, 32 GB)  2 GB RAM      4.3  15% off   \n",
       "4     POCO M3 (Power Black, 64 GB)  6 GB RAM      4.3  19% off   \n",
       "\n",
       "                Exchange Offer    Price  Company  Model        Color    ROM  \n",
       "0                          NaN   ₹8,999  realme    C21    Cross Blue  64 GB  \n",
       "1                          NaN   ₹8,999  realme    C21   Cross Black  64 GB  \n",
       "2  Upto ₹6,250 Off on Exchange   ₹6,799  realme    C20     Cool Blue  32 GB  \n",
       "3  Upto ₹6,250 Off on Exchange   ₹6,799  realme    C20     Cool Grey  32 GB  \n",
       "4  Upto ₹9,900 Off on Exchange  ₹10,499    POCO     M3   Power Black  64 GB  "
      ]
     },
     "execution_count": 534,
     "metadata": {},
     "output_type": "execute_result"
    }
   ],
   "source": [
    "data.head()"
   ]
  },
  {
   "cell_type": "code",
   "execution_count": 536,
   "id": "9396a1de",
   "metadata": {},
   "outputs": [],
   "source": [
    "data['RAM']=data['RAM'].astype('str')\n",
    "regx=r'[0-9]+\\sGB'\n",
    "pregx=re.compile(regx)\n",
    "\n",
    "data['RAM']=data['RAM'].apply(lambda x:np.NaN if pregx.search(x) is None else pregx.search(x).group())"
   ]
  },
  {
   "cell_type": "code",
   "execution_count": 537,
   "id": "b33689cb",
   "metadata": {},
   "outputs": [
    {
     "data": {
      "text/html": [
       "<div>\n",
       "<style scoped>\n",
       "    .dataframe tbody tr th:only-of-type {\n",
       "        vertical-align: middle;\n",
       "    }\n",
       "\n",
       "    .dataframe tbody tr th {\n",
       "        vertical-align: top;\n",
       "    }\n",
       "\n",
       "    .dataframe thead th {\n",
       "        text-align: right;\n",
       "    }\n",
       "</style>\n",
       "<table border=\"1\" class=\"dataframe\">\n",
       "  <thead>\n",
       "    <tr style=\"text-align: right;\">\n",
       "      <th></th>\n",
       "      <th>Product Description</th>\n",
       "      <th>RAM</th>\n",
       "      <th>Ratings</th>\n",
       "      <th>Offers</th>\n",
       "      <th>Exchange Offer</th>\n",
       "      <th>Price</th>\n",
       "      <th>Company</th>\n",
       "      <th>Model</th>\n",
       "      <th>Color</th>\n",
       "      <th>ROM</th>\n",
       "    </tr>\n",
       "  </thead>\n",
       "  <tbody>\n",
       "    <tr>\n",
       "      <th>0</th>\n",
       "      <td>realme C21 (Cross Blue, 64 GB)</td>\n",
       "      <td>4 GB</td>\n",
       "      <td>4.4</td>\n",
       "      <td>18% off</td>\n",
       "      <td>NaN</td>\n",
       "      <td>₹8,999</td>\n",
       "      <td>realme</td>\n",
       "      <td>C21</td>\n",
       "      <td>Cross Blue</td>\n",
       "      <td>64 GB</td>\n",
       "    </tr>\n",
       "    <tr>\n",
       "      <th>1</th>\n",
       "      <td>realme C21 (Cross Black, 64 GB)</td>\n",
       "      <td>4 GB</td>\n",
       "      <td>4.4</td>\n",
       "      <td>18% off</td>\n",
       "      <td>NaN</td>\n",
       "      <td>₹8,999</td>\n",
       "      <td>realme</td>\n",
       "      <td>C21</td>\n",
       "      <td>Cross Black</td>\n",
       "      <td>64 GB</td>\n",
       "    </tr>\n",
       "    <tr>\n",
       "      <th>2</th>\n",
       "      <td>realme C20 (Cool Blue, 32 GB)</td>\n",
       "      <td>2 GB</td>\n",
       "      <td>4.3</td>\n",
       "      <td>15% off</td>\n",
       "      <td>Upto ₹6,250 Off on Exchange</td>\n",
       "      <td>₹6,799</td>\n",
       "      <td>realme</td>\n",
       "      <td>C20</td>\n",
       "      <td>Cool Blue</td>\n",
       "      <td>32 GB</td>\n",
       "    </tr>\n",
       "    <tr>\n",
       "      <th>3</th>\n",
       "      <td>realme C20 (Cool Grey, 32 GB)</td>\n",
       "      <td>2 GB</td>\n",
       "      <td>4.3</td>\n",
       "      <td>15% off</td>\n",
       "      <td>Upto ₹6,250 Off on Exchange</td>\n",
       "      <td>₹6,799</td>\n",
       "      <td>realme</td>\n",
       "      <td>C20</td>\n",
       "      <td>Cool Grey</td>\n",
       "      <td>32 GB</td>\n",
       "    </tr>\n",
       "    <tr>\n",
       "      <th>4</th>\n",
       "      <td>POCO M3 (Power Black, 64 GB)</td>\n",
       "      <td>6 GB</td>\n",
       "      <td>4.3</td>\n",
       "      <td>19% off</td>\n",
       "      <td>Upto ₹9,900 Off on Exchange</td>\n",
       "      <td>₹10,499</td>\n",
       "      <td>POCO</td>\n",
       "      <td>M3</td>\n",
       "      <td>Power Black</td>\n",
       "      <td>64 GB</td>\n",
       "    </tr>\n",
       "  </tbody>\n",
       "</table>\n",
       "</div>"
      ],
      "text/plain": [
       "               Product Description   RAM  Ratings   Offers  \\\n",
       "0   realme C21 (Cross Blue, 64 GB)  4 GB      4.4  18% off   \n",
       "1  realme C21 (Cross Black, 64 GB)  4 GB      4.4  18% off   \n",
       "2    realme C20 (Cool Blue, 32 GB)  2 GB      4.3  15% off   \n",
       "3    realme C20 (Cool Grey, 32 GB)  2 GB      4.3  15% off   \n",
       "4     POCO M3 (Power Black, 64 GB)  6 GB      4.3  19% off   \n",
       "\n",
       "                Exchange Offer    Price  Company  Model        Color    ROM  \n",
       "0                          NaN   ₹8,999  realme    C21    Cross Blue  64 GB  \n",
       "1                          NaN   ₹8,999  realme    C21   Cross Black  64 GB  \n",
       "2  Upto ₹6,250 Off on Exchange   ₹6,799  realme    C20     Cool Blue  32 GB  \n",
       "3  Upto ₹6,250 Off on Exchange   ₹6,799  realme    C20     Cool Grey  32 GB  \n",
       "4  Upto ₹9,900 Off on Exchange  ₹10,499    POCO     M3   Power Black  64 GB  "
      ]
     },
     "execution_count": 537,
     "metadata": {},
     "output_type": "execute_result"
    }
   ],
   "source": [
    "data.head()"
   ]
  },
  {
   "cell_type": "code",
   "execution_count": 538,
   "id": "06613267",
   "metadata": {},
   "outputs": [
    {
     "data": {
      "text/html": [
       "<div>\n",
       "<style scoped>\n",
       "    .dataframe tbody tr th:only-of-type {\n",
       "        vertical-align: middle;\n",
       "    }\n",
       "\n",
       "    .dataframe tbody tr th {\n",
       "        vertical-align: top;\n",
       "    }\n",
       "\n",
       "    .dataframe thead th {\n",
       "        text-align: right;\n",
       "    }\n",
       "</style>\n",
       "<table border=\"1\" class=\"dataframe\">\n",
       "  <thead>\n",
       "    <tr style=\"text-align: right;\">\n",
       "      <th></th>\n",
       "      <th>Product Description</th>\n",
       "      <th>Company</th>\n",
       "      <th>Model</th>\n",
       "      <th>Color</th>\n",
       "      <th>RAM</th>\n",
       "      <th>ROM</th>\n",
       "      <th>Offers</th>\n",
       "      <th>Price</th>\n",
       "      <th>Exchange Offer</th>\n",
       "      <th>Ratings</th>\n",
       "    </tr>\n",
       "  </thead>\n",
       "  <tbody>\n",
       "    <tr>\n",
       "      <th>156</th>\n",
       "      <td>REDMI 9 Power (Mighty Black, 128 GB)</td>\n",
       "      <td>REDMI</td>\n",
       "      <td>9 Power</td>\n",
       "      <td>Mighty Black</td>\n",
       "      <td>6 GB</td>\n",
       "      <td>128 GB</td>\n",
       "      <td>23% off</td>\n",
       "      <td>₹12,999</td>\n",
       "      <td>Upto ₹12,250 Off on Exchange</td>\n",
       "      <td>4.3</td>\n",
       "    </tr>\n",
       "    <tr>\n",
       "      <th>827</th>\n",
       "      <td>APPLE iPhone 12 Mini (Blue, 128 GB)</td>\n",
       "      <td>APPLE</td>\n",
       "      <td>iPhone 12 Mini</td>\n",
       "      <td>Blue</td>\n",
       "      <td>NaN</td>\n",
       "      <td>128 GB</td>\n",
       "      <td>2% off</td>\n",
       "      <td>₹72,900</td>\n",
       "      <td>Upto ₹15,300 Off on Exchange</td>\n",
       "      <td>4.5</td>\n",
       "    </tr>\n",
       "    <tr>\n",
       "      <th>799</th>\n",
       "      <td>BlackZone S3</td>\n",
       "      <td>BlackZone</td>\n",
       "      <td>S3</td>\n",
       "      <td>NaN</td>\n",
       "      <td>NaN</td>\n",
       "      <td>NaN</td>\n",
       "      <td>6% off</td>\n",
       "      <td>₹1,060</td>\n",
       "      <td>NaN</td>\n",
       "      <td>3.7</td>\n",
       "    </tr>\n",
       "    <tr>\n",
       "      <th>500</th>\n",
       "      <td>Itel Power 410</td>\n",
       "      <td>Itel</td>\n",
       "      <td>Power 410</td>\n",
       "      <td>NaN</td>\n",
       "      <td>NaN</td>\n",
       "      <td>NaN</td>\n",
       "      <td>NaN</td>\n",
       "      <td>₹1,249</td>\n",
       "      <td>NaN</td>\n",
       "      <td>4.2</td>\n",
       "    </tr>\n",
       "    <tr>\n",
       "      <th>577</th>\n",
       "      <td>SAMSUNG Galaxy M12 (White, 64 GB)</td>\n",
       "      <td>SAMSUNG</td>\n",
       "      <td>Galaxy M12</td>\n",
       "      <td>White</td>\n",
       "      <td>4 GB</td>\n",
       "      <td>64 GB</td>\n",
       "      <td>2% off</td>\n",
       "      <td>₹10,990</td>\n",
       "      <td>NaN</td>\n",
       "      <td>4.2</td>\n",
       "    </tr>\n",
       "    <tr>\n",
       "      <th>698</th>\n",
       "      <td>Redmi Note 8 (Neptune Blue, 64 GB)</td>\n",
       "      <td>Redmi</td>\n",
       "      <td>Note 8</td>\n",
       "      <td>Neptune Blue</td>\n",
       "      <td>4 GB</td>\n",
       "      <td>64 GB</td>\n",
       "      <td>NaN</td>\n",
       "      <td>₹13,999</td>\n",
       "      <td>NaN</td>\n",
       "      <td>4.4</td>\n",
       "    </tr>\n",
       "    <tr>\n",
       "      <th>381</th>\n",
       "      <td>DETEL D1 Guru</td>\n",
       "      <td>DETEL</td>\n",
       "      <td>D1 Guru</td>\n",
       "      <td>NaN</td>\n",
       "      <td>NaN</td>\n",
       "      <td>NaN</td>\n",
       "      <td>NaN</td>\n",
       "      <td>₹725</td>\n",
       "      <td>NaN</td>\n",
       "      <td>3.6</td>\n",
       "    </tr>\n",
       "    <tr>\n",
       "      <th>462</th>\n",
       "      <td>realme C3 (Frozen Blue, 32 GB)</td>\n",
       "      <td>realme</td>\n",
       "      <td>C3</td>\n",
       "      <td>Frozen Blue</td>\n",
       "      <td>3 GB</td>\n",
       "      <td>32 GB</td>\n",
       "      <td>NaN</td>\n",
       "      <td>₹8,999</td>\n",
       "      <td>Upto ₹8,350 Off on Exchange</td>\n",
       "      <td>4.4</td>\n",
       "    </tr>\n",
       "    <tr>\n",
       "      <th>824</th>\n",
       "      <td>SAMSUNG Galaxy A32 (Awesome Blue, 128 GB)</td>\n",
       "      <td>SAMSUNG</td>\n",
       "      <td>Galaxy A32</td>\n",
       "      <td>Awesome Blue</td>\n",
       "      <td>6 GB</td>\n",
       "      <td>128 GB</td>\n",
       "      <td>18% off</td>\n",
       "      <td>₹20,499</td>\n",
       "      <td>Upto ₹15,300 Off on Exchange</td>\n",
       "      <td>4.2</td>\n",
       "    </tr>\n",
       "    <tr>\n",
       "      <th>259</th>\n",
       "      <td>MU M5000</td>\n",
       "      <td>MU</td>\n",
       "      <td>M5000</td>\n",
       "      <td>NaN</td>\n",
       "      <td>NaN</td>\n",
       "      <td>NaN</td>\n",
       "      <td>NaN</td>\n",
       "      <td>₹1,150</td>\n",
       "      <td>NaN</td>\n",
       "      <td>4.0</td>\n",
       "    </tr>\n",
       "  </tbody>\n",
       "</table>\n",
       "</div>"
      ],
      "text/plain": [
       "                           Product Description     Company             Model  \\\n",
       "156       REDMI 9 Power (Mighty Black, 128 GB)      REDMI           9 Power    \n",
       "827        APPLE iPhone 12 Mini (Blue, 128 GB)      APPLE    iPhone 12 Mini    \n",
       "799                               BlackZone S3  BlackZone                 S3   \n",
       "500                             Itel Power 410       Itel          Power 410   \n",
       "577          SAMSUNG Galaxy M12 (White, 64 GB)    SAMSUNG        Galaxy M12    \n",
       "698         Redmi Note 8 (Neptune Blue, 64 GB)      Redmi            Note 8    \n",
       "381                              DETEL D1 Guru      DETEL            D1 Guru   \n",
       "462             realme C3 (Frozen Blue, 32 GB)     realme                C3    \n",
       "824  SAMSUNG Galaxy A32 (Awesome Blue, 128 GB)    SAMSUNG        Galaxy A32    \n",
       "259                                   MU M5000         MU              M5000   \n",
       "\n",
       "            Color   RAM     ROM   Offers    Price  \\\n",
       "156  Mighty Black  6 GB  128 GB  23% off  ₹12,999   \n",
       "827          Blue   NaN  128 GB   2% off  ₹72,900   \n",
       "799           NaN   NaN     NaN   6% off   ₹1,060   \n",
       "500           NaN   NaN     NaN      NaN   ₹1,249   \n",
       "577         White  4 GB   64 GB   2% off  ₹10,990   \n",
       "698  Neptune Blue  4 GB   64 GB      NaN  ₹13,999   \n",
       "381           NaN   NaN     NaN      NaN     ₹725   \n",
       "462   Frozen Blue  3 GB   32 GB      NaN   ₹8,999   \n",
       "824  Awesome Blue  6 GB  128 GB  18% off  ₹20,499   \n",
       "259           NaN   NaN     NaN      NaN   ₹1,150   \n",
       "\n",
       "                   Exchange Offer  Ratings  \n",
       "156  Upto ₹12,250 Off on Exchange      4.3  \n",
       "827  Upto ₹15,300 Off on Exchange      4.5  \n",
       "799                           NaN      3.7  \n",
       "500                           NaN      4.2  \n",
       "577                           NaN      4.2  \n",
       "698                           NaN      4.4  \n",
       "381                           NaN      3.6  \n",
       "462   Upto ₹8,350 Off on Exchange      4.4  \n",
       "824  Upto ₹15,300 Off on Exchange      4.2  \n",
       "259                           NaN      4.0  "
      ]
     },
     "execution_count": 538,
     "metadata": {},
     "output_type": "execute_result"
    }
   ],
   "source": [
    "data=data[['Product Description','Company','Model','Color','RAM','ROM','Offers','Price','Exchange Offer','Ratings']]\n",
    "data.sample(10)"
   ]
  },
  {
   "cell_type": "markdown",
   "id": "b2a8f972",
   "metadata": {},
   "source": [
    "## Data file saved"
   ]
  },
  {
   "cell_type": "code",
   "execution_count": 539,
   "id": "6e8af6c1",
   "metadata": {},
   "outputs": [],
   "source": [
    "data.to_csv('flipkart_phone.csv',index=False)"
   ]
  },
  {
   "cell_type": "markdown",
   "id": "c8fa4da2",
   "metadata": {},
   "source": [
    "## Load data from saved file"
   ]
  },
  {
   "cell_type": "code",
   "execution_count": 581,
   "id": "c842f845",
   "metadata": {},
   "outputs": [],
   "source": [
    "data=pd.read_csv('C:\\\\Users\\\\manuj\\\\Innomatics Research labs\\\\My_Notebooks\\\\flipkart_phone.csv')"
   ]
  },
  {
   "cell_type": "code",
   "execution_count": 582,
   "id": "06373c3a",
   "metadata": {},
   "outputs": [
    {
     "data": {
      "text/html": [
       "<div>\n",
       "<style scoped>\n",
       "    .dataframe tbody tr th:only-of-type {\n",
       "        vertical-align: middle;\n",
       "    }\n",
       "\n",
       "    .dataframe tbody tr th {\n",
       "        vertical-align: top;\n",
       "    }\n",
       "\n",
       "    .dataframe thead th {\n",
       "        text-align: right;\n",
       "    }\n",
       "</style>\n",
       "<table border=\"1\" class=\"dataframe\">\n",
       "  <thead>\n",
       "    <tr style=\"text-align: right;\">\n",
       "      <th></th>\n",
       "      <th>Product Description</th>\n",
       "      <th>Company</th>\n",
       "      <th>Model</th>\n",
       "      <th>Color</th>\n",
       "      <th>RAM</th>\n",
       "      <th>ROM</th>\n",
       "      <th>Offers</th>\n",
       "      <th>Price</th>\n",
       "      <th>Exchange Offer</th>\n",
       "      <th>Ratings</th>\n",
       "    </tr>\n",
       "  </thead>\n",
       "  <tbody>\n",
       "    <tr>\n",
       "      <th>0</th>\n",
       "      <td>realme C21 (Cross Blue, 64 GB)</td>\n",
       "      <td>realme</td>\n",
       "      <td>C21</td>\n",
       "      <td>Cross Blue</td>\n",
       "      <td>4 GB</td>\n",
       "      <td>64 GB</td>\n",
       "      <td>18% off</td>\n",
       "      <td>₹8,999</td>\n",
       "      <td>NaN</td>\n",
       "      <td>4.4</td>\n",
       "    </tr>\n",
       "    <tr>\n",
       "      <th>1</th>\n",
       "      <td>realme C21 (Cross Black, 64 GB)</td>\n",
       "      <td>realme</td>\n",
       "      <td>C21</td>\n",
       "      <td>Cross Black</td>\n",
       "      <td>4 GB</td>\n",
       "      <td>64 GB</td>\n",
       "      <td>18% off</td>\n",
       "      <td>₹8,999</td>\n",
       "      <td>NaN</td>\n",
       "      <td>4.4</td>\n",
       "    </tr>\n",
       "    <tr>\n",
       "      <th>2</th>\n",
       "      <td>realme C20 (Cool Blue, 32 GB)</td>\n",
       "      <td>realme</td>\n",
       "      <td>C20</td>\n",
       "      <td>Cool Blue</td>\n",
       "      <td>2 GB</td>\n",
       "      <td>32 GB</td>\n",
       "      <td>15% off</td>\n",
       "      <td>₹6,799</td>\n",
       "      <td>Upto ₹6,250 Off on Exchange</td>\n",
       "      <td>4.3</td>\n",
       "    </tr>\n",
       "    <tr>\n",
       "      <th>3</th>\n",
       "      <td>realme C20 (Cool Grey, 32 GB)</td>\n",
       "      <td>realme</td>\n",
       "      <td>C20</td>\n",
       "      <td>Cool Grey</td>\n",
       "      <td>2 GB</td>\n",
       "      <td>32 GB</td>\n",
       "      <td>15% off</td>\n",
       "      <td>₹6,799</td>\n",
       "      <td>Upto ₹6,250 Off on Exchange</td>\n",
       "      <td>4.3</td>\n",
       "    </tr>\n",
       "    <tr>\n",
       "      <th>4</th>\n",
       "      <td>POCO M3 (Power Black, 64 GB)</td>\n",
       "      <td>POCO</td>\n",
       "      <td>M3</td>\n",
       "      <td>Power Black</td>\n",
       "      <td>6 GB</td>\n",
       "      <td>64 GB</td>\n",
       "      <td>19% off</td>\n",
       "      <td>₹10,499</td>\n",
       "      <td>Upto ₹9,900 Off on Exchange</td>\n",
       "      <td>4.3</td>\n",
       "    </tr>\n",
       "    <tr>\n",
       "      <th>5</th>\n",
       "      <td>REDMI 9i (Midnight Black, 64 GB)</td>\n",
       "      <td>REDMI</td>\n",
       "      <td>9i</td>\n",
       "      <td>Midnight Black</td>\n",
       "      <td>4 GB</td>\n",
       "      <td>64 GB</td>\n",
       "      <td>20% off</td>\n",
       "      <td>₹7,999</td>\n",
       "      <td>Upto ₹7,450 Off on Exchange</td>\n",
       "      <td>4.3</td>\n",
       "    </tr>\n",
       "    <tr>\n",
       "      <th>6</th>\n",
       "      <td>POCO M3 (Cool Blue, 64 GB)</td>\n",
       "      <td>POCO</td>\n",
       "      <td>M3</td>\n",
       "      <td>Cool Blue</td>\n",
       "      <td>6 GB</td>\n",
       "      <td>64 GB</td>\n",
       "      <td>19% off</td>\n",
       "      <td>₹10,499</td>\n",
       "      <td>Upto ₹9,900 Off on Exchange</td>\n",
       "      <td>4.3</td>\n",
       "    </tr>\n",
       "    <tr>\n",
       "      <th>7</th>\n",
       "      <td>REDMI 9 Power (Electric Green, 64 GB)</td>\n",
       "      <td>REDMI</td>\n",
       "      <td>9 Power</td>\n",
       "      <td>Electric Green</td>\n",
       "      <td>4 GB</td>\n",
       "      <td>64 GB</td>\n",
       "      <td>25% off</td>\n",
       "      <td>₹10,499</td>\n",
       "      <td>Upto ₹9,900 Off on Exchange</td>\n",
       "      <td>4.3</td>\n",
       "    </tr>\n",
       "    <tr>\n",
       "      <th>8</th>\n",
       "      <td>realme Narzo 30A (Laser Black, 32 GB)</td>\n",
       "      <td>realme</td>\n",
       "      <td>Narzo 30A</td>\n",
       "      <td>Laser Black</td>\n",
       "      <td>3 GB</td>\n",
       "      <td>32 GB</td>\n",
       "      <td>20% off</td>\n",
       "      <td>₹7,999</td>\n",
       "      <td>Upto ₹7,450 Off on Exchange</td>\n",
       "      <td>4.4</td>\n",
       "    </tr>\n",
       "    <tr>\n",
       "      <th>9</th>\n",
       "      <td>realme Narzo 30A (Laser Black, 64 GB)</td>\n",
       "      <td>realme</td>\n",
       "      <td>Narzo 30A</td>\n",
       "      <td>Laser Black</td>\n",
       "      <td>4 GB</td>\n",
       "      <td>64 GB</td>\n",
       "      <td>18% off</td>\n",
       "      <td>₹8,999</td>\n",
       "      <td>Upto ₹8,350 Off on Exchange</td>\n",
       "      <td>4.4</td>\n",
       "    </tr>\n",
       "  </tbody>\n",
       "</table>\n",
       "</div>"
      ],
      "text/plain": [
       "                     Product Description  Company        Model  \\\n",
       "0         realme C21 (Cross Blue, 64 GB)  realme          C21    \n",
       "1        realme C21 (Cross Black, 64 GB)  realme          C21    \n",
       "2          realme C20 (Cool Blue, 32 GB)  realme          C20    \n",
       "3          realme C20 (Cool Grey, 32 GB)  realme          C20    \n",
       "4           POCO M3 (Power Black, 64 GB)    POCO           M3    \n",
       "5       REDMI 9i (Midnight Black, 64 GB)   REDMI           9i    \n",
       "6             POCO M3 (Cool Blue, 64 GB)    POCO           M3    \n",
       "7  REDMI 9 Power (Electric Green, 64 GB)   REDMI      9 Power    \n",
       "8  realme Narzo 30A (Laser Black, 32 GB)  realme    Narzo 30A    \n",
       "9  realme Narzo 30A (Laser Black, 64 GB)  realme    Narzo 30A    \n",
       "\n",
       "            Color   RAM    ROM   Offers    Price               Exchange Offer  \\\n",
       "0      Cross Blue  4 GB  64 GB  18% off   ₹8,999                          NaN   \n",
       "1     Cross Black  4 GB  64 GB  18% off   ₹8,999                          NaN   \n",
       "2       Cool Blue  2 GB  32 GB  15% off   ₹6,799  Upto ₹6,250 Off on Exchange   \n",
       "3       Cool Grey  2 GB  32 GB  15% off   ₹6,799  Upto ₹6,250 Off on Exchange   \n",
       "4     Power Black  6 GB  64 GB  19% off  ₹10,499  Upto ₹9,900 Off on Exchange   \n",
       "5  Midnight Black  4 GB  64 GB  20% off   ₹7,999  Upto ₹7,450 Off on Exchange   \n",
       "6       Cool Blue  6 GB  64 GB  19% off  ₹10,499  Upto ₹9,900 Off on Exchange   \n",
       "7  Electric Green  4 GB  64 GB  25% off  ₹10,499  Upto ₹9,900 Off on Exchange   \n",
       "8     Laser Black  3 GB  32 GB  20% off   ₹7,999  Upto ₹7,450 Off on Exchange   \n",
       "9     Laser Black  4 GB  64 GB  18% off   ₹8,999  Upto ₹8,350 Off on Exchange   \n",
       "\n",
       "   Ratings  \n",
       "0      4.4  \n",
       "1      4.4  \n",
       "2      4.3  \n",
       "3      4.3  \n",
       "4      4.3  \n",
       "5      4.3  \n",
       "6      4.3  \n",
       "7      4.3  \n",
       "8      4.4  \n",
       "9      4.4  "
      ]
     },
     "execution_count": 582,
     "metadata": {},
     "output_type": "execute_result"
    }
   ],
   "source": [
    "data.head(10)"
   ]
  },
  {
   "cell_type": "markdown",
   "id": "4d2362dd",
   "metadata": {},
   "source": [
    "## Data is ready to process"
   ]
  },
  {
   "cell_type": "code",
   "execution_count": 583,
   "id": "7b1ca81c",
   "metadata": {},
   "outputs": [
    {
     "data": {
      "text/plain": [
       "Product Description     object\n",
       "Company                 object\n",
       "Model                   object\n",
       "Color                   object\n",
       "RAM                     object\n",
       "ROM                     object\n",
       "Offers                  object\n",
       "Price                   object\n",
       "Exchange Offer          object\n",
       "Ratings                float64\n",
       "dtype: object"
      ]
     },
     "execution_count": 583,
     "metadata": {},
     "output_type": "execute_result"
    }
   ],
   "source": [
    "data.dtypes"
   ]
  },
  {
   "cell_type": "code",
   "execution_count": 584,
   "id": "a29b7935",
   "metadata": {},
   "outputs": [
    {
     "data": {
      "text/html": [
       "<div>\n",
       "<style scoped>\n",
       "    .dataframe tbody tr th:only-of-type {\n",
       "        vertical-align: middle;\n",
       "    }\n",
       "\n",
       "    .dataframe tbody tr th {\n",
       "        vertical-align: top;\n",
       "    }\n",
       "\n",
       "    .dataframe thead th {\n",
       "        text-align: right;\n",
       "    }\n",
       "</style>\n",
       "<table border=\"1\" class=\"dataframe\">\n",
       "  <thead>\n",
       "    <tr style=\"text-align: right;\">\n",
       "      <th></th>\n",
       "      <th>Product Description</th>\n",
       "      <th>Company</th>\n",
       "      <th>Model</th>\n",
       "      <th>Color</th>\n",
       "      <th>RAM</th>\n",
       "      <th>ROM</th>\n",
       "      <th>Offers</th>\n",
       "      <th>Price</th>\n",
       "      <th>Exchange Offer</th>\n",
       "      <th>Ratings</th>\n",
       "    </tr>\n",
       "  </thead>\n",
       "  <tbody>\n",
       "    <tr>\n",
       "      <th>0</th>\n",
       "      <td>realme C21 (Cross Blue, 64 GB)</td>\n",
       "      <td>realme</td>\n",
       "      <td>C21</td>\n",
       "      <td>Cross Blue</td>\n",
       "      <td>4 GB</td>\n",
       "      <td>64 GB</td>\n",
       "      <td>18% off</td>\n",
       "      <td>₹8,999</td>\n",
       "      <td>NaN</td>\n",
       "      <td>4.4</td>\n",
       "    </tr>\n",
       "    <tr>\n",
       "      <th>1</th>\n",
       "      <td>realme C21 (Cross Black, 64 GB)</td>\n",
       "      <td>realme</td>\n",
       "      <td>C21</td>\n",
       "      <td>Cross Black</td>\n",
       "      <td>4 GB</td>\n",
       "      <td>64 GB</td>\n",
       "      <td>18% off</td>\n",
       "      <td>₹8,999</td>\n",
       "      <td>NaN</td>\n",
       "      <td>4.4</td>\n",
       "    </tr>\n",
       "    <tr>\n",
       "      <th>2</th>\n",
       "      <td>realme C20 (Cool Blue, 32 GB)</td>\n",
       "      <td>realme</td>\n",
       "      <td>C20</td>\n",
       "      <td>Cool Blue</td>\n",
       "      <td>2 GB</td>\n",
       "      <td>32 GB</td>\n",
       "      <td>15% off</td>\n",
       "      <td>₹6,799</td>\n",
       "      <td>Upto ₹6,250 Off on Exchange</td>\n",
       "      <td>4.3</td>\n",
       "    </tr>\n",
       "    <tr>\n",
       "      <th>3</th>\n",
       "      <td>realme C20 (Cool Grey, 32 GB)</td>\n",
       "      <td>realme</td>\n",
       "      <td>C20</td>\n",
       "      <td>Cool Grey</td>\n",
       "      <td>2 GB</td>\n",
       "      <td>32 GB</td>\n",
       "      <td>15% off</td>\n",
       "      <td>₹6,799</td>\n",
       "      <td>Upto ₹6,250 Off on Exchange</td>\n",
       "      <td>4.3</td>\n",
       "    </tr>\n",
       "    <tr>\n",
       "      <th>4</th>\n",
       "      <td>POCO M3 (Power Black, 64 GB)</td>\n",
       "      <td>POCO</td>\n",
       "      <td>M3</td>\n",
       "      <td>Power Black</td>\n",
       "      <td>6 GB</td>\n",
       "      <td>64 GB</td>\n",
       "      <td>19% off</td>\n",
       "      <td>₹10,499</td>\n",
       "      <td>Upto ₹9,900 Off on Exchange</td>\n",
       "      <td>4.3</td>\n",
       "    </tr>\n",
       "  </tbody>\n",
       "</table>\n",
       "</div>"
      ],
      "text/plain": [
       "               Product Description  Company  Model        Color   RAM    ROM  \\\n",
       "0   realme C21 (Cross Blue, 64 GB)  realme    C21    Cross Blue  4 GB  64 GB   \n",
       "1  realme C21 (Cross Black, 64 GB)  realme    C21   Cross Black  4 GB  64 GB   \n",
       "2    realme C20 (Cool Blue, 32 GB)  realme    C20     Cool Blue  2 GB  32 GB   \n",
       "3    realme C20 (Cool Grey, 32 GB)  realme    C20     Cool Grey  2 GB  32 GB   \n",
       "4     POCO M3 (Power Black, 64 GB)    POCO     M3   Power Black  6 GB  64 GB   \n",
       "\n",
       "    Offers    Price               Exchange Offer  Ratings  \n",
       "0  18% off   ₹8,999                          NaN      4.4  \n",
       "1  18% off   ₹8,999                          NaN      4.4  \n",
       "2  15% off   ₹6,799  Upto ₹6,250 Off on Exchange      4.3  \n",
       "3  15% off   ₹6,799  Upto ₹6,250 Off on Exchange      4.3  \n",
       "4  19% off  ₹10,499  Upto ₹9,900 Off on Exchange      4.3  "
      ]
     },
     "execution_count": 584,
     "metadata": {},
     "output_type": "execute_result"
    }
   ],
   "source": [
    "data.head()"
   ]
  },
  {
   "cell_type": "markdown",
   "id": "18850324",
   "metadata": {},
   "source": [
    "## Yet to give a final clean process and Data Type conversion befor EDA"
   ]
  },
  {
   "cell_type": "code",
   "execution_count": 585,
   "id": "a2adcccf",
   "metadata": {},
   "outputs": [
    {
     "data": {
      "text/html": [
       "<div>\n",
       "<style scoped>\n",
       "    .dataframe tbody tr th:only-of-type {\n",
       "        vertical-align: middle;\n",
       "    }\n",
       "\n",
       "    .dataframe tbody tr th {\n",
       "        vertical-align: top;\n",
       "    }\n",
       "\n",
       "    .dataframe thead th {\n",
       "        text-align: right;\n",
       "    }\n",
       "</style>\n",
       "<table border=\"1\" class=\"dataframe\">\n",
       "  <thead>\n",
       "    <tr style=\"text-align: right;\">\n",
       "      <th></th>\n",
       "      <th>Product Description</th>\n",
       "      <th>Company</th>\n",
       "      <th>Model</th>\n",
       "      <th>Color</th>\n",
       "      <th>RAM</th>\n",
       "      <th>ROM</th>\n",
       "      <th>Offers</th>\n",
       "      <th>Price</th>\n",
       "      <th>Exchange Offer</th>\n",
       "      <th>Ratings</th>\n",
       "    </tr>\n",
       "  </thead>\n",
       "  <tbody>\n",
       "    <tr>\n",
       "      <th>0</th>\n",
       "      <td>realme C21 (Cross Blue, 64 GB)</td>\n",
       "      <td>realme</td>\n",
       "      <td>C21</td>\n",
       "      <td>Cross Blue</td>\n",
       "      <td>4 GB</td>\n",
       "      <td>64 GB</td>\n",
       "      <td>18% off</td>\n",
       "      <td>₹8,999</td>\n",
       "      <td>NaN</td>\n",
       "      <td>4.4</td>\n",
       "    </tr>\n",
       "    <tr>\n",
       "      <th>1</th>\n",
       "      <td>realme C21 (Cross Black, 64 GB)</td>\n",
       "      <td>realme</td>\n",
       "      <td>C21</td>\n",
       "      <td>Cross Black</td>\n",
       "      <td>4 GB</td>\n",
       "      <td>64 GB</td>\n",
       "      <td>18% off</td>\n",
       "      <td>₹8,999</td>\n",
       "      <td>NaN</td>\n",
       "      <td>4.4</td>\n",
       "    </tr>\n",
       "    <tr>\n",
       "      <th>2</th>\n",
       "      <td>realme C20 (Cool Blue, 32 GB)</td>\n",
       "      <td>realme</td>\n",
       "      <td>C20</td>\n",
       "      <td>Cool Blue</td>\n",
       "      <td>2 GB</td>\n",
       "      <td>32 GB</td>\n",
       "      <td>15% off</td>\n",
       "      <td>₹6,799</td>\n",
       "      <td>Upto ₹6,250 Off on Exchange</td>\n",
       "      <td>4.3</td>\n",
       "    </tr>\n",
       "    <tr>\n",
       "      <th>3</th>\n",
       "      <td>realme C20 (Cool Grey, 32 GB)</td>\n",
       "      <td>realme</td>\n",
       "      <td>C20</td>\n",
       "      <td>Cool Grey</td>\n",
       "      <td>2 GB</td>\n",
       "      <td>32 GB</td>\n",
       "      <td>15% off</td>\n",
       "      <td>₹6,799</td>\n",
       "      <td>Upto ₹6,250 Off on Exchange</td>\n",
       "      <td>4.3</td>\n",
       "    </tr>\n",
       "    <tr>\n",
       "      <th>4</th>\n",
       "      <td>POCO M3 (Power Black, 64 GB)</td>\n",
       "      <td>POCO</td>\n",
       "      <td>M3</td>\n",
       "      <td>Power Black</td>\n",
       "      <td>6 GB</td>\n",
       "      <td>64 GB</td>\n",
       "      <td>19% off</td>\n",
       "      <td>₹10,499</td>\n",
       "      <td>Upto ₹9,900 Off on Exchange</td>\n",
       "      <td>4.3</td>\n",
       "    </tr>\n",
       "  </tbody>\n",
       "</table>\n",
       "</div>"
      ],
      "text/plain": [
       "               Product Description  Company  Model        Color   RAM    ROM  \\\n",
       "0   realme C21 (Cross Blue, 64 GB)  realme    C21    Cross Blue  4 GB  64 GB   \n",
       "1  realme C21 (Cross Black, 64 GB)  realme    C21   Cross Black  4 GB  64 GB   \n",
       "2    realme C20 (Cool Blue, 32 GB)  realme    C20     Cool Blue  2 GB  32 GB   \n",
       "3    realme C20 (Cool Grey, 32 GB)  realme    C20     Cool Grey  2 GB  32 GB   \n",
       "4     POCO M3 (Power Black, 64 GB)    POCO     M3   Power Black  6 GB  64 GB   \n",
       "\n",
       "    Offers    Price               Exchange Offer  Ratings  \n",
       "0  18% off   ₹8,999                          NaN      4.4  \n",
       "1  18% off   ₹8,999                          NaN      4.4  \n",
       "2  15% off   ₹6,799  Upto ₹6,250 Off on Exchange      4.3  \n",
       "3  15% off   ₹6,799  Upto ₹6,250 Off on Exchange      4.3  \n",
       "4  19% off  ₹10,499  Upto ₹9,900 Off on Exchange      4.3  "
      ]
     },
     "execution_count": 585,
     "metadata": {},
     "output_type": "execute_result"
    }
   ],
   "source": [
    "data.head()\n"
   ]
  },
  {
   "cell_type": "code",
   "execution_count": 586,
   "id": "ba37e909",
   "metadata": {},
   "outputs": [],
   "source": [
    "regx=r'\\d+,\\d+'\n",
    "\n",
    "pregx=re.compile(regx)\n",
    "data['Price']=data['Price'].apply(lambda x:np.NaN if pregx.search(x) is None else pregx.search(x).group().replace(',',''))"
   ]
  },
  {
   "cell_type": "code",
   "execution_count": 587,
   "id": "b96ee56e",
   "metadata": {},
   "outputs": [
    {
     "data": {
      "text/html": [
       "<div>\n",
       "<style scoped>\n",
       "    .dataframe tbody tr th:only-of-type {\n",
       "        vertical-align: middle;\n",
       "    }\n",
       "\n",
       "    .dataframe tbody tr th {\n",
       "        vertical-align: top;\n",
       "    }\n",
       "\n",
       "    .dataframe thead th {\n",
       "        text-align: right;\n",
       "    }\n",
       "</style>\n",
       "<table border=\"1\" class=\"dataframe\">\n",
       "  <thead>\n",
       "    <tr style=\"text-align: right;\">\n",
       "      <th></th>\n",
       "      <th>Product Description</th>\n",
       "      <th>Company</th>\n",
       "      <th>Model</th>\n",
       "      <th>Color</th>\n",
       "      <th>RAM</th>\n",
       "      <th>ROM</th>\n",
       "      <th>Offers</th>\n",
       "      <th>Price</th>\n",
       "      <th>Exchange Offer</th>\n",
       "      <th>Ratings</th>\n",
       "    </tr>\n",
       "  </thead>\n",
       "  <tbody>\n",
       "    <tr>\n",
       "      <th>0</th>\n",
       "      <td>realme C21 (Cross Blue, 64 GB)</td>\n",
       "      <td>realme</td>\n",
       "      <td>C21</td>\n",
       "      <td>Cross Blue</td>\n",
       "      <td>4 GB</td>\n",
       "      <td>64 GB</td>\n",
       "      <td>18% off</td>\n",
       "      <td>8999</td>\n",
       "      <td>NaN</td>\n",
       "      <td>4.4</td>\n",
       "    </tr>\n",
       "    <tr>\n",
       "      <th>1</th>\n",
       "      <td>realme C21 (Cross Black, 64 GB)</td>\n",
       "      <td>realme</td>\n",
       "      <td>C21</td>\n",
       "      <td>Cross Black</td>\n",
       "      <td>4 GB</td>\n",
       "      <td>64 GB</td>\n",
       "      <td>18% off</td>\n",
       "      <td>8999</td>\n",
       "      <td>NaN</td>\n",
       "      <td>4.4</td>\n",
       "    </tr>\n",
       "    <tr>\n",
       "      <th>2</th>\n",
       "      <td>realme C20 (Cool Blue, 32 GB)</td>\n",
       "      <td>realme</td>\n",
       "      <td>C20</td>\n",
       "      <td>Cool Blue</td>\n",
       "      <td>2 GB</td>\n",
       "      <td>32 GB</td>\n",
       "      <td>15% off</td>\n",
       "      <td>6799</td>\n",
       "      <td>Upto ₹6,250 Off on Exchange</td>\n",
       "      <td>4.3</td>\n",
       "    </tr>\n",
       "    <tr>\n",
       "      <th>3</th>\n",
       "      <td>realme C20 (Cool Grey, 32 GB)</td>\n",
       "      <td>realme</td>\n",
       "      <td>C20</td>\n",
       "      <td>Cool Grey</td>\n",
       "      <td>2 GB</td>\n",
       "      <td>32 GB</td>\n",
       "      <td>15% off</td>\n",
       "      <td>6799</td>\n",
       "      <td>Upto ₹6,250 Off on Exchange</td>\n",
       "      <td>4.3</td>\n",
       "    </tr>\n",
       "    <tr>\n",
       "      <th>4</th>\n",
       "      <td>POCO M3 (Power Black, 64 GB)</td>\n",
       "      <td>POCO</td>\n",
       "      <td>M3</td>\n",
       "      <td>Power Black</td>\n",
       "      <td>6 GB</td>\n",
       "      <td>64 GB</td>\n",
       "      <td>19% off</td>\n",
       "      <td>10499</td>\n",
       "      <td>Upto ₹9,900 Off on Exchange</td>\n",
       "      <td>4.3</td>\n",
       "    </tr>\n",
       "  </tbody>\n",
       "</table>\n",
       "</div>"
      ],
      "text/plain": [
       "               Product Description  Company  Model        Color   RAM    ROM  \\\n",
       "0   realme C21 (Cross Blue, 64 GB)  realme    C21    Cross Blue  4 GB  64 GB   \n",
       "1  realme C21 (Cross Black, 64 GB)  realme    C21   Cross Black  4 GB  64 GB   \n",
       "2    realme C20 (Cool Blue, 32 GB)  realme    C20     Cool Blue  2 GB  32 GB   \n",
       "3    realme C20 (Cool Grey, 32 GB)  realme    C20     Cool Grey  2 GB  32 GB   \n",
       "4     POCO M3 (Power Black, 64 GB)    POCO     M3   Power Black  6 GB  64 GB   \n",
       "\n",
       "    Offers  Price               Exchange Offer  Ratings  \n",
       "0  18% off   8999                          NaN      4.4  \n",
       "1  18% off   8999                          NaN      4.4  \n",
       "2  15% off   6799  Upto ₹6,250 Off on Exchange      4.3  \n",
       "3  15% off   6799  Upto ₹6,250 Off on Exchange      4.3  \n",
       "4  19% off  10499  Upto ₹9,900 Off on Exchange      4.3  "
      ]
     },
     "execution_count": 587,
     "metadata": {},
     "output_type": "execute_result"
    }
   ],
   "source": [
    "data.head()"
   ]
  },
  {
   "cell_type": "code",
   "execution_count": 588,
   "id": "0634b2dd",
   "metadata": {},
   "outputs": [],
   "source": [
    "data['Price']=data['Price'].astype('float')"
   ]
  },
  {
   "cell_type": "code",
   "execution_count": 589,
   "id": "3e61a582",
   "metadata": {},
   "outputs": [
    {
     "data": {
      "text/plain": [
       "Product Description     object\n",
       "Company                 object\n",
       "Model                   object\n",
       "Color                   object\n",
       "RAM                     object\n",
       "ROM                     object\n",
       "Offers                  object\n",
       "Price                  float64\n",
       "Exchange Offer          object\n",
       "Ratings                float64\n",
       "dtype: object"
      ]
     },
     "execution_count": 589,
     "metadata": {},
     "output_type": "execute_result"
    }
   ],
   "source": [
    "data.dtypes"
   ]
  },
  {
   "cell_type": "code",
   "execution_count": 590,
   "id": "5ba5032e",
   "metadata": {},
   "outputs": [],
   "source": [
    "data['Offers']=data['Offers'].astype('str')\n",
    "regx=r'\\d+'\n",
    "pregx=re.compile(regx)\n",
    "data['Offers on Percentage']=data['Offers'].apply(lambda x:np.NaN if pregx.search(x) is None else pregx.search(x).group())"
   ]
  },
  {
   "cell_type": "code",
   "execution_count": 591,
   "id": "95c608f6",
   "metadata": {},
   "outputs": [],
   "source": [
    "data['Offers on Percentage']=data['Offers on Percentage'].astype('float')"
   ]
  },
  {
   "cell_type": "code",
   "execution_count": 592,
   "id": "180d0f40",
   "metadata": {},
   "outputs": [
    {
     "data": {
      "text/plain": [
       "Product Description      object\n",
       "Company                  object\n",
       "Model                    object\n",
       "Color                    object\n",
       "RAM                      object\n",
       "ROM                      object\n",
       "Offers                   object\n",
       "Price                   float64\n",
       "Exchange Offer           object\n",
       "Ratings                 float64\n",
       "Offers on Percentage    float64\n",
       "dtype: object"
      ]
     },
     "execution_count": 592,
     "metadata": {},
     "output_type": "execute_result"
    }
   ],
   "source": [
    "data.dtypes"
   ]
  },
  {
   "cell_type": "code",
   "execution_count": 593,
   "id": "bc115345",
   "metadata": {},
   "outputs": [
    {
     "data": {
      "text/html": [
       "<div>\n",
       "<style scoped>\n",
       "    .dataframe tbody tr th:only-of-type {\n",
       "        vertical-align: middle;\n",
       "    }\n",
       "\n",
       "    .dataframe tbody tr th {\n",
       "        vertical-align: top;\n",
       "    }\n",
       "\n",
       "    .dataframe thead th {\n",
       "        text-align: right;\n",
       "    }\n",
       "</style>\n",
       "<table border=\"1\" class=\"dataframe\">\n",
       "  <thead>\n",
       "    <tr style=\"text-align: right;\">\n",
       "      <th></th>\n",
       "      <th>Product Description</th>\n",
       "      <th>Company</th>\n",
       "      <th>Model</th>\n",
       "      <th>Color</th>\n",
       "      <th>RAM</th>\n",
       "      <th>ROM</th>\n",
       "      <th>Offers</th>\n",
       "      <th>Price</th>\n",
       "      <th>Exchange Offer</th>\n",
       "      <th>Ratings</th>\n",
       "      <th>Offers on Percentage</th>\n",
       "    </tr>\n",
       "  </thead>\n",
       "  <tbody>\n",
       "    <tr>\n",
       "      <th>0</th>\n",
       "      <td>realme C21 (Cross Blue, 64 GB)</td>\n",
       "      <td>realme</td>\n",
       "      <td>C21</td>\n",
       "      <td>Cross Blue</td>\n",
       "      <td>4 GB</td>\n",
       "      <td>64 GB</td>\n",
       "      <td>18% off</td>\n",
       "      <td>8999.0</td>\n",
       "      <td>NaN</td>\n",
       "      <td>4.4</td>\n",
       "      <td>18.0</td>\n",
       "    </tr>\n",
       "    <tr>\n",
       "      <th>1</th>\n",
       "      <td>realme C21 (Cross Black, 64 GB)</td>\n",
       "      <td>realme</td>\n",
       "      <td>C21</td>\n",
       "      <td>Cross Black</td>\n",
       "      <td>4 GB</td>\n",
       "      <td>64 GB</td>\n",
       "      <td>18% off</td>\n",
       "      <td>8999.0</td>\n",
       "      <td>NaN</td>\n",
       "      <td>4.4</td>\n",
       "      <td>18.0</td>\n",
       "    </tr>\n",
       "    <tr>\n",
       "      <th>2</th>\n",
       "      <td>realme C20 (Cool Blue, 32 GB)</td>\n",
       "      <td>realme</td>\n",
       "      <td>C20</td>\n",
       "      <td>Cool Blue</td>\n",
       "      <td>2 GB</td>\n",
       "      <td>32 GB</td>\n",
       "      <td>15% off</td>\n",
       "      <td>6799.0</td>\n",
       "      <td>Upto ₹6,250 Off on Exchange</td>\n",
       "      <td>4.3</td>\n",
       "      <td>15.0</td>\n",
       "    </tr>\n",
       "    <tr>\n",
       "      <th>3</th>\n",
       "      <td>realme C20 (Cool Grey, 32 GB)</td>\n",
       "      <td>realme</td>\n",
       "      <td>C20</td>\n",
       "      <td>Cool Grey</td>\n",
       "      <td>2 GB</td>\n",
       "      <td>32 GB</td>\n",
       "      <td>15% off</td>\n",
       "      <td>6799.0</td>\n",
       "      <td>Upto ₹6,250 Off on Exchange</td>\n",
       "      <td>4.3</td>\n",
       "      <td>15.0</td>\n",
       "    </tr>\n",
       "    <tr>\n",
       "      <th>4</th>\n",
       "      <td>POCO M3 (Power Black, 64 GB)</td>\n",
       "      <td>POCO</td>\n",
       "      <td>M3</td>\n",
       "      <td>Power Black</td>\n",
       "      <td>6 GB</td>\n",
       "      <td>64 GB</td>\n",
       "      <td>19% off</td>\n",
       "      <td>10499.0</td>\n",
       "      <td>Upto ₹9,900 Off on Exchange</td>\n",
       "      <td>4.3</td>\n",
       "      <td>19.0</td>\n",
       "    </tr>\n",
       "  </tbody>\n",
       "</table>\n",
       "</div>"
      ],
      "text/plain": [
       "               Product Description  Company  Model        Color   RAM    ROM  \\\n",
       "0   realme C21 (Cross Blue, 64 GB)  realme    C21    Cross Blue  4 GB  64 GB   \n",
       "1  realme C21 (Cross Black, 64 GB)  realme    C21   Cross Black  4 GB  64 GB   \n",
       "2    realme C20 (Cool Blue, 32 GB)  realme    C20     Cool Blue  2 GB  32 GB   \n",
       "3    realme C20 (Cool Grey, 32 GB)  realme    C20     Cool Grey  2 GB  32 GB   \n",
       "4     POCO M3 (Power Black, 64 GB)    POCO     M3   Power Black  6 GB  64 GB   \n",
       "\n",
       "    Offers    Price               Exchange Offer  Ratings  \\\n",
       "0  18% off   8999.0                          NaN      4.4   \n",
       "1  18% off   8999.0                          NaN      4.4   \n",
       "2  15% off   6799.0  Upto ₹6,250 Off on Exchange      4.3   \n",
       "3  15% off   6799.0  Upto ₹6,250 Off on Exchange      4.3   \n",
       "4  19% off  10499.0  Upto ₹9,900 Off on Exchange      4.3   \n",
       "\n",
       "   Offers on Percentage  \n",
       "0                  18.0  \n",
       "1                  18.0  \n",
       "2                  15.0  \n",
       "3                  15.0  \n",
       "4                  19.0  "
      ]
     },
     "execution_count": 593,
     "metadata": {},
     "output_type": "execute_result"
    }
   ],
   "source": [
    "data.head()"
   ]
  },
  {
   "cell_type": "code",
   "execution_count": 594,
   "id": "ae6eb591",
   "metadata": {},
   "outputs": [],
   "source": [
    "data['Exchange Offer']=data['Exchange Offer'].astype('str')\n",
    "regx=r'\\d+,\\d+'\n",
    "pregx=re.compile(regx)\n",
    "data['Exchange Offer in Rupees']=data['Exchange Offer'].apply(lambda x:np.NaN if pregx.search(x) is None else pregx.search(x).group().replace(',',''))"
   ]
  },
  {
   "cell_type": "code",
   "execution_count": 595,
   "id": "657522b3",
   "metadata": {},
   "outputs": [],
   "source": [
    "data['Exchange Offer in Rupees']=data['Exchange Offer in Rupees'].astype('float')"
   ]
  },
  {
   "cell_type": "code",
   "execution_count": 596,
   "id": "f29d4dcc",
   "metadata": {},
   "outputs": [
    {
     "data": {
      "text/plain": [
       "Product Description          object\n",
       "Company                      object\n",
       "Model                        object\n",
       "Color                        object\n",
       "RAM                          object\n",
       "ROM                          object\n",
       "Offers                       object\n",
       "Price                       float64\n",
       "Exchange Offer               object\n",
       "Ratings                     float64\n",
       "Offers on Percentage        float64\n",
       "Exchange Offer in Rupees    float64\n",
       "dtype: object"
      ]
     },
     "execution_count": 596,
     "metadata": {},
     "output_type": "execute_result"
    }
   ],
   "source": [
    "data.dtypes"
   ]
  },
  {
   "cell_type": "code",
   "execution_count": 597,
   "id": "44e1a683",
   "metadata": {},
   "outputs": [
    {
     "data": {
      "text/html": [
       "<div>\n",
       "<style scoped>\n",
       "    .dataframe tbody tr th:only-of-type {\n",
       "        vertical-align: middle;\n",
       "    }\n",
       "\n",
       "    .dataframe tbody tr th {\n",
       "        vertical-align: top;\n",
       "    }\n",
       "\n",
       "    .dataframe thead th {\n",
       "        text-align: right;\n",
       "    }\n",
       "</style>\n",
       "<table border=\"1\" class=\"dataframe\">\n",
       "  <thead>\n",
       "    <tr style=\"text-align: right;\">\n",
       "      <th></th>\n",
       "      <th>Product Description</th>\n",
       "      <th>Company</th>\n",
       "      <th>Model</th>\n",
       "      <th>Color</th>\n",
       "      <th>RAM</th>\n",
       "      <th>ROM</th>\n",
       "      <th>Offers</th>\n",
       "      <th>Price</th>\n",
       "      <th>Exchange Offer</th>\n",
       "      <th>Ratings</th>\n",
       "      <th>Offers on Percentage</th>\n",
       "      <th>Exchange Offer in Rupees</th>\n",
       "    </tr>\n",
       "  </thead>\n",
       "  <tbody>\n",
       "    <tr>\n",
       "      <th>0</th>\n",
       "      <td>realme C21 (Cross Blue, 64 GB)</td>\n",
       "      <td>realme</td>\n",
       "      <td>C21</td>\n",
       "      <td>Cross Blue</td>\n",
       "      <td>4 GB</td>\n",
       "      <td>64 GB</td>\n",
       "      <td>18% off</td>\n",
       "      <td>8999.0</td>\n",
       "      <td>nan</td>\n",
       "      <td>4.4</td>\n",
       "      <td>18.0</td>\n",
       "      <td>NaN</td>\n",
       "    </tr>\n",
       "    <tr>\n",
       "      <th>1</th>\n",
       "      <td>realme C21 (Cross Black, 64 GB)</td>\n",
       "      <td>realme</td>\n",
       "      <td>C21</td>\n",
       "      <td>Cross Black</td>\n",
       "      <td>4 GB</td>\n",
       "      <td>64 GB</td>\n",
       "      <td>18% off</td>\n",
       "      <td>8999.0</td>\n",
       "      <td>nan</td>\n",
       "      <td>4.4</td>\n",
       "      <td>18.0</td>\n",
       "      <td>NaN</td>\n",
       "    </tr>\n",
       "    <tr>\n",
       "      <th>2</th>\n",
       "      <td>realme C20 (Cool Blue, 32 GB)</td>\n",
       "      <td>realme</td>\n",
       "      <td>C20</td>\n",
       "      <td>Cool Blue</td>\n",
       "      <td>2 GB</td>\n",
       "      <td>32 GB</td>\n",
       "      <td>15% off</td>\n",
       "      <td>6799.0</td>\n",
       "      <td>Upto ₹6,250 Off on Exchange</td>\n",
       "      <td>4.3</td>\n",
       "      <td>15.0</td>\n",
       "      <td>6250.0</td>\n",
       "    </tr>\n",
       "    <tr>\n",
       "      <th>3</th>\n",
       "      <td>realme C20 (Cool Grey, 32 GB)</td>\n",
       "      <td>realme</td>\n",
       "      <td>C20</td>\n",
       "      <td>Cool Grey</td>\n",
       "      <td>2 GB</td>\n",
       "      <td>32 GB</td>\n",
       "      <td>15% off</td>\n",
       "      <td>6799.0</td>\n",
       "      <td>Upto ₹6,250 Off on Exchange</td>\n",
       "      <td>4.3</td>\n",
       "      <td>15.0</td>\n",
       "      <td>6250.0</td>\n",
       "    </tr>\n",
       "    <tr>\n",
       "      <th>4</th>\n",
       "      <td>POCO M3 (Power Black, 64 GB)</td>\n",
       "      <td>POCO</td>\n",
       "      <td>M3</td>\n",
       "      <td>Power Black</td>\n",
       "      <td>6 GB</td>\n",
       "      <td>64 GB</td>\n",
       "      <td>19% off</td>\n",
       "      <td>10499.0</td>\n",
       "      <td>Upto ₹9,900 Off on Exchange</td>\n",
       "      <td>4.3</td>\n",
       "      <td>19.0</td>\n",
       "      <td>9900.0</td>\n",
       "    </tr>\n",
       "  </tbody>\n",
       "</table>\n",
       "</div>"
      ],
      "text/plain": [
       "               Product Description  Company  Model        Color   RAM    ROM  \\\n",
       "0   realme C21 (Cross Blue, 64 GB)  realme    C21    Cross Blue  4 GB  64 GB   \n",
       "1  realme C21 (Cross Black, 64 GB)  realme    C21   Cross Black  4 GB  64 GB   \n",
       "2    realme C20 (Cool Blue, 32 GB)  realme    C20     Cool Blue  2 GB  32 GB   \n",
       "3    realme C20 (Cool Grey, 32 GB)  realme    C20     Cool Grey  2 GB  32 GB   \n",
       "4     POCO M3 (Power Black, 64 GB)    POCO     M3   Power Black  6 GB  64 GB   \n",
       "\n",
       "    Offers    Price               Exchange Offer  Ratings  \\\n",
       "0  18% off   8999.0                          nan      4.4   \n",
       "1  18% off   8999.0                          nan      4.4   \n",
       "2  15% off   6799.0  Upto ₹6,250 Off on Exchange      4.3   \n",
       "3  15% off   6799.0  Upto ₹6,250 Off on Exchange      4.3   \n",
       "4  19% off  10499.0  Upto ₹9,900 Off on Exchange      4.3   \n",
       "\n",
       "   Offers on Percentage  Exchange Offer in Rupees  \n",
       "0                  18.0                       NaN  \n",
       "1                  18.0                       NaN  \n",
       "2                  15.0                    6250.0  \n",
       "3                  15.0                    6250.0  \n",
       "4                  19.0                    9900.0  "
      ]
     },
     "execution_count": 597,
     "metadata": {},
     "output_type": "execute_result"
    }
   ],
   "source": [
    "data.head()"
   ]
  },
  {
   "cell_type": "markdown",
   "id": "c842acbe",
   "metadata": {},
   "source": [
    "## Data is cleaned with data type conversion"
   ]
  },
  {
   "cell_type": "markdown",
   "id": "534af19e",
   "metadata": {},
   "source": [
    "## Unnecessary columns dropped"
   ]
  },
  {
   "cell_type": "code",
   "execution_count": 598,
   "id": "5f8f7105",
   "metadata": {},
   "outputs": [],
   "source": [
    "data.drop(['Offers','Exchange Offer'],axis=1,inplace=True)"
   ]
  },
  {
   "cell_type": "code",
   "execution_count": 599,
   "id": "55e39f65",
   "metadata": {},
   "outputs": [
    {
     "data": {
      "text/html": [
       "<div>\n",
       "<style scoped>\n",
       "    .dataframe tbody tr th:only-of-type {\n",
       "        vertical-align: middle;\n",
       "    }\n",
       "\n",
       "    .dataframe tbody tr th {\n",
       "        vertical-align: top;\n",
       "    }\n",
       "\n",
       "    .dataframe thead th {\n",
       "        text-align: right;\n",
       "    }\n",
       "</style>\n",
       "<table border=\"1\" class=\"dataframe\">\n",
       "  <thead>\n",
       "    <tr style=\"text-align: right;\">\n",
       "      <th></th>\n",
       "      <th>Product Description</th>\n",
       "      <th>Company</th>\n",
       "      <th>Model</th>\n",
       "      <th>Color</th>\n",
       "      <th>RAM</th>\n",
       "      <th>ROM</th>\n",
       "      <th>Price</th>\n",
       "      <th>Ratings</th>\n",
       "      <th>Offers on Percentage</th>\n",
       "      <th>Exchange Offer in Rupees</th>\n",
       "    </tr>\n",
       "  </thead>\n",
       "  <tbody>\n",
       "    <tr>\n",
       "      <th>0</th>\n",
       "      <td>realme C21 (Cross Blue, 64 GB)</td>\n",
       "      <td>realme</td>\n",
       "      <td>C21</td>\n",
       "      <td>Cross Blue</td>\n",
       "      <td>4 GB</td>\n",
       "      <td>64 GB</td>\n",
       "      <td>8999.0</td>\n",
       "      <td>4.4</td>\n",
       "      <td>18.0</td>\n",
       "      <td>NaN</td>\n",
       "    </tr>\n",
       "    <tr>\n",
       "      <th>1</th>\n",
       "      <td>realme C21 (Cross Black, 64 GB)</td>\n",
       "      <td>realme</td>\n",
       "      <td>C21</td>\n",
       "      <td>Cross Black</td>\n",
       "      <td>4 GB</td>\n",
       "      <td>64 GB</td>\n",
       "      <td>8999.0</td>\n",
       "      <td>4.4</td>\n",
       "      <td>18.0</td>\n",
       "      <td>NaN</td>\n",
       "    </tr>\n",
       "    <tr>\n",
       "      <th>2</th>\n",
       "      <td>realme C20 (Cool Blue, 32 GB)</td>\n",
       "      <td>realme</td>\n",
       "      <td>C20</td>\n",
       "      <td>Cool Blue</td>\n",
       "      <td>2 GB</td>\n",
       "      <td>32 GB</td>\n",
       "      <td>6799.0</td>\n",
       "      <td>4.3</td>\n",
       "      <td>15.0</td>\n",
       "      <td>6250.0</td>\n",
       "    </tr>\n",
       "    <tr>\n",
       "      <th>3</th>\n",
       "      <td>realme C20 (Cool Grey, 32 GB)</td>\n",
       "      <td>realme</td>\n",
       "      <td>C20</td>\n",
       "      <td>Cool Grey</td>\n",
       "      <td>2 GB</td>\n",
       "      <td>32 GB</td>\n",
       "      <td>6799.0</td>\n",
       "      <td>4.3</td>\n",
       "      <td>15.0</td>\n",
       "      <td>6250.0</td>\n",
       "    </tr>\n",
       "    <tr>\n",
       "      <th>4</th>\n",
       "      <td>POCO M3 (Power Black, 64 GB)</td>\n",
       "      <td>POCO</td>\n",
       "      <td>M3</td>\n",
       "      <td>Power Black</td>\n",
       "      <td>6 GB</td>\n",
       "      <td>64 GB</td>\n",
       "      <td>10499.0</td>\n",
       "      <td>4.3</td>\n",
       "      <td>19.0</td>\n",
       "      <td>9900.0</td>\n",
       "    </tr>\n",
       "  </tbody>\n",
       "</table>\n",
       "</div>"
      ],
      "text/plain": [
       "               Product Description  Company  Model        Color   RAM    ROM  \\\n",
       "0   realme C21 (Cross Blue, 64 GB)  realme    C21    Cross Blue  4 GB  64 GB   \n",
       "1  realme C21 (Cross Black, 64 GB)  realme    C21   Cross Black  4 GB  64 GB   \n",
       "2    realme C20 (Cool Blue, 32 GB)  realme    C20     Cool Blue  2 GB  32 GB   \n",
       "3    realme C20 (Cool Grey, 32 GB)  realme    C20     Cool Grey  2 GB  32 GB   \n",
       "4     POCO M3 (Power Black, 64 GB)    POCO     M3   Power Black  6 GB  64 GB   \n",
       "\n",
       "     Price  Ratings  Offers on Percentage  Exchange Offer in Rupees  \n",
       "0   8999.0      4.4                  18.0                       NaN  \n",
       "1   8999.0      4.4                  18.0                       NaN  \n",
       "2   6799.0      4.3                  15.0                    6250.0  \n",
       "3   6799.0      4.3                  15.0                    6250.0  \n",
       "4  10499.0      4.3                  19.0                    9900.0  "
      ]
     },
     "execution_count": 599,
     "metadata": {},
     "output_type": "execute_result"
    }
   ],
   "source": [
    "data.head()"
   ]
  },
  {
   "cell_type": "markdown",
   "id": "502689a3",
   "metadata": {},
   "source": [
    "# `EDA`"
   ]
  },
  {
   "cell_type": "code",
   "execution_count": 600,
   "id": "282f0170",
   "metadata": {},
   "outputs": [
    {
     "data": {
      "text/plain": [
       "Index(['Product Description', 'Company', 'Model', 'Color', 'RAM', 'ROM',\n",
       "       'Price', 'Ratings', 'Offers on Percentage', 'Exchange Offer in Rupees'],\n",
       "      dtype='object')"
      ]
     },
     "execution_count": 600,
     "metadata": {},
     "output_type": "execute_result"
    }
   ],
   "source": [
    "data.columns"
   ]
  },
  {
   "cell_type": "code",
   "execution_count": 601,
   "id": "c2d6924a",
   "metadata": {},
   "outputs": [
    {
     "data": {
      "text/plain": [
       "(960, 10)"
      ]
     },
     "execution_count": 601,
     "metadata": {},
     "output_type": "execute_result"
    }
   ],
   "source": [
    "data.shape"
   ]
  },
  {
   "cell_type": "code",
   "execution_count": 602,
   "id": "f50babb9",
   "metadata": {},
   "outputs": [
    {
     "name": "stdout",
     "output_type": "stream",
     "text": [
      "<class 'pandas.core.frame.DataFrame'>\n",
      "RangeIndex: 960 entries, 0 to 959\n",
      "Data columns (total 10 columns):\n",
      " #   Column                    Non-Null Count  Dtype  \n",
      "---  ------                    --------------  -----  \n",
      " 0   Product Description       960 non-null    object \n",
      " 1   Company                   960 non-null    object \n",
      " 2   Model                     960 non-null    object \n",
      " 3   Color                     560 non-null    object \n",
      " 4   RAM                       530 non-null    object \n",
      " 5   ROM                       560 non-null    object \n",
      " 6   Price                     806 non-null    float64\n",
      " 7   Ratings                   948 non-null    float64\n",
      " 8   Offers on Percentage      580 non-null    float64\n",
      " 9   Exchange Offer in Rupees  405 non-null    float64\n",
      "dtypes: float64(4), object(6)\n",
      "memory usage: 75.1+ KB\n"
     ]
    }
   ],
   "source": [
    "data.info()"
   ]
  },
  {
   "cell_type": "code",
   "execution_count": 603,
   "id": "8547e404",
   "metadata": {},
   "outputs": [
    {
     "data": {
      "text/plain": [
       "Product Description           0\n",
       "Company                       0\n",
       "Model                         0\n",
       "Color                       400\n",
       "RAM                         430\n",
       "ROM                         400\n",
       "Price                       154\n",
       "Ratings                      12\n",
       "Offers on Percentage        380\n",
       "Exchange Offer in Rupees    555\n",
       "dtype: int64"
      ]
     },
     "execution_count": 603,
     "metadata": {},
     "output_type": "execute_result"
    }
   ],
   "source": [
    "data.isnull().sum()"
   ]
  },
  {
   "cell_type": "markdown",
   "id": "54300085",
   "metadata": {},
   "source": [
    "## Process missing values"
   ]
  },
  {
   "cell_type": "markdown",
   "id": "98d6b72b",
   "metadata": {},
   "source": [
    "#### There are missing values in `Offers in percentage` and `Exchange offer in rupees` column, Actually they are not missing. The fact is `company do not provide offer\n",
    "\n",
    "\n",
    "#### We can `assume` ROM missing values as mode of ROM column\n",
    "#### We can `assume` RAM missing values as mode of RAM column\n",
    "#### We can `assume` Color missing values as mode of Color column\n",
    "#### We have to replace Price column missing values by some feature engineering techniques ( by RAM or ROM )\n",
    "\n",
    "\n",
    "## It's the safest "
   ]
  },
  {
   "cell_type": "code",
   "execution_count": 604,
   "id": "44975c71",
   "metadata": {},
   "outputs": [
    {
     "data": {
      "text/plain": [
       "Product Description           0\n",
       "Company                       0\n",
       "Model                         0\n",
       "Color                       400\n",
       "RAM                         430\n",
       "ROM                         400\n",
       "Price                       154\n",
       "Ratings                      12\n",
       "Offers on Percentage        380\n",
       "Exchange Offer in Rupees    555\n",
       "dtype: int64"
      ]
     },
     "execution_count": 604,
     "metadata": {},
     "output_type": "execute_result"
    }
   ],
   "source": [
    "data.isnull().sum()"
   ]
  },
  {
   "cell_type": "code",
   "execution_count": 605,
   "id": "271a787d",
   "metadata": {},
   "outputs": [
    {
     "data": {
      "text/plain": [
       "0    128 GB\n",
       "dtype: object"
      ]
     },
     "execution_count": 605,
     "metadata": {},
     "output_type": "execute_result"
    }
   ],
   "source": [
    "data['ROM'].mode()"
   ]
  },
  {
   "cell_type": "code",
   "execution_count": 606,
   "id": "ae1f3e0a",
   "metadata": {},
   "outputs": [
    {
     "data": {
      "text/plain": [
       "0    4 GB\n",
       "dtype: object"
      ]
     },
     "execution_count": 606,
     "metadata": {},
     "output_type": "execute_result"
    }
   ],
   "source": [
    "data['RAM'].mode()"
   ]
  },
  {
   "cell_type": "code",
   "execution_count": 607,
   "id": "882e218a",
   "metadata": {},
   "outputs": [
    {
     "data": {
      "text/plain": [
       "0    Blue\n",
       "dtype: object"
      ]
     },
     "execution_count": 607,
     "metadata": {},
     "output_type": "execute_result"
    }
   ],
   "source": [
    "data['Color'].mode()"
   ]
  },
  {
   "cell_type": "code",
   "execution_count": 608,
   "id": "f4c2686c",
   "metadata": {},
   "outputs": [],
   "source": [
    "data['ROM'].fillna(value='64 GB',inplace=True)"
   ]
  },
  {
   "cell_type": "code",
   "execution_count": 609,
   "id": "96b5f61a",
   "metadata": {},
   "outputs": [],
   "source": [
    "data['RAM'].fillna(value='4 GB',inplace=True)"
   ]
  },
  {
   "cell_type": "code",
   "execution_count": 610,
   "id": "7750eeba",
   "metadata": {},
   "outputs": [],
   "source": [
    "data['Color'].fillna(value='Blue',inplace=True)"
   ]
  },
  {
   "cell_type": "code",
   "execution_count": 611,
   "id": "bb1b9b96",
   "metadata": {},
   "outputs": [
    {
     "data": {
      "text/plain": [
       "Product Description           0\n",
       "Company                       0\n",
       "Model                         0\n",
       "Color                         0\n",
       "RAM                           0\n",
       "ROM                           0\n",
       "Price                       154\n",
       "Ratings                      12\n",
       "Offers on Percentage        380\n",
       "Exchange Offer in Rupees    555\n",
       "dtype: int64"
      ]
     },
     "execution_count": 611,
     "metadata": {},
     "output_type": "execute_result"
    }
   ],
   "source": [
    "data.isnull().sum()"
   ]
  },
  {
   "cell_type": "markdown",
   "id": "6d2fe25d",
   "metadata": {},
   "source": [
    "## `Univariate Analysis`"
   ]
  },
  {
   "cell_type": "code",
   "execution_count": 621,
   "id": "d21a5245",
   "metadata": {},
   "outputs": [
    {
     "data": {
      "text/plain": [
       "Index(['Product Description', 'Company', 'Model', 'Color', 'RAM', 'ROM',\n",
       "       'Price', 'Ratings', 'Offers on Percentage', 'Exchange Offer in Rupees'],\n",
       "      dtype='object')"
      ]
     },
     "execution_count": 621,
     "metadata": {},
     "output_type": "execute_result"
    }
   ],
   "source": [
    "data.columns"
   ]
  },
  {
   "cell_type": "markdown",
   "id": "9e76b043",
   "metadata": {},
   "source": [
    "## Categorical Data:\n",
    "- Company\n",
    "- Model\n",
    "- Color\n",
    "- RAM\n",
    "- ROM\n",
    "\n",
    "## Numerical Data:\n",
    "- Price\n",
    "- Ratings\n",
    "- Offers on Percentage\n",
    "- Exchange Offer in Rupees"
   ]
  },
  {
   "cell_type": "code",
   "execution_count": 612,
   "id": "911a57ad",
   "metadata": {},
   "outputs": [],
   "source": [
    "import seaborn as sns\n",
    "import matplotlib.pyplot as plt\n",
    "import plotly.express as px"
   ]
  },
  {
   "cell_type": "markdown",
   "id": "a1352fab",
   "metadata": {},
   "source": [
    "## - Company"
   ]
  },
  {
   "cell_type": "code",
   "execution_count": 613,
   "id": "642f8ac0",
   "metadata": {},
   "outputs": [
    {
     "data": {
      "text/plain": [
       "SAMSUNG        106\n",
       "realme         101\n",
       "Kechaoda        74\n",
       "REDMI           67\n",
       "Itel            58\n",
       "OPPO            52\n",
       "KARBONN         38\n",
       "Infinix         38\n",
       "POCO            35\n",
       "LAVA            34\n",
       "ViVO            32\n",
       "GFive           29\n",
       "Nokia           27\n",
       "APPLE           26\n",
       "I               22\n",
       "Micromax        22\n",
       "Redmi           19\n",
       "BlackZone       17\n",
       "MOTOROLA        16\n",
       "Snexian         15\n",
       "Tecno           14\n",
       "GIONEE           9\n",
       "GREENBERRI       7\n",
       "Salora           6\n",
       "Forme            6\n",
       "Ismart           6\n",
       "Easyfone         6\n",
       "MU               5\n",
       "Mi               5\n",
       "Jmax             4\n",
       "MI               4\n",
       "GreenBerry       4\n",
       "Intex            4\n",
       "Panasonic        4\n",
       "Nuvo             4\n",
       "Apple            4\n",
       "Good             4\n",
       "Geotel           3\n",
       "DETEL            3\n",
       "Jivi             3\n",
       "Lava             3\n",
       "Tork             2\n",
       "KXD              2\n",
       "LG               2\n",
       "Spinup           2\n",
       "Jio              2\n",
       "Coolpad          2\n",
       "Infocus          2\n",
       "Quick            2\n",
       "ENERGIZER        1\n",
       "Google           1\n",
       "anee             1\n",
       "Ssky             1\n",
       "INOVU            1\n",
       "ASUS             1\n",
       "Voto             1\n",
       "Honor            1\n",
       "Name: Company, dtype: int64"
      ]
     },
     "execution_count": 613,
     "metadata": {},
     "output_type": "execute_result"
    }
   ],
   "source": [
    "data['Company'].value_counts()"
   ]
  },
  {
   "cell_type": "code",
   "execution_count": 614,
   "id": "8cb7b6d6",
   "metadata": {},
   "outputs": [
    {
     "data": {
      "text/plain": [
       "<AxesSubplot:>"
      ]
     },
     "execution_count": 614,
     "metadata": {},
     "output_type": "execute_result"
    },
    {
     "data": {
      "image/png": "[encoded data removed]",
      "text/plain": [
       "<Figure size 1440x1152 with 1 Axes>"
      ]
     },
     "metadata": {
      "needs_background": "light"
     },
     "output_type": "display_data"
    }
   ],
   "source": [
    "plt.figure(figsize=(20,16))\n",
    "data['Company'].value_counts().plot.bar()"
   ]
  },
  {
   "cell_type": "markdown",
   "id": "7f58ec06",
   "metadata": {},
   "source": [
    "## - RAM"
   ]
  },
  {
   "cell_type": "code",
   "execution_count": 619,
   "id": "7d4be226",
   "metadata": {},
   "outputs": [
    {
     "data": {
      "text/plain": [
       "4 GB     605\n",
       "6 GB     135\n",
       "8 GB      88\n",
       "2 GB      67\n",
       "3 GB      54\n",
       "12 GB      8\n",
       "1 GB       3\n",
       "Name: RAM, dtype: int64"
      ]
     },
     "execution_count": 619,
     "metadata": {},
     "output_type": "execute_result"
    }
   ],
   "source": [
    "data['RAM'].value_counts()"
   ]
  },
  {
   "cell_type": "code",
   "execution_count": 616,
   "id": "c49dd813",
   "metadata": {},
   "outputs": [
    {
     "data": {
      "application/vnd.plotly.v1+json": {
       "config": {
        "plotlyServerURL": "https://plot.ly"
       },
       "data": [
        {
         "alignmentgroup": "True",
         "hovertemplate": "x=%{x}<br>count=%{y}<extra></extra>",
         "legendgroup": "",
         "marker": {
          "color": "#636efa"
         },
         "name": "",
         "offsetgroup": "",
         "orientation": "v",
         "showlegend": false,
         "textposition": "auto",
         "type": "bar",
         "x": [
          "4 GB",
          "4 GB",
          "2 GB",
          "2 GB",
          "6 GB",
          "4 GB",
          "6 GB",
          "4 GB",
          "3 GB",
          "4 GB",
          "3 GB",
          "2 GB",
          "2 GB",
          "2 GB",
          "2 GB",
          "4 GB",
          "4 GB",
          "2 GB",
          "4 GB",
          "4 GB",
          "3 GB",
          "2 GB",
          "3 GB",
          "3 GB",
          "3 GB",
          "4 GB",
          "2 GB",
          "6 GB",
          "4 GB",
          "6 GB",
          "8 GB",
          "4 GB",
          "4 GB",
          "4 GB",
          "3 GB",
          "4 GB",
          "4 GB",
          "6 GB",
          "4 GB",
          "4 GB",
          "4 GB",
          "4 GB",
          "2 GB",
          "2 GB",
          "4 GB",
          "6 GB",
          "3 GB",
          "3 GB",
          "4 GB",
          "6 GB",
          "4 GB",
          "2 GB",
          "2 GB",
          "2 GB",
          "2 GB",
          "4 GB",
          "4 GB",
          "2 GB",
          "4 GB",
          "3 GB",
          "4 GB",
          "3 GB",
          "3 GB",
          "3 GB",
          "2 GB",
          "4 GB",
          "6 GB",
          "6 GB",
          "4 GB",
          "4 GB",
          "8 GB",
          "4 GB",
          "4 GB",
          "6 GB",
          "4 GB",
          "4 GB",
          "4 GB",
          "4 GB",
          "4 GB",
          "4 GB",
          "4 GB",
          "4 GB",
          "4 GB",
          "2 GB",
          "4 GB",
          "4 GB",
          "2 GB",
          "6 GB",
          "2 GB",
          "6 GB",
          "3 GB",
          "4 GB",
          "4 GB",
          "4 GB",
          "4 GB",
          "4 GB",
          "4 GB",
          "4 GB",
          "6 GB",
          "4 GB",
          "8 GB",
          "4 GB",
          "4 GB",
          "4 GB",
          "4 GB",
          "6 GB",
          "4 GB",
          "4 GB",
          "6 GB",
          "4 GB",
          "4 GB",
          "4 GB",
          "8 GB",
          "6 GB",
          "8 GB",
          "4 GB",
          "6 GB",
          "8 GB",
          "6 GB",
          "8 GB",
          "4 GB",
          "4 GB",
          "4 GB",
          "6 GB",
          "6 GB",
          "4 GB",
          "4 GB",
          "4 GB",
          "4 GB",
          "4 GB",
          "4 GB",
          "4 GB",
          "3 GB",
          "3 GB",
          "4 GB",
          "6 GB",
          "4 GB",
          "3 GB",
          "4 GB",
          "4 GB",
          "4 GB",
          "4 GB",
          "2 GB",
          "6 GB",
          "8 GB",
          "4 GB",
          "4 GB",
          "4 GB",
          "4 GB",
          "4 GB",
          "4 GB",
          "3 GB",
          "3 GB",
          "3 GB",
          "4 GB",
          "4 GB",
          "6 GB",
          "4 GB",
          "6 GB",
          "6 GB",
          "3 GB",
          "4 GB",
          "4 GB",
          "4 GB",
          "4 GB",
          "4 GB",
          "8 GB",
          "6 GB",
          "4 GB",
          "4 GB",
          "3 GB",
          "3 GB",
          "4 GB",
          "4 GB",
          "4 GB",
          "4 GB",
          "4 GB",
          "6 GB",
          "4 GB",
          "8 GB",
          "4 GB",
          "4 GB",
          "6 GB",
          "4 GB",
          "4 GB",
          "2 GB",
          "2 GB",
          "4 GB",
          "6 GB",
          "4 GB",
          "4 GB",
          "6 GB",
          "8 GB",
          "3 GB",
          "6 GB",
          "4 GB",
          "4 GB",
          "8 GB",
          "4 GB",
          "4 GB",
          "4 GB",
          "6 GB",
          "2 GB",
          "2 GB",
          "2 GB",
          "4 GB",
          "6 GB",
          "4 GB",
          "4 GB",
          "6 GB",
          "3 GB",
          "4 GB",
          "4 GB",
          "4 GB",
          "4 GB",
          "4 GB",
          "4 GB",
          "4 GB",
          "4 GB",
          "4 GB",
          "8 GB",
          "4 GB",
          "8 GB",
          "4 GB",
          "2 GB",
          "4 GB",
          "4 GB",
          "6 GB",
          "6 GB",
          "6 GB",
          "4 GB",
          "3 GB",
          "4 GB",
          "4 GB",
          "6 GB",
          "8 GB",
          "4 GB",
          "4 GB",
          "6 GB",
          "6 GB",
          "4 GB",
          "4 GB",
          "4 GB",
          "4 GB",
          "8 GB",
          "2 GB",
          "6 GB",
          "8 GB",
          "4 GB",
          "6 GB",
          "4 GB",
          "4 GB",
          "6 GB",
          "8 GB",
          "4 GB",
          "2 GB",
          "4 GB",
          "4 GB",
          "4 GB",
          "4 GB",
          "4 GB",
          "6 GB",
          "2 GB",
          "4 GB",
          "4 GB",
          "6 GB",
          "4 GB",
          "8 GB",
          "4 GB",
          "4 GB",
          "8 GB",
          "8 GB",
          "4 GB",
          "2 GB",
          "2 GB",
          "3 GB",
          "8 GB",
          "6 GB",
          "6 GB",
          "2 GB",
          "2 GB",
          "4 GB",
          "4 GB",
          "4 GB",
          "3 GB",
          "8 GB",
          "4 GB",
          "4 GB",
          "2 GB",
          "4 GB",
          "4 GB",
          "8 GB",
          "8 GB",
          "8 GB",
          "4 GB",
          "4 GB",
          "4 GB",
          "4 GB",
          "4 GB",
          "4 GB",
          "2 GB",
          "6 GB",
          "4 GB",
          "4 GB",
          "4 GB",
          "6 GB",
          "4 GB",
          "4 GB",
          "2 GB",
          "3 GB",
          "2 GB",
          "4 GB",
          "4 GB",
          "4 GB",
          "4 GB",
          "8 GB",
          "6 GB",
          "4 GB",
          "8 GB",
          "8 GB",
          "4 GB",
          "6 GB",
          "4 GB",
          "4 GB",
          "4 GB",
          "4 GB",
          "4 GB",
          "4 GB",
          "3 GB",
          "6 GB",
          "2 GB",
          "8 GB",
          "6 GB",
          "4 GB",
          "2 GB",
          "4 GB",
          "4 GB",
          "4 GB",
          "4 GB",
          "4 GB",
          "3 GB",
          "4 GB",
          "4 GB",
          "6 GB",
          "2 GB",
          "6 GB",
          "4 GB",
          "4 GB",
          "6 GB",
          "4 GB",
          "4 GB",
          "6 GB",
          "4 GB",
          "4 GB",
          "4 GB",
          "4 GB",
          "4 GB",
          "4 GB",
          "4 GB",
          "4 GB",
          "4 GB",
          "4 GB",
          "4 GB",
          "6 GB",
          "4 GB",
          "6 GB",
          "8 GB",
          "6 GB",
          "4 GB",
          "4 GB",
          "3 GB",
          "6 GB",
          "8 GB",
          "6 GB",
          "4 GB",
          "4 GB",
          "4 GB",
          "4 GB",
          "8 GB",
          "4 GB",
          "6 GB",
          "4 GB",
          "4 GB",
          "4 GB",
          "4 GB",
          "4 GB",
          "8 GB",
          "4 GB",
          "6 GB",
          "4 GB",
          "4 GB",
          "4 GB",
          "4 GB",
          "8 GB",
          "8 GB",
          "8 GB",
          "4 GB",
          "6 GB",
          "4 GB",
          "6 GB",
          "4 GB",
          "4 GB",
          "4 GB",
          "4 GB",
          "4 GB",
          "8 GB",
          "4 GB",
          "4 GB",
          "4 GB",
          "4 GB",
          "6 GB",
          "8 GB",
          "4 GB",
          "6 GB",
          "4 GB",
          "4 GB",
          "4 GB",
          "4 GB",
          "4 GB",
          "8 GB",
          "8 GB",
          "8 GB",
          "4 GB",
          "8 GB",
          "4 GB",
          "2 GB",
          "4 GB",
          "6 GB",
          "4 GB",
          "8 GB",
          "8 GB",
          "2 GB",
          "4 GB",
          "6 GB",
          "4 GB",
          "4 GB",
          "3 GB",
          "4 GB",
          "4 GB",
          "4 GB",
          "4 GB",
          "4 GB",
          "4 GB",
          "8 GB",
          "3 GB",
          "2 GB",
          "6 GB",
          "4 GB",
          "6 GB",
          "4 GB",
          "4 GB",
          "4 GB",
          "4 GB",
          "6 GB",
          "4 GB",
          "4 GB",
          "4 GB",
          "2 GB",
          "4 GB",
          "4 GB",
          "6 GB",
          "8 GB",
          "3 GB",
          "4 GB",
          "4 GB",
          "4 GB",
          "4 GB",
          "4 GB",
          "4 GB",
          "4 GB",
          "4 GB",
          "4 GB",
          "8 GB",
          "12 GB",
          "4 GB",
          "8 GB",
          "6 GB",
          "4 GB",
          "4 GB",
          "2 GB",
          "8 GB",
          "4 GB",
          "4 GB",
          "4 GB",
          "4 GB",
          "4 GB",
          "4 GB",
          "4 GB",
          "6 GB",
          "4 GB",
          "6 GB",
          "12 GB",
          "8 GB",
          "4 GB",
          "4 GB",
          "4 GB",
          "4 GB",
          "3 GB",
          "4 GB",
          "4 GB",
          "4 GB",
          "4 GB",
          "3 GB",
          "4 GB",
          "4 GB",
          "4 GB",
          "4 GB",
          "4 GB",
          "4 GB",
          "8 GB",
          "4 GB",
          "4 GB",
          "4 GB",
          "6 GB",
          "4 GB",
          "8 GB",
          "4 GB",
          "4 GB",
          "4 GB",
          "8 GB",
          "4 GB",
          "4 GB",
          "3 GB",
          "4 GB",
          "4 GB",
          "4 GB",
          "4 GB",
          "4 GB",
          "4 GB",
          "8 GB",
          "4 GB",
          "4 GB",
          "8 GB",
          "12 GB",
          "3 GB",
          "4 GB",
          "4 GB",
          "8 GB",
          "8 GB",
          "6 GB",
          "4 GB",
          "4 GB",
          "4 GB",
          "4 GB",
          "4 GB",
          "4 GB",
          "3 GB",
          "4 GB",
          "6 GB",
          "3 GB",
          "6 GB",
          "4 GB",
          "4 GB",
          "4 GB",
          "4 GB",
          "4 GB",
          "6 GB",
          "4 GB",
          "8 GB",
          "12 GB",
          "4 GB",
          "6 GB",
          "3 GB",
          "4 GB",
          "4 GB",
          "4 GB",
          "6 GB",
          "6 GB",
          "4 GB",
          "4 GB",
          "4 GB",
          "4 GB",
          "4 GB",
          "4 GB",
          "3 GB",
          "4 GB",
          "4 GB",
          "4 GB",
          "4 GB",
          "4 GB",
          "8 GB",
          "8 GB",
          "8 GB",
          "6 GB",
          "8 GB",
          "3 GB",
          "8 GB",
          "6 GB",
          "4 GB",
          "4 GB",
          "2 GB",
          "4 GB",
          "4 GB",
          "3 GB",
          "4 GB",
          "4 GB",
          "2 GB",
          "6 GB",
          "4 GB",
          "4 GB",
          "3 GB",
          "8 GB",
          "4 GB",
          "3 GB",
          "4 GB",
          "12 GB",
          "4 GB",
          "4 GB",
          "6 GB",
          "4 GB",
          "8 GB",
          "6 GB",
          "4 GB",
          "8 GB",
          "8 GB",
          "4 GB",
          "4 GB",
          "4 GB",
          "4 GB",
          "8 GB",
          "8 GB",
          "6 GB",
          "4 GB",
          "4 GB",
          "4 GB",
          "4 GB",
          "3 GB",
          "4 GB",
          "4 GB",
          "4 GB",
          "4 GB",
          "4 GB",
          "4 GB",
          "4 GB",
          "6 GB",
          "4 GB",
          "6 GB",
          "6 GB",
          "4 GB",
          "4 GB",
          "4 GB",
          "4 GB",
          "4 GB",
          "4 GB",
          "8 GB",
          "4 GB",
          "4 GB",
          "4 GB",
          "6 GB",
          "6 GB",
          "4 GB",
          "4 GB",
          "4 GB",
          "4 GB",
          "4 GB",
          "4 GB",
          "4 GB",
          "4 GB",
          "4 GB",
          "4 GB",
          "4 GB",
          "4 GB",
          "4 GB",
          "4 GB",
          "12 GB",
          "2 GB",
          "6 GB",
          "4 GB",
          "4 GB",
          "4 GB",
          "4 GB",
          "4 GB",
          "4 GB",
          "2 GB",
          "4 GB",
          "4 GB",
          "4 GB",
          "6 GB",
          "2 GB",
          "2 GB",
          "4 GB",
          "2 GB",
          "4 GB",
          "4 GB",
          "4 GB",
          "12 GB",
          "8 GB",
          "4 GB",
          "4 GB",
          "2 GB",
          "6 GB",
          "4 GB",
          "4 GB",
          "4 GB",
          "4 GB",
          "4 GB",
          "4 GB",
          "4 GB",
          "4 GB",
          "6 GB",
          "8 GB",
          "3 GB",
          "4 GB",
          "4 GB",
          "4 GB",
          "6 GB",
          "4 GB",
          "4 GB",
          "4 GB",
          "4 GB",
          "6 GB",
          "4 GB",
          "2 GB",
          "4 GB",
          "2 GB",
          "4 GB",
          "4 GB",
          "4 GB",
          "6 GB",
          "6 GB",
          "6 GB",
          "4 GB",
          "4 GB",
          "4 GB",
          "4 GB",
          "4 GB",
          "6 GB",
          "4 GB",
          "2 GB",
          "4 GB",
          "4 GB",
          "6 GB",
          "4 GB",
          "4 GB",
          "4 GB",
          "4 GB",
          "4 GB",
          "4 GB",
          "4 GB",
          "4 GB",
          "2 GB",
          "2 GB",
          "4 GB",
          "4 GB",
          "2 GB",
          "6 GB",
          "4 GB",
          "6 GB",
          "4 GB",
          "4 GB",
          "4 GB",
          "6 GB",
          "4 GB",
          "4 GB",
          "4 GB",
          "4 GB",
          "4 GB",
          "4 GB",
          "4 GB",
          "4 GB",
          "4 GB",
          "4 GB",
          "3 GB",
          "4 GB",
          "4 GB",
          "4 GB",
          "6 GB",
          "4 GB",
          "4 GB",
          "4 GB",
          "4 GB",
          "8 GB",
          "8 GB",
          "6 GB",
          "6 GB",
          "6 GB",
          "4 GB",
          "4 GB",
          "4 GB",
          "2 GB",
          "4 GB",
          "4 GB",
          "4 GB",
          "6 GB",
          "6 GB",
          "4 GB",
          "6 GB",
          "4 GB",
          "4 GB",
          "4 GB",
          "4 GB",
          "4 GB",
          "4 GB",
          "4 GB",
          "4 GB",
          "6 GB",
          "4 GB",
          "4 GB",
          "4 GB",
          "4 GB",
          "2 GB",
          "1 GB",
          "1 GB",
          "4 GB",
          "4 GB",
          "4 GB",
          "4 GB",
          "4 GB",
          "4 GB",
          "4 GB",
          "8 GB",
          "3 GB",
          "4 GB",
          "4 GB",
          "4 GB",
          "4 GB",
          "4 GB",
          "6 GB",
          "4 GB",
          "4 GB",
          "6 GB",
          "4 GB",
          "4 GB",
          "4 GB",
          "6 GB",
          "4 GB",
          "4 GB",
          "4 GB",
          "4 GB",
          "4 GB",
          "4 GB",
          "4 GB",
          "6 GB",
          "4 GB",
          "3 GB",
          "4 GB",
          "4 GB",
          "4 GB",
          "2 GB",
          "4 GB",
          "4 GB",
          "4 GB",
          "2 GB",
          "4 GB",
          "4 GB",
          "4 GB",
          "4 GB",
          "4 GB",
          "4 GB",
          "4 GB",
          "4 GB",
          "4 GB",
          "4 GB",
          "8 GB",
          "4 GB",
          "4 GB",
          "6 GB",
          "8 GB",
          "4 GB",
          "4 GB",
          "4 GB",
          "4 GB",
          "4 GB",
          "8 GB",
          "8 GB",
          "8 GB",
          "4 GB",
          "6 GB",
          "4 GB",
          "6 GB",
          "4 GB",
          "4 GB",
          "4 GB",
          "4 GB",
          "4 GB",
          "8 GB",
          "6 GB",
          "8 GB",
          "4 GB",
          "4 GB",
          "4 GB",
          "4 GB",
          "6 GB",
          "4 GB",
          "4 GB",
          "4 GB",
          "4 GB",
          "4 GB",
          "2 GB",
          "2 GB",
          "4 GB",
          "4 GB",
          "4 GB",
          "4 GB",
          "4 GB",
          "4 GB",
          "4 GB",
          "4 GB",
          "4 GB",
          "4 GB",
          "12 GB",
          "4 GB",
          "6 GB",
          "4 GB",
          "6 GB",
          "4 GB",
          "3 GB",
          "4 GB",
          "4 GB",
          "8 GB",
          "4 GB",
          "6 GB",
          "4 GB",
          "4 GB",
          "6 GB",
          "4 GB",
          "4 GB",
          "4 GB",
          "4 GB",
          "4 GB",
          "4 GB",
          "4 GB",
          "4 GB",
          "4 GB",
          "4 GB",
          "4 GB",
          "4 GB",
          "6 GB",
          "8 GB",
          "3 GB",
          "4 GB",
          "8 GB",
          "4 GB",
          "4 GB",
          "4 GB",
          "4 GB",
          "4 GB",
          "4 GB",
          "2 GB",
          "4 GB",
          "4 GB",
          "1 GB",
          "4 GB",
          "4 GB",
          "6 GB",
          "4 GB",
          "4 GB",
          "8 GB",
          "4 GB",
          "4 GB",
          "4 GB",
          "4 GB",
          "4 GB",
          "4 GB",
          "4 GB",
          "8 GB",
          "6 GB",
          "6 GB",
          "4 GB",
          "4 GB"
         ],
         "xaxis": "x",
         "y": [
          1,
          1,
          1,
          1,
          1,
          1,
          1,
          1,
          1,
          1,
          1,
          1,
          1,
          1,
          1,
          1,
          1,
          1,
          1,
          1,
          1,
          1,
          1,
          1,
          1,
          1,
          1,
          1,
          1,
          1,
          1,
          1,
          1,
          1,
          1,
          1,
          1,
          1,
          1,
          1,
          1,
          1,
          1,
          1,
          1,
          1,
          1,
          1,
          1,
          1,
          1,
          1,
          1,
          1,
          1,
          1,
          1,
          1,
          1,
          1,
          1,
          1,
          1,
          1,
          1,
          1,
          1,
          1,
          1,
          1,
          1,
          1,
          1,
          1,
          1,
          1,
          1,
          1,
          1,
          1,
          1,
          1,
          1,
          1,
          1,
          1,
          1,
          1,
          1,
          1,
          1,
          1,
          1,
          1,
          1,
          1,
          1,
          1,
          1,
          1,
          1,
          1,
          1,
          1,
          1,
          1,
          1,
          1,
          1,
          1,
          1,
          1,
          1,
          1,
          1,
          1,
          1,
          1,
          1,
          1,
          1,
          1,
          1,
          1,
          1,
          1,
          1,
          1,
          1,
          1,
          1,
          1,
          1,
          1,
          1,
          1,
          1,
          1,
          1,
          1,
          1,
          1,
          1,
          1,
          1,
          1,
          1,
          1,
          1,
          1,
          1,
          1,
          1,
          1,
          1,
          1,
          1,
          1,
          1,
          1,
          1,
          1,
          1,
          1,
          1,
          1,
          1,
          1,
          1,
          1,
          1,
          1,
          1,
          1,
          1,
          1,
          1,
          1,
          1,
          1,
          1,
          1,
          1,
          1,
          1,
          1,
          1,
          1,
          1,
          1,
          1,
          1,
          1,
          1,
          1,
          1,
          1,
          1,
          1,
          1,
          1,
          1,
          1,
          1,
          1,
          1,
          1,
          1,
          1,
          1,
          1,
          1,
          1,
          1,
          1,
          1,
          1,
          1,
          1,
          1,
          1,
          1,
          1,
          1,
          1,
          1,
          1,
          1,
          1,
          1,
          1,
          1,
          1,
          1,
          1,
          1,
          1,
          1,
          1,
          1,
          1,
          1,
          1,
          1,
          1,
          1,
          1,
          1,
          1,
          1,
          1,
          1,
          1,
          1,
          1,
          1,
          1,
          1,
          1,
          1,
          1,
          1,
          1,
          1,
          1,
          1,
          1,
          1,
          1,
          1,
          1,
          1,
          1,
          1,
          1,
          1,
          1,
          1,
          1,
          1,
          1,
          1,
          1,
          1,
          1,
          1,
          1,
          1,
          1,
          1,
          1,
          1,
          1,
          1,
          1,
          1,
          1,
          1,
          1,
          1,
          1,
          1,
          1,
          1,
          1,
          1,
          1,
          1,
          1,
          1,
          1,
          1,
          1,
          1,
          1,
          1,
          1,
          1,
          1,
          1,
          1,
          1,
          1,
          1,
          1,
          1,
          1,
          1,
          1,
          1,
          1,
          1,
          1,
          1,
          1,
          1,
          1,
          1,
          1,
          1,
          1,
          1,
          1,
          1,
          1,
          1,
          1,
          1,
          1,
          1,
          1,
          1,
          1,
          1,
          1,
          1,
          1,
          1,
          1,
          1,
          1,
          1,
          1,
          1,
          1,
          1,
          1,
          1,
          1,
          1,
          1,
          1,
          1,
          1,
          1,
          1,
          1,
          1,
          1,
          1,
          1,
          1,
          1,
          1,
          1,
          1,
          1,
          1,
          1,
          1,
          1,
          1,
          1,
          1,
          1,
          1,
          1,
          1,
          1,
          1,
          1,
          1,
          1,
          1,
          1,
          1,
          1,
          1,
          1,
          1,
          1,
          1,
          1,
          1,
          1,
          1,
          1,
          1,
          1,
          1,
          1,
          1,
          1,
          1,
          1,
          1,
          1,
          1,
          1,
          1,
          1,
          1,
          1,
          1,
          1,
          1,
          1,
          1,
          1,
          1,
          1,
          1,
          1,
          1,
          1,
          1,
          1,
          1,
          1,
          1,
          1,
          1,
          1,
          1,
          1,
          1,
          1,
          1,
          1,
          1,
          1,
          1,
          1,
          1,
          1,
          1,
          1,
          1,
          1,
          1,
          1,
          1,
          1,
          1,
          1,
          1,
          1,
          1,
          1,
          1,
          1,
          1,
          1,
          1,
          1,
          1,
          1,
          1,
          1,
          1,
          1,
          1,
          1,
          1,
          1,
          1,
          1,
          1,
          1,
          1,
          1,
          1,
          1,
          1,
          1,
          1,
          1,
          1,
          1,
          1,
          1,
          1,
          1,
          1,
          1,
          1,
          1,
          1,
          1,
          1,
          1,
          1,
          1,
          1,
          1,
          1,
          1,
          1,
          1,
          1,
          1,
          1,
          1,
          1,
          1,
          1,
          1,
          1,
          1,
          1,
          1,
          1,
          1,
          1,
          1,
          1,
          1,
          1,
          1,
          1,
          1,
          1,
          1,
          1,
          1,
          1,
          1,
          1,
          1,
          1,
          1,
          1,
          1,
          1,
          1,
          1,
          1,
          1,
          1,
          1,
          1,
          1,
          1,
          1,
          1,
          1,
          1,
          1,
          1,
          1,
          1,
          1,
          1,
          1,
          1,
          1,
          1,
          1,
          1,
          1,
          1,
          1,
          1,
          1,
          1,
          1,
          1,
          1,
          1,
          1,
          1,
          1,
          1,
          1,
          1,
          1,
          1,
          1,
          1,
          1,
          1,
          1,
          1,
          1,
          1,
          1,
          1,
          1,
          1,
          1,
          1,
          1,
          1,
          1,
          1,
          1,
          1,
          1,
          1,
          1,
          1,
          1,
          1,
          1,
          1,
          1,
          1,
          1,
          1,
          1,
          1,
          1,
          1,
          1,
          1,
          1,
          1,
          1,
          1,
          1,
          1,
          1,
          1,
          1,
          1,
          1,
          1,
          1,
          1,
          1,
          1,
          1,
          1,
          1,
          1,
          1,
          1,
          1,
          1,
          1,
          1,
          1,
          1,
          1,
          1,
          1,
          1,
          1,
          1,
          1,
          1,
          1,
          1,
          1,
          1,
          1,
          1,
          1,
          1,
          1,
          1,
          1,
          1,
          1,
          1,
          1,
          1,
          1,
          1,
          1,
          1,
          1,
          1,
          1,
          1,
          1,
          1,
          1,
          1,
          1,
          1,
          1,
          1,
          1,
          1,
          1,
          1,
          1,
          1,
          1,
          1,
          1,
          1,
          1,
          1,
          1,
          1,
          1,
          1,
          1,
          1,
          1,
          1,
          1,
          1,
          1,
          1,
          1,
          1,
          1,
          1,
          1,
          1,
          1,
          1,
          1,
          1,
          1,
          1,
          1,
          1,
          1,
          1,
          1,
          1,
          1,
          1,
          1,
          1,
          1,
          1,
          1,
          1,
          1,
          1,
          1,
          1,
          1,
          1,
          1,
          1,
          1,
          1,
          1,
          1,
          1,
          1,
          1,
          1,
          1,
          1,
          1,
          1,
          1,
          1,
          1,
          1,
          1,
          1,
          1,
          1,
          1,
          1,
          1,
          1,
          1,
          1,
          1,
          1,
          1,
          1,
          1,
          1,
          1,
          1,
          1,
          1,
          1,
          1,
          1,
          1,
          1,
          1,
          1,
          1,
          1,
          1,
          1,
          1,
          1,
          1,
          1,
          1,
          1,
          1,
          1,
          1,
          1,
          1,
          1,
          1,
          1,
          1,
          1,
          1,
          1,
          1,
          1,
          1,
          1,
          1,
          1,
          1,
          1,
          1,
          1,
          1,
          1,
          1,
          1,
          1,
          1,
          1,
          1,
          1,
          1,
          1,
          1,
          1,
          1,
          1,
          1,
          1,
          1,
          1,
          1,
          1,
          1,
          1,
          1,
          1,
          1,
          1,
          1,
          1,
          1,
          1,
          1,
          1,
          1,
          1,
          1,
          1,
          1,
          1,
          1,
          1,
          1,
          1,
          1,
          1,
          1,
          1,
          1,
          1,
          1,
          1,
          1,
          1,
          1,
          1,
          1,
          1,
          1,
          1,
          1,
          1,
          1,
          1,
          1,
          1,
          1,
          1,
          1,
          1,
          1,
          1,
          1,
          1,
          1,
          1,
          1,
          1,
          1,
          1,
          1,
          1,
          1,
          1,
          1,
          1,
          1,
          1,
          1,
          1,
          1,
          1,
          1,
          1,
          1,
          1,
          1,
          1,
          1,
          1,
          1,
          1,
          1,
          1,
          1,
          1,
          1,
          1,
          1,
          1,
          1,
          1,
          1,
          1,
          1
         ],
         "yaxis": "y"
        }
       ],
       "layout": {
        "barmode": "relative",
        "legend": {
         "tracegroupgap": 0
        },
        "margin": {
         "t": 60
        },
        "template": {
         "data": {
          "bar": [
           {
            "error_x": {
             "color": "#2a3f5f"
            },
            "error_y": {
             "color": "#2a3f5f"
            },
            "marker": {
             "line": {
              "color": "#E5ECF6",
              "width": 0.5
             }
            },
            "type": "bar"
           }
          ],
          "barpolar": [
           {
            "marker": {
             "line": {
              "color": "#E5ECF6",
              "width": 0.5
             }
            },
            "type": "barpolar"
           }
          ],
          "carpet": [
           {
            "aaxis": {
             "endlinecolor": "#2a3f5f",
             "gridcolor": "white",
             "linecolor": "white",
             "minorgridcolor": "white",
             "startlinecolor": "#2a3f5f"
            },
            "baxis": {
             "endlinecolor": "#2a3f5f",
             "gridcolor": "white",
             "linecolor": "white",
             "minorgridcolor": "white",
             "startlinecolor": "#2a3f5f"
            },
            "type": "carpet"
           }
          ],
          "choropleth": [
           {
            "colorbar": {
             "outlinewidth": 0,
             "ticks": ""
            },
            "type": "choropleth"
           }
          ],
          "contour": [
           {
            "colorbar": {
             "outlinewidth": 0,
             "ticks": ""
            },
            "colorscale": [
             [
              0,
              "#0d0887"
             ],
             [
              0.1111111111111111,
              "#46039f"
             ],
             [
              0.2222222222222222,
              "#7201a8"
             ],
             [
              0.3333333333333333,
              "#9c179e"
             ],
             [
              0.4444444444444444,
              "#bd3786"
             ],
             [
              0.5555555555555556,
              "#d8576b"
             ],
             [
              0.6666666666666666,
              "#ed7953"
             ],
             [
              0.7777777777777778,
              "#fb9f3a"
             ],
             [
              0.8888888888888888,
              "#fdca26"
             ],
             [
              1,
              "#f0f921"
             ]
            ],
            "type": "contour"
           }
          ],
          "contourcarpet": [
           {
            "colorbar": {
             "outlinewidth": 0,
             "ticks": ""
            },
            "type": "contourcarpet"
           }
          ],
          "heatmap": [
           {
            "colorbar": {
             "outlinewidth": 0,
             "ticks": ""
            },
            "colorscale": [
             [
              0,
              "#0d0887"
             ],
             [
              0.1111111111111111,
              "#46039f"
             ],
             [
              0.2222222222222222,
              "#7201a8"
             ],
             [
              0.3333333333333333,
              "#9c179e"
             ],
             [
              0.4444444444444444,
              "#bd3786"
             ],
             [
              0.5555555555555556,
              "#d8576b"
             ],
             [
              0.6666666666666666,
              "#ed7953"
             ],
             [
              0.7777777777777778,
              "#fb9f3a"
             ],
             [
              0.8888888888888888,
              "#fdca26"
             ],
             [
              1,
              "#f0f921"
             ]
            ],
            "type": "heatmap"
           }
          ],
          "heatmapgl": [
           {
            "colorbar": {
             "outlinewidth": 0,
             "ticks": ""
            },
            "colorscale": [
             [
              0,
              "#0d0887"
             ],
             [
              0.1111111111111111,
              "#46039f"
             ],
             [
              0.2222222222222222,
              "#7201a8"
             ],
             [
              0.3333333333333333,
              "#9c179e"
             ],
             [
              0.4444444444444444,
              "#bd3786"
             ],
             [
              0.5555555555555556,
              "#d8576b"
             ],
             [
              0.6666666666666666,
              "#ed7953"
             ],
             [
              0.7777777777777778,
              "#fb9f3a"
             ],
             [
              0.8888888888888888,
              "#fdca26"
             ],
             [
              1,
              "#f0f921"
             ]
            ],
            "type": "heatmapgl"
           }
          ],
          "histogram": [
           {
            "marker": {
             "colorbar": {
              "outlinewidth": 0,
              "ticks": ""
             }
            },
            "type": "histogram"
           }
          ],
          "histogram2d": [
           {
            "colorbar": {
             "outlinewidth": 0,
             "ticks": ""
            },
            "colorscale": [
             [
              0,
              "#0d0887"
             ],
             [
              0.1111111111111111,
              "#46039f"
             ],
             [
              0.2222222222222222,
              "#7201a8"
             ],
             [
              0.3333333333333333,
              "#9c179e"
             ],
             [
              0.4444444444444444,
              "#bd3786"
             ],
             [
              0.5555555555555556,
              "#d8576b"
             ],
             [
              0.6666666666666666,
              "#ed7953"
             ],
             [
              0.7777777777777778,
              "#fb9f3a"
             ],
             [
              0.8888888888888888,
              "#fdca26"
             ],
             [
              1,
              "#f0f921"
             ]
            ],
            "type": "histogram2d"
           }
          ],
          "histogram2dcontour": [
           {
            "colorbar": {
             "outlinewidth": 0,
             "ticks": ""
            },
            "colorscale": [
             [
              0,
              "#0d0887"
             ],
             [
              0.1111111111111111,
              "#46039f"
             ],
             [
              0.2222222222222222,
              "#7201a8"
             ],
             [
              0.3333333333333333,
              "#9c179e"
             ],
             [
              0.4444444444444444,
              "#bd3786"
             ],
             [
              0.5555555555555556,
              "#d8576b"
             ],
             [
              0.6666666666666666,
              "#ed7953"
             ],
             [
              0.7777777777777778,
              "#fb9f3a"
             ],
             [
              0.8888888888888888,
              "#fdca26"
             ],
             [
              1,
              "#f0f921"
             ]
            ],
            "type": "histogram2dcontour"
           }
          ],
          "mesh3d": [
           {
            "colorbar": {
             "outlinewidth": 0,
             "ticks": ""
            },
            "type": "mesh3d"
           }
          ],
          "parcoords": [
           {
            "line": {
             "colorbar": {
              "outlinewidth": 0,
              "ticks": ""
             }
            },
            "type": "parcoords"
           }
          ],
          "pie": [
           {
            "automargin": true,
            "type": "pie"
           }
          ],
          "scatter": [
           {
            "marker": {
             "colorbar": {
              "outlinewidth": 0,
              "ticks": ""
             }
            },
            "type": "scatter"
           }
          ],
          "scatter3d": [
           {
            "line": {
             "colorbar": {
              "outlinewidth": 0,
              "ticks": ""
             }
            },
            "marker": {
             "colorbar": {
              "outlinewidth": 0,
              "ticks": ""
             }
            },
            "type": "scatter3d"
           }
          ],
          "scattercarpet": [
           {
            "marker": {
             "colorbar": {
              "outlinewidth": 0,
              "ticks": ""
             }
            },
            "type": "scattercarpet"
           }
          ],
          "scattergeo": [
           {
            "marker": {
             "colorbar": {
              "outlinewidth": 0,
              "ticks": ""
             }
            },
            "type": "scattergeo"
           }
          ],
          "scattergl": [
           {
            "marker": {
             "colorbar": {
              "outlinewidth": 0,
              "ticks": ""
             }
            },
            "type": "scattergl"
           }
          ],
          "scattermapbox": [
           {
            "marker": {
             "colorbar": {
              "outlinewidth": 0,
              "ticks": ""
             }
            },
            "type": "scattermapbox"
           }
          ],
          "scatterpolar": [
           {
            "marker": {
             "colorbar": {
              "outlinewidth": 0,
              "ticks": ""
             }
            },
            "type": "scatterpolar"
           }
          ],
          "scatterpolargl": [
           {
            "marker": {
             "colorbar": {
              "outlinewidth": 0,
              "ticks": ""
             }
            },
            "type": "scatterpolargl"
           }
          ],
          "scatterternary": [
           {
            "marker": {
             "colorbar": {
              "outlinewidth": 0,
              "ticks": ""
             }
            },
            "type": "scatterternary"
           }
          ],
          "surface": [
           {
            "colorbar": {
             "outlinewidth": 0,
             "ticks": ""
            },
            "colorscale": [
             [
              0,
              "#0d0887"
             ],
             [
              0.1111111111111111,
              "#46039f"
             ],
             [
              0.2222222222222222,
              "#7201a8"
             ],
             [
              0.3333333333333333,
              "#9c179e"
             ],
             [
              0.4444444444444444,
              "#bd3786"
             ],
             [
              0.5555555555555556,
              "#d8576b"
             ],
             [
              0.6666666666666666,
              "#ed7953"
             ],
             [
              0.7777777777777778,
              "#fb9f3a"
             ],
             [
              0.8888888888888888,
              "#fdca26"
             ],
             [
              1,
              "#f0f921"
             ]
            ],
            "type": "surface"
           }
          ],
          "table": [
           {
            "cells": {
             "fill": {
              "color": "#EBF0F8"
             },
             "line": {
              "color": "white"
             }
            },
            "header": {
             "fill": {
              "color": "#C8D4E3"
             },
             "line": {
              "color": "white"
             }
            },
            "type": "table"
           }
          ]
         },
         "layout": {
          "annotationdefaults": {
           "arrowcolor": "#2a3f5f",
           "arrowhead": 0,
           "arrowwidth": 1
          },
          "autotypenumbers": "strict",
          "coloraxis": {
           "colorbar": {
            "outlinewidth": 0,
            "ticks": ""
           }
          },
          "colorscale": {
           "diverging": [
            [
             0,
             "#8e0152"
            ],
            [
             0.1,
             "#c51b7d"
            ],
            [
             0.2,
             "#de77ae"
            ],
            [
             0.3,
             "#f1b6da"
            ],
            [
             0.4,
             "#fde0ef"
            ],
            [
             0.5,
             "#f7f7f7"
            ],
            [
             0.6,
             "#e6f5d0"
            ],
            [
             0.7,
             "#b8e186"
            ],
            [
             0.8,
             "#7fbc41"
            ],
            [
             0.9,
             "#4d9221"
            ],
            [
             1,
             "#276419"
            ]
           ],
           "sequential": [
            [
             0,
             "#0d0887"
            ],
            [
             0.1111111111111111,
             "#46039f"
            ],
            [
             0.2222222222222222,
             "#7201a8"
            ],
            [
             0.3333333333333333,
             "#9c179e"
            ],
            [
             0.4444444444444444,
             "#bd3786"
            ],
            [
             0.5555555555555556,
             "#d8576b"
            ],
            [
             0.6666666666666666,
             "#ed7953"
            ],
            [
             0.7777777777777778,
             "#fb9f3a"
            ],
            [
             0.8888888888888888,
             "#fdca26"
            ],
            [
             1,
             "#f0f921"
            ]
           ],
           "sequentialminus": [
            [
             0,
             "#0d0887"
            ],
            [
             0.1111111111111111,
             "#46039f"
            ],
            [
             0.2222222222222222,
             "#7201a8"
            ],
            [
             0.3333333333333333,
             "#9c179e"
            ],
            [
             0.4444444444444444,
             "#bd3786"
            ],
            [
             0.5555555555555556,
             "#d8576b"
            ],
            [
             0.6666666666666666,
             "#ed7953"
            ],
            [
             0.7777777777777778,
             "#fb9f3a"
            ],
            [
             0.8888888888888888,
             "#fdca26"
            ],
            [
             1,
             "#f0f921"
            ]
           ]
          },
          "colorway": [
           "#636efa",
           "#EF553B",
           "#00cc96",
           "#ab63fa",
           "#FFA15A",
           "#19d3f3",
           "#FF6692",
           "#B6E880",
           "#FF97FF",
           "#FECB52"
          ],
          "font": {
           "color": "#2a3f5f"
          },
          "geo": {
           "bgcolor": "white",
           "lakecolor": "white",
           "landcolor": "#E5ECF6",
           "showlakes": true,
           "showland": true,
           "subunitcolor": "white"
          },
          "hoverlabel": {
           "align": "left"
          },
          "hovermode": "closest",
          "mapbox": {
           "style": "light"
          },
          "paper_bgcolor": "white",
          "plot_bgcolor": "#E5ECF6",
          "polar": {
           "angularaxis": {
            "gridcolor": "white",
            "linecolor": "white",
            "ticks": ""
           },
           "bgcolor": "#E5ECF6",
           "radialaxis": {
            "gridcolor": "white",
            "linecolor": "white",
            "ticks": ""
           }
          },
          "scene": {
           "xaxis": {
            "backgroundcolor": "#E5ECF6",
            "gridcolor": "white",
            "gridwidth": 2,
            "linecolor": "white",
            "showbackground": true,
            "ticks": "",
            "zerolinecolor": "white"
           },
           "yaxis": {
            "backgroundcolor": "#E5ECF6",
            "gridcolor": "white",
            "gridwidth": 2,
            "linecolor": "white",
            "showbackground": true,
            "ticks": "",
            "zerolinecolor": "white"
           },
           "zaxis": {
            "backgroundcolor": "#E5ECF6",
            "gridcolor": "white",
            "gridwidth": 2,
            "linecolor": "white",
            "showbackground": true,
            "ticks": "",
            "zerolinecolor": "white"
           }
          },
          "shapedefaults": {
           "line": {
            "color": "#2a3f5f"
           }
          },
          "ternary": {
           "aaxis": {
            "gridcolor": "white",
            "linecolor": "white",
            "ticks": ""
           },
           "baxis": {
            "gridcolor": "white",
            "linecolor": "white",
            "ticks": ""
           },
           "bgcolor": "#E5ECF6",
           "caxis": {
            "gridcolor": "white",
            "linecolor": "white",
            "ticks": ""
           }
          },
          "title": {
           "x": 0.05
          },
          "xaxis": {
           "automargin": true,
           "gridcolor": "white",
           "linecolor": "white",
           "ticks": "",
           "title": {
            "standoff": 15
           },
           "zerolinecolor": "white",
           "zerolinewidth": 2
          },
          "yaxis": {
           "automargin": true,
           "gridcolor": "white",
           "linecolor": "white",
           "ticks": "",
           "title": {
            "standoff": 15
           },
           "zerolinecolor": "white",
           "zerolinewidth": 2
          }
         }
        },
        "xaxis": {
         "anchor": "y",
         "domain": [
          0,
          1
         ],
         "title": {
          "text": "x"
         }
        },
        "yaxis": {
         "anchor": "x",
         "domain": [
          0,
          1
         ],
         "title": {
          "text": "count"
         }
        }
       }
      },
      "text/html": [
       "<div>                            <div id=\"81d83474-c262-4249-a218-b7b5c35ac45b\" class=\"plotly-graph-div\" style=\"height:525px; width:100%;\"></div>            <script type=\"text/javascript\">                require([\"plotly\"], function(Plotly) {                    window.PLOTLYENV=window.PLOTLYENV || {};                                    if (document.getElementById(\"81d83474-c262-4249-a218-b7b5c35ac45b\")) {                    Plotly.newPlot(                        \"81d83474-c262-4249-a218-b7b5c35ac45b\",                        [{\"alignmentgroup\": \"True\", \"hovertemplate\": \"x=%{x}<br>count=%{y}<extra></extra>\", \"legendgroup\": \"\", \"marker\": {\"color\": \"#636efa\"}, \"name\": \"\", \"offsetgroup\": \"\", \"orientation\": \"v\", \"showlegend\": false, \"textposition\": \"auto\", \"type\": \"bar\", \"x\": [\"4 GB\", \"4 GB\", \"2 GB\", \"2 GB\", \"6 GB\", \"4 GB\", \"6 GB\", \"4 GB\", \"3 GB\", \"4 GB\", \"3 GB\", \"2 GB\", \"2 GB\", \"2 GB\", \"2 GB\", \"4 GB\", \"4 GB\", \"2 GB\", \"4 GB\", \"4 GB\", \"3 GB\", \"2 GB\", \"3 GB\", \"3 GB\", \"3 GB\", \"4 GB\", \"2 GB\", \"6 GB\", \"4 GB\", \"6 GB\", \"8 GB\", \"4 GB\", \"4 GB\", \"4 GB\", \"3 GB\", \"4 GB\", \"4 GB\", \"6 GB\", \"4 GB\", \"4 GB\", \"4 GB\", \"4 GB\", \"2 GB\", \"2 GB\", \"4 GB\", \"6 GB\", \"3 GB\", \"3 GB\", \"4 GB\", \"6 GB\", \"4 GB\", \"2 GB\", \"2 GB\", \"2 GB\", \"2 GB\", \"4 GB\", \"4 GB\", \"2 GB\", \"4 GB\", \"3 GB\", \"4 GB\", \"3 GB\", \"3 GB\", \"3 GB\", \"2 GB\", \"4 GB\", \"6 GB\", \"6 GB\", \"4 GB\", \"4 GB\", \"8 GB\", \"4 GB\", \"4 GB\", \"6 GB\", \"4 GB\", \"4 GB\", \"4 GB\", \"4 GB\", \"4 GB\", \"4 GB\", \"4 GB\", \"4 GB\", \"4 GB\", \"2 GB\", \"4 GB\", \"4 GB\", \"2 GB\", \"6 GB\", \"2 GB\", \"6 GB\", \"3 GB\", \"4 GB\", \"4 GB\", \"4 GB\", \"4 GB\", \"4 GB\", \"4 GB\", \"4 GB\", \"6 GB\", \"4 GB\", \"8 GB\", \"4 GB\", \"4 GB\", \"4 GB\", \"4 GB\", \"6 GB\", \"4 GB\", \"4 GB\", \"6 GB\", \"4 GB\", \"4 GB\", \"4 GB\", \"8 GB\", \"6 GB\", \"8 GB\", \"4 GB\", \"6 GB\", \"8 GB\", \"6 GB\", \"8 GB\", \"4 GB\", \"4 GB\", \"4 GB\", \"6 GB\", \"6 GB\", \"4 GB\", \"4 GB\", \"4 GB\", \"4 GB\", \"4 GB\", \"4 GB\", \"4 GB\", \"3 GB\", \"3 GB\", \"4 GB\", \"6 GB\", \"4 GB\", \"3 GB\", \"4 GB\", \"4 GB\", \"4 GB\", \"4 GB\", \"2 GB\", \"6 GB\", \"8 GB\", \"4 GB\", \"4 GB\", \"4 GB\", \"4 GB\", \"4 GB\", \"4 GB\", \"3 GB\", \"3 GB\", \"3 GB\", \"4 GB\", \"4 GB\", \"6 GB\", \"4 GB\", \"6 GB\", \"6 GB\", \"3 GB\", \"4 GB\", \"4 GB\", \"4 GB\", \"4 GB\", \"4 GB\", \"8 GB\", \"6 GB\", \"4 GB\", \"4 GB\", \"3 GB\", \"3 GB\", \"4 GB\", \"4 GB\", \"4 GB\", \"4 GB\", \"4 GB\", \"6 GB\", \"4 GB\", \"8 GB\", \"4 GB\", \"4 GB\", \"6 GB\", \"4 GB\", \"4 GB\", \"2 GB\", \"2 GB\", \"4 GB\", \"6 GB\", \"4 GB\", \"4 GB\", \"6 GB\", \"8 GB\", \"3 GB\", \"6 GB\", \"4 GB\", \"4 GB\", \"8 GB\", \"4 GB\", \"4 GB\", \"4 GB\", \"6 GB\", \"2 GB\", \"2 GB\", \"2 GB\", \"4 GB\", \"6 GB\", \"4 GB\", \"4 GB\", \"6 GB\", \"3 GB\", \"4 GB\", \"4 GB\", \"4 GB\", \"4 GB\", \"4 GB\", \"4 GB\", \"4 GB\", \"4 GB\", \"4 GB\", \"8 GB\", \"4 GB\", \"8 GB\", \"4 GB\", \"2 GB\", \"4 GB\", \"4 GB\", \"6 GB\", \"6 GB\", \"6 GB\", \"4 GB\", \"3 GB\", \"4 GB\", \"4 GB\", \"6 GB\", \"8 GB\", \"4 GB\", \"4 GB\", \"6 GB\", \"6 GB\", \"4 GB\", \"4 GB\", \"4 GB\", \"4 GB\", \"8 GB\", \"2 GB\", \"6 GB\", \"8 GB\", \"4 GB\", \"6 GB\", \"4 GB\", \"4 GB\", \"6 GB\", \"8 GB\", \"4 GB\", \"2 GB\", \"4 GB\", \"4 GB\", \"4 GB\", \"4 GB\", \"4 GB\", \"6 GB\", \"2 GB\", \"4 GB\", \"4 GB\", \"6 GB\", \"4 GB\", \"8 GB\", \"4 GB\", \"4 GB\", \"8 GB\", \"8 GB\", \"4 GB\", \"2 GB\", \"2 GB\", \"3 GB\", \"8 GB\", \"6 GB\", \"6 GB\", \"2 GB\", \"2 GB\", \"4 GB\", \"4 GB\", \"4 GB\", \"3 GB\", \"8 GB\", \"4 GB\", \"4 GB\", \"2 GB\", \"4 GB\", \"4 GB\", \"8 GB\", \"8 GB\", \"8 GB\", \"4 GB\", \"4 GB\", \"4 GB\", \"4 GB\", \"4 GB\", \"4 GB\", \"2 GB\", \"6 GB\", \"4 GB\", \"4 GB\", \"4 GB\", \"6 GB\", \"4 GB\", \"4 GB\", \"2 GB\", \"3 GB\", \"2 GB\", \"4 GB\", \"4 GB\", \"4 GB\", \"4 GB\", \"8 GB\", \"6 GB\", \"4 GB\", \"8 GB\", \"8 GB\", \"4 GB\", \"6 GB\", \"4 GB\", \"4 GB\", \"4 GB\", \"4 GB\", \"4 GB\", \"4 GB\", \"3 GB\", \"6 GB\", \"2 GB\", \"8 GB\", \"6 GB\", \"4 GB\", \"2 GB\", \"4 GB\", \"4 GB\", \"4 GB\", \"4 GB\", \"4 GB\", \"3 GB\", \"4 GB\", \"4 GB\", \"6 GB\", \"2 GB\", \"6 GB\", \"4 GB\", \"4 GB\", \"6 GB\", \"4 GB\", \"4 GB\", \"6 GB\", \"4 GB\", \"4 GB\", \"4 GB\", \"4 GB\", \"4 GB\", \"4 GB\", \"4 GB\", \"4 GB\", \"4 GB\", \"4 GB\", \"4 GB\", \"6 GB\", \"4 GB\", \"6 GB\", \"8 GB\", \"6 GB\", \"4 GB\", \"4 GB\", \"3 GB\", \"6 GB\", \"8 GB\", \"6 GB\", \"4 GB\", \"4 GB\", \"4 GB\", \"4 GB\", \"8 GB\", \"4 GB\", \"6 GB\", \"4 GB\", \"4 GB\", \"4 GB\", \"4 GB\", \"4 GB\", \"8 GB\", \"4 GB\", \"6 GB\", \"4 GB\", \"4 GB\", \"4 GB\", \"4 GB\", \"8 GB\", \"8 GB\", \"8 GB\", \"4 GB\", \"6 GB\", \"4 GB\", \"6 GB\", \"4 GB\", \"4 GB\", \"4 GB\", \"4 GB\", \"4 GB\", \"8 GB\", \"4 GB\", \"4 GB\", \"4 GB\", \"4 GB\", \"6 GB\", \"8 GB\", \"4 GB\", \"6 GB\", \"4 GB\", \"4 GB\", \"4 GB\", \"4 GB\", \"4 GB\", \"8 GB\", \"8 GB\", \"8 GB\", \"4 GB\", \"8 GB\", \"4 GB\", \"2 GB\", \"4 GB\", \"6 GB\", \"4 GB\", \"8 GB\", \"8 GB\", \"2 GB\", \"4 GB\", \"6 GB\", \"4 GB\", \"4 GB\", \"3 GB\", \"4 GB\", \"4 GB\", \"4 GB\", \"4 GB\", \"4 GB\", \"4 GB\", \"8 GB\", \"3 GB\", \"2 GB\", \"6 GB\", \"4 GB\", \"6 GB\", \"4 GB\", \"4 GB\", \"4 GB\", \"4 GB\", \"6 GB\", \"4 GB\", \"4 GB\", \"4 GB\", \"2 GB\", \"4 GB\", \"4 GB\", \"6 GB\", \"8 GB\", \"3 GB\", \"4 GB\", \"4 GB\", \"4 GB\", \"4 GB\", \"4 GB\", \"4 GB\", \"4 GB\", \"4 GB\", \"4 GB\", \"8 GB\", \"12 GB\", \"4 GB\", \"8 GB\", \"6 GB\", \"4 GB\", \"4 GB\", \"2 GB\", \"8 GB\", \"4 GB\", \"4 GB\", \"4 GB\", \"4 GB\", \"4 GB\", \"4 GB\", \"4 GB\", \"6 GB\", \"4 GB\", \"6 GB\", \"12 GB\", \"8 GB\", \"4 GB\", \"4 GB\", \"4 GB\", \"4 GB\", \"3 GB\", \"4 GB\", \"4 GB\", \"4 GB\", \"4 GB\", \"3 GB\", \"4 GB\", \"4 GB\", \"4 GB\", \"4 GB\", \"4 GB\", \"4 GB\", \"8 GB\", \"4 GB\", \"4 GB\", \"4 GB\", \"6 GB\", \"4 GB\", \"8 GB\", \"4 GB\", \"4 GB\", \"4 GB\", \"8 GB\", \"4 GB\", \"4 GB\", \"3 GB\", \"4 GB\", \"4 GB\", \"4 GB\", \"4 GB\", \"4 GB\", \"4 GB\", \"8 GB\", \"4 GB\", \"4 GB\", \"8 GB\", \"12 GB\", \"3 GB\", \"4 GB\", \"4 GB\", \"8 GB\", \"8 GB\", \"6 GB\", \"4 GB\", \"4 GB\", \"4 GB\", \"4 GB\", \"4 GB\", \"4 GB\", \"3 GB\", \"4 GB\", \"6 GB\", \"3 GB\", \"6 GB\", \"4 GB\", \"4 GB\", \"4 GB\", \"4 GB\", \"4 GB\", \"6 GB\", \"4 GB\", \"8 GB\", \"12 GB\", \"4 GB\", \"6 GB\", \"3 GB\", \"4 GB\", \"4 GB\", \"4 GB\", \"6 GB\", \"6 GB\", \"4 GB\", \"4 GB\", \"4 GB\", \"4 GB\", \"4 GB\", \"4 GB\", \"3 GB\", \"4 GB\", \"4 GB\", \"4 GB\", \"4 GB\", \"4 GB\", \"8 GB\", \"8 GB\", \"8 GB\", \"6 GB\", \"8 GB\", \"3 GB\", \"8 GB\", \"6 GB\", \"4 GB\", \"4 GB\", \"2 GB\", \"4 GB\", \"4 GB\", \"3 GB\", \"4 GB\", \"4 GB\", \"2 GB\", \"6 GB\", \"4 GB\", \"4 GB\", \"3 GB\", \"8 GB\", \"4 GB\", \"3 GB\", \"4 GB\", \"12 GB\", \"4 GB\", \"4 GB\", \"6 GB\", \"4 GB\", \"8 GB\", \"6 GB\", \"4 GB\", \"8 GB\", \"8 GB\", \"4 GB\", \"4 GB\", \"4 GB\", \"4 GB\", \"8 GB\", \"8 GB\", \"6 GB\", \"4 GB\", \"4 GB\", \"4 GB\", \"4 GB\", \"3 GB\", \"4 GB\", \"4 GB\", \"4 GB\", \"4 GB\", \"4 GB\", \"4 GB\", \"4 GB\", \"6 GB\", \"4 GB\", \"6 GB\", \"6 GB\", \"4 GB\", \"4 GB\", \"4 GB\", \"4 GB\", \"4 GB\", \"4 GB\", \"8 GB\", \"4 GB\", \"4 GB\", \"4 GB\", \"6 GB\", \"6 GB\", \"4 GB\", \"4 GB\", \"4 GB\", \"4 GB\", \"4 GB\", \"4 GB\", \"4 GB\", \"4 GB\", \"4 GB\", \"4 GB\", \"4 GB\", \"4 GB\", \"4 GB\", \"4 GB\", \"12 GB\", \"2 GB\", \"6 GB\", \"4 GB\", \"4 GB\", \"4 GB\", \"4 GB\", \"4 GB\", \"4 GB\", \"2 GB\", \"4 GB\", \"4 GB\", \"4 GB\", \"6 GB\", \"2 GB\", \"2 GB\", \"4 GB\", \"2 GB\", \"4 GB\", \"4 GB\", \"4 GB\", \"12 GB\", \"8 GB\", \"4 GB\", \"4 GB\", \"2 GB\", \"6 GB\", \"4 GB\", \"4 GB\", \"4 GB\", \"4 GB\", \"4 GB\", \"4 GB\", \"4 GB\", \"4 GB\", \"6 GB\", \"8 GB\", \"3 GB\", \"4 GB\", \"4 GB\", \"4 GB\", \"6 GB\", \"4 GB\", \"4 GB\", \"4 GB\", \"4 GB\", \"6 GB\", \"4 GB\", \"2 GB\", \"4 GB\", \"2 GB\", \"4 GB\", \"4 GB\", \"4 GB\", \"6 GB\", \"6 GB\", \"6 GB\", \"4 GB\", \"4 GB\", \"4 GB\", \"4 GB\", \"4 GB\", \"6 GB\", \"4 GB\", \"2 GB\", \"4 GB\", \"4 GB\", \"6 GB\", \"4 GB\", \"4 GB\", \"4 GB\", \"4 GB\", \"4 GB\", \"4 GB\", \"4 GB\", \"4 GB\", \"2 GB\", \"2 GB\", \"4 GB\", \"4 GB\", \"2 GB\", \"6 GB\", \"4 GB\", \"6 GB\", \"4 GB\", \"4 GB\", \"4 GB\", \"6 GB\", \"4 GB\", \"4 GB\", \"4 GB\", \"4 GB\", \"4 GB\", \"4 GB\", \"4 GB\", \"4 GB\", \"4 GB\", \"4 GB\", \"3 GB\", \"4 GB\", \"4 GB\", \"4 GB\", \"6 GB\", \"4 GB\", \"4 GB\", \"4 GB\", \"4 GB\", \"8 GB\", \"8 GB\", \"6 GB\", \"6 GB\", \"6 GB\", \"4 GB\", \"4 GB\", \"4 GB\", \"2 GB\", \"4 GB\", \"4 GB\", \"4 GB\", \"6 GB\", \"6 GB\", \"4 GB\", \"6 GB\", \"4 GB\", \"4 GB\", \"4 GB\", \"4 GB\", \"4 GB\", \"4 GB\", \"4 GB\", \"4 GB\", \"6 GB\", \"4 GB\", \"4 GB\", \"4 GB\", \"4 GB\", \"2 GB\", \"1 GB\", \"1 GB\", \"4 GB\", \"4 GB\", \"4 GB\", \"4 GB\", \"4 GB\", \"4 GB\", \"4 GB\", \"8 GB\", \"3 GB\", \"4 GB\", \"4 GB\", \"4 GB\", \"4 GB\", \"4 GB\", \"6 GB\", \"4 GB\", \"4 GB\", \"6 GB\", \"4 GB\", \"4 GB\", \"4 GB\", \"6 GB\", \"4 GB\", \"4 GB\", \"4 GB\", \"4 GB\", \"4 GB\", \"4 GB\", \"4 GB\", \"6 GB\", \"4 GB\", \"3 GB\", \"4 GB\", \"4 GB\", \"4 GB\", \"2 GB\", \"4 GB\", \"4 GB\", \"4 GB\", \"2 GB\", \"4 GB\", \"4 GB\", \"4 GB\", \"4 GB\", \"4 GB\", \"4 GB\", \"4 GB\", \"4 GB\", \"4 GB\", \"4 GB\", \"8 GB\", \"4 GB\", \"4 GB\", \"6 GB\", \"8 GB\", \"4 GB\", \"4 GB\", \"4 GB\", \"4 GB\", \"4 GB\", \"8 GB\", \"8 GB\", \"8 GB\", \"4 GB\", \"6 GB\", \"4 GB\", \"6 GB\", \"4 GB\", \"4 GB\", \"4 GB\", \"4 GB\", \"4 GB\", \"8 GB\", \"6 GB\", \"8 GB\", \"4 GB\", \"4 GB\", \"4 GB\", \"4 GB\", \"6 GB\", \"4 GB\", \"4 GB\", \"4 GB\", \"4 GB\", \"4 GB\", \"2 GB\", \"2 GB\", \"4 GB\", \"4 GB\", \"4 GB\", \"4 GB\", \"4 GB\", \"4 GB\", \"4 GB\", \"4 GB\", \"4 GB\", \"4 GB\", \"12 GB\", \"4 GB\", \"6 GB\", \"4 GB\", \"6 GB\", \"4 GB\", \"3 GB\", \"4 GB\", \"4 GB\", \"8 GB\", \"4 GB\", \"6 GB\", \"4 GB\", \"4 GB\", \"6 GB\", \"4 GB\", \"4 GB\", \"4 GB\", \"4 GB\", \"4 GB\", \"4 GB\", \"4 GB\", \"4 GB\", \"4 GB\", \"4 GB\", \"4 GB\", \"4 GB\", \"6 GB\", \"8 GB\", \"3 GB\", \"4 GB\", \"8 GB\", \"4 GB\", \"4 GB\", \"4 GB\", \"4 GB\", \"4 GB\", \"4 GB\", \"2 GB\", \"4 GB\", \"4 GB\", \"1 GB\", \"4 GB\", \"4 GB\", \"6 GB\", \"4 GB\", \"4 GB\", \"8 GB\", \"4 GB\", \"4 GB\", \"4 GB\", \"4 GB\", \"4 GB\", \"4 GB\", \"4 GB\", \"8 GB\", \"6 GB\", \"6 GB\", \"4 GB\", \"4 GB\"], \"xaxis\": \"x\", \"y\": [1, 1, 1, 1, 1, 1, 1, 1, 1, 1, 1, 1, 1, 1, 1, 1, 1, 1, 1, 1, 1, 1, 1, 1, 1, 1, 1, 1, 1, 1, 1, 1, 1, 1, 1, 1, 1, 1, 1, 1, 1, 1, 1, 1, 1, 1, 1, 1, 1, 1, 1, 1, 1, 1, 1, 1, 1, 1, 1, 1, 1, 1, 1, 1, 1, 1, 1, 1, 1, 1, 1, 1, 1, 1, 1, 1, 1, 1, 1, 1, 1, 1, 1, 1, 1, 1, 1, 1, 1, 1, 1, 1, 1, 1, 1, 1, 1, 1, 1, 1, 1, 1, 1, 1, 1, 1, 1, 1, 1, 1, 1, 1, 1, 1, 1, 1, 1, 1, 1, 1, 1, 1, 1, 1, 1, 1, 1, 1, 1, 1, 1, 1, 1, 1, 1, 1, 1, 1, 1, 1, 1, 1, 1, 1, 1, 1, 1, 1, 1, 1, 1, 1, 1, 1, 1, 1, 1, 1, 1, 1, 1, 1, 1, 1, 1, 1, 1, 1, 1, 1, 1, 1, 1, 1, 1, 1, 1, 1, 1, 1, 1, 1, 1, 1, 1, 1, 1, 1, 1, 1, 1, 1, 1, 1, 1, 1, 1, 1, 1, 1, 1, 1, 1, 1, 1, 1, 1, 1, 1, 1, 1, 1, 1, 1, 1, 1, 1, 1, 1, 1, 1, 1, 1, 1, 1, 1, 1, 1, 1, 1, 1, 1, 1, 1, 1, 1, 1, 1, 1, 1, 1, 1, 1, 1, 1, 1, 1, 1, 1, 1, 1, 1, 1, 1, 1, 1, 1, 1, 1, 1, 1, 1, 1, 1, 1, 1, 1, 1, 1, 1, 1, 1, 1, 1, 1, 1, 1, 1, 1, 1, 1, 1, 1, 1, 1, 1, 1, 1, 1, 1, 1, 1, 1, 1, 1, 1, 1, 1, 1, 1, 1, 1, 1, 1, 1, 1, 1, 1, 1, 1, 1, 1, 1, 1, 1, 1, 1, 1, 1, 1, 1, 1, 1, 1, 1, 1, 1, 1, 1, 1, 1, 1, 1, 1, 1, 1, 1, 1, 1, 1, 1, 1, 1, 1, 1, 1, 1, 1, 1, 1, 1, 1, 1, 1, 1, 1, 1, 1, 1, 1, 1, 1, 1, 1, 1, 1, 1, 1, 1, 1, 1, 1, 1, 1, 1, 1, 1, 1, 1, 1, 1, 1, 1, 1, 1, 1, 1, 1, 1, 1, 1, 1, 1, 1, 1, 1, 1, 1, 1, 1, 1, 1, 1, 1, 1, 1, 1, 1, 1, 1, 1, 1, 1, 1, 1, 1, 1, 1, 1, 1, 1, 1, 1, 1, 1, 1, 1, 1, 1, 1, 1, 1, 1, 1, 1, 1, 1, 1, 1, 1, 1, 1, 1, 1, 1, 1, 1, 1, 1, 1, 1, 1, 1, 1, 1, 1, 1, 1, 1, 1, 1, 1, 1, 1, 1, 1, 1, 1, 1, 1, 1, 1, 1, 1, 1, 1, 1, 1, 1, 1, 1, 1, 1, 1, 1, 1, 1, 1, 1, 1, 1, 1, 1, 1, 1, 1, 1, 1, 1, 1, 1, 1, 1, 1, 1, 1, 1, 1, 1, 1, 1, 1, 1, 1, 1, 1, 1, 1, 1, 1, 1, 1, 1, 1, 1, 1, 1, 1, 1, 1, 1, 1, 1, 1, 1, 1, 1, 1, 1, 1, 1, 1, 1, 1, 1, 1, 1, 1, 1, 1, 1, 1, 1, 1, 1, 1, 1, 1, 1, 1, 1, 1, 1, 1, 1, 1, 1, 1, 1, 1, 1, 1, 1, 1, 1, 1, 1, 1, 1, 1, 1, 1, 1, 1, 1, 1, 1, 1, 1, 1, 1, 1, 1, 1, 1, 1, 1, 1, 1, 1, 1, 1, 1, 1, 1, 1, 1, 1, 1, 1, 1, 1, 1, 1, 1, 1, 1, 1, 1, 1, 1, 1, 1, 1, 1, 1, 1, 1, 1, 1, 1, 1, 1, 1, 1, 1, 1, 1, 1, 1, 1, 1, 1, 1, 1, 1, 1, 1, 1, 1, 1, 1, 1, 1, 1, 1, 1, 1, 1, 1, 1, 1, 1, 1, 1, 1, 1, 1, 1, 1, 1, 1, 1, 1, 1, 1, 1, 1, 1, 1, 1, 1, 1, 1, 1, 1, 1, 1, 1, 1, 1, 1, 1, 1, 1, 1, 1, 1, 1, 1, 1, 1, 1, 1, 1, 1, 1, 1, 1, 1, 1, 1, 1, 1, 1, 1, 1, 1, 1, 1, 1, 1, 1, 1, 1, 1, 1, 1, 1, 1, 1, 1, 1, 1, 1, 1, 1, 1, 1, 1, 1, 1, 1, 1, 1, 1, 1, 1, 1, 1, 1, 1, 1, 1, 1, 1, 1, 1, 1, 1, 1, 1, 1, 1, 1, 1, 1, 1, 1, 1, 1, 1, 1, 1, 1, 1, 1, 1, 1, 1, 1, 1, 1, 1, 1, 1, 1, 1, 1, 1, 1, 1, 1, 1, 1, 1, 1, 1, 1, 1, 1, 1, 1, 1, 1, 1, 1, 1, 1, 1, 1, 1, 1, 1, 1, 1, 1, 1, 1, 1, 1, 1, 1, 1, 1, 1, 1, 1, 1, 1, 1, 1, 1, 1, 1, 1, 1, 1, 1, 1, 1, 1, 1, 1, 1, 1, 1, 1, 1, 1, 1, 1, 1, 1, 1, 1, 1, 1, 1, 1, 1, 1, 1, 1, 1, 1, 1, 1, 1, 1, 1, 1, 1, 1, 1, 1, 1, 1, 1, 1, 1, 1, 1, 1, 1, 1, 1, 1, 1, 1, 1, 1, 1, 1, 1, 1, 1, 1, 1, 1, 1, 1, 1, 1, 1, 1, 1, 1, 1, 1, 1, 1, 1, 1, 1, 1, 1, 1, 1, 1, 1, 1, 1, 1, 1, 1, 1, 1, 1, 1, 1, 1, 1, 1, 1, 1, 1, 1, 1, 1, 1, 1, 1, 1, 1, 1, 1, 1, 1, 1, 1, 1, 1, 1, 1, 1, 1, 1, 1, 1], \"yaxis\": \"y\"}],                        {\"barmode\": \"relative\", \"legend\": {\"tracegroupgap\": 0}, \"margin\": {\"t\": 60}, \"template\": {\"data\": {\"bar\": [{\"error_x\": {\"color\": \"#2a3f5f\"}, \"error_y\": {\"color\": \"#2a3f5f\"}, \"marker\": {\"line\": {\"color\": \"#E5ECF6\", \"width\": 0.5}}, \"type\": \"bar\"}], \"barpolar\": [{\"marker\": {\"line\": {\"color\": \"#E5ECF6\", \"width\": 0.5}}, \"type\": \"barpolar\"}], \"carpet\": [{\"aaxis\": {\"endlinecolor\": \"#2a3f5f\", \"gridcolor\": \"white\", \"linecolor\": \"white\", \"minorgridcolor\": \"white\", \"startlinecolor\": \"#2a3f5f\"}, \"baxis\": {\"endlinecolor\": \"#2a3f5f\", \"gridcolor\": \"white\", \"linecolor\": \"white\", \"minorgridcolor\": \"white\", \"startlinecolor\": \"#2a3f5f\"}, \"type\": \"carpet\"}], \"choropleth\": [{\"colorbar\": {\"outlinewidth\": 0, \"ticks\": \"\"}, \"type\": \"choropleth\"}], \"contour\": [{\"colorbar\": {\"outlinewidth\": 0, \"ticks\": \"\"}, \"colorscale\": [[0.0, \"#0d0887\"], [0.1111111111111111, \"#46039f\"], [0.2222222222222222, \"#7201a8\"], [0.3333333333333333, \"#9c179e\"], [0.4444444444444444, \"#bd3786\"], [0.5555555555555556, \"#d8576b\"], [0.6666666666666666, \"#ed7953\"], [0.7777777777777778, \"#fb9f3a\"], [0.8888888888888888, \"#fdca26\"], [1.0, \"#f0f921\"]], \"type\": \"contour\"}], \"contourcarpet\": [{\"colorbar\": {\"outlinewidth\": 0, \"ticks\": \"\"}, \"type\": \"contourcarpet\"}], \"heatmap\": [{\"colorbar\": {\"outlinewidth\": 0, \"ticks\": \"\"}, \"colorscale\": [[0.0, \"#0d0887\"], [0.1111111111111111, \"#46039f\"], [0.2222222222222222, \"#7201a8\"], [0.3333333333333333, \"#9c179e\"], [0.4444444444444444, \"#bd3786\"], [0.5555555555555556, \"#d8576b\"], [0.6666666666666666, \"#ed7953\"], [0.7777777777777778, \"#fb9f3a\"], [0.8888888888888888, \"#fdca26\"], [1.0, \"#f0f921\"]], \"type\": \"heatmap\"}], \"heatmapgl\": [{\"colorbar\": {\"outlinewidth\": 0, \"ticks\": \"\"}, \"colorscale\": [[0.0, \"#0d0887\"], [0.1111111111111111, \"#46039f\"], [0.2222222222222222, \"#7201a8\"], [0.3333333333333333, \"#9c179e\"], [0.4444444444444444, \"#bd3786\"], [0.5555555555555556, \"#d8576b\"], [0.6666666666666666, \"#ed7953\"], [0.7777777777777778, \"#fb9f3a\"], [0.8888888888888888, \"#fdca26\"], [1.0, \"#f0f921\"]], \"type\": \"heatmapgl\"}], \"histogram\": [{\"marker\": {\"colorbar\": {\"outlinewidth\": 0, \"ticks\": \"\"}}, \"type\": \"histogram\"}], \"histogram2d\": [{\"colorbar\": {\"outlinewidth\": 0, \"ticks\": \"\"}, \"colorscale\": [[0.0, \"#0d0887\"], [0.1111111111111111, \"#46039f\"], [0.2222222222222222, \"#7201a8\"], [0.3333333333333333, \"#9c179e\"], [0.4444444444444444, \"#bd3786\"], [0.5555555555555556, \"#d8576b\"], [0.6666666666666666, \"#ed7953\"], [0.7777777777777778, \"#fb9f3a\"], [0.8888888888888888, \"#fdca26\"], [1.0, \"#f0f921\"]], \"type\": \"histogram2d\"}], \"histogram2dcontour\": [{\"colorbar\": {\"outlinewidth\": 0, \"ticks\": \"\"}, \"colorscale\": [[0.0, \"#0d0887\"], [0.1111111111111111, \"#46039f\"], [0.2222222222222222, \"#7201a8\"], [0.3333333333333333, \"#9c179e\"], [0.4444444444444444, \"#bd3786\"], [0.5555555555555556, \"#d8576b\"], [0.6666666666666666, \"#ed7953\"], [0.7777777777777778, \"#fb9f3a\"], [0.8888888888888888, \"#fdca26\"], [1.0, \"#f0f921\"]], \"type\": \"histogram2dcontour\"}], \"mesh3d\": [{\"colorbar\": {\"outlinewidth\": 0, \"ticks\": \"\"}, \"type\": \"mesh3d\"}], \"parcoords\": [{\"line\": {\"colorbar\": {\"outlinewidth\": 0, \"ticks\": \"\"}}, \"type\": \"parcoords\"}], \"pie\": [{\"automargin\": true, \"type\": \"pie\"}], \"scatter\": [{\"marker\": {\"colorbar\": {\"outlinewidth\": 0, \"ticks\": \"\"}}, \"type\": \"scatter\"}], \"scatter3d\": [{\"line\": {\"colorbar\": {\"outlinewidth\": 0, \"ticks\": \"\"}}, \"marker\": {\"colorbar\": {\"outlinewidth\": 0, \"ticks\": \"\"}}, \"type\": \"scatter3d\"}], \"scattercarpet\": [{\"marker\": {\"colorbar\": {\"outlinewidth\": 0, \"ticks\": \"\"}}, \"type\": \"scattercarpet\"}], \"scattergeo\": [{\"marker\": {\"colorbar\": {\"outlinewidth\": 0, \"ticks\": \"\"}}, \"type\": \"scattergeo\"}], \"scattergl\": [{\"marker\": {\"colorbar\": {\"outlinewidth\": 0, \"ticks\": \"\"}}, \"type\": \"scattergl\"}], \"scattermapbox\": [{\"marker\": {\"colorbar\": {\"outlinewidth\": 0, \"ticks\": \"\"}}, \"type\": \"scattermapbox\"}], \"scatterpolar\": [{\"marker\": {\"colorbar\": {\"outlinewidth\": 0, \"ticks\": \"\"}}, \"type\": \"scatterpolar\"}], \"scatterpolargl\": [{\"marker\": {\"colorbar\": {\"outlinewidth\": 0, \"ticks\": \"\"}}, \"type\": \"scatterpolargl\"}], \"scatterternary\": [{\"marker\": {\"colorbar\": {\"outlinewidth\": 0, \"ticks\": \"\"}}, \"type\": \"scatterternary\"}], \"surface\": [{\"colorbar\": {\"outlinewidth\": 0, \"ticks\": \"\"}, \"colorscale\": [[0.0, \"#0d0887\"], [0.1111111111111111, \"#46039f\"], [0.2222222222222222, \"#7201a8\"], [0.3333333333333333, \"#9c179e\"], [0.4444444444444444, \"#bd3786\"], [0.5555555555555556, \"#d8576b\"], [0.6666666666666666, \"#ed7953\"], [0.7777777777777778, \"#fb9f3a\"], [0.8888888888888888, \"#fdca26\"], [1.0, \"#f0f921\"]], \"type\": \"surface\"}], \"table\": [{\"cells\": {\"fill\": {\"color\": \"#EBF0F8\"}, \"line\": {\"color\": \"white\"}}, \"header\": {\"fill\": {\"color\": \"#C8D4E3\"}, \"line\": {\"color\": \"white\"}}, \"type\": \"table\"}]}, \"layout\": {\"annotationdefaults\": {\"arrowcolor\": \"#2a3f5f\", \"arrowhead\": 0, \"arrowwidth\": 1}, \"autotypenumbers\": \"strict\", \"coloraxis\": {\"colorbar\": {\"outlinewidth\": 0, \"ticks\": \"\"}}, \"colorscale\": {\"diverging\": [[0, \"#8e0152\"], [0.1, \"#c51b7d\"], [0.2, \"#de77ae\"], [0.3, \"#f1b6da\"], [0.4, \"#fde0ef\"], [0.5, \"#f7f7f7\"], [0.6, \"#e6f5d0\"], [0.7, \"#b8e186\"], [0.8, \"#7fbc41\"], [0.9, \"#4d9221\"], [1, \"#276419\"]], \"sequential\": [[0.0, \"#0d0887\"], [0.1111111111111111, \"#46039f\"], [0.2222222222222222, \"#7201a8\"], [0.3333333333333333, \"#9c179e\"], [0.4444444444444444, \"#bd3786\"], [0.5555555555555556, \"#d8576b\"], [0.6666666666666666, \"#ed7953\"], [0.7777777777777778, \"#fb9f3a\"], [0.8888888888888888, \"#fdca26\"], [1.0, \"#f0f921\"]], \"sequentialminus\": [[0.0, \"#0d0887\"], [0.1111111111111111, \"#46039f\"], [0.2222222222222222, \"#7201a8\"], [0.3333333333333333, \"#9c179e\"], [0.4444444444444444, \"#bd3786\"], [0.5555555555555556, \"#d8576b\"], [0.6666666666666666, \"#ed7953\"], [0.7777777777777778, \"#fb9f3a\"], [0.8888888888888888, \"#fdca26\"], [1.0, \"#f0f921\"]]}, \"colorway\": [\"#636efa\", \"#EF553B\", \"#00cc96\", \"#ab63fa\", \"#FFA15A\", \"#19d3f3\", \"#FF6692\", \"#B6E880\", \"#FF97FF\", \"#FECB52\"], \"font\": {\"color\": \"#2a3f5f\"}, \"geo\": {\"bgcolor\": \"white\", \"lakecolor\": \"white\", \"landcolor\": \"#E5ECF6\", \"showlakes\": true, \"showland\": true, \"subunitcolor\": \"white\"}, \"hoverlabel\": {\"align\": \"left\"}, \"hovermode\": \"closest\", \"mapbox\": {\"style\": \"light\"}, \"paper_bgcolor\": \"white\", \"plot_bgcolor\": \"#E5ECF6\", \"polar\": {\"angularaxis\": {\"gridcolor\": \"white\", \"linecolor\": \"white\", \"ticks\": \"\"}, \"bgcolor\": \"#E5ECF6\", \"radialaxis\": {\"gridcolor\": \"white\", \"linecolor\": \"white\", \"ticks\": \"\"}}, \"scene\": {\"xaxis\": {\"backgroundcolor\": \"#E5ECF6\", \"gridcolor\": \"white\", \"gridwidth\": 2, \"linecolor\": \"white\", \"showbackground\": true, \"ticks\": \"\", \"zerolinecolor\": \"white\"}, \"yaxis\": {\"backgroundcolor\": \"#E5ECF6\", \"gridcolor\": \"white\", \"gridwidth\": 2, \"linecolor\": \"white\", \"showbackground\": true, \"ticks\": \"\", \"zerolinecolor\": \"white\"}, \"zaxis\": {\"backgroundcolor\": \"#E5ECF6\", \"gridcolor\": \"white\", \"gridwidth\": 2, \"linecolor\": \"white\", \"showbackground\": true, \"ticks\": \"\", \"zerolinecolor\": \"white\"}}, \"shapedefaults\": {\"line\": {\"color\": \"#2a3f5f\"}}, \"ternary\": {\"aaxis\": {\"gridcolor\": \"white\", \"linecolor\": \"white\", \"ticks\": \"\"}, \"baxis\": {\"gridcolor\": \"white\", \"linecolor\": \"white\", \"ticks\": \"\"}, \"bgcolor\": \"#E5ECF6\", \"caxis\": {\"gridcolor\": \"white\", \"linecolor\": \"white\", \"ticks\": \"\"}}, \"title\": {\"x\": 0.05}, \"xaxis\": {\"automargin\": true, \"gridcolor\": \"white\", \"linecolor\": \"white\", \"ticks\": \"\", \"title\": {\"standoff\": 15}, \"zerolinecolor\": \"white\", \"zerolinewidth\": 2}, \"yaxis\": {\"automargin\": true, \"gridcolor\": \"white\", \"linecolor\": \"white\", \"ticks\": \"\", \"title\": {\"standoff\": 15}, \"zerolinecolor\": \"white\", \"zerolinewidth\": 2}}}, \"xaxis\": {\"anchor\": \"y\", \"domain\": [0.0, 1.0], \"title\": {\"text\": \"x\"}}, \"yaxis\": {\"anchor\": \"x\", \"domain\": [0.0, 1.0], \"title\": {\"text\": \"count\"}}},                        {\"responsive\": true}                    ).then(function(){\n",
       "                            \n",
       "var gd = document.getElementById('81d83474-c262-4249-a218-b7b5c35ac45b');\n",
       "var x = new MutationObserver(function (mutations, observer) {{\n",
       "        var display = window.getComputedStyle(gd).display;\n",
       "        if (!display || display === 'none') {{\n",
       "            console.log([gd, 'removed!']);\n",
       "            Plotly.purge(gd);\n",
       "            observer.disconnect();\n",
       "        }}\n",
       "}});\n",
       "\n",
       "// Listen for the removal of the full notebook cells\n",
       "var notebookContainer = gd.closest('#notebook-container');\n",
       "if (notebookContainer) {{\n",
       "    x.observe(notebookContainer, {childList: true});\n",
       "}}\n",
       "\n",
       "// Listen for the clearing of the current output cell\n",
       "var outputEl = gd.closest('.output');\n",
       "if (outputEl) {{\n",
       "    x.observe(outputEl, {childList: true});\n",
       "}}\n",
       "\n",
       "                        })                };                });            </script>        </div>"
      ]
     },
     "metadata": {},
     "output_type": "display_data"
    }
   ],
   "source": [
    "px.bar(x=data['RAM'])"
   ]
  },
  {
   "cell_type": "markdown",
   "id": "f2e79926",
   "metadata": {},
   "source": [
    "## Maximum phones have 4 GB of RAM"
   ]
  },
  {
   "cell_type": "markdown",
   "id": "dd273709",
   "metadata": {},
   "source": [
    "## - ROM"
   ]
  },
  {
   "cell_type": "code",
   "execution_count": 620,
   "id": "9e912ebc",
   "metadata": {},
   "outputs": [
    {
     "data": {
      "text/plain": [
       "64 GB     590\n",
       "128 GB    225\n",
       "32 GB     109\n",
       "256 GB     23\n",
       "16 GB      13\n",
       "Name: ROM, dtype: int64"
      ]
     },
     "execution_count": 620,
     "metadata": {},
     "output_type": "execute_result"
    }
   ],
   "source": [
    "data['ROM'].value_counts()"
   ]
  },
  {
   "cell_type": "code",
   "execution_count": 577,
   "id": "6a109d2b",
   "metadata": {},
   "outputs": [
    {
     "data": {
      "application/vnd.plotly.v1+json": {
       "config": {
        "plotlyServerURL": "https://plot.ly"
       },
       "data": [
        {
         "alignmentgroup": "True",
         "hovertemplate": "x=%{x}<br>count=%{y}<extra></extra>",
         "legendgroup": "",
         "marker": {
          "color": "#636efa"
         },
         "name": "",
         "offsetgroup": "",
         "orientation": "v",
         "showlegend": false,
         "textposition": "auto",
         "type": "bar",
         "x": [
          "64 GB",
          "64 GB",
          "32 GB",
          "32 GB",
          "64 GB",
          "64 GB",
          "64 GB",
          "64 GB",
          "32 GB",
          "64 GB",
          "32 GB",
          "32 GB",
          "32 GB",
          "32 GB",
          "32 GB",
          "64 GB",
          "64 GB",
          "32 GB",
          "64 GB",
          "64 GB",
          "32 GB",
          "32 GB",
          "32 GB",
          "32 GB",
          "32 GB",
          "64 GB",
          "32 GB",
          "128 GB",
          "64 GB",
          "128 GB",
          "128 GB",
          "64 GB",
          "64 GB",
          "128 GB",
          "32 GB",
          "128 GB",
          "128 GB",
          "128 GB",
          "64 GB",
          "64 GB",
          "64 GB",
          "64 GB",
          "32 GB",
          "32 GB",
          "64 GB",
          "64 GB",
          "32 GB",
          "32 GB",
          "64 GB",
          "64 GB",
          "64 GB",
          "32 GB",
          "32 GB",
          "32 GB",
          "32 GB",
          "64 GB",
          "64 GB",
          "32 GB",
          "64 GB",
          "32 GB",
          "64 GB",
          "32 GB",
          "32 GB",
          "32 GB",
          "32 GB",
          "64 GB",
          "128 GB",
          "128 GB",
          "64 GB",
          "128 GB",
          "128 GB",
          "64 GB",
          "64 GB",
          "128 GB",
          "128 GB",
          "128 GB",
          "64 GB",
          "64 GB",
          "64 GB",
          "64 GB",
          "64 GB",
          "64 GB",
          "64 GB",
          "32 GB",
          "128 GB",
          "64 GB",
          "32 GB",
          "64 GB",
          "32 GB",
          "128 GB",
          "32 GB",
          "64 GB",
          "64 GB",
          "64 GB",
          "64 GB",
          "64 GB",
          "64 GB",
          "64 GB",
          "128 GB",
          "128 GB",
          "128 GB",
          "64 GB",
          "64 GB",
          "64 GB",
          "64 GB",
          "128 GB",
          "64 GB",
          "64 GB",
          "64 GB",
          "64 GB",
          "128 GB",
          "64 GB",
          "128 GB",
          "128 GB",
          "128 GB",
          "64 GB",
          "64 GB",
          "128 GB",
          "64 GB",
          "128 GB",
          "128 GB",
          "64 GB",
          "64 GB",
          "128 GB",
          "128 GB",
          "64 GB",
          "64 GB",
          "64 GB",
          "64 GB",
          "64 GB",
          "64 GB",
          "64 GB",
          "32 GB",
          "32 GB",
          "64 GB",
          "128 GB",
          "64 GB",
          "32 GB",
          "64 GB",
          "64 GB",
          "64 GB",
          "64 GB",
          "32 GB",
          "64 GB",
          "128 GB",
          "128 GB",
          "64 GB",
          "128 GB",
          "128 GB",
          "64 GB",
          "64 GB",
          "32 GB",
          "32 GB",
          "32 GB",
          "64 GB",
          "64 GB",
          "128 GB",
          "128 GB",
          "128 GB",
          "128 GB",
          "32 GB",
          "64 GB",
          "64 GB",
          "64 GB",
          "64 GB",
          "128 GB",
          "128 GB",
          "64 GB",
          "64 GB",
          "64 GB",
          "32 GB",
          "32 GB",
          "64 GB",
          "64 GB",
          "64 GB",
          "64 GB",
          "64 GB",
          "128 GB",
          "64 GB",
          "128 GB",
          "64 GB",
          "64 GB",
          "128 GB",
          "64 GB",
          "64 GB",
          "32 GB",
          "32 GB",
          "64 GB",
          "128 GB",
          "64 GB",
          "64 GB",
          "64 GB",
          "128 GB",
          "32 GB",
          "128 GB",
          "64 GB",
          "64 GB",
          "128 GB",
          "128 GB",
          "64 GB",
          "64 GB",
          "128 GB",
          "32 GB",
          "32 GB",
          "32 GB",
          "64 GB",
          "128 GB",
          "64 GB",
          "64 GB",
          "128 GB",
          "32 GB",
          "64 GB",
          "64 GB",
          "128 GB",
          "64 GB",
          "64 GB",
          "64 GB",
          "64 GB",
          "64 GB",
          "64 GB",
          "128 GB",
          "64 GB",
          "128 GB",
          "128 GB",
          "32 GB",
          "64 GB",
          "64 GB",
          "64 GB",
          "64 GB",
          "128 GB",
          "64 GB",
          "32 GB",
          "64 GB",
          "64 GB",
          "128 GB",
          "128 GB",
          "128 GB",
          "64 GB",
          "128 GB",
          "128 GB",
          "64 GB",
          "64 GB",
          "64 GB",
          "64 GB",
          "128 GB",
          "32 GB",
          "64 GB",
          "128 GB",
          "64 GB",
          "128 GB",
          "64 GB",
          "128 GB",
          "128 GB",
          "128 GB",
          "64 GB",
          "32 GB",
          "64 GB",
          "64 GB",
          "64 GB",
          "64 GB",
          "64 GB",
          "64 GB",
          "32 GB",
          "64 GB",
          "64 GB",
          "128 GB",
          "64 GB",
          "128 GB",
          "128 GB",
          "64 GB",
          "128 GB",
          "128 GB",
          "64 GB",
          "32 GB",
          "32 GB",
          "32 GB",
          "128 GB",
          "128 GB",
          "128 GB",
          "32 GB",
          "32 GB",
          "64 GB",
          "128 GB",
          "64 GB",
          "32 GB",
          "128 GB",
          "64 GB",
          "64 GB",
          "16 GB",
          "64 GB",
          "64 GB",
          "128 GB",
          "128 GB",
          "128 GB",
          "64 GB",
          "64 GB",
          "64 GB",
          "64 GB",
          "64 GB",
          "64 GB",
          "16 GB",
          "128 GB",
          "64 GB",
          "64 GB",
          "64 GB",
          "128 GB",
          "64 GB",
          "64 GB",
          "32 GB",
          "32 GB",
          "32 GB",
          "64 GB",
          "64 GB",
          "64 GB",
          "64 GB",
          "128 GB",
          "128 GB",
          "64 GB",
          "128 GB",
          "128 GB",
          "64 GB",
          "128 GB",
          "64 GB",
          "64 GB",
          "64 GB",
          "64 GB",
          "64 GB",
          "64 GB",
          "32 GB",
          "128 GB",
          "32 GB",
          "128 GB",
          "128 GB",
          "64 GB",
          "32 GB",
          "64 GB",
          "64 GB",
          "64 GB",
          "64 GB",
          "64 GB",
          "32 GB",
          "64 GB",
          "64 GB",
          "128 GB",
          "16 GB",
          "128 GB",
          "64 GB",
          "64 GB",
          "128 GB",
          "64 GB",
          "64 GB",
          "64 GB",
          "64 GB",
          "64 GB",
          "64 GB",
          "64 GB",
          "64 GB",
          "64 GB",
          "64 GB",
          "64 GB",
          "64 GB",
          "64 GB",
          "64 GB",
          "64 GB",
          "64 GB",
          "128 GB",
          "256 GB",
          "128 GB",
          "64 GB",
          "64 GB",
          "32 GB",
          "64 GB",
          "256 GB",
          "128 GB",
          "64 GB",
          "64 GB",
          "64 GB",
          "64 GB",
          "128 GB",
          "64 GB",
          "128 GB",
          "64 GB",
          "64 GB",
          "64 GB",
          "64 GB",
          "64 GB",
          "128 GB",
          "64 GB",
          "128 GB",
          "64 GB",
          "64 GB",
          "64 GB",
          "64 GB",
          "256 GB",
          "128 GB",
          "128 GB",
          "64 GB",
          "128 GB",
          "64 GB",
          "128 GB",
          "64 GB",
          "64 GB",
          "64 GB",
          "64 GB",
          "64 GB",
          "128 GB",
          "64 GB",
          "64 GB",
          "64 GB",
          "64 GB",
          "128 GB",
          "128 GB",
          "64 GB",
          "128 GB",
          "64 GB",
          "64 GB",
          "64 GB",
          "64 GB",
          "64 GB",
          "256 GB",
          "128 GB",
          "128 GB",
          "64 GB",
          "128 GB",
          "64 GB",
          "16 GB",
          "64 GB",
          "128 GB",
          "64 GB",
          "128 GB",
          "128 GB",
          "16 GB",
          "64 GB",
          "128 GB",
          "64 GB",
          "64 GB",
          "32 GB",
          "64 GB",
          "64 GB",
          "64 GB",
          "64 GB",
          "64 GB",
          "64 GB",
          "128 GB",
          "32 GB",
          "32 GB",
          "64 GB",
          "64 GB",
          "128 GB",
          "64 GB",
          "64 GB",
          "128 GB",
          "64 GB",
          "128 GB",
          "128 GB",
          "64 GB",
          "64 GB",
          "32 GB",
          "64 GB",
          "64 GB",
          "128 GB",
          "128 GB",
          "32 GB",
          "64 GB",
          "64 GB",
          "64 GB",
          "64 GB",
          "64 GB",
          "64 GB",
          "64 GB",
          "64 GB",
          "64 GB",
          "128 GB",
          "256 GB",
          "128 GB",
          "128 GB",
          "128 GB",
          "64 GB",
          "64 GB",
          "32 GB",
          "128 GB",
          "64 GB",
          "64 GB",
          "64 GB",
          "64 GB",
          "64 GB",
          "64 GB",
          "128 GB",
          "128 GB",
          "64 GB",
          "128 GB",
          "256 GB",
          "128 GB",
          "64 GB",
          "64 GB",
          "64 GB",
          "64 GB",
          "32 GB",
          "64 GB",
          "64 GB",
          "64 GB",
          "64 GB",
          "32 GB",
          "64 GB",
          "64 GB",
          "64 GB",
          "64 GB",
          "64 GB",
          "64 GB",
          "128 GB",
          "64 GB",
          "64 GB",
          "64 GB",
          "64 GB",
          "64 GB",
          "128 GB",
          "64 GB",
          "64 GB",
          "64 GB",
          "128 GB",
          "64 GB",
          "64 GB",
          "32 GB",
          "64 GB",
          "64 GB",
          "64 GB",
          "64 GB",
          "128 GB",
          "64 GB",
          "128 GB",
          "64 GB",
          "64 GB",
          "128 GB",
          "256 GB",
          "64 GB",
          "64 GB",
          "64 GB",
          "128 GB",
          "128 GB",
          "128 GB",
          "64 GB",
          "128 GB",
          "64 GB",
          "64 GB",
          "64 GB",
          "64 GB",
          "64 GB",
          "64 GB",
          "128 GB",
          "32 GB",
          "64 GB",
          "64 GB",
          "64 GB",
          "64 GB",
          "64 GB",
          "64 GB",
          "128 GB",
          "64 GB",
          "256 GB",
          "256 GB",
          "128 GB",
          "128 GB",
          "32 GB",
          "64 GB",
          "64 GB",
          "64 GB",
          "128 GB",
          "128 GB",
          "64 GB",
          "64 GB",
          "64 GB",
          "128 GB",
          "128 GB",
          "128 GB",
          "32 GB",
          "64 GB",
          "64 GB",
          "64 GB",
          "64 GB",
          "64 GB",
          "128 GB",
          "128 GB",
          "128 GB",
          "128 GB",
          "128 GB",
          "32 GB",
          "256 GB",
          "128 GB",
          "64 GB",
          "64 GB",
          "16 GB",
          "128 GB",
          "64 GB",
          "32 GB",
          "64 GB",
          "64 GB",
          "32 GB",
          "128 GB",
          "64 GB",
          "64 GB",
          "32 GB",
          "128 GB",
          "64 GB",
          "32 GB",
          "64 GB",
          "256 GB",
          "64 GB",
          "64 GB",
          "128 GB",
          "64 GB",
          "256 GB",
          "128 GB",
          "64 GB",
          "128 GB",
          "128 GB",
          "64 GB",
          "64 GB",
          "64 GB",
          "64 GB",
          "128 GB",
          "128 GB",
          "128 GB",
          "64 GB",
          "64 GB",
          "64 GB",
          "64 GB",
          "32 GB",
          "64 GB",
          "64 GB",
          "64 GB",
          "64 GB",
          "64 GB",
          "64 GB",
          "128 GB",
          "128 GB",
          "64 GB",
          "64 GB",
          "64 GB",
          "64 GB",
          "64 GB",
          "64 GB",
          "64 GB",
          "64 GB",
          "64 GB",
          "128 GB",
          "32 GB",
          "128 GB",
          "64 GB",
          "128 GB",
          "128 GB",
          "64 GB",
          "64 GB",
          "128 GB",
          "64 GB",
          "64 GB",
          "64 GB",
          "64 GB",
          "64 GB",
          "64 GB",
          "64 GB",
          "64 GB",
          "64 GB",
          "64 GB",
          "64 GB",
          "256 GB",
          "32 GB",
          "128 GB",
          "64 GB",
          "128 GB",
          "64 GB",
          "64 GB",
          "64 GB",
          "64 GB",
          "32 GB",
          "64 GB",
          "64 GB",
          "64 GB",
          "128 GB",
          "32 GB",
          "16 GB",
          "64 GB",
          "32 GB",
          "64 GB",
          "64 GB",
          "128 GB",
          "256 GB",
          "128 GB",
          "64 GB",
          "64 GB",
          "32 GB",
          "64 GB",
          "256 GB",
          "64 GB",
          "64 GB",
          "64 GB",
          "64 GB",
          "64 GB",
          "64 GB",
          "64 GB",
          "128 GB",
          "128 GB",
          "32 GB",
          "64 GB",
          "64 GB",
          "64 GB",
          "64 GB",
          "64 GB",
          "64 GB",
          "64 GB",
          "64 GB",
          "128 GB",
          "64 GB",
          "32 GB",
          "64 GB",
          "32 GB",
          "64 GB",
          "128 GB",
          "64 GB",
          "64 GB",
          "128 GB",
          "128 GB",
          "64 GB",
          "64 GB",
          "64 GB",
          "64 GB",
          "64 GB",
          "64 GB",
          "64 GB",
          "32 GB",
          "64 GB",
          "64 GB",
          "128 GB",
          "64 GB",
          "64 GB",
          "64 GB",
          "128 GB",
          "64 GB",
          "64 GB",
          "64 GB",
          "64 GB",
          "16 GB",
          "32 GB",
          "64 GB",
          "64 GB",
          "32 GB",
          "128 GB",
          "64 GB",
          "128 GB",
          "256 GB",
          "64 GB",
          "64 GB",
          "64 GB",
          "64 GB",
          "64 GB",
          "64 GB",
          "64 GB",
          "64 GB",
          "64 GB",
          "64 GB",
          "64 GB",
          "64 GB",
          "64 GB",
          "32 GB",
          "64 GB",
          "64 GB",
          "64 GB",
          "128 GB",
          "64 GB",
          "64 GB",
          "64 GB",
          "64 GB",
          "128 GB",
          "128 GB",
          "128 GB",
          "128 GB",
          "128 GB",
          "64 GB",
          "64 GB",
          "64 GB",
          "32 GB",
          "64 GB",
          "64 GB",
          "64 GB",
          "128 GB",
          "128 GB",
          "64 GB",
          "64 GB",
          "64 GB",
          "64 GB",
          "64 GB",
          "64 GB",
          "64 GB",
          "64 GB",
          "128 GB",
          "64 GB",
          "64 GB",
          "64 GB",
          "64 GB",
          "64 GB",
          "64 GB",
          "16 GB",
          "16 GB",
          "16 GB",
          "64 GB",
          "64 GB",
          "64 GB",
          "128 GB",
          "64 GB",
          "64 GB",
          "64 GB",
          "256 GB",
          "32 GB",
          "64 GB",
          "64 GB",
          "64 GB",
          "64 GB",
          "64 GB",
          "64 GB",
          "64 GB",
          "64 GB",
          "128 GB",
          "64 GB",
          "64 GB",
          "64 GB",
          "128 GB",
          "64 GB",
          "64 GB",
          "128 GB",
          "64 GB",
          "64 GB",
          "64 GB",
          "64 GB",
          "64 GB",
          "64 GB",
          "32 GB",
          "64 GB",
          "64 GB",
          "64 GB",
          "32 GB",
          "64 GB",
          "128 GB",
          "64 GB",
          "32 GB",
          "64 GB",
          "64 GB",
          "64 GB",
          "64 GB",
          "64 GB",
          "64 GB",
          "64 GB",
          "64 GB",
          "64 GB",
          "64 GB",
          "128 GB",
          "64 GB",
          "64 GB",
          "128 GB",
          "128 GB",
          "64 GB",
          "64 GB",
          "64 GB",
          "64 GB",
          "64 GB",
          "128 GB",
          "128 GB",
          "128 GB",
          "64 GB",
          "128 GB",
          "64 GB",
          "64 GB",
          "128 GB",
          "64 GB",
          "64 GB",
          "64 GB",
          "64 GB",
          "256 GB",
          "128 GB",
          "256 GB",
          "64 GB",
          "64 GB",
          "64 GB",
          "64 GB",
          "128 GB",
          "64 GB",
          "64 GB",
          "64 GB",
          "64 GB",
          "64 GB",
          "16 GB",
          "32 GB",
          "64 GB",
          "64 GB",
          "64 GB",
          "64 GB",
          "64 GB",
          "64 GB",
          "64 GB",
          "64 GB",
          "64 GB",
          "64 GB",
          "256 GB",
          "128 GB",
          "64 GB",
          "64 GB",
          "128 GB",
          "64 GB",
          "64 GB",
          "64 GB",
          "64 GB",
          "128 GB",
          "128 GB",
          "128 GB",
          "64 GB",
          "64 GB",
          "128 GB",
          "64 GB",
          "64 GB",
          "64 GB",
          "64 GB",
          "64 GB",
          "64 GB",
          "64 GB",
          "64 GB",
          "64 GB",
          "64 GB",
          "64 GB",
          "128 GB",
          "64 GB",
          "128 GB",
          "32 GB",
          "64 GB",
          "256 GB",
          "128 GB",
          "64 GB",
          "128 GB",
          "64 GB",
          "64 GB",
          "64 GB",
          "32 GB",
          "64 GB",
          "64 GB",
          "16 GB",
          "64 GB",
          "64 GB",
          "128 GB",
          "128 GB",
          "64 GB",
          "256 GB",
          "64 GB",
          "64 GB",
          "64 GB",
          "64 GB",
          "64 GB",
          "64 GB",
          "64 GB",
          "256 GB",
          "64 GB",
          "128 GB",
          "64 GB",
          "64 GB"
         ],
         "xaxis": "x",
         "y": [
          1,
          1,
          1,
          1,
          1,
          1,
          1,
          1,
          1,
          1,
          1,
          1,
          1,
          1,
          1,
          1,
          1,
          1,
          1,
          1,
          1,
          1,
          1,
          1,
          1,
          1,
          1,
          1,
          1,
          1,
          1,
          1,
          1,
          1,
          1,
          1,
          1,
          1,
          1,
          1,
          1,
          1,
          1,
          1,
          1,
          1,
          1,
          1,
          1,
          1,
          1,
          1,
          1,
          1,
          1,
          1,
          1,
          1,
          1,
          1,
          1,
          1,
          1,
          1,
          1,
          1,
          1,
          1,
          1,
          1,
          1,
          1,
          1,
          1,
          1,
          1,
          1,
          1,
          1,
          1,
          1,
          1,
          1,
          1,
          1,
          1,
          1,
          1,
          1,
          1,
          1,
          1,
          1,
          1,
          1,
          1,
          1,
          1,
          1,
          1,
          1,
          1,
          1,
          1,
          1,
          1,
          1,
          1,
          1,
          1,
          1,
          1,
          1,
          1,
          1,
          1,
          1,
          1,
          1,
          1,
          1,
          1,
          1,
          1,
          1,
          1,
          1,
          1,
          1,
          1,
          1,
          1,
          1,
          1,
          1,
          1,
          1,
          1,
          1,
          1,
          1,
          1,
          1,
          1,
          1,
          1,
          1,
          1,
          1,
          1,
          1,
          1,
          1,
          1,
          1,
          1,
          1,
          1,
          1,
          1,
          1,
          1,
          1,
          1,
          1,
          1,
          1,
          1,
          1,
          1,
          1,
          1,
          1,
          1,
          1,
          1,
          1,
          1,
          1,
          1,
          1,
          1,
          1,
          1,
          1,
          1,
          1,
          1,
          1,
          1,
          1,
          1,
          1,
          1,
          1,
          1,
          1,
          1,
          1,
          1,
          1,
          1,
          1,
          1,
          1,
          1,
          1,
          1,
          1,
          1,
          1,
          1,
          1,
          1,
          1,
          1,
          1,
          1,
          1,
          1,
          1,
          1,
          1,
          1,
          1,
          1,
          1,
          1,
          1,
          1,
          1,
          1,
          1,
          1,
          1,
          1,
          1,
          1,
          1,
          1,
          1,
          1,
          1,
          1,
          1,
          1,
          1,
          1,
          1,
          1,
          1,
          1,
          1,
          1,
          1,
          1,
          1,
          1,
          1,
          1,
          1,
          1,
          1,
          1,
          1,
          1,
          1,
          1,
          1,
          1,
          1,
          1,
          1,
          1,
          1,
          1,
          1,
          1,
          1,
          1,
          1,
          1,
          1,
          1,
          1,
          1,
          1,
          1,
          1,
          1,
          1,
          1,
          1,
          1,
          1,
          1,
          1,
          1,
          1,
          1,
          1,
          1,
          1,
          1,
          1,
          1,
          1,
          1,
          1,
          1,
          1,
          1,
          1,
          1,
          1,
          1,
          1,
          1,
          1,
          1,
          1,
          1,
          1,
          1,
          1,
          1,
          1,
          1,
          1,
          1,
          1,
          1,
          1,
          1,
          1,
          1,
          1,
          1,
          1,
          1,
          1,
          1,
          1,
          1,
          1,
          1,
          1,
          1,
          1,
          1,
          1,
          1,
          1,
          1,
          1,
          1,
          1,
          1,
          1,
          1,
          1,
          1,
          1,
          1,
          1,
          1,
          1,
          1,
          1,
          1,
          1,
          1,
          1,
          1,
          1,
          1,
          1,
          1,
          1,
          1,
          1,
          1,
          1,
          1,
          1,
          1,
          1,
          1,
          1,
          1,
          1,
          1,
          1,
          1,
          1,
          1,
          1,
          1,
          1,
          1,
          1,
          1,
          1,
          1,
          1,
          1,
          1,
          1,
          1,
          1,
          1,
          1,
          1,
          1,
          1,
          1,
          1,
          1,
          1,
          1,
          1,
          1,
          1,
          1,
          1,
          1,
          1,
          1,
          1,
          1,
          1,
          1,
          1,
          1,
          1,
          1,
          1,
          1,
          1,
          1,
          1,
          1,
          1,
          1,
          1,
          1,
          1,
          1,
          1,
          1,
          1,
          1,
          1,
          1,
          1,
          1,
          1,
          1,
          1,
          1,
          1,
          1,
          1,
          1,
          1,
          1,
          1,
          1,
          1,
          1,
          1,
          1,
          1,
          1,
          1,
          1,
          1,
          1,
          1,
          1,
          1,
          1,
          1,
          1,
          1,
          1,
          1,
          1,
          1,
          1,
          1,
          1,
          1,
          1,
          1,
          1,
          1,
          1,
          1,
          1,
          1,
          1,
          1,
          1,
          1,
          1,
          1,
          1,
          1,
          1,
          1,
          1,
          1,
          1,
          1,
          1,
          1,
          1,
          1,
          1,
          1,
          1,
          1,
          1,
          1,
          1,
          1,
          1,
          1,
          1,
          1,
          1,
          1,
          1,
          1,
          1,
          1,
          1,
          1,
          1,
          1,
          1,
          1,
          1,
          1,
          1,
          1,
          1,
          1,
          1,
          1,
          1,
          1,
          1,
          1,
          1,
          1,
          1,
          1,
          1,
          1,
          1,
          1,
          1,
          1,
          1,
          1,
          1,
          1,
          1,
          1,
          1,
          1,
          1,
          1,
          1,
          1,
          1,
          1,
          1,
          1,
          1,
          1,
          1,
          1,
          1,
          1,
          1,
          1,
          1,
          1,
          1,
          1,
          1,
          1,
          1,
          1,
          1,
          1,
          1,
          1,
          1,
          1,
          1,
          1,
          1,
          1,
          1,
          1,
          1,
          1,
          1,
          1,
          1,
          1,
          1,
          1,
          1,
          1,
          1,
          1,
          1,
          1,
          1,
          1,
          1,
          1,
          1,
          1,
          1,
          1,
          1,
          1,
          1,
          1,
          1,
          1,
          1,
          1,
          1,
          1,
          1,
          1,
          1,
          1,
          1,
          1,
          1,
          1,
          1,
          1,
          1,
          1,
          1,
          1,
          1,
          1,
          1,
          1,
          1,
          1,
          1,
          1,
          1,
          1,
          1,
          1,
          1,
          1,
          1,
          1,
          1,
          1,
          1,
          1,
          1,
          1,
          1,
          1,
          1,
          1,
          1,
          1,
          1,
          1,
          1,
          1,
          1,
          1,
          1,
          1,
          1,
          1,
          1,
          1,
          1,
          1,
          1,
          1,
          1,
          1,
          1,
          1,
          1,
          1,
          1,
          1,
          1,
          1,
          1,
          1,
          1,
          1,
          1,
          1,
          1,
          1,
          1,
          1,
          1,
          1,
          1,
          1,
          1,
          1,
          1,
          1,
          1,
          1,
          1,
          1,
          1,
          1,
          1,
          1,
          1,
          1,
          1,
          1,
          1,
          1,
          1,
          1,
          1,
          1,
          1,
          1,
          1,
          1,
          1,
          1,
          1,
          1,
          1,
          1,
          1,
          1,
          1,
          1,
          1,
          1,
          1,
          1,
          1,
          1,
          1,
          1,
          1,
          1,
          1,
          1,
          1,
          1,
          1,
          1,
          1,
          1,
          1,
          1,
          1,
          1,
          1,
          1,
          1,
          1,
          1,
          1,
          1,
          1,
          1,
          1,
          1,
          1,
          1,
          1,
          1,
          1,
          1,
          1,
          1,
          1,
          1,
          1,
          1,
          1,
          1,
          1,
          1,
          1,
          1,
          1,
          1,
          1,
          1,
          1,
          1,
          1,
          1,
          1,
          1,
          1,
          1,
          1,
          1,
          1,
          1,
          1,
          1,
          1,
          1,
          1,
          1,
          1,
          1,
          1,
          1,
          1,
          1,
          1,
          1,
          1,
          1,
          1,
          1,
          1,
          1,
          1,
          1,
          1,
          1,
          1,
          1,
          1,
          1,
          1,
          1,
          1,
          1,
          1,
          1,
          1,
          1,
          1,
          1,
          1,
          1,
          1,
          1,
          1,
          1,
          1,
          1,
          1,
          1,
          1,
          1,
          1,
          1,
          1,
          1,
          1,
          1,
          1,
          1,
          1,
          1,
          1,
          1,
          1,
          1,
          1,
          1,
          1,
          1,
          1,
          1,
          1,
          1,
          1,
          1,
          1,
          1,
          1,
          1,
          1,
          1,
          1,
          1,
          1,
          1,
          1,
          1,
          1,
          1,
          1,
          1,
          1,
          1,
          1,
          1,
          1,
          1,
          1,
          1,
          1,
          1,
          1,
          1,
          1,
          1,
          1,
          1,
          1,
          1,
          1,
          1,
          1,
          1,
          1,
          1,
          1,
          1,
          1,
          1,
          1,
          1,
          1,
          1,
          1,
          1,
          1,
          1,
          1,
          1,
          1,
          1,
          1,
          1,
          1,
          1
         ],
         "yaxis": "y"
        }
       ],
       "layout": {
        "barmode": "relative",
        "legend": {
         "tracegroupgap": 0
        },
        "margin": {
         "t": 60
        },
        "template": {
         "data": {
          "bar": [
           {
            "error_x": {
             "color": "#2a3f5f"
            },
            "error_y": {
             "color": "#2a3f5f"
            },
            "marker": {
             "line": {
              "color": "#E5ECF6",
              "width": 0.5
             }
            },
            "type": "bar"
           }
          ],
          "barpolar": [
           {
            "marker": {
             "line": {
              "color": "#E5ECF6",
              "width": 0.5
             }
            },
            "type": "barpolar"
           }
          ],
          "carpet": [
           {
            "aaxis": {
             "endlinecolor": "#2a3f5f",
             "gridcolor": "white",
             "linecolor": "white",
             "minorgridcolor": "white",
             "startlinecolor": "#2a3f5f"
            },
            "baxis": {
             "endlinecolor": "#2a3f5f",
             "gridcolor": "white",
             "linecolor": "white",
             "minorgridcolor": "white",
             "startlinecolor": "#2a3f5f"
            },
            "type": "carpet"
           }
          ],
          "choropleth": [
           {
            "colorbar": {
             "outlinewidth": 0,
             "ticks": ""
            },
            "type": "choropleth"
           }
          ],
          "contour": [
           {
            "colorbar": {
             "outlinewidth": 0,
             "ticks": ""
            },
            "colorscale": [
             [
              0,
              "#0d0887"
             ],
             [
              0.1111111111111111,
              "#46039f"
             ],
             [
              0.2222222222222222,
              "#7201a8"
             ],
             [
              0.3333333333333333,
              "#9c179e"
             ],
             [
              0.4444444444444444,
              "#bd3786"
             ],
             [
              0.5555555555555556,
              "#d8576b"
             ],
             [
              0.6666666666666666,
              "#ed7953"
             ],
             [
              0.7777777777777778,
              "#fb9f3a"
             ],
             [
              0.8888888888888888,
              "#fdca26"
             ],
             [
              1,
              "#f0f921"
             ]
            ],
            "type": "contour"
           }
          ],
          "contourcarpet": [
           {
            "colorbar": {
             "outlinewidth": 0,
             "ticks": ""
            },
            "type": "contourcarpet"
           }
          ],
          "heatmap": [
           {
            "colorbar": {
             "outlinewidth": 0,
             "ticks": ""
            },
            "colorscale": [
             [
              0,
              "#0d0887"
             ],
             [
              0.1111111111111111,
              "#46039f"
             ],
             [
              0.2222222222222222,
              "#7201a8"
             ],
             [
              0.3333333333333333,
              "#9c179e"
             ],
             [
              0.4444444444444444,
              "#bd3786"
             ],
             [
              0.5555555555555556,
              "#d8576b"
             ],
             [
              0.6666666666666666,
              "#ed7953"
             ],
             [
              0.7777777777777778,
              "#fb9f3a"
             ],
             [
              0.8888888888888888,
              "#fdca26"
             ],
             [
              1,
              "#f0f921"
             ]
            ],
            "type": "heatmap"
           }
          ],
          "heatmapgl": [
           {
            "colorbar": {
             "outlinewidth": 0,
             "ticks": ""
            },
            "colorscale": [
             [
              0,
              "#0d0887"
             ],
             [
              0.1111111111111111,
              "#46039f"
             ],
             [
              0.2222222222222222,
              "#7201a8"
             ],
             [
              0.3333333333333333,
              "#9c179e"
             ],
             [
              0.4444444444444444,
              "#bd3786"
             ],
             [
              0.5555555555555556,
              "#d8576b"
             ],
             [
              0.6666666666666666,
              "#ed7953"
             ],
             [
              0.7777777777777778,
              "#fb9f3a"
             ],
             [
              0.8888888888888888,
              "#fdca26"
             ],
             [
              1,
              "#f0f921"
             ]
            ],
            "type": "heatmapgl"
           }
          ],
          "histogram": [
           {
            "marker": {
             "colorbar": {
              "outlinewidth": 0,
              "ticks": ""
             }
            },
            "type": "histogram"
           }
          ],
          "histogram2d": [
           {
            "colorbar": {
             "outlinewidth": 0,
             "ticks": ""
            },
            "colorscale": [
             [
              0,
              "#0d0887"
             ],
             [
              0.1111111111111111,
              "#46039f"
             ],
             [
              0.2222222222222222,
              "#7201a8"
             ],
             [
              0.3333333333333333,
              "#9c179e"
             ],
             [
              0.4444444444444444,
              "#bd3786"
             ],
             [
              0.5555555555555556,
              "#d8576b"
             ],
             [
              0.6666666666666666,
              "#ed7953"
             ],
             [
              0.7777777777777778,
              "#fb9f3a"
             ],
             [
              0.8888888888888888,
              "#fdca26"
             ],
             [
              1,
              "#f0f921"
             ]
            ],
            "type": "histogram2d"
           }
          ],
          "histogram2dcontour": [
           {
            "colorbar": {
             "outlinewidth": 0,
             "ticks": ""
            },
            "colorscale": [
             [
              0,
              "#0d0887"
             ],
             [
              0.1111111111111111,
              "#46039f"
             ],
             [
              0.2222222222222222,
              "#7201a8"
             ],
             [
              0.3333333333333333,
              "#9c179e"
             ],
             [
              0.4444444444444444,
              "#bd3786"
             ],
             [
              0.5555555555555556,
              "#d8576b"
             ],
             [
              0.6666666666666666,
              "#ed7953"
             ],
             [
              0.7777777777777778,
              "#fb9f3a"
             ],
             [
              0.8888888888888888,
              "#fdca26"
             ],
             [
              1,
              "#f0f921"
             ]
            ],
            "type": "histogram2dcontour"
           }
          ],
          "mesh3d": [
           {
            "colorbar": {
             "outlinewidth": 0,
             "ticks": ""
            },
            "type": "mesh3d"
           }
          ],
          "parcoords": [
           {
            "line": {
             "colorbar": {
              "outlinewidth": 0,
              "ticks": ""
             }
            },
            "type": "parcoords"
           }
          ],
          "pie": [
           {
            "automargin": true,
            "type": "pie"
           }
          ],
          "scatter": [
           {
            "marker": {
             "colorbar": {
              "outlinewidth": 0,
              "ticks": ""
             }
            },
            "type": "scatter"
           }
          ],
          "scatter3d": [
           {
            "line": {
             "colorbar": {
              "outlinewidth": 0,
              "ticks": ""
             }
            },
            "marker": {
             "colorbar": {
              "outlinewidth": 0,
              "ticks": ""
             }
            },
            "type": "scatter3d"
           }
          ],
          "scattercarpet": [
           {
            "marker": {
             "colorbar": {
              "outlinewidth": 0,
              "ticks": ""
             }
            },
            "type": "scattercarpet"
           }
          ],
          "scattergeo": [
           {
            "marker": {
             "colorbar": {
              "outlinewidth": 0,
              "ticks": ""
             }
            },
            "type": "scattergeo"
           }
          ],
          "scattergl": [
           {
            "marker": {
             "colorbar": {
              "outlinewidth": 0,
              "ticks": ""
             }
            },
            "type": "scattergl"
           }
          ],
          "scattermapbox": [
           {
            "marker": {
             "colorbar": {
              "outlinewidth": 0,
              "ticks": ""
             }
            },
            "type": "scattermapbox"
           }
          ],
          "scatterpolar": [
           {
            "marker": {
             "colorbar": {
              "outlinewidth": 0,
              "ticks": ""
             }
            },
            "type": "scatterpolar"
           }
          ],
          "scatterpolargl": [
           {
            "marker": {
             "colorbar": {
              "outlinewidth": 0,
              "ticks": ""
             }
            },
            "type": "scatterpolargl"
           }
          ],
          "scatterternary": [
           {
            "marker": {
             "colorbar": {
              "outlinewidth": 0,
              "ticks": ""
             }
            },
            "type": "scatterternary"
           }
          ],
          "surface": [
           {
            "colorbar": {
             "outlinewidth": 0,
             "ticks": ""
            },
            "colorscale": [
             [
              0,
              "#0d0887"
             ],
             [
              0.1111111111111111,
              "#46039f"
             ],
             [
              0.2222222222222222,
              "#7201a8"
             ],
             [
              0.3333333333333333,
              "#9c179e"
             ],
             [
              0.4444444444444444,
              "#bd3786"
             ],
             [
              0.5555555555555556,
              "#d8576b"
             ],
             [
              0.6666666666666666,
              "#ed7953"
             ],
             [
              0.7777777777777778,
              "#fb9f3a"
             ],
             [
              0.8888888888888888,
              "#fdca26"
             ],
             [
              1,
              "#f0f921"
             ]
            ],
            "type": "surface"
           }
          ],
          "table": [
           {
            "cells": {
             "fill": {
              "color": "#EBF0F8"
             },
             "line": {
              "color": "white"
             }
            },
            "header": {
             "fill": {
              "color": "#C8D4E3"
             },
             "line": {
              "color": "white"
             }
            },
            "type": "table"
           }
          ]
         },
         "layout": {
          "annotationdefaults": {
           "arrowcolor": "#2a3f5f",
           "arrowhead": 0,
           "arrowwidth": 1
          },
          "autotypenumbers": "strict",
          "coloraxis": {
           "colorbar": {
            "outlinewidth": 0,
            "ticks": ""
           }
          },
          "colorscale": {
           "diverging": [
            [
             0,
             "#8e0152"
            ],
            [
             0.1,
             "#c51b7d"
            ],
            [
             0.2,
             "#de77ae"
            ],
            [
             0.3,
             "#f1b6da"
            ],
            [
             0.4,
             "#fde0ef"
            ],
            [
             0.5,
             "#f7f7f7"
            ],
            [
             0.6,
             "#e6f5d0"
            ],
            [
             0.7,
             "#b8e186"
            ],
            [
             0.8,
             "#7fbc41"
            ],
            [
             0.9,
             "#4d9221"
            ],
            [
             1,
             "#276419"
            ]
           ],
           "sequential": [
            [
             0,
             "#0d0887"
            ],
            [
             0.1111111111111111,
             "#46039f"
            ],
            [
             0.2222222222222222,
             "#7201a8"
            ],
            [
             0.3333333333333333,
             "#9c179e"
            ],
            [
             0.4444444444444444,
             "#bd3786"
            ],
            [
             0.5555555555555556,
             "#d8576b"
            ],
            [
             0.6666666666666666,
             "#ed7953"
            ],
            [
             0.7777777777777778,
             "#fb9f3a"
            ],
            [
             0.8888888888888888,
             "#fdca26"
            ],
            [
             1,
             "#f0f921"
            ]
           ],
           "sequentialminus": [
            [
             0,
             "#0d0887"
            ],
            [
             0.1111111111111111,
             "#46039f"
            ],
            [
             0.2222222222222222,
             "#7201a8"
            ],
            [
             0.3333333333333333,
             "#9c179e"
            ],
            [
             0.4444444444444444,
             "#bd3786"
            ],
            [
             0.5555555555555556,
             "#d8576b"
            ],
            [
             0.6666666666666666,
             "#ed7953"
            ],
            [
             0.7777777777777778,
             "#fb9f3a"
            ],
            [
             0.8888888888888888,
             "#fdca26"
            ],
            [
             1,
             "#f0f921"
            ]
           ]
          },
          "colorway": [
           "#636efa",
           "#EF553B",
           "#00cc96",
           "#ab63fa",
           "#FFA15A",
           "#19d3f3",
           "#FF6692",
           "#B6E880",
           "#FF97FF",
           "#FECB52"
          ],
          "font": {
           "color": "#2a3f5f"
          },
          "geo": {
           "bgcolor": "white",
           "lakecolor": "white",
           "landcolor": "#E5ECF6",
           "showlakes": true,
           "showland": true,
           "subunitcolor": "white"
          },
          "hoverlabel": {
           "align": "left"
          },
          "hovermode": "closest",
          "mapbox": {
           "style": "light"
          },
          "paper_bgcolor": "white",
          "plot_bgcolor": "#E5ECF6",
          "polar": {
           "angularaxis": {
            "gridcolor": "white",
            "linecolor": "white",
            "ticks": ""
           },
           "bgcolor": "#E5ECF6",
           "radialaxis": {
            "gridcolor": "white",
            "linecolor": "white",
            "ticks": ""
           }
          },
          "scene": {
           "xaxis": {
            "backgroundcolor": "#E5ECF6",
            "gridcolor": "white",
            "gridwidth": 2,
            "linecolor": "white",
            "showbackground": true,
            "ticks": "",
            "zerolinecolor": "white"
           },
           "yaxis": {
            "backgroundcolor": "#E5ECF6",
            "gridcolor": "white",
            "gridwidth": 2,
            "linecolor": "white",
            "showbackground": true,
            "ticks": "",
            "zerolinecolor": "white"
           },
           "zaxis": {
            "backgroundcolor": "#E5ECF6",
            "gridcolor": "white",
            "gridwidth": 2,
            "linecolor": "white",
            "showbackground": true,
            "ticks": "",
            "zerolinecolor": "white"
           }
          },
          "shapedefaults": {
           "line": {
            "color": "#2a3f5f"
           }
          },
          "ternary": {
           "aaxis": {
            "gridcolor": "white",
            "linecolor": "white",
            "ticks": ""
           },
           "baxis": {
            "gridcolor": "white",
            "linecolor": "white",
            "ticks": ""
           },
           "bgcolor": "#E5ECF6",
           "caxis": {
            "gridcolor": "white",
            "linecolor": "white",
            "ticks": ""
           }
          },
          "title": {
           "x": 0.05
          },
          "xaxis": {
           "automargin": true,
           "gridcolor": "white",
           "linecolor": "white",
           "ticks": "",
           "title": {
            "standoff": 15
           },
           "zerolinecolor": "white",
           "zerolinewidth": 2
          },
          "yaxis": {
           "automargin": true,
           "gridcolor": "white",
           "linecolor": "white",
           "ticks": "",
           "title": {
            "standoff": 15
           },
           "zerolinecolor": "white",
           "zerolinewidth": 2
          }
         }
        },
        "xaxis": {
         "anchor": "y",
         "domain": [
          0,
          1
         ],
         "title": {
          "text": "x"
         }
        },
        "yaxis": {
         "anchor": "x",
         "domain": [
          0,
          1
         ],
         "title": {
          "text": "count"
         }
        }
       }
      },
      "text/html": [
       "<div>                            <div id=\"9c9fa17c-114b-46a8-94b0-4a052a9a8c0e\" class=\"plotly-graph-div\" style=\"height:525px; width:100%;\"></div>            <script type=\"text/javascript\">                require([\"plotly\"], function(Plotly) {                    window.PLOTLYENV=window.PLOTLYENV || {};                                    if (document.getElementById(\"9c9fa17c-114b-46a8-94b0-4a052a9a8c0e\")) {                    Plotly.newPlot(                        \"9c9fa17c-114b-46a8-94b0-4a052a9a8c0e\",                        [{\"alignmentgroup\": \"True\", \"hovertemplate\": \"x=%{x}<br>count=%{y}<extra></extra>\", \"legendgroup\": \"\", \"marker\": {\"color\": \"#636efa\"}, \"name\": \"\", \"offsetgroup\": \"\", \"orientation\": \"v\", \"showlegend\": false, \"textposition\": \"auto\", \"type\": \"bar\", \"x\": [\"64 GB\", \"64 GB\", \"32 GB\", \"32 GB\", \"64 GB\", \"64 GB\", \"64 GB\", \"64 GB\", \"32 GB\", \"64 GB\", \"32 GB\", \"32 GB\", \"32 GB\", \"32 GB\", \"32 GB\", \"64 GB\", \"64 GB\", \"32 GB\", \"64 GB\", \"64 GB\", \"32 GB\", \"32 GB\", \"32 GB\", \"32 GB\", \"32 GB\", \"64 GB\", \"32 GB\", \"128 GB\", \"64 GB\", \"128 GB\", \"128 GB\", \"64 GB\", \"64 GB\", \"128 GB\", \"32 GB\", \"128 GB\", \"128 GB\", \"128 GB\", \"64 GB\", \"64 GB\", \"64 GB\", \"64 GB\", \"32 GB\", \"32 GB\", \"64 GB\", \"64 GB\", \"32 GB\", \"32 GB\", \"64 GB\", \"64 GB\", \"64 GB\", \"32 GB\", \"32 GB\", \"32 GB\", \"32 GB\", \"64 GB\", \"64 GB\", \"32 GB\", \"64 GB\", \"32 GB\", \"64 GB\", \"32 GB\", \"32 GB\", \"32 GB\", \"32 GB\", \"64 GB\", \"128 GB\", \"128 GB\", \"64 GB\", \"128 GB\", \"128 GB\", \"64 GB\", \"64 GB\", \"128 GB\", \"128 GB\", \"128 GB\", \"64 GB\", \"64 GB\", \"64 GB\", \"64 GB\", \"64 GB\", \"64 GB\", \"64 GB\", \"32 GB\", \"128 GB\", \"64 GB\", \"32 GB\", \"64 GB\", \"32 GB\", \"128 GB\", \"32 GB\", \"64 GB\", \"64 GB\", \"64 GB\", \"64 GB\", \"64 GB\", \"64 GB\", \"64 GB\", \"128 GB\", \"128 GB\", \"128 GB\", \"64 GB\", \"64 GB\", \"64 GB\", \"64 GB\", \"128 GB\", \"64 GB\", \"64 GB\", \"64 GB\", \"64 GB\", \"128 GB\", \"64 GB\", \"128 GB\", \"128 GB\", \"128 GB\", \"64 GB\", \"64 GB\", \"128 GB\", \"64 GB\", \"128 GB\", \"128 GB\", \"64 GB\", \"64 GB\", \"128 GB\", \"128 GB\", \"64 GB\", \"64 GB\", \"64 GB\", \"64 GB\", \"64 GB\", \"64 GB\", \"64 GB\", \"32 GB\", \"32 GB\", \"64 GB\", \"128 GB\", \"64 GB\", \"32 GB\", \"64 GB\", \"64 GB\", \"64 GB\", \"64 GB\", \"32 GB\", \"64 GB\", \"128 GB\", \"128 GB\", \"64 GB\", \"128 GB\", \"128 GB\", \"64 GB\", \"64 GB\", \"32 GB\", \"32 GB\", \"32 GB\", \"64 GB\", \"64 GB\", \"128 GB\", \"128 GB\", \"128 GB\", \"128 GB\", \"32 GB\", \"64 GB\", \"64 GB\", \"64 GB\", \"64 GB\", \"128 GB\", \"128 GB\", \"64 GB\", \"64 GB\", \"64 GB\", \"32 GB\", \"32 GB\", \"64 GB\", \"64 GB\", \"64 GB\", \"64 GB\", \"64 GB\", \"128 GB\", \"64 GB\", \"128 GB\", \"64 GB\", \"64 GB\", \"128 GB\", \"64 GB\", \"64 GB\", \"32 GB\", \"32 GB\", \"64 GB\", \"128 GB\", \"64 GB\", \"64 GB\", \"64 GB\", \"128 GB\", \"32 GB\", \"128 GB\", \"64 GB\", \"64 GB\", \"128 GB\", \"128 GB\", \"64 GB\", \"64 GB\", \"128 GB\", \"32 GB\", \"32 GB\", \"32 GB\", \"64 GB\", \"128 GB\", \"64 GB\", \"64 GB\", \"128 GB\", \"32 GB\", \"64 GB\", \"64 GB\", \"128 GB\", \"64 GB\", \"64 GB\", \"64 GB\", \"64 GB\", \"64 GB\", \"64 GB\", \"128 GB\", \"64 GB\", \"128 GB\", \"128 GB\", \"32 GB\", \"64 GB\", \"64 GB\", \"64 GB\", \"64 GB\", \"128 GB\", \"64 GB\", \"32 GB\", \"64 GB\", \"64 GB\", \"128 GB\", \"128 GB\", \"128 GB\", \"64 GB\", \"128 GB\", \"128 GB\", \"64 GB\", \"64 GB\", \"64 GB\", \"64 GB\", \"128 GB\", \"32 GB\", \"64 GB\", \"128 GB\", \"64 GB\", \"128 GB\", \"64 GB\", \"128 GB\", \"128 GB\", \"128 GB\", \"64 GB\", \"32 GB\", \"64 GB\", \"64 GB\", \"64 GB\", \"64 GB\", \"64 GB\", \"64 GB\", \"32 GB\", \"64 GB\", \"64 GB\", \"128 GB\", \"64 GB\", \"128 GB\", \"128 GB\", \"64 GB\", \"128 GB\", \"128 GB\", \"64 GB\", \"32 GB\", \"32 GB\", \"32 GB\", \"128 GB\", \"128 GB\", \"128 GB\", \"32 GB\", \"32 GB\", \"64 GB\", \"128 GB\", \"64 GB\", \"32 GB\", \"128 GB\", \"64 GB\", \"64 GB\", \"16 GB\", \"64 GB\", \"64 GB\", \"128 GB\", \"128 GB\", \"128 GB\", \"64 GB\", \"64 GB\", \"64 GB\", \"64 GB\", \"64 GB\", \"64 GB\", \"16 GB\", \"128 GB\", \"64 GB\", \"64 GB\", \"64 GB\", \"128 GB\", \"64 GB\", \"64 GB\", \"32 GB\", \"32 GB\", \"32 GB\", \"64 GB\", \"64 GB\", \"64 GB\", \"64 GB\", \"128 GB\", \"128 GB\", \"64 GB\", \"128 GB\", \"128 GB\", \"64 GB\", \"128 GB\", \"64 GB\", \"64 GB\", \"64 GB\", \"64 GB\", \"64 GB\", \"64 GB\", \"32 GB\", \"128 GB\", \"32 GB\", \"128 GB\", \"128 GB\", \"64 GB\", \"32 GB\", \"64 GB\", \"64 GB\", \"64 GB\", \"64 GB\", \"64 GB\", \"32 GB\", \"64 GB\", \"64 GB\", \"128 GB\", \"16 GB\", \"128 GB\", \"64 GB\", \"64 GB\", \"128 GB\", \"64 GB\", \"64 GB\", \"64 GB\", \"64 GB\", \"64 GB\", \"64 GB\", \"64 GB\", \"64 GB\", \"64 GB\", \"64 GB\", \"64 GB\", \"64 GB\", \"64 GB\", \"64 GB\", \"64 GB\", \"64 GB\", \"128 GB\", \"256 GB\", \"128 GB\", \"64 GB\", \"64 GB\", \"32 GB\", \"64 GB\", \"256 GB\", \"128 GB\", \"64 GB\", \"64 GB\", \"64 GB\", \"64 GB\", \"128 GB\", \"64 GB\", \"128 GB\", \"64 GB\", \"64 GB\", \"64 GB\", \"64 GB\", \"64 GB\", \"128 GB\", \"64 GB\", \"128 GB\", \"64 GB\", \"64 GB\", \"64 GB\", \"64 GB\", \"256 GB\", \"128 GB\", \"128 GB\", \"64 GB\", \"128 GB\", \"64 GB\", \"128 GB\", \"64 GB\", \"64 GB\", \"64 GB\", \"64 GB\", \"64 GB\", \"128 GB\", \"64 GB\", \"64 GB\", \"64 GB\", \"64 GB\", \"128 GB\", \"128 GB\", \"64 GB\", \"128 GB\", \"64 GB\", \"64 GB\", \"64 GB\", \"64 GB\", \"64 GB\", \"256 GB\", \"128 GB\", \"128 GB\", \"64 GB\", \"128 GB\", \"64 GB\", \"16 GB\", \"64 GB\", \"128 GB\", \"64 GB\", \"128 GB\", \"128 GB\", \"16 GB\", \"64 GB\", \"128 GB\", \"64 GB\", \"64 GB\", \"32 GB\", \"64 GB\", \"64 GB\", \"64 GB\", \"64 GB\", \"64 GB\", \"64 GB\", \"128 GB\", \"32 GB\", \"32 GB\", \"64 GB\", \"64 GB\", \"128 GB\", \"64 GB\", \"64 GB\", \"128 GB\", \"64 GB\", \"128 GB\", \"128 GB\", \"64 GB\", \"64 GB\", \"32 GB\", \"64 GB\", \"64 GB\", \"128 GB\", \"128 GB\", \"32 GB\", \"64 GB\", \"64 GB\", \"64 GB\", \"64 GB\", \"64 GB\", \"64 GB\", \"64 GB\", \"64 GB\", \"64 GB\", \"128 GB\", \"256 GB\", \"128 GB\", \"128 GB\", \"128 GB\", \"64 GB\", \"64 GB\", \"32 GB\", \"128 GB\", \"64 GB\", \"64 GB\", \"64 GB\", \"64 GB\", \"64 GB\", \"64 GB\", \"128 GB\", \"128 GB\", \"64 GB\", \"128 GB\", \"256 GB\", \"128 GB\", \"64 GB\", \"64 GB\", \"64 GB\", \"64 GB\", \"32 GB\", \"64 GB\", \"64 GB\", \"64 GB\", \"64 GB\", \"32 GB\", \"64 GB\", \"64 GB\", \"64 GB\", \"64 GB\", \"64 GB\", \"64 GB\", \"128 GB\", \"64 GB\", \"64 GB\", \"64 GB\", \"64 GB\", \"64 GB\", \"128 GB\", \"64 GB\", \"64 GB\", \"64 GB\", \"128 GB\", \"64 GB\", \"64 GB\", \"32 GB\", \"64 GB\", \"64 GB\", \"64 GB\", \"64 GB\", \"128 GB\", \"64 GB\", \"128 GB\", \"64 GB\", \"64 GB\", \"128 GB\", \"256 GB\", \"64 GB\", \"64 GB\", \"64 GB\", \"128 GB\", \"128 GB\", \"128 GB\", \"64 GB\", \"128 GB\", \"64 GB\", \"64 GB\", \"64 GB\", \"64 GB\", \"64 GB\", \"64 GB\", \"128 GB\", \"32 GB\", \"64 GB\", \"64 GB\", \"64 GB\", \"64 GB\", \"64 GB\", \"64 GB\", \"128 GB\", \"64 GB\", \"256 GB\", \"256 GB\", \"128 GB\", \"128 GB\", \"32 GB\", \"64 GB\", \"64 GB\", \"64 GB\", \"128 GB\", \"128 GB\", \"64 GB\", \"64 GB\", \"64 GB\", \"128 GB\", \"128 GB\", \"128 GB\", \"32 GB\", \"64 GB\", \"64 GB\", \"64 GB\", \"64 GB\", \"64 GB\", \"128 GB\", \"128 GB\", \"128 GB\", \"128 GB\", \"128 GB\", \"32 GB\", \"256 GB\", \"128 GB\", \"64 GB\", \"64 GB\", \"16 GB\", \"128 GB\", \"64 GB\", \"32 GB\", \"64 GB\", \"64 GB\", \"32 GB\", \"128 GB\", \"64 GB\", \"64 GB\", \"32 GB\", \"128 GB\", \"64 GB\", \"32 GB\", \"64 GB\", \"256 GB\", \"64 GB\", \"64 GB\", \"128 GB\", \"64 GB\", \"256 GB\", \"128 GB\", \"64 GB\", \"128 GB\", \"128 GB\", \"64 GB\", \"64 GB\", \"64 GB\", \"64 GB\", \"128 GB\", \"128 GB\", \"128 GB\", \"64 GB\", \"64 GB\", \"64 GB\", \"64 GB\", \"32 GB\", \"64 GB\", \"64 GB\", \"64 GB\", \"64 GB\", \"64 GB\", \"64 GB\", \"128 GB\", \"128 GB\", \"64 GB\", \"64 GB\", \"64 GB\", \"64 GB\", \"64 GB\", \"64 GB\", \"64 GB\", \"64 GB\", \"64 GB\", \"128 GB\", \"32 GB\", \"128 GB\", \"64 GB\", \"128 GB\", \"128 GB\", \"64 GB\", \"64 GB\", \"128 GB\", \"64 GB\", \"64 GB\", \"64 GB\", \"64 GB\", \"64 GB\", \"64 GB\", \"64 GB\", \"64 GB\", \"64 GB\", \"64 GB\", \"64 GB\", \"256 GB\", \"32 GB\", \"128 GB\", \"64 GB\", \"128 GB\", \"64 GB\", \"64 GB\", \"64 GB\", \"64 GB\", \"32 GB\", \"64 GB\", \"64 GB\", \"64 GB\", \"128 GB\", \"32 GB\", \"16 GB\", \"64 GB\", \"32 GB\", \"64 GB\", \"64 GB\", \"128 GB\", \"256 GB\", \"128 GB\", \"64 GB\", \"64 GB\", \"32 GB\", \"64 GB\", \"256 GB\", \"64 GB\", \"64 GB\", \"64 GB\", \"64 GB\", \"64 GB\", \"64 GB\", \"64 GB\", \"128 GB\", \"128 GB\", \"32 GB\", \"64 GB\", \"64 GB\", \"64 GB\", \"64 GB\", \"64 GB\", \"64 GB\", \"64 GB\", \"64 GB\", \"128 GB\", \"64 GB\", \"32 GB\", \"64 GB\", \"32 GB\", \"64 GB\", \"128 GB\", \"64 GB\", \"64 GB\", \"128 GB\", \"128 GB\", \"64 GB\", \"64 GB\", \"64 GB\", \"64 GB\", \"64 GB\", \"64 GB\", \"64 GB\", \"32 GB\", \"64 GB\", \"64 GB\", \"128 GB\", \"64 GB\", \"64 GB\", \"64 GB\", \"128 GB\", \"64 GB\", \"64 GB\", \"64 GB\", \"64 GB\", \"16 GB\", \"32 GB\", \"64 GB\", \"64 GB\", \"32 GB\", \"128 GB\", \"64 GB\", \"128 GB\", \"256 GB\", \"64 GB\", \"64 GB\", \"64 GB\", \"64 GB\", \"64 GB\", \"64 GB\", \"64 GB\", \"64 GB\", \"64 GB\", \"64 GB\", \"64 GB\", \"64 GB\", \"64 GB\", \"32 GB\", \"64 GB\", \"64 GB\", \"64 GB\", \"128 GB\", \"64 GB\", \"64 GB\", \"64 GB\", \"64 GB\", \"128 GB\", \"128 GB\", \"128 GB\", \"128 GB\", \"128 GB\", \"64 GB\", \"64 GB\", \"64 GB\", \"32 GB\", \"64 GB\", \"64 GB\", \"64 GB\", \"128 GB\", \"128 GB\", \"64 GB\", \"64 GB\", \"64 GB\", \"64 GB\", \"64 GB\", \"64 GB\", \"64 GB\", \"64 GB\", \"128 GB\", \"64 GB\", \"64 GB\", \"64 GB\", \"64 GB\", \"64 GB\", \"64 GB\", \"16 GB\", \"16 GB\", \"16 GB\", \"64 GB\", \"64 GB\", \"64 GB\", \"128 GB\", \"64 GB\", \"64 GB\", \"64 GB\", \"256 GB\", \"32 GB\", \"64 GB\", \"64 GB\", \"64 GB\", \"64 GB\", \"64 GB\", \"64 GB\", \"64 GB\", \"64 GB\", \"128 GB\", \"64 GB\", \"64 GB\", \"64 GB\", \"128 GB\", \"64 GB\", \"64 GB\", \"128 GB\", \"64 GB\", \"64 GB\", \"64 GB\", \"64 GB\", \"64 GB\", \"64 GB\", \"32 GB\", \"64 GB\", \"64 GB\", \"64 GB\", \"32 GB\", \"64 GB\", \"128 GB\", \"64 GB\", \"32 GB\", \"64 GB\", \"64 GB\", \"64 GB\", \"64 GB\", \"64 GB\", \"64 GB\", \"64 GB\", \"64 GB\", \"64 GB\", \"64 GB\", \"128 GB\", \"64 GB\", \"64 GB\", \"128 GB\", \"128 GB\", \"64 GB\", \"64 GB\", \"64 GB\", \"64 GB\", \"64 GB\", \"128 GB\", \"128 GB\", \"128 GB\", \"64 GB\", \"128 GB\", \"64 GB\", \"64 GB\", \"128 GB\", \"64 GB\", \"64 GB\", \"64 GB\", \"64 GB\", \"256 GB\", \"128 GB\", \"256 GB\", \"64 GB\", \"64 GB\", \"64 GB\", \"64 GB\", \"128 GB\", \"64 GB\", \"64 GB\", \"64 GB\", \"64 GB\", \"64 GB\", \"16 GB\", \"32 GB\", \"64 GB\", \"64 GB\", \"64 GB\", \"64 GB\", \"64 GB\", \"64 GB\", \"64 GB\", \"64 GB\", \"64 GB\", \"64 GB\", \"256 GB\", \"128 GB\", \"64 GB\", \"64 GB\", \"128 GB\", \"64 GB\", \"64 GB\", \"64 GB\", \"64 GB\", \"128 GB\", \"128 GB\", \"128 GB\", \"64 GB\", \"64 GB\", \"128 GB\", \"64 GB\", \"64 GB\", \"64 GB\", \"64 GB\", \"64 GB\", \"64 GB\", \"64 GB\", \"64 GB\", \"64 GB\", \"64 GB\", \"64 GB\", \"128 GB\", \"64 GB\", \"128 GB\", \"32 GB\", \"64 GB\", \"256 GB\", \"128 GB\", \"64 GB\", \"128 GB\", \"64 GB\", \"64 GB\", \"64 GB\", \"32 GB\", \"64 GB\", \"64 GB\", \"16 GB\", \"64 GB\", \"64 GB\", \"128 GB\", \"128 GB\", \"64 GB\", \"256 GB\", \"64 GB\", \"64 GB\", \"64 GB\", \"64 GB\", \"64 GB\", \"64 GB\", \"64 GB\", \"256 GB\", \"64 GB\", \"128 GB\", \"64 GB\", \"64 GB\"], \"xaxis\": \"x\", \"y\": [1, 1, 1, 1, 1, 1, 1, 1, 1, 1, 1, 1, 1, 1, 1, 1, 1, 1, 1, 1, 1, 1, 1, 1, 1, 1, 1, 1, 1, 1, 1, 1, 1, 1, 1, 1, 1, 1, 1, 1, 1, 1, 1, 1, 1, 1, 1, 1, 1, 1, 1, 1, 1, 1, 1, 1, 1, 1, 1, 1, 1, 1, 1, 1, 1, 1, 1, 1, 1, 1, 1, 1, 1, 1, 1, 1, 1, 1, 1, 1, 1, 1, 1, 1, 1, 1, 1, 1, 1, 1, 1, 1, 1, 1, 1, 1, 1, 1, 1, 1, 1, 1, 1, 1, 1, 1, 1, 1, 1, 1, 1, 1, 1, 1, 1, 1, 1, 1, 1, 1, 1, 1, 1, 1, 1, 1, 1, 1, 1, 1, 1, 1, 1, 1, 1, 1, 1, 1, 1, 1, 1, 1, 1, 1, 1, 1, 1, 1, 1, 1, 1, 1, 1, 1, 1, 1, 1, 1, 1, 1, 1, 1, 1, 1, 1, 1, 1, 1, 1, 1, 1, 1, 1, 1, 1, 1, 1, 1, 1, 1, 1, 1, 1, 1, 1, 1, 1, 1, 1, 1, 1, 1, 1, 1, 1, 1, 1, 1, 1, 1, 1, 1, 1, 1, 1, 1, 1, 1, 1, 1, 1, 1, 1, 1, 1, 1, 1, 1, 1, 1, 1, 1, 1, 1, 1, 1, 1, 1, 1, 1, 1, 1, 1, 1, 1, 1, 1, 1, 1, 1, 1, 1, 1, 1, 1, 1, 1, 1, 1, 1, 1, 1, 1, 1, 1, 1, 1, 1, 1, 1, 1, 1, 1, 1, 1, 1, 1, 1, 1, 1, 1, 1, 1, 1, 1, 1, 1, 1, 1, 1, 1, 1, 1, 1, 1, 1, 1, 1, 1, 1, 1, 1, 1, 1, 1, 1, 1, 1, 1, 1, 1, 1, 1, 1, 1, 1, 1, 1, 1, 1, 1, 1, 1, 1, 1, 1, 1, 1, 1, 1, 1, 1, 1, 1, 1, 1, 1, 1, 1, 1, 1, 1, 1, 1, 1, 1, 1, 1, 1, 1, 1, 1, 1, 1, 1, 1, 1, 1, 1, 1, 1, 1, 1, 1, 1, 1, 1, 1, 1, 1, 1, 1, 1, 1, 1, 1, 1, 1, 1, 1, 1, 1, 1, 1, 1, 1, 1, 1, 1, 1, 1, 1, 1, 1, 1, 1, 1, 1, 1, 1, 1, 1, 1, 1, 1, 1, 1, 1, 1, 1, 1, 1, 1, 1, 1, 1, 1, 1, 1, 1, 1, 1, 1, 1, 1, 1, 1, 1, 1, 1, 1, 1, 1, 1, 1, 1, 1, 1, 1, 1, 1, 1, 1, 1, 1, 1, 1, 1, 1, 1, 1, 1, 1, 1, 1, 1, 1, 1, 1, 1, 1, 1, 1, 1, 1, 1, 1, 1, 1, 1, 1, 1, 1, 1, 1, 1, 1, 1, 1, 1, 1, 1, 1, 1, 1, 1, 1, 1, 1, 1, 1, 1, 1, 1, 1, 1, 1, 1, 1, 1, 1, 1, 1, 1, 1, 1, 1, 1, 1, 1, 1, 1, 1, 1, 1, 1, 1, 1, 1, 1, 1, 1, 1, 1, 1, 1, 1, 1, 1, 1, 1, 1, 1, 1, 1, 1, 1, 1, 1, 1, 1, 1, 1, 1, 1, 1, 1, 1, 1, 1, 1, 1, 1, 1, 1, 1, 1, 1, 1, 1, 1, 1, 1, 1, 1, 1, 1, 1, 1, 1, 1, 1, 1, 1, 1, 1, 1, 1, 1, 1, 1, 1, 1, 1, 1, 1, 1, 1, 1, 1, 1, 1, 1, 1, 1, 1, 1, 1, 1, 1, 1, 1, 1, 1, 1, 1, 1, 1, 1, 1, 1, 1, 1, 1, 1, 1, 1, 1, 1, 1, 1, 1, 1, 1, 1, 1, 1, 1, 1, 1, 1, 1, 1, 1, 1, 1, 1, 1, 1, 1, 1, 1, 1, 1, 1, 1, 1, 1, 1, 1, 1, 1, 1, 1, 1, 1, 1, 1, 1, 1, 1, 1, 1, 1, 1, 1, 1, 1, 1, 1, 1, 1, 1, 1, 1, 1, 1, 1, 1, 1, 1, 1, 1, 1, 1, 1, 1, 1, 1, 1, 1, 1, 1, 1, 1, 1, 1, 1, 1, 1, 1, 1, 1, 1, 1, 1, 1, 1, 1, 1, 1, 1, 1, 1, 1, 1, 1, 1, 1, 1, 1, 1, 1, 1, 1, 1, 1, 1, 1, 1, 1, 1, 1, 1, 1, 1, 1, 1, 1, 1, 1, 1, 1, 1, 1, 1, 1, 1, 1, 1, 1, 1, 1, 1, 1, 1, 1, 1, 1, 1, 1, 1, 1, 1, 1, 1, 1, 1, 1, 1, 1, 1, 1, 1, 1, 1, 1, 1, 1, 1, 1, 1, 1, 1, 1, 1, 1, 1, 1, 1, 1, 1, 1, 1, 1, 1, 1, 1, 1, 1, 1, 1, 1, 1, 1, 1, 1, 1, 1, 1, 1, 1, 1, 1, 1, 1, 1, 1, 1, 1, 1, 1, 1, 1, 1, 1, 1, 1, 1, 1, 1, 1, 1, 1, 1, 1, 1, 1, 1, 1, 1, 1, 1, 1, 1, 1, 1, 1, 1, 1, 1, 1, 1, 1, 1, 1, 1, 1, 1, 1, 1, 1, 1, 1, 1, 1, 1, 1, 1, 1, 1, 1, 1, 1, 1, 1, 1, 1, 1, 1, 1, 1, 1, 1, 1, 1, 1, 1, 1, 1, 1, 1, 1, 1, 1, 1, 1, 1, 1, 1, 1, 1, 1, 1, 1, 1, 1, 1, 1, 1, 1, 1, 1, 1, 1, 1, 1, 1, 1, 1, 1, 1, 1, 1, 1, 1, 1, 1, 1, 1, 1, 1, 1, 1, 1, 1, 1, 1, 1, 1, 1, 1, 1, 1, 1, 1, 1, 1, 1, 1, 1, 1, 1, 1, 1, 1, 1, 1, 1, 1, 1, 1, 1, 1, 1, 1, 1, 1, 1, 1], \"yaxis\": \"y\"}],                        {\"barmode\": \"relative\", \"legend\": {\"tracegroupgap\": 0}, \"margin\": {\"t\": 60}, \"template\": {\"data\": {\"bar\": [{\"error_x\": {\"color\": \"#2a3f5f\"}, \"error_y\": {\"color\": \"#2a3f5f\"}, \"marker\": {\"line\": {\"color\": \"#E5ECF6\", \"width\": 0.5}}, \"type\": \"bar\"}], \"barpolar\": [{\"marker\": {\"line\": {\"color\": \"#E5ECF6\", \"width\": 0.5}}, \"type\": \"barpolar\"}], \"carpet\": [{\"aaxis\": {\"endlinecolor\": \"#2a3f5f\", \"gridcolor\": \"white\", \"linecolor\": \"white\", \"minorgridcolor\": \"white\", \"startlinecolor\": \"#2a3f5f\"}, \"baxis\": {\"endlinecolor\": \"#2a3f5f\", \"gridcolor\": \"white\", \"linecolor\": \"white\", \"minorgridcolor\": \"white\", \"startlinecolor\": \"#2a3f5f\"}, \"type\": \"carpet\"}], \"choropleth\": [{\"colorbar\": {\"outlinewidth\": 0, \"ticks\": \"\"}, \"type\": \"choropleth\"}], \"contour\": [{\"colorbar\": {\"outlinewidth\": 0, \"ticks\": \"\"}, \"colorscale\": [[0.0, \"#0d0887\"], [0.1111111111111111, \"#46039f\"], [0.2222222222222222, \"#7201a8\"], [0.3333333333333333, \"#9c179e\"], [0.4444444444444444, \"#bd3786\"], [0.5555555555555556, \"#d8576b\"], [0.6666666666666666, \"#ed7953\"], [0.7777777777777778, \"#fb9f3a\"], [0.8888888888888888, \"#fdca26\"], [1.0, \"#f0f921\"]], \"type\": \"contour\"}], \"contourcarpet\": [{\"colorbar\": {\"outlinewidth\": 0, \"ticks\": \"\"}, \"type\": \"contourcarpet\"}], \"heatmap\": [{\"colorbar\": {\"outlinewidth\": 0, \"ticks\": \"\"}, \"colorscale\": [[0.0, \"#0d0887\"], [0.1111111111111111, \"#46039f\"], [0.2222222222222222, \"#7201a8\"], [0.3333333333333333, \"#9c179e\"], [0.4444444444444444, \"#bd3786\"], [0.5555555555555556, \"#d8576b\"], [0.6666666666666666, \"#ed7953\"], [0.7777777777777778, \"#fb9f3a\"], [0.8888888888888888, \"#fdca26\"], [1.0, \"#f0f921\"]], \"type\": \"heatmap\"}], \"heatmapgl\": [{\"colorbar\": {\"outlinewidth\": 0, \"ticks\": \"\"}, \"colorscale\": [[0.0, \"#0d0887\"], [0.1111111111111111, \"#46039f\"], [0.2222222222222222, \"#7201a8\"], [0.3333333333333333, \"#9c179e\"], [0.4444444444444444, \"#bd3786\"], [0.5555555555555556, \"#d8576b\"], [0.6666666666666666, \"#ed7953\"], [0.7777777777777778, \"#fb9f3a\"], [0.8888888888888888, \"#fdca26\"], [1.0, \"#f0f921\"]], \"type\": \"heatmapgl\"}], \"histogram\": [{\"marker\": {\"colorbar\": {\"outlinewidth\": 0, \"ticks\": \"\"}}, \"type\": \"histogram\"}], \"histogram2d\": [{\"colorbar\": {\"outlinewidth\": 0, \"ticks\": \"\"}, \"colorscale\": [[0.0, \"#0d0887\"], [0.1111111111111111, \"#46039f\"], [0.2222222222222222, \"#7201a8\"], [0.3333333333333333, \"#9c179e\"], [0.4444444444444444, \"#bd3786\"], [0.5555555555555556, \"#d8576b\"], [0.6666666666666666, \"#ed7953\"], [0.7777777777777778, \"#fb9f3a\"], [0.8888888888888888, \"#fdca26\"], [1.0, \"#f0f921\"]], \"type\": \"histogram2d\"}], \"histogram2dcontour\": [{\"colorbar\": {\"outlinewidth\": 0, \"ticks\": \"\"}, \"colorscale\": [[0.0, \"#0d0887\"], [0.1111111111111111, \"#46039f\"], [0.2222222222222222, \"#7201a8\"], [0.3333333333333333, \"#9c179e\"], [0.4444444444444444, \"#bd3786\"], [0.5555555555555556, \"#d8576b\"], [0.6666666666666666, \"#ed7953\"], [0.7777777777777778, \"#fb9f3a\"], [0.8888888888888888, \"#fdca26\"], [1.0, \"#f0f921\"]], \"type\": \"histogram2dcontour\"}], \"mesh3d\": [{\"colorbar\": {\"outlinewidth\": 0, \"ticks\": \"\"}, \"type\": \"mesh3d\"}], \"parcoords\": [{\"line\": {\"colorbar\": {\"outlinewidth\": 0, \"ticks\": \"\"}}, \"type\": \"parcoords\"}], \"pie\": [{\"automargin\": true, \"type\": \"pie\"}], \"scatter\": [{\"marker\": {\"colorbar\": {\"outlinewidth\": 0, \"ticks\": \"\"}}, \"type\": \"scatter\"}], \"scatter3d\": [{\"line\": {\"colorbar\": {\"outlinewidth\": 0, \"ticks\": \"\"}}, \"marker\": {\"colorbar\": {\"outlinewidth\": 0, \"ticks\": \"\"}}, \"type\": \"scatter3d\"}], \"scattercarpet\": [{\"marker\": {\"colorbar\": {\"outlinewidth\": 0, \"ticks\": \"\"}}, \"type\": \"scattercarpet\"}], \"scattergeo\": [{\"marker\": {\"colorbar\": {\"outlinewidth\": 0, \"ticks\": \"\"}}, \"type\": \"scattergeo\"}], \"scattergl\": [{\"marker\": {\"colorbar\": {\"outlinewidth\": 0, \"ticks\": \"\"}}, \"type\": \"scattergl\"}], \"scattermapbox\": [{\"marker\": {\"colorbar\": {\"outlinewidth\": 0, \"ticks\": \"\"}}, \"type\": \"scattermapbox\"}], \"scatterpolar\": [{\"marker\": {\"colorbar\": {\"outlinewidth\": 0, \"ticks\": \"\"}}, \"type\": \"scatterpolar\"}], \"scatterpolargl\": [{\"marker\": {\"colorbar\": {\"outlinewidth\": 0, \"ticks\": \"\"}}, \"type\": \"scatterpolargl\"}], \"scatterternary\": [{\"marker\": {\"colorbar\": {\"outlinewidth\": 0, \"ticks\": \"\"}}, \"type\": \"scatterternary\"}], \"surface\": [{\"colorbar\": {\"outlinewidth\": 0, \"ticks\": \"\"}, \"colorscale\": [[0.0, \"#0d0887\"], [0.1111111111111111, \"#46039f\"], [0.2222222222222222, \"#7201a8\"], [0.3333333333333333, \"#9c179e\"], [0.4444444444444444, \"#bd3786\"], [0.5555555555555556, \"#d8576b\"], [0.6666666666666666, \"#ed7953\"], [0.7777777777777778, \"#fb9f3a\"], [0.8888888888888888, \"#fdca26\"], [1.0, \"#f0f921\"]], \"type\": \"surface\"}], \"table\": [{\"cells\": {\"fill\": {\"color\": \"#EBF0F8\"}, \"line\": {\"color\": \"white\"}}, \"header\": {\"fill\": {\"color\": \"#C8D4E3\"}, \"line\": {\"color\": \"white\"}}, \"type\": \"table\"}]}, \"layout\": {\"annotationdefaults\": {\"arrowcolor\": \"#2a3f5f\", \"arrowhead\": 0, \"arrowwidth\": 1}, \"autotypenumbers\": \"strict\", \"coloraxis\": {\"colorbar\": {\"outlinewidth\": 0, \"ticks\": \"\"}}, \"colorscale\": {\"diverging\": [[0, \"#8e0152\"], [0.1, \"#c51b7d\"], [0.2, \"#de77ae\"], [0.3, \"#f1b6da\"], [0.4, \"#fde0ef\"], [0.5, \"#f7f7f7\"], [0.6, \"#e6f5d0\"], [0.7, \"#b8e186\"], [0.8, \"#7fbc41\"], [0.9, \"#4d9221\"], [1, \"#276419\"]], \"sequential\": [[0.0, \"#0d0887\"], [0.1111111111111111, \"#46039f\"], [0.2222222222222222, \"#7201a8\"], [0.3333333333333333, \"#9c179e\"], [0.4444444444444444, \"#bd3786\"], [0.5555555555555556, \"#d8576b\"], [0.6666666666666666, \"#ed7953\"], [0.7777777777777778, \"#fb9f3a\"], [0.8888888888888888, \"#fdca26\"], [1.0, \"#f0f921\"]], \"sequentialminus\": [[0.0, \"#0d0887\"], [0.1111111111111111, \"#46039f\"], [0.2222222222222222, \"#7201a8\"], [0.3333333333333333, \"#9c179e\"], [0.4444444444444444, \"#bd3786\"], [0.5555555555555556, \"#d8576b\"], [0.6666666666666666, \"#ed7953\"], [0.7777777777777778, \"#fb9f3a\"], [0.8888888888888888, \"#fdca26\"], [1.0, \"#f0f921\"]]}, \"colorway\": [\"#636efa\", \"#EF553B\", \"#00cc96\", \"#ab63fa\", \"#FFA15A\", \"#19d3f3\", \"#FF6692\", \"#B6E880\", \"#FF97FF\", \"#FECB52\"], \"font\": {\"color\": \"#2a3f5f\"}, \"geo\": {\"bgcolor\": \"white\", \"lakecolor\": \"white\", \"landcolor\": \"#E5ECF6\", \"showlakes\": true, \"showland\": true, \"subunitcolor\": \"white\"}, \"hoverlabel\": {\"align\": \"left\"}, \"hovermode\": \"closest\", \"mapbox\": {\"style\": \"light\"}, \"paper_bgcolor\": \"white\", \"plot_bgcolor\": \"#E5ECF6\", \"polar\": {\"angularaxis\": {\"gridcolor\": \"white\", \"linecolor\": \"white\", \"ticks\": \"\"}, \"bgcolor\": \"#E5ECF6\", \"radialaxis\": {\"gridcolor\": \"white\", \"linecolor\": \"white\", \"ticks\": \"\"}}, \"scene\": {\"xaxis\": {\"backgroundcolor\": \"#E5ECF6\", \"gridcolor\": \"white\", \"gridwidth\": 2, \"linecolor\": \"white\", \"showbackground\": true, \"ticks\": \"\", \"zerolinecolor\": \"white\"}, \"yaxis\": {\"backgroundcolor\": \"#E5ECF6\", \"gridcolor\": \"white\", \"gridwidth\": 2, \"linecolor\": \"white\", \"showbackground\": true, \"ticks\": \"\", \"zerolinecolor\": \"white\"}, \"zaxis\": {\"backgroundcolor\": \"#E5ECF6\", \"gridcolor\": \"white\", \"gridwidth\": 2, \"linecolor\": \"white\", \"showbackground\": true, \"ticks\": \"\", \"zerolinecolor\": \"white\"}}, \"shapedefaults\": {\"line\": {\"color\": \"#2a3f5f\"}}, \"ternary\": {\"aaxis\": {\"gridcolor\": \"white\", \"linecolor\": \"white\", \"ticks\": \"\"}, \"baxis\": {\"gridcolor\": \"white\", \"linecolor\": \"white\", \"ticks\": \"\"}, \"bgcolor\": \"#E5ECF6\", \"caxis\": {\"gridcolor\": \"white\", \"linecolor\": \"white\", \"ticks\": \"\"}}, \"title\": {\"x\": 0.05}, \"xaxis\": {\"automargin\": true, \"gridcolor\": \"white\", \"linecolor\": \"white\", \"ticks\": \"\", \"title\": {\"standoff\": 15}, \"zerolinecolor\": \"white\", \"zerolinewidth\": 2}, \"yaxis\": {\"automargin\": true, \"gridcolor\": \"white\", \"linecolor\": \"white\", \"ticks\": \"\", \"title\": {\"standoff\": 15}, \"zerolinecolor\": \"white\", \"zerolinewidth\": 2}}}, \"xaxis\": {\"anchor\": \"y\", \"domain\": [0.0, 1.0], \"title\": {\"text\": \"x\"}}, \"yaxis\": {\"anchor\": \"x\", \"domain\": [0.0, 1.0], \"title\": {\"text\": \"count\"}}},                        {\"responsive\": true}                    ).then(function(){\n",
       "                            \n",
       "var gd = document.getElementById('9c9fa17c-114b-46a8-94b0-4a052a9a8c0e');\n",
       "var x = new MutationObserver(function (mutations, observer) {{\n",
       "        var display = window.getComputedStyle(gd).display;\n",
       "        if (!display || display === 'none') {{\n",
       "            console.log([gd, 'removed!']);\n",
       "            Plotly.purge(gd);\n",
       "            observer.disconnect();\n",
       "        }}\n",
       "}});\n",
       "\n",
       "// Listen for the removal of the full notebook cells\n",
       "var notebookContainer = gd.closest('#notebook-container');\n",
       "if (notebookContainer) {{\n",
       "    x.observe(notebookContainer, {childList: true});\n",
       "}}\n",
       "\n",
       "// Listen for the clearing of the current output cell\n",
       "var outputEl = gd.closest('.output');\n",
       "if (outputEl) {{\n",
       "    x.observe(outputEl, {childList: true});\n",
       "}}\n",
       "\n",
       "                        })                };                });            </script>        </div>"
      ]
     },
     "metadata": {},
     "output_type": "display_data"
    }
   ],
   "source": [
    "px.bar(x=data['ROM'])"
   ]
  },
  {
   "cell_type": "markdown",
   "id": "17cd295c",
   "metadata": {},
   "source": [
    "## Maximum phones have 64 GB of ROM"
   ]
  },
  {
   "cell_type": "markdown",
   "id": "22625615",
   "metadata": {},
   "source": [
    "## - Price"
   ]
  },
  {
   "cell_type": "code",
   "execution_count": 628,
   "id": "fb81e1c7",
   "metadata": {},
   "outputs": [
    {
     "data": {
      "text/plain": [
       "count      806.000000\n",
       "mean     11782.945409\n",
       "std      12476.719123\n",
       "min        125.000000\n",
       "25%       1556.750000\n",
       "50%       9499.000000\n",
       "75%      15999.000000\n",
       "max      82900.000000\n",
       "Name: Price, dtype: float64"
      ]
     },
     "execution_count": 628,
     "metadata": {},
     "output_type": "execute_result"
    }
   ],
   "source": [
    "data['Price'].describe()"
   ]
  },
  {
   "cell_type": "code",
   "execution_count": 622,
   "id": "e372853f",
   "metadata": {},
   "outputs": [
    {
     "data": {
      "application/vnd.plotly.v1+json": {
       "config": {
        "plotlyServerURL": "https://plot.ly"
       },
       "data": [
        {
         "alignmentgroup": "True",
         "hovertemplate": "x=%{x}<extra></extra>",
         "legendgroup": "",
         "marker": {
          "color": "#636efa"
         },
         "name": "",
         "notched": false,
         "offsetgroup": "",
         "orientation": "h",
         "showlegend": false,
         "type": "box",
         "x": [
          8999,
          8999,
          6799,
          6799,
          10499,
          7999,
          10499,
          10499,
          7999,
          8999,
          7999,
          6799,
          6799,
          6799,
          6799,
          10999,
          7999,
          5499,
          8490,
          9999,
          7990,
          5499,
          7990,
          9499,
          7999,
          9999,
          5499,
          16199,
          9499,
          14499,
          16999,
          13999,
          13999,
          10999,
          8990,
          10499,
          10499,
          11999,
          10499,
          7999,
          8999,
          8999,
          6799,
          6799,
          7999,
          10499,
          7999,
          7999,
          8999,
          10499,
          10499,
          6799,
          6799,
          6799,
          6799,
          10999,
          7999,
          5499,
          9999,
          7999,
          8490,
          7990,
          7990,
          9499,
          5499,
          10499,
          14499,
          11999,
          9499,
          10999,
          16999,
          13999,
          13999,
          16199,
          10499,
          10499,
          10499,
          7999,
          8999,
          8999,
          8999,
          8999,
          9499,
          6499,
          10999,
          9999,
          6499,
          10499,
          6499,
          18999,
          8990,
          11899,
          8999,
          8999,
          1349,
          1225,
          1210,
          1349,
          10999,
          14999,
          16999,
          8499,
          10999,
          7999,
          10499,
          11999,
          null,
          null,
          14999,
          9499,
          9769,
          null,
          20999,
          14990,
          16990,
          null,
          14999,
          17999,
          14999,
          15999,
          13999,
          9499,
          9999,
          14999,
          14999,
          9999,
          null,
          1222,
          10499,
          1410,
          9499,
          15990,
          8999,
          8999,
          1662,
          12990,
          9999,
          10490,
          13495,
          null,
          1577,
          9999,
          6999,
          14999,
          15999,
          13999,
          9999,
          10999,
          10999,
          9240,
          10999,
          7999,
          7999,
          7990,
          9999,
          9999,
          12999,
          14999,
          14990,
          12990,
          6499,
          null,
          null,
          null,
          null,
          13999,
          15999,
          10999,
          9239,
          9100,
          7999,
          7999,
          1290,
          null,
          10057,
          12990,
          10999,
          16499,
          9999,
          19999,
          1219,
          2585,
          17999,
          1450,
          9999,
          5444,
          5299,
          1658,
          16999,
          null,
          11490,
          10499,
          19999,
          7999,
          17999,
          1410,
          13389,
          17999,
          16999,
          null,
          9070,
          17999,
          4999,
          4999,
          4999,
          12990,
          14990,
          9999,
          3559,
          12990,
          6549,
          1420,
          9999,
          10999,
          9999,
          9999,
          9999,
          1150,
          12999,
          1410,
          17990,
          8499,
          17990,
          13990,
          7490,
          null,
          null,
          10999,
          10999,
          15999,
          2298,
          10490,
          2297,
          2338,
          18999,
          25999,
          11999,
          8699,
          16378,
          14990,
          1155,
          null,
          2299,
          2297,
          19999,
          7490,
          10499,
          17999,
          8699,
          12999,
          12484,
          11999,
          18999,
          25999,
          11490,
          6999,
          10057,
          49999,
          8699,
          1150,
          1450,
          15999,
          7285,
          null,
          null,
          22984,
          8999,
          16990,
          42999,
          13540,
          17990,
          17990,
          3596,
          7499,
          7499,
          8999,
          17990,
          17999,
          17999,
          6999,
          6999,
          1199,
          42999,
          3596,
          8999,
          20999,
          null,
          8999,
          5299,
          1425,
          12999,
          17990,
          17990,
          17990,
          1495,
          1549,
          null,
          13540,
          null,
          null,
          5001,
          12999,
          11332,
          null,
          null,
          12490,
          1577,
          1577,
          7668,
          7499,
          5899,
          null,
          null,
          1249,
          1798,
          17999,
          15999,
          null,
          17999,
          26999,
          null,
          17999,
          1577,
          1577,
          null,
          9999,
          null,
          null,
          8499,
          11499,
          6999,
          27499,
          11499,
          11020,
          7670,
          1458,
          3699,
          3679,
          null,
          1798,
          7790,
          9999,
          null,
          15999,
          5777,
          16999,
          31999,
          10499,
          20999,
          null,
          8990,
          13999,
          1049,
          null,
          null,
          1019,
          1028,
          11999,
          1225,
          null,
          10499,
          null,
          1119,
          14999,
          9999,
          16990,
          23490,
          21580,
          1370,
          11999,
          9990,
          13999,
          32990,
          16990,
          31999,
          1399,
          13429,
          null,
          21616,
          1049,
          17499,
          null,
          1100,
          1149,
          null,
          null,
          25800,
          1425,
          12999,
          49999,
          null,
          null,
          null,
          32990,
          29990,
          29990,
          null,
          19361,
          1259,
          21499,
          31999,
          1495,
          10499,
          13429,
          null,
          21616,
          1049,
          null,
          1100,
          1149,
          26999,
          25800,
          1425,
          12999,
          49999,
          10060,
          null,
          null,
          null,
          32990,
          29990,
          29990,
          null,
          18999,
          1259,
          5777,
          1199,
          21499,
          1199,
          19999,
          29990,
          6749,
          13554,
          16990,
          2549,
          1499,
          6549,
          1049,
          1039,
          1049,
          1249,
          2248,
          null,
          21569,
          8499,
          6090,
          13999,
          1599,
          16999,
          1399,
          14199,
          34999,
          null,
          17958,
          34999,
          1149,
          1149,
          8490,
          null,
          1219,
          13999,
          22499,
          8999,
          1259,
          null,
          null,
          null,
          null,
          2290,
          1399,
          1199,
          1399,
          26999,
          29999,
          34999,
          14999,
          16400,
          1299,
          1399,
          7990,
          14999,
          1299,
          null,
          1399,
          3150,
          14499,
          31999,
          34999,
          16995,
          null,
          13999,
          29999,
          26999,
          null,
          1399,
          1149,
          1125,
          7227,
          null,
          3679,
          1249,
          null,
          7227,
          14199,
          3670,
          1130,
          null,
          null,
          null,
          22499,
          null,
          null,
          1249,
          15995,
          null,
          18999,
          1599,
          null,
          null,
          25226,
          8335,
          null,
          9990,
          1199,
          1999,
          1999,
          1999,
          14999,
          null,
          27499,
          11499,
          11499,
          26999,
          29999,
          11490,
          null,
          1236,
          20998,
          18990,
          22999,
          null,
          34999,
          null,
          1399,
          1390,
          2290,
          9999,
          null,
          22591,
          8270,
          10299,
          null,
          1125,
          1125,
          1299,
          1349,
          17990,
          null,
          23999,
          26999,
          13499,
          12497,
          8999,
          null,
          10499,
          1499,
          12499,
          16400,
          null,
          2790,
          1149,
          9299,
          10999,
          82900,
          6990,
          null,
          null,
          10990,
          1399,
          9999,
          15999,
          20990,
          20990,
          22185,
          15999,
          8299,
          23490,
          20300,
          null,
          null,
          6990,
          12990,
          1099,
          8386,
          1125,
          1299,
          7799,
          16999,
          10499,
          39999,
          8449,
          20435,
          1029,
          8285,
          1299,
          26999,
          1399,
          39999,
          13999,
          null,
          23999,
          16590,
          1149,
          16999,
          49999,
          9996,
          1940,
          null,
          1049,
          35990,
          35990,
          16990,
          1099,
          1049,
          1099,
          1396,
          8995,
          39999,
          1199,
          1125,
          1499,
          1099,
          1259,
          14990,
          18449,
          null,
          16185,
          15950,
          1258,
          1125,
          1125,
          1299,
          1390,
          1040,
          24875,
          6799,
          82900,
          1399,
          14990,
          29985,
          10480,
          8945,
          10999,
          1999,
          1099,
          9999,
          null,
          8499,
          10390,
          null,
          1349,
          1049,
          1049,
          1199,
          49990,
          7995,
          19990,
          12999,
          82900,
          1199,
          1019,
          null,
          1449,
          6999,
          null,
          9999,
          2790,
          23998,
          7799,
          5490,
          1025,
          7990,
          1149,
          1299,
          13999,
          49990,
          37990,
          null,
          1199,
          6899,
          19999,
          125,
          1399,
          null,
          2249,
          1249,
          null,
          1049,
          13999,
          20999,
          22499,
          9990,
          null,
          1060,
          1649,
          17999,
          1125,
          1010,
          1399,
          null,
          19225,
          null,
          6449,
          null,
          10990,
          1299,
          11199,
          1299,
          14999,
          19379,
          29985,
          null,
          1999,
          1099,
          1299,
          null,
          17890,
          null,
          7990,
          null,
          null,
          19990,
          1299,
          1299,
          1060,
          13999,
          2249,
          null,
          null,
          1040,
          5490,
          10990,
          1299,
          null,
          7995,
          20999,
          1399,
          23990,
          125,
          1040,
          null,
          18900,
          1499,
          null,
          1089,
          1199,
          null,
          1025,
          13999,
          null,
          1299,
          1099,
          8499,
          null,
          1649,
          null,
          20999,
          null,
          null,
          null,
          3999,
          37990,
          22499,
          16990,
          17499,
          19225,
          1049,
          10999,
          10999,
          6699,
          null,
          10999,
          1290,
          19379,
          16990,
          1399,
          17999,
          1099,
          null,
          null,
          null,
          1299,
          15495,
          16999,
          null,
          17999,
          null,
          1299,
          1299,
          1060,
          4149,
          5290,
          4550,
          10999,
          null,
          77900,
          13379,
          3150,
          1499,
          10999,
          75999,
          8499,
          1049,
          1188,
          null,
          1000,
          1049,
          22999,
          null,
          1349,
          23999,
          null,
          1879,
          1340,
          20499,
          1129,
          1275,
          72900,
          null,
          1550,
          null,
          null,
          15999,
          1090,
          10085,
          13999,
          1099,
          1019,
          6999,
          1199,
          72900,
          1019,
          6999,
          1199,
          1010,
          1024,
          null,
          null,
          1029,
          1390,
          1390,
          null,
          1299,
          37990,
          1260,
          1499,
          24999,
          18990,
          1349,
          1299,
          null,
          null,
          12999,
          25260,
          25265,
          25498,
          5699,
          16999,
          15495,
          15999,
          72900,
          1280,
          1285,
          1285,
          1000,
          30999,
          17499,
          19999,
          9150,
          67900,
          null,
          1019,
          29950,
          17999,
          1349,
          null,
          9999,
          1249,
          10990,
          8990,
          1299,
          1195,
          null,
          3750,
          null,
          null,
          null,
          1390,
          77900,
          1390,
          30999,
          13999,
          12999,
          1169,
          17499,
          null,
          11999,
          1089,
          1199,
          33100,
          15990,
          29888,
          null,
          null,
          24999,
          1290,
          null,
          3899,
          null,
          1299,
          1049,
          1299,
          10999,
          null,
          null,
          1439,
          72900,
          16299,
          34990,
          7990,
          null,
          27990,
          16975,
          1249,
          11980,
          10990,
          1029,
          null,
          6499,
          null,
          1240,
          4139,
          1169,
          null,
          24999,
          82900,
          null,
          75999,
          1299,
          1299,
          1299,
          1299,
          8990,
          1399,
          1180,
          27990,
          16999,
          24999,
          1098,
          null
         ],
         "x0": " ",
         "xaxis": "x",
         "y0": " ",
         "yaxis": "y"
        }
       ],
       "layout": {
        "boxmode": "group",
        "legend": {
         "tracegroupgap": 0
        },
        "margin": {
         "t": 60
        },
        "template": {
         "data": {
          "bar": [
           {
            "error_x": {
             "color": "#2a3f5f"
            },
            "error_y": {
             "color": "#2a3f5f"
            },
            "marker": {
             "line": {
              "color": "#E5ECF6",
              "width": 0.5
             }
            },
            "type": "bar"
           }
          ],
          "barpolar": [
           {
            "marker": {
             "line": {
              "color": "#E5ECF6",
              "width": 0.5
             }
            },
            "type": "barpolar"
           }
          ],
          "carpet": [
           {
            "aaxis": {
             "endlinecolor": "#2a3f5f",
             "gridcolor": "white",
             "linecolor": "white",
             "minorgridcolor": "white",
             "startlinecolor": "#2a3f5f"
            },
            "baxis": {
             "endlinecolor": "#2a3f5f",
             "gridcolor": "white",
             "linecolor": "white",
             "minorgridcolor": "white",
             "startlinecolor": "#2a3f5f"
            },
            "type": "carpet"
           }
          ],
          "choropleth": [
           {
            "colorbar": {
             "outlinewidth": 0,
             "ticks": ""
            },
            "type": "choropleth"
           }
          ],
          "contour": [
           {
            "colorbar": {
             "outlinewidth": 0,
             "ticks": ""
            },
            "colorscale": [
             [
              0,
              "#0d0887"
             ],
             [
              0.1111111111111111,
              "#46039f"
             ],
             [
              0.2222222222222222,
              "#7201a8"
             ],
             [
              0.3333333333333333,
              "#9c179e"
             ],
             [
              0.4444444444444444,
              "#bd3786"
             ],
             [
              0.5555555555555556,
              "#d8576b"
             ],
             [
              0.6666666666666666,
              "#ed7953"
             ],
             [
              0.7777777777777778,
              "#fb9f3a"
             ],
             [
              0.8888888888888888,
              "#fdca26"
             ],
             [
              1,
              "#f0f921"
             ]
            ],
            "type": "contour"
           }
          ],
          "contourcarpet": [
           {
            "colorbar": {
             "outlinewidth": 0,
             "ticks": ""
            },
            "type": "contourcarpet"
           }
          ],
          "heatmap": [
           {
            "colorbar": {
             "outlinewidth": 0,
             "ticks": ""
            },
            "colorscale": [
             [
              0,
              "#0d0887"
             ],
             [
              0.1111111111111111,
              "#46039f"
             ],
             [
              0.2222222222222222,
              "#7201a8"
             ],
             [
              0.3333333333333333,
              "#9c179e"
             ],
             [
              0.4444444444444444,
              "#bd3786"
             ],
             [
              0.5555555555555556,
              "#d8576b"
             ],
             [
              0.6666666666666666,
              "#ed7953"
             ],
             [
              0.7777777777777778,
              "#fb9f3a"
             ],
             [
              0.8888888888888888,
              "#fdca26"
             ],
             [
              1,
              "#f0f921"
             ]
            ],
            "type": "heatmap"
           }
          ],
          "heatmapgl": [
           {
            "colorbar": {
             "outlinewidth": 0,
             "ticks": ""
            },
            "colorscale": [
             [
              0,
              "#0d0887"
             ],
             [
              0.1111111111111111,
              "#46039f"
             ],
             [
              0.2222222222222222,
              "#7201a8"
             ],
             [
              0.3333333333333333,
              "#9c179e"
             ],
             [
              0.4444444444444444,
              "#bd3786"
             ],
             [
              0.5555555555555556,
              "#d8576b"
             ],
             [
              0.6666666666666666,
              "#ed7953"
             ],
             [
              0.7777777777777778,
              "#fb9f3a"
             ],
             [
              0.8888888888888888,
              "#fdca26"
             ],
             [
              1,
              "#f0f921"
             ]
            ],
            "type": "heatmapgl"
           }
          ],
          "histogram": [
           {
            "marker": {
             "colorbar": {
              "outlinewidth": 0,
              "ticks": ""
             }
            },
            "type": "histogram"
           }
          ],
          "histogram2d": [
           {
            "colorbar": {
             "outlinewidth": 0,
             "ticks": ""
            },
            "colorscale": [
             [
              0,
              "#0d0887"
             ],
             [
              0.1111111111111111,
              "#46039f"
             ],
             [
              0.2222222222222222,
              "#7201a8"
             ],
             [
              0.3333333333333333,
              "#9c179e"
             ],
             [
              0.4444444444444444,
              "#bd3786"
             ],
             [
              0.5555555555555556,
              "#d8576b"
             ],
             [
              0.6666666666666666,
              "#ed7953"
             ],
             [
              0.7777777777777778,
              "#fb9f3a"
             ],
             [
              0.8888888888888888,
              "#fdca26"
             ],
             [
              1,
              "#f0f921"
             ]
            ],
            "type": "histogram2d"
           }
          ],
          "histogram2dcontour": [
           {
            "colorbar": {
             "outlinewidth": 0,
             "ticks": ""
            },
            "colorscale": [
             [
              0,
              "#0d0887"
             ],
             [
              0.1111111111111111,
              "#46039f"
             ],
             [
              0.2222222222222222,
              "#7201a8"
             ],
             [
              0.3333333333333333,
              "#9c179e"
             ],
             [
              0.4444444444444444,
              "#bd3786"
             ],
             [
              0.5555555555555556,
              "#d8576b"
             ],
             [
              0.6666666666666666,
              "#ed7953"
             ],
             [
              0.7777777777777778,
              "#fb9f3a"
             ],
             [
              0.8888888888888888,
              "#fdca26"
             ],
             [
              1,
              "#f0f921"
             ]
            ],
            "type": "histogram2dcontour"
           }
          ],
          "mesh3d": [
           {
            "colorbar": {
             "outlinewidth": 0,
             "ticks": ""
            },
            "type": "mesh3d"
           }
          ],
          "parcoords": [
           {
            "line": {
             "colorbar": {
              "outlinewidth": 0,
              "ticks": ""
             }
            },
            "type": "parcoords"
           }
          ],
          "pie": [
           {
            "automargin": true,
            "type": "pie"
           }
          ],
          "scatter": [
           {
            "marker": {
             "colorbar": {
              "outlinewidth": 0,
              "ticks": ""
             }
            },
            "type": "scatter"
           }
          ],
          "scatter3d": [
           {
            "line": {
             "colorbar": {
              "outlinewidth": 0,
              "ticks": ""
             }
            },
            "marker": {
             "colorbar": {
              "outlinewidth": 0,
              "ticks": ""
             }
            },
            "type": "scatter3d"
           }
          ],
          "scattercarpet": [
           {
            "marker": {
             "colorbar": {
              "outlinewidth": 0,
              "ticks": ""
             }
            },
            "type": "scattercarpet"
           }
          ],
          "scattergeo": [
           {
            "marker": {
             "colorbar": {
              "outlinewidth": 0,
              "ticks": ""
             }
            },
            "type": "scattergeo"
           }
          ],
          "scattergl": [
           {
            "marker": {
             "colorbar": {
              "outlinewidth": 0,
              "ticks": ""
             }
            },
            "type": "scattergl"
           }
          ],
          "scattermapbox": [
           {
            "marker": {
             "colorbar": {
              "outlinewidth": 0,
              "ticks": ""
             }
            },
            "type": "scattermapbox"
           }
          ],
          "scatterpolar": [
           {
            "marker": {
             "colorbar": {
              "outlinewidth": 0,
              "ticks": ""
             }
            },
            "type": "scatterpolar"
           }
          ],
          "scatterpolargl": [
           {
            "marker": {
             "colorbar": {
              "outlinewidth": 0,
              "ticks": ""
             }
            },
            "type": "scatterpolargl"
           }
          ],
          "scatterternary": [
           {
            "marker": {
             "colorbar": {
              "outlinewidth": 0,
              "ticks": ""
             }
            },
            "type": "scatterternary"
           }
          ],
          "surface": [
           {
            "colorbar": {
             "outlinewidth": 0,
             "ticks": ""
            },
            "colorscale": [
             [
              0,
              "#0d0887"
             ],
             [
              0.1111111111111111,
              "#46039f"
             ],
             [
              0.2222222222222222,
              "#7201a8"
             ],
             [
              0.3333333333333333,
              "#9c179e"
             ],
             [
              0.4444444444444444,
              "#bd3786"
             ],
             [
              0.5555555555555556,
              "#d8576b"
             ],
             [
              0.6666666666666666,
              "#ed7953"
             ],
             [
              0.7777777777777778,
              "#fb9f3a"
             ],
             [
              0.8888888888888888,
              "#fdca26"
             ],
             [
              1,
              "#f0f921"
             ]
            ],
            "type": "surface"
           }
          ],
          "table": [
           {
            "cells": {
             "fill": {
              "color": "#EBF0F8"
             },
             "line": {
              "color": "white"
             }
            },
            "header": {
             "fill": {
              "color": "#C8D4E3"
             },
             "line": {
              "color": "white"
             }
            },
            "type": "table"
           }
          ]
         },
         "layout": {
          "annotationdefaults": {
           "arrowcolor": "#2a3f5f",
           "arrowhead": 0,
           "arrowwidth": 1
          },
          "autotypenumbers": "strict",
          "coloraxis": {
           "colorbar": {
            "outlinewidth": 0,
            "ticks": ""
           }
          },
          "colorscale": {
           "diverging": [
            [
             0,
             "#8e0152"
            ],
            [
             0.1,
             "#c51b7d"
            ],
            [
             0.2,
             "#de77ae"
            ],
            [
             0.3,
             "#f1b6da"
            ],
            [
             0.4,
             "#fde0ef"
            ],
            [
             0.5,
             "#f7f7f7"
            ],
            [
             0.6,
             "#e6f5d0"
            ],
            [
             0.7,
             "#b8e186"
            ],
            [
             0.8,
             "#7fbc41"
            ],
            [
             0.9,
             "#4d9221"
            ],
            [
             1,
             "#276419"
            ]
           ],
           "sequential": [
            [
             0,
             "#0d0887"
            ],
            [
             0.1111111111111111,
             "#46039f"
            ],
            [
             0.2222222222222222,
             "#7201a8"
            ],
            [
             0.3333333333333333,
             "#9c179e"
            ],
            [
             0.4444444444444444,
             "#bd3786"
            ],
            [
             0.5555555555555556,
             "#d8576b"
            ],
            [
             0.6666666666666666,
             "#ed7953"
            ],
            [
             0.7777777777777778,
             "#fb9f3a"
            ],
            [
             0.8888888888888888,
             "#fdca26"
            ],
            [
             1,
             "#f0f921"
            ]
           ],
           "sequentialminus": [
            [
             0,
             "#0d0887"
            ],
            [
             0.1111111111111111,
             "#46039f"
            ],
            [
             0.2222222222222222,
             "#7201a8"
            ],
            [
             0.3333333333333333,
             "#9c179e"
            ],
            [
             0.4444444444444444,
             "#bd3786"
            ],
            [
             0.5555555555555556,
             "#d8576b"
            ],
            [
             0.6666666666666666,
             "#ed7953"
            ],
            [
             0.7777777777777778,
             "#fb9f3a"
            ],
            [
             0.8888888888888888,
             "#fdca26"
            ],
            [
             1,
             "#f0f921"
            ]
           ]
          },
          "colorway": [
           "#636efa",
           "#EF553B",
           "#00cc96",
           "#ab63fa",
           "#FFA15A",
           "#19d3f3",
           "#FF6692",
           "#B6E880",
           "#FF97FF",
           "#FECB52"
          ],
          "font": {
           "color": "#2a3f5f"
          },
          "geo": {
           "bgcolor": "white",
           "lakecolor": "white",
           "landcolor": "#E5ECF6",
           "showlakes": true,
           "showland": true,
           "subunitcolor": "white"
          },
          "hoverlabel": {
           "align": "left"
          },
          "hovermode": "closest",
          "mapbox": {
           "style": "light"
          },
          "paper_bgcolor": "white",
          "plot_bgcolor": "#E5ECF6",
          "polar": {
           "angularaxis": {
            "gridcolor": "white",
            "linecolor": "white",
            "ticks": ""
           },
           "bgcolor": "#E5ECF6",
           "radialaxis": {
            "gridcolor": "white",
            "linecolor": "white",
            "ticks": ""
           }
          },
          "scene": {
           "xaxis": {
            "backgroundcolor": "#E5ECF6",
            "gridcolor": "white",
            "gridwidth": 2,
            "linecolor": "white",
            "showbackground": true,
            "ticks": "",
            "zerolinecolor": "white"
           },
           "yaxis": {
            "backgroundcolor": "#E5ECF6",
            "gridcolor": "white",
            "gridwidth": 2,
            "linecolor": "white",
            "showbackground": true,
            "ticks": "",
            "zerolinecolor": "white"
           },
           "zaxis": {
            "backgroundcolor": "#E5ECF6",
            "gridcolor": "white",
            "gridwidth": 2,
            "linecolor": "white",
            "showbackground": true,
            "ticks": "",
            "zerolinecolor": "white"
           }
          },
          "shapedefaults": {
           "line": {
            "color": "#2a3f5f"
           }
          },
          "ternary": {
           "aaxis": {
            "gridcolor": "white",
            "linecolor": "white",
            "ticks": ""
           },
           "baxis": {
            "gridcolor": "white",
            "linecolor": "white",
            "ticks": ""
           },
           "bgcolor": "#E5ECF6",
           "caxis": {
            "gridcolor": "white",
            "linecolor": "white",
            "ticks": ""
           }
          },
          "title": {
           "x": 0.05
          },
          "xaxis": {
           "automargin": true,
           "gridcolor": "white",
           "linecolor": "white",
           "ticks": "",
           "title": {
            "standoff": 15
           },
           "zerolinecolor": "white",
           "zerolinewidth": 2
          },
          "yaxis": {
           "automargin": true,
           "gridcolor": "white",
           "linecolor": "white",
           "ticks": "",
           "title": {
            "standoff": 15
           },
           "zerolinecolor": "white",
           "zerolinewidth": 2
          }
         }
        },
        "xaxis": {
         "anchor": "y",
         "domain": [
          0,
          1
         ],
         "title": {
          "text": "x"
         }
        },
        "yaxis": {
         "anchor": "x",
         "domain": [
          0,
          1
         ]
        }
       }
      },
      "text/html": [
       "<div>                            <div id=\"e14b0a7d-ee8c-4428-8d87-b749bc11a788\" class=\"plotly-graph-div\" style=\"height:525px; width:100%;\"></div>            <script type=\"text/javascript\">                require([\"plotly\"], function(Plotly) {                    window.PLOTLYENV=window.PLOTLYENV || {};                                    if (document.getElementById(\"e14b0a7d-ee8c-4428-8d87-b749bc11a788\")) {                    Plotly.newPlot(                        \"e14b0a7d-ee8c-4428-8d87-b749bc11a788\",                        [{\"alignmentgroup\": \"True\", \"hovertemplate\": \"x=%{x}<extra></extra>\", \"legendgroup\": \"\", \"marker\": {\"color\": \"#636efa\"}, \"name\": \"\", \"notched\": false, \"offsetgroup\": \"\", \"orientation\": \"h\", \"showlegend\": false, \"type\": \"box\", \"x\": [8999.0, 8999.0, 6799.0, 6799.0, 10499.0, 7999.0, 10499.0, 10499.0, 7999.0, 8999.0, 7999.0, 6799.0, 6799.0, 6799.0, 6799.0, 10999.0, 7999.0, 5499.0, 8490.0, 9999.0, 7990.0, 5499.0, 7990.0, 9499.0, 7999.0, 9999.0, 5499.0, 16199.0, 9499.0, 14499.0, 16999.0, 13999.0, 13999.0, 10999.0, 8990.0, 10499.0, 10499.0, 11999.0, 10499.0, 7999.0, 8999.0, 8999.0, 6799.0, 6799.0, 7999.0, 10499.0, 7999.0, 7999.0, 8999.0, 10499.0, 10499.0, 6799.0, 6799.0, 6799.0, 6799.0, 10999.0, 7999.0, 5499.0, 9999.0, 7999.0, 8490.0, 7990.0, 7990.0, 9499.0, 5499.0, 10499.0, 14499.0, 11999.0, 9499.0, 10999.0, 16999.0, 13999.0, 13999.0, 16199.0, 10499.0, 10499.0, 10499.0, 7999.0, 8999.0, 8999.0, 8999.0, 8999.0, 9499.0, 6499.0, 10999.0, 9999.0, 6499.0, 10499.0, 6499.0, 18999.0, 8990.0, 11899.0, 8999.0, 8999.0, 1349.0, 1225.0, 1210.0, 1349.0, 10999.0, 14999.0, 16999.0, 8499.0, 10999.0, 7999.0, 10499.0, 11999.0, null, null, 14999.0, 9499.0, 9769.0, null, 20999.0, 14990.0, 16990.0, null, 14999.0, 17999.0, 14999.0, 15999.0, 13999.0, 9499.0, 9999.0, 14999.0, 14999.0, 9999.0, null, 1222.0, 10499.0, 1410.0, 9499.0, 15990.0, 8999.0, 8999.0, 1662.0, 12990.0, 9999.0, 10490.0, 13495.0, null, 1577.0, 9999.0, 6999.0, 14999.0, 15999.0, 13999.0, 9999.0, 10999.0, 10999.0, 9240.0, 10999.0, 7999.0, 7999.0, 7990.0, 9999.0, 9999.0, 12999.0, 14999.0, 14990.0, 12990.0, 6499.0, null, null, null, null, 13999.0, 15999.0, 10999.0, 9239.0, 9100.0, 7999.0, 7999.0, 1290.0, null, 10057.0, 12990.0, 10999.0, 16499.0, 9999.0, 19999.0, 1219.0, 2585.0, 17999.0, 1450.0, 9999.0, 5444.0, 5299.0, 1658.0, 16999.0, null, 11490.0, 10499.0, 19999.0, 7999.0, 17999.0, 1410.0, 13389.0, 17999.0, 16999.0, null, 9070.0, 17999.0, 4999.0, 4999.0, 4999.0, 12990.0, 14990.0, 9999.0, 3559.0, 12990.0, 6549.0, 1420.0, 9999.0, 10999.0, 9999.0, 9999.0, 9999.0, 1150.0, 12999.0, 1410.0, 17990.0, 8499.0, 17990.0, 13990.0, 7490.0, null, null, 10999.0, 10999.0, 15999.0, 2298.0, 10490.0, 2297.0, 2338.0, 18999.0, 25999.0, 11999.0, 8699.0, 16378.0, 14990.0, 1155.0, null, 2299.0, 2297.0, 19999.0, 7490.0, 10499.0, 17999.0, 8699.0, 12999.0, 12484.0, 11999.0, 18999.0, 25999.0, 11490.0, 6999.0, 10057.0, 49999.0, 8699.0, 1150.0, 1450.0, 15999.0, 7285.0, null, null, 22984.0, 8999.0, 16990.0, 42999.0, 13540.0, 17990.0, 17990.0, 3596.0, 7499.0, 7499.0, 8999.0, 17990.0, 17999.0, 17999.0, 6999.0, 6999.0, 1199.0, 42999.0, 3596.0, 8999.0, 20999.0, null, 8999.0, 5299.0, 1425.0, 12999.0, 17990.0, 17990.0, 17990.0, 1495.0, 1549.0, null, 13540.0, null, null, 5001.0, 12999.0, 11332.0, null, null, 12490.0, 1577.0, 1577.0, 7668.0, 7499.0, 5899.0, null, null, 1249.0, 1798.0, 17999.0, 15999.0, null, 17999.0, 26999.0, null, 17999.0, 1577.0, 1577.0, null, 9999.0, null, null, 8499.0, 11499.0, 6999.0, 27499.0, 11499.0, 11020.0, 7670.0, 1458.0, 3699.0, 3679.0, null, 1798.0, 7790.0, 9999.0, null, 15999.0, 5777.0, 16999.0, 31999.0, 10499.0, 20999.0, null, 8990.0, 13999.0, 1049.0, null, null, 1019.0, 1028.0, 11999.0, 1225.0, null, 10499.0, null, 1119.0, 14999.0, 9999.0, 16990.0, 23490.0, 21580.0, 1370.0, 11999.0, 9990.0, 13999.0, 32990.0, 16990.0, 31999.0, 1399.0, 13429.0, null, 21616.0, 1049.0, 17499.0, null, 1100.0, 1149.0, null, null, 25800.0, 1425.0, 12999.0, 49999.0, null, null, null, 32990.0, 29990.0, 29990.0, null, 19361.0, 1259.0, 21499.0, 31999.0, 1495.0, 10499.0, 13429.0, null, 21616.0, 1049.0, null, 1100.0, 1149.0, 26999.0, 25800.0, 1425.0, 12999.0, 49999.0, 10060.0, null, null, null, 32990.0, 29990.0, 29990.0, null, 18999.0, 1259.0, 5777.0, 1199.0, 21499.0, 1199.0, 19999.0, 29990.0, 6749.0, 13554.0, 16990.0, 2549.0, 1499.0, 6549.0, 1049.0, 1039.0, 1049.0, 1249.0, 2248.0, null, 21569.0, 8499.0, 6090.0, 13999.0, 1599.0, 16999.0, 1399.0, 14199.0, 34999.0, null, 17958.0, 34999.0, 1149.0, 1149.0, 8490.0, null, 1219.0, 13999.0, 22499.0, 8999.0, 1259.0, null, null, null, null, 2290.0, 1399.0, 1199.0, 1399.0, 26999.0, 29999.0, 34999.0, 14999.0, 16400.0, 1299.0, 1399.0, 7990.0, 14999.0, 1299.0, null, 1399.0, 3150.0, 14499.0, 31999.0, 34999.0, 16995.0, null, 13999.0, 29999.0, 26999.0, null, 1399.0, 1149.0, 1125.0, 7227.0, null, 3679.0, 1249.0, null, 7227.0, 14199.0, 3670.0, 1130.0, null, null, null, 22499.0, null, null, 1249.0, 15995.0, null, 18999.0, 1599.0, null, null, 25226.0, 8335.0, null, 9990.0, 1199.0, 1999.0, 1999.0, 1999.0, 14999.0, null, 27499.0, 11499.0, 11499.0, 26999.0, 29999.0, 11490.0, null, 1236.0, 20998.0, 18990.0, 22999.0, null, 34999.0, null, 1399.0, 1390.0, 2290.0, 9999.0, null, 22591.0, 8270.0, 10299.0, null, 1125.0, 1125.0, 1299.0, 1349.0, 17990.0, null, 23999.0, 26999.0, 13499.0, 12497.0, 8999.0, null, 10499.0, 1499.0, 12499.0, 16400.0, null, 2790.0, 1149.0, 9299.0, 10999.0, 82900.0, 6990.0, null, null, 10990.0, 1399.0, 9999.0, 15999.0, 20990.0, 20990.0, 22185.0, 15999.0, 8299.0, 23490.0, 20300.0, null, null, 6990.0, 12990.0, 1099.0, 8386.0, 1125.0, 1299.0, 7799.0, 16999.0, 10499.0, 39999.0, 8449.0, 20435.0, 1029.0, 8285.0, 1299.0, 26999.0, 1399.0, 39999.0, 13999.0, null, 23999.0, 16590.0, 1149.0, 16999.0, 49999.0, 9996.0, 1940.0, null, 1049.0, 35990.0, 35990.0, 16990.0, 1099.0, 1049.0, 1099.0, 1396.0, 8995.0, 39999.0, 1199.0, 1125.0, 1499.0, 1099.0, 1259.0, 14990.0, 18449.0, null, 16185.0, 15950.0, 1258.0, 1125.0, 1125.0, 1299.0, 1390.0, 1040.0, 24875.0, 6799.0, 82900.0, 1399.0, 14990.0, 29985.0, 10480.0, 8945.0, 10999.0, 1999.0, 1099.0, 9999.0, null, 8499.0, 10390.0, null, 1349.0, 1049.0, 1049.0, 1199.0, 49990.0, 7995.0, 19990.0, 12999.0, 82900.0, 1199.0, 1019.0, null, 1449.0, 6999.0, null, 9999.0, 2790.0, 23998.0, 7799.0, 5490.0, 1025.0, 7990.0, 1149.0, 1299.0, 13999.0, 49990.0, 37990.0, null, 1199.0, 6899.0, 19999.0, 125.0, 1399.0, null, 2249.0, 1249.0, null, 1049.0, 13999.0, 20999.0, 22499.0, 9990.0, null, 1060.0, 1649.0, 17999.0, 1125.0, 1010.0, 1399.0, null, 19225.0, null, 6449.0, null, 10990.0, 1299.0, 11199.0, 1299.0, 14999.0, 19379.0, 29985.0, null, 1999.0, 1099.0, 1299.0, null, 17890.0, null, 7990.0, null, null, 19990.0, 1299.0, 1299.0, 1060.0, 13999.0, 2249.0, null, null, 1040.0, 5490.0, 10990.0, 1299.0, null, 7995.0, 20999.0, 1399.0, 23990.0, 125.0, 1040.0, null, 18900.0, 1499.0, null, 1089.0, 1199.0, null, 1025.0, 13999.0, null, 1299.0, 1099.0, 8499.0, null, 1649.0, null, 20999.0, null, null, null, 3999.0, 37990.0, 22499.0, 16990.0, 17499.0, 19225.0, 1049.0, 10999.0, 10999.0, 6699.0, null, 10999.0, 1290.0, 19379.0, 16990.0, 1399.0, 17999.0, 1099.0, null, null, null, 1299.0, 15495.0, 16999.0, null, 17999.0, null, 1299.0, 1299.0, 1060.0, 4149.0, 5290.0, 4550.0, 10999.0, null, 77900.0, 13379.0, 3150.0, 1499.0, 10999.0, 75999.0, 8499.0, 1049.0, 1188.0, null, 1000.0, 1049.0, 22999.0, null, 1349.0, 23999.0, null, 1879.0, 1340.0, 20499.0, 1129.0, 1275.0, 72900.0, null, 1550.0, null, null, 15999.0, 1090.0, 10085.0, 13999.0, 1099.0, 1019.0, 6999.0, 1199.0, 72900.0, 1019.0, 6999.0, 1199.0, 1010.0, 1024.0, null, null, 1029.0, 1390.0, 1390.0, null, 1299.0, 37990.0, 1260.0, 1499.0, 24999.0, 18990.0, 1349.0, 1299.0, null, null, 12999.0, 25260.0, 25265.0, 25498.0, 5699.0, 16999.0, 15495.0, 15999.0, 72900.0, 1280.0, 1285.0, 1285.0, 1000.0, 30999.0, 17499.0, 19999.0, 9150.0, 67900.0, null, 1019.0, 29950.0, 17999.0, 1349.0, null, 9999.0, 1249.0, 10990.0, 8990.0, 1299.0, 1195.0, null, 3750.0, null, null, null, 1390.0, 77900.0, 1390.0, 30999.0, 13999.0, 12999.0, 1169.0, 17499.0, null, 11999.0, 1089.0, 1199.0, 33100.0, 15990.0, 29888.0, null, null, 24999.0, 1290.0, null, 3899.0, null, 1299.0, 1049.0, 1299.0, 10999.0, null, null, 1439.0, 72900.0, 16299.0, 34990.0, 7990.0, null, 27990.0, 16975.0, 1249.0, 11980.0, 10990.0, 1029.0, null, 6499.0, null, 1240.0, 4139.0, 1169.0, null, 24999.0, 82900.0, null, 75999.0, 1299.0, 1299.0, 1299.0, 1299.0, 8990.0, 1399.0, 1180.0, 27990.0, 16999.0, 24999.0, 1098.0, null], \"x0\": \" \", \"xaxis\": \"x\", \"y0\": \" \", \"yaxis\": \"y\"}],                        {\"boxmode\": \"group\", \"legend\": {\"tracegroupgap\": 0}, \"margin\": {\"t\": 60}, \"template\": {\"data\": {\"bar\": [{\"error_x\": {\"color\": \"#2a3f5f\"}, \"error_y\": {\"color\": \"#2a3f5f\"}, \"marker\": {\"line\": {\"color\": \"#E5ECF6\", \"width\": 0.5}}, \"type\": \"bar\"}], \"barpolar\": [{\"marker\": {\"line\": {\"color\": \"#E5ECF6\", \"width\": 0.5}}, \"type\": \"barpolar\"}], \"carpet\": [{\"aaxis\": {\"endlinecolor\": \"#2a3f5f\", \"gridcolor\": \"white\", \"linecolor\": \"white\", \"minorgridcolor\": \"white\", \"startlinecolor\": \"#2a3f5f\"}, \"baxis\": {\"endlinecolor\": \"#2a3f5f\", \"gridcolor\": \"white\", \"linecolor\": \"white\", \"minorgridcolor\": \"white\", \"startlinecolor\": \"#2a3f5f\"}, \"type\": \"carpet\"}], \"choropleth\": [{\"colorbar\": {\"outlinewidth\": 0, \"ticks\": \"\"}, \"type\": \"choropleth\"}], \"contour\": [{\"colorbar\": {\"outlinewidth\": 0, \"ticks\": \"\"}, \"colorscale\": [[0.0, \"#0d0887\"], [0.1111111111111111, \"#46039f\"], [0.2222222222222222, \"#7201a8\"], [0.3333333333333333, \"#9c179e\"], [0.4444444444444444, \"#bd3786\"], [0.5555555555555556, \"#d8576b\"], [0.6666666666666666, \"#ed7953\"], [0.7777777777777778, \"#fb9f3a\"], [0.8888888888888888, \"#fdca26\"], [1.0, \"#f0f921\"]], \"type\": \"contour\"}], \"contourcarpet\": [{\"colorbar\": {\"outlinewidth\": 0, \"ticks\": \"\"}, \"type\": \"contourcarpet\"}], \"heatmap\": [{\"colorbar\": {\"outlinewidth\": 0, \"ticks\": \"\"}, \"colorscale\": [[0.0, \"#0d0887\"], [0.1111111111111111, \"#46039f\"], [0.2222222222222222, \"#7201a8\"], [0.3333333333333333, \"#9c179e\"], [0.4444444444444444, \"#bd3786\"], [0.5555555555555556, \"#d8576b\"], [0.6666666666666666, \"#ed7953\"], [0.7777777777777778, \"#fb9f3a\"], [0.8888888888888888, \"#fdca26\"], [1.0, \"#f0f921\"]], \"type\": \"heatmap\"}], \"heatmapgl\": [{\"colorbar\": {\"outlinewidth\": 0, \"ticks\": \"\"}, \"colorscale\": [[0.0, \"#0d0887\"], [0.1111111111111111, \"#46039f\"], [0.2222222222222222, \"#7201a8\"], [0.3333333333333333, \"#9c179e\"], [0.4444444444444444, \"#bd3786\"], [0.5555555555555556, \"#d8576b\"], [0.6666666666666666, \"#ed7953\"], [0.7777777777777778, \"#fb9f3a\"], [0.8888888888888888, \"#fdca26\"], [1.0, \"#f0f921\"]], \"type\": \"heatmapgl\"}], \"histogram\": [{\"marker\": {\"colorbar\": {\"outlinewidth\": 0, \"ticks\": \"\"}}, \"type\": \"histogram\"}], \"histogram2d\": [{\"colorbar\": {\"outlinewidth\": 0, \"ticks\": \"\"}, \"colorscale\": [[0.0, \"#0d0887\"], [0.1111111111111111, \"#46039f\"], [0.2222222222222222, \"#7201a8\"], [0.3333333333333333, \"#9c179e\"], [0.4444444444444444, \"#bd3786\"], [0.5555555555555556, \"#d8576b\"], [0.6666666666666666, \"#ed7953\"], [0.7777777777777778, \"#fb9f3a\"], [0.8888888888888888, \"#fdca26\"], [1.0, \"#f0f921\"]], \"type\": \"histogram2d\"}], \"histogram2dcontour\": [{\"colorbar\": {\"outlinewidth\": 0, \"ticks\": \"\"}, \"colorscale\": [[0.0, \"#0d0887\"], [0.1111111111111111, \"#46039f\"], [0.2222222222222222, \"#7201a8\"], [0.3333333333333333, \"#9c179e\"], [0.4444444444444444, \"#bd3786\"], [0.5555555555555556, \"#d8576b\"], [0.6666666666666666, \"#ed7953\"], [0.7777777777777778, \"#fb9f3a\"], [0.8888888888888888, \"#fdca26\"], [1.0, \"#f0f921\"]], \"type\": \"histogram2dcontour\"}], \"mesh3d\": [{\"colorbar\": {\"outlinewidth\": 0, \"ticks\": \"\"}, \"type\": \"mesh3d\"}], \"parcoords\": [{\"line\": {\"colorbar\": {\"outlinewidth\": 0, \"ticks\": \"\"}}, \"type\": \"parcoords\"}], \"pie\": [{\"automargin\": true, \"type\": \"pie\"}], \"scatter\": [{\"marker\": {\"colorbar\": {\"outlinewidth\": 0, \"ticks\": \"\"}}, \"type\": \"scatter\"}], \"scatter3d\": [{\"line\": {\"colorbar\": {\"outlinewidth\": 0, \"ticks\": \"\"}}, \"marker\": {\"colorbar\": {\"outlinewidth\": 0, \"ticks\": \"\"}}, \"type\": \"scatter3d\"}], \"scattercarpet\": [{\"marker\": {\"colorbar\": {\"outlinewidth\": 0, \"ticks\": \"\"}}, \"type\": \"scattercarpet\"}], \"scattergeo\": [{\"marker\": {\"colorbar\": {\"outlinewidth\": 0, \"ticks\": \"\"}}, \"type\": \"scattergeo\"}], \"scattergl\": [{\"marker\": {\"colorbar\": {\"outlinewidth\": 0, \"ticks\": \"\"}}, \"type\": \"scattergl\"}], \"scattermapbox\": [{\"marker\": {\"colorbar\": {\"outlinewidth\": 0, \"ticks\": \"\"}}, \"type\": \"scattermapbox\"}], \"scatterpolar\": [{\"marker\": {\"colorbar\": {\"outlinewidth\": 0, \"ticks\": \"\"}}, \"type\": \"scatterpolar\"}], \"scatterpolargl\": [{\"marker\": {\"colorbar\": {\"outlinewidth\": 0, \"ticks\": \"\"}}, \"type\": \"scatterpolargl\"}], \"scatterternary\": [{\"marker\": {\"colorbar\": {\"outlinewidth\": 0, \"ticks\": \"\"}}, \"type\": \"scatterternary\"}], \"surface\": [{\"colorbar\": {\"outlinewidth\": 0, \"ticks\": \"\"}, \"colorscale\": [[0.0, \"#0d0887\"], [0.1111111111111111, \"#46039f\"], [0.2222222222222222, \"#7201a8\"], [0.3333333333333333, \"#9c179e\"], [0.4444444444444444, \"#bd3786\"], [0.5555555555555556, \"#d8576b\"], [0.6666666666666666, \"#ed7953\"], [0.7777777777777778, \"#fb9f3a\"], [0.8888888888888888, \"#fdca26\"], [1.0, \"#f0f921\"]], \"type\": \"surface\"}], \"table\": [{\"cells\": {\"fill\": {\"color\": \"#EBF0F8\"}, \"line\": {\"color\": \"white\"}}, \"header\": {\"fill\": {\"color\": \"#C8D4E3\"}, \"line\": {\"color\": \"white\"}}, \"type\": \"table\"}]}, \"layout\": {\"annotationdefaults\": {\"arrowcolor\": \"#2a3f5f\", \"arrowhead\": 0, \"arrowwidth\": 1}, \"autotypenumbers\": \"strict\", \"coloraxis\": {\"colorbar\": {\"outlinewidth\": 0, \"ticks\": \"\"}}, \"colorscale\": {\"diverging\": [[0, \"#8e0152\"], [0.1, \"#c51b7d\"], [0.2, \"#de77ae\"], [0.3, \"#f1b6da\"], [0.4, \"#fde0ef\"], [0.5, \"#f7f7f7\"], [0.6, \"#e6f5d0\"], [0.7, \"#b8e186\"], [0.8, \"#7fbc41\"], [0.9, \"#4d9221\"], [1, \"#276419\"]], \"sequential\": [[0.0, \"#0d0887\"], [0.1111111111111111, \"#46039f\"], [0.2222222222222222, \"#7201a8\"], [0.3333333333333333, \"#9c179e\"], [0.4444444444444444, \"#bd3786\"], [0.5555555555555556, \"#d8576b\"], [0.6666666666666666, \"#ed7953\"], [0.7777777777777778, \"#fb9f3a\"], [0.8888888888888888, \"#fdca26\"], [1.0, \"#f0f921\"]], \"sequentialminus\": [[0.0, \"#0d0887\"], [0.1111111111111111, \"#46039f\"], [0.2222222222222222, \"#7201a8\"], [0.3333333333333333, \"#9c179e\"], [0.4444444444444444, \"#bd3786\"], [0.5555555555555556, \"#d8576b\"], [0.6666666666666666, \"#ed7953\"], [0.7777777777777778, \"#fb9f3a\"], [0.8888888888888888, \"#fdca26\"], [1.0, \"#f0f921\"]]}, \"colorway\": [\"#636efa\", \"#EF553B\", \"#00cc96\", \"#ab63fa\", \"#FFA15A\", \"#19d3f3\", \"#FF6692\", \"#B6E880\", \"#FF97FF\", \"#FECB52\"], \"font\": {\"color\": \"#2a3f5f\"}, \"geo\": {\"bgcolor\": \"white\", \"lakecolor\": \"white\", \"landcolor\": \"#E5ECF6\", \"showlakes\": true, \"showland\": true, \"subunitcolor\": \"white\"}, \"hoverlabel\": {\"align\": \"left\"}, \"hovermode\": \"closest\", \"mapbox\": {\"style\": \"light\"}, \"paper_bgcolor\": \"white\", \"plot_bgcolor\": \"#E5ECF6\", \"polar\": {\"angularaxis\": {\"gridcolor\": \"white\", \"linecolor\": \"white\", \"ticks\": \"\"}, \"bgcolor\": \"#E5ECF6\", \"radialaxis\": {\"gridcolor\": \"white\", \"linecolor\": \"white\", \"ticks\": \"\"}}, \"scene\": {\"xaxis\": {\"backgroundcolor\": \"#E5ECF6\", \"gridcolor\": \"white\", \"gridwidth\": 2, \"linecolor\": \"white\", \"showbackground\": true, \"ticks\": \"\", \"zerolinecolor\": \"white\"}, \"yaxis\": {\"backgroundcolor\": \"#E5ECF6\", \"gridcolor\": \"white\", \"gridwidth\": 2, \"linecolor\": \"white\", \"showbackground\": true, \"ticks\": \"\", \"zerolinecolor\": \"white\"}, \"zaxis\": {\"backgroundcolor\": \"#E5ECF6\", \"gridcolor\": \"white\", \"gridwidth\": 2, \"linecolor\": \"white\", \"showbackground\": true, \"ticks\": \"\", \"zerolinecolor\": \"white\"}}, \"shapedefaults\": {\"line\": {\"color\": \"#2a3f5f\"}}, \"ternary\": {\"aaxis\": {\"gridcolor\": \"white\", \"linecolor\": \"white\", \"ticks\": \"\"}, \"baxis\": {\"gridcolor\": \"white\", \"linecolor\": \"white\", \"ticks\": \"\"}, \"bgcolor\": \"#E5ECF6\", \"caxis\": {\"gridcolor\": \"white\", \"linecolor\": \"white\", \"ticks\": \"\"}}, \"title\": {\"x\": 0.05}, \"xaxis\": {\"automargin\": true, \"gridcolor\": \"white\", \"linecolor\": \"white\", \"ticks\": \"\", \"title\": {\"standoff\": 15}, \"zerolinecolor\": \"white\", \"zerolinewidth\": 2}, \"yaxis\": {\"automargin\": true, \"gridcolor\": \"white\", \"linecolor\": \"white\", \"ticks\": \"\", \"title\": {\"standoff\": 15}, \"zerolinecolor\": \"white\", \"zerolinewidth\": 2}}}, \"xaxis\": {\"anchor\": \"y\", \"domain\": [0.0, 1.0], \"title\": {\"text\": \"x\"}}, \"yaxis\": {\"anchor\": \"x\", \"domain\": [0.0, 1.0]}},                        {\"responsive\": true}                    ).then(function(){\n",
       "                            \n",
       "var gd = document.getElementById('e14b0a7d-ee8c-4428-8d87-b749bc11a788');\n",
       "var x = new MutationObserver(function (mutations, observer) {{\n",
       "        var display = window.getComputedStyle(gd).display;\n",
       "        if (!display || display === 'none') {{\n",
       "            console.log([gd, 'removed!']);\n",
       "            Plotly.purge(gd);\n",
       "            observer.disconnect();\n",
       "        }}\n",
       "}});\n",
       "\n",
       "// Listen for the removal of the full notebook cells\n",
       "var notebookContainer = gd.closest('#notebook-container');\n",
       "if (notebookContainer) {{\n",
       "    x.observe(notebookContainer, {childList: true});\n",
       "}}\n",
       "\n",
       "// Listen for the clearing of the current output cell\n",
       "var outputEl = gd.closest('.output');\n",
       "if (outputEl) {{\n",
       "    x.observe(outputEl, {childList: true});\n",
       "}}\n",
       "\n",
       "                        })                };                });            </script>        </div>"
      ]
     },
     "metadata": {},
     "output_type": "display_data"
    }
   ],
   "source": [
    "px.box(x=data['Price'])"
   ]
  },
  {
   "cell_type": "code",
   "execution_count": 624,
   "id": "004e5d89",
   "metadata": {},
   "outputs": [
    {
     "data": {
      "text/plain": [
       "Index(['Product Description', 'Company', 'Model', 'Color', 'RAM', 'ROM',\n",
       "       'Price', 'Ratings', 'Offers on Percentage', 'Exchange Offer in Rupees'],\n",
       "      dtype='object')"
      ]
     },
     "execution_count": 624,
     "metadata": {},
     "output_type": "execute_result"
    }
   ],
   "source": [
    "data.columns"
   ]
  },
  {
   "cell_type": "code",
   "execution_count": 625,
   "id": "95b77f1e",
   "metadata": {},
   "outputs": [
    {
     "data": {
      "application/vnd.plotly.v1+json": {
       "config": {
        "plotlyServerURL": "https://plot.ly"
       },
       "data": [
        {
         "alignmentgroup": "True",
         "hovertemplate": "x=%{x}<extra></extra>",
         "legendgroup": "",
         "marker": {
          "color": "#636efa"
         },
         "name": "",
         "notched": false,
         "offsetgroup": "",
         "orientation": "h",
         "showlegend": false,
         "type": "box",
         "x": [
          4.4,
          4.4,
          4.3,
          4.3,
          4.3,
          4.3,
          4.3,
          4.3,
          4.4,
          4.4,
          4.4,
          4.4,
          4.4,
          4.4,
          4.4,
          4.3,
          4.3,
          4.1,
          4.4,
          4.2,
          4.4,
          4.1,
          4.4,
          4.4,
          4.4,
          4.3,
          4.1,
          4.3,
          4.4,
          4.3,
          4.3,
          4.3,
          4.3,
          4.3,
          4.3,
          4.4,
          4.4,
          4.3,
          4.3,
          4.1,
          4.4,
          4.4,
          4.3,
          4.3,
          4.3,
          4.3,
          4.4,
          4.4,
          4.4,
          4.3,
          4.3,
          4.4,
          4.4,
          4.4,
          4.4,
          4.3,
          4.3,
          4.1,
          4.2,
          4.4,
          4.4,
          4.4,
          4.4,
          4.4,
          4.1,
          4.3,
          4.3,
          4.3,
          4.4,
          4.3,
          4.3,
          4.3,
          4.3,
          4.3,
          4.4,
          4.4,
          4.3,
          4.1,
          4.4,
          4.4,
          4.4,
          4.4,
          4.1,
          4.4,
          4.2,
          4.4,
          4.4,
          4.3,
          4.4,
          4.4,
          4.3,
          4.3,
          4.4,
          4.4,
          4.2,
          4.2,
          4.3,
          4.2,
          4.3,
          4.3,
          4.3,
          4.3,
          4.3,
          4.3,
          4.3,
          4.3,
          3.8,
          3.8,
          4.4,
          4.4,
          4.3,
          4.2,
          4.4,
          4.3,
          4.3,
          4.2,
          4.4,
          4.3,
          4.4,
          4.4,
          4.3,
          4.4,
          4.4,
          4.4,
          4.4,
          4.4,
          3.9,
          4.3,
          4.3,
          4.3,
          4.1,
          4.5,
          4.3,
          4.3,
          4.2,
          4.4,
          4.4,
          4.3,
          4.3,
          3.9,
          4.2,
          4.4,
          4.2,
          4.4,
          4.4,
          4.3,
          4.3,
          4.3,
          4.2,
          4.2,
          4.1,
          4.4,
          4.4,
          4.4,
          4.3,
          4.4,
          4.3,
          4.3,
          4.3,
          4.4,
          3.9,
          4.2,
          4.2,
          4.2,
          4.2,
          4.3,
          4.4,
          4.3,
          4.2,
          4.2,
          4.4,
          4.4,
          4,
          3.9,
          4.3,
          4.3,
          4.1,
          4.3,
          4.4,
          4.3,
          4.1,
          4.1,
          4.2,
          4,
          4.2,
          3.9,
          3.9,
          4.1,
          4.4,
          3.9,
          4.4,
          4.3,
          4.3,
          4.4,
          4.3,
          4.2,
          4.2,
          4.3,
          4.3,
          3.9,
          4.2,
          4.3,
          4.1,
          4.1,
          4.1,
          4.3,
          4.3,
          4.2,
          4.2,
          4.4,
          4.1,
          3.9,
          4.4,
          4.4,
          4.4,
          4.4,
          4.4,
          4,
          4.2,
          4.3,
          4.4,
          4.3,
          4.4,
          4.3,
          4.3,
          4.2,
          4,
          4.3,
          4.3,
          4.4,
          4.2,
          4.3,
          4.3,
          4.3,
          4.4,
          4.3,
          4.3,
          4.3,
          4.3,
          4.3,
          3.9,
          4.2,
          4.2,
          4.3,
          4.3,
          4.3,
          4.3,
          4.4,
          4.3,
          4.3,
          4.3,
          4.3,
          4.4,
          4.3,
          4.4,
          4.4,
          4.3,
          4.6,
          4.3,
          4,
          4,
          4.3,
          4.3,
          4,
          4,
          4.3,
          4.2,
          4.3,
          4.6,
          4.2,
          4.4,
          4.4,
          4.2,
          4.4,
          4.4,
          4.2,
          4.4,
          4.3,
          4.3,
          4.4,
          4.4,
          4.2,
          4.6,
          4.2,
          4.2,
          4.4,
          3.7,
          4.2,
          3.7,
          4.1,
          4.4,
          4.4,
          4.4,
          4.4,
          4.1,
          4.2,
          4,
          4.2,
          3.9,
          3.9,
          3.7,
          4.3,
          4.2,
          4.1,
          4.1,
          4.3,
          4.2,
          4.2,
          4.1,
          4.3,
          4,
          4.1,
          3.7,
          4.1,
          4.2,
          4.4,
          4.4,
          4,
          4.4,
          4.4,
          4,
          4.2,
          4.2,
          4.2,
          4.1,
          4.3,
          4,
          4.1,
          4.4,
          4.3,
          4.2,
          4.4,
          4.3,
          4.2,
          4.1,
          4.2,
          3.8,
          3.8,
          3.7,
          4.2,
          4.2,
          4.2,
          4,
          4.4,
          4,
          4.3,
          4.5,
          4.3,
          4.3,
          3.9,
          4.3,
          4.4,
          4,
          4.1,
          4.1,
          4.1,
          4.1,
          4.1,
          4.1,
          4.1,
          4.4,
          3.9,
          4.2,
          4.3,
          4.2,
          4.2,
          4.3,
          4.5,
          4.2,
          4.3,
          4.3,
          4.4,
          4.3,
          4.2,
          4.5,
          4.2,
          4.2,
          4,
          4.2,
          4.1,
          4.2,
          3.6,
          4.1,
          3.9,
          4.1,
          4.1,
          4.4,
          4.1,
          4.3,
          4.6,
          4.1,
          4.1,
          4.1,
          4.3,
          4.3,
          4.3,
          3.7,
          4.2,
          3.6,
          4.3,
          4.5,
          4.1,
          4.4,
          4.2,
          4,
          4.2,
          4.1,
          3.6,
          4.1,
          3.9,
          4.6,
          4.4,
          4.1,
          4.3,
          4.6,
          4.3,
          4.1,
          4.1,
          4.1,
          4.3,
          4.3,
          4.3,
          3.7,
          4.3,
          3.6,
          4,
          4,
          4.3,
          4,
          4.3,
          4.3,
          3.9,
          4.3,
          4.4,
          4.1,
          4,
          4.1,
          4,
          4,
          4,
          4.2,
          4,
          3.6,
          4.4,
          4.4,
          4,
          4.3,
          4.2,
          4.3,
          4.2,
          4.3,
          4.5,
          3.7,
          4.2,
          4.5,
          3.9,
          3.9,
          4.2,
          4.2,
          3.9,
          4.3,
          4.3,
          4.4,
          3.5,
          3.9,
          4.1,
          4.1,
          4.1,
          3.9,
          4,
          4,
          4,
          4.4,
          4.4,
          4.5,
          4.2,
          4.3,
          4,
          4,
          4.3,
          4.2,
          4.2,
          3.9,
          4,
          4.1,
          4.3,
          4.5,
          4.5,
          4.3,
          3.9,
          4.3,
          4.4,
          4.4,
          5,
          4.1,
          3.9,
          4.3,
          4,
          3.7,
          3.8,
          4.2,
          3.9,
          4,
          4.3,
          3.8,
          4,
          4,
          4.1,
          3.9,
          4.3,
          4.1,
          3.7,
          4.2,
          4.3,
          4.1,
          4.3,
          4.2,
          4,
          3.8,
          4.3,
          4.1,
          4,
          4.2,
          3.7,
          null,
          null,
          null,
          4.3,
          3.7,
          4.4,
          4.3,
          4.3,
          4.4,
          4.4,
          4.4,
          3.9,
          4,
          4.4,
          4.3,
          4.4,
          3.9,
          4.5,
          3.7,
          3.6,
          4,
          3.9,
          4.1,
          3.7,
          4.4,
          4,
          3.9,
          3.9,
          4.1,
          4.1,
          4.2,
          4.2,
          4.5,
          3.9,
          4.3,
          4.3,
          4.3,
          4.3,
          4.4,
          3.7,
          4.3,
          4,
          4.2,
          4.3,
          3.7,
          4,
          3.5,
          4.3,
          4.2,
          4.6,
          4,
          4.1,
          4.1,
          4.2,
          4.1,
          4.2,
          4.3,
          4.3,
          4.3,
          4.4,
          4.3,
          4.2,
          4.3,
          4.2,
          4,
          3.8,
          4.3,
          4.4,
          3.9,
          4.2,
          4.3,
          3.7,
          4.2,
          4.1,
          4.4,
          4.6,
          4.2,
          4.4,
          4,
          4,
          4.2,
          4.3,
          4.1,
          4.6,
          4.3,
          3.9,
          4.3,
          4.3,
          3.9,
          4.5,
          4.4,
          4.2,
          4,
          4,
          4,
          4.4,
          4.4,
          4.2,
          3.8,
          3.9,
          3.9,
          4.2,
          4.1,
          4.6,
          4,
          4.3,
          4,
          3.8,
          3.7,
          4.4,
          4.3,
          3.7,
          4.1,
          4.1,
          3.6,
          4.1,
          4.1,
          3.6,
          4,
          4.1,
          4.2,
          4.1,
          4.6,
          3.6,
          4.2,
          4.5,
          4,
          4.1,
          4.2,
          3.8,
          3.4,
          4.2,
          4.1,
          4.3,
          4.2,
          4.6,
          3.8,
          3.9,
          4.1,
          3.9,
          4.4,
          4.1,
          4.3,
          4.4,
          4.6,
          4.2,
          4.3,
          4.1,
          4.1,
          4.4,
          4.3,
          4.4,
          4,
          4.3,
          4.2,
          3.5,
          4,
          4.3,
          3.8,
          4,
          4.2,
          4.4,
          4.4,
          3.7,
          3.7,
          4,
          4.2,
          4.6,
          3.6,
          3.8,
          3.8,
          4.2,
          3.7,
          4.1,
          4.4,
          4.3,
          4.3,
          4.2,
          3.7,
          4,
          3.9,
          4.4,
          4.3,
          4.3,
          4.1,
          4,
          4.3,
          3.9,
          3.9,
          3.9,
          4.1,
          3.9,
          4.2,
          3.9,
          4.4,
          4.3,
          4.5,
          4.7,
          3.8,
          3.9,
          4.2,
          4,
          4.3,
          3.4,
          4.1,
          3.8,
          4.6,
          4.3,
          3.9,
          3.9,
          3.7,
          4.2,
          3.8,
          3.5,
          3.6,
          4.1,
          3.5,
          4.1,
          3.6,
          3.7,
          4.1,
          4.3,
          3.6,
          4.3,
          4.6,
          3.6,
          4.3,
          4.4,
          3.5,
          3.9,
          4.7,
          4.7,
          3.9,
          4,
          4.4,
          3.5,
          4,
          3.9,
          4.3,
          3.4,
          3.9,
          3.9,
          4.3,
          5,
          5,
          4.1,
          4.1,
          4.4,
          4.3,
          4.2,
          4.2,
          4.3,
          4.1,
          null,
          null,
          4.2,
          3.8,
          null,
          3.8,
          4.3,
          4.2,
          3.9,
          4.4,
          4.3,
          3.9,
          null,
          3.5,
          3.5,
          4.4,
          4.4,
          3.9,
          4.4,
          4,
          3.9,
          3.9,
          3.7,
          3.4,
          4,
          3.5,
          4,
          4.3,
          4.6,
          4.3,
          4.1,
          3.7,
          4.3,
          4.3,
          4.3,
          4.1,
          4.2,
          4.6,
          3.4,
          4.1,
          4.5,
          3.5,
          3.8,
          4.2,
          3.6,
          3.8,
          3.9,
          4.2,
          3.9,
          3.8,
          4.5,
          4.1,
          4.2,
          3.5,
          4,
          4.3,
          3.7,
          4.2,
          4.4,
          4.1,
          4,
          4.4,
          4,
          4.5,
          4,
          4.4,
          4,
          4,
          4,
          4.1,
          3.7,
          4,
          4,
          4,
          3.8,
          3.8,
          4.4,
          3.8,
          4.2,
          4.2,
          4.3,
          3.8,
          3.6,
          3.6,
          4,
          4.2,
          4.4,
          4.3,
          4.3,
          3,
          4.4,
          4.4,
          4.3,
          4.5,
          4.2,
          4.2,
          4.2,
          3.4,
          4.5,
          4.2,
          4.5,
          4.3,
          4.5,
          4.6,
          4.3,
          4.5,
          4.5,
          4.2,
          3.5,
          4.3,
          3.7,
          4.4,
          4.3,
          4.2,
          3.3,
          3.9,
          4.1,
          4,
          4,
          4,
          4,
          4.6,
          4,
          4.2,
          4.2,
          3.7,
          3.3,
          4.2,
          3.5,
          4.3,
          4.7,
          4.7,
          4.4,
          4.4,
          4.5,
          4,
          3.5,
          4.5,
          3.8,
          4,
          3.8,
          3.4,
          3.8,
          3.4,
          3.6,
          4.2,
          3.6,
          3.6,
          4,
          4.5,
          4.1,
          4.4,
          4.3,
          3.6,
          4.4,
          4.4,
          3.7,
          4.2,
          4.5,
          4,
          null,
          3.8,
          4,
          3.8,
          3.5,
          3.3,
          3.6,
          4.5,
          4.6,
          3.6,
          4.3,
          null,
          null,
          null,
          null,
          3.8,
          4.1,
          4,
          4.4,
          4.4,
          4.5,
          4.2,
          3.8
         ],
         "x0": " ",
         "xaxis": "x",
         "y0": " ",
         "yaxis": "y"
        }
       ],
       "layout": {
        "boxmode": "group",
        "legend": {
         "tracegroupgap": 0
        },
        "margin": {
         "t": 60
        },
        "template": {
         "data": {
          "bar": [
           {
            "error_x": {
             "color": "#2a3f5f"
            },
            "error_y": {
             "color": "#2a3f5f"
            },
            "marker": {
             "line": {
              "color": "#E5ECF6",
              "width": 0.5
             }
            },
            "type": "bar"
           }
          ],
          "barpolar": [
           {
            "marker": {
             "line": {
              "color": "#E5ECF6",
              "width": 0.5
             }
            },
            "type": "barpolar"
           }
          ],
          "carpet": [
           {
            "aaxis": {
             "endlinecolor": "#2a3f5f",
             "gridcolor": "white",
             "linecolor": "white",
             "minorgridcolor": "white",
             "startlinecolor": "#2a3f5f"
            },
            "baxis": {
             "endlinecolor": "#2a3f5f",
             "gridcolor": "white",
             "linecolor": "white",
             "minorgridcolor": "white",
             "startlinecolor": "#2a3f5f"
            },
            "type": "carpet"
           }
          ],
          "choropleth": [
           {
            "colorbar": {
             "outlinewidth": 0,
             "ticks": ""
            },
            "type": "choropleth"
           }
          ],
          "contour": [
           {
            "colorbar": {
             "outlinewidth": 0,
             "ticks": ""
            },
            "colorscale": [
             [
              0,
              "#0d0887"
             ],
             [
              0.1111111111111111,
              "#46039f"
             ],
             [
              0.2222222222222222,
              "#7201a8"
             ],
             [
              0.3333333333333333,
              "#9c179e"
             ],
             [
              0.4444444444444444,
              "#bd3786"
             ],
             [
              0.5555555555555556,
              "#d8576b"
             ],
             [
              0.6666666666666666,
              "#ed7953"
             ],
             [
              0.7777777777777778,
              "#fb9f3a"
             ],
             [
              0.8888888888888888,
              "#fdca26"
             ],
             [
              1,
              "#f0f921"
             ]
            ],
            "type": "contour"
           }
          ],
          "contourcarpet": [
           {
            "colorbar": {
             "outlinewidth": 0,
             "ticks": ""
            },
            "type": "contourcarpet"
           }
          ],
          "heatmap": [
           {
            "colorbar": {
             "outlinewidth": 0,
             "ticks": ""
            },
            "colorscale": [
             [
              0,
              "#0d0887"
             ],
             [
              0.1111111111111111,
              "#46039f"
             ],
             [
              0.2222222222222222,
              "#7201a8"
             ],
             [
              0.3333333333333333,
              "#9c179e"
             ],
             [
              0.4444444444444444,
              "#bd3786"
             ],
             [
              0.5555555555555556,
              "#d8576b"
             ],
             [
              0.6666666666666666,
              "#ed7953"
             ],
             [
              0.7777777777777778,
              "#fb9f3a"
             ],
             [
              0.8888888888888888,
              "#fdca26"
             ],
             [
              1,
              "#f0f921"
             ]
            ],
            "type": "heatmap"
           }
          ],
          "heatmapgl": [
           {
            "colorbar": {
             "outlinewidth": 0,
             "ticks": ""
            },
            "colorscale": [
             [
              0,
              "#0d0887"
             ],
             [
              0.1111111111111111,
              "#46039f"
             ],
             [
              0.2222222222222222,
              "#7201a8"
             ],
             [
              0.3333333333333333,
              "#9c179e"
             ],
             [
              0.4444444444444444,
              "#bd3786"
             ],
             [
              0.5555555555555556,
              "#d8576b"
             ],
             [
              0.6666666666666666,
              "#ed7953"
             ],
             [
              0.7777777777777778,
              "#fb9f3a"
             ],
             [
              0.8888888888888888,
              "#fdca26"
             ],
             [
              1,
              "#f0f921"
             ]
            ],
            "type": "heatmapgl"
           }
          ],
          "histogram": [
           {
            "marker": {
             "colorbar": {
              "outlinewidth": 0,
              "ticks": ""
             }
            },
            "type": "histogram"
           }
          ],
          "histogram2d": [
           {
            "colorbar": {
             "outlinewidth": 0,
             "ticks": ""
            },
            "colorscale": [
             [
              0,
              "#0d0887"
             ],
             [
              0.1111111111111111,
              "#46039f"
             ],
             [
              0.2222222222222222,
              "#7201a8"
             ],
             [
              0.3333333333333333,
              "#9c179e"
             ],
             [
              0.4444444444444444,
              "#bd3786"
             ],
             [
              0.5555555555555556,
              "#d8576b"
             ],
             [
              0.6666666666666666,
              "#ed7953"
             ],
             [
              0.7777777777777778,
              "#fb9f3a"
             ],
             [
              0.8888888888888888,
              "#fdca26"
             ],
             [
              1,
              "#f0f921"
             ]
            ],
            "type": "histogram2d"
           }
          ],
          "histogram2dcontour": [
           {
            "colorbar": {
             "outlinewidth": 0,
             "ticks": ""
            },
            "colorscale": [
             [
              0,
              "#0d0887"
             ],
             [
              0.1111111111111111,
              "#46039f"
             ],
             [
              0.2222222222222222,
              "#7201a8"
             ],
             [
              0.3333333333333333,
              "#9c179e"
             ],
             [
              0.4444444444444444,
              "#bd3786"
             ],
             [
              0.5555555555555556,
              "#d8576b"
             ],
             [
              0.6666666666666666,
              "#ed7953"
             ],
             [
              0.7777777777777778,
              "#fb9f3a"
             ],
             [
              0.8888888888888888,
              "#fdca26"
             ],
             [
              1,
              "#f0f921"
             ]
            ],
            "type": "histogram2dcontour"
           }
          ],
          "mesh3d": [
           {
            "colorbar": {
             "outlinewidth": 0,
             "ticks": ""
            },
            "type": "mesh3d"
           }
          ],
          "parcoords": [
           {
            "line": {
             "colorbar": {
              "outlinewidth": 0,
              "ticks": ""
             }
            },
            "type": "parcoords"
           }
          ],
          "pie": [
           {
            "automargin": true,
            "type": "pie"
           }
          ],
          "scatter": [
           {
            "marker": {
             "colorbar": {
              "outlinewidth": 0,
              "ticks": ""
             }
            },
            "type": "scatter"
           }
          ],
          "scatter3d": [
           {
            "line": {
             "colorbar": {
              "outlinewidth": 0,
              "ticks": ""
             }
            },
            "marker": {
             "colorbar": {
              "outlinewidth": 0,
              "ticks": ""
             }
            },
            "type": "scatter3d"
           }
          ],
          "scattercarpet": [
           {
            "marker": {
             "colorbar": {
              "outlinewidth": 0,
              "ticks": ""
             }
            },
            "type": "scattercarpet"
           }
          ],
          "scattergeo": [
           {
            "marker": {
             "colorbar": {
              "outlinewidth": 0,
              "ticks": ""
             }
            },
            "type": "scattergeo"
           }
          ],
          "scattergl": [
           {
            "marker": {
             "colorbar": {
              "outlinewidth": 0,
              "ticks": ""
             }
            },
            "type": "scattergl"
           }
          ],
          "scattermapbox": [
           {
            "marker": {
             "colorbar": {
              "outlinewidth": 0,
              "ticks": ""
             }
            },
            "type": "scattermapbox"
           }
          ],
          "scatterpolar": [
           {
            "marker": {
             "colorbar": {
              "outlinewidth": 0,
              "ticks": ""
             }
            },
            "type": "scatterpolar"
           }
          ],
          "scatterpolargl": [
           {
            "marker": {
             "colorbar": {
              "outlinewidth": 0,
              "ticks": ""
             }
            },
            "type": "scatterpolargl"
           }
          ],
          "scatterternary": [
           {
            "marker": {
             "colorbar": {
              "outlinewidth": 0,
              "ticks": ""
             }
            },
            "type": "scatterternary"
           }
          ],
          "surface": [
           {
            "colorbar": {
             "outlinewidth": 0,
             "ticks": ""
            },
            "colorscale": [
             [
              0,
              "#0d0887"
             ],
             [
              0.1111111111111111,
              "#46039f"
             ],
             [
              0.2222222222222222,
              "#7201a8"
             ],
             [
              0.3333333333333333,
              "#9c179e"
             ],
             [
              0.4444444444444444,
              "#bd3786"
             ],
             [
              0.5555555555555556,
              "#d8576b"
             ],
             [
              0.6666666666666666,
              "#ed7953"
             ],
             [
              0.7777777777777778,
              "#fb9f3a"
             ],
             [
              0.8888888888888888,
              "#fdca26"
             ],
             [
              1,
              "#f0f921"
             ]
            ],
            "type": "surface"
           }
          ],
          "table": [
           {
            "cells": {
             "fill": {
              "color": "#EBF0F8"
             },
             "line": {
              "color": "white"
             }
            },
            "header": {
             "fill": {
              "color": "#C8D4E3"
             },
             "line": {
              "color": "white"
             }
            },
            "type": "table"
           }
          ]
         },
         "layout": {
          "annotationdefaults": {
           "arrowcolor": "#2a3f5f",
           "arrowhead": 0,
           "arrowwidth": 1
          },
          "autotypenumbers": "strict",
          "coloraxis": {
           "colorbar": {
            "outlinewidth": 0,
            "ticks": ""
           }
          },
          "colorscale": {
           "diverging": [
            [
             0,
             "#8e0152"
            ],
            [
             0.1,
             "#c51b7d"
            ],
            [
             0.2,
             "#de77ae"
            ],
            [
             0.3,
             "#f1b6da"
            ],
            [
             0.4,
             "#fde0ef"
            ],
            [
             0.5,
             "#f7f7f7"
            ],
            [
             0.6,
             "#e6f5d0"
            ],
            [
             0.7,
             "#b8e186"
            ],
            [
             0.8,
             "#7fbc41"
            ],
            [
             0.9,
             "#4d9221"
            ],
            [
             1,
             "#276419"
            ]
           ],
           "sequential": [
            [
             0,
             "#0d0887"
            ],
            [
             0.1111111111111111,
             "#46039f"
            ],
            [
             0.2222222222222222,
             "#7201a8"
            ],
            [
             0.3333333333333333,
             "#9c179e"
            ],
            [
             0.4444444444444444,
             "#bd3786"
            ],
            [
             0.5555555555555556,
             "#d8576b"
            ],
            [
             0.6666666666666666,
             "#ed7953"
            ],
            [
             0.7777777777777778,
             "#fb9f3a"
            ],
            [
             0.8888888888888888,
             "#fdca26"
            ],
            [
             1,
             "#f0f921"
            ]
           ],
           "sequentialminus": [
            [
             0,
             "#0d0887"
            ],
            [
             0.1111111111111111,
             "#46039f"
            ],
            [
             0.2222222222222222,
             "#7201a8"
            ],
            [
             0.3333333333333333,
             "#9c179e"
            ],
            [
             0.4444444444444444,
             "#bd3786"
            ],
            [
             0.5555555555555556,
             "#d8576b"
            ],
            [
             0.6666666666666666,
             "#ed7953"
            ],
            [
             0.7777777777777778,
             "#fb9f3a"
            ],
            [
             0.8888888888888888,
             "#fdca26"
            ],
            [
             1,
             "#f0f921"
            ]
           ]
          },
          "colorway": [
           "#636efa",
           "#EF553B",
           "#00cc96",
           "#ab63fa",
           "#FFA15A",
           "#19d3f3",
           "#FF6692",
           "#B6E880",
           "#FF97FF",
           "#FECB52"
          ],
          "font": {
           "color": "#2a3f5f"
          },
          "geo": {
           "bgcolor": "white",
           "lakecolor": "white",
           "landcolor": "#E5ECF6",
           "showlakes": true,
           "showland": true,
           "subunitcolor": "white"
          },
          "hoverlabel": {
           "align": "left"
          },
          "hovermode": "closest",
          "mapbox": {
           "style": "light"
          },
          "paper_bgcolor": "white",
          "plot_bgcolor": "#E5ECF6",
          "polar": {
           "angularaxis": {
            "gridcolor": "white",
            "linecolor": "white",
            "ticks": ""
           },
           "bgcolor": "#E5ECF6",
           "radialaxis": {
            "gridcolor": "white",
            "linecolor": "white",
            "ticks": ""
           }
          },
          "scene": {
           "xaxis": {
            "backgroundcolor": "#E5ECF6",
            "gridcolor": "white",
            "gridwidth": 2,
            "linecolor": "white",
            "showbackground": true,
            "ticks": "",
            "zerolinecolor": "white"
           },
           "yaxis": {
            "backgroundcolor": "#E5ECF6",
            "gridcolor": "white",
            "gridwidth": 2,
            "linecolor": "white",
            "showbackground": true,
            "ticks": "",
            "zerolinecolor": "white"
           },
           "zaxis": {
            "backgroundcolor": "#E5ECF6",
            "gridcolor": "white",
            "gridwidth": 2,
            "linecolor": "white",
            "showbackground": true,
            "ticks": "",
            "zerolinecolor": "white"
           }
          },
          "shapedefaults": {
           "line": {
            "color": "#2a3f5f"
           }
          },
          "ternary": {
           "aaxis": {
            "gridcolor": "white",
            "linecolor": "white",
            "ticks": ""
           },
           "baxis": {
            "gridcolor": "white",
            "linecolor": "white",
            "ticks": ""
           },
           "bgcolor": "#E5ECF6",
           "caxis": {
            "gridcolor": "white",
            "linecolor": "white",
            "ticks": ""
           }
          },
          "title": {
           "x": 0.05
          },
          "xaxis": {
           "automargin": true,
           "gridcolor": "white",
           "linecolor": "white",
           "ticks": "",
           "title": {
            "standoff": 15
           },
           "zerolinecolor": "white",
           "zerolinewidth": 2
          },
          "yaxis": {
           "automargin": true,
           "gridcolor": "white",
           "linecolor": "white",
           "ticks": "",
           "title": {
            "standoff": 15
           },
           "zerolinecolor": "white",
           "zerolinewidth": 2
          }
         }
        },
        "xaxis": {
         "anchor": "y",
         "domain": [
          0,
          1
         ],
         "title": {
          "text": "x"
         }
        },
        "yaxis": {
         "anchor": "x",
         "domain": [
          0,
          1
         ]
        }
       }
      },
      "text/html": [
       "<div>                            <div id=\"0157f9c3-88ff-4a1d-b558-78198e93a8a1\" class=\"plotly-graph-div\" style=\"height:525px; width:100%;\"></div>            <script type=\"text/javascript\">                require([\"plotly\"], function(Plotly) {                    window.PLOTLYENV=window.PLOTLYENV || {};                                    if (document.getElementById(\"0157f9c3-88ff-4a1d-b558-78198e93a8a1\")) {                    Plotly.newPlot(                        \"0157f9c3-88ff-4a1d-b558-78198e93a8a1\",                        [{\"alignmentgroup\": \"True\", \"hovertemplate\": \"x=%{x}<extra></extra>\", \"legendgroup\": \"\", \"marker\": {\"color\": \"#636efa\"}, \"name\": \"\", \"notched\": false, \"offsetgroup\": \"\", \"orientation\": \"h\", \"showlegend\": false, \"type\": \"box\", \"x\": [4.4, 4.4, 4.3, 4.3, 4.3, 4.3, 4.3, 4.3, 4.4, 4.4, 4.4, 4.4, 4.4, 4.4, 4.4, 4.3, 4.3, 4.1, 4.4, 4.2, 4.4, 4.1, 4.4, 4.4, 4.4, 4.3, 4.1, 4.3, 4.4, 4.3, 4.3, 4.3, 4.3, 4.3, 4.3, 4.4, 4.4, 4.3, 4.3, 4.1, 4.4, 4.4, 4.3, 4.3, 4.3, 4.3, 4.4, 4.4, 4.4, 4.3, 4.3, 4.4, 4.4, 4.4, 4.4, 4.3, 4.3, 4.1, 4.2, 4.4, 4.4, 4.4, 4.4, 4.4, 4.1, 4.3, 4.3, 4.3, 4.4, 4.3, 4.3, 4.3, 4.3, 4.3, 4.4, 4.4, 4.3, 4.1, 4.4, 4.4, 4.4, 4.4, 4.1, 4.4, 4.2, 4.4, 4.4, 4.3, 4.4, 4.4, 4.3, 4.3, 4.4, 4.4, 4.2, 4.2, 4.3, 4.2, 4.3, 4.3, 4.3, 4.3, 4.3, 4.3, 4.3, 4.3, 3.8, 3.8, 4.4, 4.4, 4.3, 4.2, 4.4, 4.3, 4.3, 4.2, 4.4, 4.3, 4.4, 4.4, 4.3, 4.4, 4.4, 4.4, 4.4, 4.4, 3.9, 4.3, 4.3, 4.3, 4.1, 4.5, 4.3, 4.3, 4.2, 4.4, 4.4, 4.3, 4.3, 3.9, 4.2, 4.4, 4.2, 4.4, 4.4, 4.3, 4.3, 4.3, 4.2, 4.2, 4.1, 4.4, 4.4, 4.4, 4.3, 4.4, 4.3, 4.3, 4.3, 4.4, 3.9, 4.2, 4.2, 4.2, 4.2, 4.3, 4.4, 4.3, 4.2, 4.2, 4.4, 4.4, 4.0, 3.9, 4.3, 4.3, 4.1, 4.3, 4.4, 4.3, 4.1, 4.1, 4.2, 4.0, 4.2, 3.9, 3.9, 4.1, 4.4, 3.9, 4.4, 4.3, 4.3, 4.4, 4.3, 4.2, 4.2, 4.3, 4.3, 3.9, 4.2, 4.3, 4.1, 4.1, 4.1, 4.3, 4.3, 4.2, 4.2, 4.4, 4.1, 3.9, 4.4, 4.4, 4.4, 4.4, 4.4, 4.0, 4.2, 4.3, 4.4, 4.3, 4.4, 4.3, 4.3, 4.2, 4.0, 4.3, 4.3, 4.4, 4.2, 4.3, 4.3, 4.3, 4.4, 4.3, 4.3, 4.3, 4.3, 4.3, 3.9, 4.2, 4.2, 4.3, 4.3, 4.3, 4.3, 4.4, 4.3, 4.3, 4.3, 4.3, 4.4, 4.3, 4.4, 4.4, 4.3, 4.6, 4.3, 4.0, 4.0, 4.3, 4.3, 4.0, 4.0, 4.3, 4.2, 4.3, 4.6, 4.2, 4.4, 4.4, 4.2, 4.4, 4.4, 4.2, 4.4, 4.3, 4.3, 4.4, 4.4, 4.2, 4.6, 4.2, 4.2, 4.4, 3.7, 4.2, 3.7, 4.1, 4.4, 4.4, 4.4, 4.4, 4.1, 4.2, 4.0, 4.2, 3.9, 3.9, 3.7, 4.3, 4.2, 4.1, 4.1, 4.3, 4.2, 4.2, 4.1, 4.3, 4.0, 4.1, 3.7, 4.1, 4.2, 4.4, 4.4, 4.0, 4.4, 4.4, 4.0, 4.2, 4.2, 4.2, 4.1, 4.3, 4.0, 4.1, 4.4, 4.3, 4.2, 4.4, 4.3, 4.2, 4.1, 4.2, 3.8, 3.8, 3.7, 4.2, 4.2, 4.2, 4.0, 4.4, 4.0, 4.3, 4.5, 4.3, 4.3, 3.9, 4.3, 4.4, 4.0, 4.1, 4.1, 4.1, 4.1, 4.1, 4.1, 4.1, 4.4, 3.9, 4.2, 4.3, 4.2, 4.2, 4.3, 4.5, 4.2, 4.3, 4.3, 4.4, 4.3, 4.2, 4.5, 4.2, 4.2, 4.0, 4.2, 4.1, 4.2, 3.6, 4.1, 3.9, 4.1, 4.1, 4.4, 4.1, 4.3, 4.6, 4.1, 4.1, 4.1, 4.3, 4.3, 4.3, 3.7, 4.2, 3.6, 4.3, 4.5, 4.1, 4.4, 4.2, 4.0, 4.2, 4.1, 3.6, 4.1, 3.9, 4.6, 4.4, 4.1, 4.3, 4.6, 4.3, 4.1, 4.1, 4.1, 4.3, 4.3, 4.3, 3.7, 4.3, 3.6, 4.0, 4.0, 4.3, 4.0, 4.3, 4.3, 3.9, 4.3, 4.4, 4.1, 4.0, 4.1, 4.0, 4.0, 4.0, 4.2, 4.0, 3.6, 4.4, 4.4, 4.0, 4.3, 4.2, 4.3, 4.2, 4.3, 4.5, 3.7, 4.2, 4.5, 3.9, 3.9, 4.2, 4.2, 3.9, 4.3, 4.3, 4.4, 3.5, 3.9, 4.1, 4.1, 4.1, 3.9, 4.0, 4.0, 4.0, 4.4, 4.4, 4.5, 4.2, 4.3, 4.0, 4.0, 4.3, 4.2, 4.2, 3.9, 4.0, 4.1, 4.3, 4.5, 4.5, 4.3, 3.9, 4.3, 4.4, 4.4, 5.0, 4.1, 3.9, 4.3, 4.0, 3.7, 3.8, 4.2, 3.9, 4.0, 4.3, 3.8, 4.0, 4.0, 4.1, 3.9, 4.3, 4.1, 3.7, 4.2, 4.3, 4.1, 4.3, 4.2, 4.0, 3.8, 4.3, 4.1, 4.0, 4.2, 3.7, null, null, null, 4.3, 3.7, 4.4, 4.3, 4.3, 4.4, 4.4, 4.4, 3.9, 4.0, 4.4, 4.3, 4.4, 3.9, 4.5, 3.7, 3.6, 4.0, 3.9, 4.1, 3.7, 4.4, 4.0, 3.9, 3.9, 4.1, 4.1, 4.2, 4.2, 4.5, 3.9, 4.3, 4.3, 4.3, 4.3, 4.4, 3.7, 4.3, 4.0, 4.2, 4.3, 3.7, 4.0, 3.5, 4.3, 4.2, 4.6, 4.0, 4.1, 4.1, 4.2, 4.1, 4.2, 4.3, 4.3, 4.3, 4.4, 4.3, 4.2, 4.3, 4.2, 4.0, 3.8, 4.3, 4.4, 3.9, 4.2, 4.3, 3.7, 4.2, 4.1, 4.4, 4.6, 4.2, 4.4, 4.0, 4.0, 4.2, 4.3, 4.1, 4.6, 4.3, 3.9, 4.3, 4.3, 3.9, 4.5, 4.4, 4.2, 4.0, 4.0, 4.0, 4.4, 4.4, 4.2, 3.8, 3.9, 3.9, 4.2, 4.1, 4.6, 4.0, 4.3, 4.0, 3.8, 3.7, 4.4, 4.3, 3.7, 4.1, 4.1, 3.6, 4.1, 4.1, 3.6, 4.0, 4.1, 4.2, 4.1, 4.6, 3.6, 4.2, 4.5, 4.0, 4.1, 4.2, 3.8, 3.4, 4.2, 4.1, 4.3, 4.2, 4.6, 3.8, 3.9, 4.1, 3.9, 4.4, 4.1, 4.3, 4.4, 4.6, 4.2, 4.3, 4.1, 4.1, 4.4, 4.3, 4.4, 4.0, 4.3, 4.2, 3.5, 4.0, 4.3, 3.8, 4.0, 4.2, 4.4, 4.4, 3.7, 3.7, 4.0, 4.2, 4.6, 3.6, 3.8, 3.8, 4.2, 3.7, 4.1, 4.4, 4.3, 4.3, 4.2, 3.7, 4.0, 3.9, 4.4, 4.3, 4.3, 4.1, 4.0, 4.3, 3.9, 3.9, 3.9, 4.1, 3.9, 4.2, 3.9, 4.4, 4.3, 4.5, 4.7, 3.8, 3.9, 4.2, 4.0, 4.3, 3.4, 4.1, 3.8, 4.6, 4.3, 3.9, 3.9, 3.7, 4.2, 3.8, 3.5, 3.6, 4.1, 3.5, 4.1, 3.6, 3.7, 4.1, 4.3, 3.6, 4.3, 4.6, 3.6, 4.3, 4.4, 3.5, 3.9, 4.7, 4.7, 3.9, 4.0, 4.4, 3.5, 4.0, 3.9, 4.3, 3.4, 3.9, 3.9, 4.3, 5.0, 5.0, 4.1, 4.1, 4.4, 4.3, 4.2, 4.2, 4.3, 4.1, null, null, 4.2, 3.8, null, 3.8, 4.3, 4.2, 3.9, 4.4, 4.3, 3.9, null, 3.5, 3.5, 4.4, 4.4, 3.9, 4.4, 4.0, 3.9, 3.9, 3.7, 3.4, 4.0, 3.5, 4.0, 4.3, 4.6, 4.3, 4.1, 3.7, 4.3, 4.3, 4.3, 4.1, 4.2, 4.6, 3.4, 4.1, 4.5, 3.5, 3.8, 4.2, 3.6, 3.8, 3.9, 4.2, 3.9, 3.8, 4.5, 4.1, 4.2, 3.5, 4.0, 4.3, 3.7, 4.2, 4.4, 4.1, 4.0, 4.4, 4.0, 4.5, 4.0, 4.4, 4.0, 4.0, 4.0, 4.1, 3.7, 4.0, 4.0, 4.0, 3.8, 3.8, 4.4, 3.8, 4.2, 4.2, 4.3, 3.8, 3.6, 3.6, 4.0, 4.2, 4.4, 4.3, 4.3, 3.0, 4.4, 4.4, 4.3, 4.5, 4.2, 4.2, 4.2, 3.4, 4.5, 4.2, 4.5, 4.3, 4.5, 4.6, 4.3, 4.5, 4.5, 4.2, 3.5, 4.3, 3.7, 4.4, 4.3, 4.2, 3.3, 3.9, 4.1, 4.0, 4.0, 4.0, 4.0, 4.6, 4.0, 4.2, 4.2, 3.7, 3.3, 4.2, 3.5, 4.3, 4.7, 4.7, 4.4, 4.4, 4.5, 4.0, 3.5, 4.5, 3.8, 4.0, 3.8, 3.4, 3.8, 3.4, 3.6, 4.2, 3.6, 3.6, 4.0, 4.5, 4.1, 4.4, 4.3, 3.6, 4.4, 4.4, 3.7, 4.2, 4.5, 4.0, null, 3.8, 4.0, 3.8, 3.5, 3.3, 3.6, 4.5, 4.6, 3.6, 4.3, null, null, null, null, 3.8, 4.1, 4.0, 4.4, 4.4, 4.5, 4.2, 3.8], \"x0\": \" \", \"xaxis\": \"x\", \"y0\": \" \", \"yaxis\": \"y\"}],                        {\"boxmode\": \"group\", \"legend\": {\"tracegroupgap\": 0}, \"margin\": {\"t\": 60}, \"template\": {\"data\": {\"bar\": [{\"error_x\": {\"color\": \"#2a3f5f\"}, \"error_y\": {\"color\": \"#2a3f5f\"}, \"marker\": {\"line\": {\"color\": \"#E5ECF6\", \"width\": 0.5}}, \"type\": \"bar\"}], \"barpolar\": [{\"marker\": {\"line\": {\"color\": \"#E5ECF6\", \"width\": 0.5}}, \"type\": \"barpolar\"}], \"carpet\": [{\"aaxis\": {\"endlinecolor\": \"#2a3f5f\", \"gridcolor\": \"white\", \"linecolor\": \"white\", \"minorgridcolor\": \"white\", \"startlinecolor\": \"#2a3f5f\"}, \"baxis\": {\"endlinecolor\": \"#2a3f5f\", \"gridcolor\": \"white\", \"linecolor\": \"white\", \"minorgridcolor\": \"white\", \"startlinecolor\": \"#2a3f5f\"}, \"type\": \"carpet\"}], \"choropleth\": [{\"colorbar\": {\"outlinewidth\": 0, \"ticks\": \"\"}, \"type\": \"choropleth\"}], \"contour\": [{\"colorbar\": {\"outlinewidth\": 0, \"ticks\": \"\"}, \"colorscale\": [[0.0, \"#0d0887\"], [0.1111111111111111, \"#46039f\"], [0.2222222222222222, \"#7201a8\"], [0.3333333333333333, \"#9c179e\"], [0.4444444444444444, \"#bd3786\"], [0.5555555555555556, \"#d8576b\"], [0.6666666666666666, \"#ed7953\"], [0.7777777777777778, \"#fb9f3a\"], [0.8888888888888888, \"#fdca26\"], [1.0, \"#f0f921\"]], \"type\": \"contour\"}], \"contourcarpet\": [{\"colorbar\": {\"outlinewidth\": 0, \"ticks\": \"\"}, \"type\": \"contourcarpet\"}], \"heatmap\": [{\"colorbar\": {\"outlinewidth\": 0, \"ticks\": \"\"}, \"colorscale\": [[0.0, \"#0d0887\"], [0.1111111111111111, \"#46039f\"], [0.2222222222222222, \"#7201a8\"], [0.3333333333333333, \"#9c179e\"], [0.4444444444444444, \"#bd3786\"], [0.5555555555555556, \"#d8576b\"], [0.6666666666666666, \"#ed7953\"], [0.7777777777777778, \"#fb9f3a\"], [0.8888888888888888, \"#fdca26\"], [1.0, \"#f0f921\"]], \"type\": \"heatmap\"}], \"heatmapgl\": [{\"colorbar\": {\"outlinewidth\": 0, \"ticks\": \"\"}, \"colorscale\": [[0.0, \"#0d0887\"], [0.1111111111111111, \"#46039f\"], [0.2222222222222222, \"#7201a8\"], [0.3333333333333333, \"#9c179e\"], [0.4444444444444444, \"#bd3786\"], [0.5555555555555556, \"#d8576b\"], [0.6666666666666666, \"#ed7953\"], [0.7777777777777778, \"#fb9f3a\"], [0.8888888888888888, \"#fdca26\"], [1.0, \"#f0f921\"]], \"type\": \"heatmapgl\"}], \"histogram\": [{\"marker\": {\"colorbar\": {\"outlinewidth\": 0, \"ticks\": \"\"}}, \"type\": \"histogram\"}], \"histogram2d\": [{\"colorbar\": {\"outlinewidth\": 0, \"ticks\": \"\"}, \"colorscale\": [[0.0, \"#0d0887\"], [0.1111111111111111, \"#46039f\"], [0.2222222222222222, \"#7201a8\"], [0.3333333333333333, \"#9c179e\"], [0.4444444444444444, \"#bd3786\"], [0.5555555555555556, \"#d8576b\"], [0.6666666666666666, \"#ed7953\"], [0.7777777777777778, \"#fb9f3a\"], [0.8888888888888888, \"#fdca26\"], [1.0, \"#f0f921\"]], \"type\": \"histogram2d\"}], \"histogram2dcontour\": [{\"colorbar\": {\"outlinewidth\": 0, \"ticks\": \"\"}, \"colorscale\": [[0.0, \"#0d0887\"], [0.1111111111111111, \"#46039f\"], [0.2222222222222222, \"#7201a8\"], [0.3333333333333333, \"#9c179e\"], [0.4444444444444444, \"#bd3786\"], [0.5555555555555556, \"#d8576b\"], [0.6666666666666666, \"#ed7953\"], [0.7777777777777778, \"#fb9f3a\"], [0.8888888888888888, \"#fdca26\"], [1.0, \"#f0f921\"]], \"type\": \"histogram2dcontour\"}], \"mesh3d\": [{\"colorbar\": {\"outlinewidth\": 0, \"ticks\": \"\"}, \"type\": \"mesh3d\"}], \"parcoords\": [{\"line\": {\"colorbar\": {\"outlinewidth\": 0, \"ticks\": \"\"}}, \"type\": \"parcoords\"}], \"pie\": [{\"automargin\": true, \"type\": \"pie\"}], \"scatter\": [{\"marker\": {\"colorbar\": {\"outlinewidth\": 0, \"ticks\": \"\"}}, \"type\": \"scatter\"}], \"scatter3d\": [{\"line\": {\"colorbar\": {\"outlinewidth\": 0, \"ticks\": \"\"}}, \"marker\": {\"colorbar\": {\"outlinewidth\": 0, \"ticks\": \"\"}}, \"type\": \"scatter3d\"}], \"scattercarpet\": [{\"marker\": {\"colorbar\": {\"outlinewidth\": 0, \"ticks\": \"\"}}, \"type\": \"scattercarpet\"}], \"scattergeo\": [{\"marker\": {\"colorbar\": {\"outlinewidth\": 0, \"ticks\": \"\"}}, \"type\": \"scattergeo\"}], \"scattergl\": [{\"marker\": {\"colorbar\": {\"outlinewidth\": 0, \"ticks\": \"\"}}, \"type\": \"scattergl\"}], \"scattermapbox\": [{\"marker\": {\"colorbar\": {\"outlinewidth\": 0, \"ticks\": \"\"}}, \"type\": \"scattermapbox\"}], \"scatterpolar\": [{\"marker\": {\"colorbar\": {\"outlinewidth\": 0, \"ticks\": \"\"}}, \"type\": \"scatterpolar\"}], \"scatterpolargl\": [{\"marker\": {\"colorbar\": {\"outlinewidth\": 0, \"ticks\": \"\"}}, \"type\": \"scatterpolargl\"}], \"scatterternary\": [{\"marker\": {\"colorbar\": {\"outlinewidth\": 0, \"ticks\": \"\"}}, \"type\": \"scatterternary\"}], \"surface\": [{\"colorbar\": {\"outlinewidth\": 0, \"ticks\": \"\"}, \"colorscale\": [[0.0, \"#0d0887\"], [0.1111111111111111, \"#46039f\"], [0.2222222222222222, \"#7201a8\"], [0.3333333333333333, \"#9c179e\"], [0.4444444444444444, \"#bd3786\"], [0.5555555555555556, \"#d8576b\"], [0.6666666666666666, \"#ed7953\"], [0.7777777777777778, \"#fb9f3a\"], [0.8888888888888888, \"#fdca26\"], [1.0, \"#f0f921\"]], \"type\": \"surface\"}], \"table\": [{\"cells\": {\"fill\": {\"color\": \"#EBF0F8\"}, \"line\": {\"color\": \"white\"}}, \"header\": {\"fill\": {\"color\": \"#C8D4E3\"}, \"line\": {\"color\": \"white\"}}, \"type\": \"table\"}]}, \"layout\": {\"annotationdefaults\": {\"arrowcolor\": \"#2a3f5f\", \"arrowhead\": 0, \"arrowwidth\": 1}, \"autotypenumbers\": \"strict\", \"coloraxis\": {\"colorbar\": {\"outlinewidth\": 0, \"ticks\": \"\"}}, \"colorscale\": {\"diverging\": [[0, \"#8e0152\"], [0.1, \"#c51b7d\"], [0.2, \"#de77ae\"], [0.3, \"#f1b6da\"], [0.4, \"#fde0ef\"], [0.5, \"#f7f7f7\"], [0.6, \"#e6f5d0\"], [0.7, \"#b8e186\"], [0.8, \"#7fbc41\"], [0.9, \"#4d9221\"], [1, \"#276419\"]], \"sequential\": [[0.0, \"#0d0887\"], [0.1111111111111111, \"#46039f\"], [0.2222222222222222, \"#7201a8\"], [0.3333333333333333, \"#9c179e\"], [0.4444444444444444, \"#bd3786\"], [0.5555555555555556, \"#d8576b\"], [0.6666666666666666, \"#ed7953\"], [0.7777777777777778, \"#fb9f3a\"], [0.8888888888888888, \"#fdca26\"], [1.0, \"#f0f921\"]], \"sequentialminus\": [[0.0, \"#0d0887\"], [0.1111111111111111, \"#46039f\"], [0.2222222222222222, \"#7201a8\"], [0.3333333333333333, \"#9c179e\"], [0.4444444444444444, \"#bd3786\"], [0.5555555555555556, \"#d8576b\"], [0.6666666666666666, \"#ed7953\"], [0.7777777777777778, \"#fb9f3a\"], [0.8888888888888888, \"#fdca26\"], [1.0, \"#f0f921\"]]}, \"colorway\": [\"#636efa\", \"#EF553B\", \"#00cc96\", \"#ab63fa\", \"#FFA15A\", \"#19d3f3\", \"#FF6692\", \"#B6E880\", \"#FF97FF\", \"#FECB52\"], \"font\": {\"color\": \"#2a3f5f\"}, \"geo\": {\"bgcolor\": \"white\", \"lakecolor\": \"white\", \"landcolor\": \"#E5ECF6\", \"showlakes\": true, \"showland\": true, \"subunitcolor\": \"white\"}, \"hoverlabel\": {\"align\": \"left\"}, \"hovermode\": \"closest\", \"mapbox\": {\"style\": \"light\"}, \"paper_bgcolor\": \"white\", \"plot_bgcolor\": \"#E5ECF6\", \"polar\": {\"angularaxis\": {\"gridcolor\": \"white\", \"linecolor\": \"white\", \"ticks\": \"\"}, \"bgcolor\": \"#E5ECF6\", \"radialaxis\": {\"gridcolor\": \"white\", \"linecolor\": \"white\", \"ticks\": \"\"}}, \"scene\": {\"xaxis\": {\"backgroundcolor\": \"#E5ECF6\", \"gridcolor\": \"white\", \"gridwidth\": 2, \"linecolor\": \"white\", \"showbackground\": true, \"ticks\": \"\", \"zerolinecolor\": \"white\"}, \"yaxis\": {\"backgroundcolor\": \"#E5ECF6\", \"gridcolor\": \"white\", \"gridwidth\": 2, \"linecolor\": \"white\", \"showbackground\": true, \"ticks\": \"\", \"zerolinecolor\": \"white\"}, \"zaxis\": {\"backgroundcolor\": \"#E5ECF6\", \"gridcolor\": \"white\", \"gridwidth\": 2, \"linecolor\": \"white\", \"showbackground\": true, \"ticks\": \"\", \"zerolinecolor\": \"white\"}}, \"shapedefaults\": {\"line\": {\"color\": \"#2a3f5f\"}}, \"ternary\": {\"aaxis\": {\"gridcolor\": \"white\", \"linecolor\": \"white\", \"ticks\": \"\"}, \"baxis\": {\"gridcolor\": \"white\", \"linecolor\": \"white\", \"ticks\": \"\"}, \"bgcolor\": \"#E5ECF6\", \"caxis\": {\"gridcolor\": \"white\", \"linecolor\": \"white\", \"ticks\": \"\"}}, \"title\": {\"x\": 0.05}, \"xaxis\": {\"automargin\": true, \"gridcolor\": \"white\", \"linecolor\": \"white\", \"ticks\": \"\", \"title\": {\"standoff\": 15}, \"zerolinecolor\": \"white\", \"zerolinewidth\": 2}, \"yaxis\": {\"automargin\": true, \"gridcolor\": \"white\", \"linecolor\": \"white\", \"ticks\": \"\", \"title\": {\"standoff\": 15}, \"zerolinecolor\": \"white\", \"zerolinewidth\": 2}}}, \"xaxis\": {\"anchor\": \"y\", \"domain\": [0.0, 1.0], \"title\": {\"text\": \"x\"}}, \"yaxis\": {\"anchor\": \"x\", \"domain\": [0.0, 1.0]}},                        {\"responsive\": true}                    ).then(function(){\n",
       "                            \n",
       "var gd = document.getElementById('0157f9c3-88ff-4a1d-b558-78198e93a8a1');\n",
       "var x = new MutationObserver(function (mutations, observer) {{\n",
       "        var display = window.getComputedStyle(gd).display;\n",
       "        if (!display || display === 'none') {{\n",
       "            console.log([gd, 'removed!']);\n",
       "            Plotly.purge(gd);\n",
       "            observer.disconnect();\n",
       "        }}\n",
       "}});\n",
       "\n",
       "// Listen for the removal of the full notebook cells\n",
       "var notebookContainer = gd.closest('#notebook-container');\n",
       "if (notebookContainer) {{\n",
       "    x.observe(notebookContainer, {childList: true});\n",
       "}}\n",
       "\n",
       "// Listen for the clearing of the current output cell\n",
       "var outputEl = gd.closest('.output');\n",
       "if (outputEl) {{\n",
       "    x.observe(outputEl, {childList: true});\n",
       "}}\n",
       "\n",
       "                        })                };                });            </script>        </div>"
      ]
     },
     "metadata": {},
     "output_type": "display_data"
    }
   ],
   "source": [
    "px.box(x=data['Ratings'])"
   ]
  },
  {
   "cell_type": "code",
   "execution_count": 626,
   "id": "8bed06c6",
   "metadata": {},
   "outputs": [
    {
     "data": {
      "application/vnd.plotly.v1+json": {
       "config": {
        "plotlyServerURL": "https://plot.ly"
       },
       "data": [
        {
         "alignmentgroup": "True",
         "hovertemplate": "x=%{x}<extra></extra>",
         "legendgroup": "",
         "marker": {
          "color": "#636efa"
         },
         "name": "",
         "notched": false,
         "offsetgroup": "",
         "orientation": "h",
         "showlegend": false,
         "type": "box",
         "x": [
          18,
          18,
          15,
          15,
          19,
          20,
          19,
          25,
          20,
          18,
          20,
          24,
          24,
          24,
          24,
          26,
          20,
          31,
          29,
          23,
          27,
          31,
          27,
          null,
          27,
          23,
          31,
          9,
          20,
          30,
          10,
          12,
          12,
          21,
          30,
          12,
          12,
          20,
          25,
          33,
          18,
          18,
          15,
          15,
          20,
          19,
          20,
          20,
          18,
          19,
          25,
          24,
          24,
          24,
          24,
          26,
          20,
          31,
          23,
          27,
          29,
          27,
          27,
          null,
          31,
          25,
          30,
          20,
          20,
          21,
          10,
          12,
          12,
          9,
          12,
          12,
          25,
          33,
          25,
          25,
          25,
          25,
          26,
          18,
          21,
          16,
          18,
          19,
          18,
          20,
          30,
          null,
          25,
          25,
          null,
          null,
          null,
          15,
          21,
          11,
          10,
          22,
          26,
          20,
          25,
          20,
          null,
          null,
          25,
          13,
          2,
          17,
          19,
          11,
          10,
          15,
          21,
          18,
          21,
          15,
          17,
          20,
          23,
          16,
          16,
          23,
          14,
          null,
          25,
          2,
          26,
          null,
          25,
          25,
          null,
          27,
          16,
          25,
          null,
          14,
          14,
          16,
          30,
          25,
          15,
          17,
          9,
          8,
          21,
          null,
          26,
          20,
          27,
          27,
          23,
          9,
          23,
          11,
          11,
          27,
          35,
          14,
          14,
          14,
          14,
          17,
          15,
          21,
          4,
          17,
          20,
          20,
          null,
          14,
          21,
          23,
          26,
          17,
          23,
          9,
          null,
          null,
          18,
          null,
          23,
          null,
          null,
          null,
          19,
          18,
          17,
          19,
          16,
          20,
          18,
          null,
          1,
          18,
          null,
          null,
          1,
          18,
          16,
          16,
          16,
          23,
          21,
          13,
          4,
          27,
          21,
          43,
          9,
          8,
          23,
          23,
          23,
          null,
          27,
          2,
          18,
          22,
          18,
          26,
          25,
          14,
          10,
          21,
          21,
          20,
          1,
          25,
          1,
          null,
          20,
          18,
          25,
          13,
          13,
          21,
          null,
          14,
          null,
          1,
          16,
          25,
          19,
          21,
          13,
          23,
          null,
          25,
          20,
          18,
          17,
          12,
          21,
          8,
          13,
          null,
          null,
          null,
          14,
          10,
          10,
          14,
          30,
          10,
          18,
          2,
          30,
          30,
          null,
          16,
          16,
          14,
          30,
          10,
          10,
          12,
          12,
          null,
          18,
          null,
          14,
          19,
          13,
          30,
          null,
          3,
          23,
          30,
          30,
          30,
          23,
          null,
          null,
          2,
          8,
          8,
          null,
          23,
          1,
          9,
          13,
          3,
          14,
          14,
          null,
          25,
          1,
          null,
          12,
          10,
          null,
          21,
          23,
          null,
          21,
          10,
          11,
          18,
          14,
          14,
          11,
          33,
          null,
          null,
          5,
          30,
          30,
          21,
          30,
          15,
          null,
          8,
          null,
          null,
          12,
          null,
          null,
          23,
          38,
          20,
          11,
          29,
          19,
          12,
          19,
          null,
          9,
          22,
          4,
          null,
          null,
          null,
          null,
          25,
          7,
          3,
          4,
          18,
          8,
          11,
          20,
          19,
          9,
          null,
          1,
          14,
          23,
          22,
          8,
          19,
          19,
          null,
          6,
          null,
          13,
          null,
          7,
          null,
          null,
          null,
          null,
          null,
          null,
          3,
          23,
          8,
          null,
          null,
          null,
          8,
          9,
          9,
          13,
          10,
          null,
          null,
          19,
          23,
          4,
          6,
          null,
          13,
          null,
          null,
          null,
          null,
          15,
          null,
          3,
          23,
          8,
          30,
          null,
          null,
          null,
          8,
          9,
          9,
          13,
          17,
          null,
          11,
          3,
          null,
          3,
          null,
          9,
          20,
          null,
          8,
          null,
          null,
          21,
          null,
          null,
          4,
          null,
          1,
          null,
          10,
          5,
          null,
          22,
          15,
          29,
          6,
          5,
          22,
          null,
          null,
          22,
          null,
          null,
          22,
          null,
          39,
          26,
          25,
          null,
          null,
          null,
          null,
          null,
          null,
          4,
          3,
          1,
          3,
          10,
          9,
          22,
          21,
          null,
          35,
          null,
          3,
          21,
          null,
          null,
          null,
          null,
          14,
          19,
          22,
          null,
          null,
          26,
          9,
          10,
          null,
          null,
          22,
          null,
          14,
          null,
          null,
          null,
          null,
          14,
          5,
          null,
          1,
          23,
          null,
          17,
          25,
          null,
          null,
          null,
          15,
          null,
          17,
          null,
          null,
          19,
          6,
          4,
          9,
          3,
          null,
          null,
          null,
          null,
          null,
          null,
          21,
          17,
          17,
          10,
          9,
          25,
          11,
          null,
          null,
          null,
          null,
          1,
          22,
          13,
          null,
          null,
          4,
          13,
          null,
          5,
          2,
          6,
          null,
          2,
          9,
          null,
          null,
          14,
          null,
          25,
          22,
          10,
          null,
          null,
          6,
          12,
          null,
          10,
          null,
          null,
          null,
          4,
          15,
          21,
          2,
          null,
          null,
          null,
          2,
          null,
          13,
          23,
          16,
          16,
          2,
          23,
          7,
          9,
          1,
          11,
          7,
          null,
          null,
          null,
          null,
          null,
          null,
          8,
          null,
          4,
          16,
          6,
          3,
          null,
          2,
          null,
          22,
          null,
          16,
          26,
          null,
          25,
          null,
          22,
          5,
          10,
          1,
          null,
          13,
          4,
          7,
          7,
          19,
          null,
          null,
          null,
          4,
          6,
          16,
          3,
          null,
          null,
          null,
          null,
          16,
          1,
          13,
          null,
          6,
          null,
          2,
          9,
          null,
          null,
          null,
          null,
          13,
          2,
          null,
          3,
          11,
          null,
          null,
          21,
          null,
          null,
          13,
          null,
          22,
          null,
          7,
          null,
          null,
          22,
          11,
          9,
          null,
          null,
          null,
          2,
          null,
          null,
          null,
          34,
          22,
          null,
          16,
          null,
          null,
          8,
          null,
          null,
          27,
          4,
          null,
          6,
          9,
          11,
          null,
          null,
          null,
          null,
          3,
          null,
          null,
          null,
          null,
          null,
          22,
          null,
          19,
          25,
          3,
          null,
          6,
          null,
          null,
          null,
          null,
          null,
          null,
          null,
          null,
          14,
          null,
          null,
          null,
          null,
          null,
          16,
          null,
          11,
          null,
          null,
          null,
          null,
          null,
          null,
          12,
          null,
          null,
          7,
          null,
          null,
          null,
          6,
          6,
          null,
          null,
          13,
          null,
          null,
          null,
          null,
          null,
          null,
          19,
          null,
          17,
          3,
          null,
          null,
          null,
          null,
          7,
          5,
          null,
          7,
          null,
          null,
          null,
          null,
          null,
          15,
          42,
          null,
          null,
          19,
          null,
          null,
          null,
          null,
          11,
          25,
          19,
          7,
          null,
          22,
          21,
          21,
          null,
          19,
          21,
          null,
          null,
          19,
          null,
          null,
          null,
          null,
          null,
          null,
          null,
          null,
          null,
          null,
          null,
          8,
          null,
          null,
          6,
          null,
          null,
          null,
          21,
          null,
          2,
          null,
          null,
          3,
          26,
          27,
          null,
          22,
          null,
          7,
          null,
          null,
          null,
          null,
          null,
          20,
          null,
          6,
          null,
          18,
          null,
          null,
          2,
          null,
          null,
          null,
          8,
          20,
          null,
          2,
          null,
          null,
          null,
          22,
          null,
          2,
          null,
          22,
          null,
          null,
          null,
          7,
          null,
          6,
          null,
          null,
          null,
          null,
          11,
          2,
          2,
          null,
          null,
          null,
          null,
          null,
          null,
          7,
          null,
          null,
          5,
          null,
          null,
          null,
          20,
          2,
          11,
          null,
          null,
          null,
          null,
          7,
          null,
          null,
          2,
          6,
          null,
          null,
          null,
          null,
          null,
          33,
          null,
          null,
          30,
          null,
          null,
          null,
          null,
          null,
          null,
          null,
          null,
          2,
          null,
          35,
          6,
          null,
          null,
          7,
          null,
          25,
          5,
          null,
          null,
          null,
          null,
          null,
          null,
          null,
          null,
          null,
          7,
          null,
          null,
          7,
          null,
          26,
          null,
          null,
          1,
          2,
          null,
          7,
          20,
          null,
          9,
          5,
          null,
          null,
          null,
          6,
          null,
          18,
          null,
          null,
          null,
          null,
          10,
          null,
          2,
          null,
          27,
          null,
          7,
          null,
          null,
          null,
          null,
          null,
          9,
          10,
          null,
          null,
          null
         ],
         "x0": " ",
         "xaxis": "x",
         "y0": " ",
         "yaxis": "y"
        }
       ],
       "layout": {
        "boxmode": "group",
        "legend": {
         "tracegroupgap": 0
        },
        "margin": {
         "t": 60
        },
        "template": {
         "data": {
          "bar": [
           {
            "error_x": {
             "color": "#2a3f5f"
            },
            "error_y": {
             "color": "#2a3f5f"
            },
            "marker": {
             "line": {
              "color": "#E5ECF6",
              "width": 0.5
             }
            },
            "type": "bar"
           }
          ],
          "barpolar": [
           {
            "marker": {
             "line": {
              "color": "#E5ECF6",
              "width": 0.5
             }
            },
            "type": "barpolar"
           }
          ],
          "carpet": [
           {
            "aaxis": {
             "endlinecolor": "#2a3f5f",
             "gridcolor": "white",
             "linecolor": "white",
             "minorgridcolor": "white",
             "startlinecolor": "#2a3f5f"
            },
            "baxis": {
             "endlinecolor": "#2a3f5f",
             "gridcolor": "white",
             "linecolor": "white",
             "minorgridcolor": "white",
             "startlinecolor": "#2a3f5f"
            },
            "type": "carpet"
           }
          ],
          "choropleth": [
           {
            "colorbar": {
             "outlinewidth": 0,
             "ticks": ""
            },
            "type": "choropleth"
           }
          ],
          "contour": [
           {
            "colorbar": {
             "outlinewidth": 0,
             "ticks": ""
            },
            "colorscale": [
             [
              0,
              "#0d0887"
             ],
             [
              0.1111111111111111,
              "#46039f"
             ],
             [
              0.2222222222222222,
              "#7201a8"
             ],
             [
              0.3333333333333333,
              "#9c179e"
             ],
             [
              0.4444444444444444,
              "#bd3786"
             ],
             [
              0.5555555555555556,
              "#d8576b"
             ],
             [
              0.6666666666666666,
              "#ed7953"
             ],
             [
              0.7777777777777778,
              "#fb9f3a"
             ],
             [
              0.8888888888888888,
              "#fdca26"
             ],
             [
              1,
              "#f0f921"
             ]
            ],
            "type": "contour"
           }
          ],
          "contourcarpet": [
           {
            "colorbar": {
             "outlinewidth": 0,
             "ticks": ""
            },
            "type": "contourcarpet"
           }
          ],
          "heatmap": [
           {
            "colorbar": {
             "outlinewidth": 0,
             "ticks": ""
            },
            "colorscale": [
             [
              0,
              "#0d0887"
             ],
             [
              0.1111111111111111,
              "#46039f"
             ],
             [
              0.2222222222222222,
              "#7201a8"
             ],
             [
              0.3333333333333333,
              "#9c179e"
             ],
             [
              0.4444444444444444,
              "#bd3786"
             ],
             [
              0.5555555555555556,
              "#d8576b"
             ],
             [
              0.6666666666666666,
              "#ed7953"
             ],
             [
              0.7777777777777778,
              "#fb9f3a"
             ],
             [
              0.8888888888888888,
              "#fdca26"
             ],
             [
              1,
              "#f0f921"
             ]
            ],
            "type": "heatmap"
           }
          ],
          "heatmapgl": [
           {
            "colorbar": {
             "outlinewidth": 0,
             "ticks": ""
            },
            "colorscale": [
             [
              0,
              "#0d0887"
             ],
             [
              0.1111111111111111,
              "#46039f"
             ],
             [
              0.2222222222222222,
              "#7201a8"
             ],
             [
              0.3333333333333333,
              "#9c179e"
             ],
             [
              0.4444444444444444,
              "#bd3786"
             ],
             [
              0.5555555555555556,
              "#d8576b"
             ],
             [
              0.6666666666666666,
              "#ed7953"
             ],
             [
              0.7777777777777778,
              "#fb9f3a"
             ],
             [
              0.8888888888888888,
              "#fdca26"
             ],
             [
              1,
              "#f0f921"
             ]
            ],
            "type": "heatmapgl"
           }
          ],
          "histogram": [
           {
            "marker": {
             "colorbar": {
              "outlinewidth": 0,
              "ticks": ""
             }
            },
            "type": "histogram"
           }
          ],
          "histogram2d": [
           {
            "colorbar": {
             "outlinewidth": 0,
             "ticks": ""
            },
            "colorscale": [
             [
              0,
              "#0d0887"
             ],
             [
              0.1111111111111111,
              "#46039f"
             ],
             [
              0.2222222222222222,
              "#7201a8"
             ],
             [
              0.3333333333333333,
              "#9c179e"
             ],
             [
              0.4444444444444444,
              "#bd3786"
             ],
             [
              0.5555555555555556,
              "#d8576b"
             ],
             [
              0.6666666666666666,
              "#ed7953"
             ],
             [
              0.7777777777777778,
              "#fb9f3a"
             ],
             [
              0.8888888888888888,
              "#fdca26"
             ],
             [
              1,
              "#f0f921"
             ]
            ],
            "type": "histogram2d"
           }
          ],
          "histogram2dcontour": [
           {
            "colorbar": {
             "outlinewidth": 0,
             "ticks": ""
            },
            "colorscale": [
             [
              0,
              "#0d0887"
             ],
             [
              0.1111111111111111,
              "#46039f"
             ],
             [
              0.2222222222222222,
              "#7201a8"
             ],
             [
              0.3333333333333333,
              "#9c179e"
             ],
             [
              0.4444444444444444,
              "#bd3786"
             ],
             [
              0.5555555555555556,
              "#d8576b"
             ],
             [
              0.6666666666666666,
              "#ed7953"
             ],
             [
              0.7777777777777778,
              "#fb9f3a"
             ],
             [
              0.8888888888888888,
              "#fdca26"
             ],
             [
              1,
              "#f0f921"
             ]
            ],
            "type": "histogram2dcontour"
           }
          ],
          "mesh3d": [
           {
            "colorbar": {
             "outlinewidth": 0,
             "ticks": ""
            },
            "type": "mesh3d"
           }
          ],
          "parcoords": [
           {
            "line": {
             "colorbar": {
              "outlinewidth": 0,
              "ticks": ""
             }
            },
            "type": "parcoords"
           }
          ],
          "pie": [
           {
            "automargin": true,
            "type": "pie"
           }
          ],
          "scatter": [
           {
            "marker": {
             "colorbar": {
              "outlinewidth": 0,
              "ticks": ""
             }
            },
            "type": "scatter"
           }
          ],
          "scatter3d": [
           {
            "line": {
             "colorbar": {
              "outlinewidth": 0,
              "ticks": ""
             }
            },
            "marker": {
             "colorbar": {
              "outlinewidth": 0,
              "ticks": ""
             }
            },
            "type": "scatter3d"
           }
          ],
          "scattercarpet": [
           {
            "marker": {
             "colorbar": {
              "outlinewidth": 0,
              "ticks": ""
             }
            },
            "type": "scattercarpet"
           }
          ],
          "scattergeo": [
           {
            "marker": {
             "colorbar": {
              "outlinewidth": 0,
              "ticks": ""
             }
            },
            "type": "scattergeo"
           }
          ],
          "scattergl": [
           {
            "marker": {
             "colorbar": {
              "outlinewidth": 0,
              "ticks": ""
             }
            },
            "type": "scattergl"
           }
          ],
          "scattermapbox": [
           {
            "marker": {
             "colorbar": {
              "outlinewidth": 0,
              "ticks": ""
             }
            },
            "type": "scattermapbox"
           }
          ],
          "scatterpolar": [
           {
            "marker": {
             "colorbar": {
              "outlinewidth": 0,
              "ticks": ""
             }
            },
            "type": "scatterpolar"
           }
          ],
          "scatterpolargl": [
           {
            "marker": {
             "colorbar": {
              "outlinewidth": 0,
              "ticks": ""
             }
            },
            "type": "scatterpolargl"
           }
          ],
          "scatterternary": [
           {
            "marker": {
             "colorbar": {
              "outlinewidth": 0,
              "ticks": ""
             }
            },
            "type": "scatterternary"
           }
          ],
          "surface": [
           {
            "colorbar": {
             "outlinewidth": 0,
             "ticks": ""
            },
            "colorscale": [
             [
              0,
              "#0d0887"
             ],
             [
              0.1111111111111111,
              "#46039f"
             ],
             [
              0.2222222222222222,
              "#7201a8"
             ],
             [
              0.3333333333333333,
              "#9c179e"
             ],
             [
              0.4444444444444444,
              "#bd3786"
             ],
             [
              0.5555555555555556,
              "#d8576b"
             ],
             [
              0.6666666666666666,
              "#ed7953"
             ],
             [
              0.7777777777777778,
              "#fb9f3a"
             ],
             [
              0.8888888888888888,
              "#fdca26"
             ],
             [
              1,
              "#f0f921"
             ]
            ],
            "type": "surface"
           }
          ],
          "table": [
           {
            "cells": {
             "fill": {
              "color": "#EBF0F8"
             },
             "line": {
              "color": "white"
             }
            },
            "header": {
             "fill": {
              "color": "#C8D4E3"
             },
             "line": {
              "color": "white"
             }
            },
            "type": "table"
           }
          ]
         },
         "layout": {
          "annotationdefaults": {
           "arrowcolor": "#2a3f5f",
           "arrowhead": 0,
           "arrowwidth": 1
          },
          "autotypenumbers": "strict",
          "coloraxis": {
           "colorbar": {
            "outlinewidth": 0,
            "ticks": ""
           }
          },
          "colorscale": {
           "diverging": [
            [
             0,
             "#8e0152"
            ],
            [
             0.1,
             "#c51b7d"
            ],
            [
             0.2,
             "#de77ae"
            ],
            [
             0.3,
             "#f1b6da"
            ],
            [
             0.4,
             "#fde0ef"
            ],
            [
             0.5,
             "#f7f7f7"
            ],
            [
             0.6,
             "#e6f5d0"
            ],
            [
             0.7,
             "#b8e186"
            ],
            [
             0.8,
             "#7fbc41"
            ],
            [
             0.9,
             "#4d9221"
            ],
            [
             1,
             "#276419"
            ]
           ],
           "sequential": [
            [
             0,
             "#0d0887"
            ],
            [
             0.1111111111111111,
             "#46039f"
            ],
            [
             0.2222222222222222,
             "#7201a8"
            ],
            [
             0.3333333333333333,
             "#9c179e"
            ],
            [
             0.4444444444444444,
             "#bd3786"
            ],
            [
             0.5555555555555556,
             "#d8576b"
            ],
            [
             0.6666666666666666,
             "#ed7953"
            ],
            [
             0.7777777777777778,
             "#fb9f3a"
            ],
            [
             0.8888888888888888,
             "#fdca26"
            ],
            [
             1,
             "#f0f921"
            ]
           ],
           "sequentialminus": [
            [
             0,
             "#0d0887"
            ],
            [
             0.1111111111111111,
             "#46039f"
            ],
            [
             0.2222222222222222,
             "#7201a8"
            ],
            [
             0.3333333333333333,
             "#9c179e"
            ],
            [
             0.4444444444444444,
             "#bd3786"
            ],
            [
             0.5555555555555556,
             "#d8576b"
            ],
            [
             0.6666666666666666,
             "#ed7953"
            ],
            [
             0.7777777777777778,
             "#fb9f3a"
            ],
            [
             0.8888888888888888,
             "#fdca26"
            ],
            [
             1,
             "#f0f921"
            ]
           ]
          },
          "colorway": [
           "#636efa",
           "#EF553B",
           "#00cc96",
           "#ab63fa",
           "#FFA15A",
           "#19d3f3",
           "#FF6692",
           "#B6E880",
           "#FF97FF",
           "#FECB52"
          ],
          "font": {
           "color": "#2a3f5f"
          },
          "geo": {
           "bgcolor": "white",
           "lakecolor": "white",
           "landcolor": "#E5ECF6",
           "showlakes": true,
           "showland": true,
           "subunitcolor": "white"
          },
          "hoverlabel": {
           "align": "left"
          },
          "hovermode": "closest",
          "mapbox": {
           "style": "light"
          },
          "paper_bgcolor": "white",
          "plot_bgcolor": "#E5ECF6",
          "polar": {
           "angularaxis": {
            "gridcolor": "white",
            "linecolor": "white",
            "ticks": ""
           },
           "bgcolor": "#E5ECF6",
           "radialaxis": {
            "gridcolor": "white",
            "linecolor": "white",
            "ticks": ""
           }
          },
          "scene": {
           "xaxis": {
            "backgroundcolor": "#E5ECF6",
            "gridcolor": "white",
            "gridwidth": 2,
            "linecolor": "white",
            "showbackground": true,
            "ticks": "",
            "zerolinecolor": "white"
           },
           "yaxis": {
            "backgroundcolor": "#E5ECF6",
            "gridcolor": "white",
            "gridwidth": 2,
            "linecolor": "white",
            "showbackground": true,
            "ticks": "",
            "zerolinecolor": "white"
           },
           "zaxis": {
            "backgroundcolor": "#E5ECF6",
            "gridcolor": "white",
            "gridwidth": 2,
            "linecolor": "white",
            "showbackground": true,
            "ticks": "",
            "zerolinecolor": "white"
           }
          },
          "shapedefaults": {
           "line": {
            "color": "#2a3f5f"
           }
          },
          "ternary": {
           "aaxis": {
            "gridcolor": "white",
            "linecolor": "white",
            "ticks": ""
           },
           "baxis": {
            "gridcolor": "white",
            "linecolor": "white",
            "ticks": ""
           },
           "bgcolor": "#E5ECF6",
           "caxis": {
            "gridcolor": "white",
            "linecolor": "white",
            "ticks": ""
           }
          },
          "title": {
           "x": 0.05
          },
          "xaxis": {
           "automargin": true,
           "gridcolor": "white",
           "linecolor": "white",
           "ticks": "",
           "title": {
            "standoff": 15
           },
           "zerolinecolor": "white",
           "zerolinewidth": 2
          },
          "yaxis": {
           "automargin": true,
           "gridcolor": "white",
           "linecolor": "white",
           "ticks": "",
           "title": {
            "standoff": 15
           },
           "zerolinecolor": "white",
           "zerolinewidth": 2
          }
         }
        },
        "xaxis": {
         "anchor": "y",
         "domain": [
          0,
          1
         ],
         "title": {
          "text": "x"
         }
        },
        "yaxis": {
         "anchor": "x",
         "domain": [
          0,
          1
         ]
        }
       }
      },
      "text/html": [
       "<div>                            <div id=\"2e576287-4a86-4452-b404-c71e75e28d2e\" class=\"plotly-graph-div\" style=\"height:525px; width:100%;\"></div>            <script type=\"text/javascript\">                require([\"plotly\"], function(Plotly) {                    window.PLOTLYENV=window.PLOTLYENV || {};                                    if (document.getElementById(\"2e576287-4a86-4452-b404-c71e75e28d2e\")) {                    Plotly.newPlot(                        \"2e576287-4a86-4452-b404-c71e75e28d2e\",                        [{\"alignmentgroup\": \"True\", \"hovertemplate\": \"x=%{x}<extra></extra>\", \"legendgroup\": \"\", \"marker\": {\"color\": \"#636efa\"}, \"name\": \"\", \"notched\": false, \"offsetgroup\": \"\", \"orientation\": \"h\", \"showlegend\": false, \"type\": \"box\", \"x\": [18.0, 18.0, 15.0, 15.0, 19.0, 20.0, 19.0, 25.0, 20.0, 18.0, 20.0, 24.0, 24.0, 24.0, 24.0, 26.0, 20.0, 31.0, 29.0, 23.0, 27.0, 31.0, 27.0, null, 27.0, 23.0, 31.0, 9.0, 20.0, 30.0, 10.0, 12.0, 12.0, 21.0, 30.0, 12.0, 12.0, 20.0, 25.0, 33.0, 18.0, 18.0, 15.0, 15.0, 20.0, 19.0, 20.0, 20.0, 18.0, 19.0, 25.0, 24.0, 24.0, 24.0, 24.0, 26.0, 20.0, 31.0, 23.0, 27.0, 29.0, 27.0, 27.0, null, 31.0, 25.0, 30.0, 20.0, 20.0, 21.0, 10.0, 12.0, 12.0, 9.0, 12.0, 12.0, 25.0, 33.0, 25.0, 25.0, 25.0, 25.0, 26.0, 18.0, 21.0, 16.0, 18.0, 19.0, 18.0, 20.0, 30.0, null, 25.0, 25.0, null, null, null, 15.0, 21.0, 11.0, 10.0, 22.0, 26.0, 20.0, 25.0, 20.0, null, null, 25.0, 13.0, 2.0, 17.0, 19.0, 11.0, 10.0, 15.0, 21.0, 18.0, 21.0, 15.0, 17.0, 20.0, 23.0, 16.0, 16.0, 23.0, 14.0, null, 25.0, 2.0, 26.0, null, 25.0, 25.0, null, 27.0, 16.0, 25.0, null, 14.0, 14.0, 16.0, 30.0, 25.0, 15.0, 17.0, 9.0, 8.0, 21.0, null, 26.0, 20.0, 27.0, 27.0, 23.0, 9.0, 23.0, 11.0, 11.0, 27.0, 35.0, 14.0, 14.0, 14.0, 14.0, 17.0, 15.0, 21.0, 4.0, 17.0, 20.0, 20.0, null, 14.0, 21.0, 23.0, 26.0, 17.0, 23.0, 9.0, null, null, 18.0, null, 23.0, null, null, null, 19.0, 18.0, 17.0, 19.0, 16.0, 20.0, 18.0, null, 1.0, 18.0, null, null, 1.0, 18.0, 16.0, 16.0, 16.0, 23.0, 21.0, 13.0, 4.0, 27.0, 21.0, 43.0, 9.0, 8.0, 23.0, 23.0, 23.0, null, 27.0, 2.0, 18.0, 22.0, 18.0, 26.0, 25.0, 14.0, 10.0, 21.0, 21.0, 20.0, 1.0, 25.0, 1.0, null, 20.0, 18.0, 25.0, 13.0, 13.0, 21.0, null, 14.0, null, 1.0, 16.0, 25.0, 19.0, 21.0, 13.0, 23.0, null, 25.0, 20.0, 18.0, 17.0, 12.0, 21.0, 8.0, 13.0, null, null, null, 14.0, 10.0, 10.0, 14.0, 30.0, 10.0, 18.0, 2.0, 30.0, 30.0, null, 16.0, 16.0, 14.0, 30.0, 10.0, 10.0, 12.0, 12.0, null, 18.0, null, 14.0, 19.0, 13.0, 30.0, null, 3.0, 23.0, 30.0, 30.0, 30.0, 23.0, null, null, 2.0, 8.0, 8.0, null, 23.0, 1.0, 9.0, 13.0, 3.0, 14.0, 14.0, null, 25.0, 1.0, null, 12.0, 10.0, null, 21.0, 23.0, null, 21.0, 10.0, 11.0, 18.0, 14.0, 14.0, 11.0, 33.0, null, null, 5.0, 30.0, 30.0, 21.0, 30.0, 15.0, null, 8.0, null, null, 12.0, null, null, 23.0, 38.0, 20.0, 11.0, 29.0, 19.0, 12.0, 19.0, null, 9.0, 22.0, 4.0, null, null, null, null, 25.0, 7.0, 3.0, 4.0, 18.0, 8.0, 11.0, 20.0, 19.0, 9.0, null, 1.0, 14.0, 23.0, 22.0, 8.0, 19.0, 19.0, null, 6.0, null, 13.0, null, 7.0, null, null, null, null, null, null, 3.0, 23.0, 8.0, null, null, null, 8.0, 9.0, 9.0, 13.0, 10.0, null, null, 19.0, 23.0, 4.0, 6.0, null, 13.0, null, null, null, null, 15.0, null, 3.0, 23.0, 8.0, 30.0, null, null, null, 8.0, 9.0, 9.0, 13.0, 17.0, null, 11.0, 3.0, null, 3.0, null, 9.0, 20.0, null, 8.0, null, null, 21.0, null, null, 4.0, null, 1.0, null, 10.0, 5.0, null, 22.0, 15.0, 29.0, 6.0, 5.0, 22.0, null, null, 22.0, null, null, 22.0, null, 39.0, 26.0, 25.0, null, null, null, null, null, null, 4.0, 3.0, 1.0, 3.0, 10.0, 9.0, 22.0, 21.0, null, 35.0, null, 3.0, 21.0, null, null, null, null, 14.0, 19.0, 22.0, null, null, 26.0, 9.0, 10.0, null, null, 22.0, null, 14.0, null, null, null, null, 14.0, 5.0, null, 1.0, 23.0, null, 17.0, 25.0, null, null, null, 15.0, null, 17.0, null, null, 19.0, 6.0, 4.0, 9.0, 3.0, null, null, null, null, null, null, 21.0, 17.0, 17.0, 10.0, 9.0, 25.0, 11.0, null, null, null, null, 1.0, 22.0, 13.0, null, null, 4.0, 13.0, null, 5.0, 2.0, 6.0, null, 2.0, 9.0, null, null, 14.0, null, 25.0, 22.0, 10.0, null, null, 6.0, 12.0, null, 10.0, null, null, null, 4.0, 15.0, 21.0, 2.0, null, null, null, 2.0, null, 13.0, 23.0, 16.0, 16.0, 2.0, 23.0, 7.0, 9.0, 1.0, 11.0, 7.0, null, null, null, null, null, null, 8.0, null, 4.0, 16.0, 6.0, 3.0, null, 2.0, null, 22.0, null, 16.0, 26.0, null, 25.0, null, 22.0, 5.0, 10.0, 1.0, null, 13.0, 4.0, 7.0, 7.0, 19.0, null, null, null, 4.0, 6.0, 16.0, 3.0, null, null, null, null, 16.0, 1.0, 13.0, null, 6.0, null, 2.0, 9.0, null, null, null, null, 13.0, 2.0, null, 3.0, 11.0, null, null, 21.0, null, null, 13.0, null, 22.0, null, 7.0, null, null, 22.0, 11.0, 9.0, null, null, null, 2.0, null, null, null, 34.0, 22.0, null, 16.0, null, null, 8.0, null, null, 27.0, 4.0, null, 6.0, 9.0, 11.0, null, null, null, null, 3.0, null, null, null, null, null, 22.0, null, 19.0, 25.0, 3.0, null, 6.0, null, null, null, null, null, null, null, null, 14.0, null, null, null, null, null, 16.0, null, 11.0, null, null, null, null, null, null, 12.0, null, null, 7.0, null, null, null, 6.0, 6.0, null, null, 13.0, null, null, null, null, null, null, 19.0, null, 17.0, 3.0, null, null, null, null, 7.0, 5.0, null, 7.0, null, null, null, null, null, 15.0, 42.0, null, null, 19.0, null, null, null, null, 11.0, 25.0, 19.0, 7.0, null, 22.0, 21.0, 21.0, null, 19.0, 21.0, null, null, 19.0, null, null, null, null, null, null, null, null, null, null, null, 8.0, null, null, 6.0, null, null, null, 21.0, null, 2.0, null, null, 3.0, 26.0, 27.0, null, 22.0, null, 7.0, null, null, null, null, null, 20.0, null, 6.0, null, 18.0, null, null, 2.0, null, null, null, 8.0, 20.0, null, 2.0, null, null, null, 22.0, null, 2.0, null, 22.0, null, null, null, 7.0, null, 6.0, null, null, null, null, 11.0, 2.0, 2.0, null, null, null, null, null, null, 7.0, null, null, 5.0, null, null, null, 20.0, 2.0, 11.0, null, null, null, null, 7.0, null, null, 2.0, 6.0, null, null, null, null, null, 33.0, null, null, 30.0, null, null, null, null, null, null, null, null, 2.0, null, 35.0, 6.0, null, null, 7.0, null, 25.0, 5.0, null, null, null, null, null, null, null, null, null, 7.0, null, null, 7.0, null, 26.0, null, null, 1.0, 2.0, null, 7.0, 20.0, null, 9.0, 5.0, null, null, null, 6.0, null, 18.0, null, null, null, null, 10.0, null, 2.0, null, 27.0, null, 7.0, null, null, null, null, null, 9.0, 10.0, null, null, null], \"x0\": \" \", \"xaxis\": \"x\", \"y0\": \" \", \"yaxis\": \"y\"}],                        {\"boxmode\": \"group\", \"legend\": {\"tracegroupgap\": 0}, \"margin\": {\"t\": 60}, \"template\": {\"data\": {\"bar\": [{\"error_x\": {\"color\": \"#2a3f5f\"}, \"error_y\": {\"color\": \"#2a3f5f\"}, \"marker\": {\"line\": {\"color\": \"#E5ECF6\", \"width\": 0.5}}, \"type\": \"bar\"}], \"barpolar\": [{\"marker\": {\"line\": {\"color\": \"#E5ECF6\", \"width\": 0.5}}, \"type\": \"barpolar\"}], \"carpet\": [{\"aaxis\": {\"endlinecolor\": \"#2a3f5f\", \"gridcolor\": \"white\", \"linecolor\": \"white\", \"minorgridcolor\": \"white\", \"startlinecolor\": \"#2a3f5f\"}, \"baxis\": {\"endlinecolor\": \"#2a3f5f\", \"gridcolor\": \"white\", \"linecolor\": \"white\", \"minorgridcolor\": \"white\", \"startlinecolor\": \"#2a3f5f\"}, \"type\": \"carpet\"}], \"choropleth\": [{\"colorbar\": {\"outlinewidth\": 0, \"ticks\": \"\"}, \"type\": \"choropleth\"}], \"contour\": [{\"colorbar\": {\"outlinewidth\": 0, \"ticks\": \"\"}, \"colorscale\": [[0.0, \"#0d0887\"], [0.1111111111111111, \"#46039f\"], [0.2222222222222222, \"#7201a8\"], [0.3333333333333333, \"#9c179e\"], [0.4444444444444444, \"#bd3786\"], [0.5555555555555556, \"#d8576b\"], [0.6666666666666666, \"#ed7953\"], [0.7777777777777778, \"#fb9f3a\"], [0.8888888888888888, \"#fdca26\"], [1.0, \"#f0f921\"]], \"type\": \"contour\"}], \"contourcarpet\": [{\"colorbar\": {\"outlinewidth\": 0, \"ticks\": \"\"}, \"type\": \"contourcarpet\"}], \"heatmap\": [{\"colorbar\": {\"outlinewidth\": 0, \"ticks\": \"\"}, \"colorscale\": [[0.0, \"#0d0887\"], [0.1111111111111111, \"#46039f\"], [0.2222222222222222, \"#7201a8\"], [0.3333333333333333, \"#9c179e\"], [0.4444444444444444, \"#bd3786\"], [0.5555555555555556, \"#d8576b\"], [0.6666666666666666, \"#ed7953\"], [0.7777777777777778, \"#fb9f3a\"], [0.8888888888888888, \"#fdca26\"], [1.0, \"#f0f921\"]], \"type\": \"heatmap\"}], \"heatmapgl\": [{\"colorbar\": {\"outlinewidth\": 0, \"ticks\": \"\"}, \"colorscale\": [[0.0, \"#0d0887\"], [0.1111111111111111, \"#46039f\"], [0.2222222222222222, \"#7201a8\"], [0.3333333333333333, \"#9c179e\"], [0.4444444444444444, \"#bd3786\"], [0.5555555555555556, \"#d8576b\"], [0.6666666666666666, \"#ed7953\"], [0.7777777777777778, \"#fb9f3a\"], [0.8888888888888888, \"#fdca26\"], [1.0, \"#f0f921\"]], \"type\": \"heatmapgl\"}], \"histogram\": [{\"marker\": {\"colorbar\": {\"outlinewidth\": 0, \"ticks\": \"\"}}, \"type\": \"histogram\"}], \"histogram2d\": [{\"colorbar\": {\"outlinewidth\": 0, \"ticks\": \"\"}, \"colorscale\": [[0.0, \"#0d0887\"], [0.1111111111111111, \"#46039f\"], [0.2222222222222222, \"#7201a8\"], [0.3333333333333333, \"#9c179e\"], [0.4444444444444444, \"#bd3786\"], [0.5555555555555556, \"#d8576b\"], [0.6666666666666666, \"#ed7953\"], [0.7777777777777778, \"#fb9f3a\"], [0.8888888888888888, \"#fdca26\"], [1.0, \"#f0f921\"]], \"type\": \"histogram2d\"}], \"histogram2dcontour\": [{\"colorbar\": {\"outlinewidth\": 0, \"ticks\": \"\"}, \"colorscale\": [[0.0, \"#0d0887\"], [0.1111111111111111, \"#46039f\"], [0.2222222222222222, \"#7201a8\"], [0.3333333333333333, \"#9c179e\"], [0.4444444444444444, \"#bd3786\"], [0.5555555555555556, \"#d8576b\"], [0.6666666666666666, \"#ed7953\"], [0.7777777777777778, \"#fb9f3a\"], [0.8888888888888888, \"#fdca26\"], [1.0, \"#f0f921\"]], \"type\": \"histogram2dcontour\"}], \"mesh3d\": [{\"colorbar\": {\"outlinewidth\": 0, \"ticks\": \"\"}, \"type\": \"mesh3d\"}], \"parcoords\": [{\"line\": {\"colorbar\": {\"outlinewidth\": 0, \"ticks\": \"\"}}, \"type\": \"parcoords\"}], \"pie\": [{\"automargin\": true, \"type\": \"pie\"}], \"scatter\": [{\"marker\": {\"colorbar\": {\"outlinewidth\": 0, \"ticks\": \"\"}}, \"type\": \"scatter\"}], \"scatter3d\": [{\"line\": {\"colorbar\": {\"outlinewidth\": 0, \"ticks\": \"\"}}, \"marker\": {\"colorbar\": {\"outlinewidth\": 0, \"ticks\": \"\"}}, \"type\": \"scatter3d\"}], \"scattercarpet\": [{\"marker\": {\"colorbar\": {\"outlinewidth\": 0, \"ticks\": \"\"}}, \"type\": \"scattercarpet\"}], \"scattergeo\": [{\"marker\": {\"colorbar\": {\"outlinewidth\": 0, \"ticks\": \"\"}}, \"type\": \"scattergeo\"}], \"scattergl\": [{\"marker\": {\"colorbar\": {\"outlinewidth\": 0, \"ticks\": \"\"}}, \"type\": \"scattergl\"}], \"scattermapbox\": [{\"marker\": {\"colorbar\": {\"outlinewidth\": 0, \"ticks\": \"\"}}, \"type\": \"scattermapbox\"}], \"scatterpolar\": [{\"marker\": {\"colorbar\": {\"outlinewidth\": 0, \"ticks\": \"\"}}, \"type\": \"scatterpolar\"}], \"scatterpolargl\": [{\"marker\": {\"colorbar\": {\"outlinewidth\": 0, \"ticks\": \"\"}}, \"type\": \"scatterpolargl\"}], \"scatterternary\": [{\"marker\": {\"colorbar\": {\"outlinewidth\": 0, \"ticks\": \"\"}}, \"type\": \"scatterternary\"}], \"surface\": [{\"colorbar\": {\"outlinewidth\": 0, \"ticks\": \"\"}, \"colorscale\": [[0.0, \"#0d0887\"], [0.1111111111111111, \"#46039f\"], [0.2222222222222222, \"#7201a8\"], [0.3333333333333333, \"#9c179e\"], [0.4444444444444444, \"#bd3786\"], [0.5555555555555556, \"#d8576b\"], [0.6666666666666666, \"#ed7953\"], [0.7777777777777778, \"#fb9f3a\"], [0.8888888888888888, \"#fdca26\"], [1.0, \"#f0f921\"]], \"type\": \"surface\"}], \"table\": [{\"cells\": {\"fill\": {\"color\": \"#EBF0F8\"}, \"line\": {\"color\": \"white\"}}, \"header\": {\"fill\": {\"color\": \"#C8D4E3\"}, \"line\": {\"color\": \"white\"}}, \"type\": \"table\"}]}, \"layout\": {\"annotationdefaults\": {\"arrowcolor\": \"#2a3f5f\", \"arrowhead\": 0, \"arrowwidth\": 1}, \"autotypenumbers\": \"strict\", \"coloraxis\": {\"colorbar\": {\"outlinewidth\": 0, \"ticks\": \"\"}}, \"colorscale\": {\"diverging\": [[0, \"#8e0152\"], [0.1, \"#c51b7d\"], [0.2, \"#de77ae\"], [0.3, \"#f1b6da\"], [0.4, \"#fde0ef\"], [0.5, \"#f7f7f7\"], [0.6, \"#e6f5d0\"], [0.7, \"#b8e186\"], [0.8, \"#7fbc41\"], [0.9, \"#4d9221\"], [1, \"#276419\"]], \"sequential\": [[0.0, \"#0d0887\"], [0.1111111111111111, \"#46039f\"], [0.2222222222222222, \"#7201a8\"], [0.3333333333333333, \"#9c179e\"], [0.4444444444444444, \"#bd3786\"], [0.5555555555555556, \"#d8576b\"], [0.6666666666666666, \"#ed7953\"], [0.7777777777777778, \"#fb9f3a\"], [0.8888888888888888, \"#fdca26\"], [1.0, \"#f0f921\"]], \"sequentialminus\": [[0.0, \"#0d0887\"], [0.1111111111111111, \"#46039f\"], [0.2222222222222222, \"#7201a8\"], [0.3333333333333333, \"#9c179e\"], [0.4444444444444444, \"#bd3786\"], [0.5555555555555556, \"#d8576b\"], [0.6666666666666666, \"#ed7953\"], [0.7777777777777778, \"#fb9f3a\"], [0.8888888888888888, \"#fdca26\"], [1.0, \"#f0f921\"]]}, \"colorway\": [\"#636efa\", \"#EF553B\", \"#00cc96\", \"#ab63fa\", \"#FFA15A\", \"#19d3f3\", \"#FF6692\", \"#B6E880\", \"#FF97FF\", \"#FECB52\"], \"font\": {\"color\": \"#2a3f5f\"}, \"geo\": {\"bgcolor\": \"white\", \"lakecolor\": \"white\", \"landcolor\": \"#E5ECF6\", \"showlakes\": true, \"showland\": true, \"subunitcolor\": \"white\"}, \"hoverlabel\": {\"align\": \"left\"}, \"hovermode\": \"closest\", \"mapbox\": {\"style\": \"light\"}, \"paper_bgcolor\": \"white\", \"plot_bgcolor\": \"#E5ECF6\", \"polar\": {\"angularaxis\": {\"gridcolor\": \"white\", \"linecolor\": \"white\", \"ticks\": \"\"}, \"bgcolor\": \"#E5ECF6\", \"radialaxis\": {\"gridcolor\": \"white\", \"linecolor\": \"white\", \"ticks\": \"\"}}, \"scene\": {\"xaxis\": {\"backgroundcolor\": \"#E5ECF6\", \"gridcolor\": \"white\", \"gridwidth\": 2, \"linecolor\": \"white\", \"showbackground\": true, \"ticks\": \"\", \"zerolinecolor\": \"white\"}, \"yaxis\": {\"backgroundcolor\": \"#E5ECF6\", \"gridcolor\": \"white\", \"gridwidth\": 2, \"linecolor\": \"white\", \"showbackground\": true, \"ticks\": \"\", \"zerolinecolor\": \"white\"}, \"zaxis\": {\"backgroundcolor\": \"#E5ECF6\", \"gridcolor\": \"white\", \"gridwidth\": 2, \"linecolor\": \"white\", \"showbackground\": true, \"ticks\": \"\", \"zerolinecolor\": \"white\"}}, \"shapedefaults\": {\"line\": {\"color\": \"#2a3f5f\"}}, \"ternary\": {\"aaxis\": {\"gridcolor\": \"white\", \"linecolor\": \"white\", \"ticks\": \"\"}, \"baxis\": {\"gridcolor\": \"white\", \"linecolor\": \"white\", \"ticks\": \"\"}, \"bgcolor\": \"#E5ECF6\", \"caxis\": {\"gridcolor\": \"white\", \"linecolor\": \"white\", \"ticks\": \"\"}}, \"title\": {\"x\": 0.05}, \"xaxis\": {\"automargin\": true, \"gridcolor\": \"white\", \"linecolor\": \"white\", \"ticks\": \"\", \"title\": {\"standoff\": 15}, \"zerolinecolor\": \"white\", \"zerolinewidth\": 2}, \"yaxis\": {\"automargin\": true, \"gridcolor\": \"white\", \"linecolor\": \"white\", \"ticks\": \"\", \"title\": {\"standoff\": 15}, \"zerolinecolor\": \"white\", \"zerolinewidth\": 2}}}, \"xaxis\": {\"anchor\": \"y\", \"domain\": [0.0, 1.0], \"title\": {\"text\": \"x\"}}, \"yaxis\": {\"anchor\": \"x\", \"domain\": [0.0, 1.0]}},                        {\"responsive\": true}                    ).then(function(){\n",
       "                            \n",
       "var gd = document.getElementById('2e576287-4a86-4452-b404-c71e75e28d2e');\n",
       "var x = new MutationObserver(function (mutations, observer) {{\n",
       "        var display = window.getComputedStyle(gd).display;\n",
       "        if (!display || display === 'none') {{\n",
       "            console.log([gd, 'removed!']);\n",
       "            Plotly.purge(gd);\n",
       "            observer.disconnect();\n",
       "        }}\n",
       "}});\n",
       "\n",
       "// Listen for the removal of the full notebook cells\n",
       "var notebookContainer = gd.closest('#notebook-container');\n",
       "if (notebookContainer) {{\n",
       "    x.observe(notebookContainer, {childList: true});\n",
       "}}\n",
       "\n",
       "// Listen for the clearing of the current output cell\n",
       "var outputEl = gd.closest('.output');\n",
       "if (outputEl) {{\n",
       "    x.observe(outputEl, {childList: true});\n",
       "}}\n",
       "\n",
       "                        })                };                });            </script>        </div>"
      ]
     },
     "metadata": {},
     "output_type": "display_data"
    }
   ],
   "source": [
    "px.box(x=data['Offers on Percentage'])"
   ]
  },
  {
   "cell_type": "code",
   "execution_count": 627,
   "id": "391ea3d0",
   "metadata": {},
   "outputs": [
    {
     "data": {
      "application/vnd.plotly.v1+json": {
       "config": {
        "plotlyServerURL": "https://plot.ly"
       },
       "data": [
        {
         "alignmentgroup": "True",
         "hovertemplate": "x=%{x}<extra></extra>",
         "legendgroup": "",
         "marker": {
          "color": "#636efa"
         },
         "name": "",
         "notched": false,
         "offsetgroup": "",
         "orientation": "h",
         "showlegend": false,
         "type": "box",
         "x": [
          null,
          null,
          6250,
          6250,
          9900,
          7450,
          9900,
          9900,
          7450,
          8350,
          7450,
          6250,
          6250,
          6250,
          6250,
          10450,
          7450,
          4950,
          7950,
          9450,
          7450,
          4950,
          7450,
          null,
          7450,
          9450,
          4950,
          null,
          8950,
          13700,
          15300,
          13300,
          13300,
          10450,
          8350,
          9900,
          9900,
          11200,
          9900,
          7450,
          null,
          null,
          6250,
          6250,
          7450,
          9900,
          7450,
          7450,
          8350,
          9900,
          9900,
          6250,
          6250,
          6250,
          6250,
          10450,
          7450,
          4950,
          9450,
          7450,
          7950,
          7450,
          7450,
          null,
          4950,
          9900,
          13700,
          11200,
          8950,
          10450,
          15300,
          13300,
          13300,
          null,
          9900,
          9900,
          9900,
          7450,
          8350,
          8350,
          8350,
          8350,
          8950,
          5900,
          10450,
          9450,
          5900,
          9900,
          5900,
          15300,
          8350,
          null,
          8350,
          8350,
          null,
          null,
          null,
          null,
          10450,
          14450,
          15300,
          7950,
          10450,
          7450,
          9900,
          11200,
          null,
          null,
          14450,
          8950,
          null,
          null,
          15300,
          14450,
          15300,
          null,
          14450,
          15300,
          14450,
          15300,
          13300,
          8950,
          9450,
          14450,
          14450,
          9450,
          null,
          null,
          9900,
          null,
          8950,
          15300,
          8350,
          8350,
          null,
          12250,
          9450,
          9900,
          null,
          null,
          null,
          9450,
          6450,
          14450,
          15300,
          13300,
          9450,
          10450,
          10450,
          null,
          10450,
          7450,
          7450,
          7450,
          null,
          9450,
          12250,
          14450,
          14450,
          12250,
          5900,
          null,
          null,
          null,
          null,
          13300,
          15300,
          10450,
          null,
          null,
          7450,
          7450,
          null,
          null,
          null,
          12400,
          10450,
          15300,
          9450,
          15300,
          null,
          null,
          15300,
          null,
          9450,
          null,
          null,
          null,
          15300,
          null,
          10750,
          9900,
          15300,
          7450,
          15300,
          null,
          null,
          15300,
          null,
          null,
          null,
          15000,
          4450,
          4450,
          4450,
          12400,
          14200,
          9450,
          null,
          12250,
          6000,
          null,
          9450,
          10450,
          9450,
          9450,
          9450,
          null,
          12250,
          null,
          15800,
          7950,
          15800,
          13400,
          6950,
          null,
          null,
          10450,
          10450,
          15300,
          null,
          9900,
          null,
          null,
          15300,
          15300,
          11200,
          8150,
          null,
          14200,
          null,
          null,
          null,
          null,
          15300,
          6950,
          9900,
          15300,
          8150,
          12250,
          null,
          11200,
          15300,
          15300,
          10750,
          6450,
          null,
          15300,
          8150,
          null,
          null,
          null,
          null,
          null,
          null,
          null,
          8350,
          15300,
          15300,
          null,
          15300,
          15300,
          null,
          6950,
          6950,
          8350,
          15300,
          15300,
          15300,
          6450,
          6450,
          null,
          15300,
          null,
          8350,
          15300,
          null,
          8350,
          null,
          null,
          12250,
          15300,
          15300,
          15300,
          null,
          null,
          null,
          null,
          null,
          null,
          null,
          12250,
          null,
          null,
          null,
          null,
          null,
          null,
          null,
          6950,
          null,
          null,
          null,
          null,
          null,
          15300,
          15300,
          null,
          15300,
          15300,
          null,
          15300,
          null,
          null,
          null,
          9450,
          null,
          null,
          7950,
          10750,
          6450,
          16300,
          10750,
          null,
          null,
          null,
          null,
          null,
          null,
          null,
          null,
          9450,
          null,
          15300,
          5250,
          15300,
          15300,
          9900,
          16300,
          null,
          null,
          13300,
          null,
          null,
          null,
          null,
          null,
          11200,
          null,
          null,
          9900,
          null,
          null,
          14450,
          9450,
          15300,
          15300,
          null,
          null,
          11200,
          9450,
          13300,
          17800,
          15300,
          15300,
          null,
          null,
          null,
          null,
          null,
          15300,
          null,
          null,
          null,
          null,
          null,
          null,
          null,
          12250,
          15300,
          null,
          null,
          null,
          17800,
          17800,
          17800,
          null,
          null,
          null,
          null,
          15300,
          null,
          9900,
          null,
          null,
          null,
          null,
          null,
          null,
          null,
          15300,
          null,
          null,
          12250,
          15300,
          null,
          null,
          null,
          null,
          17800,
          17800,
          17800,
          null,
          15300,
          null,
          5250,
          null,
          null,
          null,
          null,
          17800,
          6200,
          null,
          null,
          null,
          null,
          6000,
          null,
          null,
          null,
          null,
          null,
          null,
          null,
          7950,
          null,
          13300,
          null,
          15300,
          null,
          null,
          15300,
          null,
          null,
          15300,
          null,
          null,
          7950,
          null,
          null,
          13250,
          16300,
          8350,
          null,
          null,
          null,
          null,
          null,
          null,
          null,
          null,
          null,
          15300,
          15300,
          15300,
          14450,
          null,
          null,
          null,
          null,
          14450,
          null,
          null,
          null,
          null,
          13700,
          15300,
          15300,
          null,
          null,
          13250,
          15300,
          15300,
          null,
          null,
          null,
          null,
          6650,
          null,
          null,
          null,
          null,
          6650,
          null,
          null,
          null,
          null,
          null,
          null,
          16300,
          null,
          null,
          null,
          null,
          null,
          15300,
          null,
          null,
          null,
          null,
          null,
          null,
          null,
          null,
          null,
          null,
          null,
          14450,
          null,
          16300,
          10750,
          10750,
          null,
          null,
          10900,
          null,
          null,
          null,
          null,
          null,
          null,
          15300,
          null,
          null,
          null,
          null,
          9450,
          null,
          null,
          null,
          9750,
          null,
          null,
          null,
          null,
          null,
          15300,
          null,
          15300,
          15300,
          null,
          null,
          8350,
          null,
          9900,
          null,
          null,
          null,
          null,
          null,
          null,
          8750,
          10450,
          15300,
          null,
          null,
          null,
          null,
          null,
          9450,
          15300,
          15300,
          15300,
          null,
          15300,
          7750,
          15300,
          null,
          null,
          null,
          null,
          null,
          null,
          null,
          null,
          null,
          7200,
          null,
          9900,
          15300,
          null,
          null,
          null,
          null,
          null,
          15300,
          null,
          15300,
          13250,
          null,
          15300,
          null,
          null,
          15300,
          15300,
          null,
          null,
          null,
          null,
          15300,
          15300,
          15300,
          null,
          null,
          null,
          null,
          null,
          15300,
          null,
          null,
          null,
          null,
          null,
          14450,
          null,
          null,
          null,
          null,
          null,
          null,
          null,
          null,
          null,
          null,
          null,
          null,
          15300,
          null,
          null,
          null,
          null,
          null,
          10450,
          null,
          null,
          9450,
          null,
          7950,
          null,
          null,
          null,
          null,
          null,
          null,
          19300,
          null,
          null,
          12250,
          15300,
          null,
          null,
          null,
          null,
          6450,
          null,
          9450,
          null,
          null,
          7200,
          null,
          null,
          7450,
          null,
          null,
          13300,
          19300,
          18300,
          null,
          null,
          null,
          15300,
          15300,
          null,
          null,
          null,
          null,
          null,
          null,
          null,
          16300,
          16300,
          null,
          null,
          null,
          null,
          15300,
          null,
          null,
          null,
          null,
          null,
          null,
          null,
          null,
          null,
          null,
          null,
          null,
          14450,
          null,
          null,
          null,
          null,
          null,
          null,
          null,
          null,
          null,
          null,
          null,
          null,
          null,
          null,
          null,
          null,
          13300,
          null,
          null,
          null,
          null,
          null,
          null,
          null,
          null,
          null,
          16300,
          null,
          null,
          15300,
          null,
          null,
          null,
          null,
          null,
          null,
          null,
          null,
          null,
          null,
          null,
          null,
          null,
          7950,
          null,
          null,
          null,
          16300,
          null,
          null,
          null,
          3450,
          18300,
          16300,
          15300,
          15300,
          null,
          null,
          10450,
          10450,
          null,
          null,
          10450,
          null,
          null,
          15300,
          null,
          15300,
          null,
          null,
          null,
          null,
          null,
          null,
          null,
          null,
          null,
          null,
          null,
          null,
          null,
          null,
          null,
          null,
          10450,
          null,
          15300,
          null,
          null,
          null,
          10450,
          15300,
          null,
          null,
          null,
          null,
          null,
          null,
          15300,
          null,
          null,
          15300,
          null,
          null,
          null,
          15300,
          null,
          null,
          15300,
          null,
          null,
          null,
          null,
          15300,
          null,
          null,
          null,
          null,
          null,
          6450,
          null,
          15300,
          null,
          6450,
          null,
          null,
          null,
          null,
          null,
          null,
          null,
          null,
          null,
          null,
          18300,
          null,
          null,
          null,
          null,
          null,
          null,
          null,
          null,
          12250,
          null,
          null,
          null,
          null,
          null,
          null,
          15300,
          15300,
          null,
          null,
          null,
          null,
          15300,
          15300,
          null,
          null,
          15300,
          null,
          null,
          null,
          15300,
          null,
          null,
          9450,
          null,
          10450,
          8350,
          null,
          null,
          null,
          null,
          null,
          null,
          null,
          null,
          15300,
          null,
          15300,
          13300,
          null,
          null,
          15300,
          null,
          null,
          null,
          null,
          15300,
          null,
          null,
          null,
          null,
          15300,
          null,
          null,
          null,
          null,
          null,
          null,
          null,
          10450,
          null,
          null,
          null,
          15300,
          null,
          15300,
          7450,
          null,
          15300,
          null,
          null,
          null,
          null,
          null,
          null,
          5900,
          null,
          null,
          null,
          null,
          null,
          15300,
          15300,
          null,
          15300,
          null,
          null,
          null,
          null,
          null,
          null,
          null,
          15300,
          15300,
          15300,
          null,
          null
         ],
         "x0": " ",
         "xaxis": "x",
         "y0": " ",
         "yaxis": "y"
        }
       ],
       "layout": {
        "boxmode": "group",
        "legend": {
         "tracegroupgap": 0
        },
        "margin": {
         "t": 60
        },
        "template": {
         "data": {
          "bar": [
           {
            "error_x": {
             "color": "#2a3f5f"
            },
            "error_y": {
             "color": "#2a3f5f"
            },
            "marker": {
             "line": {
              "color": "#E5ECF6",
              "width": 0.5
             }
            },
            "type": "bar"
           }
          ],
          "barpolar": [
           {
            "marker": {
             "line": {
              "color": "#E5ECF6",
              "width": 0.5
             }
            },
            "type": "barpolar"
           }
          ],
          "carpet": [
           {
            "aaxis": {
             "endlinecolor": "#2a3f5f",
             "gridcolor": "white",
             "linecolor": "white",
             "minorgridcolor": "white",
             "startlinecolor": "#2a3f5f"
            },
            "baxis": {
             "endlinecolor": "#2a3f5f",
             "gridcolor": "white",
             "linecolor": "white",
             "minorgridcolor": "white",
             "startlinecolor": "#2a3f5f"
            },
            "type": "carpet"
           }
          ],
          "choropleth": [
           {
            "colorbar": {
             "outlinewidth": 0,
             "ticks": ""
            },
            "type": "choropleth"
           }
          ],
          "contour": [
           {
            "colorbar": {
             "outlinewidth": 0,
             "ticks": ""
            },
            "colorscale": [
             [
              0,
              "#0d0887"
             ],
             [
              0.1111111111111111,
              "#46039f"
             ],
             [
              0.2222222222222222,
              "#7201a8"
             ],
             [
              0.3333333333333333,
              "#9c179e"
             ],
             [
              0.4444444444444444,
              "#bd3786"
             ],
             [
              0.5555555555555556,
              "#d8576b"
             ],
             [
              0.6666666666666666,
              "#ed7953"
             ],
             [
              0.7777777777777778,
              "#fb9f3a"
             ],
             [
              0.8888888888888888,
              "#fdca26"
             ],
             [
              1,
              "#f0f921"
             ]
            ],
            "type": "contour"
           }
          ],
          "contourcarpet": [
           {
            "colorbar": {
             "outlinewidth": 0,
             "ticks": ""
            },
            "type": "contourcarpet"
           }
          ],
          "heatmap": [
           {
            "colorbar": {
             "outlinewidth": 0,
             "ticks": ""
            },
            "colorscale": [
             [
              0,
              "#0d0887"
             ],
             [
              0.1111111111111111,
              "#46039f"
             ],
             [
              0.2222222222222222,
              "#7201a8"
             ],
             [
              0.3333333333333333,
              "#9c179e"
             ],
             [
              0.4444444444444444,
              "#bd3786"
             ],
             [
              0.5555555555555556,
              "#d8576b"
             ],
             [
              0.6666666666666666,
              "#ed7953"
             ],
             [
              0.7777777777777778,
              "#fb9f3a"
             ],
             [
              0.8888888888888888,
              "#fdca26"
             ],
             [
              1,
              "#f0f921"
             ]
            ],
            "type": "heatmap"
           }
          ],
          "heatmapgl": [
           {
            "colorbar": {
             "outlinewidth": 0,
             "ticks": ""
            },
            "colorscale": [
             [
              0,
              "#0d0887"
             ],
             [
              0.1111111111111111,
              "#46039f"
             ],
             [
              0.2222222222222222,
              "#7201a8"
             ],
             [
              0.3333333333333333,
              "#9c179e"
             ],
             [
              0.4444444444444444,
              "#bd3786"
             ],
             [
              0.5555555555555556,
              "#d8576b"
             ],
             [
              0.6666666666666666,
              "#ed7953"
             ],
             [
              0.7777777777777778,
              "#fb9f3a"
             ],
             [
              0.8888888888888888,
              "#fdca26"
             ],
             [
              1,
              "#f0f921"
             ]
            ],
            "type": "heatmapgl"
           }
          ],
          "histogram": [
           {
            "marker": {
             "colorbar": {
              "outlinewidth": 0,
              "ticks": ""
             }
            },
            "type": "histogram"
           }
          ],
          "histogram2d": [
           {
            "colorbar": {
             "outlinewidth": 0,
             "ticks": ""
            },
            "colorscale": [
             [
              0,
              "#0d0887"
             ],
             [
              0.1111111111111111,
              "#46039f"
             ],
             [
              0.2222222222222222,
              "#7201a8"
             ],
             [
              0.3333333333333333,
              "#9c179e"
             ],
             [
              0.4444444444444444,
              "#bd3786"
             ],
             [
              0.5555555555555556,
              "#d8576b"
             ],
             [
              0.6666666666666666,
              "#ed7953"
             ],
             [
              0.7777777777777778,
              "#fb9f3a"
             ],
             [
              0.8888888888888888,
              "#fdca26"
             ],
             [
              1,
              "#f0f921"
             ]
            ],
            "type": "histogram2d"
           }
          ],
          "histogram2dcontour": [
           {
            "colorbar": {
             "outlinewidth": 0,
             "ticks": ""
            },
            "colorscale": [
             [
              0,
              "#0d0887"
             ],
             [
              0.1111111111111111,
              "#46039f"
             ],
             [
              0.2222222222222222,
              "#7201a8"
             ],
             [
              0.3333333333333333,
              "#9c179e"
             ],
             [
              0.4444444444444444,
              "#bd3786"
             ],
             [
              0.5555555555555556,
              "#d8576b"
             ],
             [
              0.6666666666666666,
              "#ed7953"
             ],
             [
              0.7777777777777778,
              "#fb9f3a"
             ],
             [
              0.8888888888888888,
              "#fdca26"
             ],
             [
              1,
              "#f0f921"
             ]
            ],
            "type": "histogram2dcontour"
           }
          ],
          "mesh3d": [
           {
            "colorbar": {
             "outlinewidth": 0,
             "ticks": ""
            },
            "type": "mesh3d"
           }
          ],
          "parcoords": [
           {
            "line": {
             "colorbar": {
              "outlinewidth": 0,
              "ticks": ""
             }
            },
            "type": "parcoords"
           }
          ],
          "pie": [
           {
            "automargin": true,
            "type": "pie"
           }
          ],
          "scatter": [
           {
            "marker": {
             "colorbar": {
              "outlinewidth": 0,
              "ticks": ""
             }
            },
            "type": "scatter"
           }
          ],
          "scatter3d": [
           {
            "line": {
             "colorbar": {
              "outlinewidth": 0,
              "ticks": ""
             }
            },
            "marker": {
             "colorbar": {
              "outlinewidth": 0,
              "ticks": ""
             }
            },
            "type": "scatter3d"
           }
          ],
          "scattercarpet": [
           {
            "marker": {
             "colorbar": {
              "outlinewidth": 0,
              "ticks": ""
             }
            },
            "type": "scattercarpet"
           }
          ],
          "scattergeo": [
           {
            "marker": {
             "colorbar": {
              "outlinewidth": 0,
              "ticks": ""
             }
            },
            "type": "scattergeo"
           }
          ],
          "scattergl": [
           {
            "marker": {
             "colorbar": {
              "outlinewidth": 0,
              "ticks": ""
             }
            },
            "type": "scattergl"
           }
          ],
          "scattermapbox": [
           {
            "marker": {
             "colorbar": {
              "outlinewidth": 0,
              "ticks": ""
             }
            },
            "type": "scattermapbox"
           }
          ],
          "scatterpolar": [
           {
            "marker": {
             "colorbar": {
              "outlinewidth": 0,
              "ticks": ""
             }
            },
            "type": "scatterpolar"
           }
          ],
          "scatterpolargl": [
           {
            "marker": {
             "colorbar": {
              "outlinewidth": 0,
              "ticks": ""
             }
            },
            "type": "scatterpolargl"
           }
          ],
          "scatterternary": [
           {
            "marker": {
             "colorbar": {
              "outlinewidth": 0,
              "ticks": ""
             }
            },
            "type": "scatterternary"
           }
          ],
          "surface": [
           {
            "colorbar": {
             "outlinewidth": 0,
             "ticks": ""
            },
            "colorscale": [
             [
              0,
              "#0d0887"
             ],
             [
              0.1111111111111111,
              "#46039f"
             ],
             [
              0.2222222222222222,
              "#7201a8"
             ],
             [
              0.3333333333333333,
              "#9c179e"
             ],
             [
              0.4444444444444444,
              "#bd3786"
             ],
             [
              0.5555555555555556,
              "#d8576b"
             ],
             [
              0.6666666666666666,
              "#ed7953"
             ],
             [
              0.7777777777777778,
              "#fb9f3a"
             ],
             [
              0.8888888888888888,
              "#fdca26"
             ],
             [
              1,
              "#f0f921"
             ]
            ],
            "type": "surface"
           }
          ],
          "table": [
           {
            "cells": {
             "fill": {
              "color": "#EBF0F8"
             },
             "line": {
              "color": "white"
             }
            },
            "header": {
             "fill": {
              "color": "#C8D4E3"
             },
             "line": {
              "color": "white"
             }
            },
            "type": "table"
           }
          ]
         },
         "layout": {
          "annotationdefaults": {
           "arrowcolor": "#2a3f5f",
           "arrowhead": 0,
           "arrowwidth": 1
          },
          "autotypenumbers": "strict",
          "coloraxis": {
           "colorbar": {
            "outlinewidth": 0,
            "ticks": ""
           }
          },
          "colorscale": {
           "diverging": [
            [
             0,
             "#8e0152"
            ],
            [
             0.1,
             "#c51b7d"
            ],
            [
             0.2,
             "#de77ae"
            ],
            [
             0.3,
             "#f1b6da"
            ],
            [
             0.4,
             "#fde0ef"
            ],
            [
             0.5,
             "#f7f7f7"
            ],
            [
             0.6,
             "#e6f5d0"
            ],
            [
             0.7,
             "#b8e186"
            ],
            [
             0.8,
             "#7fbc41"
            ],
            [
             0.9,
             "#4d9221"
            ],
            [
             1,
             "#276419"
            ]
           ],
           "sequential": [
            [
             0,
             "#0d0887"
            ],
            [
             0.1111111111111111,
             "#46039f"
            ],
            [
             0.2222222222222222,
             "#7201a8"
            ],
            [
             0.3333333333333333,
             "#9c179e"
            ],
            [
             0.4444444444444444,
             "#bd3786"
            ],
            [
             0.5555555555555556,
             "#d8576b"
            ],
            [
             0.6666666666666666,
             "#ed7953"
            ],
            [
             0.7777777777777778,
             "#fb9f3a"
            ],
            [
             0.8888888888888888,
             "#fdca26"
            ],
            [
             1,
             "#f0f921"
            ]
           ],
           "sequentialminus": [
            [
             0,
             "#0d0887"
            ],
            [
             0.1111111111111111,
             "#46039f"
            ],
            [
             0.2222222222222222,
             "#7201a8"
            ],
            [
             0.3333333333333333,
             "#9c179e"
            ],
            [
             0.4444444444444444,
             "#bd3786"
            ],
            [
             0.5555555555555556,
             "#d8576b"
            ],
            [
             0.6666666666666666,
             "#ed7953"
            ],
            [
             0.7777777777777778,
             "#fb9f3a"
            ],
            [
             0.8888888888888888,
             "#fdca26"
            ],
            [
             1,
             "#f0f921"
            ]
           ]
          },
          "colorway": [
           "#636efa",
           "#EF553B",
           "#00cc96",
           "#ab63fa",
           "#FFA15A",
           "#19d3f3",
           "#FF6692",
           "#B6E880",
           "#FF97FF",
           "#FECB52"
          ],
          "font": {
           "color": "#2a3f5f"
          },
          "geo": {
           "bgcolor": "white",
           "lakecolor": "white",
           "landcolor": "#E5ECF6",
           "showlakes": true,
           "showland": true,
           "subunitcolor": "white"
          },
          "hoverlabel": {
           "align": "left"
          },
          "hovermode": "closest",
          "mapbox": {
           "style": "light"
          },
          "paper_bgcolor": "white",
          "plot_bgcolor": "#E5ECF6",
          "polar": {
           "angularaxis": {
            "gridcolor": "white",
            "linecolor": "white",
            "ticks": ""
           },
           "bgcolor": "#E5ECF6",
           "radialaxis": {
            "gridcolor": "white",
            "linecolor": "white",
            "ticks": ""
           }
          },
          "scene": {
           "xaxis": {
            "backgroundcolor": "#E5ECF6",
            "gridcolor": "white",
            "gridwidth": 2,
            "linecolor": "white",
            "showbackground": true,
            "ticks": "",
            "zerolinecolor": "white"
           },
           "yaxis": {
            "backgroundcolor": "#E5ECF6",
            "gridcolor": "white",
            "gridwidth": 2,
            "linecolor": "white",
            "showbackground": true,
            "ticks": "",
            "zerolinecolor": "white"
           },
           "zaxis": {
            "backgroundcolor": "#E5ECF6",
            "gridcolor": "white",
            "gridwidth": 2,
            "linecolor": "white",
            "showbackground": true,
            "ticks": "",
            "zerolinecolor": "white"
           }
          },
          "shapedefaults": {
           "line": {
            "color": "#2a3f5f"
           }
          },
          "ternary": {
           "aaxis": {
            "gridcolor": "white",
            "linecolor": "white",
            "ticks": ""
           },
           "baxis": {
            "gridcolor": "white",
            "linecolor": "white",
            "ticks": ""
           },
           "bgcolor": "#E5ECF6",
           "caxis": {
            "gridcolor": "white",
            "linecolor": "white",
            "ticks": ""
           }
          },
          "title": {
           "x": 0.05
          },
          "xaxis": {
           "automargin": true,
           "gridcolor": "white",
           "linecolor": "white",
           "ticks": "",
           "title": {
            "standoff": 15
           },
           "zerolinecolor": "white",
           "zerolinewidth": 2
          },
          "yaxis": {
           "automargin": true,
           "gridcolor": "white",
           "linecolor": "white",
           "ticks": "",
           "title": {
            "standoff": 15
           },
           "zerolinecolor": "white",
           "zerolinewidth": 2
          }
         }
        },
        "xaxis": {
         "anchor": "y",
         "domain": [
          0,
          1
         ],
         "title": {
          "text": "x"
         }
        },
        "yaxis": {
         "anchor": "x",
         "domain": [
          0,
          1
         ]
        }
       }
      },
      "text/html": [
       "<div>                            <div id=\"d47f95e9-952b-4c9b-9d4a-8e03f18b5a76\" class=\"plotly-graph-div\" style=\"height:525px; width:100%;\"></div>            <script type=\"text/javascript\">                require([\"plotly\"], function(Plotly) {                    window.PLOTLYENV=window.PLOTLYENV || {};                                    if (document.getElementById(\"d47f95e9-952b-4c9b-9d4a-8e03f18b5a76\")) {                    Plotly.newPlot(                        \"d47f95e9-952b-4c9b-9d4a-8e03f18b5a76\",                        [{\"alignmentgroup\": \"True\", \"hovertemplate\": \"x=%{x}<extra></extra>\", \"legendgroup\": \"\", \"marker\": {\"color\": \"#636efa\"}, \"name\": \"\", \"notched\": false, \"offsetgroup\": \"\", \"orientation\": \"h\", \"showlegend\": false, \"type\": \"box\", \"x\": [null, null, 6250.0, 6250.0, 9900.0, 7450.0, 9900.0, 9900.0, 7450.0, 8350.0, 7450.0, 6250.0, 6250.0, 6250.0, 6250.0, 10450.0, 7450.0, 4950.0, 7950.0, 9450.0, 7450.0, 4950.0, 7450.0, null, 7450.0, 9450.0, 4950.0, null, 8950.0, 13700.0, 15300.0, 13300.0, 13300.0, 10450.0, 8350.0, 9900.0, 9900.0, 11200.0, 9900.0, 7450.0, null, null, 6250.0, 6250.0, 7450.0, 9900.0, 7450.0, 7450.0, 8350.0, 9900.0, 9900.0, 6250.0, 6250.0, 6250.0, 6250.0, 10450.0, 7450.0, 4950.0, 9450.0, 7450.0, 7950.0, 7450.0, 7450.0, null, 4950.0, 9900.0, 13700.0, 11200.0, 8950.0, 10450.0, 15300.0, 13300.0, 13300.0, null, 9900.0, 9900.0, 9900.0, 7450.0, 8350.0, 8350.0, 8350.0, 8350.0, 8950.0, 5900.0, 10450.0, 9450.0, 5900.0, 9900.0, 5900.0, 15300.0, 8350.0, null, 8350.0, 8350.0, null, null, null, null, 10450.0, 14450.0, 15300.0, 7950.0, 10450.0, 7450.0, 9900.0, 11200.0, null, null, 14450.0, 8950.0, null, null, 15300.0, 14450.0, 15300.0, null, 14450.0, 15300.0, 14450.0, 15300.0, 13300.0, 8950.0, 9450.0, 14450.0, 14450.0, 9450.0, null, null, 9900.0, null, 8950.0, 15300.0, 8350.0, 8350.0, null, 12250.0, 9450.0, 9900.0, null, null, null, 9450.0, 6450.0, 14450.0, 15300.0, 13300.0, 9450.0, 10450.0, 10450.0, null, 10450.0, 7450.0, 7450.0, 7450.0, null, 9450.0, 12250.0, 14450.0, 14450.0, 12250.0, 5900.0, null, null, null, null, 13300.0, 15300.0, 10450.0, null, null, 7450.0, 7450.0, null, null, null, 12400.0, 10450.0, 15300.0, 9450.0, 15300.0, null, null, 15300.0, null, 9450.0, null, null, null, 15300.0, null, 10750.0, 9900.0, 15300.0, 7450.0, 15300.0, null, null, 15300.0, null, null, null, 15000.0, 4450.0, 4450.0, 4450.0, 12400.0, 14200.0, 9450.0, null, 12250.0, 6000.0, null, 9450.0, 10450.0, 9450.0, 9450.0, 9450.0, null, 12250.0, null, 15800.0, 7950.0, 15800.0, 13400.0, 6950.0, null, null, 10450.0, 10450.0, 15300.0, null, 9900.0, null, null, 15300.0, 15300.0, 11200.0, 8150.0, null, 14200.0, null, null, null, null, 15300.0, 6950.0, 9900.0, 15300.0, 8150.0, 12250.0, null, 11200.0, 15300.0, 15300.0, 10750.0, 6450.0, null, 15300.0, 8150.0, null, null, null, null, null, null, null, 8350.0, 15300.0, 15300.0, null, 15300.0, 15300.0, null, 6950.0, 6950.0, 8350.0, 15300.0, 15300.0, 15300.0, 6450.0, 6450.0, null, 15300.0, null, 8350.0, 15300.0, null, 8350.0, null, null, 12250.0, 15300.0, 15300.0, 15300.0, null, null, null, null, null, null, null, 12250.0, null, null, null, null, null, null, null, 6950.0, null, null, null, null, null, 15300.0, 15300.0, null, 15300.0, 15300.0, null, 15300.0, null, null, null, 9450.0, null, null, 7950.0, 10750.0, 6450.0, 16300.0, 10750.0, null, null, null, null, null, null, null, null, 9450.0, null, 15300.0, 5250.0, 15300.0, 15300.0, 9900.0, 16300.0, null, null, 13300.0, null, null, null, null, null, 11200.0, null, null, 9900.0, null, null, 14450.0, 9450.0, 15300.0, 15300.0, null, null, 11200.0, 9450.0, 13300.0, 17800.0, 15300.0, 15300.0, null, null, null, null, null, 15300.0, null, null, null, null, null, null, null, 12250.0, 15300.0, null, null, null, 17800.0, 17800.0, 17800.0, null, null, null, null, 15300.0, null, 9900.0, null, null, null, null, null, null, null, 15300.0, null, null, 12250.0, 15300.0, null, null, null, null, 17800.0, 17800.0, 17800.0, null, 15300.0, null, 5250.0, null, null, null, null, 17800.0, 6200.0, null, null, null, null, 6000.0, null, null, null, null, null, null, null, 7950.0, null, 13300.0, null, 15300.0, null, null, 15300.0, null, null, 15300.0, null, null, 7950.0, null, null, 13250.0, 16300.0, 8350.0, null, null, null, null, null, null, null, null, null, 15300.0, 15300.0, 15300.0, 14450.0, null, null, null, null, 14450.0, null, null, null, null, 13700.0, 15300.0, 15300.0, null, null, 13250.0, 15300.0, 15300.0, null, null, null, null, 6650.0, null, null, null, null, 6650.0, null, null, null, null, null, null, 16300.0, null, null, null, null, null, 15300.0, null, null, null, null, null, null, null, null, null, null, null, 14450.0, null, 16300.0, 10750.0, 10750.0, null, null, 10900.0, null, null, null, null, null, null, 15300.0, null, null, null, null, 9450.0, null, null, null, 9750.0, null, null, null, null, null, 15300.0, null, 15300.0, 15300.0, null, null, 8350.0, null, 9900.0, null, null, null, null, null, null, 8750.0, 10450.0, 15300.0, null, null, null, null, null, 9450.0, 15300.0, 15300.0, 15300.0, null, 15300.0, 7750.0, 15300.0, null, null, null, null, null, null, null, null, null, 7200.0, null, 9900.0, 15300.0, null, null, null, null, null, 15300.0, null, 15300.0, 13250.0, null, 15300.0, null, null, 15300.0, 15300.0, null, null, null, null, 15300.0, 15300.0, 15300.0, null, null, null, null, null, 15300.0, null, null, null, null, null, 14450.0, null, null, null, null, null, null, null, null, null, null, null, null, 15300.0, null, null, null, null, null, 10450.0, null, null, 9450.0, null, 7950.0, null, null, null, null, null, null, 19300.0, null, null, 12250.0, 15300.0, null, null, null, null, 6450.0, null, 9450.0, null, null, 7200.0, null, null, 7450.0, null, null, 13300.0, 19300.0, 18300.0, null, null, null, 15300.0, 15300.0, null, null, null, null, null, null, null, 16300.0, 16300.0, null, null, null, null, 15300.0, null, null, null, null, null, null, null, null, null, null, null, null, 14450.0, null, null, null, null, null, null, null, null, null, null, null, null, null, null, null, null, 13300.0, null, null, null, null, null, null, null, null, null, 16300.0, null, null, 15300.0, null, null, null, null, null, null, null, null, null, null, null, null, null, 7950.0, null, null, null, 16300.0, null, null, null, 3450.0, 18300.0, 16300.0, 15300.0, 15300.0, null, null, 10450.0, 10450.0, null, null, 10450.0, null, null, 15300.0, null, 15300.0, null, null, null, null, null, null, null, null, null, null, null, null, null, null, null, null, 10450.0, null, 15300.0, null, null, null, 10450.0, 15300.0, null, null, null, null, null, null, 15300.0, null, null, 15300.0, null, null, null, 15300.0, null, null, 15300.0, null, null, null, null, 15300.0, null, null, null, null, null, 6450.0, null, 15300.0, null, 6450.0, null, null, null, null, null, null, null, null, null, null, 18300.0, null, null, null, null, null, null, null, null, 12250.0, null, null, null, null, null, null, 15300.0, 15300.0, null, null, null, null, 15300.0, 15300.0, null, null, 15300.0, null, null, null, 15300.0, null, null, 9450.0, null, 10450.0, 8350.0, null, null, null, null, null, null, null, null, 15300.0, null, 15300.0, 13300.0, null, null, 15300.0, null, null, null, null, 15300.0, null, null, null, null, 15300.0, null, null, null, null, null, null, null, 10450.0, null, null, null, 15300.0, null, 15300.0, 7450.0, null, 15300.0, null, null, null, null, null, null, 5900.0, null, null, null, null, null, 15300.0, 15300.0, null, 15300.0, null, null, null, null, null, null, null, 15300.0, 15300.0, 15300.0, null, null], \"x0\": \" \", \"xaxis\": \"x\", \"y0\": \" \", \"yaxis\": \"y\"}],                        {\"boxmode\": \"group\", \"legend\": {\"tracegroupgap\": 0}, \"margin\": {\"t\": 60}, \"template\": {\"data\": {\"bar\": [{\"error_x\": {\"color\": \"#2a3f5f\"}, \"error_y\": {\"color\": \"#2a3f5f\"}, \"marker\": {\"line\": {\"color\": \"#E5ECF6\", \"width\": 0.5}}, \"type\": \"bar\"}], \"barpolar\": [{\"marker\": {\"line\": {\"color\": \"#E5ECF6\", \"width\": 0.5}}, \"type\": \"barpolar\"}], \"carpet\": [{\"aaxis\": {\"endlinecolor\": \"#2a3f5f\", \"gridcolor\": \"white\", \"linecolor\": \"white\", \"minorgridcolor\": \"white\", \"startlinecolor\": \"#2a3f5f\"}, \"baxis\": {\"endlinecolor\": \"#2a3f5f\", \"gridcolor\": \"white\", \"linecolor\": \"white\", \"minorgridcolor\": \"white\", \"startlinecolor\": \"#2a3f5f\"}, \"type\": \"carpet\"}], \"choropleth\": [{\"colorbar\": {\"outlinewidth\": 0, \"ticks\": \"\"}, \"type\": \"choropleth\"}], \"contour\": [{\"colorbar\": {\"outlinewidth\": 0, \"ticks\": \"\"}, \"colorscale\": [[0.0, \"#0d0887\"], [0.1111111111111111, \"#46039f\"], [0.2222222222222222, \"#7201a8\"], [0.3333333333333333, \"#9c179e\"], [0.4444444444444444, \"#bd3786\"], [0.5555555555555556, \"#d8576b\"], [0.6666666666666666, \"#ed7953\"], [0.7777777777777778, \"#fb9f3a\"], [0.8888888888888888, \"#fdca26\"], [1.0, \"#f0f921\"]], \"type\": \"contour\"}], \"contourcarpet\": [{\"colorbar\": {\"outlinewidth\": 0, \"ticks\": \"\"}, \"type\": \"contourcarpet\"}], \"heatmap\": [{\"colorbar\": {\"outlinewidth\": 0, \"ticks\": \"\"}, \"colorscale\": [[0.0, \"#0d0887\"], [0.1111111111111111, \"#46039f\"], [0.2222222222222222, \"#7201a8\"], [0.3333333333333333, \"#9c179e\"], [0.4444444444444444, \"#bd3786\"], [0.5555555555555556, \"#d8576b\"], [0.6666666666666666, \"#ed7953\"], [0.7777777777777778, \"#fb9f3a\"], [0.8888888888888888, \"#fdca26\"], [1.0, \"#f0f921\"]], \"type\": \"heatmap\"}], \"heatmapgl\": [{\"colorbar\": {\"outlinewidth\": 0, \"ticks\": \"\"}, \"colorscale\": [[0.0, \"#0d0887\"], [0.1111111111111111, \"#46039f\"], [0.2222222222222222, \"#7201a8\"], [0.3333333333333333, \"#9c179e\"], [0.4444444444444444, \"#bd3786\"], [0.5555555555555556, \"#d8576b\"], [0.6666666666666666, \"#ed7953\"], [0.7777777777777778, \"#fb9f3a\"], [0.8888888888888888, \"#fdca26\"], [1.0, \"#f0f921\"]], \"type\": \"heatmapgl\"}], \"histogram\": [{\"marker\": {\"colorbar\": {\"outlinewidth\": 0, \"ticks\": \"\"}}, \"type\": \"histogram\"}], \"histogram2d\": [{\"colorbar\": {\"outlinewidth\": 0, \"ticks\": \"\"}, \"colorscale\": [[0.0, \"#0d0887\"], [0.1111111111111111, \"#46039f\"], [0.2222222222222222, \"#7201a8\"], [0.3333333333333333, \"#9c179e\"], [0.4444444444444444, \"#bd3786\"], [0.5555555555555556, \"#d8576b\"], [0.6666666666666666, \"#ed7953\"], [0.7777777777777778, \"#fb9f3a\"], [0.8888888888888888, \"#fdca26\"], [1.0, \"#f0f921\"]], \"type\": \"histogram2d\"}], \"histogram2dcontour\": [{\"colorbar\": {\"outlinewidth\": 0, \"ticks\": \"\"}, \"colorscale\": [[0.0, \"#0d0887\"], [0.1111111111111111, \"#46039f\"], [0.2222222222222222, \"#7201a8\"], [0.3333333333333333, \"#9c179e\"], [0.4444444444444444, \"#bd3786\"], [0.5555555555555556, \"#d8576b\"], [0.6666666666666666, \"#ed7953\"], [0.7777777777777778, \"#fb9f3a\"], [0.8888888888888888, \"#fdca26\"], [1.0, \"#f0f921\"]], \"type\": \"histogram2dcontour\"}], \"mesh3d\": [{\"colorbar\": {\"outlinewidth\": 0, \"ticks\": \"\"}, \"type\": \"mesh3d\"}], \"parcoords\": [{\"line\": {\"colorbar\": {\"outlinewidth\": 0, \"ticks\": \"\"}}, \"type\": \"parcoords\"}], \"pie\": [{\"automargin\": true, \"type\": \"pie\"}], \"scatter\": [{\"marker\": {\"colorbar\": {\"outlinewidth\": 0, \"ticks\": \"\"}}, \"type\": \"scatter\"}], \"scatter3d\": [{\"line\": {\"colorbar\": {\"outlinewidth\": 0, \"ticks\": \"\"}}, \"marker\": {\"colorbar\": {\"outlinewidth\": 0, \"ticks\": \"\"}}, \"type\": \"scatter3d\"}], \"scattercarpet\": [{\"marker\": {\"colorbar\": {\"outlinewidth\": 0, \"ticks\": \"\"}}, \"type\": \"scattercarpet\"}], \"scattergeo\": [{\"marker\": {\"colorbar\": {\"outlinewidth\": 0, \"ticks\": \"\"}}, \"type\": \"scattergeo\"}], \"scattergl\": [{\"marker\": {\"colorbar\": {\"outlinewidth\": 0, \"ticks\": \"\"}}, \"type\": \"scattergl\"}], \"scattermapbox\": [{\"marker\": {\"colorbar\": {\"outlinewidth\": 0, \"ticks\": \"\"}}, \"type\": \"scattermapbox\"}], \"scatterpolar\": [{\"marker\": {\"colorbar\": {\"outlinewidth\": 0, \"ticks\": \"\"}}, \"type\": \"scatterpolar\"}], \"scatterpolargl\": [{\"marker\": {\"colorbar\": {\"outlinewidth\": 0, \"ticks\": \"\"}}, \"type\": \"scatterpolargl\"}], \"scatterternary\": [{\"marker\": {\"colorbar\": {\"outlinewidth\": 0, \"ticks\": \"\"}}, \"type\": \"scatterternary\"}], \"surface\": [{\"colorbar\": {\"outlinewidth\": 0, \"ticks\": \"\"}, \"colorscale\": [[0.0, \"#0d0887\"], [0.1111111111111111, \"#46039f\"], [0.2222222222222222, \"#7201a8\"], [0.3333333333333333, \"#9c179e\"], [0.4444444444444444, \"#bd3786\"], [0.5555555555555556, \"#d8576b\"], [0.6666666666666666, \"#ed7953\"], [0.7777777777777778, \"#fb9f3a\"], [0.8888888888888888, \"#fdca26\"], [1.0, \"#f0f921\"]], \"type\": \"surface\"}], \"table\": [{\"cells\": {\"fill\": {\"color\": \"#EBF0F8\"}, \"line\": {\"color\": \"white\"}}, \"header\": {\"fill\": {\"color\": \"#C8D4E3\"}, \"line\": {\"color\": \"white\"}}, \"type\": \"table\"}]}, \"layout\": {\"annotationdefaults\": {\"arrowcolor\": \"#2a3f5f\", \"arrowhead\": 0, \"arrowwidth\": 1}, \"autotypenumbers\": \"strict\", \"coloraxis\": {\"colorbar\": {\"outlinewidth\": 0, \"ticks\": \"\"}}, \"colorscale\": {\"diverging\": [[0, \"#8e0152\"], [0.1, \"#c51b7d\"], [0.2, \"#de77ae\"], [0.3, \"#f1b6da\"], [0.4, \"#fde0ef\"], [0.5, \"#f7f7f7\"], [0.6, \"#e6f5d0\"], [0.7, \"#b8e186\"], [0.8, \"#7fbc41\"], [0.9, \"#4d9221\"], [1, \"#276419\"]], \"sequential\": [[0.0, \"#0d0887\"], [0.1111111111111111, \"#46039f\"], [0.2222222222222222, \"#7201a8\"], [0.3333333333333333, \"#9c179e\"], [0.4444444444444444, \"#bd3786\"], [0.5555555555555556, \"#d8576b\"], [0.6666666666666666, \"#ed7953\"], [0.7777777777777778, \"#fb9f3a\"], [0.8888888888888888, \"#fdca26\"], [1.0, \"#f0f921\"]], \"sequentialminus\": [[0.0, \"#0d0887\"], [0.1111111111111111, \"#46039f\"], [0.2222222222222222, \"#7201a8\"], [0.3333333333333333, \"#9c179e\"], [0.4444444444444444, \"#bd3786\"], [0.5555555555555556, \"#d8576b\"], [0.6666666666666666, \"#ed7953\"], [0.7777777777777778, \"#fb9f3a\"], [0.8888888888888888, \"#fdca26\"], [1.0, \"#f0f921\"]]}, \"colorway\": [\"#636efa\", \"#EF553B\", \"#00cc96\", \"#ab63fa\", \"#FFA15A\", \"#19d3f3\", \"#FF6692\", \"#B6E880\", \"#FF97FF\", \"#FECB52\"], \"font\": {\"color\": \"#2a3f5f\"}, \"geo\": {\"bgcolor\": \"white\", \"lakecolor\": \"white\", \"landcolor\": \"#E5ECF6\", \"showlakes\": true, \"showland\": true, \"subunitcolor\": \"white\"}, \"hoverlabel\": {\"align\": \"left\"}, \"hovermode\": \"closest\", \"mapbox\": {\"style\": \"light\"}, \"paper_bgcolor\": \"white\", \"plot_bgcolor\": \"#E5ECF6\", \"polar\": {\"angularaxis\": {\"gridcolor\": \"white\", \"linecolor\": \"white\", \"ticks\": \"\"}, \"bgcolor\": \"#E5ECF6\", \"radialaxis\": {\"gridcolor\": \"white\", \"linecolor\": \"white\", \"ticks\": \"\"}}, \"scene\": {\"xaxis\": {\"backgroundcolor\": \"#E5ECF6\", \"gridcolor\": \"white\", \"gridwidth\": 2, \"linecolor\": \"white\", \"showbackground\": true, \"ticks\": \"\", \"zerolinecolor\": \"white\"}, \"yaxis\": {\"backgroundcolor\": \"#E5ECF6\", \"gridcolor\": \"white\", \"gridwidth\": 2, \"linecolor\": \"white\", \"showbackground\": true, \"ticks\": \"\", \"zerolinecolor\": \"white\"}, \"zaxis\": {\"backgroundcolor\": \"#E5ECF6\", \"gridcolor\": \"white\", \"gridwidth\": 2, \"linecolor\": \"white\", \"showbackground\": true, \"ticks\": \"\", \"zerolinecolor\": \"white\"}}, \"shapedefaults\": {\"line\": {\"color\": \"#2a3f5f\"}}, \"ternary\": {\"aaxis\": {\"gridcolor\": \"white\", \"linecolor\": \"white\", \"ticks\": \"\"}, \"baxis\": {\"gridcolor\": \"white\", \"linecolor\": \"white\", \"ticks\": \"\"}, \"bgcolor\": \"#E5ECF6\", \"caxis\": {\"gridcolor\": \"white\", \"linecolor\": \"white\", \"ticks\": \"\"}}, \"title\": {\"x\": 0.05}, \"xaxis\": {\"automargin\": true, \"gridcolor\": \"white\", \"linecolor\": \"white\", \"ticks\": \"\", \"title\": {\"standoff\": 15}, \"zerolinecolor\": \"white\", \"zerolinewidth\": 2}, \"yaxis\": {\"automargin\": true, \"gridcolor\": \"white\", \"linecolor\": \"white\", \"ticks\": \"\", \"title\": {\"standoff\": 15}, \"zerolinecolor\": \"white\", \"zerolinewidth\": 2}}}, \"xaxis\": {\"anchor\": \"y\", \"domain\": [0.0, 1.0], \"title\": {\"text\": \"x\"}}, \"yaxis\": {\"anchor\": \"x\", \"domain\": [0.0, 1.0]}},                        {\"responsive\": true}                    ).then(function(){\n",
       "                            \n",
       "var gd = document.getElementById('d47f95e9-952b-4c9b-9d4a-8e03f18b5a76');\n",
       "var x = new MutationObserver(function (mutations, observer) {{\n",
       "        var display = window.getComputedStyle(gd).display;\n",
       "        if (!display || display === 'none') {{\n",
       "            console.log([gd, 'removed!']);\n",
       "            Plotly.purge(gd);\n",
       "            observer.disconnect();\n",
       "        }}\n",
       "}});\n",
       "\n",
       "// Listen for the removal of the full notebook cells\n",
       "var notebookContainer = gd.closest('#notebook-container');\n",
       "if (notebookContainer) {{\n",
       "    x.observe(notebookContainer, {childList: true});\n",
       "}}\n",
       "\n",
       "// Listen for the clearing of the current output cell\n",
       "var outputEl = gd.closest('.output');\n",
       "if (outputEl) {{\n",
       "    x.observe(outputEl, {childList: true});\n",
       "}}\n",
       "\n",
       "                        })                };                });            </script>        </div>"
      ]
     },
     "metadata": {},
     "output_type": "display_data"
    }
   ],
   "source": [
    "px.box(x=data['Exchange Offer in Rupees'])"
   ]
  },
  {
   "cell_type": "code",
   "execution_count": null,
   "id": "b17f639d",
   "metadata": {},
   "outputs": [],
   "source": []
  }
 ],
 "metadata": {
  "kernelspec": {
   "display_name": "Python 3",
   "language": "python",
   "name": "python3"
  },
  "language_info": {
   "codemirror_mode": {
    "name": "ipython",
    "version": 3
   },
   "file_extension": ".py",
   "mimetype": "text/x-python",
   "name": "python",
   "nbconvert_exporter": "python",
   "pygments_lexer": "ipython3",
   "version": "3.8.8"
  }
 },
 "nbformat": 4,
 "nbformat_minor": 5
}
