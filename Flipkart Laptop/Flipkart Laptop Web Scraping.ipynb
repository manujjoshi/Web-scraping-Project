{
 "cells": [
  {
   "cell_type": "markdown",
   "id": "86c0d65e",
   "metadata": {},
   "source": [
    "# `Web Scraping of Flipkart Laptop`"
   ]
  },
  {
   "cell_type": "markdown",
   "id": "abad37f7",
   "metadata": {},
   "source": [
    "# `Extracting data from web`\n",
    "- 1. **Web Scraping**: Extracting a particular website content\n",
    "- 2. **Web Crawling**: Spider automatically extract the content of linked websites."
   ]
  },
  {
   "cell_type": "markdown",
   "id": "01ebaf5b",
   "metadata": {},
   "source": [
    "# `Web Scraping and Data Analysis`\n",
    "\n",
    "### Web scraping is an automated task to extract large amounts of data from web pages\n",
    "\n",
    "- **Steps involved**:\n",
    "\n",
    "- Identify the URL from which you need the data.\n",
    "- Inspect the HTML code behind the page.\n",
    "- Find the elements you want to extract.\n",
    "- Write the code the store the data in the required format.\n",
    "\n",
    "\n",
    "- **Python libraries used**:\n",
    "\n",
    "- requests: This is used to extract the HTML code from the given URL.\n",
    "- BeautifulSoup: This is used to format and read the HTML content.\n",
    "- re\n",
    "- Numpy, Pandas, matplotlib, Seaborn etc..,\n",
    "- ~~web crawling -> Scrapy~~"
   ]
  },
  {
   "cell_type": "code",
   "execution_count": 27,
   "id": "cd6fa86a",
   "metadata": {},
   "outputs": [],
   "source": [
    "import requests\n",
    "from bs4 import BeautifulSoup\n",
    "import pandas as pd\n",
    "import numpy as np\n",
    "import matplotlib.pyplot as plt\n",
    "import seaborn as sns\n",
    "import plotly.express as px\n",
    "import time"
   ]
  },
  {
   "cell_type": "code",
   "execution_count": 2,
   "id": "a6b70ba6",
   "metadata": {},
   "outputs": [],
   "source": [
    "url='https://www.flipkart.com/search?q=laptop&otracker=search&otracker1=search&marketplace=FLIPKART&as-show=on&as=off'"
   ]
  },
  {
   "cell_type": "markdown",
   "id": "63768807",
   "metadata": {},
   "source": [
    "## request"
   ]
  },
  {
   "cell_type": "code",
   "execution_count": 3,
   "id": "3888772a",
   "metadata": {},
   "outputs": [
    {
     "data": {
      "text/plain": [
       "200"
      ]
     },
     "execution_count": 3,
     "metadata": {},
     "output_type": "execute_result"
    }
   ],
   "source": [
    "laptop_page=requests.get(url)\n",
    "laptop_page.status_code"
   ]
  },
  {
   "cell_type": "markdown",
   "id": "6090a825",
   "metadata": {},
   "source": [
    "### 200 means success"
   ]
  },
  {
   "cell_type": "code",
   "execution_count": 4,
   "id": "530b23e1",
   "metadata": {},
   "outputs": [
    {
     "data": {
      "text/plain": [
       "'<!doctype html><html lang=\"en\"><head><link href=\"https://rukminim1.flixcart.com\" rel=\"preconnect\"/><link rel=\"stylesheet\" href=\"//static-assets-web.flixcart.com/www/linchpin/fk-cp-zion/css/app.chunk.fdabe1.css\"/><meta http-equiv=\"Content-type\" content=\"text/html; charset=utf-8\"/><meta http-equiv=\"X-UA-Compatible\" content=\"IE=Edge\"/><meta property=\"fb:page_id\" content=\"102988293558\"/><meta property=\"fb:admins\" content=\"658873552,624500995,100000233612389\"/><meta name=\"robots\" content=\"noodp\"/><link rel=\"shortcut icon\" href=\"https://static-assets-web.flixcart.com/www/promos/new/20150528-140547-favicon-retina.ico\"/><link type=\"application/opensearchdescription+xml\" rel=\"search\" href=\"/osdd.xml?v=2\"/><meta property=\"og:type\" content=\"website\"/><meta name=\"og_site_name\" property=\"og:site_name\" content=\"Flipkart.com\"/><link rel=\"apple-touch-icon\" sizes=\"57x57\" href=\"/apple-touch-icon-57x57.png\"/><link rel=\"apple-touch-icon\" sizes=\"72x72\" href=\"/apple-touch-icon-72x72.png\"/><link rel=\"apple-touch-icon\" sizes=\"114x114\" href=\"/apple-touch-icon-114x114.png\"/><link rel=\"apple-touch-icon\" sizes=\"144x144\" href=\"/apple-touch-icon-144x144.png\"/><link rel=\"apple-touch-icon\" href=\"/apple-touch-icon-57x57.png\"/><meta name=\"twitter:card\" content=\"app\"><meta name=\"twitter:site\" content=\"@flipkart\"><meta name=\"twitter:creator\" content=\"@flipkart\"><meta name=\"twitter:title\" content=\"Laptop- Buy Products Online at Best Price in India - All Categories | Flipkart.com\"><meta name=\"twitter:description\" content=\"Shop for electronics, apparels & more using our Flipkart app Free shipping & COD.\"><meta name=\"twitter:app:country\" content=\"in\"><meta name=\"al:ios:app_name\" content=\"Flipkart\"><meta name=\"al:ios:app_store_id\" content=\"742044692\"><meta name=\"twitter:app:name:iphone\" content=\"Flipkart\"><meta name=\"twitter:app:id:iphone\" content=\"742044692\"><meta name=\"twitter:app:url:iphone\" content=\"http://dl.flipkart.com/dl/home?\"><meta name=\"twitter:app:name:ipad\" content=\"Flipkart\"><meta name=\"twitter:app:id:ipad\" content=\"742044692\"><meta name=\"twitter:app:url:ipad\" content=\"http://dl.flipkart.com/dl/home?\"><meta name=\"twitter:app:name:googleplay\" content=\"Flipkart\"><meta name=\"twitter:app:id:googleplay\" content=\"com.flipkart.android\"><meta name=\"twitter:app:url:googleplay\" content=\"http://dl.flipkart.com/dl/home?\"><style>#container {\\n\\t\\t\\theight: 100%;\\n\\t\\t}</style><script src=\"//static-assets-web.flixcart.com/www/linchpin/fk-cp-zion/js/runtime.08d643ad.js\" defer=\"defer\" crossorigin=\"anonymous\"></script><script src=\"//static-assets-web.flixcart.com/www/linchpin/fk-cp-zion/js/vendor.chunk.a973a7ed.js\" defer=\"defer\" crossorigin=\"anonymous\"></script><script src=\"//static-assets-web.flixcart.com/www/linchpin/fk-cp-zion/js/app_modules.chunk.b466612d.js\" defer=\"defer\" crossorigin=\"anonymous\"></script><script src=\"//static-assets-web.flixcart.com/www/linchpin/fk-cp-zion/js/app_common.chunk.0e9bf9de.js\" defer=\"defer\" crossorigin=\"anonymous\"></script><script src=\"//static-assets-web.flixcart.com/www/linchpin/fk-cp-zion/js/app.chunk.9d8bd515.js\" defer=\"defer\" crossorigin=\"anonymous\"></script><link rel=\"stylesheet\" href=\"//static-assets-web.flixcart.com/www/linchpin/fk-cp-zion/css/Browse.chunk.8bc2de.css\"/><title>Laptop- Buy Products Online at Best Price in India - All Categories | Flipkart.com</title><meta name=\"og_title\" property=\"og:title\" content=\"Laptop- Buy Products Online at Best Price in India - All Categories | Flipkart.com\"/><meta name=\"Keywords\" content=\"Laptop\"/> <meta name=\"Description\" content=\"Laptop- Buy Products Online at Best Price in India. India&#x27;s Leading E-commerce Company - Free Home Delivery - All Categories | Flipkart.com\"/><meta property=\"og:description\" content=\"Laptop- Buy Products Online at Best Price in India. India&#x27;s Leading E-commerce Company - Free Home Delivery - All Categories | Flipkart.com\"/> <meta name=\"robots\" content=\"noindex\"/>   <meta name=\"msvalidate.01\" content=\"F4EEB3A0AFFDD385992A06E6920C0AC3\"/> <!--[if IE 9 ]>\\n\\t<script nonce=\"7465248350888727863\">\\n\\t\\twindow.browserVersion = \\'IE9\\';\\n\\t\\tdocument.documentElement.className += \\' ie9\\';\\n\\t</script>\\n\\t<![endif]--><!--[if !IE]><!--><script nonce=\"7465248350888727863\">if (/*@cc_on!@*/false) {\\n\\t\\t\\twindow.browserVersion = \\'IE10\\';\\n\\t\\t\\tdocument.documentElement.className += \\' ie10\\';\\n\\t\\t}</script><!--<![endif]--> <script type=\"application/ld+json\" nonce=\"7465248350888727863\" id=\"jsonLD\">{\"@context\":\"http://schema.org\",\"@type\":\"ItemList\",\"itemListElement\":[{\"@type\":\"ListItem\",\"position\":1,\"url\":\"https://www.flipkart.com/acer-nitro-5-ryzen-hexa-core-4600h-8-gb-1-tb-hdd-256-gb-ssd-windows-10-home-4-graphics-nvidia-geforce-gtx-1650-an515-44-r9qa-gaming-laptop/p/itm4302e2e2671a5?pid=COMFUR8X6RGZGYCJ&lid=LSTCOMFUR8X6RGZGYCJLMUQYG&marketplace=FLIPKART&q=laptop&store=6bo%2Fb5g\",\"name\":\"acer Nitro 5 Ryzen 5 Hexa Core 4600H - (8 GB/1 TB HDD/256 GB SSD/Windows 10 Home/4 GB Graphics/NVIDIA GeForce GTX 1650) AN515-44-R9QA Gaming Laptop\"},{\"@type\":\"ListItem\",\"position\":2,\"url\":\"https://www.flipkart.com/avita-liber-core-i5-10th-gen-8-gb-256-gb-ssd-windows-10-home-ns14a8inf542-cs-thin-light-laptop/p/itmf563723051847?pid=COMFTPG2R9TXBRMU&lid=LSTCOMFTPG2R9TXBRMUGCOCJE&marketplace=FLIPKART&q=laptop&store=6bo%2Fb5g\",\"name\":\"Avita Liber Core i5 10th Gen - (8 GB/256 GB SSD/Windows 10 Home) NS14A8INF542-CS Thin and Light Laptop\"},{\"@type\":\"ListItem\",\"position\":3,\"url\":\"https://www.flipkart.com/hp-15s-dual-core-3020e-4-gb-1-tb-hdd-windows-10-home-15s-gy0003au-thin-light-laptop/p/itm4b0ea73088120?pid=COMFZ2MUDVF73GDA&lid=LSTCOMFZ2MUDVF73GDADFZCZQ&marketplace=FLIPKART&q=laptop&store=6bo%2Fb5g\",\"name\":\"HP 15s Dual Core 3020e - (4 GB/1 TB HDD/Windows 10 Home) 15s-GY0003AU Thin and Light Laptop\"},{\"@type\":\"ListItem\",\"position\":4,\"url\":\"https://www.flipkart.com/hp-14s-core-i3-11th-gen-8-gb-256-gb-ssd-windows-10-home-14s-dy2501tu-thin-light-laptop/p/itmdce0f13dd3a4e?pid=COMG2TFSNK3KRFPA&lid=LSTCOMG2TFSNK3KRFPAFSHCEC&marketplace=FLIPKART&q=laptop&store=6bo%2Fb5g\",\"name\":\"HP 14s Core i3 11th Gen - (8 GB/256 GB SSD/Windows 10 Home) 14s- DY2501TU Thin and Light Laptop\"},{\"@type\":\"ListItem\",\"position\":5,\"url\":\"https://www.flipkart.com/dell-inspiron-core-i3-10th-gen-8-gb-1-tb-hdd-windows-10-home-3501-laptop/p/itm14e0fb1e72e99?pid=COMGYCG8W3VY8SGB&lid=LSTCOMGYCG8W3VY8SGBZHGCHM&marketplace=FLIPKART&q=laptop&store=6bo%2Fb5g\",\"name\":\"DELL Inspiron Core i3 10th Gen - (8 GB/1 TB HDD/Windows 10 Home) Inspiron 3501 Laptop\"},{\"@type\":\"ListItem\",\"position\":6,\"url\":\"https://www.flipkart.com/hp-15s-athlon-dual-core-4-gb-1-tb-hdd-windows-10-home-15s-gy0001au-thin-light-laptop/p/itmfde60f9520336?pid=COMGFHGFZ7HFZSBA&lid=LSTCOMGFHGFZ7HFZSBAUX64XI&marketplace=FLIPKART&q=laptop&store=6bo%2Fb5g\",\"name\":\"HP 15s Athlon Dual Core - (4 GB/1 TB HDD/Windows 10 Home) 15s-GY0001AU Thin and Light Laptop\"},{\"@type\":\"ListItem\",\"position\":7,\"url\":\"https://www.flipkart.com/acer-aspire-7-ryzen-5-quad-core-3550h-8-gb-512-gb-ssd-windows-10-home-4-graphics-nvidia-geforce-gtx-1650-60-hz-a715-41g-r6s8-gaming-laptop/p/itm56e58b0c59ea3?pid=COMFUUJGMZCNJDZH&lid=LSTCOMFUUJGMZCNJDZHGUDORZ&marketplace=FLIPKART&q=laptop&store=6bo%2Fb5g\",\"name\":\"acer Aspire 7 Ryzen 5 Quad Core 3550H - (8 GB/512 GB SSD/Windows 10 Home/4 GB Graphics/NVIDIA GeForce GTX 1650/60 Hz) A715-41G-R6S8 Gaming Laptop\"},{\"@type\":\"ListItem\",\"position\":8,\"url\":\"https://www.flipkart.com/acer-aspire-3-core-i3-11th-gen-4-gb-256-gb-ssd-windows-10-home-a315-58-thin-light-laptop/p/itmdffdc847e9fdf?pid=COMGFQ4APGXDQQ9N&lid=LSTCOMGFQ4APGXDQQ9NGN41FS&marketplace=FLIPKART&q=laptop&store=6bo%2Fb5g\",\"name\":\"acer Aspire 3 Core i3 11th Gen - (4 GB/256 GB SSD/Windows 10 Home) A315-58 Thin and Light Laptop\"},{\"@type\":\"ListItem\",\"position\":9,\"url\":\"https://www.flipkart.com/msi-modern-14-core-i3-10th-gen-8-gb-512-gb-ssd-windows-10-home-b10mw-424in-laptop/p/itmdb98c6b5f1662?pid=COMFYZC5Q94CKQRV&lid=LSTCOMFYZC5Q94CKQRVGS9Q9U&marketplace=FLIPKART&q=laptop&store=6bo%2Fb5g\",\"name\":\"MSI Modern 14 Core i3 10th Gen - (8 GB/512 GB SSD/Windows 10 Home) Modern 14 B10MW-424IN Laptop\"},{\"@type\":\"ListItem\",\"position\":10,\"url\":\"https://www.flipkart.com/lenovo-ideapad-3-core-i5-10th-gen-8-gb-1-tb-hdd-windows-10-home-15iil05-laptop/p/itmbfeb76dfb98dd?pid=COMG23RKF7NBG699&lid=LSTCOMG23RKF7NBG699MDAY6Y&marketplace=FLIPKART&q=laptop&store=6bo%2Fb5g\",\"name\":\"Lenovo IdeaPad 3 Core i5 10th Gen - (8 GB/1 TB HDD/Windows 10 Home) 15IIL05 Laptop\"}]}</script><script nonce=\"7465248350888727863\">!function(){if(\"PerformancePaintTiming\" in window){var e=window.__perf={e:[]};e.o=new PerformanceObserver(function(n){e.e=e.e.concat(n.getEntries())});try{e.o.observe({entryTypes:[\"paint\"]})}catch(e){}}}();</script><script nonce=\"7465248350888727863\">if (requestAnimationFrame && performance && performance.mark) {\\n\\t\\t\\trequestAnimationFrame(function () {\\n\\t\\t\\t\\twindow.first_paint = performance.now();\\n\\t\\t\\t\\tperformance.mark(\"first_paint\");\\n\\t\\t\\t});\\n\\t\\t}</script> <link href=\"https://www.flipkart.com/search?q&#x3D;laptop&amp;otracker&#x3D;search&amp;otracker1&#x3D;search&amp;marketplace&#x3D;FLIPKART&amp;as-show&#x3D;on&amp;as&#x3D;off&amp;page&#x3D;2\" id=\"next-page-link-tag\" rel=\"next\"><script nonce=\"7465248350888727863\">// web-vitals polyfill for FID\\n        !function(n,e){var t,o,i,c=[],f={passive:!0,capture:!0},r=new Date,a=\"pointerup\",u=\"pointercancel\";function p(n,c){t||(t=c,o=n,i=new Date,w(e),s())}function s(){o>=0&&o<i-r&&(c.forEach(function(n){n(o,t)}),c=[])}function l(t){if(t.cancelable){var o=(t.timeStamp>1e12?new Date:performance.now())-t.timeStamp;\"pointerdown\"==t.type?function(t,o){function i(){p(t,o),r()}function c(){r()}function r(){e(a,i,f),e(u,c,f)}n(a,i,f),n(u,c,f)}(o,t):p(o,t)}}function w(n){[\"click\",\"mousedown\",\"keydown\",\"touchstart\",\"pointerdown\"].forEach(function(e){n(e,l,f)})}w(n),self.perfMetrics=self.perfMetrics||{},self.perfMetrics.onFirstInputDelay=function(n){c.push(n),s()}}(addEventListener,removeEventListener);</script></head><body><div id=\"container\"><div data-reactroot=\"\"><div class=\"_1kfTjk\"><div class=\"_1rH5Jn\"><div class=\"_1TmfNK\"></div><div class=\"_2Xfa2_\"><div class=\"_3_C9Hx\"><div class=\"_3qX0zy\"><a href=\"/\"><img width=\"75\" src=\"//static-assets-web.flixcart.com/www/linchpin/fk-cp-zion/img/flipkart-plus_8d85f4.png\" alt=\"Flipkart\" title=\"Flipkart\" class=\"_2xm1JU\"/></a><a class=\"_21ljIi\" href=\"/plus\">Explore<!-- --> <span class=\"_2FVHGh\">Plus</span><img width=\"10\" src=\"//static-assets-web.flixcart.com/www/linchpin/fk-cp-zion/img/plus_aef861.png\"/></a></div></div><div class=\"_1cmsER\"><form class=\"_2M8cLY header-form-search\" action=\"/search\" method=\"GET\"><div class=\"col-12-12 _2oO9oE\"><div class=\"_3OO5Xc\"><input type=\"text\" value=\"laptop\" class=\"_3704LK\" title=\"Search for products, brands and more\" name=\"q\" autoComplete=\"off\" placeholder=\"Search for products, brands and more\"/></div><button class=\"L0Z3Pu\" type=\"submit\"><svg width=\"20\" height=\"20\" viewBox=\"0 0 17 18\" class=\"\" xmlns=\"http://www.w3.org/2000/svg\"><g fill=\"#2874F1\" fill-rule=\"evenodd\"><path class=\"_34RNph\" d=\"m11.618 9.897l4.225 4.212c.092.092.101.232.02.313l-1.465 1.46c-.081.081-.221.072-.314-.02l-4.216-4.203\"></path><path class=\"_34RNph\" d=\"m6.486 10.901c-2.42 0-4.381-1.956-4.381-4.368 0-2.413 1.961-4.369 4.381-4.369 2.42 0 4.381 1.956 4.381 4.369 0 2.413-1.961 4.368-4.381 4.368m0-10.835c-3.582 0-6.486 2.895-6.486 6.467 0 3.572 2.904 6.467 6.486 6.467 3.582 0 6.486-2.895 6.486-6.467 0-3.572-2.904-6.467-6.486-6.467\"></path></g></svg></button><input type=\"hidden\" name=\"otracker\" value=\"search\"/><input type=\"hidden\" name=\"otracker1\" value=\"search\"/><input type=\"hidden\" name=\"marketplace\" value=\"FLIPKART\"/><input type=\"hidden\" name=\"as-show\" value=\"off\"/><input type=\"hidden\" name=\"as\" value=\"off\"/></div><ul class=\"col-12-12 _1MRYA1\"></ul></form></div><div class=\"go_DOp _2errNR\"><div class=\"_28p97w\"><div class=\"_1psGvi _3BvnxG\"><div><a class=\"_1_3w1N\" href=\"/account/login?ret=/search%3Fq%3Dlaptop%26otracker%3Dsearch%26otracker1%3Dsearch%26marketplace%3DFLIPKART%26as-show%3Don%26as%3Doff\">Login</a></div></div></div></div><div class=\"go_DOp\"><div class=\"_28p97w\"><div class=\"_1psGvi _3BvnxG\"><div><div class=\"exehdJ\"> <!-- -->More<!-- --> </div></div></div><svg width=\"4.7\" height=\"8\" viewBox=\"0 0 16 27\" xmlns=\"http://www.w3.org/2000/svg\" class=\"zZ3yfL\"><path d=\"M16 23.207L6.11 13.161 16 3.093 12.955 0 0 13.161l12.955 13.161z\" fill=\"#fff\" class=\"_2gTTdy\"></path></svg></div></div><div class=\"go_DOp\"><div class=\"_1psGvi\"><div class=\"YUhWwv\"><a class=\"_3SkBxJ\" href=\"/viewcart?otracker=Cart_Icon_Click\"><svg class=\"V3C5bO\" width=\"14\" height=\"14\" viewBox=\"0 0 16 16\" xmlns=\"http://www.w3.org/2000/svg\"><path class=\"_1bS9ic\" d=\"M15.32 2.405H4.887C3 2.405 2.46.805 2.46.805L2.257.21C2.208.085 2.083 0 1.946 0H.336C.1 0-.064.24.024.46l.644 1.945L3.11 9.767c.047.137.175.23.32.23h8.418l-.493 1.958H3.768l.002.003c-.017 0-.033-.003-.05-.003-1.06 0-1.92.86-1.92 1.92s.86 1.92 1.92 1.92c.99 0 1.805-.75 1.91-1.712l5.55.076c.12.922.91 1.636 1.867 1.636 1.04 0 1.885-.844 1.885-1.885 0-.866-.584-1.593-1.38-1.814l2.423-8.832c.12-.433-.206-.86-.655-.86\" fill=\"#fff\"></path></svg><span>Cart</span></a></div></div></div></div><div class=\"_1TmfNK\"></div></div><div class=\"_1mUdNz\"></div></div><div class=\"_331-kn\"></div><div class=\"_36fx1h _6t1WkM _3HqJxg\"><div class=\"_1YokD2 _2GoDe3\"><div class=\"_1YokD2 _3Mn1Gg\" style=\"flex:0 0 280px;max-width:280px;padding:0px 10px 0px 0px\"><div class=\"_1AtVbE col-12-12\" style=\"padding:0px 0px 10px 0px\"><a href=\"/search?sid=6bo%2Cb5g&amp;p%5B%5D=facets.fulfilled_by%255B%255D%3DFlipkart%2BAssured&amp;p%5B%5D=facets.brand%255B%255D%3DLenovo&amp;otracker=sp_browse_announcement_search.flipkart.com\" class=\"UYS4aW _3E_YdP\"><div class=\"_3ywSr_\" style=\"padding-top:53.57%\"><div class=\"_1bEAQy _312yBx\" style=\"padding-top:53.57%\"><img class=\"_2OHU_q _2WCh1J\" alt=\"d\"/><img class=\"kJjFO0 _3DIhEh _9JTfqZ\" src=\"https://rukminim1.flixcart.com/flap/100/54/image/4bb83263c447128d.jpeg?q=50\" alt=\"d\"/></div></div><div class=\"_1sPNy4\"><div class=\"_2LR_KO\">Lenovo</div><div class=\"tMzY0d\">Top Deals on Laptops</div></div></a></div><div class=\"_1YokD2 _3Mn1Gg col-12-12\"><div class=\"_1AtVbE col-12-12\"><div class=\"_1KOcBL\"><section class=\"JWMl0H _2hbLCH\"><div class=\"_2ssEMF\"><div class=\"_3V8rao\"><span>Filters</span></div></div></section><div class=\"_2q_g77\"><section class=\"_2aDURW\"><div class=\"_2lfNTw\"><span>CATEGORIES</span></div><div><div class=\"TB_InB\"><span><svg width=\"10\" height=\"10\" viewBox=\"0 0 16 27\" xmlns=\"http://www.w3.org/2000/svg\" class=\"_2Iqv73\"><path d=\"M16 23.207L6.11 13.161 16 3.093 12.955 0 0 13.161l12.955 13.161z\" fill=\"#fff\" class=\"_3zK8He\"></path></svg></span><a class=\"_2qvBBJ _2Mji8F\" title=\"Computers\" href=\"/computers/pr?sid=6bo&amp;q=laptop&amp;otracker=categorytree\">Computers</a></div></div><div><div class=\"TB_InB\"><span><svg width=\"10\" height=\"10\" viewBox=\"0 0 16 27\" xmlns=\"http://www.w3.org/2000/svg\" class=\"_2Iqv73\"><path d=\"M16 23.207L6.11 13.161 16 3.093 12.955 0 0 13.161l12.955 13.161z\" fill=\"#fff\" class=\"\"></path></svg></span><a class=\"_1jJQdf _2Mji8F\" title=\"Laptops\" href=\"/laptops/pr?sid=6bo,b5g&amp;q=laptop&amp;otracker=categorytree\">Laptops</a></div></div></section></div><section class=\"_2yz7eI _2hbLCH\"><div class=\"_3KxRU6 _2ssEMF\"><div class=\"UR1L2I _3V8rao\"><span>Price</span></div></div><div class=\"_2NBiOm\"><div class=\"_1nneZ0\"><div class=\"_2TbXIJ\" style=\"height:0;width:0\"></div><div class=\"_2TbXIJ\" style=\"height:0;width:0\"></div><div class=\"_2TbXIJ\" style=\"height:0;width:0\"></div><div class=\"_2TbXIJ\" style=\"height:0;width:0\"></div><div class=\"_2TbXIJ\" style=\"height:0;width:0\"></div><div class=\"_2TbXIJ\" style=\"height:0;width:0\"></div><div class=\"_2TbXIJ\" style=\"height:0;width:0\"></div></div></div><div class=\"_2r34SG\"><div class=\"_12FhcQ\"><div class=\"HQL4QS _28DFQy\"><div class=\"_3FdLqY\"></div></div><div class=\"HQL4QS WC_zGJ\"><div class=\"_3FdLqY\"></div></div><div class=\"_2IN3-t\"></div><div class=\"_2IN3-t _1mRwrD\"></div></div><div class=\"_15GU70\"><div class=\"_1ftpgI\" style=\"width:undefinedpx\">.</div><div class=\"_1ftpgI\" style=\"width:undefinedpx\">.</div><div class=\"_1ftpgI\" style=\"width:undefinedpx\">.</div><div class=\"_1ftpgI\" style=\"width:undefinedpx\">.</div><div class=\"_1ftpgI\" style=\"width:undefinedpx\">.</div><div class=\"_1ftpgI\" style=\"width:undefinedpx\">.</div><div class=\"_1ftpgI\" style=\"width:undefinedpx\">.</div><div class=\"_1ftpgI\" style=\"width:0px\">.</div></div></div><div class=\"_2b0bUo\"><div class=\"_1YAKP4\"><select class=\"_2YxCDZ\"><option selected=\"\" value=\"Min\" class=\"_3AsjWR\">Min</option><option value=\"20000\" class=\"_3AsjWR\">₹20000</option><option value=\"30000\" class=\"_3AsjWR\">₹30000</option><option value=\"40000\" class=\"_3AsjWR\">₹40000</option><option value=\"50000\" class=\"_3AsjWR\">₹50000</option><option value=\"60000\" class=\"_3AsjWR\">₹60000</option><option value=\"75000\" class=\"_3AsjWR\">₹75000</option></select></div><div class=\"_3zohzR\">to</div><div class=\"_3uDYxP\"><select class=\"_2YxCDZ\"><option value=\"20000\" class=\"_3AsjWR\">₹20000</option><option value=\"30000\" class=\"_3AsjWR\">₹30000</option><option value=\"40000\" class=\"_3AsjWR\">₹40000</option><option value=\"50000\" class=\"_3AsjWR\">₹50000</option><option value=\"60000\" class=\"_3AsjWR\">₹60000</option><option value=\"75000\" class=\"_3AsjWR\">₹75000</option><option selected=\"\" value=\"Max\" class=\"_3AsjWR\">₹75000+</option></select></div></div></section><section class=\"_2hbLCH _24gLJx\"><label class=\"_2iDkf8 shbqsL\"><input type=\"checkbox\" class=\"_30VH1S\" readonly=\"\"/><div class=\"_24_Dny _3tCU7L\"></div><div class=\"_3879cV\"><div class=\"_3U-Vxu\"><img height=\"21\" src=\"//static-assets-web.flixcart.com/www/linchpin/fk-cp-zion/img/fa_62673a.png\" class=\"_3U-Vxu\"/></div></div></label><div class=\"Bv11UC\"><span class=\"question\">?</span></div></section><section class=\"_167Mu3 _2hbLCH\"><div class=\"_213eRC _2ssEMF\"><div class=\"_2gmUFU _3V8rao\">Processor</div><svg width=\"16\" height=\"27\" viewBox=\"0 0 16 27\" xmlns=\"http://www.w3.org/2000/svg\" class=\"ttx38n _3DyGEM\"><path d=\"M16 23.207L6.11 13.161 16 3.093 12.955 0 0 13.161l12.955 13.161z\" fill=\"#fff\" class=\"IIvmWM\"></path></svg></div><div class=\"_3FPh42\"><div class=\"_2d0we9\"><div class=\"_4921Z t0pPfW\" title=\"Core i5\"><div class=\"_1Y4Vhm _4FO7b6\"><label class=\"_2iDkf8 t0pPfW\"><input type=\"checkbox\" class=\"_30VH1S\" readonly=\"\"/><div class=\"_24_Dny\"></div><div class=\"_3879cV\">Core i5</div></label></div></div><div class=\"_4921Z t0pPfW\" title=\"Core i3\"><div class=\"_1Y4Vhm _4FO7b6\"><label class=\"_2iDkf8 t0pPfW\"><input type=\"checkbox\" class=\"_30VH1S\" readonly=\"\"/><div class=\"_24_Dny\"></div><div class=\"_3879cV\">Core i3</div></label></div></div><div class=\"_4921Z t0pPfW\" title=\"Core i7\"><div class=\"_1Y4Vhm _4FO7b6\"><label class=\"_2iDkf8 t0pPfW\"><input type=\"checkbox\" class=\"_30VH1S\" readonly=\"\"/><div class=\"_24_Dny\"></div><div class=\"_3879cV\">Core i7</div></label></div></div><div class=\"_4921Z t0pPfW\" title=\"Ryzen 7 Quad Core\"><div class=\"_1Y4Vhm _4FO7b6\"><label class=\"_2iDkf8 t0pPfW\"><input type=\"checkbox\" class=\"_30VH1S\" readonly=\"\"/><div class=\"_24_Dny\"></div><div class=\"_3879cV\">Ryzen 7 Quad Core</div></label></div></div><div class=\"_4921Z t0pPfW\" title=\"Ryzen 5 Quad Core\"><div class=\"_1Y4Vhm _4FO7b6\"><label class=\"_2iDkf8 t0pPfW\"><input type=\"checkbox\" class=\"_30VH1S\" readonly=\"\"/><div class=\"_24_Dny\"></div><div class=\"_3879cV\">Ryzen 5 Quad Core</div></label></div></div><div class=\"_4921Z t0pPfW\" title=\"Core i9\"><div class=\"_1Y4Vhm _4FO7b6\"><label class=\"_2iDkf8 t0pPfW\"><input type=\"checkbox\" class=\"_30VH1S\" readonly=\"\"/><div class=\"_24_Dny\"></div><div class=\"_3879cV\">Core i9</div></label></div></div></div><div class=\"QvtND5 _2w_U27\"><span>19 MORE</span></div></div></section><section class=\"_167Mu3 _2hbLCH\"><div class=\"_213eRC _2ssEMF\"><div class=\"_2gmUFU _3V8rao\">Brand</div><svg width=\"16\" height=\"27\" viewBox=\"0 0 16 27\" xmlns=\"http://www.w3.org/2000/svg\" class=\"ttx38n _3DyGEM\"><path d=\"M16 23.207L6.11 13.161 16 3.093 12.955 0 0 13.161l12.955 13.161z\" fill=\"#fff\" class=\"IIvmWM\"></path></svg></div><div class=\"_3FPh42\"><div class=\"_2d0we9\"><div class=\"_4921Z t0pPfW\" title=\"HP\"><div class=\"_1Y4Vhm _4FO7b6\"><label class=\"_2iDkf8 t0pPfW\"><input type=\"checkbox\" class=\"_30VH1S\" readonly=\"\"/><div class=\"_24_Dny\"></div><div class=\"_3879cV\">HP</div></label></div></div><div class=\"_4921Z t0pPfW\" title=\"Vaio\"><div class=\"_1Y4Vhm _4FO7b6\"><label class=\"_2iDkf8 t0pPfW\"><input type=\"checkbox\" class=\"_30VH1S\" readonly=\"\"/><div class=\"_24_Dny\"></div><div class=\"_3879cV\">Vaio</div></label></div></div><div class=\"_4921Z t0pPfW\" title=\"Lenovo\"><div class=\"_1Y4Vhm _4FO7b6\"><label class=\"_2iDkf8 t0pPfW\"><input type=\"checkbox\" class=\"_30VH1S\" readonly=\"\"/><div class=\"_24_Dny\"></div><div class=\"_3879cV\">Lenovo</div></label></div></div><div class=\"_4921Z t0pPfW\" title=\"Nokia\"><div class=\"_1Y4Vhm _4FO7b6\"><label class=\"_2iDkf8 t0pPfW\"><input type=\"checkbox\" class=\"_30VH1S\" readonly=\"\"/><div class=\"_24_Dny\"></div><div class=\"_3879cV\">Nokia</div></label></div></div><div class=\"_4921Z t0pPfW\" title=\"Mi\"><div class=\"_1Y4Vhm _4FO7b6\"><label class=\"_2iDkf8 t0pPfW\"><input type=\"checkbox\" class=\"_30VH1S\" readonly=\"\"/><div class=\"_24_Dny\"></div><div class=\"_3879cV\">Mi</div></label></div></div><div class=\"_4921Z t0pPfW\" title=\"MSI\"><div class=\"_1Y4Vhm _4FO7b6\"><label class=\"_2iDkf8 t0pPfW\"><input type=\"checkbox\" class=\"_30VH1S\" readonly=\"\"/><div class=\"_24_Dny\"></div><div class=\"_3879cV\">MSI</div></label></div></div></div><div class=\"QvtND5 _2w_U27\"><span>13 MORE</span></div></div></section><section class=\"_167Mu3 _2hbLCH\"><div class=\"_213eRC _2ssEMF\"><div class=\"_2gmUFU _3V8rao\">Screen Size</div><svg width=\"16\" height=\"27\" viewBox=\"0 0 16 27\" xmlns=\"http://www.w3.org/2000/svg\" class=\"ttx38n\"><path d=\"M16 23.207L6.11 13.161 16 3.093 12.955 0 0 13.161l12.955 13.161z\" fill=\"#fff\" class=\"IIvmWM\"></path></svg></div></section><section class=\"_167Mu3 _2hbLCH\"><div class=\"_213eRC _2ssEMF\"><div class=\"_2gmUFU _3V8rao\">Operating System</div><svg width=\"16\" height=\"27\" viewBox=\"0 0 16 27\" xmlns=\"http://www.w3.org/2000/svg\" class=\"ttx38n\"><path d=\"M16 23.207L6.11 13.161 16 3.093 12.955 0 0 13.161l12.955 13.161z\" fill=\"#fff\" class=\"IIvmWM\"></path></svg></div></section><section class=\"_167Mu3 _2hbLCH\"><div class=\"_213eRC _2ssEMF\"><div class=\"_2gmUFU _3V8rao\">Dedicated Graphics Memory</div><svg width=\"16\" height=\"27\" viewBox=\"0 0 16 27\" xmlns=\"http://www.w3.org/2000/svg\" class=\"ttx38n\"><path d=\"M16 23.207L6.11 13.161 16 3.093 12.955 0 0 13.161l12.955 13.161z\" fill=\"#fff\" class=\"IIvmWM\"></path></svg></div></section><section class=\"_167Mu3 _2hbLCH\"><div class=\"_213eRC _2ssEMF\"><div class=\"_2gmUFU _3V8rao\">Hard Disk Capacity</div><svg width=\"16\" height=\"27\" viewBox=\"0 0 16 27\" xmlns=\"http://www.w3.org/2000/svg\" class=\"ttx38n\"><path d=\"M16 23.207L6.11 13.161 16 3.093 12.955 0 0 13.161l12.955 13.161z\" fill=\"#fff\" class=\"IIvmWM\"></path></svg></div></section><section class=\"_167Mu3 _2hbLCH\"><div class=\"_213eRC _2ssEMF\"><div class=\"_2gmUFU _3V8rao\">Type</div><svg width=\"16\" height=\"27\" viewBox=\"0 0 16 27\" xmlns=\"http://www.w3.org/2000/svg\" class=\"ttx38n\"><path d=\"M16 23.207L6.11 13.161 16 3.093 12.955 0 0 13.161l12.955 13.161z\" fill=\"#fff\" class=\"IIvmWM\"></path></svg></div></section><section class=\"_167Mu3 _2hbLCH\"><div class=\"_213eRC _2ssEMF\"><div class=\"_2gmUFU _3V8rao\">Processor Brand</div><svg width=\"16\" height=\"27\" viewBox=\"0 0 16 27\" xmlns=\"http://www.w3.org/2000/svg\" class=\"ttx38n\"><path d=\"M16 23.207L6.11 13.161 16 3.093 12.955 0 0 13.161l12.955 13.161z\" fill=\"#fff\" class=\"IIvmWM\"></path></svg></div></section><section class=\"_167Mu3 _2hbLCH\"><div class=\"_213eRC _2ssEMF\"><div class=\"_2gmUFU _3V8rao\">Discount</div><svg width=\"16\" height=\"27\" viewBox=\"0 0 16 27\" xmlns=\"http://www.w3.org/2000/svg\" class=\"ttx38n\"><path d=\"M16 23.207L6.11 13.161 16 3.093 12.955 0 0 13.161l12.955 13.161z\" fill=\"#fff\" class=\"IIvmWM\"></path></svg></div></section><section class=\"_167Mu3 _2hbLCH\"><div class=\"_213eRC _2ssEMF\"><div class=\"_2gmUFU _3V8rao\">Graphic Processor Name</div><svg width=\"16\" height=\"27\" viewBox=\"0 0 16 27\" xmlns=\"http://www.w3.org/2000/svg\" class=\"ttx38n\"><path d=\"M16 23.207L6.11 13.161 16 3.093 12.955 0 0 13.161l12.955 13.161z\" fill=\"#fff\" class=\"IIvmWM\"></path></svg></div></section><section class=\"_167Mu3 _2hbLCH\"><div class=\"_213eRC _2ssEMF\"><div class=\"_2gmUFU _3V8rao\">Touch Screen</div><svg width=\"16\" height=\"27\" viewBox=\"0 0 16 27\" xmlns=\"http://www.w3.org/2000/svg\" class=\"ttx38n\"><path d=\"M16 23.207L6.11 13.161 16 3.093 12.955 0 0 13.161l12.955 13.161z\" fill=\"#fff\" class=\"IIvmWM\"></path></svg></div></section><section class=\"_167Mu3 _2hbLCH\"><div class=\"_213eRC _2ssEMF\"><div class=\"_2gmUFU _3V8rao\">Ram Type</div><svg width=\"16\" height=\"27\" viewBox=\"0 0 16 27\" xmlns=\"http://www.w3.org/2000/svg\" class=\"ttx38n\"><path d=\"M16 23.207L6.11 13.161 16 3.093 12.955 0 0 13.161l12.955 13.161z\" fill=\"#fff\" class=\"IIvmWM\"></path></svg></div></section><section class=\"_167Mu3 _2hbLCH\"><div class=\"_213eRC _2ssEMF\"><div class=\"_2gmUFU _3V8rao\">Customer Ratings</div><svg width=\"16\" height=\"27\" viewBox=\"0 0 16 27\" xmlns=\"http://www.w3.org/2000/svg\" class=\"ttx38n _3DyGEM\"><path d=\"M16 23.207L6.11 13.161 16 3.093 12.955 0 0 13.161l12.955 13.161z\" fill=\"#fff\" class=\"IIvmWM\"></path></svg></div><div class=\"_3FPh42\"><div class=\"_2d0we9\"><div class=\"_4921Z t0pPfW\" title=\"4★ &amp; above\"><div class=\"_1Y4Vhm _4FO7b6\"><label class=\"_2iDkf8 t0pPfW\"><input type=\"checkbox\" class=\"_30VH1S\" readonly=\"\"/><div class=\"_24_Dny\"></div><div class=\"_3879cV\">4★ &amp; above</div></label></div></div><div class=\"_4921Z t0pPfW\" title=\"3★ &amp; above\"><div class=\"_1Y4Vhm _4FO7b6\"><label class=\"_2iDkf8 t0pPfW\"><input type=\"checkbox\" class=\"_30VH1S\" readonly=\"\"/><div class=\"_24_Dny\"></div><div class=\"_3879cV\">3★ &amp; above</div></label></div></div><div class=\"_4921Z t0pPfW\" title=\"2★ &amp; above\"><div class=\"_1Y4Vhm _4FO7b6\"><label class=\"_2iDkf8 t0pPfW\"><input type=\"checkbox\" class=\"_30VH1S\" readonly=\"\"/><div class=\"_24_Dny\"></div><div class=\"_3879cV\">2★ &amp; above</div></label></div></div><div class=\"_4921Z t0pPfW\" title=\"1★ &amp; above\"><div class=\"_1Y4Vhm _4FO7b6\"><label class=\"_2iDkf8 t0pPfW\"><input type=\"checkbox\" class=\"_30VH1S\" readonly=\"\"/><div class=\"_24_Dny\"></div><div class=\"_3879cV\">1★ &amp; above</div></label></div></div></div></div></section><section class=\"_167Mu3 _2hbLCH\"><div class=\"_213eRC _2ssEMF\"><div class=\"_2gmUFU _3V8rao\">RAM Capacity</div><svg width=\"16\" height=\"27\" viewBox=\"0 0 16 27\" xmlns=\"http://www.w3.org/2000/svg\" class=\"ttx38n\"><path d=\"M16 23.207L6.11 13.161 16 3.093 12.955 0 0 13.161l12.955 13.161z\" fill=\"#fff\" class=\"IIvmWM\"></path></svg></div></section><section class=\"_167Mu3 _2hbLCH\"><div class=\"_213eRC _2ssEMF\"><div class=\"_2gmUFU _3V8rao\">LifeStyle</div><svg width=\"16\" height=\"27\" viewBox=\"0 0 16 27\" xmlns=\"http://www.w3.org/2000/svg\" class=\"ttx38n\"><path d=\"M16 23.207L6.11 13.161 16 3.093 12.955 0 0 13.161l12.955 13.161z\" fill=\"#fff\" class=\"IIvmWM\"></path></svg></div></section><section class=\"_167Mu3 _2hbLCH\"><div class=\"_213eRC _2ssEMF\"><div class=\"_2gmUFU _3V8rao\">Graphic Processor Series</div><svg width=\"16\" height=\"27\" viewBox=\"0 0 16 27\" xmlns=\"http://www.w3.org/2000/svg\" class=\"ttx38n\"><path d=\"M16 23.207L6.11 13.161 16 3.093 12.955 0 0 13.161l12.955 13.161z\" fill=\"#fff\" class=\"IIvmWM\"></path></svg></div></section><section class=\"_167Mu3 _2hbLCH\"><div class=\"_213eRC _2ssEMF\"><div class=\"_2gmUFU _3V8rao\">Processor Generation</div><svg width=\"16\" height=\"27\" viewBox=\"0 0 16 27\" xmlns=\"http://www.w3.org/2000/svg\" class=\"ttx38n\"><path d=\"M16 23.207L6.11 13.161 16 3.093 12.955 0 0 13.161l12.955 13.161z\" fill=\"#fff\" class=\"IIvmWM\"></path></svg></div></section><section class=\"_167Mu3 _2hbLCH\"><div class=\"_213eRC _2ssEMF\"><div class=\"_2gmUFU _3V8rao\">Weight</div><svg width=\"16\" height=\"27\" viewBox=\"0 0 16 27\" xmlns=\"http://www.w3.org/2000/svg\" class=\"ttx38n\"><path d=\"M16 23.207L6.11 13.161 16 3.093 12.955 0 0 13.161l12.955 13.161z\" fill=\"#fff\" class=\"IIvmWM\"></path></svg></div></section><section class=\"_167Mu3 _2hbLCH\"><div class=\"_213eRC _2ssEMF\"><div class=\"_2gmUFU _3V8rao\">Features</div><svg width=\"16\" height=\"27\" viewBox=\"0 0 16 27\" xmlns=\"http://www.w3.org/2000/svg\" class=\"ttx38n\"><path d=\"M16 23.207L6.11 13.161 16 3.093 12.955 0 0 13.161l12.955 13.161z\" fill=\"#fff\" class=\"IIvmWM\"></path></svg></div></section><section class=\"_167Mu3 _2hbLCH\"><div class=\"_213eRC _2ssEMF\"><div class=\"_2gmUFU _3V8rao\">Storage Type</div><svg width=\"16\" height=\"27\" viewBox=\"0 0 16 27\" xmlns=\"http://www.w3.org/2000/svg\" class=\"ttx38n\"><path d=\"M16 23.207L6.11 13.161 16 3.093 12.955 0 0 13.161l12.955 13.161z\" fill=\"#fff\" class=\"IIvmWM\"></path></svg></div></section><section class=\"_167Mu3 _2hbLCH\"><div class=\"_213eRC _2ssEMF\"><div class=\"_2gmUFU _3V8rao\">SSD Capacity</div><svg width=\"16\" height=\"27\" viewBox=\"0 0 16 27\" xmlns=\"http://www.w3.org/2000/svg\" class=\"ttx38n\"><path d=\"M16 23.207L6.11 13.161 16 3.093 12.955 0 0 13.161l12.955 13.161z\" fill=\"#fff\" class=\"IIvmWM\"></path></svg></div></section><section class=\"_167Mu3 _2hbLCH\"><div class=\"_213eRC _2ssEMF\"><div class=\"_2gmUFU _3V8rao\">Usage</div><svg width=\"16\" height=\"27\" viewBox=\"0 0 16 27\" xmlns=\"http://www.w3.org/2000/svg\" class=\"ttx38n\"><path d=\"M16 23.207L6.11 13.161 16 3.093 12.955 0 0 13.161l12.955 13.161z\" fill=\"#fff\" class=\"IIvmWM\"></path></svg></div></section><section class=\"_167Mu3 _2hbLCH\"><div class=\"_213eRC _2ssEMF\"><div class=\"_2gmUFU _3V8rao\">GST Invoice Available</div><svg width=\"16\" height=\"27\" viewBox=\"0 0 16 27\" xmlns=\"http://www.w3.org/2000/svg\" class=\"ttx38n\"><path d=\"M16 23.207L6.11 13.161 16 3.093 12.955 0 0 13.161l12.955 13.161z\" fill=\"#fff\" class=\"IIvmWM\"></path></svg></div></section><section class=\"_167Mu3 _2hbLCH\"><div class=\"_213eRC _2ssEMF\"><div class=\"_2gmUFU _3V8rao\">Offers</div><svg width=\"16\" height=\"27\" viewBox=\"0 0 16 27\" xmlns=\"http://www.w3.org/2000/svg\" class=\"ttx38n _3DyGEM\"><path d=\"M16 23.207L6.11 13.161 16 3.093 12.955 0 0 13.161l12.955 13.161z\" fill=\"#fff\" class=\"IIvmWM\"></path></svg></div><div class=\"_3FPh42\"><div class=\"_2d0we9\"><div class=\"_4921Z t0pPfW\" title=\"Buy More, Save More\"><div class=\"_1Y4Vhm _4FO7b6\"><label class=\"_2iDkf8 t0pPfW\"><input type=\"checkbox\" class=\"_30VH1S\" readonly=\"\"/><div class=\"_24_Dny\"></div><div class=\"_3879cV\">Buy More, Save More</div></label></div></div><div class=\"_4921Z t0pPfW\" title=\"No Cost EMI\"><div class=\"_1Y4Vhm _4FO7b6\"><label class=\"_2iDkf8 t0pPfW\"><input type=\"checkbox\" class=\"_30VH1S\" readonly=\"\"/><div class=\"_24_Dny\"></div><div class=\"_3879cV\">No Cost EMI</div></label></div></div><div class=\"_4921Z t0pPfW\" title=\"Special Price\"><div class=\"_1Y4Vhm _4FO7b6\"><label class=\"_2iDkf8 t0pPfW\"><input type=\"checkbox\" class=\"_30VH1S\" readonly=\"\"/><div class=\"_24_Dny\"></div><div class=\"_3879cV\">Special Price</div></label></div></div></div></div></section><section class=\"_167Mu3 _2hbLCH\"><div class=\"_213eRC _2ssEMF\"><div class=\"_2gmUFU _3V8rao\">Graphics Memory Type</div><svg width=\"16\" height=\"27\" viewBox=\"0 0 16 27\" xmlns=\"http://www.w3.org/2000/svg\" class=\"ttx38n\"><path d=\"M16 23.207L6.11 13.161 16 3.093 12.955 0 0 13.161l12.955 13.161z\" fill=\"#fff\" class=\"IIvmWM\"></path></svg></div></section><section class=\"_167Mu3 _2hbLCH\"><div class=\"_213eRC _2ssEMF\"><div class=\"_2gmUFU _3V8rao\">Availability</div><svg width=\"16\" height=\"27\" viewBox=\"0 0 16 27\" xmlns=\"http://www.w3.org/2000/svg\" class=\"ttx38n\"><path d=\"M16 23.207L6.11 13.161 16 3.093 12.955 0 0 13.161l12.955 13.161z\" fill=\"#fff\" class=\"IIvmWM\"></path></svg></div></section></div></div><div class=\"_1AtVbE col-12-12\"><a class=\"_1nY1tt\" title=\"Buying Guide\" href=\"/buying-guide/laptops?sid=6bo,b5g&amp;otracker=bg_from_browse_lhs\"><div><span>Need help?</span></div><div class=\"_1mVNvF\"><span>Help me decide</span><svg width=\"16\" height=\"27\" viewBox=\"0 0 16 27\" xmlns=\"http://www.w3.org/2000/svg\" class=\"ViewtL\"><path d=\"M16 23.207L6.11 13.161 16 3.093 12.955 0 0 13.161l12.955 13.161z\" fill=\"#fff\" class=\"_2Zt1Py\"></path></svg></div><img alt=\"Buying Guide\" src=\"//static-assets-web.flixcart.com/www/linchpin/fk-cp-zion/img/buying-guide-illustration_4dd325.png\"/></a></div></div></div><div class=\"_1YokD2 _3Mn1Gg\" style=\"flex-grow:1;overflow:auto\"><div class=\"_1YokD2 _2GoDe3 col-12-12\" style=\"background-color:#ffffff;align-items:flex-end\"><div class=\"_1AtVbE\" style=\"flex-grow:1;overflow:auto\"><div class=\"W_R1IA\"><div class=\"_1MR4o5\"><div class=\"_3GIHBu\"><a class=\"_2whKao\" href=\"/\">Home</a><svg width=\"16\" height=\"27\" viewBox=\"0 0 16 27\" xmlns=\"http://www.w3.org/2000/svg\" class=\"_39X-Og\"><path d=\"M16 23.207L6.11 13.161 16 3.093 12.955 0 0 13.161l12.955 13.161z\" fill=\"#fff\" class=\"DpXnhQ\"></path></svg></div><div class=\"_3GIHBu\"><a class=\"_2whKao\" href=\"/computers/pr?sid=6bo&amp;marketplace=FLIPKART\">Computers</a><svg width=\"16\" height=\"27\" viewBox=\"0 0 16 27\" xmlns=\"http://www.w3.org/2000/svg\" class=\"_39X-Og\"><path d=\"M16 23.207L6.11 13.161 16 3.093 12.955 0 0 13.161l12.955 13.161z\" fill=\"#fff\" class=\"DpXnhQ\"></path></svg></div><div class=\"_3GIHBu\"><a class=\"_2whKao\" href=\"/laptops/pr?sid=6bo,b5g&amp;marketplace=FLIPKART\">Laptops</a><svg width=\"16\" height=\"27\" viewBox=\"0 0 16 27\" xmlns=\"http://www.w3.org/2000/svg\" class=\"_39X-Og\"><path d=\"M16 23.207L6.11 13.161 16 3.093 12.955 0 0 13.161l12.955 13.161z\" fill=\"#fff\" class=\"DpXnhQ\"></path></svg></div></div><span class=\"_10Ermr\">Showing 1 – 24 of 730 results for &quot;<span>laptop</span>&quot;</span><div class=\"_5THWM1\"><span class=\"_2i7N3j\">Sort By</span><div class=\"_10UF8M _3LsR0e\">Relevance</div><div class=\"_10UF8M\">Popularity</div><div class=\"_10UF8M\">Price -- Low to High</div><div class=\"_10UF8M\">Price -- High to Low</div><div class=\"_10UF8M\">Newest First</div></div></div></div></div><div class=\"_1AtVbE col-12-12\"><div class=\"_13oc-S\"><div data-id=\"COMFUR8X6RGZGYCJ\" style=\"width:100%\"><div class=\"_2kHMtA\"><div class=\"_2tfzpE\"><span>Ad</span></div><a class=\"_1fQZEK\" target=\"_blank\" rel=\"noopener noreferrer\" href=\"/acer-nitro-5-ryzen-hexa-core-4600h-8-gb-1-tb-hdd-256-gb-ssd-windows-10-home-4-graphics-nvidia-geforce-gtx-1650-an515-44-r9qa-gaming-laptop/p/itm4302e2e2671a5?pid=COMFUR8X6RGZGYCJ&amp;lid=LSTCOMFUR8X6RGZGYCJLMUQYG&amp;marketplace=FLIPKART&amp;q=laptop&amp;store=6bo%2Fb5g&amp;srno=s_1_1&amp;otracker=search&amp;otracker1=search&amp;fm=organic&amp;iid=en_sO2JoGGXnEpiPv5Z0NrfZXnzIXgoc1Nrzz2qZlYj%2BMvBDg40KGlufhoeHesA9x2%2FYb31eCDULCHyJJ%2F%2Fp1jWeg%3D%3D&amp;ppt=None&amp;ppn=None&amp;ssid=mixqt9kbcg0000001623469365852&amp;qH=312f91285e048e09\"><div class=\"MIXNux\"><div class=\"_2QcLo-\"><div><div class=\"CXW8mj\" style=\"height:200px;width:200px\"><img class=\"_396cs4 _3exPp9\" alt=\"acer Nitro 5 Ryzen 5 Hexa Core 4600H - (8 GB/1 TB HDD/256 GB SSD/Windows 10 Home/4 GB Graphics/NVIDIA ...\" src=\"https://rukminim1.flixcart.com/image/312/312/ke0a7ww0/computer/t/f/n/acer-original-imafusazjxw4v99h.jpeg?q=70\"/></div></div></div><div class=\"_3wLduG\"><div class=\"_3PzNI-\"><span class=\"f3A4_V\"><label class=\"_2iDkf8\"><input type=\"checkbox\" class=\"_30VH1S\" readonly=\"\"/><div class=\"_24_Dny\"></div></label></span><label class=\"_6Up2sF\"><span>Add to Compare</span></label></div></div><div class=\"_2hVSre _3nq8ih\"><div class=\"_36FSn5\"><svg xmlns=\"http://www.w3.org/2000/svg\" class=\"_1l0elc\" width=\"16\" height=\"16\" viewBox=\"0 0 20 16\"><path d=\"M8.695 16.682C4.06 12.382 1 9.536 1 6.065 1 3.219 3.178 1 5.95 1c1.566 0 3.069.746 4.05 1.915C10.981 1.745 12.484 1 14.05 1 16.822 1 19 3.22 19 6.065c0 3.471-3.06 6.316-7.695 10.617L10 17.897l-1.305-1.215z\" fill=\"#2874F0\" class=\"eX72wL\" stroke=\"#FFF\" fill-rule=\"evenodd\" opacity=\".9\"></path></svg></div></div></div><div class=\"_3pLy-c row\"><div class=\"col col-7-12\"><div class=\"_4rR01T\">acer Nitro 5 Ryzen 5 Hexa Core 4600H - (8 GB/1 TB HDD/256 GB SSD/Windows 10 Home/4 GB Graphics/NVIDIA ...</div><div class=\"gUuXy-\"><span id=\"productRating_LSTCOMFUR8X6RGZGYCJLMUQYG_COMFUR8X6RGZGYCJ_\" class=\"_1lRcqv\"><div class=\"_3LWZlK\">4.4<img src=\"data:image/svg+xml;base64,PHN2ZyB4bWxucz0iaHR0cDovL3d3dy53My5vcmcvMjAwMC9zdmciIHdpZHRoPSIxMyIgaGVpZ2h0PSIxMiI+PHBhdGggZmlsbD0iI0ZGRiIgZD0iTTYuNSA5LjQzOWwtMy42NzQgMi4yMy45NC00LjI2LTMuMjEtMi44ODMgNC4yNTQtLjQwNEw2LjUuMTEybDEuNjkgNC4wMSA0LjI1NC40MDQtMy4yMSAyLjg4Mi45NCA0LjI2eiIvPjwvc3ZnPg==\" class=\"_1wB99o\"/></div></span><span class=\"_2_R_DZ\"><span><span>172 Ratings\\xa0</span><span class=\"_13vcmD\">&amp;</span><span>\\xa030 Reviews</span></span></span></div><div class=\"fMghEO\"><ul class=\"_1xgFaf\"><li class=\"rgWa7D\">AMD Ryzen 5 Hexa Core Processor</li><li class=\"rgWa7D\">8 GB DDR4 RAM</li><li class=\"rgWa7D\">64 bit Windows 10 Operating System</li><li class=\"rgWa7D\">1 TB HDD|256 GB SSD</li><li class=\"rgWa7D\">39.62 cm (15.6 inch) Display</li><li class=\"rgWa7D\">Acer Care Center, Acer Product Registration, Acer Configuration Manager, NitroSense</li><li class=\"rgWa7D\">1 Year International Travelers Warranty (ITW)</li></ul></div></div><div class=\"col col-5-12 nlI3QM\"><div class=\"_3tbKJL\"><div class=\"_25b18c\"><div class=\"_30jeq3 _1_WHN1\">₹64,990</div><div class=\"_3I9_wc _27UcVY\">₹<!-- -->78,999</div><div class=\"_3Ay6Sb\"><span>17% off</span></div></div><div class=\"_3tcB5a p8ucoS\"><div><div class=\"_2Tpdn3\" style=\"color:#000000;font-size:14px;font-style:normal;font-weight:400\">Or Pay ₹64,890 + </div><div class=\"CXW8mj _1lT03L\" style=\"height:12px;width:12px\"><img class=\"_396cs4\" alt=\"\" src=\"//static-assets-web.flixcart.com/www/linchpin/fk-cp-zion/img/placeholder_fcebae.svg\"/></div><div class=\"_2Tpdn3\" style=\"color:#000000;font-size:14px;font-style:normal;font-weight:400\"> 100</div></div></div></div><div class=\"_13J9qT\"><img height=\"21\" src=\"//static-assets-web.flixcart.com/www/linchpin/fk-cp-zion/img/fa_62673a.png\"/></div></div></div></a></div></div></div></div><div class=\"_1AtVbE col-12-12\"><div class=\"_13oc-S\"><div data-id=\"COMFTPG2R9TXBRMU\" style=\"width:100%\"><div class=\"_2kHMtA\"><div class=\"_2tfzpE\"><span>Ad</span></div><a class=\"_1fQZEK\" target=\"_blank\" rel=\"noopener noreferrer\" href=\"/avita-liber-core-i5-10th-gen-8-gb-256-gb-ssd-windows-10-home-ns14a8inf542-cs-thin-light-laptop/p/itmf563723051847?pid=COMFTPG2R9TXBRMU&amp;lid=LSTCOMFTPG2R9TXBRMUGCOCJE&amp;marketplace=FLIPKART&amp;q=laptop&amp;store=6bo%2Fb5g&amp;srno=s_1_2&amp;otracker=search&amp;otracker1=search&amp;fm=organic&amp;iid=en_sO2JoGGXnEpiPv5Z0NrfZXnzIXgoc1Nrzz2qZlYj%2BMt9QDzSdRhTC8bHzKYYFY%2FzDvavM87VloxcTguxX%2Bul1Q%3D%3D&amp;ppt=None&amp;ppn=None&amp;ssid=mixqt9kbcg0000001623469365852&amp;qH=312f91285e048e09\"><div class=\"MIXNux\"><div class=\"_2QcLo-\"><div><div class=\"CXW8mj\" style=\"height:200px;width:200px\"><img class=\"_396cs4 _3exPp9\" alt=\"Avita Liber Core i5 10th Gen - (8 GB/256 GB SSD/Windows 10 Home) NS14A8INF542-CS Thin and Light Laptop\" src=\"https://rukminim1.flixcart.com/image/312/312/kg2l47k0/computer/r/m/u/avita-original-imafwdc34ykztesp.jpeg?q=70\"/></div></div></div><div class=\"_3wLduG\"><div class=\"_3PzNI-\"><span class=\"f3A4_V\"><label class=\"_2iDkf8\"><input type=\"checkbox\" class=\"_30VH1S\" readonly=\"\"/><div class=\"_24_Dny\"></div></label></span><label class=\"_6Up2sF\"><span>Add to Compare</span></label></div></div><div class=\"_2hVSre _3nq8ih\"><div class=\"_36FSn5\"><svg xmlns=\"http://www.w3.org/2000/svg\" class=\"_1l0elc\" width=\"16\" height=\"16\" viewBox=\"0 0 20 16\"><path d=\"M8.695 16.682C4.06 12.382 1 9.536 1 6.065 1 3.219 3.178 1 5.95 1c1.566 0 3.069.746 4.05 1.915C10.981 1.745 12.484 1 14.05 1 16.822 1 19 3.22 19 6.065c0 3.471-3.06 6.316-7.695 10.617L10 17.897l-1.305-1.215z\" fill=\"#2874F0\" class=\"eX72wL\" stroke=\"#FFF\" fill-rule=\"evenodd\" opacity=\".9\"></path></svg></div></div></div><div class=\"_3pLy-c row\"><div class=\"col col-7-12\"><div class=\"_4rR01T\">Avita Liber Core i5 10th Gen - (8 GB/256 GB SSD/Windows 10 Home) NS14A8INF542-CS Thin and Light Laptop</div><div class=\"gUuXy-\"><span id=\"productRating_LSTCOMFTPG2R9TXBRMUGCOCJE_COMFTPG2R9TXBRMU_\" class=\"_1lRcqv\"><div class=\"_3LWZlK\">4<img src=\"data:image/svg+xml;base64,PHN2ZyB4bWxucz0iaHR0cDovL3d3dy53My5vcmcvMjAwMC9zdmciIHdpZHRoPSIxMyIgaGVpZ2h0PSIxMiI+PHBhdGggZmlsbD0iI0ZGRiIgZD0iTTYuNSA5LjQzOWwtMy42NzQgMi4yMy45NC00LjI2LTMuMjEtMi44ODMgNC4yNTQtLjQwNEw2LjUuMTEybDEuNjkgNC4wMSA0LjI1NC40MDQtMy4yMSAyLjg4Mi45NCA0LjI2eiIvPjwvc3ZnPg==\" class=\"_1wB99o\"/></div></span><span class=\"_2_R_DZ\"><span><span>123 Ratings\\xa0</span><span class=\"_13vcmD\">&amp;</span><span>\\xa013 Reviews</span></span></span></div><div class=\"fMghEO\"><ul class=\"_1xgFaf\"><li class=\"rgWa7D\">Intel Core i5 Processor (10th Gen)</li><li class=\"rgWa7D\">8 GB DDR4 RAM</li><li class=\"rgWa7D\">64 bit Windows 10 Operating System</li><li class=\"rgWa7D\">256 GB SSD</li><li class=\"rgWa7D\">35.56 cm (14 inch) Display</li><li class=\"rgWa7D\">Microsoft Office 365 (for 1 Year)</li><li class=\"rgWa7D\">18 Months Warranty + 6 Months Extended Warranty (6 Months Extended Warranty Upon Online Product Registration on www.avita-india.com)</li></ul></div></div><div class=\"col col-5-12 nlI3QM\"><div class=\"_3tbKJL\"><div class=\"_25b18c\"><div class=\"_30jeq3 _1_WHN1\">₹40,890</div><div class=\"_3I9_wc _27UcVY\">₹<!-- -->52,990</div><div class=\"_3Ay6Sb\"><span>22% off</span></div></div><div class=\"_3tcB5a p8ucoS\"><div><div class=\"_2Tpdn3\" style=\"color:#000000;font-size:14px;font-style:normal;font-weight:400\">Or Pay ₹40,790 + </div><div class=\"CXW8mj _1lT03L\" style=\"height:12px;width:12px\"><img class=\"_396cs4\" alt=\"\" src=\"//static-assets-web.flixcart.com/www/linchpin/fk-cp-zion/img/placeholder_fcebae.svg\"/></div><div class=\"_2Tpdn3\" style=\"color:#000000;font-size:14px;font-style:normal;font-weight:400\"> 100</div></div></div></div><div class=\"_13J9qT\"><img height=\"21\" src=\"//static-assets-web.flixcart.com/www/linchpin/fk-cp-zion/img/fa_62673a.png\"/></div><div class=\"_2ZdXDB\"><div class=\"_3xFhiH\"><div class=\"_2Tpdn3 _18hQoS\" style=\"color:#000000;font-size:12px;font-style:normal;font-weight:400\">No Cost EMI</div></div></div></div></div></a></div></div></div></div><div class=\"_1AtVbE col-12-12\"><div class=\"_13oc-S\"><div data-id=\"COMFZ2MUDVF73GDA\" style=\"width:100%\"><div class=\"_2kHMtA\"><a class=\"_1fQZEK\" target=\"_blank\" rel=\"noopener noreferrer\" href=\"/hp-15s-dual-core-3020e-4-gb-1-tb-hdd-windows-10-home-15s-gy0003au-thin-light-laptop/p/itm4b0ea73088120?pid=COMFZ2MUDVF73GDA&amp;lid=LSTCOMFZ2MUDVF73GDADFZCZQ&amp;marketplace=FLIPKART&amp;q=laptop&amp;store=6bo%2Fb5g&amp;srno=s_1_3&amp;otracker=search&amp;otracker1=search&amp;fm=organic&amp;iid=a34ade47-0df5-4ca4-a483-0ea1f0ee37cb.COMFZ2MUDVF73GDA.SEARCH&amp;ppt=None&amp;ppn=None&amp;ssid=mixqt9kbcg0000001623469365852&amp;qH=312f91285e048e09\"><div class=\"MIXNux\"><div class=\"_2QcLo-\"><div><div class=\"CXW8mj\" style=\"height:200px;width:200px\"><img class=\"_396cs4 _3exPp9\" alt=\"HP 15s Dual Core 3020e - (4 GB/1 TB HDD/Windows 10 Home) 15s-GY0003AU Thin and Light Laptop\" src=\"https://rukminim1.flixcart.com/image/312/312/khwbde80/computer/c/4/h/hp-original-imafxtarxygbevbh.jpeg?q=70\"/></div></div></div><div class=\"_3wLduG\"><div class=\"_3PzNI-\"><span class=\"f3A4_V\"><label class=\"_2iDkf8\"><input type=\"checkbox\" class=\"_30VH1S\" readonly=\"\"/><div class=\"_24_Dny\"></div></label></span><label class=\"_6Up2sF\"><span>Add to Compare</span></label></div></div><div class=\"_2hVSre _3nq8ih\"><div class=\"_36FSn5\"><svg xmlns=\"http://www.w3.org/2000/svg\" class=\"_1l0elc\" width=\"16\" height=\"16\" viewBox=\"0 0 20 16\"><path d=\"M8.695 16.682C4.06 12.382 1 9.536 1 6.065 1 3.219 3.178 1 5.95 1c1.566 0 3.069.746 4.05 1.915C10.981 1.745 12.484 1 14.05 1 16.822 1 19 3.22 19 6.065c0 3.471-3.06 6.316-7.695 10.617L10 17.897l-1.305-1.215z\" fill=\"#2874F0\" class=\"eX72wL\" stroke=\"#FFF\" fill-rule=\"evenodd\" opacity=\".9\"></path></svg></div></div></div><div class=\"_3pLy-c row\"><div class=\"col col-7-12\"><div class=\"_4rR01T\">HP 15s Dual Core 3020e - (4 GB/1 TB HDD/Windows 10 Home) 15s-GY0003AU Thin and Light Laptop</div><div class=\"gUuXy-\"><span id=\"productRating_LSTCOMFZ2MUDVF73GDADFZCZQ_COMFZ2MUDVF73GDA_\" class=\"_1lRcqv\"><div class=\"_3LWZlK\">3.9<img src=\"data:image/svg+xml;base64,PHN2ZyB4bWxucz0iaHR0cDovL3d3dy53My5vcmcvMjAwMC9zdmciIHdpZHRoPSIxMyIgaGVpZ2h0PSIxMiI+PHBhdGggZmlsbD0iI0ZGRiIgZD0iTTYuNSA5LjQzOWwtMy42NzQgMi4yMy45NC00LjI2LTMuMjEtMi44ODMgNC4yNTQtLjQwNEw2LjUuMTEybDEuNjkgNC4wMSA0LjI1NC40MDQtMy4yMSAyLjg4Mi45NCA0LjI2eiIvPjwvc3ZnPg==\" class=\"_1wB99o\"/></div></span><span class=\"_2_R_DZ\"><span><span>1,633 Ratings\\xa0</span><span class=\"_13vcmD\">&amp;</span><span>\\xa0180 Reviews</span></span></span></div><div class=\"fMghEO\"><ul class=\"_1xgFaf\"><li class=\"rgWa7D\">AMD Dual Core Processor</li><li class=\"rgWa7D\">4 GB DDR4 RAM</li><li class=\"rgWa7D\">64 bit Windows 10 Operating System</li><li class=\"rgWa7D\">1 TB HDD</li><li class=\"rgWa7D\">39.62 cm (15.6 inch) Display</li><li class=\"rgWa7D\">HP Documentation, HP Smart, HP Support Assistant</li><li class=\"rgWa7D\">1 Year Onsite Warranty</li></ul></div></div><div class=\"col col-5-12 nlI3QM\"><div class=\"_3tbKJL\"><div class=\"_25b18c\"><div class=\"_30jeq3 _1_WHN1\">₹25,990</div><div class=\"_3I9_wc _27UcVY\">₹<!-- -->25,996</div></div></div><div class=\"_13J9qT\"><img height=\"21\" src=\"//static-assets-web.flixcart.com/www/linchpin/fk-cp-zion/img/fa_62673a.png\"/></div></div></div></a></div></div></div></div><div class=\"_1AtVbE col-12-12\"><div class=\"_13oc-S\"><div data-id=\"COMG2TFSNK3KRFPA\" style=\"width:100%\"><div class=\"_2kHMtA\"><a class=\"_1fQZEK\" target=\"_blank\" rel=\"noopener noreferrer\" href=\"/hp-14s-core-i3-11th-gen-8-gb-256-gb-ssd-windows-10-home-14s-dy2501tu-thin-light-laptop/p/itmdce0f13dd3a4e?pid=COMG2TFSNK3KRFPA&amp;lid=LSTCOMG2TFSNK3KRFPAFSHCEC&amp;marketplace=FLIPKART&amp;q=laptop&amp;store=6bo%2Fb5g&amp;srno=s_1_4&amp;otracker=search&amp;otracker1=search&amp;fm=organic&amp;iid=a34ade47-0df5-4ca4-a483-0ea1f0ee37cb.COMG2TFSNK3KRFPA.SEARCH&amp;ppt=None&amp;ppn=None&amp;ssid=mixqt9kbcg0000001623469365852&amp;qH=312f91285e048e09\"><div class=\"MIXNux\"><div class=\"_2QcLo-\"><div><div class=\"CXW8mj\" style=\"height:200px;width:200px\"><img class=\"_396cs4 _3exPp9\" alt=\"HP 14s Core i3 11th Gen - (8 GB/256 GB SSD/Windows 10 Home) 14s- DY2501TU Thin and Light Laptop\" src=\"https://rukminim1.flixcart.com/image/312/312/kbqu4cw0/computer/v/r/y/hp-original-imaftyzqzbyerzgt.jpeg?q=70\"/></div></div></div><div class=\"_3wLduG\"><div class=\"_3PzNI-\"><span class=\"f3A4_V\"><label class=\"_2iDkf8\"><input type=\"checkbox\" class=\"_30VH1S\" readonly=\"\"/><div class=\"_24_Dny\"></div></label></span><label class=\"_6Up2sF\"><span>Add to Compare</span></label></div></div><div class=\"_2hVSre _3nq8ih\"><div class=\"_36FSn5\"><svg xmlns=\"http://www.w3.org/2000/svg\" class=\"_1l0elc\" width=\"16\" height=\"16\" viewBox=\"0 0 20 16\"><path d=\"M8.695 16.682C4.06 12.382 1 9.536 1 6.065 1 3.219 3.178 1 5.95 1c1.566 0 3.069.746 4.05 1.915C10.981 1.745 12.484 1 14.05 1 16.822 1 19 3.22 19 6.065c0 3.471-3.06 6.316-7.695 10.617L10 17.897l-1.305-1.215z\" fill=\"#2874F0\" class=\"eX72wL\" stroke=\"#FFF\" fill-rule=\"evenodd\" opacity=\".9\"></path></svg></div></div></div><div class=\"_3pLy-c row\"><div class=\"col col-7-12\"><div class=\"_4rR01T\">HP 14s Core i3 11th Gen - (8 GB/256 GB SSD/Windows 10 Home) 14s- DY2501TU Thin and Light Laptop</div><div class=\"gUuXy-\"><span id=\"productRating_LSTCOMG2TFSNK3KRFPAFSHCEC_COMG2TFSNK3KRFPA_\" class=\"_1lRcqv\"><div class=\"_3LWZlK\">4.6<img src=\"data:image/svg+xml;base64,PHN2ZyB4bWxucz0iaHR0cDovL3d3dy53My5vcmcvMjAwMC9zdmciIHdpZHRoPSIxMyIgaGVpZ2h0PSIxMiI+PHBhdGggZmlsbD0iI0ZGRiIgZD0iTTYuNSA5LjQzOWwtMy42NzQgMi4yMy45NC00LjI2LTMuMjEtMi44ODMgNC4yNTQtLjQwNEw2LjUuMTEybDEuNjkgNC4wMSA0LjI1NC40MDQtMy4yMSAyLjg4Mi45NCA0LjI2eiIvPjwvc3ZnPg==\" class=\"_1wB99o\"/></div></span><span class=\"_2_R_DZ\"><span><span>105 Ratings\\xa0</span><span class=\"_13vcmD\">&amp;</span><span>\\xa016 Reviews</span></span></span></div><div class=\"fMghEO\"><ul class=\"_1xgFaf\"><li class=\"rgWa7D\">Intel Core i3 Processor (11th Gen)</li><li class=\"rgWa7D\">8 GB DDR4 RAM</li><li class=\"rgWa7D\">64 bit Windows 10 Operating System</li><li class=\"rgWa7D\">256 GB SSD</li><li class=\"rgWa7D\">35.56 cm (14 inch) Display</li><li class=\"rgWa7D\">HP Documentation, HP SSRM, HP Smart, Microsoft Office 2019, McAfeeLiveSafe 30 day trial, HP Support Assistant</li><li class=\"rgWa7D\">1 Year Onsite Warranty</li></ul></div></div><div class=\"col col-5-12 nlI3QM\"><div class=\"_3tbKJL\"><div class=\"_25b18c\"><div class=\"_30jeq3 _1_WHN1\">₹40,990</div><div class=\"_3I9_wc _27UcVY\">₹<!-- -->45,892</div><div class=\"_3Ay6Sb\"><span>10% off</span></div></div><div class=\"_3tcB5a p8ucoS\"><div><div class=\"_2Tpdn3\" style=\"color:#000000;font-size:14px;font-style:normal;font-weight:400\">Or Pay ₹40,890 + </div><div class=\"CXW8mj _1lT03L\" style=\"height:12px;width:12px\"><img class=\"_396cs4\" alt=\"\" src=\"//static-assets-web.flixcart.com/www/linchpin/fk-cp-zion/img/placeholder_fcebae.svg\"/></div><div class=\"_2Tpdn3\" style=\"color:#000000;font-size:14px;font-style:normal;font-weight:400\"> 100</div></div></div></div><div class=\"_13J9qT\"><img height=\"21\" src=\"//static-assets-web.flixcart.com/www/linchpin/fk-cp-zion/img/fa_62673a.png\"/></div><div class=\"_2ZdXDB\"><div class=\"_3xFhiH\"><div class=\"_2Tpdn3 _18hQoS\" style=\"color:#000000;font-size:12px;font-style:normal;font-weight:400\">No Cost EMI</div></div></div></div></div></a></div></div></div></div><div class=\"_1AtVbE col-12-12\"><div class=\"_13oc-S\"><div data-id=\"COMGYCG8W3VY8SGB\" style=\"width:100%\"><div class=\"_2kHMtA\"><a class=\"_1fQZEK\" target=\"_blank\" rel=\"noopener noreferrer\" href=\"/dell-inspiron-core-i3-10th-gen-8-gb-1-tb-hdd-windows-10-home-3501-laptop/p/itm14e0fb1e72e99?pid=COMGYCG8W3VY8SGB&amp;lid=LSTCOMGYCG8W3VY8SGBZHGCHM&amp;marketplace=FLIPKART&amp;q=laptop&amp;store=6bo%2Fb5g&amp;srno=s_1_5&amp;otracker=search&amp;otracker1=search&amp;fm=organic&amp;iid=a34ade47-0df5-4ca4-a483-0ea1f0ee37cb.COMGYCG8W3VY8SGB.SEARCH&amp;ppt=None&amp;ppn=None&amp;ssid=mixqt9kbcg0000001623469365852&amp;qH=312f91285e048e09\"><div class=\"MIXNux\"><div class=\"_2QcLo-\"><div><div class=\"CXW8mj\" style=\"height:200px;width:200px\"><img class=\"_396cs4 _3exPp9\" alt=\"DELL Inspiron Core i3 10th Gen - (8 GB/1 TB HDD/Windows 10 Home) Inspiron 3501 Laptop\" src=\"https://rukminim1.flixcart.com/image/312/312/kl5hh8w0/computer/i/5/o/dell-original-imagychcwdg562a7.jpeg?q=70\"/></div></div></div><div class=\"_3wLduG\"><div class=\"_3PzNI-\"><span class=\"f3A4_V\"><label class=\"_2iDkf8\"><input type=\"checkbox\" class=\"_30VH1S\" readonly=\"\"/><div class=\"_24_Dny\"></div></label></span><label class=\"_6Up2sF\"><span>Add to Compare</span></label></div></div><div class=\"_2hVSre _3nq8ih\"><div class=\"_36FSn5\"><svg xmlns=\"http://www.w3.org/2000/svg\" class=\"_1l0elc\" width=\"16\" height=\"16\" viewBox=\"0 0 20 16\"><path d=\"M8.695 16.682C4.06 12.382 1 9.536 1 6.065 1 3.219 3.178 1 5.95 1c1.566 0 3.069.746 4.05 1.915C10.981 1.745 12.484 1 14.05 1 16.822 1 19 3.22 19 6.065c0 3.471-3.06 6.316-7.695 10.617L10 17.897l-1.305-1.215z\" fill=\"#2874F0\" class=\"eX72wL\" stroke=\"#FFF\" fill-rule=\"evenodd\" opacity=\".9\"></path></svg></div></div></div><div class=\"_3pLy-c row\"><div class=\"col col-7-12\"><div class=\"_4rR01T\">DELL Inspiron Core i3 10th Gen - (8 GB/1 TB HDD/Windows 10 Home) Inspiron 3501 Laptop</div><div class=\"gUuXy-\"><span id=\"productRating_LSTCOMGYCG8W3VY8SGBZHGCHM_COMGYCG8W3VY8SGB_\" class=\"_1lRcqv\"><div class=\"_3LWZlK\">3.8<img src=\"data:image/svg+xml;base64,PHN2ZyB4bWxucz0iaHR0cDovL3d3dy53My5vcmcvMjAwMC9zdmciIHdpZHRoPSIxMyIgaGVpZ2h0PSIxMiI+PHBhdGggZmlsbD0iI0ZGRiIgZD0iTTYuNSA5LjQzOWwtMy42NzQgMi4yMy45NC00LjI2LTMuMjEtMi44ODMgNC4yNTQtLjQwNEw2LjUuMTEybDEuNjkgNC4wMSA0LjI1NC40MDQtMy4yMSAyLjg4Mi45NCA0LjI2eiIvPjwvc3ZnPg==\" class=\"_1wB99o\"/></div></span><span class=\"_2_R_DZ\"><span><span>75 Ratings\\xa0</span><span class=\"_13vcmD\">&amp;</span><span>\\xa011 Reviews</span></span></span></div><div class=\"fMghEO\"><ul class=\"_1xgFaf\"><li class=\"rgWa7D\">Intel Core i3 Processor (10th Gen)</li><li class=\"rgWa7D\">8 GB DDR4 RAM</li><li class=\"rgWa7D\">64 bit Windows 10 Operating System</li><li class=\"rgWa7D\">1 TB HDD</li><li class=\"rgWa7D\">39.62 cm (15.6 inch) Display</li><li class=\"rgWa7D\">Microsoft Office Home and Student 2019</li><li class=\"rgWa7D\">1 Year Limited Hardware Warranty, In Home Service After Remote Diagnosis - Retail</li></ul></div></div><div class=\"col col-5-12 nlI3QM\"><div class=\"_3tbKJL\"><div class=\"_25b18c\"><div class=\"_30jeq3 _1_WHN1\">₹39,475</div><div class=\"_3I9_wc _27UcVY\">₹<!-- -->40,937</div><div class=\"_3Ay6Sb\"><span>3% off</span></div></div><div class=\"_3tcB5a p8ucoS\"><div><div class=\"_2Tpdn3\" style=\"color:#000000;font-size:14px;font-style:normal;font-weight:400\">Or Pay ₹39,375 + </div><div class=\"CXW8mj _1lT03L\" style=\"height:12px;width:12px\"><img class=\"_396cs4\" alt=\"\" src=\"//static-assets-web.flixcart.com/www/linchpin/fk-cp-zion/img/placeholder_fcebae.svg\"/></div><div class=\"_2Tpdn3\" style=\"color:#000000;font-size:14px;font-style:normal;font-weight:400\"> 100</div></div></div></div><div class=\"_13J9qT\"><img height=\"21\" src=\"//static-assets-web.flixcart.com/www/linchpin/fk-cp-zion/img/fa_62673a.png\"/></div><div class=\"_2ZdXDB\"><div class=\"_3xFhiH\"><div class=\"_2Tpdn3 _18hQoS\" style=\"color:#000000;font-size:12px;font-style:normal;font-weight:400\">No Cost EMI</div></div></div></div></div></a></div></div></div></div><div class=\"_1AtVbE col-12-12\"><div class=\"_13oc-S\"><div data-id=\"COMGFHGFZ7HFZSBA\" style=\"width:100%\"><div class=\"_2kHMtA\"><a class=\"_1fQZEK\" target=\"_blank\" rel=\"noopener noreferrer\" href=\"/hp-15s-athlon-dual-core-4-gb-1-tb-hdd-windows-10-home-15s-gy0001au-thin-light-laptop/p/itmfde60f9520336?pid=COMGFHGFZ7HFZSBA&amp;lid=LSTCOMGFHGFZ7HFZSBAUX64XI&amp;marketplace=FLIPKART&amp;q=laptop&amp;store=6bo%2Fb5g&amp;srno=s_1_6&amp;otracker=search&amp;otracker1=search&amp;fm=organic&amp;iid=a34ade47-0df5-4ca4-a483-0ea1f0ee37cb.COMGFHGFZ7HFZSBA.SEARCH&amp;ppt=None&amp;ppn=None&amp;ssid=mixqt9kbcg0000001623469365852&amp;qH=312f91285e048e09\"><div class=\"MIXNux\"><div class=\"_2QcLo-\"><div><div class=\"CXW8mj\" style=\"height:200px;width:200px\"><img class=\"_396cs4 _3exPp9\" alt=\"HP 15s Athlon Dual Core - (4 GB/1 TB HDD/Windows 10 Home) 15s-GY0001AU Thin and Light Laptop\" src=\"https://rukminim1.flixcart.com/image/312/312/khwbde80/computer/c/4/h/hp-original-imafxtarxygbevbh.jpeg?q=70\"/></div></div></div><div class=\"_3wLduG\"><div class=\"_3PzNI-\"><span class=\"f3A4_V\"><label class=\"_2iDkf8\"><input type=\"checkbox\" class=\"_30VH1S\" readonly=\"\"/><div class=\"_24_Dny\"></div></label></span><label class=\"_6Up2sF\"><span>Add to Compare</span></label></div></div><div class=\"_2hVSre _3nq8ih\"><div class=\"_36FSn5\"><svg xmlns=\"http://www.w3.org/2000/svg\" class=\"_1l0elc\" width=\"16\" height=\"16\" viewBox=\"0 0 20 16\"><path d=\"M8.695 16.682C4.06 12.382 1 9.536 1 6.065 1 3.219 3.178 1 5.95 1c1.566 0 3.069.746 4.05 1.915C10.981 1.745 12.484 1 14.05 1 16.822 1 19 3.22 19 6.065c0 3.471-3.06 6.316-7.695 10.617L10 17.897l-1.305-1.215z\" fill=\"#2874F0\" class=\"eX72wL\" stroke=\"#FFF\" fill-rule=\"evenodd\" opacity=\".9\"></path></svg></div></div></div><div class=\"_3pLy-c row\"><div class=\"col col-7-12\"><div class=\"_4rR01T\">HP 15s Athlon Dual Core - (4 GB/1 TB HDD/Windows 10 Home) 15s-GY0001AU Thin and Light Laptop</div><div class=\"gUuXy-\"><span id=\"productRating_LSTCOMGFHGFZ7HFZSBAUX64XI_COMGFHGFZ7HFZSBA_\" class=\"_1lRcqv\"><div class=\"_3LWZlK\">4.1<img src=\"data:image/svg+xml;base64,PHN2ZyB4bWxucz0iaHR0cDovL3d3dy53My5vcmcvMjAwMC9zdmciIHdpZHRoPSIxMyIgaGVpZ2h0PSIxMiI+PHBhdGggZmlsbD0iI0ZGRiIgZD0iTTYuNSA5LjQzOWwtMy42NzQgMi4yMy45NC00LjI2LTMuMjEtMi44ODMgNC4yNTQtLjQwNEw2LjUuMTEybDEuNjkgNC4wMSA0LjI1NC40MDQtMy4yMSAyLjg4Mi45NCA0LjI2eiIvPjwvc3ZnPg==\" class=\"_1wB99o\"/></div></span><span class=\"_2_R_DZ\"><span><span>299 Ratings\\xa0</span><span class=\"_13vcmD\">&amp;</span><span>\\xa038 Reviews</span></span></span></div><div class=\"fMghEO\"><ul class=\"_1xgFaf\"><li class=\"rgWa7D\">AMD Athlon Dual Core Processor</li><li class=\"rgWa7D\">4 GB DDR4 RAM</li><li class=\"rgWa7D\">64 bit Windows 10 Operating System</li><li class=\"rgWa7D\">1 TB HDD</li><li class=\"rgWa7D\">39.62 cm (15.6 inch) Display</li><li class=\"rgWa7D\">Microsoft Office Home &amp; Student 2019, HP Documentation, HP Smart, HP Support Assistant</li><li class=\"rgWa7D\">1 Year Onsite Warranty</li></ul></div></div><div class=\"col col-5-12 nlI3QM\"><div class=\"_3tbKJL\"><div class=\"_25b18c\"><div class=\"_30jeq3 _1_WHN1\">₹27,490</div><div class=\"_3I9_wc _27UcVY\">₹<!-- -->28,420</div><div class=\"_3Ay6Sb\"><span>3% off</span></div></div><div class=\"_3tcB5a p8ucoS\"><div><div class=\"_2Tpdn3\" style=\"color:#000000;font-size:14px;font-style:normal;font-weight:400\">Or Pay ₹27,390 + </div><div class=\"CXW8mj _1lT03L\" style=\"height:12px;width:12px\"><img class=\"_396cs4\" alt=\"\" src=\"//static-assets-web.flixcart.com/www/linchpin/fk-cp-zion/img/placeholder_fcebae.svg\"/></div><div class=\"_2Tpdn3\" style=\"color:#000000;font-size:14px;font-style:normal;font-weight:400\"> 100</div></div></div></div><div class=\"_13J9qT\"><img height=\"21\" src=\"//static-assets-web.flixcart.com/www/linchpin/fk-cp-zion/img/fa_62673a.png\"/></div><div class=\"_2ZdXDB\"><div class=\"_3xFhiH\"><div class=\"_2Tpdn3 _18hQoS\" style=\"color:#000000;font-size:12px;font-style:normal;font-weight:400\">No Cost EMI</div></div></div></div></div></a></div></div></div></div><div class=\"_1AtVbE col-12-12\"><div class=\"_13oc-S\"><div data-id=\"COMFUUJGMZCNJDZH\" style=\"width:100%\"><div class=\"_2kHMtA\"><a class=\"_1fQZEK\" target=\"_blank\" rel=\"noopener noreferrer\" href=\"/acer-aspire-7-ryzen-5-quad-core-3550h-8-gb-512-gb-ssd-windows-10-home-4-graphics-nvidia-geforce-gtx-1650-60-hz-a715-41g-r6s8-gaming-laptop/p/itm56e58b0c59ea3?pid=COMFUUJGMZCNJDZH&amp;lid=LSTCOMFUUJGMZCNJDZHGUDORZ&amp;marketplace=FLIPKART&amp;q=laptop&amp;store=6bo%2Fb5g&amp;srno=s_1_7&amp;otracker=search&amp;otracker1=search&amp;fm=organic&amp;iid=a34ade47-0df5-4ca4-a483-0ea1f0ee37cb.COMFUUJGMZCNJDZH.SEARCH&amp;ppt=None&amp;ppn=None&amp;ssid=mixqt9kbcg0000001623469365852&amp;qH=312f91285e048e09\"><div class=\"MIXNux\"><div class=\"_2QcLo-\"><div><div class=\"CXW8mj\" style=\"height:200px;width:200px\"><img class=\"_396cs4 _3exPp9\" alt=\"acer Aspire 7 Ryzen 5 Quad Core 3550H - (8 GB/512 GB SSD/Windows 10 Home/4 GB Graphics/NVIDIA GeForce ...\" src=\"https://rukminim1.flixcart.com/image/312/312/kcc9q4w0/computer/h/t/g/acer-na-gaming-laptop-original-imafthr8aa4rsjpn.jpeg?q=70\"/></div></div></div><div class=\"_3wLduG\"><div class=\"_3PzNI-\"><span class=\"f3A4_V\"><label class=\"_2iDkf8\"><input type=\"checkbox\" class=\"_30VH1S\" readonly=\"\"/><div class=\"_24_Dny\"></div></label></span><label class=\"_6Up2sF\"><span>Add to Compare</span></label></div></div><div class=\"_2hVSre _3nq8ih\"><div class=\"_36FSn5\"><svg xmlns=\"http://www.w3.org/2000/svg\" class=\"_1l0elc\" width=\"16\" height=\"16\" viewBox=\"0 0 20 16\"><path d=\"M8.695 16.682C4.06 12.382 1 9.536 1 6.065 1 3.219 3.178 1 5.95 1c1.566 0 3.069.746 4.05 1.915C10.981 1.745 12.484 1 14.05 1 16.822 1 19 3.22 19 6.065c0 3.471-3.06 6.316-7.695 10.617L10 17.897l-1.305-1.215z\" fill=\"#2874F0\" class=\"eX72wL\" stroke=\"#FFF\" fill-rule=\"evenodd\" opacity=\".9\"></path></svg></div></div></div><div class=\"_3pLy-c row\"><div class=\"col col-7-12\"><div class=\"_4rR01T\">acer Aspire 7 Ryzen 5 Quad Core 3550H - (8 GB/512 GB SSD/Windows 10 Home/4 GB Graphics/NVIDIA GeForce ...</div><div class=\"gUuXy-\"><span id=\"productRating_LSTCOMFUUJGMZCNJDZHGUDORZ_COMFUUJGMZCNJDZH_\" class=\"_1lRcqv\"><div class=\"_3LWZlK\">4.4<img src=\"data:image/svg+xml;base64,PHN2ZyB4bWxucz0iaHR0cDovL3d3dy53My5vcmcvMjAwMC9zdmciIHdpZHRoPSIxMyIgaGVpZ2h0PSIxMiI+PHBhdGggZmlsbD0iI0ZGRiIgZD0iTTYuNSA5LjQzOWwtMy42NzQgMi4yMy45NC00LjI2LTMuMjEtMi44ODMgNC4yNTQtLjQwNEw2LjUuMTEybDEuNjkgNC4wMSA0LjI1NC40MDQtMy4yMSAyLjg4Mi45NCA0LjI2eiIvPjwvc3ZnPg==\" class=\"_1wB99o\"/></div></span><span class=\"_2_R_DZ\"><span><span>5,347 Ratings\\xa0</span><span class=\"_13vcmD\">&amp;</span><span>\\xa0914 Reviews</span></span></span></div><div class=\"fMghEO\"><ul class=\"_1xgFaf\"><li class=\"rgWa7D\">AMD Ryzen 5 Quad Core Processor</li><li class=\"rgWa7D\">8 GB DDR4 RAM</li><li class=\"rgWa7D\">64 bit Windows 10 Operating System</li><li class=\"rgWa7D\">512 GB SSD</li><li class=\"rgWa7D\">39.62 cm (15.6 inch) Display</li><li class=\"rgWa7D\">Acer Collection, Acer Product Registration, Acer Care Center, Quick Access</li><li class=\"rgWa7D\">1 Year International Travelers Warranty (ITW)</li></ul></div></div><div class=\"col col-5-12 nlI3QM\"><div class=\"_3tbKJL\"><div class=\"_25b18c\"><div class=\"_30jeq3 _1_WHN1\">₹49,990</div><div class=\"_3I9_wc _27UcVY\">₹<!-- -->72,990</div><div class=\"_3Ay6Sb\"><span>31% off</span></div></div><div class=\"_3tcB5a p8ucoS\"><div><div class=\"_2Tpdn3\" style=\"color:#000000;font-size:14px;font-style:normal;font-weight:400\">Or Pay ₹49,890 + </div><div class=\"CXW8mj _1lT03L\" style=\"height:12px;width:12px\"><img class=\"_396cs4\" alt=\"\" src=\"//static-assets-web.flixcart.com/www/linchpin/fk-cp-zion/img/placeholder_fcebae.svg\"/></div><div class=\"_2Tpdn3\" style=\"color:#000000;font-size:14px;font-style:normal;font-weight:400\"> 100</div></div></div></div><div class=\"_13J9qT\"><img height=\"21\" src=\"//static-assets-web.flixcart.com/www/linchpin/fk-cp-zion/img/fa_62673a.png\"/></div><div class=\"_2ZdXDB\"><div class=\"_3xFhiH\"><div class=\"_2Tpdn3 _18hQoS\" style=\"color:#000000;font-size:12px;font-style:normal;font-weight:400\">No Cost EMI</div></div></div></div></div></a></div></div></div></div><div class=\"_1AtVbE col-12-12\"><div class=\"_13oc-S\"><div data-id=\"COMGFQ4APGXDQQ9N\" style=\"width:100%\"><div class=\"_2kHMtA\"><div class=\"_2tfzpE\"><span>Ad</span></div><a class=\"_1fQZEK\" target=\"_blank\" rel=\"noopener noreferrer\" href=\"/acer-aspire-3-core-i3-11th-gen-4-gb-256-gb-ssd-windows-10-home-a315-58-thin-light-laptop/p/itmdffdc847e9fdf?pid=COMGFQ4APGXDQQ9N&amp;lid=LSTCOMGFQ4APGXDQQ9NGN41FS&amp;marketplace=FLIPKART&amp;q=laptop&amp;store=6bo%2Fb5g&amp;srno=s_1_8&amp;otracker=search&amp;otracker1=search&amp;fm=organic&amp;iid=en_sO2JoGGXnEpiPv5Z0NrfZXnzIXgoc1Nrzz2qZlYj%2BMsDkmvtlaZFqFUsSdvKSx2cPqwX2WL43tjduJoZKvmaDw%3D%3D&amp;ppt=None&amp;ppn=None&amp;ssid=mixqt9kbcg0000001623469365852&amp;qH=312f91285e048e09\"><div class=\"MIXNux\"><div class=\"_2QcLo-\"><div><div class=\"CXW8mj\" style=\"height:200px;width:200px\"><img class=\"_396cs4 _3exPp9\" alt=\"acer Aspire 3 Core i3 11th Gen - (4 GB/256 GB SSD/Windows 10 Home) A315-58 Thin and Light Laptop\" src=\"https://rukminim1.flixcart.com/image/312/312/ko0d6kw0/computer/t/1/l/na-thin-and-light-laptop-acer-original-imag2kc4ryzkqvrt.jpeg?q=70\"/></div></div></div><div class=\"_3wLduG\"><div class=\"_3PzNI-\"><span class=\"f3A4_V\"><label class=\"_2iDkf8\"><input type=\"checkbox\" class=\"_30VH1S\" readonly=\"\"/><div class=\"_24_Dny\"></div></label></span><label class=\"_6Up2sF\"><span>Add to Compare</span></label></div></div><div class=\"_2hVSre _3nq8ih\"><div class=\"_36FSn5\"><svg xmlns=\"http://www.w3.org/2000/svg\" class=\"_1l0elc\" width=\"16\" height=\"16\" viewBox=\"0 0 20 16\"><path d=\"M8.695 16.682C4.06 12.382 1 9.536 1 6.065 1 3.219 3.178 1 5.95 1c1.566 0 3.069.746 4.05 1.915C10.981 1.745 12.484 1 14.05 1 16.822 1 19 3.22 19 6.065c0 3.471-3.06 6.316-7.695 10.617L10 17.897l-1.305-1.215z\" fill=\"#2874F0\" class=\"eX72wL\" stroke=\"#FFF\" fill-rule=\"evenodd\" opacity=\".9\"></path></svg></div></div></div><div class=\"_3pLy-c row\"><div class=\"col col-7-12\"><div class=\"_4rR01T\">acer Aspire 3 Core i3 11th Gen - (4 GB/256 GB SSD/Windows 10 Home) A315-58 Thin and Light Laptop</div><div class=\"gUuXy-\"><span id=\"productRating_LSTCOMGFQ4APGXDQQ9NGN41FS_COMGFQ4APGXDQQ9N_\" class=\"_1lRcqv\"><div class=\"_3LWZlK\">4.1<img src=\"data:image/svg+xml;base64,PHN2ZyB4bWxucz0iaHR0cDovL3d3dy53My5vcmcvMjAwMC9zdmciIHdpZHRoPSIxMyIgaGVpZ2h0PSIxMiI+PHBhdGggZmlsbD0iI0ZGRiIgZD0iTTYuNSA5LjQzOWwtMy42NzQgMi4yMy45NC00LjI2LTMuMjEtMi44ODMgNC4yNTQtLjQwNEw2LjUuMTEybDEuNjkgNC4wMSA0LjI1NC40MDQtMy4yMSAyLjg4Mi45NCA0LjI2eiIvPjwvc3ZnPg==\" class=\"_1wB99o\"/></div></span><span class=\"_2_R_DZ\"><span><span>283 Ratings\\xa0</span><span class=\"_13vcmD\">&amp;</span><span>\\xa050 Reviews</span></span></span></div><div class=\"fMghEO\"><ul class=\"_1xgFaf\"><li class=\"rgWa7D\">Intel Core i3 Processor (11th Gen)</li><li class=\"rgWa7D\">4 GB DDR4 RAM</li><li class=\"rgWa7D\">64 bit Windows 10 Operating System</li><li class=\"rgWa7D\">256 GB SSD</li><li class=\"rgWa7D\">39.62 cm (15.6 inch) Display</li><li class=\"rgWa7D\">Acer Care Center, Acer Product Registration, Quick Access</li><li class=\"rgWa7D\">1 Year Onsite Warranty</li></ul></div></div><div class=\"col col-5-12 nlI3QM\"><div class=\"_3tbKJL\"><div class=\"_25b18c\"><div class=\"_30jeq3 _1_WHN1\">₹35,990</div><div class=\"_3I9_wc _27UcVY\">₹<!-- -->59,000</div><div class=\"_3Ay6Sb\"><span>39% off</span></div></div><div class=\"_3tcB5a p8ucoS\"><div><div class=\"_2Tpdn3\" style=\"color:#000000;font-size:14px;font-style:normal;font-weight:400\">Or Pay ₹35,890 + </div><div class=\"CXW8mj _1lT03L\" style=\"height:12px;width:12px\"><img class=\"_396cs4\" alt=\"\" src=\"//static-assets-web.flixcart.com/www/linchpin/fk-cp-zion/img/placeholder_fcebae.svg\"/></div><div class=\"_2Tpdn3\" style=\"color:#000000;font-size:14px;font-style:normal;font-weight:400\"> 100</div></div></div></div><div class=\"_13J9qT\"><img height=\"21\" src=\"//static-assets-web.flixcart.com/www/linchpin/fk-cp-zion/img/fa_62673a.png\"/></div></div></div></a></div></div></div></div><div class=\"_1AtVbE col-12-12\"><div class=\"_13oc-S\"><div data-id=\"COMFYZC5Q94CKQRV\" style=\"width:100%\"><div class=\"_2kHMtA\"><a class=\"_1fQZEK\" target=\"_blank\" rel=\"noopener noreferrer\" href=\"/msi-modern-14-core-i3-10th-gen-8-gb-512-gb-ssd-windows-10-home-b10mw-424in-laptop/p/itmdb98c6b5f1662?pid=COMFYZC5Q94CKQRV&amp;lid=LSTCOMFYZC5Q94CKQRVGS9Q9U&amp;marketplace=FLIPKART&amp;q=laptop&amp;store=6bo%2Fb5g&amp;srno=s_1_9&amp;otracker=search&amp;otracker1=search&amp;fm=organic&amp;iid=a34ade47-0df5-4ca4-a483-0ea1f0ee37cb.COMFYZC5Q94CKQRV.SEARCH&amp;ppt=None&amp;ppn=None&amp;ssid=mixqt9kbcg0000001623469365852&amp;qH=312f91285e048e09\"><div class=\"MIXNux\"><div class=\"_2QcLo-\"><div><div class=\"CXW8mj\" style=\"height:200px;width:200px\"><img class=\"_396cs4 _3exPp9\" alt=\"MSI Modern 14 Core i3 10th Gen - (8 GB/512 GB SSD/Windows 10 Home) Modern 14 B10MW-424IN Laptop\" src=\"https://rukminim1.flixcart.com/image/312/312/kjabs7k0/computer/z/d/6/msi-original-imafywfypuwbubmn.jpeg?q=70\"/></div></div></div><div class=\"_3wLduG\"><div class=\"_3PzNI-\"><span class=\"f3A4_V\"><label class=\"_2iDkf8\"><input type=\"checkbox\" class=\"_30VH1S\" readonly=\"\"/><div class=\"_24_Dny\"></div></label></span><label class=\"_6Up2sF\"><span>Add to Compare</span></label></div></div><div class=\"_2hVSre _3nq8ih\"><div class=\"_36FSn5\"><svg xmlns=\"http://www.w3.org/2000/svg\" class=\"_1l0elc\" width=\"16\" height=\"16\" viewBox=\"0 0 20 16\"><path d=\"M8.695 16.682C4.06 12.382 1 9.536 1 6.065 1 3.219 3.178 1 5.95 1c1.566 0 3.069.746 4.05 1.915C10.981 1.745 12.484 1 14.05 1 16.822 1 19 3.22 19 6.065c0 3.471-3.06 6.316-7.695 10.617L10 17.897l-1.305-1.215z\" fill=\"#2874F0\" class=\"eX72wL\" stroke=\"#FFF\" fill-rule=\"evenodd\" opacity=\".9\"></path></svg></div></div></div><div class=\"_3pLy-c row\"><div class=\"col col-7-12\"><div class=\"_4rR01T\">MSI Modern 14 Core i3 10th Gen - (8 GB/512 GB SSD/Windows 10 Home) Modern 14 B10MW-424IN Laptop</div><div class=\"gUuXy-\"><span id=\"productRating_LSTCOMFYZC5Q94CKQRVGS9Q9U_COMFYZC5Q94CKQRV_\" class=\"_1lRcqv\"><div class=\"_3LWZlK\">4.5<img src=\"data:image/svg+xml;base64,PHN2ZyB4bWxucz0iaHR0cDovL3d3dy53My5vcmcvMjAwMC9zdmciIHdpZHRoPSIxMyIgaGVpZ2h0PSIxMiI+PHBhdGggZmlsbD0iI0ZGRiIgZD0iTTYuNSA5LjQzOWwtMy42NzQgMi4yMy45NC00LjI2LTMuMjEtMi44ODMgNC4yNTQtLjQwNEw2LjUuMTEybDEuNjkgNC4wMSA0LjI1NC40MDQtMy4yMSAyLjg4Mi45NCA0LjI2eiIvPjwvc3ZnPg==\" class=\"_1wB99o\"/></div></span><span class=\"_2_R_DZ\"><span><span>234 Ratings\\xa0</span><span class=\"_13vcmD\">&amp;</span><span>\\xa044 Reviews</span></span></span></div><div class=\"fMghEO\"><ul class=\"_1xgFaf\"><li class=\"rgWa7D\">Intel Core i3 Processor (10th Gen)</li><li class=\"rgWa7D\">8 GB DDR4 RAM</li><li class=\"rgWa7D\">64 bit Windows 10 Operating System</li><li class=\"rgWa7D\">512 GB SSD</li><li class=\"rgWa7D\">35.56 cm (14 inch) Display</li><li class=\"rgWa7D\">Cooler Boost, Nahimic 3, Creator Center</li><li class=\"rgWa7D\">1 Year Carry In Warranty</li></ul></div></div><div class=\"col col-5-12 nlI3QM\"><div class=\"_3tbKJL\"><div class=\"_25b18c\"><div class=\"_30jeq3 _1_WHN1\">₹39,990</div><div class=\"_3I9_wc _27UcVY\">₹<!-- -->52,491</div><div class=\"_3Ay6Sb\"><span>23% off</span></div></div><div class=\"_3tcB5a p8ucoS\"><div><div class=\"_2Tpdn3\" style=\"color:#000000;font-size:14px;font-style:normal;font-weight:400\">Or Pay ₹39,890 + </div><div class=\"CXW8mj _1lT03L\" style=\"height:12px;width:12px\"><img class=\"_396cs4\" alt=\"\" src=\"//static-assets-web.flixcart.com/www/linchpin/fk-cp-zion/img/placeholder_fcebae.svg\"/></div><div class=\"_2Tpdn3\" style=\"color:#000000;font-size:14px;font-style:normal;font-weight:400\"> 100</div></div></div></div><div class=\"_13J9qT\"><img height=\"21\" src=\"//static-assets-web.flixcart.com/www/linchpin/fk-cp-zion/img/fa_62673a.png\"/></div></div></div></a></div></div></div></div><div class=\"_1AtVbE col-12-12\"><div class=\"_13oc-S\"><div data-id=\"COMG23RKF7NBG699\" style=\"width:100%\"><div class=\"_2kHMtA\"><a class=\"_1fQZEK\" target=\"_blank\" rel=\"noopener noreferrer\" href=\"/lenovo-ideapad-3-core-i5-10th-gen-8-gb-1-tb-hdd-windows-10-home-15iil05-laptop/p/itmbfeb76dfb98dd?pid=COMG23RKF7NBG699&amp;lid=LSTCOMG23RKF7NBG699MDAY6Y&amp;marketplace=FLIPKART&amp;q=laptop&amp;store=6bo%2Fb5g&amp;srno=s_1_10&amp;otracker=search&amp;otracker1=search&amp;fm=organic&amp;iid=a34ade47-0df5-4ca4-a483-0ea1f0ee37cb.COMG23RKF7NBG699.SEARCH&amp;ppt=None&amp;ppn=None&amp;ssid=mixqt9kbcg0000001623469365852&amp;qH=312f91285e048e09\"><div class=\"MIXNux\"><div class=\"_2QcLo-\"><div><div class=\"CXW8mj\" style=\"height:200px;width:200px\"><img class=\"_396cs4 _3exPp9\" alt=\"Lenovo IdeaPad 3 Core i5 10th Gen - (8 GB/1 TB HDD/Windows 10 Home) 15IIL05 Laptop\" src=\"https://rukminim1.flixcart.com/image/312/312/keaaavk0/computer/x/m/y/lenovo-na-laptop-original-imafuzt8r5jqppfn.jpeg?q=70\"/></div></div></div><div class=\"_3wLduG\"><div class=\"_3PzNI-\"><span class=\"f3A4_V\"><label class=\"_2iDkf8\"><input type=\"checkbox\" class=\"_30VH1S\" readonly=\"\"/><div class=\"_24_Dny\"></div></label></span><label class=\"_6Up2sF\"><span>Add to Compare</span></label></div></div><div class=\"_2hVSre _3nq8ih\"><div class=\"_36FSn5\"><svg xmlns=\"http://www.w3.org/2000/svg\" class=\"_1l0elc\" width=\"16\" height=\"16\" viewBox=\"0 0 20 16\"><path d=\"M8.695 16.682C4.06 12.382 1 9.536 1 6.065 1 3.219 3.178 1 5.95 1c1.566 0 3.069.746 4.05 1.915C10.981 1.745 12.484 1 14.05 1 16.822 1 19 3.22 19 6.065c0 3.471-3.06 6.316-7.695 10.617L10 17.897l-1.305-1.215z\" fill=\"#2874F0\" class=\"eX72wL\" stroke=\"#FFF\" fill-rule=\"evenodd\" opacity=\".9\"></path></svg></div></div></div><div class=\"_3pLy-c row\"><div class=\"col col-7-12\"><div class=\"_4rR01T\">Lenovo IdeaPad 3 Core i5 10th Gen - (8 GB/1 TB HDD/Windows 10 Home) 15IIL05 Laptop</div><div class=\"gUuXy-\"><span id=\"productRating_LSTCOMG23RKF7NBG699MDAY6Y_COMG23RKF7NBG699_\" class=\"_1lRcqv\"><div class=\"_3LWZlK\">4.2<img src=\"data:image/svg+xml;base64,PHN2ZyB4bWxucz0iaHR0cDovL3d3dy53My5vcmcvMjAwMC9zdmciIHdpZHRoPSIxMyIgaGVpZ2h0PSIxMiI+PHBhdGggZmlsbD0iI0ZGRiIgZD0iTTYuNSA5LjQzOWwtMy42NzQgMi4yMy45NC00LjI2LTMuMjEtMi44ODMgNC4yNTQtLjQwNEw2LjUuMTEybDEuNjkgNC4wMSA0LjI1NC40MDQtMy4yMSAyLjg4Mi45NCA0LjI2eiIvPjwvc3ZnPg==\" class=\"_1wB99o\"/></div></span><span class=\"_2_R_DZ\"><span><span>53 Ratings\\xa0</span><span class=\"_13vcmD\">&amp;</span><span>\\xa05 Reviews</span></span></span></div><div class=\"fMghEO\"><ul class=\"_1xgFaf\"><li class=\"rgWa7D\">Intel Core i5 Processor (10th Gen)</li><li class=\"rgWa7D\">8 GB DDR4 RAM</li><li class=\"rgWa7D\">64 bit Windows 10 Operating System</li><li class=\"rgWa7D\">1 TB HDD</li><li class=\"rgWa7D\">39.62 cm (15.6 inch) Display</li><li class=\"rgWa7D\">Microsoft Office (Trial Only)</li><li class=\"rgWa7D\">1 Year Onsite Warranty</li></ul></div></div><div class=\"col col-5-12 nlI3QM\"><div class=\"_3tbKJL\"><div class=\"_25b18c\"><div class=\"_30jeq3 _1_WHN1\">₹42,990</div><div class=\"_3I9_wc _27UcVY\">₹<!-- -->63,790</div><div class=\"_3Ay6Sb\"><span>32% off</span></div></div><div class=\"_3tcB5a p8ucoS\"><div><div class=\"_2Tpdn3\" style=\"color:#000000;font-size:14px;font-style:normal;font-weight:400\">Or Pay ₹42,890 + </div><div class=\"CXW8mj _1lT03L\" style=\"height:12px;width:12px\"><img class=\"_396cs4\" alt=\"\" src=\"//static-assets-web.flixcart.com/www/linchpin/fk-cp-zion/img/placeholder_fcebae.svg\"/></div><div class=\"_2Tpdn3\" style=\"color:#000000;font-size:14px;font-style:normal;font-weight:400\"> 100</div></div></div></div><div class=\"_13J9qT\"><img height=\"21\" src=\"//static-assets-web.flixcart.com/www/linchpin/fk-cp-zion/img/fa_62673a.png\"/></div><div class=\"_2ZdXDB\"><div class=\"_3xFhiH\"><div class=\"_2Tpdn3 _18hQoS\" style=\"color:#000000;font-size:12px;font-style:normal;font-weight:400\">No Cost EMI</div></div></div></div></div></a></div></div></div></div><div class=\"_1AtVbE col-12-12\"><div class=\"_13oc-S\"><div data-id=\"COMGFVWMZXNEDHFB\" style=\"width:100%\"><div class=\"_2kHMtA\"><a class=\"_1fQZEK\" target=\"_blank\" rel=\"noopener noreferrer\" href=\"/asus-tuf-gaming-f15-core-i5-10th-gen-8-gb-512-gb-ssd-windows-10-home-4-graphics-nvidia-geforce-gtx-1650-ti-144-hz-fx506li-hn271ts-laptop/p/itme14aa4095ad4c?pid=COMGFVWMZXNEDHFB&amp;lid=LSTCOMGFVWMZXNEDHFBKVM1HI&amp;marketplace=FLIPKART&amp;q=laptop&amp;store=6bo%2Fb5g&amp;srno=s_1_11&amp;otracker=search&amp;otracker1=search&amp;fm=organic&amp;iid=a34ade47-0df5-4ca4-a483-0ea1f0ee37cb.COMGFVWMZXNEDHFB.SEARCH&amp;ppt=None&amp;ppn=None&amp;ssid=mixqt9kbcg0000001623469365852&amp;qH=312f91285e048e09\"><div class=\"MIXNux\"><div class=\"_2QcLo-\"><div><div class=\"CXW8mj\" style=\"height:200px;width:200px\"><img class=\"_396cs4 _3exPp9\" alt=\"ASUS TUF Gaming F15 Core i5 10th Gen - (8 GB/512 GB SSD/Windows 10 Home/4 GB Graphics/NVIDIA GeForce G...\" src=\"https://rukminim1.flixcart.com/image/312/312/knni7ww0/computer/x/o/x/na-gaming-laptop-asus-original-imag2a8c7fgm2mrm.jpeg?q=70\"/></div></div></div><div class=\"_3wLduG\"><div class=\"_3PzNI-\"><span class=\"f3A4_V\"><label class=\"_2iDkf8\"><input type=\"checkbox\" class=\"_30VH1S\" readonly=\"\"/><div class=\"_24_Dny\"></div></label></span><label class=\"_6Up2sF\"><span>Add to Compare</span></label></div></div><div class=\"_2hVSre _3nq8ih\"><div class=\"_36FSn5\"><svg xmlns=\"http://www.w3.org/2000/svg\" class=\"_1l0elc\" width=\"16\" height=\"16\" viewBox=\"0 0 20 16\"><path d=\"M8.695 16.682C4.06 12.382 1 9.536 1 6.065 1 3.219 3.178 1 5.95 1c1.566 0 3.069.746 4.05 1.915C10.981 1.745 12.484 1 14.05 1 16.822 1 19 3.22 19 6.065c0 3.471-3.06 6.316-7.695 10.617L10 17.897l-1.305-1.215z\" fill=\"#2874F0\" class=\"eX72wL\" stroke=\"#FFF\" fill-rule=\"evenodd\" opacity=\".9\"></path></svg></div></div></div><div class=\"_3pLy-c row\"><div class=\"col col-7-12\"><div class=\"_4rR01T\">ASUS TUF Gaming F15 Core i5 10th Gen - (8 GB/512 GB SSD/Windows 10 Home/4 GB Graphics/NVIDIA GeForce G...</div><div class=\"gUuXy-\"><span id=\"productRating_LSTCOMGFVWMZXNEDHFBKVM1HI_COMGFVWMZXNEDHFB_\" class=\"_1lRcqv\"><div class=\"_3LWZlK\">4.7<img src=\"data:image/svg+xml;base64,PHN2ZyB4bWxucz0iaHR0cDovL3d3dy53My5vcmcvMjAwMC9zdmciIHdpZHRoPSIxMyIgaGVpZ2h0PSIxMiI+PHBhdGggZmlsbD0iI0ZGRiIgZD0iTTYuNSA5LjQzOWwtMy42NzQgMi4yMy45NC00LjI2LTMuMjEtMi44ODMgNC4yNTQtLjQwNEw2LjUuMTEybDEuNjkgNC4wMSA0LjI1NC40MDQtMy4yMSAyLjg4Mi45NCA0LjI2eiIvPjwvc3ZnPg==\" class=\"_1wB99o\"/></div></span><span class=\"_2_R_DZ\"><span><span>23 Ratings\\xa0</span><span class=\"_13vcmD\">&amp;</span><span>\\xa05 Reviews</span></span></span></div><div class=\"fMghEO\"><ul class=\"_1xgFaf\"><li class=\"rgWa7D\">Intel Core i5 Processor (10th Gen)</li><li class=\"rgWa7D\">8 GB DDR4 RAM</li><li class=\"rgWa7D\">64 bit Windows 10 Operating System</li><li class=\"rgWa7D\">512 GB SSD</li><li class=\"rgWa7D\">39.62 cm (15.6 Inch) Display</li><li class=\"rgWa7D\">Microsoft Office Home and Student 2019</li><li class=\"rgWa7D\">1 Year Onsite Warranty</li></ul></div></div><div class=\"col col-5-12 nlI3QM\"><div class=\"_3tbKJL\"><div class=\"_25b18c\"><div class=\"_30jeq3 _1_WHN1\">₹66,990</div><div class=\"_3I9_wc _27UcVY\">₹<!-- -->89,990</div><div class=\"_3Ay6Sb\"><span>25% off</span></div></div><div class=\"_3tcB5a p8ucoS\"><div><div class=\"_2Tpdn3\" style=\"color:#000000;font-size:14px;font-style:normal;font-weight:400\">Or Pay ₹66,890 + </div><div class=\"CXW8mj _1lT03L\" style=\"height:12px;width:12px\"><img class=\"_396cs4\" alt=\"\" src=\"//static-assets-web.flixcart.com/www/linchpin/fk-cp-zion/img/placeholder_fcebae.svg\"/></div><div class=\"_2Tpdn3\" style=\"color:#000000;font-size:14px;font-style:normal;font-weight:400\"> 100</div></div></div></div><div class=\"_13J9qT\"><img height=\"21\" src=\"//static-assets-web.flixcart.com/www/linchpin/fk-cp-zion/img/fa_62673a.png\"/></div><div class=\"_2ZdXDB\"><div class=\"_3xFhiH\"><div class=\"_2Tpdn3 _18hQoS\" style=\"color:#000000;font-size:12px;font-style:normal;font-weight:400\">No Cost EMI</div></div></div></div></div></a></div></div></div></div><div class=\"_1AtVbE col-12-12\"><div class=\"_13oc-S\"><div data-id=\"COMGFAZ4WDP7UJFY\" style=\"width:100%\"><div class=\"_2kHMtA\"><div class=\"_2tfzpE\"><span>Ad</span></div><a class=\"_1fQZEK\" target=\"_blank\" rel=\"noopener noreferrer\" href=\"/acer-aspire-5-core-i3-11th-gen-4-gb-1-tb-hdd-windows-10-home-a515-56-thin-light-laptop/p/itmcfa33fd484cdc?pid=COMGFAZ4WDP7UJFY&amp;lid=LSTCOMGFAZ4WDP7UJFY4NHUI5&amp;marketplace=FLIPKART&amp;q=laptop&amp;store=6bo%2Fb5g&amp;srno=s_1_12&amp;otracker=search&amp;otracker1=search&amp;fm=organic&amp;iid=en_sO2JoGGXnEpiPv5Z0NrfZXnzIXgoc1Nrzz2qZlYj%2BMuFYZXkZRV0H6MjbxgT8Z7f8H94GmEEp82hn%2F939ck7zg%3D%3D&amp;ppt=None&amp;ppn=None&amp;ssid=mixqt9kbcg0000001623469365852&amp;qH=312f91285e048e09\"><div class=\"MIXNux\"><div class=\"_2QcLo-\"><div><div class=\"CXW8mj\" style=\"height:200px;width:200px\"><img class=\"_396cs4 _3exPp9\" alt=\"acer Aspire 5 Core i3 11th Gen - (4 GB/1 TB HDD/Windows 10 Home) A515-56 Thin and Light Laptop\" src=\"https://rukminim1.flixcart.com/image/312/312/kkh6zrk0/computer/0/j/u/acer-original-imafztjqzju67ddf.jpeg?q=70\"/></div></div></div><div class=\"_3wLduG\"><div class=\"_3PzNI-\"><span class=\"f3A4_V\"><label class=\"_2iDkf8\"><input type=\"checkbox\" class=\"_30VH1S\" readonly=\"\"/><div class=\"_24_Dny\"></div></label></span><label class=\"_6Up2sF\"><span>Add to Compare</span></label></div></div><div class=\"_2hVSre _3nq8ih\"><div class=\"_36FSn5\"><svg xmlns=\"http://www.w3.org/2000/svg\" class=\"_1l0elc\" width=\"16\" height=\"16\" viewBox=\"0 0 20 16\"><path d=\"M8.695 16.682C4.06 12.382 1 9.536 1 6.065 1 3.219 3.178 1 5.95 1c1.566 0 3.069.746 4.05 1.915C10.981 1.745 12.484 1 14.05 1 16.822 1 19 3.22 19 6.065c0 3.471-3.06 6.316-7.695 10.617L10 17.897l-1.305-1.215z\" fill=\"#2874F0\" class=\"eX72wL\" stroke=\"#FFF\" fill-rule=\"evenodd\" opacity=\".9\"></path></svg></div></div></div><div class=\"_3pLy-c row\"><div class=\"col col-7-12\"><div class=\"_4rR01T\">acer Aspire 5 Core i3 11th Gen - (4 GB/1 TB HDD/Windows 10 Home) A515-56 Thin and Light Laptop</div><div class=\"gUuXy-\"><span id=\"productRating_LSTCOMGFAZ4WDP7UJFY4NHUI5_COMGFAZ4WDP7UJFY_\" class=\"_1lRcqv\"><div class=\"_3LWZlK\">4.3<img src=\"data:image/svg+xml;base64,PHN2ZyB4bWxucz0iaHR0cDovL3d3dy53My5vcmcvMjAwMC9zdmciIHdpZHRoPSIxMyIgaGVpZ2h0PSIxMiI+PHBhdGggZmlsbD0iI0ZGRiIgZD0iTTYuNSA5LjQzOWwtMy42NzQgMi4yMy45NC00LjI2LTMuMjEtMi44ODMgNC4yNTQtLjQwNEw2LjUuMTEybDEuNjkgNC4wMSA0LjI1NC40MDQtMy4yMSAyLjg4Mi45NCA0LjI2eiIvPjwvc3ZnPg==\" class=\"_1wB99o\"/></div></span><span class=\"_2_R_DZ\"><span><span>16 Ratings\\xa0</span><span class=\"_13vcmD\">&amp;</span><span>\\xa06 Reviews</span></span></span></div><div class=\"fMghEO\"><ul class=\"_1xgFaf\"><li class=\"rgWa7D\">Intel Core i3 Processor (11th Gen)</li><li class=\"rgWa7D\">4 GB DDR4 RAM</li><li class=\"rgWa7D\">64 bit Windows 10 Operating System</li><li class=\"rgWa7D\">1 TB HDD</li><li class=\"rgWa7D\">39.62 cm (15.6 inch) Display</li><li class=\"rgWa7D\">Acer Care Center, Acer Product Registration, Quick Access</li><li class=\"rgWa7D\">1 Year International Travelers Warranty (ITW)</li></ul></div></div><div class=\"col col-5-12 nlI3QM\"><div class=\"_3tbKJL\"><div class=\"_25b18c\"><div class=\"_30jeq3 _1_WHN1\">₹38,990</div><div class=\"_3I9_wc _27UcVY\">₹<!-- -->43,727</div><div class=\"_3Ay6Sb\"><span>10% off</span></div></div><div class=\"_3tcB5a p8ucoS\"><div><div class=\"_2Tpdn3\" style=\"color:#000000;font-size:14px;font-style:normal;font-weight:400\">Or Pay ₹38,890 + </div><div class=\"CXW8mj _1lT03L\" style=\"height:12px;width:12px\"><img class=\"_396cs4\" alt=\"\" src=\"//static-assets-web.flixcart.com/www/linchpin/fk-cp-zion/img/placeholder_fcebae.svg\"/></div><div class=\"_2Tpdn3\" style=\"color:#000000;font-size:14px;font-style:normal;font-weight:400\"> 100</div></div></div></div><div class=\"_13J9qT\"><img height=\"21\" src=\"//static-assets-web.flixcart.com/www/linchpin/fk-cp-zion/img/fa_62673a.png\"/></div></div></div></a></div></div></div></div><div class=\"_1AtVbE col-12-12\"><div class=\"_13oc-S\"><div data-id=\"COMG26RVFGZGDE9D\" style=\"width:100%\"><div class=\"_2kHMtA\"><a class=\"_1fQZEK\" target=\"_blank\" rel=\"noopener noreferrer\" href=\"/hp-14s-ryzen-3-quad-core-4300u-8-gb-512-gb-ssd-windows-10-home-14s-fr0016au-thin-light-laptop/p/itma78a910d56810?pid=COMG26RVFGZGDE9D&amp;lid=LSTCOMG26RVFGZGDE9DXGPBAY&amp;marketplace=FLIPKART&amp;q=laptop&amp;store=6bo%2Fb5g&amp;srno=s_1_13&amp;otracker=search&amp;otracker1=search&amp;fm=organic&amp;iid=a34ade47-0df5-4ca4-a483-0ea1f0ee37cb.COMG26RVFGZGDE9D.SEARCH&amp;ppt=None&amp;ppn=None&amp;ssid=mixqt9kbcg0000001623469365852&amp;qH=312f91285e048e09\"><div class=\"MIXNux\"><div class=\"_2QcLo-\"><div><div class=\"CXW8mj\" style=\"height:200px;width:200px\"><img class=\"_396cs4 _3exPp9\" alt=\"HP 14s Ryzen 3 Quad Core 4300U - (8 GB/512 GB SSD/Windows 10 Home) 14s-fr0016AU Thin and Light Laptop\" src=\"https://rukminim1.flixcart.com/image/312/312/kgzg8sw0/computer/z/j/j/hp-14s-fr0009au-laptop-original-imafx3rhqwgwzwgy.jpeg?q=70\"/></div></div></div><div class=\"_3wLduG\"><div class=\"_3PzNI-\"><span class=\"f3A4_V\"><label class=\"_2iDkf8\"><input type=\"checkbox\" class=\"_30VH1S\" readonly=\"\"/><div class=\"_24_Dny\"></div></label></span><label class=\"_6Up2sF\"><span>Add to Compare</span></label></div></div><div class=\"_2hVSre _3nq8ih\"><div class=\"_36FSn5\"><svg xmlns=\"http://www.w3.org/2000/svg\" class=\"_1l0elc\" width=\"16\" height=\"16\" viewBox=\"0 0 20 16\"><path d=\"M8.695 16.682C4.06 12.382 1 9.536 1 6.065 1 3.219 3.178 1 5.95 1c1.566 0 3.069.746 4.05 1.915C10.981 1.745 12.484 1 14.05 1 16.822 1 19 3.22 19 6.065c0 3.471-3.06 6.316-7.695 10.617L10 17.897l-1.305-1.215z\" fill=\"#2874F0\" class=\"eX72wL\" stroke=\"#FFF\" fill-rule=\"evenodd\" opacity=\".9\"></path></svg></div></div></div><div class=\"_3pLy-c row\"><div class=\"col col-7-12\"><div class=\"_4rR01T\">HP 14s Ryzen 3 Quad Core 4300U - (8 GB/512 GB SSD/Windows 10 Home) 14s-fr0016AU Thin and Light Laptop</div><div class=\"gUuXy-\"><span id=\"productRating_LSTCOMG26RVFGZGDE9DXGPBAY_COMG26RVFGZGDE9D_\" class=\"_1lRcqv\"><div class=\"_3LWZlK\">4.4<img src=\"data:image/svg+xml;base64,PHN2ZyB4bWxucz0iaHR0cDovL3d3dy53My5vcmcvMjAwMC9zdmciIHdpZHRoPSIxMyIgaGVpZ2h0PSIxMiI+PHBhdGggZmlsbD0iI0ZGRiIgZD0iTTYuNSA5LjQzOWwtMy42NzQgMi4yMy45NC00LjI2LTMuMjEtMi44ODMgNC4yNTQtLjQwNEw2LjUuMTEybDEuNjkgNC4wMSA0LjI1NC40MDQtMy4yMSAyLjg4Mi45NCA0LjI2eiIvPjwvc3ZnPg==\" class=\"_1wB99o\"/></div></span><span class=\"_2_R_DZ\"><span><span>626 Ratings\\xa0</span><span class=\"_13vcmD\">&amp;</span><span>\\xa088 Reviews</span></span></span></div><div class=\"fMghEO\"><ul class=\"_1xgFaf\"><li class=\"rgWa7D\">AMD Ryzen 3 Quad Core Processor</li><li class=\"rgWa7D\">8 GB DDR4 RAM</li><li class=\"rgWa7D\">64 bit Windows 10 Operating System</li><li class=\"rgWa7D\">512 GB SSD</li><li class=\"rgWa7D\">35.56 cm (14 inch) Display</li><li class=\"rgWa7D\">Microsoft Office 2019 and Office 365, HP Smart, HP Documentation, HP SSRM</li><li class=\"rgWa7D\">1 Year Onsite Warranty</li></ul></div></div><div class=\"col col-5-12 nlI3QM\"><div class=\"_3tbKJL\"><div class=\"_25b18c\"><div class=\"_30jeq3 _1_WHN1\">₹39,490</div><div class=\"_3I9_wc _27UcVY\">₹<!-- -->44,442</div><div class=\"_3Ay6Sb\"><span>11% off</span></div></div><div class=\"_3tcB5a p8ucoS\"><div><div class=\"_2Tpdn3\" style=\"color:#000000;font-size:14px;font-style:normal;font-weight:400\">Or Pay ₹39,390 + </div><div class=\"CXW8mj _1lT03L\" style=\"height:12px;width:12px\"><img class=\"_396cs4\" alt=\"\" src=\"//static-assets-web.flixcart.com/www/linchpin/fk-cp-zion/img/placeholder_fcebae.svg\"/></div><div class=\"_2Tpdn3\" style=\"color:#000000;font-size:14px;font-style:normal;font-weight:400\"> 100</div></div></div></div><div class=\"_13J9qT\"><img height=\"21\" src=\"//static-assets-web.flixcart.com/www/linchpin/fk-cp-zion/img/fa_62673a.png\"/></div><div class=\"_2ZdXDB\"><div class=\"_3xFhiH\"><div class=\"_2Tpdn3 _18hQoS\" style=\"color:#000000;font-size:12px;font-style:normal;font-weight:400\">No Cost EMI</div></div></div></div></div></a></div></div></div></div><div class=\"_1AtVbE col-12-12\"><div class=\"_13oc-S\"><div data-id=\"COMFR6AAYHTCDHTG\" style=\"width:100%\"><div class=\"_2kHMtA\"><a class=\"_1fQZEK\" target=\"_blank\" rel=\"noopener noreferrer\" href=\"/acer-aspire-7-core-i5-9th-gen-8-gb-512-gb-ssd-windows-10-home-4-graphics-nvidia-geforce-gtx-1650-ti-a715-75g-51h8-gaming-laptop/p/itmb6b0ba7ba7c49?pid=COMFR6AAYHTCDHTG&amp;lid=LSTCOMFR6AAYHTCDHTGRBZYBI&amp;marketplace=FLIPKART&amp;q=laptop&amp;store=6bo%2Fb5g&amp;srno=s_1_14&amp;otracker=search&amp;otracker1=search&amp;fm=organic&amp;iid=a34ade47-0df5-4ca4-a483-0ea1f0ee37cb.COMFR6AAYHTCDHTG.SEARCH&amp;ppt=None&amp;ppn=None&amp;ssid=mixqt9kbcg0000001623469365852&amp;qH=312f91285e048e09\"><div class=\"MIXNux\"><div class=\"_2QcLo-\"><div><div class=\"CXW8mj\" style=\"height:200px;width:200px\"><img class=\"_396cs4 _3exPp9\" alt=\"acer Aspire 7 Core i5 9th Gen - (8 GB/512 GB SSD/Windows 10 Home/4 GB Graphics/NVIDIA GeForce GTX 1650...\" src=\"https://rukminim1.flixcart.com/image/312/312/kcc9q4w0/computer/h/t/g/acer-na-gaming-laptop-original-imafthr8aa4rsjpn.jpeg?q=70\"/></div></div></div><div class=\"_3wLduG\"><div class=\"_3PzNI-\"><span class=\"f3A4_V\"><label class=\"_2iDkf8\"><input type=\"checkbox\" class=\"_30VH1S\" readonly=\"\"/><div class=\"_24_Dny\"></div></label></span><label class=\"_6Up2sF\"><span>Add to Compare</span></label></div></div><div class=\"_2hVSre _3nq8ih\"><div class=\"_36FSn5\"><svg xmlns=\"http://www.w3.org/2000/svg\" class=\"_1l0elc\" width=\"16\" height=\"16\" viewBox=\"0 0 20 16\"><path d=\"M8.695 16.682C4.06 12.382 1 9.536 1 6.065 1 3.219 3.178 1 5.95 1c1.566 0 3.069.746 4.05 1.915C10.981 1.745 12.484 1 14.05 1 16.822 1 19 3.22 19 6.065c0 3.471-3.06 6.316-7.695 10.617L10 17.897l-1.305-1.215z\" fill=\"#2874F0\" class=\"eX72wL\" stroke=\"#FFF\" fill-rule=\"evenodd\" opacity=\".9\"></path></svg></div></div></div><div class=\"_3pLy-c row\"><div class=\"col col-7-12\"><div class=\"_4rR01T\">acer Aspire 7 Core i5 9th Gen - (8 GB/512 GB SSD/Windows 10 Home/4 GB Graphics/NVIDIA GeForce GTX 1650...</div><div class=\"gUuXy-\"><span id=\"productRating_LSTCOMFR6AAYHTCDHTGRBZYBI_COMFR6AAYHTCDHTG_\" class=\"_1lRcqv\"><div class=\"_3LWZlK\">4.4<img src=\"data:image/svg+xml;base64,PHN2ZyB4bWxucz0iaHR0cDovL3d3dy53My5vcmcvMjAwMC9zdmciIHdpZHRoPSIxMyIgaGVpZ2h0PSIxMiI+PHBhdGggZmlsbD0iI0ZGRiIgZD0iTTYuNSA5LjQzOWwtMy42NzQgMi4yMy45NC00LjI2LTMuMjEtMi44ODMgNC4yNTQtLjQwNEw2LjUuMTEybDEuNjkgNC4wMSA0LjI1NC40MDQtMy4yMSAyLjg4Mi45NCA0LjI2eiIvPjwvc3ZnPg==\" class=\"_1wB99o\"/></div></span><span class=\"_2_R_DZ\"><span><span>2,136 Ratings\\xa0</span><span class=\"_13vcmD\">&amp;</span><span>\\xa0275 Reviews</span></span></span></div><div class=\"fMghEO\"><ul class=\"_1xgFaf\"><li class=\"rgWa7D\">Intel Core i5 Processor (9th Gen)</li><li class=\"rgWa7D\">8 GB DDR4 RAM</li><li class=\"rgWa7D\">64 bit Windows 10 Operating System</li><li class=\"rgWa7D\">512 GB SSD</li><li class=\"rgWa7D\">39.62 cm (15.6 inch) Display</li><li class=\"rgWa7D\">Acer Collection, Acer Product Registration , Quick Access, Acer Care Center</li><li class=\"rgWa7D\">1 Year International Travelers Warranty (ITW)</li></ul></div></div><div class=\"col col-5-12 nlI3QM\"><div class=\"_3tbKJL\"><div class=\"_25b18c\"><div class=\"_30jeq3 _1_WHN1\">₹53,990</div><div class=\"_3I9_wc _27UcVY\">₹<!-- -->84,999</div><div class=\"_3Ay6Sb\"><span>36% off</span></div></div><div class=\"_3tcB5a p8ucoS\"><div><div class=\"_2Tpdn3\" style=\"color:#000000;font-size:14px;font-style:normal;font-weight:400\">Or Pay ₹53,890 + </div><div class=\"CXW8mj _1lT03L\" style=\"height:12px;width:12px\"><img class=\"_396cs4\" alt=\"\" src=\"//static-assets-web.flixcart.com/www/linchpin/fk-cp-zion/img/placeholder_fcebae.svg\"/></div><div class=\"_2Tpdn3\" style=\"color:#000000;font-size:14px;font-style:normal;font-weight:400\"> 100</div></div></div></div><div class=\"_13J9qT\"><img height=\"21\" src=\"//static-assets-web.flixcart.com/www/linchpin/fk-cp-zion/img/fa_62673a.png\"/></div><div class=\"_2ZdXDB\"><div class=\"_3xFhiH\"><div class=\"_2Tpdn3 _18hQoS\" style=\"color:#000000;font-size:12px;font-style:normal;font-weight:400\">No Cost EMI</div></div></div></div></div></a></div></div></div></div><div class=\"_1AtVbE col-12-12\"><div class=\"_13oc-S\"><div data-id=\"COMG2HDWHWHHJV4E\" style=\"width:100%\"><div class=\"_2kHMtA\"><a class=\"_1fQZEK\" target=\"_blank\" rel=\"noopener noreferrer\" href=\"/hp-pentium-quad-core-8-gb-256-gb-ssd-windows-10-home-14s-dq3018tu-thin-light-laptop/p/itmdf4e72a377e90?pid=COMG2HDWHWHHJV4E&amp;lid=LSTCOMG2HDWHWHHJV4EU2HY7O&amp;marketplace=FLIPKART&amp;q=laptop&amp;store=6bo%2Fb5g&amp;srno=s_1_15&amp;otracker=search&amp;otracker1=search&amp;fm=organic&amp;iid=a34ade47-0df5-4ca4-a483-0ea1f0ee37cb.COMG2HDWHWHHJV4E.SEARCH&amp;ppt=None&amp;ppn=None&amp;ssid=mixqt9kbcg0000001623469365852&amp;qH=312f91285e048e09\"><div class=\"MIXNux\"><div class=\"_2QcLo-\"><div><div class=\"CXW8mj\" style=\"height:200px;width:200px\"><img class=\"_396cs4 _3exPp9\" alt=\"HP Pentium Quad Core - (8 GB/256 GB SSD/Windows 10 Home) 14s- DQ3018TU Thin and Light Laptop\" src=\"https://rukminim1.flixcart.com/image/312/312/kctf0cw0/computer/j/n/a/hp-na-thin-and-light-laptop-original-imaftv7fxtmzhkw3.jpeg?q=70\"/></div></div></div><div class=\"_3wLduG\"><div class=\"_3PzNI-\"><span class=\"f3A4_V\"><label class=\"_2iDkf8\"><input type=\"checkbox\" class=\"_30VH1S\" readonly=\"\"/><div class=\"_24_Dny\"></div></label></span><label class=\"_6Up2sF\"><span>Add to Compare</span></label></div></div><div class=\"_2hVSre _3nq8ih\"><div class=\"_36FSn5\"><svg xmlns=\"http://www.w3.org/2000/svg\" class=\"_1l0elc\" width=\"16\" height=\"16\" viewBox=\"0 0 20 16\"><path d=\"M8.695 16.682C4.06 12.382 1 9.536 1 6.065 1 3.219 3.178 1 5.95 1c1.566 0 3.069.746 4.05 1.915C10.981 1.745 12.484 1 14.05 1 16.822 1 19 3.22 19 6.065c0 3.471-3.06 6.316-7.695 10.617L10 17.897l-1.305-1.215z\" fill=\"#2874F0\" class=\"eX72wL\" stroke=\"#FFF\" fill-rule=\"evenodd\" opacity=\".9\"></path></svg></div></div></div><div class=\"_3pLy-c row\"><div class=\"col col-7-12\"><div class=\"_4rR01T\">HP Pentium Quad Core - (8 GB/256 GB SSD/Windows 10 Home) 14s- DQ3018TU Thin and Light Laptop</div><div class=\"gUuXy-\"><span id=\"productRating_LSTCOMG2HDWHWHHJV4EU2HY7O_COMG2HDWHWHHJV4E_\" class=\"_1lRcqv\"><div class=\"_3LWZlK\">4.2<img src=\"data:image/svg+xml;base64,PHN2ZyB4bWxucz0iaHR0cDovL3d3dy53My5vcmcvMjAwMC9zdmciIHdpZHRoPSIxMyIgaGVpZ2h0PSIxMiI+PHBhdGggZmlsbD0iI0ZGRiIgZD0iTTYuNSA5LjQzOWwtMy42NzQgMi4yMy45NC00LjI2LTMuMjEtMi44ODMgNC4yNTQtLjQwNEw2LjUuMTEybDEuNjkgNC4wMSA0LjI1NC40MDQtMy4yMSAyLjg4Mi45NCA0LjI2eiIvPjwvc3ZnPg==\" class=\"_1wB99o\"/></div></span><span class=\"_2_R_DZ\"><span><span>149 Ratings\\xa0</span><span class=\"_13vcmD\">&amp;</span><span>\\xa026 Reviews</span></span></span></div><div class=\"fMghEO\"><ul class=\"_1xgFaf\"><li class=\"rgWa7D\">Intel Pentium Quad Core Processor</li><li class=\"rgWa7D\">8 GB DDR4 RAM</li><li class=\"rgWa7D\">64 bit Windows 10 Operating System</li><li class=\"rgWa7D\">256 GB SSD</li><li class=\"rgWa7D\">35.56 cm (14 inch) Display</li><li class=\"rgWa7D\">Microsoft Office Home &amp; Student 2019, HP Documentation, HP Smart</li><li class=\"rgWa7D\">1 Year Onsite Warranty</li></ul></div></div><div class=\"col col-5-12 nlI3QM\"><div class=\"_3tbKJL\"><div class=\"_25b18c\"><div class=\"_30jeq3 _1_WHN1\">₹31,490</div><div class=\"_3I9_wc _27UcVY\">₹<!-- -->34,500</div><div class=\"_3Ay6Sb\"><span>8% off</span></div></div><div class=\"_3tcB5a p8ucoS\"><div><div class=\"_2Tpdn3\" style=\"color:#000000;font-size:14px;font-style:normal;font-weight:400\">Or Pay ₹31,390 + </div><div class=\"CXW8mj _1lT03L\" style=\"height:12px;width:12px\"><img class=\"_396cs4\" alt=\"\" src=\"//static-assets-web.flixcart.com/www/linchpin/fk-cp-zion/img/placeholder_fcebae.svg\"/></div><div class=\"_2Tpdn3\" style=\"color:#000000;font-size:14px;font-style:normal;font-weight:400\"> 100</div></div></div></div><div class=\"_13J9qT\"><img height=\"21\" src=\"//static-assets-web.flixcart.com/www/linchpin/fk-cp-zion/img/fa_62673a.png\"/></div><div class=\"_2ZdXDB\"><div class=\"_3xFhiH\"><div class=\"_2Tpdn3 _18hQoS\" style=\"color:#000000;font-size:12px;font-style:normal;font-weight:400\">No Cost EMI</div></div></div></div></div></a></div></div></div></div><div class=\"_1AtVbE col-12-12\"><div class=\"_13oc-S\"><div data-id=\"COMFUXRETZHEZ85P\" style=\"width:100%\"><div class=\"_2kHMtA\"><div class=\"_2tfzpE\"><span>Ad</span></div><a class=\"_1fQZEK\" target=\"_blank\" rel=\"noopener noreferrer\" href=\"/asus-vivobook-ultra-14-core-i5-10th-gen-8-gb-1-tb-ssd-windows-10-home-x413ja-ek278ts-thin-light-laptop/p/itm1f6b39aad882a?pid=COMFUXRETZHEZ85P&amp;lid=LSTCOMFUXRETZHEZ85PRAIIDR&amp;marketplace=FLIPKART&amp;q=laptop&amp;store=6bo%2Fb5g&amp;srno=s_1_16&amp;otracker=search&amp;otracker1=search&amp;fm=organic&amp;iid=en_sO2JoGGXnEpiPv5Z0NrfZXnzIXgoc1Nrzz2qZlYj%2BMvOqst0VcWxj1vf8mFd3%2BMn486o31vy0maPAaXfNiP5MQ%3D%3D&amp;ppt=None&amp;ppn=None&amp;ssid=mixqt9kbcg0000001623469365852&amp;qH=312f91285e048e09\"><div class=\"MIXNux\"><div class=\"_2QcLo-\"><div><div class=\"CXW8mj\" style=\"height:200px;width:200px\"><img class=\"_396cs4 _3exPp9\" alt=\"ASUS VivoBook Ultra 14 Core i5 10th Gen - (8 GB/1 TB SSD/Windows 10 Home) X413JA-EK278TS Thin and Ligh...\" src=\"https://rukminim1.flixcart.com/image/312/312/kh9gbrk0/computer/a/d/5/asus-na-thin-and-light-laptop-original-imafxbj7sxqsrvzk.jpeg?q=70\"/></div></div></div><div class=\"_3wLduG\"><div class=\"_3PzNI-\"><span class=\"f3A4_V\"><label class=\"_2iDkf8\"><input type=\"checkbox\" class=\"_30VH1S\" readonly=\"\"/><div class=\"_24_Dny\"></div></label></span><label class=\"_6Up2sF\"><span>Add to Compare</span></label></div></div><div class=\"_2hVSre _3nq8ih\"><div class=\"_36FSn5\"><svg xmlns=\"http://www.w3.org/2000/svg\" class=\"_1l0elc\" width=\"16\" height=\"16\" viewBox=\"0 0 20 16\"><path d=\"M8.695 16.682C4.06 12.382 1 9.536 1 6.065 1 3.219 3.178 1 5.95 1c1.566 0 3.069.746 4.05 1.915C10.981 1.745 12.484 1 14.05 1 16.822 1 19 3.22 19 6.065c0 3.471-3.06 6.316-7.695 10.617L10 17.897l-1.305-1.215z\" fill=\"#2874F0\" class=\"eX72wL\" stroke=\"#FFF\" fill-rule=\"evenodd\" opacity=\".9\"></path></svg></div></div></div><div class=\"_3pLy-c row\"><div class=\"col col-7-12\"><div class=\"_4rR01T\">ASUS VivoBook Ultra 14 Core i5 10th Gen - (8 GB/1 TB SSD/Windows 10 Home) X413JA-EK278TS Thin and Ligh...</div><div class=\"gUuXy-\"><span id=\"productRating_LSTCOMFUXRETZHEZ85PRAIIDR_COMFUXRETZHEZ85P_\" class=\"_1lRcqv\"><div class=\"_3LWZlK\">4<img src=\"data:image/svg+xml;base64,PHN2ZyB4bWxucz0iaHR0cDovL3d3dy53My5vcmcvMjAwMC9zdmciIHdpZHRoPSIxMyIgaGVpZ2h0PSIxMiI+PHBhdGggZmlsbD0iI0ZGRiIgZD0iTTYuNSA5LjQzOWwtMy42NzQgMi4yMy45NC00LjI2LTMuMjEtMi44ODMgNC4yNTQtLjQwNEw2LjUuMTEybDEuNjkgNC4wMSA0LjI1NC40MDQtMy4yMSAyLjg4Mi45NCA0LjI2eiIvPjwvc3ZnPg==\" class=\"_1wB99o\"/></div></span><span class=\"_2_R_DZ\"><span><span>135 Ratings\\xa0</span><span class=\"_13vcmD\">&amp;</span><span>\\xa020 Reviews</span></span></span></div><div class=\"fMghEO\"><ul class=\"_1xgFaf\"><li class=\"rgWa7D\">Intel Core i5 Processor (10th Gen)</li><li class=\"rgWa7D\">8 GB DDR4 RAM</li><li class=\"rgWa7D\">64 bit Windows 10 Operating System</li><li class=\"rgWa7D\">1 TB SSD</li><li class=\"rgWa7D\">35.56 cm (14 inch) Display</li><li class=\"rgWa7D\">Tru2Life, Splendid, My Asus, Microsoft Office Home and Student 2019</li><li class=\"rgWa7D\">1 Year Onsite Warranty</li></ul></div></div><div class=\"col col-5-12 nlI3QM\"><div class=\"_3tbKJL\"><div class=\"_25b18c\"><div class=\"_30jeq3 _1_WHN1\">₹59,990</div><div class=\"_3I9_wc _27UcVY\">₹<!-- -->61,990</div><div class=\"_3Ay6Sb\"><span>3% off</span></div></div><div class=\"_3tcB5a p8ucoS\"><div><div class=\"_2Tpdn3\" style=\"color:#000000;font-size:14px;font-style:normal;font-weight:400\">Or Pay ₹59,890 + </div><div class=\"CXW8mj _1lT03L\" style=\"height:12px;width:12px\"><img class=\"_396cs4\" alt=\"\" src=\"//static-assets-web.flixcart.com/www/linchpin/fk-cp-zion/img/placeholder_fcebae.svg\"/></div><div class=\"_2Tpdn3\" style=\"color:#000000;font-size:14px;font-style:normal;font-weight:400\"> 100</div></div></div></div><div class=\"_13J9qT\"><img height=\"21\" src=\"//static-assets-web.flixcart.com/www/linchpin/fk-cp-zion/img/fa_62673a.png\"/></div><div class=\"_2ZdXDB\"><div class=\"_3xFhiH\"><div class=\"_2Tpdn3 _18hQoS\" style=\"color:#000000;font-size:12px;font-style:normal;font-weight:400\">No Cost EMI</div></div></div></div></div></a></div></div></div></div><div class=\"_1AtVbE col-12-12\"><div class=\"_13oc-S\"><div data-id=\"COMGFUP2ZXMVW77T\" style=\"width:100%\"><div class=\"_2kHMtA\"><a class=\"_1fQZEK\" target=\"_blank\" rel=\"noopener noreferrer\" href=\"/avita-cosmos-2-1-celeron-dual-core-4-gb-64-gb-emmc-storage-windows-10-home-ns12t5in025p-laptop/p/itm58dac457d1be9?pid=COMGFUP2ZXMVW77T&amp;lid=LSTCOMGFUP2ZXMVW77T2HJCX6&amp;marketplace=FLIPKART&amp;q=laptop&amp;store=6bo%2Fb5g&amp;srno=s_1_17&amp;otracker=search&amp;otracker1=search&amp;fm=organic&amp;iid=a34ade47-0df5-4ca4-a483-0ea1f0ee37cb.COMGFUP2ZXMVW77T.SEARCH&amp;ppt=None&amp;ppn=None&amp;ssid=mixqt9kbcg0000001623469365852&amp;qH=312f91285e048e09\"><div class=\"MIXNux\"><div class=\"_2QcLo-\"><div><div class=\"CXW8mj\" style=\"height:200px;width:200px\"><img class=\"_396cs4 _3exPp9\" alt=\"Avita Cosmos 2 in 1 Celeron Dual Core - (4 GB/64 GB EMMC Storage/Windows 10 Home) NS12T5IN025P 2 in 1 ...\" src=\"https://rukminim1.flixcart.com/image/312/312/kokdci80/computer/x/z/3/avita-original-imag2zupctgghczh.jpeg?q=70\"/></div></div></div><div class=\"_3wLduG\"><div class=\"_3PzNI-\"><span class=\"f3A4_V\"><label class=\"_2iDkf8\"><input type=\"checkbox\" class=\"_30VH1S\" readonly=\"\"/><div class=\"_24_Dny\"></div></label></span><label class=\"_6Up2sF\"><span>Add to Compare</span></label></div></div><div class=\"_2hVSre _3nq8ih\"><div class=\"_36FSn5\"><svg xmlns=\"http://www.w3.org/2000/svg\" class=\"_1l0elc\" width=\"16\" height=\"16\" viewBox=\"0 0 20 16\"><path d=\"M8.695 16.682C4.06 12.382 1 9.536 1 6.065 1 3.219 3.178 1 5.95 1c1.566 0 3.069.746 4.05 1.915C10.981 1.745 12.484 1 14.05 1 16.822 1 19 3.22 19 6.065c0 3.471-3.06 6.316-7.695 10.617L10 17.897l-1.305-1.215z\" fill=\"#2874F0\" class=\"eX72wL\" stroke=\"#FFF\" fill-rule=\"evenodd\" opacity=\".9\"></path></svg></div></div></div><div class=\"_3pLy-c row\"><div class=\"col col-7-12\"><div class=\"_4rR01T\">Avita Cosmos 2 in 1 Celeron Dual Core - (4 GB/64 GB EMMC Storage/Windows 10 Home) NS12T5IN025P 2 in 1 ...</div><div class=\"gUuXy-\"><span id=\"productRating_LSTCOMGFUP2ZXMVW77T2HJCX6_COMGFUP2ZXMVW77T_\" class=\"_1lRcqv\"><div class=\"_3LWZlK\">3.9<img src=\"data:image/svg+xml;base64,PHN2ZyB4bWxucz0iaHR0cDovL3d3dy53My5vcmcvMjAwMC9zdmciIHdpZHRoPSIxMyIgaGVpZ2h0PSIxMiI+PHBhdGggZmlsbD0iI0ZGRiIgZD0iTTYuNSA5LjQzOWwtMy42NzQgMi4yMy45NC00LjI2LTMuMjEtMi44ODMgNC4yNTQtLjQwNEw2LjUuMTEybDEuNjkgNC4wMSA0LjI1NC40MDQtMy4yMSAyLjg4Mi45NCA0LjI2eiIvPjwvc3ZnPg==\" class=\"_1wB99o\"/></div></span><span class=\"_2_R_DZ\"><span><span>25 Ratings\\xa0</span><span class=\"_13vcmD\">&amp;</span><span>\\xa07 Reviews</span></span></span></div><div class=\"fMghEO\"><ul class=\"_1xgFaf\"><li class=\"rgWa7D\">Intel Celeron Dual Core Processor</li><li class=\"rgWa7D\">4 GB DDR4 RAM</li><li class=\"rgWa7D\">64 bit Windows 10 Operating System</li><li class=\"rgWa7D\">29.46 cm (11.6 inch) Touchscreen Display</li><li class=\"rgWa7D\">24 Months Warranty</li></ul></div></div><div class=\"col col-5-12 nlI3QM\"><div class=\"_3tbKJL\"><div class=\"_25b18c\"><div class=\"_30jeq3 _1_WHN1\">₹17,990</div><div class=\"_3I9_wc _27UcVY\">₹<!-- -->23,490</div><div class=\"_3Ay6Sb\"><span>23% off</span></div></div><div class=\"_3tcB5a p8ucoS\"><div><div class=\"_2Tpdn3\" style=\"color:#000000;font-size:14px;font-style:normal;font-weight:400\">Or Pay ₹17,890 + </div><div class=\"CXW8mj _1lT03L\" style=\"height:12px;width:12px\"><img class=\"_396cs4\" alt=\"\" src=\"//static-assets-web.flixcart.com/www/linchpin/fk-cp-zion/img/placeholder_fcebae.svg\"/></div><div class=\"_2Tpdn3\" style=\"color:#000000;font-size:14px;font-style:normal;font-weight:400\"> 100</div></div></div></div><div class=\"_13J9qT\"><img height=\"21\" src=\"//static-assets-web.flixcart.com/www/linchpin/fk-cp-zion/img/fa_62673a.png\"/></div></div></div></a></div></div></div></div><div class=\"_1AtVbE col-12-12\"><div class=\"_13oc-S\"><div data-id=\"COMFZ53SSJQYYVTY\" style=\"width:100%\"><div class=\"_2kHMtA\"><a class=\"_1fQZEK\" target=\"_blank\" rel=\"noopener noreferrer\" href=\"/asus-vivobook-15-core-i3-10th-gen-8-gb-1-tb-hdd-windows-10-home-x515ja-ej322ts-thin-light-laptop/p/itm5cd03fd1bd5bc?pid=COMFZ53SSJQYYVTY&amp;lid=LSTCOMFZ53SSJQYYVTYERZCP9&amp;marketplace=FLIPKART&amp;q=laptop&amp;store=6bo%2Fb5g&amp;srno=s_1_18&amp;otracker=search&amp;otracker1=search&amp;fm=organic&amp;iid=a34ade47-0df5-4ca4-a483-0ea1f0ee37cb.COMFZ53SSJQYYVTY.SEARCH&amp;ppt=None&amp;ppn=None&amp;ssid=mixqt9kbcg0000001623469365852&amp;qH=312f91285e048e09\"><div class=\"MIXNux\"><div class=\"_2QcLo-\"><div><div class=\"CXW8mj\" style=\"height:200px;width:200px\"><img class=\"_396cs4 _3exPp9\" alt=\"ASUS VivoBook 15 Core i3 10th Gen - (8 GB/1 TB HDD/Windows 10 Home) X515JA-EJ322TS Thin and Light Lapt...\" src=\"https://rukminim1.flixcart.com/image/312/312/kjlrb0w0/computer/a/k/b/asus-original-imafz522ntfk9hwx.jpeg?q=70\"/></div></div></div><div class=\"_3wLduG\"><div class=\"_3PzNI-\"><span class=\"f3A4_V\"><label class=\"_2iDkf8\"><input type=\"checkbox\" class=\"_30VH1S\" readonly=\"\"/><div class=\"_24_Dny\"></div></label></span><label class=\"_6Up2sF\"><span>Add to Compare</span></label></div></div><div class=\"_2hVSre _3nq8ih\"><div class=\"_36FSn5\"><svg xmlns=\"http://www.w3.org/2000/svg\" class=\"_1l0elc\" width=\"16\" height=\"16\" viewBox=\"0 0 20 16\"><path d=\"M8.695 16.682C4.06 12.382 1 9.536 1 6.065 1 3.219 3.178 1 5.95 1c1.566 0 3.069.746 4.05 1.915C10.981 1.745 12.484 1 14.05 1 16.822 1 19 3.22 19 6.065c0 3.471-3.06 6.316-7.695 10.617L10 17.897l-1.305-1.215z\" fill=\"#2874F0\" class=\"eX72wL\" stroke=\"#FFF\" fill-rule=\"evenodd\" opacity=\".9\"></path></svg></div></div></div><div class=\"_3pLy-c row\"><div class=\"col col-7-12\"><div class=\"_4rR01T\">ASUS VivoBook 15 Core i3 10th Gen - (8 GB/1 TB HDD/Windows 10 Home) X515JA-EJ322TS Thin and Light Lapt...</div><div class=\"gUuXy-\"><span id=\"productRating_LSTCOMFZ53SSJQYYVTYERZCP9_COMFZ53SSJQYYVTY_\" class=\"_1lRcqv\"><div class=\"_3LWZlK\">4.1<img src=\"data:image/svg+xml;base64,PHN2ZyB4bWxucz0iaHR0cDovL3d3dy53My5vcmcvMjAwMC9zdmciIHdpZHRoPSIxMyIgaGVpZ2h0PSIxMiI+PHBhdGggZmlsbD0iI0ZGRiIgZD0iTTYuNSA5LjQzOWwtMy42NzQgMi4yMy45NC00LjI2LTMuMjEtMi44ODMgNC4yNTQtLjQwNEw2LjUuMTEybDEuNjkgNC4wMSA0LjI1NC40MDQtMy4yMSAyLjg4Mi45NCA0LjI2eiIvPjwvc3ZnPg==\" class=\"_1wB99o\"/></div></span><span class=\"_2_R_DZ\"><span><span>962 Ratings\\xa0</span><span class=\"_13vcmD\">&amp;</span><span>\\xa0112 Reviews</span></span></span></div><div class=\"fMghEO\"><ul class=\"_1xgFaf\"><li class=\"rgWa7D\">Intel Core i3 Processor (10th Gen)</li><li class=\"rgWa7D\">8 GB DDR4 RAM</li><li class=\"rgWa7D\">64 bit Windows 10 Operating System</li><li class=\"rgWa7D\">1 TB HDD</li><li class=\"rgWa7D\">39.62 cm (15.6 inch) Display</li><li class=\"rgWa7D\">Microsoft Office Home and Student 2019, Splendid, Tru2Life, My Asus</li><li class=\"rgWa7D\">1 Year Onsite Warranty</li></ul></div></div><div class=\"col col-5-12 nlI3QM\"><div class=\"_3tbKJL\"><div class=\"_25b18c\"><div class=\"_30jeq3 _1_WHN1\">₹37,990</div><div class=\"_3I9_wc _27UcVY\">₹<!-- -->45,990</div><div class=\"_3Ay6Sb\"><span>17% off</span></div></div><div class=\"_3tcB5a p8ucoS\"><div><div class=\"_2Tpdn3\" style=\"color:#000000;font-size:14px;font-style:normal;font-weight:400\">Or Pay ₹37,890 + </div><div class=\"CXW8mj _1lT03L\" style=\"height:12px;width:12px\"><img class=\"_396cs4\" alt=\"\" src=\"//static-assets-web.flixcart.com/www/linchpin/fk-cp-zion/img/placeholder_fcebae.svg\"/></div><div class=\"_2Tpdn3\" style=\"color:#000000;font-size:14px;font-style:normal;font-weight:400\"> 100</div></div></div></div><div class=\"_13J9qT\"><img height=\"21\" src=\"//static-assets-web.flixcart.com/www/linchpin/fk-cp-zion/img/fa_62673a.png\"/></div><div class=\"_2ZdXDB\"><div class=\"_3xFhiH\"><div class=\"_2Tpdn3 _18hQoS\" style=\"color:#000000;font-size:12px;font-style:normal;font-weight:400\">No Cost EMI</div></div></div></div></div></a></div></div></div></div><div class=\"_1AtVbE col-12-12\"><div class=\"_13oc-S\"><div data-id=\"COMFSFNVDXG74QXR\" style=\"width:100%\"><div class=\"_2kHMtA\"><a class=\"_1fQZEK\" target=\"_blank\" rel=\"noopener noreferrer\" href=\"/hp-pavilion-gaming-ryzen-5-quad-core-3550h-8-gb-1-tb-hdd-windows-10-home-4-gb-graphics-nvidia-geforce-gtx-1650-15-ec0101ax-laptop/p/itma1af6bf593dc8?pid=COMFSFNVDXG74QXR&amp;lid=LSTCOMFSFNVDXG74QXRY8FRH2&amp;marketplace=FLIPKART&amp;q=laptop&amp;store=6bo%2Fb5g&amp;srno=s_1_19&amp;otracker=search&amp;otracker1=search&amp;fm=organic&amp;iid=a34ade47-0df5-4ca4-a483-0ea1f0ee37cb.COMFSFNVDXG74QXR.SEARCH&amp;ppt=None&amp;ppn=None&amp;ssid=mixqt9kbcg0000001623469365852&amp;qH=312f91285e048e09\"><div class=\"MIXNux\"><div class=\"_2QcLo-\"><div><div class=\"CXW8mj\" style=\"height:200px;width:200px\"><img class=\"_396cs4 _3exPp9\" alt=\"HP Pavilion Gaming Ryzen 5 Quad Core 3550H - (8 GB/1 TB HDD/Windows 10 Home/4 GB Graphics/NVIDIA GeFor...\" src=\"https://rukminim1.flixcart.com/image/312/312/kcm9t3k0/computer/q/x/r/hp-na-gaming-laptop-original-imaftpesbvfxgw9t.jpeg?q=70\"/></div></div></div><div class=\"_3wLduG\"><div class=\"_3PzNI-\"><span class=\"f3A4_V\"><label class=\"_2iDkf8\"><input type=\"checkbox\" class=\"_30VH1S\" readonly=\"\"/><div class=\"_24_Dny\"></div></label></span><label class=\"_6Up2sF\"><span>Add to Compare</span></label></div></div><div class=\"_2hVSre _3nq8ih\"><div class=\"_36FSn5\"><svg xmlns=\"http://www.w3.org/2000/svg\" class=\"_1l0elc\" width=\"16\" height=\"16\" viewBox=\"0 0 20 16\"><path d=\"M8.695 16.682C4.06 12.382 1 9.536 1 6.065 1 3.219 3.178 1 5.95 1c1.566 0 3.069.746 4.05 1.915C10.981 1.745 12.484 1 14.05 1 16.822 1 19 3.22 19 6.065c0 3.471-3.06 6.316-7.695 10.617L10 17.897l-1.305-1.215z\" fill=\"#2874F0\" class=\"eX72wL\" stroke=\"#FFF\" fill-rule=\"evenodd\" opacity=\".9\"></path></svg></div></div></div><div class=\"_3pLy-c row\"><div class=\"col col-7-12\"><div class=\"_4rR01T\">HP Pavilion Gaming Ryzen 5 Quad Core 3550H - (8 GB/1 TB HDD/Windows 10 Home/4 GB Graphics/NVIDIA GeFor...</div><div class=\"gUuXy-\"><span id=\"productRating_LSTCOMFSFNVDXG74QXRY8FRH2_COMFSFNVDXG74QXR_\" class=\"_1lRcqv\"><div class=\"_3LWZlK\">4.2<img src=\"data:image/svg+xml;base64,PHN2ZyB4bWxucz0iaHR0cDovL3d3dy53My5vcmcvMjAwMC9zdmciIHdpZHRoPSIxMyIgaGVpZ2h0PSIxMiI+PHBhdGggZmlsbD0iI0ZGRiIgZD0iTTYuNSA5LjQzOWwtMy42NzQgMi4yMy45NC00LjI2LTMuMjEtMi44ODMgNC4yNTQtLjQwNEw2LjUuMTEybDEuNjkgNC4wMSA0LjI1NC40MDQtMy4yMSAyLjg4Mi45NCA0LjI2eiIvPjwvc3ZnPg==\" class=\"_1wB99o\"/></div></span><span class=\"_2_R_DZ\"><span><span>11,194 Ratings\\xa0</span><span class=\"_13vcmD\">&amp;</span><span>\\xa01,525 Reviews</span></span></span></div><div class=\"fMghEO\"><ul class=\"_1xgFaf\"><li class=\"rgWa7D\">AMD Ryzen 5 Quad Core Processor</li><li class=\"rgWa7D\">8 GB DDR4 RAM</li><li class=\"rgWa7D\">64 bit Windows 10 Operating System</li><li class=\"rgWa7D\">1 TB HDD</li><li class=\"rgWa7D\">39.62 cm (15.6 inch) Display</li><li class=\"rgWa7D\">1 Year Onsite Warranty</li></ul></div></div><div class=\"col col-5-12 nlI3QM\"><div class=\"_3tbKJL\"><div class=\"_25b18c\"><div class=\"_30jeq3 _1_WHN1\">₹50,990</div><div class=\"_3I9_wc _27UcVY\">₹<!-- -->56,144</div><div class=\"_3Ay6Sb\"><span>9% off</span></div></div><div class=\"_3tcB5a p8ucoS\"><div><div class=\"_2Tpdn3\" style=\"color:#000000;font-size:14px;font-style:normal;font-weight:400\">Or Pay ₹50,890 + </div><div class=\"CXW8mj _1lT03L\" style=\"height:12px;width:12px\"><img class=\"_396cs4\" alt=\"\" src=\"//static-assets-web.flixcart.com/www/linchpin/fk-cp-zion/img/placeholder_fcebae.svg\"/></div><div class=\"_2Tpdn3\" style=\"color:#000000;font-size:14px;font-style:normal;font-weight:400\"> 100</div></div></div></div><div class=\"_13J9qT\"><img height=\"21\" src=\"//static-assets-web.flixcart.com/www/linchpin/fk-cp-zion/img/fa_62673a.png\"/></div><div class=\"_2ZdXDB\"><div class=\"_3xFhiH\"><div class=\"_2Tpdn3 _18hQoS\" style=\"color:#000000;font-size:12px;font-style:normal;font-weight:400\">No Cost EMI</div></div></div></div></div></a></div></div></div></div><div class=\"_1AtVbE col-12-12\"><div class=\"_13oc-S\"><div data-id=\"COMGFH8KHCHZBHDQ\" style=\"width:100%\"><div class=\"_2kHMtA\"><div class=\"_2tfzpE\"><span>Ad</span></div><a class=\"_1fQZEK\" target=\"_blank\" rel=\"noopener noreferrer\" href=\"/acer-predator-helios-300-core-i7-10th-gen-16-gb-1-tb-hdd-256-gb-ssd-windows-10-home-6-graphics-nvidia-geforce-rtx-3060-144-hz-ph315-53-gaming-laptop/p/itmb2022d3889ada?pid=COMGFH8KHCHZBHDQ&amp;lid=LSTCOMGFH8KHCHZBHDQUCRINS&amp;marketplace=FLIPKART&amp;q=laptop&amp;store=6bo%2Fb5g&amp;srno=s_1_20&amp;otracker=search&amp;otracker1=search&amp;fm=organic&amp;iid=en_sO2JoGGXnEpiPv5Z0NrfZXnzIXgoc1Nrzz2qZlYj%2BMtN%2BjyrtgndldRZk0i36DDE1JQlSUsuQHDsLn%2F%2BnFn8TA%3D%3D&amp;ppt=None&amp;ppn=None&amp;ssid=mixqt9kbcg0000001623469365852&amp;qH=312f91285e048e09\"><div class=\"MIXNux\"><div class=\"_2QcLo-\"><div><div class=\"CXW8mj\" style=\"height:200px;width:200px\"><img class=\"_396cs4 _3exPp9\" alt=\"acer Predator Helios 300 Core i7 10th Gen - (16 GB/1 TB HDD/256 GB SSD/Windows 10 Home/6 GB Graphics/N...\" src=\"https://rukminim1.flixcart.com/image/312/312/kgsb1jk0/computer/f/j/g/acer-na-gaming-laptop-original-imafwxxuee4hzaq2.jpeg?q=70\"/></div></div></div><div class=\"_3wLduG\"><div class=\"_3PzNI-\"><span class=\"f3A4_V\"><label class=\"_2iDkf8\"><input type=\"checkbox\" class=\"_30VH1S\" readonly=\"\"/><div class=\"_24_Dny\"></div></label></span><label class=\"_6Up2sF\"><span>Add to Compare</span></label></div></div><div class=\"_2hVSre _3nq8ih\"><div class=\"_36FSn5\"><svg xmlns=\"http://www.w3.org/2000/svg\" class=\"_1l0elc\" width=\"16\" height=\"16\" viewBox=\"0 0 20 16\"><path d=\"M8.695 16.682C4.06 12.382 1 9.536 1 6.065 1 3.219 3.178 1 5.95 1c1.566 0 3.069.746 4.05 1.915C10.981 1.745 12.484 1 14.05 1 16.822 1 19 3.22 19 6.065c0 3.471-3.06 6.316-7.695 10.617L10 17.897l-1.305-1.215z\" fill=\"#2874F0\" class=\"eX72wL\" stroke=\"#FFF\" fill-rule=\"evenodd\" opacity=\".9\"></path></svg></div></div></div><div class=\"_3pLy-c row\"><div class=\"col col-7-12\"><div class=\"_4rR01T\">acer Predator Helios 300 Core i7 10th Gen - (16 GB/1 TB HDD/256 GB SSD/Windows 10 Home/6 GB Graphics/N...</div><div class=\"gUuXy-\"><span id=\"productRating_LSTCOMGFH8KHCHZBHDQUCRINS_COMGFH8KHCHZBHDQ_\" class=\"_1lRcqv\"><div class=\"_3LWZlK\">4.5<img src=\"data:image/svg+xml;base64,PHN2ZyB4bWxucz0iaHR0cDovL3d3dy53My5vcmcvMjAwMC9zdmciIHdpZHRoPSIxMyIgaGVpZ2h0PSIxMiI+PHBhdGggZmlsbD0iI0ZGRiIgZD0iTTYuNSA5LjQzOWwtMy42NzQgMi4yMy45NC00LjI2LTMuMjEtMi44ODMgNC4yNTQtLjQwNEw2LjUuMTEybDEuNjkgNC4wMSA0LjI1NC40MDQtMy4yMSAyLjg4Mi45NCA0LjI2eiIvPjwvc3ZnPg==\" class=\"_1wB99o\"/></div></span><span class=\"_2_R_DZ\"><span><span>306 Ratings\\xa0</span><span class=\"_13vcmD\">&amp;</span><span>\\xa068 Reviews</span></span></span></div><div class=\"fMghEO\"><ul class=\"_1xgFaf\"><li class=\"rgWa7D\">Intel Core i7 Processor (10th Gen)</li><li class=\"rgWa7D\">16 GB DDR4 RAM</li><li class=\"rgWa7D\">64 bit Windows 10 Operating System</li><li class=\"rgWa7D\">1 TB HDD|256 GB SSD</li><li class=\"rgWa7D\">39.62 cm (15.6 inch) Display</li><li class=\"rgWa7D\">PredatorSense, Acer Care Center, Planet9, Acer Product Registration, Quick Access</li><li class=\"rgWa7D\">1 Year Onsite Warranty</li></ul></div></div><div class=\"col col-5-12 nlI3QM\"><div class=\"_3tbKJL\"><div class=\"_25b18c\"><div class=\"_30jeq3 _1_WHN1\">₹1,16,990</div><div class=\"_3I9_wc _27UcVY\">₹<!-- -->1,49,999</div><div class=\"_3Ay6Sb\"><span>22% off</span></div></div><div class=\"_3tcB5a p8ucoS\"><div><div class=\"_2Tpdn3\" style=\"color:#000000;font-size:14px;font-style:normal;font-weight:400\">Or Pay ₹1,16,890 + </div><div class=\"CXW8mj _1lT03L\" style=\"height:12px;width:12px\"><img class=\"_396cs4\" alt=\"\" src=\"//static-assets-web.flixcart.com/www/linchpin/fk-cp-zion/img/placeholder_fcebae.svg\"/></div><div class=\"_2Tpdn3\" style=\"color:#000000;font-size:14px;font-style:normal;font-weight:400\"> 100</div></div></div></div><div class=\"_13J9qT\"><img height=\"21\" src=\"//static-assets-web.flixcart.com/www/linchpin/fk-cp-zion/img/fa_62673a.png\"/></div></div></div></a></div></div></div></div><div class=\"_1AtVbE col-12-12\"><div class=\"_13oc-S\"><div data-id=\"COMFUR8XCVCMMVM2\" style=\"width:100%\"><div class=\"_2kHMtA\"><a class=\"_1fQZEK\" target=\"_blank\" rel=\"noopener noreferrer\" href=\"/msi-gf63-thin-core-i5-9th-gen-8-gb-512-gb-ssd-windows-10-home-4-graphics-nvidia-geforce-gtx-1650-ti-max-q-9scsr-1040in-gaming-laptop/p/itm5ca8ea2a1ce80?pid=COMFUR8XCVCMMVM2&amp;lid=LSTCOMFUR8XCVCMMVM2FBE02J&amp;marketplace=FLIPKART&amp;q=laptop&amp;store=6bo%2Fb5g&amp;srno=s_1_21&amp;otracker=search&amp;otracker1=search&amp;fm=organic&amp;iid=a34ade47-0df5-4ca4-a483-0ea1f0ee37cb.COMFUR8XCVCMMVM2.SEARCH&amp;ppt=None&amp;ppn=None&amp;ssid=mixqt9kbcg0000001623469365852&amp;qH=312f91285e048e09\"><div class=\"MIXNux\"><div class=\"_2QcLo-\"><div><div class=\"CXW8mj\" style=\"height:200px;width:200px\"><img class=\"_396cs4 _3exPp9\" alt=\"MSI GF63 Thin Core i5 9th Gen - (8 GB/512 GB SSD/Windows 10 Home/4 GB Graphics/NVIDIA GeForce GTX 1650...\" src=\"https://rukminim1.flixcart.com/image/312/312/ke353m80/computer/p/q/m/msi-original-imafuurxjxzy4zcn.jpeg?q=70\"/></div></div></div><div class=\"_3wLduG\"><div class=\"_3PzNI-\"><span class=\"f3A4_V\"><label class=\"_2iDkf8\"><input type=\"checkbox\" class=\"_30VH1S\" readonly=\"\"/><div class=\"_24_Dny\"></div></label></span><label class=\"_6Up2sF\"><span>Add to Compare</span></label></div></div><div class=\"_2hVSre _3nq8ih\"><div class=\"_36FSn5\"><svg xmlns=\"http://www.w3.org/2000/svg\" class=\"_1l0elc\" width=\"16\" height=\"16\" viewBox=\"0 0 20 16\"><path d=\"M8.695 16.682C4.06 12.382 1 9.536 1 6.065 1 3.219 3.178 1 5.95 1c1.566 0 3.069.746 4.05 1.915C10.981 1.745 12.484 1 14.05 1 16.822 1 19 3.22 19 6.065c0 3.471-3.06 6.316-7.695 10.617L10 17.897l-1.305-1.215z\" fill=\"#2874F0\" class=\"eX72wL\" stroke=\"#FFF\" fill-rule=\"evenodd\" opacity=\".9\"></path></svg></div></div></div><div class=\"_3pLy-c row\"><div class=\"col col-7-12\"><div class=\"_4rR01T\">MSI GF63 Thin Core i5 9th Gen - (8 GB/512 GB SSD/Windows 10 Home/4 GB Graphics/NVIDIA GeForce GTX 1650...</div><div class=\"gUuXy-\"><span id=\"productRating_LSTCOMFUR8XCVCMMVM2FBE02J_COMFUR8XCVCMMVM2_\" class=\"_1lRcqv\"><div class=\"_3LWZlK\">4.4<img src=\"data:image/svg+xml;base64,PHN2ZyB4bWxucz0iaHR0cDovL3d3dy53My5vcmcvMjAwMC9zdmciIHdpZHRoPSIxMyIgaGVpZ2h0PSIxMiI+PHBhdGggZmlsbD0iI0ZGRiIgZD0iTTYuNSA5LjQzOWwtMy42NzQgMi4yMy45NC00LjI2LTMuMjEtMi44ODMgNC4yNTQtLjQwNEw2LjUuMTEybDEuNjkgNC4wMSA0LjI1NC40MDQtMy4yMSAyLjg4Mi45NCA0LjI2eiIvPjwvc3ZnPg==\" class=\"_1wB99o\"/></div></span><span class=\"_2_R_DZ\"><span><span>717 Ratings\\xa0</span><span class=\"_13vcmD\">&amp;</span><span>\\xa097 Reviews</span></span></span></div><div class=\"fMghEO\"><ul class=\"_1xgFaf\"><li class=\"rgWa7D\">Intel Core i5 Processor (9th Gen)</li><li class=\"rgWa7D\">8 GB DDR4 RAM</li><li class=\"rgWa7D\">64 bit Windows 10 Operating System</li><li class=\"rgWa7D\">512 GB SSD</li><li class=\"rgWa7D\">39.62 cm (15.6 inch) Display</li><li class=\"rgWa7D\">Cooler Boost 5, Audio Boost, Dragon Center, Nahimic 3</li><li class=\"rgWa7D\">2 Years Carry In Warranty</li></ul></div></div><div class=\"col col-5-12 nlI3QM\"><div class=\"_3tbKJL\"><div class=\"_25b18c\"><div class=\"_30jeq3 _1_WHN1\">₹56,990</div><div class=\"_3I9_wc _27UcVY\">₹<!-- -->72,990</div><div class=\"_3Ay6Sb\"><span>21% off</span></div></div><div class=\"_3tcB5a p8ucoS\"><div><div class=\"_2Tpdn3\" style=\"color:#000000;font-size:14px;font-style:normal;font-weight:400\">Or Pay ₹56,890 + </div><div class=\"CXW8mj _1lT03L\" style=\"height:12px;width:12px\"><img class=\"_396cs4\" alt=\"\" src=\"//static-assets-web.flixcart.com/www/linchpin/fk-cp-zion/img/placeholder_fcebae.svg\"/></div><div class=\"_2Tpdn3\" style=\"color:#000000;font-size:14px;font-style:normal;font-weight:400\"> 100</div></div></div></div><div class=\"_13J9qT\"><img height=\"21\" src=\"//static-assets-web.flixcart.com/www/linchpin/fk-cp-zion/img/fa_62673a.png\"/></div><div class=\"_2ZdXDB\"><div class=\"_3xFhiH\"><div class=\"_2Tpdn3 _18hQoS\" style=\"color:#000000;font-size:12px;font-style:normal;font-weight:400\">No Cost EMI</div></div></div></div></div></a></div></div></div></div><div class=\"_1AtVbE col-12-12\"><div class=\"_13oc-S\"><div data-id=\"COMFXEKMGNHZYFH9\" style=\"width:100%\"><div class=\"_2kHMtA\"><a class=\"_1fQZEK\" target=\"_blank\" rel=\"noopener noreferrer\" href=\"/apple-macbook-air-m1-8-gb-256-gb-ssd-mac-os-big-sur-mgn63hn-a/p/itmde54f026889ce?pid=COMFXEKMGNHZYFH9&amp;lid=LSTCOMFXEKMGNHZYFH9EOWT4E&amp;marketplace=FLIPKART&amp;q=laptop&amp;store=6bo%2Fb5g&amp;srno=s_1_22&amp;otracker=search&amp;otracker1=search&amp;fm=organic&amp;iid=a34ade47-0df5-4ca4-a483-0ea1f0ee37cb.COMFXEKMGNHZYFH9.SEARCH&amp;ppt=None&amp;ppn=None&amp;ssid=mixqt9kbcg0000001623469365852&amp;qH=312f91285e048e09\"><div class=\"MIXNux\"><div class=\"_2QcLo-\"><div><div class=\"CXW8mj\" style=\"height:200px;width:200px\"><img class=\"_396cs4 _3exPp9\" alt=\"APPLE MacBook Air M1 - (8 GB/256 GB SSD/Mac OS Big Sur) MGN63HN/A\" src=\"https://rukminim1.flixcart.com/image/312/312/khdqnbk0/computer/5/d/e/apple-original-imafxfyqkdfxqjab.jpeg?q=70\"/></div></div></div><div class=\"_3wLduG\"><div class=\"_3PzNI-\"><span class=\"f3A4_V\"><label class=\"_2iDkf8\"><input type=\"checkbox\" class=\"_30VH1S\" readonly=\"\"/><div class=\"_24_Dny\"></div></label></span><label class=\"_6Up2sF\"><span>Add to Compare</span></label></div></div><div class=\"_2hVSre _3nq8ih\"><div class=\"_36FSn5\"><svg xmlns=\"http://www.w3.org/2000/svg\" class=\"_1l0elc\" width=\"16\" height=\"16\" viewBox=\"0 0 20 16\"><path d=\"M8.695 16.682C4.06 12.382 1 9.536 1 6.065 1 3.219 3.178 1 5.95 1c1.566 0 3.069.746 4.05 1.915C10.981 1.745 12.484 1 14.05 1 16.822 1 19 3.22 19 6.065c0 3.471-3.06 6.316-7.695 10.617L10 17.897l-1.305-1.215z\" fill=\"#2874F0\" class=\"eX72wL\" stroke=\"#FFF\" fill-rule=\"evenodd\" opacity=\".9\"></path></svg></div></div></div><div class=\"_3pLy-c row\"><div class=\"col col-7-12\"><div class=\"_4rR01T\">APPLE MacBook Air M1 - (8 GB/256 GB SSD/Mac OS Big Sur) MGN63HN/A</div><div class=\"gUuXy-\"><span id=\"productRating_LSTCOMFXEKMGNHZYFH9EOWT4E_COMFXEKMGNHZYFH9_\" class=\"_1lRcqv\"><div class=\"_3LWZlK\">4.7<img src=\"data:image/svg+xml;base64,PHN2ZyB4bWxucz0iaHR0cDovL3d3dy53My5vcmcvMjAwMC9zdmciIHdpZHRoPSIxMyIgaGVpZ2h0PSIxMiI+PHBhdGggZmlsbD0iI0ZGRiIgZD0iTTYuNSA5LjQzOWwtMy42NzQgMi4yMy45NC00LjI2LTMuMjEtMi44ODMgNC4yNTQtLjQwNEw2LjUuMTEybDEuNjkgNC4wMSA0LjI1NC40MDQtMy4yMSAyLjg4Mi45NCA0LjI2eiIvPjwvc3ZnPg==\" class=\"_1wB99o\"/></div></span><span class=\"_2_R_DZ\"><span><span>505 Ratings\\xa0</span><span class=\"_13vcmD\">&amp;</span><span>\\xa076 Reviews</span></span></span></div><div class=\"fMghEO\"><ul class=\"_1xgFaf\"><li class=\"rgWa7D\">Apple M1 Processor</li><li class=\"rgWa7D\">8 GB DDR4 RAM</li><li class=\"rgWa7D\">Mac OS Operating System</li><li class=\"rgWa7D\">256 GB SSD</li><li class=\"rgWa7D\">33.78 cm (13.3 inch) Display</li><li class=\"rgWa7D\">Built-in Apps: iMovie, Siri, GarageBand, Pages, Numbers, Photos, Keynote, Safari, Mail, FaceTime, Messages, Maps, Stocks, Home, Voice Memos, Notes, Calendar, Contacts, Reminders, Photo Booth, Preview, Books, App Store, Time Machine, TV, Music, Podcasts, Find My, QuickTime Player</li><li class=\"rgWa7D\">1 Year Limited Warra\\xadnty</li></ul></div></div><div class=\"col col-5-12 nlI3QM\"><div class=\"_3tbKJL\"><div class=\"_25b18c\"><div class=\"_30jeq3 _1_WHN1\">₹92,900</div></div><div class=\"_3tcB5a p8ucoS\"><div><div class=\"_2Tpdn3\" style=\"color:#000000;font-size:14px;font-style:normal;font-weight:400\">Or Pay ₹92,800 + </div><div class=\"CXW8mj _1lT03L\" style=\"height:12px;width:12px\"><img class=\"_396cs4\" alt=\"\" src=\"//static-assets-web.flixcart.com/www/linchpin/fk-cp-zion/img/placeholder_fcebae.svg\"/></div><div class=\"_2Tpdn3\" style=\"color:#000000;font-size:14px;font-style:normal;font-weight:400\"> 100</div></div></div></div><div class=\"_13J9qT\"><img height=\"21\" src=\"//static-assets-web.flixcart.com/www/linchpin/fk-cp-zion/img/fa_62673a.png\"/></div><div class=\"_2ZdXDB\"><div class=\"_3xFhiH\"><div class=\"_2Tpdn3 _18hQoS\" style=\"color:#000000;font-size:12px;font-style:normal;font-weight:400\">No Cost EMI</div></div></div></div></div></a></div></div></div></div><div class=\"_1AtVbE col-12-12\"><div class=\"_13oc-S\"><div data-id=\"COMFXZZMWZGM4MPJ\" style=\"width:100%\"><div class=\"_2kHMtA\"><a class=\"_1fQZEK\" target=\"_blank\" rel=\"noopener noreferrer\" href=\"/lenovo-legion-y540-core-i5-9th-gen-8-gb-1-tb-hdd-256-gb-ssd-windows-10-home-4-graphics-nvidia-geforce-gtx-1650-60-hz-y540-15irh-pg0-gaming-laptop/p/itm8a774a92e9b76?pid=COMFXZZMWZGM4MPJ&amp;lid=LSTCOMFXZZMWZGM4MPJSWHXIX&amp;marketplace=FLIPKART&amp;q=laptop&amp;store=6bo%2Fb5g&amp;srno=s_1_23&amp;otracker=search&amp;otracker1=search&amp;fm=organic&amp;iid=a34ade47-0df5-4ca4-a483-0ea1f0ee37cb.COMFXZZMWZGM4MPJ.SEARCH&amp;ppt=None&amp;ppn=None&amp;ssid=mixqt9kbcg0000001623469365852&amp;qH=312f91285e048e09\"><div class=\"MIXNux\"><div class=\"_2QcLo-\"><div><div class=\"CXW8mj\" style=\"height:200px;width:200px\"><img class=\"_396cs4 _3exPp9\" alt=\"Lenovo Legion Y540 Core i5 9th Gen - (8 GB/1 TB HDD/256 GB SSD/Windows 10 Home/4 GB Graphics/NVIDIA Ge...\" src=\"https://rukminim1.flixcart.com/image/312/312/kiew3gw0/computer/m/p/j/lenovo-original-imafy7ng97axn45e.jpeg?q=70\"/></div></div></div><div class=\"_3wLduG\"><div class=\"_3PzNI-\"><span class=\"f3A4_V\"><label class=\"_2iDkf8\"><input type=\"checkbox\" class=\"_30VH1S\" readonly=\"\"/><div class=\"_24_Dny\"></div></label></span><label class=\"_6Up2sF\"><span>Add to Compare</span></label></div></div><div class=\"_2hVSre _3nq8ih\"><div class=\"_36FSn5\"><svg xmlns=\"http://www.w3.org/2000/svg\" class=\"_1l0elc\" width=\"16\" height=\"16\" viewBox=\"0 0 20 16\"><path d=\"M8.695 16.682C4.06 12.382 1 9.536 1 6.065 1 3.219 3.178 1 5.95 1c1.566 0 3.069.746 4.05 1.915C10.981 1.745 12.484 1 14.05 1 16.822 1 19 3.22 19 6.065c0 3.471-3.06 6.316-7.695 10.617L10 17.897l-1.305-1.215z\" fill=\"#2874F0\" class=\"eX72wL\" stroke=\"#FFF\" fill-rule=\"evenodd\" opacity=\".9\"></path></svg></div></div></div><div class=\"_3pLy-c row\"><div class=\"col col-7-12\"><div class=\"_4rR01T\">Lenovo Legion Y540 Core i5 9th Gen - (8 GB/1 TB HDD/256 GB SSD/Windows 10 Home/4 GB Graphics/NVIDIA Ge...</div><div class=\"gUuXy-\"><span id=\"productRating_LSTCOMFXZZMWZGM4MPJSWHXIX_COMFXZZMWZGM4MPJ_\" class=\"_1lRcqv\"><div class=\"_3LWZlK\">4.5<img src=\"data:image/svg+xml;base64,PHN2ZyB4bWxucz0iaHR0cDovL3d3dy53My5vcmcvMjAwMC9zdmciIHdpZHRoPSIxMyIgaGVpZ2h0PSIxMiI+PHBhdGggZmlsbD0iI0ZGRiIgZD0iTTYuNSA5LjQzOWwtMy42NzQgMi4yMy45NC00LjI2LTMuMjEtMi44ODMgNC4yNTQtLjQwNEw2LjUuMTEybDEuNjkgNC4wMSA0LjI1NC40MDQtMy4yMSAyLjg4Mi45NCA0LjI2eiIvPjwvc3ZnPg==\" class=\"_1wB99o\"/></div></span><span class=\"_2_R_DZ\"><span><span>166 Ratings\\xa0</span><span class=\"_13vcmD\">&amp;</span><span>\\xa016 Reviews</span></span></span></div><div class=\"fMghEO\"><ul class=\"_1xgFaf\"><li class=\"rgWa7D\">Intel Core i5 Processor (9th Gen)</li><li class=\"rgWa7D\">8 GB DDR4 RAM</li><li class=\"rgWa7D\">64 bit Windows 10 Operating System</li><li class=\"rgWa7D\">1 TB HDD|256 GB SSD</li><li class=\"rgWa7D\">39.62 cm (15.6 inch) Display</li><li class=\"rgWa7D\">1 Year Onsite Warranty</li></ul></div></div><div class=\"col col-5-12 nlI3QM\"><div class=\"_3tbKJL\"><div class=\"_25b18c\"><div class=\"_30jeq3 _1_WHN1\">₹60,990</div><div class=\"_3I9_wc _27UcVY\">₹<!-- -->86,690</div><div class=\"_3Ay6Sb\"><span>29% off</span></div></div><div class=\"_3tcB5a p8ucoS\"><div><div class=\"_2Tpdn3\" style=\"color:#000000;font-size:14px;font-style:normal;font-weight:400\">Or Pay ₹60,890 + </div><div class=\"CXW8mj _1lT03L\" style=\"height:12px;width:12px\"><img class=\"_396cs4\" alt=\"\" src=\"//static-assets-web.flixcart.com/www/linchpin/fk-cp-zion/img/placeholder_fcebae.svg\"/></div><div class=\"_2Tpdn3\" style=\"color:#000000;font-size:14px;font-style:normal;font-weight:400\"> 100</div></div></div></div><div class=\"_13J9qT\"><img height=\"21\" src=\"//static-assets-web.flixcart.com/www/linchpin/fk-cp-zion/img/fa_62673a.png\"/></div><div class=\"_2ZdXDB\"><div class=\"_3xFhiH\"><div class=\"_2Tpdn3 _18hQoS\" style=\"color:#000000;font-size:12px;font-style:normal;font-weight:400\">No Cost EMI</div></div></div></div></div></a></div></div></div></div><div class=\"_1AtVbE col-12-12\"><div class=\"_13oc-S\"><div data-id=\"COMFTRPTHHYK93GH\" style=\"width:100%\"><div class=\"_2kHMtA\"><div class=\"_2tfzpE\"><span>Ad</span></div><a class=\"_1fQZEK\" target=\"_blank\" rel=\"noopener noreferrer\" href=\"/acer-aspire-5-core-i3-10th-gen-4-gb-32-optane-512-ssd-windows-10-home-a514-53-316m-thin-light-laptop/p/itm6252c5d487e10?pid=COMFTRPTHHYK93GH&amp;lid=LSTCOMFTRPTHHYK93GH01REE5&amp;marketplace=FLIPKART&amp;q=laptop&amp;store=6bo%2Fb5g&amp;srno=s_1_24&amp;otracker=search&amp;otracker1=search&amp;fm=organic&amp;iid=en_sO2JoGGXnEpiPv5Z0NrfZXnzIXgoc1Nrzz2qZlYj%2BMt58stt6av82Em04%2FbkPFQWUKBOAZDouLRb5VW5A%2BcW%2BQ%3D%3D&amp;ppt=None&amp;ppn=None&amp;ssid=mixqt9kbcg0000001623469365852&amp;qH=312f91285e048e09\"><div class=\"MIXNux\"><div class=\"_2QcLo-\"><div><div class=\"CXW8mj\" style=\"height:200px;width:200px\"><img class=\"_396cs4 _3exPp9\" alt=\"acer Aspire 5 Core i3 10th Gen - (4 GB + 32 GB Optane/512 GB SSD/Windows 10 Home) A514-53-316M Thin an...\" src=\"https://rukminim1.flixcart.com/image/312/312/kd7pevk0/computer/3/g/h/acer-na-thin-and-light-laptop-original-imafu5t5tghggqyz.jpeg?q=70\"/></div></div></div><div class=\"_3wLduG\"><div class=\"_3PzNI-\"><span class=\"f3A4_V\"><label class=\"_2iDkf8\"><input type=\"checkbox\" class=\"_30VH1S\" readonly=\"\"/><div class=\"_24_Dny\"></div></label></span><label class=\"_6Up2sF\"><span>Add to Compare</span></label></div></div><div class=\"_2hVSre _3nq8ih\"><div class=\"_36FSn5\"><svg xmlns=\"http://www.w3.org/2000/svg\" class=\"_1l0elc\" width=\"16\" height=\"16\" viewBox=\"0 0 20 16\"><path d=\"M8.695 16.682C4.06 12.382 1 9.536 1 6.065 1 3.219 3.178 1 5.95 1c1.566 0 3.069.746 4.05 1.915C10.981 1.745 12.484 1 14.05 1 16.822 1 19 3.22 19 6.065c0 3.471-3.06 6.316-7.695 10.617L10 17.897l-1.305-1.215z\" fill=\"#2874F0\" class=\"eX72wL\" stroke=\"#FFF\" fill-rule=\"evenodd\" opacity=\".9\"></path></svg></div></div></div><div class=\"_3pLy-c row\"><div class=\"col col-7-12\"><div class=\"_4rR01T\">acer Aspire 5 Core i3 10th Gen - (4 GB + 32 GB Optane/512 GB SSD/Windows 10 Home) A514-53-316M Thin an...</div><div class=\"gUuXy-\"><span id=\"productRating_LSTCOMFTRPTHHYK93GH01REE5_COMFTRPTHHYK93GH_\" class=\"_1lRcqv\"><div class=\"_3LWZlK\">4.3<img src=\"data:image/svg+xml;base64,PHN2ZyB4bWxucz0iaHR0cDovL3d3dy53My5vcmcvMjAwMC9zdmciIHdpZHRoPSIxMyIgaGVpZ2h0PSIxMiI+PHBhdGggZmlsbD0iI0ZGRiIgZD0iTTYuNSA5LjQzOWwtMy42NzQgMi4yMy45NC00LjI2LTMuMjEtMi44ODMgNC4yNTQtLjQwNEw2LjUuMTEybDEuNjkgNC4wMSA0LjI1NC40MDQtMy4yMSAyLjg4Mi45NCA0LjI2eiIvPjwvc3ZnPg==\" class=\"_1wB99o\"/></div></span><span class=\"_2_R_DZ\"><span><span>834 Ratings\\xa0</span><span class=\"_13vcmD\">&amp;</span><span>\\xa0108 Reviews</span></span></span></div><div class=\"fMghEO\"><ul class=\"_1xgFaf\"><li class=\"rgWa7D\">Intel Core i3 Processor (10th Gen)</li><li class=\"rgWa7D\">4 GB DDR4 RAM</li><li class=\"rgWa7D\">64 bit Windows 10 Operating System</li><li class=\"rgWa7D\">512 GB SSD</li><li class=\"rgWa7D\">35.56 cm (14 inch) Display</li><li class=\"rgWa7D\">Acer Care Center, Acer Configuration Manager, Quick Access, Acer Product Registration</li><li class=\"rgWa7D\">1 Year International Travelers Warranty (ITW)</li></ul></div></div><div class=\"col col-5-12 nlI3QM\"><div class=\"_3tbKJL\"><div class=\"_25b18c\"><div class=\"_30jeq3 _1_WHN1\">₹39,999</div><div class=\"_3I9_wc _27UcVY\">₹<!-- -->55,999</div><div class=\"_3Ay6Sb\"><span>28% off</span></div></div><div class=\"_3tcB5a p8ucoS\"><div><div class=\"_2Tpdn3\" style=\"color:#000000;font-size:14px;font-style:normal;font-weight:400\">Or Pay ₹39,899 + </div><div class=\"CXW8mj _1lT03L\" style=\"height:12px;width:12px\"><img class=\"_396cs4\" alt=\"\" src=\"//static-assets-web.flixcart.com/www/linchpin/fk-cp-zion/img/placeholder_fcebae.svg\"/></div><div class=\"_2Tpdn3\" style=\"color:#000000;font-size:14px;font-style:normal;font-weight:400\"> 100</div></div></div></div><div class=\"_13J9qT\"><img height=\"21\" src=\"//static-assets-web.flixcart.com/www/linchpin/fk-cp-zion/img/fa_62673a.png\"/></div><div class=\"_2ZdXDB\"><div class=\"_3xFhiH\"><div class=\"_2Tpdn3 _18hQoS\" style=\"color:#000000;font-size:12px;font-style:normal;font-weight:400\">No Cost EMI</div></div></div></div></div></a></div></div></div></div><div class=\"_1AtVbE col-12-12\"><div><div class=\"_2MImiq\"><span>Page 1 of 31</span><nav class=\"yFHi8N\"><a class=\"ge-49M _2Kfbh8\" href=\"/search?q=laptop&amp;otracker=search&amp;otracker1=search&amp;marketplace=FLIPKART&amp;as-show=on&amp;as=off&amp;page=1\">1</a><a class=\"ge-49M\" href=\"/search?q=laptop&amp;otracker=search&amp;otracker1=search&amp;marketplace=FLIPKART&amp;as-show=on&amp;as=off&amp;page=2\">2</a><a class=\"ge-49M\" href=\"/search?q=laptop&amp;otracker=search&amp;otracker1=search&amp;marketplace=FLIPKART&amp;as-show=on&amp;as=off&amp;page=3\">3</a><a class=\"ge-49M\" href=\"/search?q=laptop&amp;otracker=search&amp;otracker1=search&amp;marketplace=FLIPKART&amp;as-show=on&amp;as=off&amp;page=4\">4</a><a class=\"ge-49M\" href=\"/search?q=laptop&amp;otracker=search&amp;otracker1=search&amp;marketplace=FLIPKART&amp;as-show=on&amp;as=off&amp;page=5\">5</a><a class=\"ge-49M\" href=\"/search?q=laptop&amp;otracker=search&amp;otracker1=search&amp;marketplace=FLIPKART&amp;as-show=on&amp;as=off&amp;page=6\">6</a><a class=\"ge-49M\" href=\"/search?q=laptop&amp;otracker=search&amp;otracker1=search&amp;marketplace=FLIPKART&amp;as-show=on&amp;as=off&amp;page=7\">7</a><a class=\"ge-49M\" href=\"/search?q=laptop&amp;otracker=search&amp;otracker1=search&amp;marketplace=FLIPKART&amp;as-show=on&amp;as=off&amp;page=8\">8</a><a class=\"ge-49M\" href=\"/search?q=laptop&amp;otracker=search&amp;otracker1=search&amp;marketplace=FLIPKART&amp;as-show=on&amp;as=off&amp;page=9\">9</a><a class=\"ge-49M\" href=\"/search?q=laptop&amp;otracker=search&amp;otracker1=search&amp;marketplace=FLIPKART&amp;as-show=on&amp;as=off&amp;page=10\">10</a><a class=\"_1LKTO3\" href=\"/search?q=laptop&amp;otracker=search&amp;otracker1=search&amp;marketplace=FLIPKART&amp;as-show=on&amp;as=off&amp;page=2\"><span>Next</span></a></nav><span class=\"_22Tduf\"></span></div></div></div><div class=\"_1AtVbE col-12-12\" style=\"margin:10px 0px 0px 0px\"><div class=\"_1anD2T\"><span class=\"PTpXCl\">Did you find what you were looking for?</span><div class=\"_1ye8x2 _1xLf4B\"><span class=\"_2eFmU2 _3ZMjMT\">Yes</span><span class=\"_2eFmU2 _3ZMjMT\">No</span></div></div></div></div></div><div class=\"_1AtVbE col-12-12\" style=\"padding:16px 0px 0px 0px\"><div class=\"_3E8aIl X3IECw row\"><div class=\"_88-NUv\">Reviews for Popular Laptops</div><div class=\"_2nRPpA\"><div class=\"_1Ni40J\"><div class=\"_3hVUcF\"><div class=\"CXW8mj\" style=\"height:150px;width:150px\"><img class=\"_396cs4\" alt=\"HP 14s Core i3 11th Gen - (8 GB/256 GB SSD/Windows 10 Home) 14s- DY2501TU Thin and Light Laptop\" src=\"//static-assets-web.flixcart.com/www/linchpin/fk-cp-zion/img/placeholder_fcebae.svg\"/></div></div><div class=\"_1kLt05\"><a target=\"_blank\" rel=\"noopener noreferrer\" href=\"/hp-14s-core-i3-11th-gen-8-gb-256-gb-ssd-windows-10-home-14s-dy2501tu-thin-light-laptop/p/itmdce0f13dd3a4e?pid=COMG2TFSNK3KRFPA&amp;marketplace=FLIPKART\"><div class=\"_1W9f5C\"><div>1. HP 14s Core i3 11th Gen - (...</div></div><div class=\"_3VDxyD\"><div class=\"_3LWZlK\">4.6<img src=\"data:image/svg+xml;base64,PHN2ZyB4bWxucz0iaHR0cDovL3d3dy53My5vcmcvMjAwMC9zdmciIHdpZHRoPSIxMyIgaGVpZ2h0PSIxMiI+PHBhdGggZmlsbD0iI0ZGRiIgZD0iTTYuNSA5LjQzOWwtMy42NzQgMi4yMy45NC00LjI2LTMuMjEtMi44ODMgNC4yNTQtLjQwNEw2LjUuMTEybDEuNjkgNC4wMSA0LjI1NC40MDQtMy4yMSAyLjg4Mi45NCA0LjI2eiIvPjwvc3ZnPg==\" class=\"_1wB99o\"/></div><span class=\"_34hpFu\"><span>105 Ratings</span><span><span class=\"_2oY1qB\">&amp;</span><span>16 Reviews</span></span></span></div><div class=\"_2wYYVP\"><div class=\"_25b18c\"><div class=\"_30jeq3 UMT9wN\">₹40,990</div><div class=\"_3Ay6Sb _2FuKQX\"><span>10% off</span></div></div></div></a><ul class=\"_1Sq2Fs\"><li class=\"_2OosNL\">Intel Core i3 Processor (11th Gen)</li><li class=\"_2OosNL\">8 GB DDR4 RAM</li><li class=\"_2OosNL\">64 bit Windows 10 Operating System</li></ul></div></div><div class=\"_2tzWk4\"><div class=\"_1A_Aux\">Most Helpful Review</div><div class=\"col\"><div class=\"col _2wzgFH _2cVXgz\"><div class=\"row\"><div class=\"_3LWZlK _1BLPMq\">5<img src=\"data:image/svg+xml;base64,PHN2ZyB4bWxucz0iaHR0cDovL3d3dy53My5vcmcvMjAwMC9zdmciIHdpZHRoPSIxMyIgaGVpZ2h0PSIxMiI+PHBhdGggZmlsbD0iI0ZGRiIgZD0iTTYuNSA5LjQzOWwtMy42NzQgMi4yMy45NC00LjI2LTMuMjEtMi44ODMgNC4yNTQtLjQwNEw2LjUuMTEybDEuNjkgNC4wMSA0LjI1NC40MDQtMy4yMSAyLjg4Mi45NCA0LjI2eiIvPjwvc3ZnPg==\" class=\"_1wB99o\"/></div><p class=\"_2-N8zT\">Classy product</p></div><div class=\"row\"><div class=\"t-ZTKy\"><div><div class=\"\">Best laptop within 40k. Build quality is very good and looks slim, light weighted. Good for doing office works ( Business and Student use).</div><span class=\"_1H-bmy\"><span>Read full review</span></span></div></div></div><div class=\"row _3n8db9\"><div class=\"row\"><p class=\"_2sc7ZR _2V5EHH\">Indranil Rooj</p><svg width=\"14\" height=\"14\" viewBox=\"0 0 12 12\" xmlns=\"http://www.w3.org/2000/svg\" class=\"_2a1p_T\"><g><circle cx=\"6\" cy=\"6\" r=\"6\" fill=\"#878787\"></circle><path stroke=\"#FFF\" stroke-width=\"1.5\" d=\"M3 6l2 2 4-4\" fill=\"#878787\"></path></g></svg><p id=\"review-da07f02c-43e0-44a7-b985-415124a9dc5a\" class=\"_2mcZGG\"><span>Certified Buyer</span></p><p class=\"_2sc7ZR\">12days ago</p></div></div></div></div></div><div class=\"_2tzWk4\"><div class=\"_1A_Aux\">Recent Review</div><div class=\"col\"><div class=\"col _2wzgFH _2cVXgz\"><div class=\"row\"><div class=\"_3LWZlK _1BLPMq\">5<img src=\"data:image/svg+xml;base64,PHN2ZyB4bWxucz0iaHR0cDovL3d3dy53My5vcmcvMjAwMC9zdmciIHdpZHRoPSIxMyIgaGVpZ2h0PSIxMiI+PHBhdGggZmlsbD0iI0ZGRiIgZD0iTTYuNSA5LjQzOWwtMy42NzQgMi4yMy45NC00LjI2LTMuMjEtMi44ODMgNC4yNTQtLjQwNEw2LjUuMTEybDEuNjkgNC4wMSA0LjI1NC40MDQtMy4yMSAyLjg4Mi45NCA0LjI2eiIvPjwvc3ZnPg==\" class=\"_1wB99o\"/></div><p class=\"_2-N8zT\">Worth every penny</p></div><div class=\"row\"><div class=\"t-ZTKy\"><div><div class=\"\">Very happy with the product 😍😍😊😊😊</div><span class=\"_1H-bmy\"><span>Read full review</span></span></div></div></div><div class=\"row _3n8db9\"><div class=\"row\"><p class=\"_2sc7ZR _2V5EHH\">Flipkart Customer</p><svg width=\"14\" height=\"14\" viewBox=\"0 0 12 12\" xmlns=\"http://www.w3.org/2000/svg\" class=\"_2a1p_T\"><g><circle cx=\"6\" cy=\"6\" r=\"6\" fill=\"#878787\"></circle><path stroke=\"#FFF\" stroke-width=\"1.5\" d=\"M3 6l2 2 4-4\" fill=\"#878787\"></path></g></svg><p id=\"review-90fae302-e1da-48f8-9b07-eaee283dfd95\" class=\"_2mcZGG\"><span>Certified Buyer</span></p><p class=\"_2sc7ZR\">1day ago</p></div></div></div></div></div></div><div class=\"_2nRPpA\"><div class=\"_1Ni40J\"><div class=\"_3hVUcF\"><div class=\"CXW8mj\" style=\"height:150px;width:150px\"><img class=\"_396cs4\" alt=\"Avita Cosmos 2 in 1 Celeron Dual Core - (4 GB/64 GB EMMC Storage/Windows 10 Home) NS12T5IN025P 2 in 1 Laptop\" src=\"//static-assets-web.flixcart.com/www/linchpin/fk-cp-zion/img/placeholder_fcebae.svg\"/></div></div><div class=\"_1kLt05\"><a target=\"_blank\" rel=\"noopener noreferrer\" href=\"/avita-cosmos-2-1-celeron-dual-core-4-gb-64-gb-emmc-storage-windows-10-home-ns12t5in025p-laptop/p/itm58dac457d1be9?pid=COMGFUP2ZXMVW77T&amp;marketplace=FLIPKART\"><div class=\"_1W9f5C\"><div>2. Avita Cosmos 2 in 1 Celeron...</div></div><div class=\"_3VDxyD\"><div class=\"_3LWZlK\">3.9<img src=\"data:image/svg+xml;base64,PHN2ZyB4bWxucz0iaHR0cDovL3d3dy53My5vcmcvMjAwMC9zdmciIHdpZHRoPSIxMyIgaGVpZ2h0PSIxMiI+PHBhdGggZmlsbD0iI0ZGRiIgZD0iTTYuNSA5LjQzOWwtMy42NzQgMi4yMy45NC00LjI2LTMuMjEtMi44ODMgNC4yNTQtLjQwNEw2LjUuMTEybDEuNjkgNC4wMSA0LjI1NC40MDQtMy4yMSAyLjg4Mi45NCA0LjI2eiIvPjwvc3ZnPg==\" class=\"_1wB99o\"/></div><span class=\"_34hpFu\"><span>25 Ratings</span><span><span class=\"_2oY1qB\">&amp;</span><span>7 Reviews</span></span></span></div><div class=\"_2wYYVP\"><div class=\"_25b18c\"><div class=\"_30jeq3 UMT9wN\">₹17,990</div><div class=\"_3Ay6Sb _2FuKQX\"><span>23% off</span></div></div></div></a><ul class=\"_1Sq2Fs\"><li class=\"_2OosNL\">Intel Celeron Dual Core Processor</li><li class=\"_2OosNL\">4 GB DDR4 RAM</li><li class=\"_2OosNL\">64 bit Windows 10 Operating System</li></ul></div></div><div class=\"_2tzWk4\"><div class=\"_1A_Aux\">Most Helpful Review</div><div class=\"col\"><div class=\"col _2wzgFH _2cVXgz\"><div class=\"row\"><div class=\"_3LWZlK _1BLPMq\">4<img src=\"data:image/svg+xml;base64,PHN2ZyB4bWxucz0iaHR0cDovL3d3dy53My5vcmcvMjAwMC9zdmciIHdpZHRoPSIxMyIgaGVpZ2h0PSIxMiI+PHBhdGggZmlsbD0iI0ZGRiIgZD0iTTYuNSA5LjQzOWwtMy42NzQgMi4yMy45NC00LjI2LTMuMjEtMi44ODMgNC4yNTQtLjQwNEw2LjUuMTEybDEuNjkgNC4wMSA0LjI1NC40MDQtMy4yMSAyLjg4Mi45NCA0LjI2eiIvPjwvc3ZnPg==\" class=\"_1wB99o\"/></div><p class=\"_2-N8zT\">Value-for-money</p></div><div class=\"row\"><div class=\"t-ZTKy\"><div><div class=\"\">Product is Very Good in this price range its handy and work flawless, touch is also very good but battery is little less, Overall product is Very Good</div><span class=\"_1H-bmy\"><span>Read full review</span></span></div></div></div><div class=\"row _3n8db9\"><div class=\"row\"><p class=\"_2sc7ZR _2V5EHH\">Saad Saleem</p><svg width=\"14\" height=\"14\" viewBox=\"0 0 12 12\" xmlns=\"http://www.w3.org/2000/svg\" class=\"_2a1p_T\"><g><circle cx=\"6\" cy=\"6\" r=\"6\" fill=\"#878787\"></circle><path stroke=\"#FFF\" stroke-width=\"1.5\" d=\"M3 6l2 2 4-4\" fill=\"#878787\"></path></g></svg><p id=\"review-4cbcc208-a5d1-4213-9042-7413eca1071c\" class=\"_2mcZGG\"><span>Certified Buyer</span></p><p class=\"_2sc7ZR\">7days ago</p></div></div></div></div></div><div class=\"_2tzWk4\"><div class=\"_1A_Aux\">Recent Review</div><div class=\"col\"><div class=\"col _2wzgFH _2cVXgz\"><div class=\"row\"><div class=\"_3LWZlK _1BLPMq\">3<img src=\"data:image/svg+xml;base64,PHN2ZyB4bWxucz0iaHR0cDovL3d3dy53My5vcmcvMjAwMC9zdmciIHdpZHRoPSIxMyIgaGVpZ2h0PSIxMiI+PHBhdGggZmlsbD0iI0ZGRiIgZD0iTTYuNSA5LjQzOWwtMy42NzQgMi4yMy45NC00LjI2LTMuMjEtMi44ODMgNC4yNTQtLjQwNEw2LjUuMTEybDEuNjkgNC4wMSA0LjI1NC40MDQtMy4yMSAyLjg4Mi45NCA0LjI2eiIvPjwvc3ZnPg==\" class=\"_1wB99o\"/></div><p class=\"_2-N8zT\">Fair</p></div><div class=\"row\"><div class=\"t-ZTKy\"><div><div class=\"\">+ Product value for money<br/>+ Like mini Laptop<br/>+ Use as a Tablet<br/>+ Fast opening<br/>+ 4GB Ram is good<br/>+ Battery backup is good<br/>+ Price is OK<br/>+ Best for Travel<br/><br/>- 6...</div><span class=\"_1BWGvX\"><span>Read full review</span></span></div></div></div><div class=\"row _3n8db9\"><div class=\"row\"><p class=\"_2sc7ZR _2V5EHH\">Basanta Kumar Moharana</p><svg width=\"14\" height=\"14\" viewBox=\"0 0 12 12\" xmlns=\"http://www.w3.org/2000/svg\" class=\"_2a1p_T\"><g><circle cx=\"6\" cy=\"6\" r=\"6\" fill=\"#878787\"></circle><path stroke=\"#FFF\" stroke-width=\"1.5\" d=\"M3 6l2 2 4-4\" fill=\"#878787\"></path></g></svg><p id=\"review-3e89e0ae-575a-4bb7-90da-f3fbfcd9b495\" class=\"_2mcZGG\"><span>Certified Buyer</span></p><p class=\"_2sc7ZR\">2days ago</p></div></div></div></div></div></div><div class=\"_2nRPpA\"><div class=\"_1Ni40J\"><div class=\"_3hVUcF\"><div class=\"CXW8mj\" style=\"height:150px;width:150px\"><img class=\"_396cs4\" alt=\"acer Predator Helios 300 Core i7 10th Gen - (16 GB/1 TB HDD/256 GB SSD/Windows 10 Home/6 GB Graphics/NVIDIA GeForce RTX 3060/144 Hz) PH315-53 Gaming Laptop\" src=\"//static-assets-web.flixcart.com/www/linchpin/fk-cp-zion/img/placeholder_fcebae.svg\"/></div></div><div class=\"_1kLt05\"><a target=\"_blank\" rel=\"noopener noreferrer\" href=\"/acer-predator-helios-300-core-i7-10th-gen-16-gb-1-tb-hdd-256-gb-ssd-windows-10-home-6-graphics-nvidia-geforce-rtx-3060-144-hz-ph315-53-gaming-laptop/p/itmb2022d3889ada?pid=COMGFH8KHCHZBHDQ&amp;marketplace=FLIPKART\"><div class=\"_1W9f5C\"><div>3. acer Predator Helios 300 Co...</div></div><div class=\"_3VDxyD\"><div class=\"_3LWZlK\">4.5<img src=\"data:image/svg+xml;base64,PHN2ZyB4bWxucz0iaHR0cDovL3d3dy53My5vcmcvMjAwMC9zdmciIHdpZHRoPSIxMyIgaGVpZ2h0PSIxMiI+PHBhdGggZmlsbD0iI0ZGRiIgZD0iTTYuNSA5LjQzOWwtMy42NzQgMi4yMy45NC00LjI2LTMuMjEtMi44ODMgNC4yNTQtLjQwNEw2LjUuMTEybDEuNjkgNC4wMSA0LjI1NC40MDQtMy4yMSAyLjg4Mi45NCA0LjI2eiIvPjwvc3ZnPg==\" class=\"_1wB99o\"/></div><span class=\"_34hpFu\"><span>306 Ratings</span><span><span class=\"_2oY1qB\">&amp;</span><span>68 Reviews</span></span></span></div><div class=\"_2wYYVP\"><div class=\"_25b18c\"><div class=\"_30jeq3 UMT9wN\">₹1,16,990</div><div class=\"_3Ay6Sb _2FuKQX\"><span>22% off</span></div></div></div></a><ul class=\"_1Sq2Fs\"><li class=\"_2OosNL\">Intel Core i7 Processor (10th Gen)</li><li class=\"_2OosNL\">16 GB DDR4 RAM</li><li class=\"_2OosNL\">64 bit Windows 10 Operating System</li></ul></div></div><div class=\"_2tzWk4\"><div class=\"_1A_Aux\">Most Helpful Review</div><div class=\"col\"><div class=\"col _2wzgFH _2cVXgz\"><div class=\"row\"><div class=\"_3LWZlK _1BLPMq\">5<img src=\"data:image/svg+xml;base64,PHN2ZyB4bWxucz0iaHR0cDovL3d3dy53My5vcmcvMjAwMC9zdmciIHdpZHRoPSIxMyIgaGVpZ2h0PSIxMiI+PHBhdGggZmlsbD0iI0ZGRiIgZD0iTTYuNSA5LjQzOWwtMy42NzQgMi4yMy45NC00LjI2LTMuMjEtMi44ODMgNC4yNTQtLjQwNEw2LjUuMTEybDEuNjkgNC4wMSA0LjI1NC40MDQtMy4yMSAyLjg4Mi45NCA0LjI2eiIvPjwvc3ZnPg==\" class=\"_1wB99o\"/></div><p class=\"_2-N8zT\">Worth every penny</p></div><div class=\"row\"><div class=\"t-ZTKy\"><div><div class=\"\">An affordable beast !<br/>Pros:<br/>1. Incredible performance, will average minimum of 60FPS on any game (except cyberpunk) at maximum settings at 1080P, even in gam...</div><span class=\"_1BWGvX\"><span>Read full review</span></span></div></div></div><div class=\"row _3n8db9\"><div class=\"row\"><p class=\"_2sc7ZR _2V5EHH\">Gautam Bharadwaj</p><svg width=\"14\" height=\"14\" viewBox=\"0 0 12 12\" xmlns=\"http://www.w3.org/2000/svg\" class=\"_2a1p_T\"><g><circle cx=\"6\" cy=\"6\" r=\"6\" fill=\"#878787\"></circle><path stroke=\"#FFF\" stroke-width=\"1.5\" d=\"M3 6l2 2 4-4\" fill=\"#878787\"></path></g></svg><p id=\"review-d32e03d8-3de0-4366-9d79-b91be510999a\" class=\"_2mcZGG\"><span>Certified Buyer</span></p><p class=\"_2sc7ZR\">1month ago</p></div></div></div></div></div><div class=\"_2tzWk4\"><div class=\"_1A_Aux\">Recent Review</div><div class=\"col\"><div class=\"col _2wzgFH _2cVXgz\"><div class=\"row\"><div class=\"_3LWZlK _1BLPMq\">5<img src=\"data:image/svg+xml;base64,PHN2ZyB4bWxucz0iaHR0cDovL3d3dy53My5vcmcvMjAwMC9zdmciIHdpZHRoPSIxMyIgaGVpZ2h0PSIxMiI+PHBhdGggZmlsbD0iI0ZGRiIgZD0iTTYuNSA5LjQzOWwtMy42NzQgMi4yMy45NC00LjI2LTMuMjEtMi44ODMgNC4yNTQtLjQwNEw2LjUuMTEybDEuNjkgNC4wMSA0LjI1NC40MDQtMy4yMSAyLjg4Mi45NCA0LjI2eiIvPjwvc3ZnPg==\" class=\"_1wB99o\"/></div><p class=\"_2-N8zT\">Perfect product!</p></div><div class=\"row\"><div class=\"t-ZTKy\"><div><div class=\"\">It has been 3 weeks since getting this thing but gotta say it\\'s served well so far.. Except the obvious average battery but that\\'s to be expected from a gami...</div><span class=\"_1BWGvX\"><span>Read full review</span></span></div></div></div><div class=\"row _3n8db9\"><div class=\"row\"><p class=\"_2sc7ZR _2V5EHH\">Flipkart Customer</p><svg width=\"14\" height=\"14\" viewBox=\"0 0 12 12\" xmlns=\"http://www.w3.org/2000/svg\" class=\"_2a1p_T\"><g><circle cx=\"6\" cy=\"6\" r=\"6\" fill=\"#878787\"></circle><path stroke=\"#FFF\" stroke-width=\"1.5\" d=\"M3 6l2 2 4-4\" fill=\"#878787\"></path></g></svg><p id=\"review-81d57e47-8c97-4a40-9acd-bfcc7d2bb093\" class=\"_2mcZGG\"><span>Certified Buyer</span></p><p class=\"_2sc7ZR\">3days ago</p></div></div></div></div></div></div><div class=\"_2nRPpA\"><div class=\"_1Ni40J\"><div class=\"_3hVUcF\"><div class=\"CXW8mj\" style=\"height:150px;width:150px\"><img class=\"_396cs4\" alt=\"HP 14s Ryzen 3 Quad Core 4300U - (8 GB/512 GB SSD/Windows 10 Home) 14s-fr0016AU Thin and Light Laptop\" src=\"//static-assets-web.flixcart.com/www/linchpin/fk-cp-zion/img/placeholder_fcebae.svg\"/></div></div><div class=\"_1kLt05\"><a target=\"_blank\" rel=\"noopener noreferrer\" href=\"/hp-14s-ryzen-3-quad-core-4300u-8-gb-512-gb-ssd-windows-10-home-14s-fr0016au-thin-light-laptop/p/itma78a910d56810?pid=COMG26RVFGZGDE9D&amp;marketplace=FLIPKART\"><div class=\"_1W9f5C\"><div>4. HP 14s Ryzen 3 Quad Core 43...</div></div><div class=\"_3VDxyD\"><div class=\"_3LWZlK\">4.4<img src=\"data:image/svg+xml;base64,PHN2ZyB4bWxucz0iaHR0cDovL3d3dy53My5vcmcvMjAwMC9zdmciIHdpZHRoPSIxMyIgaGVpZ2h0PSIxMiI+PHBhdGggZmlsbD0iI0ZGRiIgZD0iTTYuNSA5LjQzOWwtMy42NzQgMi4yMy45NC00LjI2LTMuMjEtMi44ODMgNC4yNTQtLjQwNEw2LjUuMTEybDEuNjkgNC4wMSA0LjI1NC40MDQtMy4yMSAyLjg4Mi45NCA0LjI2eiIvPjwvc3ZnPg==\" class=\"_1wB99o\"/></div><span class=\"_34hpFu\"><span>626 Ratings</span><span><span class=\"_2oY1qB\">&amp;</span><span>88 Reviews</span></span></span></div><div class=\"_2wYYVP\"><div class=\"_25b18c\"><div class=\"_30jeq3 UMT9wN\">₹39,490</div><div class=\"_3Ay6Sb _2FuKQX\"><span>11% off</span></div></div></div></a><ul class=\"_1Sq2Fs\"><li class=\"_2OosNL\">AMD Ryzen 3 Quad Core Processor</li><li class=\"_2OosNL\">8 GB DDR4 RAM</li><li class=\"_2OosNL\">64 bit Windows 10 Operating System</li></ul></div></div><div class=\"_2tzWk4\"><div class=\"_1A_Aux\">Most Helpful Review</div><div class=\"col\"><div class=\"col _2wzgFH _2cVXgz\"><div class=\"row\"><div class=\"_3LWZlK _1BLPMq\">5<img src=\"data:image/svg+xml;base64,PHN2ZyB4bWxucz0iaHR0cDovL3d3dy53My5vcmcvMjAwMC9zdmciIHdpZHRoPSIxMyIgaGVpZ2h0PSIxMiI+PHBhdGggZmlsbD0iI0ZGRiIgZD0iTTYuNSA5LjQzOWwtMy42NzQgMi4yMy45NC00LjI2LTMuMjEtMi44ODMgNC4yNTQtLjQwNEw2LjUuMTEybDEuNjkgNC4wMSA0LjI1NC40MDQtMy4yMSAyLjg4Mi45NCA0LjI2eiIvPjwvc3ZnPg==\" class=\"_1wB99o\"/></div><p class=\"_2-N8zT\">Classy product</p></div><div class=\"row\"><div class=\"t-ZTKy\"><div><div class=\"\">It\\'s a good laptop with no issue as such ! Screen is IPS good viewing angles ! Battery is decent 4-5hr easily!<br/>Build quality is good previously i was using H...</div><span class=\"_1BWGvX\"><span>Read full review</span></span></div></div></div><div class=\"row _3n8db9\"><div class=\"row\"><p class=\"_2sc7ZR _2V5EHH\">rohit vashist</p><svg width=\"14\" height=\"14\" viewBox=\"0 0 12 12\" xmlns=\"http://www.w3.org/2000/svg\" class=\"_2a1p_T\"><g><circle cx=\"6\" cy=\"6\" r=\"6\" fill=\"#878787\"></circle><path stroke=\"#FFF\" stroke-width=\"1.5\" d=\"M3 6l2 2 4-4\" fill=\"#878787\"></path></g></svg><p id=\"review-9ed67973-d8ab-498b-98ba-eea683e97494\" class=\"_2mcZGG\"><span>Certified Buyer</span></p><p class=\"_2sc7ZR\">1month ago</p></div></div></div></div></div><div class=\"_2tzWk4\"><div class=\"_1A_Aux\">Recent Review</div><div class=\"col\"><div class=\"col _2wzgFH _2cVXgz\"><div class=\"row\"><div class=\"_3LWZlK _1BLPMq\">5<img src=\"data:image/svg+xml;base64,PHN2ZyB4bWxucz0iaHR0cDovL3d3dy53My5vcmcvMjAwMC9zdmciIHdpZHRoPSIxMyIgaGVpZ2h0PSIxMiI+PHBhdGggZmlsbD0iI0ZGRiIgZD0iTTYuNSA5LjQzOWwtMy42NzQgMi4yMy45NC00LjI2LTMuMjEtMi44ODMgNC4yNTQtLjQwNEw2LjUuMTEybDEuNjkgNC4wMSA0LjI1NC40MDQtMy4yMSAyLjg4Mi45NCA0LjI2eiIvPjwvc3ZnPg==\" class=\"_1wB99o\"/></div><p class=\"_2-N8zT\">Simply awesome</p></div><div class=\"row\"><div class=\"t-ZTKy\"><div><div class=\"\">Laptop is nice in performance and enough fast only problem is that it get heat up on regular basis it\\'s a good value for money</div><span class=\"_1H-bmy\"><span>Read full review</span></span></div></div></div><div class=\"row _3n8db9\"><div class=\"row\"><p class=\"_2sc7ZR _2V5EHH\">Nimesh Verma</p><svg width=\"14\" height=\"14\" viewBox=\"0 0 12 12\" xmlns=\"http://www.w3.org/2000/svg\" class=\"_2a1p_T\"><g><circle cx=\"6\" cy=\"6\" r=\"6\" fill=\"#878787\"></circle><path stroke=\"#FFF\" stroke-width=\"1.5\" d=\"M3 6l2 2 4-4\" fill=\"#878787\"></path></g></svg><p id=\"review-6849e48d-d45e-46bd-93aa-3a7a2f6b2dda\" class=\"_2mcZGG\"><span>Certified Buyer</span></p><p class=\"_2sc7ZR\">Today</p></div></div></div></div></div></div><div class=\"_2nRPpA\"><div class=\"_1Ni40J\"><div class=\"_3hVUcF\"><div class=\"CXW8mj\" style=\"height:150px;width:150px\"><img class=\"_396cs4\" alt=\"APPLE MacBook Air M1 - (8 GB/256 GB SSD/Mac OS Big Sur) MGN63HN/A\" src=\"//static-assets-web.flixcart.com/www/linchpin/fk-cp-zion/img/placeholder_fcebae.svg\"/></div></div><div class=\"_1kLt05\"><a target=\"_blank\" rel=\"noopener noreferrer\" href=\"/apple-macbook-air-m1-8-gb-256-gb-ssd-mac-os-big-sur-mgn63hn-a/p/itmde54f026889ce?pid=COMFXEKMGNHZYFH9&amp;marketplace=FLIPKART\"><div class=\"_1W9f5C\"><div>5. APPLE MacBook Air M1 - (8 G...</div></div><div class=\"_3VDxyD\"><div class=\"_3LWZlK\">4.7<img src=\"data:image/svg+xml;base64,PHN2ZyB4bWxucz0iaHR0cDovL3d3dy53My5vcmcvMjAwMC9zdmciIHdpZHRoPSIxMyIgaGVpZ2h0PSIxMiI+PHBhdGggZmlsbD0iI0ZGRiIgZD0iTTYuNSA5LjQzOWwtMy42NzQgMi4yMy45NC00LjI2LTMuMjEtMi44ODMgNC4yNTQtLjQwNEw2LjUuMTEybDEuNjkgNC4wMSA0LjI1NC40MDQtMy4yMSAyLjg4Mi45NCA0LjI2eiIvPjwvc3ZnPg==\" class=\"_1wB99o\"/></div><span class=\"_34hpFu\"><span>505 Ratings</span><span><span class=\"_2oY1qB\">&amp;</span><span>76 Reviews</span></span></span></div><div class=\"_2wYYVP\"><div class=\"_25b18c\"><div class=\"_30jeq3 UMT9wN\">₹92,900</div></div></div></a><ul class=\"_1Sq2Fs\"><li class=\"_2OosNL\">Apple M1 Processor</li><li class=\"_2OosNL\">8 GB DDR4 RAM</li><li class=\"_2OosNL\">Mac OS Operating System</li></ul></div></div><div class=\"_2tzWk4\"><div class=\"_1A_Aux\">Most Helpful Review</div><div class=\"col\"><div class=\"col _2wzgFH _2cVXgz\"><div class=\"row\"><div class=\"_3LWZlK _1BLPMq\">5<img src=\"data:image/svg+xml;base64,PHN2ZyB4bWxucz0iaHR0cDovL3d3dy53My5vcmcvMjAwMC9zdmciIHdpZHRoPSIxMyIgaGVpZ2h0PSIxMiI+PHBhdGggZmlsbD0iI0ZGRiIgZD0iTTYuNSA5LjQzOWwtMy42NzQgMi4yMy45NC00LjI2LTMuMjEtMi44ODMgNC4yNTQtLjQwNEw2LjUuMTEybDEuNjkgNC4wMSA0LjI1NC40MDQtMy4yMSAyLjg4Mi45NCA0LjI2eiIvPjwvc3ZnPg==\" class=\"_1wB99o\"/></div><p class=\"_2-N8zT\">Classy product</p></div><div class=\"row\"><div class=\"t-ZTKy\"><div><div class=\"\">At the current scenario where a proper Graphics card windows laptop is costing around 1.2 lakh at a min.<br/>This MacBook Air M1 is the best deal and I got it ar...</div><span class=\"_1BWGvX\"><span>Read full review</span></span></div></div></div><div class=\"row _3n8db9\"><div class=\"row\"><p class=\"_2sc7ZR _2V5EHH\">Abhisek Mishra</p><svg width=\"14\" height=\"14\" viewBox=\"0 0 12 12\" xmlns=\"http://www.w3.org/2000/svg\" class=\"_2a1p_T\"><g><circle cx=\"6\" cy=\"6\" r=\"6\" fill=\"#878787\"></circle><path stroke=\"#FFF\" stroke-width=\"1.5\" d=\"M3 6l2 2 4-4\" fill=\"#878787\"></path></g></svg><p id=\"review-60b8843a-ceeb-452d-81ec-9949034784b2\" class=\"_2mcZGG\"><span>Certified Buyer</span></p><p class=\"_2sc7ZR\">30days ago</p></div></div></div></div></div><div class=\"_2tzWk4\"><div class=\"_1A_Aux\">Recent Review</div><div class=\"col\"><div class=\"col _2wzgFH _2cVXgz\"><div class=\"row\"><div class=\"_3LWZlK _1BLPMq\">4<img src=\"data:image/svg+xml;base64,PHN2ZyB4bWxucz0iaHR0cDovL3d3dy53My5vcmcvMjAwMC9zdmciIHdpZHRoPSIxMyIgaGVpZ2h0PSIxMiI+PHBhdGggZmlsbD0iI0ZGRiIgZD0iTTYuNSA5LjQzOWwtMy42NzQgMi4yMy45NC00LjI2LTMuMjEtMi44ODMgNC4yNTQtLjQwNEw2LjUuMTEybDEuNjkgNC4wMSA0LjI1NC40MDQtMy4yMSAyLjg4Mi45NCA0LjI2eiIvPjwvc3ZnPg==\" class=\"_1wB99o\"/></div><p class=\"_2-N8zT\">Worth the money</p></div><div class=\"row\"><div class=\"t-ZTKy\"><div><div class=\"\">There were a few minor scratches on the surface and the back but the overall product is amazing!</div><span class=\"_1H-bmy\"><span>Read full review</span></span></div></div></div><div class=\"row _3n8db9\"><div class=\"row\"><p class=\"_2sc7ZR _2V5EHH\">Nitin Shenoy</p><svg width=\"14\" height=\"14\" viewBox=\"0 0 12 12\" xmlns=\"http://www.w3.org/2000/svg\" class=\"_2a1p_T\"><g><circle cx=\"6\" cy=\"6\" r=\"6\" fill=\"#878787\"></circle><path stroke=\"#FFF\" stroke-width=\"1.5\" d=\"M3 6l2 2 4-4\" fill=\"#878787\"></path></g></svg><p id=\"review-4a731ba0-f173-4755-aa36-666c851e96df\" class=\"_2mcZGG\"><span>Certified Buyer</span></p><p class=\"_2sc7ZR\">Today</p></div></div></div></div></div></div></div></div><div class=\"_1AtVbE col-12-12\"></div></div><footer class=\"_3voSl0\"><div class=\"_3rc_xQ\"><div class=\"row\"><div class=\"col gu12 _8Qljeg\"></div></div><div><div class=\"_2WErco row\"><div class=\"_2Brcj4\"><div class=\"_3-dnWo\">ABOUT</div><a href=\"/helpcentre?otracker=undefined_footer_navlinks\" class=\"_1arVWX\">Contact Us</a><a href=\"/about-us?otracker=undefined_footer_navlinks\" class=\"_1arVWX\">About Us</a><a href=\"https://www.flipkartcareers.com/?otracker=undefined_footer_navlinks\" class=\"_1arVWX\">Careers</a><a href=\"http://stories.flipkart.com/?otracker=undefined_footer_navlinks\" class=\"_1arVWX\">Flipkart Stories</a><a href=\"/s/press?otracker=undefined_footer_navlinks\" class=\"_1arVWX\">Press</a><a href=\"https://www.flipkartwholesale.com/?otracker=undefined_footer_navlinks\" target=\"_blank\" class=\"_1arVWX\">Flipkart Wholesale</a></div><div class=\"_2Brcj4\"><div class=\"_3-dnWo\">HELP</div><a href=\"/pages/payments\" class=\"_1arVWX\">Payments</a><a href=\"/pages/shipping\" class=\"_1arVWX\">Shipping</a><a href=\"/helpcentre?catalog=55c9c6edb000002e002c1701&amp;view=CATALOG\" class=\"_1arVWX\">Cancellation &amp; Returns</a><a href=\"/helpcentre?catalog=55c9c8e2b0000023002c1702&amp;view=CATALOG\" class=\"_1arVWX\">FAQ</a><a href=\"https://seller.flipkart.com/fiv?otracker=undefined_footer_navlinks\" class=\"_1arVWX\">Report Infringement</a></div><div class=\"_2Brcj4\"><div class=\"_3-dnWo\">POLICY</div><a href=\"/pages/returnpolicy?otracker=undefined_footer_navlinks\" class=\"_1arVWX\">Return Policy</a><a href=\"/pages/terms?otracker=undefined_footer_navlinks\" class=\"_1arVWX\">Terms Of Use</a><a href=\"/pages/paymentsecurity?otracker=undefined_footer_navlinks\" class=\"_1arVWX\">Security</a><a href=\"/pages/privacypolicy?otracker=undefined_footer_navlinks\" class=\"_1arVWX\">Privacy</a><a href=\"/sitemap?otracker=undefined_footer_navlinks\" class=\"_1arVWX\">Sitemap</a><a href=\"/pages/ewaste-compliance-tnc?otracker=undefined_footer_navlinks\" class=\"_1arVWX\">EPR Compliance</a></div><div class=\"_2Brcj4\"><div class=\"_3-dnWo\">SOCIAL</div><a href=\"https://www.facebook.com/flipkart\" class=\"_1arVWX\">Facebook</a><a href=\"https://www.twitter.com/flipkart\" class=\"_1arVWX\">Twitter</a><a href=\"https://www.youtube.com/flipkart\" class=\"_1arVWX\">YouTube</a></div><div class=\"_2Brcj4 address\"><div class=\"_3JHi0r\"><div class=\"_3-dnWo\"><span>Mail Us:</span></div><div class=\"_1U1qnR\"><div class=\"_1LJS6T\"><div class=\"_2NKhZn _1U1qnR\"><p>Flipkart Internet Private Limited, </p>\\n<p> Buildings Alyssa, Begonia &amp; </p>\\n<p> Clove Embassy Tech Village, </p>\\n<p> Outer Ring Road, Devarabeesanahalli Village, </p>\\n<p> Bengaluru, 560103, </p>\\n<p> Karnataka, India</p>\\n</div></div></div></div></div><div class=\"_2Brcj4 address\"><div class=\"_3IT4e6\"><div class=\"_3-dnWo\"><span>Registered Office Address:</span></div><div class=\"_1U1qnR\"><div class=\"_1LJS6T\"><div class=\"_2NKhZn _1U1qnR\"><p>Flipkart Internet Private Limited, </p>\\n<p> Buildings Alyssa, Begonia &amp; </p>\\n<p> Clove Embassy Tech Village, </p>\\n<p> Outer Ring Road, Devarabeesanahalli Village, </p>\\n<p> Bengaluru, 560103, </p>\\n<p> Karnataka, India </p>\\n<p> CIN : U51109KA2012PTC066107 </p>\\n<p> Telephone: <a href=\"tel:18002029898\">1800 202 9898</a></p>\\n</div></div></div></div></div></div><div><div class=\"_2uz0vJ\"><div><img src=\"data:image/svg+xml;base64,PHN2ZyB4bWxucz0iaHR0cDovL3d3dy53My5vcmcvMjAwMC9zdmciIHdpZHRoPSIxNiIgaGVpZ2h0PSIxNSIgdmlld0JveD0iMCAwIDE2IDE1Ij4KICAgIDxkZWZzPgogICAgICAgIDxsaW5lYXJHcmFkaWVudCBpZD0iYSIgeDE9IjAlIiB4Mj0iODYuODc2JSIgeTE9IjAlIiB5Mj0iODAuMjAyJSI+CiAgICAgICAgICAgIDxzdG9wIG9mZnNldD0iMCUiIHN0b3AtY29sb3I9IiNGRkQ4MDAiLz4KICAgICAgICAgICAgPHN0b3Agb2Zmc2V0PSIxMDAlIiBzdG9wLWNvbG9yPSIjRkZBRjAwIi8+CiAgICAgICAgPC9saW5lYXJHcmFkaWVudD4KICAgIDwvZGVmcz4KICAgIDxnIGZpbGw9Im5vbmUiIGZpbGwtcnVsZT0iZXZlbm9kZCI+CiAgICAgICAgPHBhdGggZD0iTS0yLTJoMjB2MjBILTJ6Ii8+CiAgICAgICAgPHBhdGggZmlsbD0idXJsKCNhKSIgZmlsbC1ydWxlPSJub256ZXJvIiBkPSJNMTUuOTMgNS42MTRoLTIuOTQ4VjQuMTRjMC0uODE4LS42NTUtMS40NzMtMS40NzMtMS40NzNIOC41NmMtLjgxNyAwLTEuNDczLjY1NS0xLjQ3MyAxLjQ3M3YxLjQ3NEg0LjE0Yy0uODE4IDAtMS40NjYuNjU2LTEuNDY2IDEuNDc0bC0uMDA3IDguMTA1YzAgLjgxOC42NTUgMS40NzQgMS40NzMgMS40NzRoMTEuNzljLjgxOCAwIDEuNDc0LS42NTYgMS40NzQtMS40NzRWNy4wODhjMC0uODE4LS42NTYtMS40NzQtMS40NzQtMS40NzR6bS00LjQyMSAwSDguNTZWNC4xNGgyLjk0OHYxLjQ3NHoiIHRyYW5zZm9ybT0idHJhbnNsYXRlKC0yIC0yKSIvPgogICAgPC9nPgo8L3N2Zz4K\"/><a href=\"https://seller.flipkart.com/?utm_source=fkwebsite&amp;utm_medium=websitedirect\"><span class=\"hDTmm5\">Sell On Flipkart</span></a></div><div><img src=\"data:image/svg+xml;base64,PHN2ZyB4bWxucz0iaHR0cDovL3d3dy53My5vcmcvMjAwMC9zdmciIHdpZHRoPSIxNSIgaGVpZ2h0PSIxNSIgdmlld0JveD0iMCAwIDE1IDE1Ij4KICAgIDxkZWZzPgogICAgICAgIDxsaW5lYXJHcmFkaWVudCBpZD0iYSIgeDE9IjAlIiB4Mj0iODYuODc2JSIgeTE9IjAlIiB5Mj0iODAuMjAyJSI+CiAgICAgICAgICAgIDxzdG9wIG9mZnNldD0iMCUiIHN0b3AtY29sb3I9IiNGRkQ4MDAiLz4KICAgICAgICAgICAgPHN0b3Agb2Zmc2V0PSIxMDAlIiBzdG9wLWNvbG9yPSIjRkZBRjAwIi8+CiAgICAgICAgPC9saW5lYXJHcmFkaWVudD4KICAgIDwvZGVmcz4KICAgIDxnIGZpbGw9Im5vbmUiIGZpbGwtcnVsZT0iZXZlbm9kZCI+CiAgICAgICAgPHBhdGggZD0iTS0zLTNoMjB2MjBILTN6Ii8+CiAgICAgICAgPHBhdGggZmlsbD0idXJsKCNhKSIgZmlsbC1ydWxlPSJub256ZXJvIiBkPSJNMTAuNDkyIDNDNi4zNTMgMyAzIDYuMzYgMyAxMC41YzAgNC4xNCAzLjM1MyA3LjUgNy40OTIgNy41QzE0LjY0IDE4IDE4IDE0LjY0IDE4IDEwLjUgMTggNi4zNiAxNC42NCAzIDEwLjQ5MiAzem0zLjE4IDEyTDEwLjUgMTMuMDg4IDcuMzI3IDE1bC44NC0zLjYwN0w1LjM3IDguOTdsMy42OS0uMzE1TDEwLjUgNS4yNWwxLjQ0IDMuMzk4IDMuNjkuMzE1LTIuNzk4IDIuNDIyLjg0IDMuNjE1eiIgdHJhbnNmb3JtPSJ0cmFuc2xhdGUoLTMgLTMpIi8+CiAgICA8L2c+Cjwvc3ZnPgo=\"/><a href=\"https://brands.flipkart.com\"><span class=\"hDTmm5\">Advertise</span></a></div><div><img src=\"data:image/svg+xml;base64,PHN2ZyB4bWxucz0iaHR0cDovL3d3dy53My5vcmcvMjAwMC9zdmciIHdpZHRoPSIxOCIgaGVpZ2h0PSIxNyIgdmlld0JveD0iMCAwIDE4IDE3Ij4KICAgIDxkZWZzPgogICAgICAgIDxsaW5lYXJHcmFkaWVudCBpZD0iYSIgeDE9IjAlIiB4Mj0iODYuODc2JSIgeTE9IjAlIiB5Mj0iODAuMjAyJSI+CiAgICAgICAgICAgIDxzdG9wIG9mZnNldD0iMCUiIHN0b3AtY29sb3I9IiNGRkQ4MDAiLz4KICAgICAgICAgICAgPHN0b3Agb2Zmc2V0PSIxMDAlIiBzdG9wLWNvbG9yPSIjRkZBRjAwIi8+CiAgICAgICAgPC9saW5lYXJHcmFkaWVudD4KICAgIDwvZGVmcz4KICAgIDxnIGZpbGw9Im5vbmUiIGZpbGwtcnVsZT0iZXZlbm9kZCI+CiAgICAgICAgPHBhdGggZD0iTS0xLTFoMjB2MjBILTF6Ii8+CiAgICAgICAgPHBhdGggZmlsbD0idXJsKCNhKSIgZmlsbC1ydWxlPSJub256ZXJvIiBkPSJNMTYuNjY3IDVIMTQuODVjLjA5Mi0uMjU4LjE1LS41NDIuMTUtLjgzM2EyLjQ5NyAyLjQ5NyAwIDAgMC00LjU4My0xLjM3NUwxMCAzLjM1bC0uNDE3LS41NjdBMi41MSAyLjUxIDAgMCAwIDcuNSAxLjY2N2EyLjQ5NyAyLjQ5NyAwIDAgMC0yLjUgMi41YzAgLjI5MS4wNTguNTc1LjE1LjgzM0gzLjMzM2MtLjkyNSAwLTEuNjU4Ljc0Mi0xLjY1OCAxLjY2N2wtLjAwOCA5LjE2NkExLjY2IDEuNjYgMCAwIDAgMy4zMzMgMTcuNWgxMy4zMzRhMS42NiAxLjY2IDAgMCAwIDEuNjY2LTEuNjY3VjYuNjY3QTEuNjYgMS42NiAwIDAgMCAxNi42NjcgNXptMCA2LjY2N0gzLjMzM3YtNWg0LjIzNEw1LjgzMyA5LjAyNWwxLjM1Ljk3NSAxLjk4NC0yLjdMMTAgNi4xNjdsLjgzMyAxLjEzMyAxLjk4NCAyLjcgMS4zNS0uOTc1LTEuNzM0LTIuMzU4aDQuMjM0djV6IiB0cmFuc2Zvcm09InRyYW5zbGF0ZSgtMSAtMSkiLz4KICAgIDwvZz4KPC9zdmc+Cg==\"/><a href=\"/the-gift-card-store?otracker=undefined_footer_footer_navlinks\"><span class=\"hDTmm5\">Gift Cards</span></a></div><div><img src=\"data:image/svg+xml;base64,PHN2ZyB4bWxucz0iaHR0cDovL3d3dy53My5vcmcvMjAwMC9zdmciIHdpZHRoPSIxNSIgaGVpZ2h0PSIxNSIgdmlld0JveD0iMCAwIDE1IDE1Ij4KICAgIDxkZWZzPgogICAgICAgIDxsaW5lYXJHcmFkaWVudCBpZD0iYSIgeDE9IjAlIiB4Mj0iODYuODc2JSIgeTE9IjAlIiB5Mj0iODAuMjAyJSI+CiAgICAgICAgICAgIDxzdG9wIG9mZnNldD0iMCUiIHN0b3AtY29sb3I9IiNGRkQ4MDAiLz4KICAgICAgICAgICAgPHN0b3Agb2Zmc2V0PSIxMDAlIiBzdG9wLWNvbG9yPSIjRkZBRjAwIi8+CiAgICAgICAgPC9saW5lYXJHcmFkaWVudD4KICAgIDwvZGVmcz4KICAgIDxnIGZpbGw9Im5vbmUiIGZpbGwtcnVsZT0iZXZlbm9kZCI+CiAgICAgICAgPHBhdGggZD0iTS0yLTNoMjB2MjBILTJ6Ii8+CiAgICAgICAgPHBhdGggZmlsbD0idXJsKCNhKSIgZmlsbC1ydWxlPSJub256ZXJvIiBkPSJNOS41IDNDNS4zNiAzIDIgNi4zNiAyIDEwLjUgMiAxNC42NCA1LjM2IDE4IDkuNSAxOGM0LjE0IDAgNy41LTMuMzYgNy41LTcuNUMxNyA2LjM2IDEzLjY0IDMgOS41IDN6bS43NSAxMi43NWgtMS41di0xLjVoMS41djEuNXptMS41NTMtNS44MTNsLS42NzYuNjljLS41NC41NDgtLjg3Ny45OTgtLjg3NyAyLjEyM2gtMS41di0uMzc1YzAtLjgyNS4zMzgtMS41NzUuODc3LTIuMTIzbC45My0uOTQ1Yy4yNzgtLjI3LjQ0My0uNjQ1LjQ0My0xLjA1NyAwLS44MjUtLjY3NS0xLjUtMS41LTEuNVM4IDcuNDI1IDggOC4yNUg2LjVhMyAzIDAgMSAxIDYgMGMwIC42Ni0uMjcgMS4yNi0uNjk3IDEuNjg4eiIgdHJhbnNmb3JtPSJ0cmFuc2xhdGUoLTIgLTMpIi8+CiAgICA8L2c+Cjwvc3ZnPgo=\"/><a href=\"/helpcentre?otracker=undefined_footer_footer_navlinks\"><span class=\"hDTmm5\">Help Center</span></a></div><span class=\"z3ht-w\">© 2007-<!-- -->2021<!-- --> <span>Flipkart.com</span></span><img src=\"//static-assets-web.flixcart.com/www/linchpin/fk-cp-zion/img/payment-method_69e7ec.svg\"/></div></div></div></div></footer><div class=\"_1EcK2J _38JCdA\"><div class=\"bra6U8\"><svg width=\"16\" height=\"27\" viewBox=\"0 0 16 27\" xmlns=\"http://www.w3.org/2000/svg\" class=\"_2TdLiZ\"><path d=\"M16 23.207L6.11 13.161 16 3.093 12.955 0 0 13.161l12.955 13.161z\" fill=\"#fff\" class=\"_3ZKfA2\"></path></svg><span>Back to top</span></div></div></div></div><script type=\"application/ld+json\" nonce=\"7465248350888727863\">{\\n    \"@context\": \"http://schema.org\",\\n    \"@type\": \"WebSite\",\\n    \"url\": \"http://www.flipkart.com/\",\\n    \"potentialAction\": [{\\n        \"@type\": \"SearchAction\",\\n        \"target\": \"http://www.flipkart.com/search?q={search_term_string}\",\\n        \"query-input\": \"required name=search_term_string\"\\n        },{\\n        \"@type\": \"SearchAction\",\\n        \"target\": \"android-app://com.flipkart.android/flipkart/de_sq_seg_-search.flipkart.com-_{search_term_string}\",\\n        \"query-input\": \"required name=search_term_string\"\\n    }]\\n}</script><script nonce=\"7465248350888727863\" id=\"is_script\">window.__INITIAL_STATE__ = {\"abExperiments\":{\"rankingBucket\":{\"value\":\"PROD\",\"abId\":\"1fd172f0\",\"expId\":\"Ranking_control_18_may\"},\"enableSearchOnCart\":{\"value\":true,\"abId\":\"24c69ab1\",\"expId\":\"GH | Search on cart page | Test\"},\"botto-botto-3a3a8\":{\"value\":\"testc-botto-dd9cc\",\"abId\":\"57b12bbb\",\"expId\":\"Forward Navigation Experiment Grocery\"},\"footer_banner_experiment\":{\"value\":2,\"abId\":\"5c819181\",\"expId\":\"Control - Payments Page\"},\"COD_captcha_1\":{\"value\":1,\"abId\":\"5c819181\",\"expId\":\"Control - Payments Page\"},\"trust_marker_experiment\":{\"value\":2,\"abId\":\"5c819181\",\"expId\":\"Control - Payments Page\"},\"cod_captcha_2\":{\"value\":1,\"abId\":\"5c819181\",\"expId\":\"Control - Payments Page\"},\"card_eligibility_check\":{\"value\":2,\"abId\":\"5c819181\",\"expId\":\"Control - Payments Page\"},\"viewRulesAbBucketName\":{\"value\":\"msite_mobile\",\"abId\":\"6d2517b4\",\"expId\":\"Smart_Filter_BGM_AB\"},\"widgetization_msite\":{\"value\":true,\"abId\":\"6d2517b4\",\"expId\":\"Smart_Filter_BGM_AB\"},\"smartFilterAbKey\":{\"value\":\"bgm_ab\",\"abId\":\"6d2517b4\",\"expId\":\"Smart_Filter_BGM_AB\"},\"enableBrandWarrantyCheckout_FLIPKART_msite\":{\"value\":true,\"abId\":\"a73ff95e\",\"expId\":\"GH - Brand Warranty for Items | Test 1 without details\"},\"enableBrandWarrantyCheckout_FLIPKART_iOS\":{\"value\":true,\"abId\":\"a73ff95e\",\"expId\":\"GH - Brand Warranty for Items | Test 1 without details\"},\"enableBrandWarrantyCart_FLIPKART_iOS\":{\"value\":true,\"abId\":\"a73ff95e\",\"expId\":\"GH - Brand Warranty for Items | Test 1 without details\"},\"enableBrandWarrantyCart_FLIPKART_msite\":{\"value\":true,\"abId\":\"a73ff95e\",\"expId\":\"GH - Brand Warranty for Items | Test 1 without details\"},\"enableBrandWarrantyCart_FLIPKART_Android\":{\"value\":true,\"abId\":\"a73ff95e\",\"expId\":\"GH - Brand Warranty for Items | Test 1 without details\"},\"enableBrandWarrantyCheckout_FLIPKART_Android\":{\"value\":true,\"abId\":\"a73ff95e\",\"expId\":\"GH - Brand Warranty for Items | Test 1 without details\"},\"AOVWallV2Repeat\":{\"value\":true,\"abId\":\"e04ff105\",\"expId\":\"AOV Wall V2 for Repeat Users only - Reverse\"},\"lifes-produ-0fb39\":{\"value\":\"clone-produ-b92c7\",\"abId\":\"e1e54ea6\",\"expId\":\"Similar over RnR EXP LS\"},\"final-produ-b2f84\":{\"value\":\"clone-produ-1b1d2\",\"abId\":\"e1e54ea6\",\"expId\":\"Similar over RnR EXP LS\"},\"bgmhf-produ-a2a9d\":{\"value\":\"clone-produ-ceadf\",\"abId\":\"e1e54ea6\",\"expId\":\"Similar over RnR EXP LS\"},\"bgmhf-produ-f2720\":{\"value\":\"clone-produ-0fd00\",\"abId\":\"e1e54ea6\",\"expId\":\"Similar over RnR EXP LS\"},\"bgmhf-produ-e58ca\":{\"value\":\"clone-produ-64339\",\"abId\":\"e1e54ea6\",\"expId\":\"Similar over RnR EXP LS\"},\"layou-produ-fdffb\":{\"value\":\"clone-produ-26485\",\"abId\":\"e1e54ea6\",\"expId\":\"Similar over RnR EXP LS\"},\"similar_over_rnr\":{\"value\":true,\"abId\":\"e1e54ea6\",\"expId\":\"Similar over RnR EXP LS\"},\"isCartVersioningEnabled\":{\"value\":false,\"abId\":\"f0a244e5\",\"expId\":\"Cart Versioning - Control\"}},\"activateVip\":{\"asyncStatus\":\"INIT\",\"widget\":[]},\"autosuggest\":{\"query\":null,\"payloadId\":null,\"searchHistory\":[],\"asyncStatus\":\"INIT\",\"words\":{},\"searchBrowseHistoryRequest\":{}},\"basket\":{\"asyncStatus\":\"INIT\",\"pageLevelError\":false},\"buyingGuides\":{},\"cartData\":{\"asyncStatus\":\"INIT\",\"pageLevelError\":false},\"saveForLaterData\":{\"asyncStatus\":\"INIT\",\"data\":{\"requestedStores\":[]}},\"checkoutPage\":{\"summary\":{\"asyncStatus\":\"INIT\"},\"checkoutAsyncStatus\":\"INIT\",\"addressCache\":{\"newAddressForm\":{\"id\":\"newAddressForm\",\"name\":\"\",\"addressLine1\":\"\",\"addressLine2\":\"\",\"landmark\":\"\",\"city\":\"\",\"state\":\"\",\"pincode\":\"\",\"phone\":\"\",\"alternatePhone\":\"\",\"locationTypeTag\":\"\"}},\"visualState\":{\"login\":\"EXPANDED\",\"address\":\"COLLAPSED\",\"orderSummary\":\"COLLAPSED\",\"payment\":\"COLLAPSED\"},\"loginState\":{\"asyncStatus\":\"INIT\"},\"buyNow\":{\"eids\":\"\",\"domain\":\"physical\",\"analytics\":{},\"quantity\":0},\"addressLocation\":{\"asyncStatus\":\"INIT\"},\"staticPage\":{\"asyncStatus\":\"INIT\"}},\"claimedReward\":{\"asyncStatus\":\"INIT\",\"widget\":[]},\"compareAddProductData\":{\"asyncStatus\":\"INIT\",\"brandvsproduct\":{},\"brand\":null},\"compareBrandData\":{\"asyncStatus\":\"INIT\"},\"comparePageData\":{\"asyncStatus\":\"INIT\",\"showDifference\":false},\"compareWidgetData\":[],\"config\":{\"asyncStatus\":\"SUCCESS\",\"data\":{\"tooltip-zion-services\":{\"deliveryCharge\":\"## Shipping Charges For Non Flipkart Assured Items\\\\n\\\\n Shipping charges are calculated based on the number of units, distance and delivery date.\\\\n\\\\n For Plus as well as Non-Plus customers, Seller will decide shipping charges for all non-FAssured items.\",\"deliverdBy\":\"## Shipping Charges For Flipkart Assured Items\\\\n\\\\n Shipping charges are calculated based on the number of units, distance and delivery date. \\\\n\\\\n For Plus customers, shipping charges are free.\\\\n\\\\n For non-Plus customers, if the total value of FAssured items is more than Rs.500, shipping charges are free.  If the total value of FAssured items is less than Rs.500, shipping charges = Rs.40 per unit\\\\n\\\\n\\\\\\\\* For faster delivery, shipping charges will be applicable\",\"tentativeRelease\":\"__What is the tentative delivery time?__\\\\n\\\\n Sellers generally procure and ship the items within the time specified on the product page. Business days exclude public holidays and Sundays.\\\\n\\\\n Estimated delivery time depends on the following factors:\\\\n * The Seller offering the product \\\\n * Product\\'s availability with the Seller \\\\n * The destination to which you want the order shipped to and the Seller\\'s location\\\\n\\\\n__Why does the delivery date not correspond to the delivery timeline of X-Y business days?__ \\\\n\\\\n It is possible that the Seller or our courier partners observe a holiday between the day you placed your order and the date of delivery, which is based on the timelines shown on the product page. In this case, we add a day to the estimated date. Some courier partners and Sellers do not work on Sundays and this is factored in to the delivery dates. \\\\n\\\\n __Why does the estimated delivery time vary for each seller?__ \\\\n\\\\n You have probably noticed varying estimated delivery times for Sellers of the product you are interested in. Delivery times are influenced by product availability, geographic location of the Seller, your shipping destination and the courier partner\\'s time-to-deliver to your location. \\\\n\\\\n Please enter your default pin code on the product page (you don\\'t have to enter it every single time) to know more accurate delivery times on the product page itself. \\\\n\\\\n __Seller does not/cannot ship to my area. Why?__ \\\\n\\\\n Enter your pincode on the product page (you don\\'t have to enter it every single time) to know whether the product can be delivered to your location. \\\\n\\\\n If you haven\\'t provided your pincode until the checkout stage, the pincode in your last used shipping address will be used to check for serviceability. \\\\n\\\\n Whether your location can be serviced or not depends on:\\\\n\\\\n * Whether the Seller actually ships to your location \\\\n * Legal restrictions, if any, in shipping particular products to your location \\\\n * The availability of reliable courier partners in your location \\\\n\\\\n At times Sellers prefer not to ship to certain locations. This is entirely at their discretion.\\\\n\\\\n More answers in our <a href=\\'/pages/shipping\\' target=\\'_blank\\'>Shipping FAQs »</a>\",\"groceryDeliveryCharges\":\"**Why is there a shipping charge?**\\\\r\\\\n\\\\r\\\\nSupermart waives off the delivery charge for Orders over Rs 1200. For Orders under Rs 1200, a nominal delivery charge is added per order.\\\\r\\\\n\\\\r\\\\n**What is the estimated delivery time?**\\\\r\\\\n\\\\r\\\\nSupermart delivers at a convenient time as selected by you at the checkout time. Slots for delivery are available from next day.\\\\r\\\\n\\\\r\\\\n**Seller does not/cannot ship to my area. Why?**\\\\r\\\\n\\\\r\\\\nCurrently, Supermart is available only in select cities. We hope to launch in your location soon!\",\"emiTableFaq\":\"\\\\nThis table shows different banks and the respective EMI options based on the product price. This is for indicative purposes only, your EMI payments may differ with total order amount and additional bank charges, if any.\",\"emiFaq\":\"\\\\n\\\\n- Select your preferred EMI option at the time of payment.\\\\r\\\\n- Final EMI is calculated on the total value of your order at the time of payment.\\\\r\\\\n- The Bank charges annual interest rates according to the reducing monthly balance. In the monthly reducing cycle, the principal is reduced with every EMI and the interest is calculated on the outstanding balance.\\\\r\\\\n- The minimum order value to avail the EMI payment option is Rs 3,000.\\\\r\\\\n- This option is available only when the cart contains items from a single seller.\\\\r\\\\n- The Bank charges annual interest rates according to the reducing monthly balance. In the monthly reducing cycle, the principal is reduced with every EMI and the interest is calculated on the outstanding balance.\\\\r\\\\n- While you will not be charged a processing fee for availing Flipkart&#39;s EMI option, the interest charged by the bank shall not be refunded by Flipkart.\\\\r\\\\n- You may check with the respective bank/issuer on how a cancellation, refund or pre-closure could affect the EMI terms, and what interest charges would be levied on you for the same.\\\\r\\\\n- For select banks, the interest amount on the first EMI will be calculated from the loan booking date till the payment due date.\\\\r\\\\n- GST may also be levied by the bank as applicable.\",\"fkAssuredTnC\":\"Flipkart Assured is the seal of Quality and Reliability. Flipkart Assured products are verified, packed with care and safely dispatched by Flipkart. With extensive quality checks, stringent seller guidelines and reliable & free shipping, Flipkart Assured guarantees a superior and hassle-free shopping experience, every time. \\\\n\\\\n * 6 quality Checks - Flipkart Quality guidelines ensure that extensive quality checks are done from storage to final packaging so that you get exactly what you ordered. \\\\n * Transit Safe Packaging - Flipkart packaging guidelines ensure that your product will be safe in its journey to your doorstep. \\\\n * Reliable Delivery - We ship your product through our most trusted courier partners, ensuring that it not only reaches you safely by the promised date but is also trackable in real-time. \\\\n * Stringent Seller Guidelines - Flipkart Assured badge is given only to select products from our most trusted and reliable sellers to ensure your shopping outcome is perfect,very single time. \\\\n * Free Shipping - All orders above Rs.500 are eligible for FREE shipping. \\\\n * Faster Shipping Options - Large selection of items available with faster shipping options. We ensure you get what you want, when you want.\\\\n\\\\n*Available as a value added service on selected pin codes\",\"certifiedBuyer\":\"The \\'__certified buyer__\\' badge indicates that this user has purchased this product on Flipkart.\",\"flipkart_\\'\":\"__Flipkart Assured__\\\\n\\\\n Products marked with Flipkart Assured are sold by/sourced from a Seller but are quality checked, stocked, packed and shipped by Flipkart. Expedited delivery* options such as Same Day/In-a-Day Guarantee Delivery are an added bonus. <a href=\\'/flipkart-assured\\' target=\\'_blank\\'>Read More</a>\\\\n\\\\n \\\\\\\\* Shipments from locations where relevant permissions have been obtained.\",\"phonepe_info\":\"<b>PhonePe UPI</b>\\\\n\\\\nInstant Payment: Just enter your MPIN to pay.\\\\n\\\\nReal Cashback: Transfer PhonePe balance instantly to your bank account for free.\\\\n\\\\nSecure as ATM: Only you know your secret UPI MPIN.\",\"myProfileFAQ\":\"#### What happens when I update my email address (or mobile number)?\\\\n\\\\nYour login email id (or mobile number) changes, likewise. You\\'ll receive all your account related communication on your updated email address (or mobile number).\\\\n\\\\n\\\\n#### When will my Flipkart account be updated with the new email address (or mobile number)?\\\\n\\\\nIt happens as soon as you confirm the verification code sent to your email (or mobile) and save the changes.\\\\n\\\\n\\\\n#### What happens to my existing Flipkart account when I update my email address (or mobile number)?\\\\n\\\\nUpdating your email address (or mobile number) doesn\\'t invalidate your account. Your account remains fully functional. You\\'ll continue seeing your Order history, saved information and personal details.\\\\n\\\\n\\\\n#### Does my Seller account get affected when I update my email address?\\\\n\\\\nFlipkart has a \\'single sign-on\\' policy. Any changes will reflect in your Seller account also.\",\"changePasswordFAQ\":\"### Your new password must:\\\\n\\\\n- Be at least 4 characters in length\\\\n\\\\n- Not be same as your current password\\\\n\\\\n- Not contain common passwords.\",\"deactivateFAQ\":\"### When you deactivate your account\\\\n\\\\n- You are logged out of your Flipkart Account\\\\n\\\\n- Your public profile on Flipkart is no longer visible\\\\n\\\\n- Your reviews/ratings are still visible, while your profile information is shown as ‘unavailable’ as a result of deactivation.\\\\n\\\\n- Your wishlist items are no longer accessible through the associated public hyperlink. Wishlist is shown as ‘unavailable’ as a result of deactivation\\\\n\\\\n- You will be unsubscribed from receiving promotional emails from Flipkart\\\\n\\\\n- Your account data is retained and is restored in case you choose to reactivate your account\\\\n\\\\n\\\\n\\\\n### How do I reactivate my Flipkart account?\\\\n\\\\n\\\\n\\\\nReactivation is easy.\\\\n\\\\n\\\\n\\\\nSimply login with your registered email id or mobile number and password combination used prior to deactivation. Your account data is fully restored. Default settings are applied and you will be subscribed to receive promotional emails from Flipkart.\\\\n\\\\n\\\\nFlipkart retains your account data for you to conveniently start off from where you left, if you decide to reactivate your account.\\\\n\\\\n\\\\n### Remember: Account Reactivation can be done on the Desktop version only.\",\"pickupAddress_unavailable\":\"Please select the reason for return to proceed further\",\"safetyNotificationMoreInfo\":\"\\\\n\\\\n * We save your card number, expiry date and name on card only. We do not save CVV Nos.\\\\n * Be assured, your card details are 100% safe with us. We use world class encryption for storing card details and our systems are PCI DSS security certified.\\\\n * Should you wish to un-save the card, you can do so in the \\'Saved Cards\\' section in the \\'My Account\\' Menu.\",\"walletFAQ\":\"__What is PhonePe? What payment options does PhonePe provide?__\\\\n\\\\n PhonePe is a new mobile payment solution. Our goal is to make digital payments so easy and safe that people never have to carry cash or cards again! You can use PhonePe as a wallet or directly make transfers through your linked bank account using UPI. It\\'s safe, easy and instant, you have to use it to believe it!\\\\n\\\\n__What is UPI? What is the advantage of UPI transfers over wallets?__\\\\n\\\\n \\'Unified Payment Interface\\' (UPI) is an instant payment system that allows you to transfer money directly from your bank account. The best part about UPI is that it allows you to make payments with a few clicks without the hassle of sharing bank a/c details or typing your card details, net banking password, OTP, etc. There are many advantages of UPI. The main advantage is that you don\\'t have to block your money by loading it into a wallet. Simply link your bank account and then you can make seamless payments without having to worry about topping up a wallet, wallet spend limits or not earning interest on your money. Makes sense to use UPI for direct bank transfer rather than the plethora of wallets, doesn\\'t it? \\\\n\\\\n__Can I transfer funds from PhonePe wallet? If yes, how much can be transferred?__\\\\n\\\\n Yes, you can transfer funds from PhonePe wallet to your bank account using the Bank Account Number and Branch IFSC Code. You can transfer a maximum of ₹5,000 in a single transaction and a maximum of ₹25,000 in a month.\\\\n\\\\n__Can I use an International phone number to activate PhonePe wallet?__\\\\n\\\\n No, currently PhonePe wallet is available only for domestic mobile numbers.\",\"giftcardFAQ\":\"__How do I buy / gift a Flipkart Gift Card?__\\\\n\\\\n 1. Enter the name and email address of the person you want to send the Flipkart Gift Card to. \\\\n\\\\n 2. Select the value of the card you would like to purchase, then click \\'Proceed To Pay\\'. \\\\n\\\\n 3. You\\'ll now see the payment options. You can pay by Credit Card / Debit Card / ATM Card / Netbanking. Proceed to pay using your preferred choice. If you need to make any changes to the Gift Card value, you can always click \\'Edit\\' to modify it. \\\\n\\\\n 4. Complete the checkout process to receive an email with the Gift Card details.\\\\n\\\\n__How do I pay with a Flipkart Gift Card?__\\\\n\\\\n 1. Go to flipkart.com and select the items you want to purchase. When you are ready to checkout, click \\'Proceed To Pay\\'. \\\\n\\\\n 2. Select the \\'Pay By Gift Card\\' option. \\\\n\\\\n 3. Enter your 16-digit gift card number and the corresponding 6-digit PIN number when prompted. \\\\n\\\\n 4. If the Gift Card value doesn\\'t cover your Order total, you will be prompted to select an additional payment method. \\\\n\\\\n NOTE: Funds will be deducted from your Flipkart Gift Card when you place your order. In case of any adjustment or cancellation at a later stage, we will credit the refund back to your Gift Card. \\\\n\\\\n__Does my Flipkart Gift Card expire?__\\\\n\\\\n All Flipkart Gift Cards expire 1 year from the date of their creation.\",\"giftcardTnC\":\"\\\\n\\\\n 1. Flipkart Gift Cards (“GCs” or “Gift Cards”) are issued by Qwikcilver Solutions Pvt. Ltd. (\\'Qwikcilver\\') which is a private limited company incorporated under the laws of India, and is authorized by the Reserve Bank of India (\\'RBI\\') to issue such Gift Cards. \\\\n 2. The Gift Cards can be redeemed online against Sellers listed on www.flipkart.com or Flipkart Mobile App or Flipkart m-site (\\'Platform\\') only. \\\\n 3. Gift Cards can be purchased on www.flipkart.com or Flipkart Mobile App using the following payment modes only - Credit Card, Debit Card and Net Banking. \\\\n 4. Gift Cards can be redeemed by selecting the payment mode as Gift Card. \\\\n 5. Gift Cards cannot be used to purchase other Flipkart Gift Cards or Flipkart First subscriptions. \\\\n 6. Gift Cards cannot be used to make bulk purchases on the Platform. \\\\n 7. If the order value exceeds the Gift Card amount, the balance must be paid by Credit Card/Debit Card/Internet Banking. The Cash on Delivery payment option cannot be used to pay the balance amount.\",\"savedCardFAQ\":\"__Why is my Card being saved on Flipkart?__\\\\n\\\\nIt\\'s quicker. You can save the hassle of typing in the complete card information every time you shop at Flipkart by saving your card details. You can make your payment by selecting the saved card of your choice at checkout. While this is obviously faster, it is also very secure.\\\\n\\\\n__Is it safe to save my cards on Flipkart?__\\\\n\\\\nAbsolutely. Your card information is 100 percent safe with us. We use world class encryption technology while saving your card information on our highly secure systems. Our payment systems have passed stringent security compliance checks like PCI DSS (Payment Card Industry Data Security Standards) to ensure that your card information remains confidential at all times.\\\\n\\\\n__What all card information does Flipkart store?__\\\\n\\\\nFlipkart only stores card information when the customer selects the option. We only store your card number, cardholder name and card expiry date. We do not store your card’s CVV number or the 3D Secure password.\\\\n\\\\n__Can I delete my saved cards?__\\\\n\\\\nYes, you can delete your saved cards at any given time.\",\"savedVpaFAQ\":\"__Why is my UPI being saved on Flipkart?__\\\\n\\\\nIt\\'s quicker. You can save the hassle of typing in the complete UPI information every time you shop at Flipkart by saving your UPI details. You can make your payment by selecting the saved UPI ID of your choice at checkout. While this is obviously faster, it is also very secure.\\\\n\\\\n__Is it safe to save my UPI on Flipkart?__\\\\n\\\\nAbsolutely. Your UPI ID information is 100 percent safe with us. UPI ID details are non PCI compliant and are non confidential data.\\\\n\\\\n__What all UPI information does Flipkart store?__\\\\n\\\\nFlipkart only stores UPI ID and payment provider details. We do not store UPI PIN/MPIN.\\\\n\\\\n__Can I delete my saved UPI?__\\\\n\\\\nYes, you can delete your UPI ID at any given time.\",\"bnplTnC\":\"\\\\n\\\\n 1. Available on select sellers and Flipkart Assured Products only. \\\\n\\\\n 2. You can settle your dues by Credit Card, Debit Card or Netbanking. \\\\n\\\\n 3. Failure to pay by due date may invite a late fee.\",\"bnplTnCv2\":\"\\\\n\\\\n 1. Available on products from select sellers only. \\\\n\\\\n 2. You can settle your dues by Credit Card, Debit Card or Netbanking. \\\\n\\\\n 3. Failure to pay by due date may invite a late fee.\",\"product_page\":{\"policy\":{\"cancellation_fee\":{\"tooltip\":\"\\\\n\\\\n<b>Cancellation Policy</b>\\\\n\\\\nWe are liable to compensate our sellers and logistics partner for the cost, time and effort they incur while processing an order.\\\\n\\\\nHence, we now charge a cancellation fee on certain products.\\\\n\\\\nKnow more about the Cancellation Policy <a href=\\'/pages/cancellation-tnc\\' target=\\'_blank\\'>here</a>\"}},\"services\":{\"cash_on_delivery\":{\"tooltip\":\"__How do I place a Cash on Delivery (C-o-D) order?__ \\\\n\\\\n All items that have the \\'Cash on Delivery Available\\' icon are valid for order by Cash on Delivery. Add the item(s) to your cart and proceed to checkout. When prompted to choose a payment option, select \\'Pay By Cash on Delivery\\'. Enter the CAPTCHA text as shown, for validation. Once verified and confirmed, your order will be processed for shipment in the time specified, from the date of confirmation. You will be required to make a cash-only payment to our courier partner at the time of delivery of your order to complete the payment.\\\\n\\\\n __Terms & Conditions__ \\\\n\\\\n * e-Gift Vouchers or Store Credit cannot be used for C-o-D orders. \\\\n * Cash-only payment at the time of delivery. \\\\n\\\\n More answers in our <a href=\\'/pages/shipping\\' target=\\'_blank\\'>Shipping FAQs »</a>\"},\"cash_on_delivery_part_payment\":{\"tooltip\":\"__How do I place a Cash on Delivery (C-o-D) order with advance payment?__ \\\\n\\\\n Add the item(s) to your cart and proceed to checkout. When prompted to choose a payment option, select \\'Pay By Cash on Delivery\\'. You will be prompted to complete an advance payment to place the Cash on Delivery order. The advance payment can be made using any online payment method like Credit Card, Debit Card, Net Banking or UPI. Once the advance payment is done, your order will be processed for shipment in the time specified, from the date of confirmation. You will be required to make a cash-only payment for the remaining amount to our courier partner at the time of delivery of your order to complete the payment.\\\\n\\\\n __Terms & Conditions__ \\\\n\\\\n * Gift Vouchers or Store Credit cannot be used for C-o-D orders. \\\\n * Cash-only payment at the time of delivery.\\\\n\\\\n More answers in our <a href=\\'/pages/shipping\\' target=\\'_blank\\'>Shipping FAQs »</a>\"},\"slotted_delivery\":{\"tooltip\":\"__How do I get an item delivered at a time convenient for me?__ \\\\n\\\\n While placing an order, you may select the time convenient for you from the available slots.\\\\n\\\\n The item will be delivered at the time you specify. We\\'ll give you a confirmation call before the item is out for delivery.\\\\n\\\\n __Can I change the preferred delivery time after I have selected it at the time of placing the order?__ \\\\n\\\\n Yes. You may change the scheduled time of delivery. Give us a call and tell us what would be convenient for you. We\\'ll reschedule the delivery as per your convenience.\\\\n\\\\n __Do I need to be available in person while taking the delivery?__ \\\\n\\\\n You need not be available in person at the scheduled time of delivery. You may delegate someone to accept the delivery, complete Cash on Delivery payment and sign the delivery sheet. \\\\n\\\\n __Are there any extra charges for scheduling the delivery at a convenient time?__ \\\\n\\\\n No. There are no extra charges. Just check for available slots and pick a time.\"},\"gst_invoicing_policy\":{\"tooltip\":\"Users with registered businesses may purchase products for their business requirements offered for sale by sellers on the Platform. Provided, however, purchases on the Platform must only be for end consumption. Users must not use products purchased on the Platform for any commercial, promotional, resale or further distribution purposes.\\\\r\\\\n\\\\r\\\\n *  For purchase of all such products, a Tax Invoice including the GSTIN provided by User (“**GST invoice**”) shall be provided to the User, which will have, *inter alia*, the following details printed on it:\\\\r\\\\n\\\\r\\\\n  \\\\\\\\- GSTIN associated with the registered business of the User as provided by the User  \\\\r\\\\n  \\\\\\\\- Entity name of the registered business of the User as provided by the User  \\\\r\\\\n\\\\r\\\\n\\\\r\\\\n *  Please note that not all products are eligible for GST Invoice. Only select products sold by participating sellers and having a \\'GST Invoice Available’ callout on the Product Detail Page of the Platform will be eligible for GST Invoice.\\\\r\\\\n *  GST Invoice will not be eligible on the following products/services:\\\\r\\\\n\\\\r\\\\n  \\\\\\\\- if Value Added Services of Complete Mobile Protection or Assured Buyback are attached to the products\\\\r\\\\n\\\\r\\\\n  \\\\\\\\- if the products are bought along with an exchange offer\\\\r\\\\n\\\\r\\\\n *  Please note that the GST invoice shall contain the details of User’s GSTIN and business entity name as provided by the User. Users should ensure that the details entered by them are accurate. Flipkart and Seller shall not entertain any request for any revision in the GST Invoice. Flipkart and Seller shall not be liable for any default on User’s part including for reasons associated with details provided by the User.\\\\r\\\\n *  Please note that Flipkart is not liable in any manner whatsoever in relation to the GST Invoice or any input tax credit associated therewith.\\\\r\\\\n *  For seamless availment of input tax credit, kindly select the address which is mentioned as the registered place of business as per the records of GST authority. Please note that availment of input tax credit is subject to provisions of GST Act and rules.\\\\r\\\\n *  The delivery and billing addresses will be required to be the same, please note that input tax credit will be denied by GST authority if the delivery address and GSTIN in the GST invoice are of different states.\\\\r\\\\n *  Please note that in case an incorrect GST details are provided during order placement, the order will be automatically cancelled.\\\\r\\\\n *  Please refer to our [Terms of Use][] and Privacy Policy for more details.\\\\r\\\\n\\\\r\\\\n**FAQs**\\\\r\\\\n\\\\r\\\\n1.  **What is GST Invoice option available on the product page?**\\\\r\\\\n\\\\r\\\\n  It is an option available on select products, through which you can enter your GST details during order placement and avail GST invoice which can be used to avail tax input credit.\\\\r\\\\n\\\\r\\\\n1.  **Where can I find the invoice with my GST details printed on it?**\\\\r\\\\n\\\\r\\\\n  The GST Invoice for your order will be shared in the form of a digital copy at your registered email address. You can also download the invoice for an already delivered order by visiting the \\'My Orders\\' section and choosing the order for which you would like to download the invoice.\\\\r\\\\n\\\\r\\\\n1.  **Will I be able to edit my GST details after placing an order?**\\\\r\\\\n\\\\r\\\\n  The option to edit GST details after placing an order is currently not available. You can choose to cancel the ongoing order and place a fresh order with the correct GST details.\\\\r\\\\n\\\\r\\\\n1.  **Is the option of GST Invoice available with all products/sellers?**\\\\r\\\\n\\\\r\\\\n  The option of GST Invoice is currently available only on select products offered by participating sellers. You can visit the product page and scroll to the seller details section and if applicable, GST Invoice option will be clearly displayed. If the seller details do not call this out, it indicates that the seller does not currently provide this service.\\\\r\\\\n\\\\r\\\\n1.  **What are the details I should carefully enter while filling out my GST details?** \\\\r\\\\n\\\\r\\\\n  While entering the GST details ensure that the GST number mentioned is valid and active, belongs to the same state as that of the delivery address and also ensure that you mention the exact name of your registered business.\\\\r\\\\n\\\\r\\\\n1.  **What happens if I fill incorrect details?**\\\\r\\\\n\\\\r\\\\n  Please note that in case incorrect GST details are provided during order placement, the order will be automatically cancelled.\\\\r\\\\n\\\\r\\\\n1.  **My order is eligible for the GST Invoice but why am I not shown this option during order placement?**\\\\r\\\\n\\\\r\\\\n  An order is not eligible for GST Invoice option if value added services/plans/exchange offers are part of the order. You can choose to remove such plans from your order to ensure that your order is eligible for GST Invoice option.\\\\r\\\\n\\\\r\\\\n1.  **Can I get GST Invoice for installation/service/demo that will be charged by the brand after the delivery?**\\\\r\\\\n\\\\r\\\\n  If the delivery/installation/demo amount is charged by the brand, it is not included in the order invoice issued by the seller. Hence, it is not eligible for GST Invoice.\\\\r\\\\n\\\\r\\\\n1.  **What should I do if I missed sharing my GST details / provided incorrect details on the invoice?**\\\\r\\\\n\\\\r\\\\n  The GST related details as provided by the customers are automatically captured and printed on the invoice. Hence, this cannot be changed once the order has been placed. In case you entered the wrong GST details while placing the order, you can choose to cancel it and place a fresh order with the correct details.\\\\r\\\\n\\\\r\\\\n1.  **Can I get my invoice modified?**\\\\r\\\\n\\\\r\\\\n  The seller does not have the option to modify sections of the order invoice once it\\'s generated.\\\\r\\\\n\\\\r\\\\n1.  **If I had entered my GST details while placing an earlier order, do I have to mention it again for the next orders I place?**\\\\r\\\\n\\\\r\\\\n  Please note that the GST details have to be entered each time you place an order for an eligible product in order to receive GST Invoice.\\\\r\\\\n\\\\r\\\\n\\\\r\\\\n[Terms of Use]: https://www.flipkart.com/pages/terms\"},\"return_policy\":{\"no_returns\":{\"tooltip\":\"This product is not eligible for returns. <a href=\\'/pages/no-return-products\\' target=\\'_blank\\'>Know more.</a>\"},\"7_day_return_service_centre_action\":{\"tooltip\":\"*Returns are offered only if the product was received in damaged condition. For all other device-related issues, please contact the brand authorized service centre directly:\\\\n\\\\nAuthorized Service Partner Locator :</br>Apple & Beats - <a href=\\'https://locate.apple.com/in/en\\' target=\\'_blank\\'>https://locate.apple.com/in/en</a></br>Google - <a href=\\'https://support.google.com/pixelphone/answer/7173456?hl=en-GB\\' target=\\'_blank\\'>https://support.google.com/pixelphone/answer/7173456?hl=en-GB</a></br>Realme - <a href=\\'https://www.realme.com/in/support/services\\' target=\\'_blank\\'>https://www.realme.com/in/support/services</a></br>Samsung - <a href=\\'https://www.samsung.com/in/support/service-center/\\' target=\\'_blank\\'>https://www.samsung.com/in/support/service-center/</a></br>JBL - <a href=\\'https://in.jbl.com/servicecenter.html\\' target=\\'_blank\\'>https://in.jbl.com/servicecenter.html</a><br/>\\\\n\\\\n Support Site :</br>Apple & Beats - <a href=\\'https://support.apple.com/en-in\\' target=\\'_blank\\'>https://support.apple.com/en-in</a></br>Google - <a href=\\'https://madeby.google.com/intl/en_in/phone/support/\\' target=\\'_blank\\'>https://madeby.google.com/intl/en_in/phone/support/</a></br>Realme - <a href=\\'https://www.realme.com/in/support\\' target=\\'_blank\\'>https://www.realme.com/in/support</a></br>Samsung - <a href=\\'https://www.samsung.com/in/support/\\' target=\\'_blank\\'>https://www.samsung.com/in/support/</a><br/>JBL - <a href=\\'https://support.jbl.com/in/en/\\' target=\\'_blank\\'>https://support.jbl.com/in/en/</a>\\\\n\\\\nKnow more about the Return Policy <a href=\\'/pages/returnpolicy\\' target=\\'_blank\\'>here</a>\"},\"7_day_replacement_service_centre_action\":{\"tooltip\":\"*Seller offers replacement only for missing items, product damaged on delivery, or wrong product delivery. \\\\n\\\\n   Brand assistance for device and other issues is subject to brand warranty guidelines and service policies. Please reach out to the nearest brand authorized service centre for more details.\\\\n\\\\nAuthorized Service Partner Locator :</br>Apple & Beats - <a href=\\'https://locate.apple.com/in/en\\' target=\\'_blank\\'>https://locate.apple.com/in/en</a></br>Google - <a href=\\'https://support.google.com/pixelphone/answer/7173456?hl=en-GB\\' target=\\'_blank\\'>https://support.google.com/pixelphone/answer/7173456?hl=en-GB</a></br>Realme - <a href=\\'https://www.realme.com/in/support/services\\' target=\\'_blank\\'>https://www.realme.com/in/support/services</a></br>Samsung - <a href=\\'https://www.samsung.com/in/support/service-center/\\' target=\\'_blank\\'>https://www.samsung.com/in/support/service-center/</a></br>JBL & Infinity - <a href=\\'https://support.jbl.com/in/en/customer-service/service-centres.html\\' target=\\'_blank\\'>https://support.jbl.com/in/en/customer-service/service-centres.html</a></br>Epson - Please reach out to 1800 425 00 11 to contact the brand authorised service centre.</br>HP - Please reach out to 18002587170 to contact the brand authorised service centre.</br>Dell & Alienware - <a href=\\'https://www.support.dell.com\\' target=\\'_blank\\'>www.support.dell.com</a></br>Canon - Please reach out to 18601803366 to contact the brand authorised service centre</br>MI - Please reach out to 1800 103 6286 to contact the brand authorised service centre.</br>GoPro - <a href=\\'https://gopro.com/help/ContactUs\\' target=\\'_blank\\'>https://gopro.com/help/ContactUs</a><br/>\\\\n\\\\n Support Site :</br>Apple & Beats - <a href=\\'https://support.apple.com/en-in\\' target=\\'_blank\\'>https://support.apple.com/en-in</a></br>Google - <a href=\\'https://madeby.google.com/intl/en_in/phone/support/\\' target=\\'_blank\\'>https://madeby.google.com/intl/en_in/phone/support/</a></br>Realme - <a href=\\'https://www.realme.com/in/support\\' target=\\'_blank\\'>https://www.realme.com/in/support</a></br>Samsung - <a href=\\'https://www.samsung.com/in/support/\\' target=\\'_blank\\'>https://www.samsung.com/in/support/</a><br/>JBL & Infinity - <a href=\\'https://support.jbl.com/in/en/\\' target=\\'_blank\\'>https://support.jbl.com/in/en/</a></br>Epson - Please reach out to 1800 425 00 11 to contact the brand authorised service centre.</br>HP - Please reach out to 18002587170 to contact the brand authorised service centre.</br>Dell & Alienware  - <a href=\\'https://www.support.dell.com\\' target=\\'_blank\\'>www.support.dell.com</a></br>Canon - Please reach out to 18601803366 to contact the brand authorised service centre<br/>MI - Please reach out to 1800 103 6286 to contact the brand authorised service centre.</br>GoPro - <a href=\\'https://gopro.com/help/ContactUs\\' target=\\'_blank\\'>https://gopro.com/help/ContactUs</a>\\\\n\\\\nKnow more about the Return Policy <a href=\\'/pages/returnpolicy\\' target=\\'_blank\\'>here</a>\"},\"7_day_replacement_lifestyle\":{\"tooltip_TABLE\":\"[{\\\\\"Validity\\\\\": \\\\\"7 days from delivery\\\\\",\\\\\"Covers\\\\\": \\\\\"Damaged, Defective, Item not as described\\\\\",\\\\\"Type Accepted\\\\\": \\\\\"Replacement\\\\\"}]\",\"tooltip\":\"\\\\n\\\\n*If you have received a damaged or defective product or if it is not as described, you can raise a replacement request on the Website/App/Mobile site within 7 days of receiving the product.\\\\n\\\\nSuccessful pick-up of the product is subject to the following conditions being met:\\\\n\\\\n *  Correct and complete product (with the original brand/product Id/undetached MRP tag/product\\'s original packaging/freebies and accessories).\\\\n *  The product should be in unused, undamaged and original condition without any scratches or dents.\\\\n\\\\nKnow more about the Return Policy <a href=\\'/pages/returnpolicy\\' target=\\'_blank\\'>here</a>\"},\"7_day_replacement_bgm\":{\"tooltip_TABLE\":\"[{\\\\\"Validity\\\\\": \\\\\"7 days from delivery\\\\\",\\\\\"Covers\\\\\": \\\\\"Damaged and wrong item received\\\\\",\\\\\"Type Accepted\\\\\": \\\\\"Replacement\\\\\"}]\",\"tooltip\":\"*If you have received a damaged product or wrong item received, you can raise a replacement request on the Website/App/Mobile site within 7 days of receiving the product. The replacement will be considered on the basis of successful image check verification by the customer service agent..\\\\n\\\\n Successful pick-up of the product is subject to the following conditions being met: \\\\n\\\\n * Correct and complete product (with the original brand, article number, undetached MRP tag, product&#39;s original packaging, freebies and accessories) \\\\n * The product should be in unused, undamaged and original condition without any stains, scratches, tears or holes and with non-tampered quality check seals/return tags/ warranty seals (wherever applicable)\\\\n\\\\nKnow more about the Return Policy <a href=\\'/pages/returnpolicy\\' target=\\'_blank\\'>here</a>\"},\"7_day_replacement_laptop\":{\"tooltip_TABLE\":\"[{\\\\\"Validity\\\\\": \\\\\"7 days from delivery\\\\\",\\\\\"Covers\\\\\": \\\\\"Damaged, Defective, Item not as described\\\\\",\\\\\"Type Accepted\\\\\": \\\\\"Replacement\\\\\"}]\",\"tooltip\":\"For products requiring installation, Returns valid only when installed by Flipkart authorized personnel.\\\\n *  If you have received a damaged or defective product or if it is not as described, you can raise a replacement request on the Website/App/Mobile site within 7 days of receiving the product.\\\\n\\\\nWe will help you troubleshoot any issues you may have, either through online tools, over the phone, and/or through an in-person technician visit.\\\\n\\\\n1.  Only one replacement will be provided in the unlikely event that the product is defective.\\\\n2.  The product will be considered to be defective if the technician is not able to repair/resolve the issue. Cases acknowledged as Dead on Arrival by the technician will be replaced with a new product.\\\\n3.  Software issues including OS, driver related issues and hardware issues including display, keyboard, trackpad, battery, speaker related issues that can be resolved by the technician will not be eligible for replacement. The technician will provide appropriate resolution for all of these cases.\\\\n4.  Product will neither be considered defective nor eligible for replacement if the customer denies the technician from carrying out the appropriate repair to the product after the defect is acknowledged by the technician\\\\n\\\\nSuccessful pick-up of the product is subject to the following conditions being met:\\\\n\\\\n *  Correct and complete product (with the original brand/product Id/undetached MRP tag/product\\'s original packaging/freebies and accessories).\\\\n *  The product should be in unused, undamaged and original condition without any scratches or dents.\\\\n *  Before returning, the device should be formatted and screen lock should be disabled. iCloud account should be unlocked for Apple devices.\\\\n\\\\nKnow more about the Return Policy <a href=\\'/pages/returnpolicy\\' target=\\'_blank\\'>here</a>\"},\"7_day_replacement\":{\"tooltip\":\"*For products requiring installation, Returns valid only when installed by Flipkart authorized personnel. \\\\n\\\\n If you have received a damaged or defective product or if it is not as described, you can raise a replacement request on the Website/App/Mobile site within 7 days of receiving the product.\\\\n\\\\n We will help you troubleshoot any issues you may have, either through online tools, over the phone, and/or through an in-person technical visit. Only one (1) replacement will be provided in the unlikely event that the product is defective. If no defect is confirmed or the issue is not diagnosed within 7 days of delivery, you will be directed to a brand service centre to resolve any subsequent issues.\\\\n\\\\n In the rare event that you receive a damaged mobile, please create a return within 48 hours of switching on the device. Returning post 48 hours may result in your return being rejected. \\\\n\\\\n Successful pick-up of the product is subject to the following conditions being met:\\\\n\\\\n * Correct and complete product (with the original brand/product Id/undetached MRP tag/product\\'s original packaging/freebies and accessories).\\\\n * The product should be in unused, undamaged and original condition without any scratches or dents.\\\\n * Before returning a Mobile/Laptop/Tablet, the device should be formatted and screen lock should be disabled. iCloud account should be unlocked for Apple devices.\\\\n\\\\nKnow more about the Return Policy <a href=\\'/pages/returnpolicy\\' target=\\'_blank\\'>here</a>\",\"tooltip_TABLE\":\"[{\\\\\"Validity\\\\\": \\\\\"7 days from delivery\\\\\",\\\\\"Covers\\\\\": \\\\\"Damaged, Defective, Item not as described\\\\\",\\\\\"Type Accepted\\\\\": \\\\\"Replacement\\\\\"}]\"},\"7_day_return\":{\"tooltip_TABLE\":\"[{\\\\\"Validity\\\\\": \\\\\"7 days from delivery\\\\\",\\\\\"Covers\\\\\": \\\\\"All Return Reasons\\\\\",\\\\\"Type Accepted\\\\\": \\\\\"Refund / Replacement\\\\\"}]\",\"tooltip\":\"\\\\n\\\\n*If there is any issues with your product, you can raise a refund, replacement or exchange request within 7 days of receiving the product.\\\\n\\\\nSuccessful pick-up of the product is subject to the following conditions being met:\\\\n\\\\n *  Correct and complete product (with the original brand, article number, undetached MRP tag, product\\'s original packaging, freebies and accessories)\\\\n *  The product should be in unused, undamaged and original condition without any stains, scratches, tears or holes and with non-tampered quality check seals/return tags/ warranty seals (wherever applicable)\\\\n\\\\nKnow more about the Return Policy <a href=\\'/pages/returnpolicy\\' target=\\'_blank\\'>here</a>\"},\"2_day_return\":{\"tooltip\":\"\\\\n\\\\n*If you have received a defective product or if it is not as described, you can return the item immediately during delivery by handing it over to the delivery executive and refund will be processed accordingly. You can also raise a request for return within 2 days of delivery.\\\\n\\\\nWe will pick up the items before initiating a refund. Successful pick-up of the product is subject to the following conditions being met:\\\\n\\\\n *  Correct and complete product free of any damages (including Freebies).\\\\n *  For items being returned on account of being different from what was ordered, please ensure the items are not opened.\\\\n\\\\nKnow more about the Return Policy <a href=\\'/pages/returnpolicy\\' target=\\'_blank\\'>here</a>\",\"tooltip_TABLE\":\"[{\\\\\"Validity\\\\\": \\\\\"2 days from delivery\\\\\",\\\\\"Covers\\\\\": \\\\\"Defective & Item not as described\\\\\",\\\\\"Type Accepted\\\\\": \\\\\"Refund\\\\\"}]\"},\"2_day_saving_pass\":{\"tooltip\":\"\\\\n\\\\n*2 days return is offered on this product. <a href=\\'/pages/returnpolicy\\' target=\\'_blank\\'>Know more</a>\"},\"2_day_digital\":{\"tooltip\":\"\\\\n\\\\nIf you have received a damaged product or if it is not as described, You can raise a request for return within 2 days of delivery.\\\\n\\\\nWe will pick up the items before initiating a refund. Successful pick-up of the product is subject to the following conditions being met:\\\\n\\\\n *  Return request should be made within 2 days of delivery\\\\n *  Product with expiry date post delivery date is not eligible for return.\\\\n *  Correct and complete product, free of any damages (including Freebies).\\\\n *  For items being returned on account of being different from what was ordered, please ensure the items are not opened.\\\\n\\\\nKnow more about the Return Policy <a href=\\'/pages/returnpolicy\\' target=\\'_blank\\'>here</a>\",\"tooltip_TABLE\":\"[{\\\\\"Validity\\\\\": \\\\\"2 days from delivery\\\\\",\\\\\"Covers\\\\\": \\\\\"Damaged,  Item not as described\\\\\",\\\\\"Type Accepted\\\\\": \\\\\"Refund\\\\\"}]\"},\"10_day_exchange\":{\"tooltip_TABLE\":\"[{\\\\\"Validity\\\\\": \\\\\"10 days from delivery\\\\\",\\\\\"Covers\\\\\": \\\\\"Size/Color/Fit issues\\\\\",\\\\\"Type Accepted\\\\\": \\\\\"Easy Exchange\\\\\"}]\",\"tooltip\":\"If there is a size or colour or fit issue with your product, you can raise an exchange request within 10 days of receiving the product. \\\\n\\\\n Successful pick-up of the product is subject to the following conditions being met:\\\\n\\\\n * Correct and complete product (with the original brand, article number, undetached MRP tag, product\\'s original packaging, freebies and accessories)\\\\n - The product should be in unused, undamaged and original condition without any stains, scratches, tears or holes\\\\n\\\\nKnow more about the Return Policy <a href=\\'/pages/returnpolicy\\' target=\\'_blank\\'>here</a>\"},\"10_day_replacement\":{\"tooltip_TABLE\":\"[{\\\\\"Validity\\\\\": \\\\\"10 days from delivery or installation (as applicable)*\\\\\",\\\\\"Covers\\\\\": \\\\\"Damaged, Defective, Item not as described\\\\\",\\\\\"Type Accepted\\\\\": \\\\\"Replacement\\\\\"}]\",\"tooltip\":\"*For products requiring installation, Returns valid only when installed by Flipkart authorized personnel. \\\\n\\\\n If you have received a damaged or defective product or if it is not as described, you can raise a replacement request on the Website/App/Mobile site within 10 days of receiving the product.\\\\n\\\\nWe will help you troubleshoot any issues you may have, either through online tools, over the phone, and/or through an in-person technical visit. Only one (1) replacement will be provided in the unlikely event that the product is defective. If no defect is confirmed or the issue is not diagnosed within 10 days of delivery, you will be directed to a brand service centre to resolve any subsequent issues.\\\\n\\\\n In the rare event that you receive a damaged mobile, please create a return within 48 hours of switching on the device. Returning post 48 hours may result in your return being rejected. \\\\n\\\\n Successful pick-up of the product is subject to the following conditions being met:\\\\n\\\\n * Correct and complete product (with the original brand/product Id/undetached MRP tag/product\\'s original packaging/freebies and accessories).\\\\n * The product should be in unused, undamaged and original condition without any scratches or dents.\\\\n * Before returning a Mobile/Laptop/Tablet, the device should be formatted and screen lock should be disabled. iCloud account should be unlocked for Apple devices.\\\\n\\\\nKnow more about the Return Policy <a href=\\'/pages/returnpolicy\\' target=\\'_blank\\'>here</a>\"},\"10_days_returns_grocery\":{\"tooltip_TABLE\":\"[{\\\\\"Validity\\\\\": \\\\\"Easy doorstep return\\\\\",\\\\\"Covers\\\\\": \\\\\"Defective & Item not as described\\\\\",\\\\\"Type Accepted\\\\\": \\\\\"Refund\\\\\"}]\",\"tooltip\":\"If you have received a defective product or if it is not as described, you can return the item immediately during delivery by handing it over to the delivery executive and refund will be processed accordingly. You can also raise a request for return within 10 days of delivery.\\\\n\\\\n We will pick up the items before initiating a refund. Successful pick-up of the product is subject to the following conditions being met: \\\\n\\\\n * Correct and complete product free of any damages (including Freebies). \\\\n * For items being returned on account of being different from what was ordered, please ensure the items are not opened.\\\\n\\\\nKnow more about the Return Policy <a href=\\'/pages/returnpolicy\\' target=\\'_blank\\'>here</a>\"},\"10_day_return\":{\"tooltip_TABLE\":\"[{\\\\\"Validity\\\\\": \\\\\"10 days from delivery\\\\\",\\\\\"Covers\\\\\": \\\\\"All Return Reasons\\\\\",\\\\\"Type Accepted\\\\\": \\\\\"Refund / Replacement\\\\\"}]\",\"tooltip\":\"If there is any issues with your product, you can raise a refund or replacement request within 10 days of receiving the product.\\\\n\\\\n Successful pick-up of the product is subject to the following conditions being met: \\\\n\\\\n * Correct and complete product (with the original brand, article number, undetached MRP tag, product\\'s original packaging, freebies and accessories) \\\\n * The product should be in unused, undamaged and original condition without any stains, scratches, tears or holes\\\\n\\\\nKnow more about the Return Policy <a href=\\'/pages/returnpolicy\\' target=\\'_blank\\'>here</a>\"},\"10_day_return_no_replacement\":{\"tooltip_TABLE\":\"[{\\\\\"Validity\\\\\": \\\\\"10 days from delivery\\\\\",\\\\\"Covers\\\\\": \\\\\"All product related issues\\\\\",\\\\\"Type Accepted\\\\\": \\\\\"Refund Only\\\\\"}]\",\"tooltip\":\"If there is any issues with your product, you can raise a refund request within 10 days of receiving the product.\\\\n\\\\n Successful pick-up of the product is subject to the following conditions being met: \\\\n\\\\n * Correct and complete product (with the original brand, article number, undetached MRP tag, product\\'s original packaging, freebies and accessories) \\\\n * The product should be in unused, undamaged and original condition without any stains, scratches, tears or holes\\\\n\\\\nKnow more about the Return Policy <a href=\\'/pages/returnpolicy\\' target=\\'_blank\\'>here</a>\"},\"10_day_replacement_service_centre_action\":{\"tooltip\":\"*Seller offers replacement only for missing items, product damaged on delivery, or wrong product delivery. \\\\n\\\\n   Brand assistance for device and other issues is subject to brand warranty guidelines and service policies. Please reach out to the nearest brand authorized service centre for more details.\\\\n\\\\nAuthorized Service Partner Locator :</br>Apple & Beats - <a href=\\'https://locate.apple.com/in/en\\' target=\\'_blank\\'>https://locate.apple.com/in/en</a></br>Google - <a href=\\'https://support.google.com/pixelphone/answer/7173456?hl=en-GB\\' target=\\'_blank\\'>https://support.google.com/pixelphone/answer/7173456?hl=en-GB</a></br>Realme - <a href=\\'https://www.realme.com/in/support/services\\' target=\\'_blank\\'>https://www.realme.com/in/support/services</a></br>Samsung - <a href=\\'https://www.samsung.com/in/support/service-center/\\' target=\\'_blank\\'>https://www.samsung.com/in/support/service-center/</a></br>\\\\n\\\\n Support Site :</br>Apple & Beats - <a href=\\'https://support.apple.com/en-in\\' target=\\'_blank\\'>https://support.apple.com/en-in</a></br>Google - <a href=\\'https://madeby.google.com/intl/en_in/phone/support/\\' target=\\'_blank\\'>https://madeby.google.com/intl/en_in/phone/support/</a></br>Realme - <a href=\\'https://www.realme.com/in/support\\' target=\\'_blank\\'>https://www.realme.com/in/support</a></br>Samsung - <a href=\\'https://www.samsung.com/in/support/\\' target=\\'_blank\\'>https://www.samsung.com/in/support/</a> \\\\n\\\\nKnow more about the Return Policy <a href=\\'/pages/returnpolicy\\' target=\\'_blank\\'>here</a>\"},\"10_day_replacement_lifestyle\":{\"tooltip_TABLE\":\"[{\\\\\"Validity\\\\\": \\\\\"10 days from delivery\\\\\",\\\\\"Covers\\\\\": \\\\\"Damaged, Defective, Item not as described\\\\\",\\\\\"Type Accepted\\\\\": \\\\\"Replacement\\\\\"}]\",\"tooltip\":\"If you have received a damaged or defective product or if it is not as described, you can raise a replacement request on the Website/App/Mobile site within 10 days of receiving the product.\\\\n\\\\n Successful pick-up of the product is subject to the following conditions being met:\\\\n\\\\n * Correct and complete product (with the original brand/product Id/undetached MRP tag/product\\'s original packaging/freebies and accessories).\\\\n * The product should be in unused, undamaged and original condition without any scratches or dents.\\\\n\\\\nKnow more about the Return Policy <a href=\\'/pages/returnpolicy\\' target=\\'_blank\\'>here</a>\"},\"10_day_try_buy\":{\"tooltip_TABLE\":\"[{\\\\\"Validity\\\\\": \\\\\"10 days from delivery\\\\\",\\\\\"Covers\\\\\": \\\\\"All Reasons\\\\\",\\\\\"Type Accepted\\\\\": \\\\\"Refund\\\\\"}]\",\"tooltip\":\"If you are not happy with the performance of the product received or if you have received a damaged or defective product or if it is not as described, you can raise a refund request on the Website/App/Mobile site within 10 days of receiving the product.\\\\n\\\\n Successful pick-up of the product is subject to the following conditions being met: \\\\n * Correct and complete product (with the original brand box and packaging, all in box contents and freebies if any).\\\\n * The product should be undamaged and in original condition without any scratches or dents.\\\\n\\\\nRefunds will be issued only if it is determined that the item was not damaged while in your possession, or is not different from what was shipped to you\\\\n\\\\nKnow more about the Return Policy <a href=\\'/pages/returnpolicy\\' target=\\'_blank\\'>here</a>\"},\"14_day_return\":{\"tooltip_TABLE\":\"[{\\\\\"Validity\\\\\": \\\\\"14 days from delivery\\\\\",\\\\\"Covers\\\\\": \\\\\"All Return Reasons\\\\\",\\\\\"Type Accepted\\\\\": \\\\\"Refund / Replacement / Exchange\\\\\"}]\",\"tooltip\":\"\\\\n\\\\n*If there is any issue with your product, you can raise a refund, replacement or exchange request within 14 days of receiving the product.\\\\n\\\\nSuccessful pick-up of the product is subject to the following conditions being met:\\\\n\\\\n *  Correct and complete product (with the original brand, article number, undetached MRP tag, product\\'s original packaging, freebies and accessories)\\\\n *  The product should be in unused, undamaged and original condition without any stains, scratches, tears or holes and with non-tampered quality check seals/return tags/ warranty seals (wherever applicable)\\\\n\\\\nKnow more about the Return Policy <a href=\\'/pages/returnpolicy\\' target=\\'_blank\\'>here</a>\"},\"15_day_return\":{\"tooltip_TABLE\":\"[{\\\\\"Validity\\\\\": \\\\\"15 days from delivery\\\\\",\\\\\"Covers\\\\\": \\\\\"All Return Reasons\\\\\",\\\\\"Type Accepted\\\\\": \\\\\"Refund / Replacement / Exchange\\\\\"}]\",\"tooltip\":\"\\\\n\\\\n*If there is any issues with your product, you can raise a refund, replacement or exchange request within 15 days of receiving the product.\\\\n\\\\nSuccessful pick-up of the product is subject to the following conditions being met:\\\\n\\\\n *  Correct and complete product (with the original brand, article number, undetached MRP tag, product\\'s original packaging, freebies and accessories)\\\\n *  The product should be in unused, undamaged and original condition without any stains, scratches, tears or holes and with non-tampered quality check seals/return tags/ warranty seals (wherever applicable)\\\\n\\\\nKnow more about the Return Policy <a href=\\'/pages/returnpolicy\\' target=\\'_blank\\'>here</a>\"},\"15_day_replacement_lifestyle\":{\"tooltip_TABLE\":\"[{\\\\\"Validity\\\\\": \\\\\"15 days from delivery\\\\\",\\\\\"Covers\\\\\": \\\\\"Damaged, Defective, Item not as described\\\\\",\\\\\"Type Accepted\\\\\": \\\\\"Replacement / Exchange\\\\\"}]\",\"tooltip\":\"\\\\n\\\\n*If you have received a damaged or defective product or if it is not as described, you can raise a replacement request on the Website/App/Mobile site within 15 days of receiving the product.\\\\n\\\\nSuccessful pick-up of the product is subject to the following conditions being met:\\\\n\\\\n *  Correct and complete product (with the original brand/product Id/undetached MRP tag/product\\'s original packaging/freebies and accessories).\\\\n *  The product should be in unused, undamaged and original condition without any scratches or dents.\\\\n\\\\nKnow more about the Return Policy <a href=\\'/pages/returnpolicy\\' target=\\'_blank\\'>here</a>\"},\"30_day_exchange\":{\"tooltip_TABLE\":\"[{\\\\\"Validity\\\\\": \\\\\"30 days from delivery\\\\\",\\\\\"Covers\\\\\": \\\\\"Size/Color/Fit issues\\\\\",\\\\\"Type Accepted\\\\\": \\\\\"Easy Exchange\\\\\"}]\",\"tooltip\":\"If there is a size, colour or fit issue with your product, you can raise an exchange request within 30 days of receiving the product.\\\\n\\\\n Successful pick-up of the product is subject to the following conditions being met: \\\\n\\\\n * Correct and complete product (with the original brand, article number, undetached MRP tag, product\\'s original packaging, freebies and accessories) \\\\n * The product should be in unused, undamaged and original condition without any stains, scratches, tears or holes\\\\n\\\\nKnow more about the Return Policy <a href=\\'/pages/returnpolicy\\' target=\\'_blank\\'>here</a>\"},\"30_day_return_lifestyle\":{\"tooltip_TABLE\":\"[{\\\\\"Validity\\\\\": \\\\\"30 days from delivery\\\\\",\\\\\"Covers\\\\\": \\\\\"All Return Reasons\\\\\",\\\\\"Type Accepted\\\\\": \\\\\"Refund / Replacement / Exchange\\\\\"}]\",\"tooltip\":\"If there is any issues with your product, you can raise a refund, replacement or exchange request within 30 days of receiving the product.\\\\n\\\\n Successful pick-up of the product is subject to the following conditions being met: \\\\n\\\\n * Correct and complete product (with the original brand, article number, undetached MRP tag, product\\'s original packaging, freebies and accessories) \\\\n * The product should be in unused, undamaged and original condition without any stains, scratches, tears or holes and with non-tampered quality check seals/return tags/ warranty seals (wherever applicable)\\\\n\\\\nKnow more about the Return Policy <a href=\\'/pages/returnpolicy\\' target=\\'_blank\\'>here</a>\"},\"10_day_returns_lifestyle\":{\"tooltip_TABLE\":\"[{\\\\\"Validity\\\\\": \\\\\"10 days from delivery\\\\\",\\\\\"Covers\\\\\": \\\\\"All Return Reasons\\\\\",\\\\\"Type Accepted\\\\\": \\\\\"Refund / Replacement / Exchange\\\\\"}]\",\"tooltip\":\"If there is any issues with your product, you can raise a refund, replacement or exchange request within 10 days of receiving the product.\\\\n\\\\n Successful pick-up of the product is subject to the following conditions being met: \\\\n\\\\n * Correct and complete product (with the original brand, article number, undetached MRP tag, product&#39;s original packaging, freebies and accessories) \\\\n * The product should be in unused, undamaged and original condition without any stains, scratches, tears or holes and with non-tampered quality check seals/return tags/ warranty seals (wherever applicable)\\\\n\\\\nKnow more about the Return Policy <a href=\\'/pages/returnpolicy\\' target=\\'_blank\\'>here</a>\"},\"30_day_return\":{\"tooltip_TABLE\":\"[{\\\\\"Validity\\\\\": \\\\\"30 days from delivery\\\\\",\\\\\"Covers\\\\\": \\\\\"All Return Reasons\\\\\",\\\\\"Type Accepted\\\\\": \\\\\"Refund / Replacement \\\\\"}]\",\"tooltip\":\"If there are any issues with your product, you can raise a refund, replacement or exchange request within 5 days of receiving the product.\\\\n\\\\n Successful pick-up of the product is subject to the following conditions being met: \\\\n\\\\n * Correct and complete product (with the original brand, article number, undetached MRP tag, product\\'s original packaging, freebies and accessories) \\\\n * The product should be in unused, undamaged and original condition without any stains, scratches, tears or holes and with non-tampered quality check seals/return tags/ warranty seals (wherever applicable)\\\\n\\\\nKnow more about the Return Policy here\"},\"30_day_replacement\":{\"tooltip_TABLE\":\"[{\\\\\"Validity\\\\\": \\\\\"30 days from delivery\\\\\",\\\\\"Covers\\\\\": \\\\\"Damaged, Defective, Item not as described\\\\\",\\\\\"Type Accepted\\\\\": \\\\\"Easy Replacement\\\\\"}]\",\"tooltip\":\"If you have received a damaged or defective product or if it is not as described, you can raise a replacement request within 30 days of receiving the product.\\\\n\\\\n Successful pick-up of the product is subject to the following conditions being met: \\\\n * Correct and complete product (with the original brand, article number, undetached MRP tag, product\\'s original packaging, freebies and accessories)\\\\n * The product should be in unused, undamaged and original condition without any stains, scratches, tears or holes\\\\n\\\\nKnow more about the Return Policy <a href=\\'/pages/returnpolicy\\' target=\\'_blank\\'>here</a>\"}}}}},\"globalConfig\":{\"deferReco\":true,\"disableRecentlyViewed\":false,\"disableReco\":false,\"disableSearch\":false,\"disableSeo\":false,\"enableCLPv4\":true,\"enableRenderableSnippets\":true,\"enableProductSummaryV2Widget\":true,\"enableSnippetsInSwatches\":true,\"enableInlineVisualWidget\":true,\"enableInlineMessageWidget\":true,\"enableProductPageServerRendering\":true,\"enableBrowsePageServerRendering\":true,\"enableHomePageServerRendering\":true,\"enableCLPServerRendering\":true,\"enableStreaming\":true,\"enableAllReviewsPageServerRendering\":true,\"enablePaymentDegrade\":false,\"enableYahooPixel\":false,\"enableCriteo\":false,\"enableFingerPrint\":true,\"skipCTARender\":false,\"enableGroceryV2Experience\":true,\"enable11x11\":false,\"enableGroceryV2Experience_test\":true,\"enableNewProductTitle\":true,\"enableStickyBasketV2\":true,\"enableMyOrdersFilters\":true,\"enableMWFrameworkForProductPage\":true,\"enableMWFrameworkForCLPPage\":true,\"enableMWFrameworkForBrowsePage\":true,\"enableOffersAsSnippets\":true,\"checkBnplMigration\":true,\"autoSuggestCacheTTLInMillis\":0,\"supportHeliosRedirection\":true,\"enableABBotTracking\":false,\"enableUPIPayment\":true,\"enableCryspIntegration\":false,\"enableWalletExperiment\":true,\"disableBrpV1\":false,\"isFdpConfigIntervalEnabled\":true,\"fdpBatchTimeInterval\":20000,\"enableABV2Changes\":false},\"newSupportHeliosFlagForTesting\":true,\"cobrandedExperience\":{\"yahoo\":{\"logo\":\"https://img1a.flixcart.com/www/promos/new/20161121-160909-yahoo-store.png\",\"class\":\"yahoo-store\",\"store-link\":\"https://in.yahoo.com/\",\"store-name\":\"Go Back to Yahoo.in\",\"tracking-name\":\"yahoocobr\",\"pixel-tracking-url\":\"https://sp.analytics.yahoo.com/spp.pl?a=10000&.yp=10021645\",\"search-pixel-url\":\"https://bat.bing.com/action/0?ti=4003414&Ver=2\"},\"airtel\":{\"logo\":\"http://img5a.flixcart.com/www/promos/new/20150618-144245-header-airtel-white.png\",\"class\":\"airtel-store\",\"store-link\":\"www.airtel.in\",\"store-name\":\"Go Back to Airtel.in\",\"tracking-name\":\"airtel-cobrand-store\"},\"axis\":{\"logo\":\"https://rukminim1.flixcart.com/www/245/50/promos/02/06/2017/4a815cb2-29f5-4c5b-a5af-a9278feb1a1b.png?q=90\",\"class\":\"axis-store\",\"store-link\":\"https://www.axisbank.com\",\"store-name\":\"Go back to Axis Bank\",\"tracking-name\":\"axiscobr\",\"footer\":\"Exclusive Store, for Axis Bank Customers!\"},\"offers\":{\"logo\":\"https://img1a.flixcart.com/www/promos/new/20150618-145909-header-smartbuy-white.png\",\"class\":\"hdfc-store \",\"store-link\":\"www.smartbuy.hdfcbank.com\",\"store-name\":\"Go Back to Smart buy\",\"tracking-name\":\"hdfc-cobrand-store\",\"footer\":\"3x Reward points or 1% cashback on your HDFC Bank cards\"},\"bhaskar\":{\"logo\":\"http://img6a.flixcart.com/www/promos/new/20150618-142842-header-logo-bhaskar.png\",\"class\":\"bhasker-store \",\"store-link\":\"www.dainikbhaskar.com\",\"store-name\":\"Go Back to Dainik Bhaskar\",\"tracking-name\":\"dainik-cobrand-store\"},\"itzcash\":{\"logo\":\"https://rukminim1.flixcart.com/www/245/50/promos/09/01/2017/c1c2c887-ba6f-4346-9bac-fd98e208bb03.png?q=90\",\"class\":\"itzcash-store\",\"store-link\":\"http://itzcash.com\",\"store-name\":\"Go Back to Itzcash-store\",\"tracking-name\":\"itzcash-cobrand-store\",\"footer\":\"Exclusive store, for Itz cash store customers!\"},\"indusind\":{\"logo\":\"https://img1a.flixcart.com/www/promos/new/20160620-133321-powered-header-indusindbank-new.png\",\"class\":\"indusind-store\",\"store-link\":\"http://indusind.store.flipkart.com/\",\"store-name\":\"Go back go indsland store\",\"tracking-name\":\"indusind-cobrand-store\",\"footer\":\"Exclusive store for Induslnd Bank customers!\"},\"yono\":{\"logo\":\"https://rukminim1.flixcart.com/www/245/50/promos/13/12/2019/2ad891cf-64df-4873-a27d-2a352a36c4e3.jpg?q=100\",\"class\":\"sbiyono-store \",\"store-link\":\"http://yono.store.flipkart.com/\",\"store-name\":\"Go Back to SBI Yono\",\"tracking-name\":\"sbiyono-cobrand-store\",\"footer\":\"Exclusive offer for SBI Yono customers - Get a Flipkart Gift Voucher worth 5% of your transaction\"}},\"supportHeliosRedirection\":true,\"MultiWidgetPageUriMatcherConfig\":{}},\"responseMeta\":{\"params\":null,\"versions\":{\"tooltip-zion-services\":\"tooltip-zion-services.device.desktop.18\",\"globalConfig\":\"globalConfig.device.desktop.383\",\"newSupportHeliosFlagForTesting\":\"newSupportHeliosFlagForTesting.newSupportHeliosFlagForTesting.3\",\"cobrandedExperience\":\"cobrandedExperience.device.desktop.33\",\"supportHeliosRedirection\":\"supportHeliosRedirection.supportHeliosRedirection.46\",\"MultiWidgetPageUriMatcherConfig\":\"{ \\\\\"device\\\\\": \\\\\"android\\\\\", \\\\\"appVersion\\\\\": \\\\\"6.3\\\\\" }.MultiWidgetPageUriMatcherConfig.1\"}}},\"deferredContent\":{},\"filters\":{\"asyncStatus\":\"INIT\"},\"gamification\":{\"bidAndWin\":{\"asyncStatus\":\"INIT\",\"timeStamp\":0,\"data\":null,\"bidModal\":null},\"bidAndWinWinners\":{\"asyncStatus\":\"INIT\",\"data\":[]}},\"giveAwayData\":{\"asyncStatus\":\"INIT\"},\"grocery\":{\"offers\":{\"listingIds\":[],\"offerData\":{}},\"marketplaceServiceability\":true,\"marketPlacePincodeReducer\":{\"widgetTitle\":\"Where do you want the delivery ?\",\"serviceable\":false,\"asyncStatus\":\"INIT\",\"widgetText\":\"Select city\"}},\"helpCentre\":{\"breadCrumbs\":[{\"title\":\"Help Centre\",\"url\":\"/helpcentre\"}],\"catalogs\":{\"asyncStatus\":\"INIT\",\"list\":[],\"selectedCatalogId\":null},\"contact\":{\"callback\":{\"asyncStatus\":\"INIT\"},\"channels\":{\"asyncStatus\":\"INIT\"},\"emailUs\":{\"asyncStatus\":\"INIT\"},\"postal\":{\"asyncStatus\":\"INIT\"}},\"faqs\":{\"asyncStatus\":\"INIT\",\"faqs\":{},\"selectedFaqId\":null,\"selectedFaqTitle\":null},\"getContext\":{\"asyncStatus\":\"INIT\",\"contextFetched\":false},\"incidents\":{\"data\":{},\"asyncStatus\":\"INIT\"},\"issueFaq\":{\"data\":{},\"asyncStatus\":\"INIT\",\"selectedIssueFaq\":null,\"parentIssue\":null},\"nonOrderIssue\":{\"asyncStatus\":\"INIT\"},\"orderIssue\":{\"currentOrderItem\":null,\"orderIssueItem\":null,\"showViewMore\":false,\"asyncStatus\":\"INIT\"},\"orderList\":{\"asyncStatus\":\"INIT\",\"orders\":{},\"pages\":0},\"search\":{\"asyncStatus\":\"INIT\"},\"selectedCatalog\":{\"asyncStatus\":\"INIT\",\"data\":{}},\"serviceTickets\":{\"incidents\":{},\"asyncStatus\":\"INIT\"},\"subCatalog\":{\"asyncStatus\":\"INIT\",\"data\":{},\"selectedSubCatalogId\":null},\"suggestion\":{\"asyncStatus\":\"INIT\"},\"viewType\":\"INIT\"},\"inAppNotifications\":{\"isFetching\":false,\"notifications\":[],\"asyncStatus\":\"INIT\"},\"infiniteMU\":{},\"layouts\":{\"asyncStatus\":\"INIT\"},\"lockInData\":{\"asyncStatus\":\"INIT\"},\"lockinTnc\":{\"asyncStatus\":\"INIT\"},\"staticPage\":{\"asyncStatus\":\"INIT\"},\"misc\":{\"hostname\":\"www.flipkart.com\",\"shouldComponentScroll\":{\"rating\":false,\"qna\":false,\"delivery\":false},\"port\":8081,\"nonce\":\"7465248350888727863\",\"anchorTagMap\":{\"atlc2\":true,\"atlssmo\":true}},\"modal\":null,\"modalActionManager\":{},\"myAccount\":{\"myReviews\":{\"myCompleteReview\":{\"asyncStatus\":\"INIT\"},\"myRecentReview\":{\"asyncStatus\":\"INIT\"},\"myReviewDelete\":{\"asyncStatus\":\"INIT\"}},\"myProfileInfo\":{\"myPersonalInfo\":{\"asyncStatus\":\"INIT\"},\"updateEmailAndMobile\":{\"asyncStatus\":\"INIT\"},\"changePassword\":{\"asyncStatus\":\"INIT\"},\"deactivateAccount\":{\"asyncStatus\":\"INIT\"}},\"myRewards\":{\"asyncStatus\":\"INIT\"},\"wallet\":{\"walletBalance\":{\"asyncStatus\":\"INIT\"},\"drawBalance\":{\"asyncStatus\":\"INIT\"},\"activatePhonePe\":{\"asyncStatus\":\"INIT\"}},\"giftcard\":{\"giftCardList\":{\"asyncStatus\":\"INIT\"},\"addGiftCard\":{\"asyncStatus\":\"INIT\"},\"checkBalance\":{\"asyncStatus\":\"INIT\"},\"buyGiftCard\":{\"asyncStatus\":\"INIT\"},\"denomination\":{\"asyncStatus\":\"INIT\"},\"updateGiftList\":{},\"sendNotification\":{\"asyncStatus\":\"INIT\"},\"getStateList\":{\"asyncStatus\":\"INIT\"},\"mailer\":{\"asyncStatus\":\"INIT\"}},\"myAddresses\":{\"asyncStatus\":\"INIT\"},\"wishlistPageData\":{\"asyncStatus\":\"INIT\",\"data\":{},\"products\":[]},\"savedCards\":{\"savedCards\":{\"asyncStatus\":\"INIT\"},\"savedCardToken\":{\"asyncStatus\":\"INIT\"}},\"savedVpas\":{\"savedVpas\":{\"asyncStatus\":\"INIT\"},\"savedVpaToken\":{\"asyncStatus\":\"INIT\"}},\"bnpl\":{\"buyNowPayLater\":{\"asyncStatus\":\"INIT\",\"data\":[]},\"bnplSummary\":{\"asyncStatus\":\"INIT\",\"data\":[]},\"bnplToken\":{\"asyncStatus\":\"INIT\",\"data\":[]},\"bnplAccountSummary\":{\"asyncStatus\":\"INIT\",\"data\":[]},\"bnplLinkedAccounts\":{\"asyncStatus\":\"INIT\"},\"bnplMigration\":{\"asyncStatus\":\"INIT\",\"data\":[]}},\"panCard\":{\"pancard\":{\"asyncStatus\":\"INIT\"},\"pancardUploaded\":{\"asyncStatus\":\"INIT\"}}},\"networkStatus\":\"ONLINE\",\"offerInfo\":{\"items\":[]},\"pageDataV4\":{\"page\":{\"asyncStatus\":\"SUCCESS\",\"data\":{\"10000\":[{\"slotType\":\"LOGICAL\",\"id\":10001,\"parentId\":10000,\"layoutParams\":{\"fixedWidth\":280,\"margin\":\"0,0,10,0\",\"orientation\":\"\",\"widgetHeight\":450,\"widgetWidth\":2},\"childArrangement\":\"STACK\"},{\"slotType\":\"LOGICAL\",\"id\":10003,\"parentId\":10000,\"layoutParams\":{\"flexibleWidth\":true,\"orientation\":\"\",\"widgetHeight\":450,\"widgetWidth\":10},\"childArrangement\":\"STACK\"}],\"10001\":[{\"slotType\":\"WIDGET\",\"id\":1,\"parentId\":10001,\"layoutParams\":{\"margin\":\"0,0,0,10\",\"orientation\":\"\",\"widgetHeight\":300,\"widgetWidth\":12},\"dataId\":\"1124001518\",\"elementId\":\"1-ANNOUNCEMENT\",\"hasWidgetDataChanged\":true,\"ttl\":3000,\"widget\":{\"type\":\"ANNOUNCEMENT\",\"widgetAttributes\":{\"backgroundDotColor\":null,\"bleedingColor\":null,\"displayItemSeparator\":false,\"displayViewAll\":false,\"elementSeparatorImage\":null,\"hideWidgetSeparator\":false,\"media\":null,\"selectedDotColor\":null,\"showShadowForComponent\":null,\"skin\":\"LIGHT\",\"skinType\":null,\"stopBleedingColor\":null,\"unselectedDotColor\":null,\"video\":null,\"viewType\":null,\"widgetBleedingColor\":null,\"widgetStopBleedingColor\":null},\"data\":{\"renderableComponents\":[{\"action\":{\"constraints\":null,\"fallback\":null,\"loginType\":\"LOGIN_NOT_REQUIRED\",\"omnitureData\":null,\"originalUrl\":\"/search?sid=6bo%2Cb5g&p%5B%5D=facets.fulfilled_by%255B%255D%3DFlipkart%2BAssured&p%5B%5D=facets.brand%255B%255D%3DLenovo\",\"params\":{\"filter\":\"filter=facets.brand%255B%255D%3DLenovo&filter=facets.fulfilled_by%255B%255D%3DFlipkart%2BAssured\",\"valid\":true,\"screenName\":\"productListView\",\"store\":\"6bo%2Fb5g\"},\"requiredPermissionType\":null,\"screenType\":\"productListView\",\"tracking\":{\"contentId\":\"9UIFLMJAK3YZ\",\"otracker\":\"browse_announcement_1_Lenovo_search.flipkart.com_9UIFLMJAK3YZ\",\"store\":\"search.flipkart.com\",\"widgetType\":\"announcement\",\"otracker1\":\"browse_announcement_SECTIONED_neo/merchandising_NA_NA_richAnnouncement_cc_1_NA_view-all\",\"findingMethod\":\"neo/merchandising\",\"impressionId\":\"M_a34ade47-0df5-4ca4-a483-0ea1f0ee37cb_4.9UIFLMJAK3YZ\",\"pageType\":\"browse\",\"widgetCategory\":\"SECTIONED\",\"contextType\":\"page\",\"title_secondary\":\"Top Deals on Laptops\",\"position\":\"1\",\"moduleId\":\"neo/merchandising\",\"contentType\":\"richAnnouncement\",\"module_position\":\"1\",\"title_primary\":\"Lenovo\"},\"type\":\"NAVIGATION\",\"url\":\"/search?sid=6bo%2Cb5g&p%5B%5D=facets.fulfilled_by%255B%255D%3DFlipkart%2BAssured&p%5B%5D=facets.brand%255B%255D%3DLenovo\",\"validationMeta\":null},\"metaData\":null,\"tracking\":{\"contentId\":\"9UIFLMJAK3YZ\",\"otracker\":\"browse_announcement_1_Lenovo_search.flipkart.com_9UIFLMJAK3YZ\",\"store\":\"search.flipkart.com\",\"widgetType\":\"announcement\",\"otracker1\":\"browse_announcement_SECTIONED_neo/merchandising_NA_NA_richAnnouncement_cc_1_NA_view-all\",\"findingMethod\":\"neo/merchandising\",\"impressionId\":\"M_a34ade47-0df5-4ca4-a483-0ea1f0ee37cb_4.9UIFLMJAK3YZ\",\"pageType\":\"browse\",\"widgetCategory\":\"SECTIONED\",\"contextType\":\"page\",\"title_secondary\":\"Top Deals on Laptops\",\"position\":\"1\",\"moduleId\":\"neo/merchandising\",\"contentType\":\"richAnnouncement\",\"module_position\":\"1\",\"title_primary\":\"Lenovo\"},\"trackingData\":null,\"value\":{\"type\":\"AnnouncementValue\",\"imageValue\":{\"type\":\"ImageValue\",\"alternateText\":\"d\",\"aspectRatio\":\"28:15\",\"dynamicImageUrl\":\"http://rukmini1.flixcart.com/flap/{@width}/{@height}/image/4bb83263c447128d.jpeg?q={@quality}\",\"edgeToEdge\":false,\"height\":0,\"source\":\"dj\",\"width\":0},\"subTitle\":\"Top Deals on Laptops\",\"title\":\"Lenovo\"}}]},\"tracking\":{\"impressionId\":\"M_a34ade47-0df5-4ca4-a483-0ea1f0ee37cb_4\",\"pageType\":\"browse\",\"widgetCategory\":\"SECTIONED\",\"contextType\":\"page\",\"otracker\":\"browse_announcement_search.flipkart.com\",\"store\":\"search.flipkart.com\",\"moduleId\":\"neo/merchandising\",\"contentType\":\"contentCollection\",\"widgetType\":\"announcement\",\"otracker1\":\"browse_announcement_SECTIONED_neo/merchandising_NA_NA_wc_view-all\",\"findingMethod\":\"neo/merchandising\",\"position\":1}}},{\"slotType\":\"LOGICAL\",\"id\":10002,\"parentId\":10001,\"layoutParams\":{\"orientation\":\"\",\"stickyScroll\":false,\"widgetHeight\":300,\"widgetWidth\":12},\"childArrangement\":\"STACK\"}],\"10002\":[{\"slotType\":\"WIDGET\",\"id\":2,\"parentId\":10002,\"layoutParams\":{\"orientation\":\"\",\"widgetHeight\":300,\"widgetWidth\":12},\"dataId\":\"-1106674291\",\"elementId\":\"2-FILTERS\",\"hasWidgetDataChanged\":true,\"ttl\":3000,\"widget\":{\"type\":\"FILTERS\",\"data\":{\"filters\":{\"type\":\"FiltersValue\",\"facetResponse\":{\"count\":737,\"facets\":[{\"id\":\"price_range\",\"metadata\":{\"isDefault\":true,\"showCount\":false,\"sub_facet_order\":\"cnc\",\"subtext\":\"\",\"prefix\":\"₹\",\"noFilter\":true,\"facetCountThreshold\":30,\"start\":\"Min Price\",\"end\":\"Max Price\"},\"values\":[{\"type\":\"range\",\"histogramValues\":[3,4,4,4,4,4,4],\"resource\":{\"params\":\"facets.price_range.from=Min,facets.price_range.to=Max\",\"selected\":false},\"selectedRange\":{\"from\":{\"displayValue\":\"Min\",\"key\":\"Min\"},\"to\":{\"displayValue\":\"₹75000+\",\"key\":\"Max\"}},\"values\":[{\"displayValue\":\"Min\",\"key\":\"Min\"},{\"displayValue\":\"₹20000\",\"key\":\"20000\"},{\"displayValue\":\"₹30000\",\"key\":\"30000\"},{\"displayValue\":\"₹40000\",\"key\":\"40000\"},{\"displayValue\":\"₹50000\",\"key\":\"50000\"},{\"displayValue\":\"₹60000\",\"key\":\"60000\"},{\"displayValue\":\"₹75000\",\"key\":\"75000\"},{\"displayValue\":\"₹75000+\",\"key\":\"Max\"}]}]},{\"type\":\"scrollableView\",\"id\":\"fulfilled_by\",\"metadata\":{\"showCount\":false,\"isDefault\":true,\"subtext\":\"\",\"showTitle\":false,\"showToolTip\":true,\"facetCountThreshold\":30,\"nested\":false},\"title\":\"F-Assured\",\"values\":[{\"type\":\"checkbox\",\"id\":\"alphabetical\",\"values\":[{\"childCategory\":false,\"count\":4,\"highlighted\":false,\"leafNode\":false,\"parentCategory\":false,\"resource\":{\"params\":\"facets.fulfilled_by%5B%5D=Flipkart+Assured\",\"selected\":false},\"selectedCount\":0,\"title\":\"Flipkart Assured\"}]}]},{\"type\":\"scrollableView\",\"id\":\"processor\",\"metadata\":{\"isDefault\":true,\"showCount\":false,\"subtext\":\"\",\"fieldName\":\"processor\",\"facetCountThreshold\":30,\"nested\":true},\"title\":\"Processor\",\"values\":[{\"type\":\"checkbox\",\"id\":\"popularity\",\"title\":\"Popular\",\"values\":[{\"childCategory\":false,\"count\":288,\"highlighted\":false,\"leafNode\":false,\"parentCategory\":false,\"resource\":{\"params\":\"facets.processor%5B%5D=Core+i5\",\"selected\":false},\"selectedCount\":0,\"title\":\"Core i5\"},{\"childCategory\":false,\"count\":109,\"highlighted\":false,\"leafNode\":false,\"parentCategory\":false,\"resource\":{\"params\":\"facets.processor%5B%5D=Core+i3\",\"selected\":false},\"selectedCount\":0,\"title\":\"Core i3\"},{\"childCategory\":false,\"count\":153,\"highlighted\":false,\"leafNode\":false,\"parentCategory\":false,\"resource\":{\"params\":\"facets.processor%5B%5D=Core+i7\",\"selected\":false},\"selectedCount\":0,\"title\":\"Core i7\"},{\"childCategory\":false,\"count\":3,\"highlighted\":false,\"leafNode\":false,\"parentCategory\":false,\"resource\":{\"params\":\"facets.processor%5B%5D=Ryzen+7+Quad+Core\",\"selected\":false},\"selectedCount\":0,\"title\":\"Ryzen 7 Quad Core\"},{\"childCategory\":false,\"count\":35,\"highlighted\":false,\"leafNode\":false,\"parentCategory\":false,\"resource\":{\"params\":\"facets.processor%5B%5D=Ryzen+5+Quad+Core\",\"selected\":false},\"selectedCount\":0,\"title\":\"Ryzen 5 Quad Core\"},{\"childCategory\":false,\"count\":13,\"highlighted\":false,\"leafNode\":false,\"parentCategory\":false,\"resource\":{\"params\":\"facets.processor%5B%5D=Core+i9\",\"selected\":false},\"selectedCount\":0,\"title\":\"Core i9\"},{\"childCategory\":false,\"count\":32,\"highlighted\":false,\"leafNode\":false,\"parentCategory\":false,\"resource\":{\"params\":\"facets.processor%5B%5D=Ryzen+5+Hexa+Core\",\"selected\":false},\"selectedCount\":0,\"title\":\"Ryzen 5 Hexa Core\"},{\"childCategory\":false,\"count\":26,\"highlighted\":false,\"leafNode\":false,\"parentCategory\":false,\"resource\":{\"params\":\"facets.processor%5B%5D=Ryzen+7+Octa+Core\",\"selected\":false},\"selectedCount\":0,\"title\":\"Ryzen 7 Octa Core\"},{\"childCategory\":false,\"count\":9,\"highlighted\":false,\"leafNode\":false,\"parentCategory\":false,\"resource\":{\"params\":\"facets.processor%5B%5D=M1\",\"selected\":false},\"selectedCount\":0,\"title\":\"M1\"},{\"childCategory\":false,\"count\":19,\"highlighted\":false,\"leafNode\":false,\"parentCategory\":false,\"resource\":{\"params\":\"facets.processor%5B%5D=Ryzen+3+Dual+Core\",\"selected\":false},\"selectedCount\":0,\"title\":\"Ryzen 3 Dual Core\"}]},{\"type\":\"checkbox\",\"id\":\"alphabetical\",\"title\":\"Rest all\",\"values\":[{\"childCategory\":false,\"count\":2,\"highlighted\":false,\"leafNode\":false,\"parentCategory\":false,\"resource\":{\"params\":\"facets.processor%5B%5D=APU+Dual+Core+A6\",\"selected\":false},\"selectedCount\":0,\"title\":\"APU Dual Core A6\"},{\"childCategory\":false,\"count\":2,\"highlighted\":false,\"leafNode\":false,\"parentCategory\":false,\"resource\":{\"params\":\"facets.processor%5B%5D=APU+Dual+Core+A9\",\"selected\":false},\"selectedCount\":0,\"title\":\"APU Dual Core A9\"},{\"childCategory\":false,\"count\":6,\"highlighted\":false,\"leafNode\":false,\"parentCategory\":false,\"resource\":{\"params\":\"facets.processor%5B%5D=Athlon+Dual+Core\",\"selected\":false},\"selectedCount\":0,\"title\":\"Athlon Dual Core\"},{\"childCategory\":false,\"count\":1,\"highlighted\":false,\"leafNode\":false,\"parentCategory\":false,\"resource\":{\"params\":\"facets.processor%5B%5D=Atom\",\"selected\":false},\"selectedCount\":0,\"title\":\"Atom\"},{\"childCategory\":false,\"count\":14,\"highlighted\":false,\"leafNode\":false,\"parentCategory\":false,\"resource\":{\"params\":\"facets.processor%5B%5D=Celeron+Dual+Core\",\"selected\":false},\"selectedCount\":0,\"title\":\"Celeron Dual Core\"},{\"childCategory\":false,\"count\":1,\"highlighted\":false,\"leafNode\":false,\"parentCategory\":false,\"resource\":{\"params\":\"facets.processor%5B%5D=Core+m3\",\"selected\":false},\"selectedCount\":0,\"title\":\"Core m3\"},{\"childCategory\":false,\"count\":1,\"highlighted\":false,\"leafNode\":false,\"parentCategory\":false,\"resource\":{\"params\":\"facets.processor%5B%5D=Dual+Core\",\"selected\":false},\"selectedCount\":0,\"title\":\"Dual Core\"},{\"childCategory\":false,\"count\":1,\"highlighted\":false,\"leafNode\":false,\"parentCategory\":false,\"resource\":{\"params\":\"facets.processor%5B%5D=Pentium+Dual+Core\",\"selected\":false},\"selectedCount\":0,\"title\":\"Pentium Dual Core\"},{\"childCategory\":false,\"count\":3,\"highlighted\":false,\"leafNode\":false,\"parentCategory\":false,\"resource\":{\"params\":\"facets.processor%5B%5D=Pentium+Gold\",\"selected\":false},\"selectedCount\":0,\"title\":\"Pentium Gold\"},{\"childCategory\":false,\"count\":5,\"highlighted\":false,\"leafNode\":false,\"parentCategory\":false,\"resource\":{\"params\":\"facets.processor%5B%5D=Pentium+Quad+Core\",\"selected\":false},\"selectedCount\":0,\"title\":\"Pentium Quad Core\"},{\"childCategory\":false,\"count\":4,\"highlighted\":false,\"leafNode\":false,\"parentCategory\":false,\"resource\":{\"params\":\"facets.processor%5B%5D=Ryzen+3+Quad+Core\",\"selected\":false},\"selectedCount\":0,\"title\":\"Ryzen 3 Quad Core\"},{\"childCategory\":false,\"count\":2,\"highlighted\":false,\"leafNode\":false,\"parentCategory\":false,\"resource\":{\"params\":\"facets.processor%5B%5D=Ryzen+5+Dual+Core\",\"selected\":false},\"selectedCount\":0,\"title\":\"Ryzen 5 Dual Core\"},{\"childCategory\":false,\"count\":1,\"highlighted\":false,\"leafNode\":false,\"parentCategory\":false,\"resource\":{\"params\":\"facets.processor%5B%5D=Ryzen+7+Hexa+Core\",\"selected\":false},\"selectedCount\":0,\"title\":\"Ryzen 7 Hexa Core\"},{\"childCategory\":false,\"count\":6,\"highlighted\":false,\"leafNode\":false,\"parentCategory\":false,\"resource\":{\"params\":\"facets.processor%5B%5D=Ryzen+9+Octa+Core\",\"selected\":false},\"selectedCount\":0,\"title\":\"Ryzen 9 Octa Core\"},{\"childCategory\":false,\"count\":1,\"highlighted\":false,\"leafNode\":false,\"parentCategory\":false,\"resource\":{\"params\":\"facets.processor%5B%5D=SQ1+Octa+Core\",\"selected\":false},\"selectedCount\":0,\"title\":\"SQ1 Octa Core\"}]}]},{\"type\":\"scrollableView\",\"id\":\"brand\",\"metadata\":{\"multiselect\":\"true\",\"isDefault\":true,\"showCount\":false,\"subtext\":\"\",\"fieldName\":\"brand\",\"DisplayTitle\":\"Explore our various best selling brands?\",\"sort\":true,\"isSearchable\":true,\"facetCountThreshold\":30,\"nested\":true},\"title\":\"Brand\",\"values\":[{\"type\":\"checkbox\",\"id\":\"popularity\",\"title\":\"Popular\",\"values\":[{\"childCategory\":false,\"count\":143,\"highlighted\":false,\"leafNode\":false,\"parentCategory\":false,\"resource\":{\"params\":\"facets.brand%5B%5D=HP\",\"selected\":false},\"selectedCount\":0,\"title\":\"HP\"},{\"childCategory\":false,\"count\":5,\"highlighted\":false,\"leafNode\":false,\"parentCategory\":false,\"resource\":{\"params\":\"facets.brand%5B%5D=Vaio\",\"selected\":false},\"selectedCount\":0,\"title\":\"Vaio\"},{\"childCategory\":false,\"count\":122,\"highlighted\":false,\"leafNode\":false,\"parentCategory\":false,\"resource\":{\"params\":\"facets.brand%5B%5D=Lenovo\",\"selected\":false},\"selectedCount\":0,\"title\":\"Lenovo\"},{\"childCategory\":false,\"count\":1,\"highlighted\":false,\"leafNode\":false,\"parentCategory\":false,\"resource\":{\"params\":\"facets.brand%5B%5D=Nokia\",\"selected\":false},\"selectedCount\":0,\"title\":\"Nokia\"},{\"childCategory\":false,\"count\":4,\"highlighted\":false,\"leafNode\":false,\"parentCategory\":false,\"resource\":{\"params\":\"facets.brand%5B%5D=Mi\",\"selected\":false},\"selectedCount\":0,\"title\":\"Mi\"},{\"childCategory\":false,\"count\":40,\"highlighted\":false,\"leafNode\":false,\"parentCategory\":false,\"resource\":{\"params\":\"facets.brand%5B%5D=MSI\",\"selected\":false},\"selectedCount\":0,\"title\":\"MSI\"}]},{\"type\":\"checkbox\",\"id\":\"alphabetical\",\"title\":\"Rest all\",\"values\":[{\"childCategory\":false,\"count\":52,\"highlighted\":false,\"leafNode\":false,\"parentCategory\":false,\"resource\":{\"params\":\"facets.brand%5B%5D=acer\",\"selected\":false},\"selectedCount\":0,\"title\":\"acer\"},{\"childCategory\":false,\"count\":3,\"highlighted\":false,\"leafNode\":false,\"parentCategory\":false,\"resource\":{\"params\":\"facets.brand%5B%5D=AGB\",\"selected\":false},\"selectedCount\":0,\"title\":\"AGB\"},{\"childCategory\":false,\"count\":6,\"highlighted\":false,\"leafNode\":false,\"parentCategory\":false,\"resource\":{\"params\":\"facets.brand%5B%5D=ALIENWARE\",\"selected\":false},\"selectedCount\":0,\"title\":\"ALIENWARE\"},{\"childCategory\":false,\"count\":29,\"highlighted\":false,\"leafNode\":false,\"parentCategory\":false,\"resource\":{\"params\":\"facets.brand%5B%5D=APPLE\",\"selected\":false},\"selectedCount\":0,\"title\":\"APPLE\"},{\"childCategory\":false,\"count\":212,\"highlighted\":false,\"leafNode\":false,\"parentCategory\":false,\"resource\":{\"params\":\"facets.brand%5B%5D=ASUS\",\"selected\":false},\"selectedCount\":0,\"title\":\"ASUS\"},{\"childCategory\":false,\"count\":22,\"highlighted\":false,\"leafNode\":false,\"parentCategory\":false,\"resource\":{\"params\":\"facets.brand%5B%5D=Avita\",\"selected\":false},\"selectedCount\":0,\"title\":\"Avita\"},{\"childCategory\":false,\"count\":82,\"highlighted\":false,\"leafNode\":false,\"parentCategory\":false,\"resource\":{\"params\":\"facets.brand%5B%5D=DELL\",\"selected\":false},\"selectedCount\":0,\"title\":\"DELL\"},{\"childCategory\":false,\"count\":1,\"highlighted\":false,\"leafNode\":false,\"parentCategory\":false,\"resource\":{\"params\":\"facets.brand%5B%5D=iBall\",\"selected\":false},\"selectedCount\":0,\"title\":\"iBall\"},{\"childCategory\":false,\"count\":1,\"highlighted\":false,\"leafNode\":false,\"parentCategory\":false,\"resource\":{\"params\":\"facets.brand%5B%5D=LAVA\",\"selected\":false},\"selectedCount\":0,\"title\":\"LAVA\"},{\"childCategory\":false,\"count\":3,\"highlighted\":false,\"leafNode\":false,\"parentCategory\":false,\"resource\":{\"params\":\"facets.brand%5B%5D=LG\",\"selected\":false},\"selectedCount\":0,\"title\":\"LG\"},{\"childCategory\":false,\"count\":6,\"highlighted\":false,\"leafNode\":false,\"parentCategory\":false,\"resource\":{\"params\":\"facets.brand%5B%5D=MICROSOFT\",\"selected\":false},\"selectedCount\":0,\"title\":\"MICROSOFT\"},{\"childCategory\":false,\"count\":2,\"highlighted\":false,\"leafNode\":false,\"parentCategory\":false,\"resource\":{\"params\":\"facets.brand%5B%5D=Nexstgo\",\"selected\":false},\"selectedCount\":0,\"title\":\"Nexstgo\"},{\"childCategory\":false,\"count\":3,\"highlighted\":false,\"leafNode\":false,\"parentCategory\":false,\"resource\":{\"params\":\"facets.brand%5B%5D=Smartron\",\"selected\":false},\"selectedCount\":0,\"title\":\"Smartron\"}]}]},{\"type\":\"scrollableView\",\"id\":\"screen_size\",\"metadata\":{\"showCount\":false,\"subtext\":\"\",\"fieldName\":\"screen_size\",\"facetCountThreshold\":30,\"nested\":true},\"title\":\"Screen Size\",\"values\":[{\"type\":\"checkbox\",\"id\":\"popularity\",\"values\":[{\"childCategory\":false,\"count\":346,\"highlighted\":false,\"leafNode\":false,\"parentCategory\":false,\"resource\":{\"params\":\"facets.screen_size%5B%5D=15+inch+-+15.9+inch\",\"selected\":false},\"selectedCount\":0,\"title\":\"15 inch - 15.9 inch\"},{\"childCategory\":false,\"count\":256,\"highlighted\":false,\"leafNode\":false,\"parentCategory\":false,\"resource\":{\"params\":\"facets.screen_size%5B%5D=14+inch+-+14.9+inch\",\"selected\":false},\"selectedCount\":0,\"title\":\"14 inch - 14.9 inch\"},{\"childCategory\":false,\"count\":20,\"highlighted\":false,\"leafNode\":false,\"parentCategory\":false,\"resource\":{\"params\":\"facets.screen_size%5B%5D=16+inch+-+17.9+inch\",\"selected\":false},\"selectedCount\":0,\"title\":\"16 inch - 17.9 inch\"},{\"childCategory\":false,\"count\":103,\"highlighted\":false,\"leafNode\":false,\"parentCategory\":false,\"resource\":{\"params\":\"facets.screen_size%5B%5D=13+inch+-+13.9+inch\",\"selected\":false},\"selectedCount\":0,\"title\":\"13 inch - 13.9 inch\"},{\"childCategory\":false,\"count\":7,\"highlighted\":false,\"leafNode\":false,\"parentCategory\":false,\"resource\":{\"params\":\"facets.screen_size%5B%5D=12+inch+-+12.9+inch\",\"selected\":false},\"selectedCount\":0,\"title\":\"12 inch - 12.9 inch\"},{\"childCategory\":false,\"count\":5,\"highlighted\":false,\"leafNode\":false,\"parentCategory\":false,\"resource\":{\"params\":\"facets.screen_size%5B%5D=Below+12+inch\",\"selected\":false},\"selectedCount\":0,\"title\":\"Below 12 inch\"}]}]},{\"type\":\"scrollableView\",\"id\":\"operating_system\",\"metadata\":{\"isDefault\":false,\"showCount\":false,\"subtext\":\"\",\"fieldName\":\"operating_system\",\"DisplayTitle\":\"Which Operating System are you looking for?\",\"facetCountThreshold\":30,\"nested\":true},\"title\":\"Operating System\",\"values\":[{\"type\":\"checkbox\",\"id\":\"popularity\",\"values\":[{\"childCategory\":false,\"count\":681,\"highlighted\":false,\"leafNode\":false,\"parentCategory\":false,\"resource\":{\"params\":\"facets.operating_system%5B%5D=Windows+10\",\"selected\":false},\"selectedCount\":0,\"title\":\"Windows 10\"},{\"childCategory\":false,\"count\":29,\"highlighted\":false,\"leafNode\":false,\"parentCategory\":false,\"resource\":{\"params\":\"facets.operating_system%5B%5D=Mac+OS\",\"selected\":false},\"selectedCount\":0,\"title\":\"Mac OS\"},{\"childCategory\":false,\"count\":16,\"highlighted\":false,\"leafNode\":false,\"parentCategory\":false,\"resource\":{\"params\":\"facets.operating_system%5B%5D=DOS\",\"selected\":false},\"selectedCount\":0,\"title\":\"DOS\"},{\"childCategory\":false,\"count\":1,\"highlighted\":false,\"leafNode\":false,\"parentCategory\":false,\"resource\":{\"params\":\"facets.operating_system%5B%5D=Linux%2FUbuntu\",\"selected\":false},\"selectedCount\":0,\"title\":\"Linux/Ubuntu\"},{\"childCategory\":false,\"count\":2,\"highlighted\":false,\"leafNode\":false,\"parentCategory\":false,\"resource\":{\"params\":\"facets.operating_system%5B%5D=Windows+8\",\"selected\":false},\"selectedCount\":0,\"title\":\"Windows 8\"},{\"childCategory\":false,\"count\":8,\"highlighted\":false,\"leafNode\":false,\"parentCategory\":false,\"resource\":{\"params\":\"facets.operating_system%5B%5D=Chrome\",\"selected\":false},\"selectedCount\":0,\"title\":\"Chrome\"}]}]},{\"type\":\"scrollableView\",\"id\":\"dedicated_graphics_memory\",\"metadata\":{\"showCount\":false,\"subtext\":\"\",\"fieldName\":\"dedicated_graphic_memory_capacity\",\"facetCountThreshold\":30,\"nested\":true},\"title\":\"Dedicated Graphics Memory\",\"values\":[{\"type\":\"checkbox\",\"id\":\"popularity\",\"values\":[{\"childCategory\":false,\"count\":111,\"highlighted\":false,\"leafNode\":false,\"parentCategory\":false,\"resource\":{\"params\":\"facets.dedicated_graphics_memory%5B%5D=4+GB\",\"selected\":false},\"selectedCount\":0,\"title\":\"4 GB\"},{\"childCategory\":false,\"count\":472,\"highlighted\":false,\"leafNode\":false,\"parentCategory\":false,\"resource\":{\"params\":\"facets.dedicated_graphics_memory%5B%5D=Integrated+Graphics+Card\",\"selected\":false},\"selectedCount\":0,\"title\":\"Integrated Graphics Card\"},{\"childCategory\":false,\"count\":38,\"highlighted\":false,\"leafNode\":false,\"parentCategory\":false,\"resource\":{\"params\":\"facets.dedicated_graphics_memory%5B%5D=6+GB\",\"selected\":false},\"selectedCount\":0,\"title\":\"6 GB\"},{\"childCategory\":false,\"count\":86,\"highlighted\":false,\"leafNode\":false,\"parentCategory\":false,\"resource\":{\"params\":\"facets.dedicated_graphics_memory%5B%5D=2+GB\",\"selected\":false},\"selectedCount\":0,\"title\":\"2 GB\"},{\"childCategory\":false,\"count\":28,\"highlighted\":false,\"leafNode\":false,\"parentCategory\":false,\"resource\":{\"params\":\"facets.dedicated_graphics_memory%5B%5D=8+GB\",\"selected\":false},\"selectedCount\":0,\"title\":\"8 GB\"},{\"childCategory\":false,\"count\":1,\"highlighted\":false,\"leafNode\":false,\"parentCategory\":false,\"resource\":{\"params\":\"facets.dedicated_graphics_memory%5B%5D=16+GB\",\"selected\":false},\"selectedCount\":0,\"title\":\"16 GB\"},{\"childCategory\":false,\"count\":1,\"highlighted\":false,\"leafNode\":false,\"parentCategory\":false,\"resource\":{\"params\":\"facets.dedicated_graphics_memory%5B%5D=3+GB\",\"selected\":false},\"selectedCount\":0,\"title\":\"3 GB\"}]}]},{\"type\":\"scrollableView\",\"id\":\"hard_disk_capacity\",\"metadata\":{\"showCount\":false,\"subtext\":\"\",\"fieldName\":\"hdd_capacity\",\"facetCountThreshold\":30,\"nested\":true},\"title\":\"Hard Disk Capacity\",\"values\":[{\"type\":\"checkbox\",\"id\":\"popularity\",\"values\":[{\"childCategory\":false,\"count\":238,\"highlighted\":false,\"leafNode\":false,\"parentCategory\":false,\"resource\":{\"params\":\"facets.hard_disk_capacity%5B%5D=1+TB\",\"selected\":false},\"selectedCount\":0,\"title\":\"1 TB\"},{\"childCategory\":false,\"count\":1,\"highlighted\":false,\"leafNode\":false,\"parentCategory\":false,\"resource\":{\"params\":\"facets.hard_disk_capacity%5B%5D=32+GB\",\"selected\":false},\"selectedCount\":0,\"title\":\"32 GB\"},{\"childCategory\":false,\"count\":2,\"highlighted\":false,\"leafNode\":false,\"parentCategory\":false,\"resource\":{\"params\":\"facets.hard_disk_capacity%5B%5D=2+TB\",\"selected\":false},\"selectedCount\":0,\"title\":\"2 TB\"},{\"childCategory\":false,\"count\":2,\"highlighted\":false,\"leafNode\":false,\"parentCategory\":false,\"resource\":{\"params\":\"facets.hard_disk_capacity%5B%5D=500+GB\",\"selected\":false},\"selectedCount\":0,\"title\":\"500 GB\"},{\"childCategory\":false,\"count\":2,\"highlighted\":false,\"leafNode\":false,\"parentCategory\":false,\"resource\":{\"params\":\"facets.hard_disk_capacity%5B%5D=512+GB\",\"selected\":false},\"selectedCount\":0,\"title\":\"512 GB\"}]}]},{\"type\":\"scrollableView\",\"id\":\"type\",\"metadata\":{\"showCount\":false,\"subtext\":\"\",\"fieldName\":\"type\",\"sort\":true,\"facetCountThreshold\":30,\"nested\":true},\"title\":\"Type\",\"values\":[{\"type\":\"checkbox\",\"id\":\"popularity\",\"values\":[{\"childCategory\":false,\"count\":153,\"highlighted\":false,\"leafNode\":false,\"parentCategory\":false,\"resource\":{\"params\":\"facets.type%5B%5D=Gaming+Laptop\",\"selected\":false},\"selectedCount\":0,\"title\":\"Gaming Laptop\"},{\"childCategory\":false,\"count\":331,\"highlighted\":false,\"leafNode\":false,\"parentCategory\":false,\"resource\":{\"params\":\"facets.type%5B%5D=Thin+and+Light+Laptop\",\"selected\":false},\"selectedCount\":0,\"title\":\"Thin and Light Laptop\"},{\"childCategory\":false,\"count\":66,\"highlighted\":false,\"leafNode\":false,\"parentCategory\":false,\"resource\":{\"params\":\"facets.type%5B%5D=2+in+1+Laptop\",\"selected\":false},\"selectedCount\":0,\"title\":\"2 in 1 Laptop\"},{\"childCategory\":false,\"count\":166,\"highlighted\":false,\"leafNode\":false,\"parentCategory\":false,\"resource\":{\"params\":\"facets.type%5B%5D=Laptop\",\"selected\":false},\"selectedCount\":0,\"title\":\"Laptop\"},{\"childCategory\":false,\"count\":5,\"highlighted\":false,\"leafNode\":false,\"parentCategory\":false,\"resource\":{\"params\":\"facets.type%5B%5D=Business+Laptop\",\"selected\":false},\"selectedCount\":0,\"title\":\"Business Laptop\"},{\"childCategory\":false,\"count\":5,\"highlighted\":false,\"leafNode\":false,\"parentCategory\":false,\"resource\":{\"params\":\"facets.type%5B%5D=Chromebook\",\"selected\":false},\"selectedCount\":0,\"title\":\"Chromebook\"},{\"childCategory\":false,\"count\":11,\"highlighted\":false,\"leafNode\":false,\"parentCategory\":false,\"resource\":{\"params\":\"facets.type%5B%5D=Notebook\",\"selected\":false},\"selectedCount\":0,\"title\":\"Notebook\"}]}]},{\"type\":\"scrollableView\",\"id\":\"processor_brand\",\"metadata\":{\"showCount\":false,\"subtext\":\"\",\"fieldName\":\"processor_brand\",\"facetCountThreshold\":30,\"nested\":true},\"title\":\"Processor Brand\",\"values\":[{\"type\":\"checkbox\",\"id\":\"popularity\",\"values\":[{\"childCategory\":false,\"count\":140,\"highlighted\":false,\"leafNode\":false,\"parentCategory\":false,\"resource\":{\"params\":\"facets.processor_brand%5B%5D=AMD\",\"selected\":false},\"selectedCount\":0,\"title\":\"AMD\"},{\"childCategory\":false,\"count\":586,\"highlighted\":false,\"leafNode\":false,\"parentCategory\":false,\"resource\":{\"params\":\"facets.processor_brand%5B%5D=Intel\",\"selected\":false},\"selectedCount\":0,\"title\":\"Intel\"},{\"childCategory\":false,\"count\":2,\"highlighted\":false,\"leafNode\":false,\"parentCategory\":false,\"resource\":{\"params\":\"facets.processor_brand%5B%5D=Microsoft\",\"selected\":false},\"selectedCount\":0,\"title\":\"Microsoft\"},{\"childCategory\":false,\"count\":9,\"highlighted\":false,\"leafNode\":false,\"parentCategory\":false,\"resource\":{\"params\":\"facets.processor_brand%5B%5D=Apple\",\"selected\":false},\"selectedCount\":0,\"title\":\"Apple\"}]}]},{\"type\":\"scrollableView\",\"id\":\"discount_range_v1\",\"metadata\":{\"showCount\":false,\"subtext\":\"\",\"noFilter\":true,\"facetCountThreshold\":30,\"nested\":false},\"title\":\"Discount\",\"values\":[{\"type\":\"checkbox\",\"id\":\"fixed\",\"values\":[{\"childCategory\":false,\"count\":4,\"highlighted\":false,\"leafNode\":false,\"parentCategory\":false,\"resource\":{\"params\":\"facets.discount_range_v1%5B%5D=40%25+or+more\",\"selected\":false},\"selectedCount\":0,\"title\":\"40% or more\"},{\"childCategory\":false,\"count\":4,\"highlighted\":false,\"leafNode\":false,\"parentCategory\":false,\"resource\":{\"params\":\"facets.discount_range_v1%5B%5D=30%25+or+more\",\"selected\":false},\"selectedCount\":0,\"title\":\"30% or more\"},{\"childCategory\":false,\"count\":4,\"highlighted\":false,\"leafNode\":false,\"parentCategory\":false,\"resource\":{\"params\":\"facets.discount_range_v1%5B%5D=20%25+or+more\",\"selected\":false},\"selectedCount\":0,\"title\":\"20% or more\"},{\"childCategory\":false,\"count\":4,\"highlighted\":false,\"leafNode\":false,\"parentCategory\":false,\"resource\":{\"params\":\"facets.discount_range_v1%5B%5D=10%25+or+more\",\"selected\":false},\"selectedCount\":0,\"title\":\"10% or more\"},{\"childCategory\":false,\"count\":4,\"highlighted\":false,\"leafNode\":false,\"parentCategory\":false,\"resource\":{\"params\":\"facets.discount_range_v1%5B%5D=10%25+and+below\",\"selected\":false},\"selectedCount\":0,\"title\":\"10% and below\"},{\"childCategory\":false,\"count\":0,\"highlighted\":false,\"leafNode\":false,\"parentCategory\":false,\"resource\":{\"params\":\"facets.discount_range_v1%5B%5D=50%25+or+more\",\"selected\":false},\"selectedCount\":0,\"title\":\"50% or more\"}]}]},{\"type\":\"scrollableView\",\"id\":\"graphic_processor_name\",\"metadata\":{\"showCount\":false,\"subtext\":\"\",\"fieldName\":\"graphic_processor_name\",\"facetCountThreshold\":30,\"nested\":true},\"title\":\"Graphic Processor Name\",\"values\":[{\"type\":\"checkbox\",\"id\":\"popularity\",\"values\":[{\"childCategory\":false,\"count\":364,\"highlighted\":false,\"leafNode\":false,\"parentCategory\":false,\"resource\":{\"params\":\"facets.graphic_processor_name%5B%5D=Intel+Integrated\",\"selected\":false},\"selectedCount\":0,\"title\":\"Intel Integrated\"},{\"childCategory\":false,\"count\":114,\"highlighted\":false,\"leafNode\":false,\"parentCategory\":false,\"resource\":{\"params\":\"facets.graphic_processor_name%5B%5D=AMD+Radeon\",\"selected\":false},\"selectedCount\":0,\"title\":\"AMD Radeon\"},{\"childCategory\":false,\"count\":48,\"highlighted\":false,\"leafNode\":false,\"parentCategory\":false,\"resource\":{\"params\":\"facets.graphic_processor_name%5B%5D=NVIDIA+GeForce+RTX\",\"selected\":false},\"selectedCount\":0,\"title\":\"NVIDIA GeForce RTX\"},{\"childCategory\":false,\"count\":1,\"highlighted\":false,\"leafNode\":false,\"parentCategory\":false,\"resource\":{\"params\":\"facets.graphic_processor_name%5B%5D=Qualcomm\",\"selected\":false},\"selectedCount\":0,\"title\":\"Qualcomm\"},{\"childCategory\":false,\"count\":2,\"highlighted\":false,\"leafNode\":false,\"parentCategory\":false,\"resource\":{\"params\":\"facets.graphic_processor_name%5B%5D=NVIDIA+Geforce\",\"selected\":false},\"selectedCount\":0,\"title\":\"NVIDIA Geforce\"},{\"childCategory\":false,\"count\":2,\"highlighted\":false,\"leafNode\":false,\"parentCategory\":false,\"resource\":{\"params\":\"facets.graphic_processor_name%5B%5D=NVIDIA+Quadro\",\"selected\":false},\"selectedCount\":0,\"title\":\"NVIDIA Quadro\"},{\"childCategory\":false,\"count\":14,\"highlighted\":false,\"leafNode\":false,\"parentCategory\":false,\"resource\":{\"params\":\"facets.graphic_processor_name%5B%5D=NA\",\"selected\":false},\"selectedCount\":0,\"title\":\"NA\"},{\"childCategory\":false,\"count\":82,\"highlighted\":false,\"leafNode\":false,\"parentCategory\":false,\"resource\":{\"params\":\"facets.graphic_processor_name%5B%5D=NVIDIA+GeForce\",\"selected\":false},\"selectedCount\":0,\"title\":\"NVIDIA GeForce\"},{\"childCategory\":false,\"count\":110,\"highlighted\":false,\"leafNode\":false,\"parentCategory\":false,\"resource\":{\"params\":\"facets.graphic_processor_name%5B%5D=NVIDIA+GeForce+GTX\",\"selected\":false},\"selectedCount\":0,\"title\":\"NVIDIA GeForce GTX\"}]}]},{\"type\":\"scrollableView\",\"id\":\"touch_screen\",\"metadata\":{\"showCount\":false,\"subtext\":\"\",\"fieldName\":\"touchscreen\",\"facetCountThreshold\":30,\"nested\":true},\"title\":\"Touch Screen\",\"values\":[{\"type\":\"checkbox\",\"id\":\"popularity\",\"values\":[{\"childCategory\":false,\"count\":104,\"highlighted\":false,\"leafNode\":false,\"parentCategory\":false,\"resource\":{\"params\":\"facets.touch_screen%5B%5D=Yes\",\"selected\":false},\"selectedCount\":0,\"title\":\"Yes\"},{\"childCategory\":false,\"count\":633,\"highlighted\":false,\"leafNode\":false,\"parentCategory\":false,\"resource\":{\"params\":\"facets.touch_screen%5B%5D=No\",\"selected\":false},\"selectedCount\":0,\"title\":\"No\"}]}]},{\"type\":\"scrollableView\",\"id\":\"ram_type\",\"metadata\":{\"showCount\":false,\"subtext\":\"\",\"fieldName\":\"system_memory_type\",\"facetCountThreshold\":30,\"nested\":true},\"title\":\"Ram Type\",\"values\":[{\"type\":\"checkbox\",\"id\":\"popularity\",\"values\":[{\"childCategory\":false,\"count\":634,\"highlighted\":false,\"leafNode\":false,\"parentCategory\":false,\"resource\":{\"params\":\"facets.ram_type%5B%5D=DDR4\",\"selected\":false},\"selectedCount\":0,\"title\":\"DDR4\"},{\"childCategory\":false,\"count\":1,\"highlighted\":false,\"leafNode\":false,\"parentCategory\":false,\"resource\":{\"params\":\"facets.ram_type%5B%5D=DDR3L\",\"selected\":false},\"selectedCount\":0,\"title\":\"DDR3L\"},{\"childCategory\":false,\"count\":1,\"highlighted\":false,\"leafNode\":false,\"parentCategory\":false,\"resource\":{\"params\":\"facets.ram_type%5B%5D=SDR\",\"selected\":false},\"selectedCount\":0,\"title\":\"SDR\"},{\"childCategory\":false,\"count\":20,\"highlighted\":false,\"leafNode\":false,\"parentCategory\":false,\"resource\":{\"params\":\"facets.ram_type%5B%5D=LPDDR3\",\"selected\":false},\"selectedCount\":0,\"title\":\"LPDDR3\"},{\"childCategory\":false,\"count\":30,\"highlighted\":false,\"leafNode\":false,\"parentCategory\":false,\"resource\":{\"params\":\"facets.ram_type%5B%5D=DDR3\",\"selected\":false},\"selectedCount\":0,\"title\":\"DDR3\"},{\"childCategory\":false,\"count\":51,\"highlighted\":false,\"leafNode\":false,\"parentCategory\":false,\"resource\":{\"params\":\"facets.ram_type%5B%5D=LPDDR4X\",\"selected\":false},\"selectedCount\":0,\"title\":\"LPDDR4X\"}]}]},{\"type\":\"scrollableView\",\"id\":\"rating\",\"metadata\":{\"showCount\":false,\"isDefault\":true,\"subtext\":\"\",\"facetCountThreshold\":30,\"nested\":false},\"title\":\"Customer Ratings\",\"values\":[{\"type\":\"checkbox\",\"id\":\"fixed\",\"values\":[{\"childCategory\":false,\"count\":384,\"highlighted\":false,\"leafNode\":false,\"parentCategory\":false,\"resource\":{\"params\":\"facets.rating%5B%5D=4%E2%98%85+%26+above\",\"selected\":false},\"selectedCount\":0,\"title\":\"4★ & above\"},{\"childCategory\":false,\"count\":486,\"highlighted\":false,\"leafNode\":false,\"parentCategory\":false,\"resource\":{\"params\":\"facets.rating%5B%5D=3%E2%98%85+%26+above\",\"selected\":false},\"selectedCount\":0,\"title\":\"3★ & above\"},{\"childCategory\":false,\"count\":493,\"highlighted\":false,\"leafNode\":false,\"parentCategory\":false,\"resource\":{\"params\":\"facets.rating%5B%5D=2%E2%98%85+%26+above\",\"selected\":false},\"selectedCount\":0,\"title\":\"2★ & above\"},{\"childCategory\":false,\"count\":494,\"highlighted\":false,\"leafNode\":false,\"parentCategory\":false,\"resource\":{\"params\":\"facets.rating%5B%5D=1%E2%98%85+%26+above\",\"selected\":false},\"selectedCount\":0,\"title\":\"1★ & above\"}]}]},{\"type\":\"scrollableView\",\"id\":\"system_memory\",\"metadata\":{\"showCount\":false,\"subtext\":\"\",\"fieldName\":\"system_memory\",\"facetCountThreshold\":30,\"nested\":true},\"title\":\"RAM Capacity\",\"values\":[{\"type\":\"checkbox\",\"id\":\"popularity\",\"values\":[{\"childCategory\":false,\"count\":439,\"highlighted\":false,\"leafNode\":false,\"parentCategory\":false,\"resource\":{\"params\":\"facets.system_memory%5B%5D=8+GB\",\"selected\":false},\"selectedCount\":0,\"title\":\"8 GB\"},{\"childCategory\":false,\"count\":135,\"highlighted\":false,\"leafNode\":false,\"parentCategory\":false,\"resource\":{\"params\":\"facets.system_memory%5B%5D=4+GB\",\"selected\":false},\"selectedCount\":0,\"title\":\"4 GB\"},{\"childCategory\":false,\"count\":142,\"highlighted\":false,\"leafNode\":false,\"parentCategory\":false,\"resource\":{\"params\":\"facets.system_memory%5B%5D=16+GB\",\"selected\":false},\"selectedCount\":0,\"title\":\"16 GB\"},{\"childCategory\":false,\"count\":18,\"highlighted\":false,\"leafNode\":false,\"parentCategory\":false,\"resource\":{\"params\":\"facets.system_memory%5B%5D=32+GB\",\"selected\":false},\"selectedCount\":0,\"title\":\"32 GB\"},{\"childCategory\":false,\"count\":1,\"highlighted\":false,\"leafNode\":false,\"parentCategory\":false,\"resource\":{\"params\":\"facets.system_memory%5B%5D=12+GB\",\"selected\":false},\"selectedCount\":0,\"title\":\"12 GB\"},{\"childCategory\":false,\"count\":1,\"highlighted\":false,\"leafNode\":false,\"parentCategory\":false,\"resource\":{\"params\":\"facets.system_memory%5B%5D=2+GB\",\"selected\":false},\"selectedCount\":0,\"title\":\"2 GB\"},{\"childCategory\":false,\"count\":1,\"highlighted\":false,\"leafNode\":false,\"parentCategory\":false,\"resource\":{\"params\":\"facets.system_memory%5B%5D=24+GB\",\"selected\":false},\"selectedCount\":0,\"title\":\"24 GB\"}]}]},{\"type\":\"scrollableView\",\"id\":\"life_style\",\"metadata\":{\"isDefault\":false,\"showCount\":false,\"subtext\":\"\",\"fieldName\":\"life_style\",\"DisplayTitle\":\"Show me laptops for...\",\"facetCountThreshold\":30,\"nested\":true},\"title\":\"LifeStyle\",\"values\":[{\"type\":\"checkbox\",\"id\":\"popularity\",\"values\":[{\"childCategory\":false,\"count\":672,\"highlighted\":false,\"leafNode\":false,\"parentCategory\":false,\"resource\":{\"params\":\"facets.life_style%5B%5D=Processing+%26+Multitasking\",\"selected\":false},\"selectedCount\":0,\"title\":\"Processing & Multitasking\"},{\"childCategory\":false,\"count\":148,\"highlighted\":false,\"leafNode\":false,\"parentCategory\":false,\"resource\":{\"params\":\"facets.life_style%5B%5D=Gaming\",\"selected\":false},\"selectedCount\":0,\"title\":\"Gaming\"},{\"childCategory\":false,\"count\":20,\"highlighted\":false,\"leafNode\":false,\"parentCategory\":false,\"resource\":{\"params\":\"facets.life_style%5B%5D=Travel+%26+Business\",\"selected\":false},\"selectedCount\":0,\"title\":\"Travel & Business\"},{\"childCategory\":false,\"count\":33,\"highlighted\":false,\"leafNode\":false,\"parentCategory\":false,\"resource\":{\"params\":\"facets.life_style%5B%5D=Everyday+Use\",\"selected\":false},\"selectedCount\":0,\"title\":\"Everyday Use\"},{\"childCategory\":false,\"count\":8,\"highlighted\":false,\"leafNode\":false,\"parentCategory\":false,\"resource\":{\"params\":\"facets.life_style%5B%5D=Performance\",\"selected\":false},\"selectedCount\":0,\"title\":\"Performance\"},{\"childCategory\":false,\"count\":17,\"highlighted\":false,\"leafNode\":false,\"parentCategory\":false,\"resource\":{\"params\":\"facets.life_style%5B%5D=Entertainment\",\"selected\":false},\"selectedCount\":0,\"title\":\"Entertainment\"}]}]},{\"type\":\"expandableView\",\"id\":\"graphic_processor_series\",\"metadata\":{\"showCount\":false,\"subtext\":\"\",\"fieldName\":\"graphic_processor_series\",\"facetCountThreshold\":30,\"nested\":false},\"title\":\"Graphic Processor Series\",\"values\":[{\"type\":\"checkbox\",\"id\":\"fixed\",\"values\":[{\"childCategory\":false,\"count\":6,\"highlighted\":false,\"leafNode\":false,\"parentCategory\":false,\"resource\":{\"params\":\"facets.graphic_processor_series%5B%5D=1050\",\"selected\":false},\"selectedCount\":0,\"title\":\"1050\"},{\"childCategory\":false,\"count\":1,\"highlighted\":false,\"leafNode\":false,\"parentCategory\":false,\"resource\":{\"params\":\"facets.graphic_processor_series%5B%5D=1050+Ti\",\"selected\":false},\"selectedCount\":0,\"title\":\"1050 Ti\"},{\"childCategory\":false,\"count\":4,\"highlighted\":false,\"leafNode\":false,\"parentCategory\":false,\"resource\":{\"params\":\"facets.graphic_processor_series%5B%5D=1060\",\"selected\":false},\"selectedCount\":0,\"title\":\"1060\"},{\"childCategory\":false,\"count\":3,\"highlighted\":false,\"leafNode\":false,\"parentCategory\":false,\"resource\":{\"params\":\"facets.graphic_processor_series%5B%5D=1070\",\"selected\":false},\"selectedCount\":0,\"title\":\"1070\"},{\"childCategory\":false,\"count\":141,\"highlighted\":false,\"leafNode\":false,\"parentCategory\":false,\"resource\":{\"params\":\"facets.graphic_processor_series%5B%5D=UHD\",\"selected\":false},\"selectedCount\":0,\"title\":\"UHD\"},{\"childCategory\":false,\"count\":63,\"highlighted\":false,\"leafNode\":false,\"parentCategory\":false,\"resource\":{\"params\":\"facets.graphic_processor_series%5B%5D=Iris+Xe\",\"selected\":false},\"selectedCount\":0,\"title\":\"Iris Xe\"},{\"childCategory\":false,\"count\":49,\"highlighted\":false,\"leafNode\":false,\"parentCategory\":false,\"resource\":{\"params\":\"facets.graphic_processor_series%5B%5D=UHD+620\",\"selected\":false},\"selectedCount\":0,\"title\":\"UHD 620\"},{\"childCategory\":false,\"count\":36,\"highlighted\":false,\"leafNode\":false,\"parentCategory\":false,\"resource\":{\"params\":\"facets.graphic_processor_series%5B%5D=1650\",\"selected\":false},\"selectedCount\":0,\"title\":\"1650\"},{\"childCategory\":false,\"count\":26,\"highlighted\":false,\"leafNode\":false,\"parentCategory\":false,\"resource\":{\"params\":\"facets.graphic_processor_series%5B%5D=Vega+8\",\"selected\":false},\"selectedCount\":0,\"title\":\"Vega 8\"},{\"childCategory\":false,\"count\":24,\"highlighted\":false,\"leafNode\":false,\"parentCategory\":false,\"resource\":{\"params\":\"facets.graphic_processor_series%5B%5D=1650+Ti\",\"selected\":false},\"selectedCount\":0,\"title\":\"1650 Ti\"},{\"childCategory\":false,\"count\":20,\"highlighted\":false,\"leafNode\":false,\"parentCategory\":false,\"resource\":{\"params\":\"facets.graphic_processor_series%5B%5D=Iris+Plus\",\"selected\":false},\"selectedCount\":0,\"title\":\"Iris Plus\"},{\"childCategory\":false,\"count\":16,\"highlighted\":false,\"leafNode\":false,\"parentCategory\":false,\"resource\":{\"params\":\"facets.graphic_processor_series%5B%5D=MX330\",\"selected\":false},\"selectedCount\":0,\"title\":\"MX330\"},{\"childCategory\":false,\"count\":12,\"highlighted\":false,\"leafNode\":false,\"parentCategory\":false,\"resource\":{\"params\":\"facets.graphic_processor_series%5B%5D=MX250\",\"selected\":false},\"selectedCount\":0,\"title\":\"MX250\"},{\"childCategory\":false,\"count\":11,\"highlighted\":false,\"leafNode\":false,\"parentCategory\":false,\"resource\":{\"params\":\"facets.graphic_processor_series%5B%5D=MX350\",\"selected\":false},\"selectedCount\":0,\"title\":\"MX350\"},{\"childCategory\":false,\"count\":10,\"highlighted\":false,\"leafNode\":false,\"parentCategory\":false,\"resource\":{\"params\":\"facets.graphic_processor_series%5B%5D=UHD+600\",\"selected\":false},\"selectedCount\":0,\"title\":\"UHD 600\"},{\"childCategory\":false,\"count\":9,\"highlighted\":false,\"leafNode\":false,\"parentCategory\":false,\"resource\":{\"params\":\"facets.graphic_processor_series%5B%5D=MX110\",\"selected\":false},\"selectedCount\":0,\"title\":\"MX110\"},{\"childCategory\":false,\"count\":9,\"highlighted\":false,\"leafNode\":false,\"parentCategory\":false,\"resource\":{\"params\":\"facets.graphic_processor_series%5B%5D=3060\",\"selected\":false},\"selectedCount\":0,\"title\":\"3060\"},{\"childCategory\":false,\"count\":9,\"highlighted\":false,\"leafNode\":false,\"parentCategory\":false,\"resource\":{\"params\":\"facets.graphic_processor_series%5B%5D=2060\",\"selected\":false},\"selectedCount\":0,\"title\":\"2060\"},{\"childCategory\":false,\"count\":8,\"highlighted\":false,\"leafNode\":false,\"parentCategory\":false,\"resource\":{\"params\":\"facets.graphic_processor_series%5B%5D=HD+620\",\"selected\":false},\"selectedCount\":0,\"title\":\"HD 620\"},{\"childCategory\":false,\"count\":8,\"highlighted\":false,\"leafNode\":false,\"parentCategory\":false,\"resource\":{\"params\":\"facets.graphic_processor_series%5B%5D=HD+615\",\"selected\":false},\"selectedCount\":0,\"title\":\"HD 615\"},{\"childCategory\":false,\"count\":7,\"highlighted\":false,\"leafNode\":false,\"parentCategory\":false,\"resource\":{\"params\":\"facets.graphic_processor_series%5B%5D=1660+Ti\",\"selected\":false},\"selectedCount\":0,\"title\":\"1660 Ti\"},{\"childCategory\":false,\"count\":6,\"highlighted\":false,\"leafNode\":false,\"parentCategory\":false,\"resource\":{\"params\":\"facets.graphic_processor_series%5B%5D=MX450\",\"selected\":false},\"selectedCount\":0,\"title\":\"MX450\"},{\"childCategory\":false,\"count\":6,\"highlighted\":false,\"leafNode\":false,\"parentCategory\":false,\"resource\":{\"params\":\"facets.graphic_processor_series%5B%5D=MX150\",\"selected\":false},\"selectedCount\":0,\"title\":\"MX150\"},{\"childCategory\":false,\"count\":6,\"highlighted\":false,\"leafNode\":false,\"parentCategory\":false,\"resource\":{\"params\":\"facets.graphic_processor_series%5B%5D=MX130\",\"selected\":false},\"selectedCount\":0,\"title\":\"MX130\"},{\"childCategory\":false,\"count\":6,\"highlighted\":false,\"leafNode\":false,\"parentCategory\":false,\"resource\":{\"params\":\"facets.graphic_processor_series%5B%5D=2070\",\"selected\":false},\"selectedCount\":0,\"title\":\"2070\"},{\"childCategory\":false,\"count\":5,\"highlighted\":false,\"leafNode\":false,\"parentCategory\":false,\"resource\":{\"params\":\"facets.graphic_processor_series%5B%5D=Vega+3\",\"selected\":false},\"selectedCount\":0,\"title\":\"Vega 3\"},{\"childCategory\":false,\"count\":5,\"highlighted\":false,\"leafNode\":false,\"parentCategory\":false,\"resource\":{\"params\":\"facets.graphic_processor_series%5B%5D=R3\",\"selected\":false},\"selectedCount\":0,\"title\":\"R3\"},{\"childCategory\":false,\"count\":5,\"highlighted\":false,\"leafNode\":false,\"parentCategory\":false,\"resource\":{\"params\":\"facets.graphic_processor_series%5B%5D=1050Ti\",\"selected\":false},\"selectedCount\":0,\"title\":\"1050Ti\"},{\"childCategory\":false,\"count\":4,\"highlighted\":false,\"leafNode\":false,\"parentCategory\":false,\"resource\":{\"params\":\"facets.graphic_processor_series%5B%5D=UHD+605\",\"selected\":false},\"selectedCount\":0,\"title\":\"UHD 605\"},{\"childCategory\":false,\"count\":3,\"highlighted\":false,\"leafNode\":false,\"parentCategory\":false,\"resource\":{\"params\":\"facets.graphic_processor_series%5B%5D=Vega+6\",\"selected\":false},\"selectedCount\":0,\"title\":\"Vega 6\"},{\"childCategory\":false,\"count\":3,\"highlighted\":false,\"leafNode\":false,\"parentCategory\":false,\"resource\":{\"params\":\"facets.graphic_processor_series%5B%5D=UHD+Graphics\",\"selected\":false},\"selectedCount\":0,\"title\":\"UHD Graphics\"},{\"childCategory\":false,\"count\":3,\"highlighted\":false,\"leafNode\":false,\"parentCategory\":false,\"resource\":{\"params\":\"facets.graphic_processor_series%5B%5D=RX+Vega+10\",\"selected\":false},\"selectedCount\":0,\"title\":\"RX Vega 10\"},{\"childCategory\":false,\"count\":3,\"highlighted\":false,\"leafNode\":false,\"parentCategory\":false,\"resource\":{\"params\":\"facets.graphic_processor_series%5B%5D=RX+5600M\",\"selected\":false},\"selectedCount\":0,\"title\":\"RX 5600M\"},{\"childCategory\":false,\"count\":3,\"highlighted\":false,\"leafNode\":false,\"parentCategory\":false,\"resource\":{\"params\":\"facets.graphic_processor_series%5B%5D=R5\",\"selected\":false},\"selectedCount\":0,\"title\":\"R5\"},{\"childCategory\":false,\"count\":3,\"highlighted\":false,\"leafNode\":false,\"parentCategory\":false,\"resource\":{\"params\":\"facets.graphic_processor_series%5B%5D=MX230\",\"selected\":false},\"selectedCount\":0,\"title\":\"MX230\"},{\"childCategory\":false,\"count\":3,\"highlighted\":false,\"leafNode\":false,\"parentCategory\":false,\"resource\":{\"params\":\"facets.graphic_processor_series%5B%5D=Iris+Xe+Max\",\"selected\":false},\"selectedCount\":0,\"title\":\"Iris Xe Max\"},{\"childCategory\":false,\"count\":3,\"highlighted\":false,\"leafNode\":false,\"parentCategory\":false,\"resource\":{\"params\":\"facets.graphic_processor_series%5B%5D=Iris+Plus+645\",\"selected\":false},\"selectedCount\":0,\"title\":\"Iris Plus 645\"},{\"childCategory\":false,\"count\":3,\"highlighted\":false,\"leafNode\":false,\"parentCategory\":false,\"resource\":{\"params\":\"facets.graphic_processor_series%5B%5D=Intel\",\"selected\":false},\"selectedCount\":0,\"title\":\"Intel\"},{\"childCategory\":false,\"count\":3,\"highlighted\":false,\"leafNode\":false,\"parentCategory\":false,\"resource\":{\"params\":\"facets.graphic_processor_series%5B%5D=HD620\",\"selected\":false},\"selectedCount\":0,\"title\":\"HD620\"},{\"childCategory\":false,\"count\":3,\"highlighted\":false,\"leafNode\":false,\"parentCategory\":false,\"resource\":{\"params\":\"facets.graphic_processor_series%5B%5D=3080\",\"selected\":false},\"selectedCount\":0,\"title\":\"3080\"},{\"childCategory\":false,\"count\":3,\"highlighted\":false,\"leafNode\":false,\"parentCategory\":false,\"resource\":{\"params\":\"facets.graphic_processor_series%5B%5D=3050+Ti\",\"selected\":false},\"selectedCount\":0,\"title\":\"3050 Ti\"},{\"childCategory\":false,\"count\":3,\"highlighted\":false,\"leafNode\":false,\"parentCategory\":false,\"resource\":{\"params\":\"facets.graphic_processor_series%5B%5D=1650+Ti+with+Max-Q\",\"selected\":false},\"selectedCount\":0,\"title\":\"1650 Ti with Max-Q\"},{\"childCategory\":false,\"count\":2,\"highlighted\":false,\"leafNode\":false,\"parentCategory\":false,\"resource\":{\"params\":\"facets.graphic_processor_series%5B%5D=intel\",\"selected\":false},\"selectedCount\":0,\"title\":\"intel\"},{\"childCategory\":false,\"count\":2,\"highlighted\":false,\"leafNode\":false,\"parentCategory\":false,\"resource\":{\"params\":\"facets.graphic_processor_series%5B%5D=Vega\",\"selected\":false},\"selectedCount\":0,\"title\":\"Vega\"},{\"childCategory\":false,\"count\":2,\"highlighted\":false,\"leafNode\":false,\"parentCategory\":false,\"resource\":{\"params\":\"facets.graphic_processor_series%5B%5D=UHD620\",\"selected\":false},\"selectedCount\":0,\"title\":\"UHD620\"},{\"childCategory\":false,\"count\":2,\"highlighted\":false,\"leafNode\":false,\"parentCategory\":false,\"resource\":{\"params\":\"facets.graphic_processor_series%5B%5D=RX+Vega+M+GL\",\"selected\":false},\"selectedCount\":0,\"title\":\"RX Vega M GL\"},{\"childCategory\":false,\"count\":2,\"highlighted\":false,\"leafNode\":false,\"parentCategory\":false,\"resource\":{\"params\":\"facets.graphic_processor_series%5B%5D=RX+5500M\",\"selected\":false},\"selectedCount\":0,\"title\":\"RX 5500M\"},{\"childCategory\":false,\"count\":2,\"highlighted\":false,\"leafNode\":false,\"parentCategory\":false,\"resource\":{\"params\":\"facets.graphic_processor_series%5B%5D=R4\",\"selected\":false},\"selectedCount\":0,\"title\":\"R4\"},{\"childCategory\":false,\"count\":2,\"highlighted\":false,\"leafNode\":false,\"parentCategory\":false,\"resource\":{\"params\":\"facets.graphic_processor_series%5B%5D=Pro+5500M\",\"selected\":false},\"selectedCount\":0,\"title\":\"Pro 5500M\"},{\"childCategory\":false,\"count\":2,\"highlighted\":false,\"leafNode\":false,\"parentCategory\":false,\"resource\":{\"params\":\"facets.graphic_processor_series%5B%5D=Pro+5300M\",\"selected\":false},\"selectedCount\":0,\"title\":\"Pro 5300M\"},{\"childCategory\":false,\"count\":2,\"highlighted\":false,\"leafNode\":false,\"parentCategory\":false,\"resource\":{\"params\":\"facets.graphic_processor_series%5B%5D=NVIDIA%C2%AE+GEFORCE%C2%AE+GTX+1650+%284GB+GDDR6%29\",\"selected\":false},\"selectedCount\":0,\"title\":\"NVIDIA® GEFORCE® GTX 1650 (4GB GDDR6)\"},{\"childCategory\":false,\"count\":2,\"highlighted\":false,\"leafNode\":false,\"parentCategory\":false,\"resource\":{\"params\":\"facets.graphic_processor_series%5B%5D=Iris+Plus+655\",\"selected\":false},\"selectedCount\":0,\"title\":\"Iris Plus 655\"},{\"childCategory\":false,\"count\":2,\"highlighted\":false,\"leafNode\":false,\"parentCategory\":false,\"resource\":{\"params\":\"facets.graphic_processor_series%5B%5D=Iris\",\"selected\":false},\"selectedCount\":0,\"title\":\"Iris\"},{\"childCategory\":false,\"count\":2,\"highlighted\":false,\"leafNode\":false,\"parentCategory\":false,\"resource\":{\"params\":\"facets.graphic_processor_series%5B%5D=Intel+UHD\",\"selected\":false},\"selectedCount\":0,\"title\":\"Intel UHD\"},{\"childCategory\":false,\"count\":2,\"highlighted\":false,\"leafNode\":false,\"parentCategory\":false,\"resource\":{\"params\":\"facets.graphic_processor_series%5B%5D=Intel+Integrated+UHD\",\"selected\":false},\"selectedCount\":0,\"title\":\"Intel Integrated UHD\"},{\"childCategory\":false,\"count\":2,\"highlighted\":false,\"leafNode\":false,\"parentCategory\":false,\"resource\":{\"params\":\"facets.graphic_processor_series%5B%5D=INTEL\",\"selected\":false},\"selectedCount\":0,\"title\":\"INTEL\"},{\"childCategory\":false,\"count\":2,\"highlighted\":false,\"leafNode\":false,\"parentCategory\":false,\"resource\":{\"params\":\"facets.graphic_processor_series%5B%5D=Geforce+MX330\",\"selected\":false},\"selectedCount\":0,\"title\":\"Geforce MX330\"},{\"childCategory\":false,\"count\":2,\"highlighted\":false,\"leafNode\":false,\"parentCategory\":false,\"resource\":{\"params\":\"facets.graphic_processor_series%5B%5D=AMD+Radeon%E2%84%A2+Graphics\",\"selected\":false},\"selectedCount\":0,\"title\":\"AMD Radeon™ Graphics\"},{\"childCategory\":false,\"count\":2,\"highlighted\":false,\"leafNode\":false,\"parentCategory\":false,\"resource\":{\"params\":\"facets.graphic_processor_series%5B%5D=950\",\"selected\":false},\"selectedCount\":0,\"title\":\"950\"},{\"childCategory\":false,\"count\":2,\"highlighted\":false,\"leafNode\":false,\"parentCategory\":false,\"resource\":{\"params\":\"facets.graphic_processor_series%5B%5D=2080+Super\",\"selected\":false},\"selectedCount\":0,\"title\":\"2080 Super\"},{\"childCategory\":false,\"count\":2,\"highlighted\":false,\"leafNode\":false,\"parentCategory\":false,\"resource\":{\"params\":\"facets.graphic_processor_series%5B%5D=2080\",\"selected\":false},\"selectedCount\":0,\"title\":\"2080\"},{\"childCategory\":false,\"count\":2,\"highlighted\":false,\"leafNode\":false,\"parentCategory\":false,\"resource\":{\"params\":\"facets.graphic_processor_series%5B%5D=2070+Super+Max-Q\",\"selected\":false},\"selectedCount\":0,\"title\":\"2070 Super Max-Q\"},{\"childCategory\":false,\"count\":2,\"highlighted\":false,\"leafNode\":false,\"parentCategory\":false,\"resource\":{\"params\":\"facets.graphic_processor_series%5B%5D=2070+Super\",\"selected\":false},\"selectedCount\":0,\"title\":\"2070 Super\"},{\"childCategory\":false,\"count\":2,\"highlighted\":false,\"leafNode\":false,\"parentCategory\":false,\"resource\":{\"params\":\"facets.graphic_processor_series%5B%5D=1660Ti\",\"selected\":false},\"selectedCount\":0,\"title\":\"1660Ti\"},{\"childCategory\":false,\"count\":2,\"highlighted\":false,\"leafNode\":false,\"parentCategory\":false,\"resource\":{\"params\":\"facets.graphic_processor_series%5B%5D=1650Ti\",\"selected\":false},\"selectedCount\":0,\"title\":\"1650Ti\"},{\"childCategory\":false,\"count\":2,\"highlighted\":false,\"leafNode\":false,\"parentCategory\":false,\"resource\":{\"params\":\"facets.graphic_processor_series%5B%5D=1650+Ti+with+Max-Q+Design\",\"selected\":false},\"selectedCount\":0,\"title\":\"1650 Ti with Max-Q Design\"},{\"childCategory\":false,\"count\":1,\"highlighted\":false,\"leafNode\":false,\"parentCategory\":false,\"resource\":{\"params\":\"facets.graphic_processor_series%5B%5D=nVidia+RTX+3060\",\"selected\":false},\"selectedCount\":0,\"title\":\"nVidia RTX 3060\"},{\"childCategory\":false,\"count\":1,\"highlighted\":false,\"leafNode\":false,\"parentCategory\":false,\"resource\":{\"params\":\"facets.graphic_processor_series%5B%5D=nVidia+MX130\",\"selected\":false},\"selectedCount\":0,\"title\":\"nVidia MX130\"},{\"childCategory\":false,\"count\":1,\"highlighted\":false,\"leafNode\":false,\"parentCategory\":false,\"resource\":{\"params\":\"facets.graphic_processor_series%5B%5D=nVidia+Geforce+MX330\",\"selected\":false},\"selectedCount\":0,\"title\":\"nVidia Geforce MX330\"},{\"childCategory\":false,\"count\":1,\"highlighted\":false,\"leafNode\":false,\"parentCategory\":false,\"resource\":{\"params\":\"facets.graphic_processor_series%5B%5D=VivoBook+15+%282020%29\",\"selected\":false},\"selectedCount\":0,\"title\":\"VivoBook 15 (2020)\"},{\"childCategory\":false,\"count\":1,\"highlighted\":false,\"leafNode\":false,\"parentCategory\":false,\"resource\":{\"params\":\"facets.graphic_processor_series%5B%5D=Vega+9\",\"selected\":false},\"selectedCount\":0,\"title\":\"Vega 9\"},{\"childCategory\":false,\"count\":1,\"highlighted\":false,\"leafNode\":false,\"parentCategory\":false,\"resource\":{\"params\":\"facets.graphic_processor_series%5B%5D=T1000\",\"selected\":false},\"selectedCount\":0,\"title\":\"T1000\"},{\"childCategory\":false,\"count\":1,\"highlighted\":false,\"leafNode\":false,\"parentCategory\":false,\"resource\":{\"params\":\"facets.graphic_processor_series%5B%5D=R7+M270\",\"selected\":false},\"selectedCount\":0,\"title\":\"R7 M270\"},{\"childCategory\":false,\"count\":1,\"highlighted\":false,\"leafNode\":false,\"parentCategory\":false,\"resource\":{\"params\":\"facets.graphic_processor_series%5B%5D=Pro+560X\",\"selected\":false},\"selectedCount\":0,\"title\":\"Pro 560X\"},{\"childCategory\":false,\"count\":1,\"highlighted\":false,\"leafNode\":false,\"parentCategory\":false,\"resource\":{\"params\":\"facets.graphic_processor_series%5B%5D=Nvidia+GeForce+920M\",\"selected\":false},\"selectedCount\":0,\"title\":\"Nvidia GeForce 920M\"},{\"childCategory\":false,\"count\":1,\"highlighted\":false,\"leafNode\":false,\"parentCategory\":false,\"resource\":{\"params\":\"facets.graphic_processor_series%5B%5D=NVIDIA%C2%AE+GeForce%C2%AE+MX350+Graphics\",\"selected\":false},\"selectedCount\":0,\"title\":\"NVIDIA® GeForce® MX350 Graphics\"},{\"childCategory\":false,\"count\":1,\"highlighted\":false,\"leafNode\":false,\"parentCategory\":false,\"resource\":{\"params\":\"facets.graphic_processor_series%5B%5D=NVIDIA%C2%AE+GeForce%C2%AE+MX350\",\"selected\":false},\"selectedCount\":0,\"title\":\"NVIDIA® GeForce® MX350\"},{\"childCategory\":false,\"count\":1,\"highlighted\":false,\"leafNode\":false,\"parentCategory\":false,\"resource\":{\"params\":\"facets.graphic_processor_series%5B%5D=NVIDIA%C2%AE+GeForce%C2%AE+MX330\",\"selected\":false},\"selectedCount\":0,\"title\":\"NVIDIA® GeForce® MX330\"},{\"childCategory\":false,\"count\":1,\"highlighted\":false,\"leafNode\":false,\"parentCategory\":false,\"resource\":{\"params\":\"facets.graphic_processor_series%5B%5D=NVIDIA%C2%AE+GEFORCE%C2%AE+GTX+1650+TI+%284GB+GDDR6%29\",\"selected\":false},\"selectedCount\":0,\"title\":\"NVIDIA® GEFORCE® GTX 1650 TI (4GB GDDR6)\"},{\"childCategory\":false,\"count\":1,\"highlighted\":false,\"leafNode\":false,\"parentCategory\":false,\"resource\":{\"params\":\"facets.graphic_processor_series%5B%5D=NVIDIA+MX330\",\"selected\":false},\"selectedCount\":0,\"title\":\"NVIDIA MX330\"},{\"childCategory\":false,\"count\":1,\"highlighted\":false,\"leafNode\":false,\"parentCategory\":false,\"resource\":{\"params\":\"facets.graphic_processor_series%5B%5D=NVIDIA+GeForce+MX110\",\"selected\":false},\"selectedCount\":0,\"title\":\"NVIDIA GeForce MX110\"},{\"childCategory\":false,\"count\":1,\"highlighted\":false,\"leafNode\":false,\"parentCategory\":false,\"resource\":{\"params\":\"facets.graphic_processor_series%5B%5D=NVIDIA\",\"selected\":false},\"selectedCount\":0,\"title\":\"NVIDIA\"},{\"childCategory\":false,\"count\":1,\"highlighted\":false,\"leafNode\":false,\"parentCategory\":false,\"resource\":{\"params\":\"facets.graphic_processor_series%5B%5D=Intel%C2%AE+Iris+Xe+Graphics\",\"selected\":false},\"selectedCount\":0,\"title\":\"Intel® Iris Xe Graphics\"},{\"childCategory\":false,\"count\":1,\"highlighted\":false,\"leafNode\":false,\"parentCategory\":false,\"resource\":{\"params\":\"facets.graphic_processor_series%5B%5D=Intel+integrated+620\",\"selected\":false},\"selectedCount\":0,\"title\":\"Intel integrated 620\"},{\"childCategory\":false,\"count\":1,\"highlighted\":false,\"leafNode\":false,\"parentCategory\":false,\"resource\":{\"params\":\"facets.graphic_processor_series%5B%5D=Intel+hd\",\"selected\":false},\"selectedCount\":0,\"title\":\"Intel hd\"},{\"childCategory\":false,\"count\":1,\"highlighted\":false,\"leafNode\":false,\"parentCategory\":false,\"resource\":{\"params\":\"facets.graphic_processor_series%5B%5D=Intel+UHD+Graphics+620\",\"selected\":false},\"selectedCount\":0,\"title\":\"Intel UHD Graphics 620\"},{\"childCategory\":false,\"count\":1,\"highlighted\":false,\"leafNode\":false,\"parentCategory\":false,\"resource\":{\"params\":\"facets.graphic_processor_series%5B%5D=Intel+UHD+Graphics\",\"selected\":false},\"selectedCount\":0,\"title\":\"Intel UHD Graphics\"},{\"childCategory\":false,\"count\":1,\"highlighted\":false,\"leafNode\":false,\"parentCategory\":false,\"resource\":{\"params\":\"facets.graphic_processor_series%5B%5D=Intel+Iris\",\"selected\":false},\"selectedCount\":0,\"title\":\"Intel Iris\"},{\"childCategory\":false,\"count\":1,\"highlighted\":false,\"leafNode\":false,\"parentCategory\":false,\"resource\":{\"params\":\"facets.graphic_processor_series%5B%5D=Intel+Integrated+Graphics\",\"selected\":false},\"selectedCount\":0,\"title\":\"Intel Integrated Graphics\"},{\"childCategory\":false,\"count\":1,\"highlighted\":false,\"leafNode\":false,\"parentCategory\":false,\"resource\":{\"params\":\"facets.graphic_processor_series%5B%5D=Intel+Integrated\",\"selected\":false},\"selectedCount\":0,\"title\":\"Intel Integrated\"},{\"childCategory\":false,\"count\":1,\"highlighted\":false,\"leafNode\":false,\"parentCategory\":false,\"resource\":{\"params\":\"facets.graphic_processor_series%5B%5D=Intel+HD+Integrated+Graphics\",\"selected\":false},\"selectedCount\":0,\"title\":\"Intel HD Integrated Graphics\"},{\"childCategory\":false,\"count\":1,\"highlighted\":false,\"leafNode\":false,\"parentCategory\":false,\"resource\":{\"params\":\"facets.graphic_processor_series%5B%5D=Intel+HD+Graphics+5500%C2%A0\",\"selected\":false},\"selectedCount\":0,\"title\":\"Intel HD Graphics 5500\\xa0\"},{\"childCategory\":false,\"count\":1,\"highlighted\":false,\"leafNode\":false,\"parentCategory\":false,\"resource\":{\"params\":\"facets.graphic_processor_series%5B%5D=Intel+HD+Graphics+5500\",\"selected\":false},\"selectedCount\":0,\"title\":\"Intel HD Graphics 5500\"},{\"childCategory\":false,\"count\":1,\"highlighted\":false,\"leafNode\":false,\"parentCategory\":false,\"resource\":{\"params\":\"facets.graphic_processor_series%5B%5D=Integrated+Intel+Iris+Xe+Graphics\",\"selected\":false},\"selectedCount\":0,\"title\":\"Integrated Intel Iris Xe Graphics\"},{\"childCategory\":false,\"count\":1,\"highlighted\":false,\"leafNode\":false,\"parentCategory\":false,\"resource\":{\"params\":\"facets.graphic_processor_series%5B%5D=Integrated+Intel+IRIS+XE+Graphics\",\"selected\":false},\"selectedCount\":0,\"title\":\"Integrated Intel IRIS XE Graphics\"},{\"childCategory\":false,\"count\":1,\"highlighted\":false,\"leafNode\":false,\"parentCategory\":false,\"resource\":{\"params\":\"facets.graphic_processor_series%5B%5D=Integrated\",\"selected\":false},\"selectedCount\":0,\"title\":\"Integrated\"},{\"childCategory\":false,\"count\":1,\"highlighted\":false,\"leafNode\":false,\"parentCategory\":false,\"resource\":{\"params\":\"facets.graphic_processor_series%5B%5D=HD615\",\"selected\":false},\"selectedCount\":0,\"title\":\"HD615\"},{\"childCategory\":false,\"count\":1,\"highlighted\":false,\"leafNode\":false,\"parentCategory\":false,\"resource\":{\"params\":\"facets.graphic_processor_series%5B%5D=HD520\",\"selected\":false},\"selectedCount\":0,\"title\":\"HD520\"},{\"childCategory\":false,\"count\":1,\"highlighted\":false,\"leafNode\":false,\"parentCategory\":false,\"resource\":{\"params\":\"facets.graphic_processor_series%5B%5D=HD+610\",\"selected\":false},\"selectedCount\":0,\"title\":\"HD 610\"},{\"childCategory\":false,\"count\":1,\"highlighted\":false,\"leafNode\":false,\"parentCategory\":false,\"resource\":{\"params\":\"facets.graphic_processor_series%5B%5D=HD+6000\",\"selected\":false},\"selectedCount\":0,\"title\":\"HD 6000\"},{\"childCategory\":false,\"count\":1,\"highlighted\":false,\"leafNode\":false,\"parentCategory\":false,\"resource\":{\"params\":\"facets.graphic_processor_series%5B%5D=HD+520\",\"selected\":false},\"selectedCount\":0,\"title\":\"HD 520\"},{\"childCategory\":false,\"count\":1,\"highlighted\":false,\"leafNode\":false,\"parentCategory\":false,\"resource\":{\"params\":\"facets.graphic_processor_series%5B%5D=HD+505\",\"selected\":false},\"selectedCount\":0,\"title\":\"HD 505\"},{\"childCategory\":false,\"count\":1,\"highlighted\":false,\"leafNode\":false,\"parentCategory\":false,\"resource\":{\"params\":\"facets.graphic_processor_series%5B%5D=Graphics+620\",\"selected\":false},\"selectedCount\":0,\"title\":\"Graphics 620\"},{\"childCategory\":false,\"count\":1,\"highlighted\":false,\"leafNode\":false,\"parentCategory\":false,\"resource\":{\"params\":\"facets.graphic_processor_series%5B%5D=Geforce+MX350\",\"selected\":false},\"selectedCount\":0,\"title\":\"Geforce MX350\"},{\"childCategory\":false,\"count\":1,\"highlighted\":false,\"leafNode\":false,\"parentCategory\":false,\"resource\":{\"params\":\"facets.graphic_processor_series%5B%5D=GTX+1650Ti\",\"selected\":false},\"selectedCount\":0,\"title\":\"GTX 1650Ti\"},{\"childCategory\":false,\"count\":1,\"highlighted\":false,\"leafNode\":false,\"parentCategory\":false,\"resource\":{\"params\":\"facets.graphic_processor_series%5B%5D=GTX+1650\",\"selected\":false},\"selectedCount\":0,\"title\":\"GTX 1650\"},{\"childCategory\":false,\"count\":1,\"highlighted\":false,\"leafNode\":false,\"parentCategory\":false,\"resource\":{\"params\":\"facets.graphic_processor_series%5B%5D=Adreno+685\",\"selected\":false},\"selectedCount\":0,\"title\":\"Adreno 685\"},{\"childCategory\":false,\"count\":1,\"highlighted\":false,\"leafNode\":false,\"parentCategory\":false,\"resource\":{\"params\":\"facets.graphic_processor_series%5B%5D=AMD+VEGA\",\"selected\":false},\"selectedCount\":0,\"title\":\"AMD VEGA\"},{\"childCategory\":false,\"count\":1,\"highlighted\":false,\"leafNode\":false,\"parentCategory\":false,\"resource\":{\"params\":\"facets.graphic_processor_series%5B%5D=AMD+Readon\",\"selected\":false},\"selectedCount\":0,\"title\":\"AMD Readon\"},{\"childCategory\":false,\"count\":1,\"highlighted\":false,\"leafNode\":false,\"parentCategory\":false,\"resource\":{\"params\":\"facets.graphic_processor_series%5B%5D=AMD+Radipon+Integrated\",\"selected\":false},\"selectedCount\":0,\"title\":\"AMD Radipon Integrated\"},{\"childCategory\":false,\"count\":1,\"highlighted\":false,\"leafNode\":false,\"parentCategory\":false,\"resource\":{\"params\":\"facets.graphic_processor_series%5B%5D=AMD+Radeon%E2%84%A2+Vega+8+Graphics\",\"selected\":false},\"selectedCount\":0,\"title\":\"AMD Radeon™ Vega 8 Graphics\"},{\"childCategory\":false,\"count\":1,\"highlighted\":false,\"leafNode\":false,\"parentCategory\":false,\"resource\":{\"params\":\"facets.graphic_processor_series%5B%5D=AMD+Radeon%E2%84%A2+R5+Graphics\",\"selected\":false},\"selectedCount\":0,\"title\":\"AMD Radeon™ R5 Graphics\"},{\"childCategory\":false,\"count\":1,\"highlighted\":false,\"leafNode\":false,\"parentCategory\":false,\"resource\":{\"params\":\"facets.graphic_processor_series%5B%5D=AMD+Radeon+Graphics\",\"selected\":false},\"selectedCount\":0,\"title\":\"AMD Radeon Graphics\"},{\"childCategory\":false,\"count\":1,\"highlighted\":false,\"leafNode\":false,\"parentCategory\":false,\"resource\":{\"params\":\"facets.graphic_processor_series%5B%5D=AMD\",\"selected\":false},\"selectedCount\":0,\"title\":\"AMD\"},{\"childCategory\":false,\"count\":1,\"highlighted\":false,\"leafNode\":false,\"parentCategory\":false,\"resource\":{\"params\":\"facets.graphic_processor_series%5B%5D=980M\",\"selected\":false},\"selectedCount\":0,\"title\":\"980M\"},{\"childCategory\":false,\"count\":1,\"highlighted\":false,\"leafNode\":false,\"parentCategory\":false,\"resource\":{\"params\":\"facets.graphic_processor_series%5B%5D=940MX\",\"selected\":false},\"selectedCount\":0,\"title\":\"940MX\"},{\"childCategory\":false,\"count\":1,\"highlighted\":false,\"leafNode\":false,\"parentCategory\":false,\"resource\":{\"params\":\"facets.graphic_processor_series%5B%5D=620\",\"selected\":false},\"selectedCount\":0,\"title\":\"620\"},{\"childCategory\":false,\"count\":1,\"highlighted\":false,\"leafNode\":false,\"parentCategory\":false,\"resource\":{\"params\":\"facets.graphic_processor_series%5B%5D=540\",\"selected\":false},\"selectedCount\":0,\"title\":\"540\"},{\"childCategory\":false,\"count\":1,\"highlighted\":false,\"leafNode\":false,\"parentCategory\":false,\"resource\":{\"params\":\"facets.graphic_processor_series%5B%5D=3070\",\"selected\":false},\"selectedCount\":0,\"title\":\"3070\"},{\"childCategory\":false,\"count\":1,\"highlighted\":false,\"leafNode\":false,\"parentCategory\":false,\"resource\":{\"params\":\"facets.graphic_processor_series%5B%5D=3050\",\"selected\":false},\"selectedCount\":0,\"title\":\"3050\"},{\"childCategory\":false,\"count\":1,\"highlighted\":false,\"leafNode\":false,\"parentCategory\":false,\"resource\":{\"params\":\"facets.graphic_processor_series%5B%5D=2080+with+Max-Q\",\"selected\":false},\"selectedCount\":0,\"title\":\"2080 with Max-Q\"},{\"childCategory\":false,\"count\":1,\"highlighted\":false,\"leafNode\":false,\"parentCategory\":false,\"resource\":{\"params\":\"facets.graphic_processor_series%5B%5D=2080+super+max-q\",\"selected\":false},\"selectedCount\":0,\"title\":\"2080 super max-q\"},{\"childCategory\":false,\"count\":1,\"highlighted\":false,\"leafNode\":false,\"parentCategory\":false,\"resource\":{\"params\":\"facets.graphic_processor_series%5B%5D=2080+Super+with+Max-Q+Design\",\"selected\":false},\"selectedCount\":0,\"title\":\"2080 Super with Max-Q Design\"},{\"childCategory\":false,\"count\":1,\"highlighted\":false,\"leafNode\":false,\"parentCategory\":false,\"resource\":{\"params\":\"facets.graphic_processor_series%5B%5D=2080+Super+Max-Q\",\"selected\":false},\"selectedCount\":0,\"title\":\"2080 Super Max-Q\"},{\"childCategory\":false,\"count\":1,\"highlighted\":false,\"leafNode\":false,\"parentCategory\":false,\"resource\":{\"params\":\"facets.graphic_processor_series%5B%5D=2070+with+Max-Q+Design\",\"selected\":false},\"selectedCount\":0,\"title\":\"2070 with Max-Q Design\"},{\"childCategory\":false,\"count\":1,\"highlighted\":false,\"leafNode\":false,\"parentCategory\":false,\"resource\":{\"params\":\"facets.graphic_processor_series%5B%5D=2070+Max-Q\",\"selected\":false},\"selectedCount\":0,\"title\":\"2070 Max-Q\"},{\"childCategory\":false,\"count\":1,\"highlighted\":false,\"leafNode\":false,\"parentCategory\":false,\"resource\":{\"params\":\"facets.graphic_processor_series%5B%5D=2060+with+Max-Q+Design\",\"selected\":false},\"selectedCount\":0,\"title\":\"2060 with Max-Q Design\"},{\"childCategory\":false,\"count\":1,\"highlighted\":false,\"leafNode\":false,\"parentCategory\":false,\"resource\":{\"params\":\"facets.graphic_processor_series%5B%5D=1660Ti+Max-Q\",\"selected\":false},\"selectedCount\":0,\"title\":\"1660Ti Max-Q\"},{\"childCategory\":false,\"count\":1,\"highlighted\":false,\"leafNode\":false,\"parentCategory\":false,\"resource\":{\"params\":\"facets.graphic_processor_series%5B%5D=1660+Ti+with+Max-Q+Design\",\"selected\":false},\"selectedCount\":0,\"title\":\"1660 Ti with Max-Q Design\"},{\"childCategory\":false,\"count\":1,\"highlighted\":false,\"leafNode\":false,\"parentCategory\":false,\"resource\":{\"params\":\"facets.graphic_processor_series%5B%5D=1650+Ti+Max-Q\",\"selected\":false},\"selectedCount\":0,\"title\":\"1650 Ti Max-Q\"},{\"childCategory\":false,\"count\":1,\"highlighted\":false,\"leafNode\":false,\"parentCategory\":false,\"resource\":{\"params\":\"facets.graphic_processor_series%5B%5D=1650+Ti+Max+Q\",\"selected\":false},\"selectedCount\":0,\"title\":\"1650 Ti Max Q\"},{\"childCategory\":false,\"count\":1,\"highlighted\":false,\"leafNode\":false,\"parentCategory\":false,\"resource\":{\"params\":\"facets.graphic_processor_series%5B%5D=1650+TI\",\"selected\":false},\"selectedCount\":0,\"title\":\"1650 TI\"},{\"childCategory\":false,\"count\":1,\"highlighted\":false,\"leafNode\":false,\"parentCategory\":false,\"resource\":{\"params\":\"facets.graphic_processor_series%5B%5D=1650+MaxQ\",\"selected\":false},\"selectedCount\":0,\"title\":\"1650 MaxQ\"},{\"childCategory\":false,\"count\":1,\"highlighted\":false,\"leafNode\":false,\"parentCategory\":false,\"resource\":{\"params\":\"facets.graphic_processor_series%5B%5D=1650+Max-Q\",\"selected\":false},\"selectedCount\":0,\"title\":\"1650 Max-Q\"},{\"childCategory\":false,\"count\":1,\"highlighted\":false,\"leafNode\":false,\"parentCategory\":false,\"resource\":{\"params\":\"facets.graphic_processor_series%5B%5D=1650+Max+Q\",\"selected\":false},\"selectedCount\":0,\"title\":\"1650 Max Q\"}]}]},{\"type\":\"scrollableView\",\"id\":\"processor_generation\",\"metadata\":{\"showCount\":false,\"subtext\":\"\",\"fieldName\":\"processor_generation\",\"facetCountThreshold\":30,\"nested\":false},\"title\":\"Processor Generation\",\"values\":[{\"type\":\"checkbox\",\"id\":\"alphabetical\",\"values\":[{\"childCategory\":false,\"count\":251,\"highlighted\":false,\"leafNode\":false,\"parentCategory\":false,\"resource\":{\"params\":\"facets.processor_generation%5B%5D=10th+Gen\",\"selected\":false},\"selectedCount\":0,\"title\":\"10th Gen\"},{\"childCategory\":false,\"count\":151,\"highlighted\":false,\"leafNode\":false,\"parentCategory\":false,\"resource\":{\"params\":\"facets.processor_generation%5B%5D=11th+Gen\",\"selected\":false},\"selectedCount\":0,\"title\":\"11th Gen\"},{\"childCategory\":false,\"count\":3,\"highlighted\":false,\"leafNode\":false,\"parentCategory\":false,\"resource\":{\"params\":\"facets.processor_generation%5B%5D=3rd+Gen\",\"selected\":false},\"selectedCount\":0,\"title\":\"3rd Gen\"},{\"childCategory\":false,\"count\":3,\"highlighted\":false,\"leafNode\":false,\"parentCategory\":false,\"resource\":{\"params\":\"facets.processor_generation%5B%5D=4th+Gen\",\"selected\":false},\"selectedCount\":0,\"title\":\"4th Gen\"},{\"childCategory\":false,\"count\":13,\"highlighted\":false,\"leafNode\":false,\"parentCategory\":false,\"resource\":{\"params\":\"facets.processor_generation%5B%5D=5th+Gen\",\"selected\":false},\"selectedCount\":0,\"title\":\"5th Gen\"},{\"childCategory\":false,\"count\":3,\"highlighted\":false,\"leafNode\":false,\"parentCategory\":false,\"resource\":{\"params\":\"facets.processor_generation%5B%5D=6th+Gen\",\"selected\":false},\"selectedCount\":0,\"title\":\"6th Gen\"},{\"childCategory\":false,\"count\":43,\"highlighted\":false,\"leafNode\":false,\"parentCategory\":false,\"resource\":{\"params\":\"facets.processor_generation%5B%5D=7th+Gen\",\"selected\":false},\"selectedCount\":0,\"title\":\"7th Gen\"},{\"childCategory\":false,\"count\":85,\"highlighted\":false,\"leafNode\":false,\"parentCategory\":false,\"resource\":{\"params\":\"facets.processor_generation%5B%5D=8th+Gen\",\"selected\":false},\"selectedCount\":0,\"title\":\"8th Gen\"},{\"childCategory\":false,\"count\":27,\"highlighted\":false,\"leafNode\":false,\"parentCategory\":false,\"resource\":{\"params\":\"facets.processor_generation%5B%5D=9th+Gen\",\"selected\":false},\"selectedCount\":0,\"title\":\"9th Gen\"}]}]},{\"type\":\"scrollableView\",\"id\":\"weight\",\"metadata\":{\"showCount\":false,\"subtext\":\"\",\"fieldName\":\"weight\",\"facetCountThreshold\":30,\"nested\":false},\"title\":\"Weight\",\"values\":[{\"type\":\"checkbox\",\"id\":\"fixed\",\"values\":[{\"childCategory\":false,\"count\":49,\"highlighted\":false,\"leafNode\":false,\"parentCategory\":false,\"resource\":{\"params\":\"facets.weight%5B%5D=1.2+KG+or+Below\",\"selected\":false},\"selectedCount\":0,\"title\":\"1.2 KG or Below\"},{\"childCategory\":false,\"count\":218,\"highlighted\":false,\"leafNode\":false,\"parentCategory\":false,\"resource\":{\"params\":\"facets.weight%5B%5D=1.2+KG+to+1.5+KG\",\"selected\":false},\"selectedCount\":0,\"title\":\"1.2 KG to 1.5 KG\"},{\"childCategory\":false,\"count\":170,\"highlighted\":false,\"leafNode\":false,\"parentCategory\":false,\"resource\":{\"params\":\"facets.weight%5B%5D=1.6+KG+to+1.8+KG\",\"selected\":false},\"selectedCount\":0,\"title\":\"1.6 KG to 1.8 KG\"},{\"childCategory\":false,\"count\":98,\"highlighted\":false,\"leafNode\":false,\"parentCategory\":false,\"resource\":{\"params\":\"facets.weight%5B%5D=1.9+KG+to+2.1+KG\",\"selected\":false},\"selectedCount\":0,\"title\":\"1.9 KG to 2.1 KG\"},{\"childCategory\":false,\"count\":121,\"highlighted\":false,\"leafNode\":false,\"parentCategory\":false,\"resource\":{\"params\":\"facets.weight%5B%5D=2.2+KG+to+2.6+KG\",\"selected\":false},\"selectedCount\":0,\"title\":\"2.2 KG to 2.6 KG\"},{\"childCategory\":false,\"count\":12,\"highlighted\":false,\"leafNode\":false,\"parentCategory\":false,\"resource\":{\"params\":\"facets.weight%5B%5D=Above+2.6+KG\",\"selected\":false},\"selectedCount\":0,\"title\":\"Above 2.6 KG\"}]}]},{\"type\":\"scrollableView\",\"id\":\"features\",\"metadata\":{\"showCount\":false,\"subtext\":\"\",\"fieldName\":\"Features\",\"facetCountThreshold\":30,\"nested\":false},\"title\":\"Features\",\"values\":[{\"type\":\"checkbox\",\"id\":\"alphabetical\",\"values\":[{\"childCategory\":false,\"count\":412,\"highlighted\":false,\"leafNode\":false,\"parentCategory\":false,\"resource\":{\"params\":\"facets.features%5B%5D=Backlit+Keyboard\",\"selected\":false},\"selectedCount\":0,\"title\":\"Backlit Keyboard\"},{\"childCategory\":false,\"count\":601,\"highlighted\":false,\"leafNode\":false,\"parentCategory\":false,\"resource\":{\"params\":\"facets.features%5B%5D=Full+HD+Display\",\"selected\":false},\"selectedCount\":0,\"title\":\"Full HD Display\"},{\"childCategory\":false,\"count\":366,\"highlighted\":false,\"leafNode\":false,\"parentCategory\":false,\"resource\":{\"params\":\"facets.features%5B%5D=MS+Office\",\"selected\":false},\"selectedCount\":0,\"title\":\"MS Office\"},{\"childCategory\":false,\"count\":719,\"highlighted\":false,\"leafNode\":false,\"parentCategory\":false,\"resource\":{\"params\":\"facets.features%5B%5D=No+Optical+Disk+Drive\",\"selected\":false},\"selectedCount\":0,\"title\":\"No Optical Disk Drive\"}]}]},{\"type\":\"scrollableView\",\"id\":\"storage_type\",\"metadata\":{\"showCount\":false,\"subtext\":\"\",\"fieldName\":\"storage_type\",\"facetCountThreshold\":30,\"nested\":true},\"title\":\"Storage Type\",\"values\":[{\"type\":\"checkbox\",\"id\":\"popularity\",\"values\":[{\"childCategory\":false,\"count\":484,\"highlighted\":false,\"leafNode\":false,\"parentCategory\":false,\"resource\":{\"params\":\"facets.storage_type%5B%5D=SSD\",\"selected\":false},\"selectedCount\":0,\"title\":\"SSD\"},{\"childCategory\":false,\"count\":11,\"highlighted\":false,\"leafNode\":false,\"parentCategory\":false,\"resource\":{\"params\":\"facets.storage_type%5B%5D=eMMC\",\"selected\":false},\"selectedCount\":0,\"title\":\"eMMC\"},{\"childCategory\":false,\"count\":155,\"highlighted\":false,\"leafNode\":false,\"parentCategory\":false,\"resource\":{\"params\":\"facets.storage_type%5B%5D=HDD\",\"selected\":false},\"selectedCount\":0,\"title\":\"HDD\"}]}]},{\"type\":\"scrollableView\",\"id\":\"ssd_capacity\",\"metadata\":{\"showCount\":false,\"subtext\":\"\",\"fieldName\":\"ssd_capacity\",\"facetCountThreshold\":30,\"nested\":false},\"title\":\"SSD Capacity\",\"values\":[{\"type\":\"checkbox\",\"id\":\"fixed\",\"values\":[{\"childCategory\":false,\"count\":309,\"highlighted\":false,\"leafNode\":false,\"parentCategory\":false,\"resource\":{\"params\":\"facets.ssd_capacity%5B%5D=512+GB\",\"selected\":false},\"selectedCount\":0,\"title\":\"512 GB\"},{\"childCategory\":false,\"count\":152,\"highlighted\":false,\"leafNode\":false,\"parentCategory\":false,\"resource\":{\"params\":\"facets.ssd_capacity%5B%5D=256+GB\",\"selected\":false},\"selectedCount\":0,\"title\":\"256 GB\"},{\"childCategory\":false,\"count\":21,\"highlighted\":false,\"leafNode\":false,\"parentCategory\":false,\"resource\":{\"params\":\"facets.ssd_capacity%5B%5D=128+GB\",\"selected\":false},\"selectedCount\":0,\"title\":\"128 GB\"},{\"childCategory\":false,\"count\":86,\"highlighted\":false,\"leafNode\":false,\"parentCategory\":false,\"resource\":{\"params\":\"facets.ssd_capacity%5B%5D=1+TB\",\"selected\":false},\"selectedCount\":0,\"title\":\"1 TB\"},{\"childCategory\":false,\"count\":4,\"highlighted\":false,\"leafNode\":false,\"parentCategory\":false,\"resource\":{\"params\":\"facets.ssd_capacity%5B%5D=2+TB\",\"selected\":false},\"selectedCount\":0,\"title\":\"2 TB\"}]}]},{\"type\":\"scrollableView\",\"id\":\"speciality\",\"metadata\":{\"multiselect\":\"true\",\"showCount\":false,\"subtext\":\"\",\"fieldName\":\"speciality\",\"DisplayTitle\":\"What feature are you looking for?\",\"facetCountThreshold\":30,\"nested\":false},\"title\":\"Usage\",\"values\":[{\"type\":\"checkbox\",\"id\":\"alphabetical\",\"values\":[{\"childCategory\":false,\"count\":21,\"highlighted\":false,\"leafNode\":false,\"parentCategory\":false,\"resource\":{\"params\":\"facets.speciality%5B%5D=Browsing+and+Email\",\"selected\":false},\"selectedCount\":0,\"title\":\"Browsing and Email\"},{\"childCategory\":false,\"count\":5,\"highlighted\":false,\"leafNode\":false,\"parentCategory\":false,\"resource\":{\"params\":\"facets.speciality%5B%5D=Business\",\"selected\":false},\"selectedCount\":0,\"title\":\"Business\"},{\"childCategory\":false,\"count\":251,\"highlighted\":false,\"leafNode\":false,\"parentCategory\":false,\"resource\":{\"params\":\"facets.speciality%5B%5D=Content+Creation\",\"selected\":false},\"selectedCount\":0,\"title\":\"Content Creation\"},{\"childCategory\":false,\"count\":153,\"highlighted\":false,\"leafNode\":false,\"parentCategory\":false,\"resource\":{\"params\":\"facets.speciality%5B%5D=Gaming\",\"selected\":false},\"selectedCount\":0,\"title\":\"Gaming\"},{\"childCategory\":false,\"count\":441,\"highlighted\":false,\"leafNode\":false,\"parentCategory\":false,\"resource\":{\"params\":\"facets.speciality%5B%5D=High+Performance\",\"selected\":false},\"selectedCount\":0,\"title\":\"High Performance\"},{\"childCategory\":false,\"count\":111,\"highlighted\":false,\"leafNode\":false,\"parentCategory\":false,\"resource\":{\"params\":\"facets.speciality%5B%5D=Media+and+Light+Work\",\"selected\":false},\"selectedCount\":0,\"title\":\"Media and Light Work\"}]}]},{\"type\":\"scrollableView\",\"id\":\"is_gst\",\"metadata\":{\"showCount\":false,\"subtext\":\"\",\"facetCountThreshold\":30,\"nested\":false},\"title\":\"GST Invoice Available\",\"values\":[{\"type\":\"checkbox\",\"id\":\"alphabetical\",\"values\":[{\"childCategory\":false,\"count\":4,\"highlighted\":false,\"leafNode\":false,\"parentCategory\":false,\"resource\":{\"params\":\"facets.is_gst%5B%5D=GST+Invoice+Available\",\"selected\":false},\"selectedCount\":0,\"title\":\"GST Invoice Available\"}]}]},{\"type\":\"scrollableView\",\"id\":\"offer_type\",\"metadata\":{\"isDefault\":true,\"showCount\":false,\"subtext\":\"\",\"facetCountThreshold\":30,\"nested\":false},\"title\":\"Offers\",\"values\":[{\"type\":\"checkbox\",\"id\":\"alphabetical\",\"values\":[{\"childCategory\":false,\"count\":4,\"highlighted\":false,\"leafNode\":false,\"parentCategory\":false,\"resource\":{\"params\":\"facets.offer_type%5B%5D=Buy+More%2C+Save+More\",\"selected\":false},\"selectedCount\":0,\"title\":\"Buy More, Save More\"},{\"childCategory\":false,\"count\":4,\"highlighted\":false,\"leafNode\":false,\"parentCategory\":false,\"resource\":{\"params\":\"facets.offer_type%5B%5D=No+Cost+EMI\",\"selected\":false},\"selectedCount\":0,\"title\":\"No Cost EMI\"},{\"childCategory\":false,\"count\":4,\"highlighted\":false,\"leafNode\":false,\"parentCategory\":false,\"resource\":{\"params\":\"facets.offer_type%5B%5D=Special+Price\",\"selected\":false},\"selectedCount\":0,\"title\":\"Special Price\"}]}]},{\"type\":\"scrollableView\",\"id\":\"graphics_memory_type\",\"metadata\":{\"showCount\":false,\"subtext\":\"\",\"fieldName\":\"dedicated_graphic_memory_type\",\"facetCountThreshold\":30,\"nested\":true},\"title\":\"Graphics Memory Type\",\"values\":[{\"type\":\"checkbox\",\"id\":\"popularity\",\"values\":[{\"childCategory\":false,\"count\":2,\"highlighted\":false,\"leafNode\":false,\"parentCategory\":false,\"resource\":{\"params\":\"facets.graphics_memory_type%5B%5D=GDDR3\",\"selected\":false},\"selectedCount\":0,\"title\":\"GDDR3\"},{\"childCategory\":false,\"count\":4,\"highlighted\":false,\"leafNode\":false,\"parentCategory\":false,\"resource\":{\"params\":\"facets.graphics_memory_type%5B%5D=DDR4\",\"selected\":false},\"selectedCount\":0,\"title\":\"DDR4\"},{\"childCategory\":false,\"count\":5,\"highlighted\":false,\"leafNode\":false,\"parentCategory\":false,\"resource\":{\"params\":\"facets.graphics_memory_type%5B%5D=DDR3\",\"selected\":false},\"selectedCount\":0,\"title\":\"DDR3\"},{\"childCategory\":false,\"count\":6,\"highlighted\":false,\"leafNode\":false,\"parentCategory\":false,\"resource\":{\"params\":\"facets.graphics_memory_type%5B%5D=DDR5\",\"selected\":false},\"selectedCount\":0,\"title\":\"DDR5\"},{\"childCategory\":false,\"count\":112,\"highlighted\":false,\"leafNode\":false,\"parentCategory\":false,\"resource\":{\"params\":\"facets.graphics_memory_type%5B%5D=GDDR5\",\"selected\":false},\"selectedCount\":0,\"title\":\"GDDR5\"},{\"childCategory\":false,\"count\":136,\"highlighted\":false,\"leafNode\":false,\"parentCategory\":false,\"resource\":{\"params\":\"facets.graphics_memory_type%5B%5D=GDDR6\",\"selected\":false},\"selectedCount\":0,\"title\":\"GDDR6\"}]}]},{\"type\":\"scrollableView\",\"id\":\"availability\",\"metadata\":{\"showCount\":false,\"subtext\":\"\",\"facetCountThreshold\":30,\"nested\":false},\"title\":\"Availability\",\"values\":[{\"type\":\"checkbox\",\"id\":\"alphabetical\",\"values\":[{\"childCategory\":false,\"count\":737,\"highlighted\":false,\"leafNode\":false,\"parentCategory\":false,\"resource\":{\"params\":\"facets.availability%5B%5D=Include+Out+of+Stock\",\"selected\":false},\"selectedCount\":0,\"title\":\"Include Out of Stock\"}]}]}],\"filtersApplied\":{\"filterCount\":0},\"parentMetaInfoList\":[{\"id\":\"6bo\",\"title\":\"Computers\",\"totalProduct\":0,\"uri\":\"/computers/pr?sid=6bo&q=laptop\"},{\"id\":\"6bo/b5g\",\"title\":\"Laptops\",\"totalProduct\":0,\"uri\":\"/laptops/pr?sid=6bo,b5g&q=laptop\",\"child\":[]}]}},\"store\":\"search.flipkart.com\"}}},{\"slotType\":\"WIDGET\",\"id\":3,\"parentId\":10002,\"layoutParams\":{\"orientation\":\"\",\"widgetHeight\":300,\"widgetWidth\":12},\"dataId\":\"-2137170430\",\"elementId\":\"3-BUYING_GUIDE_ANNOUNCEMENT\",\"hasWidgetDataChanged\":true,\"ttl\":3000,\"widget\":{\"type\":\"BUYING_GUIDE_ANNOUNCEMENT\",\"data\":{\"renderableComponents\":[{\"action\":{\"constraints\":null,\"fallback\":null,\"loginType\":\"LOGIN_NOT_REQUIRED\",\"omnitureData\":null,\"originalUrl\":\"/buying-guide/laptops?sid=6bo,b5g\",\"params\":{\"screenName\":\"clp\",\"store\":\"6bo,b5g\",\"url\":\"http://www.flipkart.com/buying-guide/laptops?sid=6bo,b5g\"},\"requiredPermissionType\":null,\"screenType\":\"multiWidgetPage\",\"tracking\":{},\"type\":\"NAVIGATION\",\"url\":\"/buying-guide/laptops?sid=6bo,b5g\",\"validationMeta\":null},\"metaData\":null,\"tracking\":null,\"trackingData\":null,\"value\":{\"type\":\"AnnouncementValue\",\"subTitle\":\"Go to\",\"title\":\"Laptop Buying Guide\"}}]}}}],\"10003\":[{\"slotType\":\"LOGICAL\",\"id\":10004,\"parentId\":10003,\"layoutParams\":{\"alignItems\":\"flex-end\",\"backgroundColor\":\"#ffffff\",\"orientation\":\"\",\"widgetHeight\":150,\"widgetWidth\":12},\"childArrangement\":\"ADJACENT\"},{\"slotType\":\"WIDGET\",\"id\":8001000,\"parentId\":10003,\"layoutParams\":{\"orientation\":\"\",\"widgetHeight\":150,\"widgetWidth\":12},\"dataId\":\"1974796042\",\"elementId\":\"8001000-PRODUCT_SUMMARY\",\"hasWidgetDataChanged\":true,\"ttl\":3000,\"widget\":{\"type\":\"PRODUCT_SUMMARY\",\"viewType\":\"LIST_LARGE\",\"data\":{\"maxCardCount\":1,\"products\":[{\"adInfo\":{\"adSymbolDisabled\":null,\"bannerId\":\"-1\",\"impressionId\":\"en_sO2JoGGXnEpiPv5Z0NrfZXnzIXgoc1Nrzz2qZlYj+MvBDg40KGlufhoeHesA9x2/Yb31eCDULCHyJJ//p1jWeg==\",\"listingId\":\"LSTCOMFUR8X6RGZGYCJLMUQYG\",\"marketplaceId\":\"FLIPKART\",\"numResults\":730,\"productId\":\"COMFUR8X6RGZGYCJ\",\"responseId\":\"a34ade47-0df5-4ca4-a483-0ea1f0ee37cb\"},\"addToWishlist\":{\"action\":{\"constraints\":null,\"fallback\":null,\"loginType\":\"LOGIN_NOT_REQUIRED\",\"omnitureData\":null,\"originalUrl\":null,\"params\":{\"valid\":true,\"productId\":\"COMFUR8X6RGZGYCJ\"},\"requiredPermissionType\":null,\"screenType\":\"multiWidgetPage\",\"tracking\":{},\"type\":\"WISHLIST_ADD\",\"url\":null,\"validationMeta\":null},\"metaData\":null,\"tracking\":null,\"trackingData\":null,\"value\":{\"type\":\"ProductActionValue\",\"actionType\":\"ADD_TO_WISHLIST\",\"enabled\":true}},\"productInfo\":{\"action\":{\"constraints\":null,\"fallback\":null,\"loginType\":\"LOGIN_NOT_REQUIRED\",\"omnitureData\":\"deep_linking\",\"originalUrl\":null,\"params\":{\"valid\":true,\"productId\":\"COMFUR8X6RGZGYCJ\",\"marketplace\":\"FLIPKART\",\"screenName\":\"PRODUCT_PAGE\",\"listingId\":\"LSTCOMFUR8X6RGZGYCJLMUQYG\",\"pids\":[\"COMFUR8X6RGZGYCJ\"],\"loadingStateKey\":\"LoadingStateDefaultNew\",\"lids\":[\"LSTCOMFUR8X6RGZGYCJLMUQYG\"]},\"requiredPermissionType\":null,\"screenType\":\"productPage\",\"tracking\":{\"impressionId\":\"en_sO2JoGGXnEpiPv5Z0NrfZXnzIXgoc1Nrzz2qZlYj+MvBDg40KGlufhoeHesA9x2/Yb31eCDULCHyJJ//p1jWeg==\",\"prop64\":\"SS_cnc\",\"position\":\"1\",\"contentType\":\"productCard\",\"contextType\":\"widget\"},\"type\":\"NAVIGATION\",\"url\":\"/acer-nitro-5-ryzen-hexa-core-4600h-8-gb-1-tb-hdd-256-gb-ssd-windows-10-home-4-graphics-nvidia-geforce-gtx-1650-an515-44-r9qa-gaming-laptop/p/itm4302e2e2671a5?pid=COMFUR8X6RGZGYCJ&lid=LSTCOMFUR8X6RGZGYCJLMUQYG&marketplace=FLIPKART&q=laptop&store=6bo%2Fb5g\",\"validationMeta\":null},\"metaData\":null,\"tracking\":{\"impressionId\":\"en_sO2JoGGXnEpiPv5Z0NrfZXnzIXgoc1Nrzz2qZlYj+MvBDg40KGlufhoeHesA9x2/Yb31eCDULCHyJJ//p1jWeg==\",\"prop64\":\"SS_cnc\",\"position\":\"1\",\"contentType\":\"productCard\",\"contextType\":\"widget\"},\"trackingData\":null,\"value\":{\"type\":\"ProductSummaryValue\",\"analyticsData\":{\"category\":\"Laptops\",\"subCategory\":\"Laptop\",\"superCategory\":\"LaptopAndDesktop\",\"vertical\":\"Laptop\"},\"availability\":{\"MessageIntent\":\"positive\",\"displayState\":\"IN_STOCK\",\"intent\":\"positive\",\"showMessage\":false},\"baseUrl\":\"/acer-nitro-5-ryzen-hexa-core-4600h-8-gb-1-tb-hdd-256-gb-ssd-windows-10-home-4-graphics-nvidia-geforce-gtx-1650-an515-44-r9qa-gaming-laptop/p/itm4302e2e2671a5?pid=COMFUR8X6RGZGYCJ\",\"buyability\":{\"intent\":\"positive\",\"message\":null,\"showMessage\":false},\"conditionCallout\":false,\"flags\":{\"enableChat\":true,\"enableCompare\":true,\"enableFlipkartAdvantage\":true,\"enableOfferTag\":true,\"enableVisualDiscovery\":false,\"enableWishlist\":true,\"showSecondaryTitle\":true,\"swatchAvailableOnBrowsePage\":true},\"grade\":{\"color\":null,\"id\":null,\"name\":null,\"shortDesc\":null},\"id\":\"COMFUR8X6RGZGYCJ\",\"itemId\":\"ITM4302E2E2671A5\",\"keySpecs\":[\"AMD Ryzen 5 Hexa Core Processor\",\"8 GB DDR4 RAM\",\"64 bit Windows 10 Operating System\",\"1 TB HDD|256 GB SSD\",\"39.62 cm (15.6 inch) Display\",\"Acer Care Center, Acer Product Registration, Acer Configuration Manager, NitroSense\"],\"listingId\":\"LSTCOMFUR8X6RGZGYCJLMUQYG\",\"media\":{\"images\":[{\"aspectRatio\":null,\"contentInfo\":null,\"height\":null,\"url\":\"http://rukmini1.flixcart.com/image/{@width}/{@height}/ke0a7ww0/computer/t/f/n/acer-original-imafusazjxw4v99h.jpeg?q={@quality}\",\"width\":null},{\"aspectRatio\":null,\"contentInfo\":null,\"height\":null,\"url\":\"http://rukmini1.flixcart.com/image/{@width}/{@height}/kcp4osw0/computer/9/8/r/acer-na-gaming-laptop-original-imaftrdhshzjyere.jpeg?q={@quality}\",\"width\":null},{\"aspectRatio\":null,\"contentInfo\":null,\"height\":null,\"url\":\"http://rukmini1.flixcart.com/image/{@width}/{@height}/kcp4osw0/computer/9/8/r/acer-na-gaming-laptop-original-imaftrdh6meegewz.jpeg?q={@quality}\",\"width\":null},{\"aspectRatio\":null,\"contentInfo\":null,\"height\":null,\"url\":\"http://rukmini1.flixcart.com/image/{@width}/{@height}/ke0a7ww0/computer/t/f/n/acer-original-imafusazfzfb25dj.jpeg?q={@quality}\",\"width\":null},{\"aspectRatio\":null,\"contentInfo\":null,\"height\":null,\"url\":\"http://rukmini1.flixcart.com/image/{@width}/{@height}/ke0a7ww0/computer/t/f/n/acer-original-imafusazfqvuhewz.jpeg?q={@quality}\",\"width\":null},{\"aspectRatio\":null,\"contentInfo\":null,\"height\":null,\"url\":\"http://rukmini1.flixcart.com/image/{@width}/{@height}/ke0a7ww0/computer/t/f/n/acer-original-imafusaz84xbd7hw.jpeg?q={@quality}\",\"width\":null},{\"aspectRatio\":null,\"contentInfo\":null,\"height\":null,\"url\":\"http://rukmini1.flixcart.com/image/{@width}/{@height}/kebpqq80/computer/y/c/j/acer-original-imafvfah6mrfzdwq.jpeg?q={@quality}\",\"width\":null},{\"aspectRatio\":null,\"contentInfo\":null,\"height\":null,\"url\":\"http://rukmini1.flixcart.com/image/{@width}/{@height}/ke0a7ww0/computer/t/f/n/acer-original-imafusazhxghfagd.jpeg?q={@quality}\",\"width\":null}]},\"minKeySpecs\":[\"NVIDIA GeForce GTX 1650 4 GB Gfx\",\"39.62 cm (15.6 inch) Full HD Display\",\"No Optical Disk Drive\"],\"pricing\":{\"type\":\"ListingPriceValue\",\"deliveryCharge\":{\"additionalText\":null,\"currency\":\"INR\",\"decimalValue\":\"0.00\",\"discount\":null,\"downpaymentRate\":0,\"downpaymentRequired\":false,\"name\":\"Delivery Charges\",\"priceType\":null,\"strikeOff\":false,\"value\":0},\"discountAmount\":14009,\"extraDiscount\":null,\"finalPrice\":{\"additionalText\":null,\"currency\":\"INR\",\"decimalValue\":\"64990.00\",\"discount\":null,\"downpaymentRate\":0,\"downpaymentRequired\":false,\"name\":\"Total\",\"priceType\":null,\"strikeOff\":false,\"value\":64990},\"finalSavingsText\":null,\"knowMore\":null,\"mrp\":{\"additionalText\":\"(incl. of all taxes)\",\"currency\":\"INR\",\"decimalValue\":\"78999.00\",\"discount\":null,\"downpaymentRate\":0,\"downpaymentRequired\":false,\"name\":\"Maximum Retail Price\",\"priceType\":null,\"strikeOff\":true,\"value\":78999},\"partPriceInfo\":null,\"plusPriceInfo\":{\"type\":\"FormattedMessageValue\",\"data\":[{\"type\":\"FormattedRichTextData\",\"value\":{\"type\":\"RichTextValue\",\"style\":{\"color\":\"#000000\",\"fontSize\":14,\"fontStyle\":\"normal\",\"fontWeight\":\"normal\"},\"text\":\"Or Pay ₹64,890 + \"}},{\"type\":\"FormattedImageData\",\"value\":{\"type\":\"ImageValue\",\"aspectRatio\":\"1:1\",\"dynamicImageUrl\":\"https://rukminim1.flixcart.com/www/{@width}/{@height}/promos/18/07/2019/4aebbd99-7478-411e-aced-265e7722d18d.png?q={@quality}\",\"height\":0,\"width\":0}},{\"type\":\"FormattedRichTextData\",\"value\":{\"type\":\"RichTextValue\",\"style\":{\"color\":\"#000000\",\"fontSize\":14,\"fontStyle\":\"normal\",\"fontWeight\":\"normal\"},\"text\":\" 100\"}}]},\"priceDescriptions\":null,\"pricePerUnit\":null,\"priceTags\":null,\"prices\":[{\"additionalText\":null,\"currency\":\"INR\",\"decimalValue\":\"78999.00\",\"discount\":17,\"downpaymentRate\":0,\"downpaymentRequired\":false,\"name\":\"Selling Price\",\"priceType\":\"FSP\",\"strikeOff\":true,\"value\":78999},{\"additionalText\":null,\"currency\":\"INR\",\"decimalValue\":\"64990.00\",\"discount\":null,\"downpaymentRate\":0,\"downpaymentRequired\":false,\"name\":\"Special Price\",\"priceType\":\"SPECIAL_PRICE\",\"strikeOff\":false,\"value\":64990}],\"showDiscountAsAmount\":false,\"totalDiscount\":17},\"productBrand\":\"acer\",\"productCardTagDetails\":[{\"image\":{\"type\":\"ImageValue\",\"dynamicImageUrl\":\"https://rukminim1.flixcart.com/www/{@width}/{@height}/promos/21/07/2017/e8625e14-3277-4f16-a4d4-df8ed525905b.png?q={@quality}\",\"height\":0,\"width\":0},\"tagDetails\":null,\"type\":\"F_ASSURED\"}],\"rating\":{\"type\":\"RatingValue\",\"average\":4.4,\"base\":5,\"breakup\":[13,3,8,28,120],\"count\":172,\"histogramBaseCount\":120,\"reviewCount\":30},\"smartUrl\":\"http://dl.flipkart.com/dl/acer-nitro-5-ryzen-hexa-core-4600h-8-gb-1-tb-hdd-256-gb-ssd-windows-10-home-4-graphics-nvidia-geforce-gtx-1650-an515-44-r9qa-gaming-laptop/p/itm4302e2e2671a5?pid=COMFUR8X6RGZGYCJ\",\"tags\":[],\"titles\":{\"subtitle\":\"15.6 inch, Obsidian Black, 2.3 kg\",\"title\":\"acer Nitro 5 Ryzen 5 Hexa Core 4600H - (8 GB/1 TB HDD/256 GB SSD/Windows 10 Home/4 GB Graphics/NVIDIA GeForce GTX 1650) AN515-44-R9QA Gaming Laptop\"},\"vertical\":\"computer\",\"warrantySummary\":\"1 Year International Travelers Warranty (ITW)\"}}}]}}},{\"slotType\":\"WIDGET\",\"id\":8001001,\"parentId\":10003,\"layoutParams\":{\"orientation\":\"\",\"widgetHeight\":150,\"widgetWidth\":12},\"dataId\":\"1090458482\",\"elementId\":\"8001001-PRODUCT_SUMMARY\",\"hasWidgetDataChanged\":true,\"ttl\":3000,\"widget\":{\"type\":\"PRODUCT_SUMMARY\",\"viewType\":\"LIST_LARGE\",\"data\":{\"maxCardCount\":1,\"products\":[{\"adInfo\":{\"adSymbolDisabled\":null,\"bannerId\":\"191773632\",\"impressionId\":\"en_sO2JoGGXnEpiPv5Z0NrfZXnzIXgoc1Nrzz2qZlYj+Mt9QDzSdRhTC8bHzKYYFY/zDvavM87VloxcTguxX+ul1Q==\",\"listingId\":\"LSTCOMFTPG2R9TXBRMUGCOCJE\",\"marketplaceId\":\"FLIPKART\",\"numResults\":730,\"productId\":\"COMFTPG2R9TXBRMU\",\"responseId\":\"a34ade47-0df5-4ca4-a483-0ea1f0ee37cb\"},\"addToWishlist\":{\"action\":{\"constraints\":null,\"fallback\":null,\"loginType\":\"LOGIN_NOT_REQUIRED\",\"omnitureData\":null,\"originalUrl\":null,\"params\":{\"valid\":true,\"productId\":\"COMFTPG2R9TXBRMU\"},\"requiredPermissionType\":null,\"screenType\":\"multiWidgetPage\",\"tracking\":{},\"type\":\"WISHLIST_ADD\",\"url\":null,\"validationMeta\":null},\"metaData\":null,\"tracking\":null,\"trackingData\":null,\"value\":{\"type\":\"ProductActionValue\",\"actionType\":\"ADD_TO_WISHLIST\",\"enabled\":true}},\"productInfo\":{\"action\":{\"constraints\":null,\"fallback\":null,\"loginType\":\"LOGIN_NOT_REQUIRED\",\"omnitureData\":\"deep_linking\",\"originalUrl\":null,\"params\":{\"valid\":true,\"productId\":\"COMFTPG2R9TXBRMU\",\"marketplace\":\"FLIPKART\",\"screenName\":\"PRODUCT_PAGE\",\"listingId\":\"LSTCOMFTPG2R9TXBRMUGCOCJE\",\"pids\":[\"COMFTPG2R9TXBRMU\"],\"loadingStateKey\":\"LoadingStateDefaultNew\",\"lids\":[\"LSTCOMFTPG2R9TXBRMUGCOCJE\"]},\"requiredPermissionType\":null,\"screenType\":\"productPage\",\"tracking\":{\"impressionId\":\"en_sO2JoGGXnEpiPv5Z0NrfZXnzIXgoc1Nrzz2qZlYj+Mt9QDzSdRhTC8bHzKYYFY/zDvavM87VloxcTguxX+ul1Q==\",\"prop64\":\"SS_ncemi:cnc\",\"position\":\"2\",\"contentType\":\"productCard\",\"contextType\":\"widget\"},\"type\":\"NAVIGATION\",\"url\":\"/avita-liber-core-i5-10th-gen-8-gb-256-gb-ssd-windows-10-home-ns14a8inf542-cs-thin-light-laptop/p/itmf563723051847?pid=COMFTPG2R9TXBRMU&lid=LSTCOMFTPG2R9TXBRMUGCOCJE&marketplace=FLIPKART&q=laptop&store=6bo%2Fb5g\",\"validationMeta\":null},\"metaData\":null,\"tracking\":{\"impressionId\":\"en_sO2JoGGXnEpiPv5Z0NrfZXnzIXgoc1Nrzz2qZlYj+Mt9QDzSdRhTC8bHzKYYFY/zDvavM87VloxcTguxX+ul1Q==\",\"prop64\":\"SS_ncemi:cnc\",\"position\":\"2\",\"contentType\":\"productCard\",\"contextType\":\"widget\"},\"trackingData\":null,\"value\":{\"type\":\"ProductSummaryValue\",\"analyticsData\":{\"category\":\"Laptops\",\"subCategory\":\"Laptop\",\"superCategory\":\"LaptopAndDesktop\",\"vertical\":\"Laptop\"},\"availability\":{\"MessageIntent\":\"positive\",\"displayState\":\"IN_STOCK\",\"intent\":\"positive\",\"showMessage\":false},\"baseUrl\":\"/avita-liber-core-i5-10th-gen-8-gb-256-gb-ssd-windows-10-home-ns14a8inf542-cs-thin-light-laptop/p/itmf563723051847?pid=COMFTPG2R9TXBRMU\",\"buyability\":{\"intent\":\"positive\",\"message\":null,\"showMessage\":false},\"conditionCallout\":false,\"flags\":{\"enableChat\":true,\"enableCompare\":true,\"enableFlipkartAdvantage\":true,\"enableOfferTag\":true,\"enableVisualDiscovery\":false,\"enableWishlist\":true,\"showSecondaryTitle\":true,\"swatchAvailableOnBrowsePage\":true},\"grade\":{\"color\":null,\"id\":null,\"name\":null,\"shortDesc\":null},\"id\":\"COMFTPG2R9TXBRMU\",\"itemId\":\"ITMF563723051847\",\"keySpecs\":[\"Intel Core i5 Processor (10th Gen)\",\"8 GB DDR4 RAM\",\"64 bit Windows 10 Operating System\",\"256 GB SSD\",\"35.56 cm (14 inch) Display\",\"Microsoft Office 365 (for 1 Year)\"],\"listingId\":\"LSTCOMFTPG2R9TXBRMUGCOCJE\",\"media\":{\"images\":[{\"aspectRatio\":null,\"contentInfo\":null,\"height\":null,\"url\":\"http://rukmini1.flixcart.com/image/{@width}/{@height}/kg2l47k0/computer/r/m/u/avita-original-imafwdc34ykztesp.jpeg?q={@quality}\",\"width\":null},{\"aspectRatio\":null,\"contentInfo\":null,\"height\":null,\"url\":\"http://rukmini1.flixcart.com/image/{@width}/{@height}/kcxpbww0/computer/2/v/p/avita-original-imaftyfrvyrjawq3.jpeg?q={@quality}\",\"width\":null},{\"aspectRatio\":null,\"contentInfo\":null,\"height\":null,\"url\":\"http://rukmini1.flixcart.com/image/{@width}/{@height}/kcxpbww0/computer/2/v/p/avita-original-imaftyfrdhugjfnm.jpeg?q={@quality}\",\"width\":null},{\"aspectRatio\":null,\"contentInfo\":null,\"height\":null,\"url\":\"http://rukmini1.flixcart.com/image/{@width}/{@height}/kcxpbww0/computer/2/v/p/avita-original-imaftyfr7ub5ygdg.jpeg?q={@quality}\",\"width\":null},{\"aspectRatio\":null,\"contentInfo\":null,\"height\":null,\"url\":\"http://rukmini1.flixcart.com/image/{@width}/{@height}/kcxpbww0/computer/2/v/p/avita-original-imaftyfraz7gp2dh.jpeg?q={@quality}\",\"width\":null},{\"aspectRatio\":null,\"contentInfo\":null,\"height\":null,\"url\":\"http://rukmini1.flixcart.com/image/{@width}/{@height}/kcxpbww0/computer/2/v/p/avita-original-imaftyfrffgtmamn.jpeg?q={@quality}\",\"width\":null}]},\"minKeySpecs\":[\"35.56 cm (14 inch) Full HD Display\",\"1.25 kg\",\"Microsoft Office\",\"No Optical Disk Drive\"],\"pricing\":{\"type\":\"ListingPriceValue\",\"deliveryCharge\":{\"additionalText\":null,\"currency\":\"INR\",\"decimalValue\":\"0.00\",\"discount\":null,\"downpaymentRate\":0,\"downpaymentRequired\":false,\"name\":\"Delivery Charges\",\"priceType\":null,\"strikeOff\":false,\"value\":0},\"discountAmount\":12100,\"extraDiscount\":null,\"finalPrice\":{\"additionalText\":null,\"currency\":\"INR\",\"decimalValue\":\"40890.00\",\"discount\":null,\"downpaymentRate\":0,\"downpaymentRequired\":false,\"name\":\"Total\",\"priceType\":null,\"strikeOff\":false,\"value\":40890},\"finalSavingsText\":null,\"knowMore\":null,\"mrp\":{\"additionalText\":\"(incl. of all taxes)\",\"currency\":\"INR\",\"decimalValue\":\"52990.00\",\"discount\":null,\"downpaymentRate\":0,\"downpaymentRequired\":false,\"name\":\"Maximum Retail Price\",\"priceType\":null,\"strikeOff\":true,\"value\":52990},\"partPriceInfo\":null,\"plusPriceInfo\":{\"type\":\"FormattedMessageValue\",\"data\":[{\"type\":\"FormattedRichTextData\",\"value\":{\"type\":\"RichTextValue\",\"style\":{\"color\":\"#000000\",\"fontSize\":14,\"fontStyle\":\"normal\",\"fontWeight\":\"normal\"},\"text\":\"Or Pay ₹40,790 + \"}},{\"type\":\"FormattedImageData\",\"value\":{\"type\":\"ImageValue\",\"aspectRatio\":\"1:1\",\"dynamicImageUrl\":\"https://rukminim1.flixcart.com/www/{@width}/{@height}/promos/18/07/2019/4aebbd99-7478-411e-aced-265e7722d18d.png?q={@quality}\",\"height\":0,\"width\":0}},{\"type\":\"FormattedRichTextData\",\"value\":{\"type\":\"RichTextValue\",\"style\":{\"color\":\"#000000\",\"fontSize\":14,\"fontStyle\":\"normal\",\"fontWeight\":\"normal\"},\"text\":\" 100\"}}]},\"priceDescriptions\":null,\"pricePerUnit\":null,\"priceTags\":null,\"prices\":[{\"additionalText\":null,\"currency\":\"INR\",\"decimalValue\":\"52990.00\",\"discount\":22,\"downpaymentRate\":0,\"downpaymentRequired\":false,\"name\":\"Selling Price\",\"priceType\":\"FSP\",\"strikeOff\":true,\"value\":52990},{\"additionalText\":null,\"currency\":\"INR\",\"decimalValue\":\"40890.00\",\"discount\":null,\"downpaymentRate\":0,\"downpaymentRequired\":false,\"name\":\"Special Price\",\"priceType\":\"SPECIAL_PRICE\",\"strikeOff\":false,\"value\":40890}],\"showDiscountAsAmount\":false,\"totalDiscount\":22},\"productBrand\":\"Avita\",\"productCardTagDetails\":[{\"image\":{\"type\":\"ImageValue\",\"dynamicImageUrl\":\"https://rukminim1.flixcart.com/www/{@width}/{@height}/promos/21/07/2017/e8625e14-3277-4f16-a4d4-df8ed525905b.png?q={@quality}\",\"height\":0,\"width\":0},\"tagDetails\":null,\"type\":\"F_ASSURED\"}],\"rating\":{\"type\":\"RatingValue\",\"average\":4,\"base\":5,\"breakup\":[15,5,8,34,61],\"count\":123,\"histogramBaseCount\":61,\"reviewCount\":13},\"smartUrl\":\"http://dl.flipkart.com/dl/avita-liber-core-i5-10th-gen-8-gb-256-gb-ssd-windows-10-home-ns14a8inf542-cs-thin-light-laptop/p/itmf563723051847?pid=COMFTPG2R9TXBRMU\",\"tags\":[],\"titles\":{\"subtitle\":\"14 inch, Cloud Silver, 1.25 kg, With MS Office\",\"title\":\"Avita Liber Core i5 10th Gen - (8 GB/256 GB SSD/Windows 10 Home) NS14A8INF542-CS Thin and Light Laptop\"},\"vertical\":\"computer\",\"warrantySummary\":\"18 Months Warranty + 6 Months Extended Warranty (6 Months Extended Warranty Upon Online Product Registration on www.avita-india.com)\"}},\"snippets\":[{\"type\":\"FormattedMessageValue\",\"data\":[{\"type\":\"FormattedRichTextData\",\"value\":{\"type\":\"RichTextValue\",\"style\":{\"color\":\"#000000\",\"fontSize\":12,\"fontStyle\":\"normal\",\"fontWeight\":\"normal\"},\"text\":\"No Cost EMI\"}}]}]}]}}},{\"slotType\":\"WIDGET\",\"id\":8001002,\"parentId\":10003,\"layoutParams\":{\"orientation\":\"\",\"widgetHeight\":150,\"widgetWidth\":12},\"dataId\":\"-160749482\",\"elementId\":\"8001002-PRODUCT_SUMMARY\",\"hasWidgetDataChanged\":true,\"ttl\":3000,\"widget\":{\"type\":\"PRODUCT_SUMMARY\",\"viewType\":\"LIST_LARGE\",\"data\":{\"maxCardCount\":1,\"products\":[{\"addToWishlist\":{\"action\":{\"constraints\":null,\"fallback\":null,\"loginType\":\"LOGIN_NOT_REQUIRED\",\"omnitureData\":null,\"originalUrl\":null,\"params\":{\"valid\":true,\"productId\":\"COMFZ2MUDVF73GDA\"},\"requiredPermissionType\":null,\"screenType\":\"multiWidgetPage\",\"tracking\":{},\"type\":\"WISHLIST_ADD\",\"url\":null,\"validationMeta\":null},\"metaData\":null,\"tracking\":null,\"trackingData\":null,\"value\":{\"type\":\"ProductActionValue\",\"actionType\":\"ADD_TO_WISHLIST\",\"enabled\":true}},\"productInfo\":{\"action\":{\"constraints\":null,\"fallback\":null,\"loginType\":\"LOGIN_NOT_REQUIRED\",\"omnitureData\":\"deep_linking\",\"originalUrl\":null,\"params\":{\"valid\":true,\"productId\":\"COMFZ2MUDVF73GDA\",\"marketplace\":\"FLIPKART\",\"screenName\":\"PRODUCT_PAGE\",\"listingId\":\"LSTCOMFZ2MUDVF73GDADFZCZQ\",\"pids\":[\"COMFZ2MUDVF73GDA\"],\"loadingStateKey\":\"LoadingStateDefaultNew\",\"lids\":[\"LSTCOMFZ2MUDVF73GDADFZCZQ\"]},\"requiredPermissionType\":null,\"screenType\":\"productPage\",\"tracking\":{\"impressionId\":\"a34ade47-0df5-4ca4-a483-0ea1f0ee37cb.COMFZ2MUDVF73GDA.SEARCH\",\"position\":\"3\",\"contentType\":\"productCard\",\"contextType\":\"widget\"},\"type\":\"NAVIGATION\",\"url\":\"/hp-15s-dual-core-3020e-4-gb-1-tb-hdd-windows-10-home-15s-gy0003au-thin-light-laptop/p/itm4b0ea73088120?pid=COMFZ2MUDVF73GDA&lid=LSTCOMFZ2MUDVF73GDADFZCZQ&marketplace=FLIPKART&q=laptop&store=6bo%2Fb5g\",\"validationMeta\":null},\"metaData\":null,\"tracking\":{\"impressionId\":\"a34ade47-0df5-4ca4-a483-0ea1f0ee37cb.COMFZ2MUDVF73GDA.SEARCH\",\"position\":\"3\",\"contentType\":\"productCard\",\"contextType\":\"widget\"},\"trackingData\":null,\"value\":{\"type\":\"ProductSummaryValue\",\"analyticsData\":{\"category\":\"Laptops\",\"subCategory\":\"Laptop\",\"superCategory\":\"LaptopAndDesktop\",\"vertical\":\"Laptop\"},\"availability\":{\"MessageIntent\":\"positive\",\"displayState\":\"IN_STOCK\",\"intent\":\"positive\",\"showMessage\":false},\"baseUrl\":\"/hp-15s-dual-core-3020e-4-gb-1-tb-hdd-windows-10-home-15s-gy0003au-thin-light-laptop/p/itm4b0ea73088120?pid=COMFZ2MUDVF73GDA\",\"buyability\":{\"intent\":\"positive\",\"message\":null,\"showMessage\":false},\"conditionCallout\":false,\"flags\":{\"enableChat\":true,\"enableCompare\":true,\"enableFlipkartAdvantage\":true,\"enableOfferTag\":true,\"enableVisualDiscovery\":false,\"enableWishlist\":true,\"showSecondaryTitle\":true,\"swatchAvailableOnBrowsePage\":true},\"grade\":{\"color\":null,\"id\":null,\"name\":null,\"shortDesc\":null},\"id\":\"COMFZ2MUDVF73GDA\",\"itemId\":\"ITM4B0EA73088120\",\"keySpecs\":[\"AMD Dual Core Processor\",\"4 GB DDR4 RAM\",\"64 bit Windows 10 Operating System\",\"1 TB HDD\",\"39.62 cm (15.6 inch) Display\",\"HP Documentation, HP Smart, HP Support Assistant\"],\"listingId\":\"LSTCOMFZ2MUDVF73GDADFZCZQ\",\"media\":{\"images\":[{\"aspectRatio\":null,\"contentInfo\":null,\"height\":null,\"url\":\"http://rukmini1.flixcart.com/image/{@width}/{@height}/khwbde80/computer/c/4/h/hp-original-imafxtarxygbevbh.jpeg?q={@quality}\",\"width\":null},{\"aspectRatio\":null,\"contentInfo\":null,\"height\":null,\"url\":\"http://rukmini1.flixcart.com/image/{@width}/{@height}/khwbde80/computer/c/4/h/hp-original-imafxtarxq89dhgq.jpeg?q={@quality}\",\"width\":null},{\"aspectRatio\":null,\"contentInfo\":null,\"height\":null,\"url\":\"http://rukmini1.flixcart.com/image/{@width}/{@height}/khwbde80/computer/c/4/h/hp-original-imafxtarabjjhazg.jpeg?q={@quality}\",\"width\":null},{\"aspectRatio\":null,\"contentInfo\":null,\"height\":null,\"url\":\"http://rukmini1.flixcart.com/image/{@width}/{@height}/khwbde80/computer/c/4/h/hp-original-imafxtarmdrn4brk.jpeg?q={@quality}\",\"width\":null},{\"aspectRatio\":null,\"contentInfo\":null,\"height\":null,\"url\":\"http://rukmini1.flixcart.com/image/{@width}/{@height}/khwbde80/computer/c/4/h/hp-original-imafxtaregqkngm2.jpeg?q={@quality}\",\"width\":null},{\"aspectRatio\":null,\"contentInfo\":null,\"height\":null,\"url\":\"http://rukmini1.flixcart.com/image/{@width}/{@height}/khwbde80/computer/c/4/h/hp-original-imafxtarw8zfs6gy.jpeg?q={@quality}\",\"width\":null}]},\"minKeySpecs\":[\"AMD Radeon Gfx\",\"39.62 cm (15.6 inch) HD Display\",\"1.76 kg\",\"No Optical Disk Drive\"],\"pricing\":{\"type\":\"ListingPriceValue\",\"deliveryCharge\":{\"additionalText\":null,\"currency\":\"INR\",\"decimalValue\":\"0.00\",\"discount\":null,\"downpaymentRate\":0,\"downpaymentRequired\":false,\"name\":\"Delivery Charges\",\"priceType\":null,\"strikeOff\":false,\"value\":0},\"discountAmount\":6,\"extraDiscount\":null,\"finalPrice\":{\"additionalText\":null,\"currency\":\"INR\",\"decimalValue\":\"25990.00\",\"discount\":null,\"downpaymentRate\":0,\"downpaymentRequired\":false,\"name\":\"Total\",\"priceType\":null,\"strikeOff\":false,\"value\":25990},\"finalSavingsText\":null,\"knowMore\":null,\"mrp\":{\"additionalText\":\"(incl. of all taxes)\",\"currency\":\"INR\",\"decimalValue\":\"25996.00\",\"discount\":null,\"downpaymentRate\":0,\"downpaymentRequired\":false,\"name\":\"Maximum Retail Price\",\"priceType\":null,\"strikeOff\":true,\"value\":25996},\"partPriceInfo\":null,\"plusPriceInfo\":null,\"priceDescriptions\":null,\"pricePerUnit\":null,\"priceTags\":null,\"prices\":[{\"additionalText\":null,\"currency\":\"INR\",\"decimalValue\":\"25996.00\",\"discount\":null,\"downpaymentRate\":0,\"downpaymentRequired\":false,\"name\":\"Selling Price\",\"priceType\":\"FSP\",\"strikeOff\":true,\"value\":25996},{\"additionalText\":null,\"currency\":\"INR\",\"decimalValue\":\"25990.00\",\"discount\":null,\"downpaymentRate\":0,\"downpaymentRequired\":false,\"name\":\"Special Price\",\"priceType\":\"SPECIAL_PRICE\",\"strikeOff\":false,\"value\":25990}],\"showDiscountAsAmount\":false,\"totalDiscount\":0},\"productBrand\":\"HP\",\"productCardTagDetails\":[{\"image\":{\"type\":\"ImageValue\",\"dynamicImageUrl\":\"https://rukminim1.flixcart.com/www/{@width}/{@height}/promos/21/07/2017/e8625e14-3277-4f16-a4d4-df8ed525905b.png?q={@quality}\",\"height\":0,\"width\":0},\"tagDetails\":null,\"type\":\"F_ASSURED\"}],\"rating\":{\"type\":\"RatingValue\",\"average\":3.9,\"base\":5,\"breakup\":[199,76,193,352,813],\"count\":1633,\"histogramBaseCount\":813,\"reviewCount\":180},\"smartUrl\":\"http://dl.flipkart.com/dl/hp-15s-dual-core-3020e-4-gb-1-tb-hdd-windows-10-home-15s-gy0003au-thin-light-laptop/p/itm4b0ea73088120?pid=COMFZ2MUDVF73GDA\",\"tags\":[],\"titles\":{\"subtitle\":\"15.6 inch, Jet Black, 1.76 kg\",\"title\":\"HP 15s Dual Core 3020e - (4 GB/1 TB HDD/Windows 10 Home) 15s-GY0003AU Thin and Light Laptop\"},\"vertical\":\"computer\",\"warrantySummary\":\"1 Year Onsite Warranty\"}}}]}}},{\"slotType\":\"WIDGET\",\"id\":8001003,\"parentId\":10003,\"layoutParams\":{\"orientation\":\"\",\"widgetHeight\":150,\"widgetWidth\":12},\"dataId\":\"1659983173\",\"elementId\":\"8001003-PRODUCT_SUMMARY\",\"hasWidgetDataChanged\":true,\"ttl\":3000,\"widget\":{\"type\":\"PRODUCT_SUMMARY\",\"viewType\":\"LIST_LARGE\",\"data\":{\"maxCardCount\":1,\"products\":[{\"addToWishlist\":{\"action\":{\"constraints\":null,\"fallback\":null,\"loginType\":\"LOGIN_NOT_REQUIRED\",\"omnitureData\":null,\"originalUrl\":null,\"params\":{\"valid\":true,\"productId\":\"COMG2TFSNK3KRFPA\"},\"requiredPermissionType\":null,\"screenType\":\"multiWidgetPage\",\"tracking\":{},\"type\":\"WISHLIST_ADD\",\"url\":null,\"validationMeta\":null},\"metaData\":null,\"tracking\":null,\"trackingData\":null,\"value\":{\"type\":\"ProductActionValue\",\"actionType\":\"ADD_TO_WISHLIST\",\"enabled\":true}},\"productInfo\":{\"action\":{\"constraints\":null,\"fallback\":null,\"loginType\":\"LOGIN_NOT_REQUIRED\",\"omnitureData\":\"deep_linking\",\"originalUrl\":null,\"params\":{\"valid\":true,\"productId\":\"COMG2TFSNK3KRFPA\",\"marketplace\":\"FLIPKART\",\"screenName\":\"PRODUCT_PAGE\",\"listingId\":\"LSTCOMG2TFSNK3KRFPAFSHCEC\",\"pids\":[\"COMG2TFSNK3KRFPA\"],\"loadingStateKey\":\"LoadingStateDefaultNew\",\"lids\":[\"LSTCOMG2TFSNK3KRFPAFSHCEC\"]},\"requiredPermissionType\":null,\"screenType\":\"productPage\",\"tracking\":{\"impressionId\":\"a34ade47-0df5-4ca4-a483-0ea1f0ee37cb.COMG2TFSNK3KRFPA.SEARCH\",\"prop64\":\"SS_ncemi:cnc\",\"position\":\"4\",\"contentType\":\"productCard\",\"contextType\":\"widget\"},\"type\":\"NAVIGATION\",\"url\":\"/hp-14s-core-i3-11th-gen-8-gb-256-gb-ssd-windows-10-home-14s-dy2501tu-thin-light-laptop/p/itmdce0f13dd3a4e?pid=COMG2TFSNK3KRFPA&lid=LSTCOMG2TFSNK3KRFPAFSHCEC&marketplace=FLIPKART&q=laptop&store=6bo%2Fb5g\",\"validationMeta\":null},\"metaData\":null,\"tracking\":{\"impressionId\":\"a34ade47-0df5-4ca4-a483-0ea1f0ee37cb.COMG2TFSNK3KRFPA.SEARCH\",\"prop64\":\"SS_ncemi:cnc\",\"position\":\"4\",\"contentType\":\"productCard\",\"contextType\":\"widget\"},\"trackingData\":null,\"value\":{\"type\":\"ProductSummaryValue\",\"analyticsData\":{\"category\":\"Laptops\",\"subCategory\":\"Laptop\",\"superCategory\":\"LaptopAndDesktop\",\"vertical\":\"Laptop\"},\"availability\":{\"MessageIntent\":\"positive\",\"displayState\":\"IN_STOCK\",\"intent\":\"positive\",\"showMessage\":false},\"baseUrl\":\"/hp-14s-core-i3-11th-gen-8-gb-256-gb-ssd-windows-10-home-14s-dy2501tu-thin-light-laptop/p/itmdce0f13dd3a4e?pid=COMG2TFSNK3KRFPA\",\"buyability\":{\"intent\":\"positive\",\"message\":null,\"showMessage\":false},\"conditionCallout\":false,\"flags\":{\"enableChat\":true,\"enableCompare\":true,\"enableFlipkartAdvantage\":true,\"enableOfferTag\":true,\"enableVisualDiscovery\":false,\"enableWishlist\":true,\"showSecondaryTitle\":true,\"swatchAvailableOnBrowsePage\":true},\"grade\":{\"color\":null,\"id\":null,\"name\":null,\"shortDesc\":null},\"id\":\"COMG2TFSNK3KRFPA\",\"itemId\":\"ITMDCE0F13DD3A4E\",\"keySpecs\":[\"Intel Core i3 Processor (11th Gen)\",\"8 GB DDR4 RAM\",\"64 bit Windows 10 Operating System\",\"256 GB SSD\",\"35.56 cm (14 inch) Display\",\"HP Documentation, HP SSRM, HP Smart, Microsoft Office 2019, McAfeeLiveSafe 30 day trial, HP Support Assistant\"],\"listingId\":\"LSTCOMG2TFSNK3KRFPAFSHCEC\",\"media\":{\"images\":[{\"aspectRatio\":null,\"contentInfo\":null,\"height\":null,\"url\":\"http://rukmini1.flixcart.com/image/{@width}/{@height}/kbqu4cw0/computer/v/r/y/hp-original-imaftyzqzbyerzgt.jpeg?q={@quality}\",\"width\":null},{\"aspectRatio\":null,\"contentInfo\":null,\"height\":null,\"url\":\"http://rukmini1.flixcart.com/image/{@width}/{@height}/kbqu4cw0/computer/v/r/y/hp-original-imaftyzqdczawzqt.jpeg?q={@quality}\",\"width\":null},{\"aspectRatio\":null,\"contentInfo\":null,\"height\":null,\"url\":\"http://rukmini1.flixcart.com/image/{@width}/{@height}/kbqu4cw0/computer/v/r/y/hp-original-imaftyzq8xvnpzkt.jpeg?q={@quality}\",\"width\":null},{\"aspectRatio\":null,\"contentInfo\":null,\"height\":null,\"url\":\"http://rukmini1.flixcart.com/image/{@width}/{@height}/kbqu4cw0/computer/v/r/y/hp-original-imaftyzqvgbdzxex.jpeg?q={@quality}\",\"width\":null},{\"aspectRatio\":null,\"contentInfo\":null,\"height\":null,\"url\":\"http://rukmini1.flixcart.com/image/{@width}/{@height}/kbqu4cw0/computer/v/r/y/hp-original-imaftyzqsz3xwbme.jpeg?q={@quality}\",\"width\":null},{\"aspectRatio\":null,\"contentInfo\":null,\"height\":null,\"url\":\"http://rukmini1.flixcart.com/image/{@width}/{@height}/kbqu4cw0/computer/v/r/y/hp-original-imaftyzqdhbq5vnv.jpeg?q={@quality}\",\"width\":null},{\"aspectRatio\":null,\"contentInfo\":null,\"height\":null,\"url\":\"http://rukmini1.flixcart.com/image/{@width}/{@height}/kl5hh8w0/computer/g/y/f/hp-original-imagyckn8ygzhzjh.jpeg?q={@quality}\",\"width\":null}]},\"minKeySpecs\":[\"35.56 cm (14 inch) Full HD Display\",\"1.46 kg\",\"Microsoft Office\",\"No Optical Disk Drive\"],\"pricing\":{\"type\":\"ListingPriceValue\",\"deliveryCharge\":{\"additionalText\":null,\"currency\":\"INR\",\"decimalValue\":\"0.00\",\"discount\":null,\"downpaymentRate\":0,\"downpaymentRequired\":false,\"name\":\"Delivery Charges\",\"priceType\":null,\"strikeOff\":false,\"value\":0},\"discountAmount\":4902,\"extraDiscount\":null,\"finalPrice\":{\"additionalText\":null,\"currency\":\"INR\",\"decimalValue\":\"40990.00\",\"discount\":null,\"downpaymentRate\":0,\"downpaymentRequired\":false,\"name\":\"Total\",\"priceType\":null,\"strikeOff\":false,\"value\":40990},\"finalSavingsText\":null,\"knowMore\":null,\"mrp\":{\"additionalText\":\"(incl. of all taxes)\",\"currency\":\"INR\",\"decimalValue\":\"45892.00\",\"discount\":null,\"downpaymentRate\":0,\"downpaymentRequired\":false,\"name\":\"Maximum Retail Price\",\"priceType\":null,\"strikeOff\":true,\"value\":45892},\"partPriceInfo\":null,\"plusPriceInfo\":{\"type\":\"FormattedMessageValue\",\"data\":[{\"type\":\"FormattedRichTextData\",\"value\":{\"type\":\"RichTextValue\",\"style\":{\"color\":\"#000000\",\"fontSize\":14,\"fontStyle\":\"normal\",\"fontWeight\":\"normal\"},\"text\":\"Or Pay ₹40,890 + \"}},{\"type\":\"FormattedImageData\",\"value\":{\"type\":\"ImageValue\",\"aspectRatio\":\"1:1\",\"dynamicImageUrl\":\"https://rukminim1.flixcart.com/www/{@width}/{@height}/promos/18/07/2019/4aebbd99-7478-411e-aced-265e7722d18d.png?q={@quality}\",\"height\":0,\"width\":0}},{\"type\":\"FormattedRichTextData\",\"value\":{\"type\":\"RichTextValue\",\"style\":{\"color\":\"#000000\",\"fontSize\":14,\"fontStyle\":\"normal\",\"fontWeight\":\"normal\"},\"text\":\" 100\"}}]},\"priceDescriptions\":null,\"pricePerUnit\":null,\"priceTags\":null,\"prices\":[{\"additionalText\":null,\"currency\":\"INR\",\"decimalValue\":\"45892.00\",\"discount\":10,\"downpaymentRate\":0,\"downpaymentRequired\":false,\"name\":\"Selling Price\",\"priceType\":\"FSP\",\"strikeOff\":true,\"value\":45892},{\"additionalText\":null,\"currency\":\"INR\",\"decimalValue\":\"40990.00\",\"discount\":null,\"downpaymentRate\":0,\"downpaymentRequired\":false,\"name\":\"Special Price\",\"priceType\":\"SPECIAL_PRICE\",\"strikeOff\":false,\"value\":40990}],\"showDiscountAsAmount\":false,\"totalDiscount\":10},\"productBrand\":\"HP\",\"productCardTagDetails\":[{\"image\":{\"type\":\"ImageValue\",\"dynamicImageUrl\":\"https://rukminim1.flixcart.com/www/{@width}/{@height}/promos/21/07/2017/e8625e14-3277-4f16-a4d4-df8ed525905b.png?q={@quality}\",\"height\":0,\"width\":0},\"tagDetails\":null,\"type\":\"F_ASSURED\"}],\"rating\":{\"type\":\"RatingValue\",\"average\":4.6,\"base\":5,\"breakup\":[1,1,4,26,73],\"count\":105,\"histogramBaseCount\":73,\"reviewCount\":16},\"smartUrl\":\"http://dl.flipkart.com/dl/hp-14s-core-i3-11th-gen-8-gb-256-gb-ssd-windows-10-home-14s-dy2501tu-thin-light-laptop/p/itmdce0f13dd3a4e?pid=COMG2TFSNK3KRFPA\",\"tags\":[],\"titles\":{\"subtitle\":\"14 inch, Natural Silver, 1.46 kg, With MS Office\",\"title\":\"HP 14s Core i3 11th Gen - (8 GB/256 GB SSD/Windows 10 Home) 14s- DY2501TU Thin and Light Laptop\"},\"vertical\":\"computer\",\"warrantySummary\":\"1 Year Onsite Warranty\"}},\"snippets\":[{\"type\":\"FormattedMessageValue\",\"data\":[{\"type\":\"FormattedRichTextData\",\"value\":{\"type\":\"RichTextValue\",\"style\":{\"color\":\"#000000\",\"fontSize\":12,\"fontStyle\":\"normal\",\"fontWeight\":\"normal\"},\"text\":\"No Cost EMI\"}}]}]}]}}},{\"slotType\":\"WIDGET\",\"id\":8001004,\"parentId\":10003,\"layoutParams\":{\"orientation\":\"\",\"widgetHeight\":150,\"widgetWidth\":12},\"dataId\":\"-486363620\",\"elementId\":\"8001004-PRODUCT_SUMMARY\",\"hasWidgetDataChanged\":true,\"ttl\":3000,\"widget\":{\"type\":\"PRODUCT_SUMMARY\",\"viewType\":\"LIST_LARGE\",\"data\":{\"maxCardCount\":1,\"products\":[{\"addToWishlist\":{\"action\":{\"constraints\":null,\"fallback\":null,\"loginType\":\"LOGIN_NOT_REQUIRED\",\"omnitureData\":null,\"originalUrl\":null,\"params\":{\"valid\":true,\"productId\":\"COMGYCG8W3VY8SGB\"},\"requiredPermissionType\":null,\"screenType\":\"multiWidgetPage\",\"tracking\":{},\"type\":\"WISHLIST_ADD\",\"url\":null,\"validationMeta\":null},\"metaData\":null,\"tracking\":null,\"trackingData\":null,\"value\":{\"type\":\"ProductActionValue\",\"actionType\":\"ADD_TO_WISHLIST\",\"enabled\":true}},\"productInfo\":{\"action\":{\"constraints\":null,\"fallback\":null,\"loginType\":\"LOGIN_NOT_REQUIRED\",\"omnitureData\":\"deep_linking\",\"originalUrl\":null,\"params\":{\"valid\":true,\"productId\":\"COMGYCG8W3VY8SGB\",\"marketplace\":\"FLIPKART\",\"screenName\":\"PRODUCT_PAGE\",\"listingId\":\"LSTCOMGYCG8W3VY8SGBZHGCHM\",\"pids\":[\"COMGYCG8W3VY8SGB\"],\"loadingStateKey\":\"LoadingStateDefaultNew\",\"lids\":[\"LSTCOMGYCG8W3VY8SGBZHGCHM\"]},\"requiredPermissionType\":null,\"screenType\":\"productPage\",\"tracking\":{\"impressionId\":\"a34ade47-0df5-4ca4-a483-0ea1f0ee37cb.COMGYCG8W3VY8SGB.SEARCH\",\"prop64\":\"SS_ncemi:cnc\",\"position\":\"5\",\"contentType\":\"productCard\",\"contextType\":\"widget\"},\"type\":\"NAVIGATION\",\"url\":\"/dell-inspiron-core-i3-10th-gen-8-gb-1-tb-hdd-windows-10-home-3501-laptop/p/itm14e0fb1e72e99?pid=COMGYCG8W3VY8SGB&lid=LSTCOMGYCG8W3VY8SGBZHGCHM&marketplace=FLIPKART&q=laptop&store=6bo%2Fb5g\",\"validationMeta\":null},\"metaData\":null,\"tracking\":{\"impressionId\":\"a34ade47-0df5-4ca4-a483-0ea1f0ee37cb.COMGYCG8W3VY8SGB.SEARCH\",\"prop64\":\"SS_ncemi:cnc\",\"position\":\"5\",\"contentType\":\"productCard\",\"contextType\":\"widget\"},\"trackingData\":null,\"value\":{\"type\":\"ProductSummaryValue\",\"analyticsData\":{\"category\":\"Laptops\",\"subCategory\":\"Laptop\",\"superCategory\":\"LaptopAndDesktop\",\"vertical\":\"Laptop\"},\"availability\":{\"MessageIntent\":\"positive\",\"displayState\":\"IN_STOCK\",\"intent\":\"positive\",\"showMessage\":false},\"baseUrl\":\"/dell-inspiron-core-i3-10th-gen-8-gb-1-tb-hdd-windows-10-home-3501-laptop/p/itm14e0fb1e72e99?pid=COMGYCG8W3VY8SGB\",\"buyability\":{\"intent\":\"positive\",\"message\":null,\"showMessage\":false},\"conditionCallout\":false,\"flags\":{\"enableChat\":true,\"enableCompare\":true,\"enableFlipkartAdvantage\":true,\"enableOfferTag\":true,\"enableVisualDiscovery\":false,\"enableWishlist\":true,\"showSecondaryTitle\":true,\"swatchAvailableOnBrowsePage\":true},\"grade\":{\"color\":null,\"id\":null,\"name\":null,\"shortDesc\":null},\"id\":\"COMGYCG8W3VY8SGB\",\"itemId\":\"ITM14E0FB1E72E99\",\"keySpecs\":[\"Intel Core i3 Processor (10th Gen)\",\"8 GB DDR4 RAM\",\"64 bit Windows 10 Operating System\",\"1 TB HDD\",\"39.62 cm (15.6 inch) Display\",\"Microsoft Office Home and Student 2019\"],\"listingId\":\"LSTCOMGYCG8W3VY8SGBZHGCHM\",\"media\":{\"images\":[{\"aspectRatio\":null,\"contentInfo\":null,\"height\":null,\"url\":\"http://rukmini1.flixcart.com/image/{@width}/{@height}/kl5hh8w0/computer/i/5/o/dell-original-imagychcwdg562a7.jpeg?q={@quality}\",\"width\":null},{\"aspectRatio\":null,\"contentInfo\":null,\"height\":null,\"url\":\"http://rukmini1.flixcart.com/image/{@width}/{@height}/kiow6fk0/computer/x/n/y/dell-original-imafyff7xuw2vxf3.jpeg?q={@quality}\",\"width\":null},{\"aspectRatio\":null,\"contentInfo\":null,\"height\":null,\"url\":\"http://rukmini1.flixcart.com/image/{@width}/{@height}/kl5hh8w0/computer/c/q/j/dell-original-imagychc4mgw7ky7.jpeg?q={@quality}\",\"width\":null},{\"aspectRatio\":null,\"contentInfo\":null,\"height\":null,\"url\":\"http://rukmini1.flixcart.com/image/{@width}/{@height}/kiow6fk0/computer/x/n/y/dell-original-imafyff7gc7yk6zy.jpeg?q={@quality}\",\"width\":null},{\"aspectRatio\":null,\"contentInfo\":null,\"height\":null,\"url\":\"http://rukmini1.flixcart.com/image/{@width}/{@height}/kkzrpu80/computer/j/6/p/dell-original-imagy82ghvwa8axr.jpeg?q={@quality}\",\"width\":null},{\"aspectRatio\":null,\"contentInfo\":null,\"height\":null,\"url\":\"http://rukmini1.flixcart.com/image/{@width}/{@height}/kl5hh8w0/computer/u/j/c/dell-original-imagychcf3avgxy9.jpeg?q={@quality}\",\"width\":null},{\"aspectRatio\":null,\"contentInfo\":null,\"height\":null,\"url\":\"http://rukmini1.flixcart.com/image/{@width}/{@height}/kl5hh8w0/computer/g/v/k/dell-original-imagychctq8yyzhz.jpeg?q={@quality}\",\"width\":null}]},\"minKeySpecs\":[\"39.62 cm (15.6 inch) Full HD Display\",\"Microsoft Office\",\"No Optical Disk Drive\"],\"pricing\":{\"type\":\"ListingPriceValue\",\"deliveryCharge\":{\"additionalText\":null,\"currency\":\"INR\",\"decimalValue\":\"0.00\",\"discount\":null,\"downpaymentRate\":0,\"downpaymentRequired\":false,\"name\":\"Delivery Charges\",\"priceType\":null,\"strikeOff\":false,\"value\":0},\"discountAmount\":1462,\"extraDiscount\":null,\"finalPrice\":{\"additionalText\":null,\"currency\":\"INR\",\"decimalValue\":\"39475.00\",\"discount\":null,\"downpaymentRate\":0,\"downpaymentRequired\":false,\"name\":\"Total\",\"priceType\":null,\"strikeOff\":false,\"value\":39475},\"finalSavingsText\":null,\"knowMore\":null,\"mrp\":{\"additionalText\":\"(incl. of all taxes)\",\"currency\":\"INR\",\"decimalValue\":\"40937.00\",\"discount\":null,\"downpaymentRate\":0,\"downpaymentRequired\":false,\"name\":\"Maximum Retail Price\",\"priceType\":null,\"strikeOff\":true,\"value\":40937},\"partPriceInfo\":null,\"plusPriceInfo\":{\"type\":\"FormattedMessageValue\",\"data\":[{\"type\":\"FormattedRichTextData\",\"value\":{\"type\":\"RichTextValue\",\"style\":{\"color\":\"#000000\",\"fontSize\":14,\"fontStyle\":\"normal\",\"fontWeight\":\"normal\"},\"text\":\"Or Pay ₹39,375 + \"}},{\"type\":\"FormattedImageData\",\"value\":{\"type\":\"ImageValue\",\"aspectRatio\":\"1:1\",\"dynamicImageUrl\":\"https://rukminim1.flixcart.com/www/{@width}/{@height}/promos/18/07/2019/4aebbd99-7478-411e-aced-265e7722d18d.png?q={@quality}\",\"height\":0,\"width\":0}},{\"type\":\"FormattedRichTextData\",\"value\":{\"type\":\"RichTextValue\",\"style\":{\"color\":\"#000000\",\"fontSize\":14,\"fontStyle\":\"normal\",\"fontWeight\":\"normal\"},\"text\":\" 100\"}}]},\"priceDescriptions\":null,\"pricePerUnit\":null,\"priceTags\":null,\"prices\":[{\"additionalText\":null,\"currency\":\"INR\",\"decimalValue\":\"40937.00\",\"discount\":3,\"downpaymentRate\":0,\"downpaymentRequired\":false,\"name\":\"Selling Price\",\"priceType\":\"FSP\",\"strikeOff\":true,\"value\":40937},{\"additionalText\":null,\"currency\":\"INR\",\"decimalValue\":\"39475.00\",\"discount\":null,\"downpaymentRate\":0,\"downpaymentRequired\":false,\"name\":\"Special Price\",\"priceType\":\"SPECIAL_PRICE\",\"strikeOff\":false,\"value\":39475}],\"showDiscountAsAmount\":false,\"totalDiscount\":3},\"productBrand\":\"DELL\",\"productCardTagDetails\":[{\"image\":{\"type\":\"ImageValue\",\"dynamicImageUrl\":\"https://rukminim1.flixcart.com/www/{@width}/{@height}/promos/21/07/2017/e8625e14-3277-4f16-a4d4-df8ed525905b.png?q={@quality}\",\"height\":0,\"width\":0},\"tagDetails\":null,\"type\":\"F_ASSURED\"}],\"rating\":{\"type\":\"RatingValue\",\"average\":3.8,\"base\":5,\"breakup\":[14,1,7,18,35],\"count\":75,\"histogramBaseCount\":35,\"reviewCount\":11},\"smartUrl\":\"http://dl.flipkart.com/dl/dell-inspiron-core-i3-10th-gen-8-gb-1-tb-hdd-windows-10-home-3501-laptop/p/itm14e0fb1e72e99?pid=COMGYCG8W3VY8SGB\",\"tags\":[],\"titles\":{\"subtitle\":\"15.6 inch, Softmint, 1.83 kg, With MS Office\",\"title\":\"DELL Inspiron Core i3 10th Gen - (8 GB/1 TB HDD/Windows 10 Home) Inspiron 3501 Laptop\"},\"vertical\":\"computer\",\"warrantySummary\":\"1 Year Limited Hardware Warranty, In Home Service After Remote Diagnosis - Retail\"}},\"snippets\":[{\"type\":\"FormattedMessageValue\",\"data\":[{\"type\":\"FormattedRichTextData\",\"value\":{\"type\":\"RichTextValue\",\"style\":{\"color\":\"#000000\",\"fontSize\":12,\"fontStyle\":\"normal\",\"fontWeight\":\"normal\"},\"text\":\"No Cost EMI\"}}]}]}]}}},{\"slotType\":\"WIDGET\",\"id\":8001005,\"parentId\":10003,\"layoutParams\":{\"orientation\":\"\",\"widgetHeight\":150,\"widgetWidth\":12},\"dataId\":\"1419200348\",\"elementId\":\"8001005-PRODUCT_SUMMARY\",\"hasWidgetDataChanged\":true,\"ttl\":3000,\"widget\":{\"type\":\"PRODUCT_SUMMARY\",\"viewType\":\"LIST_LARGE\",\"data\":{\"maxCardCount\":1,\"products\":[{\"addToWishlist\":{\"action\":{\"constraints\":null,\"fallback\":null,\"loginType\":\"LOGIN_NOT_REQUIRED\",\"omnitureData\":null,\"originalUrl\":null,\"params\":{\"valid\":true,\"productId\":\"COMGFHGFZ7HFZSBA\"},\"requiredPermissionType\":null,\"screenType\":\"multiWidgetPage\",\"tracking\":{},\"type\":\"WISHLIST_ADD\",\"url\":null,\"validationMeta\":null},\"metaData\":null,\"tracking\":null,\"trackingData\":null,\"value\":{\"type\":\"ProductActionValue\",\"actionType\":\"ADD_TO_WISHLIST\",\"enabled\":true}},\"productInfo\":{\"action\":{\"constraints\":null,\"fallback\":null,\"loginType\":\"LOGIN_NOT_REQUIRED\",\"omnitureData\":\"deep_linking\",\"originalUrl\":null,\"params\":{\"valid\":true,\"productId\":\"COMGFHGFZ7HFZSBA\",\"marketplace\":\"FLIPKART\",\"screenName\":\"PRODUCT_PAGE\",\"listingId\":\"LSTCOMGFHGFZ7HFZSBAUX64XI\",\"pids\":[\"COMGFHGFZ7HFZSBA\"],\"loadingStateKey\":\"LoadingStateDefaultNew\",\"lids\":[\"LSTCOMGFHGFZ7HFZSBAUX64XI\"]},\"requiredPermissionType\":null,\"screenType\":\"productPage\",\"tracking\":{\"impressionId\":\"a34ade47-0df5-4ca4-a483-0ea1f0ee37cb.COMGFHGFZ7HFZSBA.SEARCH\",\"prop64\":\"SS_ncemi:cnc\",\"position\":\"6\",\"contentType\":\"productCard\",\"contextType\":\"widget\"},\"type\":\"NAVIGATION\",\"url\":\"/hp-15s-athlon-dual-core-4-gb-1-tb-hdd-windows-10-home-15s-gy0001au-thin-light-laptop/p/itmfde60f9520336?pid=COMGFHGFZ7HFZSBA&lid=LSTCOMGFHGFZ7HFZSBAUX64XI&marketplace=FLIPKART&q=laptop&store=6bo%2Fb5g\",\"validationMeta\":null},\"metaData\":null,\"tracking\":{\"impressionId\":\"a34ade47-0df5-4ca4-a483-0ea1f0ee37cb.COMGFHGFZ7HFZSBA.SEARCH\",\"prop64\":\"SS_ncemi:cnc\",\"position\":\"6\",\"contentType\":\"productCard\",\"contextType\":\"widget\"},\"trackingData\":null,\"value\":{\"type\":\"ProductSummaryValue\",\"analyticsData\":{\"category\":\"Laptops\",\"subCategory\":\"Laptop\",\"superCategory\":\"LaptopAndDesktop\",\"vertical\":\"Laptop\"},\"availability\":{\"MessageIntent\":\"positive\",\"displayState\":\"IN_STOCK\",\"intent\":\"positive\",\"showMessage\":false},\"baseUrl\":\"/hp-15s-athlon-dual-core-4-gb-1-tb-hdd-windows-10-home-15s-gy0001au-thin-light-laptop/p/itmfde60f9520336?pid=COMGFHGFZ7HFZSBA\",\"buyability\":{\"intent\":\"positive\",\"message\":null,\"showMessage\":false},\"conditionCallout\":false,\"flags\":{\"enableChat\":true,\"enableCompare\":true,\"enableFlipkartAdvantage\":true,\"enableOfferTag\":true,\"enableVisualDiscovery\":false,\"enableWishlist\":true,\"showSecondaryTitle\":true,\"swatchAvailableOnBrowsePage\":true},\"grade\":{\"color\":null,\"id\":null,\"name\":null,\"shortDesc\":null},\"id\":\"COMGFHGFZ7HFZSBA\",\"itemId\":\"ITMFDE60F9520336\",\"keySpecs\":[\"AMD Athlon Dual Core Processor\",\"4 GB DDR4 RAM\",\"64 bit Windows 10 Operating System\",\"1 TB HDD\",\"39.62 cm (15.6 inch) Display\",\"Microsoft Office Home & Student 2019, HP Documentation, HP Smart, HP Support Assistant\"],\"listingId\":\"LSTCOMGFHGFZ7HFZSBAUX64XI\",\"media\":{\"images\":[{\"aspectRatio\":null,\"contentInfo\":null,\"height\":null,\"url\":\"http://rukmini1.flixcart.com/image/{@width}/{@height}/khwbde80/computer/c/4/h/hp-original-imafxtarxygbevbh.jpeg?q={@quality}\",\"width\":null},{\"aspectRatio\":null,\"contentInfo\":null,\"height\":null,\"url\":\"http://rukmini1.flixcart.com/image/{@width}/{@height}/khwbde80/computer/c/4/h/hp-original-imafxtarabjjhazg.jpeg?q={@quality}\",\"width\":null},{\"aspectRatio\":null,\"contentInfo\":null,\"height\":null,\"url\":\"http://rukmini1.flixcart.com/image/{@width}/{@height}/khwbde80/computer/c/4/h/hp-original-imafxtarxq89dhgq.jpeg?q={@quality}\",\"width\":null},{\"aspectRatio\":null,\"contentInfo\":null,\"height\":null,\"url\":\"http://rukmini1.flixcart.com/image/{@width}/{@height}/khwbde80/computer/c/4/h/hp-original-imafxtarmdrn4brk.jpeg?q={@quality}\",\"width\":null},{\"aspectRatio\":null,\"contentInfo\":null,\"height\":null,\"url\":\"http://rukmini1.flixcart.com/image/{@width}/{@height}/khwbde80/computer/c/4/h/hp-original-imafxtaregqkngm2.jpeg?q={@quality}\",\"width\":null},{\"aspectRatio\":null,\"contentInfo\":null,\"height\":null,\"url\":\"http://rukmini1.flixcart.com/image/{@width}/{@height}/khwbde80/computer/c/4/h/hp-original-imafxtarw8zfs6gy.jpeg?q={@quality}\",\"width\":null},{\"aspectRatio\":null,\"contentInfo\":null,\"height\":null,\"url\":\"http://rukmini1.flixcart.com/image/{@width}/{@height}/kl5hh8w0/computer/g/y/f/hp-original-imagyckn8ygzhzjh.jpeg?q={@quality}\",\"width\":null}]},\"minKeySpecs\":[\"AMD Radeon Gfx\",\"39.62 cm (15.6 inch) HD Display\",\"1.76 kg\",\"Microsoft Office\",\"No Optical Disk Drive\"],\"pricing\":{\"type\":\"ListingPriceValue\",\"deliveryCharge\":{\"additionalText\":null,\"currency\":\"INR\",\"decimalValue\":\"0.00\",\"discount\":null,\"downpaymentRate\":0,\"downpaymentRequired\":false,\"name\":\"Delivery Charges\",\"priceType\":null,\"strikeOff\":false,\"value\":0},\"discountAmount\":930,\"extraDiscount\":null,\"finalPrice\":{\"additionalText\":null,\"currency\":\"INR\",\"decimalValue\":\"27490.00\",\"discount\":null,\"downpaymentRate\":0,\"downpaymentRequired\":false,\"name\":\"Total\",\"priceType\":null,\"strikeOff\":false,\"value\":27490},\"finalSavingsText\":null,\"knowMore\":null,\"mrp\":{\"additionalText\":\"(incl. of all taxes)\",\"currency\":\"INR\",\"decimalValue\":\"28420.00\",\"discount\":null,\"downpaymentRate\":0,\"downpaymentRequired\":false,\"name\":\"Maximum Retail Price\",\"priceType\":null,\"strikeOff\":true,\"value\":28420},\"partPriceInfo\":null,\"plusPriceInfo\":{\"type\":\"FormattedMessageValue\",\"data\":[{\"type\":\"FormattedRichTextData\",\"value\":{\"type\":\"RichTextValue\",\"style\":{\"color\":\"#000000\",\"fontSize\":14,\"fontStyle\":\"normal\",\"fontWeight\":\"normal\"},\"text\":\"Or Pay ₹27,390 + \"}},{\"type\":\"FormattedImageData\",\"value\":{\"type\":\"ImageValue\",\"aspectRatio\":\"1:1\",\"dynamicImageUrl\":\"https://rukminim1.flixcart.com/www/{@width}/{@height}/promos/18/07/2019/4aebbd99-7478-411e-aced-265e7722d18d.png?q={@quality}\",\"height\":0,\"width\":0}},{\"type\":\"FormattedRichTextData\",\"value\":{\"type\":\"RichTextValue\",\"style\":{\"color\":\"#000000\",\"fontSize\":14,\"fontStyle\":\"normal\",\"fontWeight\":\"normal\"},\"text\":\" 100\"}}]},\"priceDescriptions\":null,\"pricePerUnit\":null,\"priceTags\":null,\"prices\":[{\"additionalText\":null,\"currency\":\"INR\",\"decimalValue\":\"28420.00\",\"discount\":3,\"downpaymentRate\":0,\"downpaymentRequired\":false,\"name\":\"Selling Price\",\"priceType\":\"FSP\",\"strikeOff\":true,\"value\":28420},{\"additionalText\":null,\"currency\":\"INR\",\"decimalValue\":\"27490.00\",\"discount\":null,\"downpaymentRate\":0,\"downpaymentRequired\":false,\"name\":\"Special Price\",\"priceType\":\"SPECIAL_PRICE\",\"strikeOff\":false,\"value\":27490}],\"showDiscountAsAmount\":false,\"totalDiscount\":3},\"productBrand\":\"HP\",\"productCardTagDetails\":[{\"image\":{\"type\":\"ImageValue\",\"dynamicImageUrl\":\"https://rukminim1.flixcart.com/www/{@width}/{@height}/promos/21/07/2017/e8625e14-3277-4f16-a4d4-df8ed525905b.png?q={@quality}\",\"height\":0,\"width\":0},\"tagDetails\":null,\"type\":\"F_ASSURED\"}],\"rating\":{\"type\":\"RatingValue\",\"average\":4.1,\"base\":5,\"breakup\":[28,8,27,69,167],\"count\":299,\"histogramBaseCount\":167,\"reviewCount\":38},\"smartUrl\":\"http://dl.flipkart.com/dl/hp-15s-athlon-dual-core-4-gb-1-tb-hdd-windows-10-home-15s-gy0001au-thin-light-laptop/p/itmfde60f9520336?pid=COMGFHGFZ7HFZSBA\",\"tags\":[],\"titles\":{\"subtitle\":\"15.6 inch, Jet Black, 1.76 kg, With MS Office\",\"title\":\"HP 15s Athlon Dual Core - (4 GB/1 TB HDD/Windows 10 Home) 15s-GY0001AU Thin and Light Laptop\"},\"vertical\":\"computer\",\"warrantySummary\":\"1 Year Onsite Warranty\"}},\"snippets\":[{\"type\":\"FormattedMessageValue\",\"data\":[{\"type\":\"FormattedRichTextData\",\"value\":{\"type\":\"RichTextValue\",\"style\":{\"color\":\"#000000\",\"fontSize\":12,\"fontStyle\":\"normal\",\"fontWeight\":\"normal\"},\"text\":\"No Cost EMI\"}}]}]}]}}},{\"slotType\":\"WIDGET\",\"id\":8001006,\"parentId\":10003,\"layoutParams\":{\"orientation\":\"\",\"widgetHeight\":150,\"widgetWidth\":12},\"dataId\":\"-626107535\",\"elementId\":\"8001006-PRODUCT_SUMMARY\",\"hasWidgetDataChanged\":true,\"ttl\":3000,\"widget\":{\"type\":\"PRODUCT_SUMMARY\",\"viewType\":\"LIST_LARGE\",\"data\":{\"maxCardCount\":1,\"products\":[{\"addToWishlist\":{\"action\":{\"constraints\":null,\"fallback\":null,\"loginType\":\"LOGIN_NOT_REQUIRED\",\"omnitureData\":null,\"originalUrl\":null,\"params\":{\"valid\":true,\"productId\":\"COMFUUJGMZCNJDZH\"},\"requiredPermissionType\":null,\"screenType\":\"multiWidgetPage\",\"tracking\":{},\"type\":\"WISHLIST_ADD\",\"url\":null,\"validationMeta\":null},\"metaData\":null,\"tracking\":null,\"trackingData\":null,\"value\":{\"type\":\"ProductActionValue\",\"actionType\":\"ADD_TO_WISHLIST\",\"enabled\":true}},\"productInfo\":{\"action\":{\"constraints\":null,\"fallback\":null,\"loginType\":\"LOGIN_NOT_REQUIRED\",\"omnitureData\":\"deep_linking\",\"originalUrl\":null,\"params\":{\"valid\":true,\"productId\":\"COMFUUJGMZCNJDZH\",\"marketplace\":\"FLIPKART\",\"screenName\":\"PRODUCT_PAGE\",\"listingId\":\"LSTCOMFUUJGMZCNJDZHGUDORZ\",\"pids\":[\"COMFUUJGMZCNJDZH\"],\"loadingStateKey\":\"LoadingStateDefaultNew\",\"lids\":[\"LSTCOMFUUJGMZCNJDZHGUDORZ\"]},\"requiredPermissionType\":null,\"screenType\":\"productPage\",\"tracking\":{\"impressionId\":\"a34ade47-0df5-4ca4-a483-0ea1f0ee37cb.COMFUUJGMZCNJDZH.SEARCH\",\"prop64\":\"SS_ncemi:cnc\",\"position\":\"7\",\"contentType\":\"productCard\",\"contextType\":\"widget\"},\"type\":\"NAVIGATION\",\"url\":\"/acer-aspire-7-ryzen-5-quad-core-3550h-8-gb-512-gb-ssd-windows-10-home-4-graphics-nvidia-geforce-gtx-1650-60-hz-a715-41g-r6s8-gaming-laptop/p/itm56e58b0c59ea3?pid=COMFUUJGMZCNJDZH&lid=LSTCOMFUUJGMZCNJDZHGUDORZ&marketplace=FLIPKART&q=laptop&store=6bo%2Fb5g\",\"validationMeta\":null},\"metaData\":null,\"tracking\":{\"impressionId\":\"a34ade47-0df5-4ca4-a483-0ea1f0ee37cb.COMFUUJGMZCNJDZH.SEARCH\",\"prop64\":\"SS_ncemi:cnc\",\"position\":\"7\",\"contentType\":\"productCard\",\"contextType\":\"widget\"},\"trackingData\":null,\"value\":{\"type\":\"ProductSummaryValue\",\"analyticsData\":{\"category\":\"Laptops\",\"subCategory\":\"Laptop\",\"superCategory\":\"LaptopAndDesktop\",\"vertical\":\"Laptop\"},\"availability\":{\"MessageIntent\":\"positive\",\"displayState\":\"IN_STOCK\",\"intent\":\"positive\",\"showMessage\":false},\"baseUrl\":\"/acer-aspire-7-ryzen-5-quad-core-3550h-8-gb-512-gb-ssd-windows-10-home-4-graphics-nvidia-geforce-gtx-1650-60-hz-a715-41g-r6s8-gaming-laptop/p/itm56e58b0c59ea3?pid=COMFUUJGMZCNJDZH\",\"buyability\":{\"intent\":\"positive\",\"message\":null,\"showMessage\":false},\"conditionCallout\":false,\"flags\":{\"enableChat\":true,\"enableCompare\":true,\"enableFlipkartAdvantage\":true,\"enableOfferTag\":true,\"enableVisualDiscovery\":false,\"enableWishlist\":true,\"showSecondaryTitle\":true,\"swatchAvailableOnBrowsePage\":true},\"grade\":{\"color\":null,\"id\":null,\"name\":null,\"shortDesc\":null},\"id\":\"COMFUUJGMZCNJDZH\",\"itemId\":\"ITM56E58B0C59EA3\",\"keySpecs\":[\"AMD Ryzen 5 Quad Core Processor\",\"8 GB DDR4 RAM\",\"64 bit Windows 10 Operating System\",\"512 GB SSD\",\"39.62 cm (15.6 inch) Display\",\"Acer Collection, Acer Product Registration, Acer Care Center, Quick Access\"],\"listingId\":\"LSTCOMFUUJGMZCNJDZHGUDORZ\",\"media\":{\"images\":[{\"aspectRatio\":null,\"contentInfo\":null,\"height\":null,\"url\":\"http://rukmini1.flixcart.com/image/{@width}/{@height}/kcc9q4w0/computer/h/t/g/acer-na-gaming-laptop-original-imafthr8aa4rsjpn.jpeg?q={@quality}\",\"width\":null},{\"aspectRatio\":null,\"contentInfo\":null,\"height\":null,\"url\":\"http://rukmini1.flixcart.com/image/{@width}/{@height}/kcc9q4w0/computer/6/z/k/acer-na-gaming-laptop-original-imafthr8j3mebpgp.jpeg?q={@quality}\",\"width\":null},{\"aspectRatio\":null,\"contentInfo\":null,\"height\":null,\"url\":\"http://rukmini1.flixcart.com/image/{@width}/{@height}/kcc9q4w0/computer/6/z/k/acer-na-gaming-laptop-original-imafthr8syynvyfz.jpeg?q={@quality}\",\"width\":null},{\"aspectRatio\":null,\"contentInfo\":null,\"height\":null,\"url\":\"http://rukmini1.flixcart.com/image/{@width}/{@height}/k9loccw0/computer/f/x/s/acer-na-gaming-laptop-original-imafrczhrywshugf.jpeg?q={@quality}\",\"width\":null},{\"aspectRatio\":null,\"contentInfo\":null,\"height\":null,\"url\":\"http://rukmini1.flixcart.com/image/{@width}/{@height}/k9loccw0/computer/f/x/s/acer-na-gaming-laptop-original-imafrczgkedbamcx.jpeg?q={@quality}\",\"width\":null},{\"aspectRatio\":null,\"contentInfo\":null,\"height\":null,\"url\":\"http://rukmini1.flixcart.com/image/{@width}/{@height}/k9loccw0/computer/f/x/s/acer-na-gaming-laptop-original-imafrczguzh8eznh.jpeg?q={@quality}\",\"width\":null},{\"aspectRatio\":null,\"contentInfo\":null,\"height\":null,\"url\":\"http://rukmini1.flixcart.com/image/{@width}/{@height}/kfikya80/computer/6/z/k/acer-na-gaming-laptop-original-imafvykmfrmmpxny.jpeg?q={@quality}\",\"width\":null},{\"aspectRatio\":null,\"contentInfo\":null,\"height\":null,\"url\":\"http://rukmini1.flixcart.com/image/{@width}/{@height}/kfikya80/computer/d/z/h/acer-na-gaming-laptop-original-imafvyknvtzd8jut.jpeg?q={@quality}\",\"width\":null},{\"aspectRatio\":null,\"contentInfo\":null,\"height\":null,\"url\":\"http://rukmini1.flixcart.com/image/{@width}/{@height}/kfikya80/computer/6/z/k/acer-na-gaming-laptop-original-imafvykmghqgqyhh.jpeg?q={@quality}\",\"width\":null},{\"aspectRatio\":null,\"contentInfo\":null,\"height\":null,\"url\":\"http://rukmini1.flixcart.com/image/{@width}/{@height}/kfikya80/computer/6/z/k/acer-na-gaming-laptop-original-imafvykmprsgkhsq.jpeg?q={@quality}\",\"width\":null}],\"videos\":[{\"height\":null,\"videoId\":\"3yRMadJwmkg\",\"videoProvider\":\"YOUTUBE\",\"videoType\":\"THUMBNAIL\",\"width\":null}]},\"minKeySpecs\":[\"NVIDIA GeForce GTX 1650 4 GB Gfx\",\"39.62 cm (15.6 inch) Full HD Display\",\"No Optical Disk Drive\"],\"pricing\":{\"type\":\"ListingPriceValue\",\"deliveryCharge\":{\"additionalText\":null,\"currency\":\"INR\",\"decimalValue\":\"0.00\",\"discount\":null,\"downpaymentRate\":0,\"downpaymentRequired\":false,\"name\":\"Delivery Charges\",\"priceType\":null,\"strikeOff\":false,\"value\":0},\"discountAmount\":23000,\"extraDiscount\":null,\"finalPrice\":{\"additionalText\":null,\"currency\":\"INR\",\"decimalValue\":\"49990.00\",\"discount\":null,\"downpaymentRate\":0,\"downpaymentRequired\":false,\"name\":\"Total\",\"priceType\":null,\"strikeOff\":false,\"value\":49990},\"finalSavingsText\":null,\"knowMore\":null,\"mrp\":{\"additionalText\":\"(incl. of all taxes)\",\"currency\":\"INR\",\"decimalValue\":\"72990.00\",\"discount\":null,\"downpaymentRate\":0,\"downpaymentRequired\":false,\"name\":\"Maximum Retail Price\",\"priceType\":null,\"strikeOff\":true,\"value\":72990},\"partPriceInfo\":null,\"plusPriceInfo\":{\"type\":\"FormattedMessageValue\",\"data\":[{\"type\":\"FormattedRichTextData\",\"value\":{\"type\":\"RichTextValue\",\"style\":{\"color\":\"#000000\",\"fontSize\":14,\"fontStyle\":\"normal\",\"fontWeight\":\"normal\"},\"text\":\"Or Pay ₹49,890 + \"}},{\"type\":\"FormattedImageData\",\"value\":{\"type\":\"ImageValue\",\"aspectRatio\":\"1:1\",\"dynamicImageUrl\":\"https://rukminim1.flixcart.com/www/{@width}/{@height}/promos/18/07/2019/4aebbd99-7478-411e-aced-265e7722d18d.png?q={@quality}\",\"height\":0,\"width\":0}},{\"type\":\"FormattedRichTextData\",\"value\":{\"type\":\"RichTextValue\",\"style\":{\"color\":\"#000000\",\"fontSize\":14,\"fontStyle\":\"normal\",\"fontWeight\":\"normal\"},\"text\":\" 100\"}}]},\"priceDescriptions\":null,\"pricePerUnit\":null,\"priceTags\":null,\"prices\":[{\"additionalText\":null,\"currency\":\"INR\",\"decimalValue\":\"72990.00\",\"discount\":31,\"downpaymentRate\":0,\"downpaymentRequired\":false,\"name\":\"Selling Price\",\"priceType\":\"FSP\",\"strikeOff\":true,\"value\":72990},{\"additionalText\":null,\"currency\":\"INR\",\"decimalValue\":\"49990.00\",\"discount\":null,\"downpaymentRate\":0,\"downpaymentRequired\":false,\"name\":\"Special Price\",\"priceType\":\"SPECIAL_PRICE\",\"strikeOff\":false,\"value\":49990}],\"showDiscountAsAmount\":false,\"totalDiscount\":31},\"productBrand\":\"acer\",\"productCardTagDetails\":[{\"image\":{\"type\":\"ImageValue\",\"dynamicImageUrl\":\"https://rukminim1.flixcart.com/www/{@width}/{@height}/promos/21/07/2017/e8625e14-3277-4f16-a4d4-df8ed525905b.png?q={@quality}\",\"height\":0,\"width\":0},\"tagDetails\":null,\"type\":\"F_ASSURED\"}],\"rating\":{\"type\":\"RatingValue\",\"average\":4.4,\"base\":5,\"breakup\":[169,67,303,1487,3321],\"count\":5347,\"histogramBaseCount\":3321,\"reviewCount\":914},\"smartUrl\":\"http://dl.flipkart.com/dl/acer-aspire-7-ryzen-5-quad-core-3550h-8-gb-512-gb-ssd-windows-10-home-4-graphics-nvidia-geforce-gtx-1650-60-hz-a715-41g-r6s8-gaming-laptop/p/itm56e58b0c59ea3?pid=COMFUUJGMZCNJDZH\",\"tags\":[],\"titles\":{\"subtitle\":\"15.6 inch, Charcoal Black, 2.15 kg\",\"title\":\"acer Aspire 7 Ryzen 5 Quad Core 3550H - (8 GB/512 GB SSD/Windows 10 Home/4 GB Graphics/NVIDIA GeForce GTX 1650/60 Hz) A715-41G-R6S8 Gaming Laptop\"},\"vertical\":\"computer\",\"warrantySummary\":\"1 Year International Travelers Warranty (ITW)\"}},\"snippets\":[{\"type\":\"FormattedMessageValue\",\"data\":[{\"type\":\"FormattedRichTextData\",\"value\":{\"type\":\"RichTextValue\",\"style\":{\"color\":\"#000000\",\"fontSize\":12,\"fontStyle\":\"normal\",\"fontWeight\":\"normal\"},\"text\":\"No Cost EMI\"}}]}]}]}}},{\"slotType\":\"WIDGET\",\"id\":8001007,\"parentId\":10003,\"layoutParams\":{\"orientation\":\"\",\"widgetHeight\":150,\"widgetWidth\":12},\"dataId\":\"1998260672\",\"elementId\":\"8001007-PRODUCT_SUMMARY\",\"hasWidgetDataChanged\":true,\"ttl\":3000,\"widget\":{\"type\":\"PRODUCT_SUMMARY\",\"viewType\":\"LIST_LARGE\",\"data\":{\"maxCardCount\":1,\"products\":[{\"adInfo\":{\"adSymbolDisabled\":null,\"bannerId\":\"-1\",\"impressionId\":\"en_sO2JoGGXnEpiPv5Z0NrfZXnzIXgoc1Nrzz2qZlYj+MsDkmvtlaZFqFUsSdvKSx2cPqwX2WL43tjduJoZKvmaDw==\",\"listingId\":\"LSTCOMGFQ4APGXDQQ9NGN41FS\",\"marketplaceId\":\"FLIPKART\",\"numResults\":730,\"productId\":\"COMGFQ4APGXDQQ9N\",\"responseId\":\"a34ade47-0df5-4ca4-a483-0ea1f0ee37cb\"},\"addToWishlist\":{\"action\":{\"constraints\":null,\"fallback\":null,\"loginType\":\"LOGIN_NOT_REQUIRED\",\"omnitureData\":null,\"originalUrl\":null,\"params\":{\"valid\":true,\"productId\":\"COMGFQ4APGXDQQ9N\"},\"requiredPermissionType\":null,\"screenType\":\"multiWidgetPage\",\"tracking\":{},\"type\":\"WISHLIST_ADD\",\"url\":null,\"validationMeta\":null},\"metaData\":null,\"tracking\":null,\"trackingData\":null,\"value\":{\"type\":\"ProductActionValue\",\"actionType\":\"ADD_TO_WISHLIST\",\"enabled\":true}},\"productInfo\":{\"action\":{\"constraints\":null,\"fallback\":null,\"loginType\":\"LOGIN_NOT_REQUIRED\",\"omnitureData\":\"deep_linking\",\"originalUrl\":null,\"params\":{\"valid\":true,\"productId\":\"COMGFQ4APGXDQQ9N\",\"marketplace\":\"FLIPKART\",\"screenName\":\"PRODUCT_PAGE\",\"listingId\":\"LSTCOMGFQ4APGXDQQ9NGN41FS\",\"pids\":[\"COMGFQ4APGXDQQ9N\"],\"loadingStateKey\":\"LoadingStateDefaultNew\",\"lids\":[\"LSTCOMGFQ4APGXDQQ9NGN41FS\"]},\"requiredPermissionType\":null,\"screenType\":\"productPage\",\"tracking\":{\"impressionId\":\"en_sO2JoGGXnEpiPv5Z0NrfZXnzIXgoc1Nrzz2qZlYj+MsDkmvtlaZFqFUsSdvKSx2cPqwX2WL43tjduJoZKvmaDw==\",\"prop64\":\"SS_cnc\",\"position\":\"8\",\"contentType\":\"productCard\",\"contextType\":\"widget\"},\"type\":\"NAVIGATION\",\"url\":\"/acer-aspire-3-core-i3-11th-gen-4-gb-256-gb-ssd-windows-10-home-a315-58-thin-light-laptop/p/itmdffdc847e9fdf?pid=COMGFQ4APGXDQQ9N&lid=LSTCOMGFQ4APGXDQQ9NGN41FS&marketplace=FLIPKART&q=laptop&store=6bo%2Fb5g\",\"validationMeta\":null},\"metaData\":null,\"tracking\":{\"impressionId\":\"en_sO2JoGGXnEpiPv5Z0NrfZXnzIXgoc1Nrzz2qZlYj+MsDkmvtlaZFqFUsSdvKSx2cPqwX2WL43tjduJoZKvmaDw==\",\"prop64\":\"SS_cnc\",\"position\":\"8\",\"contentType\":\"productCard\",\"contextType\":\"widget\"},\"trackingData\":null,\"value\":{\"type\":\"ProductSummaryValue\",\"analyticsData\":{\"category\":\"Laptops\",\"subCategory\":\"Laptop\",\"superCategory\":\"LaptopAndDesktop\",\"vertical\":\"Laptop\"},\"availability\":{\"MessageIntent\":\"positive\",\"displayState\":\"IN_STOCK\",\"intent\":\"positive\",\"showMessage\":false},\"baseUrl\":\"/acer-aspire-3-core-i3-11th-gen-4-gb-256-gb-ssd-windows-10-home-a315-58-thin-light-laptop/p/itmdffdc847e9fdf?pid=COMGFQ4APGXDQQ9N\",\"buyability\":{\"intent\":\"positive\",\"message\":null,\"showMessage\":false},\"conditionCallout\":false,\"flags\":{\"enableChat\":true,\"enableCompare\":true,\"enableFlipkartAdvantage\":true,\"enableOfferTag\":true,\"enableVisualDiscovery\":false,\"enableWishlist\":true,\"showSecondaryTitle\":true,\"swatchAvailableOnBrowsePage\":true},\"grade\":{\"color\":null,\"id\":null,\"name\":null,\"shortDesc\":null},\"id\":\"COMGFQ4APGXDQQ9N\",\"itemId\":\"ITMDFFDC847E9FDF\",\"keySpecs\":[\"Intel Core i3 Processor (11th Gen)\",\"4 GB DDR4 RAM\",\"64 bit Windows 10 Operating System\",\"256 GB SSD\",\"39.62 cm (15.6 inch) Display\",\"Acer Care Center, Acer Product Registration, Quick Access\"],\"listingId\":\"LSTCOMGFQ4APGXDQQ9NGN41FS\",\"media\":{\"images\":[{\"aspectRatio\":null,\"contentInfo\":null,\"height\":null,\"url\":\"http://rukmini1.flixcart.com/image/{@width}/{@height}/ko0d6kw0/computer/t/1/l/na-thin-and-light-laptop-acer-original-imag2kc4ryzkqvrt.jpeg?q={@quality}\",\"width\":null},{\"aspectRatio\":null,\"contentInfo\":null,\"height\":null,\"url\":\"http://rukmini1.flixcart.com/image/{@width}/{@height}/ko0d6kw0/computer/m/y/e/na-thin-and-light-laptop-acer-original-imag2kc4y2ah7hfu.jpeg?q={@quality}\",\"width\":null},{\"aspectRatio\":null,\"contentInfo\":null,\"height\":null,\"url\":\"http://rukmini1.flixcart.com/image/{@width}/{@height}/ko0d6kw0/computer/4/p/v/na-thin-and-light-laptop-acer-original-imag2kc4wbhb2ake.jpeg?q={@quality}\",\"width\":null},{\"aspectRatio\":null,\"contentInfo\":null,\"height\":null,\"url\":\"http://rukmini1.flixcart.com/image/{@width}/{@height}/ko0d6kw0/computer/b/3/a/na-thin-and-light-laptop-acer-original-imag2kc4r7edxd88.jpeg?q={@quality}\",\"width\":null},{\"aspectRatio\":null,\"contentInfo\":null,\"height\":null,\"url\":\"http://rukmini1.flixcart.com/image/{@width}/{@height}/ko0d6kw0/computer/s/p/z/na-thin-and-light-laptop-acer-original-imag2kc43yuanezs.jpeg?q={@quality}\",\"width\":null},{\"aspectRatio\":null,\"contentInfo\":null,\"height\":null,\"url\":\"http://rukmini1.flixcart.com/image/{@width}/{@height}/ko0d6kw0/computer/e/z/s/na-thin-and-light-laptop-acer-original-imag2kc4zdg2ydqb.jpeg?q={@quality}\",\"width\":null},{\"aspectRatio\":null,\"contentInfo\":null,\"height\":null,\"url\":\"http://rukmini1.flixcart.com/image/{@width}/{@height}/ko0d6kw0/computer/c/z/g/na-thin-and-light-laptop-acer-original-imag2kc4hwvhcvmg.jpeg?q={@quality}\",\"width\":null},{\"aspectRatio\":null,\"contentInfo\":null,\"height\":null,\"url\":\"http://rukmini1.flixcart.com/image/{@width}/{@height}/ko0d6kw0/computer/t/v/9/na-thin-and-light-laptop-acer-original-imag2kc4hqwdg8f2.jpeg?q={@quality}\",\"width\":null},{\"aspectRatio\":null,\"contentInfo\":null,\"height\":null,\"url\":\"http://rukmini1.flixcart.com/image/{@width}/{@height}/ko0d6kw0/computer/w/m/t/na-thin-and-light-laptop-acer-original-imag2kc4rhzgycgj.jpeg?q={@quality}\",\"width\":null},{\"aspectRatio\":null,\"contentInfo\":null,\"height\":null,\"url\":\"http://rukmini1.flixcart.com/image/{@width}/{@height}/ko0d6kw0/computer/e/n/d/na-thin-and-light-laptop-acer-original-imag2kc4nnhc7yhb.jpeg?q={@quality}\",\"width\":null}]},\"minKeySpecs\":[\"39.62 cm (15.6 inch) Full HD Display\",\"1.7 Kg\",\"No Optical Disk Drive\"],\"pricing\":{\"type\":\"ListingPriceValue\",\"deliveryCharge\":{\"additionalText\":null,\"currency\":\"INR\",\"decimalValue\":\"0.00\",\"discount\":null,\"downpaymentRate\":0,\"downpaymentRequired\":false,\"name\":\"Delivery Charges\",\"priceType\":null,\"strikeOff\":false,\"value\":0},\"discountAmount\":23010,\"extraDiscount\":null,\"finalPrice\":{\"additionalText\":null,\"currency\":\"INR\",\"decimalValue\":\"35990.00\",\"discount\":null,\"downpaymentRate\":0,\"downpaymentRequired\":false,\"name\":\"Total\",\"priceType\":null,\"strikeOff\":false,\"value\":35990},\"finalSavingsText\":null,\"knowMore\":null,\"mrp\":{\"additionalText\":\"(incl. of all taxes)\",\"currency\":\"INR\",\"decimalValue\":\"59000.00\",\"discount\":null,\"downpaymentRate\":0,\"downpaymentRequired\":false,\"name\":\"Maximum Retail Price\",\"priceType\":null,\"strikeOff\":true,\"value\":59000},\"partPriceInfo\":null,\"plusPriceInfo\":{\"type\":\"FormattedMessageValue\",\"data\":[{\"type\":\"FormattedRichTextData\",\"value\":{\"type\":\"RichTextValue\",\"style\":{\"color\":\"#000000\",\"fontSize\":14,\"fontStyle\":\"normal\",\"fontWeight\":\"normal\"},\"text\":\"Or Pay ₹35,890 + \"}},{\"type\":\"FormattedImageData\",\"value\":{\"type\":\"ImageValue\",\"aspectRatio\":\"1:1\",\"dynamicImageUrl\":\"https://rukminim1.flixcart.com/www/{@width}/{@height}/promos/18/07/2019/4aebbd99-7478-411e-aced-265e7722d18d.png?q={@quality}\",\"height\":0,\"width\":0}},{\"type\":\"FormattedRichTextData\",\"value\":{\"type\":\"RichTextValue\",\"style\":{\"color\":\"#000000\",\"fontSize\":14,\"fontStyle\":\"normal\",\"fontWeight\":\"normal\"},\"text\":\" 100\"}}]},\"priceDescriptions\":null,\"pricePerUnit\":null,\"priceTags\":null,\"prices\":[{\"additionalText\":null,\"currency\":\"INR\",\"decimalValue\":\"59000.00\",\"discount\":39,\"downpaymentRate\":0,\"downpaymentRequired\":false,\"name\":\"Selling Price\",\"priceType\":\"FSP\",\"strikeOff\":true,\"value\":59000},{\"additionalText\":null,\"currency\":\"INR\",\"decimalValue\":\"35990.00\",\"discount\":null,\"downpaymentRate\":0,\"downpaymentRequired\":false,\"name\":\"Special Price\",\"priceType\":\"SPECIAL_PRICE\",\"strikeOff\":false,\"value\":35990}],\"showDiscountAsAmount\":false,\"totalDiscount\":39},\"productBrand\":\"acer\",\"productCardTagDetails\":[{\"image\":{\"type\":\"ImageValue\",\"dynamicImageUrl\":\"https://rukminim1.flixcart.com/www/{@width}/{@height}/promos/21/07/2017/e8625e14-3277-4f16-a4d4-df8ed525905b.png?q={@quality}\",\"height\":0,\"width\":0},\"tagDetails\":null,\"type\":\"F_ASSURED\"}],\"rating\":{\"type\":\"RatingValue\",\"average\":4.1,\"base\":5,\"breakup\":[26,8,22,75,152],\"count\":283,\"histogramBaseCount\":152,\"reviewCount\":50},\"smartUrl\":\"http://dl.flipkart.com/dl/acer-aspire-3-core-i3-11th-gen-4-gb-256-gb-ssd-windows-10-home-a315-58-thin-light-laptop/p/itmdffdc847e9fdf?pid=COMGFQ4APGXDQQ9N\",\"tags\":[],\"titles\":{\"subtitle\":\"15.6 inch, Silver, 1.7 Kg\",\"title\":\"acer Aspire 3 Core i3 11th Gen - (4 GB/256 GB SSD/Windows 10 Home) A315-58 Thin and Light Laptop\"},\"vertical\":\"computer\",\"warrantySummary\":\"1 Year Onsite Warranty\"}}}]}}},{\"slotType\":\"WIDGET\",\"id\":8001008,\"parentId\":10003,\"layoutParams\":{\"orientation\":\"\",\"widgetHeight\":150,\"widgetWidth\":12},\"dataId\":\"-309415649\",\"elementId\":\"8001008-PRODUCT_SUMMARY\",\"hasWidgetDataChanged\":true,\"ttl\":3000,\"widget\":{\"type\":\"PRODUCT_SUMMARY\",\"viewType\":\"LIST_LARGE\",\"data\":{\"maxCardCount\":1,\"products\":[{\"addToWishlist\":{\"action\":{\"constraints\":null,\"fallback\":null,\"loginType\":\"LOGIN_NOT_REQUIRED\",\"omnitureData\":null,\"originalUrl\":null,\"params\":{\"valid\":true,\"productId\":\"COMFYZC5Q94CKQRV\"},\"requiredPermissionType\":null,\"screenType\":\"multiWidgetPage\",\"tracking\":{},\"type\":\"WISHLIST_ADD\",\"url\":null,\"validationMeta\":null},\"metaData\":null,\"tracking\":null,\"trackingData\":null,\"value\":{\"type\":\"ProductActionValue\",\"actionType\":\"ADD_TO_WISHLIST\",\"enabled\":true}},\"productInfo\":{\"action\":{\"constraints\":null,\"fallback\":null,\"loginType\":\"LOGIN_NOT_REQUIRED\",\"omnitureData\":\"deep_linking\",\"originalUrl\":null,\"params\":{\"valid\":true,\"productId\":\"COMFYZC5Q94CKQRV\",\"marketplace\":\"FLIPKART\",\"screenName\":\"PRODUCT_PAGE\",\"listingId\":\"LSTCOMFYZC5Q94CKQRVGS9Q9U\",\"pids\":[\"COMFYZC5Q94CKQRV\"],\"loadingStateKey\":\"LoadingStateDefaultNew\",\"lids\":[\"LSTCOMFYZC5Q94CKQRVGS9Q9U\"]},\"requiredPermissionType\":null,\"screenType\":\"productPage\",\"tracking\":{\"impressionId\":\"a34ade47-0df5-4ca4-a483-0ea1f0ee37cb.COMFYZC5Q94CKQRV.SEARCH\",\"prop64\":\"SS_cnc\",\"position\":\"9\",\"contentType\":\"productCard\",\"contextType\":\"widget\"},\"type\":\"NAVIGATION\",\"url\":\"/msi-modern-14-core-i3-10th-gen-8-gb-512-gb-ssd-windows-10-home-b10mw-424in-laptop/p/itmdb98c6b5f1662?pid=COMFYZC5Q94CKQRV&lid=LSTCOMFYZC5Q94CKQRVGS9Q9U&marketplace=FLIPKART&q=laptop&store=6bo%2Fb5g\",\"validationMeta\":null},\"metaData\":null,\"tracking\":{\"impressionId\":\"a34ade47-0df5-4ca4-a483-0ea1f0ee37cb.COMFYZC5Q94CKQRV.SEARCH\",\"prop64\":\"SS_cnc\",\"position\":\"9\",\"contentType\":\"productCard\",\"contextType\":\"widget\"},\"trackingData\":null,\"value\":{\"type\":\"ProductSummaryValue\",\"analyticsData\":{\"category\":\"Laptops\",\"subCategory\":\"Laptop\",\"superCategory\":\"LaptopAndDesktop\",\"vertical\":\"Laptop\"},\"availability\":{\"MessageIntent\":\"positive\",\"displayState\":\"IN_STOCK\",\"intent\":\"positive\",\"showMessage\":false},\"baseUrl\":\"/msi-modern-14-core-i3-10th-gen-8-gb-512-gb-ssd-windows-10-home-b10mw-424in-laptop/p/itmdb98c6b5f1662?pid=COMFYZC5Q94CKQRV\",\"buyability\":{\"intent\":\"positive\",\"message\":null,\"showMessage\":false},\"conditionCallout\":false,\"flags\":{\"enableChat\":true,\"enableCompare\":true,\"enableFlipkartAdvantage\":true,\"enableOfferTag\":true,\"enableVisualDiscovery\":false,\"enableWishlist\":true,\"showSecondaryTitle\":true,\"swatchAvailableOnBrowsePage\":true},\"grade\":{\"color\":null,\"id\":null,\"name\":null,\"shortDesc\":null},\"id\":\"COMFYZC5Q94CKQRV\",\"itemId\":\"ITMDB98C6B5F1662\",\"keySpecs\":[\"Intel Core i3 Processor (10th Gen)\",\"8 GB DDR4 RAM\",\"64 bit Windows 10 Operating System\",\"512 GB SSD\",\"35.56 cm (14 inch) Display\",\"Cooler Boost, Nahimic 3, Creator Center\"],\"listingId\":\"LSTCOMFYZC5Q94CKQRVGS9Q9U\",\"media\":{\"images\":[{\"aspectRatio\":null,\"contentInfo\":null,\"height\":null,\"url\":\"http://rukmini1.flixcart.com/image/{@width}/{@height}/kjabs7k0/computer/z/d/6/msi-original-imafywfypuwbubmn.jpeg?q={@quality}\",\"width\":null},{\"aspectRatio\":null,\"contentInfo\":null,\"height\":null,\"url\":\"http://rukmini1.flixcart.com/image/{@width}/{@height}/kjabs7k0/computer/z/d/6/msi-original-imafywfyefkutstg.jpeg?q={@quality}\",\"width\":null},{\"aspectRatio\":null,\"contentInfo\":null,\"height\":null,\"url\":\"http://rukmini1.flixcart.com/image/{@width}/{@height}/kjabs7k0/computer/z/d/6/msi-original-imafywfywtjt7tmx.jpeg?q={@quality}\",\"width\":null},{\"aspectRatio\":null,\"contentInfo\":null,\"height\":null,\"url\":\"http://rukmini1.flixcart.com/image/{@width}/{@height}/kjabs7k0/computer/z/d/6/msi-original-imafywffgugytzzv.jpeg?q={@quality}\",\"width\":null},{\"aspectRatio\":null,\"contentInfo\":null,\"height\":null,\"url\":\"http://rukmini1.flixcart.com/image/{@width}/{@height}/kjabs7k0/computer/z/d/6/msi-original-imafywffkwcztrqd.jpeg?q={@quality}\",\"width\":null},{\"aspectRatio\":null,\"contentInfo\":null,\"height\":null,\"url\":\"http://rukmini1.flixcart.com/image/{@width}/{@height}/kjabs7k0/computer/z/d/6/msi-original-imafywffmk7jxd8p.jpeg?q={@quality}\",\"width\":null},{\"aspectRatio\":null,\"contentInfo\":null,\"height\":null,\"url\":\"http://rukmini1.flixcart.com/image/{@width}/{@height}/kjabs7k0/computer/z/d/6/msi-original-imafywffhrxqmdgh.jpeg?q={@quality}\",\"width\":null},{\"aspectRatio\":null,\"contentInfo\":null,\"height\":null,\"url\":\"http://rukmini1.flixcart.com/image/{@width}/{@height}/kjabs7k0/computer/z/d/6/msi-original-imafywffzphgybfs.jpeg?q={@quality}\",\"width\":null},{\"aspectRatio\":null,\"contentInfo\":null,\"height\":null,\"url\":\"http://rukmini1.flixcart.com/image/{@width}/{@height}/kjabs7k0/computer/z/d/6/msi-original-imafywffkxtxgrps.jpeg?q={@quality}\",\"width\":null},{\"aspectRatio\":null,\"contentInfo\":null,\"height\":null,\"url\":\"http://rukmini1.flixcart.com/image/{@width}/{@height}/kjabs7k0/computer/z/d/6/msi-original-imafywfygnzaeqgz.jpeg?q={@quality}\",\"width\":null},{\"aspectRatio\":null,\"contentInfo\":null,\"height\":null,\"url\":\"http://rukmini1.flixcart.com/image/{@width}/{@height}/kjabs7k0/computer/z/d/6/msi-original-imafywfysyhhba7n.jpeg?q={@quality}\",\"width\":null},{\"aspectRatio\":null,\"contentInfo\":null,\"height\":null,\"url\":\"http://rukmini1.flixcart.com/image/{@width}/{@height}/kjabs7k0/computer/n/k/w/msi-original-imafywff8am5xht5.jpeg?q={@quality}\",\"width\":null},{\"aspectRatio\":null,\"contentInfo\":null,\"height\":null,\"url\":\"http://rukmini1.flixcart.com/image/{@width}/{@height}/kjabs7k0/computer/z/d/6/msi-original-imafywfyymnyezmw.jpeg?q={@quality}\",\"width\":null},{\"aspectRatio\":null,\"contentInfo\":null,\"height\":null,\"url\":\"http://rukmini1.flixcart.com/image/{@width}/{@height}/kjabs7k0/computer/z/d/6/msi-original-imafywfyeczduyf9.jpeg?q={@quality}\",\"width\":null}]},\"minKeySpecs\":[\"35.56 cm (14 inch) Full HD Display\",\"No Optical Disk Drive\"],\"pricing\":{\"type\":\"ListingPriceValue\",\"deliveryCharge\":{\"additionalText\":null,\"currency\":\"INR\",\"decimalValue\":\"0.00\",\"discount\":null,\"downpaymentRate\":0,\"downpaymentRequired\":false,\"name\":\"Delivery Charges\",\"priceType\":null,\"strikeOff\":false,\"value\":0},\"discountAmount\":12501,\"extraDiscount\":null,\"finalPrice\":{\"additionalText\":null,\"currency\":\"INR\",\"decimalValue\":\"39990.00\",\"discount\":null,\"downpaymentRate\":0,\"downpaymentRequired\":false,\"name\":\"Total\",\"priceType\":null,\"strikeOff\":false,\"value\":39990},\"finalSavingsText\":null,\"knowMore\":null,\"mrp\":{\"additionalText\":\"(incl. of all taxes)\",\"currency\":\"INR\",\"decimalValue\":\"52491.00\",\"discount\":null,\"downpaymentRate\":0,\"downpaymentRequired\":false,\"name\":\"Maximum Retail Price\",\"priceType\":null,\"strikeOff\":true,\"value\":52491},\"partPriceInfo\":null,\"plusPriceInfo\":{\"type\":\"FormattedMessageValue\",\"data\":[{\"type\":\"FormattedRichTextData\",\"value\":{\"type\":\"RichTextValue\",\"style\":{\"color\":\"#000000\",\"fontSize\":14,\"fontStyle\":\"normal\",\"fontWeight\":\"normal\"},\"text\":\"Or Pay ₹39,890 + \"}},{\"type\":\"FormattedImageData\",\"value\":{\"type\":\"ImageValue\",\"aspectRatio\":\"1:1\",\"dynamicImageUrl\":\"https://rukminim1.flixcart.com/www/{@width}/{@height}/promos/18/07/2019/4aebbd99-7478-411e-aced-265e7722d18d.png?q={@quality}\",\"height\":0,\"width\":0}},{\"type\":\"FormattedRichTextData\",\"value\":{\"type\":\"RichTextValue\",\"style\":{\"color\":\"#000000\",\"fontSize\":14,\"fontStyle\":\"normal\",\"fontWeight\":\"normal\"},\"text\":\" 100\"}}]},\"priceDescriptions\":null,\"pricePerUnit\":null,\"priceTags\":null,\"prices\":[{\"additionalText\":null,\"currency\":\"INR\",\"decimalValue\":\"52491.00\",\"discount\":23,\"downpaymentRate\":0,\"downpaymentRequired\":false,\"name\":\"Selling Price\",\"priceType\":\"FSP\",\"strikeOff\":true,\"value\":52491},{\"additionalText\":null,\"currency\":\"INR\",\"decimalValue\":\"39990.00\",\"discount\":null,\"downpaymentRate\":0,\"downpaymentRequired\":false,\"name\":\"Special Price\",\"priceType\":\"SPECIAL_PRICE\",\"strikeOff\":false,\"value\":39990}],\"showDiscountAsAmount\":false,\"totalDiscount\":23},\"productBrand\":\"MSI\",\"productCardTagDetails\":[{\"image\":{\"type\":\"ImageValue\",\"dynamicImageUrl\":\"https://rukminim1.flixcart.com/www/{@width}/{@height}/promos/21/07/2017/e8625e14-3277-4f16-a4d4-df8ed525905b.png?q={@quality}\",\"height\":0,\"width\":0},\"tagDetails\":null,\"type\":\"F_ASSURED\"}],\"rating\":{\"type\":\"RatingValue\",\"average\":4.5,\"base\":5,\"breakup\":[8,0,17,55,154],\"count\":234,\"histogramBaseCount\":154,\"reviewCount\":44},\"smartUrl\":\"http://dl.flipkart.com/dl/msi-modern-14-core-i3-10th-gen-8-gb-512-gb-ssd-windows-10-home-b10mw-424in-laptop/p/itmdb98c6b5f1662?pid=COMFYZC5Q94CKQRV\",\"tags\":[],\"titles\":{\"subtitle\":\"14 inch, Carbon Grey, 1.3 kg\",\"title\":\"MSI Modern 14 Core i3 10th Gen - (8 GB/512 GB SSD/Windows 10 Home) Modern 14 B10MW-424IN Laptop\"},\"vertical\":\"computer\",\"warrantySummary\":\"1 Year Carry In Warranty\"}}}]}}},{\"slotType\":\"WIDGET\",\"id\":8001009,\"parentId\":10003,\"layoutParams\":{\"orientation\":\"\",\"widgetHeight\":150,\"widgetWidth\":12},\"dataId\":\"-592466860\",\"elementId\":\"8001009-PRODUCT_SUMMARY\",\"hasWidgetDataChanged\":true,\"ttl\":3000,\"widget\":{\"type\":\"PRODUCT_SUMMARY\",\"viewType\":\"LIST_LARGE\",\"data\":{\"maxCardCount\":1,\"products\":[{\"addToWishlist\":{\"action\":{\"constraints\":null,\"fallback\":null,\"loginType\":\"LOGIN_NOT_REQUIRED\",\"omnitureData\":null,\"originalUrl\":null,\"params\":{\"valid\":true,\"productId\":\"COMG23RKF7NBG699\"},\"requiredPermissionType\":null,\"screenType\":\"multiWidgetPage\",\"tracking\":{},\"type\":\"WISHLIST_ADD\",\"url\":null,\"validationMeta\":null},\"metaData\":null,\"tracking\":null,\"trackingData\":null,\"value\":{\"type\":\"ProductActionValue\",\"actionType\":\"ADD_TO_WISHLIST\",\"enabled\":true}},\"productInfo\":{\"action\":{\"constraints\":null,\"fallback\":null,\"loginType\":\"LOGIN_NOT_REQUIRED\",\"omnitureData\":\"deep_linking\",\"originalUrl\":null,\"params\":{\"valid\":true,\"productId\":\"COMG23RKF7NBG699\",\"marketplace\":\"FLIPKART\",\"screenName\":\"PRODUCT_PAGE\",\"listingId\":\"LSTCOMG23RKF7NBG699MDAY6Y\",\"pids\":[\"COMG23RKF7NBG699\"],\"loadingStateKey\":\"LoadingStateDefaultNew\",\"lids\":[\"LSTCOMG23RKF7NBG699MDAY6Y\"]},\"requiredPermissionType\":null,\"screenType\":\"productPage\",\"tracking\":{\"impressionId\":\"a34ade47-0df5-4ca4-a483-0ea1f0ee37cb.COMG23RKF7NBG699.SEARCH\",\"prop64\":\"SS_ncemi:cnc\",\"position\":\"10\",\"contentType\":\"productCard\",\"contextType\":\"widget\"},\"type\":\"NAVIGATION\",\"url\":\"/lenovo-ideapad-3-core-i5-10th-gen-8-gb-1-tb-hdd-windows-10-home-15iil05-laptop/p/itmbfeb76dfb98dd?pid=COMG23RKF7NBG699&lid=LSTCOMG23RKF7NBG699MDAY6Y&marketplace=FLIPKART&q=laptop&store=6bo%2Fb5g\",\"validationMeta\":null},\"metaData\":null,\"tracking\":{\"impressionId\":\"a34ade47-0df5-4ca4-a483-0ea1f0ee37cb.COMG23RKF7NBG699.SEARCH\",\"prop64\":\"SS_ncemi:cnc\",\"position\":\"10\",\"contentType\":\"productCard\",\"contextType\":\"widget\"},\"trackingData\":null,\"value\":{\"type\":\"ProductSummaryValue\",\"analyticsData\":{\"category\":\"Laptops\",\"subCategory\":\"Laptop\",\"superCategory\":\"LaptopAndDesktop\",\"vertical\":\"Laptop\"},\"availability\":{\"MessageIntent\":\"positive\",\"displayState\":\"IN_STOCK\",\"intent\":\"positive\",\"showMessage\":false},\"baseUrl\":\"/lenovo-ideapad-3-core-i5-10th-gen-8-gb-1-tb-hdd-windows-10-home-15iil05-laptop/p/itmbfeb76dfb98dd?pid=COMG23RKF7NBG699\",\"buyability\":{\"intent\":\"positive\",\"message\":null,\"showMessage\":false},\"conditionCallout\":false,\"flags\":{\"enableChat\":true,\"enableCompare\":true,\"enableFlipkartAdvantage\":true,\"enableOfferTag\":true,\"enableVisualDiscovery\":false,\"enableWishlist\":true,\"showSecondaryTitle\":true,\"swatchAvailableOnBrowsePage\":true},\"grade\":{\"color\":null,\"id\":null,\"name\":null,\"shortDesc\":null},\"id\":\"COMG23RKF7NBG699\",\"itemId\":\"ITMBFEB76DFB98DD\",\"keySpecs\":[\"Intel Core i5 Processor (10th Gen)\",\"8 GB DDR4 RAM\",\"64 bit Windows 10 Operating System\",\"1 TB HDD\",\"39.62 cm (15.6 inch) Display\",\"Microsoft Office (Trial Only)\"],\"listingId\":\"LSTCOMG23RKF7NBG699MDAY6Y\",\"media\":{\"images\":[{\"aspectRatio\":null,\"contentInfo\":null,\"height\":null,\"url\":\"http://rukmini1.flixcart.com/image/{@width}/{@height}/keaaavk0/computer/x/m/y/lenovo-na-laptop-original-imafuzt8r5jqppfn.jpeg?q={@quality}\",\"width\":null},{\"aspectRatio\":null,\"contentInfo\":null,\"height\":null,\"url\":\"http://rukmini1.flixcart.com/image/{@width}/{@height}/kc29n680/computer/4/e/2/lenovo-na-laptop-original-imaft9uxtwxnraez.jpeg?q={@quality}\",\"width\":null},{\"aspectRatio\":null,\"contentInfo\":null,\"height\":null,\"url\":\"http://rukmini1.flixcart.com/image/{@width}/{@height}/kbb49zk0/computer/p/h/d/lenovo-na-laptop-original-imafsnkx43mqh9ja.jpeg?q={@quality}\",\"width\":null},{\"aspectRatio\":null,\"contentInfo\":null,\"height\":null,\"url\":\"http://rukmini1.flixcart.com/image/{@width}/{@height}/kbb49zk0/computer/x/m/y/lenovo-na-laptop-original-imafsnkx2tkh6vgm.jpeg?q={@quality}\",\"width\":null},{\"aspectRatio\":null,\"contentInfo\":null,\"height\":null,\"url\":\"http://rukmini1.flixcart.com/image/{@width}/{@height}/kdj4xow0/computer/p/h/d/lenovo-na-laptop-original-imafuesjpdevhp8k.jpeg?q={@quality}\",\"width\":null},{\"aspectRatio\":null,\"contentInfo\":null,\"height\":null,\"url\":\"http://rukmini1.flixcart.com/image/{@width}/{@height}/kebpqq80/computer/p/h/d/lenovo-na-laptop-original-imafvyqwfzn8euu5.jpeg?q={@quality}\",\"width\":null}]},\"minKeySpecs\":[\"39.62 cm (15.6 inch) Full HD Display\",\"No Optical Disk Drive\"],\"pricing\":{\"type\":\"ListingPriceValue\",\"deliveryCharge\":{\"additionalText\":null,\"currency\":\"INR\",\"decimalValue\":\"0.00\",\"discount\":null,\"downpaymentRate\":0,\"downpaymentRequired\":false,\"name\":\"Delivery Charges\",\"priceType\":null,\"strikeOff\":false,\"value\":0},\"discountAmount\":20800,\"extraDiscount\":null,\"finalPrice\":{\"additionalText\":null,\"currency\":\"INR\",\"decimalValue\":\"42990.00\",\"discount\":null,\"downpaymentRate\":0,\"downpaymentRequired\":false,\"name\":\"Total\",\"priceType\":null,\"strikeOff\":false,\"value\":42990},\"finalSavingsText\":null,\"knowMore\":null,\"mrp\":{\"additionalText\":\"(incl. of all taxes)\",\"currency\":\"INR\",\"decimalValue\":\"63790.00\",\"discount\":null,\"downpaymentRate\":0,\"downpaymentRequired\":false,\"name\":\"Maximum Retail Price\",\"priceType\":null,\"strikeOff\":true,\"value\":63790},\"partPriceInfo\":null,\"plusPriceInfo\":{\"type\":\"FormattedMessageValue\",\"data\":[{\"type\":\"FormattedRichTextData\",\"value\":{\"type\":\"RichTextValue\",\"style\":{\"color\":\"#000000\",\"fontSize\":14,\"fontStyle\":\"normal\",\"fontWeight\":\"normal\"},\"text\":\"Or Pay ₹42,890 + \"}},{\"type\":\"FormattedImageData\",\"value\":{\"type\":\"ImageValue\",\"aspectRatio\":\"1:1\",\"dynamicImageUrl\":\"https://rukminim1.flixcart.com/www/{@width}/{@height}/promos/18/07/2019/4aebbd99-7478-411e-aced-265e7722d18d.png?q={@quality}\",\"height\":0,\"width\":0}},{\"type\":\"FormattedRichTextData\",\"value\":{\"type\":\"RichTextValue\",\"style\":{\"color\":\"#000000\",\"fontSize\":14,\"fontStyle\":\"normal\",\"fontWeight\":\"normal\"},\"text\":\" 100\"}}]},\"priceDescriptions\":null,\"pricePerUnit\":null,\"priceTags\":null,\"prices\":[{\"additionalText\":null,\"currency\":\"INR\",\"decimalValue\":\"63790.00\",\"discount\":32,\"downpaymentRate\":0,\"downpaymentRequired\":false,\"name\":\"Selling Price\",\"priceType\":\"FSP\",\"strikeOff\":true,\"value\":63790},{\"additionalText\":null,\"currency\":\"INR\",\"decimalValue\":\"42990.00\",\"discount\":null,\"downpaymentRate\":0,\"downpaymentRequired\":false,\"name\":\"Special Price\",\"priceType\":\"SPECIAL_PRICE\",\"strikeOff\":false,\"value\":42990}],\"showDiscountAsAmount\":false,\"totalDiscount\":32},\"productBrand\":\"Lenovo\",\"productCardTagDetails\":[{\"image\":{\"type\":\"ImageValue\",\"dynamicImageUrl\":\"https://rukminim1.flixcart.com/www/{@width}/{@height}/promos/21/07/2017/e8625e14-3277-4f16-a4d4-df8ed525905b.png?q={@quality}\",\"height\":0,\"width\":0},\"tagDetails\":null,\"type\":\"F_ASSURED\"}],\"rating\":{\"type\":\"RatingValue\",\"average\":4.2,\"base\":5,\"breakup\":[4,3,2,14,30],\"count\":53,\"histogramBaseCount\":30,\"reviewCount\":5},\"smartUrl\":\"http://dl.flipkart.com/dl/lenovo-ideapad-3-core-i5-10th-gen-8-gb-1-tb-hdd-windows-10-home-15iil05-laptop/p/itmbfeb76dfb98dd?pid=COMG23RKF7NBG699\",\"tags\":[],\"titles\":{\"subtitle\":\"15.6 inch, Platinum Grey, 1.85 kg\",\"title\":\"Lenovo IdeaPad 3 Core i5 10th Gen - (8 GB/1 TB HDD/Windows 10 Home) 15IIL05 Laptop\"},\"vertical\":\"computer\",\"warrantySummary\":\"1 Year Onsite Warranty\"}},\"snippets\":[{\"type\":\"FormattedMessageValue\",\"data\":[{\"type\":\"FormattedRichTextData\",\"value\":{\"type\":\"RichTextValue\",\"style\":{\"color\":\"#000000\",\"fontSize\":12,\"fontStyle\":\"normal\",\"fontWeight\":\"normal\"},\"text\":\"No Cost EMI\"}}]}]}]}}},{\"slotType\":\"WIDGET\",\"id\":8001010,\"parentId\":10003,\"layoutParams\":{\"orientation\":\"\",\"widgetHeight\":150,\"widgetWidth\":12},\"dataId\":\"-1550670882\",\"elementId\":\"8001010-PRODUCT_SUMMARY\",\"hasWidgetDataChanged\":true,\"ttl\":3000,\"widget\":{\"type\":\"PRODUCT_SUMMARY\",\"viewType\":\"LIST_LARGE\",\"data\":{\"maxCardCount\":1,\"products\":[{\"addToWishlist\":{\"action\":{\"constraints\":null,\"fallback\":null,\"loginType\":\"LOGIN_NOT_REQUIRED\",\"omnitureData\":null,\"originalUrl\":null,\"params\":{\"valid\":true,\"productId\":\"COMGFVWMZXNEDHFB\"},\"requiredPermissionType\":null,\"screenType\":\"multiWidgetPage\",\"tracking\":{},\"type\":\"WISHLIST_ADD\",\"url\":null,\"validationMeta\":null},\"metaData\":null,\"tracking\":null,\"trackingData\":null,\"value\":{\"type\":\"ProductActionValue\",\"actionType\":\"ADD_TO_WISHLIST\",\"enabled\":true}},\"productInfo\":{\"action\":{\"constraints\":null,\"fallback\":null,\"loginType\":\"LOGIN_NOT_REQUIRED\",\"omnitureData\":\"deep_linking\",\"originalUrl\":null,\"params\":{\"valid\":true,\"productId\":\"COMGFVWMZXNEDHFB\",\"marketplace\":\"FLIPKART\",\"screenName\":\"PRODUCT_PAGE\",\"listingId\":\"LSTCOMGFVWMZXNEDHFBKVM1HI\",\"pids\":[\"COMGFVWMZXNEDHFB\"],\"loadingStateKey\":\"LoadingStateDefaultNew\",\"lids\":[\"LSTCOMGFVWMZXNEDHFBKVM1HI\"]},\"requiredPermissionType\":null,\"screenType\":\"productPage\",\"tracking\":{\"impressionId\":\"a34ade47-0df5-4ca4-a483-0ea1f0ee37cb.COMGFVWMZXNEDHFB.SEARCH\",\"prop64\":\"SS_ncemi:cnc\",\"position\":\"11\",\"contentType\":\"productCard\",\"contextType\":\"widget\"},\"type\":\"NAVIGATION\",\"url\":\"/asus-tuf-gaming-f15-core-i5-10th-gen-8-gb-512-gb-ssd-windows-10-home-4-graphics-nvidia-geforce-gtx-1650-ti-144-hz-fx506li-hn271ts-laptop/p/itme14aa4095ad4c?pid=COMGFVWMZXNEDHFB&lid=LSTCOMGFVWMZXNEDHFBKVM1HI&marketplace=FLIPKART&q=laptop&store=6bo%2Fb5g\",\"validationMeta\":null},\"metaData\":null,\"tracking\":{\"impressionId\":\"a34ade47-0df5-4ca4-a483-0ea1f0ee37cb.COMGFVWMZXNEDHFB.SEARCH\",\"prop64\":\"SS_ncemi:cnc\",\"position\":\"11\",\"contentType\":\"productCard\",\"contextType\":\"widget\"},\"trackingData\":null,\"value\":{\"type\":\"ProductSummaryValue\",\"analyticsData\":{\"category\":\"Laptops\",\"subCategory\":\"Laptop\",\"superCategory\":\"LaptopAndDesktop\",\"vertical\":\"Laptop\"},\"availability\":{\"MessageIntent\":\"positive\",\"displayState\":\"IN_STOCK\",\"intent\":\"positive\",\"showMessage\":false},\"baseUrl\":\"/asus-tuf-gaming-f15-core-i5-10th-gen-8-gb-512-gb-ssd-windows-10-home-4-graphics-nvidia-geforce-gtx-1650-ti-144-hz-fx506li-hn271ts-laptop/p/itme14aa4095ad4c?pid=COMGFVWMZXNEDHFB\",\"buyability\":{\"intent\":\"positive\",\"message\":null,\"showMessage\":false},\"conditionCallout\":false,\"flags\":{\"enableChat\":true,\"enableCompare\":true,\"enableFlipkartAdvantage\":true,\"enableOfferTag\":true,\"enableVisualDiscovery\":false,\"enableWishlist\":true,\"showSecondaryTitle\":true,\"swatchAvailableOnBrowsePage\":true},\"grade\":{\"color\":null,\"id\":null,\"name\":null,\"shortDesc\":null},\"id\":\"COMGFVWMZXNEDHFB\",\"itemId\":\"ITME14AA4095AD4C\",\"keySpecs\":[\"Intel Core i5 Processor (10th Gen)\",\"8 GB DDR4 RAM\",\"64 bit Windows 10 Operating System\",\"512 GB SSD\",\"39.62 cm (15.6 Inch) Display\",\"Microsoft Office Home and Student 2019\"],\"listingId\":\"LSTCOMGFVWMZXNEDHFBKVM1HI\",\"media\":{\"images\":[{\"aspectRatio\":null,\"contentInfo\":null,\"height\":null,\"url\":\"http://rukmini1.flixcart.com/image/{@width}/{@height}/knni7ww0/computer/x/o/x/na-gaming-laptop-asus-original-imag2a8c7fgm2mrm.jpeg?q={@quality}\",\"width\":null},{\"aspectRatio\":null,\"contentInfo\":null,\"height\":null,\"url\":\"http://rukmini1.flixcart.com/image/{@width}/{@height}/kjn6qvk0/computer/p/2/g/asus-original-imafz6ahju5jdswy.jpeg?q={@quality}\",\"width\":null},{\"aspectRatio\":null,\"contentInfo\":null,\"height\":null,\"url\":\"http://rukmini1.flixcart.com/image/{@width}/{@height}/kjn6qvk0/computer/p/2/g/asus-original-imafz6ajgthumxrg.jpeg?q={@quality}\",\"width\":null},{\"aspectRatio\":null,\"contentInfo\":null,\"height\":null,\"url\":\"http://rukmini1.flixcart.com/image/{@width}/{@height}/knoxnrk0/computer/c/0/h/na-gaming-laptop-asus-original-imag2bbyzsfagafn.jpeg?q={@quality}\",\"width\":null},{\"aspectRatio\":null,\"contentInfo\":null,\"height\":null,\"url\":\"http://rukmini1.flixcart.com/image/{@width}/{@height}/kjn6qvk0/computer/p/2/g/asus-original-imafz6ajbmrjjzvc.jpeg?q={@quality}\",\"width\":null},{\"aspectRatio\":null,\"contentInfo\":null,\"height\":null,\"url\":\"http://rukmini1.flixcart.com/image/{@width}/{@height}/kjn6qvk0/computer/p/2/g/asus-original-imafz6ajy4uhw3gv.jpeg?q={@quality}\",\"width\":null},{\"aspectRatio\":null,\"contentInfo\":null,\"height\":null,\"url\":\"http://rukmini1.flixcart.com/image/{@width}/{@height}/kjn6qvk0/computer/p/2/g/asus-original-imafz6ajyecvczzh.jpeg?q={@quality}\",\"width\":null},{\"aspectRatio\":null,\"contentInfo\":null,\"height\":null,\"url\":\"http://rukmini1.flixcart.com/image/{@width}/{@height}/kay9bbk0/computer/d/s/h/asus-na-gaming-laptop-original-imafseh7yyavxjaz.jpeg?q={@quality}\",\"width\":null}]},\"minKeySpecs\":[\"NVIDIA GeForce GTX 1650 Ti 4 GB Gfx\",\"39.62 cm (15.6 Inch) Full HD Display\",\"Microsoft Office\",\"No Optical Disk Drive\"],\"pricing\":{\"type\":\"ListingPriceValue\",\"deliveryCharge\":{\"additionalText\":null,\"currency\":\"INR\",\"decimalValue\":\"0.00\",\"discount\":null,\"downpaymentRate\":0,\"downpaymentRequired\":false,\"name\":\"Delivery Charges\",\"priceType\":null,\"strikeOff\":false,\"value\":0},\"discountAmount\":23000,\"extraDiscount\":null,\"finalPrice\":{\"additionalText\":null,\"currency\":\"INR\",\"decimalValue\":\"66990.00\",\"discount\":null,\"downpaymentRate\":0,\"downpaymentRequired\":false,\"name\":\"Total\",\"priceType\":null,\"strikeOff\":false,\"value\":66990},\"finalSavingsText\":null,\"knowMore\":null,\"mrp\":{\"additionalText\":\"(incl. of all taxes)\",\"currency\":\"INR\",\"decimalValue\":\"89990.00\",\"discount\":null,\"downpaymentRate\":0,\"downpaymentRequired\":false,\"name\":\"Maximum Retail Price\",\"priceType\":null,\"strikeOff\":true,\"value\":89990},\"partPriceInfo\":null,\"plusPriceInfo\":{\"type\":\"FormattedMessageValue\",\"data\":[{\"type\":\"FormattedRichTextData\",\"value\":{\"type\":\"RichTextValue\",\"style\":{\"color\":\"#000000\",\"fontSize\":14,\"fontStyle\":\"normal\",\"fontWeight\":\"normal\"},\"text\":\"Or Pay ₹66,890 + \"}},{\"type\":\"FormattedImageData\",\"value\":{\"type\":\"ImageValue\",\"aspectRatio\":\"1:1\",\"dynamicImageUrl\":\"https://rukminim1.flixcart.com/www/{@width}/{@height}/promos/18/07/2019/4aebbd99-7478-411e-aced-265e7722d18d.png?q={@quality}\",\"height\":0,\"width\":0}},{\"type\":\"FormattedRichTextData\",\"value\":{\"type\":\"RichTextValue\",\"style\":{\"color\":\"#000000\",\"fontSize\":14,\"fontStyle\":\"normal\",\"fontWeight\":\"normal\"},\"text\":\" 100\"}}]},\"priceDescriptions\":null,\"pricePerUnit\":null,\"priceTags\":null,\"prices\":[{\"additionalText\":null,\"currency\":\"INR\",\"decimalValue\":\"89990.00\",\"discount\":25,\"downpaymentRate\":0,\"downpaymentRequired\":false,\"name\":\"Selling Price\",\"priceType\":\"FSP\",\"strikeOff\":true,\"value\":89990},{\"additionalText\":null,\"currency\":\"INR\",\"decimalValue\":\"66990.00\",\"discount\":null,\"downpaymentRate\":0,\"downpaymentRequired\":false,\"name\":\"Special Price\",\"priceType\":\"SPECIAL_PRICE\",\"strikeOff\":false,\"value\":66990}],\"showDiscountAsAmount\":false,\"totalDiscount\":25},\"productBrand\":\"ASUS\",\"productCardTagDetails\":[{\"image\":{\"type\":\"ImageValue\",\"dynamicImageUrl\":\"https://rukminim1.flixcart.com/www/{@width}/{@height}/promos/21/07/2017/e8625e14-3277-4f16-a4d4-df8ed525905b.png?q={@quality}\",\"height\":0,\"width\":0},\"tagDetails\":null,\"type\":\"F_ASSURED\"}],\"rating\":{\"type\":\"RatingValue\",\"average\":4.7,\"base\":5,\"breakup\":[0,1,1,3,18],\"count\":23,\"histogramBaseCount\":18,\"reviewCount\":5},\"smartUrl\":\"http://dl.flipkart.com/dl/asus-tuf-gaming-f15-core-i5-10th-gen-8-gb-512-gb-ssd-windows-10-home-4-graphics-nvidia-geforce-gtx-1650-ti-144-hz-fx506li-hn271ts-laptop/p/itme14aa4095ad4c?pid=COMGFVWMZXNEDHFB\",\"tags\":[],\"titles\":{\"subtitle\":\"15.6 Inch, Black Plastic, 2.3 KG, With MS Office\",\"title\":\"ASUS TUF Gaming F15 Core i5 10th Gen - (8 GB/512 GB SSD/Windows 10 Home/4 GB Graphics/NVIDIA GeForce GTX 1650 Ti/144 Hz) FX506LI-HN271TS Gaming Laptop\"},\"vertical\":\"computer\",\"warrantySummary\":\"1 Year Onsite Warranty\"}},\"snippets\":[{\"type\":\"FormattedMessageValue\",\"data\":[{\"type\":\"FormattedRichTextData\",\"value\":{\"type\":\"RichTextValue\",\"style\":{\"color\":\"#000000\",\"fontSize\":12,\"fontStyle\":\"normal\",\"fontWeight\":\"normal\"},\"text\":\"No Cost EMI\"}}]}]}]}}},{\"slotType\":\"WIDGET\",\"id\":8001011,\"parentId\":10003,\"layoutParams\":{\"orientation\":\"\",\"widgetHeight\":150,\"widgetWidth\":12},\"dataId\":\"1903802055\",\"elementId\":\"8001011-PRODUCT_SUMMARY\",\"hasWidgetDataChanged\":true,\"ttl\":3000,\"widget\":{\"type\":\"PRODUCT_SUMMARY\",\"viewType\":\"LIST_LARGE\",\"data\":{\"maxCardCount\":1,\"products\":[{\"adInfo\":{\"adSymbolDisabled\":null,\"bannerId\":\"-1\",\"impressionId\":\"en_sO2JoGGXnEpiPv5Z0NrfZXnzIXgoc1Nrzz2qZlYj+MuFYZXkZRV0H6MjbxgT8Z7f8H94GmEEp82hn/939ck7zg==\",\"listingId\":\"LSTCOMGFAZ4WDP7UJFY4NHUI5\",\"marketplaceId\":\"FLIPKART\",\"numResults\":730,\"productId\":\"COMGFAZ4WDP7UJFY\",\"responseId\":\"a34ade47-0df5-4ca4-a483-0ea1f0ee37cb\"},\"addToWishlist\":{\"action\":{\"constraints\":null,\"fallback\":null,\"loginType\":\"LOGIN_NOT_REQUIRED\",\"omnitureData\":null,\"originalUrl\":null,\"params\":{\"valid\":true,\"productId\":\"COMGFAZ4WDP7UJFY\"},\"requiredPermissionType\":null,\"screenType\":\"multiWidgetPage\",\"tracking\":{},\"type\":\"WISHLIST_ADD\",\"url\":null,\"validationMeta\":null},\"metaData\":null,\"tracking\":null,\"trackingData\":null,\"value\":{\"type\":\"ProductActionValue\",\"actionType\":\"ADD_TO_WISHLIST\",\"enabled\":true}},\"productInfo\":{\"action\":{\"constraints\":null,\"fallback\":null,\"loginType\":\"LOGIN_NOT_REQUIRED\",\"omnitureData\":\"deep_linking\",\"originalUrl\":null,\"params\":{\"valid\":true,\"productId\":\"COMGFAZ4WDP7UJFY\",\"marketplace\":\"FLIPKART\",\"screenName\":\"PRODUCT_PAGE\",\"listingId\":\"LSTCOMGFAZ4WDP7UJFY4NHUI5\",\"pids\":[\"COMGFAZ4WDP7UJFY\"],\"loadingStateKey\":\"LoadingStateDefaultNew\",\"lids\":[\"LSTCOMGFAZ4WDP7UJFY4NHUI5\"]},\"requiredPermissionType\":null,\"screenType\":\"productPage\",\"tracking\":{\"impressionId\":\"en_sO2JoGGXnEpiPv5Z0NrfZXnzIXgoc1Nrzz2qZlYj+MuFYZXkZRV0H6MjbxgT8Z7f8H94GmEEp82hn/939ck7zg==\",\"prop64\":\"SS_cnc\",\"position\":\"12\",\"contentType\":\"productCard\",\"contextType\":\"widget\"},\"type\":\"NAVIGATION\",\"url\":\"/acer-aspire-5-core-i3-11th-gen-4-gb-1-tb-hdd-windows-10-home-a515-56-thin-light-laptop/p/itmcfa33fd484cdc?pid=COMGFAZ4WDP7UJFY&lid=LSTCOMGFAZ4WDP7UJFY4NHUI5&marketplace=FLIPKART&q=laptop&store=6bo%2Fb5g\",\"validationMeta\":null},\"metaData\":null,\"tracking\":{\"impressionId\":\"en_sO2JoGGXnEpiPv5Z0NrfZXnzIXgoc1Nrzz2qZlYj+MuFYZXkZRV0H6MjbxgT8Z7f8H94GmEEp82hn/939ck7zg==\",\"prop64\":\"SS_cnc\",\"position\":\"12\",\"contentType\":\"productCard\",\"contextType\":\"widget\"},\"trackingData\":null,\"value\":{\"type\":\"ProductSummaryValue\",\"analyticsData\":{\"category\":\"Laptops\",\"subCategory\":\"Laptop\",\"superCategory\":\"LaptopAndDesktop\",\"vertical\":\"Laptop\"},\"availability\":{\"MessageIntent\":\"positive\",\"displayState\":\"IN_STOCK\",\"intent\":\"positive\",\"showMessage\":false},\"baseUrl\":\"/acer-aspire-5-core-i3-11th-gen-4-gb-1-tb-hdd-windows-10-home-a515-56-thin-light-laptop/p/itmcfa33fd484cdc?pid=COMGFAZ4WDP7UJFY\",\"buyability\":{\"intent\":\"positive\",\"message\":null,\"showMessage\":false},\"conditionCallout\":false,\"flags\":{\"enableChat\":true,\"enableCompare\":true,\"enableFlipkartAdvantage\":true,\"enableOfferTag\":true,\"enableVisualDiscovery\":false,\"enableWishlist\":true,\"showSecondaryTitle\":true,\"swatchAvailableOnBrowsePage\":true},\"grade\":{\"color\":null,\"id\":null,\"name\":null,\"shortDesc\":null},\"id\":\"COMGFAZ4WDP7UJFY\",\"itemId\":\"ITMCFA33FD484CDC\",\"keySpecs\":[\"Intel Core i3 Processor (11th Gen)\",\"4 GB DDR4 RAM\",\"64 bit Windows 10 Operating System\",\"1 TB HDD\",\"39.62 cm (15.6 inch) Display\",\"Acer Care Center, Acer Product Registration, Quick Access\"],\"listingId\":\"LSTCOMGFAZ4WDP7UJFY4NHUI5\",\"media\":{\"images\":[{\"aspectRatio\":null,\"contentInfo\":null,\"height\":null,\"url\":\"http://rukmini1.flixcart.com/image/{@width}/{@height}/kkh6zrk0/computer/0/j/u/acer-original-imafztjqzju67ddf.jpeg?q={@quality}\",\"width\":null},{\"aspectRatio\":null,\"contentInfo\":null,\"height\":null,\"url\":\"http://rukmini1.flixcart.com/image/{@width}/{@height}/kkh6zrk0/computer/g/z/q/acer-original-imafztjqzjhg7s6x.jpeg?q={@quality}\",\"width\":null},{\"aspectRatio\":null,\"contentInfo\":null,\"height\":null,\"url\":\"http://rukmini1.flixcart.com/image/{@width}/{@height}/kkh6zrk0/computer/i/h/c/acer-original-imafztjquuzsyqwc.jpeg?q={@quality}\",\"width\":null},{\"aspectRatio\":null,\"contentInfo\":null,\"height\":null,\"url\":\"http://rukmini1.flixcart.com/image/{@width}/{@height}/kkh6zrk0/computer/u/a/g/acer-original-imafztjqzj8yxf6f.jpeg?q={@quality}\",\"width\":null},{\"aspectRatio\":null,\"contentInfo\":null,\"height\":null,\"url\":\"http://rukmini1.flixcart.com/image/{@width}/{@height}/kkh6zrk0/computer/j/o/3/acer-original-imafztjqqfhnkk2x.jpeg?q={@quality}\",\"width\":null},{\"aspectRatio\":null,\"contentInfo\":null,\"height\":null,\"url\":\"http://rukmini1.flixcart.com/image/{@width}/{@height}/kkh6zrk0/computer/x/q/3/acer-original-imafztjq5v3ju5b9.jpeg?q={@quality}\",\"width\":null},{\"aspectRatio\":null,\"contentInfo\":null,\"height\":null,\"url\":\"http://rukmini1.flixcart.com/image/{@width}/{@height}/kkh6zrk0/computer/m/n/e/acer-original-imafztjqpderzasg.jpeg?q={@quality}\",\"width\":null}]},\"minKeySpecs\":[\"39.62 cm (15.6 inch) Full HD Display\",\"1.65 kg\",\"No Optical Disk Drive\"],\"pricing\":{\"type\":\"ListingPriceValue\",\"deliveryCharge\":{\"additionalText\":null,\"currency\":\"INR\",\"decimalValue\":\"0.00\",\"discount\":null,\"downpaymentRate\":0,\"downpaymentRequired\":false,\"name\":\"Delivery Charges\",\"priceType\":null,\"strikeOff\":false,\"value\":0},\"discountAmount\":4737,\"extraDiscount\":null,\"finalPrice\":{\"additionalText\":null,\"currency\":\"INR\",\"decimalValue\":\"38990.00\",\"discount\":null,\"downpaymentRate\":0,\"downpaymentRequired\":false,\"name\":\"Total\",\"priceType\":null,\"strikeOff\":false,\"value\":38990},\"finalSavingsText\":null,\"knowMore\":null,\"mrp\":{\"additionalText\":\"(incl. of all taxes)\",\"currency\":\"INR\",\"decimalValue\":\"43727.00\",\"discount\":null,\"downpaymentRate\":0,\"downpaymentRequired\":false,\"name\":\"Maximum Retail Price\",\"priceType\":null,\"strikeOff\":true,\"value\":43727},\"partPriceInfo\":null,\"plusPriceInfo\":{\"type\":\"FormattedMessageValue\",\"data\":[{\"type\":\"FormattedRichTextData\",\"value\":{\"type\":\"RichTextValue\",\"style\":{\"color\":\"#000000\",\"fontSize\":14,\"fontStyle\":\"normal\",\"fontWeight\":\"normal\"},\"text\":\"Or Pay ₹38,890 + \"}},{\"type\":\"FormattedImageData\",\"value\":{\"type\":\"ImageValue\",\"aspectRatio\":\"1:1\",\"dynamicImageUrl\":\"https://rukminim1.flixcart.com/www/{@width}/{@height}/promos/18/07/2019/4aebbd99-7478-411e-aced-265e7722d18d.png?q={@quality}\",\"height\":0,\"width\":0}},{\"type\":\"FormattedRichTextData\",\"value\":{\"type\":\"RichTextValue\",\"style\":{\"color\":\"#000000\",\"fontSize\":14,\"fontStyle\":\"normal\",\"fontWeight\":\"normal\"},\"text\":\" 100\"}}]},\"priceDescriptions\":null,\"pricePerUnit\":null,\"priceTags\":null,\"prices\":[{\"additionalText\":null,\"currency\":\"INR\",\"decimalValue\":\"43727.00\",\"discount\":10,\"downpaymentRate\":0,\"downpaymentRequired\":false,\"name\":\"Selling Price\",\"priceType\":\"FSP\",\"strikeOff\":true,\"value\":43727},{\"additionalText\":null,\"currency\":\"INR\",\"decimalValue\":\"38990.00\",\"discount\":null,\"downpaymentRate\":0,\"downpaymentRequired\":false,\"name\":\"Special Price\",\"priceType\":\"SPECIAL_PRICE\",\"strikeOff\":false,\"value\":38990}],\"showDiscountAsAmount\":false,\"totalDiscount\":10},\"productBrand\":\"acer\",\"productCardTagDetails\":[{\"image\":{\"type\":\"ImageValue\",\"dynamicImageUrl\":\"https://rukminim1.flixcart.com/www/{@width}/{@height}/promos/21/07/2017/e8625e14-3277-4f16-a4d4-df8ed525905b.png?q={@quality}\",\"height\":0,\"width\":0},\"tagDetails\":null,\"type\":\"F_ASSURED\"}],\"rating\":{\"type\":\"RatingValue\",\"average\":4.3,\"base\":5,\"breakup\":[1,0,2,3,10],\"count\":16,\"histogramBaseCount\":10,\"reviewCount\":6},\"smartUrl\":\"http://dl.flipkart.com/dl/acer-aspire-5-core-i3-11th-gen-4-gb-1-tb-hdd-windows-10-home-a515-56-thin-light-laptop/p/itmcfa33fd484cdc?pid=COMGFAZ4WDP7UJFY\",\"tags\":[],\"titles\":{\"subtitle\":\"15.6 inch, Silver, 1.65 kg\",\"title\":\"acer Aspire 5 Core i3 11th Gen - (4 GB/1 TB HDD/Windows 10 Home) A515-56 Thin and Light Laptop\"},\"vertical\":\"computer\",\"warrantySummary\":\"1 Year International Travelers Warranty (ITW)\"}}}]}}},{\"slotType\":\"WIDGET\",\"id\":8001012,\"parentId\":10003,\"layoutParams\":{\"orientation\":\"\",\"widgetHeight\":150,\"widgetWidth\":12},\"dataId\":\"236772513\",\"elementId\":\"8001012-PRODUCT_SUMMARY\",\"hasWidgetDataChanged\":true,\"ttl\":3000,\"widget\":{\"type\":\"PRODUCT_SUMMARY\",\"viewType\":\"LIST_LARGE\",\"data\":{\"maxCardCount\":1,\"products\":[{\"addToWishlist\":{\"action\":{\"constraints\":null,\"fallback\":null,\"loginType\":\"LOGIN_NOT_REQUIRED\",\"omnitureData\":null,\"originalUrl\":null,\"params\":{\"valid\":true,\"productId\":\"COMG26RVFGZGDE9D\"},\"requiredPermissionType\":null,\"screenType\":\"multiWidgetPage\",\"tracking\":{},\"type\":\"WISHLIST_ADD\",\"url\":null,\"validationMeta\":null},\"metaData\":null,\"tracking\":null,\"trackingData\":null,\"value\":{\"type\":\"ProductActionValue\",\"actionType\":\"ADD_TO_WISHLIST\",\"enabled\":true}},\"productInfo\":{\"action\":{\"constraints\":null,\"fallback\":null,\"loginType\":\"LOGIN_NOT_REQUIRED\",\"omnitureData\":\"deep_linking\",\"originalUrl\":null,\"params\":{\"valid\":true,\"productId\":\"COMG26RVFGZGDE9D\",\"marketplace\":\"FLIPKART\",\"screenName\":\"PRODUCT_PAGE\",\"listingId\":\"LSTCOMG26RVFGZGDE9DXGPBAY\",\"pids\":[\"COMG26RVFGZGDE9D\"],\"loadingStateKey\":\"LoadingStateDefaultNew\",\"lids\":[\"LSTCOMG26RVFGZGDE9DXGPBAY\"]},\"requiredPermissionType\":null,\"screenType\":\"productPage\",\"tracking\":{\"impressionId\":\"a34ade47-0df5-4ca4-a483-0ea1f0ee37cb.COMG26RVFGZGDE9D.SEARCH\",\"prop64\":\"SS_ncemi:cnc\",\"position\":\"13\",\"contentType\":\"productCard\",\"contextType\":\"widget\"},\"type\":\"NAVIGATION\",\"url\":\"/hp-14s-ryzen-3-quad-core-4300u-8-gb-512-gb-ssd-windows-10-home-14s-fr0016au-thin-light-laptop/p/itma78a910d56810?pid=COMG26RVFGZGDE9D&lid=LSTCOMG26RVFGZGDE9DXGPBAY&marketplace=FLIPKART&q=laptop&store=6bo%2Fb5g\",\"validationMeta\":null},\"metaData\":null,\"tracking\":{\"impressionId\":\"a34ade47-0df5-4ca4-a483-0ea1f0ee37cb.COMG26RVFGZGDE9D.SEARCH\",\"prop64\":\"SS_ncemi:cnc\",\"position\":\"13\",\"contentType\":\"productCard\",\"contextType\":\"widget\"},\"trackingData\":null,\"value\":{\"type\":\"ProductSummaryValue\",\"analyticsData\":{\"category\":\"Laptops\",\"subCategory\":\"Laptop\",\"superCategory\":\"LaptopAndDesktop\",\"vertical\":\"Laptop\"},\"availability\":{\"MessageIntent\":\"positive\",\"displayState\":\"IN_STOCK\",\"intent\":\"positive\",\"showMessage\":false},\"baseUrl\":\"/hp-14s-ryzen-3-quad-core-4300u-8-gb-512-gb-ssd-windows-10-home-14s-fr0016au-thin-light-laptop/p/itma78a910d56810?pid=COMG26RVFGZGDE9D\",\"buyability\":{\"intent\":\"positive\",\"message\":null,\"showMessage\":false},\"conditionCallout\":false,\"flags\":{\"enableChat\":true,\"enableCompare\":true,\"enableFlipkartAdvantage\":true,\"enableOfferTag\":true,\"enableVisualDiscovery\":false,\"enableWishlist\":true,\"showSecondaryTitle\":true,\"swatchAvailableOnBrowsePage\":true},\"grade\":{\"color\":null,\"id\":null,\"name\":null,\"shortDesc\":null},\"id\":\"COMG26RVFGZGDE9D\",\"itemId\":\"ITMA78A910D56810\",\"keySpecs\":[\"AMD Ryzen 3 Quad Core Processor\",\"8 GB DDR4 RAM\",\"64 bit Windows 10 Operating System\",\"512 GB SSD\",\"35.56 cm (14 inch) Display\",\"Microsoft Office 2019 and Office 365, HP Smart, HP Documentation, HP SSRM\"],\"listingId\":\"LSTCOMG26RVFGZGDE9DXGPBAY\",\"media\":{\"images\":[{\"aspectRatio\":null,\"contentInfo\":null,\"height\":null,\"url\":\"http://rukmini1.flixcart.com/image/{@width}/{@height}/kgzg8sw0/computer/z/j/j/hp-14s-fr0009au-laptop-original-imafx3rhqwgwzwgy.jpeg?q={@quality}\",\"width\":null},{\"aspectRatio\":null,\"contentInfo\":null,\"height\":null,\"url\":\"http://rukmini1.flixcart.com/image/{@width}/{@height}/kgzg8sw0/computer/z/j/j/hp-14s-fr0009au-laptop-original-imafx3rhn6xzxgpx.jpeg?q={@quality}\",\"width\":null},{\"aspectRatio\":null,\"contentInfo\":null,\"height\":null,\"url\":\"http://rukmini1.flixcart.com/image/{@width}/{@height}/knhsgi80/computer/b/i/2/na-thin-and-light-laptop-hp-original-imag25v8zcapzexv.jpeg?q={@quality}\",\"width\":null},{\"aspectRatio\":null,\"contentInfo\":null,\"height\":null,\"url\":\"http://rukmini1.flixcart.com/image/{@width}/{@height}/kbqu4cw0/computer/v/r/y/hp-original-imaftyzqvgbdzxex.jpeg?q={@quality}\",\"width\":null},{\"aspectRatio\":null,\"contentInfo\":null,\"height\":null,\"url\":\"http://rukmini1.flixcart.com/image/{@width}/{@height}/kgzg8sw0/computer/z/j/j/hp-14s-fr0009au-laptop-original-imafx3rhssyxtdwh.jpeg?q={@quality}\",\"width\":null},{\"aspectRatio\":null,\"contentInfo\":null,\"height\":null,\"url\":\"http://rukmini1.flixcart.com/image/{@width}/{@height}/kl5hh8w0/computer/g/y/f/hp-original-imagyckn8ygzhzjh.jpeg?q={@quality}\",\"width\":null}]},\"minKeySpecs\":[\"AMD Radeon Gfx\",\"35.56 cm (14 inch) Full HD Display\",\"1.46 KG\",\"Microsoft Office\",\"No Optical Disk Drive\"],\"pricing\":{\"type\":\"ListingPriceValue\",\"deliveryCharge\":{\"additionalText\":null,\"currency\":\"INR\",\"decimalValue\":\"0.00\",\"discount\":null,\"downpaymentRate\":0,\"downpaymentRequired\":false,\"name\":\"Delivery Charges\",\"priceType\":null,\"strikeOff\":false,\"value\":0},\"discountAmount\":4952,\"extraDiscount\":null,\"finalPrice\":{\"additionalText\":null,\"currency\":\"INR\",\"decimalValue\":\"39490.00\",\"discount\":null,\"downpaymentRate\":0,\"downpaymentRequired\":false,\"name\":\"Total\",\"priceType\":null,\"strikeOff\":false,\"value\":39490},\"finalSavingsText\":null,\"knowMore\":null,\"mrp\":{\"additionalText\":\"(incl. of all taxes)\",\"currency\":\"INR\",\"decimalValue\":\"44442.00\",\"discount\":null,\"downpaymentRate\":0,\"downpaymentRequired\":false,\"name\":\"Maximum Retail Price\",\"priceType\":null,\"strikeOff\":true,\"value\":44442},\"partPriceInfo\":null,\"plusPriceInfo\":{\"type\":\"FormattedMessageValue\",\"data\":[{\"type\":\"FormattedRichTextData\",\"value\":{\"type\":\"RichTextValue\",\"style\":{\"color\":\"#000000\",\"fontSize\":14,\"fontStyle\":\"normal\",\"fontWeight\":\"normal\"},\"text\":\"Or Pay ₹39,390 + \"}},{\"type\":\"FormattedImageData\",\"value\":{\"type\":\"ImageValue\",\"aspectRatio\":\"1:1\",\"dynamicImageUrl\":\"https://rukminim1.flixcart.com/www/{@width}/{@height}/promos/18/07/2019/4aebbd99-7478-411e-aced-265e7722d18d.png?q={@quality}\",\"height\":0,\"width\":0}},{\"type\":\"FormattedRichTextData\",\"value\":{\"type\":\"RichTextValue\",\"style\":{\"color\":\"#000000\",\"fontSize\":14,\"fontStyle\":\"normal\",\"fontWeight\":\"normal\"},\"text\":\" 100\"}}]},\"priceDescriptions\":null,\"pricePerUnit\":null,\"priceTags\":null,\"prices\":[{\"additionalText\":null,\"currency\":\"INR\",\"decimalValue\":\"44442.00\",\"discount\":11,\"downpaymentRate\":0,\"downpaymentRequired\":false,\"name\":\"Selling Price\",\"priceType\":\"FSP\",\"strikeOff\":true,\"value\":44442},{\"additionalText\":null,\"currency\":\"INR\",\"decimalValue\":\"39490.00\",\"discount\":null,\"downpaymentRate\":0,\"downpaymentRequired\":false,\"name\":\"Special Price\",\"priceType\":\"SPECIAL_PRICE\",\"strikeOff\":false,\"value\":39490}],\"showDiscountAsAmount\":false,\"totalDiscount\":11},\"productBrand\":\"HP\",\"productCardTagDetails\":[{\"image\":{\"type\":\"ImageValue\",\"dynamicImageUrl\":\"https://rukminim1.flixcart.com/www/{@width}/{@height}/promos/21/07/2017/e8625e14-3277-4f16-a4d4-df8ed525905b.png?q={@quality}\",\"height\":0,\"width\":0},\"tagDetails\":null,\"type\":\"F_ASSURED\"}],\"rating\":{\"type\":\"RatingValue\",\"average\":4.4,\"base\":5,\"breakup\":[25,8,23,180,390],\"count\":626,\"histogramBaseCount\":390,\"reviewCount\":88},\"smartUrl\":\"http://dl.flipkart.com/dl/hp-14s-ryzen-3-quad-core-4300u-8-gb-512-gb-ssd-windows-10-home-14s-fr0016au-thin-light-laptop/p/itma78a910d56810?pid=COMG26RVFGZGDE9D\",\"tags\":[],\"titles\":{\"subtitle\":\"14 inch, Natural Silver, 1.46 KG, With MS Office\",\"title\":\"HP 14s Ryzen 3 Quad Core 4300U - (8 GB/512 GB SSD/Windows 10 Home) 14s-fr0016AU Thin and Light Laptop\"},\"vertical\":\"computer\",\"warrantySummary\":\"1 Year Onsite Warranty\"}},\"snippets\":[{\"type\":\"FormattedMessageValue\",\"data\":[{\"type\":\"FormattedRichTextData\",\"value\":{\"type\":\"RichTextValue\",\"style\":{\"color\":\"#000000\",\"fontSize\":12,\"fontStyle\":\"normal\",\"fontWeight\":\"normal\"},\"text\":\"No Cost EMI\"}}]}]}]}}},{\"slotType\":\"WIDGET\",\"id\":8001013,\"parentId\":10003,\"layoutParams\":{\"orientation\":\"\",\"widgetHeight\":150,\"widgetWidth\":12},\"dataId\":\"373970954\",\"elementId\":\"8001013-PRODUCT_SUMMARY\",\"hasWidgetDataChanged\":true,\"ttl\":3000,\"widget\":{\"type\":\"PRODUCT_SUMMARY\",\"viewType\":\"LIST_LARGE\",\"data\":{\"maxCardCount\":1,\"products\":[{\"addToWishlist\":{\"action\":{\"constraints\":null,\"fallback\":null,\"loginType\":\"LOGIN_NOT_REQUIRED\",\"omnitureData\":null,\"originalUrl\":null,\"params\":{\"valid\":true,\"productId\":\"COMFR6AAYHTCDHTG\"},\"requiredPermissionType\":null,\"screenType\":\"multiWidgetPage\",\"tracking\":{},\"type\":\"WISHLIST_ADD\",\"url\":null,\"validationMeta\":null},\"metaData\":null,\"tracking\":null,\"trackingData\":null,\"value\":{\"type\":\"ProductActionValue\",\"actionType\":\"ADD_TO_WISHLIST\",\"enabled\":true}},\"productInfo\":{\"action\":{\"constraints\":null,\"fallback\":null,\"loginType\":\"LOGIN_NOT_REQUIRED\",\"omnitureData\":\"deep_linking\",\"originalUrl\":null,\"params\":{\"valid\":true,\"productId\":\"COMFR6AAYHTCDHTG\",\"marketplace\":\"FLIPKART\",\"screenName\":\"PRODUCT_PAGE\",\"listingId\":\"LSTCOMFR6AAYHTCDHTGRBZYBI\",\"pids\":[\"COMFR6AAYHTCDHTG\"],\"loadingStateKey\":\"LoadingStateDefaultNew\",\"lids\":[\"LSTCOMFR6AAYHTCDHTGRBZYBI\"]},\"requiredPermissionType\":null,\"screenType\":\"productPage\",\"tracking\":{\"impressionId\":\"a34ade47-0df5-4ca4-a483-0ea1f0ee37cb.COMFR6AAYHTCDHTG.SEARCH\",\"prop64\":\"SS_ncemi:cnc\",\"position\":\"14\",\"contentType\":\"productCard\",\"contextType\":\"widget\"},\"type\":\"NAVIGATION\",\"url\":\"/acer-aspire-7-core-i5-9th-gen-8-gb-512-gb-ssd-windows-10-home-4-graphics-nvidia-geforce-gtx-1650-ti-a715-75g-51h8-gaming-laptop/p/itmb6b0ba7ba7c49?pid=COMFR6AAYHTCDHTG&lid=LSTCOMFR6AAYHTCDHTGRBZYBI&marketplace=FLIPKART&q=laptop&store=6bo%2Fb5g\",\"validationMeta\":null},\"metaData\":null,\"tracking\":{\"impressionId\":\"a34ade47-0df5-4ca4-a483-0ea1f0ee37cb.COMFR6AAYHTCDHTG.SEARCH\",\"prop64\":\"SS_ncemi:cnc\",\"position\":\"14\",\"contentType\":\"productCard\",\"contextType\":\"widget\"},\"trackingData\":null,\"value\":{\"type\":\"ProductSummaryValue\",\"analyticsData\":{\"category\":\"Laptops\",\"subCategory\":\"Laptop\",\"superCategory\":\"LaptopAndDesktop\",\"vertical\":\"Laptop\"},\"availability\":{\"MessageIntent\":\"positive\",\"displayState\":\"IN_STOCK\",\"intent\":\"positive\",\"showMessage\":false},\"baseUrl\":\"/acer-aspire-7-core-i5-9th-gen-8-gb-512-gb-ssd-windows-10-home-4-graphics-nvidia-geforce-gtx-1650-ti-a715-75g-51h8-gaming-laptop/p/itmb6b0ba7ba7c49?pid=COMFR6AAYHTCDHTG\",\"buyability\":{\"intent\":\"positive\",\"message\":null,\"showMessage\":false},\"conditionCallout\":false,\"flags\":{\"enableChat\":true,\"enableCompare\":true,\"enableFlipkartAdvantage\":true,\"enableOfferTag\":true,\"enableVisualDiscovery\":false,\"enableWishlist\":true,\"showSecondaryTitle\":true,\"swatchAvailableOnBrowsePage\":true},\"grade\":{\"color\":null,\"id\":null,\"name\":null,\"shortDesc\":null},\"id\":\"COMFR6AAYHTCDHTG\",\"itemId\":\"ITMB6B0BA7BA7C49\",\"keySpecs\":[\"Intel Core i5 Processor (9th Gen)\",\"8 GB DDR4 RAM\",\"64 bit Windows 10 Operating System\",\"512 GB SSD\",\"39.62 cm (15.6 inch) Display\",\"Acer Collection, Acer Product Registration , Quick Access, Acer Care Center\"],\"listingId\":\"LSTCOMFR6AAYHTCDHTGRBZYBI\",\"media\":{\"images\":[{\"aspectRatio\":null,\"contentInfo\":null,\"height\":null,\"url\":\"http://rukmini1.flixcart.com/image/{@width}/{@height}/kcc9q4w0/computer/h/t/g/acer-na-gaming-laptop-original-imafthr8aa4rsjpn.jpeg?q={@quality}\",\"width\":null},{\"aspectRatio\":null,\"contentInfo\":null,\"height\":null,\"url\":\"http://rukmini1.flixcart.com/image/{@width}/{@height}/kcc9q4w0/computer/6/z/k/acer-na-gaming-laptop-original-imafthr8j3mebpgp.jpeg?q={@quality}\",\"width\":null},{\"aspectRatio\":null,\"contentInfo\":null,\"height\":null,\"url\":\"http://rukmini1.flixcart.com/image/{@width}/{@height}/kcc9q4w0/computer/6/z/k/acer-na-gaming-laptop-original-imafthr8syynvyfz.jpeg?q={@quality}\",\"width\":null},{\"aspectRatio\":null,\"contentInfo\":null,\"height\":null,\"url\":\"http://rukmini1.flixcart.com/image/{@width}/{@height}/k9loccw0/computer/f/x/s/acer-na-gaming-laptop-original-imafrczhrywshugf.jpeg?q={@quality}\",\"width\":null},{\"aspectRatio\":null,\"contentInfo\":null,\"height\":null,\"url\":\"http://rukmini1.flixcart.com/image/{@width}/{@height}/k9loccw0/computer/f/x/s/acer-na-gaming-laptop-original-imafrczgkedbamcx.jpeg?q={@quality}\",\"width\":null},{\"aspectRatio\":null,\"contentInfo\":null,\"height\":null,\"url\":\"http://rukmini1.flixcart.com/image/{@width}/{@height}/k9loccw0/computer/f/x/s/acer-na-gaming-laptop-original-imafrczguzh8eznh.jpeg?q={@quality}\",\"width\":null},{\"aspectRatio\":null,\"contentInfo\":null,\"height\":null,\"url\":\"http://rukmini1.flixcart.com/image/{@width}/{@height}/kfikya80/computer/6/z/k/acer-na-gaming-laptop-original-imafvykmfrmmpxny.jpeg?q={@quality}\",\"width\":null},{\"aspectRatio\":null,\"contentInfo\":null,\"height\":null,\"url\":\"http://rukmini1.flixcart.com/image/{@width}/{@height}/kfikya80/computer/h/t/g/acer-na-gaming-laptop-original-imafvykn5jemjc66.jpeg?q={@quality}\",\"width\":null},{\"aspectRatio\":null,\"contentInfo\":null,\"height\":null,\"url\":\"http://rukmini1.flixcart.com/image/{@width}/{@height}/kfikya80/computer/6/z/k/acer-na-gaming-laptop-original-imafvykmghqgqyhh.jpeg?q={@quality}\",\"width\":null},{\"aspectRatio\":null,\"contentInfo\":null,\"height\":null,\"url\":\"http://rukmini1.flixcart.com/image/{@width}/{@height}/kfikya80/computer/6/z/k/acer-na-gaming-laptop-original-imafvykmprsgkhsq.jpeg?q={@quality}\",\"width\":null},{\"aspectRatio\":null,\"contentInfo\":null,\"height\":null,\"url\":\"http://rukmini1.flixcart.com/image/{@width}/{@height}/kfikya80/computer/h/t/g/acer-na-gaming-laptop-original-imafvykng2zbha8k.jpeg?q={@quality}\",\"width\":null}],\"videos\":[{\"height\":null,\"videoId\":\"IjFsdooCuSQ\",\"videoProvider\":\"YOUTUBE\",\"videoType\":\"THUMBNAIL\",\"width\":null}]},\"minKeySpecs\":[\"NVIDIA GeForce GTX 1650 Ti 4 GB Gfx\",\"39.62 cm (15.6 inch) Full HD Display\",\"No Optical Disk Drive\"],\"pricing\":{\"type\":\"ListingPriceValue\",\"deliveryCharge\":{\"additionalText\":null,\"currency\":\"INR\",\"decimalValue\":\"0.00\",\"discount\":null,\"downpaymentRate\":0,\"downpaymentRequired\":false,\"name\":\"Delivery Charges\",\"priceType\":null,\"strikeOff\":false,\"value\":0},\"discountAmount\":31009,\"extraDiscount\":null,\"finalPrice\":{\"additionalText\":null,\"currency\":\"INR\",\"decimalValue\":\"53990.00\",\"discount\":null,\"downpaymentRate\":0,\"downpaymentRequired\":false,\"name\":\"Total\",\"priceType\":null,\"strikeOff\":false,\"value\":53990},\"finalSavingsText\":null,\"knowMore\":null,\"mrp\":{\"additionalText\":\"(incl. of all taxes)\",\"currency\":\"INR\",\"decimalValue\":\"84999.00\",\"discount\":null,\"downpaymentRate\":0,\"downpaymentRequired\":false,\"name\":\"Maximum Retail Price\",\"priceType\":null,\"strikeOff\":true,\"value\":84999},\"partPriceInfo\":null,\"plusPriceInfo\":{\"type\":\"FormattedMessageValue\",\"data\":[{\"type\":\"FormattedRichTextData\",\"value\":{\"type\":\"RichTextValue\",\"style\":{\"color\":\"#000000\",\"fontSize\":14,\"fontStyle\":\"normal\",\"fontWeight\":\"normal\"},\"text\":\"Or Pay ₹53,890 + \"}},{\"type\":\"FormattedImageData\",\"value\":{\"type\":\"ImageValue\",\"aspectRatio\":\"1:1\",\"dynamicImageUrl\":\"https://rukminim1.flixcart.com/www/{@width}/{@height}/promos/18/07/2019/4aebbd99-7478-411e-aced-265e7722d18d.png?q={@quality}\",\"height\":0,\"width\":0}},{\"type\":\"FormattedRichTextData\",\"value\":{\"type\":\"RichTextValue\",\"style\":{\"color\":\"#000000\",\"fontSize\":14,\"fontStyle\":\"normal\",\"fontWeight\":\"normal\"},\"text\":\" 100\"}}]},\"priceDescriptions\":null,\"pricePerUnit\":null,\"priceTags\":null,\"prices\":[{\"additionalText\":null,\"currency\":\"INR\",\"decimalValue\":\"84999.00\",\"discount\":36,\"downpaymentRate\":0,\"downpaymentRequired\":false,\"name\":\"Selling Price\",\"priceType\":\"FSP\",\"strikeOff\":true,\"value\":84999},{\"additionalText\":null,\"currency\":\"INR\",\"decimalValue\":\"53990.00\",\"discount\":null,\"downpaymentRate\":0,\"downpaymentRequired\":false,\"name\":\"Special Price\",\"priceType\":\"SPECIAL_PRICE\",\"strikeOff\":false,\"value\":53990}],\"showDiscountAsAmount\":false,\"totalDiscount\":36},\"productBrand\":\"acer\",\"productCardTagDetails\":[{\"image\":{\"type\":\"ImageValue\",\"dynamicImageUrl\":\"https://rukminim1.flixcart.com/www/{@width}/{@height}/promos/21/07/2017/e8625e14-3277-4f16-a4d4-df8ed525905b.png?q={@quality}\",\"height\":0,\"width\":0},\"tagDetails\":null,\"type\":\"F_ASSURED\"}],\"rating\":{\"type\":\"RatingValue\",\"average\":4.4,\"base\":5,\"breakup\":[87,30,103,603,1313],\"count\":2136,\"histogramBaseCount\":1313,\"reviewCount\":275},\"smartUrl\":\"http://dl.flipkart.com/dl/acer-aspire-7-core-i5-9th-gen-8-gb-512-gb-ssd-windows-10-home-4-graphics-nvidia-geforce-gtx-1650-ti-a715-75g-51h8-gaming-laptop/p/itmb6b0ba7ba7c49?pid=COMFR6AAYHTCDHTG\",\"tags\":[],\"titles\":{\"subtitle\":\"15.6 inch, Charcoal Black, 2.15 kg\",\"title\":\"acer Aspire 7 Core i5 9th Gen - (8 GB/512 GB SSD/Windows 10 Home/4 GB Graphics/NVIDIA GeForce GTX 1650 Ti) A715-75G-51H8 Gaming Laptop\"},\"vertical\":\"computer\",\"warrantySummary\":\"1 Year International Travelers Warranty (ITW)\"}},\"snippets\":[{\"type\":\"FormattedMessageValue\",\"data\":[{\"type\":\"FormattedRichTextData\",\"value\":{\"type\":\"RichTextValue\",\"style\":{\"color\":\"#000000\",\"fontSize\":12,\"fontStyle\":\"normal\",\"fontWeight\":\"normal\"},\"text\":\"No Cost EMI\"}}]}]}]}}},{\"slotType\":\"WIDGET\",\"id\":8001014,\"parentId\":10003,\"layoutParams\":{\"orientation\":\"\",\"widgetHeight\":150,\"widgetWidth\":12},\"dataId\":\"1017923330\",\"elementId\":\"8001014-PRODUCT_SUMMARY\",\"hasWidgetDataChanged\":true,\"ttl\":3000,\"widget\":{\"type\":\"PRODUCT_SUMMARY\",\"viewType\":\"LIST_LARGE\",\"data\":{\"maxCardCount\":1,\"products\":[{\"addToWishlist\":{\"action\":{\"constraints\":null,\"fallback\":null,\"loginType\":\"LOGIN_NOT_REQUIRED\",\"omnitureData\":null,\"originalUrl\":null,\"params\":{\"valid\":true,\"productId\":\"COMG2HDWHWHHJV4E\"},\"requiredPermissionType\":null,\"screenType\":\"multiWidgetPage\",\"tracking\":{},\"type\":\"WISHLIST_ADD\",\"url\":null,\"validationMeta\":null},\"metaData\":null,\"tracking\":null,\"trackingData\":null,\"value\":{\"type\":\"ProductActionValue\",\"actionType\":\"ADD_TO_WISHLIST\",\"enabled\":true}},\"productInfo\":{\"action\":{\"constraints\":null,\"fallback\":null,\"loginType\":\"LOGIN_NOT_REQUIRED\",\"omnitureData\":\"deep_linking\",\"originalUrl\":null,\"params\":{\"valid\":true,\"productId\":\"COMG2HDWHWHHJV4E\",\"marketplace\":\"FLIPKART\",\"screenName\":\"PRODUCT_PAGE\",\"listingId\":\"LSTCOMG2HDWHWHHJV4EU2HY7O\",\"pids\":[\"COMG2HDWHWHHJV4E\"],\"loadingStateKey\":\"LoadingStateDefaultNew\",\"lids\":[\"LSTCOMG2HDWHWHHJV4EU2HY7O\"]},\"requiredPermissionType\":null,\"screenType\":\"productPage\",\"tracking\":{\"impressionId\":\"a34ade47-0df5-4ca4-a483-0ea1f0ee37cb.COMG2HDWHWHHJV4E.SEARCH\",\"prop64\":\"SS_ncemi:cnc\",\"position\":\"15\",\"contentType\":\"productCard\",\"contextType\":\"widget\"},\"type\":\"NAVIGATION\",\"url\":\"/hp-pentium-quad-core-8-gb-256-gb-ssd-windows-10-home-14s-dq3018tu-thin-light-laptop/p/itmdf4e72a377e90?pid=COMG2HDWHWHHJV4E&lid=LSTCOMG2HDWHWHHJV4EU2HY7O&marketplace=FLIPKART&q=laptop&store=6bo%2Fb5g\",\"validationMeta\":null},\"metaData\":null,\"tracking\":{\"impressionId\":\"a34ade47-0df5-4ca4-a483-0ea1f0ee37cb.COMG2HDWHWHHJV4E.SEARCH\",\"prop64\":\"SS_ncemi:cnc\",\"position\":\"15\",\"contentType\":\"productCard\",\"contextType\":\"widget\"},\"trackingData\":null,\"value\":{\"type\":\"ProductSummaryValue\",\"analyticsData\":{\"category\":\"Laptops\",\"subCategory\":\"Laptop\",\"superCategory\":\"LaptopAndDesktop\",\"vertical\":\"Laptop\"},\"availability\":{\"MessageIntent\":\"positive\",\"displayState\":\"IN_STOCK\",\"intent\":\"positive\",\"showMessage\":false},\"baseUrl\":\"/hp-pentium-quad-core-8-gb-256-gb-ssd-windows-10-home-14s-dq3018tu-thin-light-laptop/p/itmdf4e72a377e90?pid=COMG2HDWHWHHJV4E\",\"buyability\":{\"intent\":\"positive\",\"message\":null,\"showMessage\":false},\"conditionCallout\":false,\"flags\":{\"enableChat\":true,\"enableCompare\":true,\"enableFlipkartAdvantage\":true,\"enableOfferTag\":true,\"enableVisualDiscovery\":false,\"enableWishlist\":true,\"showSecondaryTitle\":true,\"swatchAvailableOnBrowsePage\":true},\"grade\":{\"color\":null,\"id\":null,\"name\":null,\"shortDesc\":null},\"id\":\"COMG2HDWHWHHJV4E\",\"itemId\":\"ITMDF4E72A377E90\",\"keySpecs\":[\"Intel Pentium Quad Core Processor\",\"8 GB DDR4 RAM\",\"64 bit Windows 10 Operating System\",\"256 GB SSD\",\"35.56 cm (14 inch) Display\",\"Microsoft Office Home & Student 2019, HP Documentation, HP Smart\"],\"listingId\":\"LSTCOMG2HDWHWHHJV4EU2HY7O\",\"media\":{\"images\":[{\"aspectRatio\":null,\"contentInfo\":null,\"height\":null,\"url\":\"http://rukmini1.flixcart.com/image/{@width}/{@height}/kctf0cw0/computer/j/n/a/hp-na-thin-and-light-laptop-original-imaftv7fxtmzhkw3.jpeg?q={@quality}\",\"width\":null},{\"aspectRatio\":null,\"contentInfo\":null,\"height\":null,\"url\":\"http://rukmini1.flixcart.com/image/{@width}/{@height}/kctf0cw0/computer/j/n/a/hp-na-thin-and-light-laptop-original-imaftv7fd7zxzxe2.jpeg?q={@quality}\",\"width\":null},{\"aspectRatio\":null,\"contentInfo\":null,\"height\":null,\"url\":\"http://rukmini1.flixcart.com/image/{@width}/{@height}/kctf0cw0/computer/j/n/a/hp-na-thin-and-light-laptop-original-imaftv7fkc2yaade.jpeg?q={@quality}\",\"width\":null},{\"aspectRatio\":null,\"contentInfo\":null,\"height\":null,\"url\":\"http://rukmini1.flixcart.com/image/{@width}/{@height}/kctf0cw0/computer/j/n/a/hp-na-thin-and-light-laptop-original-imaftv7ffqubp873.jpeg?q={@quality}\",\"width\":null},{\"aspectRatio\":null,\"contentInfo\":null,\"height\":null,\"url\":\"http://rukmini1.flixcart.com/image/{@width}/{@height}/kctf0cw0/computer/j/n/a/hp-na-thin-and-light-laptop-original-imaftv7f5vy66hhz.jpeg?q={@quality}\",\"width\":null},{\"aspectRatio\":null,\"contentInfo\":null,\"height\":null,\"url\":\"http://rukmini1.flixcart.com/image/{@width}/{@height}/kctf0cw0/computer/j/n/a/hp-na-thin-and-light-laptop-original-imaftv7fcvzgr4s9.jpeg?q={@quality}\",\"width\":null},{\"aspectRatio\":null,\"contentInfo\":null,\"height\":null,\"url\":\"http://rukmini1.flixcart.com/image/{@width}/{@height}/kl5hh8w0/computer/g/y/f/hp-original-imagyckn8ygzhzjh.jpeg?q={@quality}\",\"width\":null}]},\"minKeySpecs\":[\"35.56 cm (14 inch) HD Display\",\"1.46 kg\",\"Microsoft Office\",\"No Optical Disk Drive\"],\"pricing\":{\"type\":\"ListingPriceValue\",\"deliveryCharge\":{\"additionalText\":null,\"currency\":\"INR\",\"decimalValue\":\"0.00\",\"discount\":null,\"downpaymentRate\":0,\"downpaymentRequired\":false,\"name\":\"Delivery Charges\",\"priceType\":null,\"strikeOff\":false,\"value\":0},\"discountAmount\":3010,\"extraDiscount\":null,\"finalPrice\":{\"additionalText\":null,\"currency\":\"INR\",\"decimalValue\":\"31490.00\",\"discount\":null,\"downpaymentRate\":0,\"downpaymentRequired\":false,\"name\":\"Total\",\"priceType\":null,\"strikeOff\":false,\"value\":31490},\"finalSavingsText\":null,\"knowMore\":null,\"mrp\":{\"additionalText\":\"(incl. of all taxes)\",\"currency\":\"INR\",\"decimalValue\":\"34500.00\",\"discount\":null,\"downpaymentRate\":0,\"downpaymentRequired\":false,\"name\":\"Maximum Retail Price\",\"priceType\":null,\"strikeOff\":true,\"value\":34500},\"partPriceInfo\":null,\"plusPriceInfo\":{\"type\":\"FormattedMessageValue\",\"data\":[{\"type\":\"FormattedRichTextData\",\"value\":{\"type\":\"RichTextValue\",\"style\":{\"color\":\"#000000\",\"fontSize\":14,\"fontStyle\":\"normal\",\"fontWeight\":\"normal\"},\"text\":\"Or Pay ₹31,390 + \"}},{\"type\":\"FormattedImageData\",\"value\":{\"type\":\"ImageValue\",\"aspectRatio\":\"1:1\",\"dynamicImageUrl\":\"https://rukminim1.flixcart.com/www/{@width}/{@height}/promos/18/07/2019/4aebbd99-7478-411e-aced-265e7722d18d.png?q={@quality}\",\"height\":0,\"width\":0}},{\"type\":\"FormattedRichTextData\",\"value\":{\"type\":\"RichTextValue\",\"style\":{\"color\":\"#000000\",\"fontSize\":14,\"fontStyle\":\"normal\",\"fontWeight\":\"normal\"},\"text\":\" 100\"}}]},\"priceDescriptions\":null,\"pricePerUnit\":null,\"priceTags\":null,\"prices\":[{\"additionalText\":null,\"currency\":\"INR\",\"decimalValue\":\"34500.00\",\"discount\":8,\"downpaymentRate\":0,\"downpaymentRequired\":false,\"name\":\"Selling Price\",\"priceType\":\"FSP\",\"strikeOff\":true,\"value\":34500},{\"additionalText\":null,\"currency\":\"INR\",\"decimalValue\":\"31490.00\",\"discount\":null,\"downpaymentRate\":0,\"downpaymentRequired\":false,\"name\":\"Special Price\",\"priceType\":\"SPECIAL_PRICE\",\"strikeOff\":false,\"value\":31490}],\"showDiscountAsAmount\":false,\"totalDiscount\":8},\"productBrand\":\"HP\",\"productCardTagDetails\":[{\"image\":{\"type\":\"ImageValue\",\"dynamicImageUrl\":\"https://rukminim1.flixcart.com/www/{@width}/{@height}/promos/21/07/2017/e8625e14-3277-4f16-a4d4-df8ed525905b.png?q={@quality}\",\"height\":0,\"width\":0},\"tagDetails\":null,\"type\":\"F_ASSURED\"}],\"rating\":{\"type\":\"RatingValue\",\"average\":4.2,\"base\":5,\"breakup\":[9,6,12,34,88],\"count\":149,\"histogramBaseCount\":88,\"reviewCount\":26},\"smartUrl\":\"http://dl.flipkart.com/dl/hp-pentium-quad-core-8-gb-256-gb-ssd-windows-10-home-14s-dq3018tu-thin-light-laptop/p/itmdf4e72a377e90?pid=COMG2HDWHWHHJV4E\",\"tags\":[],\"titles\":{\"subtitle\":\"14 inch, Jet Black, 1.46 kg, With MS Office\",\"title\":\"HP Pentium Quad Core - (8 GB/256 GB SSD/Windows 10 Home) 14s- DQ3018TU Thin and Light Laptop\"},\"vertical\":\"computer\",\"warrantySummary\":\"1 Year Onsite Warranty\"}},\"snippets\":[{\"type\":\"FormattedMessageValue\",\"data\":[{\"type\":\"FormattedRichTextData\",\"value\":{\"type\":\"RichTextValue\",\"style\":{\"color\":\"#000000\",\"fontSize\":12,\"fontStyle\":\"normal\",\"fontWeight\":\"normal\"},\"text\":\"No Cost EMI\"}}]}]}]}}},{\"slotType\":\"WIDGET\",\"id\":8001015,\"parentId\":10003,\"layoutParams\":{\"orientation\":\"\",\"widgetHeight\":150,\"widgetWidth\":12},\"dataId\":\"1035503925\",\"elementId\":\"8001015-PRODUCT_SUMMARY\",\"hasWidgetDataChanged\":true,\"ttl\":3000,\"widget\":{\"type\":\"PRODUCT_SUMMARY\",\"viewType\":\"LIST_LARGE\",\"data\":{\"maxCardCount\":1,\"products\":[{\"adInfo\":{\"adSymbolDisabled\":null,\"bannerId\":\"-1\",\"impressionId\":\"en_sO2JoGGXnEpiPv5Z0NrfZXnzIXgoc1Nrzz2qZlYj+MvOqst0VcWxj1vf8mFd3+Mn486o31vy0maPAaXfNiP5MQ==\",\"listingId\":\"LSTCOMFUXRETZHEZ85PRAIIDR\",\"marketplaceId\":\"FLIPKART\",\"numResults\":730,\"productId\":\"COMFUXRETZHEZ85P\",\"responseId\":\"a34ade47-0df5-4ca4-a483-0ea1f0ee37cb\"},\"addToWishlist\":{\"action\":{\"constraints\":null,\"fallback\":null,\"loginType\":\"LOGIN_NOT_REQUIRED\",\"omnitureData\":null,\"originalUrl\":null,\"params\":{\"valid\":true,\"productId\":\"COMFUXRETZHEZ85P\"},\"requiredPermissionType\":null,\"screenType\":\"multiWidgetPage\",\"tracking\":{},\"type\":\"WISHLIST_ADD\",\"url\":null,\"validationMeta\":null},\"metaData\":null,\"tracking\":null,\"trackingData\":null,\"value\":{\"type\":\"ProductActionValue\",\"actionType\":\"ADD_TO_WISHLIST\",\"enabled\":true}},\"productInfo\":{\"action\":{\"constraints\":null,\"fallback\":null,\"loginType\":\"LOGIN_NOT_REQUIRED\",\"omnitureData\":\"deep_linking\",\"originalUrl\":null,\"params\":{\"valid\":true,\"productId\":\"COMFUXRETZHEZ85P\",\"marketplace\":\"FLIPKART\",\"screenName\":\"PRODUCT_PAGE\",\"listingId\":\"LSTCOMFUXRETZHEZ85PRAIIDR\",\"pids\":[\"COMFUXRETZHEZ85P\"],\"loadingStateKey\":\"LoadingStateDefaultNew\",\"lids\":[\"LSTCOMFUXRETZHEZ85PRAIIDR\"]},\"requiredPermissionType\":null,\"screenType\":\"productPage\",\"tracking\":{\"impressionId\":\"en_sO2JoGGXnEpiPv5Z0NrfZXnzIXgoc1Nrzz2qZlYj+MvOqst0VcWxj1vf8mFd3+Mn486o31vy0maPAaXfNiP5MQ==\",\"prop64\":\"SS_ncemi:cnc\",\"position\":\"16\",\"contentType\":\"productCard\",\"contextType\":\"widget\"},\"type\":\"NAVIGATION\",\"url\":\"/asus-vivobook-ultra-14-core-i5-10th-gen-8-gb-1-tb-ssd-windows-10-home-x413ja-ek278ts-thin-light-laptop/p/itm1f6b39aad882a?pid=COMFUXRETZHEZ85P&lid=LSTCOMFUXRETZHEZ85PRAIIDR&marketplace=FLIPKART&q=laptop&store=6bo%2Fb5g\",\"validationMeta\":null},\"metaData\":null,\"tracking\":{\"impressionId\":\"en_sO2JoGGXnEpiPv5Z0NrfZXnzIXgoc1Nrzz2qZlYj+MvOqst0VcWxj1vf8mFd3+Mn486o31vy0maPAaXfNiP5MQ==\",\"prop64\":\"SS_ncemi:cnc\",\"position\":\"16\",\"contentType\":\"productCard\",\"contextType\":\"widget\"},\"trackingData\":null,\"value\":{\"type\":\"ProductSummaryValue\",\"analyticsData\":{\"category\":\"Laptops\",\"subCategory\":\"Laptop\",\"superCategory\":\"LaptopAndDesktop\",\"vertical\":\"Laptop\"},\"availability\":{\"MessageIntent\":\"positive\",\"displayState\":\"IN_STOCK\",\"intent\":\"positive\",\"showMessage\":false},\"baseUrl\":\"/asus-vivobook-ultra-14-core-i5-10th-gen-8-gb-1-tb-ssd-windows-10-home-x413ja-ek278ts-thin-light-laptop/p/itm1f6b39aad882a?pid=COMFUXRETZHEZ85P\",\"buyability\":{\"intent\":\"positive\",\"message\":null,\"showMessage\":false},\"conditionCallout\":false,\"flags\":{\"enableChat\":true,\"enableCompare\":true,\"enableFlipkartAdvantage\":true,\"enableOfferTag\":true,\"enableVisualDiscovery\":false,\"enableWishlist\":true,\"showSecondaryTitle\":true,\"swatchAvailableOnBrowsePage\":true},\"grade\":{\"color\":null,\"id\":null,\"name\":null,\"shortDesc\":null},\"id\":\"COMFUXRETZHEZ85P\",\"itemId\":\"ITM1F6B39AAD882A\",\"keySpecs\":[\"Intel Core i5 Processor (10th Gen)\",\"8 GB DDR4 RAM\",\"64 bit Windows 10 Operating System\",\"1 TB SSD\",\"35.56 cm (14 inch) Display\",\"Tru2Life, Splendid, My Asus, Microsoft Office Home and Student 2019\"],\"listingId\":\"LSTCOMFUXRETZHEZ85PRAIIDR\",\"media\":{\"images\":[{\"aspectRatio\":null,\"contentInfo\":null,\"height\":null,\"url\":\"http://rukmini1.flixcart.com/image/{@width}/{@height}/kh9gbrk0/computer/a/d/5/asus-na-thin-and-light-laptop-original-imafxbj7sxqsrvzk.jpeg?q={@quality}\",\"width\":null},{\"aspectRatio\":null,\"contentInfo\":null,\"height\":null,\"url\":\"http://rukmini1.flixcart.com/image/{@width}/{@height}/kh9gbrk0/computer/e/6/d/asus-na-thin-and-light-laptop-original-imafxbj7gyfq97xp.jpeg?q={@quality}\",\"width\":null},{\"aspectRatio\":null,\"contentInfo\":null,\"height\":null,\"url\":\"http://rukmini1.flixcart.com/image/{@width}/{@height}/kk01pjk0/computer/h/r/r/na-thin-and-light-laptop-asus-original-imafzfy3mpfhs2qk.jpeg?q={@quality}\",\"width\":null},{\"aspectRatio\":null,\"contentInfo\":null,\"height\":null,\"url\":\"http://rukmini1.flixcart.com/image/{@width}/{@height}/kbfeljk0/computer/x/4/d/asus-original-imafss69mbgpwvjg.jpeg?q={@quality}\",\"width\":null},{\"aspectRatio\":null,\"contentInfo\":null,\"height\":null,\"url\":\"http://rukmini1.flixcart.com/image/{@width}/{@height}/kdakakw0/computer/y/c/p/asus-na-thin-and-light-laptop-original-imafu863drke4kg2.jpeg?q={@quality}\",\"width\":null},{\"aspectRatio\":null,\"contentInfo\":null,\"height\":null,\"url\":\"http://rukmini1.flixcart.com/image/{@width}/{@height}/kdakakw0/computer/y/c/p/asus-na-thin-and-light-laptop-original-imafu8632txetmgh.jpeg?q={@quality}\",\"width\":null},{\"aspectRatio\":null,\"contentInfo\":null,\"height\":null,\"url\":\"http://rukmini1.flixcart.com/image/{@width}/{@height}/kh9gbrk0/computer/a/d/5/asus-na-thin-and-light-laptop-original-imafxbj7mbhmxdjf.jpeg?q={@quality}\",\"width\":null}],\"videos\":[{\"height\":null,\"videoId\":\"lprJ2kgC8jE\",\"videoProvider\":\"YOUTUBE\",\"videoType\":\"THUMBNAIL\",\"width\":null}]},\"minKeySpecs\":[\"35.56 cm (14 inch) Full HD Display\",\"1.40 kg\",\"Microsoft Office\",\"No Optical Disk Drive\"],\"pricing\":{\"type\":\"ListingPriceValue\",\"deliveryCharge\":{\"additionalText\":null,\"currency\":\"INR\",\"decimalValue\":\"0.00\",\"discount\":null,\"downpaymentRate\":0,\"downpaymentRequired\":false,\"name\":\"Delivery Charges\",\"priceType\":null,\"strikeOff\":false,\"value\":0},\"discountAmount\":2000,\"extraDiscount\":null,\"finalPrice\":{\"additionalText\":null,\"currency\":\"INR\",\"decimalValue\":\"59990.00\",\"discount\":null,\"downpaymentRate\":0,\"downpaymentRequired\":false,\"name\":\"Total\",\"priceType\":null,\"strikeOff\":false,\"value\":59990},\"finalSavingsText\":null,\"knowMore\":null,\"mrp\":{\"additionalText\":\"(incl. of all taxes)\",\"currency\":\"INR\",\"decimalValue\":\"61990.00\",\"discount\":null,\"downpaymentRate\":0,\"downpaymentRequired\":false,\"name\":\"Maximum Retail Price\",\"priceType\":null,\"strikeOff\":true,\"value\":61990},\"partPriceInfo\":null,\"plusPriceInfo\":{\"type\":\"FormattedMessageValue\",\"data\":[{\"type\":\"FormattedRichTextData\",\"value\":{\"type\":\"RichTextValue\",\"style\":{\"color\":\"#000000\",\"fontSize\":14,\"fontStyle\":\"normal\",\"fontWeight\":\"normal\"},\"text\":\"Or Pay ₹59,890 + \"}},{\"type\":\"FormattedImageData\",\"value\":{\"type\":\"ImageValue\",\"aspectRatio\":\"1:1\",\"dynamicImageUrl\":\"https://rukminim1.flixcart.com/www/{@width}/{@height}/promos/18/07/2019/4aebbd99-7478-411e-aced-265e7722d18d.png?q={@quality}\",\"height\":0,\"width\":0}},{\"type\":\"FormattedRichTextData\",\"value\":{\"type\":\"RichTextValue\",\"style\":{\"color\":\"#000000\",\"fontSize\":14,\"fontStyle\":\"normal\",\"fontWeight\":\"normal\"},\"text\":\" 100\"}}]},\"priceDescriptions\":null,\"pricePerUnit\":null,\"priceTags\":null,\"prices\":[{\"additionalText\":null,\"currency\":\"INR\",\"decimalValue\":\"61990.00\",\"discount\":3,\"downpaymentRate\":0,\"downpaymentRequired\":false,\"name\":\"Selling Price\",\"priceType\":\"FSP\",\"strikeOff\":true,\"value\":61990},{\"additionalText\":null,\"currency\":\"INR\",\"decimalValue\":\"59990.00\",\"discount\":null,\"downpaymentRate\":0,\"downpaymentRequired\":false,\"name\":\"Special Price\",\"priceType\":\"SPECIAL_PRICE\",\"strikeOff\":false,\"value\":59990}],\"showDiscountAsAmount\":false,\"totalDiscount\":3},\"productBrand\":\"ASUS\",\"productCardTagDetails\":[{\"image\":{\"type\":\"ImageValue\",\"dynamicImageUrl\":\"https://rukminim1.flixcart.com/www/{@width}/{@height}/promos/21/07/2017/e8625e14-3277-4f16-a4d4-df8ed525905b.png?q={@quality}\",\"height\":0,\"width\":0},\"tagDetails\":null,\"type\":\"F_ASSURED\"}],\"rating\":{\"type\":\"RatingValue\",\"average\":4,\"base\":5,\"breakup\":[15,0,13,46,61],\"count\":135,\"histogramBaseCount\":61,\"reviewCount\":20},\"smartUrl\":\"http://dl.flipkart.com/dl/asus-vivobook-ultra-14-core-i5-10th-gen-8-gb-1-tb-ssd-windows-10-home-x413ja-ek278ts-thin-light-laptop/p/itm1f6b39aad882a?pid=COMFUXRETZHEZ85P\",\"tags\":[],\"titles\":{\"subtitle\":\"14 inch, Bespoke Black, 1.40 kg, With MS Office\",\"title\":\"ASUS VivoBook Ultra 14 Core i5 10th Gen - (8 GB/1 TB SSD/Windows 10 Home) X413JA-EK278TS Thin and Light Laptop\"},\"vertical\":\"computer\",\"warrantySummary\":\"1 Year Onsite Warranty\"}},\"snippets\":[{\"type\":\"FormattedMessageValue\",\"data\":[{\"type\":\"FormattedRichTextData\",\"value\":{\"type\":\"RichTextValue\",\"style\":{\"color\":\"#000000\",\"fontSize\":12,\"fontStyle\":\"normal\",\"fontWeight\":\"normal\"},\"text\":\"No Cost EMI\"}}]}]}]}}},{\"slotType\":\"WIDGET\",\"id\":8001016,\"parentId\":10003,\"layoutParams\":{\"orientation\":\"\",\"widgetHeight\":150,\"widgetWidth\":12},\"dataId\":\"1529604622\",\"elementId\":\"8001016-PRODUCT_SUMMARY\",\"hasWidgetDataChanged\":true,\"ttl\":3000,\"widget\":{\"type\":\"PRODUCT_SUMMARY\",\"viewType\":\"LIST_LARGE\",\"data\":{\"maxCardCount\":1,\"products\":[{\"addToWishlist\":{\"action\":{\"constraints\":null,\"fallback\":null,\"loginType\":\"LOGIN_NOT_REQUIRED\",\"omnitureData\":null,\"originalUrl\":null,\"params\":{\"valid\":true,\"productId\":\"COMGFUP2ZXMVW77T\"},\"requiredPermissionType\":null,\"screenType\":\"multiWidgetPage\",\"tracking\":{},\"type\":\"WISHLIST_ADD\",\"url\":null,\"validationMeta\":null},\"metaData\":null,\"tracking\":null,\"trackingData\":null,\"value\":{\"type\":\"ProductActionValue\",\"actionType\":\"ADD_TO_WISHLIST\",\"enabled\":true}},\"productInfo\":{\"action\":{\"constraints\":null,\"fallback\":null,\"loginType\":\"LOGIN_NOT_REQUIRED\",\"omnitureData\":\"deep_linking\",\"originalUrl\":null,\"params\":{\"valid\":true,\"productId\":\"COMGFUP2ZXMVW77T\",\"marketplace\":\"FLIPKART\",\"screenName\":\"PRODUCT_PAGE\",\"listingId\":\"LSTCOMGFUP2ZXMVW77T2HJCX6\",\"pids\":[\"COMGFUP2ZXMVW77T\"],\"loadingStateKey\":\"LoadingStateDefaultNew\",\"lids\":[\"LSTCOMGFUP2ZXMVW77T2HJCX6\"]},\"requiredPermissionType\":null,\"screenType\":\"productPage\",\"tracking\":{\"impressionId\":\"a34ade47-0df5-4ca4-a483-0ea1f0ee37cb.COMGFUP2ZXMVW77T.SEARCH\",\"prop64\":\"SS_cnc\",\"position\":\"17\",\"contentType\":\"productCard\",\"contextType\":\"widget\"},\"type\":\"NAVIGATION\",\"url\":\"/avita-cosmos-2-1-celeron-dual-core-4-gb-64-gb-emmc-storage-windows-10-home-ns12t5in025p-laptop/p/itm58dac457d1be9?pid=COMGFUP2ZXMVW77T&lid=LSTCOMGFUP2ZXMVW77T2HJCX6&marketplace=FLIPKART&q=laptop&store=6bo%2Fb5g\",\"validationMeta\":null},\"metaData\":null,\"tracking\":{\"impressionId\":\"a34ade47-0df5-4ca4-a483-0ea1f0ee37cb.COMGFUP2ZXMVW77T.SEARCH\",\"prop64\":\"SS_cnc\",\"position\":\"17\",\"contentType\":\"productCard\",\"contextType\":\"widget\"},\"trackingData\":null,\"value\":{\"type\":\"ProductSummaryValue\",\"analyticsData\":{\"category\":\"Laptops\",\"subCategory\":\"Laptop\",\"superCategory\":\"LaptopAndDesktop\",\"vertical\":\"Laptop\"},\"availability\":{\"MessageIntent\":\"positive\",\"displayState\":\"IN_STOCK\",\"intent\":\"positive\",\"showMessage\":false},\"baseUrl\":\"/avita-cosmos-2-1-celeron-dual-core-4-gb-64-gb-emmc-storage-windows-10-home-ns12t5in025p-laptop/p/itm58dac457d1be9?pid=COMGFUP2ZXMVW77T\",\"buyability\":{\"intent\":\"positive\",\"message\":null,\"showMessage\":false},\"conditionCallout\":false,\"flags\":{\"enableChat\":true,\"enableCompare\":true,\"enableFlipkartAdvantage\":true,\"enableOfferTag\":true,\"enableVisualDiscovery\":false,\"enableWishlist\":true,\"showSecondaryTitle\":true,\"swatchAvailableOnBrowsePage\":true},\"grade\":{\"color\":null,\"id\":null,\"name\":null,\"shortDesc\":null},\"id\":\"COMGFUP2ZXMVW77T\",\"itemId\":\"ITM58DAC457D1BE9\",\"keySpecs\":[\"Intel Celeron Dual Core Processor\",\"4 GB DDR4 RAM\",\"64 bit Windows 10 Operating System\",\"29.46 cm (11.6 inch) Touchscreen Display\"],\"listingId\":\"LSTCOMGFUP2ZXMVW77T2HJCX6\",\"media\":{\"images\":[{\"aspectRatio\":null,\"contentInfo\":null,\"height\":null,\"url\":\"http://rukmini1.flixcart.com/image/{@width}/{@height}/kokdci80/computer/x/z/3/avita-original-imag2zupctgghczh.jpeg?q={@quality}\",\"width\":null},{\"aspectRatio\":null,\"contentInfo\":null,\"height\":null,\"url\":\"http://rukmini1.flixcart.com/image/{@width}/{@height}/kokdci80/computer/9/x/k/avita-original-imag2zupcgjzbhcv.jpeg?q={@quality}\",\"width\":null},{\"aspectRatio\":null,\"contentInfo\":null,\"height\":null,\"url\":\"http://rukmini1.flixcart.com/image/{@width}/{@height}/kokdci80/computer/9/0/q/avita-original-imag2zuphqeas9kt.jpeg?q={@quality}\",\"width\":null},{\"aspectRatio\":null,\"contentInfo\":null,\"height\":null,\"url\":\"http://rukmini1.flixcart.com/image/{@width}/{@height}/kokdci80/computer/0/7/n/avita-original-imag2zupqpjygyrc.jpeg?q={@quality}\",\"width\":null},{\"aspectRatio\":null,\"contentInfo\":null,\"height\":null,\"url\":\"http://rukmini1.flixcart.com/image/{@width}/{@height}/kokdci80/computer/w/d/f/avita-original-imag2zupp9hpbzk8.jpeg?q={@quality}\",\"width\":null},{\"aspectRatio\":null,\"contentInfo\":null,\"height\":null,\"url\":\"http://rukmini1.flixcart.com/image/{@width}/{@height}/kokdci80/computer/w/c/3/avita-original-imag2zup4z4cwcjp.jpeg?q={@quality}\",\"width\":null},{\"aspectRatio\":null,\"contentInfo\":null,\"height\":null,\"url\":\"http://rukmini1.flixcart.com/image/{@width}/{@height}/kokdci80/computer/1/n/d/avita-original-imag2zuphxrr8yq7.jpeg?q={@quality}\",\"width\":null},{\"aspectRatio\":null,\"contentInfo\":null,\"height\":null,\"url\":\"http://rukmini1.flixcart.com/image/{@width}/{@height}/kokdci80/computer/3/o/y/avita-original-imag2zupfagbaghd.jpeg?q={@quality}\",\"width\":null}]},\"minKeySpecs\":[\"29.46 cm (11.6 inch) Full HD Display\",\"Touchscreen\",\"No Optical Disk Drive\"],\"pricing\":{\"type\":\"ListingPriceValue\",\"deliveryCharge\":{\"additionalText\":null,\"currency\":\"INR\",\"decimalValue\":\"0.00\",\"discount\":null,\"downpaymentRate\":0,\"downpaymentRequired\":false,\"name\":\"Delivery Charges\",\"priceType\":null,\"strikeOff\":false,\"value\":0},\"discountAmount\":5500,\"extraDiscount\":null,\"finalPrice\":{\"additionalText\":null,\"currency\":\"INR\",\"decimalValue\":\"17990.00\",\"discount\":null,\"downpaymentRate\":0,\"downpaymentRequired\":false,\"name\":\"Total\",\"priceType\":null,\"strikeOff\":false,\"value\":17990},\"finalSavingsText\":null,\"knowMore\":null,\"mrp\":{\"additionalText\":\"(incl. of all taxes)\",\"currency\":\"INR\",\"decimalValue\":\"23490.00\",\"discount\":null,\"downpaymentRate\":0,\"downpaymentRequired\":false,\"name\":\"Maximum Retail Price\",\"priceType\":null,\"strikeOff\":true,\"value\":23490},\"partPriceInfo\":null,\"plusPriceInfo\":{\"type\":\"FormattedMessageValue\",\"data\":[{\"type\":\"FormattedRichTextData\",\"value\":{\"type\":\"RichTextValue\",\"style\":{\"color\":\"#000000\",\"fontSize\":14,\"fontStyle\":\"normal\",\"fontWeight\":\"normal\"},\"text\":\"Or Pay ₹17,890 + \"}},{\"type\":\"FormattedImageData\",\"value\":{\"type\":\"ImageValue\",\"aspectRatio\":\"1:1\",\"dynamicImageUrl\":\"https://rukminim1.flixcart.com/www/{@width}/{@height}/promos/18/07/2019/4aebbd99-7478-411e-aced-265e7722d18d.png?q={@quality}\",\"height\":0,\"width\":0}},{\"type\":\"FormattedRichTextData\",\"value\":{\"type\":\"RichTextValue\",\"style\":{\"color\":\"#000000\",\"fontSize\":14,\"fontStyle\":\"normal\",\"fontWeight\":\"normal\"},\"text\":\" 100\"}}]},\"priceDescriptions\":null,\"pricePerUnit\":null,\"priceTags\":null,\"prices\":[{\"additionalText\":null,\"currency\":\"INR\",\"decimalValue\":\"23490.00\",\"discount\":23,\"downpaymentRate\":0,\"downpaymentRequired\":false,\"name\":\"Selling Price\",\"priceType\":\"FSP\",\"strikeOff\":true,\"value\":23490},{\"additionalText\":null,\"currency\":\"INR\",\"decimalValue\":\"17990.00\",\"discount\":null,\"downpaymentRate\":0,\"downpaymentRequired\":false,\"name\":\"Special Price\",\"priceType\":\"SPECIAL_PRICE\",\"strikeOff\":false,\"value\":17990}],\"showDiscountAsAmount\":false,\"totalDiscount\":23},\"productBrand\":\"Avita\",\"productCardTagDetails\":[{\"image\":{\"type\":\"ImageValue\",\"dynamicImageUrl\":\"https://rukminim1.flixcart.com/www/{@width}/{@height}/promos/21/07/2017/e8625e14-3277-4f16-a4d4-df8ed525905b.png?q={@quality}\",\"height\":0,\"width\":0},\"tagDetails\":null,\"type\":\"F_ASSURED\"}],\"rating\":{\"type\":\"RatingValue\",\"average\":3.9,\"base\":5,\"breakup\":[2,1,4,8,10],\"count\":25,\"histogramBaseCount\":10,\"reviewCount\":7},\"smartUrl\":\"http://dl.flipkart.com/dl/avita-cosmos-2-1-celeron-dual-core-4-gb-64-gb-emmc-storage-windows-10-home-ns12t5in025p-laptop/p/itm58dac457d1be9?pid=COMGFUP2ZXMVW77T\",\"tags\":[],\"titles\":{\"subtitle\":\"11.6 inch, Charcoal Grey, 1.327 kg\",\"title\":\"Avita Cosmos 2 in 1 Celeron Dual Core - (4 GB/64 GB EMMC Storage/Windows 10 Home) NS12T5IN025P 2 in 1 Laptop\"},\"vertical\":\"computer\",\"warrantySummary\":\"24 Months Warranty\"}}}]}}},{\"slotType\":\"WIDGET\",\"id\":8001017,\"parentId\":10003,\"layoutParams\":{\"orientation\":\"\",\"widgetHeight\":150,\"widgetWidth\":12},\"dataId\":\"1444702491\",\"elementId\":\"8001017-PRODUCT_SUMMARY\",\"hasWidgetDataChanged\":true,\"ttl\":3000,\"widget\":{\"type\":\"PRODUCT_SUMMARY\",\"viewType\":\"LIST_LARGE\",\"data\":{\"maxCardCount\":1,\"products\":[{\"addToWishlist\":{\"action\":{\"constraints\":null,\"fallback\":null,\"loginType\":\"LOGIN_NOT_REQUIRED\",\"omnitureData\":null,\"originalUrl\":null,\"params\":{\"valid\":true,\"productId\":\"COMFZ53SSJQYYVTY\"},\"requiredPermissionType\":null,\"screenType\":\"multiWidgetPage\",\"tracking\":{},\"type\":\"WISHLIST_ADD\",\"url\":null,\"validationMeta\":null},\"metaData\":null,\"tracking\":null,\"trackingData\":null,\"value\":{\"type\":\"ProductActionValue\",\"actionType\":\"ADD_TO_WISHLIST\",\"enabled\":true}},\"productInfo\":{\"action\":{\"constraints\":null,\"fallback\":null,\"loginType\":\"LOGIN_NOT_REQUIRED\",\"omnitureData\":\"deep_linking\",\"originalUrl\":null,\"params\":{\"valid\":true,\"productId\":\"COMFZ53SSJQYYVTY\",\"marketplace\":\"FLIPKART\",\"screenName\":\"PRODUCT_PAGE\",\"listingId\":\"LSTCOMFZ53SSJQYYVTYERZCP9\",\"pids\":[\"COMFZ53SSJQYYVTY\"],\"loadingStateKey\":\"LoadingStateDefaultNew\",\"lids\":[\"LSTCOMFZ53SSJQYYVTYERZCP9\"]},\"requiredPermissionType\":null,\"screenType\":\"productPage\",\"tracking\":{\"impressionId\":\"a34ade47-0df5-4ca4-a483-0ea1f0ee37cb.COMFZ53SSJQYYVTY.SEARCH\",\"prop64\":\"SS_ncemi:cnc\",\"position\":\"18\",\"contentType\":\"productCard\",\"contextType\":\"widget\"},\"type\":\"NAVIGATION\",\"url\":\"/asus-vivobook-15-core-i3-10th-gen-8-gb-1-tb-hdd-windows-10-home-x515ja-ej322ts-thin-light-laptop/p/itm5cd03fd1bd5bc?pid=COMFZ53SSJQYYVTY&lid=LSTCOMFZ53SSJQYYVTYERZCP9&marketplace=FLIPKART&q=laptop&store=6bo%2Fb5g\",\"validationMeta\":null},\"metaData\":null,\"tracking\":{\"impressionId\":\"a34ade47-0df5-4ca4-a483-0ea1f0ee37cb.COMFZ53SSJQYYVTY.SEARCH\",\"prop64\":\"SS_ncemi:cnc\",\"position\":\"18\",\"contentType\":\"productCard\",\"contextType\":\"widget\"},\"trackingData\":null,\"value\":{\"type\":\"ProductSummaryValue\",\"analyticsData\":{\"category\":\"Laptops\",\"subCategory\":\"Laptop\",\"superCategory\":\"LaptopAndDesktop\",\"vertical\":\"Laptop\"},\"availability\":{\"MessageIntent\":\"positive\",\"displayState\":\"IN_STOCK\",\"intent\":\"positive\",\"showMessage\":false},\"baseUrl\":\"/asus-vivobook-15-core-i3-10th-gen-8-gb-1-tb-hdd-windows-10-home-x515ja-ej322ts-thin-light-laptop/p/itm5cd03fd1bd5bc?pid=COMFZ53SSJQYYVTY\",\"buyability\":{\"intent\":\"positive\",\"message\":null,\"showMessage\":false},\"conditionCallout\":false,\"flags\":{\"enableChat\":true,\"enableCompare\":true,\"enableFlipkartAdvantage\":true,\"enableOfferTag\":true,\"enableVisualDiscovery\":false,\"enableWishlist\":true,\"showSecondaryTitle\":true,\"swatchAvailableOnBrowsePage\":true},\"grade\":{\"color\":null,\"id\":null,\"name\":null,\"shortDesc\":null},\"id\":\"COMFZ53SSJQYYVTY\",\"itemId\":\"ITM5CD03FD1BD5BC\",\"keySpecs\":[\"Intel Core i3 Processor (10th Gen)\",\"8 GB DDR4 RAM\",\"64 bit Windows 10 Operating System\",\"1 TB HDD\",\"39.62 cm (15.6 inch) Display\",\"Microsoft Office Home and Student 2019, Splendid, Tru2Life, My Asus\"],\"listingId\":\"LSTCOMFZ53SSJQYYVTYERZCP9\",\"media\":{\"images\":[{\"aspectRatio\":null,\"contentInfo\":null,\"height\":null,\"url\":\"http://rukmini1.flixcart.com/image/{@width}/{@height}/kjlrb0w0/computer/a/k/b/asus-original-imafz522ntfk9hwx.jpeg?q={@quality}\",\"width\":null},{\"aspectRatio\":null,\"contentInfo\":null,\"height\":null,\"url\":\"http://rukmini1.flixcart.com/image/{@width}/{@height}/kjlrb0w0/computer/a/k/b/asus-original-imafz522hyzeybbm.jpeg?q={@quality}\",\"width\":null},{\"aspectRatio\":null,\"contentInfo\":null,\"height\":null,\"url\":\"http://rukmini1.flixcart.com/image/{@width}/{@height}/kjlrb0w0/computer/a/k/b/asus-original-imafz5227tcynzng.jpeg?q={@quality}\",\"width\":null},{\"aspectRatio\":null,\"contentInfo\":null,\"height\":null,\"url\":\"http://rukmini1.flixcart.com/image/{@width}/{@height}/kjlrb0w0/computer/a/k/b/asus-original-imafz522eykzurub.jpeg?q={@quality}\",\"width\":null},{\"aspectRatio\":null,\"contentInfo\":null,\"height\":null,\"url\":\"http://rukmini1.flixcart.com/image/{@width}/{@height}/kjlrb0w0/computer/a/k/b/asus-original-imafz522pgchbnzf.jpeg?q={@quality}\",\"width\":null},{\"aspectRatio\":null,\"contentInfo\":null,\"height\":null,\"url\":\"http://rukmini1.flixcart.com/image/{@width}/{@height}/kjlrb0w0/computer/a/k/b/asus-original-imafz522vdgvcuqq.jpeg?q={@quality}\",\"width\":null},{\"aspectRatio\":null,\"contentInfo\":null,\"height\":null,\"url\":\"http://rukmini1.flixcart.com/image/{@width}/{@height}/kjlrb0w0/computer/a/k/b/asus-original-imafz522bggvt9yg.jpeg?q={@quality}\",\"width\":null},{\"aspectRatio\":null,\"contentInfo\":null,\"height\":null,\"url\":\"http://rukmini1.flixcart.com/image/{@width}/{@height}/kjlrb0w0/computer/a/k/b/asus-original-imafz522y56gtrh4.jpeg?q={@quality}\",\"width\":null}]},\"minKeySpecs\":[\"39.62 cm (15.6 inch) Full HD Display\",\"1.80 kg\",\"Microsoft Office\",\"No Optical Disk Drive\"],\"pricing\":{\"type\":\"ListingPriceValue\",\"deliveryCharge\":{\"additionalText\":null,\"currency\":\"INR\",\"decimalValue\":\"0.00\",\"discount\":null,\"downpaymentRate\":0,\"downpaymentRequired\":false,\"name\":\"Delivery Charges\",\"priceType\":null,\"strikeOff\":false,\"value\":0},\"discountAmount\":8000,\"extraDiscount\":null,\"finalPrice\":{\"additionalText\":null,\"currency\":\"INR\",\"decimalValue\":\"37990.00\",\"discount\":null,\"downpaymentRate\":0,\"downpaymentRequired\":false,\"name\":\"Total\",\"priceType\":null,\"strikeOff\":false,\"value\":37990},\"finalSavingsText\":null,\"knowMore\":null,\"mrp\":{\"additionalText\":\"(incl. of all taxes)\",\"currency\":\"INR\",\"decimalValue\":\"45990.00\",\"discount\":null,\"downpaymentRate\":0,\"downpaymentRequired\":false,\"name\":\"Maximum Retail Price\",\"priceType\":null,\"strikeOff\":true,\"value\":45990},\"partPriceInfo\":null,\"plusPriceInfo\":{\"type\":\"FormattedMessageValue\",\"data\":[{\"type\":\"FormattedRichTextData\",\"value\":{\"type\":\"RichTextValue\",\"style\":{\"color\":\"#000000\",\"fontSize\":14,\"fontStyle\":\"normal\",\"fontWeight\":\"normal\"},\"text\":\"Or Pay ₹37,890 + \"}},{\"type\":\"FormattedImageData\",\"value\":{\"type\":\"ImageValue\",\"aspectRatio\":\"1:1\",\"dynamicImageUrl\":\"https://rukminim1.flixcart.com/www/{@width}/{@height}/promos/18/07/2019/4aebbd99-7478-411e-aced-265e7722d18d.png?q={@quality}\",\"height\":0,\"width\":0}},{\"type\":\"FormattedRichTextData\",\"value\":{\"type\":\"RichTextValue\",\"style\":{\"color\":\"#000000\",\"fontSize\":14,\"fontStyle\":\"normal\",\"fontWeight\":\"normal\"},\"text\":\" 100\"}}]},\"priceDescriptions\":null,\"pricePerUnit\":null,\"priceTags\":null,\"prices\":[{\"additionalText\":null,\"currency\":\"INR\",\"decimalValue\":\"45990.00\",\"discount\":17,\"downpaymentRate\":0,\"downpaymentRequired\":false,\"name\":\"Selling Price\",\"priceType\":\"FSP\",\"strikeOff\":true,\"value\":45990},{\"additionalText\":null,\"currency\":\"INR\",\"decimalValue\":\"37990.00\",\"discount\":null,\"downpaymentRate\":0,\"downpaymentRequired\":false,\"name\":\"Special Price\",\"priceType\":\"SPECIAL_PRICE\",\"strikeOff\":false,\"value\":37990}],\"showDiscountAsAmount\":false,\"totalDiscount\":17},\"productBrand\":\"ASUS\",\"productCardTagDetails\":[{\"image\":{\"type\":\"ImageValue\",\"dynamicImageUrl\":\"https://rukminim1.flixcart.com/www/{@width}/{@height}/promos/21/07/2017/e8625e14-3277-4f16-a4d4-df8ed525905b.png?q={@quality}\",\"height\":0,\"width\":0},\"tagDetails\":null,\"type\":\"F_ASSURED\"}],\"rating\":{\"type\":\"RatingValue\",\"average\":4.1,\"base\":5,\"breakup\":[71,27,95,275,494],\"count\":962,\"histogramBaseCount\":494,\"reviewCount\":112},\"smartUrl\":\"http://dl.flipkart.com/dl/asus-vivobook-15-core-i3-10th-gen-8-gb-1-tb-hdd-windows-10-home-x515ja-ej322ts-thin-light-laptop/p/itm5cd03fd1bd5bc?pid=COMFZ53SSJQYYVTY\",\"tags\":[],\"titles\":{\"subtitle\":\"15.6 inch, Transparent Silver, 1.80 kg, With MS Office\",\"title\":\"ASUS VivoBook 15 Core i3 10th Gen - (8 GB/1 TB HDD/Windows 10 Home) X515JA-EJ322TS Thin and Light Laptop\"},\"vertical\":\"computer\",\"warrantySummary\":\"1 Year Onsite Warranty\"}},\"snippets\":[{\"type\":\"FormattedMessageValue\",\"data\":[{\"type\":\"FormattedRichTextData\",\"value\":{\"type\":\"RichTextValue\",\"style\":{\"color\":\"#000000\",\"fontSize\":12,\"fontStyle\":\"normal\",\"fontWeight\":\"normal\"},\"text\":\"No Cost EMI\"}}]}]}]}}},{\"slotType\":\"WIDGET\",\"id\":8001018,\"parentId\":10003,\"layoutParams\":{\"orientation\":\"\",\"widgetHeight\":150,\"widgetWidth\":12},\"dataId\":\"47228526\",\"elementId\":\"8001018-PRODUCT_SUMMARY\",\"hasWidgetDataChanged\":true,\"ttl\":3000,\"widget\":{\"type\":\"PRODUCT_SUMMARY\",\"viewType\":\"LIST_LARGE\",\"data\":{\"maxCardCount\":1,\"products\":[{\"addToWishlist\":{\"action\":{\"constraints\":null,\"fallback\":null,\"loginType\":\"LOGIN_NOT_REQUIRED\",\"omnitureData\":null,\"originalUrl\":null,\"params\":{\"valid\":true,\"productId\":\"COMFSFNVDXG74QXR\"},\"requiredPermissionType\":null,\"screenType\":\"multiWidgetPage\",\"tracking\":{},\"type\":\"WISHLIST_ADD\",\"url\":null,\"validationMeta\":null},\"metaData\":null,\"tracking\":null,\"trackingData\":null,\"value\":{\"type\":\"ProductActionValue\",\"actionType\":\"ADD_TO_WISHLIST\",\"enabled\":true}},\"productInfo\":{\"action\":{\"constraints\":null,\"fallback\":null,\"loginType\":\"LOGIN_NOT_REQUIRED\",\"omnitureData\":\"deep_linking\",\"originalUrl\":null,\"params\":{\"valid\":true,\"productId\":\"COMFSFNVDXG74QXR\",\"marketplace\":\"FLIPKART\",\"screenName\":\"PRODUCT_PAGE\",\"listingId\":\"LSTCOMFSFNVDXG74QXRY8FRH2\",\"pids\":[\"COMFSFNVDXG74QXR\"],\"loadingStateKey\":\"LoadingStateDefaultNew\",\"lids\":[\"LSTCOMFSFNVDXG74QXRY8FRH2\"]},\"requiredPermissionType\":null,\"screenType\":\"productPage\",\"tracking\":{\"impressionId\":\"a34ade47-0df5-4ca4-a483-0ea1f0ee37cb.COMFSFNVDXG74QXR.SEARCH\",\"prop64\":\"SS_ncemi:cnc\",\"position\":\"19\",\"contentType\":\"productCard\",\"contextType\":\"widget\"},\"type\":\"NAVIGATION\",\"url\":\"/hp-pavilion-gaming-ryzen-5-quad-core-3550h-8-gb-1-tb-hdd-windows-10-home-4-gb-graphics-nvidia-geforce-gtx-1650-15-ec0101ax-laptop/p/itma1af6bf593dc8?pid=COMFSFNVDXG74QXR&lid=LSTCOMFSFNVDXG74QXRY8FRH2&marketplace=FLIPKART&q=laptop&store=6bo%2Fb5g\",\"validationMeta\":null},\"metaData\":null,\"tracking\":{\"impressionId\":\"a34ade47-0df5-4ca4-a483-0ea1f0ee37cb.COMFSFNVDXG74QXR.SEARCH\",\"prop64\":\"SS_ncemi:cnc\",\"position\":\"19\",\"contentType\":\"productCard\",\"contextType\":\"widget\"},\"trackingData\":null,\"value\":{\"type\":\"ProductSummaryValue\",\"analyticsData\":{\"category\":\"Laptops\",\"subCategory\":\"Laptop\",\"superCategory\":\"LaptopAndDesktop\",\"vertical\":\"Laptop\"},\"availability\":{\"MessageIntent\":\"positive\",\"displayState\":\"IN_STOCK\",\"intent\":\"positive\",\"showMessage\":false},\"baseUrl\":\"/hp-pavilion-gaming-ryzen-5-quad-core-3550h-8-gb-1-tb-hdd-windows-10-home-4-gb-graphics-nvidia-geforce-gtx-1650-15-ec0101ax-laptop/p/itma1af6bf593dc8?pid=COMFSFNVDXG74QXR\",\"buyability\":{\"intent\":\"positive\",\"message\":null,\"showMessage\":false},\"conditionCallout\":false,\"flags\":{\"enableChat\":true,\"enableCompare\":true,\"enableFlipkartAdvantage\":true,\"enableOfferTag\":true,\"enableVisualDiscovery\":false,\"enableWishlist\":true,\"showSecondaryTitle\":true,\"swatchAvailableOnBrowsePage\":true},\"grade\":{\"color\":null,\"id\":null,\"name\":null,\"shortDesc\":null},\"id\":\"COMFSFNVDXG74QXR\",\"itemId\":\"ITMA1AF6BF593DC8\",\"keySpecs\":[\"AMD Ryzen 5 Quad Core Processor\",\"8 GB DDR4 RAM\",\"64 bit Windows 10 Operating System\",\"1 TB HDD\",\"39.62 cm (15.6 inch) Display\"],\"listingId\":\"LSTCOMFSFNVDXG74QXRY8FRH2\",\"media\":{\"images\":[{\"aspectRatio\":null,\"contentInfo\":null,\"height\":null,\"url\":\"http://rukmini1.flixcart.com/image/{@width}/{@height}/kcm9t3k0/computer/q/x/r/hp-na-gaming-laptop-original-imaftpesbvfxgw9t.jpeg?q={@quality}\",\"width\":null},{\"aspectRatio\":null,\"contentInfo\":null,\"height\":null,\"url\":\"http://rukmini1.flixcart.com/image/{@width}/{@height}/kcm9t3k0/computer/q/x/r/hp-na-gaming-laptop-original-imaftpesk5seym6s.jpeg?q={@quality}\",\"width\":null},{\"aspectRatio\":null,\"contentInfo\":null,\"height\":null,\"url\":\"http://rukmini1.flixcart.com/image/{@width}/{@height}/kcm9t3k0/computer/m/g/q/hp-na-gaming-laptop-original-imaftpesacqphdch.jpeg?q={@quality}\",\"width\":null},{\"aspectRatio\":null,\"contentInfo\":null,\"height\":null,\"url\":\"http://rukmini1.flixcart.com/image/{@width}/{@height}/kcm9t3k0/computer/q/x/r/hp-na-gaming-laptop-original-imaftpes7f3xwaus.jpeg?q={@quality}\",\"width\":null},{\"aspectRatio\":null,\"contentInfo\":null,\"height\":null,\"url\":\"http://rukmini1.flixcart.com/image/{@width}/{@height}/kcm9t3k0/computer/q/x/r/hp-na-gaming-laptop-original-imaftpesn5kzcggs.jpeg?q={@quality}\",\"width\":null},{\"aspectRatio\":null,\"contentInfo\":null,\"height\":null,\"url\":\"http://rukmini1.flixcart.com/image/{@width}/{@height}/kcm9t3k0/computer/m/g/q/hp-na-gaming-laptop-original-imaftpesmpgcxpna.jpeg?q={@quality}\",\"width\":null},{\"aspectRatio\":null,\"contentInfo\":null,\"height\":null,\"url\":\"http://rukmini1.flixcart.com/image/{@width}/{@height}/kcm9t3k0/computer/q/x/r/hp-na-gaming-laptop-original-imaftpeszqchfkzf.jpeg?q={@quality}\",\"width\":null},{\"aspectRatio\":null,\"contentInfo\":null,\"height\":null,\"url\":\"http://rukmini1.flixcart.com/image/{@width}/{@height}/kcm9t3k0/computer/q/x/r/hp-na-gaming-laptop-original-imaftpesvfbjxawa.jpeg?q={@quality}\",\"width\":null},{\"aspectRatio\":null,\"contentInfo\":null,\"height\":null,\"url\":\"http://rukmini1.flixcart.com/image/{@width}/{@height}/kcm9t3k0/computer/q/x/r/hp-na-gaming-laptop-original-imaftpesprucmcfu.jpeg?q={@quality}\",\"width\":null},{\"aspectRatio\":null,\"contentInfo\":null,\"height\":null,\"url\":\"http://rukmini1.flixcart.com/image/{@width}/{@height}/kcm9t3k0/computer/q/x/r/hp-na-gaming-laptop-original-imaftpesznd9ng7f.jpeg?q={@quality}\",\"width\":null}]},\"minKeySpecs\":[\"NVIDIA GeForce GTX 1650 4 GB Gfx\",\"39.62 cm (15.6 inch) Full HD Display\",\"No Optical Disk Drive\"],\"pricing\":{\"type\":\"ListingPriceValue\",\"deliveryCharge\":{\"additionalText\":null,\"currency\":\"INR\",\"decimalValue\":\"0.00\",\"discount\":null,\"downpaymentRate\":0,\"downpaymentRequired\":false,\"name\":\"Delivery Charges\",\"priceType\":null,\"strikeOff\":false,\"value\":0},\"discountAmount\":5154,\"extraDiscount\":null,\"finalPrice\":{\"additionalText\":null,\"currency\":\"INR\",\"decimalValue\":\"50990.00\",\"discount\":null,\"downpaymentRate\":0,\"downpaymentRequired\":false,\"name\":\"Total\",\"priceType\":null,\"strikeOff\":false,\"value\":50990},\"finalSavingsText\":null,\"knowMore\":null,\"mrp\":{\"additionalText\":\"(incl. of all taxes)\",\"currency\":\"INR\",\"decimalValue\":\"56144.00\",\"discount\":null,\"downpaymentRate\":0,\"downpaymentRequired\":false,\"name\":\"Maximum Retail Price\",\"priceType\":null,\"strikeOff\":true,\"value\":56144},\"partPriceInfo\":null,\"plusPriceInfo\":{\"type\":\"FormattedMessageValue\",\"data\":[{\"type\":\"FormattedRichTextData\",\"value\":{\"type\":\"RichTextValue\",\"style\":{\"color\":\"#000000\",\"fontSize\":14,\"fontStyle\":\"normal\",\"fontWeight\":\"normal\"},\"text\":\"Or Pay ₹50,890 + \"}},{\"type\":\"FormattedImageData\",\"value\":{\"type\":\"ImageValue\",\"aspectRatio\":\"1:1\",\"dynamicImageUrl\":\"https://rukminim1.flixcart.com/www/{@width}/{@height}/promos/18/07/2019/4aebbd99-7478-411e-aced-265e7722d18d.png?q={@quality}\",\"height\":0,\"width\":0}},{\"type\":\"FormattedRichTextData\",\"value\":{\"type\":\"RichTextValue\",\"style\":{\"color\":\"#000000\",\"fontSize\":14,\"fontStyle\":\"normal\",\"fontWeight\":\"normal\"},\"text\":\" 100\"}}]},\"priceDescriptions\":null,\"pricePerUnit\":null,\"priceTags\":null,\"prices\":[{\"additionalText\":null,\"currency\":\"INR\",\"decimalValue\":\"56144.00\",\"discount\":9,\"downpaymentRate\":0,\"downpaymentRequired\":false,\"name\":\"Selling Price\",\"priceType\":\"FSP\",\"strikeOff\":true,\"value\":56144},{\"additionalText\":null,\"currency\":\"INR\",\"decimalValue\":\"50990.00\",\"discount\":null,\"downpaymentRate\":0,\"downpaymentRequired\":false,\"name\":\"Special Price\",\"priceType\":\"SPECIAL_PRICE\",\"strikeOff\":false,\"value\":50990}],\"showDiscountAsAmount\":false,\"totalDiscount\":9},\"productBrand\":\"HP\",\"productCardTagDetails\":[{\"image\":{\"type\":\"ImageValue\",\"dynamicImageUrl\":\"https://rukminim1.flixcart.com/www/{@width}/{@height}/promos/21/07/2017/e8625e14-3277-4f16-a4d4-df8ed525905b.png?q={@quality}\",\"height\":0,\"width\":0},\"tagDetails\":null,\"type\":\"F_ASSURED\"}],\"rating\":{\"type\":\"RatingValue\",\"average\":4.2,\"base\":5,\"breakup\":[741,290,1005,2924,6234],\"count\":11194,\"histogramBaseCount\":6234,\"reviewCount\":1525},\"smartUrl\":\"http://dl.flipkart.com/dl/hp-pavilion-gaming-ryzen-5-quad-core-3550h-8-gb-1-tb-hdd-windows-10-home-4-gb-graphics-nvidia-geforce-gtx-1650-15-ec0101ax-laptop/p/itma1af6bf593dc8?pid=COMFSFNVDXG74QXR\",\"tags\":[],\"titles\":{\"subtitle\":\"15.6 inch, Black, 2.04 kg\",\"title\":\"HP Pavilion Gaming Ryzen 5 Quad Core 3550H - (8 GB/1 TB HDD/Windows 10 Home/4 GB Graphics/NVIDIA GeForce GTX 1650) 15-ec0101AX Gaming Laptop\"},\"vertical\":\"computer\",\"warrantySummary\":\"1 Year Onsite Warranty\"}},\"snippets\":[{\"type\":\"FormattedMessageValue\",\"data\":[{\"type\":\"FormattedRichTextData\",\"value\":{\"type\":\"RichTextValue\",\"style\":{\"color\":\"#000000\",\"fontSize\":12,\"fontStyle\":\"normal\",\"fontWeight\":\"normal\"},\"text\":\"No Cost EMI\"}}]}]}]}}},{\"slotType\":\"WIDGET\",\"id\":8001019,\"parentId\":10003,\"layoutParams\":{\"orientation\":\"\",\"widgetHeight\":150,\"widgetWidth\":12},\"dataId\":\"-1426981432\",\"elementId\":\"8001019-PRODUCT_SUMMARY\",\"hasWidgetDataChanged\":true,\"ttl\":3000,\"widget\":{\"type\":\"PRODUCT_SUMMARY\",\"viewType\":\"LIST_LARGE\",\"data\":{\"maxCardCount\":1,\"products\":[{\"adInfo\":{\"adSymbolDisabled\":null,\"bannerId\":\"192392633\",\"impressionId\":\"en_sO2JoGGXnEpiPv5Z0NrfZXnzIXgoc1Nrzz2qZlYj+MtN+jyrtgndldRZk0i36DDE1JQlSUsuQHDsLn/+nFn8TA==\",\"listingId\":\"LSTCOMGFH8KHCHZBHDQUCRINS\",\"marketplaceId\":\"FLIPKART\",\"numResults\":730,\"productId\":\"COMGFH8KHCHZBHDQ\",\"responseId\":\"a34ade47-0df5-4ca4-a483-0ea1f0ee37cb\"},\"addToWishlist\":{\"action\":{\"constraints\":null,\"fallback\":null,\"loginType\":\"LOGIN_NOT_REQUIRED\",\"omnitureData\":null,\"originalUrl\":null,\"params\":{\"valid\":true,\"productId\":\"COMGFH8KHCHZBHDQ\"},\"requiredPermissionType\":null,\"screenType\":\"multiWidgetPage\",\"tracking\":{},\"type\":\"WISHLIST_ADD\",\"url\":null,\"validationMeta\":null},\"metaData\":null,\"tracking\":null,\"trackingData\":null,\"value\":{\"type\":\"ProductActionValue\",\"actionType\":\"ADD_TO_WISHLIST\",\"enabled\":true}},\"productInfo\":{\"action\":{\"constraints\":null,\"fallback\":null,\"loginType\":\"LOGIN_NOT_REQUIRED\",\"omnitureData\":\"deep_linking\",\"originalUrl\":null,\"params\":{\"valid\":true,\"productId\":\"COMGFH8KHCHZBHDQ\",\"marketplace\":\"FLIPKART\",\"screenName\":\"PRODUCT_PAGE\",\"listingId\":\"LSTCOMGFH8KHCHZBHDQUCRINS\",\"pids\":[\"COMGFH8KHCHZBHDQ\"],\"loadingStateKey\":\"LoadingStateDefaultNew\",\"lids\":[\"LSTCOMGFH8KHCHZBHDQUCRINS\"]},\"requiredPermissionType\":null,\"screenType\":\"productPage\",\"tracking\":{\"impressionId\":\"en_sO2JoGGXnEpiPv5Z0NrfZXnzIXgoc1Nrzz2qZlYj+MtN+jyrtgndldRZk0i36DDE1JQlSUsuQHDsLn/+nFn8TA==\",\"prop64\":\"SS_cnc\",\"position\":\"20\",\"contentType\":\"productCard\",\"contextType\":\"widget\"},\"type\":\"NAVIGATION\",\"url\":\"/acer-predator-helios-300-core-i7-10th-gen-16-gb-1-tb-hdd-256-gb-ssd-windows-10-home-6-graphics-nvidia-geforce-rtx-3060-144-hz-ph315-53-gaming-laptop/p/itmb2022d3889ada?pid=COMGFH8KHCHZBHDQ&lid=LSTCOMGFH8KHCHZBHDQUCRINS&marketplace=FLIPKART&q=laptop&store=6bo%2Fb5g\",\"validationMeta\":null},\"metaData\":null,\"tracking\":{\"impressionId\":\"en_sO2JoGGXnEpiPv5Z0NrfZXnzIXgoc1Nrzz2qZlYj+MtN+jyrtgndldRZk0i36DDE1JQlSUsuQHDsLn/+nFn8TA==\",\"prop64\":\"SS_cnc\",\"position\":\"20\",\"contentType\":\"productCard\",\"contextType\":\"widget\"},\"trackingData\":null,\"value\":{\"type\":\"ProductSummaryValue\",\"analyticsData\":{\"category\":\"Laptops\",\"subCategory\":\"Laptop\",\"superCategory\":\"LaptopAndDesktop\",\"vertical\":\"Laptop\"},\"availability\":{\"MessageIntent\":\"positive\",\"displayState\":\"IN_STOCK\",\"intent\":\"positive\",\"showMessage\":false},\"baseUrl\":\"/acer-predator-helios-300-core-i7-10th-gen-16-gb-1-tb-hdd-256-gb-ssd-windows-10-home-6-graphics-nvidia-geforce-rtx-3060-144-hz-ph315-53-gaming-laptop/p/itmb2022d3889ada?pid=COMGFH8KHCHZBHDQ\",\"buyability\":{\"intent\":\"positive\",\"message\":null,\"showMessage\":false},\"conditionCallout\":false,\"flags\":{\"enableChat\":true,\"enableCompare\":true,\"enableFlipkartAdvantage\":true,\"enableOfferTag\":true,\"enableVisualDiscovery\":false,\"enableWishlist\":true,\"showSecondaryTitle\":true,\"swatchAvailableOnBrowsePage\":true},\"grade\":{\"color\":null,\"id\":null,\"name\":null,\"shortDesc\":null},\"id\":\"COMGFH8KHCHZBHDQ\",\"itemId\":\"ITMB2022D3889ADA\",\"keySpecs\":[\"Intel Core i7 Processor (10th Gen)\",\"16 GB DDR4 RAM\",\"64 bit Windows 10 Operating System\",\"1 TB HDD|256 GB SSD\",\"39.62 cm (15.6 inch) Display\",\"PredatorSense, Acer Care Center, Planet9, Acer Product Registration, Quick Access\"],\"listingId\":\"LSTCOMGFH8KHCHZBHDQUCRINS\",\"media\":{\"images\":[{\"aspectRatio\":null,\"contentInfo\":null,\"height\":null,\"url\":\"http://rukmini1.flixcart.com/image/{@width}/{@height}/kgsb1jk0/computer/f/j/g/acer-na-gaming-laptop-original-imafwxxuee4hzaq2.jpeg?q={@quality}\",\"width\":null},{\"aspectRatio\":null,\"contentInfo\":null,\"height\":null,\"url\":\"http://rukmini1.flixcart.com/image/{@width}/{@height}/knt7zbk0/computer/q/r/t/na-gaming-laptop-acer-original-imag2ekwd4hrnjgn.jpeg?q={@quality}\",\"width\":null},{\"aspectRatio\":null,\"contentInfo\":null,\"height\":null,\"url\":\"http://rukmini1.flixcart.com/image/{@width}/{@height}/kgsb1jk0/computer/f/j/g/acer-na-gaming-laptop-original-imafwxxuavfwmuwu.jpeg?q={@quality}\",\"width\":null},{\"aspectRatio\":null,\"contentInfo\":null,\"height\":null,\"url\":\"http://rukmini1.flixcart.com/image/{@width}/{@height}/kgsb1jk0/computer/f/j/g/acer-na-gaming-laptop-original-imafwxxutunh8ckt.jpeg?q={@quality}\",\"width\":null},{\"aspectRatio\":null,\"contentInfo\":null,\"height\":null,\"url\":\"http://rukmini1.flixcart.com/image/{@width}/{@height}/kh5607k0/computer/r/z/6/acer-original-imafx87xhmw7gna2.jpeg?q={@quality}\",\"width\":null},{\"aspectRatio\":null,\"contentInfo\":null,\"height\":null,\"url\":\"http://rukmini1.flixcart.com/image/{@width}/{@height}/knt7zbk0/computer/k/0/n/na-gaming-laptop-acer-original-imag2ekwtyzjmy6h.jpeg?q={@quality}\",\"width\":null},{\"aspectRatio\":null,\"contentInfo\":null,\"height\":null,\"url\":\"http://rukmini1.flixcart.com/image/{@width}/{@height}/knt7zbk0/computer/s/g/y/na-gaming-laptop-acer-original-imag2ekwfhmhrg6w.jpeg?q={@quality}\",\"width\":null}]},\"minKeySpecs\":[\"NVIDIA GeForce RTX 3060 6 GB Gfx\",\"39.62 cm (15.6 inch) Full HD Display\",\"No Optical Disk Drive\"],\"pricing\":{\"type\":\"ListingPriceValue\",\"deliveryCharge\":{\"additionalText\":null,\"currency\":\"INR\",\"decimalValue\":\"0.00\",\"discount\":null,\"downpaymentRate\":0,\"downpaymentRequired\":false,\"name\":\"Delivery Charges\",\"priceType\":null,\"strikeOff\":false,\"value\":0},\"discountAmount\":33009,\"extraDiscount\":null,\"finalPrice\":{\"additionalText\":null,\"currency\":\"INR\",\"decimalValue\":\"116990.00\",\"discount\":null,\"downpaymentRate\":0,\"downpaymentRequired\":false,\"name\":\"Total\",\"priceType\":null,\"strikeOff\":false,\"value\":116990},\"finalSavingsText\":null,\"knowMore\":null,\"mrp\":{\"additionalText\":\"(incl. of all taxes)\",\"currency\":\"INR\",\"decimalValue\":\"149999.00\",\"discount\":null,\"downpaymentRate\":0,\"downpaymentRequired\":false,\"name\":\"Maximum Retail Price\",\"priceType\":null,\"strikeOff\":true,\"value\":149999},\"partPriceInfo\":null,\"plusPriceInfo\":{\"type\":\"FormattedMessageValue\",\"data\":[{\"type\":\"FormattedRichTextData\",\"value\":{\"type\":\"RichTextValue\",\"style\":{\"color\":\"#000000\",\"fontSize\":14,\"fontStyle\":\"normal\",\"fontWeight\":\"normal\"},\"text\":\"Or Pay ₹1,16,890 + \"}},{\"type\":\"FormattedImageData\",\"value\":{\"type\":\"ImageValue\",\"aspectRatio\":\"1:1\",\"dynamicImageUrl\":\"https://rukminim1.flixcart.com/www/{@width}/{@height}/promos/18/07/2019/4aebbd99-7478-411e-aced-265e7722d18d.png?q={@quality}\",\"height\":0,\"width\":0}},{\"type\":\"FormattedRichTextData\",\"value\":{\"type\":\"RichTextValue\",\"style\":{\"color\":\"#000000\",\"fontSize\":14,\"fontStyle\":\"normal\",\"fontWeight\":\"normal\"},\"text\":\" 100\"}}]},\"priceDescriptions\":null,\"pricePerUnit\":null,\"priceTags\":null,\"prices\":[{\"additionalText\":null,\"currency\":\"INR\",\"decimalValue\":\"149999.00\",\"discount\":22,\"downpaymentRate\":0,\"downpaymentRequired\":false,\"name\":\"Selling Price\",\"priceType\":\"FSP\",\"strikeOff\":true,\"value\":149999},{\"additionalText\":null,\"currency\":\"INR\",\"decimalValue\":\"116990.00\",\"discount\":null,\"downpaymentRate\":0,\"downpaymentRequired\":false,\"name\":\"Special Price\",\"priceType\":\"SPECIAL_PRICE\",\"strikeOff\":false,\"value\":116990}],\"showDiscountAsAmount\":false,\"totalDiscount\":22},\"productBrand\":\"acer\",\"productCardTagDetails\":[{\"image\":{\"type\":\"ImageValue\",\"dynamicImageUrl\":\"https://rukminim1.flixcart.com/www/{@width}/{@height}/promos/21/07/2017/e8625e14-3277-4f16-a4d4-df8ed525905b.png?q={@quality}\",\"height\":0,\"width\":0},\"tagDetails\":null,\"type\":\"F_ASSURED\"}],\"rating\":{\"type\":\"RatingValue\",\"average\":4.5,\"base\":5,\"breakup\":[13,4,12,51,226],\"count\":306,\"histogramBaseCount\":226,\"reviewCount\":68},\"smartUrl\":\"http://dl.flipkart.com/dl/acer-predator-helios-300-core-i7-10th-gen-16-gb-1-tb-hdd-256-gb-ssd-windows-10-home-6-graphics-nvidia-geforce-rtx-3060-144-hz-ph315-53-gaming-laptop/p/itmb2022d3889ada?pid=COMGFH8KHCHZBHDQ\",\"tags\":[],\"titles\":{\"subtitle\":\"15.6 inch, Black, 2.3 kg\",\"title\":\"acer Predator Helios 300 Core i7 10th Gen - (16 GB/1 TB HDD/256 GB SSD/Windows 10 Home/6 GB Graphics/NVIDIA GeForce RTX 3060/144 Hz) PH315-53 Gaming Laptop\"},\"vertical\":\"computer\",\"warrantySummary\":\"1 Year Onsite Warranty\"}}}]}}},{\"slotType\":\"WIDGET\",\"id\":8001020,\"parentId\":10003,\"layoutParams\":{\"orientation\":\"\",\"widgetHeight\":150,\"widgetWidth\":12},\"dataId\":\"-1682163296\",\"elementId\":\"8001020-PRODUCT_SUMMARY\",\"hasWidgetDataChanged\":true,\"ttl\":3000,\"widget\":{\"type\":\"PRODUCT_SUMMARY\",\"viewType\":\"LIST_LARGE\",\"data\":{\"maxCardCount\":1,\"products\":[{\"addToWishlist\":{\"action\":{\"constraints\":null,\"fallback\":null,\"loginType\":\"LOGIN_NOT_REQUIRED\",\"omnitureData\":null,\"originalUrl\":null,\"params\":{\"valid\":true,\"productId\":\"COMFUR8XCVCMMVM2\"},\"requiredPermissionType\":null,\"screenType\":\"multiWidgetPage\",\"tracking\":{},\"type\":\"WISHLIST_ADD\",\"url\":null,\"validationMeta\":null},\"metaData\":null,\"tracking\":null,\"trackingData\":null,\"value\":{\"type\":\"ProductActionValue\",\"actionType\":\"ADD_TO_WISHLIST\",\"enabled\":true}},\"productInfo\":{\"action\":{\"constraints\":null,\"fallback\":null,\"loginType\":\"LOGIN_NOT_REQUIRED\",\"omnitureData\":\"deep_linking\",\"originalUrl\":null,\"params\":{\"valid\":true,\"productId\":\"COMFUR8XCVCMMVM2\",\"marketplace\":\"FLIPKART\",\"screenName\":\"PRODUCT_PAGE\",\"listingId\":\"LSTCOMFUR8XCVCMMVM2FBE02J\",\"pids\":[\"COMFUR8XCVCMMVM2\"],\"loadingStateKey\":\"LoadingStateDefaultNew\",\"lids\":[\"LSTCOMFUR8XCVCMMVM2FBE02J\"]},\"requiredPermissionType\":null,\"screenType\":\"productPage\",\"tracking\":{\"impressionId\":\"a34ade47-0df5-4ca4-a483-0ea1f0ee37cb.COMFUR8XCVCMMVM2.SEARCH\",\"prop64\":\"SS_ncemi:cnc\",\"position\":\"21\",\"contentType\":\"productCard\",\"contextType\":\"widget\"},\"type\":\"NAVIGATION\",\"url\":\"/msi-gf63-thin-core-i5-9th-gen-8-gb-512-gb-ssd-windows-10-home-4-graphics-nvidia-geforce-gtx-1650-ti-max-q-9scsr-1040in-gaming-laptop/p/itm5ca8ea2a1ce80?pid=COMFUR8XCVCMMVM2&lid=LSTCOMFUR8XCVCMMVM2FBE02J&marketplace=FLIPKART&q=laptop&store=6bo%2Fb5g\",\"validationMeta\":null},\"metaData\":null,\"tracking\":{\"impressionId\":\"a34ade47-0df5-4ca4-a483-0ea1f0ee37cb.COMFUR8XCVCMMVM2.SEARCH\",\"prop64\":\"SS_ncemi:cnc\",\"position\":\"21\",\"contentType\":\"productCard\",\"contextType\":\"widget\"},\"trackingData\":null,\"value\":{\"type\":\"ProductSummaryValue\",\"analyticsData\":{\"category\":\"Laptops\",\"subCategory\":\"Laptop\",\"superCategory\":\"LaptopAndDesktop\",\"vertical\":\"Laptop\"},\"availability\":{\"MessageIntent\":\"positive\",\"displayState\":\"IN_STOCK\",\"intent\":\"positive\",\"showMessage\":false},\"baseUrl\":\"/msi-gf63-thin-core-i5-9th-gen-8-gb-512-gb-ssd-windows-10-home-4-graphics-nvidia-geforce-gtx-1650-ti-max-q-9scsr-1040in-gaming-laptop/p/itm5ca8ea2a1ce80?pid=COMFUR8XCVCMMVM2\",\"buyability\":{\"intent\":\"positive\",\"message\":null,\"showMessage\":false},\"conditionCallout\":false,\"flags\":{\"enableChat\":true,\"enableCompare\":true,\"enableFlipkartAdvantage\":true,\"enableOfferTag\":true,\"enableVisualDiscovery\":false,\"enableWishlist\":true,\"showSecondaryTitle\":true,\"swatchAvailableOnBrowsePage\":true},\"grade\":{\"color\":null,\"id\":null,\"name\":null,\"shortDesc\":null},\"id\":\"COMFUR8XCVCMMVM2\",\"itemId\":\"ITM5CA8EA2A1CE80\",\"keySpecs\":[\"Intel Core i5 Processor (9th Gen)\",\"8 GB DDR4 RAM\",\"64 bit Windows 10 Operating System\",\"512 GB SSD\",\"39.62 cm (15.6 inch) Display\",\"Cooler Boost 5, Audio Boost, Dragon Center, Nahimic 3\"],\"listingId\":\"LSTCOMFUR8XCVCMMVM2FBE02J\",\"media\":{\"images\":[{\"aspectRatio\":null,\"contentInfo\":null,\"height\":null,\"url\":\"http://rukmini1.flixcart.com/image/{@width}/{@height}/ke353m80/computer/p/q/m/msi-original-imafuurxjxzy4zcn.jpeg?q={@quality}\",\"width\":null},{\"aspectRatio\":null,\"contentInfo\":null,\"height\":null,\"url\":\"http://rukmini1.flixcart.com/image/{@width}/{@height}/ke353m80/computer/p/q/m/msi-original-imafuurxzqmjyy27.jpeg?q={@quality}\",\"width\":null},{\"aspectRatio\":null,\"contentInfo\":null,\"height\":null,\"url\":\"http://rukmini1.flixcart.com/image/{@width}/{@height}/ke353m80/computer/p/q/m/msi-original-imafuurxzfwff3vt.jpeg?q={@quality}\",\"width\":null},{\"aspectRatio\":null,\"contentInfo\":null,\"height\":null,\"url\":\"http://rukmini1.flixcart.com/image/{@width}/{@height}/ke353m80/computer/p/q/m/msi-original-imafuurxhpyettg9.jpeg?q={@quality}\",\"width\":null},{\"aspectRatio\":null,\"contentInfo\":null,\"height\":null,\"url\":\"http://rukmini1.flixcart.com/image/{@width}/{@height}/kb1470w0/computer/z/5/f/msi-na-gaming-laptop-original-imafsh7ag8pgxakf.jpeg?q={@quality}\",\"width\":null},{\"aspectRatio\":null,\"contentInfo\":null,\"height\":null,\"url\":\"http://rukmini1.flixcart.com/image/{@width}/{@height}/ke353m80/computer/p/q/m/msi-original-imafuurxvebpahrg.jpeg?q={@quality}\",\"width\":null},{\"aspectRatio\":null,\"contentInfo\":null,\"height\":null,\"url\":\"http://rukmini1.flixcart.com/image/{@width}/{@height}/ke353m80/computer/p/q/m/msi-original-imafuurxhdu7fpdf.jpeg?q={@quality}\",\"width\":null},{\"aspectRatio\":null,\"contentInfo\":null,\"height\":null,\"url\":\"http://rukmini1.flixcart.com/image/{@width}/{@height}/ke353m80/computer/p/q/m/msi-original-imafuurxshu3efgw.jpeg?q={@quality}\",\"width\":null},{\"aspectRatio\":null,\"contentInfo\":null,\"height\":null,\"url\":\"http://rukmini1.flixcart.com/image/{@width}/{@height}/ke353m80/computer/p/q/m/msi-original-imafuurxzbkfxvnc.jpeg?q={@quality}\",\"width\":null},{\"aspectRatio\":null,\"contentInfo\":null,\"height\":null,\"url\":\"http://rukmini1.flixcart.com/image/{@width}/{@height}/ke353m80/computer/p/q/m/msi-original-imafuurxdshynump.jpeg?q={@quality}\",\"width\":null},{\"aspectRatio\":null,\"contentInfo\":null,\"height\":null,\"url\":\"http://rukmini1.flixcart.com/image/{@width}/{@height}/ke353m80/computer/p/q/m/msi-original-imafuurxhgzxgcn4.jpeg?q={@quality}\",\"width\":null},{\"aspectRatio\":null,\"contentInfo\":null,\"height\":null,\"url\":\"http://rukmini1.flixcart.com/image/{@width}/{@height}/ke353m80/computer/p/q/m/msi-original-imafuurxgp4qhpne.jpeg?q={@quality}\",\"width\":null},{\"aspectRatio\":null,\"contentInfo\":null,\"height\":null,\"url\":\"http://rukmini1.flixcart.com/image/{@width}/{@height}/ke353m80/computer/p/q/m/msi-original-imafuurxzaq3jcmj.jpeg?q={@quality}\",\"width\":null}]},\"minKeySpecs\":[\"NVIDIA GeForce GTX 1650 Ti with Max-Q 4 GB Gfx\",\"39.62 cm (15.6 inch) Full HD Display\",\"No Optical Disk Drive\"],\"pricing\":{\"type\":\"ListingPriceValue\",\"deliveryCharge\":{\"additionalText\":null,\"currency\":\"INR\",\"decimalValue\":\"0.00\",\"discount\":null,\"downpaymentRate\":0,\"downpaymentRequired\":false,\"name\":\"Delivery Charges\",\"priceType\":null,\"strikeOff\":false,\"value\":0},\"discountAmount\":16000,\"extraDiscount\":null,\"finalPrice\":{\"additionalText\":null,\"currency\":\"INR\",\"decimalValue\":\"56990.00\",\"discount\":null,\"downpaymentRate\":0,\"downpaymentRequired\":false,\"name\":\"Total\",\"priceType\":null,\"strikeOff\":false,\"value\":56990},\"finalSavingsText\":null,\"knowMore\":null,\"mrp\":{\"additionalText\":\"(incl. of all taxes)\",\"currency\":\"INR\",\"decimalValue\":\"72990.00\",\"discount\":null,\"downpaymentRate\":0,\"downpaymentRequired\":false,\"name\":\"Maximum Retail Price\",\"priceType\":null,\"strikeOff\":true,\"value\":72990},\"partPriceInfo\":null,\"plusPriceInfo\":{\"type\":\"FormattedMessageValue\",\"data\":[{\"type\":\"FormattedRichTextData\",\"value\":{\"type\":\"RichTextValue\",\"style\":{\"color\":\"#000000\",\"fontSize\":14,\"fontStyle\":\"normal\",\"fontWeight\":\"normal\"},\"text\":\"Or Pay ₹56,890 + \"}},{\"type\":\"FormattedImageData\",\"value\":{\"type\":\"ImageValue\",\"aspectRatio\":\"1:1\",\"dynamicImageUrl\":\"https://rukminim1.flixcart.com/www/{@width}/{@height}/promos/18/07/2019/4aebbd99-7478-411e-aced-265e7722d18d.png?q={@quality}\",\"height\":0,\"width\":0}},{\"type\":\"FormattedRichTextData\",\"value\":{\"type\":\"RichTextValue\",\"style\":{\"color\":\"#000000\",\"fontSize\":14,\"fontStyle\":\"normal\",\"fontWeight\":\"normal\"},\"text\":\" 100\"}}]},\"priceDescriptions\":null,\"pricePerUnit\":null,\"priceTags\":null,\"prices\":[{\"additionalText\":null,\"currency\":\"INR\",\"decimalValue\":\"72990.00\",\"discount\":21,\"downpaymentRate\":0,\"downpaymentRequired\":false,\"name\":\"Selling Price\",\"priceType\":\"FSP\",\"strikeOff\":true,\"value\":72990},{\"additionalText\":null,\"currency\":\"INR\",\"decimalValue\":\"56990.00\",\"discount\":null,\"downpaymentRate\":0,\"downpaymentRequired\":false,\"name\":\"Special Price\",\"priceType\":\"SPECIAL_PRICE\",\"strikeOff\":false,\"value\":56990}],\"showDiscountAsAmount\":false,\"totalDiscount\":21},\"productBrand\":\"MSI\",\"productCardTagDetails\":[{\"image\":{\"type\":\"ImageValue\",\"dynamicImageUrl\":\"https://rukminim1.flixcart.com/www/{@width}/{@height}/promos/21/07/2017/e8625e14-3277-4f16-a4d4-df8ed525905b.png?q={@quality}\",\"height\":0,\"width\":0},\"tagDetails\":null,\"type\":\"F_ASSURED\"}],\"rating\":{\"type\":\"RatingValue\",\"average\":4.4,\"base\":5,\"breakup\":[39,9,29,160,480],\"count\":717,\"histogramBaseCount\":480,\"reviewCount\":97},\"smartUrl\":\"http://dl.flipkart.com/dl/msi-gf63-thin-core-i5-9th-gen-8-gb-512-gb-ssd-windows-10-home-4-graphics-nvidia-geforce-gtx-1650-ti-max-q-9scsr-1040in-gaming-laptop/p/itm5ca8ea2a1ce80?pid=COMFUR8XCVCMMVM2\",\"tags\":[],\"titles\":{\"subtitle\":\"15.6 inch, Black, 1.86 kg\",\"title\":\"MSI GF63 Thin Core i5 9th Gen - (8 GB/512 GB SSD/Windows 10 Home/4 GB Graphics/NVIDIA GeForce GTX 1650 Ti with Max-Q) GF63 Thin 9SCSR -1040IN Gaming Laptop\"},\"vertical\":\"computer\",\"warrantySummary\":\"2 Years Carry In Warranty\"}},\"snippets\":[{\"type\":\"FormattedMessageValue\",\"data\":[{\"type\":\"FormattedRichTextData\",\"value\":{\"type\":\"RichTextValue\",\"style\":{\"color\":\"#000000\",\"fontSize\":12,\"fontStyle\":\"normal\",\"fontWeight\":\"normal\"},\"text\":\"No Cost EMI\"}}]}]}]}}},{\"slotType\":\"WIDGET\",\"id\":8001021,\"parentId\":10003,\"layoutParams\":{\"orientation\":\"\",\"widgetHeight\":150,\"widgetWidth\":12},\"dataId\":\"-1801597004\",\"elementId\":\"8001021-PRODUCT_SUMMARY\",\"hasWidgetDataChanged\":true,\"ttl\":3000,\"widget\":{\"type\":\"PRODUCT_SUMMARY\",\"viewType\":\"LIST_LARGE\",\"data\":{\"maxCardCount\":1,\"products\":[{\"addToWishlist\":{\"action\":{\"constraints\":null,\"fallback\":null,\"loginType\":\"LOGIN_NOT_REQUIRED\",\"omnitureData\":null,\"originalUrl\":null,\"params\":{\"valid\":true,\"productId\":\"COMFXEKMGNHZYFH9\"},\"requiredPermissionType\":null,\"screenType\":\"multiWidgetPage\",\"tracking\":{},\"type\":\"WISHLIST_ADD\",\"url\":null,\"validationMeta\":null},\"metaData\":null,\"tracking\":null,\"trackingData\":null,\"value\":{\"type\":\"ProductActionValue\",\"actionType\":\"ADD_TO_WISHLIST\",\"enabled\":true}},\"productInfo\":{\"action\":{\"constraints\":null,\"fallback\":null,\"loginType\":\"LOGIN_NOT_REQUIRED\",\"omnitureData\":\"deep_linking\",\"originalUrl\":null,\"params\":{\"valid\":true,\"productId\":\"COMFXEKMGNHZYFH9\",\"marketplace\":\"FLIPKART\",\"screenName\":\"PRODUCT_PAGE\",\"listingId\":\"LSTCOMFXEKMGNHZYFH9EOWT4E\",\"pids\":[\"COMFXEKMGNHZYFH9\"],\"loadingStateKey\":\"LoadingStateDefaultNew\",\"lids\":[\"LSTCOMFXEKMGNHZYFH9EOWT4E\"]},\"requiredPermissionType\":null,\"screenType\":\"productPage\",\"tracking\":{\"impressionId\":\"a34ade47-0df5-4ca4-a483-0ea1f0ee37cb.COMFXEKMGNHZYFH9.SEARCH\",\"prop64\":\"SS_ncemi:cnc\",\"position\":\"22\",\"contentType\":\"productCard\",\"contextType\":\"widget\"},\"type\":\"NAVIGATION\",\"url\":\"/apple-macbook-air-m1-8-gb-256-gb-ssd-mac-os-big-sur-mgn63hn-a/p/itmde54f026889ce?pid=COMFXEKMGNHZYFH9&lid=LSTCOMFXEKMGNHZYFH9EOWT4E&marketplace=FLIPKART&q=laptop&store=6bo%2Fb5g\",\"validationMeta\":null},\"metaData\":null,\"tracking\":{\"impressionId\":\"a34ade47-0df5-4ca4-a483-0ea1f0ee37cb.COMFXEKMGNHZYFH9.SEARCH\",\"prop64\":\"SS_ncemi:cnc\",\"position\":\"22\",\"contentType\":\"productCard\",\"contextType\":\"widget\"},\"trackingData\":null,\"value\":{\"type\":\"ProductSummaryValue\",\"analyticsData\":{\"category\":\"Laptops\",\"subCategory\":\"Laptop\",\"superCategory\":\"LaptopAndDesktop\",\"vertical\":\"Laptop\"},\"availability\":{\"MessageIntent\":\"positive\",\"displayState\":\"IN_STOCK\",\"intent\":\"positive\",\"showMessage\":false},\"baseUrl\":\"/apple-macbook-air-m1-8-gb-256-gb-ssd-mac-os-big-sur-mgn63hn-a/p/itmde54f026889ce?pid=COMFXEKMGNHZYFH9\",\"buyability\":{\"intent\":\"positive\",\"message\":null,\"showMessage\":false},\"conditionCallout\":false,\"flags\":{\"enableChat\":true,\"enableCompare\":true,\"enableFlipkartAdvantage\":true,\"enableOfferTag\":true,\"enableVisualDiscovery\":false,\"enableWishlist\":true,\"showSecondaryTitle\":true,\"swatchAvailableOnBrowsePage\":true},\"grade\":{\"color\":null,\"id\":null,\"name\":null,\"shortDesc\":null},\"id\":\"COMFXEKMGNHZYFH9\",\"itemId\":\"ITMDE54F026889CE\",\"keySpecs\":[\"Apple M1 Processor\",\"8 GB DDR4 RAM\",\"Mac OS Operating System\",\"256 GB SSD\",\"33.78 cm (13.3 inch) Display\",\"Built-in Apps: iMovie, Siri, GarageBand, Pages, Numbers, Photos, Keynote, Safari, Mail, FaceTime, Messages, Maps, Stocks, Home, Voice Memos, Notes, Calendar, Contacts, Reminders, Photo Booth, Preview, Books, App Store, Time Machine, TV, Music, Podcasts, Find My, QuickTime Player\"],\"listingId\":\"LSTCOMFXEKMGNHZYFH9EOWT4E\",\"media\":{\"images\":[{\"aspectRatio\":null,\"contentInfo\":null,\"height\":null,\"url\":\"http://rukmini1.flixcart.com/image/{@width}/{@height}/khdqnbk0/computer/5/d/e/apple-original-imafxfyqkdfxqjab.jpeg?q={@quality}\",\"width\":null},{\"aspectRatio\":null,\"contentInfo\":null,\"height\":null,\"url\":\"http://rukmini1.flixcart.com/image/{@width}/{@height}/khdqnbk0/computer/5/d/e/apple-original-imafxfyqw3vubgcw.jpeg?q={@quality}\",\"width\":null},{\"aspectRatio\":null,\"contentInfo\":null,\"height\":null,\"url\":\"http://rukmini1.flixcart.com/image/{@width}/{@height}/khdqnbk0/computer/5/d/e/apple-original-imafxfyqduh9ukn5.jpeg?q={@quality}\",\"width\":null},{\"aspectRatio\":null,\"contentInfo\":null,\"height\":null,\"url\":\"http://rukmini1.flixcart.com/image/{@width}/{@height}/khdqnbk0/computer/5/d/e/apple-original-imafxfyqxh6y35ay.jpeg?q={@quality}\",\"width\":null},{\"aspectRatio\":null,\"contentInfo\":null,\"height\":null,\"url\":\"http://rukmini1.flixcart.com/image/{@width}/{@height}/khdqnbk0/computer/5/d/e/apple-original-imafxfyqukzhkwbx.jpeg?q={@quality}\",\"width\":null},{\"aspectRatio\":null,\"contentInfo\":null,\"height\":null,\"url\":\"http://rukmini1.flixcart.com/image/{@width}/{@height}/khdqnbk0/computer/5/d/e/apple-original-imafxfyqmscuqbcd.jpeg?q={@quality}\",\"width\":null}]},\"minKeySpecs\":[\"NA Gfx\",\"33.78 cm (13.3 inch) Quad HD Display\",\"1.29 kg\",\"No Optical Disk Drive\"],\"pricing\":{\"type\":\"ListingPriceValue\",\"deliveryCharge\":{\"additionalText\":null,\"currency\":\"INR\",\"decimalValue\":\"0.00\",\"discount\":null,\"downpaymentRate\":0,\"downpaymentRequired\":false,\"name\":\"Delivery Charges\",\"priceType\":null,\"strikeOff\":false,\"value\":0},\"discountAmount\":null,\"extraDiscount\":null,\"finalPrice\":{\"additionalText\":null,\"currency\":\"INR\",\"decimalValue\":\"92900.00\",\"discount\":null,\"downpaymentRate\":0,\"downpaymentRequired\":false,\"name\":\"Total\",\"priceType\":null,\"strikeOff\":false,\"value\":92900},\"finalSavingsText\":null,\"knowMore\":null,\"mrp\":{\"additionalText\":\"(incl. of all taxes)\",\"currency\":\"INR\",\"decimalValue\":\"92900.00\",\"discount\":null,\"downpaymentRate\":0,\"downpaymentRequired\":false,\"name\":\"Maximum Retail Price\",\"priceType\":null,\"strikeOff\":false,\"value\":92900},\"partPriceInfo\":null,\"plusPriceInfo\":{\"type\":\"FormattedMessageValue\",\"data\":[{\"type\":\"FormattedRichTextData\",\"value\":{\"type\":\"RichTextValue\",\"style\":{\"color\":\"#000000\",\"fontSize\":14,\"fontStyle\":\"normal\",\"fontWeight\":\"normal\"},\"text\":\"Or Pay ₹92,800 + \"}},{\"type\":\"FormattedImageData\",\"value\":{\"type\":\"ImageValue\",\"aspectRatio\":\"1:1\",\"dynamicImageUrl\":\"https://rukminim1.flixcart.com/www/{@width}/{@height}/promos/18/07/2019/4aebbd99-7478-411e-aced-265e7722d18d.png?q={@quality}\",\"height\":0,\"width\":0}},{\"type\":\"FormattedRichTextData\",\"value\":{\"type\":\"RichTextValue\",\"style\":{\"color\":\"#000000\",\"fontSize\":14,\"fontStyle\":\"normal\",\"fontWeight\":\"normal\"},\"text\":\" 100\"}}]},\"priceDescriptions\":null,\"pricePerUnit\":null,\"priceTags\":null,\"prices\":[{\"additionalText\":null,\"currency\":\"INR\",\"decimalValue\":\"92900.00\",\"discount\":null,\"downpaymentRate\":0,\"downpaymentRequired\":false,\"name\":\"Selling Price\",\"priceType\":\"FSP\",\"strikeOff\":false,\"value\":92900}],\"showDiscountAsAmount\":false,\"totalDiscount\":0},\"productBrand\":\"APPLE\",\"productCardTagDetails\":[{\"image\":{\"type\":\"ImageValue\",\"dynamicImageUrl\":\"https://rukminim1.flixcart.com/www/{@width}/{@height}/promos/21/07/2017/e8625e14-3277-4f16-a4d4-df8ed525905b.png?q={@quality}\",\"height\":0,\"width\":0},\"tagDetails\":null,\"type\":\"F_ASSURED\"}],\"rating\":{\"type\":\"RatingValue\",\"average\":4.7,\"base\":5,\"breakup\":[15,4,10,52,424],\"count\":505,\"histogramBaseCount\":424,\"reviewCount\":76},\"smartUrl\":\"http://dl.flipkart.com/dl/apple-macbook-air-m1-8-gb-256-gb-ssd-mac-os-big-sur-mgn63hn-a/p/itmde54f026889ce?pid=COMFXEKMGNHZYFH9\",\"tags\":[],\"titles\":{\"subtitle\":\"13.3 inch, Space Grey, 1.29 kg\",\"title\":\"APPLE MacBook Air M1 - (8 GB/256 GB SSD/Mac OS Big Sur) MGN63HN/A\"},\"vertical\":\"computer\",\"warrantySummary\":\"1 Year Limited Warra\\xadnty\"}},\"snippets\":[{\"type\":\"FormattedMessageValue\",\"data\":[{\"type\":\"FormattedRichTextData\",\"value\":{\"type\":\"RichTextValue\",\"style\":{\"color\":\"#000000\",\"fontSize\":12,\"fontStyle\":\"normal\",\"fontWeight\":\"normal\"},\"text\":\"No Cost EMI\"}}]}]}]}}},{\"slotType\":\"WIDGET\",\"id\":8001022,\"parentId\":10003,\"layoutParams\":{\"orientation\":\"\",\"widgetHeight\":150,\"widgetWidth\":12},\"dataId\":\"-1619706580\",\"elementId\":\"8001022-PRODUCT_SUMMARY\",\"hasWidgetDataChanged\":true,\"ttl\":3000,\"widget\":{\"type\":\"PRODUCT_SUMMARY\",\"viewType\":\"LIST_LARGE\",\"data\":{\"maxCardCount\":1,\"products\":[{\"addToWishlist\":{\"action\":{\"constraints\":null,\"fallback\":null,\"loginType\":\"LOGIN_NOT_REQUIRED\",\"omnitureData\":null,\"originalUrl\":null,\"params\":{\"valid\":true,\"productId\":\"COMFXZZMWZGM4MPJ\"},\"requiredPermissionType\":null,\"screenType\":\"multiWidgetPage\",\"tracking\":{},\"type\":\"WISHLIST_ADD\",\"url\":null,\"validationMeta\":null},\"metaData\":null,\"tracking\":null,\"trackingData\":null,\"value\":{\"type\":\"ProductActionValue\",\"actionType\":\"ADD_TO_WISHLIST\",\"enabled\":true}},\"productInfo\":{\"action\":{\"constraints\":null,\"fallback\":null,\"loginType\":\"LOGIN_NOT_REQUIRED\",\"omnitureData\":\"deep_linking\",\"originalUrl\":null,\"params\":{\"valid\":true,\"productId\":\"COMFXZZMWZGM4MPJ\",\"marketplace\":\"FLIPKART\",\"screenName\":\"PRODUCT_PAGE\",\"listingId\":\"LSTCOMFXZZMWZGM4MPJSWHXIX\",\"pids\":[\"COMFXZZMWZGM4MPJ\"],\"loadingStateKey\":\"LoadingStateDefaultNew\",\"lids\":[\"LSTCOMFXZZMWZGM4MPJSWHXIX\"]},\"requiredPermissionType\":null,\"screenType\":\"productPage\",\"tracking\":{\"impressionId\":\"a34ade47-0df5-4ca4-a483-0ea1f0ee37cb.COMFXZZMWZGM4MPJ.SEARCH\",\"prop64\":\"SS_ncemi:cnc\",\"position\":\"23\",\"contentType\":\"productCard\",\"contextType\":\"widget\"},\"type\":\"NAVIGATION\",\"url\":\"/lenovo-legion-y540-core-i5-9th-gen-8-gb-1-tb-hdd-256-gb-ssd-windows-10-home-4-graphics-nvidia-geforce-gtx-1650-60-hz-y540-15irh-pg0-gaming-laptop/p/itm8a774a92e9b76?pid=COMFXZZMWZGM4MPJ&lid=LSTCOMFXZZMWZGM4MPJSWHXIX&marketplace=FLIPKART&q=laptop&store=6bo%2Fb5g\",\"validationMeta\":null},\"metaData\":null,\"tracking\":{\"impressionId\":\"a34ade47-0df5-4ca4-a483-0ea1f0ee37cb.COMFXZZMWZGM4MPJ.SEARCH\",\"prop64\":\"SS_ncemi:cnc\",\"position\":\"23\",\"contentType\":\"productCard\",\"contextType\":\"widget\"},\"trackingData\":null,\"value\":{\"type\":\"ProductSummaryValue\",\"analyticsData\":{\"category\":\"Laptops\",\"subCategory\":\"Laptop\",\"superCategory\":\"LaptopAndDesktop\",\"vertical\":\"Laptop\"},\"availability\":{\"MessageIntent\":\"positive\",\"displayState\":\"IN_STOCK\",\"intent\":\"positive\",\"showMessage\":false},\"baseUrl\":\"/lenovo-legion-y540-core-i5-9th-gen-8-gb-1-tb-hdd-256-gb-ssd-windows-10-home-4-graphics-nvidia-geforce-gtx-1650-60-hz-y540-15irh-pg0-gaming-laptop/p/itm8a774a92e9b76?pid=COMFXZZMWZGM4MPJ\",\"buyability\":{\"intent\":\"positive\",\"message\":null,\"showMessage\":false},\"conditionCallout\":false,\"flags\":{\"enableChat\":true,\"enableCompare\":true,\"enableFlipkartAdvantage\":true,\"enableOfferTag\":true,\"enableVisualDiscovery\":false,\"enableWishlist\":true,\"showSecondaryTitle\":true,\"swatchAvailableOnBrowsePage\":true},\"grade\":{\"color\":null,\"id\":null,\"name\":null,\"shortDesc\":null},\"id\":\"COMFXZZMWZGM4MPJ\",\"itemId\":\"ITM8A774A92E9B76\",\"keySpecs\":[\"Intel Core i5 Processor (9th Gen)\",\"8 GB DDR4 RAM\",\"64 bit Windows 10 Operating System\",\"1 TB HDD|256 GB SSD\",\"39.62 cm (15.6 inch) Display\"],\"listingId\":\"LSTCOMFXZZMWZGM4MPJSWHXIX\",\"media\":{\"images\":[{\"aspectRatio\":null,\"contentInfo\":null,\"height\":null,\"url\":\"http://rukmini1.flixcart.com/image/{@width}/{@height}/kiew3gw0/computer/m/p/j/lenovo-original-imafy7ng97axn45e.jpeg?q={@quality}\",\"width\":null},{\"aspectRatio\":null,\"contentInfo\":null,\"height\":null,\"url\":\"http://rukmini1.flixcart.com/image/{@width}/{@height}/kiew3gw0/computer/m/p/j/lenovo-original-imafy7ngehhznv4s.jpeg?q={@quality}\",\"width\":null},{\"aspectRatio\":null,\"contentInfo\":null,\"height\":null,\"url\":\"http://rukmini1.flixcart.com/image/{@width}/{@height}/kiew3gw0/computer/m/p/j/lenovo-original-imafy7ngt92a9jw2.jpeg?q={@quality}\",\"width\":null},{\"aspectRatio\":null,\"contentInfo\":null,\"height\":null,\"url\":\"http://rukmini1.flixcart.com/image/{@width}/{@height}/kiew3gw0/computer/m/p/j/lenovo-original-imafy7ngttm4agn4.jpeg?q={@quality}\",\"width\":null},{\"aspectRatio\":null,\"contentInfo\":null,\"height\":null,\"url\":\"http://rukmini1.flixcart.com/image/{@width}/{@height}/kiew3gw0/computer/m/p/j/lenovo-original-imafy7ngezyzvhqg.jpeg?q={@quality}\",\"width\":null},{\"aspectRatio\":null,\"contentInfo\":null,\"height\":null,\"url\":\"http://rukmini1.flixcart.com/image/{@width}/{@height}/kiew3gw0/computer/m/p/j/lenovo-original-imafy7ng3kg5dyfm.jpeg?q={@quality}\",\"width\":null},{\"aspectRatio\":null,\"contentInfo\":null,\"height\":null,\"url\":\"http://rukmini1.flixcart.com/image/{@width}/{@height}/kmax8y80/computer/p/n/m/na-gaming-laptop-lenovo-original-imagf8euzprcfskz.jpeg?q={@quality}\",\"width\":null}]},\"minKeySpecs\":[\"NVIDIA GeForce GTX 1650 4 GB Gfx\",\"39.62 cm (15.6 inch) Full HD Display\",\"No Optical Disk Drive\"],\"pricing\":{\"type\":\"ListingPriceValue\",\"deliveryCharge\":{\"additionalText\":null,\"currency\":\"INR\",\"decimalValue\":\"0.00\",\"discount\":null,\"downpaymentRate\":0,\"downpaymentRequired\":false,\"name\":\"Delivery Charges\",\"priceType\":null,\"strikeOff\":false,\"value\":0},\"discountAmount\":25700,\"extraDiscount\":null,\"finalPrice\":{\"additionalText\":null,\"currency\":\"INR\",\"decimalValue\":\"60990.00\",\"discount\":null,\"downpaymentRate\":0,\"downpaymentRequired\":false,\"name\":\"Total\",\"priceType\":null,\"strikeOff\":false,\"value\":60990},\"finalSavingsText\":null,\"knowMore\":null,\"mrp\":{\"additionalText\":\"(incl. of all taxes)\",\"currency\":\"INR\",\"decimalValue\":\"86690.00\",\"discount\":null,\"downpaymentRate\":0,\"downpaymentRequired\":false,\"name\":\"Maximum Retail Price\",\"priceType\":null,\"strikeOff\":true,\"value\":86690},\"partPriceInfo\":null,\"plusPriceInfo\":{\"type\":\"FormattedMessageValue\",\"data\":[{\"type\":\"FormattedRichTextData\",\"value\":{\"type\":\"RichTextValue\",\"style\":{\"color\":\"#000000\",\"fontSize\":14,\"fontStyle\":\"normal\",\"fontWeight\":\"normal\"},\"text\":\"Or Pay ₹60,890 + \"}},{\"type\":\"FormattedImageData\",\"value\":{\"type\":\"ImageValue\",\"aspectRatio\":\"1:1\",\"dynamicImageUrl\":\"https://rukminim1.flixcart.com/www/{@width}/{@height}/promos/18/07/2019/4aebbd99-7478-411e-aced-265e7722d18d.png?q={@quality}\",\"height\":0,\"width\":0}},{\"type\":\"FormattedRichTextData\",\"value\":{\"type\":\"RichTextValue\",\"style\":{\"color\":\"#000000\",\"fontSize\":14,\"fontStyle\":\"normal\",\"fontWeight\":\"normal\"},\"text\":\" 100\"}}]},\"priceDescriptions\":null,\"pricePerUnit\":null,\"priceTags\":null,\"prices\":[{\"additionalText\":null,\"currency\":\"INR\",\"decimalValue\":\"86690.00\",\"discount\":29,\"downpaymentRate\":0,\"downpaymentRequired\":false,\"name\":\"Selling Price\",\"priceType\":\"FSP\",\"strikeOff\":true,\"value\":86690},{\"additionalText\":null,\"currency\":\"INR\",\"decimalValue\":\"60990.00\",\"discount\":null,\"downpaymentRate\":0,\"downpaymentRequired\":false,\"name\":\"Special Price\",\"priceType\":\"SPECIAL_PRICE\",\"strikeOff\":false,\"value\":60990}],\"showDiscountAsAmount\":false,\"totalDiscount\":29},\"productBrand\":\"Lenovo\",\"productCardTagDetails\":[{\"image\":{\"type\":\"ImageValue\",\"dynamicImageUrl\":\"https://rukminim1.flixcart.com/www/{@width}/{@height}/promos/21/07/2017/e8625e14-3277-4f16-a4d4-df8ed525905b.png?q={@quality}\",\"height\":0,\"width\":0},\"tagDetails\":null,\"type\":\"F_ASSURED\"}],\"rating\":{\"type\":\"RatingValue\",\"average\":4.5,\"base\":5,\"breakup\":[5,5,10,32,114],\"count\":166,\"histogramBaseCount\":114,\"reviewCount\":16},\"smartUrl\":\"http://dl.flipkart.com/dl/lenovo-legion-y540-core-i5-9th-gen-8-gb-1-tb-hdd-256-gb-ssd-windows-10-home-4-graphics-nvidia-geforce-gtx-1650-60-hz-y540-15irh-pg0-gaming-laptop/p/itm8a774a92e9b76?pid=COMFXZZMWZGM4MPJ\",\"tags\":[],\"titles\":{\"subtitle\":\"15.6 inch, Raven Black, 2.3 kg\",\"title\":\"Lenovo Legion Y540 Core i5 9th Gen - (8 GB/1 TB HDD/256 GB SSD/Windows 10 Home/4 GB Graphics/NVIDIA GeForce GTX 1650/60 Hz) Y540-15IRH-PG0 Gaming Laptop\"},\"vertical\":\"computer\",\"warrantySummary\":\"1 Year Onsite Warranty\"}},\"snippets\":[{\"type\":\"FormattedMessageValue\",\"data\":[{\"type\":\"FormattedRichTextData\",\"value\":{\"type\":\"RichTextValue\",\"style\":{\"color\":\"#000000\",\"fontSize\":12,\"fontStyle\":\"normal\",\"fontWeight\":\"normal\"},\"text\":\"No Cost EMI\"}}]}]}]}}},{\"slotType\":\"WIDGET\",\"id\":8001023,\"parentId\":10003,\"layoutParams\":{\"orientation\":\"\",\"widgetHeight\":150,\"widgetWidth\":12},\"dataId\":\"1504313312\",\"elementId\":\"8001023-PRODUCT_SUMMARY\",\"hasWidgetDataChanged\":true,\"ttl\":3000,\"widget\":{\"type\":\"PRODUCT_SUMMARY\",\"viewType\":\"LIST_LARGE\",\"data\":{\"maxCardCount\":1,\"products\":[{\"adInfo\":{\"adSymbolDisabled\":null,\"bannerId\":\"-1\",\"impressionId\":\"en_sO2JoGGXnEpiPv5Z0NrfZXnzIXgoc1Nrzz2qZlYj+Mt58stt6av82Em04/bkPFQWUKBOAZDouLRb5VW5A+cW+Q==\",\"listingId\":\"LSTCOMFTRPTHHYK93GH01REE5\",\"marketplaceId\":\"FLIPKART\",\"numResults\":730,\"productId\":\"COMFTRPTHHYK93GH\",\"responseId\":\"a34ade47-0df5-4ca4-a483-0ea1f0ee37cb\"},\"addToWishlist\":{\"action\":{\"constraints\":null,\"fallback\":null,\"loginType\":\"LOGIN_NOT_REQUIRED\",\"omnitureData\":null,\"originalUrl\":null,\"params\":{\"valid\":true,\"productId\":\"COMFTRPTHHYK93GH\"},\"requiredPermissionType\":null,\"screenType\":\"multiWidgetPage\",\"tracking\":{},\"type\":\"WISHLIST_ADD\",\"url\":null,\"validationMeta\":null},\"metaData\":null,\"tracking\":null,\"trackingData\":null,\"value\":{\"type\":\"ProductActionValue\",\"actionType\":\"ADD_TO_WISHLIST\",\"enabled\":true}},\"productInfo\":{\"action\":{\"constraints\":null,\"fallback\":null,\"loginType\":\"LOGIN_NOT_REQUIRED\",\"omnitureData\":\"deep_linking\",\"originalUrl\":null,\"params\":{\"valid\":true,\"productId\":\"COMFTRPTHHYK93GH\",\"marketplace\":\"FLIPKART\",\"screenName\":\"PRODUCT_PAGE\",\"listingId\":\"LSTCOMFTRPTHHYK93GH01REE5\",\"pids\":[\"COMFTRPTHHYK93GH\"],\"loadingStateKey\":\"LoadingStateDefaultNew\",\"lids\":[\"LSTCOMFTRPTHHYK93GH01REE5\"]},\"requiredPermissionType\":null,\"screenType\":\"productPage\",\"tracking\":{\"impressionId\":\"en_sO2JoGGXnEpiPv5Z0NrfZXnzIXgoc1Nrzz2qZlYj+Mt58stt6av82Em04/bkPFQWUKBOAZDouLRb5VW5A+cW+Q==\",\"prop64\":\"SS_ncemi:cnc\",\"position\":\"24\",\"contentType\":\"productCard\",\"contextType\":\"widget\"},\"type\":\"NAVIGATION\",\"url\":\"/acer-aspire-5-core-i3-10th-gen-4-gb-32-optane-512-ssd-windows-10-home-a514-53-316m-thin-light-laptop/p/itm6252c5d487e10?pid=COMFTRPTHHYK93GH&lid=LSTCOMFTRPTHHYK93GH01REE5&marketplace=FLIPKART&q=laptop&store=6bo%2Fb5g\",\"validationMeta\":null},\"metaData\":null,\"tracking\":{\"impressionId\":\"en_sO2JoGGXnEpiPv5Z0NrfZXnzIXgoc1Nrzz2qZlYj+Mt58stt6av82Em04/bkPFQWUKBOAZDouLRb5VW5A+cW+Q==\",\"prop64\":\"SS_ncemi:cnc\",\"position\":\"24\",\"contentType\":\"productCard\",\"contextType\":\"widget\"},\"trackingData\":null,\"value\":{\"type\":\"ProductSummaryValue\",\"analyticsData\":{\"category\":\"Laptops\",\"subCategory\":\"Laptop\",\"superCategory\":\"LaptopAndDesktop\",\"vertical\":\"Laptop\"},\"availability\":{\"MessageIntent\":\"positive\",\"displayState\":\"IN_STOCK\",\"intent\":\"positive\",\"showMessage\":false},\"baseUrl\":\"/acer-aspire-5-core-i3-10th-gen-4-gb-32-optane-512-ssd-windows-10-home-a514-53-316m-thin-light-laptop/p/itm6252c5d487e10?pid=COMFTRPTHHYK93GH\",\"buyability\":{\"intent\":\"positive\",\"message\":null,\"showMessage\":false},\"conditionCallout\":false,\"flags\":{\"enableChat\":true,\"enableCompare\":true,\"enableFlipkartAdvantage\":true,\"enableOfferTag\":true,\"enableVisualDiscovery\":false,\"enableWishlist\":true,\"showSecondaryTitle\":true,\"swatchAvailableOnBrowsePage\":true},\"grade\":{\"color\":null,\"id\":null,\"name\":null,\"shortDesc\":null},\"id\":\"COMFTRPTHHYK93GH\",\"itemId\":\"ITM6252C5D487E10\",\"keySpecs\":[\"Intel Core i3 Processor (10th Gen)\",\"4 GB DDR4 RAM\",\"64 bit Windows 10 Operating System\",\"512 GB SSD\",\"35.56 cm (14 inch) Display\",\"Acer Care Center, Acer Configuration Manager, Quick Access, Acer Product Registration\"],\"listingId\":\"LSTCOMFTRPTHHYK93GH01REE5\",\"media\":{\"images\":[{\"aspectRatio\":null,\"contentInfo\":null,\"height\":null,\"url\":\"http://rukmini1.flixcart.com/image/{@width}/{@height}/kd7pevk0/computer/3/g/h/acer-na-thin-and-light-laptop-original-imafu5t5tghggqyz.jpeg?q={@quality}\",\"width\":null},{\"aspectRatio\":null,\"contentInfo\":null,\"height\":null,\"url\":\"http://rukmini1.flixcart.com/image/{@width}/{@height}/kd7pevk0/computer/3/g/h/acer-na-thin-and-light-laptop-original-imafu5t5tb5fshpw.jpeg?q={@quality}\",\"width\":null},{\"aspectRatio\":null,\"contentInfo\":null,\"height\":null,\"url\":\"http://rukmini1.flixcart.com/image/{@width}/{@height}/kd7pevk0/computer/3/g/h/acer-na-thin-and-light-laptop-original-imafu5t58tzw89ek.jpeg?q={@quality}\",\"width\":null},{\"aspectRatio\":null,\"contentInfo\":null,\"height\":null,\"url\":\"http://rukmini1.flixcart.com/image/{@width}/{@height}/kd7pevk0/computer/3/g/h/acer-na-thin-and-light-laptop-original-imafu5t5mbxwpapw.jpeg?q={@quality}\",\"width\":null},{\"aspectRatio\":null,\"contentInfo\":null,\"height\":null,\"url\":\"http://rukmini1.flixcart.com/image/{@width}/{@height}/kd7pevk0/computer/3/g/h/acer-na-thin-and-light-laptop-original-imafu5t5k3vkzwqf.jpeg?q={@quality}\",\"width\":null},{\"aspectRatio\":null,\"contentInfo\":null,\"height\":null,\"url\":\"http://rukmini1.flixcart.com/image/{@width}/{@height}/kd7pevk0/computer/3/g/h/acer-na-thin-and-light-laptop-original-imafu5t5xxznzxv2.jpeg?q={@quality}\",\"width\":null},{\"aspectRatio\":null,\"contentInfo\":null,\"height\":null,\"url\":\"http://rukmini1.flixcart.com/image/{@width}/{@height}/kd7pevk0/computer/3/g/h/acer-na-thin-and-light-laptop-original-imafu5t54tsdayyn.jpeg?q={@quality}\",\"width\":null},{\"aspectRatio\":null,\"contentInfo\":null,\"height\":null,\"url\":\"http://rukmini1.flixcart.com/image/{@width}/{@height}/kd7pevk0/computer/3/g/h/acer-na-thin-and-light-laptop-original-imafu5t5zgvkq956.jpeg?q={@quality}\",\"width\":null}]},\"minKeySpecs\":[\"35.56 cm (14 inch) Full HD Display\",\"1.50 kg\",\"No Optical Disk Drive\"],\"pricing\":{\"type\":\"ListingPriceValue\",\"deliveryCharge\":{\"additionalText\":null,\"currency\":\"INR\",\"decimalValue\":\"0.00\",\"discount\":null,\"downpaymentRate\":0,\"downpaymentRequired\":false,\"name\":\"Delivery Charges\",\"priceType\":null,\"strikeOff\":false,\"value\":0},\"discountAmount\":16000,\"extraDiscount\":null,\"finalPrice\":{\"additionalText\":null,\"currency\":\"INR\",\"decimalValue\":\"39999.00\",\"discount\":null,\"downpaymentRate\":0,\"downpaymentRequired\":false,\"name\":\"Total\",\"priceType\":null,\"strikeOff\":false,\"value\":39999},\"finalSavingsText\":null,\"knowMore\":null,\"mrp\":{\"additionalText\":\"(incl. of all taxes)\",\"currency\":\"INR\",\"decimalValue\":\"55999.00\",\"discount\":null,\"downpaymentRate\":0,\"downpaymentRequired\":false,\"name\":\"Maximum Retail Price\",\"priceType\":null,\"strikeOff\":true,\"value\":55999},\"partPriceInfo\":null,\"plusPriceInfo\":{\"type\":\"FormattedMessageValue\",\"data\":[{\"type\":\"FormattedRichTextData\",\"value\":{\"type\":\"RichTextValue\",\"style\":{\"color\":\"#000000\",\"fontSize\":14,\"fontStyle\":\"normal\",\"fontWeight\":\"normal\"},\"text\":\"Or Pay ₹39,899 + \"}},{\"type\":\"FormattedImageData\",\"value\":{\"type\":\"ImageValue\",\"aspectRatio\":\"1:1\",\"dynamicImageUrl\":\"https://rukminim1.flixcart.com/www/{@width}/{@height}/promos/18/07/2019/4aebbd99-7478-411e-aced-265e7722d18d.png?q={@quality}\",\"height\":0,\"width\":0}},{\"type\":\"FormattedRichTextData\",\"value\":{\"type\":\"RichTextValue\",\"style\":{\"color\":\"#000000\",\"fontSize\":14,\"fontStyle\":\"normal\",\"fontWeight\":\"normal\"},\"text\":\" 100\"}}]},\"priceDescriptions\":null,\"pricePerUnit\":null,\"priceTags\":null,\"prices\":[{\"additionalText\":null,\"currency\":\"INR\",\"decimalValue\":\"55999.00\",\"discount\":28,\"downpaymentRate\":0,\"downpaymentRequired\":false,\"name\":\"Selling Price\",\"priceType\":\"FSP\",\"strikeOff\":true,\"value\":55999},{\"additionalText\":null,\"currency\":\"INR\",\"decimalValue\":\"39999.00\",\"discount\":null,\"downpaymentRate\":0,\"downpaymentRequired\":false,\"name\":\"Special Price\",\"priceType\":\"SPECIAL_PRICE\",\"strikeOff\":false,\"value\":39999}],\"showDiscountAsAmount\":false,\"totalDiscount\":28},\"productBrand\":\"acer\",\"productCardTagDetails\":[{\"image\":{\"type\":\"ImageValue\",\"dynamicImageUrl\":\"https://rukminim1.flixcart.com/www/{@width}/{@height}/promos/21/07/2017/e8625e14-3277-4f16-a4d4-df8ed525905b.png?q={@quality}\",\"height\":0,\"width\":0},\"tagDetails\":null,\"type\":\"F_ASSURED\"}],\"rating\":{\"type\":\"RatingValue\",\"average\":4.3,\"base\":5,\"breakup\":[50,13,49,231,491],\"count\":834,\"histogramBaseCount\":491,\"reviewCount\":108},\"smartUrl\":\"http://dl.flipkart.com/dl/acer-aspire-5-core-i3-10th-gen-4-gb-32-optane-512-ssd-windows-10-home-a514-53-316m-thin-light-laptop/p/itm6252c5d487e10?pid=COMFTRPTHHYK93GH\",\"tags\":[],\"titles\":{\"subtitle\":\"14 inch, Magic Purple, 1.50 kg\",\"title\":\"acer Aspire 5 Core i3 10th Gen - (4 GB + 32 GB Optane/512 GB SSD/Windows 10 Home) A514-53-316M Thin and Light Laptop\"},\"vertical\":\"computer\",\"warrantySummary\":\"1 Year International Travelers Warranty (ITW)\"}},\"snippets\":[{\"type\":\"FormattedMessageValue\",\"data\":[{\"type\":\"FormattedRichTextData\",\"value\":{\"type\":\"RichTextValue\",\"style\":{\"color\":\"#000000\",\"fontSize\":12,\"fontStyle\":\"normal\",\"fontWeight\":\"normal\"},\"text\":\"No Cost EMI\"}}]}]}]}}},{\"slotType\":\"WIDGET\",\"id\":9,\"parentId\":10003,\"layoutParams\":{\"orientation\":\"\",\"widgetHeight\":150,\"widgetWidth\":12},\"dataId\":\"-1911322462\",\"elementId\":\"9-PAGINATION_BAR\",\"hasWidgetDataChanged\":true,\"paginatedWidget\":true,\"ttl\":3000,\"widget\":{\"type\":\"PAGINATION_BAR\",\"data\":{\"currentPage\":1,\"navigationPages\":[{\"number\":1,\"param\":\"page=1\",\"selected\":true},{\"number\":2,\"param\":\"page=2\",\"selected\":false},{\"number\":3,\"param\":\"page=3\",\"selected\":false},{\"number\":4,\"param\":\"page=4\",\"selected\":false},{\"number\":5,\"param\":\"page=5\",\"selected\":false},{\"number\":6,\"param\":\"page=6\",\"selected\":false},{\"number\":7,\"param\":\"page=7\",\"selected\":false},{\"number\":8,\"param\":\"page=8\",\"selected\":false},{\"number\":9,\"param\":\"page=9\",\"selected\":false},{\"number\":10,\"param\":\"page=10\",\"selected\":false}],\"totalPages\":31}}},{\"slotType\":\"WIDGET\",\"id\":10,\"parentId\":10003,\"layoutParams\":{\"orientation\":\"\",\"spacing\":\"10,0,0,0\",\"widgetHeight\":150,\"widgetWidth\":12},\"dataId\":\"-1166081805\",\"elementId\":\"10-FEEDBACK_WIDGET\",\"hasWidgetDataChanged\":true,\"paginatedWidget\":true,\"ttl\":3000,\"widget\":{\"type\":\"FEEDBACK_WIDGET\",\"data\":{\"answerData\":{\"positiveAnswerData\":{\"insideTextBoxMessage\":\"Please note that we may not be able to respond directly to feedback submitted through this form.\",\"showTextBox\":true,\"text\":\"We’d love to hear from you about our search experience. Your feedback will help us improve Flipkart for everyone.\",\"textBoxCharSize\":1000},\"negativeAnswerData\":{\"insideTextBoxMessage\":\"Please note that we may not be able to respond directly to feedback submitted through this form.\",\"options\":[{\"action\":null,\"metaData\":null,\"tracking\":null,\"trackingData\":null,\"value\":{\"type\":\"SelectableButtonValue\",\"buttonType\":\"DEFAULT\",\"id\":\"3\",\"selected\":false,\"title\":\"Sort/Filter option isn\\'t helpful\"}},{\"action\":null,\"metaData\":null,\"tracking\":null,\"trackingData\":null,\"value\":{\"type\":\"SelectableButtonValue\",\"buttonType\":\"DEFAULT\",\"id\":\"8\",\"selected\":false,\"title\":\"Not available on Flipkart\"}},{\"action\":null,\"metaData\":null,\"tracking\":null,\"trackingData\":null,\"value\":{\"type\":\"SelectableButtonValue\",\"buttonType\":\"DEFAULT\",\"id\":\"4\",\"selected\":false,\"title\":\"Out of stock\"}},{\"action\":null,\"metaData\":null,\"tracking\":null,\"trackingData\":null,\"value\":{\"type\":\"SelectableButtonValue\",\"buttonType\":\"DEFAULT\",\"id\":\"5\",\"selected\":false,\"title\":\"Above my budget\"}},{\"action\":null,\"metaData\":null,\"tracking\":null,\"trackingData\":null,\"value\":{\"type\":\"SelectableButtonValue\",\"buttonType\":\"DEFAULT\",\"id\":\"2\",\"selected\":false,\"title\":\"Irrelevant results\"}},{\"action\":null,\"metaData\":null,\"tracking\":null,\"trackingData\":null,\"value\":{\"type\":\"SelectableButtonValue\",\"buttonType\":\"DEFAULT\",\"id\":\"11\",\"selected\":false,\"title\":\"Cannot be delivered at my pincode\"}},{\"action\":null,\"metaData\":null,\"tracking\":null,\"trackingData\":null,\"value\":{\"type\":\"SelectableButtonValue\",\"buttonType\":\"DEFAULT\",\"id\":\"12\",\"selected\":false,\"title\":\"Not enough variety or choice\"}}],\"optionsTitle\":\"Choose an option that best describes your problem.\",\"showTextBox\":true,\"text\":\"Please share any more details around the issue. Your feedback will help us improve Flipkart for everyone.\",\"textBoxCharSize\":1000}},\"onSubmitMessage\":\"Thank you for your feedback.\",\"question\":{\"type\":\"TextValue\",\"title\":\"Did you find what you were looking for?\"},\"questionActions\":[{\"action\":null,\"metaData\":null,\"tracking\":null,\"trackingData\":null,\"value\":{\"type\":\"FeedbackWidgetButtonValue\",\"id\":\"1_Y\",\"referenceId\":\"positiveAnswerData\",\"title\":\"Yes\"}},{\"action\":null,\"metaData\":null,\"tracking\":null,\"trackingData\":null,\"value\":{\"type\":\"FeedbackWidgetButtonValue\",\"id\":\"1_N\",\"referenceId\":\"negativeAnswerData\",\"title\":\"No\"}}],\"submitButton\":{\"action\":null,\"metaData\":null,\"tracking\":null,\"trackingData\":null,\"value\":{\"type\":\"ButtonValue\",\"title\":\"Submit\"}}},\"tracking\":{\"impressionId\":\"a34ade47-0df5-4ca4-a483-0ea1f0ee37cb\",\"storePath\":\"6bo/b5g\",\"userInputQuery\":\"laptop\",\"requestType\":\"search\",\"searchQuery\":\"laptop\",\"sqid\":\"null\",\"ssid\":\"null\",\"position\":30}}}],\"10004\":[{\"slotType\":\"WIDGET\",\"id\":6,\"parentId\":10004,\"layoutParams\":{\"flexibleWidth\":true,\"orientation\":\"\",\"widgetHeight\":150,\"widgetWidth\":9},\"dataId\":\"56488601\",\"elementId\":\"6-FILTER_SORT_OPTIONS\",\"hasWidgetDataChanged\":true,\"paginatedWidget\":true,\"ttl\":3000,\"widget\":{\"type\":\"FILTER_SORT_OPTIONS\",\"data\":{\"breadCrumbs\":[{\"title\":\"Home\",\"url\":\"/\"},{\"title\":\"Computers\",\"url\":\"/computers/pr?sid=6bo&marketplace=FLIPKART\"},{\"title\":\"Laptops\",\"url\":\"/laptops/pr?sid=6bo,b5g&marketplace=FLIPKART\"}],\"hideAugmentationMessage\":false,\"productEndIndex\":24,\"productStartIndex\":1,\"query\":\"laptop\",\"sortOptions\":[{\"action\":{\"constraints\":null,\"fallback\":null,\"loginType\":\"LOGIN_NOT_REQUIRED\",\"omnitureData\":null,\"originalUrl\":null,\"params\":{\"type\":\"UPDATE\",\"value\":\"relevance\",\"key\":\"sort\"},\"requiredPermissionType\":null,\"screenType\":null,\"tracking\":{},\"type\":\"URL_UPDATE\",\"url\":null,\"validationMeta\":null},\"metaData\":null,\"tracking\":null,\"trackingData\":null,\"value\":{\"type\":\"SelectableButtonValue\",\"buttonType\":\"DEFAULT\",\"selected\":false,\"title\":\"Relevance\"}},{\"action\":{\"constraints\":null,\"fallback\":null,\"loginType\":\"LOGIN_NOT_REQUIRED\",\"omnitureData\":null,\"originalUrl\":null,\"params\":{\"type\":\"UPDATE\",\"value\":\"popularity\",\"key\":\"sort\"},\"requiredPermissionType\":null,\"screenType\":null,\"tracking\":{},\"type\":\"URL_UPDATE\",\"url\":null,\"validationMeta\":null},\"metaData\":null,\"tracking\":null,\"trackingData\":null,\"value\":{\"type\":\"SelectableButtonValue\",\"buttonType\":\"DEFAULT\",\"selected\":false,\"title\":\"Popularity\"}},{\"action\":{\"constraints\":null,\"fallback\":null,\"loginType\":\"LOGIN_NOT_REQUIRED\",\"omnitureData\":null,\"originalUrl\":null,\"params\":{\"type\":\"UPDATE\",\"value\":\"price_asc\",\"key\":\"sort\"},\"requiredPermissionType\":null,\"screenType\":null,\"tracking\":{},\"type\":\"URL_UPDATE\",\"url\":null,\"validationMeta\":null},\"metaData\":null,\"tracking\":null,\"trackingData\":null,\"value\":{\"type\":\"SelectableButtonValue\",\"buttonType\":\"DEFAULT\",\"selected\":false,\"title\":\"Price -- Low to High\"}},{\"action\":{\"constraints\":null,\"fallback\":null,\"loginType\":\"LOGIN_NOT_REQUIRED\",\"omnitureData\":null,\"originalUrl\":null,\"params\":{\"type\":\"UPDATE\",\"value\":\"price_desc\",\"key\":\"sort\"},\"requiredPermissionType\":null,\"screenType\":null,\"tracking\":{},\"type\":\"URL_UPDATE\",\"url\":null,\"validationMeta\":null},\"metaData\":null,\"tracking\":null,\"trackingData\":null,\"value\":{\"type\":\"SelectableButtonValue\",\"buttonType\":\"DEFAULT\",\"selected\":false,\"title\":\"Price -- High to Low\"}},{\"action\":{\"constraints\":null,\"fallback\":null,\"loginType\":\"LOGIN_NOT_REQUIRED\",\"omnitureData\":null,\"originalUrl\":null,\"params\":{\"type\":\"UPDATE\",\"value\":\"recency_desc\",\"key\":\"sort\"},\"requiredPermissionType\":null,\"screenType\":null,\"tracking\":{},\"type\":\"URL_UPDATE\",\"url\":null,\"validationMeta\":null},\"metaData\":null,\"tracking\":null,\"trackingData\":null,\"value\":{\"type\":\"SelectableButtonValue\",\"buttonType\":\"DEFAULT\",\"selected\":false,\"title\":\"Newest First\"}}],\"title\":\"Laptops\",\"totalProducts\":730}}}],\"ROOT\":[{\"slotType\":\"LOGICAL\",\"id\":10000,\"parentId\":0,\"childArrangement\":\"ADJACENT\"},{\"slotType\":\"WIDGET\",\"id\":12,\"parentId\":0,\"layoutParams\":{\"margin\":\"0,16,0,0\",\"orientation\":\"\",\"widgetHeight\":150,\"widgetWidth\":12},\"dataId\":\"270710886\",\"elementId\":\"12-RICH_PMU\",\"hasWidgetDataChanged\":true,\"ttl\":3000,\"widget\":{\"type\":\"RICH_PMU\",\"data\":{\"renderableComponents\":[{\"action\":{\"constraints\":null,\"fallback\":null,\"loginType\":\"LOGIN_NOT_REQUIRED\",\"omnitureData\":null,\"originalUrl\":\"/hp-14s-core-i3-11th-gen-8-gb-256-gb-ssd-windows-10-home-14s-dy2501tu-thin-light-laptop/p/itmdce0f13dd3a4e?pid=COMG2TFSNK3KRFPA&marketplace=FLIPKART\",\"params\":{\"valid\":true,\"marketplace\":\"FLIPKART\",\"pid\":\"COMG2TFSNK3KRFPA\",\"pids\":[\"COMG2TFSNK3KRFPA\"]},\"requiredPermissionType\":null,\"screenType\":\"productPage\",\"tracking\":{},\"type\":\"NAVIGATION\",\"url\":\"/hp-14s-core-i3-11th-gen-8-gb-256-gb-ssd-windows-10-home-14s-dy2501tu-thin-light-laptop/p/itmdce0f13dd3a4e?pid=COMG2TFSNK3KRFPA&marketplace=FLIPKART\",\"validationMeta\":null},\"metaData\":null,\"tracking\":null,\"trackingData\":null,\"value\":{\"type\":\"RichProductValue\",\"averageRating\":4.6,\"gradeInfo\":{\"color\":null,\"id\":null,\"name\":null,\"shortDesc\":null},\"imageUrl\":\"http://rukmini1.flixcart.com/image/{@width}/{@height}/kbqu4cw0/computer/v/r/y/hp-original-imaftyzqzbyerzgt.jpeg?q={@quality}\",\"itemId\":\"ITMDCE0F13DD3A4E\",\"keySpec\":[\"Intel Core i3 Processor (11th Gen)\",\"8 GB DDR4 RAM\",\"64 bit Windows 10 Operating System\",\"256 GB SSD\",\"35.56 cm (14 inch) Display\"],\"mostHelpful\":{\"type\":\"BaseProductReviewValue\",\"author\":\"Indranil Rooj\",\"certifiedBuyer\":true,\"created\":\"12days ago\",\"helpfulCount\":0,\"id\":\"da07f02c-43e0-44a7-b985-415124a9dc5a\",\"images\":null,\"rating\":5,\"reviewPropertyMap\":null,\"reviewTypeDisplayText\":null,\"text\":\"Best laptop within 40k. Build quality is very good and looks slim, light weighted. Good for doing office works ( Business and Student use).\",\"title\":\"Classy product\",\"totalCount\":0},\"mostRecent\":{\"type\":\"BaseProductReviewValue\",\"author\":\"Flipkart Customer\",\"certifiedBuyer\":true,\"created\":\"1day ago\",\"helpfulCount\":0,\"id\":\"90fae302-e1da-48f8-9b07-eaee283dfd95\",\"images\":null,\"rating\":5,\"reviewPropertyMap\":null,\"reviewTypeDisplayText\":null,\"text\":\"Very happy with the product 😍😍😊😊😊\",\"title\":\"Worth every penny\",\"totalCount\":0},\"pricing\":{\"type\":\"ListingPriceValueV4\",\"balancePayDate\":{\"endDate\":null,\"startDate\":null},\"currency\":\"INR\",\"deliveryCharge\":{\"name\":\"Delivery Charges\",\"priceType\":\"DELIVERY_CHARGE\",\"value\":0},\"discountAmount\":4902,\"finalPrice\":{\"name\":\"Total\",\"priceType\":\"TOTAL\",\"value\":40990},\"mrp\":{\"name\":\"Maximum Retail Price\",\"priceType\":\"MRP\",\"value\":45892},\"payLaterPrice\":null,\"payNowPrice\":null,\"plusPriceInfo\":{\"type\":\"FormattedMessageValue\",\"data\":[{\"type\":\"FormattedRichTextData\",\"value\":{\"type\":\"RichTextValue\",\"text\":\"Or Pay \"}},{\"type\":\"FormattedRichTextData\",\"value\":{\"type\":\"RichTextValue\",\"text\":\"₹40,890 + \"}},{\"type\":\"FormattedImageData\",\"value\":{\"type\":\"ImageValue\",\"aspectRatio\":\"1:1\",\"dynamicImageUrl\":\"https://rukminim1.flixcart.com/www/{@width}/{@height}/promos/18/07/2019/4aebbd99-7478-411e-aced-265e7722d18d.png?q={@quality}\",\"height\":0,\"width\":0}},{\"type\":\"FormattedRichTextData\",\"value\":{\"type\":\"RichTextValue\",\"text\":\" 100\"}}]},\"preOrderAvailable\":false,\"preOrderDiscount\":null,\"pricePerUnit\":null,\"prices\":[{\"name\":\"Selling Price\",\"priceType\":\"FSP\",\"value\":45892},{\"name\":\"Special Price\",\"priceType\":\"SPECIAL_PRICE\",\"value\":40990}],\"salePrice\":null,\"showDiscountAsAmount\":false,\"strikeOff\":true,\"totalDiscount\":10},\"productId\":\"COMG2TFSNK3KRFPA\",\"ratingHistogram\":[1,1,4,26,73],\"subTitle\":null,\"title\":\"HP 14s Core i3 11th Gen - (8 GB/256 GB SSD/Windows 10 Home) 14s- DY2501TU Thin and Light Laptop\",\"totalRatingCount\":105,\"totalReviewCount\":16}},{\"action\":{\"constraints\":null,\"fallback\":null,\"loginType\":\"LOGIN_NOT_REQUIRED\",\"omnitureData\":null,\"originalUrl\":\"/avita-cosmos-2-1-celeron-dual-core-4-gb-64-gb-emmc-storage-windows-10-home-ns12t5in025p-laptop/p/itm58dac457d1be9?pid=COMGFUP2ZXMVW77T&marketplace=FLIPKART\",\"params\":{\"valid\":true,\"marketplace\":\"FLIPKART\",\"pid\":\"COMGFUP2ZXMVW77T\",\"pids\":[\"COMGFUP2ZXMVW77T\"]},\"requiredPermissionType\":null,\"screenType\":\"productPage\",\"tracking\":{},\"type\":\"NAVIGATION\",\"url\":\"/avita-cosmos-2-1-celeron-dual-core-4-gb-64-gb-emmc-storage-windows-10-home-ns12t5in025p-laptop/p/itm58dac457d1be9?pid=COMGFUP2ZXMVW77T&marketplace=FLIPKART\",\"validationMeta\":null},\"metaData\":null,\"tracking\":null,\"trackingData\":null,\"value\":{\"type\":\"RichProductValue\",\"averageRating\":3.9,\"gradeInfo\":{\"color\":null,\"id\":null,\"name\":null,\"shortDesc\":null},\"imageUrl\":\"http://rukmini1.flixcart.com/image/{@width}/{@height}/kokdci80/computer/x/z/3/avita-original-imag2zupctgghczh.jpeg?q={@quality}\",\"itemId\":\"ITM58DAC457D1BE9\",\"keySpec\":[\"Intel Celeron Dual Core Processor\",\"4 GB DDR4 RAM\",\"64 bit Windows 10 Operating System\",\"29.46 cm (11.6 inch) Touchscreen Display\"],\"mostHelpful\":{\"type\":\"BaseProductReviewValue\",\"author\":\"Saad Saleem\",\"certifiedBuyer\":true,\"created\":\"7days ago\",\"helpfulCount\":0,\"id\":\"4cbcc208-a5d1-4213-9042-7413eca1071c\",\"images\":null,\"rating\":4,\"reviewPropertyMap\":null,\"reviewTypeDisplayText\":null,\"text\":\"Product is Very Good in this price range its handy and work flawless, touch is also very good but battery is little less, Overall product is Very Good\",\"title\":\"Value-for-money\",\"totalCount\":0},\"mostRecent\":{\"type\":\"BaseProductReviewValue\",\"author\":\"Basanta Kumar Moharana\",\"certifiedBuyer\":true,\"created\":\"2days ago\",\"helpfulCount\":0,\"id\":\"3e89e0ae-575a-4bb7-90da-f3fbfcd9b495\",\"images\":null,\"rating\":3,\"reviewPropertyMap\":null,\"reviewTypeDisplayText\":null,\"text\":\"+ Product value for money\\\\n+ Like mini Laptop\\\\n+ Use as a Tablet\\\\n+ Fast opening\\\\n+ 4GB Ram is good\\\\n+ Battery backup is good\\\\n+ Price is OK\\\\n+ Best for Travel\\\\n\\\\n- 64GB RAM- Not enough for Storage\\\\n- Camera has not satisfactory\\\\n- Only 1 USB Port\\\\n- Mini HDMI, not good\\\\n- Weight little bit high\",\"title\":\"Fair\",\"totalCount\":0},\"pricing\":{\"type\":\"ListingPriceValueV4\",\"balancePayDate\":{\"endDate\":null,\"startDate\":null},\"currency\":\"INR\",\"deliveryCharge\":{\"name\":\"Delivery Charges\",\"priceType\":\"DELIVERY_CHARGE\",\"value\":0},\"discountAmount\":5500,\"finalPrice\":{\"name\":\"Total\",\"priceType\":\"TOTAL\",\"value\":17990},\"mrp\":{\"name\":\"Maximum Retail Price\",\"priceType\":\"MRP\",\"value\":23490},\"payLaterPrice\":null,\"payNowPrice\":null,\"plusPriceInfo\":{\"type\":\"FormattedMessageValue\",\"data\":[{\"type\":\"FormattedRichTextData\",\"value\":{\"type\":\"RichTextValue\",\"text\":\"Or Pay \"}},{\"type\":\"FormattedRichTextData\",\"value\":{\"type\":\"RichTextValue\",\"text\":\"₹17,890 + \"}},{\"type\":\"FormattedImageData\",\"value\":{\"type\":\"ImageValue\",\"aspectRatio\":\"1:1\",\"dynamicImageUrl\":\"https://rukminim1.flixcart.com/www/{@width}/{@height}/promos/18/07/2019/4aebbd99-7478-411e-aced-265e7722d18d.png?q={@quality}\",\"height\":0,\"width\":0}},{\"type\":\"FormattedRichTextData\",\"value\":{\"type\":\"RichTextValue\",\"text\":\" 100\"}}]},\"preOrderAvailable\":false,\"preOrderDiscount\":null,\"pricePerUnit\":null,\"prices\":[{\"name\":\"Selling Price\",\"priceType\":\"FSP\",\"value\":23490},{\"name\":\"Special Price\",\"priceType\":\"SPECIAL_PRICE\",\"value\":17990}],\"salePrice\":null,\"showDiscountAsAmount\":false,\"strikeOff\":true,\"totalDiscount\":23},\"productId\":\"COMGFUP2ZXMVW77T\",\"ratingHistogram\":[2,1,4,8,10],\"subTitle\":null,\"title\":\"Avita Cosmos 2 in 1 Celeron Dual Core - (4 GB/64 GB EMMC Storage/Windows 10 Home) NS12T5IN025P 2 in 1 Laptop\",\"totalRatingCount\":25,\"totalReviewCount\":7}},{\"action\":{\"constraints\":null,\"fallback\":null,\"loginType\":\"LOGIN_NOT_REQUIRED\",\"omnitureData\":null,\"originalUrl\":\"/acer-predator-helios-300-core-i7-10th-gen-16-gb-1-tb-hdd-256-gb-ssd-windows-10-home-6-graphics-nvidia-geforce-rtx-3060-144-hz-ph315-53-gaming-laptop/p/itmb2022d3889ada?pid=COMGFH8KHCHZBHDQ&marketplace=FLIPKART\",\"params\":{\"valid\":true,\"marketplace\":\"FLIPKART\",\"pid\":\"COMGFH8KHCHZBHDQ\",\"pids\":[\"COMGFH8KHCHZBHDQ\"]},\"requiredPermissionType\":null,\"screenType\":\"productPage\",\"tracking\":{},\"type\":\"NAVIGATION\",\"url\":\"/acer-predator-helios-300-core-i7-10th-gen-16-gb-1-tb-hdd-256-gb-ssd-windows-10-home-6-graphics-nvidia-geforce-rtx-3060-144-hz-ph315-53-gaming-laptop/p/itmb2022d3889ada?pid=COMGFH8KHCHZBHDQ&marketplace=FLIPKART\",\"validationMeta\":null},\"metaData\":null,\"tracking\":null,\"trackingData\":null,\"value\":{\"type\":\"RichProductValue\",\"averageRating\":4.5,\"gradeInfo\":{\"color\":null,\"id\":null,\"name\":null,\"shortDesc\":null},\"imageUrl\":\"http://rukmini1.flixcart.com/image/{@width}/{@height}/kgsb1jk0/computer/f/j/g/acer-na-gaming-laptop-original-imafwxxuee4hzaq2.jpeg?q={@quality}\",\"itemId\":\"ITMB2022D3889ADA\",\"keySpec\":[\"Intel Core i7 Processor (10th Gen)\",\"16 GB DDR4 RAM\",\"64 bit Windows 10 Operating System\",\"1 TB HDD|256 GB SSD\",\"39.62 cm (15.6 inch) Display\"],\"mostHelpful\":{\"type\":\"BaseProductReviewValue\",\"author\":\"Gautam Bharadwaj\",\"certifiedBuyer\":true,\"created\":\"1month ago\",\"helpfulCount\":0,\"id\":\"d32e03d8-3de0-4366-9d79-b91be510999a\",\"images\":null,\"rating\":5,\"reviewPropertyMap\":null,\"reviewTypeDisplayText\":null,\"text\":\"An affordable beast !\\\\nPros:\\\\n1. Incredible performance, will average minimum of 60FPS on any game (except cyberpunk) at maximum settings at 1080P, even in games with ray tracing.\\\\n2. Display is very good, high refresh rate makes everything better\\\\n3. Fans are good at keeping temps down\\\\n4. Trackpad and keyboard are good\\\\nCons:\\\\n1. When the display shows something totally black, like in a loading screen, you can see the backlight bleed and prominently observe glowing patches on the screen.\\\\n2. Fans, while effective, are really really loud. Headphones are a must while gaming...\\\\n3. Especially because the speakers are sub par, they\\'re not loud, and neither do they sound good\\\\n4. Even though fans are effective at keeping cpu and GPU temps down, the laptop surface heats up quite a bit and you can feel it.\\\\n5. While 3200 Mhz DDR4 RAM is nice to have, it is running in single channel, can easily gain quite a lot more frames with upgrading ram.\\\\n6. i7 10870-H is still a good cpu and performs well in gaming, can\\'t escape the fact that it\\'s a generation older and is 14nm. Ryzen options are more powerful certainly however this chip is ample for gaming.\\\\n7. Even though the display is excellent, doesn\\'t support HDR. Would have loved HDR on this display.\\\\n8. RGB keyboard is cool but will automatically switch off backlight with 30 seconds of inactivity. Haven\\'t yet found any way to switch off this timer. Very annoying.\\\\n9. The amount of bloatware included in this laptop is truly special.\\\\n10.. Have had lots of experience with Acer and so have many people I know. Acer\\'s track record with reliability and build quality is shocking and I swore to myself never to buy another Acer\\\\n\\\\nAnd yet, for this price, the specs are fantastic and the sheer performance is enough to forget all the issues with the laptop. You\\'re buying this for the RTX 3060, make no mistake about that.\",\"title\":\"Worth every penny\",\"totalCount\":0},\"mostRecent\":{\"type\":\"BaseProductReviewValue\",\"author\":\"Flipkart Customer\",\"certifiedBuyer\":true,\"created\":\"3days ago\",\"helpfulCount\":0,\"id\":\"81d57e47-8c97-4a40-9acd-bfcc7d2bb093\",\"images\":null,\"rating\":5,\"reviewPropertyMap\":null,\"reviewTypeDisplayText\":null,\"text\":\"It has been 3 weeks since getting this thing but gotta say it\\'s served well so far.. Except the obvious average battery but that\\'s to be expected from a gaming laptop and almost no audibility from the speakers. The display is good, the keyboard with the rgb is good and it\\'s not too heavy to carry around. The design is simple yet stylish I would say and the performance is good.  Also, I learned that you could get a lot of performance improvement from running dual channel ram.. Wish it were dual to be honest. All in all, a very good laptop if you could ignore the sound and battery thing\",\"title\":\"Perfect product!\",\"totalCount\":0},\"pricing\":{\"type\":\"ListingPriceValueV4\",\"balancePayDate\":{\"endDate\":null,\"startDate\":null},\"currency\":\"INR\",\"deliveryCharge\":{\"name\":\"Delivery Charges\",\"priceType\":\"DELIVERY_CHARGE\",\"value\":0},\"discountAmount\":33009,\"finalPrice\":{\"name\":\"Total\",\"priceType\":\"TOTAL\",\"value\":116990},\"mrp\":{\"name\":\"Maximum Retail Price\",\"priceType\":\"MRP\",\"value\":149999},\"payLaterPrice\":null,\"payNowPrice\":null,\"plusPriceInfo\":{\"type\":\"FormattedMessageValue\",\"data\":[{\"type\":\"FormattedRichTextData\",\"value\":{\"type\":\"RichTextValue\",\"text\":\"Or Pay \"}},{\"type\":\"FormattedRichTextData\",\"value\":{\"type\":\"RichTextValue\",\"text\":\"₹116,890 + \"}},{\"type\":\"FormattedImageData\",\"value\":{\"type\":\"ImageValue\",\"aspectRatio\":\"1:1\",\"dynamicImageUrl\":\"https://rukminim1.flixcart.com/www/{@width}/{@height}/promos/18/07/2019/4aebbd99-7478-411e-aced-265e7722d18d.png?q={@quality}\",\"height\":0,\"width\":0}},{\"type\":\"FormattedRichTextData\",\"value\":{\"type\":\"RichTextValue\",\"text\":\" 100\"}}]},\"preOrderAvailable\":false,\"preOrderDiscount\":null,\"pricePerUnit\":null,\"prices\":[{\"name\":\"Selling Price\",\"priceType\":\"FSP\",\"value\":149999},{\"name\":\"Special Price\",\"priceType\":\"SPECIAL_PRICE\",\"value\":116990}],\"salePrice\":null,\"showDiscountAsAmount\":false,\"strikeOff\":true,\"totalDiscount\":22},\"productId\":\"COMGFH8KHCHZBHDQ\",\"ratingHistogram\":[13,4,12,51,226],\"subTitle\":null,\"title\":\"acer Predator Helios 300 Core i7 10th Gen - (16 GB/1 TB HDD/256 GB SSD/Windows 10 Home/6 GB Graphics/NVIDIA GeForce RTX 3060/144 Hz) PH315-53 Gaming Laptop\",\"totalRatingCount\":306,\"totalReviewCount\":68}},{\"action\":{\"constraints\":null,\"fallback\":null,\"loginType\":\"LOGIN_NOT_REQUIRED\",\"omnitureData\":null,\"originalUrl\":\"/hp-14s-ryzen-3-quad-core-4300u-8-gb-512-gb-ssd-windows-10-home-14s-fr0016au-thin-light-laptop/p/itma78a910d56810?pid=COMG26RVFGZGDE9D&marketplace=FLIPKART\",\"params\":{\"valid\":true,\"marketplace\":\"FLIPKART\",\"pid\":\"COMG26RVFGZGDE9D\",\"pids\":[\"COMG26RVFGZGDE9D\"]},\"requiredPermissionType\":null,\"screenType\":\"productPage\",\"tracking\":{},\"type\":\"NAVIGATION\",\"url\":\"/hp-14s-ryzen-3-quad-core-4300u-8-gb-512-gb-ssd-windows-10-home-14s-fr0016au-thin-light-laptop/p/itma78a910d56810?pid=COMG26RVFGZGDE9D&marketplace=FLIPKART\",\"validationMeta\":null},\"metaData\":null,\"tracking\":null,\"trackingData\":null,\"value\":{\"type\":\"RichProductValue\",\"averageRating\":4.4,\"gradeInfo\":{\"color\":null,\"id\":null,\"name\":null,\"shortDesc\":null},\"imageUrl\":\"http://rukmini1.flixcart.com/image/{@width}/{@height}/kgzg8sw0/computer/z/j/j/hp-14s-fr0009au-laptop-original-imafx3rhqwgwzwgy.jpeg?q={@quality}\",\"itemId\":\"ITMA78A910D56810\",\"keySpec\":[\"AMD Ryzen 3 Quad Core Processor\",\"8 GB DDR4 RAM\",\"64 bit Windows 10 Operating System\",\"512 GB SSD\",\"35.56 cm (14 inch) Display\"],\"mostHelpful\":{\"type\":\"BaseProductReviewValue\",\"author\":\"rohit vashist\",\"certifiedBuyer\":true,\"created\":\"1month ago\",\"helpfulCount\":0,\"id\":\"9ed67973-d8ab-498b-98ba-eea683e97494\",\"images\":null,\"rating\":5,\"reviewPropertyMap\":null,\"reviewTypeDisplayText\":null,\"text\":\"It\\'s a good laptop with no issue as such ! Screen is IPS good viewing angles ! Battery is decent 4-5hr easily!\\\\nBuild quality is good previously i was using HP 14s i3 11th gen, the quality was poor, though it is a good laptop when it comes to performance.\\\\nThe only issue is it\\'s VRAM which is 512mb quite low !! You can\\'t play GTA V in even 720p, which is possible in i3 11th gen which can play it in 1080p.\\\\nRest it\\'s a good piece of hardware.\",\"title\":\"Classy product\",\"totalCount\":0},\"mostRecent\":{\"type\":\"BaseProductReviewValue\",\"author\":\"Nimesh Verma\",\"certifiedBuyer\":true,\"created\":\"Today\",\"helpfulCount\":0,\"id\":\"6849e48d-d45e-46bd-93aa-3a7a2f6b2dda\",\"images\":null,\"rating\":5,\"reviewPropertyMap\":null,\"reviewTypeDisplayText\":null,\"text\":\"Laptop is nice in performance and enough fast only problem is that it get heat up on regular basis it\\'s a good value for money\",\"title\":\"Simply awesome\",\"totalCount\":0},\"pricing\":{\"type\":\"ListingPriceValueV4\",\"balancePayDate\":{\"endDate\":null,\"startDate\":null},\"currency\":\"INR\",\"deliveryCharge\":{\"name\":\"Delivery Charges\",\"priceType\":\"DELIVERY_CHARGE\",\"value\":0},\"discountAmount\":4952,\"finalPrice\":{\"name\":\"Total\",\"priceType\":\"TOTAL\",\"value\":39490},\"mrp\":{\"name\":\"Maximum Retail Price\",\"priceType\":\"MRP\",\"value\":44442},\"payLaterPrice\":null,\"payNowPrice\":null,\"plusPriceInfo\":{\"type\":\"FormattedMessageValue\",\"data\":[{\"type\":\"FormattedRichTextData\",\"value\":{\"type\":\"RichTextValue\",\"text\":\"Or Pay \"}},{\"type\":\"FormattedRichTextData\",\"value\":{\"type\":\"RichTextValue\",\"text\":\"₹39,390 + \"}},{\"type\":\"FormattedImageData\",\"value\":{\"type\":\"ImageValue\",\"aspectRatio\":\"1:1\",\"dynamicImageUrl\":\"https://rukminim1.flixcart.com/www/{@width}/{@height}/promos/18/07/2019/4aebbd99-7478-411e-aced-265e7722d18d.png?q={@quality}\",\"height\":0,\"width\":0}},{\"type\":\"FormattedRichTextData\",\"value\":{\"type\":\"RichTextValue\",\"text\":\" 100\"}}]},\"preOrderAvailable\":false,\"preOrderDiscount\":null,\"pricePerUnit\":null,\"prices\":[{\"name\":\"Selling Price\",\"priceType\":\"FSP\",\"value\":44442},{\"name\":\"Special Price\",\"priceType\":\"SPECIAL_PRICE\",\"value\":39490}],\"salePrice\":null,\"showDiscountAsAmount\":false,\"strikeOff\":true,\"totalDiscount\":11},\"productId\":\"COMG26RVFGZGDE9D\",\"ratingHistogram\":[25,8,23,180,390],\"subTitle\":null,\"title\":\"HP 14s Ryzen 3 Quad Core 4300U - (8 GB/512 GB SSD/Windows 10 Home) 14s-fr0016AU Thin and Light Laptop\",\"totalRatingCount\":626,\"totalReviewCount\":88}},{\"action\":{\"constraints\":null,\"fallback\":null,\"loginType\":\"LOGIN_NOT_REQUIRED\",\"omnitureData\":null,\"originalUrl\":\"/apple-macbook-air-m1-8-gb-256-gb-ssd-mac-os-big-sur-mgn63hn-a/p/itmde54f026889ce?pid=COMFXEKMGNHZYFH9&marketplace=FLIPKART\",\"params\":{\"valid\":true,\"marketplace\":\"FLIPKART\",\"pid\":\"COMFXEKMGNHZYFH9\",\"pids\":[\"COMFXEKMGNHZYFH9\"]},\"requiredPermissionType\":null,\"screenType\":\"productPage\",\"tracking\":{},\"type\":\"NAVIGATION\",\"url\":\"/apple-macbook-air-m1-8-gb-256-gb-ssd-mac-os-big-sur-mgn63hn-a/p/itmde54f026889ce?pid=COMFXEKMGNHZYFH9&marketplace=FLIPKART\",\"validationMeta\":null},\"metaData\":null,\"tracking\":null,\"trackingData\":null,\"value\":{\"type\":\"RichProductValue\",\"averageRating\":4.7,\"gradeInfo\":{\"color\":null,\"id\":null,\"name\":null,\"shortDesc\":null},\"imageUrl\":\"http://rukmini1.flixcart.com/image/{@width}/{@height}/khdqnbk0/computer/5/d/e/apple-original-imafxfyqkdfxqjab.jpeg?q={@quality}\",\"itemId\":\"ITMDE54F026889CE\",\"keySpec\":[\"Apple M1 Processor\",\"8 GB DDR4 RAM\",\"Mac OS Operating System\",\"256 GB SSD\",\"33.78 cm (13.3 inch) Display\"],\"mostHelpful\":{\"type\":\"BaseProductReviewValue\",\"author\":\"Abhisek Mishra\",\"certifiedBuyer\":true,\"created\":\"30days ago\",\"helpfulCount\":0,\"id\":\"60b8843a-ceeb-452d-81ec-9949034784b2\",\"images\":null,\"rating\":5,\"reviewPropertyMap\":null,\"reviewTypeDisplayText\":null,\"text\":\"At the current scenario where a proper Graphics card windows laptop is costing around 1.2 lakh at a min.\\\\nThis MacBook Air M1 is the best deal and I got it around 82k so I received the best deal.\\\\nSo we can now say Apple Laptop is cheaper in price than Windows.\",\"title\":\"Classy product\",\"totalCount\":0},\"mostRecent\":{\"type\":\"BaseProductReviewValue\",\"author\":\"Nitin Shenoy\",\"certifiedBuyer\":true,\"created\":\"Today\",\"helpfulCount\":0,\"id\":\"4a731ba0-f173-4755-aa36-666c851e96df\",\"images\":null,\"rating\":4,\"reviewPropertyMap\":null,\"reviewTypeDisplayText\":null,\"text\":\"There were a few minor scratches on the surface and the back but the overall product is amazing!\",\"title\":\"Worth the money\",\"totalCount\":0},\"pricing\":{\"type\":\"ListingPriceValueV4\",\"balancePayDate\":{\"endDate\":null,\"startDate\":null},\"currency\":\"INR\",\"deliveryCharge\":{\"name\":\"Delivery Charges\",\"priceType\":\"DELIVERY_CHARGE\",\"value\":0},\"discountAmount\":null,\"finalPrice\":{\"name\":\"Total\",\"priceType\":\"TOTAL\",\"value\":92900},\"mrp\":{\"name\":\"Maximum Retail Price\",\"priceType\":\"MRP\",\"value\":92900},\"payLaterPrice\":null,\"payNowPrice\":null,\"plusPriceInfo\":{\"type\":\"FormattedMessageValue\",\"data\":[{\"type\":\"FormattedRichTextData\",\"value\":{\"type\":\"RichTextValue\",\"text\":\"Or Pay \"}},{\"type\":\"FormattedRichTextData\",\"value\":{\"type\":\"RichTextValue\",\"text\":\"₹92,800 + \"}},{\"type\":\"FormattedImageData\",\"value\":{\"type\":\"ImageValue\",\"aspectRatio\":\"1:1\",\"dynamicImageUrl\":\"https://rukminim1.flixcart.com/www/{@width}/{@height}/promos/18/07/2019/4aebbd99-7478-411e-aced-265e7722d18d.png?q={@quality}\",\"height\":0,\"width\":0}},{\"type\":\"FormattedRichTextData\",\"value\":{\"type\":\"RichTextValue\",\"text\":\" 100\"}}]},\"preOrderAvailable\":false,\"preOrderDiscount\":null,\"pricePerUnit\":null,\"prices\":[{\"name\":\"Selling Price\",\"priceType\":\"FSP\",\"value\":92900}],\"salePrice\":null,\"showDiscountAsAmount\":false,\"strikeOff\":false,\"totalDiscount\":0},\"productId\":\"COMFXEKMGNHZYFH9\",\"ratingHistogram\":[15,4,10,52,424],\"subTitle\":null,\"title\":\"APPLE MacBook Air M1 - (8 GB/256 GB SSD/Mac OS Big Sur) MGN63HN/A\",\"totalRatingCount\":505,\"totalReviewCount\":76}}]},\"header\":{\"action\":null,\"metaData\":null,\"tracking\":null,\"trackingData\":null,\"value\":{\"type\":\"HeaderValue\",\"actionButton\":null,\"actionButtonArrowEnable\":null,\"actionButtonEnable\":null,\"actionButtonTextValue\":null,\"collapsed\":false,\"collapsible\":false,\"headerDetailsValue\":null,\"imageValue\":null,\"referenceImageValue\":null,\"showActionButton\":false,\"showHeader\":true,\"subTitleValue\":null,\"tags\":null,\"timerValue\":null,\"titleValue\":{\"type\":\"TitleValue\",\"image\":null,\"style\":null,\"text\":\"Reviews for Popular Laptops\"}}}}},{\"slotType\":\"WIDGET\",\"id\":13,\"parentId\":0,\"layoutParams\":{\"orientation\":\"\",\"widgetHeight\":150,\"widgetWidth\":12},\"dataId\":\"974934784\",\"elementId\":\"13-ANSWER_BOX\",\"hasWidgetDataChanged\":true,\"ttl\":3000,\"widget\":{\"type\":\"ANSWER_BOX\",\"data\":{\"renderableComponents\":[{\"action\":null,\"metaData\":null,\"tracking\":null,\"trackingData\":null,\"value\":{\"type\":\"AnswerBoxValue\",\"data\":[{\"title\":\"HP 15s Dual Core 3020e - (4 GB/1 TB HDD/Windows 10 Home) 15s-GY0003AU Thin and Light Laptop\",\"url\":\"/hp-15s-dual-core-3020e-4-gb-1-tb-hdd-windows-10-home-15s-gy0003au-thin-light-laptop/p/itm4b0ea73088120?pid=COMFZ2MUDVF73GDA&lid=LSTCOMFZ2MUDVF73GDADFZCZQ&marketplace=FLIPKART\",\"values\":[\"Rs. 25990\"]},{\"title\":\"acer Aspire 7 Ryzen 5 Quad Core 3550H - (8 GB/512 GB SSD/Windows 10 Home/4 GB Graphics/NVIDIA GeForce GTX 1650/60 Hz) A715-41G-R6S8 Gaming Laptop\",\"url\":\"/acer-aspire-7-ryzen-5-quad-core-3550h-8-gb-512-gb-ssd-windows-10-home-4-graphics-nvidia-geforce-gtx-1650-60-hz-a715-41g-r6s8-gaming-laptop/p/itm56e58b0c59ea3?pid=COMFUUJGMZCNJDZH&lid=LSTCOMFUUJGMZCNJDZHGUDORZ&marketplace=FLIPKART\",\"values\":[\"Rs. 49990\"]},{\"title\":\"Lenovo IdeaPad 3 Core i5 10th Gen - (8 GB/1 TB HDD/Windows 10 Home) 15IIL05 Laptop\",\"url\":\"/lenovo-ideapad-3-core-i5-10th-gen-8-gb-1-tb-hdd-windows-10-home-15iil05-laptop/p/itmbfeb76dfb98dd?pid=COMG23RKF7NBG699&lid=LSTCOMG23RKF7NBG699MDAY6Y&marketplace=FLIPKART\",\"values\":[\"Rs. 42990\"]},{\"title\":\"HP Pentium Quad Core - (8 GB/256 GB SSD/Windows 10 Home) 14s- DQ3018TU Thin and Light Laptop\",\"url\":\"/hp-pentium-quad-core-8-gb-256-gb-ssd-windows-10-home-14s-dq3018tu-thin-light-laptop/p/itmdf4e72a377e90?pid=COMG2HDWHWHHJV4E&lid=LSTCOMG2HDWHWHHJV4EU2HY7O&marketplace=FLIPKART\",\"values\":[\"Rs. 31490\"]},{\"title\":\"ASUS VivoBook 15 Core i3 10th Gen - (8 GB/1 TB HDD/Windows 10 Home) X515JA-EJ322TS Thin and Light Laptop\",\"url\":\"/asus-vivobook-15-core-i3-10th-gen-8-gb-1-tb-hdd-windows-10-home-x515ja-ej322ts-thin-light-laptop/p/itm5cd03fd1bd5bc?pid=COMFZ53SSJQYYVTY&lid=LSTCOMFZ53SSJQYYVTYERZCP9&marketplace=FLIPKART\",\"values\":[\"Rs. 37990\"]},{\"title\":\"acer Nitro 5 Ryzen 5 Hexa Core 4600H - (8 GB/1 TB HDD/256 GB SSD/Windows 10 Home/4 GB Graphics/NVIDIA GeForce GTX 1650) AN515-44-R9QA Gaming Laptop\",\"url\":\"/acer-nitro-5-ryzen-hexa-core-4600h-8-gb-1-tb-hdd-256-gb-ssd-windows-10-home-4-graphics-nvidia-geforce-gtx-1650-an515-44-r9qa-gaming-laptop/p/itm4302e2e2671a5?pid=COMFUR8X6RGZGYCJ&lid=LSTCOMFUR8X6RGZGYCJLMUQYG&marketplace=FLIPKART\",\"values\":[\"Rs. 64990\"]},{\"title\":\"HP 14s Ryzen 3 Quad Core 4300U - (8 GB/512 GB SSD/Windows 10 Home) 14s-fr0016AU Thin and Light Laptop\",\"url\":\"/hp-14s-ryzen-3-quad-core-4300u-8-gb-512-gb-ssd-windows-10-home-14s-fr0016au-thin-light-laptop/p/itma78a910d56810?pid=COMG26RVFGZGDE9D&lid=LSTCOMG26RVFGZGDE9DXGPBAY&marketplace=FLIPKART\",\"values\":[\"Rs. 39490\"]},{\"title\":\"acer Aspire 3 Core i3 11th Gen - (4 GB/256 GB SSD/Windows 10 Home) A315-58 Thin and Light Laptop\",\"url\":\"/acer-aspire-3-core-i3-11th-gen-4-gb-256-gb-ssd-windows-10-home-a315-58-thin-light-laptop/p/itmdffdc847e9fdf?pid=COMGFQ4APGXDQQ9N&lid=LSTCOMGFQ4APGXDQQ9NGN41FS&marketplace=FLIPKART\",\"values\":[\"Rs. 35990\"]},{\"title\":\"ASUS VivoBook Ultra 14 Core i5 10th Gen - (8 GB/1 TB SSD/Windows 10 Home) X413JA-EK278TS Thin and Light Laptop\",\"url\":\"/asus-vivobook-ultra-14-core-i5-10th-gen-8-gb-1-tb-ssd-windows-10-home-x413ja-ek278ts-thin-light-laptop/p/itm1f6b39aad882a?pid=COMFUXRETZHEZ85P&lid=LSTCOMFUXRETZHEZ85PRAIIDR&marketplace=FLIPKART\",\"values\":[\"Rs. 59990\"]},{\"title\":\"Avita Liber Core i5 10th Gen - (8 GB/256 GB SSD/Windows 10 Home) NS14A8INF542-CS Thin and Light Laptop\",\"url\":\"/avita-liber-core-i5-10th-gen-8-gb-256-gb-ssd-windows-10-home-ns14a8inf542-cs-thin-light-laptop/p/itmf563723051847?pid=COMFTPG2R9TXBRMU&lid=LSTCOMFTPG2R9TXBRMUGCOCJE&marketplace=FLIPKART\",\"values\":[\"Rs. 40890\"]}],\"footer\":\"This data was last updated on 2021/06/12\",\"heading\":{\"title\":\"Laptops\",\"values\":[\"Price\"]}}}]},\"header\":{\"action\":null,\"metaData\":null,\"tracking\":null,\"trackingData\":null,\"value\":{\"type\":\"HeaderValue\",\"actionButton\":null,\"actionButtonArrowEnable\":null,\"actionButtonEnable\":null,\"actionButtonTextValue\":null,\"collapsed\":false,\"collapsible\":false,\"headerDetailsValue\":null,\"imageValue\":null,\"referenceImageValue\":null,\"showActionButton\":false,\"showHeader\":true,\"subTitleValue\":null,\"tags\":null,\"timerValue\":null,\"titleValue\":{\"type\":\"TitleValue\",\"image\":null,\"style\":null,\"text\":\"Laptops Price List\"}}}}}]},\"pageNumber\":1,\"timeStamp\":1623469365807,\"prevPageType\":\"Search\",\"pageType\":\"Search\",\"reload\":false,\"fetchId\":\"a34ade47-0df5-4ca4-a483-0ea1f0ee37cb\",\"responseHeaderObject\":{\"xReqId\":\"a34ade47-0df5-4ca4-a483-0ea1f0ee37cb\",\"xParentReqId\":\"\",\"xTabId\":\"\"},\"pageData\":{\"backTTL\":30000,\"elementId\":\"page\",\"hardTTL\":2147483647,\"hasMorePages\":true,\"infinitePage\":true,\"layoutParams\":{\"orientation\":\"\"},\"pageContext\":{\"type\":\"BrowsePageContext\",\"bu\":\"BrowsePageContext\",\"snippetContext\":{\"facetMap\":{},\"layout\":\"list\",\"query\":\"laptop\",\"queryType\":\"categoryOnly\",\"storePath\":\"6bo/b5g\",\"viewType\":\"LIST_LARGE\"}},\"pageEventResponseMap\":{},\"pageHash\":\"796064226\",\"pageLevelSlots\":{},\"pageTTL\":30000,\"pageTags\":{\"tags\":[]},\"pageTitle\":\"laptop\",\"paginationContextMap\":{\"federator\":{\"FILTER_NAVIGATION\":1,\"productsOffset\":17,\"pageNumber\":1,\"FILTER_TAB\":0,\"AUGMENTATION_CARD\":0,\"INLINE_GUIDE\":0,\"MESSAGING_CARD\":0,\"SERVICEABILITY_FILTER\":0,\"ANNOUNCEMENTS_NAVIGATION\":0,\"INLINE_VISUAL_CARD\":0,\"CATEGORY_TREE\":0,\"feedbackMap\":{\"Merch_Others\":[\"9UIFLMJAK3YZ\"]},\"SERVICEABILITY_CARD\":0,\"ADS\":7,\"MERCH_CARD\":1,\"PAGINATION_BAR\":1,\"CATEGORY_VALUES\":0,\"FILTER_SORT_OPTIONS\":1,\"PRODUCT\":17,\"priceSortSlots\":[],\"redirection.store.path\":\"6bo/b5g\",\"topAds\":2,\"previousContentTypeServed\":\"Merch_Others:0\",\"CLEAR_FILTERS\":0,\"EMPTY_SEARCH\":1,\"OFFER_HEADER_CARD\":0,\"widgetOffset\":25,\"FILTER_FOOTER\":0,\"widgetStart\":24,\"store.path\":\"search.flipkart.com\",\"PLA_GROUP_CARD\":0,\"layout\":\"list\",\"COMPARE_OPTIONS\":0,\"droppedContents\":{\"skippedAdsHashSet\":[{\"listingId\":\"LSTCOMFVECHWEENJZCMIIMR6S\",\"skippedReason\":\"DEDUPE\"}]},\"INLINE_FILTER\":0,\"FILTER_VALUES\":0,\"MULTI_CONTENT_CARD\":0,\"SEARCH_FEEDBACK_CARD\":1,\"productTypeClusterStart\":25}},\"seoData\":{\"seo\":{\"alexaVerifyId\":false,\"description\":\"Laptop- Buy Products Online at Best Price in India. India\\'s Leading E-commerce Company - Free Home Delivery - All Categories | Flipkart.com\",\"googleSiteVerification\":false,\"keywords\":\"Laptop\",\"noIndexSeo\":true,\"ogTitle\":\"Laptop- Buy Products Online at Best Price in India - All Categories | Flipkart.com\",\"title\":\"Laptop- Buy Products Online at Best Price in India - All Categories | Flipkart.com\"}},\"sharedData\":{},\"trackingContext\":{\"navigationalPageName\":\"sp\",\"navigationalPageType\":\"sp\",\"pageName\":\"productListView\",\"pageType\":\"dynamic\",\"tracking\":{\"payloadID\":\"ec9d87c7-81c3-4f11-95f5-cb59981afebd\",\"storePath\":\"search.flipkart.com\",\"analyticalNodeId\":\"6002439\",\"maxProductsCount\":\"730\",\"storeId\":\"b5g\",\"loginStatus\":\"logout\",\"event118\":\"1\"}}},\"pageMeta\":{\"baseImpressionId\":\"a34ade47-0df5-4ca4-a483-0ea1f0ee37cb\",\"hasErrorWidget\":false,\"pageNotChanged\":false,\"prefetchPage\":{\"enablePrefetch\":false}},\"subPageResponse\":{},\"pageEventResponseMap\":{}},\"modal\":{\"asyncStatus\":\"INIT\",\"data\":{\"ROOT\":[]},\"pageNumber\":0,\"timeStamp\":1623332985293,\"derivedMetaData\":{}},\"tabs\":{\"asyncStatus\":\"INIT\",\"data\":{\"ROOT\":[]},\"pageNumber\":0,\"timeStamp\":1623332985293,\"derivedMetaData\":{}},\"browseMetadata\":{\"adProducts\":[{\"bannerId\":\"-1\",\"impressionId\":\"en_sO2JoGGXnEpiPv5Z0NrfZXnzIXgoc1Nrzz2qZlYj+MvBDg40KGlufhoeHesA9x2/Yb31eCDULCHyJJ//p1jWeg==\",\"responseId\":\"a34ade47-0df5-4ca4-a483-0ea1f0ee37cb\"},{\"bannerId\":\"191773632\",\"impressionId\":\"en_sO2JoGGXnEpiPv5Z0NrfZXnzIXgoc1Nrzz2qZlYj+Mt9QDzSdRhTC8bHzKYYFY/zDvavM87VloxcTguxX+ul1Q==\",\"responseId\":\"a34ade47-0df5-4ca4-a483-0ea1f0ee37cb\"},{\"bannerId\":\"-1\",\"impressionId\":\"en_sO2JoGGXnEpiPv5Z0NrfZXnzIXgoc1Nrzz2qZlYj+MsDkmvtlaZFqFUsSdvKSx2cPqwX2WL43tjduJoZKvmaDw==\",\"responseId\":\"a34ade47-0df5-4ca4-a483-0ea1f0ee37cb\"},{\"bannerId\":\"-1\",\"impressionId\":\"en_sO2JoGGXnEpiPv5Z0NrfZXnzIXgoc1Nrzz2qZlYj+MuFYZXkZRV0H6MjbxgT8Z7f8H94GmEEp82hn/939ck7zg==\",\"responseId\":\"a34ade47-0df5-4ca4-a483-0ea1f0ee37cb\"},{\"bannerId\":\"-1\",\"impressionId\":\"en_sO2JoGGXnEpiPv5Z0NrfZXnzIXgoc1Nrzz2qZlYj+MvOqst0VcWxj1vf8mFd3+Mn486o31vy0maPAaXfNiP5MQ==\",\"responseId\":\"a34ade47-0df5-4ca4-a483-0ea1f0ee37cb\"},{\"bannerId\":\"192392633\",\"impressionId\":\"en_sO2JoGGXnEpiPv5Z0NrfZXnzIXgoc1Nrzz2qZlYj+MtN+jyrtgndldRZk0i36DDE1JQlSUsuQHDsLn/+nFn8TA==\",\"responseId\":\"a34ade47-0df5-4ca4-a483-0ea1f0ee37cb\"},{\"bannerId\":\"-1\",\"impressionId\":\"en_sO2JoGGXnEpiPv5Z0NrfZXnzIXgoc1Nrzz2qZlYj+Mt58stt6av82Em04/bkPFQWUKBOAZDouLRb5VW5A+cW+Q==\",\"responseId\":\"a34ade47-0df5-4ca4-a483-0ea1f0ee37cb\"}],\"seoPagination\":{\"nextUrl\":\"/search?q=laptop&otracker=search&otracker1=search&marketplace=FLIPKART&as-show=on&as=off&page=2\"},\"productList\":[\"COMFUR8X6RGZGYCJ\",\"COMFTPG2R9TXBRMU\",\"COMFZ2MUDVF73GDA\",\"COMG2TFSNK3KRFPA\",\"COMGYCG8W3VY8SGB\",\"COMGFHGFZ7HFZSBA\",\"COMFUUJGMZCNJDZH\",\"COMGFQ4APGXDQQ9N\",\"COMFYZC5Q94CKQRV\",\"COMG23RKF7NBG699\",\"COMGFVWMZXNEDHFB\",\"COMGFAZ4WDP7UJFY\",\"COMG26RVFGZGDE9D\",\"COMFR6AAYHTCDHTG\",\"COMG2HDWHWHHJV4E\",\"COMFUXRETZHEZ85P\",\"COMGFUP2ZXMVW77T\",\"COMFZ53SSJQYYVTY\",\"COMFSFNVDXG74QXR\",\"COMGFH8KHCHZBHDQ\",\"COMFUR8XCVCMMVM2\",\"COMFXEKMGNHZYFH9\",\"COMFXZZMWZGM4MPJ\",\"COMFTRPTHHYK93GH\"],\"hasAnnoucement\":true,\"storeMetaInfo\":[{\"id\":\"6bo\",\"title\":\"Computers\",\"totalProduct\":0,\"uri\":\"/computers/pr?sid=6bo&q=laptop\"},{\"id\":\"6bo/b5g\",\"title\":\"Laptops\",\"totalProduct\":0,\"uri\":\"/laptops/pr?sid=6bo,b5g&q=laptop\",\"child\":[]}],\"q\":\"laptop\",\"totalProducts\":730,\"currentCount\":24,\"isAugmented\":false,\"breadcrumbsData\":[{\"title\":\"Home\",\"url\":\"/\"},{\"title\":\"Computers\",\"url\":\"/computers/pr?sid=6bo&marketplace=FLIPKART\"},{\"title\":\"Laptops\",\"url\":\"/laptops/pr?sid=6bo,b5g&marketplace=FLIPKART\"}],\"viewType\":\"LIST_LARGE\",\"productAnalyticsData\":{\"category\":\"Laptops\",\"subCategory\":\"Laptop\",\"superCategory\":\"LaptopAndDesktop\",\"vertical\":\"Laptop\"},\"seoSchema\":{\"@context\":\"http://schema.org\",\"@type\":\"ItemList\",\"itemListElement\":[{\"@type\":\"ListItem\",\"position\":1,\"url\":\"https://www.flipkart.com/acer-nitro-5-ryzen-hexa-core-4600h-8-gb-1-tb-hdd-256-gb-ssd-windows-10-home-4-graphics-nvidia-geforce-gtx-1650-an515-44-r9qa-gaming-laptop/p/itm4302e2e2671a5?pid=COMFUR8X6RGZGYCJ&lid=LSTCOMFUR8X6RGZGYCJLMUQYG&marketplace=FLIPKART&q=laptop&store=6bo%2Fb5g\",\"name\":\"acer Nitro 5 Ryzen 5 Hexa Core 4600H - (8 GB/1 TB HDD/256 GB SSD/Windows 10 Home/4 GB Graphics/NVIDIA GeForce GTX 1650) AN515-44-R9QA Gaming Laptop\"},{\"@type\":\"ListItem\",\"position\":2,\"url\":\"https://www.flipkart.com/avita-liber-core-i5-10th-gen-8-gb-256-gb-ssd-windows-10-home-ns14a8inf542-cs-thin-light-laptop/p/itmf563723051847?pid=COMFTPG2R9TXBRMU&lid=LSTCOMFTPG2R9TXBRMUGCOCJE&marketplace=FLIPKART&q=laptop&store=6bo%2Fb5g\",\"name\":\"Avita Liber Core i5 10th Gen - (8 GB/256 GB SSD/Windows 10 Home) NS14A8INF542-CS Thin and Light Laptop\"},{\"@type\":\"ListItem\",\"position\":3,\"url\":\"https://www.flipkart.com/hp-15s-dual-core-3020e-4-gb-1-tb-hdd-windows-10-home-15s-gy0003au-thin-light-laptop/p/itm4b0ea73088120?pid=COMFZ2MUDVF73GDA&lid=LSTCOMFZ2MUDVF73GDADFZCZQ&marketplace=FLIPKART&q=laptop&store=6bo%2Fb5g\",\"name\":\"HP 15s Dual Core 3020e - (4 GB/1 TB HDD/Windows 10 Home) 15s-GY0003AU Thin and Light Laptop\"},{\"@type\":\"ListItem\",\"position\":4,\"url\":\"https://www.flipkart.com/hp-14s-core-i3-11th-gen-8-gb-256-gb-ssd-windows-10-home-14s-dy2501tu-thin-light-laptop/p/itmdce0f13dd3a4e?pid=COMG2TFSNK3KRFPA&lid=LSTCOMG2TFSNK3KRFPAFSHCEC&marketplace=FLIPKART&q=laptop&store=6bo%2Fb5g\",\"name\":\"HP 14s Core i3 11th Gen - (8 GB/256 GB SSD/Windows 10 Home) 14s- DY2501TU Thin and Light Laptop\"},{\"@type\":\"ListItem\",\"position\":5,\"url\":\"https://www.flipkart.com/dell-inspiron-core-i3-10th-gen-8-gb-1-tb-hdd-windows-10-home-3501-laptop/p/itm14e0fb1e72e99?pid=COMGYCG8W3VY8SGB&lid=LSTCOMGYCG8W3VY8SGBZHGCHM&marketplace=FLIPKART&q=laptop&store=6bo%2Fb5g\",\"name\":\"DELL Inspiron Core i3 10th Gen - (8 GB/1 TB HDD/Windows 10 Home) Inspiron 3501 Laptop\"},{\"@type\":\"ListItem\",\"position\":6,\"url\":\"https://www.flipkart.com/hp-15s-athlon-dual-core-4-gb-1-tb-hdd-windows-10-home-15s-gy0001au-thin-light-laptop/p/itmfde60f9520336?pid=COMGFHGFZ7HFZSBA&lid=LSTCOMGFHGFZ7HFZSBAUX64XI&marketplace=FLIPKART&q=laptop&store=6bo%2Fb5g\",\"name\":\"HP 15s Athlon Dual Core - (4 GB/1 TB HDD/Windows 10 Home) 15s-GY0001AU Thin and Light Laptop\"},{\"@type\":\"ListItem\",\"position\":7,\"url\":\"https://www.flipkart.com/acer-aspire-7-ryzen-5-quad-core-3550h-8-gb-512-gb-ssd-windows-10-home-4-graphics-nvidia-geforce-gtx-1650-60-hz-a715-41g-r6s8-gaming-laptop/p/itm56e58b0c59ea3?pid=COMFUUJGMZCNJDZH&lid=LSTCOMFUUJGMZCNJDZHGUDORZ&marketplace=FLIPKART&q=laptop&store=6bo%2Fb5g\",\"name\":\"acer Aspire 7 Ryzen 5 Quad Core 3550H - (8 GB/512 GB SSD/Windows 10 Home/4 GB Graphics/NVIDIA GeForce GTX 1650/60 Hz) A715-41G-R6S8 Gaming Laptop\"},{\"@type\":\"ListItem\",\"position\":8,\"url\":\"https://www.flipkart.com/acer-aspire-3-core-i3-11th-gen-4-gb-256-gb-ssd-windows-10-home-a315-58-thin-light-laptop/p/itmdffdc847e9fdf?pid=COMGFQ4APGXDQQ9N&lid=LSTCOMGFQ4APGXDQQ9NGN41FS&marketplace=FLIPKART&q=laptop&store=6bo%2Fb5g\",\"name\":\"acer Aspire 3 Core i3 11th Gen - (4 GB/256 GB SSD/Windows 10 Home) A315-58 Thin and Light Laptop\"},{\"@type\":\"ListItem\",\"position\":9,\"url\":\"https://www.flipkart.com/msi-modern-14-core-i3-10th-gen-8-gb-512-gb-ssd-windows-10-home-b10mw-424in-laptop/p/itmdb98c6b5f1662?pid=COMFYZC5Q94CKQRV&lid=LSTCOMFYZC5Q94CKQRVGS9Q9U&marketplace=FLIPKART&q=laptop&store=6bo%2Fb5g\",\"name\":\"MSI Modern 14 Core i3 10th Gen - (8 GB/512 GB SSD/Windows 10 Home) Modern 14 B10MW-424IN Laptop\"},{\"@type\":\"ListItem\",\"position\":10,\"url\":\"https://www.flipkart.com/lenovo-ideapad-3-core-i5-10th-gen-8-gb-1-tb-hdd-windows-10-home-15iil05-laptop/p/itmbfeb76dfb98dd?pid=COMG23RKF7NBG699&lid=LSTCOMG23RKF7NBG699MDAY6Y&marketplace=FLIPKART&q=laptop&store=6bo%2Fb5g\",\"name\":\"Lenovo IdeaPad 3 Core i5 10th Gen - (8 GB/1 TB HDD/Windows 10 Home) 15IIL05 Laptop\"}]},\"sqid\":\"stl0nrm5dc0000001623469365632\",\"ssid\":\"zj6vpv25qo0000001623469365632\"},\"productPageMetadata\":{},\"lookDetailsPageMetadata\":{},\"analtyticsData\":{\"omnitureData\":{},\"omnitureEvents\":[]}},\"payments\":{\"paymentOptions\":{\"asyncStatus\":\"INIT\"},\"paymentAsyncStatus\":\"INIT\",\"selectedPaymentOption\":{\"mainOption\":\"\",\"emiCard\":\"\"},\"instrumentCheck\":{},\"payWithDetails\":{\"asyncStatus\":\"INIT\"},\"payByInstrumentType\":{\"asyncStatus\":\"INIT\"},\"emiTerms\":{\"asyncStatus\":\"INIT\"},\"emiState\":{\"selectedBank\":\"\",\"selectedBankEmiType\":\"\",\"selectedTenure\":\"\",\"selectedSection\":\"\",\"selectedSectionKey\":\"\"},\"captcha\":{\"asyncStatus\":\"INIT\"},\"emiCards\":{\"asyncStatus\":\"INIT\"},\"emiBanks\":{},\"emiTenures\":{},\"emiItemLevelBreakup\":{\"asyncStatus\":\"INIT\",\"breakup\":[],\"error\":null},\"netOptions\":{\"asyncStatus\":\"INIT\"},\"upiOptions\":{\"asyncStatus\":\"INIT\",\"upi_apps\":[]},\"upiPollState\":{\"asyncStatus\":\"INIT\"},\"upiPollInfo\":{\"asyncStatus\":\"INIT\"},\"payViaWallet\":{\"asyncStatus\":\"INIT\"},\"adjustments\":{},\"otpModes\":{\"asyncStatus\":\"INIT\"},\"otpSubmitState\":{\"asyncStatus\":\"INIT\"},\"advancePaymentBreakup\":{\"asyncStatus\":\"INIT\"},\"selectInstrument\":{\"asyncStatus\":\"INIT\"},\"errorOverlay\":{},\"emiOnSavedCards\":{},\"emi2FADetails\":{\"asyncStatus\":\"INIT\"},\"mobileWalletOptions\":{\"asyncStatus\":\"INIT\",\"wallet_apps\":[],\"preSelectedWalletId\":\"\"},\"mobileWalletOtpState\":{\"asyncStatus\":\"INIT\"},\"mobileWalletBalance\":{}},\"paymentToken\":{\"asyncStatus\":\"INIT\",\"tokenVersion\":\"v3\",\"dcId\":\"\",\"error\":null},\"pincodeData\":{\"localPincodes\":[],\"suggestions\":[],\"regionFilters\":{},\"invalid\":false,\"state\":null,\"error\":null,\"asyncStatus\":\"INIT\"},\"productBuyBack\":{\"asyncStatus\":\"INIT\"},\"productInfo\":{\"ttl\":{}},\"productPage\":{\"verifyImeiInfo\":{\"asyncStatus\":\"INIT\"},\"brandSearchInfo\":{\"asyncStatus\":\"INIT\"},\"exchangeTooltip\":{\"asyncStatus\":\"INIT\",\"data\":{\"ROOT\":[]},\"pageNumber\":0,\"timeStamp\":1623332985293,\"derivedMetaData\":{}},\"exchangeTermsInfo\":{\"asyncStatus\":\"INIT\"},\"productSimilarReco\":{\"asyncStatus\":\"INIT\"},\"productCrossVerticalReco\":{\"asyncStatus\":\"INIT\"},\"productBrowsingHistoryReco\":{\"asyncStatus\":\"INIT\"},\"productDetails\":{\"asyncStatus\":\"INIT\"},\"productActions\":{\"share\":{\"asyncStatus\":\"INIT\"}},\"productReservation\":{\"asyncStatus\":\"INIT\"},\"productLayout\":{\"asyncStatus\":\"INIT\"},\"productImage\":{\"defaultMedia\":null},\"wiggleSwatches\":{},\"productABBData\":{\"asyncStatus\":\"INIT\"},\"recommendations\":{},\"updateExchangeAnswer\":{},\"productAttachs\":{}},\"productSummary\":{},\"questionAndAnswer\":{\"pageData\":{\"asyncStatus\":\"INIT\"},\"inputValue\":{\"asyncStatus\":\"INIT\"},\"deleteAnswer\":{\"asyncStatus\":\"INIT\"},\"allAnswers\":{\"asyncStatus\":\"INIT\"},\"moreContent\":{\"asyncStatus\":\"INIT\"},\"searchQnAData\":{\"asyncStatus\":\"INIT\"}},\"ratingsAndReviews\":{\"imageReviews\":{},\"gallery\":{\"url\":\"\",\"asyncStatus\":\"INIT\",\"images\":[],\"imagePositionMap\":{},\"pageNumber\":1,\"hasMorePages\":true}},\"recentlyViewed\":{\"asyncStatus\":\"INIT\"},\"reviewPageData\":{\"asyncStatus\":\"INIT\"},\"reviewPageTitle\":{\"asyncStatus\":\"INIT\"},\"reviewsConfirmationPage\":{\"asyncStatus\":\"INIT\"},\"saalListingsData\":{\"listings\":[]},\"sale\":{\"asmData\":null,\"index\":0,\"asyncStatus\":\"INIT\",\"popup\":null,\"error\":null},\"selfServe\":{\"appContext\":{\"context\":{\"maxPageLength\":10},\"pageLoadEvents\":[]},\"deliverySlots\":{\"asyncStatus\":\"INIT\"},\"dogfoodingData\":{\"asyncStatus\":\"INIT\",\"topics\":{}},\"ifscFinderData\":{\"asyncStatus\":\"INIT\"},\"myOrders\":{\"asyncStatus\":\"INIT\"},\"myOrdersV2\":{\"asyncStatus\":\"INIT\"},\"filters\":{\"asyncStatus\":\"INIT\",\"applied\":{},\"result\":{},\"applicable\":[],\"nextCallParams\":{},\"searched\":false},\"orderAddress\":{\"asyncStatus\":\"INIT\"},\"orderCancellation\":{\"asyncStatus\":\"INIT\",\"confirmed\":false},\"orderConfirmationPage\":{\"asyncStatus\":\"INIT\"},\"orderConfirmationPagePS2\":{\"asyncStatus\":\"INIT\"},\"orderConfirmationReco\":{\"asyncStatus\":\"INIT\"},\"postOrderDetails\":{\"asyncStatus\":\"INIT\"},\"postOrderDetailsV2\":{\"asyncStatus\":\"INIT\"},\"returnAddress\":{\"asyncStatus\":\"INIT\"},\"returns\":{\"asyncStatus\":\"INIT\",\"subStatus\":\"REASON\"},\"trackOrder\":{\"data\":{},\"asyncStatus\":\"INIT\"},\"bnplData\":{\"asyncStatus\":\"INIT\"},\"subscribeUnsubscribeData\":{\"asyncStatus\":\"INIT\"},\"returnVisualState\":{\"orderedSteps\":[],\"stepVisualStates\":{\"REASON\":\"COLLAPSED\",\"PICKUP_ADDRESS\":\"COLLAPSED\",\"IMAGE_UPLOAD\":\"COLLAPSED\",\"RETURN_ACTION\":\"COLLAPSED\"}},\"returnToken\":{\"reasonToken\":null,\"addressToken\":null,\"actionsToken\":null},\"neftData\":{\"asyncStatus\":\"INIT\"},\"neftIfscFinderData\":{\"asyncStatus\":\"INIT\"},\"cancelReturnData\":{\"asyncStatus\":\"INIT\"},\"payNow\":{\"asyncStatus\":\"INIT\"},\"ndrData\":{\"asyncStatus\":\"INIT\"},\"reschedule\":{},\"addressChange\":{\"asyncStatus\":\"INIT\"},\"fileManager\":{\"files\":[],\"filesSize\":0,\"dataURLs\":[]},\"imageInstructions\":{\"asyncStatus\":\"INIT\"},\"serviceListing\":{},\"payNowPreorder\":{\"asyncStatus\":\"INIT\"},\"prexoChecks\":{\"asyncStatus\":\"INIT\"},\"issues\":{\"asyncStatus\":\"INIT\"},\"issueDetails\":{\"asyncStatus\":\"INIT\"},\"userInfo\":null,\"blobIO\":{\"asyncStatus\":\"INIT\"},\"nudges\":{\"asyncStatus\":\"INIT\",\"claimedInfo\":{\"claimed\":false},\"data\":{\"reason\":null,\"REASON_BASED\":null,\"REASON_AGNOSTIC\":null}}},\"sellerDetails\":{\"asyncStatus\":\"INIT\",\"data\":[]},\"sellersPage\":{\"asyncStatus\":\"INIT\"},\"seoMeta\":{\"isFetching\":false,\"metadata\":{\"seo\":{\"alexaVerifyId\":false,\"description\":\"Laptop- Buy Products Online at Best Price in India. India\\'s Leading E-commerce Company - Free Home Delivery - All Categories | Flipkart.com\",\"googleSiteVerification\":false,\"keywords\":\"Laptop\",\"noIndexSeo\":true,\"ogTitle\":\"Laptop- Buy Products Online at Best Price in India - All Categories | Flipkart.com\",\"title\":\"Laptop- Buy Products Online at Best Price in India - All Categories | Flipkart.com\"}},\"asyncStatus\":\"SUCCESS\",\"answerBox\":{\"type\":\"ANSWER_BOX\",\"data\":{\"renderableComponents\":[{\"action\":null,\"metaData\":null,\"tracking\":null,\"trackingData\":null,\"value\":{\"type\":\"AnswerBoxValue\",\"data\":[{\"title\":\"HP 15s Dual Core 3020e - (4 GB/1 TB HDD/Windows 10 Home) 15s-GY0003AU Thin and Light Laptop\",\"url\":\"/hp-15s-dual-core-3020e-4-gb-1-tb-hdd-windows-10-home-15s-gy0003au-thin-light-laptop/p/itm4b0ea73088120?pid=COMFZ2MUDVF73GDA&lid=LSTCOMFZ2MUDVF73GDADFZCZQ&marketplace=FLIPKART\",\"values\":[\"Rs. 25990\"]},{\"title\":\"acer Aspire 7 Ryzen 5 Quad Core 3550H - (8 GB/512 GB SSD/Windows 10 Home/4 GB Graphics/NVIDIA GeForce GTX 1650/60 Hz) A715-41G-R6S8 Gaming Laptop\",\"url\":\"/acer-aspire-7-ryzen-5-quad-core-3550h-8-gb-512-gb-ssd-windows-10-home-4-graphics-nvidia-geforce-gtx-1650-60-hz-a715-41g-r6s8-gaming-laptop/p/itm56e58b0c59ea3?pid=COMFUUJGMZCNJDZH&lid=LSTCOMFUUJGMZCNJDZHGUDORZ&marketplace=FLIPKART\",\"values\":[\"Rs. 49990\"]},{\"title\":\"Lenovo IdeaPad 3 Core i5 10th Gen - (8 GB/1 TB HDD/Windows 10 Home) 15IIL05 Laptop\",\"url\":\"/lenovo-ideapad-3-core-i5-10th-gen-8-gb-1-tb-hdd-windows-10-home-15iil05-laptop/p/itmbfeb76dfb98dd?pid=COMG23RKF7NBG699&lid=LSTCOMG23RKF7NBG699MDAY6Y&marketplace=FLIPKART\",\"values\":[\"Rs. 42990\"]},{\"title\":\"HP Pentium Quad Core - (8 GB/256 GB SSD/Windows 10 Home) 14s- DQ3018TU Thin and Light Laptop\",\"url\":\"/hp-pentium-quad-core-8-gb-256-gb-ssd-windows-10-home-14s-dq3018tu-thin-light-laptop/p/itmdf4e72a377e90?pid=COMG2HDWHWHHJV4E&lid=LSTCOMG2HDWHWHHJV4EU2HY7O&marketplace=FLIPKART\",\"values\":[\"Rs. 31490\"]},{\"title\":\"ASUS VivoBook 15 Core i3 10th Gen - (8 GB/1 TB HDD/Windows 10 Home) X515JA-EJ322TS Thin and Light Laptop\",\"url\":\"/asus-vivobook-15-core-i3-10th-gen-8-gb-1-tb-hdd-windows-10-home-x515ja-ej322ts-thin-light-laptop/p/itm5cd03fd1bd5bc?pid=COMFZ53SSJQYYVTY&lid=LSTCOMFZ53SSJQYYVTYERZCP9&marketplace=FLIPKART\",\"values\":[\"Rs. 37990\"]},{\"title\":\"acer Nitro 5 Ryzen 5 Hexa Core 4600H - (8 GB/1 TB HDD/256 GB SSD/Windows 10 Home/4 GB Graphics/NVIDIA GeForce GTX 1650) AN515-44-R9QA Gaming Laptop\",\"url\":\"/acer-nitro-5-ryzen-hexa-core-4600h-8-gb-1-tb-hdd-256-gb-ssd-windows-10-home-4-graphics-nvidia-geforce-gtx-1650-an515-44-r9qa-gaming-laptop/p/itm4302e2e2671a5?pid=COMFUR8X6RGZGYCJ&lid=LSTCOMFUR8X6RGZGYCJLMUQYG&marketplace=FLIPKART\",\"values\":[\"Rs. 64990\"]},{\"title\":\"HP 14s Ryzen 3 Quad Core 4300U - (8 GB/512 GB SSD/Windows 10 Home) 14s-fr0016AU Thin and Light Laptop\",\"url\":\"/hp-14s-ryzen-3-quad-core-4300u-8-gb-512-gb-ssd-windows-10-home-14s-fr0016au-thin-light-laptop/p/itma78a910d56810?pid=COMG26RVFGZGDE9D&lid=LSTCOMG26RVFGZGDE9DXGPBAY&marketplace=FLIPKART\",\"values\":[\"Rs. 39490\"]},{\"title\":\"acer Aspire 3 Core i3 11th Gen - (4 GB/256 GB SSD/Windows 10 Home) A315-58 Thin and Light Laptop\",\"url\":\"/acer-aspire-3-core-i3-11th-gen-4-gb-256-gb-ssd-windows-10-home-a315-58-thin-light-laptop/p/itmdffdc847e9fdf?pid=COMGFQ4APGXDQQ9N&lid=LSTCOMGFQ4APGXDQQ9NGN41FS&marketplace=FLIPKART\",\"values\":[\"Rs. 35990\"]},{\"title\":\"ASUS VivoBook Ultra 14 Core i5 10th Gen - (8 GB/1 TB SSD/Windows 10 Home) X413JA-EK278TS Thin and Light Laptop\",\"url\":\"/asus-vivobook-ultra-14-core-i5-10th-gen-8-gb-1-tb-ssd-windows-10-home-x413ja-ek278ts-thin-light-laptop/p/itm1f6b39aad882a?pid=COMFUXRETZHEZ85P&lid=LSTCOMFUXRETZHEZ85PRAIIDR&marketplace=FLIPKART\",\"values\":[\"Rs. 59990\"]},{\"title\":\"Avita Liber Core i5 10th Gen - (8 GB/256 GB SSD/Windows 10 Home) NS14A8INF542-CS Thin and Light Laptop\",\"url\":\"/avita-liber-core-i5-10th-gen-8-gb-256-gb-ssd-windows-10-home-ns14a8inf542-cs-thin-light-laptop/p/itmf563723051847?pid=COMFTPG2R9TXBRMU&lid=LSTCOMFTPG2R9TXBRMUGCOCJE&marketplace=FLIPKART\",\"values\":[\"Rs. 40890\"]}],\"footer\":\"This data was last updated on 2021/06/12\",\"heading\":{\"title\":\"Laptops\",\"values\":[\"Price\"]}}}]},\"header\":{\"action\":null,\"metaData\":null,\"tracking\":null,\"trackingData\":null,\"value\":{\"type\":\"HeaderValue\",\"actionButton\":null,\"actionButtonArrowEnable\":null,\"actionButtonEnable\":null,\"actionButtonTextValue\":null,\"collapsed\":false,\"collapsible\":false,\"headerDetailsValue\":null,\"imageValue\":null,\"referenceImageValue\":null,\"showActionButton\":false,\"showHeader\":true,\"subTitleValue\":null,\"tags\":null,\"timerValue\":null,\"titleValue\":{\"type\":\"TitleValue\",\"image\":null,\"style\":null,\"text\":\"Laptops Price List\"}}}}},\"singleReview\":{\"asyncStatus\":\"INIT\"},\"stickyBasket\":{\"data\":{}},\"subscription\":{\"asyncStatus\":\"INIT\"},\"suggestions\":{},\"surveyState\":{\"asyncStatus\":\"INIT\"},\"swatches\":{\"asyncStatus\":\"INIT\",\"productSwatchDetails\":{}},\"tooltip\":{\"id\":null},\"userState\":{\"cart\":{\"fkItems\":[],\"groceryItems\":[],\"items\":[]},\"asyncStatus\":\"SUCCESS\",\"error\":null,\"abResponse\":{\"abDataId\":1949960314,\"abExperiments\":[{\"abId\":\"03e23177\",\"appId\":\"Mapi\",\"expId\":\"GH | iOS login | Control\",\"layerName\":\"ios Login\",\"metadata\":{}},{\"abId\":\"1177c85e\",\"appId\":\"Videos\",\"expId\":\"2Grid_VHP_Test\",\"layerName\":\"Videos HomePage\",\"metadata\":{\"IsProduct\":true}},{\"abId\":\"19c054d6\",\"appId\":\"layout\",\"expId\":\"AA 5 May - Jun\",\"layerName\":\"Test Layer - AB team\",\"metadata\":{}},{\"abId\":\"1fd172f0\",\"appId\":\"sherlock\",\"expId\":\"Ranking_control_18_may\",\"layerName\":\"search-ranking\",\"metadata\":{\"rankingBucket\":\"PROD\"}},{\"abId\":\"24c69ab1\",\"appId\":\"Checkout\",\"expId\":\"GH | Search on cart page | Test\",\"layerName\":\"Cart_AoV_U2O\",\"metadata\":{\"enableSearchOnCart\":true}},{\"abId\":\"27efdcd6\",\"appId\":\"Checkout\",\"expId\":\"AA 2 May - Jun\",\"layerName\":\"Test Layer - AB Team\",\"metadata\":{}},{\"abId\":\"57b12bbb\",\"appId\":\"Mapi\",\"expId\":\"Forward Navigation Experiment Grocery\",\"layerName\":\"Supermart\",\"metadata\":{\"botto-botto-3a3a8\":\"testc-botto-dd9cc\"}},{\"abId\":\"5c819181\",\"appId\":\"Checkout\",\"expId\":\"Control - Payments Page\",\"layerName\":\"Paymets\",\"metadata\":{\"footer_banner_experiment\":2,\"COD_captcha_1\":1,\"trust_marker_experiment\":2,\"cod_captcha_2\":1,\"card_eligibility_check\":2}},{\"abId\":\"6220ddd6\",\"appId\":\"DiscJockey\",\"expId\":\"Model Explore in DJ\",\"layerName\":\"Merchandising Homepage\",\"metadata\":{\"HOMEPAGE.explore.PCTR.explorePercent\":20,\"HOMEPAGE.explore.PCVR.enabled\":false,\"HOMEPAGE.explore.PCTR.exploreConstant\":1000,\"HOMEPAGE.explore.PCTR.enabled\":true}},{\"abId\":\"6d2517b4\",\"appId\":\"sherlock\",\"expId\":\"Smart_Filter_BGM_AB\",\"layerName\":\"sherlock-experience\",\"metadata\":{\"viewRulesAbBucketName\":\"msite_mobile\",\"widgetization_msite\":true,\"smartFilterAbKey\":\"bgm_ab\"}},{\"abId\":\"807b1f61\",\"appId\":\"layout\",\"expId\":\"MMP_v0.3_Control_27May\",\"layerName\":\"Browse\",\"metadata\":{}},{\"abId\":\"840d1692\",\"appId\":\"Mapi\",\"expId\":\"GH | Android Login | Control\",\"layerName\":\"Android Login\",\"metadata\":{}},{\"abId\":\"94a4083b\",\"appId\":\"TNS\",\"expId\":\"PP_exp_layer_8\",\"layerName\":\"rto_cod\",\"metadata\":{\"ruleModel\":\"ruleModelV1\",\"tnsModel\":\"mlModelV6dot1\",\"RTO_VALIDATION_RULE\":true}},{\"abId\":\"9a7f3b3a\",\"appId\":\"Astra\",\"expId\":\"GH | Buy Now Copy Change | Test 4 - ORDER IT\",\"layerName\":\"PP CTA and Interstitial\",\"metadata\":{\"buyNowTextVariant_FLIPKART\":\"VARIANT4\"}},{\"abId\":\"a32b3629\",\"appId\":\"CRM\",\"expId\":\"BigImageFallbackTest\",\"layerName\":\"Push Notifications\",\"metadata\":{\"enableFallbackImagePN\":true}},{\"abId\":\"a73ff95e\",\"appId\":\"Checkout\",\"expId\":\"GH - Brand Warranty for Items | Test 1 without details\",\"layerName\":\"Cart_Product_Level\",\"metadata\":{\"enableBrandWarrantyCheckout_FLIPKART_msite\":true,\"enableBrandWarrantyCheckout_FLIPKART_iOS\":true,\"enableBrandWarrantyCart_FLIPKART_iOS\":true,\"enableBrandWarrantyCart_FLIPKART_msite\":true,\"enableBrandWarrantyCart_FLIPKART_Android\":true,\"enableBrandWarrantyCheckout_FLIPKART_Android\":true}},{\"abId\":\"cdcb5e04\",\"appId\":\"lockin\",\"expId\":\"CNC Variant 2\",\"layerName\":\"Loyalty page\",\"metadata\":{\"cncVariant2\":true}},{\"abId\":\"d455c14c\",\"appId\":\"CXSelfServe\",\"expId\":\"buy_again_bottom\",\"layerName\":\"PostOrderRelated\",\"metadata\":{\"buy_again_bottom\":true}},{\"abId\":\"dbdf5e92\",\"appId\":\"Checkout\",\"expId\":\"Checkout Order Summary V4 Bucket (for reverse AB)\",\"layerName\":\"os_CRO\",\"metadata\":{}},{\"abId\":\"e04ff105\",\"appId\":\"Checkout\",\"expId\":\"AOV Wall V2 for Repeat Users only - Reverse\",\"layerName\":\"SupermartTransact\",\"metadata\":{\"AOVWallV2Repeat\":true}},{\"abId\":\"e1e54ea6\",\"appId\":\"Mapi\",\"expId\":\"Similar over RnR EXP LS\",\"layerName\":\"Product\",\"metadata\":{\"lifes-produ-0fb39\":\"clone-produ-b92c7\",\"final-produ-b2f84\":\"clone-produ-1b1d2\",\"bgmhf-produ-a2a9d\":\"clone-produ-ceadf\",\"bgmhf-produ-f2720\":\"clone-produ-0fd00\",\"bgmhf-produ-e58ca\":\"clone-produ-64339\",\"layou-produ-fdffb\":\"clone-produ-26485\",\"similar_over_rnr\":true}},{\"abId\":\"e77397bf\",\"appId\":\"affordability\",\"expId\":\"Motor Aadrila\",\"layerName\":\"Insurance\",\"metadata\":{\"motor_insurance_2w.dataProvider\":\"AADRILA\",\"motor_insurance_4w.dataProvider\":\"AADRILA\"}},{\"abId\":\"f0a244e5\",\"appId\":\"Checkout\",\"expId\":\"Cart Versioning - Control\",\"layerName\":\"Cart_CRO\",\"metadata\":{\"isCartVersioningEnabled\":false}},{\"abId\":\"f21ccca6\",\"appId\":\"Astra\",\"expId\":\"GH | PP | Improving affordance of delivery SLA timer | GREEN\",\"layerName\":\"PP Product Listing info\",\"metadata\":{\"productDeliveryTimerColor\":\"#008C00\"}},{\"abId\":\"f80042d5\",\"appId\":\"ugc\",\"expId\":\"UGC2_Colln_ServiceabilityMessaging\",\"layerName\":\"UGC2\",\"metadata\":{\"showProductStateMessageOnCollectionPage\":true}},{\"abId\":\"fc7e8368\",\"appId\":\"Astra\",\"expId\":\"GOBO v2 CONTROL\",\"layerName\":\"PP Layout\",\"metadata\":{}}]},\"groceryEnabled\":true,\"locale\":\"en\",\"location\":{\"communityStore\":null,\"selectedLocation\":null},\"lockinResponse\":{\"flipkartLogoAction\":{\"constraints\":null,\"fallback\":null,\"loginType\":\"LOGIN_NOT_REQUIRED\",\"omnitureData\":null,\"originalUrl\":\"/plus\",\"params\":{\"valid\":true,\"screenName\":\"LOYALTY_PAGE\"},\"requiredPermissionType\":null,\"screenType\":\"multiWidgetPage\",\"tracking\":{},\"type\":\"NAVIGATION\",\"url\":\"/plus\",\"validationMeta\":null},\"userMembershipState\":\"NON_LOGGED_IN\"},\"tmxTransactionId\":\"4ee6a3df-19fd-4744-bebc-eda2e44e4481\",\"accountId\":null,\"asn\":null,\"firstName\":null,\"flipkartFirstUser\":false,\"isLoggedIn\":false,\"lastName\":null,\"ts\":0,\"twoFa\":false,\"omnitureInfo\":{\"additionProperties\":null,\"bucketId\":\"23\",\"ingestionEnabled\":true},\"userEmail\":null},\"winnerList\":{\"asyncStatus\":\"INIT\"},\"wishlistItemDetails\":{\"asyncStatus\":\"INIT\"},\"redeemVoucherReducer\":{\"asyncStatus\":\"INIT\"},\"apiError\":{},\"floodLights\":{\"visible\":false,\"isClickTriggered\":false},\"userAddressData\":{\"asyncStatus\":\"INIT\",\"data\":null},\"locationUpdate\":{\"asyncStatus\":\"INIT\",\"data\":{\"currentPincode\":\"\"}},\"productServiceabilityInfo\":{\"asyncStatus\":\"INIT\",\"data\":null},\"validate2Fa\":{\"asyncStatus\":\"INIT\"},\"actionViewReducer\":{\"asyncStatus\":\"INIT\"},\"notifPrefsAccordion\":{\"items\":[]},\"TravelSearchData\":{\"journeyList\":[{\"minDate\":\"2021-06-10T13:49:45.353Z\",\"journeyStartDate\":\"2021-06-11T13:49:45.353Z\",\"requestKey\":\"Fri Jun 11 2021 19:19:45 GMT+0530 (India Standard Time)\",\"origin\":{\"isDirty\":false,\"isEmpty\":true},\"dest\":{\"isDirty\":false,\"isEmpty\":true}}],\"selectedTripType\":\"ONE_WAY\",\"travellers\":{\"adult\":1,\"child\":0,\"infant\":0},\"fieldChanged\":\"EMPTY\",\"initialPrefillData\":{\"selectedTripType\":\"ONE_WAY\",\"travellers\":{\"adult\":1,\"child\":0,\"infant\":0},\"journeyList\":[{\"minDate\":\"2021-06-10T13:49:45.353Z\",\"journeyStartDate\":\"2021-06-11T13:49:45.353Z\",\"requestKey\":\"Fri Jun 11 2021 19:19:45 GMT+0530 (India Standard Time)\",\"origin\":{\"isDirty\":false,\"isEmpty\":true},\"dest\":{\"isDirty\":false,\"isEmpty\":true}}]}},\"TravelSearchValidation\":{\"isValid\":false},\"FareCalendarData\":{\"asyncStatus\":\"INIT\"},\"cityAutoSuggestion\":{},\"sectionSlotData\":{\"activeIndex\":0,\"sectionMetaData\":[]},\"wiggleValidationData\":{\"wiggleData\":{}},\"cbcApplyReducer\":{\"asyncStatus\":\"INIT\"}};</script><script nonce=\"7465248350888727863\">window.__BUNDLE_IDS__ = {\"children\":[{\"id\":\"navMenu\"}]};</script><script nonce=\"7465248350888727863\">window.omniture={tpv:[],tl:[]};window.omniture.trackPageView=function(){window.omniture.tpv.push(arguments)};window.omniture.trackLink=function(){window.omniture.tl.push(arguments)}\\n\\n    if(window.location.host === \\'www.flipkart.com\\' || /\\\\.store\\\\.flipkart\\\\.com/i.test(window.location.host)){\\n        window.s_account = \"flipkart-prd\"; //omniture account id\\n    }else{\\n        window.s_account = \"flipkart-prd-test\";\\n    }\\n    window.s_isDesktop = true;</script><script nonce=\"7465248350888727863\">if (\\'serviceWorker\\' in navigator && navigator.userAgent.indexOf(\"Mobile\") === -1) {\\n\\t\\tnavigator.serviceWorker.register(\\'/sw.js\\').then(function(registration) {\\n\\t\\t\\tconsole.log(\\'ServiceWorker registration successful with scope: \\', registration.scope);\\n\\t\\t\\tnavigator.onLine && navigator.serviceWorker.controller && navigator.serviceWorker.controller.postMessage(\\'BANDWIDTH_COMPUTE\\');\\n\\t\\t\\tnavigator.serviceWorker.addEventListener(\\'message\\', function (event) {\\n\\t\\t\\t\\ttry {\\n\\t\\t\\t\\t\\tconst bandwidthData = JSON.parse(event.data);\\n\\t\\t\\t\\t\\tif (bandwidthData && bandwidthData.data) {\\n\\t\\t\\t\\t\\t\\twindow.bandwidth = bandwidthData.data.downlink + \\'_\\' + bandwidthData.data.computeMethod + \\'_\\' + bandwidthData.data.effectiveType + \\'_\\' + bandwidthData.data.type;\\n\\t\\t\\t\\t\\t}\\n\\t\\t\\t\\t}catch(err) {\\n\\t\\t\\t\\t\\tconsole.error(\\'JSON.parse failed:\\', err);\\n\\t\\t\\t\\t}\\n\\t\\t\\t});\\n\\t\\t})\\n\\t\\t.catch(function(err) {\\n\\t\\t\\tconsole.error(\\'ServiceWorker registration failed: \\', err);\\n\\t\\t});\\n\\t} else if(\\'serviceWorker\\' in navigator && navigator.userAgent.indexOf(\"Mobile\") > -1){\\n        navigator.serviceWorker.getRegistration().then(function(registration) {\\n            var serviceWorkerUnregistered=false;\\n            if(registration) {\\n                registration.unregister();\\n                serviceWorkerUnregistered=true;\\n            }\\n            serviceWorkerUnregistered && window.location.reload();\\n        });\\n    }\\n\\n</script><script src=\"//static-assets-web.flixcart.com/www/linchpin/fk-cp-zion/js/raven.3.22.3.js\" nonce=\"7465248350888727863\"></script><script nonce=\"7465248350888727863\">window.Raven && window.Raven.config(\\'https://b2fe488e344a47eda53b8d306edec9b7@sentry.flipkart.com/2\\',{\\n\\t\\trelease: \\'4.39.1\\',\\n\\t\\twhitelistUrls: [\\n\\t\\t\\t/flipkart\\\\.com/,\\n\\t\\t\\t/flixcart\\\\.com/\\n\\t\\t],\\n\\t\\tignoreErrors: [\\n\\t\\t\\t// Random plugins/extensions\\n\\t\\t\\t\\'top.GLOBALS\\',\\n\\t\\t\\t// See: http://blog.errorception.com/2012/03/tale-of-unfindable-js-error.html\\n\\t\\t\\t\\'originalCreateNotification\\',\\n\\t\\t\\t\\'canvas.contentDocument\\',\\n\\t\\t\\t\\'MyApp_RemoveAllHighlights\\',\\n\\t\\t\\t\\'atomicFindClose\\',\\n\\t\\t\\t// Facebook borked\\n\\t\\t\\t\\'fb_xd_fragment\\',\\n\\t\\t\\t// ISP \"optimizing\" proxy - `Cache-Control: no-transform` seems to reduce this. (thanks @acdha)\\n\\t\\t\\t// See http://stackoverflow.com/questions/4113268/how-to-stop-javascript-injection-from-vodafone-proxy\\n\\t\\t\\t\\'bmi_SafeAddOnload\\',\\n\\t\\t\\t\\'EBCallBackMessageReceived\\',\\n\\t\\t\\t\\'failed to fetch\\'\\n\\t\\t],\\n\\t\\tignoreUrls: [\\n\\t\\t\\t// Facebook flakiness\\n\\t\\t\\t/graph\\\\.facebook\\\\.com/i,\\n\\t\\t\\t// Facebook blocked\\n\\t\\t\\t/connect\\\\.facebook\\\\.net\\\\/en_US\\\\/all\\\\.js/i,\\n\\t\\t\\t// Chrome extensions\\n\\t\\t\\t/extensions\\\\//i,\\n\\t\\t\\t/^chrome:\\\\/\\\\//i\\n\\t\\t],\\n\\t\\tsanitizeKeys: [\\'nsid\\', \\'secureToken\\', \\'SN\\'],\\n\\t\\tenvironment: \\'production\\',\\n\\t\\tsampleRate: 0.5\\n\\t}).install();\\n\\twindow.Raven && window.Raven.setUserContext({\\n\\t\\taccountId: \\'\\'\\n\\t});</script><script src=\"//static-assets-web.flixcart.com/www/linchpin/batman-returns/omni/omni16.js\" defer=\"defer\" async nonce=\"7465248350888727863\" id=\"omni_script\"></script>  <script nonce=\"7465248350888727863\">window._pxAppId = \\'PXgNtTli3A\\';</script><script nonce=\"7465248350888727863\" src=\"//static-assets-web.flixcart.com/px/gNtTli3A/init.js\" async></script></body></html>'"
      ]
     },
     "execution_count": 4,
     "metadata": {},
     "output_type": "execute_result"
    }
   ],
   "source": [
    "page_content=laptop_page.text\n",
    "page_content"
   ]
  },
  {
   "cell_type": "code",
   "execution_count": 6,
   "id": "5052704f",
   "metadata": {},
   "outputs": [
    {
     "data": {
      "text/plain": [
       "str"
      ]
     },
     "execution_count": 6,
     "metadata": {},
     "output_type": "execute_result"
    }
   ],
   "source": [
    "type(page_content)"
   ]
  },
  {
   "cell_type": "code",
   "execution_count": 5,
   "id": "2eda7242",
   "metadata": {},
   "outputs": [],
   "source": [
    "soup=BeautifulSoup(page_content)"
   ]
  },
  {
   "cell_type": "code",
   "execution_count": 9,
   "id": "49571fda",
   "metadata": {},
   "outputs": [
    {
     "data": {
      "text/plain": [
       "<div class=\"_4rR01T\">acer Nitro 5 Ryzen 5 Hexa Core 4600H - (8 GB/1 TB HDD/256 GB SSD/Windows 10 Home/4 GB Graphics/NVIDIA ...</div>"
      ]
     },
     "execution_count": 9,
     "metadata": {},
     "output_type": "execute_result"
    }
   ],
   "source": [
    "soup.find('div',attrs={'class':'_4rR01T'})"
   ]
  },
  {
   "cell_type": "code",
   "execution_count": 10,
   "id": "d3872027",
   "metadata": {},
   "outputs": [
    {
     "data": {
      "text/plain": [
       "[<div class=\"_4rR01T\">acer Nitro 5 Ryzen 5 Hexa Core 4600H - (8 GB/1 TB HDD/256 GB SSD/Windows 10 Home/4 GB Graphics/NVIDIA ...</div>,\n",
       " <div class=\"_4rR01T\">Avita Liber Core i5 10th Gen - (8 GB/256 GB SSD/Windows 10 Home) NS14A8INF542-CS Thin and Light Laptop</div>,\n",
       " <div class=\"_4rR01T\">HP 15s Dual Core 3020e - (4 GB/1 TB HDD/Windows 10 Home) 15s-GY0003AU Thin and Light Laptop</div>,\n",
       " <div class=\"_4rR01T\">HP 14s Core i3 11th Gen - (8 GB/256 GB SSD/Windows 10 Home) 14s- DY2501TU Thin and Light Laptop</div>,\n",
       " <div class=\"_4rR01T\">DELL Inspiron Core i3 10th Gen - (8 GB/1 TB HDD/Windows 10 Home) Inspiron 3501 Laptop</div>,\n",
       " <div class=\"_4rR01T\">HP 15s Athlon Dual Core - (4 GB/1 TB HDD/Windows 10 Home) 15s-GY0001AU Thin and Light Laptop</div>,\n",
       " <div class=\"_4rR01T\">acer Aspire 7 Ryzen 5 Quad Core 3550H - (8 GB/512 GB SSD/Windows 10 Home/4 GB Graphics/NVIDIA GeForce ...</div>,\n",
       " <div class=\"_4rR01T\">acer Aspire 3 Core i3 11th Gen - (4 GB/256 GB SSD/Windows 10 Home) A315-58 Thin and Light Laptop</div>,\n",
       " <div class=\"_4rR01T\">MSI Modern 14 Core i3 10th Gen - (8 GB/512 GB SSD/Windows 10 Home) Modern 14 B10MW-424IN Laptop</div>,\n",
       " <div class=\"_4rR01T\">Lenovo IdeaPad 3 Core i5 10th Gen - (8 GB/1 TB HDD/Windows 10 Home) 15IIL05 Laptop</div>,\n",
       " <div class=\"_4rR01T\">ASUS TUF Gaming F15 Core i5 10th Gen - (8 GB/512 GB SSD/Windows 10 Home/4 GB Graphics/NVIDIA GeForce G...</div>,\n",
       " <div class=\"_4rR01T\">acer Aspire 5 Core i3 11th Gen - (4 GB/1 TB HDD/Windows 10 Home) A515-56 Thin and Light Laptop</div>,\n",
       " <div class=\"_4rR01T\">HP 14s Ryzen 3 Quad Core 4300U - (8 GB/512 GB SSD/Windows 10 Home) 14s-fr0016AU Thin and Light Laptop</div>,\n",
       " <div class=\"_4rR01T\">acer Aspire 7 Core i5 9th Gen - (8 GB/512 GB SSD/Windows 10 Home/4 GB Graphics/NVIDIA GeForce GTX 1650...</div>,\n",
       " <div class=\"_4rR01T\">HP Pentium Quad Core - (8 GB/256 GB SSD/Windows 10 Home) 14s- DQ3018TU Thin and Light Laptop</div>,\n",
       " <div class=\"_4rR01T\">ASUS VivoBook Ultra 14 Core i5 10th Gen - (8 GB/1 TB SSD/Windows 10 Home) X413JA-EK278TS Thin and Ligh...</div>,\n",
       " <div class=\"_4rR01T\">Avita Cosmos 2 in 1 Celeron Dual Core - (4 GB/64 GB EMMC Storage/Windows 10 Home) NS12T5IN025P 2 in 1 ...</div>,\n",
       " <div class=\"_4rR01T\">ASUS VivoBook 15 Core i3 10th Gen - (8 GB/1 TB HDD/Windows 10 Home) X515JA-EJ322TS Thin and Light Lapt...</div>,\n",
       " <div class=\"_4rR01T\">HP Pavilion Gaming Ryzen 5 Quad Core 3550H - (8 GB/1 TB HDD/Windows 10 Home/4 GB Graphics/NVIDIA GeFor...</div>,\n",
       " <div class=\"_4rR01T\">acer Predator Helios 300 Core i7 10th Gen - (16 GB/1 TB HDD/256 GB SSD/Windows 10 Home/6 GB Graphics/N...</div>,\n",
       " <div class=\"_4rR01T\">MSI GF63 Thin Core i5 9th Gen - (8 GB/512 GB SSD/Windows 10 Home/4 GB Graphics/NVIDIA GeForce GTX 1650...</div>,\n",
       " <div class=\"_4rR01T\">APPLE MacBook Air M1 - (8 GB/256 GB SSD/Mac OS Big Sur) MGN63HN/A</div>,\n",
       " <div class=\"_4rR01T\">Lenovo Legion Y540 Core i5 9th Gen - (8 GB/1 TB HDD/256 GB SSD/Windows 10 Home/4 GB Graphics/NVIDIA Ge...</div>,\n",
       " <div class=\"_4rR01T\">acer Aspire 5 Core i3 10th Gen - (4 GB + 32 GB Optane/512 GB SSD/Windows 10 Home) A514-53-316M Thin an...</div>]"
      ]
     },
     "execution_count": 10,
     "metadata": {},
     "output_type": "execute_result"
    }
   ],
   "source": [
    "soup.find_all('div',attrs={'class':'_4rR01T'})"
   ]
  },
  {
   "cell_type": "markdown",
   "id": "e46d9a5b",
   "metadata": {},
   "source": [
    "## Data Cleaning"
   ]
  },
  {
   "cell_type": "code",
   "execution_count": 11,
   "id": "e1c5e871",
   "metadata": {},
   "outputs": [],
   "source": [
    "clean_laptop_name=[]\n",
    "for x in soup.find_all('div',attrs={'class':'_4rR01T'}):\n",
    "    clean_laptop_name.append(x.text)"
   ]
  },
  {
   "cell_type": "code",
   "execution_count": 12,
   "id": "5188f29a",
   "metadata": {},
   "outputs": [
    {
     "data": {
      "text/plain": [
       "['acer Nitro 5 Ryzen 5 Hexa Core 4600H - (8 GB/1 TB HDD/256 GB SSD/Windows 10 Home/4 GB Graphics/NVIDIA ...',\n",
       " 'Avita Liber Core i5 10th Gen - (8 GB/256 GB SSD/Windows 10 Home) NS14A8INF542-CS Thin and Light Laptop',\n",
       " 'HP 15s Dual Core 3020e - (4 GB/1 TB HDD/Windows 10 Home) 15s-GY0003AU Thin and Light Laptop',\n",
       " 'HP 14s Core i3 11th Gen - (8 GB/256 GB SSD/Windows 10 Home) 14s- DY2501TU Thin and Light Laptop',\n",
       " 'DELL Inspiron Core i3 10th Gen - (8 GB/1 TB HDD/Windows 10 Home) Inspiron 3501 Laptop',\n",
       " 'HP 15s Athlon Dual Core - (4 GB/1 TB HDD/Windows 10 Home) 15s-GY0001AU Thin and Light Laptop',\n",
       " 'acer Aspire 7 Ryzen 5 Quad Core 3550H - (8 GB/512 GB SSD/Windows 10 Home/4 GB Graphics/NVIDIA GeForce ...',\n",
       " 'acer Aspire 3 Core i3 11th Gen - (4 GB/256 GB SSD/Windows 10 Home) A315-58 Thin and Light Laptop',\n",
       " 'MSI Modern 14 Core i3 10th Gen - (8 GB/512 GB SSD/Windows 10 Home) Modern 14 B10MW-424IN Laptop',\n",
       " 'Lenovo IdeaPad 3 Core i5 10th Gen - (8 GB/1 TB HDD/Windows 10 Home) 15IIL05 Laptop',\n",
       " 'ASUS TUF Gaming F15 Core i5 10th Gen - (8 GB/512 GB SSD/Windows 10 Home/4 GB Graphics/NVIDIA GeForce G...',\n",
       " 'acer Aspire 5 Core i3 11th Gen - (4 GB/1 TB HDD/Windows 10 Home) A515-56 Thin and Light Laptop',\n",
       " 'HP 14s Ryzen 3 Quad Core 4300U - (8 GB/512 GB SSD/Windows 10 Home) 14s-fr0016AU Thin and Light Laptop',\n",
       " 'acer Aspire 7 Core i5 9th Gen - (8 GB/512 GB SSD/Windows 10 Home/4 GB Graphics/NVIDIA GeForce GTX 1650...',\n",
       " 'HP Pentium Quad Core - (8 GB/256 GB SSD/Windows 10 Home) 14s- DQ3018TU Thin and Light Laptop',\n",
       " 'ASUS VivoBook Ultra 14 Core i5 10th Gen - (8 GB/1 TB SSD/Windows 10 Home) X413JA-EK278TS Thin and Ligh...',\n",
       " 'Avita Cosmos 2 in 1 Celeron Dual Core - (4 GB/64 GB EMMC Storage/Windows 10 Home) NS12T5IN025P 2 in 1 ...',\n",
       " 'ASUS VivoBook 15 Core i3 10th Gen - (8 GB/1 TB HDD/Windows 10 Home) X515JA-EJ322TS Thin and Light Lapt...',\n",
       " 'HP Pavilion Gaming Ryzen 5 Quad Core 3550H - (8 GB/1 TB HDD/Windows 10 Home/4 GB Graphics/NVIDIA GeFor...',\n",
       " 'acer Predator Helios 300 Core i7 10th Gen - (16 GB/1 TB HDD/256 GB SSD/Windows 10 Home/6 GB Graphics/N...',\n",
       " 'MSI GF63 Thin Core i5 9th Gen - (8 GB/512 GB SSD/Windows 10 Home/4 GB Graphics/NVIDIA GeForce GTX 1650...',\n",
       " 'APPLE MacBook Air M1 - (8 GB/256 GB SSD/Mac OS Big Sur) MGN63HN/A',\n",
       " 'Lenovo Legion Y540 Core i5 9th Gen - (8 GB/1 TB HDD/256 GB SSD/Windows 10 Home/4 GB Graphics/NVIDIA Ge...',\n",
       " 'acer Aspire 5 Core i3 10th Gen - (4 GB + 32 GB Optane/512 GB SSD/Windows 10 Home) A514-53-316M Thin an...']"
      ]
     },
     "execution_count": 12,
     "metadata": {},
     "output_type": "execute_result"
    }
   ],
   "source": [
    "clean_laptop_name"
   ]
  },
  {
   "cell_type": "markdown",
   "id": "ef8d3346",
   "metadata": {},
   "source": [
    "## This is just one page, now extract atleast 25 pages of Laptop"
   ]
  },
  {
   "cell_type": "markdown",
   "id": "36384f33",
   "metadata": {},
   "source": [
    "### url's of 25 pages"
   ]
  },
  {
   "cell_type": "code",
   "execution_count": 13,
   "id": "003ed9dc",
   "metadata": {},
   "outputs": [
    {
     "name": "stdout",
     "output_type": "stream",
     "text": [
      "https://www.flipkart.com/search?q=laptop&otracker=search&otracker1=search&marketplace=FLIPKART&as-show=on&as=off&page=0\n",
      "https://www.flipkart.com/search?q=laptop&otracker=search&otracker1=search&marketplace=FLIPKART&as-show=on&as=off&page=1\n",
      "https://www.flipkart.com/search?q=laptop&otracker=search&otracker1=search&marketplace=FLIPKART&as-show=on&as=off&page=2\n",
      "https://www.flipkart.com/search?q=laptop&otracker=search&otracker1=search&marketplace=FLIPKART&as-show=on&as=off&page=3\n",
      "https://www.flipkart.com/search?q=laptop&otracker=search&otracker1=search&marketplace=FLIPKART&as-show=on&as=off&page=4\n",
      "https://www.flipkart.com/search?q=laptop&otracker=search&otracker1=search&marketplace=FLIPKART&as-show=on&as=off&page=5\n",
      "https://www.flipkart.com/search?q=laptop&otracker=search&otracker1=search&marketplace=FLIPKART&as-show=on&as=off&page=6\n",
      "https://www.flipkart.com/search?q=laptop&otracker=search&otracker1=search&marketplace=FLIPKART&as-show=on&as=off&page=7\n",
      "https://www.flipkart.com/search?q=laptop&otracker=search&otracker1=search&marketplace=FLIPKART&as-show=on&as=off&page=8\n",
      "https://www.flipkart.com/search?q=laptop&otracker=search&otracker1=search&marketplace=FLIPKART&as-show=on&as=off&page=9\n",
      "https://www.flipkart.com/search?q=laptop&otracker=search&otracker1=search&marketplace=FLIPKART&as-show=on&as=off&page=10\n",
      "https://www.flipkart.com/search?q=laptop&otracker=search&otracker1=search&marketplace=FLIPKART&as-show=on&as=off&page=11\n",
      "https://www.flipkart.com/search?q=laptop&otracker=search&otracker1=search&marketplace=FLIPKART&as-show=on&as=off&page=12\n",
      "https://www.flipkart.com/search?q=laptop&otracker=search&otracker1=search&marketplace=FLIPKART&as-show=on&as=off&page=13\n",
      "https://www.flipkart.com/search?q=laptop&otracker=search&otracker1=search&marketplace=FLIPKART&as-show=on&as=off&page=14\n",
      "https://www.flipkart.com/search?q=laptop&otracker=search&otracker1=search&marketplace=FLIPKART&as-show=on&as=off&page=15\n",
      "https://www.flipkart.com/search?q=laptop&otracker=search&otracker1=search&marketplace=FLIPKART&as-show=on&as=off&page=16\n",
      "https://www.flipkart.com/search?q=laptop&otracker=search&otracker1=search&marketplace=FLIPKART&as-show=on&as=off&page=17\n",
      "https://www.flipkart.com/search?q=laptop&otracker=search&otracker1=search&marketplace=FLIPKART&as-show=on&as=off&page=18\n",
      "https://www.flipkart.com/search?q=laptop&otracker=search&otracker1=search&marketplace=FLIPKART&as-show=on&as=off&page=19\n",
      "https://www.flipkart.com/search?q=laptop&otracker=search&otracker1=search&marketplace=FLIPKART&as-show=on&as=off&page=20\n",
      "https://www.flipkart.com/search?q=laptop&otracker=search&otracker1=search&marketplace=FLIPKART&as-show=on&as=off&page=21\n",
      "https://www.flipkart.com/search?q=laptop&otracker=search&otracker1=search&marketplace=FLIPKART&as-show=on&as=off&page=22\n",
      "https://www.flipkart.com/search?q=laptop&otracker=search&otracker1=search&marketplace=FLIPKART&as-show=on&as=off&page=23\n",
      "https://www.flipkart.com/search?q=laptop&otracker=search&otracker1=search&marketplace=FLIPKART&as-show=on&as=off&page=24\n"
     ]
    }
   ],
   "source": [
    "for i in range(25):\n",
    "    url=f'https://www.flipkart.com/search?q=laptop&otracker=search&otracker1=search&marketplace=FLIPKART&as-show=on&as=off&page={i}'\n",
    "    print(url)"
   ]
  },
  {
   "cell_type": "markdown",
   "id": "15d48e69",
   "metadata": {},
   "source": [
    "## Converting web scraping into web crawling( mimic webcrawling not a actual spider )\n",
    "## Extracting a content from multiple pages"
   ]
  },
  {
   "cell_type": "code",
   "execution_count": 22,
   "id": "bb59a594",
   "metadata": {},
   "outputs": [],
   "source": [
    "product_name=[]\n",
    "page_number= []\n",
    "for i in range(25):\n",
    "    url=f'https://www.flipkart.com/search?q=laptop&otracker=search&otracker1=search&marketplace=FLIPKART&as-show=on&as=off&page={i}'\n",
    "    response=requests.get(url)\n",
    "    content=response.text\n",
    "    soup=BeautifulSoup(content)\n",
    "    \n",
    "    for x in soup.find_all('div',attrs={'class':'_4rR01T'}):\n",
    "        product_name.append(x.text)\n",
    "        page_number.append(i)"
   ]
  },
  {
   "cell_type": "code",
   "execution_count": 25,
   "id": "1ffc1892",
   "metadata": {},
   "outputs": [],
   "source": [
    "data={'Product_Name':product_name,'Page_num':page_number}\n",
    "data=pd.DataFrame(data)"
   ]
  },
  {
   "cell_type": "code",
   "execution_count": 26,
   "id": "703aaabb",
   "metadata": {},
   "outputs": [
    {
     "data": {
      "text/html": [
       "<div>\n",
       "<style scoped>\n",
       "    .dataframe tbody tr th:only-of-type {\n",
       "        vertical-align: middle;\n",
       "    }\n",
       "\n",
       "    .dataframe tbody tr th {\n",
       "        vertical-align: top;\n",
       "    }\n",
       "\n",
       "    .dataframe thead th {\n",
       "        text-align: right;\n",
       "    }\n",
       "</style>\n",
       "<table border=\"1\" class=\"dataframe\">\n",
       "  <thead>\n",
       "    <tr style=\"text-align: right;\">\n",
       "      <th></th>\n",
       "      <th>Product_Name</th>\n",
       "      <th>Page_num</th>\n",
       "    </tr>\n",
       "  </thead>\n",
       "  <tbody>\n",
       "    <tr>\n",
       "      <th>0</th>\n",
       "      <td>HP 15s Dual Core 3020e - (4 GB/1 TB HDD/Window...</td>\n",
       "      <td>0</td>\n",
       "    </tr>\n",
       "    <tr>\n",
       "      <th>1</th>\n",
       "      <td>HP 14s Core i3 11th Gen - (8 GB/256 GB SSD/Win...</td>\n",
       "      <td>0</td>\n",
       "    </tr>\n",
       "    <tr>\n",
       "      <th>2</th>\n",
       "      <td>acer Aspire 7 Ryzen 5 Quad Core 3550H - (8 GB/...</td>\n",
       "      <td>0</td>\n",
       "    </tr>\n",
       "    <tr>\n",
       "      <th>3</th>\n",
       "      <td>acer Predator Helios 300 Core i7 10th Gen - (1...</td>\n",
       "      <td>0</td>\n",
       "    </tr>\n",
       "    <tr>\n",
       "      <th>4</th>\n",
       "      <td>DELL Inspiron Core i3 10th Gen - (8 GB/1 TB HD...</td>\n",
       "      <td>0</td>\n",
       "    </tr>\n",
       "    <tr>\n",
       "      <th>...</th>\n",
       "      <td>...</td>\n",
       "      <td>...</td>\n",
       "    </tr>\n",
       "    <tr>\n",
       "      <th>523</th>\n",
       "      <td>acer Nitro 5 Ryzen 5 Hexa Core 4600H - (8 GB/1...</td>\n",
       "      <td>24</td>\n",
       "    </tr>\n",
       "    <tr>\n",
       "      <th>524</th>\n",
       "      <td>HP Pavilion Gaming Ryzen 5 Hexa Core 4600H - (...</td>\n",
       "      <td>24</td>\n",
       "    </tr>\n",
       "    <tr>\n",
       "      <th>525</th>\n",
       "      <td>ASUS Ryzen 5 Hexa Core - (8 GB/1 TB HDD/256 GB...</td>\n",
       "      <td>24</td>\n",
       "    </tr>\n",
       "    <tr>\n",
       "      <th>526</th>\n",
       "      <td>DELL Inspiron Core i5 11th Gen - (8 GB/512 GB ...</td>\n",
       "      <td>24</td>\n",
       "    </tr>\n",
       "    <tr>\n",
       "      <th>527</th>\n",
       "      <td>acer Aspire 5 Core i3 10th Gen - (4 GB + 32 GB...</td>\n",
       "      <td>24</td>\n",
       "    </tr>\n",
       "  </tbody>\n",
       "</table>\n",
       "<p>528 rows × 2 columns</p>\n",
       "</div>"
      ],
      "text/plain": [
       "                                          Product_Name  Page_num\n",
       "0    HP 15s Dual Core 3020e - (4 GB/1 TB HDD/Window...         0\n",
       "1    HP 14s Core i3 11th Gen - (8 GB/256 GB SSD/Win...         0\n",
       "2    acer Aspire 7 Ryzen 5 Quad Core 3550H - (8 GB/...         0\n",
       "3    acer Predator Helios 300 Core i7 10th Gen - (1...         0\n",
       "4    DELL Inspiron Core i3 10th Gen - (8 GB/1 TB HD...         0\n",
       "..                                                 ...       ...\n",
       "523  acer Nitro 5 Ryzen 5 Hexa Core 4600H - (8 GB/1...        24\n",
       "524  HP Pavilion Gaming Ryzen 5 Hexa Core 4600H - (...        24\n",
       "525  ASUS Ryzen 5 Hexa Core - (8 GB/1 TB HDD/256 GB...        24\n",
       "526  DELL Inspiron Core i5 11th Gen - (8 GB/512 GB ...        24\n",
       "527  acer Aspire 5 Core i3 10th Gen - (4 GB + 32 GB...        24\n",
       "\n",
       "[528 rows x 2 columns]"
      ]
     },
     "execution_count": 26,
     "metadata": {},
     "output_type": "execute_result"
    }
   ],
   "source": [
    "data"
   ]
  },
  {
   "cell_type": "markdown",
   "id": "edea92bb",
   "metadata": {},
   "source": [
    "## Now go to parent element, that will have all the content needed"
   ]
  },
  {
   "cell_type": "code",
   "execution_count": 29,
   "id": "5ade064f",
   "metadata": {},
   "outputs": [
    {
     "name": "stdout",
     "output_type": "stream",
     "text": [
      "Scrapped Status = 200 and Scrapped Time = 1.0158543586730957\n",
      "Scrapped Status = 200 and Scrapped Time = 0.9461424350738525\n",
      "Scrapped Status = 200 and Scrapped Time = 1.0029127597808838\n",
      "Scrapped Status = 200 and Scrapped Time = 0.9997246265411377\n",
      "Scrapped Status = 200 and Scrapped Time = 0.9232141971588135\n",
      "Scrapped Status = 200 and Scrapped Time = 0.9474141597747803\n",
      "Scrapped Status = 200 and Scrapped Time = 0.9640753269195557\n",
      "Scrapped Status = 200 and Scrapped Time = 0.9040513038635254\n",
      "Scrapped Status = 200 and Scrapped Time = 1.0997095108032227\n",
      "Scrapped Status = 200 and Scrapped Time = 1.010106086730957\n",
      "Scrapped Status = 200 and Scrapped Time = 1.3794541358947754\n",
      "Scrapped Status = 200 and Scrapped Time = 1.092625379562378\n",
      "Scrapped Status = 200 and Scrapped Time = 1.1763455867767334\n",
      "Scrapped Status = 200 and Scrapped Time = 1.109959602355957\n",
      "Scrapped Status = 200 and Scrapped Time = 0.9391524791717529\n",
      "Scrapped Status = 200 and Scrapped Time = 0.9381070137023926\n",
      "Scrapped Status = 200 and Scrapped Time = 0.9701519012451172\n",
      "Scrapped Status = 200 and Scrapped Time = 0.984839916229248\n",
      "Scrapped Status = 200 and Scrapped Time = 1.0400259494781494\n",
      "Scrapped Status = 200 and Scrapped Time = 0.8801016807556152\n",
      "Scrapped Status = 200 and Scrapped Time = 0.9406251907348633\n",
      "Scrapped Status = 200 and Scrapped Time = 0.9633731842041016\n",
      "Scrapped Status = 200 and Scrapped Time = 0.8232176303863525\n",
      "Scrapped Status = 200 and Scrapped Time = 1.1300816535949707\n",
      "Scrapped Status = 200 and Scrapped Time = 0.9800000190734863\n"
     ]
    }
   ],
   "source": [
    "product_name=[]\n",
    "page_number= []\n",
    "product_cost=[]\n",
    "product_rating=[]\n",
    "product_spec=[]\n",
    "for i in range(25):\n",
    "    start_time=time.time()\n",
    "    url=f'https://www.flipkart.com/search?q=laptop&otracker=search&otracker1=search&marketplace=FLIPKART&as-show=on&as=off&page={i}'\n",
    "    response=requests.get(url)\n",
    "    content=response.text\n",
    "    soup=BeautifulSoup(content)\n",
    "    \n",
    "    for x in soup.find_all('div',attrs={'class':'_2kHMtA'}):\n",
    "        pname=x.find('div',attrs={'class':'_4rR01T'})\n",
    "        pcost=x.find('div',attrs={'class':'_30jeq3 _1_WHN1'})\n",
    "        rating=x.find('div',attrs={'class':'_3LWZlK'})\n",
    "        spec=x.find('ul',attrs={'class':'_1xgFaf'})\n",
    "        \n",
    "        if pname is None:\n",
    "            product_name.append(np.NaN)\n",
    "        else:\n",
    "            product_name.append(pname.text)\n",
    "            \n",
    "        if pcost is None:\n",
    "            product_cost.append(np.NaN)\n",
    "        else:\n",
    "            product_cost.append(pcost.text)\n",
    "            \n",
    "        if rating is None:\n",
    "            product_rating.append(np.NaN)\n",
    "        else:\n",
    "            product_rating.append(rating.text)\n",
    "            \n",
    "        if spec is None:\n",
    "            product_spec.append(np.NaN)\n",
    "        else:\n",
    "            product_spec.append(spec.text)\n",
    "        page_number.append(i)\n",
    "            \n",
    "    end_time=time.time()      \n",
    "    print('Scrapped Status = {} and Scrapped Time = {}'.format(response.status_code,end_time-start_time))\n",
    "    time.sleep(1)"
   ]
  },
  {
   "cell_type": "code",
   "execution_count": 30,
   "id": "647521f7",
   "metadata": {},
   "outputs": [
    {
     "name": "stdout",
     "output_type": "stream",
     "text": [
      "600\n",
      "600\n",
      "600\n",
      "600\n",
      "600\n"
     ]
    }
   ],
   "source": [
    "print(len(product_name))\n",
    "print(len(page_number))\n",
    "print(len(product_cost))\n",
    "print(len(product_rating))\n",
    "print(len(product_spec))"
   ]
  },
  {
   "cell_type": "code",
   "execution_count": 31,
   "id": "1932748a",
   "metadata": {},
   "outputs": [],
   "source": [
    "data={'Product Name':product_name,\n",
    "      'Product Cost':product_cost,\n",
    "      'Product Rating':product_rating,\n",
    "      'Product Specification':product_spec,\n",
    "      'Page num':page_number\n",
    "     }"
   ]
  },
  {
   "cell_type": "code",
   "execution_count": 34,
   "id": "26cbe527",
   "metadata": {},
   "outputs": [],
   "source": [
    "data=pd.DataFrame(data)\n",
    "data.to_csv('laptop.csv',index=False)"
   ]
  },
  {
   "cell_type": "markdown",
   "id": "872e1490",
   "metadata": {},
   "source": [
    "## use the extracted data but store it first in a csv file"
   ]
  },
  {
   "cell_type": "code",
   "execution_count": 36,
   "id": "f32bf99b",
   "metadata": {},
   "outputs": [
    {
     "data": {
      "text/html": [
       "<div>\n",
       "<style scoped>\n",
       "    .dataframe tbody tr th:only-of-type {\n",
       "        vertical-align: middle;\n",
       "    }\n",
       "\n",
       "    .dataframe tbody tr th {\n",
       "        vertical-align: top;\n",
       "    }\n",
       "\n",
       "    .dataframe thead th {\n",
       "        text-align: right;\n",
       "    }\n",
       "</style>\n",
       "<table border=\"1\" class=\"dataframe\">\n",
       "  <thead>\n",
       "    <tr style=\"text-align: right;\">\n",
       "      <th></th>\n",
       "      <th>Product Name</th>\n",
       "      <th>Product Cost</th>\n",
       "      <th>Product Rating</th>\n",
       "      <th>Product Specification</th>\n",
       "      <th>Page num</th>\n",
       "    </tr>\n",
       "  </thead>\n",
       "  <tbody>\n",
       "    <tr>\n",
       "      <th>0</th>\n",
       "      <td>HP 14s Core i3 11th Gen - (8 GB/256 GB SSD/Win...</td>\n",
       "      <td>₹40,990</td>\n",
       "      <td>4.6</td>\n",
       "      <td>Intel Core i3 Processor (11th Gen)8 GB DDR4 RA...</td>\n",
       "      <td>0</td>\n",
       "    </tr>\n",
       "    <tr>\n",
       "      <th>1</th>\n",
       "      <td>HP 15s Dual Core 3020e - (4 GB/1 TB HDD/Window...</td>\n",
       "      <td>₹25,990</td>\n",
       "      <td>3.9</td>\n",
       "      <td>AMD Dual Core Processor4 GB DDR4 RAM64 bit Win...</td>\n",
       "      <td>0</td>\n",
       "    </tr>\n",
       "    <tr>\n",
       "      <th>2</th>\n",
       "      <td>HP 15s Athlon Dual Core - (4 GB/1 TB HDD/Windo...</td>\n",
       "      <td>₹27,499</td>\n",
       "      <td>4.1</td>\n",
       "      <td>AMD Athlon Dual Core Processor4 GB DDR4 RAM64 ...</td>\n",
       "      <td>0</td>\n",
       "    </tr>\n",
       "    <tr>\n",
       "      <th>3</th>\n",
       "      <td>acer Nitro 5 Ryzen 5 Hexa Core 4600H - (8 GB/1...</td>\n",
       "      <td>₹64,990</td>\n",
       "      <td>4.4</td>\n",
       "      <td>AMD Ryzen 5 Hexa Core Processor8 GB DDR4 RAM64...</td>\n",
       "      <td>0</td>\n",
       "    </tr>\n",
       "    <tr>\n",
       "      <th>4</th>\n",
       "      <td>acer Aspire 7 Ryzen 5 Quad Core 3550H - (8 GB/...</td>\n",
       "      <td>₹49,990</td>\n",
       "      <td>4.4</td>\n",
       "      <td>AMD Ryzen 5 Quad Core Processor8 GB DDR4 RAM64...</td>\n",
       "      <td>0</td>\n",
       "    </tr>\n",
       "  </tbody>\n",
       "</table>\n",
       "</div>"
      ],
      "text/plain": [
       "                                        Product Name Product Cost  \\\n",
       "0  HP 14s Core i3 11th Gen - (8 GB/256 GB SSD/Win...      ₹40,990   \n",
       "1  HP 15s Dual Core 3020e - (4 GB/1 TB HDD/Window...      ₹25,990   \n",
       "2  HP 15s Athlon Dual Core - (4 GB/1 TB HDD/Windo...      ₹27,499   \n",
       "3  acer Nitro 5 Ryzen 5 Hexa Core 4600H - (8 GB/1...      ₹64,990   \n",
       "4  acer Aspire 7 Ryzen 5 Quad Core 3550H - (8 GB/...      ₹49,990   \n",
       "\n",
       "   Product Rating                              Product Specification  Page num  \n",
       "0             4.6  Intel Core i3 Processor (11th Gen)8 GB DDR4 RA...         0  \n",
       "1             3.9  AMD Dual Core Processor4 GB DDR4 RAM64 bit Win...         0  \n",
       "2             4.1  AMD Athlon Dual Core Processor4 GB DDR4 RAM64 ...         0  \n",
       "3             4.4  AMD Ryzen 5 Hexa Core Processor8 GB DDR4 RAM64...         0  \n",
       "4             4.4  AMD Ryzen 5 Quad Core Processor8 GB DDR4 RAM64...         0  "
      ]
     },
     "execution_count": 36,
     "metadata": {},
     "output_type": "execute_result"
    }
   ],
   "source": [
    "laptop_data=pd.read_csv('C:\\\\Users\\\\manuj\\\\Innomatics Research labs\\\\My_Notebooks\\\\laptop.csv')\n",
    "laptop_data.head()"
   ]
  },
  {
   "cell_type": "markdown",
   "id": "1df78214",
   "metadata": {},
   "source": [
    "## Great, Now Cleaning of data"
   ]
  },
  {
   "cell_type": "code",
   "execution_count": 37,
   "id": "b2e9a590",
   "metadata": {},
   "outputs": [],
   "source": [
    "import re\n",
    "regx=r'^\\w+'\n",
    "pregx=re.compile(regx)\n",
    "\n",
    "laptop_data['Processor']=laptop_data['Product Specification'].apply(lambda x:pregx.search(x).group())"
   ]
  },
  {
   "cell_type": "code",
   "execution_count": 39,
   "id": "aff108d7",
   "metadata": {},
   "outputs": [
    {
     "data": {
      "text/html": [
       "<div>\n",
       "<style scoped>\n",
       "    .dataframe tbody tr th:only-of-type {\n",
       "        vertical-align: middle;\n",
       "    }\n",
       "\n",
       "    .dataframe tbody tr th {\n",
       "        vertical-align: top;\n",
       "    }\n",
       "\n",
       "    .dataframe thead th {\n",
       "        text-align: right;\n",
       "    }\n",
       "</style>\n",
       "<table border=\"1\" class=\"dataframe\">\n",
       "  <thead>\n",
       "    <tr style=\"text-align: right;\">\n",
       "      <th></th>\n",
       "      <th>Product Name</th>\n",
       "      <th>Product Cost</th>\n",
       "      <th>Product Rating</th>\n",
       "      <th>Product Specification</th>\n",
       "      <th>Page num</th>\n",
       "      <th>Processor</th>\n",
       "    </tr>\n",
       "  </thead>\n",
       "  <tbody>\n",
       "    <tr>\n",
       "      <th>378</th>\n",
       "      <td>Avita Liber V14 Ryzen 5 Quad Core 3500U - (8 G...</td>\n",
       "      <td>₹38,990</td>\n",
       "      <td>4.2</td>\n",
       "      <td>AMD Ryzen 5 Quad Core Processor8 GB DDR4 RAM64...</td>\n",
       "      <td>15</td>\n",
       "      <td>AMD</td>\n",
       "    </tr>\n",
       "    <tr>\n",
       "      <th>274</th>\n",
       "      <td>Lenovo Ideapad Gaming 3 Ryzen 7 Octa Core 4800...</td>\n",
       "      <td>₹69,990</td>\n",
       "      <td>4.4</td>\n",
       "      <td>AMD Ryzen 7 Octa Core Processor8 GB DDR4 RAM64...</td>\n",
       "      <td>11</td>\n",
       "      <td>AMD</td>\n",
       "    </tr>\n",
       "    <tr>\n",
       "      <th>86</th>\n",
       "      <td>Lenovo Ideapad 3 Core i5 10th Gen - (8 GB/1 TB...</td>\n",
       "      <td>₹50,456</td>\n",
       "      <td>4.1</td>\n",
       "      <td>Intel Core i5 Processor (10th Gen)8 GB DDR4 RA...</td>\n",
       "      <td>3</td>\n",
       "      <td>Intel</td>\n",
       "    </tr>\n",
       "    <tr>\n",
       "      <th>475</th>\n",
       "      <td>acer Core i7 8th Gen - (8 GB/1 TB HDD/Windows ...</td>\n",
       "      <td>₹42,990</td>\n",
       "      <td>2.9</td>\n",
       "      <td>Intel Core i7 Processor (8th Gen)8 GB DDR4 RAM...</td>\n",
       "      <td>19</td>\n",
       "      <td>Intel</td>\n",
       "    </tr>\n",
       "    <tr>\n",
       "      <th>488</th>\n",
       "      <td>Lenovo Ideapad 3 Core i5 10th Gen - (8 GB/1 TB...</td>\n",
       "      <td>₹49,988</td>\n",
       "      <td>4.0</td>\n",
       "      <td>Intel Core i5 Processor (10th Gen)8 GB DDR4 RA...</td>\n",
       "      <td>20</td>\n",
       "      <td>Intel</td>\n",
       "    </tr>\n",
       "  </tbody>\n",
       "</table>\n",
       "</div>"
      ],
      "text/plain": [
       "                                          Product Name Product Cost  \\\n",
       "378  Avita Liber V14 Ryzen 5 Quad Core 3500U - (8 G...      ₹38,990   \n",
       "274  Lenovo Ideapad Gaming 3 Ryzen 7 Octa Core 4800...      ₹69,990   \n",
       "86   Lenovo Ideapad 3 Core i5 10th Gen - (8 GB/1 TB...      ₹50,456   \n",
       "475  acer Core i7 8th Gen - (8 GB/1 TB HDD/Windows ...      ₹42,990   \n",
       "488  Lenovo Ideapad 3 Core i5 10th Gen - (8 GB/1 TB...      ₹49,988   \n",
       "\n",
       "     Product Rating                              Product Specification  \\\n",
       "378             4.2  AMD Ryzen 5 Quad Core Processor8 GB DDR4 RAM64...   \n",
       "274             4.4  AMD Ryzen 7 Octa Core Processor8 GB DDR4 RAM64...   \n",
       "86              4.1  Intel Core i5 Processor (10th Gen)8 GB DDR4 RA...   \n",
       "475             2.9  Intel Core i7 Processor (8th Gen)8 GB DDR4 RAM...   \n",
       "488             4.0  Intel Core i5 Processor (10th Gen)8 GB DDR4 RA...   \n",
       "\n",
       "     Page num Processor  \n",
       "378        15       AMD  \n",
       "274        11       AMD  \n",
       "86          3     Intel  \n",
       "475        19     Intel  \n",
       "488        20     Intel  "
      ]
     },
     "execution_count": 39,
     "metadata": {},
     "output_type": "execute_result"
    }
   ],
   "source": [
    "laptop_data.sample(5)"
   ]
  },
  {
   "cell_type": "code",
   "execution_count": 44,
   "id": "da82b59a",
   "metadata": {},
   "outputs": [],
   "source": [
    "import re\n",
    "regx=r'[AMD|Intel][\\s\\w]+Processor'   # or [AMD|Intel][\\sa-zA-Z0-9]+Processor\n",
    "pregx=re.compile(regx)\n",
    "\n",
    "laptop_data['Processor Model']=laptop_data['Product Specification'].apply(lambda x:pregx.search(x).group())"
   ]
  },
  {
   "cell_type": "code",
   "execution_count": 48,
   "id": "5610b572",
   "metadata": {},
   "outputs": [
    {
     "data": {
      "text/html": [
       "<div>\n",
       "<style scoped>\n",
       "    .dataframe tbody tr th:only-of-type {\n",
       "        vertical-align: middle;\n",
       "    }\n",
       "\n",
       "    .dataframe tbody tr th {\n",
       "        vertical-align: top;\n",
       "    }\n",
       "\n",
       "    .dataframe thead th {\n",
       "        text-align: right;\n",
       "    }\n",
       "</style>\n",
       "<table border=\"1\" class=\"dataframe\">\n",
       "  <thead>\n",
       "    <tr style=\"text-align: right;\">\n",
       "      <th></th>\n",
       "      <th>Product Name</th>\n",
       "      <th>Product Cost</th>\n",
       "      <th>Product Rating</th>\n",
       "      <th>Product Specification</th>\n",
       "      <th>Page num</th>\n",
       "      <th>Processor Company</th>\n",
       "      <th>Processor Model</th>\n",
       "    </tr>\n",
       "  </thead>\n",
       "  <tbody>\n",
       "    <tr>\n",
       "      <th>0</th>\n",
       "      <td>HP 14s Core i3 11th Gen - (8 GB/256 GB SSD/Win...</td>\n",
       "      <td>₹40,990</td>\n",
       "      <td>4.6</td>\n",
       "      <td>Intel Core i3 Processor (11th Gen)8 GB DDR4 RA...</td>\n",
       "      <td>0</td>\n",
       "      <td>Intel</td>\n",
       "      <td>Intel Core i3 Processor</td>\n",
       "    </tr>\n",
       "    <tr>\n",
       "      <th>1</th>\n",
       "      <td>HP 15s Dual Core 3020e - (4 GB/1 TB HDD/Window...</td>\n",
       "      <td>₹25,990</td>\n",
       "      <td>3.9</td>\n",
       "      <td>AMD Dual Core Processor4 GB DDR4 RAM64 bit Win...</td>\n",
       "      <td>0</td>\n",
       "      <td>AMD</td>\n",
       "      <td>AMD Dual Core Processor</td>\n",
       "    </tr>\n",
       "    <tr>\n",
       "      <th>2</th>\n",
       "      <td>HP 15s Athlon Dual Core - (4 GB/1 TB HDD/Windo...</td>\n",
       "      <td>₹27,499</td>\n",
       "      <td>4.1</td>\n",
       "      <td>AMD Athlon Dual Core Processor4 GB DDR4 RAM64 ...</td>\n",
       "      <td>0</td>\n",
       "      <td>AMD</td>\n",
       "      <td>AMD Athlon Dual Core Processor</td>\n",
       "    </tr>\n",
       "    <tr>\n",
       "      <th>3</th>\n",
       "      <td>acer Nitro 5 Ryzen 5 Hexa Core 4600H - (8 GB/1...</td>\n",
       "      <td>₹64,990</td>\n",
       "      <td>4.4</td>\n",
       "      <td>AMD Ryzen 5 Hexa Core Processor8 GB DDR4 RAM64...</td>\n",
       "      <td>0</td>\n",
       "      <td>AMD</td>\n",
       "      <td>AMD Ryzen 5 Hexa Core Processor</td>\n",
       "    </tr>\n",
       "    <tr>\n",
       "      <th>4</th>\n",
       "      <td>acer Aspire 7 Ryzen 5 Quad Core 3550H - (8 GB/...</td>\n",
       "      <td>₹49,990</td>\n",
       "      <td>4.4</td>\n",
       "      <td>AMD Ryzen 5 Quad Core Processor8 GB DDR4 RAM64...</td>\n",
       "      <td>0</td>\n",
       "      <td>AMD</td>\n",
       "      <td>AMD Ryzen 5 Quad Core Processor</td>\n",
       "    </tr>\n",
       "  </tbody>\n",
       "</table>\n",
       "</div>"
      ],
      "text/plain": [
       "                                        Product Name Product Cost  \\\n",
       "0  HP 14s Core i3 11th Gen - (8 GB/256 GB SSD/Win...      ₹40,990   \n",
       "1  HP 15s Dual Core 3020e - (4 GB/1 TB HDD/Window...      ₹25,990   \n",
       "2  HP 15s Athlon Dual Core - (4 GB/1 TB HDD/Windo...      ₹27,499   \n",
       "3  acer Nitro 5 Ryzen 5 Hexa Core 4600H - (8 GB/1...      ₹64,990   \n",
       "4  acer Aspire 7 Ryzen 5 Quad Core 3550H - (8 GB/...      ₹49,990   \n",
       "\n",
       "   Product Rating                              Product Specification  \\\n",
       "0             4.6  Intel Core i3 Processor (11th Gen)8 GB DDR4 RA...   \n",
       "1             3.9  AMD Dual Core Processor4 GB DDR4 RAM64 bit Win...   \n",
       "2             4.1  AMD Athlon Dual Core Processor4 GB DDR4 RAM64 ...   \n",
       "3             4.4  AMD Ryzen 5 Hexa Core Processor8 GB DDR4 RAM64...   \n",
       "4             4.4  AMD Ryzen 5 Quad Core Processor8 GB DDR4 RAM64...   \n",
       "\n",
       "   Page num Processor Company                  Processor Model  \n",
       "0         0             Intel          Intel Core i3 Processor  \n",
       "1         0               AMD          AMD Dual Core Processor  \n",
       "2         0               AMD   AMD Athlon Dual Core Processor  \n",
       "3         0               AMD  AMD Ryzen 5 Hexa Core Processor  \n",
       "4         0               AMD  AMD Ryzen 5 Quad Core Processor  "
      ]
     },
     "execution_count": 48,
     "metadata": {},
     "output_type": "execute_result"
    }
   ],
   "source": [
    "laptop_data.head()"
   ]
  },
  {
   "cell_type": "code",
   "execution_count": 49,
   "id": "c12245be",
   "metadata": {},
   "outputs": [
    {
     "data": {
      "text/plain": [
       "'Intel Core i3 Processor (11th Gen)8 GB DDR4 RAM64 bit Windows 10 Operating System256 GB SSD35.56 cm (14 inch) DisplayHP Documentation, HP SSRM, HP Smart, Microsoft Office 2019, McAfeeLiveSafe 30 day trial, HP Support Assistant1 Year Onsite Warranty'"
      ]
     },
     "execution_count": 49,
     "metadata": {},
     "output_type": "execute_result"
    }
   ],
   "source": [
    "laptop_data['Product Specification'][0]"
   ]
  },
  {
   "cell_type": "code",
   "execution_count": 51,
   "id": "fd3ec7a0",
   "metadata": {},
   "outputs": [],
   "source": [
    "import re\n",
    "regx=r'[0-9][\\sA-Za-z0-9]+RAM'\n",
    "pregx=re.compile(regx)\n",
    "\n",
    "laptop_data['Product RAM']=laptop_data['Product Specification'].apply(lambda x:pregx.search(x).group())"
   ]
  },
  {
   "cell_type": "code",
   "execution_count": 52,
   "id": "74a1e0aa",
   "metadata": {},
   "outputs": [
    {
     "data": {
      "text/html": [
       "<div>\n",
       "<style scoped>\n",
       "    .dataframe tbody tr th:only-of-type {\n",
       "        vertical-align: middle;\n",
       "    }\n",
       "\n",
       "    .dataframe tbody tr th {\n",
       "        vertical-align: top;\n",
       "    }\n",
       "\n",
       "    .dataframe thead th {\n",
       "        text-align: right;\n",
       "    }\n",
       "</style>\n",
       "<table border=\"1\" class=\"dataframe\">\n",
       "  <thead>\n",
       "    <tr style=\"text-align: right;\">\n",
       "      <th></th>\n",
       "      <th>Product Name</th>\n",
       "      <th>Product Cost</th>\n",
       "      <th>Product Rating</th>\n",
       "      <th>Product Specification</th>\n",
       "      <th>Page num</th>\n",
       "      <th>Processor Company</th>\n",
       "      <th>Processor Model</th>\n",
       "      <th>Product RAM</th>\n",
       "    </tr>\n",
       "  </thead>\n",
       "  <tbody>\n",
       "    <tr>\n",
       "      <th>0</th>\n",
       "      <td>HP 14s Core i3 11th Gen - (8 GB/256 GB SSD/Win...</td>\n",
       "      <td>₹40,990</td>\n",
       "      <td>4.6</td>\n",
       "      <td>Intel Core i3 Processor (11th Gen)8 GB DDR4 RA...</td>\n",
       "      <td>0</td>\n",
       "      <td>Intel</td>\n",
       "      <td>Intel Core i3 Processor</td>\n",
       "      <td>8 GB DDR4 RAM</td>\n",
       "    </tr>\n",
       "    <tr>\n",
       "      <th>1</th>\n",
       "      <td>HP 15s Dual Core 3020e - (4 GB/1 TB HDD/Window...</td>\n",
       "      <td>₹25,990</td>\n",
       "      <td>3.9</td>\n",
       "      <td>AMD Dual Core Processor4 GB DDR4 RAM64 bit Win...</td>\n",
       "      <td>0</td>\n",
       "      <td>AMD</td>\n",
       "      <td>AMD Dual Core Processor</td>\n",
       "      <td>4 GB DDR4 RAM</td>\n",
       "    </tr>\n",
       "    <tr>\n",
       "      <th>2</th>\n",
       "      <td>HP 15s Athlon Dual Core - (4 GB/1 TB HDD/Windo...</td>\n",
       "      <td>₹27,499</td>\n",
       "      <td>4.1</td>\n",
       "      <td>AMD Athlon Dual Core Processor4 GB DDR4 RAM64 ...</td>\n",
       "      <td>0</td>\n",
       "      <td>AMD</td>\n",
       "      <td>AMD Athlon Dual Core Processor</td>\n",
       "      <td>4 GB DDR4 RAM</td>\n",
       "    </tr>\n",
       "    <tr>\n",
       "      <th>3</th>\n",
       "      <td>acer Nitro 5 Ryzen 5 Hexa Core 4600H - (8 GB/1...</td>\n",
       "      <td>₹64,990</td>\n",
       "      <td>4.4</td>\n",
       "      <td>AMD Ryzen 5 Hexa Core Processor8 GB DDR4 RAM64...</td>\n",
       "      <td>0</td>\n",
       "      <td>AMD</td>\n",
       "      <td>AMD Ryzen 5 Hexa Core Processor</td>\n",
       "      <td>5 Hexa Core Processor8 GB DDR4 RAM</td>\n",
       "    </tr>\n",
       "    <tr>\n",
       "      <th>4</th>\n",
       "      <td>acer Aspire 7 Ryzen 5 Quad Core 3550H - (8 GB/...</td>\n",
       "      <td>₹49,990</td>\n",
       "      <td>4.4</td>\n",
       "      <td>AMD Ryzen 5 Quad Core Processor8 GB DDR4 RAM64...</td>\n",
       "      <td>0</td>\n",
       "      <td>AMD</td>\n",
       "      <td>AMD Ryzen 5 Quad Core Processor</td>\n",
       "      <td>5 Quad Core Processor8 GB DDR4 RAM</td>\n",
       "    </tr>\n",
       "  </tbody>\n",
       "</table>\n",
       "</div>"
      ],
      "text/plain": [
       "                                        Product Name Product Cost  \\\n",
       "0  HP 14s Core i3 11th Gen - (8 GB/256 GB SSD/Win...      ₹40,990   \n",
       "1  HP 15s Dual Core 3020e - (4 GB/1 TB HDD/Window...      ₹25,990   \n",
       "2  HP 15s Athlon Dual Core - (4 GB/1 TB HDD/Windo...      ₹27,499   \n",
       "3  acer Nitro 5 Ryzen 5 Hexa Core 4600H - (8 GB/1...      ₹64,990   \n",
       "4  acer Aspire 7 Ryzen 5 Quad Core 3550H - (8 GB/...      ₹49,990   \n",
       "\n",
       "   Product Rating                              Product Specification  \\\n",
       "0             4.6  Intel Core i3 Processor (11th Gen)8 GB DDR4 RA...   \n",
       "1             3.9  AMD Dual Core Processor4 GB DDR4 RAM64 bit Win...   \n",
       "2             4.1  AMD Athlon Dual Core Processor4 GB DDR4 RAM64 ...   \n",
       "3             4.4  AMD Ryzen 5 Hexa Core Processor8 GB DDR4 RAM64...   \n",
       "4             4.4  AMD Ryzen 5 Quad Core Processor8 GB DDR4 RAM64...   \n",
       "\n",
       "   Page num Processor Company                  Processor Model  \\\n",
       "0         0             Intel          Intel Core i3 Processor   \n",
       "1         0               AMD          AMD Dual Core Processor   \n",
       "2         0               AMD   AMD Athlon Dual Core Processor   \n",
       "3         0               AMD  AMD Ryzen 5 Hexa Core Processor   \n",
       "4         0               AMD  AMD Ryzen 5 Quad Core Processor   \n",
       "\n",
       "                          Product RAM  \n",
       "0                       8 GB DDR4 RAM  \n",
       "1                       4 GB DDR4 RAM  \n",
       "2                       4 GB DDR4 RAM  \n",
       "3  5 Hexa Core Processor8 GB DDR4 RAM  \n",
       "4  5 Quad Core Processor8 GB DDR4 RAM  "
      ]
     },
     "execution_count": 52,
     "metadata": {},
     "output_type": "execute_result"
    }
   ],
   "source": [
    "laptop_data.head()"
   ]
  },
  {
   "cell_type": "code",
   "execution_count": 56,
   "id": "f8b3f5d2",
   "metadata": {},
   "outputs": [],
   "source": [
    "import re\n",
    "regx=r'[0-9\\s]+(?:GB|TB)\\s(?:HDD|SSD)'\n",
    "pregx=re.compile(regx)\n",
    "\n",
    "laptop_data['HardDisk']=laptop_data['Product Specification'].apply(lambda x:np.NaN if pregx.search(x) is None else pregx.search(x).group() )"
   ]
  },
  {
   "cell_type": "code",
   "execution_count": 57,
   "id": "5479bcb4",
   "metadata": {},
   "outputs": [
    {
     "data": {
      "text/html": [
       "<div>\n",
       "<style scoped>\n",
       "    .dataframe tbody tr th:only-of-type {\n",
       "        vertical-align: middle;\n",
       "    }\n",
       "\n",
       "    .dataframe tbody tr th {\n",
       "        vertical-align: top;\n",
       "    }\n",
       "\n",
       "    .dataframe thead th {\n",
       "        text-align: right;\n",
       "    }\n",
       "</style>\n",
       "<table border=\"1\" class=\"dataframe\">\n",
       "  <thead>\n",
       "    <tr style=\"text-align: right;\">\n",
       "      <th></th>\n",
       "      <th>Product Name</th>\n",
       "      <th>Product Cost</th>\n",
       "      <th>Product Rating</th>\n",
       "      <th>Product Specification</th>\n",
       "      <th>Page num</th>\n",
       "      <th>Processor Company</th>\n",
       "      <th>Processor Model</th>\n",
       "      <th>Product RAM</th>\n",
       "      <th>HardDisk</th>\n",
       "    </tr>\n",
       "  </thead>\n",
       "  <tbody>\n",
       "    <tr>\n",
       "      <th>0</th>\n",
       "      <td>HP 14s Core i3 11th Gen - (8 GB/256 GB SSD/Win...</td>\n",
       "      <td>₹40,990</td>\n",
       "      <td>4.6</td>\n",
       "      <td>Intel Core i3 Processor (11th Gen)8 GB DDR4 RA...</td>\n",
       "      <td>0</td>\n",
       "      <td>Intel</td>\n",
       "      <td>Intel Core i3 Processor</td>\n",
       "      <td>8 GB DDR4 RAM</td>\n",
       "      <td>256 GB SSD</td>\n",
       "    </tr>\n",
       "    <tr>\n",
       "      <th>1</th>\n",
       "      <td>HP 15s Dual Core 3020e - (4 GB/1 TB HDD/Window...</td>\n",
       "      <td>₹25,990</td>\n",
       "      <td>3.9</td>\n",
       "      <td>AMD Dual Core Processor4 GB DDR4 RAM64 bit Win...</td>\n",
       "      <td>0</td>\n",
       "      <td>AMD</td>\n",
       "      <td>AMD Dual Core Processor</td>\n",
       "      <td>4 GB DDR4 RAM</td>\n",
       "      <td>1 TB HDD</td>\n",
       "    </tr>\n",
       "    <tr>\n",
       "      <th>2</th>\n",
       "      <td>HP 15s Athlon Dual Core - (4 GB/1 TB HDD/Windo...</td>\n",
       "      <td>₹27,499</td>\n",
       "      <td>4.1</td>\n",
       "      <td>AMD Athlon Dual Core Processor4 GB DDR4 RAM64 ...</td>\n",
       "      <td>0</td>\n",
       "      <td>AMD</td>\n",
       "      <td>AMD Athlon Dual Core Processor</td>\n",
       "      <td>4 GB DDR4 RAM</td>\n",
       "      <td>1 TB HDD</td>\n",
       "    </tr>\n",
       "    <tr>\n",
       "      <th>3</th>\n",
       "      <td>acer Nitro 5 Ryzen 5 Hexa Core 4600H - (8 GB/1...</td>\n",
       "      <td>₹64,990</td>\n",
       "      <td>4.4</td>\n",
       "      <td>AMD Ryzen 5 Hexa Core Processor8 GB DDR4 RAM64...</td>\n",
       "      <td>0</td>\n",
       "      <td>AMD</td>\n",
       "      <td>AMD Ryzen 5 Hexa Core Processor</td>\n",
       "      <td>5 Hexa Core Processor8 GB DDR4 RAM</td>\n",
       "      <td>1 TB HDD</td>\n",
       "    </tr>\n",
       "    <tr>\n",
       "      <th>4</th>\n",
       "      <td>acer Aspire 7 Ryzen 5 Quad Core 3550H - (8 GB/...</td>\n",
       "      <td>₹49,990</td>\n",
       "      <td>4.4</td>\n",
       "      <td>AMD Ryzen 5 Quad Core Processor8 GB DDR4 RAM64...</td>\n",
       "      <td>0</td>\n",
       "      <td>AMD</td>\n",
       "      <td>AMD Ryzen 5 Quad Core Processor</td>\n",
       "      <td>5 Quad Core Processor8 GB DDR4 RAM</td>\n",
       "      <td>512 GB SSD</td>\n",
       "    </tr>\n",
       "  </tbody>\n",
       "</table>\n",
       "</div>"
      ],
      "text/plain": [
       "                                        Product Name Product Cost  \\\n",
       "0  HP 14s Core i3 11th Gen - (8 GB/256 GB SSD/Win...      ₹40,990   \n",
       "1  HP 15s Dual Core 3020e - (4 GB/1 TB HDD/Window...      ₹25,990   \n",
       "2  HP 15s Athlon Dual Core - (4 GB/1 TB HDD/Windo...      ₹27,499   \n",
       "3  acer Nitro 5 Ryzen 5 Hexa Core 4600H - (8 GB/1...      ₹64,990   \n",
       "4  acer Aspire 7 Ryzen 5 Quad Core 3550H - (8 GB/...      ₹49,990   \n",
       "\n",
       "   Product Rating                              Product Specification  \\\n",
       "0             4.6  Intel Core i3 Processor (11th Gen)8 GB DDR4 RA...   \n",
       "1             3.9  AMD Dual Core Processor4 GB DDR4 RAM64 bit Win...   \n",
       "2             4.1  AMD Athlon Dual Core Processor4 GB DDR4 RAM64 ...   \n",
       "3             4.4  AMD Ryzen 5 Hexa Core Processor8 GB DDR4 RAM64...   \n",
       "4             4.4  AMD Ryzen 5 Quad Core Processor8 GB DDR4 RAM64...   \n",
       "\n",
       "   Page num Processor Company                  Processor Model  \\\n",
       "0         0             Intel          Intel Core i3 Processor   \n",
       "1         0               AMD          AMD Dual Core Processor   \n",
       "2         0               AMD   AMD Athlon Dual Core Processor   \n",
       "3         0               AMD  AMD Ryzen 5 Hexa Core Processor   \n",
       "4         0               AMD  AMD Ryzen 5 Quad Core Processor   \n",
       "\n",
       "                          Product RAM    HardDisk  \n",
       "0                       8 GB DDR4 RAM  256 GB SSD  \n",
       "1                       4 GB DDR4 RAM    1 TB HDD  \n",
       "2                       4 GB DDR4 RAM    1 TB HDD  \n",
       "3  5 Hexa Core Processor8 GB DDR4 RAM    1 TB HDD  \n",
       "4  5 Quad Core Processor8 GB DDR4 RAM  512 GB SSD  "
      ]
     },
     "execution_count": 57,
     "metadata": {},
     "output_type": "execute_result"
    }
   ],
   "source": [
    "laptop_data.head()"
   ]
  },
  {
   "cell_type": "markdown",
   "id": "7e5077a9",
   "metadata": {},
   "source": [
    "## Hardisk column have some missing values"
   ]
  },
  {
   "cell_type": "code",
   "execution_count": 62,
   "id": "e1aefe41",
   "metadata": {},
   "outputs": [
    {
     "data": {
      "text/plain": [
       "7"
      ]
     },
     "execution_count": 62,
     "metadata": {},
     "output_type": "execute_result"
    }
   ],
   "source": [
    "laptop_data['HardDisk'].isna().sum() # 7 rows in whole data"
   ]
  },
  {
   "cell_type": "code",
   "execution_count": 67,
   "id": "9d072a9e",
   "metadata": {},
   "outputs": [
    {
     "data": {
      "text/plain": [
       "'Intel Celeron Dual Core Processor4 GB DDR4 RAM64 bit Windows 10 Operating System29.46 cm (11.6 inch) Touchscreen Display24 Months Warranty'"
      ]
     },
     "execution_count": 67,
     "metadata": {},
     "output_type": "execute_result"
    }
   ],
   "source": [
    "laptop_data[laptop_data['HardDisk'].isna()]['Product Specification'][18]"
   ]
  },
  {
   "cell_type": "code",
   "execution_count": 68,
   "id": "875780e3",
   "metadata": {},
   "outputs": [],
   "source": [
    "import re\n",
    "regx=r'[a-zA-Z]+\\s'\n",
    "pregx=re.compile(regx)\n",
    "\n",
    "laptop_data['Brand']=laptop_data['Product Name'].apply(lambda x:pregx.search(x).group())"
   ]
  },
  {
   "cell_type": "code",
   "execution_count": 71,
   "id": "9867c196",
   "metadata": {},
   "outputs": [
    {
     "data": {
      "text/html": [
       "<div>\n",
       "<style scoped>\n",
       "    .dataframe tbody tr th:only-of-type {\n",
       "        vertical-align: middle;\n",
       "    }\n",
       "\n",
       "    .dataframe tbody tr th {\n",
       "        vertical-align: top;\n",
       "    }\n",
       "\n",
       "    .dataframe thead th {\n",
       "        text-align: right;\n",
       "    }\n",
       "</style>\n",
       "<table border=\"1\" class=\"dataframe\">\n",
       "  <thead>\n",
       "    <tr style=\"text-align: right;\">\n",
       "      <th></th>\n",
       "      <th>Product Name</th>\n",
       "      <th>Product Cost</th>\n",
       "      <th>Product Rating</th>\n",
       "      <th>Product Specification</th>\n",
       "      <th>Page num</th>\n",
       "      <th>Processor Company</th>\n",
       "      <th>Processor Model</th>\n",
       "      <th>Product RAM</th>\n",
       "      <th>HardDisk</th>\n",
       "      <th>Brand</th>\n",
       "    </tr>\n",
       "  </thead>\n",
       "  <tbody>\n",
       "    <tr>\n",
       "      <th>545</th>\n",
       "      <td>ASUS Ryzen 7 Octa Core - (8 GB/512 GB SSD/Wind...</td>\n",
       "      <td>₹74,990</td>\n",
       "      <td>NaN</td>\n",
       "      <td>AMD Ryzen 7 Octa Core Processor8 GB DDR4 RAM64...</td>\n",
       "      <td>22</td>\n",
       "      <td>AMD</td>\n",
       "      <td>AMD Ryzen 7 Octa Core Processor</td>\n",
       "      <td>7 Octa Core Processor8 GB DDR4 RAM</td>\n",
       "      <td>512 GB SSD</td>\n",
       "      <td>ASUS</td>\n",
       "    </tr>\n",
       "    <tr>\n",
       "      <th>390</th>\n",
       "      <td>ASUS Ryzen 5 Quad Core 3500U - (8 GB/1 TB HDD/...</td>\n",
       "      <td>₹41,990</td>\n",
       "      <td>3.9</td>\n",
       "      <td>AMD Ryzen 5 Quad Core Processor8 GB DDR4 RAM64...</td>\n",
       "      <td>16</td>\n",
       "      <td>AMD</td>\n",
       "      <td>AMD Ryzen 5 Quad Core Processor</td>\n",
       "      <td>5 Quad Core Processor8 GB DDR4 RAM</td>\n",
       "      <td>1 TB HDD</td>\n",
       "      <td>ASUS</td>\n",
       "    </tr>\n",
       "  </tbody>\n",
       "</table>\n",
       "</div>"
      ],
      "text/plain": [
       "                                          Product Name Product Cost  \\\n",
       "545  ASUS Ryzen 7 Octa Core - (8 GB/512 GB SSD/Wind...      ₹74,990   \n",
       "390  ASUS Ryzen 5 Quad Core 3500U - (8 GB/1 TB HDD/...      ₹41,990   \n",
       "\n",
       "     Product Rating                              Product Specification  \\\n",
       "545             NaN  AMD Ryzen 7 Octa Core Processor8 GB DDR4 RAM64...   \n",
       "390             3.9  AMD Ryzen 5 Quad Core Processor8 GB DDR4 RAM64...   \n",
       "\n",
       "     Page num Processor Company                  Processor Model  \\\n",
       "545        22               AMD  AMD Ryzen 7 Octa Core Processor   \n",
       "390        16               AMD  AMD Ryzen 5 Quad Core Processor   \n",
       "\n",
       "                            Product RAM    HardDisk  Brand  \n",
       "545  7 Octa Core Processor8 GB DDR4 RAM  512 GB SSD  ASUS   \n",
       "390  5 Quad Core Processor8 GB DDR4 RAM    1 TB HDD  ASUS   "
      ]
     },
     "execution_count": 71,
     "metadata": {},
     "output_type": "execute_result"
    }
   ],
   "source": [
    "laptop_data.sample(2)"
   ]
  },
  {
   "cell_type": "code",
   "execution_count": 72,
   "id": "706708a7",
   "metadata": {},
   "outputs": [],
   "source": [
    "regx=r'\\d+,\\d+'\n",
    "pregx=re.compile(regx)\n",
    "\n",
    "laptop_data['Product Cost']=laptop_data['Product Cost'].apply(lambda x:pregx.search(x).group().replace(',',''))"
   ]
  },
  {
   "cell_type": "code",
   "execution_count": 75,
   "id": "67ce790a",
   "metadata": {},
   "outputs": [
    {
     "data": {
      "text/plain": [
       "0      40990\n",
       "1      25990\n",
       "2      27499\n",
       "3      64990\n",
       "4      49990\n",
       "       ...  \n",
       "595    64990\n",
       "596    39300\n",
       "597    78900\n",
       "598    75990\n",
       "599      116\n",
       "Name: Product Cost, Length: 600, dtype: object"
      ]
     },
     "execution_count": 75,
     "metadata": {},
     "output_type": "execute_result"
    }
   ],
   "source": [
    "laptop_data['Product Cost']"
   ]
  },
  {
   "cell_type": "markdown",
   "id": "1144fe9b",
   "metadata": {},
   "source": [
    "## It's object so change it in float"
   ]
  },
  {
   "cell_type": "code",
   "execution_count": 76,
   "id": "a27317bd",
   "metadata": {},
   "outputs": [],
   "source": [
    "laptop_data['Product Cost']=laptop_data['Product Cost'].astype(float)"
   ]
  },
  {
   "cell_type": "code",
   "execution_count": 77,
   "id": "0f92daf0",
   "metadata": {},
   "outputs": [
    {
     "data": {
      "text/html": [
       "<div>\n",
       "<style scoped>\n",
       "    .dataframe tbody tr th:only-of-type {\n",
       "        vertical-align: middle;\n",
       "    }\n",
       "\n",
       "    .dataframe tbody tr th {\n",
       "        vertical-align: top;\n",
       "    }\n",
       "\n",
       "    .dataframe thead th {\n",
       "        text-align: right;\n",
       "    }\n",
       "</style>\n",
       "<table border=\"1\" class=\"dataframe\">\n",
       "  <thead>\n",
       "    <tr style=\"text-align: right;\">\n",
       "      <th></th>\n",
       "      <th>Product Name</th>\n",
       "      <th>Product Cost</th>\n",
       "      <th>Product Rating</th>\n",
       "      <th>Product Specification</th>\n",
       "      <th>Page num</th>\n",
       "      <th>Processor Company</th>\n",
       "      <th>Processor Model</th>\n",
       "      <th>Product RAM</th>\n",
       "      <th>HardDisk</th>\n",
       "      <th>Brand</th>\n",
       "    </tr>\n",
       "  </thead>\n",
       "  <tbody>\n",
       "    <tr>\n",
       "      <th>0</th>\n",
       "      <td>HP 14s Core i3 11th Gen - (8 GB/256 GB SSD/Win...</td>\n",
       "      <td>40990.0</td>\n",
       "      <td>4.6</td>\n",
       "      <td>Intel Core i3 Processor (11th Gen)8 GB DDR4 RA...</td>\n",
       "      <td>0</td>\n",
       "      <td>Intel</td>\n",
       "      <td>Intel Core i3 Processor</td>\n",
       "      <td>8 GB DDR4 RAM</td>\n",
       "      <td>256 GB SSD</td>\n",
       "      <td>HP</td>\n",
       "    </tr>\n",
       "    <tr>\n",
       "      <th>1</th>\n",
       "      <td>HP 15s Dual Core 3020e - (4 GB/1 TB HDD/Window...</td>\n",
       "      <td>25990.0</td>\n",
       "      <td>3.9</td>\n",
       "      <td>AMD Dual Core Processor4 GB DDR4 RAM64 bit Win...</td>\n",
       "      <td>0</td>\n",
       "      <td>AMD</td>\n",
       "      <td>AMD Dual Core Processor</td>\n",
       "      <td>4 GB DDR4 RAM</td>\n",
       "      <td>1 TB HDD</td>\n",
       "      <td>HP</td>\n",
       "    </tr>\n",
       "    <tr>\n",
       "      <th>2</th>\n",
       "      <td>HP 15s Athlon Dual Core - (4 GB/1 TB HDD/Windo...</td>\n",
       "      <td>27499.0</td>\n",
       "      <td>4.1</td>\n",
       "      <td>AMD Athlon Dual Core Processor4 GB DDR4 RAM64 ...</td>\n",
       "      <td>0</td>\n",
       "      <td>AMD</td>\n",
       "      <td>AMD Athlon Dual Core Processor</td>\n",
       "      <td>4 GB DDR4 RAM</td>\n",
       "      <td>1 TB HDD</td>\n",
       "      <td>HP</td>\n",
       "    </tr>\n",
       "    <tr>\n",
       "      <th>3</th>\n",
       "      <td>acer Nitro 5 Ryzen 5 Hexa Core 4600H - (8 GB/1...</td>\n",
       "      <td>64990.0</td>\n",
       "      <td>4.4</td>\n",
       "      <td>AMD Ryzen 5 Hexa Core Processor8 GB DDR4 RAM64...</td>\n",
       "      <td>0</td>\n",
       "      <td>AMD</td>\n",
       "      <td>AMD Ryzen 5 Hexa Core Processor</td>\n",
       "      <td>5 Hexa Core Processor8 GB DDR4 RAM</td>\n",
       "      <td>1 TB HDD</td>\n",
       "      <td>acer</td>\n",
       "    </tr>\n",
       "    <tr>\n",
       "      <th>4</th>\n",
       "      <td>acer Aspire 7 Ryzen 5 Quad Core 3550H - (8 GB/...</td>\n",
       "      <td>49990.0</td>\n",
       "      <td>4.4</td>\n",
       "      <td>AMD Ryzen 5 Quad Core Processor8 GB DDR4 RAM64...</td>\n",
       "      <td>0</td>\n",
       "      <td>AMD</td>\n",
       "      <td>AMD Ryzen 5 Quad Core Processor</td>\n",
       "      <td>5 Quad Core Processor8 GB DDR4 RAM</td>\n",
       "      <td>512 GB SSD</td>\n",
       "      <td>acer</td>\n",
       "    </tr>\n",
       "  </tbody>\n",
       "</table>\n",
       "</div>"
      ],
      "text/plain": [
       "                                        Product Name  Product Cost  \\\n",
       "0  HP 14s Core i3 11th Gen - (8 GB/256 GB SSD/Win...       40990.0   \n",
       "1  HP 15s Dual Core 3020e - (4 GB/1 TB HDD/Window...       25990.0   \n",
       "2  HP 15s Athlon Dual Core - (4 GB/1 TB HDD/Windo...       27499.0   \n",
       "3  acer Nitro 5 Ryzen 5 Hexa Core 4600H - (8 GB/1...       64990.0   \n",
       "4  acer Aspire 7 Ryzen 5 Quad Core 3550H - (8 GB/...       49990.0   \n",
       "\n",
       "   Product Rating                              Product Specification  \\\n",
       "0             4.6  Intel Core i3 Processor (11th Gen)8 GB DDR4 RA...   \n",
       "1             3.9  AMD Dual Core Processor4 GB DDR4 RAM64 bit Win...   \n",
       "2             4.1  AMD Athlon Dual Core Processor4 GB DDR4 RAM64 ...   \n",
       "3             4.4  AMD Ryzen 5 Hexa Core Processor8 GB DDR4 RAM64...   \n",
       "4             4.4  AMD Ryzen 5 Quad Core Processor8 GB DDR4 RAM64...   \n",
       "\n",
       "   Page num Processor Company                  Processor Model  \\\n",
       "0         0             Intel          Intel Core i3 Processor   \n",
       "1         0               AMD          AMD Dual Core Processor   \n",
       "2         0               AMD   AMD Athlon Dual Core Processor   \n",
       "3         0               AMD  AMD Ryzen 5 Hexa Core Processor   \n",
       "4         0               AMD  AMD Ryzen 5 Quad Core Processor   \n",
       "\n",
       "                          Product RAM    HardDisk  Brand  \n",
       "0                       8 GB DDR4 RAM  256 GB SSD    HP   \n",
       "1                       4 GB DDR4 RAM    1 TB HDD    HP   \n",
       "2                       4 GB DDR4 RAM    1 TB HDD    HP   \n",
       "3  5 Hexa Core Processor8 GB DDR4 RAM    1 TB HDD  acer   \n",
       "4  5 Quad Core Processor8 GB DDR4 RAM  512 GB SSD  acer   "
      ]
     },
     "execution_count": 77,
     "metadata": {},
     "output_type": "execute_result"
    }
   ],
   "source": [
    "laptop_data.head()"
   ]
  },
  {
   "cell_type": "code",
   "execution_count": 78,
   "id": "932c7f2e",
   "metadata": {},
   "outputs": [
    {
     "data": {
      "text/plain": [
       "Product Name               0\n",
       "Product Cost               0\n",
       "Product Rating           157\n",
       "Product Specification      0\n",
       "Page num                   0\n",
       "Processor Company          0\n",
       "Processor Model            0\n",
       "Product RAM                0\n",
       "HardDisk                   7\n",
       "Brand                      0\n",
       "dtype: int64"
      ]
     },
     "execution_count": 78,
     "metadata": {},
     "output_type": "execute_result"
    }
   ],
   "source": [
    "laptop_data.isnull().sum()"
   ]
  },
  {
   "cell_type": "markdown",
   "id": "2f73f871",
   "metadata": {},
   "source": [
    "## Data is good to go for further analysis"
   ]
  },
  {
   "cell_type": "code",
   "execution_count": 80,
   "id": "12e66533",
   "metadata": {},
   "outputs": [
    {
     "data": {
      "text/plain": [
       "Index(['Product Name', 'Product Cost', 'Product Rating',\n",
       "       'Product Specification', 'Page num', 'Processor Company',\n",
       "       'Processor Model', 'Product RAM', 'HardDisk', 'Brand'],\n",
       "      dtype='object')"
      ]
     },
     "execution_count": 80,
     "metadata": {},
     "output_type": "execute_result"
    }
   ],
   "source": [
    "laptop_data.columns"
   ]
  },
  {
   "cell_type": "code",
   "execution_count": 86,
   "id": "20e59479",
   "metadata": {},
   "outputs": [
    {
     "data": {
      "application/vnd.plotly.v1+json": {
       "config": {
        "plotlyServerURL": "https://plot.ly"
       },
       "data": [
        {
         "alignmentgroup": "True",
         "hovertemplate": "color=HP <br>x=%{x}<extra></extra>",
         "legendgroup": "HP ",
         "marker": {
          "color": "#636efa"
         },
         "name": "HP ",
         "notched": false,
         "offsetgroup": "HP ",
         "orientation": "h",
         "showlegend": true,
         "type": "box",
         "x": [
          40990,
          25990,
          27499,
          39490,
          50990,
          31490,
          48990,
          44490,
          40990,
          25990,
          27499,
          39490,
          50990,
          31490,
          48990,
          44490,
          84990,
          42490,
          45490,
          45490,
          59990,
          59990,
          66900,
          42499,
          41990,
          58888,
          39490,
          47990,
          37990,
          51890,
          65990,
          28350,
          55480,
          54990,
          134,
          53790,
          29990,
          39490,
          143,
          39490,
          81990,
          39490,
          27490,
          89179,
          102,
          31490,
          143,
          39490,
          68990,
          39490,
          73990,
          96490,
          39990,
          62990,
          80990,
          73990,
          127,
          127,
          73990,
          116,
          151,
          39990,
          29990,
          40990,
          50990,
          25990,
          57490,
          39490,
          42900,
          78990,
          41990,
          44490,
          45990,
          55990,
          92500,
          68000,
          84000,
          93400,
          51000,
          83400,
          78900
         ],
         "x0": " ",
         "xaxis": "x",
         "y0": " ",
         "yaxis": "y"
        },
        {
         "alignmentgroup": "True",
         "hovertemplate": "color=acer <br>x=%{x}<extra></extra>",
         "legendgroup": "acer ",
         "marker": {
          "color": "#EF553B"
         },
         "name": "acer ",
         "notched": false,
         "offsetgroup": "acer ",
         "orientation": "h",
         "showlegend": true,
         "type": "box",
         "x": [
          64990,
          49990,
          35990,
          38990,
          53990,
          116,
          116,
          35990,
          49990,
          38990,
          53990,
          42990,
          50990,
          35990,
          38990,
          116,
          35990,
          38990,
          116,
          42990,
          35990,
          50990,
          38990,
          116,
          35990,
          38990,
          116,
          42990,
          59990,
          35990,
          38990,
          154,
          63999,
          116,
          42990,
          38990,
          59990,
          116,
          35990,
          42990,
          35990,
          38990,
          116,
          42990,
          116,
          35990,
          38990,
          186,
          64990,
          42990,
          35990,
          38990,
          116,
          42990,
          35990,
          38990,
          64990,
          116,
          35990,
          116,
          38990,
          186,
          64990,
          42990,
          35990,
          38990,
          116,
          42990,
          35990,
          38990,
          64990,
          116,
          35990,
          38990,
          114,
          64990,
          116,
          114,
          35990,
          38990,
          64990,
          116,
          35990,
          38990,
          59434,
          129,
          64990,
          116,
          35990,
          38990,
          68999,
          64990,
          116,
          30500,
          54999,
          42990,
          79990,
          35990,
          55480,
          64990,
          116,
          42990,
          38990,
          35990,
          38490,
          38990,
          62990,
          64990,
          64990,
          72964,
          116,
          35990,
          38990,
          54480,
          116,
          42990,
          35990,
          81998,
          38990,
          64990,
          116,
          35990,
          38990,
          116,
          42990,
          35990,
          38990,
          78000,
          64990,
          116
         ],
         "x0": " ",
         "xaxis": "x",
         "y0": " ",
         "yaxis": "y"
        },
        {
         "alignmentgroup": "True",
         "hovertemplate": "color=DELL <br>x=%{x}<extra></extra>",
         "legendgroup": "DELL ",
         "marker": {
          "color": "#00cc96"
         },
         "name": "DELL ",
         "notched": false,
         "offsetgroup": "DELL ",
         "orientation": "h",
         "showlegend": true,
         "type": "box",
         "x": [
          39475,
          39475,
          68240,
          37490,
          69400,
          49871,
          62175,
          54890,
          42890,
          46989,
          202,
          31490,
          59990,
          152,
          69500,
          114,
          65857,
          57390,
          147,
          152,
          69500,
          65857,
          43500,
          56899,
          95825,
          95825,
          88790,
          57440,
          121,
          58232,
          34990,
          109,
          76990,
          89149,
          61190,
          40999,
          67590,
          69990,
          79990,
          30990,
          92990,
          79490,
          79999,
          45990,
          109,
          93750,
          79990,
          60990,
          73387,
          39300
         ],
         "x0": " ",
         "xaxis": "x",
         "y0": " ",
         "yaxis": "y"
        },
        {
         "alignmentgroup": "True",
         "hovertemplate": "color=MSI <br>x=%{x}<extra></extra>",
         "legendgroup": "MSI ",
         "marker": {
          "color": "#ab63fa"
         },
         "name": "MSI ",
         "notched": false,
         "offsetgroup": "MSI ",
         "orientation": "h",
         "showlegend": true,
         "type": "box",
         "x": [
          39990,
          99990,
          56990,
          39990,
          99990,
          56990,
          74990,
          99990,
          60990,
          72990,
          99990,
          72990,
          51990,
          99990,
          43990,
          99990,
          99990,
          194,
          99990,
          254,
          51990,
          264,
          49990,
          185,
          149,
          244,
          99990,
          99990,
          99990,
          159,
          239,
          99990,
          239,
          99990,
          99990,
          62990,
          79990,
          99990,
          99990,
          99990,
          99990,
          99990,
          99990
         ],
         "x0": " ",
         "xaxis": "x",
         "y0": " ",
         "yaxis": "y"
        },
        {
         "alignmentgroup": "True",
         "hovertemplate": "color=Lenovo <br>x=%{x}<extra></extra>",
         "legendgroup": "Lenovo ",
         "marker": {
          "color": "#FFA15A"
         },
         "name": "Lenovo ",
         "notched": false,
         "offsetgroup": "Lenovo ",
         "orientation": "h",
         "showlegend": true,
         "type": "box",
         "x": [
          42990,
          60990,
          44990,
          42990,
          67990,
          44990,
          63990,
          43990,
          69990,
          69990,
          57990,
          33990,
          29990,
          42990,
          43990,
          50456,
          79990,
          53990,
          43990,
          66990,
          43990,
          58990,
          26990,
          44990,
          61990,
          43990,
          69990,
          35990,
          26990,
          38490,
          43990,
          46990,
          43990,
          69990,
          129,
          77990,
          74990,
          43990,
          74990,
          44999,
          67990,
          43990,
          27990,
          69990,
          129,
          43990,
          59990,
          48990,
          77990,
          43990,
          45990,
          74990,
          59898,
          53990,
          43990,
          27990,
          229,
          27990,
          229,
          75990,
          43990,
          52490,
          46990,
          43990,
          29990,
          41990,
          99990,
          43990,
          36990,
          117,
          86000,
          78938,
          43990,
          124,
          64821,
          78990,
          174,
          147,
          43990,
          67999,
          32990,
          43990,
          38990,
          25999,
          49988,
          71990,
          120,
          43990,
          37990,
          129,
          262,
          43990,
          49990,
          57999,
          43990,
          58990,
          43990,
          43990
         ],
         "x0": " ",
         "xaxis": "x",
         "y0": " ",
         "yaxis": "y"
        },
        {
         "alignmentgroup": "True",
         "hovertemplate": "color=ASUS <br>x=%{x}<extra></extra>",
         "legendgroup": "ASUS ",
         "marker": {
          "color": "#19d3f3"
         },
         "name": "ASUS ",
         "notched": false,
         "offsetgroup": "ASUS ",
         "orientation": "h",
         "showlegend": true,
         "type": "box",
         "x": [
          66990,
          37990,
          66990,
          37990,
          58990,
          33990,
          92990,
          44990,
          86990,
          38990,
          53990,
          77990,
          23990,
          92990,
          59990,
          59990,
          71990,
          62990,
          56990,
          159,
          59990,
          154,
          72990,
          89990,
          62990,
          61990,
          49990,
          43890,
          68990,
          39949,
          99580,
          112,
          42980,
          62990,
          104,
          154,
          40990,
          224,
          86490,
          62990,
          68990,
          44590,
          37980,
          290,
          62699,
          67551,
          59990,
          64990,
          59990,
          269,
          28990,
          67551,
          269,
          69290,
          224,
          40990,
          74990,
          44590,
          68990,
          33990,
          41790,
          62699,
          204,
          290,
          54990,
          105,
          86990,
          146,
          44990,
          139,
          169,
          64990,
          64990,
          139,
          54999,
          146,
          44990,
          99390,
          73990,
          154,
          52890,
          59990,
          65990,
          105,
          46990,
          91990,
          105,
          46990,
          41990,
          91990,
          35690,
          74790,
          88990,
          132,
          32990,
          233,
          69990,
          94990,
          57990,
          46990,
          94990,
          60970,
          58990,
          77990,
          83990,
          31990,
          85990,
          64990,
          109,
          42990,
          134,
          75990,
          274,
          71990,
          87990,
          149,
          64299,
          109,
          164,
          119,
          26890,
          62990,
          65990,
          89990,
          74990,
          49990,
          124,
          69990,
          65990,
          64208,
          84990,
          54499,
          35900,
          139,
          33780,
          69990,
          82990,
          72990,
          149,
          109,
          82990,
          84490,
          134,
          23480,
          26850,
          56390,
          51000,
          64990,
          32270,
          75990
         ],
         "x0": " ",
         "xaxis": "x",
         "y0": " ",
         "yaxis": "y"
        },
        {
         "alignmentgroup": "True",
         "hovertemplate": "color=Avita <br>x=%{x}<extra></extra>",
         "legendgroup": "Avita ",
         "marker": {
          "color": "#FF6692"
         },
         "name": "Avita ",
         "notched": false,
         "offsetgroup": "Avita ",
         "orientation": "h",
         "showlegend": true,
         "type": "box",
         "x": [
          17990,
          17990,
          40890,
          38990,
          38990,
          40890,
          38956
         ],
         "x0": " ",
         "xaxis": "x",
         "y0": " ",
         "yaxis": "y"
        },
        {
         "alignmentgroup": "True",
         "hovertemplate": "color=Mi <br>x=%{x}<extra></extra>",
         "legendgroup": "Mi ",
         "marker": {
          "color": "#B6E880"
         },
         "name": "Mi ",
         "notched": false,
         "offsetgroup": "Mi ",
         "orientation": "h",
         "showlegend": true,
         "type": "box",
         "x": [
          46999,
          59999,
          54999
         ],
         "x0": " ",
         "xaxis": "x",
         "y0": " ",
         "yaxis": "y"
        },
        {
         "alignmentgroup": "True",
         "hovertemplate": "color=APPLE <br>x=%{x}<extra></extra>",
         "legendgroup": "APPLE ",
         "marker": {
          "color": "#FF97FF"
         },
         "name": "APPLE ",
         "notched": false,
         "offsetgroup": "APPLE ",
         "orientation": "h",
         "showlegend": true,
         "type": "box",
         "x": [
          92900,
          98990,
          114,
          116,
          76990,
          118,
          195,
          139,
          169,
          224,
          174,
          109,
          169,
          174,
          199,
          92990
         ],
         "x0": " ",
         "xaxis": "x",
         "y0": " ",
         "yaxis": "y"
        },
        {
         "alignmentgroup": "True",
         "hovertemplate": "color=lenovo <br>x=%{x}<extra></extra>",
         "legendgroup": "lenovo ",
         "marker": {
          "color": "#FECB52"
         },
         "name": "lenovo ",
         "notched": false,
         "offsetgroup": "lenovo ",
         "orientation": "h",
         "showlegend": true,
         "type": "box",
         "x": [
          97990,
          60990
         ],
         "x0": " ",
         "xaxis": "x",
         "y0": " ",
         "yaxis": "y"
        },
        {
         "alignmentgroup": "True",
         "hovertemplate": "color=MICROSOFT <br>x=%{x}<extra></extra>",
         "legendgroup": "MICROSOFT ",
         "marker": {
          "color": "#636efa"
         },
         "name": "MICROSOFT ",
         "notched": false,
         "offsetgroup": "MICROSOFT ",
         "orientation": "h",
         "showlegend": true,
         "type": "box",
         "x": [
          99990,
          89990,
          99990,
          99990,
          38549
         ],
         "x0": " ",
         "xaxis": "x",
         "y0": " ",
         "yaxis": "y"
        },
        {
         "alignmentgroup": "True",
         "hovertemplate": "color=ALIENWARE <br>x=%{x}<extra></extra>",
         "legendgroup": "ALIENWARE ",
         "marker": {
          "color": "#EF553B"
         },
         "name": "ALIENWARE ",
         "notched": false,
         "offsetgroup": "ALIENWARE ",
         "orientation": "h",
         "showlegend": true,
         "type": "box",
         "x": [
          243,
          174,
          243,
          174,
          174,
          174,
          204
         ],
         "x0": " ",
         "xaxis": "x",
         "y0": " ",
         "yaxis": "y"
        },
        {
         "alignmentgroup": "True",
         "hovertemplate": "color=Vaio <br>x=%{x}<extra></extra>",
         "legendgroup": "Vaio ",
         "marker": {
          "color": "#00cc96"
         },
         "name": "Vaio ",
         "notched": false,
         "offsetgroup": "Vaio ",
         "orientation": "h",
         "showlegend": true,
         "type": "box",
         "x": [
          59990,
          59990,
          50990,
          59990
         ],
         "x0": " ",
         "xaxis": "x",
         "y0": " ",
         "yaxis": "y"
        },
        {
         "alignmentgroup": "True",
         "hovertemplate": "color=LG <br>x=%{x}<extra></extra>",
         "legendgroup": "LG ",
         "marker": {
          "color": "#ab63fa"
         },
         "name": "LG ",
         "notched": false,
         "offsetgroup": "LG ",
         "orientation": "h",
         "showlegend": true,
         "type": "box",
         "x": [
          69990,
          72990
         ],
         "x0": " ",
         "xaxis": "x",
         "y0": " ",
         "yaxis": "y"
        },
        {
         "alignmentgroup": "True",
         "hovertemplate": "color=Nexstgo <br>x=%{x}<extra></extra>",
         "legendgroup": "Nexstgo ",
         "marker": {
          "color": "#FFA15A"
         },
         "name": "Nexstgo ",
         "notched": false,
         "offsetgroup": "Nexstgo ",
         "orientation": "h",
         "showlegend": true,
         "type": "box",
         "x": [
          79990
         ],
         "x0": " ",
         "xaxis": "x",
         "y0": " ",
         "yaxis": "y"
        },
        {
         "alignmentgroup": "True",
         "hovertemplate": "color=iBall <br>x=%{x}<extra></extra>",
         "legendgroup": "iBall ",
         "marker": {
          "color": "#19d3f3"
         },
         "name": "iBall ",
         "notched": false,
         "offsetgroup": "iBall ",
         "orientation": "h",
         "showlegend": true,
         "type": "box",
         "x": [
          13990
         ],
         "x0": " ",
         "xaxis": "x",
         "y0": " ",
         "yaxis": "y"
        }
       ],
       "layout": {
        "boxmode": "group",
        "legend": {
         "title": {
          "text": "color"
         },
         "tracegroupgap": 0
        },
        "margin": {
         "t": 60
        },
        "template": {
         "data": {
          "bar": [
           {
            "error_x": {
             "color": "#2a3f5f"
            },
            "error_y": {
             "color": "#2a3f5f"
            },
            "marker": {
             "line": {
              "color": "#E5ECF6",
              "width": 0.5
             }
            },
            "type": "bar"
           }
          ],
          "barpolar": [
           {
            "marker": {
             "line": {
              "color": "#E5ECF6",
              "width": 0.5
             }
            },
            "type": "barpolar"
           }
          ],
          "carpet": [
           {
            "aaxis": {
             "endlinecolor": "#2a3f5f",
             "gridcolor": "white",
             "linecolor": "white",
             "minorgridcolor": "white",
             "startlinecolor": "#2a3f5f"
            },
            "baxis": {
             "endlinecolor": "#2a3f5f",
             "gridcolor": "white",
             "linecolor": "white",
             "minorgridcolor": "white",
             "startlinecolor": "#2a3f5f"
            },
            "type": "carpet"
           }
          ],
          "choropleth": [
           {
            "colorbar": {
             "outlinewidth": 0,
             "ticks": ""
            },
            "type": "choropleth"
           }
          ],
          "contour": [
           {
            "colorbar": {
             "outlinewidth": 0,
             "ticks": ""
            },
            "colorscale": [
             [
              0,
              "#0d0887"
             ],
             [
              0.1111111111111111,
              "#46039f"
             ],
             [
              0.2222222222222222,
              "#7201a8"
             ],
             [
              0.3333333333333333,
              "#9c179e"
             ],
             [
              0.4444444444444444,
              "#bd3786"
             ],
             [
              0.5555555555555556,
              "#d8576b"
             ],
             [
              0.6666666666666666,
              "#ed7953"
             ],
             [
              0.7777777777777778,
              "#fb9f3a"
             ],
             [
              0.8888888888888888,
              "#fdca26"
             ],
             [
              1,
              "#f0f921"
             ]
            ],
            "type": "contour"
           }
          ],
          "contourcarpet": [
           {
            "colorbar": {
             "outlinewidth": 0,
             "ticks": ""
            },
            "type": "contourcarpet"
           }
          ],
          "heatmap": [
           {
            "colorbar": {
             "outlinewidth": 0,
             "ticks": ""
            },
            "colorscale": [
             [
              0,
              "#0d0887"
             ],
             [
              0.1111111111111111,
              "#46039f"
             ],
             [
              0.2222222222222222,
              "#7201a8"
             ],
             [
              0.3333333333333333,
              "#9c179e"
             ],
             [
              0.4444444444444444,
              "#bd3786"
             ],
             [
              0.5555555555555556,
              "#d8576b"
             ],
             [
              0.6666666666666666,
              "#ed7953"
             ],
             [
              0.7777777777777778,
              "#fb9f3a"
             ],
             [
              0.8888888888888888,
              "#fdca26"
             ],
             [
              1,
              "#f0f921"
             ]
            ],
            "type": "heatmap"
           }
          ],
          "heatmapgl": [
           {
            "colorbar": {
             "outlinewidth": 0,
             "ticks": ""
            },
            "colorscale": [
             [
              0,
              "#0d0887"
             ],
             [
              0.1111111111111111,
              "#46039f"
             ],
             [
              0.2222222222222222,
              "#7201a8"
             ],
             [
              0.3333333333333333,
              "#9c179e"
             ],
             [
              0.4444444444444444,
              "#bd3786"
             ],
             [
              0.5555555555555556,
              "#d8576b"
             ],
             [
              0.6666666666666666,
              "#ed7953"
             ],
             [
              0.7777777777777778,
              "#fb9f3a"
             ],
             [
              0.8888888888888888,
              "#fdca26"
             ],
             [
              1,
              "#f0f921"
             ]
            ],
            "type": "heatmapgl"
           }
          ],
          "histogram": [
           {
            "marker": {
             "colorbar": {
              "outlinewidth": 0,
              "ticks": ""
             }
            },
            "type": "histogram"
           }
          ],
          "histogram2d": [
           {
            "colorbar": {
             "outlinewidth": 0,
             "ticks": ""
            },
            "colorscale": [
             [
              0,
              "#0d0887"
             ],
             [
              0.1111111111111111,
              "#46039f"
             ],
             [
              0.2222222222222222,
              "#7201a8"
             ],
             [
              0.3333333333333333,
              "#9c179e"
             ],
             [
              0.4444444444444444,
              "#bd3786"
             ],
             [
              0.5555555555555556,
              "#d8576b"
             ],
             [
              0.6666666666666666,
              "#ed7953"
             ],
             [
              0.7777777777777778,
              "#fb9f3a"
             ],
             [
              0.8888888888888888,
              "#fdca26"
             ],
             [
              1,
              "#f0f921"
             ]
            ],
            "type": "histogram2d"
           }
          ],
          "histogram2dcontour": [
           {
            "colorbar": {
             "outlinewidth": 0,
             "ticks": ""
            },
            "colorscale": [
             [
              0,
              "#0d0887"
             ],
             [
              0.1111111111111111,
              "#46039f"
             ],
             [
              0.2222222222222222,
              "#7201a8"
             ],
             [
              0.3333333333333333,
              "#9c179e"
             ],
             [
              0.4444444444444444,
              "#bd3786"
             ],
             [
              0.5555555555555556,
              "#d8576b"
             ],
             [
              0.6666666666666666,
              "#ed7953"
             ],
             [
              0.7777777777777778,
              "#fb9f3a"
             ],
             [
              0.8888888888888888,
              "#fdca26"
             ],
             [
              1,
              "#f0f921"
             ]
            ],
            "type": "histogram2dcontour"
           }
          ],
          "mesh3d": [
           {
            "colorbar": {
             "outlinewidth": 0,
             "ticks": ""
            },
            "type": "mesh3d"
           }
          ],
          "parcoords": [
           {
            "line": {
             "colorbar": {
              "outlinewidth": 0,
              "ticks": ""
             }
            },
            "type": "parcoords"
           }
          ],
          "pie": [
           {
            "automargin": true,
            "type": "pie"
           }
          ],
          "scatter": [
           {
            "marker": {
             "colorbar": {
              "outlinewidth": 0,
              "ticks": ""
             }
            },
            "type": "scatter"
           }
          ],
          "scatter3d": [
           {
            "line": {
             "colorbar": {
              "outlinewidth": 0,
              "ticks": ""
             }
            },
            "marker": {
             "colorbar": {
              "outlinewidth": 0,
              "ticks": ""
             }
            },
            "type": "scatter3d"
           }
          ],
          "scattercarpet": [
           {
            "marker": {
             "colorbar": {
              "outlinewidth": 0,
              "ticks": ""
             }
            },
            "type": "scattercarpet"
           }
          ],
          "scattergeo": [
           {
            "marker": {
             "colorbar": {
              "outlinewidth": 0,
              "ticks": ""
             }
            },
            "type": "scattergeo"
           }
          ],
          "scattergl": [
           {
            "marker": {
             "colorbar": {
              "outlinewidth": 0,
              "ticks": ""
             }
            },
            "type": "scattergl"
           }
          ],
          "scattermapbox": [
           {
            "marker": {
             "colorbar": {
              "outlinewidth": 0,
              "ticks": ""
             }
            },
            "type": "scattermapbox"
           }
          ],
          "scatterpolar": [
           {
            "marker": {
             "colorbar": {
              "outlinewidth": 0,
              "ticks": ""
             }
            },
            "type": "scatterpolar"
           }
          ],
          "scatterpolargl": [
           {
            "marker": {
             "colorbar": {
              "outlinewidth": 0,
              "ticks": ""
             }
            },
            "type": "scatterpolargl"
           }
          ],
          "scatterternary": [
           {
            "marker": {
             "colorbar": {
              "outlinewidth": 0,
              "ticks": ""
             }
            },
            "type": "scatterternary"
           }
          ],
          "surface": [
           {
            "colorbar": {
             "outlinewidth": 0,
             "ticks": ""
            },
            "colorscale": [
             [
              0,
              "#0d0887"
             ],
             [
              0.1111111111111111,
              "#46039f"
             ],
             [
              0.2222222222222222,
              "#7201a8"
             ],
             [
              0.3333333333333333,
              "#9c179e"
             ],
             [
              0.4444444444444444,
              "#bd3786"
             ],
             [
              0.5555555555555556,
              "#d8576b"
             ],
             [
              0.6666666666666666,
              "#ed7953"
             ],
             [
              0.7777777777777778,
              "#fb9f3a"
             ],
             [
              0.8888888888888888,
              "#fdca26"
             ],
             [
              1,
              "#f0f921"
             ]
            ],
            "type": "surface"
           }
          ],
          "table": [
           {
            "cells": {
             "fill": {
              "color": "#EBF0F8"
             },
             "line": {
              "color": "white"
             }
            },
            "header": {
             "fill": {
              "color": "#C8D4E3"
             },
             "line": {
              "color": "white"
             }
            },
            "type": "table"
           }
          ]
         },
         "layout": {
          "annotationdefaults": {
           "arrowcolor": "#2a3f5f",
           "arrowhead": 0,
           "arrowwidth": 1
          },
          "autotypenumbers": "strict",
          "coloraxis": {
           "colorbar": {
            "outlinewidth": 0,
            "ticks": ""
           }
          },
          "colorscale": {
           "diverging": [
            [
             0,
             "#8e0152"
            ],
            [
             0.1,
             "#c51b7d"
            ],
            [
             0.2,
             "#de77ae"
            ],
            [
             0.3,
             "#f1b6da"
            ],
            [
             0.4,
             "#fde0ef"
            ],
            [
             0.5,
             "#f7f7f7"
            ],
            [
             0.6,
             "#e6f5d0"
            ],
            [
             0.7,
             "#b8e186"
            ],
            [
             0.8,
             "#7fbc41"
            ],
            [
             0.9,
             "#4d9221"
            ],
            [
             1,
             "#276419"
            ]
           ],
           "sequential": [
            [
             0,
             "#0d0887"
            ],
            [
             0.1111111111111111,
             "#46039f"
            ],
            [
             0.2222222222222222,
             "#7201a8"
            ],
            [
             0.3333333333333333,
             "#9c179e"
            ],
            [
             0.4444444444444444,
             "#bd3786"
            ],
            [
             0.5555555555555556,
             "#d8576b"
            ],
            [
             0.6666666666666666,
             "#ed7953"
            ],
            [
             0.7777777777777778,
             "#fb9f3a"
            ],
            [
             0.8888888888888888,
             "#fdca26"
            ],
            [
             1,
             "#f0f921"
            ]
           ],
           "sequentialminus": [
            [
             0,
             "#0d0887"
            ],
            [
             0.1111111111111111,
             "#46039f"
            ],
            [
             0.2222222222222222,
             "#7201a8"
            ],
            [
             0.3333333333333333,
             "#9c179e"
            ],
            [
             0.4444444444444444,
             "#bd3786"
            ],
            [
             0.5555555555555556,
             "#d8576b"
            ],
            [
             0.6666666666666666,
             "#ed7953"
            ],
            [
             0.7777777777777778,
             "#fb9f3a"
            ],
            [
             0.8888888888888888,
             "#fdca26"
            ],
            [
             1,
             "#f0f921"
            ]
           ]
          },
          "colorway": [
           "#636efa",
           "#EF553B",
           "#00cc96",
           "#ab63fa",
           "#FFA15A",
           "#19d3f3",
           "#FF6692",
           "#B6E880",
           "#FF97FF",
           "#FECB52"
          ],
          "font": {
           "color": "#2a3f5f"
          },
          "geo": {
           "bgcolor": "white",
           "lakecolor": "white",
           "landcolor": "#E5ECF6",
           "showlakes": true,
           "showland": true,
           "subunitcolor": "white"
          },
          "hoverlabel": {
           "align": "left"
          },
          "hovermode": "closest",
          "mapbox": {
           "style": "light"
          },
          "paper_bgcolor": "white",
          "plot_bgcolor": "#E5ECF6",
          "polar": {
           "angularaxis": {
            "gridcolor": "white",
            "linecolor": "white",
            "ticks": ""
           },
           "bgcolor": "#E5ECF6",
           "radialaxis": {
            "gridcolor": "white",
            "linecolor": "white",
            "ticks": ""
           }
          },
          "scene": {
           "xaxis": {
            "backgroundcolor": "#E5ECF6",
            "gridcolor": "white",
            "gridwidth": 2,
            "linecolor": "white",
            "showbackground": true,
            "ticks": "",
            "zerolinecolor": "white"
           },
           "yaxis": {
            "backgroundcolor": "#E5ECF6",
            "gridcolor": "white",
            "gridwidth": 2,
            "linecolor": "white",
            "showbackground": true,
            "ticks": "",
            "zerolinecolor": "white"
           },
           "zaxis": {
            "backgroundcolor": "#E5ECF6",
            "gridcolor": "white",
            "gridwidth": 2,
            "linecolor": "white",
            "showbackground": true,
            "ticks": "",
            "zerolinecolor": "white"
           }
          },
          "shapedefaults": {
           "line": {
            "color": "#2a3f5f"
           }
          },
          "ternary": {
           "aaxis": {
            "gridcolor": "white",
            "linecolor": "white",
            "ticks": ""
           },
           "baxis": {
            "gridcolor": "white",
            "linecolor": "white",
            "ticks": ""
           },
           "bgcolor": "#E5ECF6",
           "caxis": {
            "gridcolor": "white",
            "linecolor": "white",
            "ticks": ""
           }
          },
          "title": {
           "x": 0.05
          },
          "xaxis": {
           "automargin": true,
           "gridcolor": "white",
           "linecolor": "white",
           "ticks": "",
           "title": {
            "standoff": 15
           },
           "zerolinecolor": "white",
           "zerolinewidth": 2
          },
          "yaxis": {
           "automargin": true,
           "gridcolor": "white",
           "linecolor": "white",
           "ticks": "",
           "title": {
            "standoff": 15
           },
           "zerolinecolor": "white",
           "zerolinewidth": 2
          }
         }
        },
        "xaxis": {
         "anchor": "y",
         "domain": [
          0,
          1
         ],
         "title": {
          "text": "x"
         }
        },
        "yaxis": {
         "anchor": "x",
         "domain": [
          0,
          1
         ]
        }
       }
      },
      "text/html": [
       "<div>                            <div id=\"7dde50a4-6616-4efe-8fd8-c9b9118892cb\" class=\"plotly-graph-div\" style=\"height:525px; width:100%;\"></div>            <script type=\"text/javascript\">                require([\"plotly\"], function(Plotly) {                    window.PLOTLYENV=window.PLOTLYENV || {};                                    if (document.getElementById(\"7dde50a4-6616-4efe-8fd8-c9b9118892cb\")) {                    Plotly.newPlot(                        \"7dde50a4-6616-4efe-8fd8-c9b9118892cb\",                        [{\"alignmentgroup\": \"True\", \"hovertemplate\": \"color=HP <br>x=%{x}<extra></extra>\", \"legendgroup\": \"HP \", \"marker\": {\"color\": \"#636efa\"}, \"name\": \"HP \", \"notched\": false, \"offsetgroup\": \"HP \", \"orientation\": \"h\", \"showlegend\": true, \"type\": \"box\", \"x\": [40990.0, 25990.0, 27499.0, 39490.0, 50990.0, 31490.0, 48990.0, 44490.0, 40990.0, 25990.0, 27499.0, 39490.0, 50990.0, 31490.0, 48990.0, 44490.0, 84990.0, 42490.0, 45490.0, 45490.0, 59990.0, 59990.0, 66900.0, 42499.0, 41990.0, 58888.0, 39490.0, 47990.0, 37990.0, 51890.0, 65990.0, 28350.0, 55480.0, 54990.0, 134.0, 53790.0, 29990.0, 39490.0, 143.0, 39490.0, 81990.0, 39490.0, 27490.0, 89179.0, 102.0, 31490.0, 143.0, 39490.0, 68990.0, 39490.0, 73990.0, 96490.0, 39990.0, 62990.0, 80990.0, 73990.0, 127.0, 127.0, 73990.0, 116.0, 151.0, 39990.0, 29990.0, 40990.0, 50990.0, 25990.0, 57490.0, 39490.0, 42900.0, 78990.0, 41990.0, 44490.0, 45990.0, 55990.0, 92500.0, 68000.0, 84000.0, 93400.0, 51000.0, 83400.0, 78900.0], \"x0\": \" \", \"xaxis\": \"x\", \"y0\": \" \", \"yaxis\": \"y\"}, {\"alignmentgroup\": \"True\", \"hovertemplate\": \"color=acer <br>x=%{x}<extra></extra>\", \"legendgroup\": \"acer \", \"marker\": {\"color\": \"#EF553B\"}, \"name\": \"acer \", \"notched\": false, \"offsetgroup\": \"acer \", \"orientation\": \"h\", \"showlegend\": true, \"type\": \"box\", \"x\": [64990.0, 49990.0, 35990.0, 38990.0, 53990.0, 116.0, 116.0, 35990.0, 49990.0, 38990.0, 53990.0, 42990.0, 50990.0, 35990.0, 38990.0, 116.0, 35990.0, 38990.0, 116.0, 42990.0, 35990.0, 50990.0, 38990.0, 116.0, 35990.0, 38990.0, 116.0, 42990.0, 59990.0, 35990.0, 38990.0, 154.0, 63999.0, 116.0, 42990.0, 38990.0, 59990.0, 116.0, 35990.0, 42990.0, 35990.0, 38990.0, 116.0, 42990.0, 116.0, 35990.0, 38990.0, 186.0, 64990.0, 42990.0, 35990.0, 38990.0, 116.0, 42990.0, 35990.0, 38990.0, 64990.0, 116.0, 35990.0, 116.0, 38990.0, 186.0, 64990.0, 42990.0, 35990.0, 38990.0, 116.0, 42990.0, 35990.0, 38990.0, 64990.0, 116.0, 35990.0, 38990.0, 114.0, 64990.0, 116.0, 114.0, 35990.0, 38990.0, 64990.0, 116.0, 35990.0, 38990.0, 59434.0, 129.0, 64990.0, 116.0, 35990.0, 38990.0, 68999.0, 64990.0, 116.0, 30500.0, 54999.0, 42990.0, 79990.0, 35990.0, 55480.0, 64990.0, 116.0, 42990.0, 38990.0, 35990.0, 38490.0, 38990.0, 62990.0, 64990.0, 64990.0, 72964.0, 116.0, 35990.0, 38990.0, 54480.0, 116.0, 42990.0, 35990.0, 81998.0, 38990.0, 64990.0, 116.0, 35990.0, 38990.0, 116.0, 42990.0, 35990.0, 38990.0, 78000.0, 64990.0, 116.0], \"x0\": \" \", \"xaxis\": \"x\", \"y0\": \" \", \"yaxis\": \"y\"}, {\"alignmentgroup\": \"True\", \"hovertemplate\": \"color=DELL <br>x=%{x}<extra></extra>\", \"legendgroup\": \"DELL \", \"marker\": {\"color\": \"#00cc96\"}, \"name\": \"DELL \", \"notched\": false, \"offsetgroup\": \"DELL \", \"orientation\": \"h\", \"showlegend\": true, \"type\": \"box\", \"x\": [39475.0, 39475.0, 68240.0, 37490.0, 69400.0, 49871.0, 62175.0, 54890.0, 42890.0, 46989.0, 202.0, 31490.0, 59990.0, 152.0, 69500.0, 114.0, 65857.0, 57390.0, 147.0, 152.0, 69500.0, 65857.0, 43500.0, 56899.0, 95825.0, 95825.0, 88790.0, 57440.0, 121.0, 58232.0, 34990.0, 109.0, 76990.0, 89149.0, 61190.0, 40999.0, 67590.0, 69990.0, 79990.0, 30990.0, 92990.0, 79490.0, 79999.0, 45990.0, 109.0, 93750.0, 79990.0, 60990.0, 73387.0, 39300.0], \"x0\": \" \", \"xaxis\": \"x\", \"y0\": \" \", \"yaxis\": \"y\"}, {\"alignmentgroup\": \"True\", \"hovertemplate\": \"color=MSI <br>x=%{x}<extra></extra>\", \"legendgroup\": \"MSI \", \"marker\": {\"color\": \"#ab63fa\"}, \"name\": \"MSI \", \"notched\": false, \"offsetgroup\": \"MSI \", \"orientation\": \"h\", \"showlegend\": true, \"type\": \"box\", \"x\": [39990.0, 99990.0, 56990.0, 39990.0, 99990.0, 56990.0, 74990.0, 99990.0, 60990.0, 72990.0, 99990.0, 72990.0, 51990.0, 99990.0, 43990.0, 99990.0, 99990.0, 194.0, 99990.0, 254.0, 51990.0, 264.0, 49990.0, 185.0, 149.0, 244.0, 99990.0, 99990.0, 99990.0, 159.0, 239.0, 99990.0, 239.0, 99990.0, 99990.0, 62990.0, 79990.0, 99990.0, 99990.0, 99990.0, 99990.0, 99990.0, 99990.0], \"x0\": \" \", \"xaxis\": \"x\", \"y0\": \" \", \"yaxis\": \"y\"}, {\"alignmentgroup\": \"True\", \"hovertemplate\": \"color=Lenovo <br>x=%{x}<extra></extra>\", \"legendgroup\": \"Lenovo \", \"marker\": {\"color\": \"#FFA15A\"}, \"name\": \"Lenovo \", \"notched\": false, \"offsetgroup\": \"Lenovo \", \"orientation\": \"h\", \"showlegend\": true, \"type\": \"box\", \"x\": [42990.0, 60990.0, 44990.0, 42990.0, 67990.0, 44990.0, 63990.0, 43990.0, 69990.0, 69990.0, 57990.0, 33990.0, 29990.0, 42990.0, 43990.0, 50456.0, 79990.0, 53990.0, 43990.0, 66990.0, 43990.0, 58990.0, 26990.0, 44990.0, 61990.0, 43990.0, 69990.0, 35990.0, 26990.0, 38490.0, 43990.0, 46990.0, 43990.0, 69990.0, 129.0, 77990.0, 74990.0, 43990.0, 74990.0, 44999.0, 67990.0, 43990.0, 27990.0, 69990.0, 129.0, 43990.0, 59990.0, 48990.0, 77990.0, 43990.0, 45990.0, 74990.0, 59898.0, 53990.0, 43990.0, 27990.0, 229.0, 27990.0, 229.0, 75990.0, 43990.0, 52490.0, 46990.0, 43990.0, 29990.0, 41990.0, 99990.0, 43990.0, 36990.0, 117.0, 86000.0, 78938.0, 43990.0, 124.0, 64821.0, 78990.0, 174.0, 147.0, 43990.0, 67999.0, 32990.0, 43990.0, 38990.0, 25999.0, 49988.0, 71990.0, 120.0, 43990.0, 37990.0, 129.0, 262.0, 43990.0, 49990.0, 57999.0, 43990.0, 58990.0, 43990.0, 43990.0], \"x0\": \" \", \"xaxis\": \"x\", \"y0\": \" \", \"yaxis\": \"y\"}, {\"alignmentgroup\": \"True\", \"hovertemplate\": \"color=ASUS <br>x=%{x}<extra></extra>\", \"legendgroup\": \"ASUS \", \"marker\": {\"color\": \"#19d3f3\"}, \"name\": \"ASUS \", \"notched\": false, \"offsetgroup\": \"ASUS \", \"orientation\": \"h\", \"showlegend\": true, \"type\": \"box\", \"x\": [66990.0, 37990.0, 66990.0, 37990.0, 58990.0, 33990.0, 92990.0, 44990.0, 86990.0, 38990.0, 53990.0, 77990.0, 23990.0, 92990.0, 59990.0, 59990.0, 71990.0, 62990.0, 56990.0, 159.0, 59990.0, 154.0, 72990.0, 89990.0, 62990.0, 61990.0, 49990.0, 43890.0, 68990.0, 39949.0, 99580.0, 112.0, 42980.0, 62990.0, 104.0, 154.0, 40990.0, 224.0, 86490.0, 62990.0, 68990.0, 44590.0, 37980.0, 290.0, 62699.0, 67551.0, 59990.0, 64990.0, 59990.0, 269.0, 28990.0, 67551.0, 269.0, 69290.0, 224.0, 40990.0, 74990.0, 44590.0, 68990.0, 33990.0, 41790.0, 62699.0, 204.0, 290.0, 54990.0, 105.0, 86990.0, 146.0, 44990.0, 139.0, 169.0, 64990.0, 64990.0, 139.0, 54999.0, 146.0, 44990.0, 99390.0, 73990.0, 154.0, 52890.0, 59990.0, 65990.0, 105.0, 46990.0, 91990.0, 105.0, 46990.0, 41990.0, 91990.0, 35690.0, 74790.0, 88990.0, 132.0, 32990.0, 233.0, 69990.0, 94990.0, 57990.0, 46990.0, 94990.0, 60970.0, 58990.0, 77990.0, 83990.0, 31990.0, 85990.0, 64990.0, 109.0, 42990.0, 134.0, 75990.0, 274.0, 71990.0, 87990.0, 149.0, 64299.0, 109.0, 164.0, 119.0, 26890.0, 62990.0, 65990.0, 89990.0, 74990.0, 49990.0, 124.0, 69990.0, 65990.0, 64208.0, 84990.0, 54499.0, 35900.0, 139.0, 33780.0, 69990.0, 82990.0, 72990.0, 149.0, 109.0, 82990.0, 84490.0, 134.0, 23480.0, 26850.0, 56390.0, 51000.0, 64990.0, 32270.0, 75990.0], \"x0\": \" \", \"xaxis\": \"x\", \"y0\": \" \", \"yaxis\": \"y\"}, {\"alignmentgroup\": \"True\", \"hovertemplate\": \"color=Avita <br>x=%{x}<extra></extra>\", \"legendgroup\": \"Avita \", \"marker\": {\"color\": \"#FF6692\"}, \"name\": \"Avita \", \"notched\": false, \"offsetgroup\": \"Avita \", \"orientation\": \"h\", \"showlegend\": true, \"type\": \"box\", \"x\": [17990.0, 17990.0, 40890.0, 38990.0, 38990.0, 40890.0, 38956.0], \"x0\": \" \", \"xaxis\": \"x\", \"y0\": \" \", \"yaxis\": \"y\"}, {\"alignmentgroup\": \"True\", \"hovertemplate\": \"color=Mi <br>x=%{x}<extra></extra>\", \"legendgroup\": \"Mi \", \"marker\": {\"color\": \"#B6E880\"}, \"name\": \"Mi \", \"notched\": false, \"offsetgroup\": \"Mi \", \"orientation\": \"h\", \"showlegend\": true, \"type\": \"box\", \"x\": [46999.0, 59999.0, 54999.0], \"x0\": \" \", \"xaxis\": \"x\", \"y0\": \" \", \"yaxis\": \"y\"}, {\"alignmentgroup\": \"True\", \"hovertemplate\": \"color=APPLE <br>x=%{x}<extra></extra>\", \"legendgroup\": \"APPLE \", \"marker\": {\"color\": \"#FF97FF\"}, \"name\": \"APPLE \", \"notched\": false, \"offsetgroup\": \"APPLE \", \"orientation\": \"h\", \"showlegend\": true, \"type\": \"box\", \"x\": [92900.0, 98990.0, 114.0, 116.0, 76990.0, 118.0, 195.0, 139.0, 169.0, 224.0, 174.0, 109.0, 169.0, 174.0, 199.0, 92990.0], \"x0\": \" \", \"xaxis\": \"x\", \"y0\": \" \", \"yaxis\": \"y\"}, {\"alignmentgroup\": \"True\", \"hovertemplate\": \"color=lenovo <br>x=%{x}<extra></extra>\", \"legendgroup\": \"lenovo \", \"marker\": {\"color\": \"#FECB52\"}, \"name\": \"lenovo \", \"notched\": false, \"offsetgroup\": \"lenovo \", \"orientation\": \"h\", \"showlegend\": true, \"type\": \"box\", \"x\": [97990.0, 60990.0], \"x0\": \" \", \"xaxis\": \"x\", \"y0\": \" \", \"yaxis\": \"y\"}, {\"alignmentgroup\": \"True\", \"hovertemplate\": \"color=MICROSOFT <br>x=%{x}<extra></extra>\", \"legendgroup\": \"MICROSOFT \", \"marker\": {\"color\": \"#636efa\"}, \"name\": \"MICROSOFT \", \"notched\": false, \"offsetgroup\": \"MICROSOFT \", \"orientation\": \"h\", \"showlegend\": true, \"type\": \"box\", \"x\": [99990.0, 89990.0, 99990.0, 99990.0, 38549.0], \"x0\": \" \", \"xaxis\": \"x\", \"y0\": \" \", \"yaxis\": \"y\"}, {\"alignmentgroup\": \"True\", \"hovertemplate\": \"color=ALIENWARE <br>x=%{x}<extra></extra>\", \"legendgroup\": \"ALIENWARE \", \"marker\": {\"color\": \"#EF553B\"}, \"name\": \"ALIENWARE \", \"notched\": false, \"offsetgroup\": \"ALIENWARE \", \"orientation\": \"h\", \"showlegend\": true, \"type\": \"box\", \"x\": [243.0, 174.0, 243.0, 174.0, 174.0, 174.0, 204.0], \"x0\": \" \", \"xaxis\": \"x\", \"y0\": \" \", \"yaxis\": \"y\"}, {\"alignmentgroup\": \"True\", \"hovertemplate\": \"color=Vaio <br>x=%{x}<extra></extra>\", \"legendgroup\": \"Vaio \", \"marker\": {\"color\": \"#00cc96\"}, \"name\": \"Vaio \", \"notched\": false, \"offsetgroup\": \"Vaio \", \"orientation\": \"h\", \"showlegend\": true, \"type\": \"box\", \"x\": [59990.0, 59990.0, 50990.0, 59990.0], \"x0\": \" \", \"xaxis\": \"x\", \"y0\": \" \", \"yaxis\": \"y\"}, {\"alignmentgroup\": \"True\", \"hovertemplate\": \"color=LG <br>x=%{x}<extra></extra>\", \"legendgroup\": \"LG \", \"marker\": {\"color\": \"#ab63fa\"}, \"name\": \"LG \", \"notched\": false, \"offsetgroup\": \"LG \", \"orientation\": \"h\", \"showlegend\": true, \"type\": \"box\", \"x\": [69990.0, 72990.0], \"x0\": \" \", \"xaxis\": \"x\", \"y0\": \" \", \"yaxis\": \"y\"}, {\"alignmentgroup\": \"True\", \"hovertemplate\": \"color=Nexstgo <br>x=%{x}<extra></extra>\", \"legendgroup\": \"Nexstgo \", \"marker\": {\"color\": \"#FFA15A\"}, \"name\": \"Nexstgo \", \"notched\": false, \"offsetgroup\": \"Nexstgo \", \"orientation\": \"h\", \"showlegend\": true, \"type\": \"box\", \"x\": [79990.0], \"x0\": \" \", \"xaxis\": \"x\", \"y0\": \" \", \"yaxis\": \"y\"}, {\"alignmentgroup\": \"True\", \"hovertemplate\": \"color=iBall <br>x=%{x}<extra></extra>\", \"legendgroup\": \"iBall \", \"marker\": {\"color\": \"#19d3f3\"}, \"name\": \"iBall \", \"notched\": false, \"offsetgroup\": \"iBall \", \"orientation\": \"h\", \"showlegend\": true, \"type\": \"box\", \"x\": [13990.0], \"x0\": \" \", \"xaxis\": \"x\", \"y0\": \" \", \"yaxis\": \"y\"}],                        {\"boxmode\": \"group\", \"legend\": {\"title\": {\"text\": \"color\"}, \"tracegroupgap\": 0}, \"margin\": {\"t\": 60}, \"template\": {\"data\": {\"bar\": [{\"error_x\": {\"color\": \"#2a3f5f\"}, \"error_y\": {\"color\": \"#2a3f5f\"}, \"marker\": {\"line\": {\"color\": \"#E5ECF6\", \"width\": 0.5}}, \"type\": \"bar\"}], \"barpolar\": [{\"marker\": {\"line\": {\"color\": \"#E5ECF6\", \"width\": 0.5}}, \"type\": \"barpolar\"}], \"carpet\": [{\"aaxis\": {\"endlinecolor\": \"#2a3f5f\", \"gridcolor\": \"white\", \"linecolor\": \"white\", \"minorgridcolor\": \"white\", \"startlinecolor\": \"#2a3f5f\"}, \"baxis\": {\"endlinecolor\": \"#2a3f5f\", \"gridcolor\": \"white\", \"linecolor\": \"white\", \"minorgridcolor\": \"white\", \"startlinecolor\": \"#2a3f5f\"}, \"type\": \"carpet\"}], \"choropleth\": [{\"colorbar\": {\"outlinewidth\": 0, \"ticks\": \"\"}, \"type\": \"choropleth\"}], \"contour\": [{\"colorbar\": {\"outlinewidth\": 0, \"ticks\": \"\"}, \"colorscale\": [[0.0, \"#0d0887\"], [0.1111111111111111, \"#46039f\"], [0.2222222222222222, \"#7201a8\"], [0.3333333333333333, \"#9c179e\"], [0.4444444444444444, \"#bd3786\"], [0.5555555555555556, \"#d8576b\"], [0.6666666666666666, \"#ed7953\"], [0.7777777777777778, \"#fb9f3a\"], [0.8888888888888888, \"#fdca26\"], [1.0, \"#f0f921\"]], \"type\": \"contour\"}], \"contourcarpet\": [{\"colorbar\": {\"outlinewidth\": 0, \"ticks\": \"\"}, \"type\": \"contourcarpet\"}], \"heatmap\": [{\"colorbar\": {\"outlinewidth\": 0, \"ticks\": \"\"}, \"colorscale\": [[0.0, \"#0d0887\"], [0.1111111111111111, \"#46039f\"], [0.2222222222222222, \"#7201a8\"], [0.3333333333333333, \"#9c179e\"], [0.4444444444444444, \"#bd3786\"], [0.5555555555555556, \"#d8576b\"], [0.6666666666666666, \"#ed7953\"], [0.7777777777777778, \"#fb9f3a\"], [0.8888888888888888, \"#fdca26\"], [1.0, \"#f0f921\"]], \"type\": \"heatmap\"}], \"heatmapgl\": [{\"colorbar\": {\"outlinewidth\": 0, \"ticks\": \"\"}, \"colorscale\": [[0.0, \"#0d0887\"], [0.1111111111111111, \"#46039f\"], [0.2222222222222222, \"#7201a8\"], [0.3333333333333333, \"#9c179e\"], [0.4444444444444444, \"#bd3786\"], [0.5555555555555556, \"#d8576b\"], [0.6666666666666666, \"#ed7953\"], [0.7777777777777778, \"#fb9f3a\"], [0.8888888888888888, \"#fdca26\"], [1.0, \"#f0f921\"]], \"type\": \"heatmapgl\"}], \"histogram\": [{\"marker\": {\"colorbar\": {\"outlinewidth\": 0, \"ticks\": \"\"}}, \"type\": \"histogram\"}], \"histogram2d\": [{\"colorbar\": {\"outlinewidth\": 0, \"ticks\": \"\"}, \"colorscale\": [[0.0, \"#0d0887\"], [0.1111111111111111, \"#46039f\"], [0.2222222222222222, \"#7201a8\"], [0.3333333333333333, \"#9c179e\"], [0.4444444444444444, \"#bd3786\"], [0.5555555555555556, \"#d8576b\"], [0.6666666666666666, \"#ed7953\"], [0.7777777777777778, \"#fb9f3a\"], [0.8888888888888888, \"#fdca26\"], [1.0, \"#f0f921\"]], \"type\": \"histogram2d\"}], \"histogram2dcontour\": [{\"colorbar\": {\"outlinewidth\": 0, \"ticks\": \"\"}, \"colorscale\": [[0.0, \"#0d0887\"], [0.1111111111111111, \"#46039f\"], [0.2222222222222222, \"#7201a8\"], [0.3333333333333333, \"#9c179e\"], [0.4444444444444444, \"#bd3786\"], [0.5555555555555556, \"#d8576b\"], [0.6666666666666666, \"#ed7953\"], [0.7777777777777778, \"#fb9f3a\"], [0.8888888888888888, \"#fdca26\"], [1.0, \"#f0f921\"]], \"type\": \"histogram2dcontour\"}], \"mesh3d\": [{\"colorbar\": {\"outlinewidth\": 0, \"ticks\": \"\"}, \"type\": \"mesh3d\"}], \"parcoords\": [{\"line\": {\"colorbar\": {\"outlinewidth\": 0, \"ticks\": \"\"}}, \"type\": \"parcoords\"}], \"pie\": [{\"automargin\": true, \"type\": \"pie\"}], \"scatter\": [{\"marker\": {\"colorbar\": {\"outlinewidth\": 0, \"ticks\": \"\"}}, \"type\": \"scatter\"}], \"scatter3d\": [{\"line\": {\"colorbar\": {\"outlinewidth\": 0, \"ticks\": \"\"}}, \"marker\": {\"colorbar\": {\"outlinewidth\": 0, \"ticks\": \"\"}}, \"type\": \"scatter3d\"}], \"scattercarpet\": [{\"marker\": {\"colorbar\": {\"outlinewidth\": 0, \"ticks\": \"\"}}, \"type\": \"scattercarpet\"}], \"scattergeo\": [{\"marker\": {\"colorbar\": {\"outlinewidth\": 0, \"ticks\": \"\"}}, \"type\": \"scattergeo\"}], \"scattergl\": [{\"marker\": {\"colorbar\": {\"outlinewidth\": 0, \"ticks\": \"\"}}, \"type\": \"scattergl\"}], \"scattermapbox\": [{\"marker\": {\"colorbar\": {\"outlinewidth\": 0, \"ticks\": \"\"}}, \"type\": \"scattermapbox\"}], \"scatterpolar\": [{\"marker\": {\"colorbar\": {\"outlinewidth\": 0, \"ticks\": \"\"}}, \"type\": \"scatterpolar\"}], \"scatterpolargl\": [{\"marker\": {\"colorbar\": {\"outlinewidth\": 0, \"ticks\": \"\"}}, \"type\": \"scatterpolargl\"}], \"scatterternary\": [{\"marker\": {\"colorbar\": {\"outlinewidth\": 0, \"ticks\": \"\"}}, \"type\": \"scatterternary\"}], \"surface\": [{\"colorbar\": {\"outlinewidth\": 0, \"ticks\": \"\"}, \"colorscale\": [[0.0, \"#0d0887\"], [0.1111111111111111, \"#46039f\"], [0.2222222222222222, \"#7201a8\"], [0.3333333333333333, \"#9c179e\"], [0.4444444444444444, \"#bd3786\"], [0.5555555555555556, \"#d8576b\"], [0.6666666666666666, \"#ed7953\"], [0.7777777777777778, \"#fb9f3a\"], [0.8888888888888888, \"#fdca26\"], [1.0, \"#f0f921\"]], \"type\": \"surface\"}], \"table\": [{\"cells\": {\"fill\": {\"color\": \"#EBF0F8\"}, \"line\": {\"color\": \"white\"}}, \"header\": {\"fill\": {\"color\": \"#C8D4E3\"}, \"line\": {\"color\": \"white\"}}, \"type\": \"table\"}]}, \"layout\": {\"annotationdefaults\": {\"arrowcolor\": \"#2a3f5f\", \"arrowhead\": 0, \"arrowwidth\": 1}, \"autotypenumbers\": \"strict\", \"coloraxis\": {\"colorbar\": {\"outlinewidth\": 0, \"ticks\": \"\"}}, \"colorscale\": {\"diverging\": [[0, \"#8e0152\"], [0.1, \"#c51b7d\"], [0.2, \"#de77ae\"], [0.3, \"#f1b6da\"], [0.4, \"#fde0ef\"], [0.5, \"#f7f7f7\"], [0.6, \"#e6f5d0\"], [0.7, \"#b8e186\"], [0.8, \"#7fbc41\"], [0.9, \"#4d9221\"], [1, \"#276419\"]], \"sequential\": [[0.0, \"#0d0887\"], [0.1111111111111111, \"#46039f\"], [0.2222222222222222, \"#7201a8\"], [0.3333333333333333, \"#9c179e\"], [0.4444444444444444, \"#bd3786\"], [0.5555555555555556, \"#d8576b\"], [0.6666666666666666, \"#ed7953\"], [0.7777777777777778, \"#fb9f3a\"], [0.8888888888888888, \"#fdca26\"], [1.0, \"#f0f921\"]], \"sequentialminus\": [[0.0, \"#0d0887\"], [0.1111111111111111, \"#46039f\"], [0.2222222222222222, \"#7201a8\"], [0.3333333333333333, \"#9c179e\"], [0.4444444444444444, \"#bd3786\"], [0.5555555555555556, \"#d8576b\"], [0.6666666666666666, \"#ed7953\"], [0.7777777777777778, \"#fb9f3a\"], [0.8888888888888888, \"#fdca26\"], [1.0, \"#f0f921\"]]}, \"colorway\": [\"#636efa\", \"#EF553B\", \"#00cc96\", \"#ab63fa\", \"#FFA15A\", \"#19d3f3\", \"#FF6692\", \"#B6E880\", \"#FF97FF\", \"#FECB52\"], \"font\": {\"color\": \"#2a3f5f\"}, \"geo\": {\"bgcolor\": \"white\", \"lakecolor\": \"white\", \"landcolor\": \"#E5ECF6\", \"showlakes\": true, \"showland\": true, \"subunitcolor\": \"white\"}, \"hoverlabel\": {\"align\": \"left\"}, \"hovermode\": \"closest\", \"mapbox\": {\"style\": \"light\"}, \"paper_bgcolor\": \"white\", \"plot_bgcolor\": \"#E5ECF6\", \"polar\": {\"angularaxis\": {\"gridcolor\": \"white\", \"linecolor\": \"white\", \"ticks\": \"\"}, \"bgcolor\": \"#E5ECF6\", \"radialaxis\": {\"gridcolor\": \"white\", \"linecolor\": \"white\", \"ticks\": \"\"}}, \"scene\": {\"xaxis\": {\"backgroundcolor\": \"#E5ECF6\", \"gridcolor\": \"white\", \"gridwidth\": 2, \"linecolor\": \"white\", \"showbackground\": true, \"ticks\": \"\", \"zerolinecolor\": \"white\"}, \"yaxis\": {\"backgroundcolor\": \"#E5ECF6\", \"gridcolor\": \"white\", \"gridwidth\": 2, \"linecolor\": \"white\", \"showbackground\": true, \"ticks\": \"\", \"zerolinecolor\": \"white\"}, \"zaxis\": {\"backgroundcolor\": \"#E5ECF6\", \"gridcolor\": \"white\", \"gridwidth\": 2, \"linecolor\": \"white\", \"showbackground\": true, \"ticks\": \"\", \"zerolinecolor\": \"white\"}}, \"shapedefaults\": {\"line\": {\"color\": \"#2a3f5f\"}}, \"ternary\": {\"aaxis\": {\"gridcolor\": \"white\", \"linecolor\": \"white\", \"ticks\": \"\"}, \"baxis\": {\"gridcolor\": \"white\", \"linecolor\": \"white\", \"ticks\": \"\"}, \"bgcolor\": \"#E5ECF6\", \"caxis\": {\"gridcolor\": \"white\", \"linecolor\": \"white\", \"ticks\": \"\"}}, \"title\": {\"x\": 0.05}, \"xaxis\": {\"automargin\": true, \"gridcolor\": \"white\", \"linecolor\": \"white\", \"ticks\": \"\", \"title\": {\"standoff\": 15}, \"zerolinecolor\": \"white\", \"zerolinewidth\": 2}, \"yaxis\": {\"automargin\": true, \"gridcolor\": \"white\", \"linecolor\": \"white\", \"ticks\": \"\", \"title\": {\"standoff\": 15}, \"zerolinecolor\": \"white\", \"zerolinewidth\": 2}}}, \"xaxis\": {\"anchor\": \"y\", \"domain\": [0.0, 1.0], \"title\": {\"text\": \"x\"}}, \"yaxis\": {\"anchor\": \"x\", \"domain\": [0.0, 1.0]}},                        {\"responsive\": true}                    ).then(function(){\n",
       "                            \n",
       "var gd = document.getElementById('7dde50a4-6616-4efe-8fd8-c9b9118892cb');\n",
       "var x = new MutationObserver(function (mutations, observer) {{\n",
       "        var display = window.getComputedStyle(gd).display;\n",
       "        if (!display || display === 'none') {{\n",
       "            console.log([gd, 'removed!']);\n",
       "            Plotly.purge(gd);\n",
       "            observer.disconnect();\n",
       "        }}\n",
       "}});\n",
       "\n",
       "// Listen for the removal of the full notebook cells\n",
       "var notebookContainer = gd.closest('#notebook-container');\n",
       "if (notebookContainer) {{\n",
       "    x.observe(notebookContainer, {childList: true});\n",
       "}}\n",
       "\n",
       "// Listen for the clearing of the current output cell\n",
       "var outputEl = gd.closest('.output');\n",
       "if (outputEl) {{\n",
       "    x.observe(outputEl, {childList: true});\n",
       "}}\n",
       "\n",
       "                        })                };                });            </script>        </div>"
      ]
     },
     "metadata": {},
     "output_type": "display_data"
    }
   ],
   "source": [
    "px.box(x=laptop_data['Product Cost'],color=laptop_data['Brand'])"
   ]
  },
  {
   "cell_type": "code",
   "execution_count": 87,
   "id": "a47444e0",
   "metadata": {},
   "outputs": [
    {
     "data": {
      "application/vnd.plotly.v1+json": {
       "config": {
        "plotlyServerURL": "https://plot.ly"
       },
       "data": [
        {
         "alignmentgroup": "True",
         "hovertemplate": "color=Intel<br>x=%{x}<extra></extra>",
         "legendgroup": "Intel",
         "marker": {
          "color": "#636efa"
         },
         "name": "Intel",
         "notched": false,
         "offsetgroup": "Intel",
         "orientation": "h",
         "showlegend": true,
         "type": "box",
         "x": [
          40990,
          39475,
          39990,
          35990,
          42990,
          66990,
          38990,
          53990,
          31490,
          37990,
          56990,
          17990,
          116,
          48990,
          44490,
          60990,
          44990,
          116,
          35990,
          40990,
          39475,
          38990,
          39990,
          42990,
          66990,
          53990,
          42990,
          31490,
          37990,
          56990,
          17990,
          48990,
          44490,
          44990,
          58990,
          74990,
          46999,
          35990,
          92990,
          38990,
          68240,
          44990,
          86990,
          84990,
          43990,
          97990,
          42490,
          69990,
          116,
          45490,
          45490,
          60990,
          57990,
          33990,
          35990,
          66900,
          38990,
          38990,
          98990,
          43990,
          37490,
          50456,
          116,
          53990,
          77990,
          23990,
          42990,
          41990,
          58888,
          35990,
          47990,
          50990,
          38990,
          72990,
          79990,
          65990,
          76990,
          43990,
          71990,
          69400,
          116,
          28350,
          62990,
          49871,
          62175,
          35990,
          195,
          56990,
          159,
          38990,
          66990,
          59990,
          54890,
          72990,
          89990,
          43990,
          58990,
          43990,
          116,
          55480,
          62990,
          61990,
          42990,
          59990,
          35990,
          44990,
          46989,
          38990,
          202,
          154,
          68990,
          61990,
          39949,
          43990,
          63999,
          116,
          112,
          134,
          42990,
          99990,
          62990,
          104,
          38990,
          69990,
          35990,
          43990,
          46990,
          116,
          89990,
          59990,
          35990,
          42990,
          29990,
          169,
          224,
          143,
          152,
          35990,
          224,
          243,
          38990,
          86490,
          114,
          194,
          43990,
          65857,
          174,
          116,
          59990,
          129,
          42990,
          174,
          59999,
          62990,
          68990,
          116,
          44590,
          35990,
          74990,
          37980,
          38990,
          290,
          186,
          62699,
          43990,
          74990,
          69990,
          81990,
          57390,
          42990,
          254,
          59990,
          35990,
          89179,
          59990,
          38990,
          40890,
          269,
          43990,
          72990,
          116,
          109,
          143,
          42990,
          269,
          169,
          147,
          69290,
          152,
          35990,
          224,
          243,
          65857,
          38990,
          174,
          129,
          43990,
          74990,
          59990,
          60990,
          174,
          48990,
          264,
          116,
          44590,
          199,
          35990,
          68990,
          116,
          33990,
          38990,
          68990,
          186,
          43990,
          62699,
          45990,
          74990,
          49990,
          42990,
          244,
          290,
          73990,
          99990,
          96490,
          35990,
          43500,
          54990,
          105,
          38990,
          86990,
          56899,
          59898,
          44990,
          43990,
          95825,
          116,
          169,
          64990,
          229,
          42990,
          64990,
          35990,
          44990,
          38990,
          95825,
          229,
          75990,
          88790,
          99390,
          73990,
          43990,
          154,
          52490,
          52890,
          159,
          39990,
          62990,
          116,
          92990,
          59990,
          35990,
          121,
          38990,
          58232,
          65990,
          174,
          34990,
          114,
          43990,
          105,
          46990,
          73990,
          239,
          127,
          91990,
          116,
          174,
          114,
          105,
          35990,
          46990,
          38990,
          127,
          91990,
          41990,
          239,
          73990,
          99990,
          43990,
          35690,
          109,
          74790,
          117,
          88990,
          116,
          116,
          86000,
          78938,
          35990,
          76990,
          132,
          54999,
          38990,
          59434,
          32990,
          233,
          69990,
          94990,
          99990,
          43990,
          57990,
          89149,
          151,
          46990,
          39990,
          116,
          124,
          64821,
          35990,
          94990,
          38990,
          174,
          147,
          60970,
          43990,
          29990,
          68999,
          61190,
          99990,
          40999,
          116,
          40990,
          54999,
          42990,
          79990,
          35990,
          79990,
          77990,
          32990,
          43990,
          67590,
          55480,
          38990,
          69990,
          79990,
          116,
          25999,
          25990,
          83990,
          42990,
          57490,
          38990,
          85990,
          38549,
          35990,
          64990,
          38490,
          59990,
          38990,
          49988,
          30990,
          109,
          71990,
          78990,
          120,
          43990,
          40890,
          92990,
          62990,
          41990,
          64990,
          72964,
          116,
          44490,
          13990,
          204,
          35990,
          79490,
          37990,
          38990,
          129,
          262,
          42990,
          75990,
          43990,
          71990,
          87990,
          54480,
          116,
          149,
          79999,
          45990,
          42990,
          49990,
          109,
          64299,
          35990,
          109,
          81998,
          164,
          38990,
          119,
          26890,
          93750,
          57999,
          43990,
          89990,
          49990,
          79990,
          45990,
          116,
          69990,
          65990,
          64208,
          35990,
          84990,
          54499,
          35900,
          38990,
          139,
          69990,
          55990,
          82990,
          58990,
          43990,
          72990,
          60990,
          116,
          84490,
          42990,
          134,
          23480,
          35990,
          68000,
          38990,
          93400,
          73387,
          51000,
          51000,
          64990,
          43990,
          32270,
          78000,
          39300,
          78900,
          75990,
          116
         ],
         "x0": " ",
         "xaxis": "x",
         "y0": " ",
         "yaxis": "y"
        },
        {
         "alignmentgroup": "True",
         "hovertemplate": "color=AMD<br>x=%{x}<extra></extra>",
         "legendgroup": "AMD",
         "marker": {
          "color": "#EF553B"
         },
         "name": "AMD",
         "notched": false,
         "offsetgroup": "AMD",
         "orientation": "h",
         "showlegend": true,
         "type": "box",
         "x": [
          25990,
          27499,
          64990,
          49990,
          39490,
          50990,
          25990,
          27499,
          49990,
          39490,
          50990,
          67990,
          50990,
          33990,
          63990,
          69990,
          59990,
          59990,
          29990,
          42990,
          42499,
          39490,
          92990,
          37990,
          59990,
          51890,
          59990,
          72990,
          53990,
          51990,
          154,
          26990,
          42890,
          49990,
          54990,
          43890,
          31490,
          99580,
          42980,
          154,
          26990,
          38490,
          59990,
          53790,
          39490,
          40990,
          69990,
          99990,
          39490,
          77990,
          64990,
          67551,
          64990,
          39490,
          44999,
          67990,
          27490,
          28990,
          31490,
          67551,
          39490,
          27990,
          40990,
          69990,
          59990,
          64990,
          99990,
          77990,
          41790,
          64990,
          39490,
          53990,
          27990,
          54999,
          27990,
          64990,
          80990,
          29990,
          64990,
          38990,
          38990,
          41990,
          36990,
          64990,
          64990,
          62990,
          78990,
          64990,
          67999,
          30500,
          50990,
          58990,
          50990,
          64990,
          31990,
          39490,
          42900,
          64990,
          38956,
          134,
          274,
          62990,
          65990,
          74990,
          64990,
          124,
          33780,
          149,
          109,
          82990,
          92500,
          84000,
          26850,
          56390,
          83400,
          64990
         ],
         "x0": " ",
         "xaxis": "x",
         "y0": " ",
         "yaxis": "y"
        },
        {
         "alignmentgroup": "True",
         "hovertemplate": "color=15<br>x=%{x}<extra></extra>",
         "legendgroup": "15",
         "marker": {
          "color": "#00cc96"
         },
         "name": "15",
         "notched": false,
         "offsetgroup": "15",
         "orientation": "h",
         "showlegend": true,
         "type": "box",
         "x": [
          99990,
          99990,
          99990,
          99990,
          99990,
          99990,
          99990,
          51990,
          99990,
          99990,
          99990,
          99990,
          99990,
          99990,
          99990,
          99990,
          99990
         ],
         "x0": " ",
         "xaxis": "x",
         "y0": " ",
         "yaxis": "y"
        },
        {
         "alignmentgroup": "True",
         "hovertemplate": "color=Apple<br>x=%{x}<extra></extra>",
         "legendgroup": "Apple",
         "marker": {
          "color": "#ab63fa"
         },
         "name": "Apple",
         "notched": false,
         "offsetgroup": "Apple",
         "orientation": "h",
         "showlegend": true,
         "type": "box",
         "x": [
          92900,
          114,
          116,
          118,
          139
         ],
         "x0": " ",
         "xaxis": "x",
         "y0": " ",
         "yaxis": "y"
        },
        {
         "alignmentgroup": "True",
         "hovertemplate": "color=Pre<br>x=%{x}<extra></extra>",
         "legendgroup": "Pre",
         "marker": {
          "color": "#FFA15A"
         },
         "name": "Pre",
         "notched": false,
         "offsetgroup": "Pre",
         "orientation": "h",
         "showlegend": true,
         "type": "box",
         "x": [
          69500,
          99990,
          102,
          69500,
          185,
          146,
          139,
          139,
          146,
          129
         ],
         "x0": " ",
         "xaxis": "x",
         "y0": " ",
         "yaxis": "y"
        },
        {
         "alignmentgroup": "True",
         "hovertemplate": "color=512<br>x=%{x}<extra></extra>",
         "legendgroup": "512",
         "marker": {
          "color": "#19d3f3"
         },
         "name": "512",
         "notched": false,
         "offsetgroup": "512",
         "orientation": "h",
         "showlegend": true,
         "type": "box",
         "x": [
          149
         ],
         "x0": " ",
         "xaxis": "x",
         "y0": " ",
         "yaxis": "y"
        },
        {
         "alignmentgroup": "True",
         "hovertemplate": "color=First<br>x=%{x}<extra></extra>",
         "legendgroup": "First",
         "marker": {
          "color": "#FF6692"
         },
         "name": "First",
         "notched": false,
         "offsetgroup": "First",
         "orientation": "h",
         "showlegend": true,
         "type": "box",
         "x": [
          204
         ],
         "x0": " ",
         "xaxis": "x",
         "y0": " ",
         "yaxis": "y"
        },
        {
         "alignmentgroup": "True",
         "hovertemplate": "color=NVIDIA<br>x=%{x}<extra></extra>",
         "legendgroup": "NVIDIA",
         "marker": {
          "color": "#B6E880"
         },
         "name": "NVIDIA",
         "notched": false,
         "offsetgroup": "NVIDIA",
         "orientation": "h",
         "showlegend": true,
         "type": "box",
         "x": [
          46990
         ],
         "x0": " ",
         "xaxis": "x",
         "y0": " ",
         "yaxis": "y"
        },
        {
         "alignmentgroup": "True",
         "hovertemplate": "color=Microsoft<br>x=%{x}<extra></extra>",
         "legendgroup": "Microsoft",
         "marker": {
          "color": "#FF97FF"
         },
         "name": "Microsoft",
         "notched": false,
         "offsetgroup": "Microsoft",
         "orientation": "h",
         "showlegend": true,
         "type": "box",
         "x": [
          57440
         ],
         "x0": " ",
         "xaxis": "x",
         "y0": " ",
         "yaxis": "y"
        },
        {
         "alignmentgroup": "True",
         "hovertemplate": "color=2<br>x=%{x}<extra></extra>",
         "legendgroup": "2",
         "marker": {
          "color": "#FECB52"
         },
         "name": "2",
         "notched": false,
         "offsetgroup": "2",
         "orientation": "h",
         "showlegend": true,
         "type": "box",
         "x": [
          79990
         ],
         "x0": " ",
         "xaxis": "x",
         "y0": " ",
         "yaxis": "y"
        }
       ],
       "layout": {
        "boxmode": "group",
        "legend": {
         "title": {
          "text": "color"
         },
         "tracegroupgap": 0
        },
        "margin": {
         "t": 60
        },
        "template": {
         "data": {
          "bar": [
           {
            "error_x": {
             "color": "#2a3f5f"
            },
            "error_y": {
             "color": "#2a3f5f"
            },
            "marker": {
             "line": {
              "color": "#E5ECF6",
              "width": 0.5
             }
            },
            "type": "bar"
           }
          ],
          "barpolar": [
           {
            "marker": {
             "line": {
              "color": "#E5ECF6",
              "width": 0.5
             }
            },
            "type": "barpolar"
           }
          ],
          "carpet": [
           {
            "aaxis": {
             "endlinecolor": "#2a3f5f",
             "gridcolor": "white",
             "linecolor": "white",
             "minorgridcolor": "white",
             "startlinecolor": "#2a3f5f"
            },
            "baxis": {
             "endlinecolor": "#2a3f5f",
             "gridcolor": "white",
             "linecolor": "white",
             "minorgridcolor": "white",
             "startlinecolor": "#2a3f5f"
            },
            "type": "carpet"
           }
          ],
          "choropleth": [
           {
            "colorbar": {
             "outlinewidth": 0,
             "ticks": ""
            },
            "type": "choropleth"
           }
          ],
          "contour": [
           {
            "colorbar": {
             "outlinewidth": 0,
             "ticks": ""
            },
            "colorscale": [
             [
              0,
              "#0d0887"
             ],
             [
              0.1111111111111111,
              "#46039f"
             ],
             [
              0.2222222222222222,
              "#7201a8"
             ],
             [
              0.3333333333333333,
              "#9c179e"
             ],
             [
              0.4444444444444444,
              "#bd3786"
             ],
             [
              0.5555555555555556,
              "#d8576b"
             ],
             [
              0.6666666666666666,
              "#ed7953"
             ],
             [
              0.7777777777777778,
              "#fb9f3a"
             ],
             [
              0.8888888888888888,
              "#fdca26"
             ],
             [
              1,
              "#f0f921"
             ]
            ],
            "type": "contour"
           }
          ],
          "contourcarpet": [
           {
            "colorbar": {
             "outlinewidth": 0,
             "ticks": ""
            },
            "type": "contourcarpet"
           }
          ],
          "heatmap": [
           {
            "colorbar": {
             "outlinewidth": 0,
             "ticks": ""
            },
            "colorscale": [
             [
              0,
              "#0d0887"
             ],
             [
              0.1111111111111111,
              "#46039f"
             ],
             [
              0.2222222222222222,
              "#7201a8"
             ],
             [
              0.3333333333333333,
              "#9c179e"
             ],
             [
              0.4444444444444444,
              "#bd3786"
             ],
             [
              0.5555555555555556,
              "#d8576b"
             ],
             [
              0.6666666666666666,
              "#ed7953"
             ],
             [
              0.7777777777777778,
              "#fb9f3a"
             ],
             [
              0.8888888888888888,
              "#fdca26"
             ],
             [
              1,
              "#f0f921"
             ]
            ],
            "type": "heatmap"
           }
          ],
          "heatmapgl": [
           {
            "colorbar": {
             "outlinewidth": 0,
             "ticks": ""
            },
            "colorscale": [
             [
              0,
              "#0d0887"
             ],
             [
              0.1111111111111111,
              "#46039f"
             ],
             [
              0.2222222222222222,
              "#7201a8"
             ],
             [
              0.3333333333333333,
              "#9c179e"
             ],
             [
              0.4444444444444444,
              "#bd3786"
             ],
             [
              0.5555555555555556,
              "#d8576b"
             ],
             [
              0.6666666666666666,
              "#ed7953"
             ],
             [
              0.7777777777777778,
              "#fb9f3a"
             ],
             [
              0.8888888888888888,
              "#fdca26"
             ],
             [
              1,
              "#f0f921"
             ]
            ],
            "type": "heatmapgl"
           }
          ],
          "histogram": [
           {
            "marker": {
             "colorbar": {
              "outlinewidth": 0,
              "ticks": ""
             }
            },
            "type": "histogram"
           }
          ],
          "histogram2d": [
           {
            "colorbar": {
             "outlinewidth": 0,
             "ticks": ""
            },
            "colorscale": [
             [
              0,
              "#0d0887"
             ],
             [
              0.1111111111111111,
              "#46039f"
             ],
             [
              0.2222222222222222,
              "#7201a8"
             ],
             [
              0.3333333333333333,
              "#9c179e"
             ],
             [
              0.4444444444444444,
              "#bd3786"
             ],
             [
              0.5555555555555556,
              "#d8576b"
             ],
             [
              0.6666666666666666,
              "#ed7953"
             ],
             [
              0.7777777777777778,
              "#fb9f3a"
             ],
             [
              0.8888888888888888,
              "#fdca26"
             ],
             [
              1,
              "#f0f921"
             ]
            ],
            "type": "histogram2d"
           }
          ],
          "histogram2dcontour": [
           {
            "colorbar": {
             "outlinewidth": 0,
             "ticks": ""
            },
            "colorscale": [
             [
              0,
              "#0d0887"
             ],
             [
              0.1111111111111111,
              "#46039f"
             ],
             [
              0.2222222222222222,
              "#7201a8"
             ],
             [
              0.3333333333333333,
              "#9c179e"
             ],
             [
              0.4444444444444444,
              "#bd3786"
             ],
             [
              0.5555555555555556,
              "#d8576b"
             ],
             [
              0.6666666666666666,
              "#ed7953"
             ],
             [
              0.7777777777777778,
              "#fb9f3a"
             ],
             [
              0.8888888888888888,
              "#fdca26"
             ],
             [
              1,
              "#f0f921"
             ]
            ],
            "type": "histogram2dcontour"
           }
          ],
          "mesh3d": [
           {
            "colorbar": {
             "outlinewidth": 0,
             "ticks": ""
            },
            "type": "mesh3d"
           }
          ],
          "parcoords": [
           {
            "line": {
             "colorbar": {
              "outlinewidth": 0,
              "ticks": ""
             }
            },
            "type": "parcoords"
           }
          ],
          "pie": [
           {
            "automargin": true,
            "type": "pie"
           }
          ],
          "scatter": [
           {
            "marker": {
             "colorbar": {
              "outlinewidth": 0,
              "ticks": ""
             }
            },
            "type": "scatter"
           }
          ],
          "scatter3d": [
           {
            "line": {
             "colorbar": {
              "outlinewidth": 0,
              "ticks": ""
             }
            },
            "marker": {
             "colorbar": {
              "outlinewidth": 0,
              "ticks": ""
             }
            },
            "type": "scatter3d"
           }
          ],
          "scattercarpet": [
           {
            "marker": {
             "colorbar": {
              "outlinewidth": 0,
              "ticks": ""
             }
            },
            "type": "scattercarpet"
           }
          ],
          "scattergeo": [
           {
            "marker": {
             "colorbar": {
              "outlinewidth": 0,
              "ticks": ""
             }
            },
            "type": "scattergeo"
           }
          ],
          "scattergl": [
           {
            "marker": {
             "colorbar": {
              "outlinewidth": 0,
              "ticks": ""
             }
            },
            "type": "scattergl"
           }
          ],
          "scattermapbox": [
           {
            "marker": {
             "colorbar": {
              "outlinewidth": 0,
              "ticks": ""
             }
            },
            "type": "scattermapbox"
           }
          ],
          "scatterpolar": [
           {
            "marker": {
             "colorbar": {
              "outlinewidth": 0,
              "ticks": ""
             }
            },
            "type": "scatterpolar"
           }
          ],
          "scatterpolargl": [
           {
            "marker": {
             "colorbar": {
              "outlinewidth": 0,
              "ticks": ""
             }
            },
            "type": "scatterpolargl"
           }
          ],
          "scatterternary": [
           {
            "marker": {
             "colorbar": {
              "outlinewidth": 0,
              "ticks": ""
             }
            },
            "type": "scatterternary"
           }
          ],
          "surface": [
           {
            "colorbar": {
             "outlinewidth": 0,
             "ticks": ""
            },
            "colorscale": [
             [
              0,
              "#0d0887"
             ],
             [
              0.1111111111111111,
              "#46039f"
             ],
             [
              0.2222222222222222,
              "#7201a8"
             ],
             [
              0.3333333333333333,
              "#9c179e"
             ],
             [
              0.4444444444444444,
              "#bd3786"
             ],
             [
              0.5555555555555556,
              "#d8576b"
             ],
             [
              0.6666666666666666,
              "#ed7953"
             ],
             [
              0.7777777777777778,
              "#fb9f3a"
             ],
             [
              0.8888888888888888,
              "#fdca26"
             ],
             [
              1,
              "#f0f921"
             ]
            ],
            "type": "surface"
           }
          ],
          "table": [
           {
            "cells": {
             "fill": {
              "color": "#EBF0F8"
             },
             "line": {
              "color": "white"
             }
            },
            "header": {
             "fill": {
              "color": "#C8D4E3"
             },
             "line": {
              "color": "white"
             }
            },
            "type": "table"
           }
          ]
         },
         "layout": {
          "annotationdefaults": {
           "arrowcolor": "#2a3f5f",
           "arrowhead": 0,
           "arrowwidth": 1
          },
          "autotypenumbers": "strict",
          "coloraxis": {
           "colorbar": {
            "outlinewidth": 0,
            "ticks": ""
           }
          },
          "colorscale": {
           "diverging": [
            [
             0,
             "#8e0152"
            ],
            [
             0.1,
             "#c51b7d"
            ],
            [
             0.2,
             "#de77ae"
            ],
            [
             0.3,
             "#f1b6da"
            ],
            [
             0.4,
             "#fde0ef"
            ],
            [
             0.5,
             "#f7f7f7"
            ],
            [
             0.6,
             "#e6f5d0"
            ],
            [
             0.7,
             "#b8e186"
            ],
            [
             0.8,
             "#7fbc41"
            ],
            [
             0.9,
             "#4d9221"
            ],
            [
             1,
             "#276419"
            ]
           ],
           "sequential": [
            [
             0,
             "#0d0887"
            ],
            [
             0.1111111111111111,
             "#46039f"
            ],
            [
             0.2222222222222222,
             "#7201a8"
            ],
            [
             0.3333333333333333,
             "#9c179e"
            ],
            [
             0.4444444444444444,
             "#bd3786"
            ],
            [
             0.5555555555555556,
             "#d8576b"
            ],
            [
             0.6666666666666666,
             "#ed7953"
            ],
            [
             0.7777777777777778,
             "#fb9f3a"
            ],
            [
             0.8888888888888888,
             "#fdca26"
            ],
            [
             1,
             "#f0f921"
            ]
           ],
           "sequentialminus": [
            [
             0,
             "#0d0887"
            ],
            [
             0.1111111111111111,
             "#46039f"
            ],
            [
             0.2222222222222222,
             "#7201a8"
            ],
            [
             0.3333333333333333,
             "#9c179e"
            ],
            [
             0.4444444444444444,
             "#bd3786"
            ],
            [
             0.5555555555555556,
             "#d8576b"
            ],
            [
             0.6666666666666666,
             "#ed7953"
            ],
            [
             0.7777777777777778,
             "#fb9f3a"
            ],
            [
             0.8888888888888888,
             "#fdca26"
            ],
            [
             1,
             "#f0f921"
            ]
           ]
          },
          "colorway": [
           "#636efa",
           "#EF553B",
           "#00cc96",
           "#ab63fa",
           "#FFA15A",
           "#19d3f3",
           "#FF6692",
           "#B6E880",
           "#FF97FF",
           "#FECB52"
          ],
          "font": {
           "color": "#2a3f5f"
          },
          "geo": {
           "bgcolor": "white",
           "lakecolor": "white",
           "landcolor": "#E5ECF6",
           "showlakes": true,
           "showland": true,
           "subunitcolor": "white"
          },
          "hoverlabel": {
           "align": "left"
          },
          "hovermode": "closest",
          "mapbox": {
           "style": "light"
          },
          "paper_bgcolor": "white",
          "plot_bgcolor": "#E5ECF6",
          "polar": {
           "angularaxis": {
            "gridcolor": "white",
            "linecolor": "white",
            "ticks": ""
           },
           "bgcolor": "#E5ECF6",
           "radialaxis": {
            "gridcolor": "white",
            "linecolor": "white",
            "ticks": ""
           }
          },
          "scene": {
           "xaxis": {
            "backgroundcolor": "#E5ECF6",
            "gridcolor": "white",
            "gridwidth": 2,
            "linecolor": "white",
            "showbackground": true,
            "ticks": "",
            "zerolinecolor": "white"
           },
           "yaxis": {
            "backgroundcolor": "#E5ECF6",
            "gridcolor": "white",
            "gridwidth": 2,
            "linecolor": "white",
            "showbackground": true,
            "ticks": "",
            "zerolinecolor": "white"
           },
           "zaxis": {
            "backgroundcolor": "#E5ECF6",
            "gridcolor": "white",
            "gridwidth": 2,
            "linecolor": "white",
            "showbackground": true,
            "ticks": "",
            "zerolinecolor": "white"
           }
          },
          "shapedefaults": {
           "line": {
            "color": "#2a3f5f"
           }
          },
          "ternary": {
           "aaxis": {
            "gridcolor": "white",
            "linecolor": "white",
            "ticks": ""
           },
           "baxis": {
            "gridcolor": "white",
            "linecolor": "white",
            "ticks": ""
           },
           "bgcolor": "#E5ECF6",
           "caxis": {
            "gridcolor": "white",
            "linecolor": "white",
            "ticks": ""
           }
          },
          "title": {
           "x": 0.05
          },
          "xaxis": {
           "automargin": true,
           "gridcolor": "white",
           "linecolor": "white",
           "ticks": "",
           "title": {
            "standoff": 15
           },
           "zerolinecolor": "white",
           "zerolinewidth": 2
          },
          "yaxis": {
           "automargin": true,
           "gridcolor": "white",
           "linecolor": "white",
           "ticks": "",
           "title": {
            "standoff": 15
           },
           "zerolinecolor": "white",
           "zerolinewidth": 2
          }
         }
        },
        "xaxis": {
         "anchor": "y",
         "domain": [
          0,
          1
         ],
         "title": {
          "text": "x"
         }
        },
        "yaxis": {
         "anchor": "x",
         "domain": [
          0,
          1
         ]
        }
       }
      },
      "text/html": [
       "<div>                            <div id=\"b2732162-9cc3-4fda-a2e8-74ce05c16a0f\" class=\"plotly-graph-div\" style=\"height:525px; width:100%;\"></div>            <script type=\"text/javascript\">                require([\"plotly\"], function(Plotly) {                    window.PLOTLYENV=window.PLOTLYENV || {};                                    if (document.getElementById(\"b2732162-9cc3-4fda-a2e8-74ce05c16a0f\")) {                    Plotly.newPlot(                        \"b2732162-9cc3-4fda-a2e8-74ce05c16a0f\",                        [{\"alignmentgroup\": \"True\", \"hovertemplate\": \"color=Intel<br>x=%{x}<extra></extra>\", \"legendgroup\": \"Intel\", \"marker\": {\"color\": \"#636efa\"}, \"name\": \"Intel\", \"notched\": false, \"offsetgroup\": \"Intel\", \"orientation\": \"h\", \"showlegend\": true, \"type\": \"box\", \"x\": [40990.0, 39475.0, 39990.0, 35990.0, 42990.0, 66990.0, 38990.0, 53990.0, 31490.0, 37990.0, 56990.0, 17990.0, 116.0, 48990.0, 44490.0, 60990.0, 44990.0, 116.0, 35990.0, 40990.0, 39475.0, 38990.0, 39990.0, 42990.0, 66990.0, 53990.0, 42990.0, 31490.0, 37990.0, 56990.0, 17990.0, 48990.0, 44490.0, 44990.0, 58990.0, 74990.0, 46999.0, 35990.0, 92990.0, 38990.0, 68240.0, 44990.0, 86990.0, 84990.0, 43990.0, 97990.0, 42490.0, 69990.0, 116.0, 45490.0, 45490.0, 60990.0, 57990.0, 33990.0, 35990.0, 66900.0, 38990.0, 38990.0, 98990.0, 43990.0, 37490.0, 50456.0, 116.0, 53990.0, 77990.0, 23990.0, 42990.0, 41990.0, 58888.0, 35990.0, 47990.0, 50990.0, 38990.0, 72990.0, 79990.0, 65990.0, 76990.0, 43990.0, 71990.0, 69400.0, 116.0, 28350.0, 62990.0, 49871.0, 62175.0, 35990.0, 195.0, 56990.0, 159.0, 38990.0, 66990.0, 59990.0, 54890.0, 72990.0, 89990.0, 43990.0, 58990.0, 43990.0, 116.0, 55480.0, 62990.0, 61990.0, 42990.0, 59990.0, 35990.0, 44990.0, 46989.0, 38990.0, 202.0, 154.0, 68990.0, 61990.0, 39949.0, 43990.0, 63999.0, 116.0, 112.0, 134.0, 42990.0, 99990.0, 62990.0, 104.0, 38990.0, 69990.0, 35990.0, 43990.0, 46990.0, 116.0, 89990.0, 59990.0, 35990.0, 42990.0, 29990.0, 169.0, 224.0, 143.0, 152.0, 35990.0, 224.0, 243.0, 38990.0, 86490.0, 114.0, 194.0, 43990.0, 65857.0, 174.0, 116.0, 59990.0, 129.0, 42990.0, 174.0, 59999.0, 62990.0, 68990.0, 116.0, 44590.0, 35990.0, 74990.0, 37980.0, 38990.0, 290.0, 186.0, 62699.0, 43990.0, 74990.0, 69990.0, 81990.0, 57390.0, 42990.0, 254.0, 59990.0, 35990.0, 89179.0, 59990.0, 38990.0, 40890.0, 269.0, 43990.0, 72990.0, 116.0, 109.0, 143.0, 42990.0, 269.0, 169.0, 147.0, 69290.0, 152.0, 35990.0, 224.0, 243.0, 65857.0, 38990.0, 174.0, 129.0, 43990.0, 74990.0, 59990.0, 60990.0, 174.0, 48990.0, 264.0, 116.0, 44590.0, 199.0, 35990.0, 68990.0, 116.0, 33990.0, 38990.0, 68990.0, 186.0, 43990.0, 62699.0, 45990.0, 74990.0, 49990.0, 42990.0, 244.0, 290.0, 73990.0, 99990.0, 96490.0, 35990.0, 43500.0, 54990.0, 105.0, 38990.0, 86990.0, 56899.0, 59898.0, 44990.0, 43990.0, 95825.0, 116.0, 169.0, 64990.0, 229.0, 42990.0, 64990.0, 35990.0, 44990.0, 38990.0, 95825.0, 229.0, 75990.0, 88790.0, 99390.0, 73990.0, 43990.0, 154.0, 52490.0, 52890.0, 159.0, 39990.0, 62990.0, 116.0, 92990.0, 59990.0, 35990.0, 121.0, 38990.0, 58232.0, 65990.0, 174.0, 34990.0, 114.0, 43990.0, 105.0, 46990.0, 73990.0, 239.0, 127.0, 91990.0, 116.0, 174.0, 114.0, 105.0, 35990.0, 46990.0, 38990.0, 127.0, 91990.0, 41990.0, 239.0, 73990.0, 99990.0, 43990.0, 35690.0, 109.0, 74790.0, 117.0, 88990.0, 116.0, 116.0, 86000.0, 78938.0, 35990.0, 76990.0, 132.0, 54999.0, 38990.0, 59434.0, 32990.0, 233.0, 69990.0, 94990.0, 99990.0, 43990.0, 57990.0, 89149.0, 151.0, 46990.0, 39990.0, 116.0, 124.0, 64821.0, 35990.0, 94990.0, 38990.0, 174.0, 147.0, 60970.0, 43990.0, 29990.0, 68999.0, 61190.0, 99990.0, 40999.0, 116.0, 40990.0, 54999.0, 42990.0, 79990.0, 35990.0, 79990.0, 77990.0, 32990.0, 43990.0, 67590.0, 55480.0, 38990.0, 69990.0, 79990.0, 116.0, 25999.0, 25990.0, 83990.0, 42990.0, 57490.0, 38990.0, 85990.0, 38549.0, 35990.0, 64990.0, 38490.0, 59990.0, 38990.0, 49988.0, 30990.0, 109.0, 71990.0, 78990.0, 120.0, 43990.0, 40890.0, 92990.0, 62990.0, 41990.0, 64990.0, 72964.0, 116.0, 44490.0, 13990.0, 204.0, 35990.0, 79490.0, 37990.0, 38990.0, 129.0, 262.0, 42990.0, 75990.0, 43990.0, 71990.0, 87990.0, 54480.0, 116.0, 149.0, 79999.0, 45990.0, 42990.0, 49990.0, 109.0, 64299.0, 35990.0, 109.0, 81998.0, 164.0, 38990.0, 119.0, 26890.0, 93750.0, 57999.0, 43990.0, 89990.0, 49990.0, 79990.0, 45990.0, 116.0, 69990.0, 65990.0, 64208.0, 35990.0, 84990.0, 54499.0, 35900.0, 38990.0, 139.0, 69990.0, 55990.0, 82990.0, 58990.0, 43990.0, 72990.0, 60990.0, 116.0, 84490.0, 42990.0, 134.0, 23480.0, 35990.0, 68000.0, 38990.0, 93400.0, 73387.0, 51000.0, 51000.0, 64990.0, 43990.0, 32270.0, 78000.0, 39300.0, 78900.0, 75990.0, 116.0], \"x0\": \" \", \"xaxis\": \"x\", \"y0\": \" \", \"yaxis\": \"y\"}, {\"alignmentgroup\": \"True\", \"hovertemplate\": \"color=AMD<br>x=%{x}<extra></extra>\", \"legendgroup\": \"AMD\", \"marker\": {\"color\": \"#EF553B\"}, \"name\": \"AMD\", \"notched\": false, \"offsetgroup\": \"AMD\", \"orientation\": \"h\", \"showlegend\": true, \"type\": \"box\", \"x\": [25990.0, 27499.0, 64990.0, 49990.0, 39490.0, 50990.0, 25990.0, 27499.0, 49990.0, 39490.0, 50990.0, 67990.0, 50990.0, 33990.0, 63990.0, 69990.0, 59990.0, 59990.0, 29990.0, 42990.0, 42499.0, 39490.0, 92990.0, 37990.0, 59990.0, 51890.0, 59990.0, 72990.0, 53990.0, 51990.0, 154.0, 26990.0, 42890.0, 49990.0, 54990.0, 43890.0, 31490.0, 99580.0, 42980.0, 154.0, 26990.0, 38490.0, 59990.0, 53790.0, 39490.0, 40990.0, 69990.0, 99990.0, 39490.0, 77990.0, 64990.0, 67551.0, 64990.0, 39490.0, 44999.0, 67990.0, 27490.0, 28990.0, 31490.0, 67551.0, 39490.0, 27990.0, 40990.0, 69990.0, 59990.0, 64990.0, 99990.0, 77990.0, 41790.0, 64990.0, 39490.0, 53990.0, 27990.0, 54999.0, 27990.0, 64990.0, 80990.0, 29990.0, 64990.0, 38990.0, 38990.0, 41990.0, 36990.0, 64990.0, 64990.0, 62990.0, 78990.0, 64990.0, 67999.0, 30500.0, 50990.0, 58990.0, 50990.0, 64990.0, 31990.0, 39490.0, 42900.0, 64990.0, 38956.0, 134.0, 274.0, 62990.0, 65990.0, 74990.0, 64990.0, 124.0, 33780.0, 149.0, 109.0, 82990.0, 92500.0, 84000.0, 26850.0, 56390.0, 83400.0, 64990.0], \"x0\": \" \", \"xaxis\": \"x\", \"y0\": \" \", \"yaxis\": \"y\"}, {\"alignmentgroup\": \"True\", \"hovertemplate\": \"color=15<br>x=%{x}<extra></extra>\", \"legendgroup\": \"15\", \"marker\": {\"color\": \"#00cc96\"}, \"name\": \"15\", \"notched\": false, \"offsetgroup\": \"15\", \"orientation\": \"h\", \"showlegend\": true, \"type\": \"box\", \"x\": [99990.0, 99990.0, 99990.0, 99990.0, 99990.0, 99990.0, 99990.0, 51990.0, 99990.0, 99990.0, 99990.0, 99990.0, 99990.0, 99990.0, 99990.0, 99990.0, 99990.0], \"x0\": \" \", \"xaxis\": \"x\", \"y0\": \" \", \"yaxis\": \"y\"}, {\"alignmentgroup\": \"True\", \"hovertemplate\": \"color=Apple<br>x=%{x}<extra></extra>\", \"legendgroup\": \"Apple\", \"marker\": {\"color\": \"#ab63fa\"}, \"name\": \"Apple\", \"notched\": false, \"offsetgroup\": \"Apple\", \"orientation\": \"h\", \"showlegend\": true, \"type\": \"box\", \"x\": [92900.0, 114.0, 116.0, 118.0, 139.0], \"x0\": \" \", \"xaxis\": \"x\", \"y0\": \" \", \"yaxis\": \"y\"}, {\"alignmentgroup\": \"True\", \"hovertemplate\": \"color=Pre<br>x=%{x}<extra></extra>\", \"legendgroup\": \"Pre\", \"marker\": {\"color\": \"#FFA15A\"}, \"name\": \"Pre\", \"notched\": false, \"offsetgroup\": \"Pre\", \"orientation\": \"h\", \"showlegend\": true, \"type\": \"box\", \"x\": [69500.0, 99990.0, 102.0, 69500.0, 185.0, 146.0, 139.0, 139.0, 146.0, 129.0], \"x0\": \" \", \"xaxis\": \"x\", \"y0\": \" \", \"yaxis\": \"y\"}, {\"alignmentgroup\": \"True\", \"hovertemplate\": \"color=512<br>x=%{x}<extra></extra>\", \"legendgroup\": \"512\", \"marker\": {\"color\": \"#19d3f3\"}, \"name\": \"512\", \"notched\": false, \"offsetgroup\": \"512\", \"orientation\": \"h\", \"showlegend\": true, \"type\": \"box\", \"x\": [149.0], \"x0\": \" \", \"xaxis\": \"x\", \"y0\": \" \", \"yaxis\": \"y\"}, {\"alignmentgroup\": \"True\", \"hovertemplate\": \"color=First<br>x=%{x}<extra></extra>\", \"legendgroup\": \"First\", \"marker\": {\"color\": \"#FF6692\"}, \"name\": \"First\", \"notched\": false, \"offsetgroup\": \"First\", \"orientation\": \"h\", \"showlegend\": true, \"type\": \"box\", \"x\": [204.0], \"x0\": \" \", \"xaxis\": \"x\", \"y0\": \" \", \"yaxis\": \"y\"}, {\"alignmentgroup\": \"True\", \"hovertemplate\": \"color=NVIDIA<br>x=%{x}<extra></extra>\", \"legendgroup\": \"NVIDIA\", \"marker\": {\"color\": \"#B6E880\"}, \"name\": \"NVIDIA\", \"notched\": false, \"offsetgroup\": \"NVIDIA\", \"orientation\": \"h\", \"showlegend\": true, \"type\": \"box\", \"x\": [46990.0], \"x0\": \" \", \"xaxis\": \"x\", \"y0\": \" \", \"yaxis\": \"y\"}, {\"alignmentgroup\": \"True\", \"hovertemplate\": \"color=Microsoft<br>x=%{x}<extra></extra>\", \"legendgroup\": \"Microsoft\", \"marker\": {\"color\": \"#FF97FF\"}, \"name\": \"Microsoft\", \"notched\": false, \"offsetgroup\": \"Microsoft\", \"orientation\": \"h\", \"showlegend\": true, \"type\": \"box\", \"x\": [57440.0], \"x0\": \" \", \"xaxis\": \"x\", \"y0\": \" \", \"yaxis\": \"y\"}, {\"alignmentgroup\": \"True\", \"hovertemplate\": \"color=2<br>x=%{x}<extra></extra>\", \"legendgroup\": \"2\", \"marker\": {\"color\": \"#FECB52\"}, \"name\": \"2\", \"notched\": false, \"offsetgroup\": \"2\", \"orientation\": \"h\", \"showlegend\": true, \"type\": \"box\", \"x\": [79990.0], \"x0\": \" \", \"xaxis\": \"x\", \"y0\": \" \", \"yaxis\": \"y\"}],                        {\"boxmode\": \"group\", \"legend\": {\"title\": {\"text\": \"color\"}, \"tracegroupgap\": 0}, \"margin\": {\"t\": 60}, \"template\": {\"data\": {\"bar\": [{\"error_x\": {\"color\": \"#2a3f5f\"}, \"error_y\": {\"color\": \"#2a3f5f\"}, \"marker\": {\"line\": {\"color\": \"#E5ECF6\", \"width\": 0.5}}, \"type\": \"bar\"}], \"barpolar\": [{\"marker\": {\"line\": {\"color\": \"#E5ECF6\", \"width\": 0.5}}, \"type\": \"barpolar\"}], \"carpet\": [{\"aaxis\": {\"endlinecolor\": \"#2a3f5f\", \"gridcolor\": \"white\", \"linecolor\": \"white\", \"minorgridcolor\": \"white\", \"startlinecolor\": \"#2a3f5f\"}, \"baxis\": {\"endlinecolor\": \"#2a3f5f\", \"gridcolor\": \"white\", \"linecolor\": \"white\", \"minorgridcolor\": \"white\", \"startlinecolor\": \"#2a3f5f\"}, \"type\": \"carpet\"}], \"choropleth\": [{\"colorbar\": {\"outlinewidth\": 0, \"ticks\": \"\"}, \"type\": \"choropleth\"}], \"contour\": [{\"colorbar\": {\"outlinewidth\": 0, \"ticks\": \"\"}, \"colorscale\": [[0.0, \"#0d0887\"], [0.1111111111111111, \"#46039f\"], [0.2222222222222222, \"#7201a8\"], [0.3333333333333333, \"#9c179e\"], [0.4444444444444444, \"#bd3786\"], [0.5555555555555556, \"#d8576b\"], [0.6666666666666666, \"#ed7953\"], [0.7777777777777778, \"#fb9f3a\"], [0.8888888888888888, \"#fdca26\"], [1.0, \"#f0f921\"]], \"type\": \"contour\"}], \"contourcarpet\": [{\"colorbar\": {\"outlinewidth\": 0, \"ticks\": \"\"}, \"type\": \"contourcarpet\"}], \"heatmap\": [{\"colorbar\": {\"outlinewidth\": 0, \"ticks\": \"\"}, \"colorscale\": [[0.0, \"#0d0887\"], [0.1111111111111111, \"#46039f\"], [0.2222222222222222, \"#7201a8\"], [0.3333333333333333, \"#9c179e\"], [0.4444444444444444, \"#bd3786\"], [0.5555555555555556, \"#d8576b\"], [0.6666666666666666, \"#ed7953\"], [0.7777777777777778, \"#fb9f3a\"], [0.8888888888888888, \"#fdca26\"], [1.0, \"#f0f921\"]], \"type\": \"heatmap\"}], \"heatmapgl\": [{\"colorbar\": {\"outlinewidth\": 0, \"ticks\": \"\"}, \"colorscale\": [[0.0, \"#0d0887\"], [0.1111111111111111, \"#46039f\"], [0.2222222222222222, \"#7201a8\"], [0.3333333333333333, \"#9c179e\"], [0.4444444444444444, \"#bd3786\"], [0.5555555555555556, \"#d8576b\"], [0.6666666666666666, \"#ed7953\"], [0.7777777777777778, \"#fb9f3a\"], [0.8888888888888888, \"#fdca26\"], [1.0, \"#f0f921\"]], \"type\": \"heatmapgl\"}], \"histogram\": [{\"marker\": {\"colorbar\": {\"outlinewidth\": 0, \"ticks\": \"\"}}, \"type\": \"histogram\"}], \"histogram2d\": [{\"colorbar\": {\"outlinewidth\": 0, \"ticks\": \"\"}, \"colorscale\": [[0.0, \"#0d0887\"], [0.1111111111111111, \"#46039f\"], [0.2222222222222222, \"#7201a8\"], [0.3333333333333333, \"#9c179e\"], [0.4444444444444444, \"#bd3786\"], [0.5555555555555556, \"#d8576b\"], [0.6666666666666666, \"#ed7953\"], [0.7777777777777778, \"#fb9f3a\"], [0.8888888888888888, \"#fdca26\"], [1.0, \"#f0f921\"]], \"type\": \"histogram2d\"}], \"histogram2dcontour\": [{\"colorbar\": {\"outlinewidth\": 0, \"ticks\": \"\"}, \"colorscale\": [[0.0, \"#0d0887\"], [0.1111111111111111, \"#46039f\"], [0.2222222222222222, \"#7201a8\"], [0.3333333333333333, \"#9c179e\"], [0.4444444444444444, \"#bd3786\"], [0.5555555555555556, \"#d8576b\"], [0.6666666666666666, \"#ed7953\"], [0.7777777777777778, \"#fb9f3a\"], [0.8888888888888888, \"#fdca26\"], [1.0, \"#f0f921\"]], \"type\": \"histogram2dcontour\"}], \"mesh3d\": [{\"colorbar\": {\"outlinewidth\": 0, \"ticks\": \"\"}, \"type\": \"mesh3d\"}], \"parcoords\": [{\"line\": {\"colorbar\": {\"outlinewidth\": 0, \"ticks\": \"\"}}, \"type\": \"parcoords\"}], \"pie\": [{\"automargin\": true, \"type\": \"pie\"}], \"scatter\": [{\"marker\": {\"colorbar\": {\"outlinewidth\": 0, \"ticks\": \"\"}}, \"type\": \"scatter\"}], \"scatter3d\": [{\"line\": {\"colorbar\": {\"outlinewidth\": 0, \"ticks\": \"\"}}, \"marker\": {\"colorbar\": {\"outlinewidth\": 0, \"ticks\": \"\"}}, \"type\": \"scatter3d\"}], \"scattercarpet\": [{\"marker\": {\"colorbar\": {\"outlinewidth\": 0, \"ticks\": \"\"}}, \"type\": \"scattercarpet\"}], \"scattergeo\": [{\"marker\": {\"colorbar\": {\"outlinewidth\": 0, \"ticks\": \"\"}}, \"type\": \"scattergeo\"}], \"scattergl\": [{\"marker\": {\"colorbar\": {\"outlinewidth\": 0, \"ticks\": \"\"}}, \"type\": \"scattergl\"}], \"scattermapbox\": [{\"marker\": {\"colorbar\": {\"outlinewidth\": 0, \"ticks\": \"\"}}, \"type\": \"scattermapbox\"}], \"scatterpolar\": [{\"marker\": {\"colorbar\": {\"outlinewidth\": 0, \"ticks\": \"\"}}, \"type\": \"scatterpolar\"}], \"scatterpolargl\": [{\"marker\": {\"colorbar\": {\"outlinewidth\": 0, \"ticks\": \"\"}}, \"type\": \"scatterpolargl\"}], \"scatterternary\": [{\"marker\": {\"colorbar\": {\"outlinewidth\": 0, \"ticks\": \"\"}}, \"type\": \"scatterternary\"}], \"surface\": [{\"colorbar\": {\"outlinewidth\": 0, \"ticks\": \"\"}, \"colorscale\": [[0.0, \"#0d0887\"], [0.1111111111111111, \"#46039f\"], [0.2222222222222222, \"#7201a8\"], [0.3333333333333333, \"#9c179e\"], [0.4444444444444444, \"#bd3786\"], [0.5555555555555556, \"#d8576b\"], [0.6666666666666666, \"#ed7953\"], [0.7777777777777778, \"#fb9f3a\"], [0.8888888888888888, \"#fdca26\"], [1.0, \"#f0f921\"]], \"type\": \"surface\"}], \"table\": [{\"cells\": {\"fill\": {\"color\": \"#EBF0F8\"}, \"line\": {\"color\": \"white\"}}, \"header\": {\"fill\": {\"color\": \"#C8D4E3\"}, \"line\": {\"color\": \"white\"}}, \"type\": \"table\"}]}, \"layout\": {\"annotationdefaults\": {\"arrowcolor\": \"#2a3f5f\", \"arrowhead\": 0, \"arrowwidth\": 1}, \"autotypenumbers\": \"strict\", \"coloraxis\": {\"colorbar\": {\"outlinewidth\": 0, \"ticks\": \"\"}}, \"colorscale\": {\"diverging\": [[0, \"#8e0152\"], [0.1, \"#c51b7d\"], [0.2, \"#de77ae\"], [0.3, \"#f1b6da\"], [0.4, \"#fde0ef\"], [0.5, \"#f7f7f7\"], [0.6, \"#e6f5d0\"], [0.7, \"#b8e186\"], [0.8, \"#7fbc41\"], [0.9, \"#4d9221\"], [1, \"#276419\"]], \"sequential\": [[0.0, \"#0d0887\"], [0.1111111111111111, \"#46039f\"], [0.2222222222222222, \"#7201a8\"], [0.3333333333333333, \"#9c179e\"], [0.4444444444444444, \"#bd3786\"], [0.5555555555555556, \"#d8576b\"], [0.6666666666666666, \"#ed7953\"], [0.7777777777777778, \"#fb9f3a\"], [0.8888888888888888, \"#fdca26\"], [1.0, \"#f0f921\"]], \"sequentialminus\": [[0.0, \"#0d0887\"], [0.1111111111111111, \"#46039f\"], [0.2222222222222222, \"#7201a8\"], [0.3333333333333333, \"#9c179e\"], [0.4444444444444444, \"#bd3786\"], [0.5555555555555556, \"#d8576b\"], [0.6666666666666666, \"#ed7953\"], [0.7777777777777778, \"#fb9f3a\"], [0.8888888888888888, \"#fdca26\"], [1.0, \"#f0f921\"]]}, \"colorway\": [\"#636efa\", \"#EF553B\", \"#00cc96\", \"#ab63fa\", \"#FFA15A\", \"#19d3f3\", \"#FF6692\", \"#B6E880\", \"#FF97FF\", \"#FECB52\"], \"font\": {\"color\": \"#2a3f5f\"}, \"geo\": {\"bgcolor\": \"white\", \"lakecolor\": \"white\", \"landcolor\": \"#E5ECF6\", \"showlakes\": true, \"showland\": true, \"subunitcolor\": \"white\"}, \"hoverlabel\": {\"align\": \"left\"}, \"hovermode\": \"closest\", \"mapbox\": {\"style\": \"light\"}, \"paper_bgcolor\": \"white\", \"plot_bgcolor\": \"#E5ECF6\", \"polar\": {\"angularaxis\": {\"gridcolor\": \"white\", \"linecolor\": \"white\", \"ticks\": \"\"}, \"bgcolor\": \"#E5ECF6\", \"radialaxis\": {\"gridcolor\": \"white\", \"linecolor\": \"white\", \"ticks\": \"\"}}, \"scene\": {\"xaxis\": {\"backgroundcolor\": \"#E5ECF6\", \"gridcolor\": \"white\", \"gridwidth\": 2, \"linecolor\": \"white\", \"showbackground\": true, \"ticks\": \"\", \"zerolinecolor\": \"white\"}, \"yaxis\": {\"backgroundcolor\": \"#E5ECF6\", \"gridcolor\": \"white\", \"gridwidth\": 2, \"linecolor\": \"white\", \"showbackground\": true, \"ticks\": \"\", \"zerolinecolor\": \"white\"}, \"zaxis\": {\"backgroundcolor\": \"#E5ECF6\", \"gridcolor\": \"white\", \"gridwidth\": 2, \"linecolor\": \"white\", \"showbackground\": true, \"ticks\": \"\", \"zerolinecolor\": \"white\"}}, \"shapedefaults\": {\"line\": {\"color\": \"#2a3f5f\"}}, \"ternary\": {\"aaxis\": {\"gridcolor\": \"white\", \"linecolor\": \"white\", \"ticks\": \"\"}, \"baxis\": {\"gridcolor\": \"white\", \"linecolor\": \"white\", \"ticks\": \"\"}, \"bgcolor\": \"#E5ECF6\", \"caxis\": {\"gridcolor\": \"white\", \"linecolor\": \"white\", \"ticks\": \"\"}}, \"title\": {\"x\": 0.05}, \"xaxis\": {\"automargin\": true, \"gridcolor\": \"white\", \"linecolor\": \"white\", \"ticks\": \"\", \"title\": {\"standoff\": 15}, \"zerolinecolor\": \"white\", \"zerolinewidth\": 2}, \"yaxis\": {\"automargin\": true, \"gridcolor\": \"white\", \"linecolor\": \"white\", \"ticks\": \"\", \"title\": {\"standoff\": 15}, \"zerolinecolor\": \"white\", \"zerolinewidth\": 2}}}, \"xaxis\": {\"anchor\": \"y\", \"domain\": [0.0, 1.0], \"title\": {\"text\": \"x\"}}, \"yaxis\": {\"anchor\": \"x\", \"domain\": [0.0, 1.0]}},                        {\"responsive\": true}                    ).then(function(){\n",
       "                            \n",
       "var gd = document.getElementById('b2732162-9cc3-4fda-a2e8-74ce05c16a0f');\n",
       "var x = new MutationObserver(function (mutations, observer) {{\n",
       "        var display = window.getComputedStyle(gd).display;\n",
       "        if (!display || display === 'none') {{\n",
       "            console.log([gd, 'removed!']);\n",
       "            Plotly.purge(gd);\n",
       "            observer.disconnect();\n",
       "        }}\n",
       "}});\n",
       "\n",
       "// Listen for the removal of the full notebook cells\n",
       "var notebookContainer = gd.closest('#notebook-container');\n",
       "if (notebookContainer) {{\n",
       "    x.observe(notebookContainer, {childList: true});\n",
       "}}\n",
       "\n",
       "// Listen for the clearing of the current output cell\n",
       "var outputEl = gd.closest('.output');\n",
       "if (outputEl) {{\n",
       "    x.observe(outputEl, {childList: true});\n",
       "}}\n",
       "\n",
       "                        })                };                });            </script>        </div>"
      ]
     },
     "metadata": {},
     "output_type": "display_data"
    }
   ],
   "source": [
    "px.box(x=laptop_data['Product Cost'],color=laptop_data['Processor Company'])"
   ]
  },
  {
   "cell_type": "code",
   "execution_count": 92,
   "id": "71a28824",
   "metadata": {},
   "outputs": [
    {
     "data": {
      "text/html": [
       "<div>\n",
       "<style scoped>\n",
       "    .dataframe tbody tr th:only-of-type {\n",
       "        vertical-align: middle;\n",
       "    }\n",
       "\n",
       "    .dataframe tbody tr th {\n",
       "        vertical-align: top;\n",
       "    }\n",
       "\n",
       "    .dataframe thead tr th {\n",
       "        text-align: left;\n",
       "    }\n",
       "\n",
       "    .dataframe thead tr:last-of-type th {\n",
       "        text-align: right;\n",
       "    }\n",
       "</style>\n",
       "<table border=\"1\" class=\"dataframe\">\n",
       "  <thead>\n",
       "    <tr>\n",
       "      <th></th>\n",
       "      <th colspan=\"4\" halign=\"left\">Product Cost</th>\n",
       "    </tr>\n",
       "    <tr>\n",
       "      <th></th>\n",
       "      <th>min</th>\n",
       "      <th>max</th>\n",
       "      <th>mean</th>\n",
       "      <th>median</th>\n",
       "    </tr>\n",
       "    <tr>\n",
       "      <th>Brand</th>\n",
       "      <th></th>\n",
       "      <th></th>\n",
       "      <th></th>\n",
       "      <th></th>\n",
       "    </tr>\n",
       "  </thead>\n",
       "  <tbody>\n",
       "    <tr>\n",
       "      <th>ALIENWARE</th>\n",
       "      <td>174.0</td>\n",
       "      <td>243.0</td>\n",
       "      <td>198.000000</td>\n",
       "      <td>174.0</td>\n",
       "    </tr>\n",
       "    <tr>\n",
       "      <th>APPLE</th>\n",
       "      <td>109.0</td>\n",
       "      <td>98990.0</td>\n",
       "      <td>22735.625000</td>\n",
       "      <td>174.0</td>\n",
       "    </tr>\n",
       "    <tr>\n",
       "      <th>ASUS</th>\n",
       "      <td>104.0</td>\n",
       "      <td>99580.0</td>\n",
       "      <td>47202.153333</td>\n",
       "      <td>54994.5</td>\n",
       "    </tr>\n",
       "    <tr>\n",
       "      <th>Avita</th>\n",
       "      <td>17990.0</td>\n",
       "      <td>40890.0</td>\n",
       "      <td>33528.000000</td>\n",
       "      <td>38990.0</td>\n",
       "    </tr>\n",
       "    <tr>\n",
       "      <th>DELL</th>\n",
       "      <td>109.0</td>\n",
       "      <td>95825.0</td>\n",
       "      <td>52517.200000</td>\n",
       "      <td>57836.0</td>\n",
       "    </tr>\n",
       "    <tr>\n",
       "      <th>HP</th>\n",
       "      <td>102.0</td>\n",
       "      <td>96490.0</td>\n",
       "      <td>46679.839506</td>\n",
       "      <td>44490.0</td>\n",
       "    </tr>\n",
       "    <tr>\n",
       "      <th>LG</th>\n",
       "      <td>69990.0</td>\n",
       "      <td>72990.0</td>\n",
       "      <td>71490.000000</td>\n",
       "      <td>71490.0</td>\n",
       "    </tr>\n",
       "    <tr>\n",
       "      <th>Lenovo</th>\n",
       "      <td>117.0</td>\n",
       "      <td>99990.0</td>\n",
       "      <td>46154.244898</td>\n",
       "      <td>43990.0</td>\n",
       "    </tr>\n",
       "    <tr>\n",
       "      <th>MICROSOFT</th>\n",
       "      <td>38549.0</td>\n",
       "      <td>99990.0</td>\n",
       "      <td>85701.800000</td>\n",
       "      <td>99990.0</td>\n",
       "    </tr>\n",
       "    <tr>\n",
       "      <th>MSI</th>\n",
       "      <td>149.0</td>\n",
       "      <td>99990.0</td>\n",
       "      <td>65548.534884</td>\n",
       "      <td>74990.0</td>\n",
       "    </tr>\n",
       "    <tr>\n",
       "      <th>Mi</th>\n",
       "      <td>46999.0</td>\n",
       "      <td>59999.0</td>\n",
       "      <td>53999.000000</td>\n",
       "      <td>54999.0</td>\n",
       "    </tr>\n",
       "    <tr>\n",
       "      <th>Nexstgo</th>\n",
       "      <td>79990.0</td>\n",
       "      <td>79990.0</td>\n",
       "      <td>79990.000000</td>\n",
       "      <td>79990.0</td>\n",
       "    </tr>\n",
       "    <tr>\n",
       "      <th>Vaio</th>\n",
       "      <td>50990.0</td>\n",
       "      <td>59990.0</td>\n",
       "      <td>57740.000000</td>\n",
       "      <td>59990.0</td>\n",
       "    </tr>\n",
       "    <tr>\n",
       "      <th>acer</th>\n",
       "      <td>114.0</td>\n",
       "      <td>81998.0</td>\n",
       "      <td>35555.738462</td>\n",
       "      <td>38990.0</td>\n",
       "    </tr>\n",
       "    <tr>\n",
       "      <th>iBall</th>\n",
       "      <td>13990.0</td>\n",
       "      <td>13990.0</td>\n",
       "      <td>13990.000000</td>\n",
       "      <td>13990.0</td>\n",
       "    </tr>\n",
       "    <tr>\n",
       "      <th>lenovo</th>\n",
       "      <td>60990.0</td>\n",
       "      <td>97990.0</td>\n",
       "      <td>79490.000000</td>\n",
       "      <td>79490.0</td>\n",
       "    </tr>\n",
       "  </tbody>\n",
       "</table>\n",
       "</div>"
      ],
      "text/plain": [
       "           Product Cost                                \n",
       "                    min      max          mean   median\n",
       "Brand                                                  \n",
       "ALIENWARE         174.0    243.0    198.000000    174.0\n",
       "APPLE             109.0  98990.0  22735.625000    174.0\n",
       "ASUS              104.0  99580.0  47202.153333  54994.5\n",
       "Avita           17990.0  40890.0  33528.000000  38990.0\n",
       "DELL              109.0  95825.0  52517.200000  57836.0\n",
       "HP                102.0  96490.0  46679.839506  44490.0\n",
       "LG              69990.0  72990.0  71490.000000  71490.0\n",
       "Lenovo            117.0  99990.0  46154.244898  43990.0\n",
       "MICROSOFT       38549.0  99990.0  85701.800000  99990.0\n",
       "MSI               149.0  99990.0  65548.534884  74990.0\n",
       "Mi              46999.0  59999.0  53999.000000  54999.0\n",
       "Nexstgo         79990.0  79990.0  79990.000000  79990.0\n",
       "Vaio            50990.0  59990.0  57740.000000  59990.0\n",
       "acer              114.0  81998.0  35555.738462  38990.0\n",
       "iBall           13990.0  13990.0  13990.000000  13990.0\n",
       "lenovo          60990.0  97990.0  79490.000000  79490.0"
      ]
     },
     "execution_count": 92,
     "metadata": {},
     "output_type": "execute_result"
    }
   ],
   "source": [
    "laptop_data.groupby('Brand').agg({'Product Cost':['min','max','mean','median']})"
   ]
  },
  {
   "cell_type": "code",
   "execution_count": 96,
   "id": "6d2387cc",
   "metadata": {},
   "outputs": [
    {
     "data": {
      "text/html": [
       "<div>\n",
       "<style scoped>\n",
       "    .dataframe tbody tr th:only-of-type {\n",
       "        vertical-align: middle;\n",
       "    }\n",
       "\n",
       "    .dataframe tbody tr th {\n",
       "        vertical-align: top;\n",
       "    }\n",
       "\n",
       "    .dataframe thead th {\n",
       "        text-align: right;\n",
       "    }\n",
       "</style>\n",
       "<table border=\"1\" class=\"dataframe\">\n",
       "  <thead>\n",
       "    <tr style=\"text-align: right;\">\n",
       "      <th></th>\n",
       "      <th>Product Cost</th>\n",
       "    </tr>\n",
       "    <tr>\n",
       "      <th>Brand</th>\n",
       "      <th></th>\n",
       "    </tr>\n",
       "  </thead>\n",
       "  <tbody>\n",
       "    <tr>\n",
       "      <th>ALIENWARE</th>\n",
       "      <td>243.0</td>\n",
       "    </tr>\n",
       "    <tr>\n",
       "      <th>APPLE</th>\n",
       "      <td>98990.0</td>\n",
       "    </tr>\n",
       "    <tr>\n",
       "      <th>ASUS</th>\n",
       "      <td>99580.0</td>\n",
       "    </tr>\n",
       "    <tr>\n",
       "      <th>Avita</th>\n",
       "      <td>40890.0</td>\n",
       "    </tr>\n",
       "    <tr>\n",
       "      <th>DELL</th>\n",
       "      <td>95825.0</td>\n",
       "    </tr>\n",
       "    <tr>\n",
       "      <th>HP</th>\n",
       "      <td>96490.0</td>\n",
       "    </tr>\n",
       "    <tr>\n",
       "      <th>LG</th>\n",
       "      <td>72990.0</td>\n",
       "    </tr>\n",
       "    <tr>\n",
       "      <th>Lenovo</th>\n",
       "      <td>99990.0</td>\n",
       "    </tr>\n",
       "    <tr>\n",
       "      <th>MICROSOFT</th>\n",
       "      <td>99990.0</td>\n",
       "    </tr>\n",
       "    <tr>\n",
       "      <th>MSI</th>\n",
       "      <td>99990.0</td>\n",
       "    </tr>\n",
       "    <tr>\n",
       "      <th>Mi</th>\n",
       "      <td>59999.0</td>\n",
       "    </tr>\n",
       "    <tr>\n",
       "      <th>Nexstgo</th>\n",
       "      <td>79990.0</td>\n",
       "    </tr>\n",
       "    <tr>\n",
       "      <th>Vaio</th>\n",
       "      <td>59990.0</td>\n",
       "    </tr>\n",
       "    <tr>\n",
       "      <th>acer</th>\n",
       "      <td>81998.0</td>\n",
       "    </tr>\n",
       "    <tr>\n",
       "      <th>iBall</th>\n",
       "      <td>13990.0</td>\n",
       "    </tr>\n",
       "    <tr>\n",
       "      <th>lenovo</th>\n",
       "      <td>97990.0</td>\n",
       "    </tr>\n",
       "  </tbody>\n",
       "</table>\n",
       "</div>"
      ],
      "text/plain": [
       "            Product Cost\n",
       "Brand                   \n",
       "ALIENWARE          243.0\n",
       "APPLE            98990.0\n",
       "ASUS             99580.0\n",
       "Avita            40890.0\n",
       "DELL             95825.0\n",
       "HP               96490.0\n",
       "LG               72990.0\n",
       "Lenovo           99990.0\n",
       "MICROSOFT        99990.0\n",
       "MSI              99990.0\n",
       "Mi               59999.0\n",
       "Nexstgo          79990.0\n",
       "Vaio             59990.0\n",
       "acer             81998.0\n",
       "iBall            13990.0\n",
       "lenovo           97990.0"
      ]
     },
     "execution_count": 96,
     "metadata": {},
     "output_type": "execute_result"
    }
   ],
   "source": [
    "laptop_data.groupby('Brand').agg({'Product Cost':'max'})"
   ]
  },
  {
   "cell_type": "code",
   "execution_count": 100,
   "id": "c2c30107",
   "metadata": {},
   "outputs": [
    {
     "data": {
      "text/plain": [
       "<AxesSubplot:xlabel='Brand'>"
      ]
     },
     "execution_count": 100,
     "metadata": {},
     "output_type": "execute_result"
    },
    {
     "data": {
      "image/png": "[encoded data removed]",
      "text/plain": [
       "<Figure size 432x288 with 1 Axes>"
      ]
     },
     "metadata": {
      "needs_background": "light"
     },
     "output_type": "display_data"
    }
   ],
   "source": [
    "laptop_data.groupby('Brand').agg({'Product Cost':'max'}).plot.bar()"
   ]
  },
  {
   "cell_type": "markdown",
   "id": "e5166021",
   "metadata": {},
   "source": [
    "# `Completed`"
   ]
  },
  {
   "cell_type": "code",
   "execution_count": null,
   "id": "f518ad17",
   "metadata": {},
   "outputs": [],
   "source": []
  }
 ],
 "metadata": {
  "kernelspec": {
   "display_name": "Python 3",
   "language": "python",
   "name": "python3"
  },
  "language_info": {
   "codemirror_mode": {
    "name": "ipython",
    "version": 3
   },
   "file_extension": ".py",
   "mimetype": "text/x-python",
   "name": "python",
   "nbconvert_exporter": "python",
   "pygments_lexer": "ipython3",
   "version": "3.8.8"
  }
 },
 "nbformat": 4,
 "nbformat_minor": 5
}
